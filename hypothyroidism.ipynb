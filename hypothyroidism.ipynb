{
 "cells": [
  {
   "cell_type": "markdown",
   "id": "13e469d7",
   "metadata": {},
   "source": [
    "# Validity of using prescription records to identify patient comorbidities\n",
    "## Analysis of hypothyroidism"
   ]
  },
  {
   "cell_type": "markdown",
   "id": "a3d5caf8",
   "metadata": {},
   "source": [
    "**ReadMe:**\n",
    "- This is a script used in the analysis for Schnier et al., 2025: Validity of using prescription records to classify disease – a record linkage study using routinely collected electronic health records from the UK.\n",
    "- The underlying data set has been created using the Optimum Patient Care Research Database (https://opcrd.optimumpatientcare.org/). The authors do not have permission to give the public access to the study dataset; researchers may request access to OPCRD for their own purposes. \n",
    " - All code is run in StataSE 18. \n"
   ]
  },
  {
   "cell_type": "markdown",
   "id": "1cf02e3e-e834-469d-abf1-21c9ce29f756",
   "metadata": {},
   "source": [
    "**Set up:**\n",
    "|Var|Input|\n",
    "| --- | --- | \n",
    "|population|425,000|\n",
    "|diagnostic codes|open codelist for snomed; keele publication for READ|\n",
    "|drug codes| 060201 (thyroid hormones)|\n",
    "|sql date|13.03.2025|\n",
    "|sql code|thyroidselection_202050313.sql| "
   ]
  },
  {
   "cell_type": "code",
   "execution_count": 1,
   "id": "2a759161-052f-4433-ab6c-0ad7ab9120e9",
   "metadata": {},
   "outputs": [
    {
     "data": {
      "text/html": [
       "<style>div.jp-Notebook .datagrid-container {min-height: 448px; }</style>"
      ],
      "text/plain": [
       "<IPython.core.display.HTML object>"
      ]
     },
     "metadata": {},
     "output_type": "display_data"
    }
   ],
   "source": [
    "    clear all"
   ]
  },
  {
   "cell_type": "markdown",
   "id": "5e9a592b-20c3-4eb6-b947-22979a02dcf0",
   "metadata": {},
   "source": [
    "### Import from SQL server and data wrangling"
   ]
  },
  {
   "cell_type": "code",
   "execution_count": 2,
   "id": "b5b5eb32-1b5c-44c2-901c-0e9d1a4e36d2",
   "metadata": {},
   "outputs": [],
   "source": [
    "odbc load, exec(\"select * from [thyroid_425000_20250313]\") dsn(\"sqlserverconnect\")"
   ]
  },
  {
   "cell_type": "code",
   "execution_count": 3,
   "id": "0835f95f-a07b-4d29-b825-b3823bfad60e",
   "metadata": {
    "scrolled": true
   },
   "outputs": [
    {
     "name": "stdout",
     "output_type": "stream",
     "text": [
      "(19,292 missing values generated)\n",
      "(19,292 real changes made)\n",
      "(6,859 missing values generated)\n",
      "(6,859 real changes made)\n",
      "(2,589 missing values generated)\n",
      "variable bnf_code was str6 now str16\n",
      "(19,285 real changes made)\n",
      "(0 real changes made)\n",
      "variable ethnicity was str2 now str6\n",
      "(257,981 real changes made)\n",
      "(3,762 real changes made)\n",
      "(23,912 real changes made)\n",
      "(7,430 real changes made)\n",
      "(8,764 real changes made)\n",
      "variable ethnicity was str6 now str7\n",
      "(123,151 real changes made)\n"
     ]
    }
   ],
   "source": [
    "generate test=0 if missing(drug_dt)\n",
    "replace test=1 if ! missing(drug_dt)  \n",
    "\n",
    "generate diag=0 if missing(diag_dt)\n",
    "replace diag=1 if ! missing(diag_dt)  \n",
    "\n",
    "gen start_year=year(fu_start_dt)\n",
    "\n",
    "\n",
    "egen agecat = cut(age), at(16,30,70,120)\n",
    "label def agecat_lab 16 \"Young\" 30 \"0Middle\" 70 \"Elderly\" 120 \"weird\"\n",
    "label values agecat agecat_lab\n",
    "\n",
    "egen yearcat = cut(start_year), at(2004,2010,2016,2025)\n",
    "label def yearcat_lab 2004 \"2004-2009\" 2010 \"2010-2015\" 2016 \"2016-2020\" \n",
    "label values yearcat yearcat_lab\n",
    "\n",
    "egen imdcat = cut(imd_decile), at(0,4,8,11)\n",
    "label def imdcat_lab 0 \"1-3\" 4 \"4-7\" 8 \"8-10\" \n",
    "label values imdcat imdcat_lab\n",
    "\n",
    "replace bnf_code = \"Thyroid hormones\" if bnf_code== \"060201\"\n",
    "replace bnf_code = \"Other/unknown\" if missing(bnf_code) & ! missing(drug_dt)\n",
    "\n",
    "\n",
    "\n",
    "replace ethnicity=\"0white\" if ethnicity==\"1\"\n",
    "replace ethnicity=\"Other\" if ethnicity==\"2\"\n",
    "replace ethnicity=\"Other\" if ethnicity==\"3\"\n",
    "replace ethnicity=\"Other\" if ethnicity==\"4\"\n",
    "replace ethnicity=\"Other\" if ethnicity==\"5\"\n",
    "replace ethnicity=\"Missing\" if ethnicity==\"99\"\n",
    "\n",
    "\n",
    "encode bnf_code, generate(bnf_code_values) \n",
    "encode description, generate(description_values)\n",
    "encode ethnicity, generate(ethnicity_values) \n",
    "\n",
    "gen diag_neg=diag==0\n",
    "gen diag_pos=diag==1\n",
    "encode region_name, generate(region) label(regionlbl)\n",
    "encode ethnicity, generate(ethnic)\n"
   ]
  },
  {
   "cell_type": "code",
   "execution_count": 4,
   "id": "4bb67b58-5460-4077-bd5d-6252a35d7c1e",
   "metadata": {},
   "outputs": [
    {
     "name": "stdout",
     "output_type": "stream",
     "text": [
      "(bin=19, start=16, width=5)\n"
     ]
    },
    {
     "data": {
      "image/png": "[encoded data removed]",
      "text/plain": [
       "<IPython.core.display.Image object>"
      ]
     },
     "metadata": {},
     "output_type": "display_data"
    }
   ],
   "source": [
    "histogram age, width(5)\n"
   ]
  },
  {
   "cell_type": "markdown",
   "id": "cfdd2c1f-86b9-4840-8106-662ce151f20e",
   "metadata": {},
   "source": [
    "This table holds one randomly selected diagnostic code found during the observation period. The table is truncated to only include diagnostic codes with a count of 10 or more."
   ]
  },
  {
   "cell_type": "code",
   "execution_count": 5,
   "id": "6544a018-204b-4fcb-b5ab-d9ec745e764f",
   "metadata": {},
   "outputs": [
    {
     "name": "stdout",
     "output_type": "stream",
     "text": [
      "\n",
      "  +---------------------------------------------------------+\n",
      "  |                   description   Freq.   Percent     %<= |\n",
      "  |---------------------------------------------------------|\n",
      "  |                Hypothyroidism    3574     52.11   52.11 |\n",
      "  |       Acquired hypothyroidism    2055     29.96   82.07 |\n",
      "  |    Subclinical hypothyroidism     423      6.17   88.23 |\n",
      "  |            Hypothyroidism NOS     223      3.25   91.49 |\n",
      "  |                        Goiter      88      1.28   92.77 |\n",
      "  |---------------------------------------------------------|\n",
      "  |  Hypothyroid goiter, acquired      72      1.05   93.82 |\n",
      "  | Other acquired hypothyroidism      69      1.01   94.82 |\n",
      "  |                    Goitre NOS      38      0.55   95.38 |\n",
      "  |                        Goitre      28      0.41   95.79 |\n",
      "  |    Disorders of thyroid gland      26      0.38   96.17 |\n",
      "  |---------------------------------------------------------|\n",
      "  |     Autoimmune hypothyroidism      25      0.36   96.53 |\n",
      "  |   Postsurgical hypothyroidism      25      0.36   96.89 |\n",
      "  |   Acquired hypothyroidism NOS      24      0.35   97.24 |\n",
      "  |                      Myxedema      22      0.32   97.57 |\n",
      "  |     Borderline hypothyroidism      17      0.25   97.81 |\n",
      "  |---------------------------------------------------------|\n",
      "  |               Hypopituitarism      17      0.25   98.06 |\n",
      "  |  Postoperative hypothyroidism      11      0.16   98.22 |\n",
      "  |     Congenital hypothyroidism      10      0.15   98.37 |\n",
      "  +---------------------------------------------------------+\n"
     ]
    }
   ],
   "source": [
    "set linesize 132\n",
    "groups description , select(f >= 10) ord(h) table "
   ]
  },
  {
   "cell_type": "markdown",
   "id": "7d01eb90-5ca1-4146-aafb-680a81450cc3",
   "metadata": {},
   "source": [
    "These tables holds one randomly selected prescrption during the observation period. The table is truncated to only include codes with a count of 10 or more.\n"
   ]
  },
  {
   "cell_type": "code",
   "execution_count": 6,
   "id": "a4acd83f-5b6a-49e7-8b49-5dc1f78f2d1a",
   "metadata": {},
   "outputs": [
    {
     "name": "stdout",
     "output_type": "stream",
     "text": [
      "\n",
      "  +--------------------------------------------+\n",
      "  |         bnf_code   Freq.   Percent     %<= |\n",
      "  |--------------------------------------------|\n",
      "  | Thyroid hormones   19285     99.96   99.96 |\n",
      "  +--------------------------------------------+\n"
     ]
    }
   ],
   "source": [
    "set linesize 132\n",
    "groups bnf_code , select(f >= 10) ord(h) table "
   ]
  },
  {
   "cell_type": "markdown",
   "id": "67837c2c-bbb5-4681-8000-cd8b3f6cac51",
   "metadata": {},
   "source": [
    "### Results\n",
    "#### Overall"
   ]
  },
  {
   "cell_type": "code",
   "execution_count": 7,
   "id": "733c0f2e-1179-49dc-b95d-48547a864674",
   "metadata": {},
   "outputs": [
    {
     "name": "stdout",
     "output_type": "stream",
     "text": [
      "\n",
      "           |         test\n",
      "      diag |      Pos.       Neg. |     Total\n",
      "-----------+----------------------+----------\n",
      "  Abnormal |     6,312        547 |     6,859 \n",
      "    Normal |    12,980    405,161 |   418,141 \n",
      "-----------+----------------------+----------\n",
      "     Total |    19,292    405,708 |   425,000 \n",
      "True abnormal diagnosis defined as diag = 1\n",
      "\n",
      "\n",
      "                                                  [95% Confidence Interval]\n",
      "---------------------------------------------------------------------------\n",
      "Prevalence                         Pr(A)      1.6%      1.6%       1.7%\n",
      "---------------------------------------------------------------------------\n",
      "Sensitivity                      Pr(+|A)     92.0%     91.4%     92.7%\n",
      "Specificity                      Pr(-|N)     96.9%     96.8%     96.9%\n",
      "ROC area               (Sens. + Spec.)/2      0.94      0.94      0.95 \n",
      "---------------------------------------------------------------------------\n",
      "Likelihood ratio (+)     Pr(+|A)/Pr(+|N)     29.65     29.11     30.19 \n",
      "Likelihood ratio (-)     Pr(-|A)/Pr(-|N)      0.08      0.08      0.09 \n",
      "Odds ratio                   LR(+)/LR(-)    360.19    329.50    393.74 \n",
      "Positive predictive value        Pr(A|+)     32.7%     32.1%     33.4% \n",
      "Negative predictive value        Pr(N|-)     99.9%     99.9%     99.9% \n",
      "---------------------------------------------------------------------------\n"
     ]
    }
   ],
   "source": [
    "diagt diag test"
   ]
  },
  {
   "cell_type": "markdown",
   "id": "b119ffa3-90d8-4e4f-9f8d-30cca2284b37",
   "metadata": {},
   "source": [
    "#### Males"
   ]
  },
  {
   "cell_type": "code",
   "execution_count": 8,
   "id": "81028f5e-4e7a-4bb4-b0f6-71d8d0821075",
   "metadata": {},
   "outputs": [
    {
     "name": "stdout",
     "output_type": "stream",
     "text": [
      "\n",
      "           |         test\n",
      "      diag |      Pos.       Neg. |     Total\n",
      "-----------+----------------------+----------\n",
      "  Abnormal |     1,384        150 |     1,534 \n",
      "    Normal |     2,590    204,161 |   206,751 \n",
      "-----------+----------------------+----------\n",
      "     Total |     3,974    204,311 |   208,285 \n",
      "True abnormal diagnosis defined as diag = 1\n",
      "\n",
      "\n",
      "                                                  [95% Confidence Interval]\n",
      "---------------------------------------------------------------------------\n",
      "Prevalence                         Pr(A)      0.7%      0.7%       0.8%\n",
      "---------------------------------------------------------------------------\n",
      "Sensitivity                      Pr(+|A)     90.2%     88.6%     91.7%\n",
      "Specificity                      Pr(-|N)     98.7%     98.7%     98.8%\n",
      "ROC area               (Sens. + Spec.)/2      0.94      0.94      0.95 \n",
      "---------------------------------------------------------------------------\n",
      "Likelihood ratio (+)     Pr(+|A)/Pr(+|N)     72.02     69.08     75.09 \n",
      "Likelihood ratio (-)     Pr(-|A)/Pr(-|N)      0.10      0.09      0.12 \n",
      "Odds ratio                   LR(+)/LR(-)    727.31    611.96    864.39 \n",
      "Positive predictive value        Pr(A|+)     34.8%     33.3%     36.3% \n",
      "Negative predictive value        Pr(N|-)     99.9%     99.9%     99.9% \n",
      "---------------------------------------------------------------------------\n"
     ]
    }
   ],
   "source": [
    "diagt diag test if sex==1"
   ]
  },
  {
   "cell_type": "markdown",
   "id": "762df1ac-de32-43e9-8cb3-6696c91e2459",
   "metadata": {},
   "source": [
    "#### Females"
   ]
  },
  {
   "cell_type": "code",
   "execution_count": 9,
   "id": "7fc985e3-7757-4908-ae5a-5d346ee7ccb6",
   "metadata": {},
   "outputs": [
    {
     "name": "stdout",
     "output_type": "stream",
     "text": [
      "\n",
      "           |         test\n",
      "      diag |      Pos.       Neg. |     Total\n",
      "-----------+----------------------+----------\n",
      "  Abnormal |     4,928        397 |     5,325 \n",
      "    Normal |    10,389    200,992 |   211,381 \n",
      "-----------+----------------------+----------\n",
      "     Total |    15,317    201,389 |   216,706 \n",
      "True abnormal diagnosis defined as diag = 1\n",
      "\n",
      "\n",
      "                                                  [95% Confidence Interval]\n",
      "---------------------------------------------------------------------------\n",
      "Prevalence                         Pr(A)      2.5%      2.4%       2.5%\n",
      "---------------------------------------------------------------------------\n",
      "Sensitivity                      Pr(+|A)     92.5%     91.8%     93.2%\n",
      "Specificity                      Pr(-|N)     95.1%     95.0%     95.2%\n",
      "ROC area               (Sens. + Spec.)/2      0.94      0.93      0.94 \n",
      "---------------------------------------------------------------------------\n",
      "Likelihood ratio (+)     Pr(+|A)/Pr(+|N)     18.83     18.45     19.21 \n",
      "Likelihood ratio (-)     Pr(-|A)/Pr(-|N)      0.08      0.07      0.09 \n",
      "Odds ratio                   LR(+)/LR(-)    240.15    216.41    266.50 \n",
      "Positive predictive value        Pr(A|+)     32.2%     31.4%     32.9% \n",
      "Negative predictive value        Pr(N|-)     99.8%     99.8%     99.8% \n",
      "---------------------------------------------------------------------------\n"
     ]
    }
   ],
   "source": [
    "diagt diag test if sex==0"
   ]
  },
  {
   "cell_type": "markdown",
   "id": "ab8954a7-060c-4eba-adea-1044fb6bb9ea",
   "metadata": {},
   "source": [
    "#### Age\n",
    "*16-29*"
   ]
  },
  {
   "cell_type": "code",
   "execution_count": 10,
   "id": "f9aa943b-6489-4d70-a905-4aa3b8f2cb6e",
   "metadata": {},
   "outputs": [
    {
     "name": "stdout",
     "output_type": "stream",
     "text": [
      "\n",
      "           |         test\n",
      "      diag |      Pos.       Neg. |     Total\n",
      "-----------+----------------------+----------\n",
      "  Abnormal |       537         82 |       619 \n",
      "    Normal |       507    116,548 |   117,055 \n",
      "-----------+----------------------+----------\n",
      "     Total |     1,044    116,630 |   117,674 \n",
      "True abnormal diagnosis defined as diag = 1\n",
      "\n",
      "\n",
      "                                                  [95% Confidence Interval]\n",
      "---------------------------------------------------------------------------\n",
      "Prevalence                         Pr(A)      0.5%      0.5%       0.6%\n",
      "---------------------------------------------------------------------------\n",
      "Sensitivity                      Pr(+|A)     86.8%     83.8%     89.3%\n",
      "Specificity                      Pr(-|N)     99.6%     99.5%     99.6%\n",
      "ROC area               (Sens. + Spec.)/2      0.93      0.92      0.94 \n",
      "---------------------------------------------------------------------------\n",
      "Likelihood ratio (+)     Pr(+|A)/Pr(+|N)    200.29    182.66    219.63 \n",
      "Likelihood ratio (-)     Pr(-|A)/Pr(-|N)      0.13      0.11      0.16 \n",
      "Odds ratio                   LR(+)/LR(-)   1505.42    1175.07  1928.59 \n",
      "Positive predictive value        Pr(A|+)     51.4%     48.4%     54.5% \n",
      "Negative predictive value        Pr(N|-)     99.9%     99.9%     99.9% \n",
      "---------------------------------------------------------------------------\n"
     ]
    }
   ],
   "source": [
    "diagt diag test if agecat==16"
   ]
  },
  {
   "cell_type": "markdown",
   "id": "999f9154-f87e-44c7-8928-1345fa5c5958",
   "metadata": {},
   "source": [
    "*30-69*"
   ]
  },
  {
   "cell_type": "code",
   "execution_count": 11,
   "id": "6fcb0167-b359-4f24-91e3-a10fb2caa610",
   "metadata": {},
   "outputs": [
    {
     "name": "stdout",
     "output_type": "stream",
     "text": [
      "\n",
      "           |         test\n",
      "      diag |      Pos.       Neg. |     Total\n",
      "-----------+----------------------+----------\n",
      "  Abnormal |     3,183        293 |     3,476 \n",
      "    Normal |     5,744    212,175 |   217,919 \n",
      "-----------+----------------------+----------\n",
      "     Total |     8,927    212,468 |   221,395 \n",
      "True abnormal diagnosis defined as diag = 1\n",
      "\n",
      "\n",
      "                                                  [95% Confidence Interval]\n",
      "---------------------------------------------------------------------------\n",
      "Prevalence                         Pr(A)      1.6%      1.5%       1.6%\n",
      "---------------------------------------------------------------------------\n",
      "Sensitivity                      Pr(+|A)     91.6%     90.6%     92.5%\n",
      "Specificity                      Pr(-|N)     97.4%     97.3%     97.4%\n",
      "ROC area               (Sens. + Spec.)/2      0.94      0.94      0.95 \n",
      "---------------------------------------------------------------------------\n",
      "Likelihood ratio (+)     Pr(+|A)/Pr(+|N)     34.74     33.80     35.71 \n",
      "Likelihood ratio (-)     Pr(-|A)/Pr(-|N)      0.09      0.08      0.10 \n",
      "Odds ratio                   LR(+)/LR(-)    401.28    355.04    453.54 \n",
      "Positive predictive value        Pr(A|+)     35.7%     34.7%     36.7% \n",
      "Negative predictive value        Pr(N|-)     99.9%     99.8%     99.9% \n",
      "---------------------------------------------------------------------------\n"
     ]
    }
   ],
   "source": [
    "diagt diag test if agecat==30"
   ]
  },
  {
   "cell_type": "code",
   "execution_count": 12,
   "id": "fd782079-4378-4cc3-9a2c-4adb92379d41",
   "metadata": {},
   "outputs": [
    {
     "name": "stdout",
     "output_type": "stream",
     "text": [
      "\n",
      "           |         test\n",
      "      diag |      Pos.       Neg. |     Total\n",
      "-----------+----------------------+----------\n",
      "  Abnormal |     2,592        172 |     2,764 \n",
      "    Normal |     6,729     76,438 |    83,167 \n",
      "-----------+----------------------+----------\n",
      "     Total |     9,321     76,610 |    85,931 \n",
      "True abnormal diagnosis defined as diag = 1\n",
      "\n",
      "\n",
      "                                                  [95% Confidence Interval]\n",
      "---------------------------------------------------------------------------\n",
      "Prevalence                         Pr(A)      3.2%      3.1%       3.3%\n",
      "---------------------------------------------------------------------------\n",
      "Sensitivity                      Pr(+|A)     93.8%     92.8%     94.6%\n",
      "Specificity                      Pr(-|N)     91.9%     91.7%     92.1%\n",
      "ROC area               (Sens. + Spec.)/2      0.93      0.92      0.93 \n",
      "---------------------------------------------------------------------------\n",
      "Likelihood ratio (+)     Pr(+|A)/Pr(+|N)     11.59     11.31     11.88 \n",
      "Likelihood ratio (-)     Pr(-|A)/Pr(-|N)      0.07      0.06      0.08 \n",
      "Odds ratio                   LR(+)/LR(-)    171.18    146.43    200.12 \n",
      "Positive predictive value        Pr(A|+)     27.8%     26.9%     28.7% \n",
      "Negative predictive value        Pr(N|-)     99.8%     99.7%     99.8% \n",
      "---------------------------------------------------------------------------\n"
     ]
    }
   ],
   "source": [
    "diagt diag test if agecat==70"
   ]
  },
  {
   "cell_type": "markdown",
   "id": "23455479-0f98-4886-a36c-770376084911",
   "metadata": {},
   "source": [
    "#### Year at start of oberservation period \n",
    "*2004-2009*"
   ]
  },
  {
   "cell_type": "code",
   "execution_count": 13,
   "id": "9c58ecee-bd42-47a9-ad46-f51305e689bf",
   "metadata": {},
   "outputs": [
    {
     "name": "stdout",
     "output_type": "stream",
     "text": [
      "\n",
      "           |         test\n",
      "      diag |      Pos.       Neg. |     Total\n",
      "-----------+----------------------+----------\n",
      "  Abnormal |     2,886        136 |     3,022 \n",
      "    Normal |     4,149    142,829 |   146,978 \n",
      "-----------+----------------------+----------\n",
      "     Total |     7,035    142,965 |   150,000 \n",
      "True abnormal diagnosis defined as diag = 1\n",
      "\n",
      "\n",
      "                                                  [95% Confidence Interval]\n",
      "---------------------------------------------------------------------------\n",
      "Prevalence                         Pr(A)      2.0%      1.9%       2.1%\n",
      "---------------------------------------------------------------------------\n",
      "Sensitivity                      Pr(+|A)     95.5%     94.7%     96.2%\n",
      "Specificity                      Pr(-|N)     97.2%     97.1%     97.3%\n",
      "ROC area               (Sens. + Spec.)/2      0.96      0.96      0.97 \n",
      "---------------------------------------------------------------------------\n",
      "Likelihood ratio (+)     Pr(+|A)/Pr(+|N)     33.83     32.80     34.90 \n",
      "Likelihood ratio (-)     Pr(-|A)/Pr(-|N)      0.05      0.04      0.05 \n",
      "Odds ratio                   LR(+)/LR(-)    730.52    613.54    869.80 \n",
      "Positive predictive value        Pr(A|+)     41.0%     39.9%     42.2% \n",
      "Negative predictive value        Pr(N|-)     99.9%     99.9%     99.9% \n",
      "---------------------------------------------------------------------------\n"
     ]
    }
   ],
   "source": [
    "diagt diag test if yearcat==2004"
   ]
  },
  {
   "cell_type": "markdown",
   "id": "d9f3db50-6898-4b47-81ef-4ea609bb28d8",
   "metadata": {},
   "source": [
    "*2010-2015*"
   ]
  },
  {
   "cell_type": "code",
   "execution_count": 14,
   "id": "6b326410-d900-498f-b736-4ced1ea7fa5d",
   "metadata": {},
   "outputs": [
    {
     "name": "stdout",
     "output_type": "stream",
     "text": [
      "\n",
      "           |         test\n",
      "      diag |      Pos.       Neg. |     Total\n",
      "-----------+----------------------+----------\n",
      "  Abnormal |     2,114        207 |     2,321 \n",
      "    Normal |     4,721    142,958 |   147,679 \n",
      "-----------+----------------------+----------\n",
      "     Total |     6,835    143,165 |   150,000 \n",
      "True abnormal diagnosis defined as diag = 1\n",
      "\n",
      "\n",
      "                                                  [95% Confidence Interval]\n",
      "---------------------------------------------------------------------------\n",
      "Prevalence                         Pr(A)      1.5%      1.5%       1.6%\n",
      "---------------------------------------------------------------------------\n",
      "Sensitivity                      Pr(+|A)     91.1%     89.8%     92.2%\n",
      "Specificity                      Pr(-|N)     96.8%     96.7%     96.9%\n",
      "ROC area               (Sens. + Spec.)/2      0.94      0.93      0.95 \n",
      "---------------------------------------------------------------------------\n",
      "Likelihood ratio (+)     Pr(+|A)/Pr(+|N)     28.49     27.63     29.38 \n",
      "Likelihood ratio (-)     Pr(-|A)/Pr(-|N)      0.09      0.08      0.10 \n",
      "Odds ratio                   LR(+)/LR(-)    309.25    267.36    357.70 \n",
      "Positive predictive value        Pr(A|+)     30.9%     29.8%     32.0% \n",
      "Negative predictive value        Pr(N|-)     99.9%     99.8%     99.9% \n",
      "---------------------------------------------------------------------------\n"
     ]
    }
   ],
   "source": [
    "diagt diag test if yearcat==2010"
   ]
  },
  {
   "cell_type": "markdown",
   "id": "1546a4d9-adee-4208-88e0-3b6aa4d3d14c",
   "metadata": {},
   "source": [
    "*2016-2020*"
   ]
  },
  {
   "cell_type": "code",
   "execution_count": 15,
   "id": "dddfe5ba-1a16-4afc-91e5-cbffb4f25b77",
   "metadata": {},
   "outputs": [
    {
     "name": "stdout",
     "output_type": "stream",
     "text": [
      "\n",
      "           |         test\n",
      "      diag |      Pos.       Neg. |     Total\n",
      "-----------+----------------------+----------\n",
      "  Abnormal |     1,312        204 |     1,516 \n",
      "    Normal |     4,110    119,374 |   123,484 \n",
      "-----------+----------------------+----------\n",
      "     Total |     5,422    119,578 |   125,000 \n",
      "True abnormal diagnosis defined as diag = 1\n",
      "\n",
      "\n",
      "                                                  [95% Confidence Interval]\n",
      "---------------------------------------------------------------------------\n",
      "Prevalence                         Pr(A)      1.2%      1.2%       1.3%\n",
      "---------------------------------------------------------------------------\n",
      "Sensitivity                      Pr(+|A)     86.5%     84.7%     88.2%\n",
      "Specificity                      Pr(-|N)     96.7%     96.6%     96.8%\n",
      "ROC area               (Sens. + Spec.)/2      0.92      0.91      0.92 \n",
      "---------------------------------------------------------------------------\n",
      "Likelihood ratio (+)     Pr(+|A)/Pr(+|N)     26.00     25.08     26.96 \n",
      "Likelihood ratio (-)     Pr(-|A)/Pr(-|N)      0.14      0.12      0.16 \n",
      "Odds ratio                   LR(+)/LR(-)    186.80    160.68    217.16 \n",
      "Positive predictive value        Pr(A|+)     24.2%     23.1%     25.4% \n",
      "Negative predictive value        Pr(N|-)     99.8%     99.8%     99.9% \n",
      "---------------------------------------------------------------------------\n"
     ]
    }
   ],
   "source": [
    "diagt diag test if yearcat==2016"
   ]
  },
  {
   "cell_type": "markdown",
   "id": "9318e823-cf06-4695-a86c-8b96ace454c5",
   "metadata": {},
   "source": [
    "#### IMD of practice\n",
    "*1-3*"
   ]
  },
  {
   "cell_type": "code",
   "execution_count": 16,
   "id": "0c48ed3a-ce83-4c14-9447-6c52d4d82ed3",
   "metadata": {},
   "outputs": [
    {
     "name": "stdout",
     "output_type": "stream",
     "text": [
      "\n",
      "           |         test\n",
      "      diag |      Pos.       Neg. |     Total\n",
      "-----------+----------------------+----------\n",
      "  Abnormal |     1,998        194 |     2,192 \n",
      "    Normal |     4,197    148,162 |   152,359 \n",
      "-----------+----------------------+----------\n",
      "     Total |     6,195    148,356 |   154,551 \n",
      "True abnormal diagnosis defined as diag = 1\n",
      "\n",
      "\n",
      "                                                  [95% Confidence Interval]\n",
      "---------------------------------------------------------------------------\n",
      "Prevalence                         Pr(A)      1.4%      1.4%       1.5%\n",
      "---------------------------------------------------------------------------\n",
      "Sensitivity                      Pr(+|A)     91.1%     89.9%     92.3%\n",
      "Specificity                      Pr(-|N)     97.2%     97.2%     97.3%\n",
      "ROC area               (Sens. + Spec.)/2      0.94      0.94      0.95 \n",
      "---------------------------------------------------------------------------\n",
      "Likelihood ratio (+)     Pr(+|A)/Pr(+|N)     33.09     32.03     34.18 \n",
      "Likelihood ratio (-)     Pr(-|A)/Pr(-|N)      0.09      0.08      0.10 \n",
      "Odds ratio                   LR(+)/LR(-)    363.57    312.80    422.59 \n",
      "Positive predictive value        Pr(A|+)     32.3%     31.1%     33.4% \n",
      "Negative predictive value        Pr(N|-)     99.9%     99.8%     99.9% \n",
      "---------------------------------------------------------------------------\n"
     ]
    }
   ],
   "source": [
    "diagt diag test if imdcat==0"
   ]
  },
  {
   "cell_type": "markdown",
   "id": "cc20d8e3-26a9-4217-989b-54c2c73d0386",
   "metadata": {},
   "source": [
    "*4-7*"
   ]
  },
  {
   "cell_type": "code",
   "execution_count": 17,
   "id": "2f034372-ceb8-4f41-bd39-9d6ef321a64a",
   "metadata": {},
   "outputs": [
    {
     "name": "stdout",
     "output_type": "stream",
     "text": [
      "\n",
      "           |         test\n",
      "      diag |      Pos.       Neg. |     Total\n",
      "-----------+----------------------+----------\n",
      "  Abnormal |     2,281        150 |     2,431 \n",
      "    Normal |     5,113    135,501 |   140,614 \n",
      "-----------+----------------------+----------\n",
      "     Total |     7,394    135,651 |   143,045 \n",
      "True abnormal diagnosis defined as diag = 1\n",
      "\n",
      "\n",
      "                                                  [95% Confidence Interval]\n",
      "---------------------------------------------------------------------------\n",
      "Prevalence                         Pr(A)      1.7%      1.6%       1.8%\n",
      "---------------------------------------------------------------------------\n",
      "Sensitivity                      Pr(+|A)     93.8%     92.8%     94.8%\n",
      "Specificity                      Pr(-|N)     96.4%     96.3%     96.5%\n",
      "ROC area               (Sens. + Spec.)/2      0.95      0.95      0.96 \n",
      "---------------------------------------------------------------------------\n",
      "Likelihood ratio (+)     Pr(+|A)/Pr(+|N)     25.80     25.07     26.56 \n",
      "Likelihood ratio (-)     Pr(-|A)/Pr(-|N)      0.06      0.05      0.07 \n",
      "Odds ratio                   LR(+)/LR(-)    403.00    340.89    476.41 \n",
      "Positive predictive value        Pr(A|+)     30.8%     29.8%     31.9% \n",
      "Negative predictive value        Pr(N|-)     99.9%     99.9%     99.9% \n",
      "---------------------------------------------------------------------------\n"
     ]
    }
   ],
   "source": [
    "diagt diag test if imdcat==4"
   ]
  },
  {
   "cell_type": "markdown",
   "id": "a843bc14-ff1a-4435-a50c-c9769b8c3d3b",
   "metadata": {},
   "source": [
    "*8-10*"
   ]
  },
  {
   "cell_type": "code",
   "execution_count": 18,
   "id": "e52a500d-f3cf-4da6-997c-bbc1e902d199",
   "metadata": {},
   "outputs": [
    {
     "name": "stdout",
     "output_type": "stream",
     "text": [
      "\n",
      "           |         test\n",
      "      diag |      Pos.       Neg. |     Total\n",
      "-----------+----------------------+----------\n",
      "  Abnormal |     2,014        196 |     2,210 \n",
      "    Normal |     3,664    118,941 |   122,605 \n",
      "-----------+----------------------+----------\n",
      "     Total |     5,678    119,137 |   124,815 \n",
      "True abnormal diagnosis defined as diag = 1\n",
      "\n",
      "\n",
      "                                                  [95% Confidence Interval]\n",
      "---------------------------------------------------------------------------\n",
      "Prevalence                         Pr(A)      1.8%      1.7%       1.8%\n",
      "---------------------------------------------------------------------------\n",
      "Sensitivity                      Pr(+|A)     91.1%     89.9%     92.3%\n",
      "Specificity                      Pr(-|N)     97.0%     96.9%     97.1%\n",
      "ROC area               (Sens. + Spec.)/2      0.94      0.93      0.95 \n",
      "---------------------------------------------------------------------------\n",
      "Likelihood ratio (+)     Pr(+|A)/Pr(+|N)     30.49     29.46     31.56 \n",
      "Likelihood ratio (-)     Pr(-|A)/Pr(-|N)      0.09      0.08      0.10 \n",
      "Odds ratio                   LR(+)/LR(-)    333.56    287.06    387.61 \n",
      "Positive predictive value        Pr(A|+)     35.5%     34.2%     36.7% \n",
      "Negative predictive value        Pr(N|-)     99.8%     99.8%     99.9% \n",
      "---------------------------------------------------------------------------\n"
     ]
    }
   ],
   "source": [
    "diagt diag test if imdcat==8"
   ]
  },
  {
   "cell_type": "markdown",
   "id": "cbbde183-5b60-4618-a548-81135cae76a0",
   "metadata": {},
   "source": [
    "#### Commissioning Regions\n",
    "EAST OF ENGLAND"
   ]
  },
  {
   "cell_type": "code",
   "execution_count": 19,
   "id": "1254da50-3ca4-47a1-b4d8-e07c6d920177",
   "metadata": {},
   "outputs": [
    {
     "name": "stdout",
     "output_type": "stream",
     "text": [
      "\n",
      "           |         test\n",
      "      diag |      Pos.       Neg. |     Total\n",
      "-----------+----------------------+----------\n",
      "  Abnormal |     1,350        111 |     1,461 \n",
      "    Normal |     3,384     84,792 |    88,176 \n",
      "-----------+----------------------+----------\n",
      "     Total |     4,734     84,903 |    89,637 \n",
      "True abnormal diagnosis defined as diag = 1\n",
      "\n",
      "\n",
      "                                                  [95% Confidence Interval]\n",
      "---------------------------------------------------------------------------\n",
      "Prevalence                         Pr(A)      1.6%      1.5%       1.7%\n",
      "---------------------------------------------------------------------------\n",
      "Sensitivity                      Pr(+|A)     92.4%     90.9%     93.7%\n",
      "Specificity                      Pr(-|N)     96.2%     96.0%     96.3%\n",
      "ROC area               (Sens. + Spec.)/2      0.94      0.94      0.95 \n",
      "---------------------------------------------------------------------------\n",
      "Likelihood ratio (+)     Pr(+|A)/Pr(+|N)     24.08     23.22     24.96 \n",
      "Likelihood ratio (-)     Pr(-|A)/Pr(-|N)      0.08      0.07      0.09 \n",
      "Odds ratio                   LR(+)/LR(-)    304.74    250.44    370.82 \n",
      "Positive predictive value        Pr(A|+)     28.5%     27.2%     29.8% \n",
      "Negative predictive value        Pr(N|-)     99.9%     99.8%     99.9% \n",
      "---------------------------------------------------------------------------\n"
     ]
    }
   ],
   "source": [
    "diagt diag test if regexm(region_name,\"ENGLAND\")==1"
   ]
  },
  {
   "cell_type": "markdown",
   "id": "b2f2b2c7-4c3b-4ae5-ad03-8edfbc58938d",
   "metadata": {},
   "source": [
    "London"
   ]
  },
  {
   "cell_type": "code",
   "execution_count": 20,
   "id": "18195511-cedc-42b1-8bae-bc6621364814",
   "metadata": {},
   "outputs": [
    {
     "name": "stdout",
     "output_type": "stream",
     "text": [
      "\n",
      "           |         test\n",
      "      diag |      Pos.       Neg. |     Total\n",
      "-----------+----------------------+----------\n",
      "  Abnormal |       239         65 |       304 \n",
      "    Normal |       249     16,172 |    16,421 \n",
      "-----------+----------------------+----------\n",
      "     Total |       488     16,237 |    16,725 \n",
      "True abnormal diagnosis defined as diag = 1\n",
      "\n",
      "\n",
      "                                                  [95% Confidence Interval]\n",
      "---------------------------------------------------------------------------\n",
      "Prevalence                         Pr(A)      1.8%      1.6%       2.0%\n",
      "---------------------------------------------------------------------------\n",
      "Sensitivity                      Pr(+|A)     78.6%     73.6%     83.1%\n",
      "Specificity                      Pr(-|N)     98.5%     98.3%     98.7%\n",
      "ROC area               (Sens. + Spec.)/2      0.89      0.86      0.91 \n",
      "---------------------------------------------------------------------------\n",
      "Likelihood ratio (+)     Pr(+|A)/Pr(+|N)     51.85     45.23     59.43 \n",
      "Likelihood ratio (-)     Pr(-|A)/Pr(-|N)      0.22      0.18      0.27 \n",
      "Odds ratio                   LR(+)/LR(-)    238.81    176.79    322.57 \n",
      "Positive predictive value        Pr(A|+)     49.0%     44.5%     53.5% \n",
      "Negative predictive value        Pr(N|-)     99.6%     99.5%     99.7% \n",
      "---------------------------------------------------------------------------\n"
     ]
    }
   ],
   "source": [
    "diagt diag test if regexm(region_name,\"LONDON\")==1"
   ]
  },
  {
   "cell_type": "markdown",
   "id": "1a78f370-7ebd-4e70-b301-73c6e75003fd",
   "metadata": {},
   "source": [
    "Midlands"
   ]
  },
  {
   "cell_type": "code",
   "execution_count": 21,
   "id": "265ce394-6410-4e76-a064-ec3d32c30eee",
   "metadata": {},
   "outputs": [
    {
     "name": "stdout",
     "output_type": "stream",
     "text": [
      "\n",
      "           |         test\n",
      "      diag |      Pos.       Neg. |     Total\n",
      "-----------+----------------------+----------\n",
      "  Abnormal |       863         68 |       931 \n",
      "    Normal |     1,357     44,255 |    45,612 \n",
      "-----------+----------------------+----------\n",
      "     Total |     2,220     44,323 |    46,543 \n",
      "True abnormal diagnosis defined as diag = 1\n",
      "\n",
      "\n",
      "                                                  [95% Confidence Interval]\n",
      "---------------------------------------------------------------------------\n",
      "Prevalence                         Pr(A)      2.0%      1.9%       2.1%\n",
      "---------------------------------------------------------------------------\n",
      "Sensitivity                      Pr(+|A)     92.7%     90.8%     94.3%\n",
      "Specificity                      Pr(-|N)     97.0%     96.9%     97.2%\n",
      "ROC area               (Sens. + Spec.)/2      0.95      0.94      0.96 \n",
      "---------------------------------------------------------------------------\n",
      "Likelihood ratio (+)     Pr(+|A)/Pr(+|N)     31.16     29.48     32.93 \n",
      "Likelihood ratio (-)     Pr(-|A)/Pr(-|N)      0.08      0.06      0.09 \n",
      "Odds ratio                   LR(+)/LR(-)    413.89    321.67    532.54 \n",
      "Positive predictive value        Pr(A|+)     38.9%     36.8%     40.9% \n",
      "Negative predictive value        Pr(N|-)     99.8%     99.8%     99.9% \n",
      "---------------------------------------------------------------------------\n"
     ]
    }
   ],
   "source": [
    "diagt diag test if regexm(region_name,\"MID\")==1"
   ]
  },
  {
   "cell_type": "markdown",
   "id": "0769a779-b7ae-4496-9ed2-a6feb1a1a94a",
   "metadata": {},
   "source": [
    "Yorkshire"
   ]
  },
  {
   "cell_type": "code",
   "execution_count": 22,
   "id": "83d73532-38e7-4fb2-a39b-5c1ef1b5b717",
   "metadata": {},
   "outputs": [
    {
     "name": "stdout",
     "output_type": "stream",
     "text": [
      "\n",
      "           |         test\n",
      "      diag |      Pos.       Neg. |     Total\n",
      "-----------+----------------------+----------\n",
      "  Abnormal |       966        101 |     1,067 \n",
      "    Normal |     2,538     82,506 |    85,044 \n",
      "-----------+----------------------+----------\n",
      "     Total |     3,504     82,607 |    86,111 \n",
      "True abnormal diagnosis defined as diag = 1\n",
      "\n",
      "\n",
      "                                                  [95% Confidence Interval]\n",
      "---------------------------------------------------------------------------\n",
      "Prevalence                         Pr(A)      1.2%      1.2%       1.3%\n",
      "---------------------------------------------------------------------------\n",
      "Sensitivity                      Pr(+|A)     90.5%     88.6%     92.2%\n",
      "Specificity                      Pr(-|N)     97.0%     96.9%     97.1%\n",
      "ROC area               (Sens. + Spec.)/2      0.94      0.93      0.95 \n",
      "---------------------------------------------------------------------------\n",
      "Likelihood ratio (+)     Pr(+|A)/Pr(+|N)     30.34     29.06     31.67 \n",
      "Likelihood ratio (-)     Pr(-|A)/Pr(-|N)      0.10      0.08      0.12 \n",
      "Odds ratio                   LR(+)/LR(-)    310.92    252.44    382.95 \n",
      "Positive predictive value        Pr(A|+)     27.6%     26.1%     29.1% \n",
      "Negative predictive value        Pr(N|-)     99.9%     99.9%     99.9% \n",
      "---------------------------------------------------------------------------\n"
     ]
    }
   ],
   "source": [
    "diagt diag test if regexm(region_name,\"YORK\")==1"
   ]
  },
  {
   "cell_type": "markdown",
   "id": "247339ad-15c3-4ac2-9458-c8b14082ff8c",
   "metadata": {},
   "source": [
    "North West"
   ]
  },
  {
   "cell_type": "code",
   "execution_count": 23,
   "id": "f9ddd2b2-2aa8-49c0-8d9b-ac27a3db55be",
   "metadata": {},
   "outputs": [
    {
     "name": "stdout",
     "output_type": "stream",
     "text": [
      "\n",
      "           |         test\n",
      "      diag |      Pos.       Neg. |     Total\n",
      "-----------+----------------------+----------\n",
      "  Abnormal |       812         57 |       869 \n",
      "    Normal |       967     45,757 |    46,724 \n",
      "-----------+----------------------+----------\n",
      "     Total |     1,779     45,814 |    47,593 \n",
      "True abnormal diagnosis defined as diag = 1\n",
      "\n",
      "\n",
      "                                                  [95% Confidence Interval]\n",
      "---------------------------------------------------------------------------\n",
      "Prevalence                         Pr(A)      1.8%      1.7%       2.0%\n",
      "---------------------------------------------------------------------------\n",
      "Sensitivity                      Pr(+|A)     93.4%     91.6%     95.0%\n",
      "Specificity                      Pr(-|N)     97.9%     97.8%     98.1%\n",
      "ROC area               (Sens. + Spec.)/2      0.96      0.95      0.97 \n",
      "---------------------------------------------------------------------------\n",
      "Likelihood ratio (+)     Pr(+|A)/Pr(+|N)     45.15     42.32     48.17 \n",
      "Likelihood ratio (-)     Pr(-|A)/Pr(-|N)      0.07      0.05      0.09 \n",
      "Odds ratio                   LR(+)/LR(-)    674.08    511.91    887.61 \n",
      "Positive predictive value        Pr(A|+)     45.6%     43.3%     48.0% \n",
      "Negative predictive value        Pr(N|-)     99.9%     99.8%     99.9% \n",
      "---------------------------------------------------------------------------\n"
     ]
    }
   ],
   "source": [
    "diagt diag test if regexm(region_name,\"NORTH\")==1 & regexm(region_name,\"WEST\")==1"
   ]
  },
  {
   "cell_type": "markdown",
   "id": "cac4bda2-216c-4294-ab6d-5338aa93d23c",
   "metadata": {},
   "source": [
    "South East"
   ]
  },
  {
   "cell_type": "code",
   "execution_count": 24,
   "id": "883a5bf4-de79-4ba9-9bb2-95f85e3bccb3",
   "metadata": {},
   "outputs": [
    {
     "name": "stdout",
     "output_type": "stream",
     "text": [
      "\n",
      "           |         test\n",
      "      diag |      Pos.       Neg. |     Total\n",
      "-----------+----------------------+----------\n",
      "  Abnormal |     1,407         93 |     1,500 \n",
      "    Normal |     2,528     86,457 |    88,985 \n",
      "-----------+----------------------+----------\n",
      "     Total |     3,935     86,550 |    90,485 \n",
      "True abnormal diagnosis defined as diag = 1\n",
      "\n",
      "\n",
      "                                                  [95% Confidence Interval]\n",
      "---------------------------------------------------------------------------\n",
      "Prevalence                         Pr(A)      1.7%      1.6%       1.7%\n",
      "---------------------------------------------------------------------------\n",
      "Sensitivity                      Pr(+|A)     93.8%     92.5%     95.0%\n",
      "Specificity                      Pr(-|N)     97.2%     97.0%     97.3%\n",
      "ROC area               (Sens. + Spec.)/2      0.95      0.95      0.96 \n",
      "---------------------------------------------------------------------------\n",
      "Likelihood ratio (+)     Pr(+|A)/Pr(+|N)     33.02     31.70     34.38 \n",
      "Likelihood ratio (-)     Pr(-|A)/Pr(-|N)      0.06      0.05      0.08 \n",
      "Odds ratio                   LR(+)/LR(-)    517.41    418.08    640.33 \n",
      "Positive predictive value        Pr(A|+)     35.8%     34.3%     37.3% \n",
      "Negative predictive value        Pr(N|-)     99.9%     99.9%     99.9% \n",
      "---------------------------------------------------------------------------\n"
     ]
    }
   ],
   "source": [
    "diagt diag test if regexm(region_name,\"SOUTH\")==1 & regexm(region_name,\"EAST\")==1"
   ]
  },
  {
   "cell_type": "markdown",
   "id": "c31c4086-ecd2-43b5-a175-a49e64a0593a",
   "metadata": {},
   "source": [
    "South West"
   ]
  },
  {
   "cell_type": "code",
   "execution_count": 25,
   "id": "db24609a-c78c-4959-8f77-be636e5b8a66",
   "metadata": {},
   "outputs": [
    {
     "name": "stdout",
     "output_type": "stream",
     "text": [
      "\n",
      "           |         test\n",
      "      diag |      Pos.       Neg. |     Total\n",
      "-----------+----------------------+----------\n",
      "  Abnormal |       526         40 |       566 \n",
      "    Normal |     1,542     34,068 |    35,610 \n",
      "-----------+----------------------+----------\n",
      "     Total |     2,068     34,108 |    36,176 \n",
      "True abnormal diagnosis defined as diag = 1\n",
      "\n",
      "\n",
      "                                                  [95% Confidence Interval]\n",
      "---------------------------------------------------------------------------\n",
      "Prevalence                         Pr(A)      1.6%      1.4%       1.7%\n",
      "---------------------------------------------------------------------------\n",
      "Sensitivity                      Pr(+|A)     92.9%     90.5%     94.9%\n",
      "Specificity                      Pr(-|N)     95.7%     95.5%     95.9%\n",
      "ROC area               (Sens. + Spec.)/2      0.94      0.93      0.95 \n",
      "---------------------------------------------------------------------------\n",
      "Likelihood ratio (+)     Pr(+|A)/Pr(+|N)     21.46     20.34     22.65 \n",
      "Likelihood ratio (-)     Pr(-|A)/Pr(-|N)      0.07      0.05      0.10 \n",
      "Odds ratio                   LR(+)/LR(-)    290.53    210.10    401.74 \n",
      "Positive predictive value        Pr(A|+)     25.4%     23.6%     27.4% \n",
      "Negative predictive value        Pr(N|-)     99.9%     99.8%     99.9% \n",
      "---------------------------------------------------------------------------\n"
     ]
    }
   ],
   "source": [
    "diagt diag test if regexm(region_name,\"SOUTH\")==1 & regexm(region_name,\"WEST\")==1"
   ]
  },
  {
   "cell_type": "markdown",
   "id": "cf33efae-dc21-4b1a-b169-9eaea69c1161",
   "metadata": {},
   "source": [
    "#### System\n",
    "SystmOne"
   ]
  },
  {
   "cell_type": "code",
   "execution_count": 26,
   "id": "26573dfb-79dc-4647-88a6-e19dac9eca61",
   "metadata": {},
   "outputs": [
    {
     "name": "stdout",
     "output_type": "stream",
     "text": [
      "\n",
      "           |         test\n",
      "      diag |      Pos.       Neg. |     Total\n",
      "-----------+----------------------+----------\n",
      "  Abnormal |     2,913        270 |     3,183 \n",
      "    Normal |     8,191    217,381 |   225,572 \n",
      "-----------+----------------------+----------\n",
      "     Total |    11,104    217,651 |   228,755 \n",
      "True abnormal diagnosis defined as diag = 1\n",
      "\n",
      "\n",
      "                                                  [95% Confidence Interval]\n",
      "---------------------------------------------------------------------------\n",
      "Prevalence                         Pr(A)      1.4%      1.3%       1.4%\n",
      "---------------------------------------------------------------------------\n",
      "Sensitivity                      Pr(+|A)     91.5%     90.5%     92.5%\n",
      "Specificity                      Pr(-|N)     96.4%     96.3%     96.4%\n",
      "ROC area               (Sens. + Spec.)/2      0.94      0.93      0.94 \n",
      "---------------------------------------------------------------------------\n",
      "Likelihood ratio (+)     Pr(+|A)/Pr(+|N)     25.20     24.61     25.81 \n",
      "Likelihood ratio (-)     Pr(-|A)/Pr(-|N)      0.09      0.08      0.10 \n",
      "Odds ratio                   LR(+)/LR(-)    286.33    252.29    324.95 \n",
      "Positive predictive value        Pr(A|+)     26.2%     25.4%     27.1% \n",
      "Negative predictive value        Pr(N|-)     99.9%     99.9%     99.9% \n",
      "---------------------------------------------------------------------------\n"
     ]
    }
   ],
   "source": [
    "diagt diag test if regexm(system,\"One\")==1"
   ]
  },
  {
   "cell_type": "markdown",
   "id": "b561f033-d2f3-4c95-ad3f-03b8c65647ea",
   "metadata": {},
   "source": [
    "Vision"
   ]
  },
  {
   "cell_type": "code",
   "execution_count": 27,
   "id": "6bed6f81-5fd6-418e-94ff-96d2de419d3d",
   "metadata": {},
   "outputs": [
    {
     "name": "stdout",
     "output_type": "stream",
     "text": [
      "\n",
      "           |         test\n",
      "      diag |      Pos.       Neg. |     Total\n",
      "-----------+----------------------+----------\n",
      "  Abnormal |       159         15 |       174 \n",
      "    Normal |       484     13,086 |    13,570 \n",
      "-----------+----------------------+----------\n",
      "     Total |       643     13,101 |    13,744 \n",
      "True abnormal diagnosis defined as diag = 1\n",
      "\n",
      "\n",
      "                                                  [95% Confidence Interval]\n",
      "---------------------------------------------------------------------------\n",
      "Prevalence                         Pr(A)      1.3%      1.1%       1.5%\n",
      "---------------------------------------------------------------------------\n",
      "Sensitivity                      Pr(+|A)     91.4%     86.2%     95.1%\n",
      "Specificity                      Pr(-|N)     96.4%     96.1%     96.7%\n",
      "ROC area               (Sens. + Spec.)/2      0.94      0.92      0.96 \n",
      "---------------------------------------------------------------------------\n",
      "Likelihood ratio (+)     Pr(+|A)/Pr(+|N)     25.62     23.21     28.28 \n",
      "Likelihood ratio (-)     Pr(-|A)/Pr(-|N)      0.09      0.06      0.15 \n",
      "Odds ratio                   LR(+)/LR(-)    286.59    168.50    487.39 \n",
      "Positive predictive value        Pr(A|+)     24.7%     21.4%     28.3% \n",
      "Negative predictive value        Pr(N|-)     99.9%     99.8%     99.9% \n",
      "---------------------------------------------------------------------------\n"
     ]
    }
   ],
   "source": [
    "diagt diag test if regexm(system,\"Vision\")==1"
   ]
  },
  {
   "cell_type": "markdown",
   "id": "65d9cefb-fbb5-4500-8ed3-52074d4e12ad",
   "metadata": {},
   "source": [
    "EMIS"
   ]
  },
  {
   "cell_type": "code",
   "execution_count": 28,
   "id": "18d50bfe-f5c4-4ecb-b822-0d06e3b29224",
   "metadata": {},
   "outputs": [
    {
     "name": "stdout",
     "output_type": "stream",
     "text": [
      "\n",
      "           |         test\n",
      "      diag |      Pos.       Neg. |     Total\n",
      "-----------+----------------------+----------\n",
      "  Abnormal |     3,239        262 |     3,501 \n",
      "    Normal |     4,297    174,567 |   178,864 \n",
      "-----------+----------------------+----------\n",
      "     Total |     7,536    174,829 |   182,365 \n",
      "True abnormal diagnosis defined as diag = 1\n",
      "\n",
      "\n",
      "                                                  [95% Confidence Interval]\n",
      "---------------------------------------------------------------------------\n",
      "Prevalence                         Pr(A)      1.9%      1.9%       2.0%\n",
      "---------------------------------------------------------------------------\n",
      "Sensitivity                      Pr(+|A)     92.5%     91.6%     93.4%\n",
      "Specificity                      Pr(-|N)     97.6%     97.5%     97.7%\n",
      "ROC area               (Sens. + Spec.)/2      0.95      0.95      0.95 \n",
      "---------------------------------------------------------------------------\n",
      "Likelihood ratio (+)     Pr(+|A)/Pr(+|N)     38.51     37.33     39.72 \n",
      "Likelihood ratio (-)     Pr(-|A)/Pr(-|N)      0.08      0.07      0.09 \n",
      "Odds ratio                   LR(+)/LR(-)    502.23    441.28    571.61 \n",
      "Positive predictive value        Pr(A|+)     43.0%     41.9%     44.1% \n",
      "Negative predictive value        Pr(N|-)     99.9%     99.8%     99.9% \n",
      "---------------------------------------------------------------------------\n"
     ]
    }
   ],
   "source": [
    "diagt diag test if regexm(ustrupper(system),\"EMIS\")==1"
   ]
  },
  {
   "cell_type": "code",
   "execution_count": null,
   "id": "654b6659-0a73-4736-bc15-7bf926554432",
   "metadata": {},
   "outputs": [],
   "source": []
  },
  {
   "cell_type": "markdown",
   "id": "5cc0b78d-d049-4645-a6f4-e02b49b379db",
   "metadata": {},
   "source": [
    "#### RA_Index\n",
    "Index==1"
   ]
  },
  {
   "cell_type": "code",
   "execution_count": 29,
   "id": "9fa490cd-9380-44bc-8218-9f2193f09aee",
   "metadata": {},
   "outputs": [
    {
     "name": "stdout",
     "output_type": "stream",
     "text": [
      "\n",
      "           |         test\n",
      "      diag |      Pos.       Neg. |     Total\n",
      "-----------+----------------------+----------\n",
      "  Abnormal |     4,808        441 |     5,249 \n",
      "    Normal |     9,334    307,114 |   316,448 \n",
      "-----------+----------------------+----------\n",
      "     Total |    14,142    307,555 |   321,697 \n",
      "True abnormal diagnosis defined as diag = 1\n",
      "\n",
      "\n",
      "                                                  [95% Confidence Interval]\n",
      "---------------------------------------------------------------------------\n",
      "Prevalence                         Pr(A)      1.6%      1.6%       1.7%\n",
      "---------------------------------------------------------------------------\n",
      "Sensitivity                      Pr(+|A)     91.6%     90.8%     92.3%\n",
      "Specificity                      Pr(-|N)     97.1%     97.0%     97.1%\n",
      "ROC area               (Sens. + Spec.)/2      0.94      0.94      0.95 \n",
      "---------------------------------------------------------------------------\n",
      "Likelihood ratio (+)     Pr(+|A)/Pr(+|N)     31.05     30.39     31.73 \n",
      "Likelihood ratio (-)     Pr(-|A)/Pr(-|N)      0.09      0.08      0.09 \n",
      "Odds ratio                   LR(+)/LR(-)    358.72    324.71    396.30 \n",
      "Positive predictive value        Pr(A|+)     34.0%     33.2%     34.8% \n",
      "Negative predictive value        Pr(N|-)     99.9%     99.8%     99.9% \n",
      "---------------------------------------------------------------------------\n"
     ]
    }
   ],
   "source": [
    "diagt diag test if RA_index==1"
   ]
  },
  {
   "cell_type": "markdown",
   "id": "7d253ba5-4281-405c-bd8c-511a00a55bf6",
   "metadata": {},
   "source": [
    "Index==0"
   ]
  },
  {
   "cell_type": "code",
   "execution_count": 30,
   "id": "f50f1be6-d1fd-4b54-8cc8-be66d3b7312b",
   "metadata": {},
   "outputs": [
    {
     "name": "stdout",
     "output_type": "stream",
     "text": [
      "\n",
      "           |         test\n",
      "      diag |      Pos.       Neg. |     Total\n",
      "-----------+----------------------+----------\n",
      "  Abnormal |     1,504        106 |     1,610 \n",
      "    Normal |     3,646     98,047 |   101,693 \n",
      "-----------+----------------------+----------\n",
      "     Total |     5,150     98,153 |   103,303 \n",
      "True abnormal diagnosis defined as diag = 1\n",
      "\n",
      "\n",
      "                                                  [95% Confidence Interval]\n",
      "---------------------------------------------------------------------------\n",
      "Prevalence                         Pr(A)      1.6%      1.5%       1.6%\n",
      "---------------------------------------------------------------------------\n",
      "Sensitivity                      Pr(+|A)     93.4%     92.1%     94.6%\n",
      "Specificity                      Pr(-|N)     96.4%     96.3%     96.5%\n",
      "ROC area               (Sens. + Spec.)/2      0.95      0.94      0.96 \n",
      "---------------------------------------------------------------------------\n",
      "Likelihood ratio (+)     Pr(+|A)/Pr(+|N)     26.06     25.17     26.97 \n",
      "Likelihood ratio (-)     Pr(-|A)/Pr(-|N)      0.07      0.06      0.08 \n",
      "Odds ratio                   LR(+)/LR(-)    381.56    312.58    465.75 \n",
      "Positive predictive value        Pr(A|+)     29.2%     28.0%     30.5% \n",
      "Negative predictive value        Pr(N|-)     99.9%     99.9%     99.9% \n",
      "---------------------------------------------------------------------------\n"
     ]
    }
   ],
   "source": [
    "diagt diag test if RA_index==0"
   ]
  },
  {
   "cell_type": "markdown",
   "id": "72956d72",
   "metadata": {},
   "source": [
    "#### Ethnicity\n",
    "Ethnicity==0000white"
   ]
  },
  {
   "cell_type": "code",
   "execution_count": 31,
   "id": "b35bf6ab",
   "metadata": {},
   "outputs": [
    {
     "name": "stdout",
     "output_type": "stream",
     "text": [
      "\n",
      "           |         test\n",
      "      diag |      Pos.       Neg. |     Total\n",
      "-----------+----------------------+----------\n",
      "  Abnormal |     4,375        363 |     4,738 \n",
      "    Normal |     9,477    243,766 |   253,243 \n",
      "-----------+----------------------+----------\n",
      "     Total |    13,852    244,129 |   257,981 \n",
      "True abnormal diagnosis defined as diag = 1\n",
      "\n",
      "\n",
      "                                                  [95% Confidence Interval]\n",
      "---------------------------------------------------------------------------\n",
      "Prevalence                         Pr(A)      1.8%      1.8%       1.9%\n",
      "---------------------------------------------------------------------------\n",
      "Sensitivity                      Pr(+|A)     92.3%     91.5%     93.1%\n",
      "Specificity                      Pr(-|N)     96.3%     96.2%     96.3%\n",
      "ROC area               (Sens. + Spec.)/2      0.94      0.94      0.95 \n",
      "---------------------------------------------------------------------------\n",
      "Likelihood ratio (+)     Pr(+|A)/Pr(+|N)     24.67     24.15     25.21 \n",
      "Likelihood ratio (-)     Pr(-|A)/Pr(-|N)      0.08      0.07      0.09 \n",
      "Odds ratio                   LR(+)/LR(-)    310.01    278.01    345.69 \n",
      "Positive predictive value        Pr(A|+)     31.6%     30.8%     32.4% \n",
      "Negative predictive value        Pr(N|-)     99.9%     99.8%     99.9% \n",
      "---------------------------------------------------------------------------\n"
     ]
    }
   ],
   "source": [
    "diagt diag test if ethnicity==\"0white\""
   ]
  },
  {
   "cell_type": "code",
   "execution_count": 32,
   "id": "10050fbc",
   "metadata": {},
   "outputs": [
    {
     "name": "stdout",
     "output_type": "stream",
     "text": [
      "\n",
      "           |         test\n",
      "      diag |      Pos.       Neg. |     Total\n",
      "-----------+----------------------+----------\n",
      "  Abnormal |       417         88 |       505 \n",
      "    Normal |       668     42,695 |    43,363 \n",
      "-----------+----------------------+----------\n",
      "     Total |     1,085     42,783 |    43,868 \n",
      "True abnormal diagnosis defined as diag = 1\n",
      "\n",
      "\n",
      "                                                  [95% Confidence Interval]\n",
      "---------------------------------------------------------------------------\n",
      "Prevalence                         Pr(A)      1.2%      1.1%       1.3%\n",
      "---------------------------------------------------------------------------\n",
      "Sensitivity                      Pr(+|A)     82.6%     79.0%     85.8%\n",
      "Specificity                      Pr(-|N)     98.5%     98.3%     98.6%\n",
      "ROC area               (Sens. + Spec.)/2      0.91      0.89      0.92 \n",
      "---------------------------------------------------------------------------\n",
      "Likelihood ratio (+)     Pr(+|A)/Pr(+|N)     53.60     49.22     58.37 \n",
      "Likelihood ratio (-)     Pr(-|A)/Pr(-|N)      0.18      0.15      0.21 \n",
      "Odds ratio                   LR(+)/LR(-)    302.87    237.81    385.72 \n",
      "Positive predictive value        Pr(A|+)     38.4%     35.5%     41.4% \n",
      "Negative predictive value        Pr(N|-)     99.8%     99.7%     99.8% \n",
      "---------------------------------------------------------------------------\n"
     ]
    }
   ],
   "source": [
    "diagt diag test if ethnicity==\"Other\""
   ]
  },
  {
   "cell_type": "code",
   "execution_count": 33,
   "id": "a9b0ba23",
   "metadata": {},
   "outputs": [
    {
     "name": "stdout",
     "output_type": "stream",
     "text": [
      "\n",
      "           |         test\n",
      "      diag |      Pos.       Neg. |     Total\n",
      "-----------+----------------------+----------\n",
      "  Abnormal |     1,520         96 |     1,616 \n",
      "    Normal |     2,835    118,700 |   121,535 \n",
      "-----------+----------------------+----------\n",
      "     Total |     4,355    118,796 |   123,151 \n",
      "True abnormal diagnosis defined as diag = 1\n",
      "\n",
      "\n",
      "                                                  [95% Confidence Interval]\n",
      "---------------------------------------------------------------------------\n",
      "Prevalence                         Pr(A)      1.3%      1.2%       1.4%\n",
      "---------------------------------------------------------------------------\n",
      "Sensitivity                      Pr(+|A)     94.1%     92.8%     95.2%\n",
      "Specificity                      Pr(-|N)     97.7%     97.6%     97.8%\n",
      "ROC area               (Sens. + Spec.)/2      0.96      0.95      0.96 \n",
      "---------------------------------------------------------------------------\n",
      "Likelihood ratio (+)     Pr(+|A)/Pr(+|N)     40.32     38.80     41.90 \n",
      "Likelihood ratio (-)     Pr(-|A)/Pr(-|N)      0.06      0.05      0.07 \n",
      "Odds ratio                   LR(+)/LR(-)    662.93    537.78    817.21 \n",
      "Positive predictive value        Pr(A|+)     34.9%     33.5%     36.3% \n",
      "Negative predictive value        Pr(N|-)     99.9%     99.9%     99.9% \n",
      "---------------------------------------------------------------------------\n"
     ]
    }
   ],
   "source": [
    "diagt diag test if ethnicity==\"Missing\""
   ]
  },
  {
   "cell_type": "code",
   "execution_count": 34,
   "id": "0c6b3359-4cc6-4eb5-a15f-ed1be0b97aa0",
   "metadata": {},
   "outputs": [],
   "source": [
    "tempname memhold\n",
    "postfile `memhold' str20 var prev sens spec ppv npv roc using \"validity.dta\",replace\n",
    "\n",
    "quietly diagt diag test\n",
    "local prev=r(prev)\n",
    "local sens=r(sens)\n",
    "local spec=r(spec)\n",
    "local ppv=r(ppv)\n",
    "local npv=r(npv)\n",
    "local roc=r(roc)\n",
    "post `memhold' (\"all\") (`prev') (`sens') (`spec') (`ppv') (`npv') (`roc') \n",
    "\n",
    "quietly diagt diag test if sex==1\n",
    "local prev=r(prev)\n",
    "local sens=r(sens)\n",
    "local spec=r(spec)\n",
    "local ppv=r(ppv)\n",
    "local npv=r(npv)\n",
    "local roc=r(roc)\n",
    "post `memhold' (\"Male\") (`prev') (`sens') (`spec') (`ppv') (`npv') (`roc') \n",
    "\n",
    "quietly diagt diag test if sex==0\n",
    "local prev=r(prev)\n",
    "local sens=r(sens)\n",
    "local spec=r(spec)\n",
    "local ppv=r(ppv)\n",
    "local npv=r(npv)\n",
    "local roc=r(roc)\n",
    "post `memhold' (\"Female\") (`prev') (`sens') (`spec') (`ppv') (`npv') (`roc') \n",
    "\n",
    "quietly diagt diag test if agecat==16\n",
    "local prev=r(prev)\n",
    "local sens=r(sens)\n",
    "local spec=r(spec)\n",
    "local ppv=r(ppv)\n",
    "local npv=r(npv)\n",
    "local roc=r(roc)\n",
    "post `memhold' (\"Age young\") (`prev') (`sens') (`spec') (`ppv') (`npv') (`roc') \n",
    "\n",
    "quietly diagt diag test if agecat==30\n",
    "local prev=r(prev)\n",
    "local sens=r(sens)\n",
    "local spec=r(spec)\n",
    "local ppv=r(ppv)\n",
    "local npv=r(npv)\n",
    "local roc=r(roc)\n",
    "post `memhold' (\"Age middle\") (`prev') (`sens') (`spec') (`ppv') (`npv') (`roc') \n",
    "\n",
    "quietly diagt diag test if agecat==70\n",
    "local prev=r(prev)\n",
    "local sens=r(sens)\n",
    "local spec=r(spec)\n",
    "local ppv=r(ppv)\n",
    "local npv=r(npv)\n",
    "local roc=r(roc)\n",
    "post `memhold' (\"Age elderly\") (`prev') (`sens') (`spec') (`ppv') (`npv') (`roc') \n",
    "\n",
    "\n",
    "quietly diagt diag test if yearcat==2004\n",
    "local prev=r(prev)\n",
    "local sens=r(sens)\n",
    "local spec=r(spec)\n",
    "local ppv=r(ppv)\n",
    "local npv=r(npv)\n",
    "local roc=r(roc)\n",
    "post `memhold' (\"Year 2004-2009\") (`prev') (`sens') (`spec') (`ppv') (`npv') (`roc') \n",
    "\n",
    "quietly diagt diag test if yearcat==2010\n",
    "local prev=r(prev)\n",
    "local sens=r(sens)\n",
    "local spec=r(spec)\n",
    "local ppv=r(ppv)\n",
    "local npv=r(npv)\n",
    "local roc=r(roc)\n",
    "post `memhold' (\"Year 2010-2015\") (`prev') (`sens') (`spec') (`ppv') (`npv') (`roc')\n",
    "\n",
    "quietly diagt diag test if yearcat==2016\n",
    "local prev=r(prev)\n",
    "local sens=r(sens)\n",
    "local spec=r(spec)\n",
    "local ppv=r(ppv)\n",
    "local npv=r(npv)\n",
    "local roc=r(roc)\n",
    "post `memhold' (\"Year 2016-2020\") (`prev') (`sens') (`spec') (`ppv') (`npv') (`roc') \n",
    "\n",
    "\n",
    "quietly diagt diag test if imdcat==0\n",
    "local prev=r(prev)\n",
    "local sens=r(sens)\n",
    "local spec=r(spec)\n",
    "local ppv=r(ppv)\n",
    "local npv=r(npv)\n",
    "local roc=r(roc)\n",
    "post `memhold' (\"IMD 1,3\") (`prev') (`sens') (`spec') (`ppv') (`npv') (`roc') \n",
    "\n",
    "quietly diagt diag test if imdcat==4\n",
    "local prev=r(prev)\n",
    "local sens=r(sens)\n",
    "local spec=r(spec)\n",
    "local ppv=r(ppv)\n",
    "local npv=r(npv)\n",
    "local roc=r(roc)\n",
    "post `memhold' (\"IMD 4,7\") (`prev') (`sens') (`spec') (`ppv') (`npv') (`roc') \n",
    "\n",
    "quietly diagt diag test if imdcat==8\n",
    "local prev=r(prev)\n",
    "local sens=r(sens)\n",
    "local spec=r(spec)\n",
    "local ppv=r(ppv)\n",
    "local npv=r(npv)\n",
    "local roc=r(roc)\n",
    "post `memhold' (\"IMD 8,10\") (`prev') (`sens') (`spec') (`ppv') (`npv') (`roc') \n",
    "\n",
    "\n",
    "quietly diagt diag test if regexm(region_name,\"LONDON\")==1\n",
    "local prev=r(prev)\n",
    "local sens=r(sens)\n",
    "local spec=r(spec)\n",
    "local ppv=r(ppv)\n",
    "local npv=r(npv)\n",
    "local roc=r(roc)\n",
    "post `memhold' (\"London\") (`prev') (`sens') (`spec') (`ppv') (`npv') (`roc') \n",
    "\n",
    "quietly diagt diag test if regexm(region_name,\"MID\")==1\n",
    "local prev=r(prev)\n",
    "local sens=r(sens)\n",
    "local spec=r(spec)\n",
    "local ppv=r(ppv)\n",
    "local npv=r(npv)\n",
    "local roc=r(roc)\n",
    "post `memhold' (\"Midlands\") (`prev') (`sens') (`spec') (`ppv') (`npv') (`roc') \n",
    "\n",
    "quietly diagt diag test if regexm(region_name,\"YORK\")==1\n",
    "local prev=r(prev)\n",
    "local sens=r(sens)\n",
    "local spec=r(spec)\n",
    "local ppv=r(ppv)\n",
    "local npv=r(npv)\n",
    "local roc=r(roc)\n",
    "post `memhold' (\"Yorkshire\") (`prev') (`sens') (`spec') (`ppv') (`npv') (`roc') \n",
    "\n",
    "quietly diagt diag test if regexm(region_name,\"NORTH\")==1 & regexm(region_name,\"WEST\")==1\n",
    "local prev=r(prev)\n",
    "local sens=r(sens)\n",
    "local spec=r(spec)\n",
    "local ppv=r(ppv)\n",
    "local npv=r(npv)\n",
    "local roc=r(roc)\n",
    "post `memhold' (\"North West\") (`prev') (`sens') (`spec') (`ppv') (`npv') (`roc') \n",
    "\n",
    "quietly diagt diag test if regexm(region_name,\"SOUTH\")==1 & regexm(region_name,\"EAST\")==1\n",
    "local prev=r(prev)\n",
    "local sens=r(sens)\n",
    "local spec=r(spec)\n",
    "local ppv=r(ppv)\n",
    "local npv=r(npv)\n",
    "local roc=r(roc)\n",
    "post `memhold' (\"South East\") (`prev') (`sens') (`spec') (`ppv') (`npv') (`roc') \n",
    "\n",
    "quietly diagt diag test if regexm(region_name,\"SOUTH\")==1 & regexm(region_name,\"WEST\")==1\n",
    "local prev=r(prev)\n",
    "local sens=r(sens)\n",
    "local spec=r(spec)\n",
    "local ppv=r(ppv)\n",
    "local npv=r(npv)\n",
    "local roc=r(roc)\n",
    "post `memhold' (\"South West\") (`prev') (`sens') (`spec') (`ppv') (`npv') (`roc') \n",
    "\n",
    "quietly diagt diag test if regexm(system,\"One\")==1\n",
    "local prev=r(prev)\n",
    "local sens=r(sens)\n",
    "local spec=r(spec)\n",
    "local ppv=r(ppv)\n",
    "local npv=r(npv)\n",
    "local roc=r(roc)\n",
    "post `memhold' (\"SystemOne\") (`prev') (`sens') (`spec') (`ppv') (`npv') (`roc') \n",
    "\n",
    "quietly diagt diag test if regexm(system,\"Vision\")==1\n",
    "local prev=r(prev)\n",
    "local sens=r(sens)\n",
    "local spec=r(spec)\n",
    "local ppv=r(ppv)\n",
    "local npv=r(npv)\n",
    "local roc=r(roc)\n",
    "post `memhold' (\"Vision\") (`prev') (`sens') (`spec') (`ppv') (`npv') (`roc') \n",
    "\n",
    "quietly diagt diag test if regexm(ustrupper(system),\"EMIS\")==1\n",
    "local prev=r(prev)\n",
    "local sens=r(sens)\n",
    "local spec=r(spec)\n",
    "local ppv=r(ppv)\n",
    "local npv=r(npv)\n",
    "local roc=r(roc)\n",
    "post `memhold' (\"EMIS\") (`prev') (`sens') (`spec') (`ppv') (`npv') (`roc') \n",
    "\n",
    "quietly diagt diag test if RA_index==1\n",
    "local prev=r(prev)\n",
    "local sens=r(sens)\n",
    "local spec=r(spec)\n",
    "local ppv=r(ppv)\n",
    "local npv=r(npv)\n",
    "local roc=r(roc)\n",
    "post `memhold' (\"RAIndex1\") (`prev') (`sens') (`spec') (`ppv') (`npv') (`roc') \n",
    "\n",
    "quietly diagt diag test if RA_index==0\n",
    "local prev=r(prev)\n",
    "local sens=r(sens)\n",
    "local spec=r(spec)\n",
    "local ppv=r(ppv)\n",
    "local npv=r(npv)\n",
    "local roc=r(roc)\n",
    "post `memhold' (\"RAIndex0\") (`prev') (`sens') (`spec') (`ppv') (`npv') (`roc') \n",
    "\n",
    "quietly diagt diag test if ethnicity==\"0white\"\n",
    "local prev=r(prev)\n",
    "local sens=r(sens)\n",
    "local spec=r(spec)\n",
    "local ppv=r(ppv)\n",
    "local npv=r(npv)\n",
    "local roc=r(roc)\n",
    "post `memhold' (\"Ethnicity_0white\") (`prev') (`sens') (`spec') (`ppv') (`npv') (`roc') \n",
    "\n",
    "quietly diagt diag test if ethnicity==\"Other\"\n",
    "local prev=r(prev)\n",
    "local sens=r(sens)\n",
    "local spec=r(spec)\n",
    "local ppv=r(ppv)\n",
    "local npv=r(npv)\n",
    "local roc=r(roc)\n",
    "post `memhold' (\"Ethnicity_Other\") (`prev') (`sens') (`spec') (`ppv') (`npv') (`roc') \n",
    "\n",
    "\n",
    "\n",
    "quietly diagt diag test if ethnicity==\"Missing\"\n",
    "local prev=r(prev)\n",
    "local sens=r(sens)\n",
    "local spec=r(spec)\n",
    "local ppv=r(ppv)\n",
    "local npv=r(npv)\n",
    "local roc=r(roc)\n",
    "post `memhold' (\"Ethnicity_Missing\") (`prev') (`sens') (`spec') (`ppv') (`npv') (`roc') \n",
    "\n",
    "postclose `memhold'"
   ]
  },
  {
   "cell_type": "markdown",
   "id": "b350c4fb-deb8-450a-9750-689dc3a8268e",
   "metadata": {},
   "source": [
    "### Logistic Regression\n",
    "#### PPV"
   ]
  },
  {
   "cell_type": "code",
   "execution_count": 35,
   "id": "a21415d9",
   "metadata": {},
   "outputs": [
    {
     "name": "stdout",
     "output_type": "stream",
     "text": [
      "(2,589 observations deleted)\n",
      "(9 observations deleted)\n"
     ]
    }
   ],
   "source": [
    "drop if missing(imdcat)\n",
    "drop if missing(sex)"
   ]
  },
  {
   "cell_type": "code",
   "execution_count": 36,
   "id": "ad17f02e-1d4b-48ec-8a48-1c137597db1a",
   "metadata": {},
   "outputs": [
    {
     "name": "stdout",
     "output_type": "stream",
     "text": [
      "\n",
      "Logistic regression                                    Number of obs =  19,266\n",
      "                                                       LR chi2(0)    =   -0.00\n",
      "                                                       Prob > chi2   =       .\n",
      "Log likelihood = -12171.716                            Pseudo R2     = -0.0000\n",
      "\n",
      "------------------------------------------------------------------------------\n",
      "    diag_pos |       Odds   Std. err.      z    P>|z|     [95% conf. interval]\n",
      "-------------+----------------------------------------------------------------\n",
      "       _cons |   .4850844   .0074518   -47.09   0.000     .4706967    .4999119\n",
      "------------------------------------------------------------------------------\n"
     ]
    }
   ],
   "source": [
    "logistic diag_pos if test==1"
   ]
  },
  {
   "cell_type": "code",
   "execution_count": 37,
   "id": "49e40858",
   "metadata": {},
   "outputs": [
    {
     "name": "stdout",
     "output_type": "stream",
     "text": [
      "\n",
      "Fitting fixed-effects model:\n",
      "\n",
      "Iteration 0:  Log likelihood = -11509.973  \n",
      "Iteration 1:  Log likelihood = -11499.399  \n",
      "Iteration 2:  Log likelihood = -11499.395  \n",
      "Iteration 3:  Log likelihood = -11499.395  \n",
      "\n",
      "Refining starting values:\n",
      "\n",
      "Grid node 0:  Log likelihood = -10786.476\n",
      "\n",
      "Fitting full model:\n",
      "\n",
      "Iteration 0:  Log likelihood = -10786.476  \n",
      "Iteration 1:  Log likelihood = -10772.043  \n",
      "Iteration 2:  Log likelihood = -10766.425  \n",
      "Iteration 3:  Log likelihood = -10766.385  \n",
      "Iteration 4:  Log likelihood = -10766.384  \n",
      "\n",
      "Mixed-effects logistic regression               Number of obs     =     19,199\n",
      "Group variable: practice_id                     Number of groups  =        318\n",
      "\n",
      "                                                Obs per group:\n",
      "                                                              min =          1\n",
      "                                                              avg =       60.4\n",
      "                                                              max =        493\n",
      "\n",
      "Integration method: mvaghermite                 Integration pts.  =          7\n",
      "\n",
      "                                                Wald chi2(18)     =     874.30\n",
      "Log likelihood = -10766.384                     Prob > chi2       =     0.0000\n",
      "----------------------------------------------------------------------------------------------------------------\n",
      "                                       newdiag | Odds ratio   Std. err.      z    P>|z|     [95% conf. interval]\n",
      "-----------------------------------------------+----------------------------------------------------------------\n",
      "                                   1.sex_coded |   1.242646   .0516603     5.23   0.000     1.145409    1.348138\n",
      "                                               |\n",
      "                                       yearcat |\n",
      "                                    2010-2015  |   .5517759   .0228093   -14.38   0.000     .5088336    .5983424\n",
      "                                    2016-2020  |   .3455083   .0165039   -22.25   0.000     .3146292    .3794179\n",
      "                                               |\n",
      "                                        agecat |\n",
      "                                      0Middle  |   .4504702   .0333885   -10.76   0.000     .3895612    .5209025\n",
      "                                      Elderly  |   .2820787   .0213714   -16.70   0.000      .243153    .3272358\n",
      "                                               |\n",
      "                                        region |\n",
      "                  LONDON COMMISSIONING REGION  |   2.209736   .7023881     2.49   0.013      1.18516    4.120063\n",
      "                MIDLANDS COMMISSIONING REGION  |   1.707644   .2796914     3.27   0.001     1.238742     2.35404\n",
      "NORTH EAST AND YORKSHIRE COMMISSIONING REGION  |   .7285713    .132078    -1.75   0.081     .5106969    1.039396\n",
      "              NORTH WEST COMMISSIONING REGION  |   1.836658   .3898405     2.86   0.004     1.211591      2.7842\n",
      "              SOUTH EAST COMMISSIONING REGION  |   1.046497   .1866148     0.25   0.799     .7378174    1.484318\n",
      "              SOUTH WEST COMMISSIONING REGION  |   .7319684   .1556652    -1.47   0.142     .4824699     1.11049\n",
      "                                     Scotland  |   .8633257   .2609231    -0.49   0.627     .4774367     1.56111\n",
      "                                        Wales  |    .611122    .362075    -0.83   0.406     .1913426     1.95184\n",
      "                                               |\n",
      "                                      RA_index |   1.402242   .1762647     2.69   0.007     1.096037    1.793993\n",
      "                                               |\n",
      "                                        ethnic |\n",
      "                                      Missing  |   1.032477   .0481534     0.69   0.493     .9422835    1.131304\n",
      "                                        Other  |   1.224408   .0984789     2.52   0.012     1.045837    1.433468\n",
      "                                               |\n",
      "                                        imdcat |\n",
      "                                          4-7  |   .9851615   .1301621    -0.11   0.910     .7604042    1.276352\n",
      "                                         8-10  |   1.095691   .1558895     0.64   0.521     .8290555    1.448081\n",
      "                                               |\n",
      "                                         _cons |    1.34831   .2097939     1.92   0.055     .9939049    1.829089\n",
      "-----------------------------------------------+----------------------------------------------------------------\n",
      "practice_id                                    |\n",
      "                                     var(_cons)|   .6286822   .0655544                      .5124766    .7712378\n",
      "----------------------------------------------------------------------------------------------------------------\n",
      "Note: Estimates are transformed only in the first equation to odds ratios.\n",
      "Note: _cons estimates baseline odds (conditional on zero random effects).\n",
      "LR test vs. logistic model: chibar2(01) = 1466.02     Prob >= chibar2 = 0.0000\n"
     ]
    }
   ],
   "source": [
    "gen newdiag=diag_pos\n",
    "\n",
    "melogit newdiag i.sex i.yearcat i.agecat  i.region RA_index i.ethnic i.imdcat if test==1 || practice_id:,or\n",
    "estimates store model1"
   ]
  },
  {
   "cell_type": "markdown",
   "id": "1fb85b5e",
   "metadata": {},
   "source": [
    "##### Likelihood ratio tests"
   ]
  },
  {
   "cell_type": "code",
   "execution_count": 38,
   "id": "718b2ba3-f1ac-41c9-af92-e0cb45d55985",
   "metadata": {},
   "outputs": [],
   "source": [
    "\n",
    "\n",
    "quietly: melogit newdiag i.sex i.yearcat i.agecat  i.region RA_index i.ethnic if test==1 || practice_id:,or\n",
    "estimates store model_imd\n",
    "\n",
    "quietly:melogit newdiag i.sex i.yearcat i.agecat  i.region RA_index i.imdcat if test==1 || practice_id:,or\n",
    "estimates store model_ethnicity\n",
    "\n",
    "quietly:melogit newdiag i.yearcat i.agecat  i.region RA_index i.ethnic i.imdcat if test==1 || practice_id:,or\n",
    "estimates store model_sex\n",
    "\n",
    "quietly:melogit newdiag i.sex i.agecat  i.region RA_index i.ethnic i.imdcat if test==1 || practice_id:,or\n",
    "estimates store model_year\n",
    "\n",
    "quietly: melogit newdiag i.sex i.yearcat  i.region RA_index i.ethnic i.imdcat if test==1 || practice_id:,or\n",
    "estimates store model_age\n",
    "\n"
   ]
  },
  {
   "cell_type": "code",
   "execution_count": 39,
   "id": "31887f9d",
   "metadata": {},
   "outputs": [
    {
     "name": "stdout",
     "output_type": "stream",
     "text": [
      "\n",
      "Likelihood-ratio test\n",
      "Assumption: model_sex nested within model1\n",
      "\n",
      " LR chi2(1) =  27.07\n",
      "Prob > chi2 = 0.0000\n",
      "\n",
      "Likelihood-ratio test\n",
      "Assumption: model_year nested within model1\n",
      "\n",
      " LR chi2(2) = 531.52\n",
      "Prob > chi2 = 0.0000\n",
      "\n",
      "Likelihood-ratio test\n",
      "Assumption: model_age nested within model1\n",
      "\n",
      " LR chi2(2) = 358.29\n",
      "Prob > chi2 = 0.0000\n",
      "\n",
      "Likelihood-ratio test\n",
      "Assumption: model_ethnic~y nested within model1\n",
      "\n",
      " LR chi2(2) =   6.54\n",
      "Prob > chi2 = 0.0381\n",
      "\n",
      "Likelihood-ratio test\n",
      "Assumption: model_imd nested within model1\n",
      "\n",
      " LR chi2(2) =   0.73\n",
      "Prob > chi2 = 0.6943\n"
     ]
    }
   ],
   "source": [
    "lrtest model1 model_sex\n",
    "lrtest model1 model_year\n",
    "lrtest model1 model_age\n",
    "lrtest model1 model_ethnicity\n",
    "lrtest model1 model_imd\n"
   ]
  },
  {
   "cell_type": "markdown",
   "id": "99227c99-0304-407b-a990-a06fe4bd4560",
   "metadata": {},
   "source": [
    "#### NPV"
   ]
  },
  {
   "cell_type": "code",
   "execution_count": 40,
   "id": "04c0103e-c424-49af-8973-09a13878ea3f",
   "metadata": {},
   "outputs": [
    {
     "name": "stdout",
     "output_type": "stream",
     "text": [
      "\n",
      "Logistic regression                                    Number of obs = 403,136\n",
      "                                                       LR chi2(0)    =    0.00\n",
      "                                                       Prob > chi2   =       .\n",
      "Log likelihood = -4111.9866                            Pseudo R2     =  0.0000\n",
      "\n",
      "------------------------------------------------------------------------------\n",
      "    diag_neg |       Odds   Std. err.      z    P>|z|     [95% conf. interval]\n",
      "-------------+----------------------------------------------------------------\n",
      "       _cons |   745.5481   32.10479   153.60   0.000     685.2062    811.2041\n",
      "------------------------------------------------------------------------------\n"
     ]
    }
   ],
   "source": [
    "logistic diag_neg if test==0"
   ]
  },
  {
   "cell_type": "code",
   "execution_count": 41,
   "id": "93a5b760",
   "metadata": {},
   "outputs": [
    {
     "name": "stdout",
     "output_type": "stream",
     "text": [
      "(422,402 real changes made)\n",
      "\n",
      "Fitting fixed-effects model:\n",
      "\n",
      "Iteration 0:  Log likelihood = -35390.069  \n",
      "Iteration 1:  Log likelihood = -4271.3171  \n",
      "Iteration 2:  Log likelihood = -4054.7803  \n",
      "Iteration 3:  Log likelihood =  -3919.757  \n",
      "Iteration 4:  Log likelihood = -3915.0121  \n",
      "Iteration 5:  Log likelihood = -3914.9675  \n",
      "Iteration 6:  Log likelihood = -3914.9675  \n",
      "\n",
      "Refining starting values:\n",
      "\n",
      "Grid node 0:  Log likelihood = -3923.1203\n",
      "\n",
      "Fitting full model:\n",
      "\n",
      "Iteration 0:  Log likelihood = -3923.1203  (not concave)\n",
      "Iteration 1:  Log likelihood = -3902.8767  \n",
      "Iteration 2:  Log likelihood = -3896.2308  \n",
      "Iteration 3:  Log likelihood = -3895.3286  \n",
      "Iteration 4:  Log likelihood = -3895.3231  \n",
      "Iteration 5:  Log likelihood = -3895.3231  \n",
      "\n",
      "Mixed-effects logistic regression               Number of obs     =    402,234\n",
      "Group variable: practice_id                     Number of groups  =        336\n",
      "\n",
      "                                                Obs per group:\n",
      "                                                              min =          1\n",
      "                                                              avg =    1,197.1\n",
      "                                                              max =      9,998\n",
      "\n",
      "Integration method: mvaghermite                 Integration pts.  =          7\n",
      "\n",
      "                                                Wald chi2(18)     =     270.59\n",
      "Log likelihood = -3895.3231                     Prob > chi2       =     0.0000\n",
      "----------------------------------------------------------------------------------------------------------------\n",
      "                                       newdiag | Odds ratio   Std. err.      z    P>|z|     [95% conf. interval]\n",
      "-----------------------------------------------+----------------------------------------------------------------\n",
      "                                   1.sex_coded |   2.657269   .2582966    10.05   0.000      2.19632     3.21496\n",
      "                                               |\n",
      "                                       yearcat |\n",
      "                                    2010-2015  |   .7020175   .0809982    -3.07   0.002     .5599342    .8801545\n",
      "                                    2016-2020  |   .6037993   .0720364    -4.23   0.000     .4779032    .7628609\n",
      "                                               |\n",
      "                                        agecat |\n",
      "                                      0Middle  |   .4377847   .0568873    -6.36   0.000     .3393536    .5647662\n",
      "                                      Elderly  |   .2375651   .0336838   -10.14   0.000     .1799256    .3136696\n",
      "                                               |\n",
      "                                        region |\n",
      "                  LONDON COMMISSIONING REGION  |   .5354419   .1499158    -2.23   0.026     .3093062    .9269069\n",
      "                MIDLANDS COMMISSIONING REGION  |   .8267999   .1575899    -1.00   0.318     .5690619    1.201272\n",
      "NORTH EAST AND YORKSHIRE COMMISSIONING REGION  |   1.191376   .2378181     0.88   0.380     .8056288    1.761824\n",
      "              NORTH WEST COMMISSIONING REGION  |   1.092238   .2550897     0.38   0.706     .6910681    1.726288\n",
      "              SOUTH EAST COMMISSIONING REGION  |   1.269474   .2460805     1.23   0.218     .8682064    1.856199\n",
      "              SOUTH WEST COMMISSIONING REGION  |   1.223108   .2923684     0.84   0.399     .7655897    1.954042\n",
      "                                     Scotland  |   .5596046    .226343    -1.44   0.151     .2532773    1.236421\n",
      "                                        Wales  |   3.727005   4.067938     1.21   0.228     .4388273    31.65384\n",
      "                                               |\n",
      "                                      RA_index |   .7249252   .1116452    -2.09   0.037     .5360437    .9803614\n",
      "                                               |\n",
      "                                        ethnic |\n",
      "                                      Missing  |    1.52644   .1906644     3.39   0.001     1.194973    1.949852\n",
      "                                        Other  |   .6638028   .0873077    -3.12   0.002       .51296     .859003\n",
      "                                               |\n",
      "                                        imdcat |\n",
      "                                          4-7  |   1.079311   .1674713     0.49   0.623     .7962871    1.462929\n",
      "                                         8-10  |    .806605   .1263671    -1.37   0.170     .5933447    1.096515\n",
      "                                               |\n",
      "                                         _cons |   2160.345   476.0071    34.85   0.000     1402.719    3327.174\n",
      "-----------------------------------------------+----------------------------------------------------------------\n",
      "practice_id                                    |\n",
      "                                     var(_cons)|   .2150981   .0636587                      .1204264    .3841947\n",
      "----------------------------------------------------------------------------------------------------------------\n",
      "Note: Estimates are transformed only in the first equation to odds ratios.\n",
      "Note: _cons estimates baseline odds (conditional on zero random effects).\n",
      "LR test vs. logistic model: chibar2(01) = 39.29       Prob >= chibar2 = 0.0000\n"
     ]
    }
   ],
   "source": [
    "/* need to use the same response variable (newdiag) to line up the two model results */\n",
    "replace newdiag=diag_neg \n",
    "\n",
    "melogit newdiag i.sex i.yearcat i.agecat i.region RA_index i.ethnic i.imdcat if test==0 || practice_id:,or\n",
    "estimates store model2"
   ]
  },
  {
   "cell_type": "markdown",
   "id": "60c60b7a",
   "metadata": {},
   "source": [
    "##### Likelihood ratio tests"
   ]
  },
  {
   "cell_type": "code",
   "execution_count": 42,
   "id": "c31bd1f1-c69b-4600-a1c0-bde311d67651",
   "metadata": {},
   "outputs": [],
   "source": [
    "\n",
    "quietly: melogit newdiag i.yearcat i.agecat i.region RA_index i.ethnic i.imdcat if test==0 || practice_id:,or\n",
    "estimates store model2_sex\n",
    "quietly: melogit newdiag i.sex i.agecat i.region RA_index i.ethnic i.imdcat if test==0 || practice_id:,or\n",
    "estimates store model2_year\n",
    "quietly: melogit newdiag i.sex i.yearcat i.region RA_index i.ethnic i.imdcat if test==0 || practice_id:,or\n",
    "estimates store model2_age\n",
    "quietly: melogit newdiag i.sex i.yearcat i.agecat i.region RA_index i.imdcat if test==0 || practice_id:,or\n",
    "estimates store model2_ethnicity\n",
    "quietly: melogit newdiag i.sex i.yearcat i.agecat i.region RA_index i.ethnic if test==0 || practice_id:,or\n",
    "estimates store model2_imd\n"
   ]
  },
  {
   "cell_type": "code",
   "execution_count": 43,
   "id": "95d03409",
   "metadata": {},
   "outputs": [
    {
     "name": "stdout",
     "output_type": "stream",
     "text": [
      "\n",
      "Likelihood-ratio test\n",
      "Assumption: model2_sex nested within model2\n",
      "\n",
      " LR chi2(1) = 113.27\n",
      "Prob > chi2 = 0.0000\n",
      "\n",
      "Likelihood-ratio test\n",
      "Assumption: model2_year nested within model2\n",
      "\n",
      " LR chi2(2) =  18.93\n",
      "Prob > chi2 = 0.0001\n",
      "\n",
      "Likelihood-ratio test\n",
      "Assumption: model2_age nested within model2\n",
      "\n",
      " LR chi2(2) = 113.96\n",
      "Prob > chi2 = 0.0000\n",
      "\n",
      "Likelihood-ratio test\n",
      "Assumption: model2_ethni~y nested within model2\n",
      "\n",
      " LR chi2(2) =  24.78\n",
      "Prob > chi2 = 0.0000\n",
      "\n",
      "Likelihood-ratio test\n",
      "Assumption: model2_imd nested within model2\n",
      "\n",
      " LR chi2(2) =   4.13\n",
      "Prob > chi2 = 0.1270\n"
     ]
    }
   ],
   "source": [
    "lrtest model2 model2_sex\n",
    "lrtest model2 model2_year\n",
    "lrtest model2 model2_age\n",
    "lrtest model2 model2_ethnicity\n",
    "lrtest model2 model2_imd\n"
   ]
  },
  {
   "cell_type": "code",
   "execution_count": 44,
   "id": "017939f5-75b7-4ee0-9f7b-3105e0d2bfe1",
   "metadata": {},
   "outputs": [
    {
     "name": "stdout",
     "output_type": "stream",
     "text": [
      "\n",
      "Table 2. PPV (1) and NPV (2), OR, Random effect\n",
      "-------------------------------------------------------------------\n",
      "                                                    1         2    \n",
      "-------------------------------------------------------------------\n",
      "sex_coded                                                          \n",
      "  1                                              1.24 **    2.66 **\n",
      "yearcat                                                            \n",
      "  2010-2015                                      0.55 **    0.70 **\n",
      "  2016-2020                                      0.35 **    0.60 **\n",
      "agecat                                                             \n",
      "  0Middle                                        0.45 **    0.44 **\n",
      "  Elderly                                        0.28 **    0.24 **\n",
      "region                                                             \n",
      "  LONDON COMMISSIONING REGION                    2.21 *     0.54 * \n",
      "  MIDLANDS COMMISSIONING REGION                  1.71 **    0.83   \n",
      "  NORTH EAST AND YORKSHIRE COMMISSIONING REGION  0.73       1.19   \n",
      "  NORTH WEST COMMISSIONING REGION                1.84 **    1.09   \n",
      "  SOUTH EAST COMMISSIONING REGION                1.05       1.27   \n",
      "  SOUTH WEST COMMISSIONING REGION                0.73       1.22   \n",
      "  Scotland                                       0.86       0.56   \n",
      "  Wales                                          0.61       3.73   \n",
      "RA_index                                         1.40 **    0.72 * \n",
      "ethnic                                                             \n",
      "  Missing                                        1.03       1.53 **\n",
      "  Other                                          1.22 *     0.66 **\n",
      "imdcat                                                             \n",
      "  4-7                                            0.99       1.08   \n",
      "  8-10                                           1.10       0.81   \n",
      "Intercept                                        1.35    2160.34 **\n",
      "var(_cons[practice_id])                          0.63       0.22   \n",
      "Number of observations                          19199     402234   \n",
      "-------------------------------------------------------------------\n",
      "** p<.01, * p<.05\n",
      "(collection ETable exported to file validity2.xlsx)\n"
     ]
    }
   ],
   "source": [
    "etable, estimates(model1 model2) showstars showstarsnote title(\"Table 2. PPV (1) and NPV (2),  OR, Random effect\") cstat(_r_b,nformat(%6.2f)) column(index) export(validity2.xlsx, modify sheet(reg_thyroid, replace))"
   ]
  },
  {
   "cell_type": "markdown",
   "id": "e7e9a417",
   "metadata": {},
   "source": [
    "### Summary of validation parameters"
   ]
  },
  {
   "cell_type": "code",
   "execution_count": 45,
   "id": "e27d82a4-8d2d-4529-8a15-ae4baabfa28c",
   "metadata": {},
   "outputs": [
    {
     "name": "stdout",
     "output_type": "stream",
     "text": [
      "(26 real changes made)\n",
      "(25 real changes made)\n",
      "(26 real changes made)\n",
      "(26 real changes made)\n",
      "(26 real changes made)\n",
      "(26 real changes made)\n"
     ]
    }
   ],
   "source": [
    "use validity.dta, clear\n",
    "replace prev=round(prev, 0.1)\n",
    "gen prev_a=round(((prev/100)*((sens/100)+(spec/100)-1)+1-(spec/100))*100,0.1)/*apparent prevalence*/\n",
    "replace sens=round(sens, 0.1)\n",
    "replace spec=round(spec,0.1)\n",
    "replace ppv=round(ppv, 0.1)\n",
    "replace npv=round(npv, 0.1)\n",
    "replace roc=round(roc, 0.01)\n"
   ]
  },
  {
   "cell_type": "code",
   "execution_count": 46,
   "id": "8129bfb3-cd21-4077-a785-9a74a846c65b",
   "metadata": {},
   "outputs": [
    {
     "data": {
      "text/html": [
       "<div>\n",
       "<style scoped>\n",
       "    .dataframe tbody tr th:only-of-type {\n",
       "        vertical-align: middle;\n",
       "    }\n",
       "\n",
       "    .dataframe tbody tr th {\n",
       "        vertical-align: top;\n",
       "    }\n",
       "\n",
       "    .dataframe thead th {\n",
       "        text-align: right;\n",
       "    }\n",
       "</style>\n",
       "<table border=\"1\" class=\"dataframe\">\n",
       "  <thead>\n",
       "    <tr style=\"text-align: right;\">\n",
       "      <th></th>\n",
       "      <th>var</th>\n",
       "      <th>prev</th>\n",
       "      <th>sens</th>\n",
       "      <th>spec</th>\n",
       "      <th>ppv</th>\n",
       "      <th>npv</th>\n",
       "      <th>roc</th>\n",
       "      <th>prev_a</th>\n",
       "    </tr>\n",
       "  </thead>\n",
       "  <tbody>\n",
       "    <tr>\n",
       "      <th>1</th>\n",
       "      <td>all</td>\n",
       "      <td>1.6</td>\n",
       "      <td>92</td>\n",
       "      <td>96.9</td>\n",
       "      <td>32.7</td>\n",
       "      <td>99.9</td>\n",
       "      <td>.94</td>\n",
       "      <td>4.5</td>\n",
       "    </tr>\n",
       "    <tr>\n",
       "      <th>2</th>\n",
       "      <td>Male</td>\n",
       "      <td>.7</td>\n",
       "      <td>90.2</td>\n",
       "      <td>98.7</td>\n",
       "      <td>34.8</td>\n",
       "      <td>99.9</td>\n",
       "      <td>.94</td>\n",
       "      <td>1.9</td>\n",
       "    </tr>\n",
       "    <tr>\n",
       "      <th>3</th>\n",
       "      <td>Female</td>\n",
       "      <td>2.5</td>\n",
       "      <td>92.5</td>\n",
       "      <td>95.1</td>\n",
       "      <td>32.2</td>\n",
       "      <td>99.8</td>\n",
       "      <td>.94</td>\n",
       "      <td>7.1</td>\n",
       "    </tr>\n",
       "    <tr>\n",
       "      <th>4</th>\n",
       "      <td>Age young</td>\n",
       "      <td>.5</td>\n",
       "      <td>86.8</td>\n",
       "      <td>99.6</td>\n",
       "      <td>51.4</td>\n",
       "      <td>99.9</td>\n",
       "      <td>.93</td>\n",
       "      <td>.9</td>\n",
       "    </tr>\n",
       "    <tr>\n",
       "      <th>5</th>\n",
       "      <td>Age middle</td>\n",
       "      <td>1.6</td>\n",
       "      <td>91.6</td>\n",
       "      <td>97.4</td>\n",
       "      <td>35.7</td>\n",
       "      <td>99.9</td>\n",
       "      <td>.94</td>\n",
       "      <td>4.1</td>\n",
       "    </tr>\n",
       "    <tr>\n",
       "      <th>6</th>\n",
       "      <td>Age elderly</td>\n",
       "      <td>3.2</td>\n",
       "      <td>93.8</td>\n",
       "      <td>91.9</td>\n",
       "      <td>27.8</td>\n",
       "      <td>99.8</td>\n",
       "      <td>.93</td>\n",
       "      <td>10.8</td>\n",
       "    </tr>\n",
       "    <tr>\n",
       "      <th>7</th>\n",
       "      <td>Year 2004-2009</td>\n",
       "      <td>2</td>\n",
       "      <td>95.5</td>\n",
       "      <td>97.2</td>\n",
       "      <td>41</td>\n",
       "      <td>99.9</td>\n",
       "      <td>.96</td>\n",
       "      <td>4.7</td>\n",
       "    </tr>\n",
       "    <tr>\n",
       "      <th>8</th>\n",
       "      <td>Year 2010-2015</td>\n",
       "      <td>1.5</td>\n",
       "      <td>91.1</td>\n",
       "      <td>96.8</td>\n",
       "      <td>30.9</td>\n",
       "      <td>99.9</td>\n",
       "      <td>.94</td>\n",
       "      <td>4.5</td>\n",
       "    </tr>\n",
       "    <tr>\n",
       "      <th>9</th>\n",
       "      <td>Year 2016-2020</td>\n",
       "      <td>1.2</td>\n",
       "      <td>86.5</td>\n",
       "      <td>96.7</td>\n",
       "      <td>24.2</td>\n",
       "      <td>99.8</td>\n",
       "      <td>.92</td>\n",
       "      <td>4.3</td>\n",
       "    </tr>\n",
       "    <tr>\n",
       "      <th>10</th>\n",
       "      <td>IMD 1,3</td>\n",
       "      <td>1.4</td>\n",
       "      <td>91.1</td>\n",
       "      <td>97.2</td>\n",
       "      <td>32.3</td>\n",
       "      <td>99.9</td>\n",
       "      <td>.94</td>\n",
       "      <td>4</td>\n",
       "    </tr>\n",
       "    <tr>\n",
       "      <th>11</th>\n",
       "      <td>IMD 4,7</td>\n",
       "      <td>1.7</td>\n",
       "      <td>93.8</td>\n",
       "      <td>96.4</td>\n",
       "      <td>30.8</td>\n",
       "      <td>99.9</td>\n",
       "      <td>.95</td>\n",
       "      <td>5.2</td>\n",
       "    </tr>\n",
       "    <tr>\n",
       "      <th>12</th>\n",
       "      <td>IMD 8,10</td>\n",
       "      <td>1.8</td>\n",
       "      <td>91.1</td>\n",
       "      <td>97</td>\n",
       "      <td>35.5</td>\n",
       "      <td>99.8</td>\n",
       "      <td>.94</td>\n",
       "      <td>4.6</td>\n",
       "    </tr>\n",
       "    <tr>\n",
       "      <th>13</th>\n",
       "      <td>London</td>\n",
       "      <td>1.8</td>\n",
       "      <td>78.6</td>\n",
       "      <td>98.5</td>\n",
       "      <td>49</td>\n",
       "      <td>99.6</td>\n",
       "      <td>.89</td>\n",
       "      <td>2.9</td>\n",
       "    </tr>\n",
       "    <tr>\n",
       "      <th>14</th>\n",
       "      <td>Midlands</td>\n",
       "      <td>2</td>\n",
       "      <td>92.7</td>\n",
       "      <td>97</td>\n",
       "      <td>38.9</td>\n",
       "      <td>99.8</td>\n",
       "      <td>.95</td>\n",
       "      <td>4.8</td>\n",
       "    </tr>\n",
       "    <tr>\n",
       "      <th>15</th>\n",
       "      <td>Yorkshire</td>\n",
       "      <td>1.2</td>\n",
       "      <td>90.5</td>\n",
       "      <td>97</td>\n",
       "      <td>27.6</td>\n",
       "      <td>99.9</td>\n",
       "      <td>.94</td>\n",
       "      <td>4</td>\n",
       "    </tr>\n",
       "    <tr>\n",
       "      <th>16</th>\n",
       "      <td>North West</td>\n",
       "      <td>1.8</td>\n",
       "      <td>93.4</td>\n",
       "      <td>97.9</td>\n",
       "      <td>45.6</td>\n",
       "      <td>99.9</td>\n",
       "      <td>.96</td>\n",
       "      <td>3.7</td>\n",
       "    </tr>\n",
       "    <tr>\n",
       "      <th>17</th>\n",
       "      <td>South East</td>\n",
       "      <td>1.7</td>\n",
       "      <td>93.8</td>\n",
       "      <td>97.2</td>\n",
       "      <td>35.8</td>\n",
       "      <td>99.9</td>\n",
       "      <td>.95</td>\n",
       "      <td>4.4</td>\n",
       "    </tr>\n",
       "    <tr>\n",
       "      <th>18</th>\n",
       "      <td>South West</td>\n",
       "      <td>1.6</td>\n",
       "      <td>92.9</td>\n",
       "      <td>95.7</td>\n",
       "      <td>25.4</td>\n",
       "      <td>99.9</td>\n",
       "      <td>.94</td>\n",
       "      <td>5.7</td>\n",
       "    </tr>\n",
       "    <tr>\n",
       "      <th>19</th>\n",
       "      <td>SystemOne</td>\n",
       "      <td>1.4</td>\n",
       "      <td>91.5</td>\n",
       "      <td>96.4</td>\n",
       "      <td>26.2</td>\n",
       "      <td>99.9</td>\n",
       "      <td>.94</td>\n",
       "      <td>4.9</td>\n",
       "    </tr>\n",
       "    <tr>\n",
       "      <th>20</th>\n",
       "      <td>Vision</td>\n",
       "      <td>1.3</td>\n",
       "      <td>91.4</td>\n",
       "      <td>96.4</td>\n",
       "      <td>24.7</td>\n",
       "      <td>99.9</td>\n",
       "      <td>.94</td>\n",
       "      <td>4.7</td>\n",
       "    </tr>\n",
       "    <tr>\n",
       "      <th>21</th>\n",
       "      <td>EMIS</td>\n",
       "      <td>1.9</td>\n",
       "      <td>92.5</td>\n",
       "      <td>97.6</td>\n",
       "      <td>43</td>\n",
       "      <td>99.9</td>\n",
       "      <td>.95</td>\n",
       "      <td>4.1</td>\n",
       "    </tr>\n",
       "    <tr>\n",
       "      <th>22</th>\n",
       "      <td>RAIndex1</td>\n",
       "      <td>1.6</td>\n",
       "      <td>91.6</td>\n",
       "      <td>97.1</td>\n",
       "      <td>34</td>\n",
       "      <td>99.9</td>\n",
       "      <td>.94</td>\n",
       "      <td>4.4</td>\n",
       "    </tr>\n",
       "    <tr>\n",
       "      <th>23</th>\n",
       "      <td>RAIndex0</td>\n",
       "      <td>1.6</td>\n",
       "      <td>93.4</td>\n",
       "      <td>96.4</td>\n",
       "      <td>29.2</td>\n",
       "      <td>99.9</td>\n",
       "      <td>.95</td>\n",
       "      <td>5</td>\n",
       "    </tr>\n",
       "    <tr>\n",
       "      <th>24</th>\n",
       "      <td>Ethnicity_0white</td>\n",
       "      <td>1.8</td>\n",
       "      <td>92.3</td>\n",
       "      <td>96.3</td>\n",
       "      <td>31.6</td>\n",
       "      <td>99.9</td>\n",
       "      <td>.94</td>\n",
       "      <td>5.3</td>\n",
       "    </tr>\n",
       "    <tr>\n",
       "      <th>25</th>\n",
       "      <td>Ethnicity_Other</td>\n",
       "      <td>1.2</td>\n",
       "      <td>82.6</td>\n",
       "      <td>98.5</td>\n",
       "      <td>38.4</td>\n",
       "      <td>99.8</td>\n",
       "      <td>.91</td>\n",
       "      <td>2.5</td>\n",
       "    </tr>\n",
       "    <tr>\n",
       "      <th>26</th>\n",
       "      <td>Ethnicity_Missing</td>\n",
       "      <td>1.3</td>\n",
       "      <td>94.1</td>\n",
       "      <td>97.7</td>\n",
       "      <td>34.9</td>\n",
       "      <td>99.9</td>\n",
       "      <td>.96</td>\n",
       "      <td>3.5</td>\n",
       "    </tr>\n",
       "  </tbody>\n",
       "</table>\n",
       "</div>"
      ]
     },
     "metadata": {},
     "output_type": "display_data"
    }
   ],
   "source": [
    "%head 50"
   ]
  },
  {
   "cell_type": "code",
   "execution_count": 47,
   "id": "47dc850c-f3c8-4b9c-8ba9-3620f31b4fa9",
   "metadata": {},
   "outputs": [
    {
     "name": "stdout",
     "output_type": "stream",
     "text": [
      "file validity2.xlsx saved\n"
     ]
    }
   ],
   "source": [
    "/*texsave * using test3.tex, varlabels*/\n",
    "export excel using  validity2.xlsx, sheet(val_thyroid, replace)"
   ]
  }
 ],
 "metadata": {
  "kernelspec": {
   "display_name": "Stata (nbstata)",
   "language": "stata",
   "name": "nbstata"
  },
  "language_info": {
   "file_extension": ".do",
   "mimetype": "text/x-stata",
   "name": "stata",
   "version": "17"
  }
 },
 "nbformat": 4,
 "nbformat_minor": 5
}
