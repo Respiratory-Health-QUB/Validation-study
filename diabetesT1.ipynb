{
 "cells": [
  {
   "cell_type": "markdown",
   "id": "13e469d7",
   "metadata": {},
   "source": [
    "# Validity of using prescription records to identify patient comorbidities\n",
    "## Analysis of Type 1 diabetes"
   ]
  },
  {
   "cell_type": "markdown",
   "id": "a3d5caf8",
   "metadata": {},
   "source": [
    "**ReadMe:**\n",
    "- This is a script used in the analysis for Schnier et al., 2025: Validity of using prescription records to classify disease – a record linkage study using routinely collected electronic health records from the UK.\n",
    "- The underlying data set has been created using the Optimum Patient Care Research Database (https://opcrd.optimumpatientcare.org/). The authors do not have permission to give the public access to the study dataset; researchers may request access to OPCRD for their own purposes. \n",
    " - All code is run in StataSE 18. \n"
   ]
  },
  {
   "cell_type": "markdown",
   "id": "1cf02e3e-e834-469d-abf1-21c9ce29f756",
   "metadata": {},
   "source": [
    "**Set up:**\n",
    "|Var|Input|\n",
    "| --- | --- | \n",
    "|population|425,000|\n",
    "|diagnostic codes|OpenCodelist (Snomed) and HDRUK (read)|\n",
    "|drug codes|bnf 06.01|\n",
    "|sql date|13.03.2025|\n",
    "|sql code|T1diabetesselection20250313.sql| "
   ]
  },
  {
   "cell_type": "code",
   "execution_count": 1,
   "id": "2a759161-052f-4433-ab6c-0ad7ab9120e9",
   "metadata": {},
   "outputs": [
    {
     "data": {
      "text/html": [
       "<style>div.jp-Notebook .datagrid-container {min-height: 448px; }</style>"
      ],
      "text/plain": [
       "<IPython.core.display.HTML object>"
      ]
     },
     "metadata": {},
     "output_type": "display_data"
    }
   ],
   "source": [
    "    clear all"
   ]
  },
  {
   "cell_type": "markdown",
   "id": "5e9a592b-20c3-4eb6-b947-22979a02dcf0",
   "metadata": {},
   "source": [
    "### Import from SQL server and data wrangling"
   ]
  },
  {
   "cell_type": "code",
   "execution_count": 2,
   "id": "b5b5eb32-1b5c-44c2-901c-0e9d1a4e36d2",
   "metadata": {},
   "outputs": [],
   "source": [
    "odbc load, exec(\"select * from [t1diabetes_425000_20250313]\") dsn(\"sqlserverconnect\")"
   ]
  },
  {
   "cell_type": "code",
   "execution_count": 3,
   "id": "0835f95f-a07b-4d29-b825-b3823bfad60e",
   "metadata": {
    "scrolled": true
   },
   "outputs": [
    {
     "name": "stdout",
     "output_type": "stream",
     "text": [
      "(13,614 missing values generated)\n",
      "(13,614 real changes made)\n",
      "(1,546 missing values generated)\n",
      "(1,546 real changes made)\n",
      "(2,589 missing values generated)\n",
      "variable bnf_code was str6 now str8\n",
      "(5,677 real changes made)\n",
      "variable bnf_code was str8 now str16\n",
      "(7,208 real changes made)\n",
      "(0 real changes made)\n",
      "(0 real changes made)\n",
      "variable bnf_code was str16 now str33\n",
      "(3 real changes made)\n",
      "(726 real changes made)\n",
      "variable ethnicity was str2 now str6\n",
      "(257,994 real changes made)\n",
      "(3,763 real changes made)\n",
      "(23,915 real changes made)\n",
      "(7,431 real changes made)\n",
      "(8,765 real changes made)\n",
      "variable ethnicity was str6 now str7\n",
      "(123,152 real changes made)\n"
     ]
    }
   ],
   "source": [
    "generate test=0 if missing(drug_dt)\n",
    "replace test=1 if ! missing(drug_dt)  \n",
    "\n",
    "generate diag=0 if missing(diag_dt)\n",
    "replace diag=1 if ! missing(diag_dt)  \n",
    "\n",
    "gen start_year=year(fu_start_dt)\n",
    "\n",
    "\n",
    "egen agecat = cut(age), at(16,30,70,120)\n",
    "label def agecat_lab 16 \"Young\" 30 \"0Middle\" 70 \"Elderly\" 120 \"weird\"\n",
    "label values agecat agecat_lab\n",
    "\n",
    "\n",
    "egen yearcat = cut(start_year), at(2004,2010,2016,2025)\n",
    "label def yearcat_lab 2004 \"2004-2009\" 2010 \"2010-2015\" 2016 \"2016-2020\" \n",
    "label values yearcat yearcat_lab\n",
    "\n",
    "egen imdcat = cut(imd_decile), at(0,4,8,11)\n",
    "label def imdcat_lab 0 \"1-3\" 4 \"4-7\" 8 \"8-10\" \n",
    "label values imdcat imdcat_lab\n",
    "\n",
    "\n",
    "replace bnf_code = \"Insulins\" if bnf_code== \"060101\"\n",
    "replace bnf_code = \"Insulin syringes\" if bnf_code== \"210109\"\n",
    "replace bnf_code = \"Antidiabetec drugs\" if bnf_code== \"060102\"\n",
    "replace bnf_code = \"Hypoglycaemia\" if bnf_code== \"060104\"\n",
    "replace bnf_code = \"Diagnostic and monitoring devices\" if bnf_code== \"060106\"\n",
    "replace bnf_code = \"Other/unknown\" if (missing(bnf_code) & ! missing(drug_dt))\n",
    "\n",
    "\n",
    "\n",
    "replace ethnicity=\"0white\" if ethnicity==\"1\"\n",
    "replace ethnicity=\"Other\" if ethnicity==\"2\"\n",
    "replace ethnicity=\"Other\" if ethnicity==\"3\"\n",
    "replace ethnicity=\"Other\" if ethnicity==\"4\"\n",
    "replace ethnicity=\"Other\" if ethnicity==\"5\"\n",
    "replace ethnicity=\"Missing\" if ethnicity==\"99\"\n",
    "\n",
    "\n",
    "\n",
    "\n",
    "encode bnf_code, generate(bnf_code_values) \n",
    "encode description, generate(description_values)\n",
    "encode ethnicity, generate(ethnicity_values) \n",
    "\n",
    "gen diag_neg=diag==0\n",
    "gen diag_pos=diag==1\n",
    "encode region_name, generate(region) label(regionlbl)\n",
    "encode ethnicity, generate(ethnic)"
   ]
  },
  {
   "cell_type": "code",
   "execution_count": 4,
   "id": "4bb67b58-5460-4077-bd5d-6252a35d7c1e",
   "metadata": {},
   "outputs": [
    {
     "name": "stdout",
     "output_type": "stream",
     "text": [
      "(bin=19, start=16, width=5)\n"
     ]
    },
    {
     "data": {
      "image/png": "[encoded data removed]",
      "text/plain": [
       "<IPython.core.display.Image object>"
      ]
     },
     "metadata": {},
     "output_type": "display_data"
    }
   ],
   "source": [
    "histogram age, width(5)\n"
   ]
  },
  {
   "cell_type": "markdown",
   "id": "cfdd2c1f-86b9-4840-8106-662ce151f20e",
   "metadata": {},
   "source": [
    "This table holds one randomly selected diagnostic code found during the observation period. The table is truncated to only include diagnostic codes with a count of 10 or more."
   ]
  },
  {
   "cell_type": "code",
   "execution_count": 5,
   "id": "6544a018-204b-4fcb-b5ab-d9ec745e764f",
   "metadata": {},
   "outputs": [
    {
     "name": "stdout",
     "output_type": "stream",
     "text": [
      "\n",
      "  +----------------------------------------------------------------------------------------+\n",
      "  |                                                  description   Freq.   Percent     %<= |\n",
      "  |----------------------------------------------------------------------------------------|\n",
      "  |                                     Diabetes mellitus type 1     560     36.22   36.22 |\n",
      "  |                                     Type I diabetes mellitus     501     32.41   68.63 |\n",
      "  |                               Type I diabetic dietary review     224     14.49   83.12 |\n",
      "  |                                       Diabetes type 1 review      99      6.40   89.52 |\n",
      "  |                          History of diabetes mellitus type 1      24      1.55   91.07 |\n",
      "  |----------------------------------------------------------------------------------------|\n",
      "  |                                H/O: diabetes mellitus type 1      21      1.36   92.43 |\n",
      "  |   Referral to type I diabetes structured education programme      15      0.97   93.40 |\n",
      "  | Diabetes mellitus, juvenile type, no mention of complication      11      0.71   94.11 |\n",
      "  |                  Continuous subcutaneous infusion of insulin      10      0.65   94.76 |\n",
      "  +----------------------------------------------------------------------------------------+\n"
     ]
    }
   ],
   "source": [
    "set linesize 132\n",
    "groups description , select(f >= 10) ord(h) table "
   ]
  },
  {
   "cell_type": "markdown",
   "id": "7d01eb90-5ca1-4146-aafb-680a81450cc3",
   "metadata": {},
   "source": [
    "These tables holds one randomly selected prescrption during the observation period. The table is truncated to only include codes with a count of 10 or more.\n"
   ]
  },
  {
   "cell_type": "code",
   "execution_count": 6,
   "id": "a4acd83f-5b6a-49e7-8b49-5dc1f78f2d1a",
   "metadata": {},
   "outputs": [
    {
     "name": "stdout",
     "output_type": "stream",
     "text": [
      "\n",
      "  +--------------------------------------------+\n",
      "  |         bnf_code   Freq.   Percent     %<= |\n",
      "  |--------------------------------------------|\n",
      "  | Insulin syringes    7208     52.95   52.95 |\n",
      "  |         Insulins    5677     41.70   94.65 |\n",
      "  |    Other/unknown     726      5.33   99.98 |\n",
      "  +--------------------------------------------+\n"
     ]
    }
   ],
   "source": [
    "set linesize 132\n",
    "groups bnf_code , select(f >= 10) ord(h) table "
   ]
  },
  {
   "cell_type": "markdown",
   "id": "67837c2c-bbb5-4681-8000-cd8b3f6cac51",
   "metadata": {},
   "source": [
    "### Results\n",
    "#### Overall"
   ]
  },
  {
   "cell_type": "code",
   "execution_count": 7,
   "id": "733c0f2e-1179-49dc-b95d-48547a864674",
   "metadata": {},
   "outputs": [
    {
     "name": "stdout",
     "output_type": "stream",
     "text": [
      "\n",
      "           |         test\n",
      "      diag |      Pos.       Neg. |     Total\n",
      "-----------+----------------------+----------\n",
      "  Abnormal |     1,451         95 |     1,546 \n",
      "    Normal |    12,163    411,311 |   423,474 \n",
      "-----------+----------------------+----------\n",
      "     Total |    13,614    411,406 |   425,020 \n",
      "True abnormal diagnosis defined as diag = 1\n",
      "\n",
      "\n",
      "                                                  [95% Confidence Interval]\n",
      "---------------------------------------------------------------------------\n",
      "Prevalence                         Pr(A)      0.4%      0.3%       0.4%\n",
      "---------------------------------------------------------------------------\n",
      "Sensitivity                      Pr(+|A)     93.9%     92.5%     95.0%\n",
      "Specificity                      Pr(-|N)     97.1%     97.1%     97.2%\n",
      "ROC area               (Sens. + Spec.)/2      0.95      0.95      0.96 \n",
      "---------------------------------------------------------------------------\n",
      "Likelihood ratio (+)     Pr(+|A)/Pr(+|N)     32.68     31.98     33.39 \n",
      "Likelihood ratio (-)     Pr(-|A)/Pr(-|N)      0.06      0.05      0.08 \n",
      "Odds ratio                   LR(+)/LR(-)    516.50    419.52    635.91 \n",
      "Positive predictive value        Pr(A|+)     10.7%     10.1%     11.2% \n",
      "Negative predictive value        Pr(N|-)    100.0%    100.0%    100.0% \n",
      "---------------------------------------------------------------------------\n"
     ]
    }
   ],
   "source": [
    "diagt diag test"
   ]
  },
  {
   "cell_type": "markdown",
   "id": "b119ffa3-90d8-4e4f-9f8d-30cca2284b37",
   "metadata": {},
   "source": [
    "#### Males"
   ]
  },
  {
   "cell_type": "code",
   "execution_count": 8,
   "id": "81028f5e-4e7a-4bb4-b0f6-71d8d0821075",
   "metadata": {},
   "outputs": [
    {
     "name": "stdout",
     "output_type": "stream",
     "text": [
      "\n",
      "           |         test\n",
      "      diag |      Pos.       Neg. |     Total\n",
      "-----------+----------------------+----------\n",
      "  Abnormal |       820         50 |       870 \n",
      "    Normal |     6,527    200,899 |   207,426 \n",
      "-----------+----------------------+----------\n",
      "     Total |     7,347    200,949 |   208,296 \n",
      "True abnormal diagnosis defined as diag = 1\n",
      "\n",
      "\n",
      "                                                  [95% Confidence Interval]\n",
      "---------------------------------------------------------------------------\n",
      "Prevalence                         Pr(A)      0.4%      0.4%       0.4%\n",
      "---------------------------------------------------------------------------\n",
      "Sensitivity                      Pr(+|A)     94.3%     92.5%     95.7%\n",
      "Specificity                      Pr(-|N)     96.9%     96.8%     96.9%\n",
      "ROC area               (Sens. + Spec.)/2      0.96      0.95      0.96 \n",
      "---------------------------------------------------------------------------\n",
      "Likelihood ratio (+)     Pr(+|A)/Pr(+|N)     29.95     29.10     30.83 \n",
      "Likelihood ratio (-)     Pr(-|A)/Pr(-|N)      0.06      0.05      0.08 \n",
      "Odds ratio                   LR(+)/LR(-)    504.79    379.38    671.65 \n",
      "Positive predictive value        Pr(A|+)     11.2%     10.4%     11.9% \n",
      "Negative predictive value        Pr(N|-)    100.0%    100.0%    100.0% \n",
      "---------------------------------------------------------------------------\n"
     ]
    }
   ],
   "source": [
    "diagt diag test if sex==1"
   ]
  },
  {
   "cell_type": "markdown",
   "id": "762df1ac-de32-43e9-8cb3-6696c91e2459",
   "metadata": {},
   "source": [
    "#### Females"
   ]
  },
  {
   "cell_type": "code",
   "execution_count": 9,
   "id": "7fc985e3-7757-4908-ae5a-5d346ee7ccb6",
   "metadata": {},
   "outputs": [
    {
     "name": "stdout",
     "output_type": "stream",
     "text": [
      "\n",
      "           |         test\n",
      "      diag |      Pos.       Neg. |     Total\n",
      "-----------+----------------------+----------\n",
      "  Abnormal |       631         45 |       676 \n",
      "    Normal |     5,636    210,403 |   216,039 \n",
      "-----------+----------------------+----------\n",
      "     Total |     6,267    210,448 |   216,715 \n",
      "True abnormal diagnosis defined as diag = 1\n",
      "\n",
      "\n",
      "                                                  [95% Confidence Interval]\n",
      "---------------------------------------------------------------------------\n",
      "Prevalence                         Pr(A)      0.3%      0.3%       0.3%\n",
      "---------------------------------------------------------------------------\n",
      "Sensitivity                      Pr(+|A)     93.3%     91.2%     95.1%\n",
      "Specificity                      Pr(-|N)     97.4%     97.3%     97.5%\n",
      "ROC area               (Sens. + Spec.)/2      0.95      0.94      0.96 \n",
      "---------------------------------------------------------------------------\n",
      "Likelihood ratio (+)     Pr(+|A)/Pr(+|N)     35.78     34.63     36.97 \n",
      "Likelihood ratio (-)     Pr(-|A)/Pr(-|N)      0.07      0.05      0.09 \n",
      "Odds ratio                   LR(+)/LR(-)    523.48    386.86    708.33 \n",
      "Positive predictive value        Pr(A|+)     10.1%      9.3%     10.8% \n",
      "Negative predictive value        Pr(N|-)    100.0%    100.0%    100.0% \n",
      "---------------------------------------------------------------------------\n"
     ]
    }
   ],
   "source": [
    "diagt diag test if sex==0"
   ]
  },
  {
   "cell_type": "markdown",
   "id": "ab8954a7-060c-4eba-adea-1044fb6bb9ea",
   "metadata": {},
   "source": [
    "#### Age\n",
    "*16-30*"
   ]
  },
  {
   "cell_type": "code",
   "execution_count": 10,
   "id": "f9aa943b-6489-4d70-a905-4aa3b8f2cb6e",
   "metadata": {},
   "outputs": [
    {
     "name": "stdout",
     "output_type": "stream",
     "text": [
      "\n",
      "           |         test\n",
      "      diag |      Pos.       Neg. |     Total\n",
      "-----------+----------------------+----------\n",
      "  Abnormal |       333         10 |       343 \n",
      "    Normal |       614    116,721 |   117,335 \n",
      "-----------+----------------------+----------\n",
      "     Total |       947    116,731 |   117,678 \n",
      "True abnormal diagnosis defined as diag = 1\n",
      "\n",
      "\n",
      "                                                  [95% Confidence Interval]\n",
      "---------------------------------------------------------------------------\n",
      "Prevalence                         Pr(A)      0.3%      0.3%       0.3%\n",
      "---------------------------------------------------------------------------\n",
      "Sensitivity                      Pr(+|A)     97.1%     94.7%     98.6%\n",
      "Specificity                      Pr(-|N)     99.5%     99.4%     99.5%\n",
      "ROC area               (Sens. + Spec.)/2      0.98      0.97      0.99 \n",
      "---------------------------------------------------------------------------\n",
      "Likelihood ratio (+)     Pr(+|A)/Pr(+|N)    185.53    171.09    201.18 \n",
      "Likelihood ratio (-)     Pr(-|A)/Pr(-|N)      0.03      0.02      0.05 \n",
      "Odds ratio                   LR(+)/LR(-)   6330.31    3391.86 11813.88 \n",
      "Positive predictive value        Pr(A|+)     35.2%     32.1%     38.3% \n",
      "Negative predictive value        Pr(N|-)    100.0%    100.0%    100.0% \n",
      "---------------------------------------------------------------------------\n"
     ]
    }
   ],
   "source": [
    "diagt diag test if agecat==16"
   ]
  },
  {
   "cell_type": "markdown",
   "id": "999f9154-f87e-44c7-8928-1345fa5c5958",
   "metadata": {},
   "source": [
    "*30-69*"
   ]
  },
  {
   "cell_type": "code",
   "execution_count": 11,
   "id": "6fcb0167-b359-4f24-91e3-a10fb2caa610",
   "metadata": {},
   "outputs": [
    {
     "name": "stdout",
     "output_type": "stream",
     "text": [
      "\n",
      "           |         test\n",
      "      diag |      Pos.       Neg. |     Total\n",
      "-----------+----------------------+----------\n",
      "  Abnormal |       865         45 |       910 \n",
      "    Normal |     6,662    213,834 |   220,496 \n",
      "-----------+----------------------+----------\n",
      "     Total |     7,527    213,879 |   221,406 \n",
      "True abnormal diagnosis defined as diag = 1\n",
      "\n",
      "\n",
      "                                                  [95% Confidence Interval]\n",
      "---------------------------------------------------------------------------\n",
      "Prevalence                         Pr(A)      0.4%      0.4%       0.4%\n",
      "---------------------------------------------------------------------------\n",
      "Sensitivity                      Pr(+|A)     95.1%     93.4%     96.4%\n",
      "Specificity                      Pr(-|N)     97.0%     96.9%     97.0%\n",
      "ROC area               (Sens. + Spec.)/2      0.96      0.95      0.97 \n",
      "---------------------------------------------------------------------------\n",
      "Likelihood ratio (+)     Pr(+|A)/Pr(+|N)     31.46     30.60     32.35 \n",
      "Likelihood ratio (-)     Pr(-|A)/Pr(-|N)      0.05      0.04      0.07 \n",
      "Odds ratio                   LR(+)/LR(-)    616.99    457.28    832.47 \n",
      "Positive predictive value        Pr(A|+)     11.5%     10.8%     12.2% \n",
      "Negative predictive value        Pr(N|-)    100.0%    100.0%    100.0% \n",
      "---------------------------------------------------------------------------\n"
     ]
    }
   ],
   "source": [
    "diagt diag test if agecat==30"
   ]
  },
  {
   "cell_type": "markdown",
   "id": "10d9753a",
   "metadata": {},
   "source": [
    "*>69*"
   ]
  },
  {
   "cell_type": "code",
   "execution_count": 12,
   "id": "fd782079-4378-4cc3-9a2c-4adb92379d41",
   "metadata": {},
   "outputs": [
    {
     "name": "stdout",
     "output_type": "stream",
     "text": [
      "\n",
      "           |         test\n",
      "      diag |      Pos.       Neg. |     Total\n",
      "-----------+----------------------+----------\n",
      "  Abnormal |       253         40 |       293 \n",
      "    Normal |     4,887     80,756 |    85,643 \n",
      "-----------+----------------------+----------\n",
      "     Total |     5,140     80,796 |    85,936 \n",
      "True abnormal diagnosis defined as diag = 1\n",
      "\n",
      "\n",
      "                                                  [95% Confidence Interval]\n",
      "---------------------------------------------------------------------------\n",
      "Prevalence                         Pr(A)      0.3%      0.3%       0.4%\n",
      "---------------------------------------------------------------------------\n",
      "Sensitivity                      Pr(+|A)     86.3%     81.9%     90.1%\n",
      "Specificity                      Pr(-|N)     94.3%     94.1%     94.4%\n",
      "ROC area               (Sens. + Spec.)/2      0.90      0.88      0.92 \n",
      "---------------------------------------------------------------------------\n",
      "Likelihood ratio (+)     Pr(+|A)/Pr(+|N)     15.13     14.35     15.96 \n",
      "Likelihood ratio (-)     Pr(-|A)/Pr(-|N)      0.14      0.11      0.19 \n",
      "Odds ratio                   LR(+)/LR(-)    104.52     74.90    145.85 \n",
      "Positive predictive value        Pr(A|+)      4.9%      4.3%      5.5% \n",
      "Negative predictive value        Pr(N|-)    100.0%     99.9%    100.0% \n",
      "---------------------------------------------------------------------------\n"
     ]
    }
   ],
   "source": [
    "diagt diag test if agecat==70"
   ]
  },
  {
   "cell_type": "markdown",
   "id": "23455479-0f98-4886-a36c-770376084911",
   "metadata": {},
   "source": [
    "#### Year at start of oberservation period \n",
    "*2004-2009*"
   ]
  },
  {
   "cell_type": "code",
   "execution_count": 13,
   "id": "9c58ecee-bd42-47a9-ad46-f51305e689bf",
   "metadata": {},
   "outputs": [
    {
     "name": "stdout",
     "output_type": "stream",
     "text": [
      "\n",
      "           |         test\n",
      "      diag |      Pos.       Neg. |     Total\n",
      "-----------+----------------------+----------\n",
      "  Abnormal |       403         26 |       429 \n",
      "    Normal |     4,402    145,175 |   149,577 \n",
      "-----------+----------------------+----------\n",
      "     Total |     4,805    145,201 |   150,006 \n",
      "True abnormal diagnosis defined as diag = 1\n",
      "\n",
      "\n",
      "                                                  [95% Confidence Interval]\n",
      "---------------------------------------------------------------------------\n",
      "Prevalence                         Pr(A)      0.3%      0.3%       0.3%\n",
      "---------------------------------------------------------------------------\n",
      "Sensitivity                      Pr(+|A)     93.9%     91.2%     96.0%\n",
      "Specificity                      Pr(-|N)     97.1%     97.0%     97.1%\n",
      "ROC area               (Sens. + Spec.)/2      0.95      0.94      0.97 \n",
      "---------------------------------------------------------------------------\n",
      "Likelihood ratio (+)     Pr(+|A)/Pr(+|N)     31.92     30.74     33.15 \n",
      "Likelihood ratio (-)     Pr(-|A)/Pr(-|N)      0.06      0.04      0.09 \n",
      "Odds ratio                   LR(+)/LR(-)    511.18    344.32    758.91 \n",
      "Positive predictive value        Pr(A|+)      8.4%      7.6%      9.2% \n",
      "Negative predictive value        Pr(N|-)    100.0%    100.0%    100.0% \n",
      "---------------------------------------------------------------------------\n"
     ]
    }
   ],
   "source": [
    "diagt diag test if yearcat==2004"
   ]
  },
  {
   "cell_type": "markdown",
   "id": "d9f3db50-6898-4b47-81ef-4ea609bb28d8",
   "metadata": {},
   "source": [
    "*2010-2015*"
   ]
  },
  {
   "cell_type": "code",
   "execution_count": 14,
   "id": "6b326410-d900-498f-b736-4ced1ea7fa5d",
   "metadata": {},
   "outputs": [
    {
     "name": "stdout",
     "output_type": "stream",
     "text": [
      "\n",
      "           |         test\n",
      "      diag |      Pos.       Neg. |     Total\n",
      "-----------+----------------------+----------\n",
      "  Abnormal |       552         36 |       588 \n",
      "    Normal |     4,140    145,278 |   149,418 \n",
      "-----------+----------------------+----------\n",
      "     Total |     4,692    145,314 |   150,006 \n",
      "True abnormal diagnosis defined as diag = 1\n",
      "\n",
      "\n",
      "                                                  [95% Confidence Interval]\n",
      "---------------------------------------------------------------------------\n",
      "Prevalence                         Pr(A)      0.4%      0.4%       0.4%\n",
      "---------------------------------------------------------------------------\n",
      "Sensitivity                      Pr(+|A)     93.9%     91.6%     95.7%\n",
      "Specificity                      Pr(-|N)     97.2%     97.1%     97.3%\n",
      "ROC area               (Sens. + Spec.)/2      0.96      0.95      0.97 \n",
      "---------------------------------------------------------------------------\n",
      "Likelihood ratio (+)     Pr(+|A)/Pr(+|N)     33.88     32.67     35.14 \n",
      "Likelihood ratio (-)     Pr(-|A)/Pr(-|N)      0.06      0.05      0.09 \n",
      "Odds ratio                   LR(+)/LR(-)    538.07    384.14    753.67 \n",
      "Positive predictive value        Pr(A|+)     11.8%     10.9%     12.7% \n",
      "Negative predictive value        Pr(N|-)    100.0%    100.0%    100.0% \n",
      "---------------------------------------------------------------------------\n"
     ]
    }
   ],
   "source": [
    "diagt diag test if yearcat==2010"
   ]
  },
  {
   "cell_type": "markdown",
   "id": "1546a4d9-adee-4208-88e0-3b6aa4d3d14c",
   "metadata": {},
   "source": [
    "*2016-2020*"
   ]
  },
  {
   "cell_type": "code",
   "execution_count": 15,
   "id": "dddfe5ba-1a16-4afc-91e5-cbffb4f25b77",
   "metadata": {},
   "outputs": [
    {
     "name": "stdout",
     "output_type": "stream",
     "text": [
      "\n",
      "           |         test\n",
      "      diag |      Pos.       Neg. |     Total\n",
      "-----------+----------------------+----------\n",
      "  Abnormal |       496         33 |       529 \n",
      "    Normal |     3,621    120,858 |   124,479 \n",
      "-----------+----------------------+----------\n",
      "     Total |     4,117    120,891 |   125,008 \n",
      "True abnormal diagnosis defined as diag = 1\n",
      "\n",
      "\n",
      "                                                  [95% Confidence Interval]\n",
      "---------------------------------------------------------------------------\n",
      "Prevalence                         Pr(A)      0.4%      0.4%       0.5%\n",
      "---------------------------------------------------------------------------\n",
      "Sensitivity                      Pr(+|A)     93.8%     91.4%     95.7%\n",
      "Specificity                      Pr(-|N)     97.1%     97.0%     97.2%\n",
      "ROC area               (Sens. + Spec.)/2      0.95      0.94      0.96 \n",
      "---------------------------------------------------------------------------\n",
      "Likelihood ratio (+)     Pr(+|A)/Pr(+|N)     32.23     31.00     33.51 \n",
      "Likelihood ratio (-)     Pr(-|A)/Pr(-|N)      0.06      0.05      0.09 \n",
      "Odds ratio                   LR(+)/LR(-)    501.67    352.78    713.39 \n",
      "Positive predictive value        Pr(A|+)     12.0%     11.1%     13.1% \n",
      "Negative predictive value        Pr(N|-)    100.0%    100.0%    100.0% \n",
      "---------------------------------------------------------------------------\n"
     ]
    }
   ],
   "source": [
    "diagt diag test if yearcat==2016"
   ]
  },
  {
   "cell_type": "markdown",
   "id": "9318e823-cf06-4695-a86c-8b96ace454c5",
   "metadata": {},
   "source": [
    "#### IMD of practice\n",
    "*1-3*"
   ]
  },
  {
   "cell_type": "code",
   "execution_count": 16,
   "id": "0c48ed3a-ce83-4c14-9447-6c52d4d82ed3",
   "metadata": {},
   "outputs": [
    {
     "name": "stdout",
     "output_type": "stream",
     "text": [
      "\n",
      "           |         test\n",
      "      diag |      Pos.       Neg. |     Total\n",
      "-----------+----------------------+----------\n",
      "  Abnormal |       511         51 |       562 \n",
      "    Normal |     5,129    148,867 |   153,996 \n",
      "-----------+----------------------+----------\n",
      "     Total |     5,640    148,918 |   154,558 \n",
      "True abnormal diagnosis defined as diag = 1\n",
      "\n",
      "\n",
      "                                                  [95% Confidence Interval]\n",
      "---------------------------------------------------------------------------\n",
      "Prevalence                         Pr(A)      0.4%      0.3%       0.4%\n",
      "---------------------------------------------------------------------------\n",
      "Sensitivity                      Pr(+|A)     90.9%     88.2%     93.2%\n",
      "Specificity                      Pr(-|N)     96.7%     96.6%     96.8%\n",
      "ROC area               (Sens. + Spec.)/2      0.94      0.93      0.95 \n",
      "---------------------------------------------------------------------------\n",
      "Likelihood ratio (+)     Pr(+|A)/Pr(+|N)     27.30     26.30     28.34 \n",
      "Likelihood ratio (-)     Pr(-|A)/Pr(-|N)      0.09      0.07      0.12 \n",
      "Odds ratio                   LR(+)/LR(-)    290.81    218.00    387.94 \n",
      "Positive predictive value        Pr(A|+)      9.1%      8.3%      9.8% \n",
      "Negative predictive value        Pr(N|-)    100.0%    100.0%    100.0% \n",
      "---------------------------------------------------------------------------\n"
     ]
    }
   ],
   "source": [
    "diagt diag test if imdcat==0"
   ]
  },
  {
   "cell_type": "markdown",
   "id": "cc20d8e3-26a9-4217-989b-54c2c73d0386",
   "metadata": {},
   "source": [
    "*4-7*"
   ]
  },
  {
   "cell_type": "code",
   "execution_count": 17,
   "id": "2f034372-ceb8-4f41-bd39-9d6ef321a64a",
   "metadata": {},
   "outputs": [
    {
     "name": "stdout",
     "output_type": "stream",
     "text": [
      "\n",
      "           |         test\n",
      "      diag |      Pos.       Neg. |     Total\n",
      "-----------+----------------------+----------\n",
      "  Abnormal |       534         28 |       562 \n",
      "    Normal |     4,044    138,449 |   142,493 \n",
      "-----------+----------------------+----------\n",
      "     Total |     4,578    138,477 |   143,055 \n",
      "True abnormal diagnosis defined as diag = 1\n",
      "\n",
      "\n",
      "                                                  [95% Confidence Interval]\n",
      "---------------------------------------------------------------------------\n",
      "Prevalence                         Pr(A)      0.4%      0.4%       0.4%\n",
      "---------------------------------------------------------------------------\n",
      "Sensitivity                      Pr(+|A)     95.0%     92.9%     96.7%\n",
      "Specificity                      Pr(-|N)     97.2%     97.1%     97.2%\n",
      "ROC area               (Sens. + Spec.)/2      0.96      0.95      0.97 \n",
      "---------------------------------------------------------------------------\n",
      "Likelihood ratio (+)     Pr(+|A)/Pr(+|N)     33.48     32.30     34.70 \n",
      "Likelihood ratio (-)     Pr(-|A)/Pr(-|N)      0.05      0.04      0.07 \n",
      "Odds ratio                   LR(+)/LR(-)    652.92    446.95    953.82 \n",
      "Positive predictive value        Pr(A|+)     11.7%     10.7%     12.6% \n",
      "Negative predictive value        Pr(N|-)    100.0%    100.0%    100.0% \n",
      "---------------------------------------------------------------------------\n"
     ]
    }
   ],
   "source": [
    "diagt diag test if imdcat==4"
   ]
  },
  {
   "cell_type": "markdown",
   "id": "a843bc14-ff1a-4435-a50c-c9769b8c3d3b",
   "metadata": {},
   "source": [
    "*8-10*"
   ]
  },
  {
   "cell_type": "code",
   "execution_count": 18,
   "id": "e52a500d-f3cf-4da6-997c-bbc1e902d199",
   "metadata": {},
   "outputs": [
    {
     "name": "stdout",
     "output_type": "stream",
     "text": [
      "\n",
      "           |         test\n",
      "      diag |      Pos.       Neg. |     Total\n",
      "-----------+----------------------+----------\n",
      "  Abnormal |       401         16 |       417 \n",
      "    Normal |     2,985    121,416 |   124,401 \n",
      "-----------+----------------------+----------\n",
      "     Total |     3,386    121,432 |   124,818 \n",
      "True abnormal diagnosis defined as diag = 1\n",
      "\n",
      "\n",
      "                                                  [95% Confidence Interval]\n",
      "---------------------------------------------------------------------------\n",
      "Prevalence                         Pr(A)      0.3%      0.3%       0.4%\n",
      "---------------------------------------------------------------------------\n",
      "Sensitivity                      Pr(+|A)     96.2%     93.8%     97.8%\n",
      "Specificity                      Pr(-|N)     97.6%     97.5%     97.7%\n",
      "ROC area               (Sens. + Spec.)/2      0.97      0.96      0.98 \n",
      "---------------------------------------------------------------------------\n",
      "Likelihood ratio (+)     Pr(+|A)/Pr(+|N)     40.08     38.49     41.72 \n",
      "Likelihood ratio (-)     Pr(-|A)/Pr(-|N)      0.04      0.02      0.06 \n",
      "Odds ratio                   LR(+)/LR(-)   1019.43    620.85   1673.89 \n",
      "Positive predictive value        Pr(A|+)     11.8%     10.8%     13.0% \n",
      "Negative predictive value        Pr(N|-)    100.0%    100.0%    100.0% \n",
      "---------------------------------------------------------------------------\n"
     ]
    }
   ],
   "source": [
    "diagt diag test if imdcat==8"
   ]
  },
  {
   "cell_type": "markdown",
   "id": "cbbde183-5b60-4618-a548-81135cae76a0",
   "metadata": {},
   "source": [
    "#### Commissioning Regions\n",
    "EAST OF ENGLAND"
   ]
  },
  {
   "cell_type": "code",
   "execution_count": 19,
   "id": "1254da50-3ca4-47a1-b4d8-e07c6d920177",
   "metadata": {},
   "outputs": [
    {
     "name": "stdout",
     "output_type": "stream",
     "text": [
      "\n",
      "           |         test\n",
      "      diag |      Pos.       Neg. |     Total\n",
      "-----------+----------------------+----------\n",
      "  Abnormal |       359         32 |       391 \n",
      "    Normal |     2,951     86,305 |    89,256 \n",
      "-----------+----------------------+----------\n",
      "     Total |     3,310     86,337 |    89,647 \n",
      "True abnormal diagnosis defined as diag = 1\n",
      "\n",
      "\n",
      "                                                  [95% Confidence Interval]\n",
      "---------------------------------------------------------------------------\n",
      "Prevalence                         Pr(A)      0.4%      0.4%       0.5%\n",
      "---------------------------------------------------------------------------\n",
      "Sensitivity                      Pr(+|A)     91.8%     88.6%     94.3%\n",
      "Specificity                      Pr(-|N)     96.7%     96.6%     96.8%\n",
      "ROC area               (Sens. + Spec.)/2      0.94      0.93      0.96 \n",
      "---------------------------------------------------------------------------\n",
      "Likelihood ratio (+)     Pr(+|A)/Pr(+|N)     27.77     26.52     29.08 \n",
      "Likelihood ratio (-)     Pr(-|A)/Pr(-|N)      0.08      0.06      0.12 \n",
      "Odds ratio                   LR(+)/LR(-)    328.10    228.57    470.98 \n",
      "Positive predictive value        Pr(A|+)     10.8%      9.8%     12.0% \n",
      "Negative predictive value        Pr(N|-)    100.0%     99.9%    100.0% \n",
      "---------------------------------------------------------------------------\n"
     ]
    }
   ],
   "source": [
    "diagt diag test if regexm(region_name,\"ENGLAND\")==1"
   ]
  },
  {
   "cell_type": "markdown",
   "id": "b2f2b2c7-4c3b-4ae5-ad03-8edfbc58938d",
   "metadata": {},
   "source": [
    "London"
   ]
  },
  {
   "cell_type": "code",
   "execution_count": 20,
   "id": "18195511-cedc-42b1-8bae-bc6621364814",
   "metadata": {},
   "outputs": [
    {
     "name": "stdout",
     "output_type": "stream",
     "text": [
      "\n",
      "           |         test\n",
      "      diag |      Pos.       Neg. |     Total\n",
      "-----------+----------------------+----------\n",
      "  Abnormal |        45          1 |        46 \n",
      "    Normal |       202     16,477 |    16,679 \n",
      "-----------+----------------------+----------\n",
      "     Total |       247     16,478 |    16,725 \n",
      "True abnormal diagnosis defined as diag = 1\n",
      "\n",
      "\n",
      "                                                  [95% Confidence Interval]\n",
      "---------------------------------------------------------------------------\n",
      "Prevalence                         Pr(A)      0.3%      0.2%       0.4%\n",
      "---------------------------------------------------------------------------\n",
      "Sensitivity                      Pr(+|A)     97.8%     88.5%     99.9%\n",
      "Specificity                      Pr(-|N)     98.8%     98.6%     98.9%\n",
      "ROC area               (Sens. + Spec.)/2      0.98      0.96      1.00 \n",
      "---------------------------------------------------------------------------\n",
      "Likelihood ratio (+)     Pr(+|A)/Pr(+|N)     80.77     69.96     93.25 \n",
      "Likelihood ratio (-)     Pr(-|A)/Pr(-|N)      0.02      0.00      0.15 \n",
      "Odds ratio                   LR(+)/LR(-)   3670.62    634.89         . \n",
      "Positive predictive value        Pr(A|+)     18.2%     13.6%     23.6% \n",
      "Negative predictive value        Pr(N|-)    100.0%    100.0%    100.0% \n",
      "---------------------------------------------------------------------------\n"
     ]
    }
   ],
   "source": [
    "diagt diag test if regexm(region_name,\"LONDON\")==1"
   ]
  },
  {
   "cell_type": "markdown",
   "id": "1a78f370-7ebd-4e70-b301-73c6e75003fd",
   "metadata": {},
   "source": [
    "Midlands"
   ]
  },
  {
   "cell_type": "code",
   "execution_count": 21,
   "id": "265ce394-6410-4e76-a064-ec3d32c30eee",
   "metadata": {},
   "outputs": [
    {
     "name": "stdout",
     "output_type": "stream",
     "text": [
      "\n",
      "           |         test\n",
      "      diag |      Pos.       Neg. |     Total\n",
      "-----------+----------------------+----------\n",
      "  Abnormal |       195         12 |       207 \n",
      "    Normal |     1,481     44,857 |    46,338 \n",
      "-----------+----------------------+----------\n",
      "     Total |     1,676     44,869 |    46,545 \n",
      "True abnormal diagnosis defined as diag = 1\n",
      "\n",
      "\n",
      "                                                  [95% Confidence Interval]\n",
      "---------------------------------------------------------------------------\n",
      "Prevalence                         Pr(A)      0.4%      0.4%       0.5%\n",
      "---------------------------------------------------------------------------\n",
      "Sensitivity                      Pr(+|A)     94.2%     90.1%     97.0%\n",
      "Specificity                      Pr(-|N)     96.8%     96.6%     97.0%\n",
      "ROC area               (Sens. + Spec.)/2      0.96      0.94      0.97 \n",
      "---------------------------------------------------------------------------\n",
      "Likelihood ratio (+)     Pr(+|A)/Pr(+|N)     29.47     27.75     31.31 \n",
      "Likelihood ratio (-)     Pr(-|A)/Pr(-|N)      0.06      0.03      0.10 \n",
      "Odds ratio                   LR(+)/LR(-)    492.19    276.33    876.60 \n",
      "Positive predictive value        Pr(A|+)     11.6%     10.1%     13.3% \n",
      "Negative predictive value        Pr(N|-)    100.0%    100.0%    100.0% \n",
      "---------------------------------------------------------------------------\n"
     ]
    }
   ],
   "source": [
    "diagt diag test if regexm(region_name,\"MID\")==1"
   ]
  },
  {
   "cell_type": "markdown",
   "id": "0769a779-b7ae-4496-9ed2-a6feb1a1a94a",
   "metadata": {},
   "source": [
    "Yorkshire"
   ]
  },
  {
   "cell_type": "code",
   "execution_count": 22,
   "id": "83d73532-38e7-4fb2-a39b-5c1ef1b5b717",
   "metadata": {},
   "outputs": [
    {
     "name": "stdout",
     "output_type": "stream",
     "text": [
      "\n",
      "           |         test\n",
      "      diag |      Pos.       Neg. |     Total\n",
      "-----------+----------------------+----------\n",
      "  Abnormal |       238         25 |       263 \n",
      "    Normal |     3,189     82,663 |    85,852 \n",
      "-----------+----------------------+----------\n",
      "     Total |     3,427     82,688 |    86,115 \n",
      "True abnormal diagnosis defined as diag = 1\n",
      "\n",
      "\n",
      "                                                  [95% Confidence Interval]\n",
      "---------------------------------------------------------------------------\n",
      "Prevalence                         Pr(A)      0.3%      0.3%       0.3%\n",
      "---------------------------------------------------------------------------\n",
      "Sensitivity                      Pr(+|A)     90.5%     86.3%     93.8%\n",
      "Specificity                      Pr(-|N)     96.3%     96.2%     96.4%\n",
      "ROC area               (Sens. + Spec.)/2      0.93      0.92      0.95 \n",
      "---------------------------------------------------------------------------\n",
      "Likelihood ratio (+)     Pr(+|A)/Pr(+|N)     24.36     23.13     25.66 \n",
      "Likelihood ratio (-)     Pr(-|A)/Pr(-|N)      0.10      0.07      0.14 \n",
      "Odds ratio                   LR(+)/LR(-)    246.77    163.65    372.10 \n",
      "Positive predictive value        Pr(A|+)      6.9%      6.1%      7.8% \n",
      "Negative predictive value        Pr(N|-)    100.0%    100.0%    100.0% \n",
      "---------------------------------------------------------------------------\n"
     ]
    }
   ],
   "source": [
    "diagt diag test if regexm(region_name,\"YORK\")==1"
   ]
  },
  {
   "cell_type": "markdown",
   "id": "247339ad-15c3-4ac2-9458-c8b14082ff8c",
   "metadata": {},
   "source": [
    "North West"
   ]
  },
  {
   "cell_type": "code",
   "execution_count": 23,
   "id": "f9ddd2b2-2aa8-49c0-8d9b-ac27a3db55be",
   "metadata": {},
   "outputs": [
    {
     "name": "stdout",
     "output_type": "stream",
     "text": [
      "\n",
      "           |         test\n",
      "      diag |      Pos.       Neg. |     Total\n",
      "-----------+----------------------+----------\n",
      "  Abnormal |       167          7 |       174 \n",
      "    Normal |       770     46,651 |    47,421 \n",
      "-----------+----------------------+----------\n",
      "     Total |       937     46,658 |    47,595 \n",
      "True abnormal diagnosis defined as diag = 1\n",
      "\n",
      "\n",
      "                                                  [95% Confidence Interval]\n",
      "---------------------------------------------------------------------------\n",
      "Prevalence                         Pr(A)      0.4%      0.3%       0.4%\n",
      "---------------------------------------------------------------------------\n",
      "Sensitivity                      Pr(+|A)     96.0%     91.9%     98.4%\n",
      "Specificity                      Pr(-|N)     98.4%     98.3%     98.5%\n",
      "ROC area               (Sens. + Spec.)/2      0.97      0.96      0.99 \n",
      "---------------------------------------------------------------------------\n",
      "Likelihood ratio (+)     Pr(+|A)/Pr(+|N)     59.11     54.76     63.80 \n",
      "Likelihood ratio (-)     Pr(-|A)/Pr(-|N)      0.04      0.02      0.08 \n",
      "Odds ratio                   LR(+)/LR(-)   1445.40    687.91   3036.47 \n",
      "Positive predictive value        Pr(A|+)     17.8%     15.4%     20.4% \n",
      "Negative predictive value        Pr(N|-)    100.0%    100.0%    100.0% \n",
      "---------------------------------------------------------------------------\n"
     ]
    }
   ],
   "source": [
    "diagt diag test if regexm(region_name,\"NORTH\")==1 & regexm(region_name,\"WEST\")==1"
   ]
  },
  {
   "cell_type": "markdown",
   "id": "cac4bda2-216c-4294-ab6d-5338aa93d23c",
   "metadata": {},
   "source": [
    "South East"
   ]
  },
  {
   "cell_type": "code",
   "execution_count": 24,
   "id": "883a5bf4-de79-4ba9-9bb2-95f85e3bccb3",
   "metadata": {},
   "outputs": [
    {
     "name": "stdout",
     "output_type": "stream",
     "text": [
      "\n",
      "           |         test\n",
      "      diag |      Pos.       Neg. |     Total\n",
      "-----------+----------------------+----------\n",
      "  Abnormal |       277          7 |       284 \n",
      "    Normal |     2,130     88,071 |    90,201 \n",
      "-----------+----------------------+----------\n",
      "     Total |     2,407     88,078 |    90,485 \n",
      "True abnormal diagnosis defined as diag = 1\n",
      "\n",
      "\n",
      "                                                  [95% Confidence Interval]\n",
      "---------------------------------------------------------------------------\n",
      "Prevalence                         Pr(A)      0.3%      0.3%       0.4%\n",
      "---------------------------------------------------------------------------\n",
      "Sensitivity                      Pr(+|A)     97.5%     95.0%     99.0%\n",
      "Specificity                      Pr(-|N)     97.6%     97.5%     97.7%\n",
      "ROC area               (Sens. + Spec.)/2      0.98      0.97      0.98 \n",
      "---------------------------------------------------------------------------\n",
      "Likelihood ratio (+)     Pr(+|A)/Pr(+|N)     41.30     39.45     43.24 \n",
      "Likelihood ratio (-)     Pr(-|A)/Pr(-|N)      0.03      0.01      0.05 \n",
      "Odds ratio                   LR(+)/LR(-)   1636.19    784.78   3411.42 \n",
      "Positive predictive value        Pr(A|+)     11.5%     10.3%     12.9% \n",
      "Negative predictive value        Pr(N|-)    100.0%    100.0%    100.0% \n",
      "---------------------------------------------------------------------------\n"
     ]
    }
   ],
   "source": [
    "diagt diag test if regexm(region_name,\"SOUTH\")==1 & regexm(region_name,\"EAST\")==1"
   ]
  },
  {
   "cell_type": "markdown",
   "id": "c31c4086-ecd2-43b5-a175-a49e64a0593a",
   "metadata": {},
   "source": [
    "South West"
   ]
  },
  {
   "cell_type": "code",
   "execution_count": 25,
   "id": "db24609a-c78c-4959-8f77-be636e5b8a66",
   "metadata": {},
   "outputs": [
    {
     "name": "stdout",
     "output_type": "stream",
     "text": [
      "\n",
      "           |         test\n",
      "      diag |      Pos.       Neg. |     Total\n",
      "-----------+----------------------+----------\n",
      "  Abnormal |       145         11 |       156 \n",
      "    Normal |     1,089     34,933 |    36,022 \n",
      "-----------+----------------------+----------\n",
      "     Total |     1,234     34,944 |    36,178 \n",
      "True abnormal diagnosis defined as diag = 1\n",
      "\n",
      "\n",
      "                                                  [95% Confidence Interval]\n",
      "---------------------------------------------------------------------------\n",
      "Prevalence                         Pr(A)      0.4%      0.4%       0.5%\n",
      "---------------------------------------------------------------------------\n",
      "Sensitivity                      Pr(+|A)     92.9%     87.7%     96.4%\n",
      "Specificity                      Pr(-|N)     97.0%     96.8%     97.2%\n",
      "ROC area               (Sens. + Spec.)/2      0.95      0.93      0.97 \n",
      "---------------------------------------------------------------------------\n",
      "Likelihood ratio (+)     Pr(+|A)/Pr(+|N)     30.75     28.59     33.06 \n",
      "Likelihood ratio (-)     Pr(-|A)/Pr(-|N)      0.07      0.04      0.13 \n",
      "Odds ratio                   LR(+)/LR(-)    422.85    230.51    775.57 \n",
      "Positive predictive value        Pr(A|+)     11.8%     10.0%     13.7% \n",
      "Negative predictive value        Pr(N|-)    100.0%     99.9%    100.0% \n",
      "---------------------------------------------------------------------------\n"
     ]
    }
   ],
   "source": [
    "diagt diag test if regexm(region_name,\"SOUTH\")==1 & regexm(region_name,\"WEST\")==1"
   ]
  },
  {
   "cell_type": "markdown",
   "id": "cf33efae-dc21-4b1a-b169-9eaea69c1161",
   "metadata": {},
   "source": [
    "#### System\n",
    "SystmOne"
   ]
  },
  {
   "cell_type": "code",
   "execution_count": 26,
   "id": "26573dfb-79dc-4647-88a6-e19dac9eca61",
   "metadata": {},
   "outputs": [
    {
     "name": "stdout",
     "output_type": "stream",
     "text": [
      "\n",
      "           |         test\n",
      "      diag |      Pos.       Neg. |     Total\n",
      "-----------+----------------------+----------\n",
      "  Abnormal |       774         74 |       848 \n",
      "    Normal |     8,167    219,757 |   227,924 \n",
      "-----------+----------------------+----------\n",
      "     Total |     8,941    219,831 |   228,772 \n",
      "True abnormal diagnosis defined as diag = 1\n",
      "\n",
      "\n",
      "                                                  [95% Confidence Interval]\n",
      "---------------------------------------------------------------------------\n",
      "Prevalence                         Pr(A)      0.4%      0.3%       0.4%\n",
      "---------------------------------------------------------------------------\n",
      "Sensitivity                      Pr(+|A)     91.3%     89.2%     93.1%\n",
      "Specificity                      Pr(-|N)     96.4%     96.3%     96.5%\n",
      "ROC area               (Sens. + Spec.)/2      0.94      0.93      0.95 \n",
      "---------------------------------------------------------------------------\n",
      "Likelihood ratio (+)     Pr(+|A)/Pr(+|N)     25.47     24.73     26.24 \n",
      "Likelihood ratio (-)     Pr(-|A)/Pr(-|N)      0.09      0.07      0.11 \n",
      "Odds ratio                   LR(+)/LR(-)    281.44    221.62    357.40 \n",
      "Positive predictive value        Pr(A|+)      8.7%      8.1%      9.3% \n",
      "Negative predictive value        Pr(N|-)    100.0%    100.0%    100.0% \n",
      "---------------------------------------------------------------------------\n"
     ]
    }
   ],
   "source": [
    "diagt diag test if regexm(system,\"One\")==1"
   ]
  },
  {
   "cell_type": "markdown",
   "id": "b561f033-d2f3-4c95-ad3f-03b8c65647ea",
   "metadata": {},
   "source": [
    "Vision"
   ]
  },
  {
   "cell_type": "code",
   "execution_count": 27,
   "id": "6bed6f81-5fd6-418e-94ff-96d2de419d3d",
   "metadata": {},
   "outputs": [
    {
     "name": "stdout",
     "output_type": "stream",
     "text": [
      "\n",
      "           |         test\n",
      "      diag |      Pos.       Neg. |     Total\n",
      "-----------+----------------------+----------\n",
      "  Abnormal |        27          0 |        27 \n",
      "    Normal |       415     13,302 |    13,717 \n",
      "-----------+----------------------+----------\n",
      "     Total |       442     13,302 |    13,744 \n",
      "True abnormal diagnosis defined as diag = 1\n",
      "\n",
      "\n",
      "                                                  [95% Confidence Interval]\n",
      "---------------------------------------------------------------------------\n",
      "Prevalence                         Pr(A)      0.2%      0.1%       0.3%\n",
      "---------------------------------------------------------------------------\n",
      "Sensitivity                      Pr(+|A)    100.0%     87.2%    100.0%\n",
      "Specificity                      Pr(-|N)     97.0%     96.7%     97.3%\n",
      "ROC area               (Sens. + Spec.)/2      0.98      0.98      0.99 \n",
      "---------------------------------------------------------------------------\n",
      "Likelihood ratio (+)     Pr(+|A)/Pr(+|N)     33.05     30.07     36.34 \n",
      "Likelihood ratio (-)     Pr(-|A)/Pr(-|N)      0.00         .         . \n",
      "Odds ratio                   LR(+)/LR(-)         .    225.08         . \n",
      "Positive predictive value        Pr(A|+)      6.1%      4.1%      8.8% \n",
      "Negative predictive value        Pr(N|-)    100.0%    100.0%    100.0% \n",
      "---------------------------------------------------------------------------\n",
      "\n",
      "  Missing values or confidence intervals may be estimated\n",
      "  using the -sf- or -sf0- options.\n"
     ]
    }
   ],
   "source": [
    "diagt diag test if regexm(system,\"Vision\")==1"
   ]
  },
  {
   "cell_type": "markdown",
   "id": "65d9cefb-fbb5-4500-8ed3-52074d4e12ad",
   "metadata": {},
   "source": [
    "EMIS"
   ]
  },
  {
   "cell_type": "code",
   "execution_count": 28,
   "id": "18d50bfe-f5c4-4ecb-b822-0d06e3b29224",
   "metadata": {},
   "outputs": [
    {
     "name": "stdout",
     "output_type": "stream",
     "text": [
      "\n",
      "           |         test\n",
      "      diag |      Pos.       Neg. |     Total\n",
      "-----------+----------------------+----------\n",
      "  Abnormal |       650         21 |       671 \n",
      "    Normal |     3,576    178,121 |   181,697 \n",
      "-----------+----------------------+----------\n",
      "     Total |     4,226    178,142 |   182,368 \n",
      "True abnormal diagnosis defined as diag = 1\n",
      "\n",
      "\n",
      "                                                  [95% Confidence Interval]\n",
      "---------------------------------------------------------------------------\n",
      "Prevalence                         Pr(A)      0.4%      0.3%       0.4%\n",
      "---------------------------------------------------------------------------\n",
      "Sensitivity                      Pr(+|A)     96.9%     95.3%     98.1%\n",
      "Specificity                      Pr(-|N)     98.0%     98.0%     98.1%\n",
      "ROC area               (Sens. + Spec.)/2      0.97      0.97      0.98 \n",
      "---------------------------------------------------------------------------\n",
      "Likelihood ratio (+)     Pr(+|A)/Pr(+|N)     49.22     47.52     50.98 \n",
      "Likelihood ratio (-)     Pr(-|A)/Pr(-|N)      0.03      0.02      0.05 \n",
      "Odds ratio                   LR(+)/LR(-)   1541.74    1000.47  2375.83 \n",
      "Positive predictive value        Pr(A|+)     15.4%     14.3%     16.5% \n",
      "Negative predictive value        Pr(N|-)    100.0%    100.0%    100.0% \n",
      "---------------------------------------------------------------------------\n"
     ]
    }
   ],
   "source": [
    "diagt diag test if regexm(ustrupper(system),\"EMIS\")==1"
   ]
  },
  {
   "cell_type": "code",
   "execution_count": null,
   "id": "654b6659-0a73-4736-bc15-7bf926554432",
   "metadata": {},
   "outputs": [],
   "source": []
  },
  {
   "cell_type": "markdown",
   "id": "5cc0b78d-d049-4645-a6f4-e02b49b379db",
   "metadata": {},
   "source": [
    "#### RA_Index\n",
    "Index==1"
   ]
  },
  {
   "cell_type": "code",
   "execution_count": 29,
   "id": "9fa490cd-9380-44bc-8218-9f2193f09aee",
   "metadata": {},
   "outputs": [
    {
     "name": "stdout",
     "output_type": "stream",
     "text": [
      "\n",
      "           |         test\n",
      "      diag |      Pos.       Neg. |     Total\n",
      "-----------+----------------------+----------\n",
      "  Abnormal |     1,105         67 |     1,172 \n",
      "    Normal |     9,006    311,532 |   320,538 \n",
      "-----------+----------------------+----------\n",
      "     Total |    10,111    311,599 |   321,710 \n",
      "True abnormal diagnosis defined as diag = 1\n",
      "\n",
      "\n",
      "                                                  [95% Confidence Interval]\n",
      "---------------------------------------------------------------------------\n",
      "Prevalence                         Pr(A)      0.4%      0.3%       0.4%\n",
      "---------------------------------------------------------------------------\n",
      "Sensitivity                      Pr(+|A)     94.3%     92.8%     95.5%\n",
      "Specificity                      Pr(-|N)     97.2%     97.1%     97.2%\n",
      "ROC area               (Sens. + Spec.)/2      0.96      0.95      0.96 \n",
      "---------------------------------------------------------------------------\n",
      "Likelihood ratio (+)     Pr(+|A)/Pr(+|N)     33.56     32.74     34.40 \n",
      "Likelihood ratio (-)     Pr(-|A)/Pr(-|N)      0.06      0.05      0.07 \n",
      "Odds ratio                   LR(+)/LR(-)    570.50    445.70    730.25 \n",
      "Positive predictive value        Pr(A|+)     10.9%     10.3%     11.6% \n",
      "Negative predictive value        Pr(N|-)    100.0%    100.0%    100.0% \n",
      "---------------------------------------------------------------------------\n"
     ]
    }
   ],
   "source": [
    "diagt diag test if RA_index==1"
   ]
  },
  {
   "cell_type": "markdown",
   "id": "7d253ba5-4281-405c-bd8c-511a00a55bf6",
   "metadata": {},
   "source": [
    "Index==0"
   ]
  },
  {
   "cell_type": "code",
   "execution_count": 30,
   "id": "f50f1be6-d1fd-4b54-8cc8-be66d3b7312b",
   "metadata": {},
   "outputs": [
    {
     "name": "stdout",
     "output_type": "stream",
     "text": [
      "\n",
      "           |         test\n",
      "      diag |      Pos.       Neg. |     Total\n",
      "-----------+----------------------+----------\n",
      "  Abnormal |       346         28 |       374 \n",
      "    Normal |     3,157     99,779 |   102,936 \n",
      "-----------+----------------------+----------\n",
      "     Total |     3,503     99,807 |   103,310 \n",
      "True abnormal diagnosis defined as diag = 1\n",
      "\n",
      "\n",
      "                                                  [95% Confidence Interval]\n",
      "---------------------------------------------------------------------------\n",
      "Prevalence                         Pr(A)      0.4%      0.3%       0.4%\n",
      "---------------------------------------------------------------------------\n",
      "Sensitivity                      Pr(+|A)     92.5%     89.4%     95.0%\n",
      "Specificity                      Pr(-|N)     96.9%     96.8%     97.0%\n",
      "ROC area               (Sens. + Spec.)/2      0.95      0.93      0.96 \n",
      "---------------------------------------------------------------------------\n",
      "Likelihood ratio (+)     Pr(+|A)/Pr(+|N)     30.16     28.84     31.55 \n",
      "Likelihood ratio (-)     Pr(-|A)/Pr(-|N)      0.08      0.05      0.11 \n",
      "Odds ratio                   LR(+)/LR(-)    390.56    265.92    573.60 \n",
      "Positive predictive value        Pr(A|+)      9.9%      8.9%     10.9% \n",
      "Negative predictive value        Pr(N|-)    100.0%    100.0%    100.0% \n",
      "---------------------------------------------------------------------------\n"
     ]
    }
   ],
   "source": [
    "diagt diag test if RA_index==0"
   ]
  },
  {
   "cell_type": "markdown",
   "id": "72956d72",
   "metadata": {},
   "source": [
    "#### Ethnicity\n",
    "Ethnicity==0000white"
   ]
  },
  {
   "cell_type": "code",
   "execution_count": 31,
   "id": "b35bf6ab",
   "metadata": {},
   "outputs": [
    {
     "name": "stdout",
     "output_type": "stream",
     "text": [
      "\n",
      "           |         test\n",
      "      diag |      Pos.       Neg. |     Total\n",
      "-----------+----------------------+----------\n",
      "  Abnormal |     1,101         63 |     1,164 \n",
      "    Normal |     7,953    248,877 |   256,830 \n",
      "-----------+----------------------+----------\n",
      "     Total |     9,054    248,940 |   257,994 \n",
      "True abnormal diagnosis defined as diag = 1\n",
      "\n",
      "\n",
      "                                                  [95% Confidence Interval]\n",
      "---------------------------------------------------------------------------\n",
      "Prevalence                         Pr(A)      0.5%      0.4%       0.5%\n",
      "---------------------------------------------------------------------------\n",
      "Sensitivity                      Pr(+|A)     94.6%     93.1%     95.8%\n",
      "Specificity                      Pr(-|N)     96.9%     96.8%     97.0%\n",
      "ROC area               (Sens. + Spec.)/2      0.96      0.95      0.96 \n",
      "---------------------------------------------------------------------------\n",
      "Likelihood ratio (+)     Pr(+|A)/Pr(+|N)     30.55     29.77     31.34 \n",
      "Likelihood ratio (-)     Pr(-|A)/Pr(-|N)      0.06      0.04      0.07 \n",
      "Odds ratio                   LR(+)/LR(-)    546.89    424.13    705.17 \n",
      "Positive predictive value        Pr(A|+)     12.2%     11.5%     12.9% \n",
      "Negative predictive value        Pr(N|-)    100.0%    100.0%    100.0% \n",
      "---------------------------------------------------------------------------\n"
     ]
    }
   ],
   "source": [
    "diagt diag test if ethnicity==\"0white\""
   ]
  },
  {
   "cell_type": "code",
   "execution_count": 32,
   "id": "10050fbc",
   "metadata": {},
   "outputs": [
    {
     "name": "stdout",
     "output_type": "stream",
     "text": [
      "\n",
      "           |         test\n",
      "      diag |      Pos.       Neg. |     Total\n",
      "-----------+----------------------+----------\n",
      "  Abnormal |       129         20 |       149 \n",
      "    Normal |     1,935     41,790 |    43,725 \n",
      "-----------+----------------------+----------\n",
      "     Total |     2,064     41,810 |    43,874 \n",
      "True abnormal diagnosis defined as diag = 1\n",
      "\n",
      "\n",
      "                                                  [95% Confidence Interval]\n",
      "---------------------------------------------------------------------------\n",
      "Prevalence                         Pr(A)      0.3%      0.3%       0.4%\n",
      "---------------------------------------------------------------------------\n",
      "Sensitivity                      Pr(+|A)     86.6%     80.0%     91.6%\n",
      "Specificity                      Pr(-|N)     95.6%     95.4%     95.8%\n",
      "ROC area               (Sens. + Spec.)/2      0.91      0.88      0.94 \n",
      "---------------------------------------------------------------------------\n",
      "Likelihood ratio (+)     Pr(+|A)/Pr(+|N)     19.56     18.12     21.12 \n",
      "Likelihood ratio (-)     Pr(-|A)/Pr(-|N)      0.14      0.09      0.21 \n",
      "Odds ratio                   LR(+)/LR(-)    139.30     87.15    222.64 \n",
      "Positive predictive value        Pr(A|+)      6.2%      5.2%      7.4% \n",
      "Negative predictive value        Pr(N|-)    100.0%     99.9%    100.0% \n",
      "---------------------------------------------------------------------------\n"
     ]
    }
   ],
   "source": [
    "diagt diag test if ethnicity==\"Other\""
   ]
  },
  {
   "cell_type": "code",
   "execution_count": 33,
   "id": "a9b0ba23",
   "metadata": {},
   "outputs": [
    {
     "name": "stdout",
     "output_type": "stream",
     "text": [
      "\n",
      "           |         test\n",
      "      diag |      Pos.       Neg. |     Total\n",
      "-----------+----------------------+----------\n",
      "  Abnormal |       221         12 |       233 \n",
      "    Normal |     2,275    120,644 |   122,919 \n",
      "-----------+----------------------+----------\n",
      "     Total |     2,496    120,656 |   123,152 \n",
      "True abnormal diagnosis defined as diag = 1\n",
      "\n",
      "\n",
      "                                                  [95% Confidence Interval]\n",
      "---------------------------------------------------------------------------\n",
      "Prevalence                         Pr(A)      0.2%      0.2%       0.2%\n",
      "---------------------------------------------------------------------------\n",
      "Sensitivity                      Pr(+|A)     94.8%     91.2%     97.3%\n",
      "Specificity                      Pr(-|N)     98.1%     98.1%     98.2%\n",
      "ROC area               (Sens. + Spec.)/2      0.96      0.95      0.98 \n",
      "---------------------------------------------------------------------------\n",
      "Likelihood ratio (+)     Pr(+|A)/Pr(+|N)     51.25     48.72     53.90 \n",
      "Likelihood ratio (-)     Pr(-|A)/Pr(-|N)      0.05      0.03      0.09 \n",
      "Odds ratio                   LR(+)/LR(-)    976.64    549.82   1734.74 \n",
      "Positive predictive value        Pr(A|+)      8.9%      7.8%     10.0% \n",
      "Negative predictive value        Pr(N|-)    100.0%    100.0%    100.0% \n",
      "---------------------------------------------------------------------------\n"
     ]
    }
   ],
   "source": [
    "diagt diag test if ethnicity==\"Missing\""
   ]
  },
  {
   "cell_type": "code",
   "execution_count": 34,
   "id": "0c6b3359-4cc6-4eb5-a15f-ed1be0b97aa0",
   "metadata": {},
   "outputs": [],
   "source": [
    "tempname memhold\n",
    "postfile `memhold' str20 var prev sens spec ppv npv roc using \"validity.dta\",replace\n",
    "\n",
    "quietly diagt diag test\n",
    "local prev=r(prev)\n",
    "local sens=r(sens)\n",
    "local spec=r(spec)\n",
    "local ppv=r(ppv)\n",
    "local npv=r(npv)\n",
    "local roc=r(roc)\n",
    "post `memhold' (\"all\") (`prev') (`sens') (`spec') (`ppv') (`npv') (`roc') \n",
    "\n",
    "quietly diagt diag test if sex==1\n",
    "local prev=r(prev)\n",
    "local sens=r(sens)\n",
    "local spec=r(spec)\n",
    "local ppv=r(ppv)\n",
    "local npv=r(npv)\n",
    "local roc=r(roc)\n",
    "post `memhold' (\"Male\") (`prev') (`sens') (`spec') (`ppv') (`npv') (`roc') \n",
    "\n",
    "quietly diagt diag test if sex==0\n",
    "local prev=r(prev)\n",
    "local sens=r(sens)\n",
    "local spec=r(spec)\n",
    "local ppv=r(ppv)\n",
    "local npv=r(npv)\n",
    "local roc=r(roc)\n",
    "post `memhold' (\"Female\") (`prev') (`sens') (`spec') (`ppv') (`npv') (`roc') \n",
    "\n",
    "quietly diagt diag test if agecat==16\n",
    "local prev=r(prev)\n",
    "local sens=r(sens)\n",
    "local spec=r(spec)\n",
    "local ppv=r(ppv)\n",
    "local npv=r(npv)\n",
    "local roc=r(roc)\n",
    "post `memhold' (\"Age young\") (`prev') (`sens') (`spec') (`ppv') (`npv') (`roc') \n",
    "\n",
    "quietly diagt diag test if agecat==30\n",
    "local prev=r(prev)\n",
    "local sens=r(sens)\n",
    "local spec=r(spec)\n",
    "local ppv=r(ppv)\n",
    "local npv=r(npv)\n",
    "local roc=r(roc)\n",
    "post `memhold' (\"Age middle\") (`prev') (`sens') (`spec') (`ppv') (`npv') (`roc') \n",
    "\n",
    "quietly diagt diag test if agecat==70\n",
    "local prev=r(prev)\n",
    "local sens=r(sens)\n",
    "local spec=r(spec)\n",
    "local ppv=r(ppv)\n",
    "local npv=r(npv)\n",
    "local roc=r(roc)\n",
    "post `memhold' (\"Age elderly\") (`prev') (`sens') (`spec') (`ppv') (`npv') (`roc') \n",
    "\n",
    "\n",
    "quietly diagt diag test if yearcat==2004\n",
    "local prev=r(prev)\n",
    "local sens=r(sens)\n",
    "local spec=r(spec)\n",
    "local ppv=r(ppv)\n",
    "local npv=r(npv)\n",
    "local roc=r(roc)\n",
    "post `memhold' (\"Year 2004-2009\") (`prev') (`sens') (`spec') (`ppv') (`npv') (`roc') \n",
    "\n",
    "quietly diagt diag test if yearcat==2010\n",
    "local prev=r(prev)\n",
    "local sens=r(sens)\n",
    "local spec=r(spec)\n",
    "local ppv=r(ppv)\n",
    "local npv=r(npv)\n",
    "local roc=r(roc)\n",
    "post `memhold' (\"Year 2010-2015\") (`prev') (`sens') (`spec') (`ppv') (`npv') (`roc')\n",
    "\n",
    "quietly diagt diag test if yearcat==2016\n",
    "local prev=r(prev)\n",
    "local sens=r(sens)\n",
    "local spec=r(spec)\n",
    "local ppv=r(ppv)\n",
    "local npv=r(npv)\n",
    "local roc=r(roc)\n",
    "post `memhold' (\"Year 2016-2020\") (`prev') (`sens') (`spec') (`ppv') (`npv') (`roc') \n",
    "\n",
    "\n",
    "quietly diagt diag test if imdcat==0\n",
    "local prev=r(prev)\n",
    "local sens=r(sens)\n",
    "local spec=r(spec)\n",
    "local ppv=r(ppv)\n",
    "local npv=r(npv)\n",
    "local roc=r(roc)\n",
    "post `memhold' (\"IMD 1,3\") (`prev') (`sens') (`spec') (`ppv') (`npv') (`roc') \n",
    "\n",
    "quietly diagt diag test if imdcat==4\n",
    "local prev=r(prev)\n",
    "local sens=r(sens)\n",
    "local spec=r(spec)\n",
    "local ppv=r(ppv)\n",
    "local npv=r(npv)\n",
    "local roc=r(roc)\n",
    "post `memhold' (\"IMD 4,7\") (`prev') (`sens') (`spec') (`ppv') (`npv') (`roc') \n",
    "\n",
    "quietly diagt diag test if imdcat==8\n",
    "local prev=r(prev)\n",
    "local sens=r(sens)\n",
    "local spec=r(spec)\n",
    "local ppv=r(ppv)\n",
    "local npv=r(npv)\n",
    "local roc=r(roc)\n",
    "post `memhold' (\"IMD 8,10\") (`prev') (`sens') (`spec') (`ppv') (`npv') (`roc') \n",
    "\n",
    "\n",
    "quietly diagt diag test if regexm(region_name,\"LONDON\")==1\n",
    "local prev=r(prev)\n",
    "local sens=r(sens)\n",
    "local spec=r(spec)\n",
    "local ppv=r(ppv)\n",
    "local npv=r(npv)\n",
    "local roc=r(roc)\n",
    "post `memhold' (\"London\") (`prev') (`sens') (`spec') (`ppv') (`npv') (`roc') \n",
    "\n",
    "quietly diagt diag test if regexm(region_name,\"MID\")==1\n",
    "local prev=r(prev)\n",
    "local sens=r(sens)\n",
    "local spec=r(spec)\n",
    "local ppv=r(ppv)\n",
    "local npv=r(npv)\n",
    "local roc=r(roc)\n",
    "post `memhold' (\"Midlands\") (`prev') (`sens') (`spec') (`ppv') (`npv') (`roc') \n",
    "\n",
    "quietly diagt diag test if regexm(region_name,\"YORK\")==1\n",
    "local prev=r(prev)\n",
    "local sens=r(sens)\n",
    "local spec=r(spec)\n",
    "local ppv=r(ppv)\n",
    "local npv=r(npv)\n",
    "local roc=r(roc)\n",
    "post `memhold' (\"Yorkshire\") (`prev') (`sens') (`spec') (`ppv') (`npv') (`roc') \n",
    "\n",
    "quietly diagt diag test if regexm(region_name,\"NORTH\")==1 & regexm(region_name,\"WEST\")==1\n",
    "local prev=r(prev)\n",
    "local sens=r(sens)\n",
    "local spec=r(spec)\n",
    "local ppv=r(ppv)\n",
    "local npv=r(npv)\n",
    "local roc=r(roc)\n",
    "post `memhold' (\"North West\") (`prev') (`sens') (`spec') (`ppv') (`npv') (`roc') \n",
    "\n",
    "quietly diagt diag test if regexm(region_name,\"SOUTH\")==1 & regexm(region_name,\"EAST\")==1\n",
    "local prev=r(prev)\n",
    "local sens=r(sens)\n",
    "local spec=r(spec)\n",
    "local ppv=r(ppv)\n",
    "local npv=r(npv)\n",
    "local roc=r(roc)\n",
    "post `memhold' (\"South East\") (`prev') (`sens') (`spec') (`ppv') (`npv') (`roc') \n",
    "\n",
    "quietly diagt diag test if regexm(region_name,\"SOUTH\")==1 & regexm(region_name,\"WEST\")==1\n",
    "local prev=r(prev)\n",
    "local sens=r(sens)\n",
    "local spec=r(spec)\n",
    "local ppv=r(ppv)\n",
    "local npv=r(npv)\n",
    "local roc=r(roc)\n",
    "post `memhold' (\"South West\") (`prev') (`sens') (`spec') (`ppv') (`npv') (`roc') \n",
    "\n",
    "quietly diagt diag test if regexm(system,\"One\")==1\n",
    "local prev=r(prev)\n",
    "local sens=r(sens)\n",
    "local spec=r(spec)\n",
    "local ppv=r(ppv)\n",
    "local npv=r(npv)\n",
    "local roc=r(roc)\n",
    "post `memhold' (\"SystemOne\") (`prev') (`sens') (`spec') (`ppv') (`npv') (`roc') \n",
    "\n",
    "quietly diagt diag test if regexm(system,\"Vision\")==1\n",
    "local prev=r(prev)\n",
    "local sens=r(sens)\n",
    "local spec=r(spec)\n",
    "local ppv=r(ppv)\n",
    "local npv=r(npv)\n",
    "local roc=r(roc)\n",
    "post `memhold' (\"Vision\") (`prev') (`sens') (`spec') (`ppv') (`npv') (`roc') \n",
    "\n",
    "quietly diagt diag test if regexm(ustrupper(system),\"EMIS\")==1\n",
    "local prev=r(prev)\n",
    "local sens=r(sens)\n",
    "local spec=r(spec)\n",
    "local ppv=r(ppv)\n",
    "local npv=r(npv)\n",
    "local roc=r(roc)\n",
    "post `memhold' (\"EMIS\") (`prev') (`sens') (`spec') (`ppv') (`npv') (`roc') \n",
    "\n",
    "quietly diagt diag test if RA_index==1\n",
    "local prev=r(prev)\n",
    "local sens=r(sens)\n",
    "local spec=r(spec)\n",
    "local ppv=r(ppv)\n",
    "local npv=r(npv)\n",
    "local roc=r(roc)\n",
    "post `memhold' (\"RAIndex1\") (`prev') (`sens') (`spec') (`ppv') (`npv') (`roc') \n",
    "\n",
    "quietly diagt diag test if RA_index==0\n",
    "local prev=r(prev)\n",
    "local sens=r(sens)\n",
    "local spec=r(spec)\n",
    "local ppv=r(ppv)\n",
    "local npv=r(npv)\n",
    "local roc=r(roc)\n",
    "post `memhold' (\"RAIndex0\") (`prev') (`sens') (`spec') (`ppv') (`npv') (`roc') \n",
    "\n",
    "quietly diagt diag test if ethnicity==\"0white\"\n",
    "local prev=r(prev)\n",
    "local sens=r(sens)\n",
    "local spec=r(spec)\n",
    "local ppv=r(ppv)\n",
    "local npv=r(npv)\n",
    "local roc=r(roc)\n",
    "post `memhold' (\"Ethnicity_0white\") (`prev') (`sens') (`spec') (`ppv') (`npv') (`roc') \n",
    "\n",
    "quietly diagt diag test if ethnicity==\"Other\"\n",
    "local prev=r(prev)\n",
    "local sens=r(sens)\n",
    "local spec=r(spec)\n",
    "local ppv=r(ppv)\n",
    "local npv=r(npv)\n",
    "local roc=r(roc)\n",
    "post `memhold' (\"Ethnicity_Other\") (`prev') (`sens') (`spec') (`ppv') (`npv') (`roc') \n",
    "\n",
    "\n",
    "\n",
    "quietly diagt diag test if ethnicity==\"Missing\"\n",
    "local prev=r(prev)\n",
    "local sens=r(sens)\n",
    "local spec=r(spec)\n",
    "local ppv=r(ppv)\n",
    "local npv=r(npv)\n",
    "local roc=r(roc)\n",
    "post `memhold' (\"Ethnicity_Missing\") (`prev') (`sens') (`spec') (`ppv') (`npv') (`roc') \n",
    "\n",
    "postclose `memhold'"
   ]
  },
  {
   "cell_type": "markdown",
   "id": "b350c4fb-deb8-450a-9750-689dc3a8268e",
   "metadata": {},
   "source": [
    "### Logistic Regression\n",
    "#### PPV"
   ]
  },
  {
   "cell_type": "code",
   "execution_count": 35,
   "id": "a21415d9",
   "metadata": {},
   "outputs": [
    {
     "name": "stdout",
     "output_type": "stream",
     "text": [
      "(2,589 observations deleted)\n",
      "(9 observations deleted)\n"
     ]
    }
   ],
   "source": [
    "drop if missing(imdcat)\n",
    "drop if missing(sex)"
   ]
  },
  {
   "cell_type": "code",
   "execution_count": 36,
   "id": "ad17f02e-1d4b-48ec-8a48-1c137597db1a",
   "metadata": {},
   "outputs": [
    {
     "name": "stdout",
     "output_type": "stream",
     "text": [
      "\n",
      "Logistic regression                                    Number of obs =  13,604\n",
      "                                                       LR chi2(0)    =   -0.00\n",
      "                                                       Prob > chi2   =       .\n",
      "Log likelihood = -4607.5729                            Pseudo R2     = -0.0000\n",
      "\n",
      "------------------------------------------------------------------------------\n",
      "    diag_pos |       Odds   Std. err.      z    P>|z|     [95% conf. interval]\n",
      "-------------+----------------------------------------------------------------\n",
      "       _cons |    .118934   .0033084   -76.54   0.000     .1126232    .1255985\n",
      "------------------------------------------------------------------------------\n"
     ]
    }
   ],
   "source": [
    "logistic diag_pos if test==1"
   ]
  },
  {
   "cell_type": "code",
   "execution_count": 37,
   "id": "b4bb2be2-7e3e-402c-aa81-7b7dfd706f64",
   "metadata": {},
   "outputs": [
    {
     "name": "stdout",
     "output_type": "stream",
     "text": [
      "note: 1.bnf_code_values != 0 predicts failure perfectly;\n",
      "      1.bnf_code_values omitted and 3 obs not used.\n",
      "\n",
      "note: 4.bnf_code_values omitted because of collinearity.\n",
      "\n",
      "Logistic regression                                     Number of obs = 13,601\n",
      "                                                        LR chi2(2)    = 833.16\n",
      "                                                        Prob > chi2   = 0.0000\n",
      "Log likelihood = -4190.6556                             Pseudo R2     = 0.0904\n",
      "\n",
      "----------------------------------------------------------------------------------------------------\n",
      "                          diag_pos | Odds ratio   Std. err.      z    P>|z|     [95% conf. interval]\n",
      "-----------------------------------+----------------------------------------------------------------\n",
      "                   bnf_code_values |\n",
      "Diagnostic and monitoring devices  |          1  (empty)\n",
      "                 Insulin syringes  |   .9151585   .1717308    -0.47   0.637     .6335299    1.321982\n",
      "                         Insulins  |   5.126674   .9293976     9.02   0.000     3.593554    7.313869\n",
      "                    Other/unknown  |          1  (omitted)\n",
      "                                   |\n",
      "                             _cons |    .047619   .0084845   -17.09   0.000     .0335829    .0675216\n",
      "----------------------------------------------------------------------------------------------------\n",
      "Note: _cons estimates baseline odds.\n"
     ]
    }
   ],
   "source": [
    "logistic diag_pos i.bnf_code_values if test==1"
   ]
  },
  {
   "cell_type": "code",
   "execution_count": 38,
   "id": "49e40858",
   "metadata": {},
   "outputs": [
    {
     "name": "stdout",
     "output_type": "stream",
     "text": [
      "\n",
      "Fitting fixed-effects model:\n",
      "\n",
      "Iteration 0:  Log likelihood =  -4310.403  \n",
      "Iteration 1:  Log likelihood = -4161.4689  \n",
      "Iteration 2:  Log likelihood = -4160.7862  \n",
      "Iteration 3:  Log likelihood = -4160.7861  \n",
      "\n",
      "Refining starting values:\n",
      "\n",
      "Grid node 0:  Log likelihood = -4082.6829\n",
      "\n",
      "Fitting full model:\n",
      "\n",
      "Iteration 0:  Log likelihood = -4082.6829  \n",
      "Iteration 1:  Log likelihood = -4073.0356  \n",
      "Iteration 2:  Log likelihood = -4062.2681  \n",
      "Iteration 3:  Log likelihood = -4061.4037  \n",
      "Iteration 4:  Log likelihood =    -4061.4  \n",
      "Iteration 5:  Log likelihood =    -4061.4  \n",
      "\n",
      "Mixed-effects logistic regression               Number of obs     =     13,548\n",
      "Group variable: practice_id                     Number of groups  =        310\n",
      "\n",
      "                                                Obs per group:\n",
      "                                                              min =          1\n",
      "                                                              avg =       43.7\n",
      "                                                              max =        488\n",
      "\n",
      "Integration method: mvaghermite                 Integration pts.  =          7\n",
      "\n",
      "                                                Wald chi2(18)     =     712.92\n",
      "Log likelihood = -4061.4                        Prob > chi2       =     0.0000\n",
      "----------------------------------------------------------------------------------------------------------------\n",
      "                                       newdiag | Odds ratio   Std. err.      z    P>|z|     [95% conf. interval]\n",
      "-----------------------------------------------+----------------------------------------------------------------\n",
      "                                   1.sex_coded |   1.230532   .0757286     3.37   0.001     1.090709    1.388279\n",
      "                                               |\n",
      "                                       yearcat |\n",
      "                                    2010-2015  |   1.350452   .1034259     3.92   0.000     1.162222    1.569168\n",
      "                                    2016-2020  |   1.299672   .1056398     3.22   0.001     1.108272    1.524126\n",
      "                                               |\n",
      "                                        agecat |\n",
      "                                      0Middle  |   .2182546   .0187697   -17.70   0.000        .1844    .2583246\n",
      "                                      Elderly  |   .0796931   .0081844   -24.63   0.000     .0651634    .0974626\n",
      "                                               |\n",
      "                                        region |\n",
      "                  LONDON COMMISSIONING REGION  |   1.742474   .5759854     1.68   0.093     .9115834    3.330705\n",
      "                MIDLANDS COMMISSIONING REGION  |   1.243306   .2148329     1.26   0.208     .8861303     1.74445\n",
      "NORTH EAST AND YORKSHIRE COMMISSIONING REGION  |    .660397   .1229946    -2.23   0.026     .4584314      .95134\n",
      "              NORTH WEST COMMISSIONING REGION  |   1.484271   .3222367     1.82   0.069     .9698768    2.271485\n",
      "              SOUTH EAST COMMISSIONING REGION  |   .9703015   .1741443    -0.17   0.867     .6825552    1.379354\n",
      "              SOUTH WEST COMMISSIONING REGION  |   1.007295   .2178226     0.03   0.973      .659308    1.538951\n",
      "                                     Scotland  |   .7355193   .2824861    -0.80   0.424     .3464804    1.561383\n",
      "                                        Wales  |   .5147013   .3133432    -1.09   0.275     .1560829    1.697287\n",
      "                                               |\n",
      "                                      RA_index |   1.232344   .1658374     1.55   0.121     .9466402    1.604274\n",
      "                                               |\n",
      "                                        ethnic |\n",
      "                                      Missing  |   .8729017   .0794499    -1.49   0.135      .730282    1.043374\n",
      "                                        Other  |   .4383061   .0512173    -7.06   0.000     .3485878    .5511158\n",
      "                                               |\n",
      "                                        imdcat |\n",
      "                                          4-7  |   1.138689   .1564645     0.95   0.345     .8698484    1.490619\n",
      "                                         8-10  |   1.292107   .1909202     1.73   0.083     .9672212     1.72612\n",
      "                                               |\n",
      "                                         _cons |   .3642128   .0620037    -5.93   0.000     .2608833    .5084684\n",
      "-----------------------------------------------+----------------------------------------------------------------\n",
      "practice_id                                    |\n",
      "                                     var(_cons)|   .4144668   .0664565                      .3026956    .5675097\n",
      "----------------------------------------------------------------------------------------------------------------\n",
      "Note: Estimates are transformed only in the first equation to odds ratios.\n",
      "Note: _cons estimates baseline odds (conditional on zero random effects).\n",
      "LR test vs. logistic model: chibar2(01) = 198.77      Prob >= chibar2 = 0.0000\n"
     ]
    }
   ],
   "source": [
    "gen newdiag=diag_pos\n",
    "\n",
    "melogit newdiag i.sex i.yearcat i.agecat  i.region RA_index i.ethnic i.imdcat if test==1 || practice_id:,or\n",
    "estimates store model1"
   ]
  },
  {
   "cell_type": "markdown",
   "id": "1fb85b5e",
   "metadata": {},
   "source": [
    "##### Likelihood ratio tests"
   ]
  },
  {
   "cell_type": "code",
   "execution_count": 39,
   "id": "718b2ba3-f1ac-41c9-af92-e0cb45d55985",
   "metadata": {},
   "outputs": [],
   "source": [
    "\n",
    "\n",
    "quietly: melogit newdiag i.sex i.yearcat i.agecat  i.region RA_index i.ethnic if test==1 || practice_id:,or\n",
    "estimates store model_imd\n",
    "\n",
    "quietly:melogit newdiag i.sex i.yearcat i.agecat  i.region RA_index i.imdcat if test==1 || practice_id:,or\n",
    "estimates store model_ethnicity\n",
    "\n",
    "quietly:melogit newdiag i.yearcat i.agecat  i.region RA_index i.ethnic i.imdcat if test==1 || practice_id:,or\n",
    "estimates store model_sex\n",
    "\n",
    "quietly:melogit newdiag i.sex i.agecat  i.region RA_index i.ethnic i.imdcat if test==1 || practice_id:,or\n",
    "estimates store model_year\n",
    "\n",
    "quietly: melogit newdiag i.sex i.yearcat  i.region RA_index i.ethnic i.imdcat if test==1 || practice_id:,or\n",
    "estimates store model_age\n",
    "\n"
   ]
  },
  {
   "cell_type": "code",
   "execution_count": 40,
   "id": "31887f9d",
   "metadata": {},
   "outputs": [
    {
     "name": "stdout",
     "output_type": "stream",
     "text": [
      "\n",
      "Likelihood-ratio test\n",
      "Assumption: model_sex nested within model1\n",
      "\n",
      " LR chi2(1) =  11.45\n",
      "Prob > chi2 = 0.0007\n",
      "\n",
      "Likelihood-ratio test\n",
      "Assumption: model_year nested within model1\n",
      "\n",
      " LR chi2(2) =  17.08\n",
      "Prob > chi2 = 0.0002\n",
      "\n",
      "Likelihood-ratio test\n",
      "Assumption: model_age nested within model1\n",
      "\n",
      " LR chi2(2) = 627.44\n",
      "Prob > chi2 = 0.0000\n",
      "\n",
      "Likelihood-ratio test\n",
      "Assumption: model_ethnic~y nested within model1\n",
      "\n",
      " LR chi2(2) =  55.41\n",
      "Prob > chi2 = 0.0000\n",
      "\n",
      "Likelihood-ratio test\n",
      "Assumption: model_imd nested within model1\n",
      "\n",
      " LR chi2(2) =   2.98\n",
      "Prob > chi2 = 0.2256\n"
     ]
    }
   ],
   "source": [
    "lrtest model1 model_sex\n",
    "lrtest model1 model_year\n",
    "lrtest model1 model_age\n",
    "lrtest model1 model_ethnicity\n",
    "lrtest model1 model_imd\n"
   ]
  },
  {
   "cell_type": "markdown",
   "id": "99227c99-0304-407b-a990-a06fe4bd4560",
   "metadata": {},
   "source": [
    "#### NPV"
   ]
  },
  {
   "cell_type": "code",
   "execution_count": 41,
   "id": "04c0103e-c424-49af-8973-09a13878ea3f",
   "metadata": {},
   "outputs": [
    {
     "name": "stdout",
     "output_type": "stream",
     "text": [
      "\n",
      "Logistic regression                                    Number of obs = 408,818\n",
      "                                                       LR chi2(0)    =   -0.00\n",
      "                                                       Prob > chi2   =       .\n",
      "Log likelihood = -889.86806                            Pseudo R2     = -0.0000\n",
      "\n",
      "------------------------------------------------------------------------------\n",
      "    diag_neg |       Odds   Std. err.      z    P>|z|     [95% conf. interval]\n",
      "-------------+----------------------------------------------------------------\n",
      "       _cons |   4302.347   441.4628    81.54   0.000     3518.551    5260.743\n",
      "------------------------------------------------------------------------------\n"
     ]
    }
   ],
   "source": [
    "logistic diag_neg if test==0"
   ]
  },
  {
   "cell_type": "code",
   "execution_count": 42,
   "id": "93a5b760",
   "metadata": {},
   "outputs": [
    {
     "name": "stdout",
     "output_type": "stream",
     "text": [
      "(422,422 real changes made)\n",
      "note: 8.region != 0 predicts success perfectly;\n",
      "      8.region omitted and 7558 obs not used.\n",
      "\n",
      "note: 9.region != 0 predicts success perfectly;\n",
      "      9.region omitted and 2883 obs not used.\n",
      "\n",
      "\n",
      "Fitting fixed-effects model:\n",
      "\n",
      "Iteration 0:  Log likelihood = -33741.694  \n",
      "Iteration 1:  Log likelihood =     -908.5  \n",
      "Iteration 2:  Log likelihood = -849.29072  \n",
      "Iteration 3:  Log likelihood = -844.50663  \n",
      "Iteration 4:  Log likelihood = -844.45637  \n",
      "Iteration 5:  Log likelihood = -844.45634  \n",
      "\n",
      "Refining starting values:\n",
      "\n",
      "Grid node 0:  Log likelihood = -851.61441\n",
      "\n",
      "Fitting full model:\n",
      "\n",
      "Iteration 0:  Log likelihood = -851.61441  (not concave)\n",
      "Iteration 1:  Log likelihood = -844.79726  \n",
      "Iteration 2:  Log likelihood = -843.85072  \n",
      "Iteration 3:  Log likelihood = -843.84412  \n",
      "Iteration 4:  Log likelihood = -843.84412  \n",
      "\n",
      "Mixed-effects logistic regression               Number of obs     =    397,464\n",
      "Group variable: practice_id                     Number of groups  =        324\n",
      "\n",
      "                                                Obs per group:\n",
      "                                                              min =          1\n",
      "                                                              avg =    1,226.7\n",
      "                                                              max =     10,000\n",
      "\n",
      "Integration method: mvaghermite                 Integration pts.  =          7\n",
      "\n",
      "                                                Wald chi2(16)     =      72.07\n",
      "Log likelihood = -843.84412                     Prob > chi2       =     0.0000\n",
      "----------------------------------------------------------------------------------------------------------------\n",
      "                                       newdiag | Odds ratio   Std. err.      z    P>|z|     [95% conf. interval]\n",
      "-----------------------------------------------+----------------------------------------------------------------\n",
      "                                   1.sex_coded |   .8237249   .1702265    -0.94   0.348     .5493859    1.235057\n",
      "                                               |\n",
      "                                       yearcat |\n",
      "                                    2010-2015  |   .8226873   .2173869    -0.74   0.460     .4901323    1.380881\n",
      "                                    2016-2020  |   .7617028   .2085462    -0.99   0.320      .445385    1.302673\n",
      "                                               |\n",
      "                                        agecat |\n",
      "                                      0Middle  |    .390699   .1376167    -2.67   0.008     .1958944    .7792247\n",
      "                                      Elderly  |   .1374962   .0501402    -5.44   0.000     .0672801    .2809927\n",
      "                                               |\n",
      "                                        region |\n",
      "                  LONDON COMMISSIONING REGION  |   5.260083   5.535974     1.58   0.115     .6685678    41.38469\n",
      "                MIDLANDS COMMISSIONING REGION  |     1.3745   .5035458     0.87   0.385     .6703603     2.81826\n",
      "NORTH EAST AND YORKSHIRE COMMISSIONING REGION  |   1.368576   .4831937     0.89   0.374     .6850795    2.733989\n",
      "              NORTH WEST COMMISSIONING REGION  |   1.974698   .9510173     1.41   0.158     .7683528    5.075052\n",
      "              SOUTH EAST COMMISSIONING REGION  |   3.195256    1.46956     2.53   0.012     1.297244     7.87027\n",
      "              SOUTH WEST COMMISSIONING REGION  |   .9678705   .4049532    -0.08   0.938     .4262632     2.19764\n",
      "                                     Scotland  |          1  (empty)\n",
      "                                        Wales  |          1  (empty)\n",
      "                                               |\n",
      "                                      RA_index |   1.136291   .3370777     0.43   0.667     .6353056    2.032339\n",
      "                                               |\n",
      "                                        ethnic |\n",
      "                                      Missing  |   2.024869    .663545     2.15   0.031     1.065271    3.848875\n",
      "                                        Other  |   .4485376   .1286839    -2.79   0.005     .2556183    .7870561\n",
      "                                               |\n",
      "                                        imdcat |\n",
      "                                          4-7  |   1.502209   .4351031     1.40   0.160     .8515038    2.650173\n",
      "                                         8-10  |   1.935382   .6461497     1.98   0.048     1.005966     3.72349\n",
      "                                               |\n",
      "                                         _cons |    8287.47   3937.399    18.99   0.000     3265.982    21029.56\n",
      "-----------------------------------------------+----------------------------------------------------------------\n",
      "practice_id                                    |\n",
      "                                     var(_cons)|   .2372804   .2282689                      .0360071    1.563638\n",
      "----------------------------------------------------------------------------------------------------------------\n",
      "Note: Estimates are transformed only in the first equation to odds ratios.\n",
      "Note: _cons estimates baseline odds (conditional on zero random effects).\n",
      "LR test vs. logistic model: chibar2(01) = 1.22        Prob >= chibar2 = 0.1342\n"
     ]
    }
   ],
   "source": [
    "/* need to use the same response variable (newdiag) to line up the two model results */\n",
    "replace newdiag=diag_neg \n",
    "\n",
    "melogit newdiag i.sex i.yearcat i.agecat i.region RA_index i.ethnic i.imdcat if test==0 || practice_id:,or\n",
    "estimates store model2"
   ]
  },
  {
   "cell_type": "markdown",
   "id": "60c60b7a",
   "metadata": {},
   "source": [
    "##### Likelihood ratio tests"
   ]
  },
  {
   "cell_type": "code",
   "execution_count": 43,
   "id": "c31bd1f1-c69b-4600-a1c0-bde311d67651",
   "metadata": {},
   "outputs": [],
   "source": [
    "\n",
    "quietly: melogit newdiag i.yearcat i.agecat i.region RA_index i.ethnic i.imdcat if test==0 || practice_id:,or\n",
    "estimates store model2_sex\n",
    "quietly: melogit newdiag i.sex i.agecat i.region RA_index i.ethnic i.imdcat if test==0 || practice_id:,or\n",
    "estimates store model2_year\n",
    "quietly: melogit newdiag i.sex i.yearcat i.region RA_index i.ethnic i.imdcat if test==0 || practice_id:,or\n",
    "estimates store model2_age\n",
    "quietly: melogit newdiag i.sex i.yearcat i.agecat i.region RA_index i.imdcat if test==0 || practice_id:,or\n",
    "estimates store model2_ethnicity\n",
    "quietly: melogit newdiag i.sex i.yearcat i.agecat i.region RA_index i.ethnic if test==0 || practice_id:,or\n",
    "estimates store model2_imd\n"
   ]
  },
  {
   "cell_type": "code",
   "execution_count": 44,
   "id": "95d03409",
   "metadata": {},
   "outputs": [
    {
     "name": "stdout",
     "output_type": "stream",
     "text": [
      "\n",
      "Likelihood-ratio test\n",
      "Assumption: model2_sex nested within model2\n",
      "\n",
      " LR chi2(1) =   0.88\n",
      "Prob > chi2 = 0.3476\n",
      "\n",
      "Likelihood-ratio test\n",
      "Assumption: model2_year nested within model2\n",
      "\n",
      " LR chi2(2) =   1.04\n",
      "Prob > chi2 = 0.5930\n",
      "\n",
      "Likelihood-ratio test\n",
      "Assumption: model2_age nested within model2\n",
      "\n",
      " LR chi2(2) =  39.61\n",
      "Prob > chi2 = 0.0000\n",
      "\n",
      "Likelihood-ratio test\n",
      "Assumption: model2_ethni~y nested within model2\n",
      "\n",
      " LR chi2(2) =  14.13\n",
      "Prob > chi2 = 0.0009\n",
      "\n",
      "Likelihood-ratio test\n",
      "Assumption: model2_imd nested within model2\n",
      "\n",
      " LR chi2(2) =   4.41\n",
      "Prob > chi2 = 0.1105\n"
     ]
    }
   ],
   "source": [
    "lrtest model2 model2_sex\n",
    "lrtest model2 model2_year\n",
    "lrtest model2 model2_age\n",
    "lrtest model2 model2_ethnicity\n",
    "lrtest model2 model2_imd\n"
   ]
  },
  {
   "cell_type": "code",
   "execution_count": 47,
   "id": "017939f5-75b7-4ee0-9f7b-3105e0d2bfe1",
   "metadata": {},
   "outputs": [
    {
     "name": "stdout",
     "output_type": "stream",
     "text": [
      "\n",
      "Table 2. PPV (1) and NPV (2), OR, Random effect\n",
      "-------------------------------------------------------------------\n",
      "                                                    1         2    \n",
      "-------------------------------------------------------------------\n",
      "sex_coded                                                          \n",
      "  1                                              1.23 **    0.82   \n",
      "yearcat                                                            \n",
      "  2010-2015                                      1.35 **    0.82   \n",
      "  2016-2020                                      1.30 **    0.76   \n",
      "agecat                                                             \n",
      "  0Middle                                        0.22 **    0.39 **\n",
      "  Elderly                                        0.08 **    0.14 **\n",
      "region                                                             \n",
      "  LONDON COMMISSIONING REGION                    1.74       5.26   \n",
      "  MIDLANDS COMMISSIONING REGION                  1.24       1.37   \n",
      "  NORTH EAST AND YORKSHIRE COMMISSIONING REGION  0.66 *     1.37   \n",
      "  NORTH WEST COMMISSIONING REGION                1.48       1.97   \n",
      "  SOUTH EAST COMMISSIONING REGION                0.97       3.20 * \n",
      "  SOUTH WEST COMMISSIONING REGION                1.01       0.97   \n",
      "  Scotland                                       0.74              \n",
      "  Wales                                          0.51              \n",
      "RA_index                                         1.23       1.14   \n",
      "ethnic                                                             \n",
      "  Missing                                        0.87       2.02 * \n",
      "  Other                                          0.44 **    0.45 **\n",
      "imdcat                                                             \n",
      "  4-7                                            1.14       1.50   \n",
      "  8-10                                           1.29       1.94 * \n",
      "Intercept                                        0.36 ** 8287.47 **\n",
      "var(_cons[practice_id])                          0.41       0.24   \n",
      "Number of observations                          13548     397464   \n",
      "-------------------------------------------------------------------\n",
      "** p<.01, * p<.05\n"
     ]
    }
   ],
   "source": [
    "etable, estimates(model1 model2) showstars showstarsnote title(\"Table 2. PPV (1) and NPV (2),  OR, Random effect\") cstat(_r_b,nformat(%6.2f)) column(index)"
   ]
  },
  {
   "cell_type": "markdown",
   "id": "e7e9a417",
   "metadata": {},
   "source": [
    "### Summary of validation parameters"
   ]
  },
  {
   "cell_type": "code",
   "execution_count": 48,
   "id": "e27d82a4-8d2d-4529-8a15-ae4baabfa28c",
   "metadata": {},
   "outputs": [
    {
     "name": "stdout",
     "output_type": "stream",
     "text": [
      "(26 real changes made)\n",
      "(25 real changes made)\n",
      "(26 real changes made)\n",
      "(26 real changes made)\n",
      "(25 real changes made)\n",
      "(26 real changes made)\n"
     ]
    }
   ],
   "source": [
    "use validity.dta, clear\n",
    "replace prev=round(prev, 0.1)\n",
    "gen prev_a=round(((prev/100)*((sens/100)+(spec/100)-1)+1-(spec/100))*100,0.1)/*apparent prevalence*/\n",
    "replace sens=round(sens, 0.1)\n",
    "replace spec=round(spec,0.1)\n",
    "replace ppv=round(ppv, 0.1)\n",
    "replace npv=round(npv, 0.1)\n",
    "replace roc=round(roc, 0.01)\n"
   ]
  },
  {
   "cell_type": "code",
   "execution_count": 49,
   "id": "8129bfb3-cd21-4077-a785-9a74a846c65b",
   "metadata": {},
   "outputs": [
    {
     "data": {
      "text/html": [
       "<div>\n",
       "<style scoped>\n",
       "    .dataframe tbody tr th:only-of-type {\n",
       "        vertical-align: middle;\n",
       "    }\n",
       "\n",
       "    .dataframe tbody tr th {\n",
       "        vertical-align: top;\n",
       "    }\n",
       "\n",
       "    .dataframe thead th {\n",
       "        text-align: right;\n",
       "    }\n",
       "</style>\n",
       "<table border=\"1\" class=\"dataframe\">\n",
       "  <thead>\n",
       "    <tr style=\"text-align: right;\">\n",
       "      <th></th>\n",
       "      <th>var</th>\n",
       "      <th>prev</th>\n",
       "      <th>sens</th>\n",
       "      <th>spec</th>\n",
       "      <th>ppv</th>\n",
       "      <th>npv</th>\n",
       "      <th>roc</th>\n",
       "      <th>prev_a</th>\n",
       "    </tr>\n",
       "  </thead>\n",
       "  <tbody>\n",
       "    <tr>\n",
       "      <th>1</th>\n",
       "      <td>all</td>\n",
       "      <td>.4</td>\n",
       "      <td>93.9</td>\n",
       "      <td>97.1</td>\n",
       "      <td>10.7</td>\n",
       "      <td>100</td>\n",
       "      <td>.95</td>\n",
       "      <td>3.2</td>\n",
       "    </tr>\n",
       "    <tr>\n",
       "      <th>2</th>\n",
       "      <td>Male</td>\n",
       "      <td>.4</td>\n",
       "      <td>94.3</td>\n",
       "      <td>96.9</td>\n",
       "      <td>11.2</td>\n",
       "      <td>100</td>\n",
       "      <td>.96</td>\n",
       "      <td>3.5</td>\n",
       "    </tr>\n",
       "    <tr>\n",
       "      <th>3</th>\n",
       "      <td>Female</td>\n",
       "      <td>.3</td>\n",
       "      <td>93.3</td>\n",
       "      <td>97.4</td>\n",
       "      <td>10.1</td>\n",
       "      <td>100</td>\n",
       "      <td>.95</td>\n",
       "      <td>2.9</td>\n",
       "    </tr>\n",
       "    <tr>\n",
       "      <th>4</th>\n",
       "      <td>Age young</td>\n",
       "      <td>.3</td>\n",
       "      <td>97.1</td>\n",
       "      <td>99.5</td>\n",
       "      <td>35.2</td>\n",
       "      <td>100</td>\n",
       "      <td>.98</td>\n",
       "      <td>.8</td>\n",
       "    </tr>\n",
       "    <tr>\n",
       "      <th>5</th>\n",
       "      <td>Age middle</td>\n",
       "      <td>.4</td>\n",
       "      <td>95.1</td>\n",
       "      <td>97</td>\n",
       "      <td>11.5</td>\n",
       "      <td>100</td>\n",
       "      <td>.96</td>\n",
       "      <td>3.4</td>\n",
       "    </tr>\n",
       "    <tr>\n",
       "      <th>6</th>\n",
       "      <td>Age elderly</td>\n",
       "      <td>.3</td>\n",
       "      <td>86.3</td>\n",
       "      <td>94.3</td>\n",
       "      <td>4.9</td>\n",
       "      <td>100</td>\n",
       "      <td>.9</td>\n",
       "      <td>5.9</td>\n",
       "    </tr>\n",
       "    <tr>\n",
       "      <th>7</th>\n",
       "      <td>Year 2004-2009</td>\n",
       "      <td>.3</td>\n",
       "      <td>93.9</td>\n",
       "      <td>97.1</td>\n",
       "      <td>8.4</td>\n",
       "      <td>100</td>\n",
       "      <td>.95</td>\n",
       "      <td>3.2</td>\n",
       "    </tr>\n",
       "    <tr>\n",
       "      <th>8</th>\n",
       "      <td>Year 2010-2015</td>\n",
       "      <td>.4</td>\n",
       "      <td>93.9</td>\n",
       "      <td>97.2</td>\n",
       "      <td>11.8</td>\n",
       "      <td>100</td>\n",
       "      <td>.96</td>\n",
       "      <td>3.1</td>\n",
       "    </tr>\n",
       "    <tr>\n",
       "      <th>9</th>\n",
       "      <td>Year 2016-2020</td>\n",
       "      <td>.4</td>\n",
       "      <td>93.8</td>\n",
       "      <td>97.1</td>\n",
       "      <td>12</td>\n",
       "      <td>100</td>\n",
       "      <td>.95</td>\n",
       "      <td>3.3</td>\n",
       "    </tr>\n",
       "    <tr>\n",
       "      <th>10</th>\n",
       "      <td>IMD 1,3</td>\n",
       "      <td>.4</td>\n",
       "      <td>90.9</td>\n",
       "      <td>96.7</td>\n",
       "      <td>9.1</td>\n",
       "      <td>100</td>\n",
       "      <td>.94</td>\n",
       "      <td>3.7</td>\n",
       "    </tr>\n",
       "    <tr>\n",
       "      <th>11</th>\n",
       "      <td>IMD 4,7</td>\n",
       "      <td>.4</td>\n",
       "      <td>95</td>\n",
       "      <td>97.2</td>\n",
       "      <td>11.7</td>\n",
       "      <td>100</td>\n",
       "      <td>.96</td>\n",
       "      <td>3.2</td>\n",
       "    </tr>\n",
       "    <tr>\n",
       "      <th>12</th>\n",
       "      <td>IMD 8,10</td>\n",
       "      <td>.3</td>\n",
       "      <td>96.2</td>\n",
       "      <td>97.6</td>\n",
       "      <td>11.8</td>\n",
       "      <td>100</td>\n",
       "      <td>.97</td>\n",
       "      <td>2.7</td>\n",
       "    </tr>\n",
       "    <tr>\n",
       "      <th>13</th>\n",
       "      <td>London</td>\n",
       "      <td>.3</td>\n",
       "      <td>97.8</td>\n",
       "      <td>98.8</td>\n",
       "      <td>18.2</td>\n",
       "      <td>100</td>\n",
       "      <td>.98</td>\n",
       "      <td>1.5</td>\n",
       "    </tr>\n",
       "    <tr>\n",
       "      <th>14</th>\n",
       "      <td>Midlands</td>\n",
       "      <td>.4</td>\n",
       "      <td>94.2</td>\n",
       "      <td>96.8</td>\n",
       "      <td>11.6</td>\n",
       "      <td>100</td>\n",
       "      <td>.96</td>\n",
       "      <td>3.6</td>\n",
       "    </tr>\n",
       "    <tr>\n",
       "      <th>15</th>\n",
       "      <td>Yorkshire</td>\n",
       "      <td>.3</td>\n",
       "      <td>90.5</td>\n",
       "      <td>96.3</td>\n",
       "      <td>6.9</td>\n",
       "      <td>100</td>\n",
       "      <td>.93</td>\n",
       "      <td>4</td>\n",
       "    </tr>\n",
       "    <tr>\n",
       "      <th>16</th>\n",
       "      <td>North West</td>\n",
       "      <td>.4</td>\n",
       "      <td>96</td>\n",
       "      <td>98.4</td>\n",
       "      <td>17.8</td>\n",
       "      <td>100</td>\n",
       "      <td>.97</td>\n",
       "      <td>2</td>\n",
       "    </tr>\n",
       "    <tr>\n",
       "      <th>17</th>\n",
       "      <td>South East</td>\n",
       "      <td>.3</td>\n",
       "      <td>97.5</td>\n",
       "      <td>97.6</td>\n",
       "      <td>11.5</td>\n",
       "      <td>100</td>\n",
       "      <td>.98</td>\n",
       "      <td>2.6</td>\n",
       "    </tr>\n",
       "    <tr>\n",
       "      <th>18</th>\n",
       "      <td>South West</td>\n",
       "      <td>.4</td>\n",
       "      <td>92.9</td>\n",
       "      <td>97</td>\n",
       "      <td>11.8</td>\n",
       "      <td>100</td>\n",
       "      <td>.95</td>\n",
       "      <td>3.4</td>\n",
       "    </tr>\n",
       "    <tr>\n",
       "      <th>19</th>\n",
       "      <td>SystemOne</td>\n",
       "      <td>.4</td>\n",
       "      <td>91.3</td>\n",
       "      <td>96.4</td>\n",
       "      <td>8.7</td>\n",
       "      <td>100</td>\n",
       "      <td>.94</td>\n",
       "      <td>3.9</td>\n",
       "    </tr>\n",
       "    <tr>\n",
       "      <th>20</th>\n",
       "      <td>Vision</td>\n",
       "      <td>.2</td>\n",
       "      <td>100</td>\n",
       "      <td>97</td>\n",
       "      <td>6.1</td>\n",
       "      <td>100</td>\n",
       "      <td>.98</td>\n",
       "      <td>3.2</td>\n",
       "    </tr>\n",
       "    <tr>\n",
       "      <th>21</th>\n",
       "      <td>EMIS</td>\n",
       "      <td>.4</td>\n",
       "      <td>96.9</td>\n",
       "      <td>98</td>\n",
       "      <td>15.4</td>\n",
       "      <td>100</td>\n",
       "      <td>.97</td>\n",
       "      <td>2.3</td>\n",
       "    </tr>\n",
       "    <tr>\n",
       "      <th>22</th>\n",
       "      <td>RAIndex1</td>\n",
       "      <td>.4</td>\n",
       "      <td>94.3</td>\n",
       "      <td>97.2</td>\n",
       "      <td>10.9</td>\n",
       "      <td>100</td>\n",
       "      <td>.96</td>\n",
       "      <td>3.2</td>\n",
       "    </tr>\n",
       "    <tr>\n",
       "      <th>23</th>\n",
       "      <td>RAIndex0</td>\n",
       "      <td>.4</td>\n",
       "      <td>92.5</td>\n",
       "      <td>96.9</td>\n",
       "      <td>9.9</td>\n",
       "      <td>100</td>\n",
       "      <td>.95</td>\n",
       "      <td>3.4</td>\n",
       "    </tr>\n",
       "    <tr>\n",
       "      <th>24</th>\n",
       "      <td>Ethnicity_0white</td>\n",
       "      <td>.5</td>\n",
       "      <td>94.6</td>\n",
       "      <td>96.9</td>\n",
       "      <td>12.2</td>\n",
       "      <td>100</td>\n",
       "      <td>.96</td>\n",
       "      <td>3.6</td>\n",
       "    </tr>\n",
       "    <tr>\n",
       "      <th>25</th>\n",
       "      <td>Ethnicity_Other</td>\n",
       "      <td>.3</td>\n",
       "      <td>86.6</td>\n",
       "      <td>95.6</td>\n",
       "      <td>6.3</td>\n",
       "      <td>100</td>\n",
       "      <td>.91</td>\n",
       "      <td>4.7</td>\n",
       "    </tr>\n",
       "    <tr>\n",
       "      <th>26</th>\n",
       "      <td>Ethnicity_Missing</td>\n",
       "      <td>.2</td>\n",
       "      <td>94.8</td>\n",
       "      <td>98.1</td>\n",
       "      <td>8.9</td>\n",
       "      <td>100</td>\n",
       "      <td>.96</td>\n",
       "      <td>2</td>\n",
       "    </tr>\n",
       "  </tbody>\n",
       "</table>\n",
       "</div>"
      ]
     },
     "metadata": {},
     "output_type": "display_data"
    }
   ],
   "source": [
    "%head 50"
   ]
  },
  {
   "cell_type": "code",
   "execution_count": 50,
   "id": "47dc850c-f3c8-4b9c-8ba9-3620f31b4fa9",
   "metadata": {},
   "outputs": [],
   "source": [
    "/*texsave * using test3.tex, varlabels\n",
    "export excel using  validity2.xlsx, sheet(val_dm, replace)\n",
    "*/"
   ]
  }
 ],
 "metadata": {
  "kernelspec": {
   "display_name": "Stata (nbstata)",
   "language": "stata",
   "name": "nbstata"
  },
  "language_info": {
   "file_extension": ".do",
   "mimetype": "text/x-stata",
   "name": "stata",
   "version": "17"
  }
 },
 "nbformat": 4,
 "nbformat_minor": 5
}
