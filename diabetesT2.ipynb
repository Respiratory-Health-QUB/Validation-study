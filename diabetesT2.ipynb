{
 "cells": [
  {
   "cell_type": "markdown",
   "id": "13e469d7",
   "metadata": {},
   "source": [
    "# Validity of using prescription records to identify patient comorbidities\n",
    "## Analysis of T2DM"
   ]
  },
  {
   "cell_type": "markdown",
   "id": "a3d5caf8",
   "metadata": {},
   "source": [
    "**ReadMe:**\n",
    "- This is a script used in the analysis for Schnier et al., 2025: Validity of using prescription records to classify disease – a record linkage study using routinely collected electronic health records from the UK.\n",
    "- The underlying data set has been created using the Optimum Patient Care Research Database (https://opcrd.optimumpatientcare.org/). The authors do not have permission to give the public access to the study dataset; researchers may request access to OPCRD for their own purposes. \n",
    " - All code is run in StataSE 18. \n"
   ]
  },
  {
   "cell_type": "markdown",
   "id": "1cf02e3e-e834-469d-abf1-21c9ce29f756",
   "metadata": {},
   "source": [
    "**Set up:**\n",
    "|Var|Input|\n",
    "| --- | --- | \n",
    "|population|425,000|\n",
    "|diagnostic codes|OpenCodelist (Snomed) and HDRUK (read)|\n",
    "|drug codes|bnf 06.06.02|\n",
    "|sql date|13.03.2025|\n",
    "|sql code|T2dibetesselection20250313.sql| "
   ]
  },
  {
   "cell_type": "code",
   "execution_count": 1,
   "id": "2a759161-052f-4433-ab6c-0ad7ab9120e9",
   "metadata": {},
   "outputs": [
    {
     "data": {
      "text/html": [
       "<style>div.jp-Notebook .datagrid-container {min-height: 448px; }</style>"
      ],
      "text/plain": [
       "<IPython.core.display.HTML object>"
      ]
     },
     "metadata": {},
     "output_type": "display_data"
    }
   ],
   "source": [
    "    clear all"
   ]
  },
  {
   "cell_type": "markdown",
   "id": "5e9a592b-20c3-4eb6-b947-22979a02dcf0",
   "metadata": {},
   "source": [
    "### Import from SQL server and data wrangling"
   ]
  },
  {
   "cell_type": "code",
   "execution_count": 2,
   "id": "b5b5eb32-1b5c-44c2-901c-0e9d1a4e36d2",
   "metadata": {},
   "outputs": [],
   "source": [
    "odbc load, exec(\"select * from [t2diabetes_425000_20250313]\") dsn(\"sqlserverconnect\")"
   ]
  },
  {
   "cell_type": "code",
   "execution_count": 3,
   "id": "0835f95f-a07b-4d29-b825-b3823bfad60e",
   "metadata": {
    "scrolled": true
   },
   "outputs": [
    {
     "name": "stdout",
     "output_type": "stream",
     "text": [
      "(23,990 missing values generated)\n",
      "(23,990 real changes made)\n",
      "(20,289 missing values generated)\n",
      "(20,289 real changes made)\n",
      "(2,589 missing values generated)\n",
      "variable bnf_code was str6 now str18\n",
      "(23,953 real changes made)\n",
      "(35 real changes made)\n",
      "variable ethnicity was str2 now str6\n",
      "(258,007 real changes made)\n",
      "(3,762 real changes made)\n",
      "(23,924 real changes made)\n",
      "(7,431 real changes made)\n",
      "(8,765 real changes made)\n",
      "variable ethnicity was str6 now str7\n",
      "(123,166 real changes made)\n"
     ]
    }
   ],
   "source": [
    "generate test=0 if missing(drug_dt)\n",
    "replace test=1 if ! missing(drug_dt)  \n",
    "\n",
    "generate diag=0 if missing(diag_dt)\n",
    "replace diag=1 if ! missing(diag_dt)  \n",
    "\n",
    "gen start_year=year(fu_start_dt)\n",
    "\n",
    "\n",
    "egen agecat = cut(age), at(16,30,70,120)\n",
    "label def agecat_lab 16 \"Young\" 30 \"0Middle\" 70 \"Elderly\" 120 \"weird\"\n",
    "label values agecat agecat_lab\n",
    "\n",
    "\n",
    "egen yearcat = cut(start_year), at(2004,2010,2016,2025)\n",
    "label def yearcat_lab 2004 \"2004-2009\" 2010 \"2010-2015\" 2016 \"2016-2020\" \n",
    "label values yearcat yearcat_lab\n",
    "\n",
    "egen imdcat = cut(imd_decile), at(0,4,8,11)\n",
    "label def imdcat_lab 0 \"1-3\" 4 \"4-7\" 8 \"8-10\" \n",
    "label values imdcat imdcat_lab\n",
    "\n",
    "\n",
    "replace bnf_code = \"Antidiabetic drugs\" if bnf_code== \"060102\"\n",
    "replace bnf_code = \"Other/unknown\" if missing(bnf_code) & ! missing(drug_dt)\n",
    "\n",
    "\n",
    "\n",
    "replace ethnicity=\"0white\" if ethnicity==\"1\"\n",
    "replace ethnicity=\"Other\" if ethnicity==\"2\"\n",
    "replace ethnicity=\"Other\" if ethnicity==\"3\"\n",
    "replace ethnicity=\"Other\" if ethnicity==\"4\"\n",
    "replace ethnicity=\"Other\" if ethnicity==\"5\"\n",
    "replace ethnicity=\"Missing\" if ethnicity==\"99\"\n",
    "\n",
    "\n",
    "\n",
    "\n",
    "encode bnf_code, generate(bnf_code_values) \n",
    "encode description, generate(description_values)\n",
    "encode ethnicity, generate(ethnicity_values) \n",
    "\n",
    "gen diag_neg=diag==0\n",
    "gen diag_pos=diag==1\n",
    "encode region_name, generate(region) label(regionlbl)\n",
    "encode ethnicity, generate(ethnic)"
   ]
  },
  {
   "cell_type": "code",
   "execution_count": 4,
   "id": "4bb67b58-5460-4077-bd5d-6252a35d7c1e",
   "metadata": {},
   "outputs": [
    {
     "name": "stdout",
     "output_type": "stream",
     "text": [
      "(bin=19, start=16, width=5)\n"
     ]
    },
    {
     "data": {
      "image/png": "[encoded data removed]",
      "text/plain": [
       "<IPython.core.display.Image object>"
      ]
     },
     "metadata": {},
     "output_type": "display_data"
    }
   ],
   "source": [
    "histogram age, width(5)\n"
   ]
  },
  {
   "cell_type": "markdown",
   "id": "cfdd2c1f-86b9-4840-8106-662ce151f20e",
   "metadata": {},
   "source": [
    "This table holds one randomly selected diagnostic code found during the observation period. The table is truncated to only include diagnostic codes with a count of 10 or more."
   ]
  },
  {
   "cell_type": "code",
   "execution_count": 5,
   "id": "6544a018-204b-4fcb-b5ab-d9ec745e764f",
   "metadata": {},
   "outputs": [
    {
     "name": "stdout",
     "output_type": "stream",
     "text": [
      "\n",
      "  +---------------------------------------------------------------------------------------+\n",
      "  |                                                 description   Freq.   Percent     %<= |\n",
      "  |---------------------------------------------------------------------------------------|\n",
      "  |                                    Diabetes mellitus type 2    9059     44.65   44.65 |\n",
      "  |                                   Type II diabetes mellitus    6156     30.34   74.99 |\n",
      "  |                             Type II diabetic dietary review    2757     13.59   88.58 |\n",
      "  |                                      Diabetes type 2 review     618      3.05   91.63 |\n",
      "  |                                     Diabetes type II review     463      2.28   93.91 |\n",
      "  |---------------------------------------------------------------------------------------|\n",
      "  |                    Insulin treated type 2 diabetes mellitus     206      1.02   94.92 |\n",
      "  |                         History of diabetes mellitus type 2     153      0.75   95.68 |\n",
      "  |                    Insulin treated Type 2 diabetes mellitus     149      0.73   96.41 |\n",
      "  |                               H/O: diabetes mellitus type 2     108      0.53   96.94 |\n",
      "  |                         Dietary advice for type II diabetes      62      0.31   97.25 |\n",
      "  |---------------------------------------------------------------------------------------|\n",
      "  |              Type II diabetes mellitus without complication      46      0.23   97.48 |\n",
      "  |                       Uncontrolled type 2 diabetes mellitus      45      0.22   97.70 |\n",
      "  |      Non-insulin dependent diabetes mellitus - poor control      44      0.22   97.92 |\n",
      "  |                    Type II diabetes mellitus - poor control      44      0.22   98.13 |\n",
      "  | Persistent microalbuminuria due to type 2 diabetes mellitus      43      0.21   98.34 |\n",
      "  |---------------------------------------------------------------------------------------|\n",
      "  |                      Type II diabetes mellitus in remission      37      0.18   98.53 |\n",
      "  |  Type II diabetes mellitus with persistent microalbuminuria      32      0.16   98.68 |\n",
      "  |                     Non-insulin dependent diabetes mellitus      28      0.14   98.82 |\n",
      "  |       Type II diabetes mellitus with persistent proteinuria      26      0.13   98.95 |\n",
      "  |      Persistent proteinuria due to type 2 diabetes mellitus      24      0.12   99.07 |\n",
      "  |---------------------------------------------------------------------------------------|\n",
      "  |              Renal disorder due to type 2 diabetes mellitus      17      0.08   99.15 |\n",
      "  |         Type 2 diabetes mellitus risk assessment invitation      17      0.08   99.24 |\n",
      "  |                                Type 2 diabetic on diet only      16      0.08   99.31 |\n",
      "  |                               Type II diabetes on diet only      15      0.07   99.39 |\n",
      "  |  Type 2 diabetes mellitus risk assessment inv second letter      14      0.07   99.46 |\n",
      "  |---------------------------------------------------------------------------------------|\n",
      "  |   Type 2 diabetes mellitus risk assessment inv first letter      12      0.06   99.52 |\n",
      "  |                                  Type 2 diabetic on insulin      10      0.05   99.57 |\n",
      "  +---------------------------------------------------------------------------------------+\n"
     ]
    }
   ],
   "source": [
    "set linesize 132\n",
    "groups description , select(f >= 10) ord(h) table "
   ]
  },
  {
   "cell_type": "markdown",
   "id": "7d01eb90-5ca1-4146-aafb-680a81450cc3",
   "metadata": {},
   "source": [
    "These tables holds one randomly selected prescrption during the observation period. The table is truncated to only include codes with a count of 10 or more.\n"
   ]
  },
  {
   "cell_type": "code",
   "execution_count": 6,
   "id": "a4acd83f-5b6a-49e7-8b49-5dc1f78f2d1a",
   "metadata": {},
   "outputs": [
    {
     "name": "stdout",
     "output_type": "stream",
     "text": [
      "\n",
      "  +----------------------------------------------+\n",
      "  |           bnf_code   Freq.   Percent     %<= |\n",
      "  |----------------------------------------------|\n",
      "  | Antidiabetic drugs   23953     99.85   99.85 |\n",
      "  |      Other/unknown      35      0.15   99.99 |\n",
      "  +----------------------------------------------+\n"
     ]
    }
   ],
   "source": [
    "set linesize 132\n",
    "groups bnf_code , select(f >= 10) ord(h) table "
   ]
  },
  {
   "cell_type": "markdown",
   "id": "67837c2c-bbb5-4681-8000-cd8b3f6cac51",
   "metadata": {},
   "source": [
    "### Results\n",
    "#### Overall"
   ]
  },
  {
   "cell_type": "code",
   "execution_count": 7,
   "id": "733c0f2e-1179-49dc-b95d-48547a864674",
   "metadata": {},
   "outputs": [
    {
     "name": "stdout",
     "output_type": "stream",
     "text": [
      "\n",
      "           |         test\n",
      "      diag |      Pos.       Neg. |     Total\n",
      "-----------+----------------------+----------\n",
      "  Abnormal |    14,740      5,549 |    20,289 \n",
      "    Normal |     9,250    395,516 |   404,766 \n",
      "-----------+----------------------+----------\n",
      "     Total |    23,990    401,065 |   425,055 \n",
      "True abnormal diagnosis defined as diag = 1\n",
      "\n",
      "\n",
      "                                                  [95% Confidence Interval]\n",
      "---------------------------------------------------------------------------\n",
      "Prevalence                         Pr(A)      4.8%      4.7%       4.8%\n",
      "---------------------------------------------------------------------------\n",
      "Sensitivity                      Pr(+|A)     72.7%     72.0%     73.3%\n",
      "Specificity                      Pr(-|N)     97.7%     97.7%     97.8%\n",
      "ROC area               (Sens. + Spec.)/2      0.85      0.85      0.85 \n",
      "---------------------------------------------------------------------------\n",
      "Likelihood ratio (+)     Pr(+|A)/Pr(+|N)     31.79     31.10     32.49 \n",
      "Likelihood ratio (-)     Pr(-|A)/Pr(-|N)      0.28      0.27      0.29 \n",
      "Odds ratio                   LR(+)/LR(-)    113.58    109.44    117.88 \n",
      "Positive predictive value        Pr(A|+)     61.4%     60.8%     62.1% \n",
      "Negative predictive value        Pr(N|-)     98.6%     98.6%     98.7% \n",
      "---------------------------------------------------------------------------\n"
     ]
    }
   ],
   "source": [
    "diagt diag test"
   ]
  },
  {
   "cell_type": "markdown",
   "id": "b119ffa3-90d8-4e4f-9f8d-30cca2284b37",
   "metadata": {},
   "source": [
    "#### Males"
   ]
  },
  {
   "cell_type": "code",
   "execution_count": 8,
   "id": "81028f5e-4e7a-4bb4-b0f6-71d8d0821075",
   "metadata": {},
   "outputs": [
    {
     "name": "stdout",
     "output_type": "stream",
     "text": [
      "\n",
      "           |         test\n",
      "      diag |      Pos.       Neg. |     Total\n",
      "-----------+----------------------+----------\n",
      "  Abnormal |     8,376      2,938 |    11,314 \n",
      "    Normal |     4,588    192,413 |   197,001 \n",
      "-----------+----------------------+----------\n",
      "     Total |    12,964    195,351 |   208,315 \n",
      "True abnormal diagnosis defined as diag = 1\n",
      "\n",
      "\n",
      "                                                  [95% Confidence Interval]\n",
      "---------------------------------------------------------------------------\n",
      "Prevalence                         Pr(A)      5.4%      5.3%       5.5%\n",
      "---------------------------------------------------------------------------\n",
      "Sensitivity                      Pr(+|A)     74.0%     73.2%     74.8%\n",
      "Specificity                      Pr(-|N)     97.7%     97.6%     97.7%\n",
      "ROC area               (Sens. + Spec.)/2      0.86      0.85      0.86 \n",
      "---------------------------------------------------------------------------\n",
      "Likelihood ratio (+)     Pr(+|A)/Pr(+|N)     31.79     30.83     32.78 \n",
      "Likelihood ratio (-)     Pr(-|A)/Pr(-|N)      0.27      0.26      0.27 \n",
      "Odds ratio                   LR(+)/LR(-)    119.56    113.59    125.85 \n",
      "Positive predictive value        Pr(A|+)     64.6%     63.8%     65.4% \n",
      "Negative predictive value        Pr(N|-)     98.5%     98.4%     98.5% \n",
      "---------------------------------------------------------------------------\n"
     ]
    }
   ],
   "source": [
    "diagt diag test if sex==1"
   ]
  },
  {
   "cell_type": "markdown",
   "id": "762df1ac-de32-43e9-8cb3-6696c91e2459",
   "metadata": {},
   "source": [
    "#### Females"
   ]
  },
  {
   "cell_type": "code",
   "execution_count": 9,
   "id": "7fc985e3-7757-4908-ae5a-5d346ee7ccb6",
   "metadata": {},
   "outputs": [
    {
     "name": "stdout",
     "output_type": "stream",
     "text": [
      "\n",
      "           |         test\n",
      "      diag |      Pos.       Neg. |     Total\n",
      "-----------+----------------------+----------\n",
      "  Abnormal |     6,363      2,611 |     8,974 \n",
      "    Normal |     4,662    203,095 |   207,757 \n",
      "-----------+----------------------+----------\n",
      "     Total |    11,025    205,706 |   216,731 \n",
      "True abnormal diagnosis defined as diag = 1\n",
      "\n",
      "\n",
      "                                                  [95% Confidence Interval]\n",
      "---------------------------------------------------------------------------\n",
      "Prevalence                         Pr(A)      4.1%      4.1%       4.2%\n",
      "---------------------------------------------------------------------------\n",
      "Sensitivity                      Pr(+|A)     70.9%     70.0%     71.8%\n",
      "Specificity                      Pr(-|N)     97.8%     97.7%     97.8%\n",
      "ROC area               (Sens. + Spec.)/2      0.84      0.84      0.85 \n",
      "---------------------------------------------------------------------------\n",
      "Likelihood ratio (+)     Pr(+|A)/Pr(+|N)     31.60     30.62     32.60 \n",
      "Likelihood ratio (-)     Pr(-|A)/Pr(-|N)      0.30      0.29      0.31 \n",
      "Odds ratio                   LR(+)/LR(-)    106.17    100.58    112.06 \n",
      "Positive predictive value        Pr(A|+)     57.7%     56.8%     58.6% \n",
      "Negative predictive value        Pr(N|-)     98.7%     98.7%     98.8% \n",
      "---------------------------------------------------------------------------\n"
     ]
    }
   ],
   "source": [
    "diagt diag test if sex==0"
   ]
  },
  {
   "cell_type": "markdown",
   "id": "ab8954a7-060c-4eba-adea-1044fb6bb9ea",
   "metadata": {},
   "source": [
    "#### Age\n",
    "*16-30*"
   ]
  },
  {
   "cell_type": "code",
   "execution_count": 10,
   "id": "f9aa943b-6489-4d70-a905-4aa3b8f2cb6e",
   "metadata": {},
   "outputs": [
    {
     "name": "stdout",
     "output_type": "stream",
     "text": [
      "\n",
      "           |         test\n",
      "      diag |      Pos.       Neg. |     Total\n",
      "-----------+----------------------+----------\n",
      "  Abnormal |       164         60 |       224 \n",
      "    Normal |       592    116,859 |   117,451 \n",
      "-----------+----------------------+----------\n",
      "     Total |       756    116,919 |   117,675 \n",
      "True abnormal diagnosis defined as diag = 1\n",
      "\n",
      "\n",
      "                                                  [95% Confidence Interval]\n",
      "---------------------------------------------------------------------------\n",
      "Prevalence                         Pr(A)      0.2%      0.2%       0.2%\n",
      "---------------------------------------------------------------------------\n",
      "Sensitivity                      Pr(+|A)     73.2%     66.9%     78.9%\n",
      "Specificity                      Pr(-|N)     99.5%     99.5%     99.5%\n",
      "ROC area               (Sens. + Spec.)/2      0.86      0.83      0.89 \n",
      "---------------------------------------------------------------------------\n",
      "Likelihood ratio (+)     Pr(+|A)/Pr(+|N)    145.25    129.76    162.60 \n",
      "Likelihood ratio (-)     Pr(-|A)/Pr(-|N)      0.27      0.22      0.33 \n",
      "Odds ratio                   LR(+)/LR(-)    539.55    397.49    732.36 \n",
      "Positive predictive value        Pr(A|+)     21.7%     18.8%     24.8% \n",
      "Negative predictive value        Pr(N|-)     99.9%     99.9%    100.0% \n",
      "---------------------------------------------------------------------------\n"
     ]
    }
   ],
   "source": [
    "diagt diag test if agecat==16"
   ]
  },
  {
   "cell_type": "markdown",
   "id": "999f9154-f87e-44c7-8928-1345fa5c5958",
   "metadata": {},
   "source": [
    "*30-69*"
   ]
  },
  {
   "cell_type": "code",
   "execution_count": 11,
   "id": "6fcb0167-b359-4f24-91e3-a10fb2caa610",
   "metadata": {},
   "outputs": [
    {
     "name": "stdout",
     "output_type": "stream",
     "text": [
      "\n",
      "           |         test\n",
      "      diag |      Pos.       Neg. |     Total\n",
      "-----------+----------------------+----------\n",
      "  Abnormal |     7,947      2,374 |    10,321 \n",
      "    Normal |     4,573    206,542 |   211,115 \n",
      "-----------+----------------------+----------\n",
      "     Total |    12,520    208,916 |   221,436 \n",
      "True abnormal diagnosis defined as diag = 1\n",
      "\n",
      "\n",
      "                                                  [95% Confidence Interval]\n",
      "---------------------------------------------------------------------------\n",
      "Prevalence                         Pr(A)      4.7%      4.6%       4.7%\n",
      "---------------------------------------------------------------------------\n",
      "Sensitivity                      Pr(+|A)     77.0%     76.2%     77.8%\n",
      "Specificity                      Pr(-|N)     97.8%     97.8%     97.9%\n",
      "ROC area               (Sens. + Spec.)/2      0.87      0.87      0.88 \n",
      "---------------------------------------------------------------------------\n",
      "Likelihood ratio (+)     Pr(+|A)/Pr(+|N)     35.55     34.48     36.65 \n",
      "Likelihood ratio (-)     Pr(-|A)/Pr(-|N)      0.24      0.23      0.24 \n",
      "Odds ratio                   LR(+)/LR(-)    151.19    143.19    159.65 \n",
      "Positive predictive value        Pr(A|+)     63.5%     62.6%     64.3% \n",
      "Negative predictive value        Pr(N|-)     98.9%     98.8%     98.9% \n",
      "---------------------------------------------------------------------------\n"
     ]
    }
   ],
   "source": [
    "diagt diag test if agecat==30"
   ]
  },
  {
   "cell_type": "markdown",
   "id": "10d9753a",
   "metadata": {},
   "source": [
    "*>69*"
   ]
  },
  {
   "cell_type": "code",
   "execution_count": 12,
   "id": "fd782079-4378-4cc3-9a2c-4adb92379d41",
   "metadata": {},
   "outputs": [
    {
     "name": "stdout",
     "output_type": "stream",
     "text": [
      "\n",
      "           |         test\n",
      "      diag |      Pos.       Neg. |     Total\n",
      "-----------+----------------------+----------\n",
      "  Abnormal |     6,629      3,115 |     9,744 \n",
      "    Normal |     4,085     72,115 |    76,200 \n",
      "-----------+----------------------+----------\n",
      "     Total |    10,714     75,230 |    85,944 \n",
      "True abnormal diagnosis defined as diag = 1\n",
      "\n",
      "\n",
      "                                                  [95% Confidence Interval]\n",
      "---------------------------------------------------------------------------\n",
      "Prevalence                         Pr(A)     11.3%     11.1%      11.6%\n",
      "---------------------------------------------------------------------------\n",
      "Sensitivity                      Pr(+|A)     68.0%     67.1%     69.0%\n",
      "Specificity                      Pr(-|N)     94.6%     94.5%     94.8%\n",
      "ROC area               (Sens. + Spec.)/2      0.81      0.81      0.82 \n",
      "---------------------------------------------------------------------------\n",
      "Likelihood ratio (+)     Pr(+|A)/Pr(+|N)     12.69     12.28     13.11 \n",
      "Likelihood ratio (-)     Pr(-|A)/Pr(-|N)      0.34      0.33      0.35 \n",
      "Odds ratio                   LR(+)/LR(-)     37.57     35.63     39.61 \n",
      "Positive predictive value        Pr(A|+)     61.9%     60.9%     62.8% \n",
      "Negative predictive value        Pr(N|-)     95.9%     95.7%     96.0% \n",
      "---------------------------------------------------------------------------\n"
     ]
    }
   ],
   "source": [
    "diagt diag test if agecat==70"
   ]
  },
  {
   "cell_type": "markdown",
   "id": "23455479-0f98-4886-a36c-770376084911",
   "metadata": {},
   "source": [
    "#### Year at start of oberservation period \n",
    "*2004-2009*"
   ]
  },
  {
   "cell_type": "code",
   "execution_count": 13,
   "id": "9c58ecee-bd42-47a9-ad46-f51305e689bf",
   "metadata": {},
   "outputs": [
    {
     "name": "stdout",
     "output_type": "stream",
     "text": [
      "\n",
      "           |         test\n",
      "      diag |      Pos.       Neg. |     Total\n",
      "-----------+----------------------+----------\n",
      "  Abnormal |     4,827      1,966 |     6,793 \n",
      "    Normal |     3,337    139,893 |   143,230 \n",
      "-----------+----------------------+----------\n",
      "     Total |     8,164    141,859 |   150,023 \n",
      "True abnormal diagnosis defined as diag = 1\n",
      "\n",
      "\n",
      "                                                  [95% Confidence Interval]\n",
      "---------------------------------------------------------------------------\n",
      "Prevalence                         Pr(A)      4.5%      4.4%       4.6%\n",
      "---------------------------------------------------------------------------\n",
      "Sensitivity                      Pr(+|A)     71.1%     70.0%     72.1%\n",
      "Specificity                      Pr(-|N)     97.7%     97.6%     97.7%\n",
      "ROC area               (Sens. + Spec.)/2      0.84      0.84      0.85 \n",
      "---------------------------------------------------------------------------\n",
      "Likelihood ratio (+)     Pr(+|A)/Pr(+|N)     30.50     29.40     31.64 \n",
      "Likelihood ratio (-)     Pr(-|A)/Pr(-|N)      0.30      0.29      0.31 \n",
      "Odds ratio                   LR(+)/LR(-)    102.93     96.68    109.59 \n",
      "Positive predictive value        Pr(A|+)     59.1%     58.0%     60.2% \n",
      "Negative predictive value        Pr(N|-)     98.6%     98.6%     98.7% \n",
      "---------------------------------------------------------------------------\n"
     ]
    }
   ],
   "source": [
    "diagt diag test if yearcat==2004"
   ]
  },
  {
   "cell_type": "markdown",
   "id": "d9f3db50-6898-4b47-81ef-4ea609bb28d8",
   "metadata": {},
   "source": [
    "*2010-2015*"
   ]
  },
  {
   "cell_type": "code",
   "execution_count": 14,
   "id": "6b326410-d900-498f-b736-4ced1ea7fa5d",
   "metadata": {},
   "outputs": [
    {
     "name": "stdout",
     "output_type": "stream",
     "text": [
      "\n",
      "           |         test\n",
      "      diag |      Pos.       Neg. |     Total\n",
      "-----------+----------------------+----------\n",
      "  Abnormal |     5,373      2,111 |     7,484 \n",
      "    Normal |     2,936    139,605 |   142,541 \n",
      "-----------+----------------------+----------\n",
      "     Total |     8,309    141,716 |   150,025 \n",
      "True abnormal diagnosis defined as diag = 1\n",
      "\n",
      "\n",
      "                                                  [95% Confidence Interval]\n",
      "---------------------------------------------------------------------------\n",
      "Prevalence                         Pr(A)      5.0%      4.9%       5.1%\n",
      "---------------------------------------------------------------------------\n",
      "Sensitivity                      Pr(+|A)     71.8%     70.8%     72.8%\n",
      "Specificity                      Pr(-|N)     97.9%     97.9%     98.0%\n",
      "ROC area               (Sens. + Spec.)/2      0.85      0.84      0.85 \n",
      "---------------------------------------------------------------------------\n",
      "Likelihood ratio (+)     Pr(+|A)/Pr(+|N)     34.86     33.54     36.22 \n",
      "Likelihood ratio (-)     Pr(-|A)/Pr(-|N)      0.29      0.28      0.30 \n",
      "Odds ratio                   LR(+)/LR(-)    121.02    113.72    128.79 \n",
      "Positive predictive value        Pr(A|+)     64.7%     63.6%     65.7% \n",
      "Negative predictive value        Pr(N|-)     98.5%     98.4%     98.6% \n",
      "---------------------------------------------------------------------------\n"
     ]
    }
   ],
   "source": [
    "diagt diag test if yearcat==2010"
   ]
  },
  {
   "cell_type": "markdown",
   "id": "1546a4d9-adee-4208-88e0-3b6aa4d3d14c",
   "metadata": {},
   "source": [
    "*2016-2020*"
   ]
  },
  {
   "cell_type": "code",
   "execution_count": 15,
   "id": "dddfe5ba-1a16-4afc-91e5-cbffb4f25b77",
   "metadata": {},
   "outputs": [
    {
     "name": "stdout",
     "output_type": "stream",
     "text": [
      "\n",
      "           |         test\n",
      "      diag |      Pos.       Neg. |     Total\n",
      "-----------+----------------------+----------\n",
      "  Abnormal |     4,540      1,472 |     6,012 \n",
      "    Normal |     2,977    116,018 |   118,995 \n",
      "-----------+----------------------+----------\n",
      "     Total |     7,517    117,490 |   125,007 \n",
      "True abnormal diagnosis defined as diag = 1\n",
      "\n",
      "\n",
      "                                                  [95% Confidence Interval]\n",
      "---------------------------------------------------------------------------\n",
      "Prevalence                         Pr(A)      4.8%      4.7%       4.9%\n",
      "---------------------------------------------------------------------------\n",
      "Sensitivity                      Pr(+|A)     75.5%     74.4%     76.6%\n",
      "Specificity                      Pr(-|N)     97.5%     97.4%     97.6%\n",
      "ROC area               (Sens. + Spec.)/2      0.87      0.86      0.87 \n",
      "---------------------------------------------------------------------------\n",
      "Likelihood ratio (+)     Pr(+|A)/Pr(+|N)     30.18     29.05     31.36 \n",
      "Likelihood ratio (-)     Pr(-|A)/Pr(-|N)      0.25      0.24      0.26 \n",
      "Odds ratio                   LR(+)/LR(-)    120.20    112.17    128.80 \n",
      "Positive predictive value        Pr(A|+)     60.4%     59.3%     61.5% \n",
      "Negative predictive value        Pr(N|-)     98.7%     98.7%     98.8% \n",
      "---------------------------------------------------------------------------\n"
     ]
    }
   ],
   "source": [
    "diagt diag test if yearcat==2016"
   ]
  },
  {
   "cell_type": "markdown",
   "id": "9318e823-cf06-4695-a86c-8b96ace454c5",
   "metadata": {},
   "source": [
    "#### IMD of practice\n",
    "*1-3*"
   ]
  },
  {
   "cell_type": "code",
   "execution_count": 16,
   "id": "0c48ed3a-ce83-4c14-9447-6c52d4d82ed3",
   "metadata": {},
   "outputs": [
    {
     "name": "stdout",
     "output_type": "stream",
     "text": [
      "\n",
      "           |         test\n",
      "      diag |      Pos.       Neg. |     Total\n",
      "-----------+----------------------+----------\n",
      "  Abnormal |     5,785      2,067 |     7,852 \n",
      "    Normal |     4,104    142,620 |   146,724 \n",
      "-----------+----------------------+----------\n",
      "     Total |     9,889    144,687 |   154,576 \n",
      "True abnormal diagnosis defined as diag = 1\n",
      "\n",
      "\n",
      "                                                  [95% Confidence Interval]\n",
      "---------------------------------------------------------------------------\n",
      "Prevalence                         Pr(A)      5.1%      5.0%       5.2%\n",
      "---------------------------------------------------------------------------\n",
      "Sensitivity                      Pr(+|A)     73.7%     72.7%     74.6%\n",
      "Specificity                      Pr(-|N)     97.2%     97.1%     97.3%\n",
      "ROC area               (Sens. + Spec.)/2      0.85      0.85      0.86 \n",
      "---------------------------------------------------------------------------\n",
      "Likelihood ratio (+)     Pr(+|A)/Pr(+|N)     26.34     25.49     27.22 \n",
      "Likelihood ratio (-)     Pr(-|A)/Pr(-|N)      0.27      0.26      0.28 \n",
      "Odds ratio                   LR(+)/LR(-)     97.26     91.68    103.17 \n",
      "Positive predictive value        Pr(A|+)     58.5%     57.5%     59.5% \n",
      "Negative predictive value        Pr(N|-)     98.6%     98.5%     98.6% \n",
      "---------------------------------------------------------------------------\n"
     ]
    }
   ],
   "source": [
    "diagt diag test if imdcat==0"
   ]
  },
  {
   "cell_type": "markdown",
   "id": "cc20d8e3-26a9-4217-989b-54c2c73d0386",
   "metadata": {},
   "source": [
    "*4-7*"
   ]
  },
  {
   "cell_type": "code",
   "execution_count": 17,
   "id": "2f034372-ceb8-4f41-bd39-9d6ef321a64a",
   "metadata": {},
   "outputs": [
    {
     "name": "stdout",
     "output_type": "stream",
     "text": [
      "\n",
      "           |         test\n",
      "      diag |      Pos.       Neg. |     Total\n",
      "-----------+----------------------+----------\n",
      "  Abnormal |     5,089      1,973 |     7,062 \n",
      "    Normal |     3,024    132,970 |   135,994 \n",
      "-----------+----------------------+----------\n",
      "     Total |     8,113    134,943 |   143,056 \n",
      "True abnormal diagnosis defined as diag = 1\n",
      "\n",
      "\n",
      "                                                  [95% Confidence Interval]\n",
      "---------------------------------------------------------------------------\n",
      "Prevalence                         Pr(A)      4.9%      4.8%       5.1%\n",
      "---------------------------------------------------------------------------\n",
      "Sensitivity                      Pr(+|A)     72.1%     71.0%     73.1%\n",
      "Specificity                      Pr(-|N)     97.8%     97.7%     97.9%\n",
      "ROC area               (Sens. + Spec.)/2      0.85      0.84      0.85 \n",
      "---------------------------------------------------------------------------\n",
      "Likelihood ratio (+)     Pr(+|A)/Pr(+|N)     32.41     31.20     33.67 \n",
      "Likelihood ratio (-)     Pr(-|A)/Pr(-|N)      0.29      0.28      0.30 \n",
      "Odds ratio                   LR(+)/LR(-)    113.42    106.47    120.82 \n",
      "Positive predictive value        Pr(A|+)     62.7%     61.7%     63.8% \n",
      "Negative predictive value        Pr(N|-)     98.5%     98.5%     98.6% \n",
      "---------------------------------------------------------------------------\n"
     ]
    }
   ],
   "source": [
    "diagt diag test if imdcat==4"
   ]
  },
  {
   "cell_type": "markdown",
   "id": "a843bc14-ff1a-4435-a50c-c9769b8c3d3b",
   "metadata": {},
   "source": [
    "*8-10*"
   ]
  },
  {
   "cell_type": "code",
   "execution_count": 18,
   "id": "e52a500d-f3cf-4da6-997c-bbc1e902d199",
   "metadata": {},
   "outputs": [
    {
     "name": "stdout",
     "output_type": "stream",
     "text": [
      "\n",
      "           |         test\n",
      "      diag |      Pos.       Neg. |     Total\n",
      "-----------+----------------------+----------\n",
      "  Abnormal |     3,844      1,502 |     5,346 \n",
      "    Normal |     2,116    117,372 |   119,488 \n",
      "-----------+----------------------+----------\n",
      "     Total |     5,960    118,874 |   124,834 \n",
      "True abnormal diagnosis defined as diag = 1\n",
      "\n",
      "\n",
      "                                                  [95% Confidence Interval]\n",
      "---------------------------------------------------------------------------\n",
      "Prevalence                         Pr(A)      4.3%      4.2%       4.4%\n",
      "---------------------------------------------------------------------------\n",
      "Sensitivity                      Pr(+|A)     71.9%     70.7%     73.1%\n",
      "Specificity                      Pr(-|N)     98.2%     98.2%     98.3%\n",
      "ROC area               (Sens. + Spec.)/2      0.85      0.84      0.86 \n",
      "---------------------------------------------------------------------------\n",
      "Likelihood ratio (+)     Pr(+|A)/Pr(+|N)     40.60     38.80     42.49 \n",
      "Likelihood ratio (-)     Pr(-|A)/Pr(-|N)      0.29      0.27      0.30 \n",
      "Odds ratio                   LR(+)/LR(-)    141.96    131.90    152.79 \n",
      "Positive predictive value        Pr(A|+)     64.5%     63.3%     65.7% \n",
      "Negative predictive value        Pr(N|-)     98.7%     98.7%     98.8% \n",
      "---------------------------------------------------------------------------\n"
     ]
    }
   ],
   "source": [
    "diagt diag test if imdcat==8"
   ]
  },
  {
   "cell_type": "markdown",
   "id": "cbbde183-5b60-4618-a548-81135cae76a0",
   "metadata": {},
   "source": [
    "#### Commissioning Regions\n",
    "EAST OF ENGLAND"
   ]
  },
  {
   "cell_type": "code",
   "execution_count": 19,
   "id": "1254da50-3ca4-47a1-b4d8-e07c6d920177",
   "metadata": {},
   "outputs": [
    {
     "name": "stdout",
     "output_type": "stream",
     "text": [
      "\n",
      "           |         test\n",
      "      diag |      Pos.       Neg. |     Total\n",
      "-----------+----------------------+----------\n",
      "  Abnormal |     3,472      1,131 |     4,603 \n",
      "    Normal |     2,172     82,884 |    85,056 \n",
      "-----------+----------------------+----------\n",
      "     Total |     5,644     84,015 |    89,659 \n",
      "True abnormal diagnosis defined as diag = 1\n",
      "\n",
      "\n",
      "                                                  [95% Confidence Interval]\n",
      "---------------------------------------------------------------------------\n",
      "Prevalence                         Pr(A)      5.1%      5.0%       5.3%\n",
      "---------------------------------------------------------------------------\n",
      "Sensitivity                      Pr(+|A)     75.4%     74.2%     76.7%\n",
      "Specificity                      Pr(-|N)     97.4%     97.3%     97.6%\n",
      "ROC area               (Sens. + Spec.)/2      0.86      0.86      0.87 \n",
      "---------------------------------------------------------------------------\n",
      "Likelihood ratio (+)     Pr(+|A)/Pr(+|N)     29.54     28.25     30.89 \n",
      "Likelihood ratio (-)     Pr(-|A)/Pr(-|N)      0.25      0.24      0.27 \n",
      "Odds ratio                   LR(+)/LR(-)    117.15    108.20    126.84 \n",
      "Positive predictive value        Pr(A|+)     61.5%     60.2%     62.8% \n",
      "Negative predictive value        Pr(N|-)     98.7%     98.6%     98.7% \n",
      "---------------------------------------------------------------------------\n"
     ]
    }
   ],
   "source": [
    "diagt diag test if regexm(region_name,\"ENGLAND\")==1"
   ]
  },
  {
   "cell_type": "markdown",
   "id": "b2f2b2c7-4c3b-4ae5-ad03-8edfbc58938d",
   "metadata": {},
   "source": [
    "London"
   ]
  },
  {
   "cell_type": "code",
   "execution_count": 20,
   "id": "18195511-cedc-42b1-8bae-bc6621364814",
   "metadata": {},
   "outputs": [
    {
     "name": "stdout",
     "output_type": "stream",
     "text": [
      "\n",
      "           |         test\n",
      "      diag |      Pos.       Neg. |     Total\n",
      "-----------+----------------------+----------\n",
      "  Abnormal |       422        121 |       543 \n",
      "    Normal |       172     16,011 |    16,183 \n",
      "-----------+----------------------+----------\n",
      "     Total |       594     16,132 |    16,726 \n",
      "True abnormal diagnosis defined as diag = 1\n",
      "\n",
      "\n",
      "                                                  [95% Confidence Interval]\n",
      "---------------------------------------------------------------------------\n",
      "Prevalence                         Pr(A)      3.2%      3.0%       3.5%\n",
      "---------------------------------------------------------------------------\n",
      "Sensitivity                      Pr(+|A)     77.7%     74.0%     81.1%\n",
      "Specificity                      Pr(-|N)     98.9%     98.8%     99.1%\n",
      "ROC area               (Sens. + Spec.)/2      0.88      0.87      0.90 \n",
      "---------------------------------------------------------------------------\n",
      "Likelihood ratio (+)     Pr(+|A)/Pr(+|N)     73.12     62.60     85.41 \n",
      "Likelihood ratio (-)     Pr(-|A)/Pr(-|N)      0.23      0.19      0.26 \n",
      "Odds ratio                   LR(+)/LR(-)    324.65    252.43    417.54 \n",
      "Positive predictive value        Pr(A|+)     71.0%     67.2%     74.7% \n",
      "Negative predictive value        Pr(N|-)     99.2%     99.1%     99.4% \n",
      "---------------------------------------------------------------------------\n"
     ]
    }
   ],
   "source": [
    "diagt diag test if regexm(region_name,\"LONDON\")==1"
   ]
  },
  {
   "cell_type": "markdown",
   "id": "1a78f370-7ebd-4e70-b301-73c6e75003fd",
   "metadata": {},
   "source": [
    "Midlands"
   ]
  },
  {
   "cell_type": "code",
   "execution_count": 21,
   "id": "265ce394-6410-4e76-a064-ec3d32c30eee",
   "metadata": {},
   "outputs": [
    {
     "name": "stdout",
     "output_type": "stream",
     "text": [
      "\n",
      "           |         test\n",
      "      diag |      Pos.       Neg. |     Total\n",
      "-----------+----------------------+----------\n",
      "  Abnormal |     2,117        703 |     2,820 \n",
      "    Normal |     1,065     42,659 |    43,724 \n",
      "-----------+----------------------+----------\n",
      "     Total |     3,182     43,362 |    46,544 \n",
      "True abnormal diagnosis defined as diag = 1\n",
      "\n",
      "\n",
      "                                                  [95% Confidence Interval]\n",
      "---------------------------------------------------------------------------\n",
      "Prevalence                         Pr(A)      6.1%      5.8%       6.3%\n",
      "---------------------------------------------------------------------------\n",
      "Sensitivity                      Pr(+|A)     75.1%     73.4%     76.7%\n",
      "Specificity                      Pr(-|N)     97.6%     97.4%     97.7%\n",
      "ROC area               (Sens. + Spec.)/2      0.86      0.86      0.87 \n",
      "---------------------------------------------------------------------------\n",
      "Likelihood ratio (+)     Pr(+|A)/Pr(+|N)     30.82     28.94     32.83 \n",
      "Likelihood ratio (-)     Pr(-|A)/Pr(-|N)      0.26      0.24      0.27 \n",
      "Odds ratio                   LR(+)/LR(-)    120.62    108.63    133.94 \n",
      "Positive predictive value        Pr(A|+)     66.5%     64.9%     68.2% \n",
      "Negative predictive value        Pr(N|-)     98.4%     98.3%     98.5% \n",
      "---------------------------------------------------------------------------\n"
     ]
    }
   ],
   "source": [
    "diagt diag test if regexm(region_name,\"MID\")==1"
   ]
  },
  {
   "cell_type": "markdown",
   "id": "0769a779-b7ae-4496-9ed2-a6feb1a1a94a",
   "metadata": {},
   "source": [
    "Yorkshire"
   ]
  },
  {
   "cell_type": "code",
   "execution_count": 22,
   "id": "83d73532-38e7-4fb2-a39b-5c1ef1b5b717",
   "metadata": {},
   "outputs": [
    {
     "name": "stdout",
     "output_type": "stream",
     "text": [
      "\n",
      "           |         test\n",
      "      diag |      Pos.       Neg. |     Total\n",
      "-----------+----------------------+----------\n",
      "  Abnormal |     3,145      1,484 |     4,629 \n",
      "    Normal |     2,231     79,266 |    81,497 \n",
      "-----------+----------------------+----------\n",
      "     Total |     5,376     80,750 |    86,126 \n",
      "True abnormal diagnosis defined as diag = 1\n",
      "\n",
      "\n",
      "                                                  [95% Confidence Interval]\n",
      "---------------------------------------------------------------------------\n",
      "Prevalence                         Pr(A)      5.4%      5.2%       5.5%\n",
      "---------------------------------------------------------------------------\n",
      "Sensitivity                      Pr(+|A)     67.9%     66.6%     69.3%\n",
      "Specificity                      Pr(-|N)     97.3%     97.1%     97.4%\n",
      "ROC area               (Sens. + Spec.)/2      0.83      0.82      0.83 \n",
      "---------------------------------------------------------------------------\n",
      "Likelihood ratio (+)     Pr(+|A)/Pr(+|N)     24.82     23.72     25.97 \n",
      "Likelihood ratio (-)     Pr(-|A)/Pr(-|N)      0.33      0.32      0.34 \n",
      "Odds ratio                   LR(+)/LR(-)     75.30     69.88     81.14 \n",
      "Positive predictive value        Pr(A|+)     58.5%     57.2%     59.8% \n",
      "Negative predictive value        Pr(N|-)     98.2%     98.1%     98.3% \n",
      "---------------------------------------------------------------------------\n"
     ]
    }
   ],
   "source": [
    "diagt diag test if regexm(region_name,\"YORK\")==1"
   ]
  },
  {
   "cell_type": "markdown",
   "id": "247339ad-15c3-4ac2-9458-c8b14082ff8c",
   "metadata": {},
   "source": [
    "North West"
   ]
  },
  {
   "cell_type": "code",
   "execution_count": 23,
   "id": "f9ddd2b2-2aa8-49c0-8d9b-ac27a3db55be",
   "metadata": {},
   "outputs": [
    {
     "name": "stdout",
     "output_type": "stream",
     "text": [
      "\n",
      "           |         test\n",
      "      diag |      Pos.       Neg. |     Total\n",
      "-----------+----------------------+----------\n",
      "  Abnormal |     1,483        483 |     1,966 \n",
      "    Normal |       814     44,816 |    45,630 \n",
      "-----------+----------------------+----------\n",
      "     Total |     2,297     45,299 |    47,596 \n",
      "True abnormal diagnosis defined as diag = 1\n",
      "\n",
      "\n",
      "                                                  [95% Confidence Interval]\n",
      "---------------------------------------------------------------------------\n",
      "Prevalence                         Pr(A)      4.1%      4.0%       4.3%\n",
      "---------------------------------------------------------------------------\n",
      "Sensitivity                      Pr(+|A)     75.4%     73.5%     77.3%\n",
      "Specificity                      Pr(-|N)     98.2%     98.1%     98.3%\n",
      "ROC area               (Sens. + Spec.)/2      0.87      0.86      0.88 \n",
      "---------------------------------------------------------------------------\n",
      "Likelihood ratio (+)     Pr(+|A)/Pr(+|N)     42.28     39.32     45.47 \n",
      "Likelihood ratio (-)     Pr(-|A)/Pr(-|N)      0.25      0.23      0.27 \n",
      "Odds ratio                   LR(+)/LR(-)    169.05    149.35    191.34 \n",
      "Positive predictive value        Pr(A|+)     64.6%     62.6%     66.5% \n",
      "Negative predictive value        Pr(N|-)     98.9%     98.8%     99.0% \n",
      "---------------------------------------------------------------------------\n"
     ]
    }
   ],
   "source": [
    "diagt diag test if regexm(region_name,\"NORTH\")==1 & regexm(region_name,\"WEST\")==1"
   ]
  },
  {
   "cell_type": "markdown",
   "id": "cac4bda2-216c-4294-ab6d-5338aa93d23c",
   "metadata": {},
   "source": [
    "South East"
   ]
  },
  {
   "cell_type": "code",
   "execution_count": 24,
   "id": "883a5bf4-de79-4ba9-9bb2-95f85e3bccb3",
   "metadata": {},
   "outputs": [
    {
     "name": "stdout",
     "output_type": "stream",
     "text": [
      "\n",
      "           |         test\n",
      "      diag |      Pos.       Neg. |     Total\n",
      "-----------+----------------------+----------\n",
      "  Abnormal |     2,714      1,014 |     3,728 \n",
      "    Normal |     1,450     85,312 |    86,762 \n",
      "-----------+----------------------+----------\n",
      "     Total |     4,164     86,326 |    90,490 \n",
      "True abnormal diagnosis defined as diag = 1\n",
      "\n",
      "\n",
      "                                                  [95% Confidence Interval]\n",
      "---------------------------------------------------------------------------\n",
      "Prevalence                         Pr(A)      4.1%      4.0%       4.3%\n",
      "---------------------------------------------------------------------------\n",
      "Sensitivity                      Pr(+|A)     72.8%     71.3%     74.2%\n",
      "Specificity                      Pr(-|N)     98.3%     98.2%     98.4%\n",
      "ROC area               (Sens. + Spec.)/2      0.86      0.85      0.86 \n",
      "---------------------------------------------------------------------------\n",
      "Likelihood ratio (+)     Pr(+|A)/Pr(+|N)     43.56     41.24     46.01 \n",
      "Likelihood ratio (-)     Pr(-|A)/Pr(-|N)      0.28      0.26      0.29 \n",
      "Odds ratio                   LR(+)/LR(-)    157.48    144.09    172.11 \n",
      "Positive predictive value        Pr(A|+)     65.2%     63.7%     66.6% \n",
      "Negative predictive value        Pr(N|-)     98.8%     98.8%     98.9% \n",
      "---------------------------------------------------------------------------\n"
     ]
    }
   ],
   "source": [
    "diagt diag test if regexm(region_name,\"SOUTH\")==1 & regexm(region_name,\"EAST\")==1"
   ]
  },
  {
   "cell_type": "markdown",
   "id": "c31c4086-ecd2-43b5-a175-a49e64a0593a",
   "metadata": {},
   "source": [
    "South West"
   ]
  },
  {
   "cell_type": "code",
   "execution_count": 25,
   "id": "db24609a-c78c-4959-8f77-be636e5b8a66",
   "metadata": {},
   "outputs": [
    {
     "name": "stdout",
     "output_type": "stream",
     "text": [
      "\n",
      "           |         test\n",
      "      diag |      Pos.       Neg. |     Total\n",
      "-----------+----------------------+----------\n",
      "  Abnormal |     1,218        531 |     1,749 \n",
      "    Normal |       998     33,431 |    34,429 \n",
      "-----------+----------------------+----------\n",
      "     Total |     2,216     33,962 |    36,178 \n",
      "True abnormal diagnosis defined as diag = 1\n",
      "\n",
      "\n",
      "                                                  [95% Confidence Interval]\n",
      "---------------------------------------------------------------------------\n",
      "Prevalence                         Pr(A)      4.8%      4.6%       5.1%\n",
      "---------------------------------------------------------------------------\n",
      "Sensitivity                      Pr(+|A)     69.6%     67.4%     71.8%\n",
      "Specificity                      Pr(-|N)     97.1%     96.9%     97.3%\n",
      "ROC area               (Sens. + Spec.)/2      0.83      0.82      0.84 \n",
      "---------------------------------------------------------------------------\n",
      "Likelihood ratio (+)     Pr(+|A)/Pr(+|N)     24.02     22.43     25.73 \n",
      "Likelihood ratio (-)     Pr(-|A)/Pr(-|N)      0.31      0.29      0.34 \n",
      "Odds ratio                   LR(+)/LR(-)     76.84     68.16     86.61 \n",
      "Positive predictive value        Pr(A|+)     55.0%     52.9%     57.1% \n",
      "Negative predictive value        Pr(N|-)     98.4%     98.3%     98.6% \n",
      "---------------------------------------------------------------------------\n"
     ]
    }
   ],
   "source": [
    "diagt diag test if regexm(region_name,\"SOUTH\")==1 & regexm(region_name,\"WEST\")==1"
   ]
  },
  {
   "cell_type": "markdown",
   "id": "cf33efae-dc21-4b1a-b169-9eaea69c1161",
   "metadata": {},
   "source": [
    "#### System\n",
    "SystmOne"
   ]
  },
  {
   "cell_type": "code",
   "execution_count": 26,
   "id": "26573dfb-79dc-4647-88a6-e19dac9eca61",
   "metadata": {},
   "outputs": [
    {
     "name": "stdout",
     "output_type": "stream",
     "text": [
      "\n",
      "           |         test\n",
      "      diag |      Pos.       Neg. |     Total\n",
      "-----------+----------------------+----------\n",
      "  Abnormal |     8,388      3,415 |    11,803 \n",
      "    Normal |     6,063    210,928 |   216,991 \n",
      "-----------+----------------------+----------\n",
      "     Total |    14,451    214,343 |   228,794 \n",
      "True abnormal diagnosis defined as diag = 1\n",
      "\n",
      "\n",
      "                                                  [95% Confidence Interval]\n",
      "---------------------------------------------------------------------------\n",
      "Prevalence                         Pr(A)      5.2%      5.1%       5.3%\n",
      "---------------------------------------------------------------------------\n",
      "Sensitivity                      Pr(+|A)     71.1%     70.2%     71.9%\n",
      "Specificity                      Pr(-|N)     97.2%     97.1%     97.3%\n",
      "ROC area               (Sens. + Spec.)/2      0.84      0.84      0.85 \n",
      "---------------------------------------------------------------------------\n",
      "Likelihood ratio (+)     Pr(+|A)/Pr(+|N)     25.43     24.75     26.14 \n",
      "Likelihood ratio (-)     Pr(-|A)/Pr(-|N)      0.30      0.29      0.31 \n",
      "Odds ratio                   LR(+)/LR(-)     85.45     81.51     89.59 \n",
      "Positive predictive value        Pr(A|+)     58.0%     57.2%     58.9% \n",
      "Negative predictive value        Pr(N|-)     98.4%     98.4%     98.5% \n",
      "---------------------------------------------------------------------------\n"
     ]
    }
   ],
   "source": [
    "diagt diag test if regexm(system,\"One\")==1"
   ]
  },
  {
   "cell_type": "markdown",
   "id": "b561f033-d2f3-4c95-ad3f-03b8c65647ea",
   "metadata": {},
   "source": [
    "Vision"
   ]
  },
  {
   "cell_type": "code",
   "execution_count": 27,
   "id": "6bed6f81-5fd6-418e-94ff-96d2de419d3d",
   "metadata": {},
   "outputs": [
    {
     "name": "stdout",
     "output_type": "stream",
     "text": [
      "\n",
      "           |         test\n",
      "      diag |      Pos.       Neg. |     Total\n",
      "-----------+----------------------+----------\n",
      "  Abnormal |       242         96 |       338 \n",
      "    Normal |       413     12,999 |    13,412 \n",
      "-----------+----------------------+----------\n",
      "     Total |       655     13,095 |    13,750 \n",
      "True abnormal diagnosis defined as diag = 1\n",
      "\n",
      "\n",
      "                                                  [95% Confidence Interval]\n",
      "---------------------------------------------------------------------------\n",
      "Prevalence                         Pr(A)      2.5%      2.2%       2.7%\n",
      "---------------------------------------------------------------------------\n",
      "Sensitivity                      Pr(+|A)     71.6%     66.5%     76.3%\n",
      "Specificity                      Pr(-|N)     96.9%     96.6%     97.2%\n",
      "ROC area               (Sens. + Spec.)/2      0.84      0.82      0.87 \n",
      "---------------------------------------------------------------------------\n",
      "Likelihood ratio (+)     Pr(+|A)/Pr(+|N)     23.25     20.70     26.12 \n",
      "Likelihood ratio (-)     Pr(-|A)/Pr(-|N)      0.29      0.25      0.35 \n",
      "Odds ratio                   LR(+)/LR(-)     79.34     61.46    102.43 \n",
      "Positive predictive value        Pr(A|+)     36.9%     33.2%     40.8% \n",
      "Negative predictive value        Pr(N|-)     99.3%     99.1%     99.4% \n",
      "---------------------------------------------------------------------------\n"
     ]
    }
   ],
   "source": [
    "diagt diag test if regexm(system,\"Vision\")==1"
   ]
  },
  {
   "cell_type": "markdown",
   "id": "65d9cefb-fbb5-4500-8ed3-52074d4e12ad",
   "metadata": {},
   "source": [
    "EMIS"
   ]
  },
  {
   "cell_type": "code",
   "execution_count": 28,
   "id": "18d50bfe-f5c4-4ecb-b822-0d06e3b29224",
   "metadata": {},
   "outputs": [
    {
     "name": "stdout",
     "output_type": "stream",
     "text": [
      "\n",
      "           |         test\n",
      "      diag |      Pos.       Neg. |     Total\n",
      "-----------+----------------------+----------\n",
      "  Abnormal |     6,107      2,038 |     8,145 \n",
      "    Normal |     2,763    171,467 |   174,230 \n",
      "-----------+----------------------+----------\n",
      "     Total |     8,870    173,505 |   182,375 \n",
      "True abnormal diagnosis defined as diag = 1\n",
      "\n",
      "\n",
      "                                                  [95% Confidence Interval]\n",
      "---------------------------------------------------------------------------\n",
      "Prevalence                         Pr(A)      4.5%      4.4%       4.6%\n",
      "---------------------------------------------------------------------------\n",
      "Sensitivity                      Pr(+|A)     75.0%     74.0%     75.9%\n",
      "Specificity                      Pr(-|N)     98.4%     98.4%     98.5%\n",
      "ROC area               (Sens. + Spec.)/2      0.87      0.86      0.87 \n",
      "---------------------------------------------------------------------------\n",
      "Likelihood ratio (+)     Pr(+|A)/Pr(+|N)     47.28     45.47     49.16 \n",
      "Likelihood ratio (-)     Pr(-|A)/Pr(-|N)      0.25      0.24      0.26 \n",
      "Odds ratio                   LR(+)/LR(-)    185.96    174.67    197.99 \n",
      "Positive predictive value        Pr(A|+)     68.9%     67.9%     69.8% \n",
      "Negative predictive value        Pr(N|-)     98.8%     98.8%     98.9% \n",
      "---------------------------------------------------------------------------\n"
     ]
    }
   ],
   "source": [
    "diagt diag test if regexm(ustrupper(system),\"EMIS\")==1"
   ]
  },
  {
   "cell_type": "code",
   "execution_count": null,
   "id": "654b6659-0a73-4736-bc15-7bf926554432",
   "metadata": {},
   "outputs": [],
   "source": []
  },
  {
   "cell_type": "markdown",
   "id": "5cc0b78d-d049-4645-a6f4-e02b49b379db",
   "metadata": {},
   "source": [
    "#### RA_Index\n",
    "Index==1"
   ]
  },
  {
   "cell_type": "code",
   "execution_count": 29,
   "id": "9fa490cd-9380-44bc-8218-9f2193f09aee",
   "metadata": {},
   "outputs": [
    {
     "name": "stdout",
     "output_type": "stream",
     "text": [
      "\n",
      "           |         test\n",
      "      diag |      Pos.       Neg. |     Total\n",
      "-----------+----------------------+----------\n",
      "  Abnormal |    11,171      4,353 |    15,524 \n",
      "    Normal |     6,770    299,440 |   306,210 \n",
      "-----------+----------------------+----------\n",
      "     Total |    17,941    303,793 |   321,734 \n",
      "True abnormal diagnosis defined as diag = 1\n",
      "\n",
      "\n",
      "                                                  [95% Confidence Interval]\n",
      "---------------------------------------------------------------------------\n",
      "Prevalence                         Pr(A)      4.8%      4.8%       4.9%\n",
      "---------------------------------------------------------------------------\n",
      "Sensitivity                      Pr(+|A)     72.0%     71.2%     72.7%\n",
      "Specificity                      Pr(-|N)     97.8%     97.7%     97.8%\n",
      "ROC area               (Sens. + Spec.)/2      0.85      0.85      0.85 \n",
      "---------------------------------------------------------------------------\n",
      "Likelihood ratio (+)     Pr(+|A)/Pr(+|N)     32.55     31.73     33.39 \n",
      "Likelihood ratio (-)     Pr(-|A)/Pr(-|N)      0.29      0.28      0.29 \n",
      "Odds ratio                   LR(+)/LR(-)    113.51    108.78    118.44 \n",
      "Positive predictive value        Pr(A|+)     62.3%     61.6%     63.0% \n",
      "Negative predictive value        Pr(N|-)     98.6%     98.5%     98.6% \n",
      "---------------------------------------------------------------------------\n"
     ]
    }
   ],
   "source": [
    "diagt diag test if RA_index==1"
   ]
  },
  {
   "cell_type": "markdown",
   "id": "7d253ba5-4281-405c-bd8c-511a00a55bf6",
   "metadata": {},
   "source": [
    "Index==0"
   ]
  },
  {
   "cell_type": "code",
   "execution_count": 30,
   "id": "f50f1be6-d1fd-4b54-8cc8-be66d3b7312b",
   "metadata": {},
   "outputs": [
    {
     "name": "stdout",
     "output_type": "stream",
     "text": [
      "\n",
      "           |         test\n",
      "      diag |      Pos.       Neg. |     Total\n",
      "-----------+----------------------+----------\n",
      "  Abnormal |     3,569      1,196 |     4,765 \n",
      "    Normal |     2,480     96,076 |    98,556 \n",
      "-----------+----------------------+----------\n",
      "     Total |     6,049     97,272 |   103,321 \n",
      "True abnormal diagnosis defined as diag = 1\n",
      "\n",
      "\n",
      "                                                  [95% Confidence Interval]\n",
      "---------------------------------------------------------------------------\n",
      "Prevalence                         Pr(A)      4.6%      4.5%       4.7%\n",
      "---------------------------------------------------------------------------\n",
      "Sensitivity                      Pr(+|A)     74.9%     73.6%     76.1%\n",
      "Specificity                      Pr(-|N)     97.5%     97.4%     97.6%\n",
      "ROC area               (Sens. + Spec.)/2      0.86      0.86      0.87 \n",
      "---------------------------------------------------------------------------\n",
      "Likelihood ratio (+)     Pr(+|A)/Pr(+|N)     29.77     28.54     31.05 \n",
      "Likelihood ratio (-)     Pr(-|A)/Pr(-|N)      0.26      0.25      0.27 \n",
      "Odds ratio                   LR(+)/LR(-)    115.61    107.07    124.82 \n",
      "Positive predictive value        Pr(A|+)     59.0%     57.7%     60.2% \n",
      "Negative predictive value        Pr(N|-)     98.8%     98.7%     98.8% \n",
      "---------------------------------------------------------------------------\n"
     ]
    }
   ],
   "source": [
    "diagt diag test if RA_index==0"
   ]
  },
  {
   "cell_type": "markdown",
   "id": "72956d72",
   "metadata": {},
   "source": [
    "#### Ethnicity\n",
    "Ethnicity==0000white"
   ]
  },
  {
   "cell_type": "code",
   "execution_count": 31,
   "id": "b35bf6ab",
   "metadata": {},
   "outputs": [
    {
     "name": "stdout",
     "output_type": "stream",
     "text": [
      "\n",
      "           |         test\n",
      "      diag |      Pos.       Neg. |     Total\n",
      "-----------+----------------------+----------\n",
      "  Abnormal |    10,319      4,054 |    14,373 \n",
      "    Normal |     5,802    237,832 |   243,634 \n",
      "-----------+----------------------+----------\n",
      "     Total |    16,121    241,886 |   258,007 \n",
      "True abnormal diagnosis defined as diag = 1\n",
      "\n",
      "\n",
      "                                                  [95% Confidence Interval]\n",
      "---------------------------------------------------------------------------\n",
      "Prevalence                         Pr(A)      5.6%      5.5%       5.7%\n",
      "---------------------------------------------------------------------------\n",
      "Sensitivity                      Pr(+|A)     71.8%     71.1%     72.5%\n",
      "Specificity                      Pr(-|N)     97.6%     97.6%     97.7%\n",
      "ROC area               (Sens. + Spec.)/2      0.85      0.84      0.85 \n",
      "---------------------------------------------------------------------------\n",
      "Likelihood ratio (+)     Pr(+|A)/Pr(+|N)     30.15     29.33     30.99 \n",
      "Likelihood ratio (-)     Pr(-|A)/Pr(-|N)      0.29      0.28      0.30 \n",
      "Odds ratio                   LR(+)/LR(-)    104.34     99.78    109.11 \n",
      "Positive predictive value        Pr(A|+)     64.0%     63.3%     64.8% \n",
      "Negative predictive value        Pr(N|-)     98.3%     98.3%     98.4% \n",
      "---------------------------------------------------------------------------\n"
     ]
    }
   ],
   "source": [
    "diagt diag test if ethnicity==\"0white\""
   ]
  },
  {
   "cell_type": "code",
   "execution_count": 32,
   "id": "10050fbc",
   "metadata": {},
   "outputs": [
    {
     "name": "stdout",
     "output_type": "stream",
     "text": [
      "\n",
      "           |         test\n",
      "      diag |      Pos.       Neg. |     Total\n",
      "-----------+----------------------+----------\n",
      "  Abnormal |     2,087        460 |     2,547 \n",
      "    Normal |     1,497     39,838 |    41,335 \n",
      "-----------+----------------------+----------\n",
      "     Total |     3,584     40,298 |    43,882 \n",
      "True abnormal diagnosis defined as diag = 1\n",
      "\n",
      "\n",
      "                                                  [95% Confidence Interval]\n",
      "---------------------------------------------------------------------------\n",
      "Prevalence                         Pr(A)      5.8%      5.6%       6.0%\n",
      "---------------------------------------------------------------------------\n",
      "Sensitivity                      Pr(+|A)     81.9%     80.4%     83.4%\n",
      "Specificity                      Pr(-|N)     96.4%     96.2%     96.6%\n",
      "ROC area               (Sens. + Spec.)/2      0.89      0.88      0.90 \n",
      "---------------------------------------------------------------------------\n",
      "Likelihood ratio (+)     Pr(+|A)/Pr(+|N)     22.63     21.46     23.86 \n",
      "Likelihood ratio (-)     Pr(-|A)/Pr(-|N)      0.19      0.17      0.20 \n",
      "Odds ratio                   LR(+)/LR(-)    120.74    107.80    135.23 \n",
      "Positive predictive value        Pr(A|+)     58.2%     56.6%     59.9% \n",
      "Negative predictive value        Pr(N|-)     98.9%     98.7%     99.0% \n",
      "---------------------------------------------------------------------------\n"
     ]
    }
   ],
   "source": [
    "diagt diag test if ethnicity==\"Other\""
   ]
  },
  {
   "cell_type": "code",
   "execution_count": 33,
   "id": "a9b0ba23",
   "metadata": {},
   "outputs": [
    {
     "name": "stdout",
     "output_type": "stream",
     "text": [
      "\n",
      "           |         test\n",
      "      diag |      Pos.       Neg. |     Total\n",
      "-----------+----------------------+----------\n",
      "  Abnormal |     2,334      1,035 |     3,369 \n",
      "    Normal |     1,951    117,846 |   119,797 \n",
      "-----------+----------------------+----------\n",
      "     Total |     4,285    118,881 |   123,166 \n",
      "True abnormal diagnosis defined as diag = 1\n",
      "\n",
      "\n",
      "                                                  [95% Confidence Interval]\n",
      "---------------------------------------------------------------------------\n",
      "Prevalence                         Pr(A)      2.7%      2.6%       2.8%\n",
      "---------------------------------------------------------------------------\n",
      "Sensitivity                      Pr(+|A)     69.3%     67.7%     70.8%\n",
      "Specificity                      Pr(-|N)     98.4%     98.3%     98.4%\n",
      "ROC area               (Sens. + Spec.)/2      0.84      0.83      0.85 \n",
      "---------------------------------------------------------------------------\n",
      "Likelihood ratio (+)     Pr(+|A)/Pr(+|N)     42.54     40.49     44.69 \n",
      "Likelihood ratio (-)     Pr(-|A)/Pr(-|N)      0.31      0.30      0.33 \n",
      "Odds ratio                   LR(+)/LR(-)    136.21    125.02    148.41 \n",
      "Positive predictive value        Pr(A|+)     54.5%     53.0%     56.0% \n",
      "Negative predictive value        Pr(N|-)     99.1%     99.1%     99.2% \n",
      "---------------------------------------------------------------------------\n"
     ]
    }
   ],
   "source": [
    "diagt diag test if ethnicity==\"Missing\""
   ]
  },
  {
   "cell_type": "code",
   "execution_count": 34,
   "id": "0c6b3359-4cc6-4eb5-a15f-ed1be0b97aa0",
   "metadata": {},
   "outputs": [],
   "source": [
    "tempname memhold\n",
    "postfile `memhold' str20 var prev sens spec ppv npv roc using \"validity.dta\",replace\n",
    "\n",
    "quietly diagt diag test\n",
    "local prev=r(prev)\n",
    "local sens=r(sens)\n",
    "local spec=r(spec)\n",
    "local ppv=r(ppv)\n",
    "local npv=r(npv)\n",
    "local roc=r(roc)\n",
    "post `memhold' (\"all\") (`prev') (`sens') (`spec') (`ppv') (`npv') (`roc') \n",
    "\n",
    "quietly diagt diag test if sex==1\n",
    "local prev=r(prev)\n",
    "local sens=r(sens)\n",
    "local spec=r(spec)\n",
    "local ppv=r(ppv)\n",
    "local npv=r(npv)\n",
    "local roc=r(roc)\n",
    "post `memhold' (\"Male\") (`prev') (`sens') (`spec') (`ppv') (`npv') (`roc') \n",
    "\n",
    "quietly diagt diag test if sex==0\n",
    "local prev=r(prev)\n",
    "local sens=r(sens)\n",
    "local spec=r(spec)\n",
    "local ppv=r(ppv)\n",
    "local npv=r(npv)\n",
    "local roc=r(roc)\n",
    "post `memhold' (\"Female\") (`prev') (`sens') (`spec') (`ppv') (`npv') (`roc') \n",
    "\n",
    "quietly diagt diag test if agecat==16\n",
    "local prev=r(prev)\n",
    "local sens=r(sens)\n",
    "local spec=r(spec)\n",
    "local ppv=r(ppv)\n",
    "local npv=r(npv)\n",
    "local roc=r(roc)\n",
    "post `memhold' (\"Age young\") (`prev') (`sens') (`spec') (`ppv') (`npv') (`roc') \n",
    "\n",
    "quietly diagt diag test if agecat==30\n",
    "local prev=r(prev)\n",
    "local sens=r(sens)\n",
    "local spec=r(spec)\n",
    "local ppv=r(ppv)\n",
    "local npv=r(npv)\n",
    "local roc=r(roc)\n",
    "post `memhold' (\"Age middle\") (`prev') (`sens') (`spec') (`ppv') (`npv') (`roc') \n",
    "\n",
    "quietly diagt diag test if agecat==70\n",
    "local prev=r(prev)\n",
    "local sens=r(sens)\n",
    "local spec=r(spec)\n",
    "local ppv=r(ppv)\n",
    "local npv=r(npv)\n",
    "local roc=r(roc)\n",
    "post `memhold' (\"Age elderly\") (`prev') (`sens') (`spec') (`ppv') (`npv') (`roc') \n",
    "\n",
    "\n",
    "quietly diagt diag test if yearcat==2004\n",
    "local prev=r(prev)\n",
    "local sens=r(sens)\n",
    "local spec=r(spec)\n",
    "local ppv=r(ppv)\n",
    "local npv=r(npv)\n",
    "local roc=r(roc)\n",
    "post `memhold' (\"Year 2004-2009\") (`prev') (`sens') (`spec') (`ppv') (`npv') (`roc') \n",
    "\n",
    "quietly diagt diag test if yearcat==2010\n",
    "local prev=r(prev)\n",
    "local sens=r(sens)\n",
    "local spec=r(spec)\n",
    "local ppv=r(ppv)\n",
    "local npv=r(npv)\n",
    "local roc=r(roc)\n",
    "post `memhold' (\"Year 2010-2015\") (`prev') (`sens') (`spec') (`ppv') (`npv') (`roc')\n",
    "\n",
    "quietly diagt diag test if yearcat==2016\n",
    "local prev=r(prev)\n",
    "local sens=r(sens)\n",
    "local spec=r(spec)\n",
    "local ppv=r(ppv)\n",
    "local npv=r(npv)\n",
    "local roc=r(roc)\n",
    "post `memhold' (\"Year 2016-2020\") (`prev') (`sens') (`spec') (`ppv') (`npv') (`roc') \n",
    "\n",
    "\n",
    "quietly diagt diag test if imdcat==0\n",
    "local prev=r(prev)\n",
    "local sens=r(sens)\n",
    "local spec=r(spec)\n",
    "local ppv=r(ppv)\n",
    "local npv=r(npv)\n",
    "local roc=r(roc)\n",
    "post `memhold' (\"IMD 1,3\") (`prev') (`sens') (`spec') (`ppv') (`npv') (`roc') \n",
    "\n",
    "quietly diagt diag test if imdcat==4\n",
    "local prev=r(prev)\n",
    "local sens=r(sens)\n",
    "local spec=r(spec)\n",
    "local ppv=r(ppv)\n",
    "local npv=r(npv)\n",
    "local roc=r(roc)\n",
    "post `memhold' (\"IMD 4,7\") (`prev') (`sens') (`spec') (`ppv') (`npv') (`roc') \n",
    "\n",
    "quietly diagt diag test if imdcat==8\n",
    "local prev=r(prev)\n",
    "local sens=r(sens)\n",
    "local spec=r(spec)\n",
    "local ppv=r(ppv)\n",
    "local npv=r(npv)\n",
    "local roc=r(roc)\n",
    "post `memhold' (\"IMD 8,10\") (`prev') (`sens') (`spec') (`ppv') (`npv') (`roc') \n",
    "\n",
    "\n",
    "quietly diagt diag test if regexm(region_name,\"LONDON\")==1\n",
    "local prev=r(prev)\n",
    "local sens=r(sens)\n",
    "local spec=r(spec)\n",
    "local ppv=r(ppv)\n",
    "local npv=r(npv)\n",
    "local roc=r(roc)\n",
    "post `memhold' (\"London\") (`prev') (`sens') (`spec') (`ppv') (`npv') (`roc') \n",
    "\n",
    "quietly diagt diag test if regexm(region_name,\"MID\")==1\n",
    "local prev=r(prev)\n",
    "local sens=r(sens)\n",
    "local spec=r(spec)\n",
    "local ppv=r(ppv)\n",
    "local npv=r(npv)\n",
    "local roc=r(roc)\n",
    "post `memhold' (\"Midlands\") (`prev') (`sens') (`spec') (`ppv') (`npv') (`roc') \n",
    "\n",
    "quietly diagt diag test if regexm(region_name,\"YORK\")==1\n",
    "local prev=r(prev)\n",
    "local sens=r(sens)\n",
    "local spec=r(spec)\n",
    "local ppv=r(ppv)\n",
    "local npv=r(npv)\n",
    "local roc=r(roc)\n",
    "post `memhold' (\"Yorkshire\") (`prev') (`sens') (`spec') (`ppv') (`npv') (`roc') \n",
    "\n",
    "quietly diagt diag test if regexm(region_name,\"NORTH\")==1 & regexm(region_name,\"WEST\")==1\n",
    "local prev=r(prev)\n",
    "local sens=r(sens)\n",
    "local spec=r(spec)\n",
    "local ppv=r(ppv)\n",
    "local npv=r(npv)\n",
    "local roc=r(roc)\n",
    "post `memhold' (\"North West\") (`prev') (`sens') (`spec') (`ppv') (`npv') (`roc') \n",
    "\n",
    "quietly diagt diag test if regexm(region_name,\"SOUTH\")==1 & regexm(region_name,\"EAST\")==1\n",
    "local prev=r(prev)\n",
    "local sens=r(sens)\n",
    "local spec=r(spec)\n",
    "local ppv=r(ppv)\n",
    "local npv=r(npv)\n",
    "local roc=r(roc)\n",
    "post `memhold' (\"South East\") (`prev') (`sens') (`spec') (`ppv') (`npv') (`roc') \n",
    "\n",
    "quietly diagt diag test if regexm(region_name,\"SOUTH\")==1 & regexm(region_name,\"WEST\")==1\n",
    "local prev=r(prev)\n",
    "local sens=r(sens)\n",
    "local spec=r(spec)\n",
    "local ppv=r(ppv)\n",
    "local npv=r(npv)\n",
    "local roc=r(roc)\n",
    "post `memhold' (\"South West\") (`prev') (`sens') (`spec') (`ppv') (`npv') (`roc') \n",
    "\n",
    "quietly diagt diag test if regexm(system,\"One\")==1\n",
    "local prev=r(prev)\n",
    "local sens=r(sens)\n",
    "local spec=r(spec)\n",
    "local ppv=r(ppv)\n",
    "local npv=r(npv)\n",
    "local roc=r(roc)\n",
    "post `memhold' (\"SystemOne\") (`prev') (`sens') (`spec') (`ppv') (`npv') (`roc') \n",
    "\n",
    "quietly diagt diag test if regexm(system,\"Vision\")==1\n",
    "local prev=r(prev)\n",
    "local sens=r(sens)\n",
    "local spec=r(spec)\n",
    "local ppv=r(ppv)\n",
    "local npv=r(npv)\n",
    "local roc=r(roc)\n",
    "post `memhold' (\"Vision\") (`prev') (`sens') (`spec') (`ppv') (`npv') (`roc') \n",
    "\n",
    "quietly diagt diag test if regexm(ustrupper(system),\"EMIS\")==1\n",
    "local prev=r(prev)\n",
    "local sens=r(sens)\n",
    "local spec=r(spec)\n",
    "local ppv=r(ppv)\n",
    "local npv=r(npv)\n",
    "local roc=r(roc)\n",
    "post `memhold' (\"EMIS\") (`prev') (`sens') (`spec') (`ppv') (`npv') (`roc') \n",
    "\n",
    "quietly diagt diag test if RA_index==1\n",
    "local prev=r(prev)\n",
    "local sens=r(sens)\n",
    "local spec=r(spec)\n",
    "local ppv=r(ppv)\n",
    "local npv=r(npv)\n",
    "local roc=r(roc)\n",
    "post `memhold' (\"RAIndex1\") (`prev') (`sens') (`spec') (`ppv') (`npv') (`roc') \n",
    "\n",
    "quietly diagt diag test if RA_index==0\n",
    "local prev=r(prev)\n",
    "local sens=r(sens)\n",
    "local spec=r(spec)\n",
    "local ppv=r(ppv)\n",
    "local npv=r(npv)\n",
    "local roc=r(roc)\n",
    "post `memhold' (\"RAIndex0\") (`prev') (`sens') (`spec') (`ppv') (`npv') (`roc') \n",
    "\n",
    "quietly diagt diag test if ethnicity==\"0white\"\n",
    "local prev=r(prev)\n",
    "local sens=r(sens)\n",
    "local spec=r(spec)\n",
    "local ppv=r(ppv)\n",
    "local npv=r(npv)\n",
    "local roc=r(roc)\n",
    "post `memhold' (\"Ethnicity_0white\") (`prev') (`sens') (`spec') (`ppv') (`npv') (`roc') \n",
    "\n",
    "quietly diagt diag test if ethnicity==\"Other\"\n",
    "local prev=r(prev)\n",
    "local sens=r(sens)\n",
    "local spec=r(spec)\n",
    "local ppv=r(ppv)\n",
    "local npv=r(npv)\n",
    "local roc=r(roc)\n",
    "post `memhold' (\"Ethnicity_Other\") (`prev') (`sens') (`spec') (`ppv') (`npv') (`roc') \n",
    "\n",
    "\n",
    "\n",
    "quietly diagt diag test if ethnicity==\"Missing\"\n",
    "local prev=r(prev)\n",
    "local sens=r(sens)\n",
    "local spec=r(spec)\n",
    "local ppv=r(ppv)\n",
    "local npv=r(npv)\n",
    "local roc=r(roc)\n",
    "post `memhold' (\"Ethnicity_Missing\") (`prev') (`sens') (`spec') (`ppv') (`npv') (`roc') \n",
    "\n",
    "postclose `memhold'"
   ]
  },
  {
   "cell_type": "markdown",
   "id": "b350c4fb-deb8-450a-9750-689dc3a8268e",
   "metadata": {},
   "source": [
    "### Logistic Regression\n",
    "#### PPV"
   ]
  },
  {
   "cell_type": "code",
   "execution_count": 35,
   "id": "a21415d9",
   "metadata": {},
   "outputs": [
    {
     "name": "stdout",
     "output_type": "stream",
     "text": [
      "(2,589 observations deleted)\n",
      "(9 observations deleted)\n"
     ]
    }
   ],
   "source": [
    "drop if missing(imdcat)\n",
    "drop if missing(sex)"
   ]
  },
  {
   "cell_type": "code",
   "execution_count": 36,
   "id": "ad17f02e-1d4b-48ec-8a48-1c137597db1a",
   "metadata": {},
   "outputs": [
    {
     "name": "stdout",
     "output_type": "stream",
     "text": [
      "\n",
      "Logistic regression                                     Number of obs = 23,961\n",
      "                                                        LR chi2(0)    =   0.00\n",
      "                                                        Prob > chi2   =      .\n",
      "Log likelihood = -15977.896                             Pseudo R2     = 0.0000\n",
      "\n",
      "------------------------------------------------------------------------------\n",
      "    diag_pos |       Odds   Std. err.      z    P>|z|     [95% conf. interval]\n",
      "-------------+----------------------------------------------------------------\n",
      "       _cons |    1.59206   .0211287    35.04   0.000     1.551182    1.634014\n",
      "------------------------------------------------------------------------------\n"
     ]
    }
   ],
   "source": [
    "logistic diag_pos if test==1"
   ]
  },
  {
   "cell_type": "code",
   "execution_count": 37,
   "id": "b4bb2be2-7e3e-402c-aa81-7b7dfd706f64",
   "metadata": {},
   "outputs": [
    {
     "name": "stdout",
     "output_type": "stream",
     "text": [
      "note: 1.bnf_code_values != 0 predicts success perfectly;\n",
      "      1.bnf_code_values omitted and 1 obs not used.\n",
      "\n",
      "note: 2.bnf_code_values != 0 predicts success perfectly;\n",
      "      2.bnf_code_values omitted and 1 obs not used.\n",
      "\n",
      "note: 4.bnf_code_values omitted because of collinearity.\n",
      "\n",
      "Logistic regression                                     Number of obs = 23,959\n",
      "                                                        LR chi2(1)    =   4.92\n",
      "                                                        Prob > chi2   = 0.0265\n",
      "Log likelihood = -15974.46                              Pseudo R2     = 0.0002\n",
      "\n",
      "-------------------------------------------------------------------------------------\n",
      "           diag_pos | Odds ratio   Std. err.      z    P>|z|     [95% conf. interval]\n",
      "--------------------+----------------------------------------------------------------\n",
      "    bnf_code_values |\n",
      "            020602  |          1  (empty)\n",
      "            040301  |          1  (empty)\n",
      "Antidiabetic drugs  |   2.124892   .7263373     2.21   0.027     1.087367    4.152381\n",
      "     Other/unknown  |          1  (omitted)\n",
      "                    |\n",
      "              _cons |        .75   .2561738    -0.84   0.400     .3839906     1.46488\n",
      "-------------------------------------------------------------------------------------\n",
      "Note: _cons estimates baseline odds.\n"
     ]
    }
   ],
   "source": [
    "logistic diag_pos i.bnf_code_values if test==1"
   ]
  },
  {
   "cell_type": "code",
   "execution_count": 38,
   "id": "49e40858",
   "metadata": {},
   "outputs": [
    {
     "name": "stdout",
     "output_type": "stream",
     "text": [
      "\n",
      "Fitting fixed-effects model:\n",
      "\n",
      "Iteration 0:  Log likelihood = -15346.287  \n",
      "Iteration 1:  Log likelihood = -15323.724  \n",
      "Iteration 2:  Log likelihood = -15323.711  \n",
      "Iteration 3:  Log likelihood = -15323.711  \n",
      "\n",
      "Refining starting values:\n",
      "\n",
      "Grid node 0:  Log likelihood = -14090.023\n",
      "\n",
      "Fitting full model:\n",
      "\n",
      "Iteration 0:  Log likelihood = -14090.023  \n",
      "Iteration 1:  Log likelihood = -14072.587  \n",
      "Iteration 2:  Log likelihood = -14071.639  \n",
      "Iteration 3:  Log likelihood = -14071.632  \n",
      "Iteration 4:  Log likelihood = -14071.632  \n",
      "\n",
      "Mixed-effects logistic regression               Number of obs     =     23,874\n",
      "Group variable: practice_id                     Number of groups  =        323\n",
      "\n",
      "                                                Obs per group:\n",
      "                                                              min =          1\n",
      "                                                              avg =       73.9\n",
      "                                                              max =        657\n",
      "\n",
      "Integration method: mvaghermite                 Integration pts.  =          7\n",
      "\n",
      "                                                Wald chi2(18)     =     658.31\n",
      "Log likelihood = -14071.632                     Prob > chi2       =     0.0000\n",
      "----------------------------------------------------------------------------------------------------------------\n",
      "                                       newdiag | Odds ratio   Std. err.      z    P>|z|     [95% conf. interval]\n",
      "-----------------------------------------------+----------------------------------------------------------------\n",
      "                                   1.sex_coded |   1.279895    .038145     8.28   0.000     1.207274    1.356885\n",
      "                                               |\n",
      "                                       yearcat |\n",
      "                                    2010-2015  |   1.221029   .0449316     5.43   0.000     1.136065    1.312346\n",
      "                                    2016-2020  |   .9886316   .0381204    -0.30   0.767     .9166704    1.066242\n",
      "                                               |\n",
      "                                        agecat |\n",
      "                                      0Middle  |     7.7736   .7724058    20.64   0.000     6.398004    9.444955\n",
      "                                      Elderly  |   6.924772   .6905771    19.40   0.000      5.69533    8.419611\n",
      "                                               |\n",
      "                                        region |\n",
      "                  LONDON COMMISSIONING REGION  |   1.071282   .3913379     0.19   0.850      .523553     2.19203\n",
      "                MIDLANDS COMMISSIONING REGION  |   1.511646    .279907     2.23   0.026     1.051564    2.173024\n",
      "NORTH EAST AND YORKSHIRE COMMISSIONING REGION  |   .8648714   .1739016    -0.72   0.470     .5831746    1.282639\n",
      "              NORTH WEST COMMISSIONING REGION  |   1.099871   .2645781     0.40   0.692     .6864078    1.762388\n",
      "              SOUTH EAST COMMISSIONING REGION  |   1.031418   .2085847     0.15   0.878      .693898    1.533113\n",
      "              SOUTH WEST COMMISSIONING REGION  |   .6663925   .1599496    -1.69   0.091     .4163149     1.06669\n",
      "                                     Scotland  |   .2197645   .0821437    -4.05   0.000     .1056319    .4572145\n",
      "                                        Wales  |   .3371958   .2103844    -1.74   0.081     .0992653    1.145425\n",
      "                                               |\n",
      "                                      RA_index |   1.321795   .1861819     1.98   0.048     1.002924     1.74205\n",
      "                                               |\n",
      "                                        ethnic |\n",
      "                                      Missing  |   .7936796   .0354287    -5.18   0.000     .7271916    .8662467\n",
      "                                        Other  |    .999119   .0525223    -0.02   0.987     .9013028    1.107551\n",
      "                                               |\n",
      "                                        imdcat |\n",
      "                                          4-7  |   1.322619   .1970155     1.88   0.061     .9877364    1.771041\n",
      "                                         8-10  |    1.40689   .2254238     2.13   0.033     1.027717    1.925958\n",
      "                                               |\n",
      "                                         _cons |   .1569461   .0284237   -10.23   0.000     .1100509    .2238244\n",
      "-----------------------------------------------+----------------------------------------------------------------\n",
      "practice_id                                    |\n",
      "                                     var(_cons)|   .8752791   .0884391                      .7180262    1.066972\n",
      "----------------------------------------------------------------------------------------------------------------\n",
      "Note: Estimates are transformed only in the first equation to odds ratios.\n",
      "Note: _cons estimates baseline odds (conditional on zero random effects).\n",
      "LR test vs. logistic model: chibar2(01) = 2504.16     Prob >= chibar2 = 0.0000\n"
     ]
    }
   ],
   "source": [
    "gen newdiag=diag_pos\n",
    "\n",
    "melogit newdiag i.sex i.yearcat i.agecat  i.region RA_index i.ethnic i.imdcat if test==1 || practice_id:,or\n",
    "estimates store model1"
   ]
  },
  {
   "cell_type": "markdown",
   "id": "1fb85b5e",
   "metadata": {},
   "source": [
    "##### Likelihood ratio tests"
   ]
  },
  {
   "cell_type": "code",
   "execution_count": 39,
   "id": "718b2ba3-f1ac-41c9-af92-e0cb45d55985",
   "metadata": {},
   "outputs": [],
   "source": [
    "\n",
    "\n",
    "quietly: melogit newdiag i.sex i.yearcat i.agecat  i.region RA_index i.ethnic if test==1 || practice_id:,or\n",
    "estimates store model_imd\n",
    "\n",
    "quietly:melogit newdiag i.sex i.yearcat i.agecat  i.region RA_index i.imdcat if test==1 || practice_id:,or\n",
    "estimates store model_ethnicity\n",
    "\n",
    "quietly:melogit newdiag i.yearcat i.agecat  i.region RA_index i.ethnic i.imdcat if test==1 || practice_id:,or\n",
    "estimates store model_sex\n",
    "\n",
    "quietly:melogit newdiag i.sex i.agecat  i.region RA_index i.ethnic i.imdcat if test==1 || practice_id:,or\n",
    "estimates store model_year\n",
    "\n",
    "quietly: melogit newdiag i.sex i.yearcat  i.region RA_index i.ethnic i.imdcat if test==1 || practice_id:,or\n",
    "estimates store model_age\n",
    "\n"
   ]
  },
  {
   "cell_type": "code",
   "execution_count": 40,
   "id": "31887f9d",
   "metadata": {},
   "outputs": [
    {
     "name": "stdout",
     "output_type": "stream",
     "text": [
      "\n",
      "Likelihood-ratio test\n",
      "Assumption: model_sex nested within model1\n",
      "\n",
      " LR chi2(1) =  68.63\n",
      "Prob > chi2 = 0.0000\n",
      "\n",
      "Likelihood-ratio test\n",
      "Assumption: model_year nested within model1\n",
      "\n",
      " LR chi2(2) =  43.24\n",
      "Prob > chi2 = 0.0000\n",
      "\n",
      "Likelihood-ratio test\n",
      "Assumption: model_age nested within model1\n",
      "\n",
      " LR chi2(2) = 521.56\n",
      "Prob > chi2 = 0.0000\n",
      "\n",
      "Likelihood-ratio test\n",
      "Assumption: model_ethnic~y nested within model1\n",
      "\n",
      " LR chi2(2) =  27.10\n",
      "Prob > chi2 = 0.0000\n",
      "\n",
      "Likelihood-ratio test\n",
      "Assumption: model_imd nested within model1\n",
      "\n",
      " LR chi2(2) =   5.23\n",
      "Prob > chi2 = 0.0731\n"
     ]
    }
   ],
   "source": [
    "lrtest model1 model_sex\n",
    "lrtest model1 model_year\n",
    "lrtest model1 model_age\n",
    "lrtest model1 model_ethnicity\n",
    "lrtest model1 model_imd\n"
   ]
  },
  {
   "cell_type": "markdown",
   "id": "99227c99-0304-407b-a990-a06fe4bd4560",
   "metadata": {},
   "source": [
    "#### NPV"
   ]
  },
  {
   "cell_type": "code",
   "execution_count": 41,
   "id": "04c0103e-c424-49af-8973-09a13878ea3f",
   "metadata": {},
   "outputs": [
    {
     "name": "stdout",
     "output_type": "stream",
     "text": [
      "\n",
      "Logistic regression                                    Number of obs = 398,496\n",
      "                                                       LR chi2(0)    =   -0.00\n",
      "                                                       Prob > chi2   =       .\n",
      "Log likelihood = -29197.228                            Pseudo R2     = -0.0000\n",
      "\n",
      "------------------------------------------------------------------------------\n",
      "    diag_neg |       Odds   Std. err.      z    P>|z|     [95% conf. interval]\n",
      "-------------+----------------------------------------------------------------\n",
      "       _cons |   70.90473   .9591423   315.02   0.000     69.04954    72.80975\n",
      "------------------------------------------------------------------------------\n"
     ]
    }
   ],
   "source": [
    "logistic diag_neg if test==0"
   ]
  },
  {
   "cell_type": "code",
   "execution_count": 42,
   "id": "93a5b760",
   "metadata": {},
   "outputs": [
    {
     "name": "stdout",
     "output_type": "stream",
     "text": [
      "(422,457 real changes made)\n",
      "\n",
      "Fitting fixed-effects model:\n",
      "\n",
      "Iteration 0:  Log likelihood = -48457.909  \n",
      "Iteration 1:  Log likelihood = -27466.749  \n",
      "Iteration 2:  Log likelihood =  -26221.61  \n",
      "Iteration 3:  Log likelihood =  -25985.18  \n",
      "Iteration 4:  Log likelihood = -25965.374  \n",
      "Iteration 5:  Log likelihood = -25964.865  \n",
      "Iteration 6:  Log likelihood = -25964.864  \n",
      "\n",
      "Refining starting values:\n",
      "\n",
      "Grid node 0:  Log likelihood =  -25912.48\n",
      "\n",
      "Fitting full model:\n",
      "\n",
      "Iteration 0:  Log likelihood =  -25912.48  (not concave)\n",
      "Iteration 1:  Log likelihood = -25829.942  \n",
      "Iteration 2:  Log likelihood = -25817.059  \n",
      "Iteration 3:  Log likelihood = -25810.889  \n",
      "Iteration 4:  Log likelihood = -25810.517  \n",
      "Iteration 5:  Log likelihood = -25810.514  \n",
      "\n",
      "Mixed-effects logistic regression               Number of obs     =    397,613\n",
      "Group variable: practice_id                     Number of groups  =        337\n",
      "\n",
      "                                                Obs per group:\n",
      "                                                              min =          1\n",
      "                                                              avg =    1,179.9\n",
      "                                                              max =      9,835\n",
      "\n",
      "Integration method: mvaghermite                 Integration pts.  =          7\n",
      "\n",
      "                                                Wald chi2(18)     =    3534.97\n",
      "Log likelihood = -25810.514                     Prob > chi2       =     0.0000\n",
      "----------------------------------------------------------------------------------------------------------------\n",
      "                                       newdiag | Odds ratio   Std. err.      z    P>|z|     [95% conf. interval]\n",
      "-----------------------------------------------+----------------------------------------------------------------\n",
      "                                   1.sex_coded |   .7521523   .0207763   -10.31   0.000     .7125141    .7939956\n",
      "                                               |\n",
      "                                       yearcat |\n",
      "                                    2010-2015  |    .914997   .0304204    -2.67   0.008     .8572751    .9766054\n",
      "                                    2016-2020  |   1.022895   .0380861     0.61   0.543      .950906    1.100333\n",
      "                                               |\n",
      "                                        agecat |\n",
      "                                      0Middle  |   .0463975   .0060894   -23.40   0.000     .0358739    .0600082\n",
      "                                      Elderly  |   .0114964   .0015102   -34.00   0.000     .0088869    .0148722\n",
      "                                               |\n",
      "                                        region |\n",
      "                  LONDON COMMISSIONING REGION  |   1.395103   .2535221     1.83   0.067     .9770656    1.991999\n",
      "                MIDLANDS COMMISSIONING REGION  |   .7844163   .0722059    -2.64   0.008     .6549273    .9395073\n",
      "NORTH EAST AND YORKSHIRE COMMISSIONING REGION  |    .702486   .0683009    -3.63   0.000     .5806006    .8499588\n",
      "              NORTH WEST COMMISSIONING REGION  |   1.030762   .1227288     0.25   0.799     .8162233     1.30169\n",
      "              SOUTH EAST COMMISSIONING REGION  |   1.072288   .1041614     0.72   0.472      .886393    1.297169\n",
      "              SOUTH WEST COMMISSIONING REGION  |   .9567634   .1101441    -0.38   0.701     .7635067    1.198937\n",
      "                                     Scotland  |    1.02862   .2044155     0.14   0.887     .6967829    1.518492\n",
      "                                        Wales  |   1.367149   .4749376     0.90   0.368     .6920139    2.700953\n",
      "                                               |\n",
      "                                      RA_index |   .9052787   .0650485    -1.38   0.166     .7863566    1.042186\n",
      "                                               |\n",
      "                                        ethnic |\n",
      "                                      Missing  |   1.880576   .0729783    16.28   0.000     1.742845    2.029191\n",
      "                                        Other  |   .7649062   .0425678    -4.82   0.000      .685864    .8530576\n",
      "                                               |\n",
      "                                        imdcat |\n",
      "                                          4-7  |   .9109782   .0664788    -1.28   0.201     .7895713    1.051053\n",
      "                                         8-10  |   .9862888    .077527    -0.18   0.861     .8454649    1.150569\n",
      "                                               |\n",
      "                                         _cons |   2645.625   406.1058    51.34   0.000      1958.25    3574.279\n",
      "-----------------------------------------------+----------------------------------------------------------------\n",
      "practice_id                                    |\n",
      "                                     var(_cons)|   .1335356   .0194552                      .1003651    .1776689\n",
      "----------------------------------------------------------------------------------------------------------------\n",
      "Note: Estimates are transformed only in the first equation to odds ratios.\n",
      "Note: _cons estimates baseline odds (conditional on zero random effects).\n",
      "LR test vs. logistic model: chibar2(01) = 308.70      Prob >= chibar2 = 0.0000\n"
     ]
    }
   ],
   "source": [
    "/* need to use the same response variable (newdiag) to line up the two model results */\n",
    "replace newdiag=diag_neg \n",
    "\n",
    "melogit newdiag i.sex i.yearcat i.agecat i.region RA_index i.ethnic i.imdcat if test==0 || practice_id:,or\n",
    "estimates store model2"
   ]
  },
  {
   "cell_type": "markdown",
   "id": "60c60b7a",
   "metadata": {},
   "source": [
    "##### Likelihood ratio tests"
   ]
  },
  {
   "cell_type": "code",
   "execution_count": 43,
   "id": "c31bd1f1-c69b-4600-a1c0-bde311d67651",
   "metadata": {},
   "outputs": [],
   "source": [
    "\n",
    "quietly: melogit newdiag i.yearcat i.agecat i.region RA_index i.ethnic i.imdcat if test==0 || practice_id:,or\n",
    "estimates store model2_sex\n",
    "quietly: melogit newdiag i.sex i.agecat i.region RA_index i.ethnic i.imdcat if test==0 || practice_id:,or\n",
    "estimates store model2_year\n",
    "quietly: melogit newdiag i.sex i.yearcat i.region RA_index i.ethnic i.imdcat if test==0 || practice_id:,or\n",
    "estimates store model2_age\n",
    "quietly: melogit newdiag i.sex i.yearcat i.agecat i.region RA_index i.imdcat if test==0 || practice_id:,or\n",
    "estimates store model2_ethnicity\n",
    "quietly: melogit newdiag i.sex i.yearcat i.agecat i.region RA_index i.ethnic if test==0 || practice_id:,or\n",
    "estimates store model2_imd\n"
   ]
  },
  {
   "cell_type": "code",
   "execution_count": 44,
   "id": "95d03409",
   "metadata": {},
   "outputs": [
    {
     "name": "stdout",
     "output_type": "stream",
     "text": [
      "\n",
      "Likelihood-ratio test\n",
      "Assumption: model2_sex nested within model2\n",
      "\n",
      " LR chi2(1) = 106.59\n",
      "Prob > chi2 = 0.0000\n",
      "\n",
      "Likelihood-ratio test\n",
      "Assumption: model2_year nested within model2\n",
      "\n",
      " LR chi2(2) =  12.37\n",
      "Prob > chi2 = 0.0021\n",
      "\n",
      "Likelihood-ratio test\n",
      "Assumption: model2_age nested within model2\n",
      "\n",
      " LR chi2(2) = 5246.06\n",
      "Prob > chi2 =  0.0000\n",
      "\n",
      "Likelihood-ratio test\n",
      "Assumption: model2_ethni~y nested within model2\n",
      "\n",
      " LR chi2(2) = 332.35\n",
      "Prob > chi2 = 0.0000\n",
      "\n",
      "Likelihood-ratio test\n",
      "Assumption: model2_imd nested within model2\n",
      "\n",
      " LR chi2(2) =   2.04\n",
      "Prob > chi2 = 0.3609\n"
     ]
    }
   ],
   "source": [
    "lrtest model2 model2_sex\n",
    "lrtest model2 model2_year\n",
    "lrtest model2 model2_age\n",
    "lrtest model2 model2_ethnicity\n",
    "lrtest model2 model2_imd\n"
   ]
  },
  {
   "cell_type": "code",
   "execution_count": 45,
   "id": "017939f5-75b7-4ee0-9f7b-3105e0d2bfe1",
   "metadata": {},
   "outputs": [
    {
     "name": "stdout",
     "output_type": "stream",
     "text": [
      "\n",
      "Table 2. PPV (1) and NPV (2), OR, Random effect\n",
      "-------------------------------------------------------------------\n",
      "                                                    1         2    \n",
      "-------------------------------------------------------------------\n",
      "sex_coded                                                          \n",
      "  1                                              1.28 **    0.75 **\n",
      "yearcat                                                            \n",
      "  2010-2015                                      1.22 **    0.91 **\n",
      "  2016-2020                                      0.99       1.02   \n",
      "agecat                                                             \n",
      "  0Middle                                        7.77 **    0.05 **\n",
      "  Elderly                                        6.92 **    0.01 **\n",
      "region                                                             \n",
      "  LONDON COMMISSIONING REGION                    1.07       1.40   \n",
      "  MIDLANDS COMMISSIONING REGION                  1.51 *     0.78 **\n",
      "  NORTH EAST AND YORKSHIRE COMMISSIONING REGION  0.86       0.70 **\n",
      "  NORTH WEST COMMISSIONING REGION                1.10       1.03   \n",
      "  SOUTH EAST COMMISSIONING REGION                1.03       1.07   \n",
      "  SOUTH WEST COMMISSIONING REGION                0.67       0.96   \n",
      "  Scotland                                       0.22 **    1.03   \n",
      "  Wales                                          0.34       1.37   \n",
      "RA_index                                         1.32 *     0.91   \n",
      "ethnic                                                             \n",
      "  Missing                                        0.79 **    1.88 **\n",
      "  Other                                          1.00       0.76 **\n",
      "imdcat                                                             \n",
      "  4-7                                            1.32       0.91   \n",
      "  8-10                                           1.41 *     0.99   \n",
      "Intercept                                        0.16 ** 2645.63 **\n",
      "var(_cons[practice_id])                          0.88       0.13   \n",
      "Number of observations                          23874     397613   \n",
      "-------------------------------------------------------------------\n",
      "** p<.01, * p<.05\n",
      "(collection ETable exported to file validity2.xlsx)\n"
     ]
    }
   ],
   "source": [
    "etable, estimates(model1 model2) showstars showstarsnote title(\"Table 2. PPV (1) and NPV (2),  OR, Random effect\") cstat(_r_b,nformat(%6.2f)) column(index) export(validity2.xlsx, modify sheet(reg_t2dm, replace))"
   ]
  },
  {
   "cell_type": "markdown",
   "id": "e7e9a417",
   "metadata": {},
   "source": [
    "### Summary of validation parameters"
   ]
  },
  {
   "cell_type": "code",
   "execution_count": 46,
   "id": "e27d82a4-8d2d-4529-8a15-ae4baabfa28c",
   "metadata": {},
   "outputs": [
    {
     "name": "stdout",
     "output_type": "stream",
     "text": [
      "(26 real changes made)\n",
      "(26 real changes made)\n",
      "(26 real changes made)\n",
      "(26 real changes made)\n",
      "(26 real changes made)\n",
      "(26 real changes made)\n"
     ]
    }
   ],
   "source": [
    "use validity.dta, clear\n",
    "replace prev=round(prev, 0.1)\n",
    "gen prev_a=round(((prev/100)*((sens/100)+(spec/100)-1)+1-(spec/100))*100,0.1)/*apparent prevalence*/\n",
    "replace sens=round(sens, 0.1)\n",
    "replace spec=round(spec,0.1)\n",
    "replace ppv=round(ppv, 0.1)\n",
    "replace npv=round(npv, 0.1)\n",
    "replace roc=round(roc, 0.01)\n"
   ]
  },
  {
   "cell_type": "code",
   "execution_count": 47,
   "id": "8129bfb3-cd21-4077-a785-9a74a846c65b",
   "metadata": {},
   "outputs": [
    {
     "data": {
      "text/html": [
       "<div>\n",
       "<style scoped>\n",
       "    .dataframe tbody tr th:only-of-type {\n",
       "        vertical-align: middle;\n",
       "    }\n",
       "\n",
       "    .dataframe tbody tr th {\n",
       "        vertical-align: top;\n",
       "    }\n",
       "\n",
       "    .dataframe thead th {\n",
       "        text-align: right;\n",
       "    }\n",
       "</style>\n",
       "<table border=\"1\" class=\"dataframe\">\n",
       "  <thead>\n",
       "    <tr style=\"text-align: right;\">\n",
       "      <th></th>\n",
       "      <th>var</th>\n",
       "      <th>prev</th>\n",
       "      <th>sens</th>\n",
       "      <th>spec</th>\n",
       "      <th>ppv</th>\n",
       "      <th>npv</th>\n",
       "      <th>roc</th>\n",
       "      <th>prev_a</th>\n",
       "    </tr>\n",
       "  </thead>\n",
       "  <tbody>\n",
       "    <tr>\n",
       "      <th>1</th>\n",
       "      <td>all</td>\n",
       "      <td>4.8</td>\n",
       "      <td>72.7</td>\n",
       "      <td>97.7</td>\n",
       "      <td>61.4</td>\n",
       "      <td>98.6</td>\n",
       "      <td>.85</td>\n",
       "      <td>5.7</td>\n",
       "    </tr>\n",
       "    <tr>\n",
       "      <th>2</th>\n",
       "      <td>Male</td>\n",
       "      <td>5.4</td>\n",
       "      <td>74</td>\n",
       "      <td>97.7</td>\n",
       "      <td>64.6</td>\n",
       "      <td>98.5</td>\n",
       "      <td>.86</td>\n",
       "      <td>6.2</td>\n",
       "    </tr>\n",
       "    <tr>\n",
       "      <th>3</th>\n",
       "      <td>Female</td>\n",
       "      <td>4.1</td>\n",
       "      <td>70.9</td>\n",
       "      <td>97.8</td>\n",
       "      <td>57.7</td>\n",
       "      <td>98.7</td>\n",
       "      <td>.84</td>\n",
       "      <td>5.1</td>\n",
       "    </tr>\n",
       "    <tr>\n",
       "      <th>4</th>\n",
       "      <td>Age young</td>\n",
       "      <td>.2</td>\n",
       "      <td>73.2</td>\n",
       "      <td>99.5</td>\n",
       "      <td>21.7</td>\n",
       "      <td>99.9</td>\n",
       "      <td>.86</td>\n",
       "      <td>.6</td>\n",
       "    </tr>\n",
       "    <tr>\n",
       "      <th>5</th>\n",
       "      <td>Age middle</td>\n",
       "      <td>4.7</td>\n",
       "      <td>77</td>\n",
       "      <td>97.8</td>\n",
       "      <td>63.5</td>\n",
       "      <td>98.9</td>\n",
       "      <td>.87</td>\n",
       "      <td>5.7</td>\n",
       "    </tr>\n",
       "    <tr>\n",
       "      <th>6</th>\n",
       "      <td>Age elderly</td>\n",
       "      <td>11.3</td>\n",
       "      <td>68</td>\n",
       "      <td>94.6</td>\n",
       "      <td>61.9</td>\n",
       "      <td>95.9</td>\n",
       "      <td>.81</td>\n",
       "      <td>12.4</td>\n",
       "    </tr>\n",
       "    <tr>\n",
       "      <th>7</th>\n",
       "      <td>Year 2004-2009</td>\n",
       "      <td>4.5</td>\n",
       "      <td>71.1</td>\n",
       "      <td>97.7</td>\n",
       "      <td>59.1</td>\n",
       "      <td>98.6</td>\n",
       "      <td>.84</td>\n",
       "      <td>5.4</td>\n",
       "    </tr>\n",
       "    <tr>\n",
       "      <th>8</th>\n",
       "      <td>Year 2010-2015</td>\n",
       "      <td>5</td>\n",
       "      <td>71.8</td>\n",
       "      <td>97.9</td>\n",
       "      <td>64.7</td>\n",
       "      <td>98.5</td>\n",
       "      <td>.85</td>\n",
       "      <td>5.5</td>\n",
       "    </tr>\n",
       "    <tr>\n",
       "      <th>9</th>\n",
       "      <td>Year 2016-2020</td>\n",
       "      <td>4.8</td>\n",
       "      <td>75.5</td>\n",
       "      <td>97.5</td>\n",
       "      <td>60.4</td>\n",
       "      <td>98.7</td>\n",
       "      <td>.87</td>\n",
       "      <td>6</td>\n",
       "    </tr>\n",
       "    <tr>\n",
       "      <th>10</th>\n",
       "      <td>IMD 1,3</td>\n",
       "      <td>5.1</td>\n",
       "      <td>73.7</td>\n",
       "      <td>97.2</td>\n",
       "      <td>58.5</td>\n",
       "      <td>98.6</td>\n",
       "      <td>.85</td>\n",
       "      <td>6.4</td>\n",
       "    </tr>\n",
       "    <tr>\n",
       "      <th>11</th>\n",
       "      <td>IMD 4,7</td>\n",
       "      <td>4.9</td>\n",
       "      <td>72.1</td>\n",
       "      <td>97.8</td>\n",
       "      <td>62.7</td>\n",
       "      <td>98.5</td>\n",
       "      <td>.85</td>\n",
       "      <td>5.6</td>\n",
       "    </tr>\n",
       "    <tr>\n",
       "      <th>12</th>\n",
       "      <td>IMD 8,10</td>\n",
       "      <td>4.3</td>\n",
       "      <td>71.9</td>\n",
       "      <td>98.2</td>\n",
       "      <td>64.5</td>\n",
       "      <td>98.7</td>\n",
       "      <td>.85</td>\n",
       "      <td>4.8</td>\n",
       "    </tr>\n",
       "    <tr>\n",
       "      <th>13</th>\n",
       "      <td>London</td>\n",
       "      <td>3.2</td>\n",
       "      <td>77.7</td>\n",
       "      <td>98.9</td>\n",
       "      <td>71</td>\n",
       "      <td>99.2</td>\n",
       "      <td>.88</td>\n",
       "      <td>3.5</td>\n",
       "    </tr>\n",
       "    <tr>\n",
       "      <th>14</th>\n",
       "      <td>Midlands</td>\n",
       "      <td>6.1</td>\n",
       "      <td>75.1</td>\n",
       "      <td>97.6</td>\n",
       "      <td>66.5</td>\n",
       "      <td>98.4</td>\n",
       "      <td>.86</td>\n",
       "      <td>6.9</td>\n",
       "    </tr>\n",
       "    <tr>\n",
       "      <th>15</th>\n",
       "      <td>Yorkshire</td>\n",
       "      <td>5.4</td>\n",
       "      <td>67.9</td>\n",
       "      <td>97.3</td>\n",
       "      <td>58.5</td>\n",
       "      <td>98.2</td>\n",
       "      <td>.83</td>\n",
       "      <td>6.3</td>\n",
       "    </tr>\n",
       "    <tr>\n",
       "      <th>16</th>\n",
       "      <td>North West</td>\n",
       "      <td>4.1</td>\n",
       "      <td>75.4</td>\n",
       "      <td>98.2</td>\n",
       "      <td>64.6</td>\n",
       "      <td>98.9</td>\n",
       "      <td>.87</td>\n",
       "      <td>4.8</td>\n",
       "    </tr>\n",
       "    <tr>\n",
       "      <th>17</th>\n",
       "      <td>South East</td>\n",
       "      <td>4.1</td>\n",
       "      <td>72.8</td>\n",
       "      <td>98.3</td>\n",
       "      <td>65.2</td>\n",
       "      <td>98.8</td>\n",
       "      <td>.86</td>\n",
       "      <td>4.6</td>\n",
       "    </tr>\n",
       "    <tr>\n",
       "      <th>18</th>\n",
       "      <td>South West</td>\n",
       "      <td>4.8</td>\n",
       "      <td>69.6</td>\n",
       "      <td>97.1</td>\n",
       "      <td>55</td>\n",
       "      <td>98.4</td>\n",
       "      <td>.83</td>\n",
       "      <td>6.1</td>\n",
       "    </tr>\n",
       "    <tr>\n",
       "      <th>19</th>\n",
       "      <td>SystemOne</td>\n",
       "      <td>5.2</td>\n",
       "      <td>71.1</td>\n",
       "      <td>97.2</td>\n",
       "      <td>58</td>\n",
       "      <td>98.4</td>\n",
       "      <td>.84</td>\n",
       "      <td>6.3</td>\n",
       "    </tr>\n",
       "    <tr>\n",
       "      <th>20</th>\n",
       "      <td>Vision</td>\n",
       "      <td>2.5</td>\n",
       "      <td>71.6</td>\n",
       "      <td>96.9</td>\n",
       "      <td>36.9</td>\n",
       "      <td>99.3</td>\n",
       "      <td>.84</td>\n",
       "      <td>4.8</td>\n",
       "    </tr>\n",
       "    <tr>\n",
       "      <th>21</th>\n",
       "      <td>EMIS</td>\n",
       "      <td>4.5</td>\n",
       "      <td>75</td>\n",
       "      <td>98.4</td>\n",
       "      <td>68.9</td>\n",
       "      <td>98.8</td>\n",
       "      <td>.87</td>\n",
       "      <td>4.9</td>\n",
       "    </tr>\n",
       "    <tr>\n",
       "      <th>22</th>\n",
       "      <td>RAIndex1</td>\n",
       "      <td>4.8</td>\n",
       "      <td>72</td>\n",
       "      <td>97.8</td>\n",
       "      <td>62.3</td>\n",
       "      <td>98.6</td>\n",
       "      <td>.85</td>\n",
       "      <td>5.6</td>\n",
       "    </tr>\n",
       "    <tr>\n",
       "      <th>23</th>\n",
       "      <td>RAIndex0</td>\n",
       "      <td>4.6</td>\n",
       "      <td>74.9</td>\n",
       "      <td>97.5</td>\n",
       "      <td>59</td>\n",
       "      <td>98.8</td>\n",
       "      <td>.86</td>\n",
       "      <td>5.8</td>\n",
       "    </tr>\n",
       "    <tr>\n",
       "      <th>24</th>\n",
       "      <td>Ethnicity_0white</td>\n",
       "      <td>5.6</td>\n",
       "      <td>71.8</td>\n",
       "      <td>97.6</td>\n",
       "      <td>64</td>\n",
       "      <td>98.3</td>\n",
       "      <td>.85</td>\n",
       "      <td>6.3</td>\n",
       "    </tr>\n",
       "    <tr>\n",
       "      <th>25</th>\n",
       "      <td>Ethnicity_Other</td>\n",
       "      <td>5.8</td>\n",
       "      <td>81.9</td>\n",
       "      <td>96.4</td>\n",
       "      <td>58.2</td>\n",
       "      <td>98.9</td>\n",
       "      <td>.89</td>\n",
       "      <td>8.2</td>\n",
       "    </tr>\n",
       "    <tr>\n",
       "      <th>26</th>\n",
       "      <td>Ethnicity_Missing</td>\n",
       "      <td>2.7</td>\n",
       "      <td>69.3</td>\n",
       "      <td>98.4</td>\n",
       "      <td>54.5</td>\n",
       "      <td>99.1</td>\n",
       "      <td>.84</td>\n",
       "      <td>3.5</td>\n",
       "    </tr>\n",
       "  </tbody>\n",
       "</table>\n",
       "</div>"
      ]
     },
     "metadata": {},
     "output_type": "display_data"
    }
   ],
   "source": [
    "%head 50"
   ]
  },
  {
   "cell_type": "code",
   "execution_count": 48,
   "id": "47dc850c-f3c8-4b9c-8ba9-3620f31b4fa9",
   "metadata": {},
   "outputs": [
    {
     "name": "stdout",
     "output_type": "stream",
     "text": [
      "file validity2.xlsx saved\n"
     ]
    }
   ],
   "source": [
    "/*texsave * using test3.tex, varlabels*/\n",
    "export excel using  validity2.xlsx, sheet(val_t2dm, replace)"
   ]
  }
 ],
 "metadata": {
  "kernelspec": {
   "display_name": "Stata (nbstata)",
   "language": "stata",
   "name": "nbstata"
  },
  "language_info": {
   "file_extension": ".do",
   "mimetype": "text/x-stata",
   "name": "stata",
   "version": "17"
  }
 },
 "nbformat": 4,
 "nbformat_minor": 5
}
