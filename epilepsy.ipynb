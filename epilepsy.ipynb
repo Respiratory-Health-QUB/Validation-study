{
 "cells": [
  {
   "cell_type": "markdown",
   "id": "13e469d7",
   "metadata": {},
   "source": [
    "# Validity of using prescription records to identify patient comorbidities\n",
    "## Combined Analysis of epilepsy"
   ]
  },
  {
   "cell_type": "markdown",
   "id": "a3d5caf8",
   "metadata": {},
   "source": [
    "**ReadMe:**\n",
    "- This is a script used in the analysis for Schnier et al., 2025: Validity of using prescription records to classify disease – a record linkage study using routinely collected electronic health records from the UK.\n",
    "- The underlying data set has been created using the Optimum Patient Care Research Database (https://opcrd.optimumpatientcare.org/). The authors do not have permission to give the public access to the study dataset; researchers may request access to OPCRD for their own purposes. \n",
    " - All code is run in StataSE 18. \n"
   ]
  },
  {
   "cell_type": "markdown",
   "id": "1cf02e3e-e834-469d-abf1-21c9ce29f756",
   "metadata": {},
   "source": [
    "**Set up:**\n",
    "|Var|Input|\n",
    "| --- | --- | \n",
    "|population|425,000|\n",
    "|diagnostic codes|Open coding code list|\n",
    "|drug codes|bnf 040801 and 040802|\n",
    "|sql date|13.03.2025|\n",
    "|sql code|epilepsyselection_202050313.sql| "
   ]
  },
  {
   "cell_type": "code",
   "execution_count": 54,
   "id": "2a759161-052f-4433-ab6c-0ad7ab9120e9",
   "metadata": {},
   "outputs": [],
   "source": [
    "    clear all"
   ]
  },
  {
   "cell_type": "markdown",
   "id": "5e9a592b-20c3-4eb6-b947-22979a02dcf0",
   "metadata": {},
   "source": [
    "### Import from SQL server and data wrangling"
   ]
  },
  {
   "cell_type": "code",
   "execution_count": 55,
   "id": "b5b5eb32-1b5c-44c2-901c-0e9d1a4e36d2",
   "metadata": {},
   "outputs": [],
   "source": [
    "odbc load, exec(\"select * from [epilepsy_425000_20250313]\") dsn(\"sqlserverconnect\")"
   ]
  },
  {
   "cell_type": "code",
   "execution_count": 56,
   "id": "0835f95f-a07b-4d29-b825-b3823bfad60e",
   "metadata": {
    "scrolled": true
   },
   "outputs": [
    {
     "name": "stdout",
     "output_type": "stream",
     "text": [
      "(23,514 missing values generated)\n",
      "(23,514 real changes made)\n",
      "(2,938 missing values generated)\n",
      "(2,938 real changes made)\n",
      "(2,589 missing values generated)\n",
      "variable bnf_code was str6 now str11\n",
      "(45 real changes made)\n",
      "variable bnf_code was str11 now str19\n",
      "(364 real changes made)\n",
      "variable bnf_code was str19 now str20\n",
      "(22,986 real changes made)\n",
      "variable bnf_code was str20 now str32\n",
      "(18 real changes made)\n",
      "(6 real changes made)\n",
      "(402,014 missing values generated)\n",
      "(437 real changes made)\n",
      "variable ethnicity was str2 now str6\n",
      "(257,981 real changes made)\n",
      "(3,762 real changes made)\n",
      "(23,912 real changes made)\n",
      "(7,430 real changes made)\n",
      "(8,764 real changes made)\n",
      "variable ethnicity was str6 now str7\n",
      "(123,151 real changes made)\n"
     ]
    }
   ],
   "source": [
    "generate test=0 if missing(drug_dt)\n",
    "replace test=1 if ! missing(drug_dt)  \n",
    "\n",
    "generate diag=0 if missing(diag_dt)\n",
    "replace diag=1 if ! missing(diag_dt)  \n",
    "\n",
    "gen start_year=year(fu_start_dt)\n",
    "\n",
    "\n",
    "egen agecat = cut(age), at(16,30,70,120)\n",
    "label def agecat_lab 16 \"Young\" 30 \"0Middle\" 70 \"Elderly\" 120 \"weird\"\n",
    "label values agecat agecat_lab\n",
    "\n",
    "\n",
    "egen yearcat = cut(start_year), at(2004,2010,2016,2025)\n",
    "label def yearcat_lab 2004 \"2004-2009\" 2010 \"2010-2015\" 2016 \"2016-2020\" \n",
    "label values yearcat yearcat_lab\n",
    "\n",
    "egen imdcat = cut(imd_decile), at(0,4,8,11)\n",
    "label def imdcat_lab 0 \"1-3\" 4 \"4-7\" 8 \"8-10\" \n",
    "label values imdcat imdcat_lab\n",
    "\n",
    "replace bnf_code = \"Anxiolytics\" if bnf_code== \"040102\"\n",
    "replace bnf_code = \"Mania and hypomania\" if bnf_code== \"040203\"\n",
    "replace bnf_code = \"Control for epilepsy\" if bnf_code== \"040801\"\n",
    "replace bnf_code = \"Drugs used in status epilepticus\" if bnf_code== \"040802\"\n",
    "replace bnf_code = \"Betablockers\" if bnf_code== \"110600\" \n",
    "\n",
    "gen bnf_code2 =  \"Control for epilepsy\" if bnf_code== \"Control for epilepsy\"\n",
    "replace bnf_code2 = \"Other\" if bnf_code!= \"Control for epilepsy\" & ! missing(bnf_code)\n",
    "encode bnf_code, generate(bnf_code_values)\n",
    "encode description, generate(description_values)\n",
    "encode bnf_code2, generate(bnf_code_values2)\n",
    "\n",
    "\n",
    "\n",
    "replace ethnicity=\"0white\" if ethnicity==\"1\"\n",
    "replace ethnicity=\"Other\" if ethnicity==\"2\"\n",
    "replace ethnicity=\"Other\" if ethnicity==\"3\"\n",
    "replace ethnicity=\"Other\" if ethnicity==\"4\"\n",
    "replace ethnicity=\"Other\" if ethnicity==\"5\"\n",
    "replace ethnicity=\"Missing\" if ethnicity==\"99\"\n",
    "\n",
    "\n",
    "\n",
    "\n",
    "encode ethnicity, generate(ethnicity_values) \n",
    "\n",
    "gen diag_neg=diag==0\n",
    "gen diag_pos=diag==1\n",
    "encode region_name, generate(region) label(regionlbl)\n",
    "encode ethnicity, generate(ethnic)\n"
   ]
  },
  {
   "cell_type": "code",
   "execution_count": 57,
   "id": "4bb67b58-5460-4077-bd5d-6252a35d7c1e",
   "metadata": {},
   "outputs": [
    {
     "name": "stdout",
     "output_type": "stream",
     "text": [
      "(bin=19, start=16, width=5)\n"
     ]
    },
    {
     "data": {
      "image/png": "[encoded data removed]",
      "text/plain": [
       "<IPython.core.display.Image object>"
      ]
     },
     "metadata": {},
     "output_type": "display_data"
    }
   ],
   "source": [
    "histogram age, width(5)\n"
   ]
  },
  {
   "cell_type": "markdown",
   "id": "cfdd2c1f-86b9-4840-8106-662ce151f20e",
   "metadata": {},
   "source": [
    "This table holds one randomly selected diagnostic code found during the observation period. The table is truncated to only include diagnostic codes with a count of 10 or more."
   ]
  },
  {
   "cell_type": "code",
   "execution_count": 58,
   "id": "6544a018-204b-4fcb-b5ab-d9ec745e764f",
   "metadata": {},
   "outputs": [
    {
     "name": "stdout",
     "output_type": "stream",
     "text": [
      "\n",
      "  +-------------------------------------------------------------+\n",
      "  |                       description   Freq.   Percent     %<= |\n",
      "  |-------------------------------------------------------------|\n",
      "  |                          Epilepsy    1131     38.50   38.50 |\n",
      "  |                     Fit frequency     538     18.31   56.81 |\n",
      "  |               Epilepsy monitoring     367     12.49   69.30 |\n",
      "  |                          Last fit     297     10.11   79.41 |\n",
      "  |                 Epilepsy resolved      66      2.25   81.65 |\n",
      "  |-------------------------------------------------------------|\n",
      "  |                 Epileptic seizure      56      1.91   83.56 |\n",
      "  |            Temporal lobe epilepsy      56      1.91   85.47 |\n",
      "  |              Generalized epilepsy      52      1.77   87.24 |\n",
      "  |        Grand mal (major) epilepsy      46      1.57   88.80 |\n",
      "  |                  Fit - convulsion      34      1.16   89.96 |\n",
      "  |-------------------------------------------------------------|\n",
      "  |        Epileptic seizures - tonic      28      0.95   90.91 |\n",
      "  |     Follow-up epilepsy assessment      25      0.85   91.76 |\n",
      "  |                      Epilepsy NOS      24      0.82   92.58 |\n",
      "  | Complex partial epileptic seizure      23      0.78   93.36 |\n",
      "  |     Localization-related epilepsy      18      0.61   93.98 |\n",
      "  |-------------------------------------------------------------|\n",
      "  |                Nocturnal epilepsy      15      0.51   94.49 |\n",
      "  |        Epilepsy treatment changed      12      0.41   94.89 |\n",
      "  |                Status epilepticus      12      0.41   95.30 |\n",
      "  |        Petit mal (minor) epilepsy      10      0.34   95.64 |\n",
      "  +-------------------------------------------------------------+\n"
     ]
    }
   ],
   "source": [
    "set linesize 132\n",
    "groups description , select(f >= 10) ord(h) table "
   ]
  },
  {
   "cell_type": "markdown",
   "id": "7d01eb90-5ca1-4146-aafb-680a81450cc3",
   "metadata": {},
   "source": [
    "These tables holds one randomly selected prescrption during the observation period. The table is truncated to only include codes with a count of 10 or more.\n"
   ]
  },
  {
   "cell_type": "code",
   "execution_count": 59,
   "id": "a4acd83f-5b6a-49e7-8b49-5dc1f78f2d1a",
   "metadata": {},
   "outputs": [
    {
     "name": "stdout",
     "output_type": "stream",
     "text": [
      "\n",
      "  +------------------------------------------------------------+\n",
      "  |                         bnf_code   Freq.   Percent     %<= |\n",
      "  |------------------------------------------------------------|\n",
      "  |             Control for epilepsy   22986     98.13   98.13 |\n",
      "  |              Mania and hypomania     364      1.55   99.69 |\n",
      "  |                      Anxiolytics      45      0.19   99.88 |\n",
      "  | Drugs used in status epilepticus      18      0.08   99.96 |\n",
      "  +------------------------------------------------------------+\n"
     ]
    }
   ],
   "source": [
    "set linesize 132\n",
    "groups bnf_code , select(f >= 10) ord(h) table "
   ]
  },
  {
   "cell_type": "markdown",
   "id": "67837c2c-bbb5-4681-8000-cd8b3f6cac51",
   "metadata": {},
   "source": [
    "### Results\n",
    "#### Overall"
   ]
  },
  {
   "cell_type": "code",
   "execution_count": 60,
   "id": "733c0f2e-1179-49dc-b95d-48547a864674",
   "metadata": {},
   "outputs": [
    {
     "name": "stdout",
     "output_type": "stream",
     "text": [
      "\n",
      "           |         test\n",
      "      diag |      Pos.       Neg. |     Total\n",
      "-----------+----------------------+----------\n",
      "  Abnormal |     2,712        226 |     2,938 \n",
      "    Normal |    20,802    401,260 |   422,062 \n",
      "-----------+----------------------+----------\n",
      "     Total |    23,514    401,486 |   425,000 \n",
      "True abnormal diagnosis defined as diag = 1\n",
      "\n",
      "\n",
      "                                                  [95% Confidence Interval]\n",
      "---------------------------------------------------------------------------\n",
      "Prevalence                         Pr(A)      0.7%      0.7%       0.7%\n",
      "---------------------------------------------------------------------------\n",
      "Sensitivity                      Pr(+|A)     92.3%     91.3%     93.2%\n",
      "Specificity                      Pr(-|N)     95.1%     95.0%     95.1%\n",
      "ROC area               (Sens. + Spec.)/2      0.94      0.93      0.94 \n",
      "---------------------------------------------------------------------------\n",
      "Likelihood ratio (+)     Pr(+|A)/Pr(+|N)     18.73     18.42     19.05 \n",
      "Likelihood ratio (-)     Pr(-|A)/Pr(-|N)      0.08      0.07      0.09 \n",
      "Odds ratio                   LR(+)/LR(-)    231.47    201.98    265.28 \n",
      "Positive predictive value        Pr(A|+)     11.5%     11.1%     11.9% \n",
      "Negative predictive value        Pr(N|-)     99.9%     99.9%    100.0% \n",
      "---------------------------------------------------------------------------\n"
     ]
    }
   ],
   "source": [
    "diagt diag test"
   ]
  },
  {
   "cell_type": "markdown",
   "id": "b119ffa3-90d8-4e4f-9f8d-30cca2284b37",
   "metadata": {},
   "source": [
    "#### Males"
   ]
  },
  {
   "cell_type": "code",
   "execution_count": 61,
   "id": "81028f5e-4e7a-4bb4-b0f6-71d8d0821075",
   "metadata": {},
   "outputs": [
    {
     "name": "stdout",
     "output_type": "stream",
     "text": [
      "\n",
      "           |         test\n",
      "      diag |      Pos.       Neg. |     Total\n",
      "-----------+----------------------+----------\n",
      "  Abnormal |     1,420        134 |     1,554 \n",
      "    Normal |     8,729    198,002 |   206,731 \n",
      "-----------+----------------------+----------\n",
      "     Total |    10,149    198,136 |   208,285 \n",
      "True abnormal diagnosis defined as diag = 1\n",
      "\n",
      "\n",
      "                                                  [95% Confidence Interval]\n",
      "---------------------------------------------------------------------------\n",
      "Prevalence                         Pr(A)      0.7%      0.7%       0.8%\n",
      "---------------------------------------------------------------------------\n",
      "Sensitivity                      Pr(+|A)     91.4%     89.9%     92.7%\n",
      "Specificity                      Pr(-|N)     95.8%     95.7%     95.9%\n",
      "ROC area               (Sens. + Spec.)/2      0.94      0.93      0.94 \n",
      "---------------------------------------------------------------------------\n",
      "Likelihood ratio (+)     Pr(+|A)/Pr(+|N)     21.64     21.09     22.20 \n",
      "Likelihood ratio (-)     Pr(-|A)/Pr(-|N)      0.09      0.08      0.11 \n",
      "Odds ratio                   LR(+)/LR(-)    240.37    201.14    287.26 \n",
      "Positive predictive value        Pr(A|+)     14.0%     13.3%     14.7% \n",
      "Negative predictive value        Pr(N|-)     99.9%     99.9%     99.9% \n",
      "---------------------------------------------------------------------------\n"
     ]
    }
   ],
   "source": [
    "diagt diag test if sex==1"
   ]
  },
  {
   "cell_type": "markdown",
   "id": "762df1ac-de32-43e9-8cb3-6696c91e2459",
   "metadata": {},
   "source": [
    "#### Females"
   ]
  },
  {
   "cell_type": "code",
   "execution_count": 62,
   "id": "7fc985e3-7757-4908-ae5a-5d346ee7ccb6",
   "metadata": {},
   "outputs": [
    {
     "name": "stdout",
     "output_type": "stream",
     "text": [
      "\n",
      "           |         test\n",
      "      diag |      Pos.       Neg. |     Total\n",
      "-----------+----------------------+----------\n",
      "  Abnormal |     1,292         92 |     1,384 \n",
      "    Normal |    12,073    203,249 |   215,322 \n",
      "-----------+----------------------+----------\n",
      "     Total |    13,365    203,341 |   216,706 \n",
      "True abnormal diagnosis defined as diag = 1\n",
      "\n",
      "\n",
      "                                                  [95% Confidence Interval]\n",
      "---------------------------------------------------------------------------\n",
      "Prevalence                         Pr(A)      0.6%      0.6%       0.7%\n",
      "---------------------------------------------------------------------------\n",
      "Sensitivity                      Pr(+|A)     93.4%     91.9%     94.6%\n",
      "Specificity                      Pr(-|N)     94.4%     94.3%     94.5%\n",
      "ROC area               (Sens. + Spec.)/2      0.94      0.93      0.95 \n",
      "---------------------------------------------------------------------------\n",
      "Likelihood ratio (+)     Pr(+|A)/Pr(+|N)     16.65     16.28     17.03 \n",
      "Likelihood ratio (-)     Pr(-|A)/Pr(-|N)      0.07      0.06      0.09 \n",
      "Odds ratio                   LR(+)/LR(-)    236.42    191.28    292.22 \n",
      "Positive predictive value        Pr(A|+)      9.7%      9.2%     10.2% \n",
      "Negative predictive value        Pr(N|-)    100.0%     99.9%    100.0% \n",
      "---------------------------------------------------------------------------\n"
     ]
    }
   ],
   "source": [
    "diagt diag test if sex==0"
   ]
  },
  {
   "cell_type": "markdown",
   "id": "ab8954a7-060c-4eba-adea-1044fb6bb9ea",
   "metadata": {},
   "source": [
    "#### Age\n",
    "*16-30*"
   ]
  },
  {
   "cell_type": "code",
   "execution_count": 63,
   "id": "f9aa943b-6489-4d70-a905-4aa3b8f2cb6e",
   "metadata": {},
   "outputs": [
    {
     "name": "stdout",
     "output_type": "stream",
     "text": [
      "\n",
      "           |         test\n",
      "      diag |      Pos.       Neg. |     Total\n",
      "-----------+----------------------+----------\n",
      "  Abnormal |       455         64 |       519 \n",
      "    Normal |     1,769    115,386 |   117,155 \n",
      "-----------+----------------------+----------\n",
      "     Total |     2,224    115,450 |   117,674 \n",
      "True abnormal diagnosis defined as diag = 1\n",
      "\n",
      "\n",
      "                                                  [95% Confidence Interval]\n",
      "---------------------------------------------------------------------------\n",
      "Prevalence                         Pr(A)      0.4%      0.4%       0.5%\n",
      "---------------------------------------------------------------------------\n",
      "Sensitivity                      Pr(+|A)     87.7%     84.5%     90.4%\n",
      "Specificity                      Pr(-|N)     98.5%     98.4%     98.6%\n",
      "ROC area               (Sens. + Spec.)/2      0.93      0.92      0.94 \n",
      "---------------------------------------------------------------------------\n",
      "Likelihood ratio (+)     Pr(+|A)/Pr(+|N)     58.06     54.88     61.43 \n",
      "Likelihood ratio (-)     Pr(-|A)/Pr(-|N)      0.13      0.10      0.16 \n",
      "Odds ratio                   LR(+)/LR(-)    463.72    355.73    604.48 \n",
      "Positive predictive value        Pr(A|+)     20.5%     18.8%     22.2% \n",
      "Negative predictive value        Pr(N|-)     99.9%     99.9%    100.0% \n",
      "---------------------------------------------------------------------------\n"
     ]
    }
   ],
   "source": [
    "diagt diag test if agecat==16"
   ]
  },
  {
   "cell_type": "markdown",
   "id": "999f9154-f87e-44c7-8928-1345fa5c5958",
   "metadata": {},
   "source": [
    "*30-69*"
   ]
  },
  {
   "cell_type": "code",
   "execution_count": 64,
   "id": "6fcb0167-b359-4f24-91e3-a10fb2caa610",
   "metadata": {},
   "outputs": [
    {
     "name": "stdout",
     "output_type": "stream",
     "text": [
      "\n",
      "           |         test\n",
      "      diag |      Pos.       Neg. |     Total\n",
      "-----------+----------------------+----------\n",
      "  Abnormal |     1,564        126 |     1,690 \n",
      "    Normal |    11,860    207,845 |   219,705 \n",
      "-----------+----------------------+----------\n",
      "     Total |    13,424    207,971 |   221,395 \n",
      "True abnormal diagnosis defined as diag = 1\n",
      "\n",
      "\n",
      "                                                  [95% Confidence Interval]\n",
      "---------------------------------------------------------------------------\n",
      "Prevalence                         Pr(A)      0.8%      0.7%       0.8%\n",
      "---------------------------------------------------------------------------\n",
      "Sensitivity                      Pr(+|A)     92.5%     91.2%     93.8%\n",
      "Specificity                      Pr(-|N)     94.6%     94.5%     94.7%\n",
      "ROC area               (Sens. + Spec.)/2      0.94      0.93      0.94 \n",
      "---------------------------------------------------------------------------\n",
      "Likelihood ratio (+)     Pr(+|A)/Pr(+|N)     17.14     16.77     17.53 \n",
      "Likelihood ratio (-)     Pr(-|A)/Pr(-|N)      0.08      0.07      0.09 \n",
      "Odds ratio                   LR(+)/LR(-)    217.53    181.30    261.00 \n",
      "Positive predictive value        Pr(A|+)     11.7%     11.1%     12.2% \n",
      "Negative predictive value        Pr(N|-)     99.9%     99.9%     99.9% \n",
      "---------------------------------------------------------------------------\n"
     ]
    }
   ],
   "source": [
    "diagt diag test if agecat==30"
   ]
  },
  {
   "cell_type": "markdown",
   "id": "10d9753a",
   "metadata": {},
   "source": [
    "*>69*"
   ]
  },
  {
   "cell_type": "code",
   "execution_count": 65,
   "id": "fd782079-4378-4cc3-9a2c-4adb92379d41",
   "metadata": {},
   "outputs": [
    {
     "name": "stdout",
     "output_type": "stream",
     "text": [
      "\n",
      "           |         test\n",
      "      diag |      Pos.       Neg. |     Total\n",
      "-----------+----------------------+----------\n",
      "  Abnormal |       693         36 |       729 \n",
      "    Normal |     7,173     78,029 |    85,202 \n",
      "-----------+----------------------+----------\n",
      "     Total |     7,866     78,065 |    85,931 \n",
      "True abnormal diagnosis defined as diag = 1\n",
      "\n",
      "\n",
      "                                                  [95% Confidence Interval]\n",
      "---------------------------------------------------------------------------\n",
      "Prevalence                         Pr(A)      0.8%      0.8%       0.9%\n",
      "---------------------------------------------------------------------------\n",
      "Sensitivity                      Pr(+|A)     95.1%     93.2%     96.5%\n",
      "Specificity                      Pr(-|N)     91.6%     91.4%     91.8%\n",
      "ROC area               (Sens. + Spec.)/2      0.93      0.93      0.94 \n",
      "---------------------------------------------------------------------------\n",
      "Likelihood ratio (+)     Pr(+|A)/Pr(+|N)     11.29     10.98     11.61 \n",
      "Likelihood ratio (-)     Pr(-|A)/Pr(-|N)      0.05      0.04      0.07 \n",
      "Odds ratio                   LR(+)/LR(-)    209.40    149.89    292.55 \n",
      "Positive predictive value        Pr(A|+)      8.8%      8.2%      9.5% \n",
      "Negative predictive value        Pr(N|-)    100.0%     99.9%    100.0% \n",
      "---------------------------------------------------------------------------\n"
     ]
    }
   ],
   "source": [
    "diagt diag test if agecat==70"
   ]
  },
  {
   "cell_type": "markdown",
   "id": "23455479-0f98-4886-a36c-770376084911",
   "metadata": {},
   "source": [
    "#### Year at start of oberservation period \n",
    "*2004-2009*"
   ]
  },
  {
   "cell_type": "code",
   "execution_count": 66,
   "id": "9c58ecee-bd42-47a9-ad46-f51305e689bf",
   "metadata": {},
   "outputs": [
    {
     "name": "stdout",
     "output_type": "stream",
     "text": [
      "\n",
      "           |         test\n",
      "      diag |      Pos.       Neg. |     Total\n",
      "-----------+----------------------+----------\n",
      "  Abnormal |     1,222        100 |     1,322 \n",
      "    Normal |     4,911    143,767 |   148,678 \n",
      "-----------+----------------------+----------\n",
      "     Total |     6,133    143,867 |   150,000 \n",
      "True abnormal diagnosis defined as diag = 1\n",
      "\n",
      "\n",
      "                                                  [95% Confidence Interval]\n",
      "---------------------------------------------------------------------------\n",
      "Prevalence                         Pr(A)      0.9%      0.8%       0.9%\n",
      "---------------------------------------------------------------------------\n",
      "Sensitivity                      Pr(+|A)     92.4%     90.9%     93.8%\n",
      "Specificity                      Pr(-|N)     96.7%     96.6%     96.8%\n",
      "ROC area               (Sens. + Spec.)/2      0.95      0.94      0.95 \n",
      "---------------------------------------------------------------------------\n",
      "Likelihood ratio (+)     Pr(+|A)/Pr(+|N)     27.98     27.12     28.88 \n",
      "Likelihood ratio (-)     Pr(-|A)/Pr(-|N)      0.08      0.06      0.09 \n",
      "Odds ratio                   LR(+)/LR(-)    357.73    291.29    439.34 \n",
      "Positive predictive value        Pr(A|+)     19.9%     18.9%     20.9% \n",
      "Negative predictive value        Pr(N|-)     99.9%     99.9%     99.9% \n",
      "---------------------------------------------------------------------------\n"
     ]
    }
   ],
   "source": [
    "diagt diag test if yearcat==2004"
   ]
  },
  {
   "cell_type": "markdown",
   "id": "d9f3db50-6898-4b47-81ef-4ea609bb28d8",
   "metadata": {},
   "source": [
    "*2010-2015*"
   ]
  },
  {
   "cell_type": "code",
   "execution_count": 67,
   "id": "6b326410-d900-498f-b736-4ced1ea7fa5d",
   "metadata": {},
   "outputs": [
    {
     "name": "stdout",
     "output_type": "stream",
     "text": [
      "\n",
      "           |         test\n",
      "      diag |      Pos.       Neg. |     Total\n",
      "-----------+----------------------+----------\n",
      "  Abnormal |       965         61 |     1,026 \n",
      "    Normal |     7,992    140,982 |   148,974 \n",
      "-----------+----------------------+----------\n",
      "     Total |     8,957    141,043 |   150,000 \n",
      "True abnormal diagnosis defined as diag = 1\n",
      "\n",
      "\n",
      "                                                  [95% Confidence Interval]\n",
      "---------------------------------------------------------------------------\n",
      "Prevalence                         Pr(A)      0.7%      0.6%       0.7%\n",
      "---------------------------------------------------------------------------\n",
      "Sensitivity                      Pr(+|A)     94.1%     92.4%     95.4%\n",
      "Specificity                      Pr(-|N)     94.6%     94.5%     94.7%\n",
      "ROC area               (Sens. + Spec.)/2      0.94      0.94      0.95 \n",
      "---------------------------------------------------------------------------\n",
      "Likelihood ratio (+)     Pr(+|A)/Pr(+|N)     17.53     17.08     18.00 \n",
      "Likelihood ratio (-)     Pr(-|A)/Pr(-|N)      0.06      0.05      0.08 \n",
      "Odds ratio                   LR(+)/LR(-)    279.07    215.39    361.57 \n",
      "Positive predictive value        Pr(A|+)     10.8%     10.1%     11.4% \n",
      "Negative predictive value        Pr(N|-)    100.0%     99.9%    100.0% \n",
      "---------------------------------------------------------------------------\n"
     ]
    }
   ],
   "source": [
    "diagt diag test if yearcat==2010"
   ]
  },
  {
   "cell_type": "markdown",
   "id": "1546a4d9-adee-4208-88e0-3b6aa4d3d14c",
   "metadata": {},
   "source": [
    "*2016-2020*"
   ]
  },
  {
   "cell_type": "code",
   "execution_count": 68,
   "id": "dddfe5ba-1a16-4afc-91e5-cbffb4f25b77",
   "metadata": {},
   "outputs": [
    {
     "name": "stdout",
     "output_type": "stream",
     "text": [
      "\n",
      "           |         test\n",
      "      diag |      Pos.       Neg. |     Total\n",
      "-----------+----------------------+----------\n",
      "  Abnormal |       525         65 |       590 \n",
      "    Normal |     7,899    116,511 |   124,410 \n",
      "-----------+----------------------+----------\n",
      "     Total |     8,424    116,576 |   125,000 \n",
      "True abnormal diagnosis defined as diag = 1\n",
      "\n",
      "\n",
      "                                                  [95% Confidence Interval]\n",
      "---------------------------------------------------------------------------\n",
      "Prevalence                         Pr(A)      0.5%      0.4%       0.5%\n",
      "---------------------------------------------------------------------------\n",
      "Sensitivity                      Pr(+|A)     89.0%     86.2%     91.4%\n",
      "Specificity                      Pr(-|N)     93.7%     93.5%     93.8%\n",
      "ROC area               (Sens. + Spec.)/2      0.91      0.90      0.93 \n",
      "---------------------------------------------------------------------------\n",
      "Likelihood ratio (+)     Pr(+|A)/Pr(+|N)     14.01     13.53     14.52 \n",
      "Likelihood ratio (-)     Pr(-|A)/Pr(-|N)      0.12      0.09      0.15 \n",
      "Odds ratio                   LR(+)/LR(-)    119.14     92.04    154.20 \n",
      "Positive predictive value        Pr(A|+)      6.2%      5.7%      6.8% \n",
      "Negative predictive value        Pr(N|-)     99.9%     99.9%    100.0% \n",
      "---------------------------------------------------------------------------\n"
     ]
    }
   ],
   "source": [
    "diagt diag test if yearcat==2016"
   ]
  },
  {
   "cell_type": "markdown",
   "id": "9318e823-cf06-4695-a86c-8b96ace454c5",
   "metadata": {},
   "source": [
    "#### IMD of practice\n",
    "*1-3*"
   ]
  },
  {
   "cell_type": "code",
   "execution_count": 69,
   "id": "0c48ed3a-ce83-4c14-9447-6c52d4d82ed3",
   "metadata": {},
   "outputs": [
    {
     "name": "stdout",
     "output_type": "stream",
     "text": [
      "\n",
      "           |         test\n",
      "      diag |      Pos.       Neg. |     Total\n",
      "-----------+----------------------+----------\n",
      "  Abnormal |     1,059         92 |     1,151 \n",
      "    Normal |     7,806    145,594 |   153,400 \n",
      "-----------+----------------------+----------\n",
      "     Total |     8,865    145,686 |   154,551 \n",
      "True abnormal diagnosis defined as diag = 1\n",
      "\n",
      "\n",
      "                                                  [95% Confidence Interval]\n",
      "---------------------------------------------------------------------------\n",
      "Prevalence                         Pr(A)      0.7%      0.7%       0.8%\n",
      "---------------------------------------------------------------------------\n",
      "Sensitivity                      Pr(+|A)     92.0%     90.3%     93.5%\n",
      "Specificity                      Pr(-|N)     94.9%     94.8%     95.0%\n",
      "ROC area               (Sens. + Spec.)/2      0.93      0.93      0.94 \n",
      "---------------------------------------------------------------------------\n",
      "Likelihood ratio (+)     Pr(+|A)/Pr(+|N)     18.08     17.59     18.59 \n",
      "Likelihood ratio (-)     Pr(-|A)/Pr(-|N)      0.08      0.07      0.10 \n",
      "Odds ratio                   LR(+)/LR(-)    214.70    173.36    265.88 \n",
      "Positive predictive value        Pr(A|+)     11.9%     11.3%     12.6% \n",
      "Negative predictive value        Pr(N|-)     99.9%     99.9%     99.9% \n",
      "---------------------------------------------------------------------------\n"
     ]
    }
   ],
   "source": [
    "diagt diag test if imdcat==0"
   ]
  },
  {
   "cell_type": "markdown",
   "id": "cc20d8e3-26a9-4217-989b-54c2c73d0386",
   "metadata": {},
   "source": [
    "*4-7*"
   ]
  },
  {
   "cell_type": "code",
   "execution_count": 70,
   "id": "2f034372-ceb8-4f41-bd39-9d6ef321a64a",
   "metadata": {},
   "outputs": [
    {
     "name": "stdout",
     "output_type": "stream",
     "text": [
      "\n",
      "           |         test\n",
      "      diag |      Pos.       Neg. |     Total\n",
      "-----------+----------------------+----------\n",
      "  Abnormal |       908         65 |       973 \n",
      "    Normal |     7,344    134,728 |   142,072 \n",
      "-----------+----------------------+----------\n",
      "     Total |     8,252    134,793 |   143,045 \n",
      "True abnormal diagnosis defined as diag = 1\n",
      "\n",
      "\n",
      "                                                  [95% Confidence Interval]\n",
      "---------------------------------------------------------------------------\n",
      "Prevalence                         Pr(A)      0.7%      0.6%       0.7%\n",
      "---------------------------------------------------------------------------\n",
      "Sensitivity                      Pr(+|A)     93.3%     91.6%     94.8%\n",
      "Specificity                      Pr(-|N)     94.8%     94.7%     94.9%\n",
      "ROC area               (Sens. + Spec.)/2      0.94      0.93      0.95 \n",
      "---------------------------------------------------------------------------\n",
      "Likelihood ratio (+)     Pr(+|A)/Pr(+|N)     18.05     17.56     18.56 \n",
      "Likelihood ratio (-)     Pr(-|A)/Pr(-|N)      0.07      0.06      0.09 \n",
      "Odds ratio                   LR(+)/LR(-)    256.27    199.17    329.74 \n",
      "Positive predictive value        Pr(A|+)     11.0%     10.3%     11.7% \n",
      "Negative predictive value        Pr(N|-)    100.0%     99.9%    100.0% \n",
      "---------------------------------------------------------------------------\n"
     ]
    }
   ],
   "source": [
    "diagt diag test if imdcat==4"
   ]
  },
  {
   "cell_type": "markdown",
   "id": "a843bc14-ff1a-4435-a50c-c9769b8c3d3b",
   "metadata": {},
   "source": [
    "*8-10*"
   ]
  },
  {
   "cell_type": "code",
   "execution_count": 71,
   "id": "e52a500d-f3cf-4da6-997c-bbc1e902d199",
   "metadata": {},
   "outputs": [
    {
     "name": "stdout",
     "output_type": "stream",
     "text": [
      "\n",
      "           |         test\n",
      "      diag |      Pos.       Neg. |     Total\n",
      "-----------+----------------------+----------\n",
      "  Abnormal |       735         68 |       803 \n",
      "    Normal |     5,618    118,394 |   124,012 \n",
      "-----------+----------------------+----------\n",
      "     Total |     6,353    118,462 |   124,815 \n",
      "True abnormal diagnosis defined as diag = 1\n",
      "\n",
      "\n",
      "                                                  [95% Confidence Interval]\n",
      "---------------------------------------------------------------------------\n",
      "Prevalence                         Pr(A)      0.6%      0.6%       0.7%\n",
      "---------------------------------------------------------------------------\n",
      "Sensitivity                      Pr(+|A)     91.5%     89.4%     93.4%\n",
      "Specificity                      Pr(-|N)     95.5%     95.4%     95.6%\n",
      "ROC area               (Sens. + Spec.)/2      0.94      0.93      0.94 \n",
      "---------------------------------------------------------------------------\n",
      "Likelihood ratio (+)     Pr(+|A)/Pr(+|N)     20.20     19.55     20.88 \n",
      "Likelihood ratio (-)     Pr(-|A)/Pr(-|N)      0.09      0.07      0.11 \n",
      "Odds ratio                   LR(+)/LR(-)    227.79    177.54    292.26 \n",
      "Positive predictive value        Pr(A|+)     11.6%     10.8%     12.4% \n",
      "Negative predictive value        Pr(N|-)     99.9%     99.9%    100.0% \n",
      "---------------------------------------------------------------------------\n"
     ]
    }
   ],
   "source": [
    "diagt diag test if imdcat==8"
   ]
  },
  {
   "cell_type": "markdown",
   "id": "cbbde183-5b60-4618-a548-81135cae76a0",
   "metadata": {},
   "source": [
    "#### Commissioning Regions\n",
    "EAST OF ENGLAND"
   ]
  },
  {
   "cell_type": "code",
   "execution_count": 72,
   "id": "1254da50-3ca4-47a1-b4d8-e07c6d920177",
   "metadata": {},
   "outputs": [
    {
     "name": "stdout",
     "output_type": "stream",
     "text": [
      "\n",
      "           |         test\n",
      "      diag |      Pos.       Neg. |     Total\n",
      "-----------+----------------------+----------\n",
      "  Abnormal |       532         44 |       576 \n",
      "    Normal |     5,220     83,841 |    89,061 \n",
      "-----------+----------------------+----------\n",
      "     Total |     5,752     83,885 |    89,637 \n",
      "True abnormal diagnosis defined as diag = 1\n",
      "\n",
      "\n",
      "                                                  [95% Confidence Interval]\n",
      "---------------------------------------------------------------------------\n",
      "Prevalence                         Pr(A)      0.6%      0.6%       0.7%\n",
      "---------------------------------------------------------------------------\n",
      "Sensitivity                      Pr(+|A)     92.4%     89.9%     94.4%\n",
      "Specificity                      Pr(-|N)     94.1%     94.0%     94.3%\n",
      "ROC area               (Sens. + Spec.)/2      0.93      0.92      0.94 \n",
      "---------------------------------------------------------------------------\n",
      "Likelihood ratio (+)     Pr(+|A)/Pr(+|N)     15.76     15.21     16.32 \n",
      "Likelihood ratio (-)     Pr(-|A)/Pr(-|N)      0.08      0.06      0.11 \n",
      "Odds ratio                   LR(+)/LR(-)    194.20    142.79    264.12 \n",
      "Positive predictive value        Pr(A|+)      9.2%      8.5%     10.0% \n",
      "Negative predictive value        Pr(N|-)     99.9%     99.9%    100.0% \n",
      "---------------------------------------------------------------------------\n"
     ]
    }
   ],
   "source": [
    "diagt diag test if regexm(region_name,\"ENGLAND\")==1"
   ]
  },
  {
   "cell_type": "markdown",
   "id": "b2f2b2c7-4c3b-4ae5-ad03-8edfbc58938d",
   "metadata": {},
   "source": [
    "London"
   ]
  },
  {
   "cell_type": "code",
   "execution_count": 73,
   "id": "18195511-cedc-42b1-8bae-bc6621364814",
   "metadata": {},
   "outputs": [
    {
     "name": "stdout",
     "output_type": "stream",
     "text": [
      "\n",
      "           |         test\n",
      "      diag |      Pos.       Neg. |     Total\n",
      "-----------+----------------------+----------\n",
      "  Abnormal |        83          4 |        87 \n",
      "    Normal |       434     16,204 |    16,638 \n",
      "-----------+----------------------+----------\n",
      "     Total |       517     16,208 |    16,725 \n",
      "True abnormal diagnosis defined as diag = 1\n",
      "\n",
      "\n",
      "                                                  [95% Confidence Interval]\n",
      "---------------------------------------------------------------------------\n",
      "Prevalence                         Pr(A)      0.5%      0.4%       0.6%\n",
      "---------------------------------------------------------------------------\n",
      "Sensitivity                      Pr(+|A)     95.4%     88.6%     98.7%\n",
      "Specificity                      Pr(-|N)     97.4%     97.1%     97.6%\n",
      "ROC area               (Sens. + Spec.)/2      0.96      0.94      0.99 \n",
      "---------------------------------------------------------------------------\n",
      "Likelihood ratio (+)     Pr(+|A)/Pr(+|N)     36.57     32.97     40.57 \n",
      "Likelihood ratio (-)     Pr(-|A)/Pr(-|N)      0.05      0.02      0.12 \n",
      "Odds ratio                   LR(+)/LR(-)    774.73    293.73   2042.23 \n",
      "Positive predictive value        Pr(A|+)     16.1%     13.0%     19.5% \n",
      "Negative predictive value        Pr(N|-)    100.0%     99.9%    100.0% \n",
      "---------------------------------------------------------------------------\n"
     ]
    }
   ],
   "source": [
    "diagt diag test if regexm(region_name,\"LONDON\")==1"
   ]
  },
  {
   "cell_type": "markdown",
   "id": "1a78f370-7ebd-4e70-b301-73c6e75003fd",
   "metadata": {},
   "source": [
    "Midlands"
   ]
  },
  {
   "cell_type": "code",
   "execution_count": 74,
   "id": "265ce394-6410-4e76-a064-ec3d32c30eee",
   "metadata": {},
   "outputs": [
    {
     "name": "stdout",
     "output_type": "stream",
     "text": [
      "\n",
      "           |         test\n",
      "      diag |      Pos.       Neg. |     Total\n",
      "-----------+----------------------+----------\n",
      "  Abnormal |       359         40 |       399 \n",
      "    Normal |     2,463     43,681 |    46,144 \n",
      "-----------+----------------------+----------\n",
      "     Total |     2,822     43,721 |    46,543 \n",
      "True abnormal diagnosis defined as diag = 1\n",
      "\n",
      "\n",
      "                                                  [95% Confidence Interval]\n",
      "---------------------------------------------------------------------------\n",
      "Prevalence                         Pr(A)      0.9%      0.8%       0.9%\n",
      "---------------------------------------------------------------------------\n",
      "Sensitivity                      Pr(+|A)     90.0%     86.6%     92.7%\n",
      "Specificity                      Pr(-|N)     94.7%     94.5%     94.9%\n",
      "ROC area               (Sens. + Spec.)/2      0.92      0.91      0.94 \n",
      "---------------------------------------------------------------------------\n",
      "Likelihood ratio (+)     Pr(+|A)/Pr(+|N)     16.86     16.03     17.73 \n",
      "Likelihood ratio (-)     Pr(-|A)/Pr(-|N)      0.11      0.08      0.14 \n",
      "Odds ratio                   LR(+)/LR(-)    159.17    114.69    220.91 \n",
      "Positive predictive value        Pr(A|+)     12.7%     11.5%     14.0% \n",
      "Negative predictive value        Pr(N|-)     99.9%     99.9%     99.9% \n",
      "---------------------------------------------------------------------------\n"
     ]
    }
   ],
   "source": [
    "diagt diag test if regexm(region_name,\"MID\")==1"
   ]
  },
  {
   "cell_type": "markdown",
   "id": "0769a779-b7ae-4496-9ed2-a6feb1a1a94a",
   "metadata": {},
   "source": [
    "Yorkshire"
   ]
  },
  {
   "cell_type": "code",
   "execution_count": 75,
   "id": "83d73532-38e7-4fb2-a39b-5c1ef1b5b717",
   "metadata": {},
   "outputs": [
    {
     "name": "stdout",
     "output_type": "stream",
     "text": [
      "\n",
      "           |         test\n",
      "      diag |      Pos.       Neg. |     Total\n",
      "-----------+----------------------+----------\n",
      "  Abnormal |       585         52 |       637 \n",
      "    Normal |     4,064     81,410 |    85,474 \n",
      "-----------+----------------------+----------\n",
      "     Total |     4,649     81,462 |    86,111 \n",
      "True abnormal diagnosis defined as diag = 1\n",
      "\n",
      "\n",
      "                                                  [95% Confidence Interval]\n",
      "---------------------------------------------------------------------------\n",
      "Prevalence                         Pr(A)      0.7%      0.7%       0.8%\n",
      "---------------------------------------------------------------------------\n",
      "Sensitivity                      Pr(+|A)     91.8%     89.4%     93.8%\n",
      "Specificity                      Pr(-|N)     95.2%     95.1%     95.4%\n",
      "ROC area               (Sens. + Spec.)/2      0.94      0.92      0.95 \n",
      "---------------------------------------------------------------------------\n",
      "Likelihood ratio (+)     Pr(+|A)/Pr(+|N)     19.32     18.60     20.06 \n",
      "Likelihood ratio (-)     Pr(-|A)/Pr(-|N)      0.09      0.07      0.11 \n",
      "Odds ratio                   LR(+)/LR(-)    225.36    169.57    299.50 \n",
      "Positive predictive value        Pr(A|+)     12.6%     11.6%     13.6% \n",
      "Negative predictive value        Pr(N|-)     99.9%     99.9%    100.0% \n",
      "---------------------------------------------------------------------------\n"
     ]
    }
   ],
   "source": [
    "diagt diag test if regexm(region_name,\"YORK\")==1"
   ]
  },
  {
   "cell_type": "markdown",
   "id": "247339ad-15c3-4ac2-9458-c8b14082ff8c",
   "metadata": {},
   "source": [
    "North West"
   ]
  },
  {
   "cell_type": "code",
   "execution_count": 76,
   "id": "f9ddd2b2-2aa8-49c0-8d9b-ac27a3db55be",
   "metadata": {},
   "outputs": [
    {
     "name": "stdout",
     "output_type": "stream",
     "text": [
      "\n",
      "           |         test\n",
      "      diag |      Pos.       Neg. |     Total\n",
      "-----------+----------------------+----------\n",
      "  Abnormal |       342         30 |       372 \n",
      "    Normal |     2,378     44,843 |    47,221 \n",
      "-----------+----------------------+----------\n",
      "     Total |     2,720     44,873 |    47,593 \n",
      "True abnormal diagnosis defined as diag = 1\n",
      "\n",
      "\n",
      "                                                  [95% Confidence Interval]\n",
      "---------------------------------------------------------------------------\n",
      "Prevalence                         Pr(A)      0.8%      0.7%       0.9%\n",
      "---------------------------------------------------------------------------\n",
      "Sensitivity                      Pr(+|A)     91.9%     88.7%     94.5%\n",
      "Specificity                      Pr(-|N)     95.0%     94.8%     95.2%\n",
      "ROC area               (Sens. + Spec.)/2      0.93      0.92      0.95 \n",
      "---------------------------------------------------------------------------\n",
      "Likelihood ratio (+)     Pr(+|A)/Pr(+|N)     18.26     17.38     19.18 \n",
      "Likelihood ratio (-)     Pr(-|A)/Pr(-|N)      0.08      0.06      0.12 \n",
      "Odds ratio                   LR(+)/LR(-)    214.97    148.00    312.26 \n",
      "Positive predictive value        Pr(A|+)     12.6%     11.3%     13.9% \n",
      "Negative predictive value        Pr(N|-)     99.9%     99.9%    100.0% \n",
      "---------------------------------------------------------------------------\n"
     ]
    }
   ],
   "source": [
    "diagt diag test if regexm(region_name,\"NORTH\")==1 & regexm(region_name,\"WEST\")==1"
   ]
  },
  {
   "cell_type": "markdown",
   "id": "cac4bda2-216c-4294-ab6d-5338aa93d23c",
   "metadata": {},
   "source": [
    "South East"
   ]
  },
  {
   "cell_type": "code",
   "execution_count": 77,
   "id": "883a5bf4-de79-4ba9-9bb2-95f85e3bccb3",
   "metadata": {},
   "outputs": [
    {
     "name": "stdout",
     "output_type": "stream",
     "text": [
      "\n",
      "           |         test\n",
      "      diag |      Pos.       Neg. |     Total\n",
      "-----------+----------------------+----------\n",
      "  Abnormal |       495         42 |       537 \n",
      "    Normal |     3,925     86,023 |    89,948 \n",
      "-----------+----------------------+----------\n",
      "     Total |     4,420     86,065 |    90,485 \n",
      "True abnormal diagnosis defined as diag = 1\n",
      "\n",
      "\n",
      "                                                  [95% Confidence Interval]\n",
      "---------------------------------------------------------------------------\n",
      "Prevalence                         Pr(A)      0.6%      0.5%       0.6%\n",
      "---------------------------------------------------------------------------\n",
      "Sensitivity                      Pr(+|A)     92.2%     89.6%     94.3%\n",
      "Specificity                      Pr(-|N)     95.6%     95.5%     95.8%\n",
      "ROC area               (Sens. + Spec.)/2      0.94      0.93      0.95 \n",
      "---------------------------------------------------------------------------\n",
      "Likelihood ratio (+)     Pr(+|A)/Pr(+|N)     21.12     20.31     21.97 \n",
      "Likelihood ratio (-)     Pr(-|A)/Pr(-|N)      0.08      0.06      0.11 \n",
      "Odds ratio                   LR(+)/LR(-)    258.30    188.45    354.06 \n",
      "Positive predictive value        Pr(A|+)     11.2%     10.3%     12.2% \n",
      "Negative predictive value        Pr(N|-)    100.0%     99.9%    100.0% \n",
      "---------------------------------------------------------------------------\n"
     ]
    }
   ],
   "source": [
    "diagt diag test if regexm(region_name,\"SOUTH\")==1 & regexm(region_name,\"EAST\")==1"
   ]
  },
  {
   "cell_type": "markdown",
   "id": "c31c4086-ecd2-43b5-a175-a49e64a0593a",
   "metadata": {},
   "source": [
    "South West"
   ]
  },
  {
   "cell_type": "code",
   "execution_count": 78,
   "id": "db24609a-c78c-4959-8f77-be636e5b8a66",
   "metadata": {},
   "outputs": [
    {
     "name": "stdout",
     "output_type": "stream",
     "text": [
      "\n",
      "           |         test\n",
      "      diag |      Pos.       Neg. |     Total\n",
      "-----------+----------------------+----------\n",
      "  Abnormal |       239          8 |       247 \n",
      "    Normal |     1,938     33,991 |    35,929 \n",
      "-----------+----------------------+----------\n",
      "     Total |     2,177     33,999 |    36,176 \n",
      "True abnormal diagnosis defined as diag = 1\n",
      "\n",
      "\n",
      "                                                  [95% Confidence Interval]\n",
      "---------------------------------------------------------------------------\n",
      "Prevalence                         Pr(A)      0.7%      0.6%       0.8%\n",
      "---------------------------------------------------------------------------\n",
      "Sensitivity                      Pr(+|A)     96.8%     93.7%     98.6%\n",
      "Specificity                      Pr(-|N)     94.6%     94.4%     94.8%\n",
      "ROC area               (Sens. + Spec.)/2      0.96      0.95      0.97 \n",
      "---------------------------------------------------------------------------\n",
      "Likelihood ratio (+)     Pr(+|A)/Pr(+|N)     17.94     17.08     18.84 \n",
      "Likelihood ratio (-)     Pr(-|A)/Pr(-|N)      0.03      0.02      0.07 \n",
      "Odds ratio                   LR(+)/LR(-)    523.98    262.27   1046.88 \n",
      "Positive predictive value        Pr(A|+)     11.0%      9.7%     12.4% \n",
      "Negative predictive value        Pr(N|-)    100.0%    100.0%    100.0% \n",
      "---------------------------------------------------------------------------\n"
     ]
    }
   ],
   "source": [
    "diagt diag test if regexm(region_name,\"SOUTH\")==1 & regexm(region_name,\"WEST\")==1"
   ]
  },
  {
   "cell_type": "markdown",
   "id": "cf33efae-dc21-4b1a-b169-9eaea69c1161",
   "metadata": {},
   "source": [
    "#### System\n",
    "SystmOne"
   ]
  },
  {
   "cell_type": "code",
   "execution_count": 79,
   "id": "26573dfb-79dc-4647-88a6-e19dac9eca61",
   "metadata": {},
   "outputs": [
    {
     "name": "stdout",
     "output_type": "stream",
     "text": [
      "\n",
      "           |         test\n",
      "      diag |      Pos.       Neg. |     Total\n",
      "-----------+----------------------+----------\n",
      "  Abnormal |     1,419        114 |     1,533 \n",
      "    Normal |    12,210    215,012 |   227,222 \n",
      "-----------+----------------------+----------\n",
      "     Total |    13,629    215,126 |   228,755 \n",
      "True abnormal diagnosis defined as diag = 1\n",
      "\n",
      "\n",
      "                                                  [95% Confidence Interval]\n",
      "---------------------------------------------------------------------------\n",
      "Prevalence                         Pr(A)      0.7%      0.6%       0.7%\n",
      "---------------------------------------------------------------------------\n",
      "Sensitivity                      Pr(+|A)     92.6%     91.1%     93.8%\n",
      "Specificity                      Pr(-|N)     94.6%     94.5%     94.7%\n",
      "ROC area               (Sens. + Spec.)/2      0.94      0.93      0.94 \n",
      "---------------------------------------------------------------------------\n",
      "Likelihood ratio (+)     Pr(+|A)/Pr(+|N)     17.23     16.85     17.61 \n",
      "Likelihood ratio (-)     Pr(-|A)/Pr(-|N)      0.08      0.07      0.09 \n",
      "Odds ratio                   LR(+)/LR(-)    219.19    181.01    265.42 \n",
      "Positive predictive value        Pr(A|+)     10.4%      9.9%     10.9% \n",
      "Negative predictive value        Pr(N|-)     99.9%     99.9%    100.0% \n",
      "---------------------------------------------------------------------------\n"
     ]
    }
   ],
   "source": [
    "diagt diag test if regexm(system,\"One\")==1"
   ]
  },
  {
   "cell_type": "markdown",
   "id": "b561f033-d2f3-4c95-ad3f-03b8c65647ea",
   "metadata": {},
   "source": [
    "Vision"
   ]
  },
  {
   "cell_type": "code",
   "execution_count": 80,
   "id": "6bed6f81-5fd6-418e-94ff-96d2de419d3d",
   "metadata": {},
   "outputs": [
    {
     "name": "stdout",
     "output_type": "stream",
     "text": [
      "\n",
      "           |         test\n",
      "      diag |      Pos.       Neg. |     Total\n",
      "-----------+----------------------+----------\n",
      "  Abnormal |        88          7 |        95 \n",
      "    Normal |       495     13,154 |    13,649 \n",
      "-----------+----------------------+----------\n",
      "     Total |       583     13,161 |    13,744 \n",
      "True abnormal diagnosis defined as diag = 1\n",
      "\n",
      "\n",
      "                                                  [95% Confidence Interval]\n",
      "---------------------------------------------------------------------------\n",
      "Prevalence                         Pr(A)      0.7%      0.6%       0.8%\n",
      "---------------------------------------------------------------------------\n",
      "Sensitivity                      Pr(+|A)     92.6%     85.4%     97.0%\n",
      "Specificity                      Pr(-|N)     96.4%     96.0%     96.7%\n",
      "ROC area               (Sens. + Spec.)/2      0.95      0.92      0.97 \n",
      "---------------------------------------------------------------------------\n",
      "Likelihood ratio (+)     Pr(+|A)/Pr(+|N)     25.54     23.03     28.32 \n",
      "Likelihood ratio (-)     Pr(-|A)/Pr(-|N)      0.08      0.04      0.16 \n",
      "Odds ratio                   LR(+)/LR(-)    334.07    156.69    712.15 \n",
      "Positive predictive value        Pr(A|+)     15.1%     12.3%     18.3% \n",
      "Negative predictive value        Pr(N|-)     99.9%     99.9%    100.0% \n",
      "---------------------------------------------------------------------------\n"
     ]
    }
   ],
   "source": [
    "diagt diag test if regexm(system,\"Vision\")==1"
   ]
  },
  {
   "cell_type": "markdown",
   "id": "65d9cefb-fbb5-4500-8ed3-52074d4e12ad",
   "metadata": {},
   "source": [
    "EMIS"
   ]
  },
  {
   "cell_type": "code",
   "execution_count": 81,
   "id": "18d50bfe-f5c4-4ecb-b822-0d06e3b29224",
   "metadata": {},
   "outputs": [
    {
     "name": "stdout",
     "output_type": "stream",
     "text": [
      "\n",
      "           |         test\n",
      "      diag |      Pos.       Neg. |     Total\n",
      "-----------+----------------------+----------\n",
      "  Abnormal |     1,204        105 |     1,309 \n",
      "    Normal |     8,084    172,972 |   181,056 \n",
      "-----------+----------------------+----------\n",
      "     Total |     9,288    173,077 |   182,365 \n",
      "True abnormal diagnosis defined as diag = 1\n",
      "\n",
      "\n",
      "                                                  [95% Confidence Interval]\n",
      "---------------------------------------------------------------------------\n",
      "Prevalence                         Pr(A)      0.7%      0.7%       0.8%\n",
      "---------------------------------------------------------------------------\n",
      "Sensitivity                      Pr(+|A)     92.0%     90.4%     93.4%\n",
      "Specificity                      Pr(-|N)     95.5%     95.4%     95.6%\n",
      "ROC area               (Sens. + Spec.)/2      0.94      0.93      0.94 \n",
      "---------------------------------------------------------------------------\n",
      "Likelihood ratio (+)     Pr(+|A)/Pr(+|N)     20.60     20.06     21.16 \n",
      "Likelihood ratio (-)     Pr(-|A)/Pr(-|N)      0.08      0.07      0.10 \n",
      "Odds ratio                   LR(+)/LR(-)    245.35    200.81    299.78 \n",
      "Positive predictive value        Pr(A|+)     13.0%     12.3%     13.7% \n",
      "Negative predictive value        Pr(N|-)     99.9%     99.9%    100.0% \n",
      "---------------------------------------------------------------------------\n"
     ]
    }
   ],
   "source": [
    "diagt diag test if regexm(ustrupper(system),\"EMIS\")==1"
   ]
  },
  {
   "cell_type": "code",
   "execution_count": null,
   "id": "654b6659-0a73-4736-bc15-7bf926554432",
   "metadata": {},
   "outputs": [],
   "source": []
  },
  {
   "cell_type": "markdown",
   "id": "5cc0b78d-d049-4645-a6f4-e02b49b379db",
   "metadata": {},
   "source": [
    "#### RA_Index\n",
    "Index==1"
   ]
  },
  {
   "cell_type": "code",
   "execution_count": 82,
   "id": "9fa490cd-9380-44bc-8218-9f2193f09aee",
   "metadata": {},
   "outputs": [
    {
     "name": "stdout",
     "output_type": "stream",
     "text": [
      "\n",
      "           |         test\n",
      "      diag |      Pos.       Neg. |     Total\n",
      "-----------+----------------------+----------\n",
      "  Abnormal |     2,062        167 |     2,229 \n",
      "    Normal |    15,420    304,048 |   319,468 \n",
      "-----------+----------------------+----------\n",
      "     Total |    17,482    304,215 |   321,697 \n",
      "True abnormal diagnosis defined as diag = 1\n",
      "\n",
      "\n",
      "                                                  [95% Confidence Interval]\n",
      "---------------------------------------------------------------------------\n",
      "Prevalence                         Pr(A)      0.7%      0.7%       0.7%\n",
      "---------------------------------------------------------------------------\n",
      "Sensitivity                      Pr(+|A)     92.5%     91.3%     93.6%\n",
      "Specificity                      Pr(-|N)     95.2%     95.1%     95.2%\n",
      "ROC area               (Sens. + Spec.)/2      0.94      0.93      0.94 \n",
      "---------------------------------------------------------------------------\n",
      "Likelihood ratio (+)     Pr(+|A)/Pr(+|N)     19.17     18.80     19.54 \n",
      "Likelihood ratio (-)     Pr(-|A)/Pr(-|N)      0.08      0.07      0.09 \n",
      "Odds ratio                   LR(+)/LR(-)    243.46    207.81    285.23 \n",
      "Positive predictive value        Pr(A|+)     11.8%     11.3%     12.3% \n",
      "Negative predictive value        Pr(N|-)     99.9%     99.9%    100.0% \n",
      "---------------------------------------------------------------------------\n"
     ]
    }
   ],
   "source": [
    "diagt diag test if RA_index==1"
   ]
  },
  {
   "cell_type": "markdown",
   "id": "7d253ba5-4281-405c-bd8c-511a00a55bf6",
   "metadata": {},
   "source": [
    "Index==0"
   ]
  },
  {
   "cell_type": "code",
   "execution_count": 83,
   "id": "f50f1be6-d1fd-4b54-8cc8-be66d3b7312b",
   "metadata": {},
   "outputs": [
    {
     "name": "stdout",
     "output_type": "stream",
     "text": [
      "\n",
      "           |         test\n",
      "      diag |      Pos.       Neg. |     Total\n",
      "-----------+----------------------+----------\n",
      "  Abnormal |       650         59 |       709 \n",
      "    Normal |     5,382     97,212 |   102,594 \n",
      "-----------+----------------------+----------\n",
      "     Total |     6,032     97,271 |   103,303 \n",
      "True abnormal diagnosis defined as diag = 1\n",
      "\n",
      "\n",
      "                                                  [95% Confidence Interval]\n",
      "---------------------------------------------------------------------------\n",
      "Prevalence                         Pr(A)      0.7%      0.6%       0.7%\n",
      "---------------------------------------------------------------------------\n",
      "Sensitivity                      Pr(+|A)     91.7%     89.4%     93.6%\n",
      "Specificity                      Pr(-|N)     94.8%     94.6%     94.9%\n",
      "ROC area               (Sens. + Spec.)/2      0.93      0.92      0.94 \n",
      "---------------------------------------------------------------------------\n",
      "Likelihood ratio (+)     Pr(+|A)/Pr(+|N)     17.48     16.89     18.08 \n",
      "Likelihood ratio (-)     Pr(-|A)/Pr(-|N)      0.09      0.07      0.11 \n",
      "Odds ratio                   LR(+)/LR(-)    198.99    152.35    259.92 \n",
      "Positive predictive value        Pr(A|+)     10.8%     10.0%     11.6% \n",
      "Negative predictive value        Pr(N|-)     99.9%     99.9%    100.0% \n",
      "---------------------------------------------------------------------------\n"
     ]
    }
   ],
   "source": [
    "diagt diag test if RA_index==0"
   ]
  },
  {
   "cell_type": "markdown",
   "id": "72956d72",
   "metadata": {},
   "source": [
    "#### Ethnicity\n",
    "Ethnicity==0000white"
   ]
  },
  {
   "cell_type": "code",
   "execution_count": 84,
   "id": "b35bf6ab",
   "metadata": {},
   "outputs": [
    {
     "name": "stdout",
     "output_type": "stream",
     "text": [
      "\n",
      "           |         test\n",
      "      diag |      Pos.       Neg. |     Total\n",
      "-----------+----------------------+----------\n",
      "  Abnormal |     1,954        147 |     2,101 \n",
      "    Normal |    15,666    240,214 |   255,880 \n",
      "-----------+----------------------+----------\n",
      "     Total |    17,620    240,361 |   257,981 \n",
      "True abnormal diagnosis defined as diag = 1\n",
      "\n",
      "\n",
      "                                                  [95% Confidence Interval]\n",
      "---------------------------------------------------------------------------\n",
      "Prevalence                         Pr(A)      0.8%      0.8%       0.8%\n",
      "---------------------------------------------------------------------------\n",
      "Sensitivity                      Pr(+|A)     93.0%     91.8%     94.1%\n",
      "Specificity                      Pr(-|N)     93.9%     93.8%     94.0%\n",
      "ROC area               (Sens. + Spec.)/2      0.93      0.93      0.94 \n",
      "---------------------------------------------------------------------------\n",
      "Likelihood ratio (+)     Pr(+|A)/Pr(+|N)     15.19     14.90     15.48 \n",
      "Likelihood ratio (-)     Pr(-|A)/Pr(-|N)      0.07      0.06      0.09 \n",
      "Odds ratio                   LR(+)/LR(-)    203.82    172.26    241.16 \n",
      "Positive predictive value        Pr(A|+)     11.1%     10.6%     11.6% \n",
      "Negative predictive value        Pr(N|-)     99.9%     99.9%     99.9% \n",
      "---------------------------------------------------------------------------\n"
     ]
    }
   ],
   "source": [
    "diagt diag test if ethnicity==\"0white\""
   ]
  },
  {
   "cell_type": "code",
   "execution_count": 85,
   "id": "10050fbc",
   "metadata": {},
   "outputs": [
    {
     "name": "stdout",
     "output_type": "stream",
     "text": [
      "\n",
      "           |         test\n",
      "      diag |      Pos.       Neg. |     Total\n",
      "-----------+----------------------+----------\n",
      "  Abnormal |       145         21 |       166 \n",
      "    Normal |     1,440     42,262 |    43,702 \n",
      "-----------+----------------------+----------\n",
      "     Total |     1,585     42,283 |    43,868 \n",
      "True abnormal diagnosis defined as diag = 1\n",
      "\n",
      "\n",
      "                                                  [95% Confidence Interval]\n",
      "---------------------------------------------------------------------------\n",
      "Prevalence                         Pr(A)      0.4%      0.3%       0.4%\n",
      "---------------------------------------------------------------------------\n",
      "Sensitivity                      Pr(+|A)     87.3%     81.3%     92.0%\n",
      "Specificity                      Pr(-|N)     96.7%     96.5%     96.9%\n",
      "ROC area               (Sens. + Spec.)/2      0.92      0.89      0.95 \n",
      "---------------------------------------------------------------------------\n",
      "Likelihood ratio (+)     Pr(+|A)/Pr(+|N)     26.51     24.54     28.63 \n",
      "Likelihood ratio (-)     Pr(-|A)/Pr(-|N)      0.13      0.09      0.20 \n",
      "Odds ratio                   LR(+)/LR(-)    202.65    128.34    319.95 \n",
      "Positive predictive value        Pr(A|+)      9.1%      7.8%     10.7% \n",
      "Negative predictive value        Pr(N|-)    100.0%     99.9%    100.0% \n",
      "---------------------------------------------------------------------------\n"
     ]
    }
   ],
   "source": [
    "diagt diag test if ethnicity==\"Other\""
   ]
  },
  {
   "cell_type": "code",
   "execution_count": 86,
   "id": "a9b0ba23",
   "metadata": {},
   "outputs": [
    {
     "name": "stdout",
     "output_type": "stream",
     "text": [
      "\n",
      "           |         test\n",
      "      diag |      Pos.       Neg. |     Total\n",
      "-----------+----------------------+----------\n",
      "  Abnormal |       613         58 |       671 \n",
      "    Normal |     3,696    118,784 |   122,480 \n",
      "-----------+----------------------+----------\n",
      "     Total |     4,309    118,842 |   123,151 \n",
      "True abnormal diagnosis defined as diag = 1\n",
      "\n",
      "\n",
      "                                                  [95% Confidence Interval]\n",
      "---------------------------------------------------------------------------\n",
      "Prevalence                         Pr(A)      0.5%      0.5%       0.6%\n",
      "---------------------------------------------------------------------------\n",
      "Sensitivity                      Pr(+|A)     91.4%     89.0%     93.4%\n",
      "Specificity                      Pr(-|N)     97.0%     96.9%     97.1%\n",
      "ROC area               (Sens. + Spec.)/2      0.94      0.93      0.95 \n",
      "---------------------------------------------------------------------------\n",
      "Likelihood ratio (+)     Pr(+|A)/Pr(+|N)     30.27     29.11     31.49 \n",
      "Likelihood ratio (-)     Pr(-|A)/Pr(-|N)      0.09      0.07      0.11 \n",
      "Odds ratio                   LR(+)/LR(-)    339.67    259.19    445.15 \n",
      "Positive predictive value        Pr(A|+)     14.2%     13.2%     15.3% \n",
      "Negative predictive value        Pr(N|-)    100.0%     99.9%    100.0% \n",
      "---------------------------------------------------------------------------\n"
     ]
    }
   ],
   "source": [
    "diagt diag test if ethnicity==\"Missing\""
   ]
  },
  {
   "cell_type": "code",
   "execution_count": 87,
   "id": "0c6b3359-4cc6-4eb5-a15f-ed1be0b97aa0",
   "metadata": {},
   "outputs": [],
   "source": [
    "tempname memhold\n",
    "postfile `memhold' str20 var prev sens spec ppv npv roc using \"validity.dta\",replace\n",
    "\n",
    "quietly diagt diag test\n",
    "local prev=r(prev)\n",
    "local sens=r(sens)\n",
    "local spec=r(spec)\n",
    "local ppv=r(ppv)\n",
    "local npv=r(npv)\n",
    "local roc=r(roc)\n",
    "post `memhold' (\"all\") (`prev') (`sens') (`spec') (`ppv') (`npv') (`roc') \n",
    "\n",
    "quietly diagt diag test if sex==1\n",
    "local prev=r(prev)\n",
    "local sens=r(sens)\n",
    "local spec=r(spec)\n",
    "local ppv=r(ppv)\n",
    "local npv=r(npv)\n",
    "local roc=r(roc)\n",
    "post `memhold' (\"Male\") (`prev') (`sens') (`spec') (`ppv') (`npv') (`roc') \n",
    "\n",
    "quietly diagt diag test if sex==0\n",
    "local prev=r(prev)\n",
    "local sens=r(sens)\n",
    "local spec=r(spec)\n",
    "local ppv=r(ppv)\n",
    "local npv=r(npv)\n",
    "local roc=r(roc)\n",
    "post `memhold' (\"Female\") (`prev') (`sens') (`spec') (`ppv') (`npv') (`roc') \n",
    "\n",
    "quietly diagt diag test if agecat==16\n",
    "local prev=r(prev)\n",
    "local sens=r(sens)\n",
    "local spec=r(spec)\n",
    "local ppv=r(ppv)\n",
    "local npv=r(npv)\n",
    "local roc=r(roc)\n",
    "post `memhold' (\"Age young\") (`prev') (`sens') (`spec') (`ppv') (`npv') (`roc') \n",
    "\n",
    "quietly diagt diag test if agecat==30\n",
    "local prev=r(prev)\n",
    "local sens=r(sens)\n",
    "local spec=r(spec)\n",
    "local ppv=r(ppv)\n",
    "local npv=r(npv)\n",
    "local roc=r(roc)\n",
    "post `memhold' (\"Age middle\") (`prev') (`sens') (`spec') (`ppv') (`npv') (`roc') \n",
    "\n",
    "quietly diagt diag test if agecat==70\n",
    "local prev=r(prev)\n",
    "local sens=r(sens)\n",
    "local spec=r(spec)\n",
    "local ppv=r(ppv)\n",
    "local npv=r(npv)\n",
    "local roc=r(roc)\n",
    "post `memhold' (\"Age elderly\") (`prev') (`sens') (`spec') (`ppv') (`npv') (`roc') \n",
    "\n",
    "\n",
    "quietly diagt diag test if yearcat==2004\n",
    "local prev=r(prev)\n",
    "local sens=r(sens)\n",
    "local spec=r(spec)\n",
    "local ppv=r(ppv)\n",
    "local npv=r(npv)\n",
    "local roc=r(roc)\n",
    "post `memhold' (\"Year 2004-2009\") (`prev') (`sens') (`spec') (`ppv') (`npv') (`roc') \n",
    "\n",
    "quietly diagt diag test if yearcat==2010\n",
    "local prev=r(prev)\n",
    "local sens=r(sens)\n",
    "local spec=r(spec)\n",
    "local ppv=r(ppv)\n",
    "local npv=r(npv)\n",
    "local roc=r(roc)\n",
    "post `memhold' (\"Year 2010-2015\") (`prev') (`sens') (`spec') (`ppv') (`npv') (`roc')\n",
    "\n",
    "quietly diagt diag test if yearcat==2016\n",
    "local prev=r(prev)\n",
    "local sens=r(sens)\n",
    "local spec=r(spec)\n",
    "local ppv=r(ppv)\n",
    "local npv=r(npv)\n",
    "local roc=r(roc)\n",
    "post `memhold' (\"Year 2016-2020\") (`prev') (`sens') (`spec') (`ppv') (`npv') (`roc') \n",
    "\n",
    "\n",
    "quietly diagt diag test if imdcat==0\n",
    "local prev=r(prev)\n",
    "local sens=r(sens)\n",
    "local spec=r(spec)\n",
    "local ppv=r(ppv)\n",
    "local npv=r(npv)\n",
    "local roc=r(roc)\n",
    "post `memhold' (\"IMD 1,3\") (`prev') (`sens') (`spec') (`ppv') (`npv') (`roc') \n",
    "\n",
    "quietly diagt diag test if imdcat==4\n",
    "local prev=r(prev)\n",
    "local sens=r(sens)\n",
    "local spec=r(spec)\n",
    "local ppv=r(ppv)\n",
    "local npv=r(npv)\n",
    "local roc=r(roc)\n",
    "post `memhold' (\"IMD 4,7\") (`prev') (`sens') (`spec') (`ppv') (`npv') (`roc') \n",
    "\n",
    "quietly diagt diag test if imdcat==8\n",
    "local prev=r(prev)\n",
    "local sens=r(sens)\n",
    "local spec=r(spec)\n",
    "local ppv=r(ppv)\n",
    "local npv=r(npv)\n",
    "local roc=r(roc)\n",
    "post `memhold' (\"IMD 8,10\") (`prev') (`sens') (`spec') (`ppv') (`npv') (`roc') \n",
    "\n",
    "\n",
    "quietly diagt diag test if regexm(region_name,\"LONDON\")==1\n",
    "local prev=r(prev)\n",
    "local sens=r(sens)\n",
    "local spec=r(spec)\n",
    "local ppv=r(ppv)\n",
    "local npv=r(npv)\n",
    "local roc=r(roc)\n",
    "post `memhold' (\"London\") (`prev') (`sens') (`spec') (`ppv') (`npv') (`roc') \n",
    "\n",
    "quietly diagt diag test if regexm(region_name,\"MID\")==1\n",
    "local prev=r(prev)\n",
    "local sens=r(sens)\n",
    "local spec=r(spec)\n",
    "local ppv=r(ppv)\n",
    "local npv=r(npv)\n",
    "local roc=r(roc)\n",
    "post `memhold' (\"Midlands\") (`prev') (`sens') (`spec') (`ppv') (`npv') (`roc') \n",
    "\n",
    "quietly diagt diag test if regexm(region_name,\"YORK\")==1\n",
    "local prev=r(prev)\n",
    "local sens=r(sens)\n",
    "local spec=r(spec)\n",
    "local ppv=r(ppv)\n",
    "local npv=r(npv)\n",
    "local roc=r(roc)\n",
    "post `memhold' (\"Yorkshire\") (`prev') (`sens') (`spec') (`ppv') (`npv') (`roc') \n",
    "\n",
    "quietly diagt diag test if regexm(region_name,\"NORTH\")==1 & regexm(region_name,\"WEST\")==1\n",
    "local prev=r(prev)\n",
    "local sens=r(sens)\n",
    "local spec=r(spec)\n",
    "local ppv=r(ppv)\n",
    "local npv=r(npv)\n",
    "local roc=r(roc)\n",
    "post `memhold' (\"North West\") (`prev') (`sens') (`spec') (`ppv') (`npv') (`roc') \n",
    "\n",
    "quietly diagt diag test if regexm(region_name,\"SOUTH\")==1 & regexm(region_name,\"EAST\")==1\n",
    "local prev=r(prev)\n",
    "local sens=r(sens)\n",
    "local spec=r(spec)\n",
    "local ppv=r(ppv)\n",
    "local npv=r(npv)\n",
    "local roc=r(roc)\n",
    "post `memhold' (\"South East\") (`prev') (`sens') (`spec') (`ppv') (`npv') (`roc') \n",
    "\n",
    "quietly diagt diag test if regexm(region_name,\"SOUTH\")==1 & regexm(region_name,\"WEST\")==1\n",
    "local prev=r(prev)\n",
    "local sens=r(sens)\n",
    "local spec=r(spec)\n",
    "local ppv=r(ppv)\n",
    "local npv=r(npv)\n",
    "local roc=r(roc)\n",
    "post `memhold' (\"South West\") (`prev') (`sens') (`spec') (`ppv') (`npv') (`roc') \n",
    "\n",
    "quietly diagt diag test if regexm(system,\"One\")==1\n",
    "local prev=r(prev)\n",
    "local sens=r(sens)\n",
    "local spec=r(spec)\n",
    "local ppv=r(ppv)\n",
    "local npv=r(npv)\n",
    "local roc=r(roc)\n",
    "post `memhold' (\"SystemOne\") (`prev') (`sens') (`spec') (`ppv') (`npv') (`roc') \n",
    "\n",
    "quietly diagt diag test if regexm(system,\"Vision\")==1\n",
    "local prev=r(prev)\n",
    "local sens=r(sens)\n",
    "local spec=r(spec)\n",
    "local ppv=r(ppv)\n",
    "local npv=r(npv)\n",
    "local roc=r(roc)\n",
    "post `memhold' (\"Vision\") (`prev') (`sens') (`spec') (`ppv') (`npv') (`roc') \n",
    "\n",
    "quietly diagt diag test if regexm(ustrupper(system),\"EMIS\")==1\n",
    "local prev=r(prev)\n",
    "local sens=r(sens)\n",
    "local spec=r(spec)\n",
    "local ppv=r(ppv)\n",
    "local npv=r(npv)\n",
    "local roc=r(roc)\n",
    "post `memhold' (\"EMIS\") (`prev') (`sens') (`spec') (`ppv') (`npv') (`roc') \n",
    "\n",
    "quietly diagt diag test if RA_index==1\n",
    "local prev=r(prev)\n",
    "local sens=r(sens)\n",
    "local spec=r(spec)\n",
    "local ppv=r(ppv)\n",
    "local npv=r(npv)\n",
    "local roc=r(roc)\n",
    "post `memhold' (\"RAIndex1\") (`prev') (`sens') (`spec') (`ppv') (`npv') (`roc') \n",
    "\n",
    "quietly diagt diag test if RA_index==0\n",
    "local prev=r(prev)\n",
    "local sens=r(sens)\n",
    "local spec=r(spec)\n",
    "local ppv=r(ppv)\n",
    "local npv=r(npv)\n",
    "local roc=r(roc)\n",
    "post `memhold' (\"RAIndex0\") (`prev') (`sens') (`spec') (`ppv') (`npv') (`roc') \n",
    "\n",
    "quietly diagt diag test if ethnicity==\"0white\"\n",
    "local prev=r(prev)\n",
    "local sens=r(sens)\n",
    "local spec=r(spec)\n",
    "local ppv=r(ppv)\n",
    "local npv=r(npv)\n",
    "local roc=r(roc)\n",
    "post `memhold' (\"Ethnicity_0white\") (`prev') (`sens') (`spec') (`ppv') (`npv') (`roc') \n",
    "\n",
    "quietly diagt diag test if ethnicity==\"Other\"\n",
    "local prev=r(prev)\n",
    "local sens=r(sens)\n",
    "local spec=r(spec)\n",
    "local ppv=r(ppv)\n",
    "local npv=r(npv)\n",
    "local roc=r(roc)\n",
    "post `memhold' (\"Ethnicity_Other\") (`prev') (`sens') (`spec') (`ppv') (`npv') (`roc') \n",
    "\n",
    "\n",
    "\n",
    "quietly diagt diag test if ethnicity==\"Missing\"\n",
    "local prev=r(prev)\n",
    "local sens=r(sens)\n",
    "local spec=r(spec)\n",
    "local ppv=r(ppv)\n",
    "local npv=r(npv)\n",
    "local roc=r(roc)\n",
    "post `memhold' (\"Ethnicity_Missing\") (`prev') (`sens') (`spec') (`ppv') (`npv') (`roc') \n",
    "\n",
    "postclose `memhold'"
   ]
  },
  {
   "cell_type": "markdown",
   "id": "b350c4fb-deb8-450a-9750-689dc3a8268e",
   "metadata": {},
   "source": [
    "### Logistic Regression\n",
    "#### PPV"
   ]
  },
  {
   "cell_type": "code",
   "execution_count": 88,
   "id": "a21415d9",
   "metadata": {},
   "outputs": [
    {
     "name": "stdout",
     "output_type": "stream",
     "text": [
      "(2,589 observations deleted)\n",
      "(9 observations deleted)\n"
     ]
    }
   ],
   "source": [
    "drop if missing(imdcat)\n",
    "drop if missing(sex)"
   ]
  },
  {
   "cell_type": "code",
   "execution_count": 89,
   "id": "ad17f02e-1d4b-48ec-8a48-1c137597db1a",
   "metadata": {},
   "outputs": [
    {
     "name": "stdout",
     "output_type": "stream",
     "text": [
      "\n",
      "Logistic regression                                     Number of obs = 23,470\n",
      "                                                        LR chi2(0)    =   0.00\n",
      "                                                        Prob > chi2   =      .\n",
      "Log likelihood = -8381.1238                             Pseudo R2     = 0.0000\n",
      "\n",
      "------------------------------------------------------------------------------\n",
      "    diag_pos |       Odds   Std. err.      z    P>|z|     [95% conf. interval]\n",
      "-------------+----------------------------------------------------------------\n",
      "       _cons |    .130104   .0026608   -99.72   0.000     .1249921    .1354249\n",
      "------------------------------------------------------------------------------\n"
     ]
    }
   ],
   "source": [
    "logistic diag_pos if test==1"
   ]
  },
  {
   "cell_type": "code",
   "execution_count": 91,
   "id": "49e40858",
   "metadata": {},
   "outputs": [
    {
     "name": "stdout",
     "output_type": "stream",
     "text": [
      "\n",
      "Fitting fixed-effects model:\n",
      "\n",
      "Iteration 0:  Log likelihood = -8000.4033  \n",
      "Iteration 1:  Log likelihood = -7819.9014  \n",
      "Iteration 2:  Log likelihood = -7817.5275  \n",
      "Iteration 3:  Log likelihood = -7817.5268  \n",
      "\n",
      "Refining starting values:\n",
      "\n",
      "Grid node 0:  Log likelihood = -7870.0348\n",
      "\n",
      "Fitting full model:\n",
      "\n",
      "Iteration 0:  Log likelihood = -7870.0348  (not concave)\n",
      "Iteration 1:  Log likelihood = -7824.0975  (not concave)\n",
      "Iteration 2:  Log likelihood = -7790.0919  \n",
      "Iteration 3:  Log likelihood = -7789.5046  \n",
      "Iteration 4:  Log likelihood = -7789.5013  \n",
      "Iteration 5:  Log likelihood = -7789.5013  \n",
      "\n",
      "Mixed-effects logistic regression               Number of obs     =     23,386\n",
      "Group variable: practice_id                     Number of groups  =        320\n",
      "\n",
      "                                                Obs per group:\n",
      "                                                              min =          1\n",
      "                                                              avg =       73.1\n",
      "                                                              max =        695\n",
      "\n",
      "Integration method: mvaghermite                 Integration pts.  =          7\n",
      "\n",
      "                                                Wald chi2(18)     =     958.28\n",
      "Log likelihood = -7789.5013                     Prob > chi2       =     0.0000\n",
      "----------------------------------------------------------------------------------------------------------------\n",
      "                                       newdiag | Odds ratio   Std. err.      z    P>|z|     [95% conf. interval]\n",
      "-----------------------------------------------+----------------------------------------------------------------\n",
      "                                   1.sex_coded |   1.496136   .0636685     9.47   0.000     1.376411    1.626276\n",
      "                                               |\n",
      "                                       yearcat |\n",
      "                                    2010-2015  |   .4547742   .0227353   -15.76   0.000     .4123273    .5015908\n",
      "                                    2016-2020  |    .241657   .0143963   -23.84   0.000     .2150259    .2715865\n",
      "                                               |\n",
      "                                        agecat |\n",
      "                                      0Middle  |   .4373633   .0274504   -13.18   0.000     .3867391    .4946143\n",
      "                                      Elderly  |   .3081266   .0216203   -16.78   0.000     .2685362    .3535537\n",
      "                                               |\n",
      "                                        region |\n",
      "                  LONDON COMMISSIONING REGION  |   1.891025   .3650617     3.30   0.001     1.295308    2.760714\n",
      "                MIDLANDS COMMISSIONING REGION  |   1.447329   .1514386     3.53   0.000     1.178971    1.776769\n",
      "NORTH EAST AND YORKSHIRE COMMISSIONING REGION  |   1.313631     .14517     2.47   0.014     1.057807    1.631323\n",
      "              NORTH WEST COMMISSIONING REGION  |   1.405179   .1739319     2.75   0.006      1.10248    1.790988\n",
      "              SOUTH EAST COMMISSIONING REGION  |   1.254724   .1339544     2.13   0.034     1.017827    1.546759\n",
      "              SOUTH WEST COMMISSIONING REGION  |   1.323238    .169165     2.19   0.028     1.029956    1.700031\n",
      "                                     Scotland  |   1.315261   .3086225     1.17   0.243     .8303855    2.083263\n",
      "                                        Wales  |    1.83799   .6061578     1.85   0.065     .9629908    3.508037\n",
      "                                               |\n",
      "                                      RA_index |   1.097056   .0881002     1.15   0.249     .9372859     1.28406\n",
      "                                               |\n",
      "                                        ethnic |\n",
      "                                      Missing  |   .9582801   .0545989    -0.75   0.454     .8570269    1.071496\n",
      "                                        Other  |   .7038391   .0704005    -3.51   0.000     .5785397    .8562756\n",
      "                                               |\n",
      "                                        imdcat |\n",
      "                                          4-7  |   .9069633   .0732489    -1.21   0.227     .7741841    1.062515\n",
      "                                         8-10  |   1.011299   .0887215     0.13   0.898     .8515368    1.201035\n",
      "                                               |\n",
      "                                         _cons |   .3754873   .0405704    -9.07   0.000     .3038261    .4640506\n",
      "-----------------------------------------------+----------------------------------------------------------------\n",
      "practice_id                                    |\n",
      "                                     var(_cons)|   .1034505   .0235862                      .0661702    .1617345\n",
      "----------------------------------------------------------------------------------------------------------------\n",
      "Note: Estimates are transformed only in the first equation to odds ratios.\n",
      "Note: _cons estimates baseline odds (conditional on zero random effects).\n",
      "LR test vs. logistic model: chibar2(01) = 56.05       Prob >= chibar2 = 0.0000\n"
     ]
    }
   ],
   "source": [
    "gen newdiag=diag_pos\n",
    "\n",
    "melogit newdiag i.sex i.yearcat i.agecat  i.region RA_index i.ethnic i.imdcat if test==1 || practice_id:,or\n",
    "estimates store model1"
   ]
  },
  {
   "cell_type": "markdown",
   "id": "1fb85b5e",
   "metadata": {},
   "source": [
    "##### Likelihood ratio tests"
   ]
  },
  {
   "cell_type": "code",
   "execution_count": 92,
   "id": "718b2ba3-f1ac-41c9-af92-e0cb45d55985",
   "metadata": {},
   "outputs": [],
   "source": [
    "\n",
    "\n",
    "quietly: melogit newdiag i.sex i.yearcat i.agecat  i.region RA_index i.ethnic if test==1 || practice_id:,or\n",
    "estimates store model_imd\n",
    "\n",
    "quietly:melogit newdiag i.sex i.yearcat i.agecat  i.region RA_index i.imdcat if test==1 || practice_id:,or\n",
    "estimates store model_ethnicity\n",
    "\n",
    "quietly:melogit newdiag i.yearcat i.agecat  i.region RA_index i.ethnic i.imdcat if test==1 || practice_id:,or\n",
    "estimates store model_sex\n",
    "\n",
    "quietly:melogit newdiag i.sex i.agecat  i.region RA_index i.ethnic i.imdcat if test==1 || practice_id:,or\n",
    "estimates store model_year\n",
    "\n",
    "quietly: melogit newdiag i.sex i.yearcat  i.region RA_index i.ethnic i.imdcat if test==1 || practice_id:,or\n",
    "estimates store model_age\n",
    "\n"
   ]
  },
  {
   "cell_type": "code",
   "execution_count": 93,
   "id": "31887f9d",
   "metadata": {},
   "outputs": [
    {
     "name": "stdout",
     "output_type": "stream",
     "text": [
      "\n",
      "Likelihood-ratio test\n",
      "Assumption: model_sex nested within model1\n",
      "\n",
      " LR chi2(1) =  89.70\n",
      "Prob > chi2 = 0.0000\n",
      "\n",
      "Likelihood-ratio test\n",
      "Assumption: model_year nested within model1\n",
      "\n",
      " LR chi2(2) = 621.59\n",
      "Prob > chi2 = 0.0000\n",
      "\n",
      "Likelihood-ratio test\n",
      "Assumption: model_age nested within model1\n",
      "\n",
      " LR chi2(2) = 264.58\n",
      "Prob > chi2 = 0.0000\n",
      "\n",
      "Likelihood-ratio test\n",
      "Assumption: model_ethnic~y nested within model1\n",
      "\n",
      " LR chi2(2) =  13.27\n",
      "Prob > chi2 = 0.0013\n",
      "\n",
      "Likelihood-ratio test\n",
      "Assumption: model_imd nested within model1\n",
      "\n",
      " LR chi2(2) =   2.33\n",
      "Prob > chi2 = 0.3119\n"
     ]
    }
   ],
   "source": [
    "lrtest model1 model_sex\n",
    "lrtest model1 model_year\n",
    "lrtest model1 model_age\n",
    "lrtest model1 model_ethnicity\n",
    "lrtest model1 model_imd\n"
   ]
  },
  {
   "cell_type": "markdown",
   "id": "99227c99-0304-407b-a990-a06fe4bd4560",
   "metadata": {},
   "source": [
    "#### NPV"
   ]
  },
  {
   "cell_type": "code",
   "execution_count": 94,
   "id": "04c0103e-c424-49af-8973-09a13878ea3f",
   "metadata": {},
   "outputs": [
    {
     "name": "stdout",
     "output_type": "stream",
     "text": [
      "\n",
      "Logistic regression                                    Number of obs = 398,932\n",
      "                                                       LR chi2(0)    =    0.00\n",
      "                                                       Prob > chi2   =       .\n",
      "Log likelihood = -1908.0369                            Pseudo R2     =  0.0000\n",
      "\n",
      "------------------------------------------------------------------------------\n",
      "    diag_neg |       Odds   Std. err.      z    P>|z|     [95% conf. interval]\n",
      "-------------+----------------------------------------------------------------\n",
      "       _cons |   1772.031   118.1687   112.17   0.000     1554.922    2019.455\n",
      "------------------------------------------------------------------------------\n"
     ]
    }
   ],
   "source": [
    "logistic diag_neg if test==0"
   ]
  },
  {
   "cell_type": "code",
   "execution_count": 95,
   "id": "93a5b760",
   "metadata": {},
   "outputs": [
    {
     "name": "stdout",
     "output_type": "stream",
     "text": [
      "(422,402 real changes made)\n",
      "\n",
      "Fitting fixed-effects model:\n",
      "\n",
      "Iteration 0:  Log likelihood = -34157.573  \n",
      "Iteration 1:  Log likelihood = -1910.7291  \n",
      "Iteration 2:  Log likelihood = -1888.5813  \n",
      "Iteration 3:  Log likelihood = -1882.7905  \n",
      "Iteration 4:  Log likelihood = -1882.7696  \n",
      "Iteration 5:  Log likelihood = -1882.7696  \n",
      "\n",
      "Refining starting values:\n",
      "\n",
      "Grid node 0:  Log likelihood = -1885.6692\n",
      "\n",
      "Fitting full model:\n",
      "\n",
      "Iteration 0:  Log likelihood = -1885.6692  \n",
      "Iteration 1:  Log likelihood = -1878.7652  \n",
      "Iteration 2:  Log likelihood = -1876.0155  \n",
      "Iteration 3:  Log likelihood = -1875.8981  \n",
      "Iteration 4:  Log likelihood =  -1875.898  \n",
      "\n",
      "Mixed-effects logistic regression               Number of obs     =    398,047\n",
      "Group variable: practice_id                     Number of groups  =        337\n",
      "\n",
      "                                                Obs per group:\n",
      "                                                              min =          1\n",
      "                                                              avg =    1,181.1\n",
      "                                                              max =      9,796\n",
      "\n",
      "Integration method: mvaghermite                 Integration pts.  =          7\n",
      "\n",
      "                                                Wald chi2(18)     =      39.15\n",
      "Log likelihood = -1875.898                      Prob > chi2       =     0.0027\n",
      "----------------------------------------------------------------------------------------------------------------\n",
      "                                       newdiag | Odds ratio   Std. err.      z    P>|z|     [95% conf. interval]\n",
      "-----------------------------------------------+----------------------------------------------------------------\n",
      "                                   1.sex_coded |   .6815052   .0929283    -2.81   0.005     .5216769    .8903009\n",
      "                                               |\n",
      "                                       yearcat |\n",
      "                                    2010-2015  |   1.728809   .2919658     3.24   0.001     1.241635    2.407134\n",
      "                                    2016-2020  |   1.372733   .2356718     1.85   0.065     .9805079    1.921857\n",
      "                                               |\n",
      "                                        agecat |\n",
      "                                      0Middle  |   .9793968   .1538883    -0.13   0.895     .7198021    1.332614\n",
      "                                      Elderly  |   1.272804   .2723867     1.13   0.260     .8367581    1.936079\n",
      "                                               |\n",
      "                                        region |\n",
      "                  LONDON COMMISSIONING REGION  |   2.285021    1.42432     1.33   0.185     .6734602     7.75298\n",
      "                MIDLANDS COMMISSIONING REGION  |    .598469   .1674408    -1.83   0.067     .3458525    1.035601\n",
      "NORTH EAST AND YORKSHIRE COMMISSIONING REGION  |   .7872756   .2407133    -0.78   0.434     .4323823    1.433461\n",
      "              NORTH WEST COMMISSIONING REGION  |   .7725479   .2669881    -0.75   0.455     .3924235    1.520883\n",
      "              SOUTH EAST COMMISSIONING REGION  |   .9643805    .282932    -0.12   0.902     .5426516    1.713862\n",
      "              SOUTH WEST COMMISSIONING REGION  |   2.170378   .9895111     1.70   0.089     .8880934    5.304106\n",
      "                                     Scotland  |   1.339889   .9025444     0.43   0.664     .3578513    5.016896\n",
      "                                        Wales  |   .4104137   .3290408    -1.11   0.267     .0852685    1.975401\n",
      "                                               |\n",
      "                                      RA_index |   1.033767   .2329106     0.15   0.883      .664729    1.607684\n",
      "                                               |\n",
      "                                        ethnic |\n",
      "                                      Missing  |   1.461766   .2473057     2.24   0.025     1.049227     2.03651\n",
      "                                        Other  |   1.289499    .321213     1.02   0.307     .7913842    2.101138\n",
      "                                               |\n",
      "                                        imdcat |\n",
      "                                          4-7  |   1.126535   .2558046     0.52   0.600     .7218724     1.75804\n",
      "                                         8-10  |   .9274477   .2229189    -0.31   0.754     .5790244    1.485532\n",
      "                                               |\n",
      "                                         _cons |   1814.724    551.345    24.70   0.000     1000.462    3291.702\n",
      "-----------------------------------------------+----------------------------------------------------------------\n",
      "practice_id                                    |\n",
      "                                     var(_cons)|   .4648829   .1736349                      .2235722    .9666502\n",
      "----------------------------------------------------------------------------------------------------------------\n",
      "Note: Estimates are transformed only in the first equation to odds ratios.\n",
      "Note: _cons estimates baseline odds (conditional on zero random effects).\n",
      "LR test vs. logistic model: chibar2(01) = 13.74       Prob >= chibar2 = 0.0001\n"
     ]
    }
   ],
   "source": [
    "/* need to use the same response variable (newdiag) to line up the two model results */\n",
    "replace newdiag=diag_neg \n",
    "\n",
    "melogit newdiag i.sex i.yearcat i.agecat i.region RA_index i.ethnic i.imdcat if test==0 || practice_id:,or\n",
    "estimates store model2"
   ]
  },
  {
   "cell_type": "markdown",
   "id": "60c60b7a",
   "metadata": {},
   "source": [
    "##### Likelihood ratio tests"
   ]
  },
  {
   "cell_type": "code",
   "execution_count": 96,
   "id": "c31bd1f1-c69b-4600-a1c0-bde311d67651",
   "metadata": {},
   "outputs": [],
   "source": [
    "\n",
    "quietly: melogit newdiag i.yearcat i.agecat i.region RA_index i.ethnic i.imdcat if test==0 || practice_id:,or\n",
    "estimates store model2_sex\n",
    "quietly: melogit newdiag i.sex i.agecat i.region RA_index i.ethnic i.imdcat if test==0 || practice_id:,or\n",
    "estimates store model2_year\n",
    "quietly: melogit newdiag i.sex i.yearcat i.region RA_index i.ethnic i.imdcat if test==0 || practice_id:,or\n",
    "estimates store model2_age\n",
    "quietly: melogit newdiag i.sex i.yearcat i.agecat i.region RA_index i.imdcat if test==0 || practice_id:,or\n",
    "estimates store model2_ethnicity\n",
    "quietly: melogit newdiag i.sex i.yearcat i.agecat i.region RA_index i.ethnic if test==0 || practice_id:,or\n",
    "estimates store model2_imd\n"
   ]
  },
  {
   "cell_type": "code",
   "execution_count": 97,
   "id": "95d03409",
   "metadata": {},
   "outputs": [
    {
     "name": "stdout",
     "output_type": "stream",
     "text": [
      "\n",
      "Likelihood-ratio test\n",
      "Assumption: model2_sex nested within model2\n",
      "\n",
      " LR chi2(1) =   8.04\n",
      "Prob > chi2 = 0.0046\n",
      "\n",
      "Likelihood-ratio test\n",
      "Assumption: model2_year nested within model2\n",
      "\n",
      " LR chi2(2) =  10.85\n",
      "Prob > chi2 = 0.0044\n",
      "\n",
      "Likelihood-ratio test\n",
      "Assumption: model2_age nested within model2\n",
      "\n",
      " LR chi2(2) =   2.04\n",
      "Prob > chi2 = 0.3615\n",
      "\n",
      "Likelihood-ratio test\n",
      "Assumption: model2_ethni~y nested within model2\n",
      "\n",
      " LR chi2(2) =   5.67\n",
      "Prob > chi2 = 0.0589\n",
      "\n",
      "Likelihood-ratio test\n",
      "Assumption: model2_imd nested within model2\n",
      "\n",
      " LR chi2(2) =   0.78\n",
      "Prob > chi2 = 0.6769\n"
     ]
    }
   ],
   "source": [
    "lrtest model2 model2_sex\n",
    "lrtest model2 model2_year\n",
    "lrtest model2 model2_age\n",
    "lrtest model2 model2_ethnicity\n",
    "lrtest model2 model2_imd\n"
   ]
  },
  {
   "cell_type": "code",
   "execution_count": 98,
   "id": "017939f5-75b7-4ee0-9f7b-3105e0d2bfe1",
   "metadata": {},
   "outputs": [
    {
     "name": "stdout",
     "output_type": "stream",
     "text": [
      "\n",
      "Table 2. PPV (1) and NPV (2), OR, Random effect\n",
      "-------------------------------------------------------------------\n",
      "                                                    1         2    \n",
      "-------------------------------------------------------------------\n",
      "sex_coded                                                          \n",
      "  1                                              1.50 **    0.68 **\n",
      "yearcat                                                            \n",
      "  2010-2015                                      0.45 **    1.73 **\n",
      "  2016-2020                                      0.24 **    1.37   \n",
      "agecat                                                             \n",
      "  0Middle                                        0.44 **    0.98   \n",
      "  Elderly                                        0.31 **    1.27   \n",
      "region                                                             \n",
      "  LONDON COMMISSIONING REGION                    1.89 **    2.29   \n",
      "  MIDLANDS COMMISSIONING REGION                  1.45 **    0.60   \n",
      "  NORTH EAST AND YORKSHIRE COMMISSIONING REGION  1.31 *     0.79   \n",
      "  NORTH WEST COMMISSIONING REGION                1.41 **    0.77   \n",
      "  SOUTH EAST COMMISSIONING REGION                1.25 *     0.96   \n",
      "  SOUTH WEST COMMISSIONING REGION                1.32 *     2.17   \n",
      "  Scotland                                       1.32       1.34   \n",
      "  Wales                                          1.84       0.41   \n",
      "RA_index                                         1.10       1.03   \n",
      "ethnic                                                             \n",
      "  Missing                                        0.96       1.46 * \n",
      "  Other                                          0.70 **    1.29   \n",
      "imdcat                                                             \n",
      "  4-7                                            0.91       1.13   \n",
      "  8-10                                           1.01       0.93   \n",
      "Intercept                                        0.38 ** 1814.72 **\n",
      "var(_cons[practice_id])                          0.10       0.46   \n",
      "Number of observations                          23386     398047   \n",
      "-------------------------------------------------------------------\n",
      "** p<.01, * p<.05\n",
      "(collection ETable exported to file validity2.xlsx)\n"
     ]
    }
   ],
   "source": [
    "etable, estimates(model1 model2) showstars showstarsnote title(\"Table 2. PPV (1) and NPV (2),  OR, Random effect\") cstat(_r_b,nformat(%6.2f)) column(index) export(validity2.xlsx, modify sheet(reg_epilepsy, replace))"
   ]
  },
  {
   "cell_type": "markdown",
   "id": "e7e9a417",
   "metadata": {},
   "source": [
    "### Summary of validation parameters"
   ]
  },
  {
   "cell_type": "code",
   "execution_count": 99,
   "id": "e27d82a4-8d2d-4529-8a15-ae4baabfa28c",
   "metadata": {},
   "outputs": [
    {
     "name": "stdout",
     "output_type": "stream",
     "text": [
      "(26 real changes made)\n",
      "(26 real changes made)\n",
      "(26 real changes made)\n",
      "(26 real changes made)\n",
      "(26 real changes made)\n",
      "(26 real changes made)\n"
     ]
    }
   ],
   "source": [
    "use validity.dta, clear\n",
    "replace prev=round(prev, 0.1)\n",
    "gen prev_a=round(((prev/100)*((sens/100)+(spec/100)-1)+1-(spec/100))*100,0.1)/*apparent prevalence*/\n",
    "replace sens=round(sens, 0.1)\n",
    "replace spec=round(spec,0.1)\n",
    "replace ppv=round(ppv, 0.1)\n",
    "replace npv=round(npv, 0.1)\n",
    "replace roc=round(roc, 0.01)\n"
   ]
  },
  {
   "cell_type": "code",
   "execution_count": 100,
   "id": "8129bfb3-cd21-4077-a785-9a74a846c65b",
   "metadata": {},
   "outputs": [
    {
     "data": {
      "text/html": [
       "<div>\n",
       "<style scoped>\n",
       "    .dataframe tbody tr th:only-of-type {\n",
       "        vertical-align: middle;\n",
       "    }\n",
       "\n",
       "    .dataframe tbody tr th {\n",
       "        vertical-align: top;\n",
       "    }\n",
       "\n",
       "    .dataframe thead th {\n",
       "        text-align: right;\n",
       "    }\n",
       "</style>\n",
       "<table border=\"1\" class=\"dataframe\">\n",
       "  <thead>\n",
       "    <tr style=\"text-align: right;\">\n",
       "      <th></th>\n",
       "      <th>var</th>\n",
       "      <th>prev</th>\n",
       "      <th>sens</th>\n",
       "      <th>spec</th>\n",
       "      <th>ppv</th>\n",
       "      <th>npv</th>\n",
       "      <th>roc</th>\n",
       "      <th>prev_a</th>\n",
       "    </tr>\n",
       "  </thead>\n",
       "  <tbody>\n",
       "    <tr>\n",
       "      <th>1</th>\n",
       "      <td>all</td>\n",
       "      <td>.7</td>\n",
       "      <td>92.3</td>\n",
       "      <td>95.1</td>\n",
       "      <td>11.5</td>\n",
       "      <td>99.9</td>\n",
       "      <td>.94</td>\n",
       "      <td>5.5</td>\n",
       "    </tr>\n",
       "    <tr>\n",
       "      <th>2</th>\n",
       "      <td>Male</td>\n",
       "      <td>.7</td>\n",
       "      <td>91.4</td>\n",
       "      <td>95.8</td>\n",
       "      <td>14</td>\n",
       "      <td>99.9</td>\n",
       "      <td>.94</td>\n",
       "      <td>4.8</td>\n",
       "    </tr>\n",
       "    <tr>\n",
       "      <th>3</th>\n",
       "      <td>Female</td>\n",
       "      <td>.6</td>\n",
       "      <td>93.4</td>\n",
       "      <td>94.4</td>\n",
       "      <td>9.7</td>\n",
       "      <td>100</td>\n",
       "      <td>.94</td>\n",
       "      <td>6.1</td>\n",
       "    </tr>\n",
       "    <tr>\n",
       "      <th>4</th>\n",
       "      <td>Age young</td>\n",
       "      <td>.4</td>\n",
       "      <td>87.7</td>\n",
       "      <td>98.5</td>\n",
       "      <td>20.5</td>\n",
       "      <td>99.9</td>\n",
       "      <td>.93</td>\n",
       "      <td>1.9</td>\n",
       "    </tr>\n",
       "    <tr>\n",
       "      <th>5</th>\n",
       "      <td>Age middle</td>\n",
       "      <td>.8</td>\n",
       "      <td>92.5</td>\n",
       "      <td>94.6</td>\n",
       "      <td>11.7</td>\n",
       "      <td>99.9</td>\n",
       "      <td>.94</td>\n",
       "      <td>6.1</td>\n",
       "    </tr>\n",
       "    <tr>\n",
       "      <th>6</th>\n",
       "      <td>Age elderly</td>\n",
       "      <td>.8</td>\n",
       "      <td>95.1</td>\n",
       "      <td>91.6</td>\n",
       "      <td>8.8</td>\n",
       "      <td>100</td>\n",
       "      <td>.93</td>\n",
       "      <td>9.1</td>\n",
       "    </tr>\n",
       "    <tr>\n",
       "      <th>7</th>\n",
       "      <td>Year 2004-2009</td>\n",
       "      <td>.9</td>\n",
       "      <td>92.4</td>\n",
       "      <td>96.7</td>\n",
       "      <td>19.9</td>\n",
       "      <td>99.9</td>\n",
       "      <td>.95</td>\n",
       "      <td>4.1</td>\n",
       "    </tr>\n",
       "    <tr>\n",
       "      <th>8</th>\n",
       "      <td>Year 2010-2015</td>\n",
       "      <td>.7</td>\n",
       "      <td>94.1</td>\n",
       "      <td>94.6</td>\n",
       "      <td>10.8</td>\n",
       "      <td>100</td>\n",
       "      <td>.94</td>\n",
       "      <td>6</td>\n",
       "    </tr>\n",
       "    <tr>\n",
       "      <th>9</th>\n",
       "      <td>Year 2016-2020</td>\n",
       "      <td>.5</td>\n",
       "      <td>89</td>\n",
       "      <td>93.7</td>\n",
       "      <td>6.2</td>\n",
       "      <td>99.9</td>\n",
       "      <td>.91</td>\n",
       "      <td>6.8</td>\n",
       "    </tr>\n",
       "    <tr>\n",
       "      <th>10</th>\n",
       "      <td>IMD 1,3</td>\n",
       "      <td>.7</td>\n",
       "      <td>92</td>\n",
       "      <td>94.9</td>\n",
       "      <td>11.9</td>\n",
       "      <td>99.9</td>\n",
       "      <td>.93</td>\n",
       "      <td>5.7</td>\n",
       "    </tr>\n",
       "    <tr>\n",
       "      <th>11</th>\n",
       "      <td>IMD 4,7</td>\n",
       "      <td>.7</td>\n",
       "      <td>93.3</td>\n",
       "      <td>94.8</td>\n",
       "      <td>11</td>\n",
       "      <td>100</td>\n",
       "      <td>.94</td>\n",
       "      <td>5.8</td>\n",
       "    </tr>\n",
       "    <tr>\n",
       "      <th>12</th>\n",
       "      <td>IMD 8,10</td>\n",
       "      <td>.6</td>\n",
       "      <td>91.5</td>\n",
       "      <td>95.5</td>\n",
       "      <td>11.6</td>\n",
       "      <td>99.9</td>\n",
       "      <td>.94</td>\n",
       "      <td>5.1</td>\n",
       "    </tr>\n",
       "    <tr>\n",
       "      <th>13</th>\n",
       "      <td>London</td>\n",
       "      <td>.5</td>\n",
       "      <td>95.4</td>\n",
       "      <td>97.4</td>\n",
       "      <td>16.1</td>\n",
       "      <td>100</td>\n",
       "      <td>.96</td>\n",
       "      <td>3.1</td>\n",
       "    </tr>\n",
       "    <tr>\n",
       "      <th>14</th>\n",
       "      <td>Midlands</td>\n",
       "      <td>.9</td>\n",
       "      <td>90</td>\n",
       "      <td>94.7</td>\n",
       "      <td>12.7</td>\n",
       "      <td>99.9</td>\n",
       "      <td>.92</td>\n",
       "      <td>6.1</td>\n",
       "    </tr>\n",
       "    <tr>\n",
       "      <th>15</th>\n",
       "      <td>Yorkshire</td>\n",
       "      <td>.7</td>\n",
       "      <td>91.8</td>\n",
       "      <td>95.2</td>\n",
       "      <td>12.6</td>\n",
       "      <td>99.9</td>\n",
       "      <td>.94</td>\n",
       "      <td>5.4</td>\n",
       "    </tr>\n",
       "    <tr>\n",
       "      <th>16</th>\n",
       "      <td>North West</td>\n",
       "      <td>.8</td>\n",
       "      <td>91.9</td>\n",
       "      <td>95</td>\n",
       "      <td>12.6</td>\n",
       "      <td>99.9</td>\n",
       "      <td>.93</td>\n",
       "      <td>5.7</td>\n",
       "    </tr>\n",
       "    <tr>\n",
       "      <th>17</th>\n",
       "      <td>South East</td>\n",
       "      <td>.6</td>\n",
       "      <td>92.2</td>\n",
       "      <td>95.6</td>\n",
       "      <td>11.2</td>\n",
       "      <td>100</td>\n",
       "      <td>.94</td>\n",
       "      <td>4.9</td>\n",
       "    </tr>\n",
       "    <tr>\n",
       "      <th>18</th>\n",
       "      <td>South West</td>\n",
       "      <td>.7</td>\n",
       "      <td>96.8</td>\n",
       "      <td>94.6</td>\n",
       "      <td>11</td>\n",
       "      <td>100</td>\n",
       "      <td>.96</td>\n",
       "      <td>6</td>\n",
       "    </tr>\n",
       "    <tr>\n",
       "      <th>19</th>\n",
       "      <td>SystemOne</td>\n",
       "      <td>.7</td>\n",
       "      <td>92.6</td>\n",
       "      <td>94.6</td>\n",
       "      <td>10.4</td>\n",
       "      <td>99.9</td>\n",
       "      <td>.94</td>\n",
       "      <td>6</td>\n",
       "    </tr>\n",
       "    <tr>\n",
       "      <th>20</th>\n",
       "      <td>Vision</td>\n",
       "      <td>.7</td>\n",
       "      <td>92.6</td>\n",
       "      <td>96.4</td>\n",
       "      <td>15.1</td>\n",
       "      <td>99.9</td>\n",
       "      <td>.95</td>\n",
       "      <td>4.2</td>\n",
       "    </tr>\n",
       "    <tr>\n",
       "      <th>21</th>\n",
       "      <td>EMIS</td>\n",
       "      <td>.7</td>\n",
       "      <td>92</td>\n",
       "      <td>95.5</td>\n",
       "      <td>13</td>\n",
       "      <td>99.9</td>\n",
       "      <td>.94</td>\n",
       "      <td>5.1</td>\n",
       "    </tr>\n",
       "    <tr>\n",
       "      <th>22</th>\n",
       "      <td>RAIndex1</td>\n",
       "      <td>.7</td>\n",
       "      <td>92.5</td>\n",
       "      <td>95.2</td>\n",
       "      <td>11.8</td>\n",
       "      <td>99.9</td>\n",
       "      <td>.94</td>\n",
       "      <td>5.4</td>\n",
       "    </tr>\n",
       "    <tr>\n",
       "      <th>23</th>\n",
       "      <td>RAIndex0</td>\n",
       "      <td>.7</td>\n",
       "      <td>91.7</td>\n",
       "      <td>94.8</td>\n",
       "      <td>10.8</td>\n",
       "      <td>99.9</td>\n",
       "      <td>.93</td>\n",
       "      <td>5.9</td>\n",
       "    </tr>\n",
       "    <tr>\n",
       "      <th>24</th>\n",
       "      <td>Ethnicity_0white</td>\n",
       "      <td>.8</td>\n",
       "      <td>93</td>\n",
       "      <td>93.9</td>\n",
       "      <td>11.1</td>\n",
       "      <td>99.9</td>\n",
       "      <td>.93</td>\n",
       "      <td>6.8</td>\n",
       "    </tr>\n",
       "    <tr>\n",
       "      <th>25</th>\n",
       "      <td>Ethnicity_Other</td>\n",
       "      <td>.4</td>\n",
       "      <td>87.3</td>\n",
       "      <td>96.7</td>\n",
       "      <td>9.1</td>\n",
       "      <td>100</td>\n",
       "      <td>.92</td>\n",
       "      <td>3.6</td>\n",
       "    </tr>\n",
       "    <tr>\n",
       "      <th>26</th>\n",
       "      <td>Ethnicity_Missing</td>\n",
       "      <td>.5</td>\n",
       "      <td>91.4</td>\n",
       "      <td>97</td>\n",
       "      <td>14.2</td>\n",
       "      <td>100</td>\n",
       "      <td>.94</td>\n",
       "      <td>3.5</td>\n",
       "    </tr>\n",
       "  </tbody>\n",
       "</table>\n",
       "</div>"
      ]
     },
     "metadata": {},
     "output_type": "display_data"
    }
   ],
   "source": [
    "%head 50"
   ]
  },
  {
   "cell_type": "code",
   "execution_count": 101,
   "id": "47dc850c-f3c8-4b9c-8ba9-3620f31b4fa9",
   "metadata": {},
   "outputs": [
    {
     "name": "stdout",
     "output_type": "stream",
     "text": [
      "file validity2.xlsx saved\n"
     ]
    }
   ],
   "source": [
    "/*texsave * using test3.tex, varlabels*/\n",
    "export excel using  validity2.xlsx, sheet(val_epilepsy, replace)"
   ]
  }
 ],
 "metadata": {
  "kernelspec": {
   "display_name": "Stata (nbstata)",
   "language": "stata",
   "name": "nbstata"
  },
  "language_info": {
   "file_extension": ".do",
   "mimetype": "text/x-stata",
   "name": "stata",
   "version": "17"
  }
 },
 "nbformat": 4,
 "nbformat_minor": 5
}
