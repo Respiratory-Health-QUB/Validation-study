{
 "cells": [
  {
   "cell_type": "markdown",
   "id": "13e469d7",
   "metadata": {},
   "source": [
    "# Validity of using prescription records to identify patient comorbidities\n",
    "## Analysis of combined osteoporosis and osteopenia"
   ]
  },
  {
   "cell_type": "markdown",
   "id": "a3d5caf8",
   "metadata": {},
   "source": [
    "**ReadMe:**\n",
    "- This is a script used in the analysis for Schnier et al., 2025: Validity of using prescription records to classify disease – a record linkage study using routinely collected electronic health records from the UK.\n",
    "- The underlying data set has been created using the Optimum Patient Care Research Database (https://opcrd.optimumpatientcare.org/). The authors do not have permission to give the public access to the study dataset; researchers may request access to OPCRD for their own purposes. \n",
    " - All code is run in StataSE 18. \n"
   ]
  },
  {
   "cell_type": "markdown",
   "id": "1cf02e3e-e834-469d-abf1-21c9ce29f756",
   "metadata": {},
   "source": [
    "**Set up:**\n",
    "|Var|Input|\n",
    "| --- | --- | \n",
    "|population|425,000|\n",
    "|diagnostic codes|OpenCodelist (Snomed) and HDRUK (read)|\n",
    "|drug codes|bnf 06.06.01 and 06.06.02|\n",
    "|sql date|13.03.2025|\n",
    "|sql code|opopselection20250313.sql| "
   ]
  },
  {
   "cell_type": "code",
   "execution_count": 1,
   "id": "2a759161-052f-4433-ab6c-0ad7ab9120e9",
   "metadata": {},
   "outputs": [
    {
     "data": {
      "text/html": [
       "<style>div.jp-Notebook .datagrid-container {min-height: 448px; }</style>"
      ],
      "text/plain": [
       "<IPython.core.display.HTML object>"
      ]
     },
     "metadata": {},
     "output_type": "display_data"
    }
   ],
   "source": [
    "    clear all"
   ]
  },
  {
   "cell_type": "markdown",
   "id": "5e9a592b-20c3-4eb6-b947-22979a02dcf0",
   "metadata": {},
   "source": [
    "### Import from SQL server and data wrangling"
   ]
  },
  {
   "cell_type": "code",
   "execution_count": 2,
   "id": "b5b5eb32-1b5c-44c2-901c-0e9d1a4e36d2",
   "metadata": {},
   "outputs": [],
   "source": [
    "odbc load, exec(\"select * from [opop_425000_20250313]\") dsn(\"sqlserverconnect\")"
   ]
  },
  {
   "cell_type": "code",
   "execution_count": 3,
   "id": "0835f95f-a07b-4d29-b825-b3823bfad60e",
   "metadata": {
    "scrolled": true
   },
   "outputs": [
    {
     "name": "stdout",
     "output_type": "stream",
     "text": [
      "(41,372 missing values generated)\n",
      "(41,372 real changes made)\n",
      "(6,736 missing values generated)\n",
      "(6,736 real changes made)\n",
      "(2,589 missing values generated)\n",
      "variable bnf_code was str6 now str35\n",
      "(5 real changes made)\n",
      "(8,907 real changes made)\n",
      "(1 real change made)\n",
      "(32,430 real changes made)\n",
      "(23 real changes made)\n",
      "variable ethnicity was str2 now str6\n",
      "(257,981 real changes made)\n",
      "(3,762 real changes made)\n",
      "(23,912 real changes made)\n",
      "(7,430 real changes made)\n",
      "(8,764 real changes made)\n",
      "variable ethnicity was str6 now str7\n",
      "(123,151 real changes made)\n"
     ]
    }
   ],
   "source": [
    "generate test=0 if missing(drug_dt)\n",
    "replace test=1 if ! missing(drug_dt)  \n",
    "\n",
    "generate diag=0 if missing(diag_dt)\n",
    "replace diag=1 if ! missing(diag_dt)  \n",
    "\n",
    "gen start_year=year(fu_start_dt)\n",
    "\n",
    "\n",
    "egen agecat = cut(age), at(16,30,70,120)\n",
    "label def agecat_lab 16 \"Young\" 30 \"0Middle\" 70 \"Elderly\" 120 \"weird\"\n",
    "label values agecat agecat_lab\n",
    "\n",
    "\n",
    "egen yearcat = cut(start_year), at(2004,2010,2016,2025)\n",
    "label def yearcat_lab 2004 \"2004-2009\" 2010 \"2010-2015\" 2016 \"2016-2020\" \n",
    "label values yearcat yearcat_lab\n",
    "\n",
    "egen imdcat = cut(imd_decile), at(0,4,8,11)\n",
    "label def imdcat_lab 0 \"1-3\" 4 \"4-7\" 8 \"8-10\" \n",
    "label values imdcat imdcat_lab\n",
    "\n",
    "\n",
    "replace bnf_code = \"Calcitonins and parathyroid hormone\" if bnf_code== \"060601\"\n",
    "replace bnf_code = \"Bisphosphonates\" if bnf_code== \"060602\"\n",
    "replace bnf_code = \"Calcium supplements\" if bnf_code== \"090501\"\n",
    "replace bnf_code = \"Vitamine D\" if bnf_code== \"090604\"\n",
    "replace bnf_code = \"Other/unknown\" if missing(bnf_code) & ! missing(drug_dt)\n",
    "\n",
    "\n",
    "\n",
    "\n",
    "replace ethnicity=\"0white\" if ethnicity==\"1\"\n",
    "replace ethnicity=\"Other\" if ethnicity==\"2\"\n",
    "replace ethnicity=\"Other\" if ethnicity==\"3\"\n",
    "replace ethnicity=\"Other\" if ethnicity==\"4\"\n",
    "replace ethnicity=\"Other\" if ethnicity==\"5\"\n",
    "replace ethnicity=\"Missing\" if ethnicity==\"99\"\n",
    "\n",
    "\n",
    "\n",
    "\n",
    "encode bnf_code, generate(bnf_code_values) \n",
    "encode description, generate(description_values)\n",
    "encode ethnicity, generate(ethnicity_values) \n",
    "\n",
    "gen diag_neg=diag==0\n",
    "gen diag_pos=diag==1\n",
    "encode region_name, generate(region) label(regionlbl)\n",
    "encode ethnicity, generate(ethnic)"
   ]
  },
  {
   "cell_type": "code",
   "execution_count": 4,
   "id": "4bb67b58-5460-4077-bd5d-6252a35d7c1e",
   "metadata": {},
   "outputs": [
    {
     "name": "stdout",
     "output_type": "stream",
     "text": [
      "(bin=19, start=16, width=5)\n"
     ]
    },
    {
     "data": {
      "image/png": "[encoded data removed]",
      "text/plain": [
       "<IPython.core.display.Image object>"
      ]
     },
     "metadata": {},
     "output_type": "display_data"
    }
   ],
   "source": [
    "histogram age, width(5)\n"
   ]
  },
  {
   "cell_type": "markdown",
   "id": "cfdd2c1f-86b9-4840-8106-662ce151f20e",
   "metadata": {},
   "source": [
    "This table holds one randomly selected diagnostic code found during the observation period. The table is truncated to only include diagnostic codes with a count of 10 or more."
   ]
  },
  {
   "cell_type": "code",
   "execution_count": 5,
   "id": "6544a018-204b-4fcb-b5ab-d9ec745e764f",
   "metadata": {},
   "outputs": [
    {
     "name": "stdout",
     "output_type": "stream",
     "text": [
      "\n",
      "  +-----------------------------------------------------------------------------------+\n",
      "  |                                             description   Freq.   Percent     %<= |\n",
      "  |-----------------------------------------------------------------------------------|\n",
      "  |                                            Osteoporosis    2752     40.86   40.86 |\n",
      "  |                                   Osteopenia (disorder)    2617     38.85   79.71 |\n",
      "  |                                              Osteopenia     906     13.45   93.16 |\n",
      "  |                         Osteoporotic vertebral collapse      88      1.31   94.46 |\n",
      "  |                                        Osteoporosis NOS      50      0.74   95.20 |\n",
      "  |-----------------------------------------------------------------------------------|\n",
      "  |                                  Vertebral osteoporosis      42      0.62   95.83 |\n",
      "  |                                   Pathological fracture      37      0.55   96.38 |\n",
      "  |                                   Osteoporotic kyphosis      34      0.50   96.88 |\n",
      "  |                                            Osteomalacia      33      0.49   97.37 |\n",
      "  |                                    Primary osteoporosis      27      0.40   97.77 |\n",
      "  |-----------------------------------------------------------------------------------|\n",
      "  |                               Osteoporosis, unspecified      17      0.25   98.03 |\n",
      "  |              Osteoporotic fracture of thoracic vertebra      16      0.24   98.26 |\n",
      "  | Osteoporosis + pathological fracture thoracic vertebrae      14      0.21   98.47 |\n",
      "  |                Osteoporotic fracture of lumbar vertebra      14      0.21   98.68 |\n",
      "  |                             Postmenopausal osteoporosis      14      0.21   98.89 |\n",
      "  |-----------------------------------------------------------------------------------|\n",
      "  |                                     Senile osteoporosis      10      0.15   99.04 |\n",
      "  +-----------------------------------------------------------------------------------+\n"
     ]
    }
   ],
   "source": [
    "set linesize 132\n",
    "groups description , select(f >= 10) ord(h) table "
   ]
  },
  {
   "cell_type": "markdown",
   "id": "7d01eb90-5ca1-4146-aafb-680a81450cc3",
   "metadata": {},
   "source": [
    "These tables holds one randomly selected prescrption during the observation period. The table is truncated to only include codes with a count of 10 or more.\n"
   ]
  },
  {
   "cell_type": "code",
   "execution_count": 6,
   "id": "a4acd83f-5b6a-49e7-8b49-5dc1f78f2d1a",
   "metadata": {},
   "outputs": [
    {
     "name": "stdout",
     "output_type": "stream",
     "text": [
      "\n",
      "  +-------------------------------------------+\n",
      "  |        bnf_code   Freq.   Percent     %<= |\n",
      "  |-------------------------------------------|\n",
      "  |      Vitamine D   32430     78.39   78.39 |\n",
      "  | Bisphosphonates    8907     21.53   99.92 |\n",
      "  |   Other/unknown      23      0.06   99.97 |\n",
      "  +-------------------------------------------+\n"
     ]
    }
   ],
   "source": [
    "set linesize 132\n",
    "groups bnf_code , select(f >= 10) ord(h) table "
   ]
  },
  {
   "cell_type": "markdown",
   "id": "67837c2c-bbb5-4681-8000-cd8b3f6cac51",
   "metadata": {},
   "source": [
    "### Results\n",
    "#### Overall"
   ]
  },
  {
   "cell_type": "code",
   "execution_count": 7,
   "id": "733c0f2e-1179-49dc-b95d-48547a864674",
   "metadata": {},
   "outputs": [
    {
     "name": "stdout",
     "output_type": "stream",
     "text": [
      "\n",
      "           |         test\n",
      "      diag |      Pos.       Neg. |     Total\n",
      "-----------+----------------------+----------\n",
      "  Abnormal |     5,933        803 |     6,736 \n",
      "    Normal |    35,439    382,825 |   418,264 \n",
      "-----------+----------------------+----------\n",
      "     Total |    41,372    383,628 |   425,000 \n",
      "True abnormal diagnosis defined as diag = 1\n",
      "\n",
      "\n",
      "                                                  [95% Confidence Interval]\n",
      "---------------------------------------------------------------------------\n",
      "Prevalence                         Pr(A)      1.6%      1.5%       1.6%\n",
      "---------------------------------------------------------------------------\n",
      "Sensitivity                      Pr(+|A)     88.1%     87.3%     88.8%\n",
      "Specificity                      Pr(-|N)     91.5%     91.4%     91.6%\n",
      "ROC area               (Sens. + Spec.)/2      0.90      0.89      0.90 \n",
      "---------------------------------------------------------------------------\n",
      "Likelihood ratio (+)     Pr(+|A)/Pr(+|N)     10.40     10.26     10.53 \n",
      "Likelihood ratio (-)     Pr(-|A)/Pr(-|N)      0.13      0.12      0.14 \n",
      "Odds ratio                   LR(+)/LR(-)     79.81     74.09     85.99 \n",
      "Positive predictive value        Pr(A|+)     14.3%     14.0%     14.7% \n",
      "Negative predictive value        Pr(N|-)     99.8%     99.8%     99.8% \n",
      "---------------------------------------------------------------------------\n"
     ]
    }
   ],
   "source": [
    "diagt diag test"
   ]
  },
  {
   "cell_type": "markdown",
   "id": "b119ffa3-90d8-4e4f-9f8d-30cca2284b37",
   "metadata": {},
   "source": [
    "#### Males"
   ]
  },
  {
   "cell_type": "code",
   "execution_count": 8,
   "id": "81028f5e-4e7a-4bb4-b0f6-71d8d0821075",
   "metadata": {},
   "outputs": [
    {
     "name": "stdout",
     "output_type": "stream",
     "text": [
      "\n",
      "           |         test\n",
      "      diag |      Pos.       Neg. |     Total\n",
      "-----------+----------------------+----------\n",
      "  Abnormal |     1,067        200 |     1,267 \n",
      "    Normal |    10,229    196,789 |   207,018 \n",
      "-----------+----------------------+----------\n",
      "     Total |    11,296    196,989 |   208,285 \n",
      "True abnormal diagnosis defined as diag = 1\n",
      "\n",
      "\n",
      "                                                  [95% Confidence Interval]\n",
      "---------------------------------------------------------------------------\n",
      "Prevalence                         Pr(A)      0.6%      0.6%       0.6%\n",
      "---------------------------------------------------------------------------\n",
      "Sensitivity                      Pr(+|A)     84.2%     82.1%     86.2%\n",
      "Specificity                      Pr(-|N)     95.1%     95.0%     95.2%\n",
      "ROC area               (Sens. + Spec.)/2      0.90      0.89      0.91 \n",
      "---------------------------------------------------------------------------\n",
      "Likelihood ratio (+)     Pr(+|A)/Pr(+|N)     17.04     16.53     17.57 \n",
      "Likelihood ratio (-)     Pr(-|A)/Pr(-|N)      0.17      0.15      0.19 \n",
      "Odds ratio                   LR(+)/LR(-)    102.64     88.15    119.51 \n",
      "Positive predictive value        Pr(A|+)      9.4%      8.9%     10.0% \n",
      "Negative predictive value        Pr(N|-)     99.9%     99.9%     99.9% \n",
      "---------------------------------------------------------------------------\n"
     ]
    }
   ],
   "source": [
    "diagt diag test if sex==1"
   ]
  },
  {
   "cell_type": "markdown",
   "id": "762df1ac-de32-43e9-8cb3-6696c91e2459",
   "metadata": {},
   "source": [
    "#### Females"
   ]
  },
  {
   "cell_type": "code",
   "execution_count": 9,
   "id": "7fc985e3-7757-4908-ae5a-5d346ee7ccb6",
   "metadata": {},
   "outputs": [
    {
     "name": "stdout",
     "output_type": "stream",
     "text": [
      "\n",
      "           |         test\n",
      "      diag |      Pos.       Neg. |     Total\n",
      "-----------+----------------------+----------\n",
      "  Abnormal |     4,866        603 |     5,469 \n",
      "    Normal |    25,207    186,030 |   211,237 \n",
      "-----------+----------------------+----------\n",
      "     Total |    30,073    186,633 |   216,706 \n",
      "True abnormal diagnosis defined as diag = 1\n",
      "\n",
      "\n",
      "                                                  [95% Confidence Interval]\n",
      "---------------------------------------------------------------------------\n",
      "Prevalence                         Pr(A)      2.5%      2.5%       2.6%\n",
      "---------------------------------------------------------------------------\n",
      "Sensitivity                      Pr(+|A)     89.0%     88.1%     89.8%\n",
      "Specificity                      Pr(-|N)     88.1%     87.9%     88.2%\n",
      "ROC area               (Sens. + Spec.)/2      0.89      0.88      0.89 \n",
      "---------------------------------------------------------------------------\n",
      "Likelihood ratio (+)     Pr(+|A)/Pr(+|N)      7.46      7.35      7.57 \n",
      "Likelihood ratio (-)     Pr(-|A)/Pr(-|N)      0.13      0.12      0.13 \n",
      "Odds ratio                   LR(+)/LR(-)     59.55     54.67     64.88 \n",
      "Positive predictive value        Pr(A|+)     16.2%     15.8%     16.6% \n",
      "Negative predictive value        Pr(N|-)     99.7%     99.7%     99.7% \n",
      "---------------------------------------------------------------------------\n"
     ]
    }
   ],
   "source": [
    "diagt diag test if sex==0"
   ]
  },
  {
   "cell_type": "markdown",
   "id": "ab8954a7-060c-4eba-adea-1044fb6bb9ea",
   "metadata": {},
   "source": [
    "#### Age\n",
    "*16-30*"
   ]
  },
  {
   "cell_type": "code",
   "execution_count": 10,
   "id": "f9aa943b-6489-4d70-a905-4aa3b8f2cb6e",
   "metadata": {},
   "outputs": [
    {
     "name": "stdout",
     "output_type": "stream",
     "text": [
      "\n",
      "           |         test\n",
      "      diag |      Pos.       Neg. |     Total\n",
      "-----------+----------------------+----------\n",
      "  Abnormal |        69         26 |        95 \n",
      "    Normal |     3,170    114,409 |   117,579 \n",
      "-----------+----------------------+----------\n",
      "     Total |     3,239    114,435 |   117,674 \n",
      "True abnormal diagnosis defined as diag = 1\n",
      "\n",
      "\n",
      "                                                  [95% Confidence Interval]\n",
      "---------------------------------------------------------------------------\n",
      "Prevalence                         Pr(A)      0.1%      0.1%       0.1%\n",
      "---------------------------------------------------------------------------\n",
      "Sensitivity                      Pr(+|A)     72.6%     62.5%     81.3%\n",
      "Specificity                      Pr(-|N)     97.3%     97.2%     97.4%\n",
      "ROC area               (Sens. + Spec.)/2      0.85      0.80      0.89 \n",
      "---------------------------------------------------------------------------\n",
      "Likelihood ratio (+)     Pr(+|A)/Pr(+|N)     26.94     23.70     30.62 \n",
      "Likelihood ratio (-)     Pr(-|A)/Pr(-|N)      0.28      0.20      0.39 \n",
      "Odds ratio                   LR(+)/LR(-)     95.78     61.15    150.01 \n",
      "Positive predictive value        Pr(A|+)      2.1%      1.7%      2.7% \n",
      "Negative predictive value        Pr(N|-)    100.0%    100.0%    100.0% \n",
      "---------------------------------------------------------------------------\n"
     ]
    }
   ],
   "source": [
    "diagt diag test if agecat==16"
   ]
  },
  {
   "cell_type": "markdown",
   "id": "999f9154-f87e-44c7-8928-1345fa5c5958",
   "metadata": {},
   "source": [
    "*30-69*"
   ]
  },
  {
   "cell_type": "code",
   "execution_count": 11,
   "id": "6fcb0167-b359-4f24-91e3-a10fb2caa610",
   "metadata": {},
   "outputs": [
    {
     "name": "stdout",
     "output_type": "stream",
     "text": [
      "\n",
      "           |         test\n",
      "      diag |      Pos.       Neg. |     Total\n",
      "-----------+----------------------+----------\n",
      "  Abnormal |     2,022        383 |     2,405 \n",
      "    Normal |    12,435    206,555 |   218,990 \n",
      "-----------+----------------------+----------\n",
      "     Total |    14,457    206,938 |   221,395 \n",
      "True abnormal diagnosis defined as diag = 1\n",
      "\n",
      "\n",
      "                                                  [95% Confidence Interval]\n",
      "---------------------------------------------------------------------------\n",
      "Prevalence                         Pr(A)      1.1%      1.0%       1.1%\n",
      "---------------------------------------------------------------------------\n",
      "Sensitivity                      Pr(+|A)     84.1%     82.6%     85.5%\n",
      "Specificity                      Pr(-|N)     94.3%     94.2%     94.4%\n",
      "ROC area               (Sens. + Spec.)/2      0.89      0.88      0.90 \n",
      "---------------------------------------------------------------------------\n",
      "Likelihood ratio (+)     Pr(+|A)/Pr(+|N)     14.81     14.45     15.17 \n",
      "Likelihood ratio (-)     Pr(-|A)/Pr(-|N)      0.17      0.15      0.19 \n",
      "Odds ratio                   LR(+)/LR(-)     87.69     78.51     97.96 \n",
      "Positive predictive value        Pr(A|+)     14.0%     13.4%     14.6% \n",
      "Negative predictive value        Pr(N|-)     99.8%     99.8%     99.8% \n",
      "---------------------------------------------------------------------------\n"
     ]
    }
   ],
   "source": [
    "diagt diag test if agecat==30"
   ]
  },
  {
   "cell_type": "markdown",
   "id": "10d9753a",
   "metadata": {},
   "source": [
    "*>69*"
   ]
  },
  {
   "cell_type": "code",
   "execution_count": 12,
   "id": "fd782079-4378-4cc3-9a2c-4adb92379d41",
   "metadata": {},
   "outputs": [
    {
     "name": "stdout",
     "output_type": "stream",
     "text": [
      "\n",
      "           |         test\n",
      "      diag |      Pos.       Neg. |     Total\n",
      "-----------+----------------------+----------\n",
      "  Abnormal |     3,842        394 |     4,236 \n",
      "    Normal |    19,834     61,861 |    81,695 \n",
      "-----------+----------------------+----------\n",
      "     Total |    23,676     62,255 |    85,931 \n",
      "True abnormal diagnosis defined as diag = 1\n",
      "\n",
      "\n",
      "                                                  [95% Confidence Interval]\n",
      "---------------------------------------------------------------------------\n",
      "Prevalence                         Pr(A)      4.9%      4.8%       5.1%\n",
      "---------------------------------------------------------------------------\n",
      "Sensitivity                      Pr(+|A)     90.7%     89.8%     91.6%\n",
      "Specificity                      Pr(-|N)     75.7%     75.4%     76.0%\n",
      "ROC area               (Sens. + Spec.)/2      0.83      0.83      0.84 \n",
      "---------------------------------------------------------------------------\n",
      "Likelihood ratio (+)     Pr(+|A)/Pr(+|N)      3.74      3.68      3.79 \n",
      "Likelihood ratio (-)     Pr(-|A)/Pr(-|N)      0.12      0.11      0.13 \n",
      "Odds ratio                   LR(+)/LR(-)     30.41     27.39     33.78 \n",
      "Positive predictive value        Pr(A|+)     16.2%     15.8%     16.7% \n",
      "Negative predictive value        Pr(N|-)     99.4%     99.3%     99.4% \n",
      "---------------------------------------------------------------------------\n"
     ]
    }
   ],
   "source": [
    "diagt diag test if agecat==70"
   ]
  },
  {
   "cell_type": "markdown",
   "id": "23455479-0f98-4886-a36c-770376084911",
   "metadata": {},
   "source": [
    "#### Year at start of oberservation period \n",
    "*2004-2009*"
   ]
  },
  {
   "cell_type": "code",
   "execution_count": 13,
   "id": "9c58ecee-bd42-47a9-ad46-f51305e689bf",
   "metadata": {},
   "outputs": [
    {
     "name": "stdout",
     "output_type": "stream",
     "text": [
      "\n",
      "           |         test\n",
      "      diag |      Pos.       Neg. |     Total\n",
      "-----------+----------------------+----------\n",
      "  Abnormal |     2,392        241 |     2,633 \n",
      "    Normal |     9,738    137,629 |   147,367 \n",
      "-----------+----------------------+----------\n",
      "     Total |    12,130    137,870 |   150,000 \n",
      "True abnormal diagnosis defined as diag = 1\n",
      "\n",
      "\n",
      "                                                  [95% Confidence Interval]\n",
      "---------------------------------------------------------------------------\n",
      "Prevalence                         Pr(A)      1.8%      1.7%       1.8%\n",
      "---------------------------------------------------------------------------\n",
      "Sensitivity                      Pr(+|A)     90.8%     89.7%     91.9%\n",
      "Specificity                      Pr(-|N)     93.4%     93.3%     93.5%\n",
      "ROC area               (Sens. + Spec.)/2      0.92      0.92      0.93 \n",
      "---------------------------------------------------------------------------\n",
      "Likelihood ratio (+)     Pr(+|A)/Pr(+|N)     13.75     13.44     14.06 \n",
      "Likelihood ratio (-)     Pr(-|A)/Pr(-|N)      0.10      0.09      0.11 \n",
      "Odds ratio                   LR(+)/LR(-)    140.28    122.69    160.38 \n",
      "Positive predictive value        Pr(A|+)     19.7%     19.0%     20.4% \n",
      "Negative predictive value        Pr(N|-)     99.8%     99.8%     99.8% \n",
      "---------------------------------------------------------------------------\n"
     ]
    }
   ],
   "source": [
    "diagt diag test if yearcat==2004"
   ]
  },
  {
   "cell_type": "markdown",
   "id": "d9f3db50-6898-4b47-81ef-4ea609bb28d8",
   "metadata": {},
   "source": [
    "*2010-2015*"
   ]
  },
  {
   "cell_type": "code",
   "execution_count": 14,
   "id": "6b326410-d900-498f-b736-4ced1ea7fa5d",
   "metadata": {},
   "outputs": [
    {
     "name": "stdout",
     "output_type": "stream",
     "text": [
      "\n",
      "           |         test\n",
      "      diag |      Pos.       Neg. |     Total\n",
      "-----------+----------------------+----------\n",
      "  Abnormal |     2,012        265 |     2,277 \n",
      "    Normal |    13,339    134,384 |   147,723 \n",
      "-----------+----------------------+----------\n",
      "     Total |    15,351    134,649 |   150,000 \n",
      "True abnormal diagnosis defined as diag = 1\n",
      "\n",
      "\n",
      "                                                  [95% Confidence Interval]\n",
      "---------------------------------------------------------------------------\n",
      "Prevalence                         Pr(A)      1.5%      1.5%       1.6%\n",
      "---------------------------------------------------------------------------\n",
      "Sensitivity                      Pr(+|A)     88.4%     87.0%     89.7%\n",
      "Specificity                      Pr(-|N)     91.0%     90.8%     91.1%\n",
      "ROC area               (Sens. + Spec.)/2      0.90      0.89      0.90 \n",
      "---------------------------------------------------------------------------\n",
      "Likelihood ratio (+)     Pr(+|A)/Pr(+|N)      9.79      9.57     10.00 \n",
      "Likelihood ratio (-)     Pr(-|A)/Pr(-|N)      0.13      0.11      0.14 \n",
      "Odds ratio                   LR(+)/LR(-)     76.49     67.22     87.04 \n",
      "Positive predictive value        Pr(A|+)     13.1%     12.6%     13.7% \n",
      "Negative predictive value        Pr(N|-)     99.8%     99.8%     99.8% \n",
      "---------------------------------------------------------------------------\n"
     ]
    }
   ],
   "source": [
    "diagt diag test if yearcat==2010"
   ]
  },
  {
   "cell_type": "markdown",
   "id": "1546a4d9-adee-4208-88e0-3b6aa4d3d14c",
   "metadata": {},
   "source": [
    "*2016-2020*"
   ]
  },
  {
   "cell_type": "code",
   "execution_count": 15,
   "id": "dddfe5ba-1a16-4afc-91e5-cbffb4f25b77",
   "metadata": {},
   "outputs": [
    {
     "name": "stdout",
     "output_type": "stream",
     "text": [
      "\n",
      "           |         test\n",
      "      diag |      Pos.       Neg. |     Total\n",
      "-----------+----------------------+----------\n",
      "  Abnormal |     1,529        297 |     1,826 \n",
      "    Normal |    12,362    110,812 |   123,174 \n",
      "-----------+----------------------+----------\n",
      "     Total |    13,891    111,109 |   125,000 \n",
      "True abnormal diagnosis defined as diag = 1\n",
      "\n",
      "\n",
      "                                                  [95% Confidence Interval]\n",
      "---------------------------------------------------------------------------\n",
      "Prevalence                         Pr(A)      1.5%      1.4%       1.5%\n",
      "---------------------------------------------------------------------------\n",
      "Sensitivity                      Pr(+|A)     83.7%     82.0%     85.4%\n",
      "Specificity                      Pr(-|N)     90.0%     89.8%     90.1%\n",
      "ROC area               (Sens. + Spec.)/2      0.87      0.86      0.88 \n",
      "---------------------------------------------------------------------------\n",
      "Likelihood ratio (+)     Pr(+|A)/Pr(+|N)      8.34      8.13      8.57 \n",
      "Likelihood ratio (-)     Pr(-|A)/Pr(-|N)      0.18      0.16      0.20 \n",
      "Odds ratio                   LR(+)/LR(-)     46.15     40.70     52.32 \n",
      "Positive predictive value        Pr(A|+)     11.0%     10.5%     11.5% \n",
      "Negative predictive value        Pr(N|-)     99.7%     99.7%     99.8% \n",
      "---------------------------------------------------------------------------\n"
     ]
    }
   ],
   "source": [
    "diagt diag test if yearcat==2016"
   ]
  },
  {
   "cell_type": "markdown",
   "id": "9318e823-cf06-4695-a86c-8b96ace454c5",
   "metadata": {},
   "source": [
    "#### IMD of practice\n",
    "*1-3*"
   ]
  },
  {
   "cell_type": "code",
   "execution_count": 16,
   "id": "0c48ed3a-ce83-4c14-9447-6c52d4d82ed3",
   "metadata": {},
   "outputs": [
    {
     "name": "stdout",
     "output_type": "stream",
     "text": [
      "\n",
      "           |         test\n",
      "      diag |      Pos.       Neg. |     Total\n",
      "-----------+----------------------+----------\n",
      "  Abnormal |     1,868        246 |     2,114 \n",
      "    Normal |    14,597    137,840 |   152,437 \n",
      "-----------+----------------------+----------\n",
      "     Total |    16,465    138,086 |   154,551 \n",
      "True abnormal diagnosis defined as diag = 1\n",
      "\n",
      "\n",
      "                                                  [95% Confidence Interval]\n",
      "---------------------------------------------------------------------------\n",
      "Prevalence                         Pr(A)      1.4%      1.3%       1.4%\n",
      "---------------------------------------------------------------------------\n",
      "Sensitivity                      Pr(+|A)     88.4%     86.9%     89.7%\n",
      "Specificity                      Pr(-|N)     90.4%     90.3%     90.6%\n",
      "ROC area               (Sens. + Spec.)/2      0.89      0.89      0.90 \n",
      "---------------------------------------------------------------------------\n",
      "Likelihood ratio (+)     Pr(+|A)/Pr(+|N)      9.23      9.03      9.43 \n",
      "Likelihood ratio (-)     Pr(-|A)/Pr(-|N)      0.13      0.11      0.14 \n",
      "Odds ratio                   LR(+)/LR(-)     71.71     62.72     81.98 \n",
      "Positive predictive value        Pr(A|+)     11.3%     10.9%     11.8% \n",
      "Negative predictive value        Pr(N|-)     99.8%     99.8%     99.8% \n",
      "---------------------------------------------------------------------------\n"
     ]
    }
   ],
   "source": [
    "diagt diag test if imdcat==0"
   ]
  },
  {
   "cell_type": "markdown",
   "id": "cc20d8e3-26a9-4217-989b-54c2c73d0386",
   "metadata": {},
   "source": [
    "*4-7*"
   ]
  },
  {
   "cell_type": "code",
   "execution_count": 17,
   "id": "2f034372-ceb8-4f41-bd39-9d6ef321a64a",
   "metadata": {},
   "outputs": [
    {
     "name": "stdout",
     "output_type": "stream",
     "text": [
      "\n",
      "           |         test\n",
      "      diag |      Pos.       Neg. |     Total\n",
      "-----------+----------------------+----------\n",
      "  Abnormal |     2,308        301 |     2,609 \n",
      "    Normal |    11,568    128,868 |   140,436 \n",
      "-----------+----------------------+----------\n",
      "     Total |    13,876    129,169 |   143,045 \n",
      "True abnormal diagnosis defined as diag = 1\n",
      "\n",
      "\n",
      "                                                  [95% Confidence Interval]\n",
      "---------------------------------------------------------------------------\n",
      "Prevalence                         Pr(A)      1.8%      1.8%       1.9%\n",
      "---------------------------------------------------------------------------\n",
      "Sensitivity                      Pr(+|A)     88.5%     87.2%     89.7%\n",
      "Specificity                      Pr(-|N)     91.8%     91.6%     91.9%\n",
      "ROC area               (Sens. + Spec.)/2      0.90      0.89      0.91 \n",
      "---------------------------------------------------------------------------\n",
      "Likelihood ratio (+)     Pr(+|A)/Pr(+|N)     10.74     10.50     10.98 \n",
      "Likelihood ratio (-)     Pr(-|A)/Pr(-|N)      0.13      0.11      0.14 \n",
      "Odds ratio                   LR(+)/LR(-)     85.42     75.64     96.46 \n",
      "Positive predictive value        Pr(A|+)     16.6%     16.0%     17.3% \n",
      "Negative predictive value        Pr(N|-)     99.8%     99.7%     99.8% \n",
      "---------------------------------------------------------------------------\n"
     ]
    }
   ],
   "source": [
    "diagt diag test if imdcat==4"
   ]
  },
  {
   "cell_type": "markdown",
   "id": "a843bc14-ff1a-4435-a50c-c9769b8c3d3b",
   "metadata": {},
   "source": [
    "*8-10*"
   ]
  },
  {
   "cell_type": "code",
   "execution_count": 18,
   "id": "e52a500d-f3cf-4da6-997c-bbc1e902d199",
   "metadata": {},
   "outputs": [
    {
     "name": "stdout",
     "output_type": "stream",
     "text": [
      "\n",
      "           |         test\n",
      "      diag |      Pos.       Neg. |     Total\n",
      "-----------+----------------------+----------\n",
      "  Abnormal |     1,751        256 |     2,007 \n",
      "    Normal |     9,181    113,627 |   122,808 \n",
      "-----------+----------------------+----------\n",
      "     Total |    10,932    113,883 |   124,815 \n",
      "True abnormal diagnosis defined as diag = 1\n",
      "\n",
      "\n",
      "                                                  [95% Confidence Interval]\n",
      "---------------------------------------------------------------------------\n",
      "Prevalence                         Pr(A)      1.6%      1.5%       1.7%\n",
      "---------------------------------------------------------------------------\n",
      "Sensitivity                      Pr(+|A)     87.2%     85.7%     88.7%\n",
      "Specificity                      Pr(-|N)     92.5%     92.4%     92.7%\n",
      "ROC area               (Sens. + Spec.)/2      0.90      0.89      0.91 \n",
      "---------------------------------------------------------------------------\n",
      "Likelihood ratio (+)     Pr(+|A)/Pr(+|N)     11.67     11.37     11.98 \n",
      "Likelihood ratio (-)     Pr(-|A)/Pr(-|N)      0.14      0.12      0.15 \n",
      "Odds ratio                   LR(+)/LR(-)     84.65     74.13     96.67 \n",
      "Positive predictive value        Pr(A|+)     16.0%     15.3%     16.7% \n",
      "Negative predictive value        Pr(N|-)     99.8%     99.7%     99.8% \n",
      "---------------------------------------------------------------------------\n"
     ]
    }
   ],
   "source": [
    "diagt diag test if imdcat==8"
   ]
  },
  {
   "cell_type": "markdown",
   "id": "cbbde183-5b60-4618-a548-81135cae76a0",
   "metadata": {},
   "source": [
    "#### Commissioning Regions\n",
    "EAST OF ENGLAND"
   ]
  },
  {
   "cell_type": "code",
   "execution_count": 19,
   "id": "1254da50-3ca4-47a1-b4d8-e07c6d920177",
   "metadata": {},
   "outputs": [
    {
     "name": "stdout",
     "output_type": "stream",
     "text": [
      "\n",
      "           |         test\n",
      "      diag |      Pos.       Neg. |     Total\n",
      "-----------+----------------------+----------\n",
      "  Abnormal |     1,086        159 |     1,245 \n",
      "    Normal |     6,494     81,898 |    88,392 \n",
      "-----------+----------------------+----------\n",
      "     Total |     7,580     82,057 |    89,637 \n",
      "True abnormal diagnosis defined as diag = 1\n",
      "\n",
      "\n",
      "                                                  [95% Confidence Interval]\n",
      "---------------------------------------------------------------------------\n",
      "Prevalence                         Pr(A)      1.4%      1.3%       1.5%\n",
      "---------------------------------------------------------------------------\n",
      "Sensitivity                      Pr(+|A)     87.2%     85.2%     89.0%\n",
      "Specificity                      Pr(-|N)     92.7%     92.5%     92.8%\n",
      "ROC area               (Sens. + Spec.)/2      0.90      0.89      0.91 \n",
      "---------------------------------------------------------------------------\n",
      "Likelihood ratio (+)     Pr(+|A)/Pr(+|N)     11.87     11.50     12.25 \n",
      "Likelihood ratio (-)     Pr(-|A)/Pr(-|N)      0.14      0.12      0.16 \n",
      "Odds ratio                   LR(+)/LR(-)     86.14     72.81    101.91 \n",
      "Positive predictive value        Pr(A|+)     14.3%     13.5%     15.1% \n",
      "Negative predictive value        Pr(N|-)     99.8%     99.8%     99.8% \n",
      "---------------------------------------------------------------------------\n"
     ]
    }
   ],
   "source": [
    "diagt diag test if regexm(region_name,\"ENGLAND\")==1"
   ]
  },
  {
   "cell_type": "markdown",
   "id": "b2f2b2c7-4c3b-4ae5-ad03-8edfbc58938d",
   "metadata": {},
   "source": [
    "London"
   ]
  },
  {
   "cell_type": "code",
   "execution_count": 20,
   "id": "18195511-cedc-42b1-8bae-bc6621364814",
   "metadata": {},
   "outputs": [
    {
     "name": "stdout",
     "output_type": "stream",
     "text": [
      "\n",
      "           |         test\n",
      "      diag |      Pos.       Neg. |     Total\n",
      "-----------+----------------------+----------\n",
      "  Abnormal |       116         20 |       136 \n",
      "    Normal |     1,195     15,394 |    16,589 \n",
      "-----------+----------------------+----------\n",
      "     Total |     1,311     15,414 |    16,725 \n",
      "True abnormal diagnosis defined as diag = 1\n",
      "\n",
      "\n",
      "                                                  [95% Confidence Interval]\n",
      "---------------------------------------------------------------------------\n",
      "Prevalence                         Pr(A)      0.8%      0.7%       1.0%\n",
      "---------------------------------------------------------------------------\n",
      "Sensitivity                      Pr(+|A)     85.3%     78.2%     90.8%\n",
      "Specificity                      Pr(-|N)     92.8%     92.4%     93.2%\n",
      "ROC area               (Sens. + Spec.)/2      0.89      0.86      0.92 \n",
      "---------------------------------------------------------------------------\n",
      "Likelihood ratio (+)     Pr(+|A)/Pr(+|N)     11.84     10.84     12.94 \n",
      "Likelihood ratio (-)     Pr(-|A)/Pr(-|N)      0.16      0.11      0.24 \n",
      "Odds ratio                   LR(+)/LR(-)     74.72     46.52    120.00 \n",
      "Positive predictive value        Pr(A|+)      8.8%      7.4%     10.5% \n",
      "Negative predictive value        Pr(N|-)     99.9%     99.8%     99.9% \n",
      "---------------------------------------------------------------------------\n"
     ]
    }
   ],
   "source": [
    "diagt diag test if regexm(region_name,\"LONDON\")==1"
   ]
  },
  {
   "cell_type": "markdown",
   "id": "1a78f370-7ebd-4e70-b301-73c6e75003fd",
   "metadata": {},
   "source": [
    "Midlands"
   ]
  },
  {
   "cell_type": "code",
   "execution_count": 21,
   "id": "265ce394-6410-4e76-a064-ec3d32c30eee",
   "metadata": {},
   "outputs": [
    {
     "name": "stdout",
     "output_type": "stream",
     "text": [
      "\n",
      "           |         test\n",
      "      diag |      Pos.       Neg. |     Total\n",
      "-----------+----------------------+----------\n",
      "  Abnormal |       717        113 |       830 \n",
      "    Normal |     4,047     41,666 |    45,713 \n",
      "-----------+----------------------+----------\n",
      "     Total |     4,764     41,779 |    46,543 \n",
      "True abnormal diagnosis defined as diag = 1\n",
      "\n",
      "\n",
      "                                                  [95% Confidence Interval]\n",
      "---------------------------------------------------------------------------\n",
      "Prevalence                         Pr(A)      1.8%      1.7%       1.9%\n",
      "---------------------------------------------------------------------------\n",
      "Sensitivity                      Pr(+|A)     86.4%     83.9%     88.6%\n",
      "Specificity                      Pr(-|N)     91.1%     90.9%     91.4%\n",
      "ROC area               (Sens. + Spec.)/2      0.89      0.88      0.90 \n",
      "---------------------------------------------------------------------------\n",
      "Likelihood ratio (+)     Pr(+|A)/Pr(+|N)      9.76      9.38     10.16 \n",
      "Likelihood ratio (-)     Pr(-|A)/Pr(-|N)      0.15      0.13      0.18 \n",
      "Odds ratio                   LR(+)/LR(-)     65.33     53.45     79.84 \n",
      "Positive predictive value        Pr(A|+)     15.1%     14.0%     16.1% \n",
      "Negative predictive value        Pr(N|-)     99.7%     99.7%     99.8% \n",
      "---------------------------------------------------------------------------\n"
     ]
    }
   ],
   "source": [
    "diagt diag test if regexm(region_name,\"MID\")==1"
   ]
  },
  {
   "cell_type": "markdown",
   "id": "0769a779-b7ae-4496-9ed2-a6feb1a1a94a",
   "metadata": {},
   "source": [
    "Yorkshire"
   ]
  },
  {
   "cell_type": "code",
   "execution_count": 22,
   "id": "83d73532-38e7-4fb2-a39b-5c1ef1b5b717",
   "metadata": {},
   "outputs": [
    {
     "name": "stdout",
     "output_type": "stream",
     "text": [
      "\n",
      "           |         test\n",
      "      diag |      Pos.       Neg. |     Total\n",
      "-----------+----------------------+----------\n",
      "  Abnormal |     1,277        168 |     1,445 \n",
      "    Normal |     9,202     75,464 |    84,666 \n",
      "-----------+----------------------+----------\n",
      "     Total |    10,479     75,632 |    86,111 \n",
      "True abnormal diagnosis defined as diag = 1\n",
      "\n",
      "\n",
      "                                                  [95% Confidence Interval]\n",
      "---------------------------------------------------------------------------\n",
      "Prevalence                         Pr(A)      1.7%      1.6%       1.8%\n",
      "---------------------------------------------------------------------------\n",
      "Sensitivity                      Pr(+|A)     88.4%     86.6%     90.0%\n",
      "Specificity                      Pr(-|N)     89.1%     88.9%     89.3%\n",
      "ROC area               (Sens. + Spec.)/2      0.89      0.88      0.90 \n",
      "---------------------------------------------------------------------------\n",
      "Likelihood ratio (+)     Pr(+|A)/Pr(+|N)      8.13      7.92      8.35 \n",
      "Likelihood ratio (-)     Pr(-|A)/Pr(-|N)      0.13      0.11      0.15 \n",
      "Odds ratio                   LR(+)/LR(-)     62.34     53.01     73.31 \n",
      "Positive predictive value        Pr(A|+)     12.2%     11.6%     12.8% \n",
      "Negative predictive value        Pr(N|-)     99.8%     99.7%     99.8% \n",
      "---------------------------------------------------------------------------\n"
     ]
    }
   ],
   "source": [
    "diagt diag test if regexm(region_name,\"YORK\")==1"
   ]
  },
  {
   "cell_type": "markdown",
   "id": "247339ad-15c3-4ac2-9458-c8b14082ff8c",
   "metadata": {},
   "source": [
    "North West"
   ]
  },
  {
   "cell_type": "code",
   "execution_count": 23,
   "id": "f9ddd2b2-2aa8-49c0-8d9b-ac27a3db55be",
   "metadata": {},
   "outputs": [
    {
     "name": "stdout",
     "output_type": "stream",
     "text": [
      "\n",
      "           |         test\n",
      "      diag |      Pos.       Neg. |     Total\n",
      "-----------+----------------------+----------\n",
      "  Abnormal |       617         66 |       683 \n",
      "    Normal |     3,927     42,983 |    46,910 \n",
      "-----------+----------------------+----------\n",
      "     Total |     4,544     43,049 |    47,593 \n",
      "True abnormal diagnosis defined as diag = 1\n",
      "\n",
      "\n",
      "                                                  [95% Confidence Interval]\n",
      "---------------------------------------------------------------------------\n",
      "Prevalence                         Pr(A)      1.4%      1.3%       1.5%\n",
      "---------------------------------------------------------------------------\n",
      "Sensitivity                      Pr(+|A)     90.3%     87.9%     92.4%\n",
      "Specificity                      Pr(-|N)     91.6%     91.4%     91.9%\n",
      "ROC area               (Sens. + Spec.)/2      0.91      0.90      0.92 \n",
      "---------------------------------------------------------------------------\n",
      "Likelihood ratio (+)     Pr(+|A)/Pr(+|N)     10.79     10.38     11.22 \n",
      "Likelihood ratio (-)     Pr(-|A)/Pr(-|N)      0.11      0.08      0.13 \n",
      "Odds ratio                   LR(+)/LR(-)    102.32     79.27    132.08 \n",
      "Positive predictive value        Pr(A|+)     13.6%     12.6%     14.6% \n",
      "Negative predictive value        Pr(N|-)     99.8%     99.8%     99.9% \n",
      "---------------------------------------------------------------------------\n"
     ]
    }
   ],
   "source": [
    "diagt diag test if regexm(region_name,\"NORTH\")==1 & regexm(region_name,\"WEST\")==1"
   ]
  },
  {
   "cell_type": "markdown",
   "id": "cac4bda2-216c-4294-ab6d-5338aa93d23c",
   "metadata": {},
   "source": [
    "South East"
   ]
  },
  {
   "cell_type": "code",
   "execution_count": 24,
   "id": "883a5bf4-de79-4ba9-9bb2-95f85e3bccb3",
   "metadata": {},
   "outputs": [
    {
     "name": "stdout",
     "output_type": "stream",
     "text": [
      "\n",
      "           |         test\n",
      "      diag |      Pos.       Neg. |     Total\n",
      "-----------+----------------------+----------\n",
      "  Abnormal |     1,373        172 |     1,545 \n",
      "    Normal |     6,604     82,336 |    88,940 \n",
      "-----------+----------------------+----------\n",
      "     Total |     7,977     82,508 |    90,485 \n",
      "True abnormal diagnosis defined as diag = 1\n",
      "\n",
      "\n",
      "                                                  [95% Confidence Interval]\n",
      "---------------------------------------------------------------------------\n",
      "Prevalence                         Pr(A)      1.7%      1.6%       1.8%\n",
      "---------------------------------------------------------------------------\n",
      "Sensitivity                      Pr(+|A)     88.9%     87.2%     90.4%\n",
      "Specificity                      Pr(-|N)     92.6%     92.4%     92.7%\n",
      "ROC area               (Sens. + Spec.)/2      0.91      0.90      0.92 \n",
      "---------------------------------------------------------------------------\n",
      "Likelihood ratio (+)     Pr(+|A)/Pr(+|N)     11.97     11.62     12.32 \n",
      "Likelihood ratio (-)     Pr(-|A)/Pr(-|N)      0.12      0.10      0.14 \n",
      "Odds ratio                   LR(+)/LR(-)     99.52     84.78    116.83 \n",
      "Positive predictive value        Pr(A|+)     17.2%     16.4%     18.1% \n",
      "Negative predictive value        Pr(N|-)     99.8%     99.8%     99.8% \n",
      "---------------------------------------------------------------------------\n"
     ]
    }
   ],
   "source": [
    "diagt diag test if regexm(region_name,\"SOUTH\")==1 & regexm(region_name,\"EAST\")==1"
   ]
  },
  {
   "cell_type": "markdown",
   "id": "c31c4086-ecd2-43b5-a175-a49e64a0593a",
   "metadata": {},
   "source": [
    "South West"
   ]
  },
  {
   "cell_type": "code",
   "execution_count": 25,
   "id": "db24609a-c78c-4959-8f77-be636e5b8a66",
   "metadata": {},
   "outputs": [
    {
     "name": "stdout",
     "output_type": "stream",
     "text": [
      "\n",
      "           |         test\n",
      "      diag |      Pos.       Neg. |     Total\n",
      "-----------+----------------------+----------\n",
      "  Abnormal |       617         86 |       703 \n",
      "    Normal |     3,314     32,159 |    35,473 \n",
      "-----------+----------------------+----------\n",
      "     Total |     3,931     32,245 |    36,176 \n",
      "True abnormal diagnosis defined as diag = 1\n",
      "\n",
      "\n",
      "                                                  [95% Confidence Interval]\n",
      "---------------------------------------------------------------------------\n",
      "Prevalence                         Pr(A)      1.9%      1.8%       2.1%\n",
      "---------------------------------------------------------------------------\n",
      "Sensitivity                      Pr(+|A)     87.8%     85.1%     90.1%\n",
      "Specificity                      Pr(-|N)     90.7%     90.4%     91.0%\n",
      "ROC area               (Sens. + Spec.)/2      0.89      0.88      0.90 \n",
      "---------------------------------------------------------------------------\n",
      "Likelihood ratio (+)     Pr(+|A)/Pr(+|N)      9.39      9.00      9.80 \n",
      "Likelihood ratio (-)     Pr(-|A)/Pr(-|N)      0.13      0.11      0.16 \n",
      "Odds ratio                   LR(+)/LR(-)     69.62     55.43     87.44 \n",
      "Positive predictive value        Pr(A|+)     15.7%     14.6%     16.9% \n",
      "Negative predictive value        Pr(N|-)     99.7%     99.7%     99.8% \n",
      "---------------------------------------------------------------------------\n"
     ]
    }
   ],
   "source": [
    "diagt diag test if regexm(region_name,\"SOUTH\")==1 & regexm(region_name,\"WEST\")==1"
   ]
  },
  {
   "cell_type": "markdown",
   "id": "cf33efae-dc21-4b1a-b169-9eaea69c1161",
   "metadata": {},
   "source": [
    "#### System\n",
    "SystmOne"
   ]
  },
  {
   "cell_type": "code",
   "execution_count": 26,
   "id": "26573dfb-79dc-4647-88a6-e19dac9eca61",
   "metadata": {},
   "outputs": [
    {
     "name": "stdout",
     "output_type": "stream",
     "text": [
      "\n",
      "           |         test\n",
      "      diag |      Pos.       Neg. |     Total\n",
      "-----------+----------------------+----------\n",
      "  Abnormal |     3,104        435 |     3,539 \n",
      "    Normal |    20,991    204,225 |   225,216 \n",
      "-----------+----------------------+----------\n",
      "     Total |    24,095    204,660 |   228,755 \n",
      "True abnormal diagnosis defined as diag = 1\n",
      "\n",
      "\n",
      "                                                  [95% Confidence Interval]\n",
      "---------------------------------------------------------------------------\n",
      "Prevalence                         Pr(A)      1.5%      1.5%       1.6%\n",
      "---------------------------------------------------------------------------\n",
      "Sensitivity                      Pr(+|A)     87.7%     86.6%     88.8%\n",
      "Specificity                      Pr(-|N)     90.7%     90.6%     90.8%\n",
      "ROC area               (Sens. + Spec.)/2      0.89      0.89      0.90 \n",
      "---------------------------------------------------------------------------\n",
      "Likelihood ratio (+)     Pr(+|A)/Pr(+|N)      9.41      9.24      9.58 \n",
      "Likelihood ratio (-)     Pr(-|A)/Pr(-|N)      0.14      0.12      0.15 \n",
      "Odds ratio                   LR(+)/LR(-)     69.42     62.74     76.82 \n",
      "Positive predictive value        Pr(A|+)     12.9%     12.5%     13.3% \n",
      "Negative predictive value        Pr(N|-)     99.8%     99.8%     99.8% \n",
      "---------------------------------------------------------------------------\n"
     ]
    }
   ],
   "source": [
    "diagt diag test if regexm(system,\"One\")==1"
   ]
  },
  {
   "cell_type": "markdown",
   "id": "b561f033-d2f3-4c95-ad3f-03b8c65647ea",
   "metadata": {},
   "source": [
    "Vision"
   ]
  },
  {
   "cell_type": "code",
   "execution_count": 27,
   "id": "6bed6f81-5fd6-418e-94ff-96d2de419d3d",
   "metadata": {},
   "outputs": [
    {
     "name": "stdout",
     "output_type": "stream",
     "text": [
      "\n",
      "           |         test\n",
      "      diag |      Pos.       Neg. |     Total\n",
      "-----------+----------------------+----------\n",
      "  Abnormal |       158         23 |       181 \n",
      "    Normal |       840     12,723 |    13,563 \n",
      "-----------+----------------------+----------\n",
      "     Total |       998     12,746 |    13,744 \n",
      "True abnormal diagnosis defined as diag = 1\n",
      "\n",
      "\n",
      "                                                  [95% Confidence Interval]\n",
      "---------------------------------------------------------------------------\n",
      "Prevalence                         Pr(A)      1.3%      1.1%       1.5%\n",
      "---------------------------------------------------------------------------\n",
      "Sensitivity                      Pr(+|A)     87.3%     81.5%     91.8%\n",
      "Specificity                      Pr(-|N)     93.8%     93.4%     94.2%\n",
      "ROC area               (Sens. + Spec.)/2      0.91      0.88      0.93 \n",
      "---------------------------------------------------------------------------\n",
      "Likelihood ratio (+)     Pr(+|A)/Pr(+|N)     14.09     12.93     15.36 \n",
      "Likelihood ratio (-)     Pr(-|A)/Pr(-|N)      0.14      0.09      0.20 \n",
      "Odds ratio                   LR(+)/LR(-)    104.05     67.04    161.48 \n",
      "Positive predictive value        Pr(A|+)     15.8%     13.6%     18.2% \n",
      "Negative predictive value        Pr(N|-)     99.8%     99.7%     99.9% \n",
      "---------------------------------------------------------------------------\n"
     ]
    }
   ],
   "source": [
    "diagt diag test if regexm(system,\"Vision\")==1"
   ]
  },
  {
   "cell_type": "markdown",
   "id": "65d9cefb-fbb5-4500-8ed3-52074d4e12ad",
   "metadata": {},
   "source": [
    "EMIS"
   ]
  },
  {
   "cell_type": "code",
   "execution_count": 28,
   "id": "18d50bfe-f5c4-4ecb-b822-0d06e3b29224",
   "metadata": {},
   "outputs": [
    {
     "name": "stdout",
     "output_type": "stream",
     "text": [
      "\n",
      "           |         test\n",
      "      diag |      Pos.       Neg. |     Total\n",
      "-----------+----------------------+----------\n",
      "  Abnormal |     2,670        345 |     3,015 \n",
      "    Normal |    13,593    165,757 |   179,350 \n",
      "-----------+----------------------+----------\n",
      "     Total |    16,263    166,102 |   182,365 \n",
      "True abnormal diagnosis defined as diag = 1\n",
      "\n",
      "\n",
      "                                                  [95% Confidence Interval]\n",
      "---------------------------------------------------------------------------\n",
      "Prevalence                         Pr(A)      1.7%      1.6%       1.7%\n",
      "---------------------------------------------------------------------------\n",
      "Sensitivity                      Pr(+|A)     88.6%     87.4%     89.7%\n",
      "Specificity                      Pr(-|N)     92.4%     92.3%     92.5%\n",
      "ROC area               (Sens. + Spec.)/2      0.90      0.90      0.91 \n",
      "---------------------------------------------------------------------------\n",
      "Likelihood ratio (+)     Pr(+|A)/Pr(+|N)     11.68     11.45     11.93 \n",
      "Likelihood ratio (-)     Pr(-|A)/Pr(-|N)      0.12      0.11      0.14 \n",
      "Odds ratio                   LR(+)/LR(-)     94.37     84.25    105.71 \n",
      "Positive predictive value        Pr(A|+)     16.4%     15.9%     17.0% \n",
      "Negative predictive value        Pr(N|-)     99.8%     99.8%     99.8% \n",
      "---------------------------------------------------------------------------\n"
     ]
    }
   ],
   "source": [
    "diagt diag test if regexm(ustrupper(system),\"EMIS\")==1"
   ]
  },
  {
   "cell_type": "code",
   "execution_count": null,
   "id": "654b6659-0a73-4736-bc15-7bf926554432",
   "metadata": {},
   "outputs": [],
   "source": []
  },
  {
   "cell_type": "markdown",
   "id": "5cc0b78d-d049-4645-a6f4-e02b49b379db",
   "metadata": {},
   "source": [
    "#### RA_Index\n",
    "Index==1"
   ]
  },
  {
   "cell_type": "code",
   "execution_count": 29,
   "id": "9fa490cd-9380-44bc-8218-9f2193f09aee",
   "metadata": {},
   "outputs": [
    {
     "name": "stdout",
     "output_type": "stream",
     "text": [
      "\n",
      "           |         test\n",
      "      diag |      Pos.       Neg. |     Total\n",
      "-----------+----------------------+----------\n",
      "  Abnormal |     4,658        617 |     5,275 \n",
      "    Normal |    27,533    288,889 |   316,422 \n",
      "-----------+----------------------+----------\n",
      "     Total |    32,191    289,506 |   321,697 \n",
      "True abnormal diagnosis defined as diag = 1\n",
      "\n",
      "\n",
      "                                                  [95% Confidence Interval]\n",
      "---------------------------------------------------------------------------\n",
      "Prevalence                         Pr(A)      1.6%      1.6%       1.7%\n",
      "---------------------------------------------------------------------------\n",
      "Sensitivity                      Pr(+|A)     88.3%     87.4%     89.2%\n",
      "Specificity                      Pr(-|N)     91.3%     91.2%     91.4%\n",
      "ROC area               (Sens. + Spec.)/2      0.90      0.89      0.90 \n",
      "---------------------------------------------------------------------------\n",
      "Likelihood ratio (+)     Pr(+|A)/Pr(+|N)     10.15     10.00     10.30 \n",
      "Likelihood ratio (-)     Pr(-|A)/Pr(-|N)      0.13      0.12      0.14 \n",
      "Odds ratio                   LR(+)/LR(-)     79.21     72.77     86.23 \n",
      "Positive predictive value        Pr(A|+)     14.5%     14.1%     14.9% \n",
      "Negative predictive value        Pr(N|-)     99.8%     99.8%     99.8% \n",
      "---------------------------------------------------------------------------\n"
     ]
    }
   ],
   "source": [
    "diagt diag test if RA_index==1"
   ]
  },
  {
   "cell_type": "markdown",
   "id": "7d253ba5-4281-405c-bd8c-511a00a55bf6",
   "metadata": {},
   "source": [
    "Index==0"
   ]
  },
  {
   "cell_type": "code",
   "execution_count": 30,
   "id": "f50f1be6-d1fd-4b54-8cc8-be66d3b7312b",
   "metadata": {},
   "outputs": [
    {
     "name": "stdout",
     "output_type": "stream",
     "text": [
      "\n",
      "           |         test\n",
      "      diag |      Pos.       Neg. |     Total\n",
      "-----------+----------------------+----------\n",
      "  Abnormal |     1,275        186 |     1,461 \n",
      "    Normal |     7,906     93,936 |   101,842 \n",
      "-----------+----------------------+----------\n",
      "     Total |     9,181     94,122 |   103,303 \n",
      "True abnormal diagnosis defined as diag = 1\n",
      "\n",
      "\n",
      "                                                  [95% Confidence Interval]\n",
      "---------------------------------------------------------------------------\n",
      "Prevalence                         Pr(A)      1.4%      1.3%       1.5%\n",
      "---------------------------------------------------------------------------\n",
      "Sensitivity                      Pr(+|A)     87.3%     85.5%     88.9%\n",
      "Specificity                      Pr(-|N)     92.2%     92.1%     92.4%\n",
      "ROC area               (Sens. + Spec.)/2      0.90      0.89      0.91 \n",
      "---------------------------------------------------------------------------\n",
      "Likelihood ratio (+)     Pr(+|A)/Pr(+|N)     11.24     10.92     11.57 \n",
      "Likelihood ratio (-)     Pr(-|A)/Pr(-|N)      0.14      0.12      0.16 \n",
      "Odds ratio                   LR(+)/LR(-)     81.45     69.72     95.14 \n",
      "Positive predictive value        Pr(A|+)     13.9%     13.2%     14.6% \n",
      "Negative predictive value        Pr(N|-)     99.8%     99.8%     99.8% \n",
      "---------------------------------------------------------------------------\n"
     ]
    }
   ],
   "source": [
    "diagt diag test if RA_index==0"
   ]
  },
  {
   "cell_type": "markdown",
   "id": "72956d72",
   "metadata": {},
   "source": [
    "#### Ethnicity\n",
    "Ethnicity==0000white"
   ]
  },
  {
   "cell_type": "code",
   "execution_count": 31,
   "id": "b35bf6ab",
   "metadata": {},
   "outputs": [
    {
     "name": "stdout",
     "output_type": "stream",
     "text": [
      "\n",
      "           |         test\n",
      "      diag |      Pos.       Neg. |     Total\n",
      "-----------+----------------------+----------\n",
      "  Abnormal |     4,259        615 |     4,874 \n",
      "    Normal |    23,002    230,105 |   253,107 \n",
      "-----------+----------------------+----------\n",
      "     Total |    27,261    230,720 |   257,981 \n",
      "True abnormal diagnosis defined as diag = 1\n",
      "\n",
      "\n",
      "                                                  [95% Confidence Interval]\n",
      "---------------------------------------------------------------------------\n",
      "Prevalence                         Pr(A)      1.9%      1.8%       1.9%\n",
      "---------------------------------------------------------------------------\n",
      "Sensitivity                      Pr(+|A)     87.4%     86.4%     88.3%\n",
      "Specificity                      Pr(-|N)     90.9%     90.8%     91.0%\n",
      "ROC area               (Sens. + Spec.)/2      0.89      0.89      0.90 \n",
      "---------------------------------------------------------------------------\n",
      "Likelihood ratio (+)     Pr(+|A)/Pr(+|N)      9.62      9.46      9.77 \n",
      "Likelihood ratio (-)     Pr(-|A)/Pr(-|N)      0.14      0.13      0.15 \n",
      "Odds ratio                   LR(+)/LR(-)     69.28     63.59     75.47 \n",
      "Positive predictive value        Pr(A|+)     15.6%     15.2%     16.1% \n",
      "Negative predictive value        Pr(N|-)     99.7%     99.7%     99.8% \n",
      "---------------------------------------------------------------------------\n"
     ]
    }
   ],
   "source": [
    "diagt diag test if ethnicity==\"0white\""
   ]
  },
  {
   "cell_type": "code",
   "execution_count": 32,
   "id": "10050fbc",
   "metadata": {},
   "outputs": [
    {
     "name": "stdout",
     "output_type": "stream",
     "text": [
      "\n",
      "           |         test\n",
      "      diag |      Pos.       Neg. |     Total\n",
      "-----------+----------------------+----------\n",
      "  Abnormal |       265         25 |       290 \n",
      "    Normal |     5,420     38,158 |    43,578 \n",
      "-----------+----------------------+----------\n",
      "     Total |     5,685     38,183 |    43,868 \n",
      "True abnormal diagnosis defined as diag = 1\n",
      "\n",
      "\n",
      "                                                  [95% Confidence Interval]\n",
      "---------------------------------------------------------------------------\n",
      "Prevalence                         Pr(A)      0.7%      0.6%       0.7%\n",
      "---------------------------------------------------------------------------\n",
      "Sensitivity                      Pr(+|A)     91.4%     87.5%     94.3%\n",
      "Specificity                      Pr(-|N)     87.6%     87.2%     87.9%\n",
      "ROC area               (Sens. + Spec.)/2      0.89      0.88      0.91 \n",
      "---------------------------------------------------------------------------\n",
      "Likelihood ratio (+)     Pr(+|A)/Pr(+|N)      7.35      7.04      7.67 \n",
      "Likelihood ratio (-)     Pr(-|A)/Pr(-|N)      0.10      0.07      0.14 \n",
      "Odds ratio                   LR(+)/LR(-)     74.63     49.61    112.25 \n",
      "Positive predictive value        Pr(A|+)      4.7%      4.1%      5.2% \n",
      "Negative predictive value        Pr(N|-)     99.9%     99.9%    100.0% \n",
      "---------------------------------------------------------------------------\n"
     ]
    }
   ],
   "source": [
    "diagt diag test if ethnicity==\"Other\""
   ]
  },
  {
   "cell_type": "code",
   "execution_count": 33,
   "id": "a9b0ba23",
   "metadata": {},
   "outputs": [
    {
     "name": "stdout",
     "output_type": "stream",
     "text": [
      "\n",
      "           |         test\n",
      "      diag |      Pos.       Neg. |     Total\n",
      "-----------+----------------------+----------\n",
      "  Abnormal |     1,409        163 |     1,572 \n",
      "    Normal |     7,017    114,562 |   121,579 \n",
      "-----------+----------------------+----------\n",
      "     Total |     8,426    114,725 |   123,151 \n",
      "True abnormal diagnosis defined as diag = 1\n",
      "\n",
      "\n",
      "                                                  [95% Confidence Interval]\n",
      "---------------------------------------------------------------------------\n",
      "Prevalence                         Pr(A)      1.3%      1.2%       1.3%\n",
      "---------------------------------------------------------------------------\n",
      "Sensitivity                      Pr(+|A)     89.6%     88.0%     91.1%\n",
      "Specificity                      Pr(-|N)     94.2%     94.1%     94.4%\n",
      "ROC area               (Sens. + Spec.)/2      0.92      0.91      0.93 \n",
      "---------------------------------------------------------------------------\n",
      "Likelihood ratio (+)     Pr(+|A)/Pr(+|N)     15.53     15.10     15.97 \n",
      "Likelihood ratio (-)     Pr(-|A)/Pr(-|N)      0.11      0.10      0.13 \n",
      "Odds ratio                   LR(+)/LR(-)    141.13    119.81    166.24 \n",
      "Positive predictive value        Pr(A|+)     16.7%     15.9%     17.5% \n",
      "Negative predictive value        Pr(N|-)     99.9%     99.8%     99.9% \n",
      "---------------------------------------------------------------------------\n"
     ]
    }
   ],
   "source": [
    "diagt diag test if ethnicity==\"Missing\""
   ]
  },
  {
   "cell_type": "code",
   "execution_count": 34,
   "id": "0c6b3359-4cc6-4eb5-a15f-ed1be0b97aa0",
   "metadata": {},
   "outputs": [],
   "source": [
    "tempname memhold\n",
    "postfile `memhold' str20 var prev sens spec ppv npv roc using \"validity.dta\",replace\n",
    "\n",
    "quietly diagt diag test\n",
    "local prev=r(prev)\n",
    "local sens=r(sens)\n",
    "local spec=r(spec)\n",
    "local ppv=r(ppv)\n",
    "local npv=r(npv)\n",
    "local roc=r(roc)\n",
    "post `memhold' (\"all\") (`prev') (`sens') (`spec') (`ppv') (`npv') (`roc') \n",
    "\n",
    "quietly diagt diag test if sex==1\n",
    "local prev=r(prev)\n",
    "local sens=r(sens)\n",
    "local spec=r(spec)\n",
    "local ppv=r(ppv)\n",
    "local npv=r(npv)\n",
    "local roc=r(roc)\n",
    "post `memhold' (\"Male\") (`prev') (`sens') (`spec') (`ppv') (`npv') (`roc') \n",
    "\n",
    "quietly diagt diag test if sex==0\n",
    "local prev=r(prev)\n",
    "local sens=r(sens)\n",
    "local spec=r(spec)\n",
    "local ppv=r(ppv)\n",
    "local npv=r(npv)\n",
    "local roc=r(roc)\n",
    "post `memhold' (\"Female\") (`prev') (`sens') (`spec') (`ppv') (`npv') (`roc') \n",
    "\n",
    "quietly diagt diag test if agecat==16\n",
    "local prev=r(prev)\n",
    "local sens=r(sens)\n",
    "local spec=r(spec)\n",
    "local ppv=r(ppv)\n",
    "local npv=r(npv)\n",
    "local roc=r(roc)\n",
    "post `memhold' (\"Age young\") (`prev') (`sens') (`spec') (`ppv') (`npv') (`roc') \n",
    "\n",
    "quietly diagt diag test if agecat==30\n",
    "local prev=r(prev)\n",
    "local sens=r(sens)\n",
    "local spec=r(spec)\n",
    "local ppv=r(ppv)\n",
    "local npv=r(npv)\n",
    "local roc=r(roc)\n",
    "post `memhold' (\"Age middle\") (`prev') (`sens') (`spec') (`ppv') (`npv') (`roc') \n",
    "\n",
    "quietly diagt diag test if agecat==70\n",
    "local prev=r(prev)\n",
    "local sens=r(sens)\n",
    "local spec=r(spec)\n",
    "local ppv=r(ppv)\n",
    "local npv=r(npv)\n",
    "local roc=r(roc)\n",
    "post `memhold' (\"Age elderly\") (`prev') (`sens') (`spec') (`ppv') (`npv') (`roc') \n",
    "\n",
    "\n",
    "quietly diagt diag test if yearcat==2004\n",
    "local prev=r(prev)\n",
    "local sens=r(sens)\n",
    "local spec=r(spec)\n",
    "local ppv=r(ppv)\n",
    "local npv=r(npv)\n",
    "local roc=r(roc)\n",
    "post `memhold' (\"Year 2004-2009\") (`prev') (`sens') (`spec') (`ppv') (`npv') (`roc') \n",
    "\n",
    "quietly diagt diag test if yearcat==2010\n",
    "local prev=r(prev)\n",
    "local sens=r(sens)\n",
    "local spec=r(spec)\n",
    "local ppv=r(ppv)\n",
    "local npv=r(npv)\n",
    "local roc=r(roc)\n",
    "post `memhold' (\"Year 2010-2015\") (`prev') (`sens') (`spec') (`ppv') (`npv') (`roc')\n",
    "\n",
    "quietly diagt diag test if yearcat==2016\n",
    "local prev=r(prev)\n",
    "local sens=r(sens)\n",
    "local spec=r(spec)\n",
    "local ppv=r(ppv)\n",
    "local npv=r(npv)\n",
    "local roc=r(roc)\n",
    "post `memhold' (\"Year 2016-2020\") (`prev') (`sens') (`spec') (`ppv') (`npv') (`roc') \n",
    "\n",
    "\n",
    "quietly diagt diag test if imdcat==0\n",
    "local prev=r(prev)\n",
    "local sens=r(sens)\n",
    "local spec=r(spec)\n",
    "local ppv=r(ppv)\n",
    "local npv=r(npv)\n",
    "local roc=r(roc)\n",
    "post `memhold' (\"IMD 1,3\") (`prev') (`sens') (`spec') (`ppv') (`npv') (`roc') \n",
    "\n",
    "quietly diagt diag test if imdcat==4\n",
    "local prev=r(prev)\n",
    "local sens=r(sens)\n",
    "local spec=r(spec)\n",
    "local ppv=r(ppv)\n",
    "local npv=r(npv)\n",
    "local roc=r(roc)\n",
    "post `memhold' (\"IMD 4,7\") (`prev') (`sens') (`spec') (`ppv') (`npv') (`roc') \n",
    "\n",
    "quietly diagt diag test if imdcat==8\n",
    "local prev=r(prev)\n",
    "local sens=r(sens)\n",
    "local spec=r(spec)\n",
    "local ppv=r(ppv)\n",
    "local npv=r(npv)\n",
    "local roc=r(roc)\n",
    "post `memhold' (\"IMD 8,10\") (`prev') (`sens') (`spec') (`ppv') (`npv') (`roc') \n",
    "\n",
    "\n",
    "quietly diagt diag test if regexm(region_name,\"LONDON\")==1\n",
    "local prev=r(prev)\n",
    "local sens=r(sens)\n",
    "local spec=r(spec)\n",
    "local ppv=r(ppv)\n",
    "local npv=r(npv)\n",
    "local roc=r(roc)\n",
    "post `memhold' (\"London\") (`prev') (`sens') (`spec') (`ppv') (`npv') (`roc') \n",
    "\n",
    "quietly diagt diag test if regexm(region_name,\"MID\")==1\n",
    "local prev=r(prev)\n",
    "local sens=r(sens)\n",
    "local spec=r(spec)\n",
    "local ppv=r(ppv)\n",
    "local npv=r(npv)\n",
    "local roc=r(roc)\n",
    "post `memhold' (\"Midlands\") (`prev') (`sens') (`spec') (`ppv') (`npv') (`roc') \n",
    "\n",
    "quietly diagt diag test if regexm(region_name,\"YORK\")==1\n",
    "local prev=r(prev)\n",
    "local sens=r(sens)\n",
    "local spec=r(spec)\n",
    "local ppv=r(ppv)\n",
    "local npv=r(npv)\n",
    "local roc=r(roc)\n",
    "post `memhold' (\"Yorkshire\") (`prev') (`sens') (`spec') (`ppv') (`npv') (`roc') \n",
    "\n",
    "quietly diagt diag test if regexm(region_name,\"NORTH\")==1 & regexm(region_name,\"WEST\")==1\n",
    "local prev=r(prev)\n",
    "local sens=r(sens)\n",
    "local spec=r(spec)\n",
    "local ppv=r(ppv)\n",
    "local npv=r(npv)\n",
    "local roc=r(roc)\n",
    "post `memhold' (\"North West\") (`prev') (`sens') (`spec') (`ppv') (`npv') (`roc') \n",
    "\n",
    "quietly diagt diag test if regexm(region_name,\"SOUTH\")==1 & regexm(region_name,\"EAST\")==1\n",
    "local prev=r(prev)\n",
    "local sens=r(sens)\n",
    "local spec=r(spec)\n",
    "local ppv=r(ppv)\n",
    "local npv=r(npv)\n",
    "local roc=r(roc)\n",
    "post `memhold' (\"South East\") (`prev') (`sens') (`spec') (`ppv') (`npv') (`roc') \n",
    "\n",
    "quietly diagt diag test if regexm(region_name,\"SOUTH\")==1 & regexm(region_name,\"WEST\")==1\n",
    "local prev=r(prev)\n",
    "local sens=r(sens)\n",
    "local spec=r(spec)\n",
    "local ppv=r(ppv)\n",
    "local npv=r(npv)\n",
    "local roc=r(roc)\n",
    "post `memhold' (\"South West\") (`prev') (`sens') (`spec') (`ppv') (`npv') (`roc') \n",
    "\n",
    "quietly diagt diag test if regexm(system,\"One\")==1\n",
    "local prev=r(prev)\n",
    "local sens=r(sens)\n",
    "local spec=r(spec)\n",
    "local ppv=r(ppv)\n",
    "local npv=r(npv)\n",
    "local roc=r(roc)\n",
    "post `memhold' (\"SystemOne\") (`prev') (`sens') (`spec') (`ppv') (`npv') (`roc') \n",
    "\n",
    "quietly diagt diag test if regexm(system,\"Vision\")==1\n",
    "local prev=r(prev)\n",
    "local sens=r(sens)\n",
    "local spec=r(spec)\n",
    "local ppv=r(ppv)\n",
    "local npv=r(npv)\n",
    "local roc=r(roc)\n",
    "post `memhold' (\"Vision\") (`prev') (`sens') (`spec') (`ppv') (`npv') (`roc') \n",
    "\n",
    "quietly diagt diag test if regexm(ustrupper(system),\"EMIS\")==1\n",
    "local prev=r(prev)\n",
    "local sens=r(sens)\n",
    "local spec=r(spec)\n",
    "local ppv=r(ppv)\n",
    "local npv=r(npv)\n",
    "local roc=r(roc)\n",
    "post `memhold' (\"EMIS\") (`prev') (`sens') (`spec') (`ppv') (`npv') (`roc') \n",
    "\n",
    "quietly diagt diag test if RA_index==1\n",
    "local prev=r(prev)\n",
    "local sens=r(sens)\n",
    "local spec=r(spec)\n",
    "local ppv=r(ppv)\n",
    "local npv=r(npv)\n",
    "local roc=r(roc)\n",
    "post `memhold' (\"RAIndex1\") (`prev') (`sens') (`spec') (`ppv') (`npv') (`roc') \n",
    "\n",
    "quietly diagt diag test if RA_index==0\n",
    "local prev=r(prev)\n",
    "local sens=r(sens)\n",
    "local spec=r(spec)\n",
    "local ppv=r(ppv)\n",
    "local npv=r(npv)\n",
    "local roc=r(roc)\n",
    "post `memhold' (\"RAIndex0\") (`prev') (`sens') (`spec') (`ppv') (`npv') (`roc') \n",
    "\n",
    "quietly diagt diag test if ethnicity==\"0white\"\n",
    "local prev=r(prev)\n",
    "local sens=r(sens)\n",
    "local spec=r(spec)\n",
    "local ppv=r(ppv)\n",
    "local npv=r(npv)\n",
    "local roc=r(roc)\n",
    "post `memhold' (\"Ethnicity_0white\") (`prev') (`sens') (`spec') (`ppv') (`npv') (`roc') \n",
    "\n",
    "quietly diagt diag test if ethnicity==\"Other\"\n",
    "local prev=r(prev)\n",
    "local sens=r(sens)\n",
    "local spec=r(spec)\n",
    "local ppv=r(ppv)\n",
    "local npv=r(npv)\n",
    "local roc=r(roc)\n",
    "post `memhold' (\"Ethnicity_Other\") (`prev') (`sens') (`spec') (`ppv') (`npv') (`roc') \n",
    "\n",
    "\n",
    "\n",
    "quietly diagt diag test if ethnicity==\"Missing\"\n",
    "local prev=r(prev)\n",
    "local sens=r(sens)\n",
    "local spec=r(spec)\n",
    "local ppv=r(ppv)\n",
    "local npv=r(npv)\n",
    "local roc=r(roc)\n",
    "post `memhold' (\"Ethnicity_Missing\") (`prev') (`sens') (`spec') (`ppv') (`npv') (`roc') \n",
    "\n",
    "postclose `memhold'"
   ]
  },
  {
   "cell_type": "markdown",
   "id": "b350c4fb-deb8-450a-9750-689dc3a8268e",
   "metadata": {},
   "source": [
    "### Logistic Regression\n",
    "#### PPV"
   ]
  },
  {
   "cell_type": "code",
   "execution_count": 35,
   "id": "a21415d9",
   "metadata": {},
   "outputs": [
    {
     "name": "stdout",
     "output_type": "stream",
     "text": [
      "(2,589 observations deleted)\n",
      "(9 observations deleted)\n"
     ]
    }
   ],
   "source": [
    "drop if missing(imdcat)\n",
    "drop if missing(sex)"
   ]
  },
  {
   "cell_type": "code",
   "execution_count": 36,
   "id": "ad17f02e-1d4b-48ec-8a48-1c137597db1a",
   "metadata": {},
   "outputs": [
    {
     "name": "stdout",
     "output_type": "stream",
     "text": [
      "\n",
      "Logistic regression                                     Number of obs = 41,270\n",
      "                                                        LR chi2(0)    =   0.00\n",
      "                                                        Prob > chi2   =      .\n",
      "Log likelihood = -16981.46                              Pseudo R2     = 0.0000\n",
      "\n",
      "------------------------------------------------------------------------------\n",
      "    diag_pos |       Odds   Std. err.      z    P>|z|     [95% conf. interval]\n",
      "-------------+----------------------------------------------------------------\n",
      "       _cons |   .1676994   .0023539  -127.21   0.000     .1631488    .1723769\n",
      "------------------------------------------------------------------------------\n"
     ]
    }
   ],
   "source": [
    "logistic diag_pos if test==1"
   ]
  },
  {
   "cell_type": "code",
   "execution_count": 37,
   "id": "b4bb2be2-7e3e-402c-aa81-7b7dfd706f64",
   "metadata": {},
   "outputs": [
    {
     "name": "stdout",
     "output_type": "stream",
     "text": [
      "note: 1.bnf_code_values != 0 predicts success perfectly;\n",
      "      1.bnf_code_values omitted and 2 obs not used.\n",
      "\n",
      "note: 2.bnf_code_values != 0 predicts failure perfectly;\n",
      "      2.bnf_code_values omitted and 1 obs not used.\n",
      "\n",
      "note: 3.bnf_code_values != 0 predicts failure perfectly;\n",
      "      3.bnf_code_values omitted and 1 obs not used.\n",
      "\n",
      "note: 4.bnf_code_values != 0 predicts failure perfectly;\n",
      "      4.bnf_code_values omitted and 1 obs not used.\n",
      "\n",
      "note: 5.bnf_code_values != 0 predicts failure perfectly;\n",
      "      5.bnf_code_values omitted and 1 obs not used.\n",
      "\n",
      "note: 8.bnf_code_values != 0 predicts failure perfectly;\n",
      "      8.bnf_code_values omitted and 1 obs not used.\n",
      "\n",
      "note: 10.bnf_code_values omitted because of collinearity.\n",
      "\n",
      "Logistic regression                                     Number of obs = 41,263\n",
      "                                                        LR chi2(3)    = 782.36\n",
      "                                                        Prob > chi2   = 0.0000\n",
      "Log likelihood = -16585.624                             Pseudo R2     = 0.0230\n",
      "\n",
      "------------------------------------------------------------------------------------------------------\n",
      "                            diag_pos | Odds ratio   Std. err.      z    P>|z|     [95% conf. interval]\n",
      "-------------------------------------+----------------------------------------------------------------\n",
      "                     bnf_code_values |\n",
      "                             010305  |          1  (empty)\n",
      "                             020505  |          1  (empty)\n",
      "                             020900  |          1  (empty)\n",
      "                             030700  |          1  (empty)\n",
      "                             060102  |          1  (empty)\n",
      "                    Bisphosphonates  |   2.391587   .0723245    28.83   0.000     2.253953    2.537626\n",
      "Calcitonins and parathyroid hormone  |    1.88836   2.111503     0.57   0.570     .2110078    16.89939\n",
      "                Calcium supplements  |          1  (empty)\n",
      "                      Other/unknown  |   1.133016   .7017686     0.20   0.840     .3365254    3.814645\n",
      "                         Vitamine D  |          1  (omitted)\n",
      "                                     |\n",
      "                               _cons |     .13239   .0022914  -116.82   0.000     .1279742    .1369582\n",
      "------------------------------------------------------------------------------------------------------\n",
      "Note: _cons estimates baseline odds.\n"
     ]
    }
   ],
   "source": [
    "logistic diag_pos i.bnf_code_values if test==1"
   ]
  },
  {
   "cell_type": "code",
   "execution_count": 38,
   "id": "49e40858",
   "metadata": {},
   "outputs": [
    {
     "name": "stdout",
     "output_type": "stream",
     "text": [
      "\n",
      "Fitting fixed-effects model:\n",
      "\n",
      "Iteration 0:  Log likelihood = -16365.941  \n",
      "Iteration 1:  Log likelihood =  -16114.47  \n",
      "Iteration 2:  Log likelihood = -16104.053  \n",
      "Iteration 3:  Log likelihood = -16103.972  \n",
      "Iteration 4:  Log likelihood = -16103.972  \n",
      "\n",
      "Refining starting values:\n",
      "\n",
      "Grid node 0:  Log likelihood = -16002.737\n",
      "\n",
      "Fitting full model:\n",
      "\n",
      "Iteration 0:  Log likelihood = -16002.737  (not concave)\n",
      "Iteration 1:  Log likelihood = -15924.089  \n",
      "Iteration 2:  Log likelihood = -15915.413  \n",
      "Iteration 3:  Log likelihood = -15914.887  \n",
      "Iteration 4:  Log likelihood = -15914.884  \n",
      "Iteration 5:  Log likelihood = -15914.884  \n",
      "\n",
      "Mixed-effects logistic regression               Number of obs     =     41,157\n",
      "Group variable: practice_id                     Number of groups  =        324\n",
      "\n",
      "                                                Obs per group:\n",
      "                                                              min =          1\n",
      "                                                              avg =      127.0\n",
      "                                                              max =      1,365\n",
      "\n",
      "Integration method: mvaghermite                 Integration pts.  =          7\n",
      "\n",
      "                                                Wald chi2(18)     =     986.52\n",
      "Log likelihood = -15914.884                     Prob > chi2       =     0.0000\n",
      "----------------------------------------------------------------------------------------------------------------\n",
      "                                       newdiag | Odds ratio   Std. err.      z    P>|z|     [95% conf. interval]\n",
      "-----------------------------------------------+----------------------------------------------------------------\n",
      "                                   1.sex_coded |   .5454262   .0200311   -16.51   0.000     .5075457    .5861339\n",
      "                                               |\n",
      "                                       yearcat |\n",
      "                                    2010-2015  |   .6622214   .0235713   -11.58   0.000     .6175971    .7100699\n",
      "                                    2016-2020  |   .5696155   .0222416   -14.41   0.000     .5276491    .6149198\n",
      "                                               |\n",
      "                                        agecat |\n",
      "                                      0Middle  |   5.897661   .7474807    14.00   0.000     4.600414    7.560712\n",
      "                                      Elderly  |   5.474684    .692541    13.44   0.000      4.27251    7.015119\n",
      "                                               |\n",
      "                                        region |\n",
      "                  LONDON COMMISSIONING REGION  |   .8469642   .1660139    -0.85   0.397     .5767938    1.243683\n",
      "                MIDLANDS COMMISSIONING REGION  |   1.024508   .1041732     0.24   0.812     .8393906     1.25045\n",
      "NORTH EAST AND YORKSHIRE COMMISSIONING REGION  |   .8703394   .0946326    -1.28   0.202     .7032939    1.077061\n",
      "              NORTH WEST COMMISSIONING REGION  |   .9521078   .1203958    -0.39   0.698     .7431049    1.219894\n",
      "              SOUTH EAST COMMISSIONING REGION  |   1.028357   .1083275     0.27   0.791     .8365228    1.264182\n",
      "              SOUTH WEST COMMISSIONING REGION  |   .8780381   .1109063    -1.03   0.303     .6854832    1.124682\n",
      "                                     Scotland  |   1.050779   .2276722     0.23   0.819     .6871977    1.606724\n",
      "                                        Wales  |   1.315877   .4363282     0.83   0.408     .6870175    2.520363\n",
      "                                               |\n",
      "                                      RA_index |   1.272987   .0995348     3.09   0.002     1.092115    1.483814\n",
      "                                               |\n",
      "                                        ethnic |\n",
      "                                      Missing  |   .8664185   .0338163    -3.67   0.000     .8026113    .9352982\n",
      "                                        Other  |   .3826629    .028905   -12.72   0.000     .3300043    .4437241\n",
      "                                               |\n",
      "                                        imdcat |\n",
      "                                          4-7  |   1.289788   .1035405     3.17   0.002     1.102012    1.509559\n",
      "                                         8-10  |   1.252061   .1088809     2.58   0.010     1.055855    1.484729\n",
      "                                               |\n",
      "                                         _cons |   .0392088   .0060215   -21.09   0.000     .0290175    .0529794\n",
      "-----------------------------------------------+----------------------------------------------------------------\n",
      "practice_id                                    |\n",
      "                                     var(_cons)|   .1677574    .022895                      .1283845    .2192052\n",
      "----------------------------------------------------------------------------------------------------------------\n",
      "Note: Estimates are transformed only in the first equation to odds ratios.\n",
      "Note: _cons estimates baseline odds (conditional on zero random effects).\n",
      "LR test vs. logistic model: chibar2(01) = 378.18      Prob >= chibar2 = 0.0000\n"
     ]
    }
   ],
   "source": [
    "gen newdiag=diag_pos\n",
    "\n",
    "melogit newdiag i.sex i.yearcat i.agecat  i.region RA_index i.ethnic i.imdcat if test==1 || practice_id:,or\n",
    "estimates store model1"
   ]
  },
  {
   "cell_type": "markdown",
   "id": "1fb85b5e",
   "metadata": {},
   "source": [
    "##### Likelihood ratio tests"
   ]
  },
  {
   "cell_type": "code",
   "execution_count": 39,
   "id": "718b2ba3-f1ac-41c9-af92-e0cb45d55985",
   "metadata": {},
   "outputs": [],
   "source": [
    "\n",
    "\n",
    "quietly: melogit newdiag i.sex i.yearcat i.agecat  i.region RA_index i.ethnic if test==1 || practice_id:,or\n",
    "estimates store model_imd\n",
    "\n",
    "quietly:melogit newdiag i.sex i.yearcat i.agecat  i.region RA_index i.imdcat if test==1 || practice_id:,or\n",
    "estimates store model_ethnicity\n",
    "\n",
    "quietly:melogit newdiag i.yearcat i.agecat  i.region RA_index i.ethnic i.imdcat if test==1 || practice_id:,or\n",
    "estimates store model_sex\n",
    "\n",
    "quietly:melogit newdiag i.sex i.agecat  i.region RA_index i.ethnic i.imdcat if test==1 || practice_id:,or\n",
    "estimates store model_year\n",
    "\n",
    "quietly: melogit newdiag i.sex i.yearcat  i.region RA_index i.ethnic i.imdcat if test==1 || practice_id:,or\n",
    "estimates store model_age\n",
    "\n"
   ]
  },
  {
   "cell_type": "code",
   "execution_count": 40,
   "id": "31887f9d",
   "metadata": {},
   "outputs": [
    {
     "name": "stdout",
     "output_type": "stream",
     "text": [
      "\n",
      "Likelihood-ratio test\n",
      "Assumption: model_sex nested within model1\n",
      "\n",
      " LR chi2(1) = 296.93\n",
      "Prob > chi2 = 0.0000\n",
      "\n",
      "Likelihood-ratio test\n",
      "Assumption: model_year nested within model1\n",
      "\n",
      " LR chi2(2) = 230.69\n",
      "Prob > chi2 = 0.0000\n",
      "\n",
      "Likelihood-ratio test\n",
      "Assumption: model_age nested within model1\n",
      "\n",
      " LR chi2(2) = 325.19\n",
      "Prob > chi2 = 0.0000\n",
      "\n",
      "Likelihood-ratio test\n",
      "Assumption: model_ethnic~y nested within model1\n",
      "\n",
      " LR chi2(2) = 192.23\n",
      "Prob > chi2 = 0.0000\n",
      "\n",
      "Likelihood-ratio test\n",
      "Assumption: model_imd nested within model1\n",
      "\n",
      " LR chi2(2) =  10.86\n",
      "Prob > chi2 = 0.0044\n"
     ]
    }
   ],
   "source": [
    "lrtest model1 model_sex\n",
    "lrtest model1 model_year\n",
    "lrtest model1 model_age\n",
    "lrtest model1 model_ethnicity\n",
    "lrtest model1 model_imd\n"
   ]
  },
  {
   "cell_type": "markdown",
   "id": "99227c99-0304-407b-a990-a06fe4bd4560",
   "metadata": {},
   "source": [
    "#### NPV"
   ]
  },
  {
   "cell_type": "code",
   "execution_count": 41,
   "id": "04c0103e-c424-49af-8973-09a13878ea3f",
   "metadata": {},
   "outputs": [
    {
     "name": "stdout",
     "output_type": "stream",
     "text": [
      "\n",
      "Logistic regression                                    Number of obs = 381,132\n",
      "                                                       LR chi2(0)    =    0.00\n",
      "                                                       Prob > chi2   =       .\n",
      "Log likelihood = -5750.6782                            Pseudo R2     =  0.0000\n",
      "\n",
      "------------------------------------------------------------------------------\n",
      "    diag_neg |       Odds   Std. err.      z    P>|z|     [95% conf. interval]\n",
      "-------------+----------------------------------------------------------------\n",
      "       _cons |   473.6351   16.73186   174.39   0.000     441.9508    507.5909\n",
      "------------------------------------------------------------------------------\n"
     ]
    }
   ],
   "source": [
    "logistic diag_neg if test==0"
   ]
  },
  {
   "cell_type": "code",
   "execution_count": 42,
   "id": "93a5b760",
   "metadata": {},
   "outputs": [
    {
     "name": "stdout",
     "output_type": "stream",
     "text": [
      "(422,402 real changes made)\n",
      "\n",
      "Fitting fixed-effects model:\n",
      "\n",
      "Iteration 0:  Log likelihood =  -34275.68  \n",
      "Iteration 1:  Log likelihood = -5897.6202  \n",
      "Iteration 2:  Log likelihood = -5296.6022  \n",
      "Iteration 3:  Log likelihood = -5222.8871  \n",
      "Iteration 4:  Log likelihood = -5221.2246  \n",
      "Iteration 5:  Log likelihood = -5221.2117  \n",
      "Iteration 6:  Log likelihood = -5221.2117  \n",
      "\n",
      "Refining starting values:\n",
      "\n",
      "Grid node 0:  Log likelihood = -5255.9548\n",
      "\n",
      "Fitting full model:\n",
      "\n",
      "Iteration 0:  Log likelihood = -5255.9548  (not concave)\n",
      "Iteration 1:  Log likelihood = -5226.5508  (not concave)\n",
      "Iteration 2:  Log likelihood = -5220.2307  \n",
      "Iteration 3:  Log likelihood = -5209.8613  \n",
      "Iteration 4:  Log likelihood = -5209.3302  \n",
      "Iteration 5:  Log likelihood = -5209.3271  \n",
      "Iteration 6:  Log likelihood = -5209.3271  \n",
      "\n",
      "Mixed-effects logistic regression               Number of obs     =    380,276\n",
      "Group variable: practice_id                     Number of groups  =        336\n",
      "\n",
      "                                                Obs per group:\n",
      "                                                              min =          1\n",
      "                                                              avg =    1,131.8\n",
      "                                                              max =      9,126\n",
      "\n",
      "Integration method: mvaghermite                 Integration pts.  =          7\n",
      "\n",
      "                                                Wald chi2(18)     =     782.18\n",
      "Log likelihood = -5209.3271                     Prob > chi2       =     0.0000\n",
      "----------------------------------------------------------------------------------------------------------------\n",
      "                                       newdiag | Odds ratio   Std. err.      z    P>|z|     [95% conf. interval]\n",
      "-----------------------------------------------+----------------------------------------------------------------\n",
      "                                   1.sex_coded |   3.232218   .2647063    14.33   0.000       2.7529    3.794991\n",
      "                                               |\n",
      "                                       yearcat |\n",
      "                                    2010-2015  |    .792677   .0730578    -2.52   0.012     .6616747     .949616\n",
      "                                    2016-2020  |   .5387124   .0498522    -6.68   0.000     .4493526    .6458426\n",
      "                                               |\n",
      "                                        agecat |\n",
      "                                      0Middle  |   .1147272   .0233484   -10.64   0.000     .0769904    .1709608\n",
      "                                      Elderly  |   .0343965   .0070331   -16.48   0.000     .0230392    .0513524\n",
      "                                               |\n",
      "                                        region |\n",
      "                  LONDON COMMISSIONING REGION  |   1.102454   .3310747     0.32   0.745     .6119823    1.986014\n",
      "                MIDLANDS COMMISSIONING REGION  |   .6676349   .1021853    -2.64   0.008     .4946043     .901198\n",
      "NORTH EAST AND YORKSHIRE COMMISSIONING REGION  |   .7549745   .1247577    -1.70   0.089     .5461013    1.043738\n",
      "              NORTH WEST COMMISSIONING REGION  |   .9999809   .1957564    -0.00   1.000     .6813344    1.467652\n",
      "              SOUTH EAST COMMISSIONING REGION  |   .9347147   .1427391    -0.44   0.658     .6929361    1.260854\n",
      "              SOUTH WEST COMMISSIONING REGION  |   .8757826   .1576725    -0.74   0.461     .6153883     1.24636\n",
      "                                     Scotland  |   .6617301   .2329375    -1.17   0.241     .3319304    1.319212\n",
      "                                        Wales  |    .656577   .3183866    -0.87   0.386     .2538177    1.698437\n",
      "                                               |\n",
      "                                      RA_index |   .9286812   .1125959    -0.61   0.542     .7322589    1.177792\n",
      "                                               |\n",
      "                                        ethnic |\n",
      "                                      Missing  |   1.722993   .1647629     5.69   0.000     1.428521    2.078168\n",
      "                                        Other  |    2.38918   .4999256     4.16   0.000     1.585399    3.600469\n",
      "                                               |\n",
      "                                        imdcat |\n",
      "                                          4-7  |   .8125071   .0997735    -1.69   0.091     .6387075    1.033599\n",
      "                                         8-10  |   .7840256   .1027638    -1.86   0.063     .6064033    1.013676\n",
      "                                               |\n",
      "                                         _cons |   4968.066   1236.566    34.19   0.000     3050.147    8091.964\n",
      "-----------------------------------------------+----------------------------------------------------------------\n",
      "practice_id                                    |\n",
      "                                     var(_cons)|   .1331257   .0413238                        .07245    .2446161\n",
      "----------------------------------------------------------------------------------------------------------------\n",
      "Note: Estimates are transformed only in the first equation to odds ratios.\n",
      "Note: _cons estimates baseline odds (conditional on zero random effects).\n",
      "LR test vs. logistic model: chibar2(01) = 23.77       Prob >= chibar2 = 0.0000\n"
     ]
    }
   ],
   "source": [
    "/* need to use the same response variable (newdiag) to line up the two model results */\n",
    "replace newdiag=diag_neg \n",
    "\n",
    "melogit newdiag i.sex i.yearcat i.agecat i.region RA_index i.ethnic i.imdcat if test==0 || practice_id:,or\n",
    "estimates store model2"
   ]
  },
  {
   "cell_type": "markdown",
   "id": "60c60b7a",
   "metadata": {},
   "source": [
    "##### Likelihood ratio tests"
   ]
  },
  {
   "cell_type": "code",
   "execution_count": 43,
   "id": "c31bd1f1-c69b-4600-a1c0-bde311d67651",
   "metadata": {},
   "outputs": [],
   "source": [
    "\n",
    "quietly: melogit newdiag i.yearcat i.agecat i.region RA_index i.ethnic i.imdcat if test==0 || practice_id:,or\n",
    "estimates store model2_sex\n",
    "quietly: melogit newdiag i.sex i.agecat i.region RA_index i.ethnic i.imdcat if test==0 || practice_id:,or\n",
    "estimates store model2_year\n",
    "quietly: melogit newdiag i.sex i.yearcat i.region RA_index i.ethnic i.imdcat if test==0 || practice_id:,or\n",
    "estimates store model2_age\n",
    "quietly: melogit newdiag i.sex i.yearcat i.agecat i.region RA_index i.imdcat if test==0 || practice_id:,or\n",
    "estimates store model2_ethnicity\n",
    "quietly: melogit newdiag i.sex i.yearcat i.agecat i.region RA_index i.ethnic if test==0 || practice_id:,or\n",
    "estimates store model2_imd\n"
   ]
  },
  {
   "cell_type": "code",
   "execution_count": 44,
   "id": "95d03409",
   "metadata": {},
   "outputs": [
    {
     "name": "stdout",
     "output_type": "stream",
     "text": [
      "\n",
      "Likelihood-ratio test\n",
      "Assumption: model2_sex nested within model2\n",
      "\n",
      " LR chi2(1) = 238.46\n",
      "Prob > chi2 = 0.0000\n",
      "\n",
      "Likelihood-ratio test\n",
      "Assumption: model2_year nested within model2\n",
      "\n",
      " LR chi2(2) =  46.39\n",
      "Prob > chi2 = 0.0000\n",
      "\n",
      "Likelihood-ratio test\n",
      "Assumption: model2_age nested within model2\n",
      "\n",
      " LR chi2(2) = 637.74\n",
      "Prob > chi2 = 0.0000\n",
      "\n",
      "Likelihood-ratio test\n",
      "Assumption: model2_ethni~y nested within model2\n",
      "\n",
      " LR chi2(2) =  52.02\n",
      "Prob > chi2 = 0.0000\n",
      "\n",
      "Likelihood-ratio test\n",
      "Assumption: model2_imd nested within model2\n",
      "\n",
      " LR chi2(2) =   3.98\n",
      "Prob > chi2 = 0.1365\n"
     ]
    }
   ],
   "source": [
    "lrtest model2 model2_sex\n",
    "lrtest model2 model2_year\n",
    "lrtest model2 model2_age\n",
    "lrtest model2 model2_ethnicity\n",
    "lrtest model2 model2_imd\n"
   ]
  },
  {
   "cell_type": "code",
   "execution_count": 45,
   "id": "017939f5-75b7-4ee0-9f7b-3105e0d2bfe1",
   "metadata": {},
   "outputs": [
    {
     "name": "stdout",
     "output_type": "stream",
     "text": [
      "\n",
      "Table 2. PPV (1) and NPV (2), OR, Random effect\n",
      "-------------------------------------------------------------------\n",
      "                                                    1         2    \n",
      "-------------------------------------------------------------------\n",
      "sex_coded                                                          \n",
      "  1                                              0.55 **    3.23 **\n",
      "yearcat                                                            \n",
      "  2010-2015                                      0.66 **    0.79 * \n",
      "  2016-2020                                      0.57 **    0.54 **\n",
      "agecat                                                             \n",
      "  0Middle                                        5.90 **    0.11 **\n",
      "  Elderly                                        5.47 **    0.03 **\n",
      "region                                                             \n",
      "  LONDON COMMISSIONING REGION                    0.85       1.10   \n",
      "  MIDLANDS COMMISSIONING REGION                  1.02       0.67 **\n",
      "  NORTH EAST AND YORKSHIRE COMMISSIONING REGION  0.87       0.75   \n",
      "  NORTH WEST COMMISSIONING REGION                0.95       1.00   \n",
      "  SOUTH EAST COMMISSIONING REGION                1.03       0.93   \n",
      "  SOUTH WEST COMMISSIONING REGION                0.88       0.88   \n",
      "  Scotland                                       1.05       0.66   \n",
      "  Wales                                          1.32       0.66   \n",
      "RA_index                                         1.27 **    0.93   \n",
      "ethnic                                                             \n",
      "  Missing                                        0.87 **    1.72 **\n",
      "  Other                                          0.38 **    2.39 **\n",
      "imdcat                                                             \n",
      "  4-7                                            1.29 **    0.81   \n",
      "  8-10                                           1.25 **    0.78   \n",
      "Intercept                                        0.04 ** 4968.07 **\n",
      "var(_cons[practice_id])                          0.17       0.13   \n",
      "Number of observations                          41157     380276   \n",
      "-------------------------------------------------------------------\n",
      "** p<.01, * p<.05\n",
      "(collection ETable exported to file validity2.xlsx)\n"
     ]
    }
   ],
   "source": [
    "etable, estimates(model1 model2) showstars showstarsnote title(\"Table 2. PPV (1) and NPV (2),  OR, Random effect\") cstat(_r_b,nformat(%6.2f)) column(index) export(validity2.xlsx, modify sheet(reg_osteopenia_osteoporosis, replace))"
   ]
  },
  {
   "cell_type": "markdown",
   "id": "e7e9a417",
   "metadata": {},
   "source": [
    "### Summary of validation parameters"
   ]
  },
  {
   "cell_type": "code",
   "execution_count": 46,
   "id": "e27d82a4-8d2d-4529-8a15-ae4baabfa28c",
   "metadata": {},
   "outputs": [
    {
     "name": "stdout",
     "output_type": "stream",
     "text": [
      "(26 real changes made)\n",
      "(26 real changes made)\n",
      "(26 real changes made)\n",
      "(26 real changes made)\n",
      "(26 real changes made)\n",
      "(26 real changes made)\n"
     ]
    }
   ],
   "source": [
    "use validity.dta, clear\n",
    "replace prev=round(prev, 0.1)\n",
    "gen prev_a=round(((prev/100)*((sens/100)+(spec/100)-1)+1-(spec/100))*100,0.1)/*apparent prevalence*/\n",
    "replace sens=round(sens, 0.1)\n",
    "replace spec=round(spec,0.1)\n",
    "replace ppv=round(ppv, 0.1)\n",
    "replace npv=round(npv, 0.1)\n",
    "replace roc=round(roc, 0.01)\n"
   ]
  },
  {
   "cell_type": "code",
   "execution_count": 47,
   "id": "8129bfb3-cd21-4077-a785-9a74a846c65b",
   "metadata": {},
   "outputs": [
    {
     "data": {
      "text/html": [
       "<div>\n",
       "<style scoped>\n",
       "    .dataframe tbody tr th:only-of-type {\n",
       "        vertical-align: middle;\n",
       "    }\n",
       "\n",
       "    .dataframe tbody tr th {\n",
       "        vertical-align: top;\n",
       "    }\n",
       "\n",
       "    .dataframe thead th {\n",
       "        text-align: right;\n",
       "    }\n",
       "</style>\n",
       "<table border=\"1\" class=\"dataframe\">\n",
       "  <thead>\n",
       "    <tr style=\"text-align: right;\">\n",
       "      <th></th>\n",
       "      <th>var</th>\n",
       "      <th>prev</th>\n",
       "      <th>sens</th>\n",
       "      <th>spec</th>\n",
       "      <th>ppv</th>\n",
       "      <th>npv</th>\n",
       "      <th>roc</th>\n",
       "      <th>prev_a</th>\n",
       "    </tr>\n",
       "  </thead>\n",
       "  <tbody>\n",
       "    <tr>\n",
       "      <th>1</th>\n",
       "      <td>all</td>\n",
       "      <td>1.6</td>\n",
       "      <td>88.1</td>\n",
       "      <td>91.5</td>\n",
       "      <td>14.3</td>\n",
       "      <td>99.8</td>\n",
       "      <td>.9</td>\n",
       "      <td>9.7</td>\n",
       "    </tr>\n",
       "    <tr>\n",
       "      <th>2</th>\n",
       "      <td>Male</td>\n",
       "      <td>.6</td>\n",
       "      <td>84.2</td>\n",
       "      <td>95.1</td>\n",
       "      <td>9.4</td>\n",
       "      <td>99.9</td>\n",
       "      <td>.9</td>\n",
       "      <td>5.4</td>\n",
       "    </tr>\n",
       "    <tr>\n",
       "      <th>3</th>\n",
       "      <td>Female</td>\n",
       "      <td>2.5</td>\n",
       "      <td>89</td>\n",
       "      <td>88.1</td>\n",
       "      <td>16.2</td>\n",
       "      <td>99.7</td>\n",
       "      <td>.89</td>\n",
       "      <td>13.9</td>\n",
       "    </tr>\n",
       "    <tr>\n",
       "      <th>4</th>\n",
       "      <td>Age young</td>\n",
       "      <td>.1</td>\n",
       "      <td>72.6</td>\n",
       "      <td>97.3</td>\n",
       "      <td>2.1</td>\n",
       "      <td>100</td>\n",
       "      <td>.85</td>\n",
       "      <td>2.8</td>\n",
       "    </tr>\n",
       "    <tr>\n",
       "      <th>5</th>\n",
       "      <td>Age middle</td>\n",
       "      <td>1.1</td>\n",
       "      <td>84.1</td>\n",
       "      <td>94.3</td>\n",
       "      <td>14</td>\n",
       "      <td>99.8</td>\n",
       "      <td>.89</td>\n",
       "      <td>6.5</td>\n",
       "    </tr>\n",
       "    <tr>\n",
       "      <th>6</th>\n",
       "      <td>Age elderly</td>\n",
       "      <td>4.9</td>\n",
       "      <td>90.7</td>\n",
       "      <td>75.7</td>\n",
       "      <td>16.2</td>\n",
       "      <td>99.4</td>\n",
       "      <td>.83</td>\n",
       "      <td>27.5</td>\n",
       "    </tr>\n",
       "    <tr>\n",
       "      <th>7</th>\n",
       "      <td>Year 2004-2009</td>\n",
       "      <td>1.8</td>\n",
       "      <td>90.8</td>\n",
       "      <td>93.4</td>\n",
       "      <td>19.7</td>\n",
       "      <td>99.8</td>\n",
       "      <td>.92</td>\n",
       "      <td>8.1</td>\n",
       "    </tr>\n",
       "    <tr>\n",
       "      <th>8</th>\n",
       "      <td>Year 2010-2015</td>\n",
       "      <td>1.5</td>\n",
       "      <td>88.4</td>\n",
       "      <td>91</td>\n",
       "      <td>13.1</td>\n",
       "      <td>99.8</td>\n",
       "      <td>.9</td>\n",
       "      <td>10.2</td>\n",
       "    </tr>\n",
       "    <tr>\n",
       "      <th>9</th>\n",
       "      <td>Year 2016-2020</td>\n",
       "      <td>1.5</td>\n",
       "      <td>83.7</td>\n",
       "      <td>90</td>\n",
       "      <td>11</td>\n",
       "      <td>99.7</td>\n",
       "      <td>.87</td>\n",
       "      <td>11.1</td>\n",
       "    </tr>\n",
       "    <tr>\n",
       "      <th>10</th>\n",
       "      <td>IMD 1,3</td>\n",
       "      <td>1.4</td>\n",
       "      <td>88.4</td>\n",
       "      <td>90.4</td>\n",
       "      <td>11.3</td>\n",
       "      <td>99.8</td>\n",
       "      <td>.89</td>\n",
       "      <td>10.7</td>\n",
       "    </tr>\n",
       "    <tr>\n",
       "      <th>11</th>\n",
       "      <td>IMD 4,7</td>\n",
       "      <td>1.8</td>\n",
       "      <td>88.5</td>\n",
       "      <td>91.8</td>\n",
       "      <td>16.6</td>\n",
       "      <td>99.8</td>\n",
       "      <td>.9</td>\n",
       "      <td>9.7</td>\n",
       "    </tr>\n",
       "    <tr>\n",
       "      <th>12</th>\n",
       "      <td>IMD 8,10</td>\n",
       "      <td>1.6</td>\n",
       "      <td>87.2</td>\n",
       "      <td>92.5</td>\n",
       "      <td>16</td>\n",
       "      <td>99.8</td>\n",
       "      <td>.9</td>\n",
       "      <td>8.8</td>\n",
       "    </tr>\n",
       "    <tr>\n",
       "      <th>13</th>\n",
       "      <td>London</td>\n",
       "      <td>.8</td>\n",
       "      <td>85.3</td>\n",
       "      <td>92.8</td>\n",
       "      <td>8.8</td>\n",
       "      <td>99.9</td>\n",
       "      <td>.89</td>\n",
       "      <td>7.8</td>\n",
       "    </tr>\n",
       "    <tr>\n",
       "      <th>14</th>\n",
       "      <td>Midlands</td>\n",
       "      <td>1.8</td>\n",
       "      <td>86.4</td>\n",
       "      <td>91.1</td>\n",
       "      <td>15.1</td>\n",
       "      <td>99.7</td>\n",
       "      <td>.89</td>\n",
       "      <td>10.2</td>\n",
       "    </tr>\n",
       "    <tr>\n",
       "      <th>15</th>\n",
       "      <td>Yorkshire</td>\n",
       "      <td>1.7</td>\n",
       "      <td>88.4</td>\n",
       "      <td>89.1</td>\n",
       "      <td>12.2</td>\n",
       "      <td>99.8</td>\n",
       "      <td>.89</td>\n",
       "      <td>12.2</td>\n",
       "    </tr>\n",
       "    <tr>\n",
       "      <th>16</th>\n",
       "      <td>North West</td>\n",
       "      <td>1.4</td>\n",
       "      <td>90.3</td>\n",
       "      <td>91.6</td>\n",
       "      <td>13.6</td>\n",
       "      <td>99.8</td>\n",
       "      <td>.91</td>\n",
       "      <td>9.5</td>\n",
       "    </tr>\n",
       "    <tr>\n",
       "      <th>17</th>\n",
       "      <td>South East</td>\n",
       "      <td>1.7</td>\n",
       "      <td>88.9</td>\n",
       "      <td>92.6</td>\n",
       "      <td>17.2</td>\n",
       "      <td>99.8</td>\n",
       "      <td>.91</td>\n",
       "      <td>8.8</td>\n",
       "    </tr>\n",
       "    <tr>\n",
       "      <th>18</th>\n",
       "      <td>South West</td>\n",
       "      <td>1.9</td>\n",
       "      <td>87.8</td>\n",
       "      <td>90.7</td>\n",
       "      <td>15.7</td>\n",
       "      <td>99.7</td>\n",
       "      <td>.89</td>\n",
       "      <td>10.8</td>\n",
       "    </tr>\n",
       "    <tr>\n",
       "      <th>19</th>\n",
       "      <td>SystemOne</td>\n",
       "      <td>1.5</td>\n",
       "      <td>87.7</td>\n",
       "      <td>90.7</td>\n",
       "      <td>12.9</td>\n",
       "      <td>99.8</td>\n",
       "      <td>.89</td>\n",
       "      <td>10.5</td>\n",
       "    </tr>\n",
       "    <tr>\n",
       "      <th>20</th>\n",
       "      <td>Vision</td>\n",
       "      <td>1.3</td>\n",
       "      <td>87.3</td>\n",
       "      <td>93.8</td>\n",
       "      <td>15.8</td>\n",
       "      <td>99.8</td>\n",
       "      <td>.91</td>\n",
       "      <td>7.2</td>\n",
       "    </tr>\n",
       "    <tr>\n",
       "      <th>21</th>\n",
       "      <td>EMIS</td>\n",
       "      <td>1.7</td>\n",
       "      <td>88.6</td>\n",
       "      <td>92.4</td>\n",
       "      <td>16.4</td>\n",
       "      <td>99.8</td>\n",
       "      <td>.9</td>\n",
       "      <td>9</td>\n",
       "    </tr>\n",
       "    <tr>\n",
       "      <th>22</th>\n",
       "      <td>RAIndex1</td>\n",
       "      <td>1.6</td>\n",
       "      <td>88.3</td>\n",
       "      <td>91.3</td>\n",
       "      <td>14.5</td>\n",
       "      <td>99.8</td>\n",
       "      <td>.9</td>\n",
       "      <td>10</td>\n",
       "    </tr>\n",
       "    <tr>\n",
       "      <th>23</th>\n",
       "      <td>RAIndex0</td>\n",
       "      <td>1.4</td>\n",
       "      <td>87.3</td>\n",
       "      <td>92.2</td>\n",
       "      <td>13.9</td>\n",
       "      <td>99.8</td>\n",
       "      <td>.9</td>\n",
       "      <td>8.9</td>\n",
       "    </tr>\n",
       "    <tr>\n",
       "      <th>24</th>\n",
       "      <td>Ethnicity_0white</td>\n",
       "      <td>1.9</td>\n",
       "      <td>87.4</td>\n",
       "      <td>90.9</td>\n",
       "      <td>15.6</td>\n",
       "      <td>99.7</td>\n",
       "      <td>.89</td>\n",
       "      <td>10.6</td>\n",
       "    </tr>\n",
       "    <tr>\n",
       "      <th>25</th>\n",
       "      <td>Ethnicity_Other</td>\n",
       "      <td>.7</td>\n",
       "      <td>91.4</td>\n",
       "      <td>87.6</td>\n",
       "      <td>4.7</td>\n",
       "      <td>99.9</td>\n",
       "      <td>.89</td>\n",
       "      <td>13</td>\n",
       "    </tr>\n",
       "    <tr>\n",
       "      <th>26</th>\n",
       "      <td>Ethnicity_Missing</td>\n",
       "      <td>1.3</td>\n",
       "      <td>89.6</td>\n",
       "      <td>94.2</td>\n",
       "      <td>16.7</td>\n",
       "      <td>99.9</td>\n",
       "      <td>.92</td>\n",
       "      <td>6.9</td>\n",
       "    </tr>\n",
       "  </tbody>\n",
       "</table>\n",
       "</div>"
      ]
     },
     "metadata": {},
     "output_type": "display_data"
    }
   ],
   "source": [
    "%head 50"
   ]
  },
  {
   "cell_type": "code",
   "execution_count": 48,
   "id": "47dc850c-f3c8-4b9c-8ba9-3620f31b4fa9",
   "metadata": {},
   "outputs": [
    {
     "name": "stdout",
     "output_type": "stream",
     "text": [
      "file validity2.xlsx saved\n"
     ]
    }
   ],
   "source": [
    "/*texsave * using test3.tex, varlabels*/\n",
    "export excel using  validity2.xlsx, sheet(val_osteopenia_osteoporosis, replace)"
   ]
  }
 ],
 "metadata": {
  "kernelspec": {
   "display_name": "Stata (nbstata)",
   "language": "stata",
   "name": "nbstata"
  },
  "language_info": {
   "file_extension": ".do",
   "mimetype": "text/x-stata",
   "name": "stata",
   "version": "17"
  }
 },
 "nbformat": 4,
 "nbformat_minor": 5
}
