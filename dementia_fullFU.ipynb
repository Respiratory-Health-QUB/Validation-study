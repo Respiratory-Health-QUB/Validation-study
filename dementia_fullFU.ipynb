{
 "cells": [
  {
   "cell_type": "markdown",
   "id": "13e469d7",
   "metadata": {},
   "source": [
    "# Validity of using prescription records to identify patient comorbidities\n",
    "## Analysis of dementia\n",
    "### Sensitivity analysis - dementia code at any time "
   ]
  },
  {
   "cell_type": "markdown",
   "id": "a3d5caf8",
   "metadata": {},
   "source": [
    "**ReadMe:**\n",
    "- This is a script used in the analysis for Schnier et al., 2025: Validity of using prescription records to classify disease – a record linkage study using routinely collected electronic health records from the UK.\n",
    "- The underlying data set has been created using the Optimum Patient Care Research Database (https://opcrd.optimumpatientcare.org/). The authors do not have permission to give the public access to the study dataset; researchers may request access to OPCRD for their own purposes. \n",
    " - All code is run in StataSE 18. \n"
   ]
  },
  {
   "cell_type": "markdown",
   "id": "1cf02e3e-e834-469d-abf1-21c9ce29f756",
   "metadata": {},
   "source": [
    "**Set up:**\n",
    "|Var|Input|\n",
    "| --- | --- | \n",
    "|population|425,000|\n",
    "|diagnostic codes|HDRUK code list|\n",
    "|drug codes|bnf selection|\n",
    "|sql date|28.05.2025|\n",
    "|sql code|dementiaselection_fullFU_20250528.sql| "
   ]
  },
  {
   "cell_type": "code",
   "execution_count": 1,
   "id": "2a759161-052f-4433-ab6c-0ad7ab9120e9",
   "metadata": {},
   "outputs": [
    {
     "data": {
      "text/html": [
       "<style>div.jp-Notebook .datagrid-container {min-height: 448px; }</style>"
      ],
      "text/plain": [
       "<IPython.core.display.HTML object>"
      ]
     },
     "metadata": {},
     "output_type": "display_data"
    }
   ],
   "source": [
    "    clear all"
   ]
  },
  {
   "cell_type": "markdown",
   "id": "5e9a592b-20c3-4eb6-b947-22979a02dcf0",
   "metadata": {},
   "source": [
    "### Import from SQL server and data wrangling"
   ]
  },
  {
   "cell_type": "code",
   "execution_count": null,
   "id": "b5b5eb32-1b5c-44c2-901c-0e9d1a4e36d2",
   "metadata": {},
   "outputs": [],
   "source": [
    "odbc load, exec(\"select * from [dementia_425000_fullFU_20250528\") dsn(\"sqlserverconnect\")"
   ]
  },
  {
   "cell_type": "code",
   "execution_count": 3,
   "id": "0835f95f-a07b-4d29-b825-b3823bfad60e",
   "metadata": {
    "scrolled": true
   },
   "outputs": [
    {
     "name": "stdout",
     "output_type": "stream",
     "text": [
      "(3,102 missing values generated)\n",
      "(3,102 real changes made)\n",
      "(4,582 missing values generated)\n",
      "(4,582 real changes made)\n",
      "(2,589 missing values generated)\n",
      "variable bnf_code was str6 now str18\n",
      "(3,078 real changes made)\n",
      "(23 real changes made)\n",
      "variable ethnicity was str2 now str6\n",
      "(257,981 real changes made)\n",
      "(3,762 real changes made)\n",
      "(23,912 real changes made)\n",
      "(7,430 real changes made)\n",
      "(8,764 real changes made)\n",
      "variable ethnicity was str6 now str7\n",
      "(123,151 real changes made)\n",
      "(3,996 real changes made)\n"
     ]
    }
   ],
   "source": [
    "generate test=0 if missing(drug_dt)\n",
    "replace test=1 if ! missing(drug_dt)  \n",
    "\n",
    "generate diag=0 if missing(diag_dt)\n",
    "replace diag=1 if ! missing(diag_dt)  \n",
    "\n",
    "gen start_year=year(fu_start_dt)\n",
    "\n",
    "/* different age groups! */\n",
    "egen agecat = cut(age), at(0,70,90,120)\n",
    "label def agecat_lab 0 \"Young\" 70 \"0Middle\" 90 \"Elderly\" 120 \"weird\"\n",
    "label values agecat agecat_lab\n",
    "\n",
    "egen yearcat = cut(start_year), at(2004,2010,2016,2025)\n",
    "label def yearcat_lab 2004 \"2004-2009\" 2010 \"2010-2015\" 2016 \"2016-2020\" \n",
    "label values yearcat yearcat_lab\n",
    "\n",
    "egen imdcat = cut(imd_decile), at(0,4,8,11)\n",
    "label def imdcat_lab 0 \"1-3\" 4 \"4-7\" 8 \"8-10\" \n",
    "label values imdcat imdcat_lab\n",
    "\n",
    "replace bnf_code = \"Drugs for dementia\" if bnf_code== \"041100\"\n",
    "replace bnf_code = \"Other/unknown\" if missing(bnf_code) & ! missing(drug_dt)\n",
    "\n",
    "\n",
    "\n",
    "replace ethnicity=\"0white\" if ethnicity==\"1\"\n",
    "replace ethnicity=\"Other\" if ethnicity==\"2\"\n",
    "replace ethnicity=\"Other\" if ethnicity==\"3\"\n",
    "replace ethnicity=\"Other\" if ethnicity==\"4\"\n",
    "replace ethnicity=\"Other\" if ethnicity==\"5\"\n",
    "replace ethnicity=\"Missing\" if ethnicity==\"99\"\n",
    "\n",
    "\n",
    "encode bnf_code, generate(bnf_code_values) \n",
    "encode description, generate(description_values)\n",
    "encode ethnicity, generate(ethnicity_values) \n",
    "\n",
    "/* put Wales and missing into NORTH WEST */\n",
    "replace region_name = \"NORTH WEST COMMISSIONING REGION\" if strlen(region_name)<6\n",
    "\n",
    "gen diag_neg=diag==0\n",
    "gen diag_pos=diag==1\n",
    "encode region_name, generate(region) label(regionlbl)\n",
    "encode ethnicity, generate(ethnic)\n"
   ]
  },
  {
   "cell_type": "code",
   "execution_count": 4,
   "id": "4bb67b58-5460-4077-bd5d-6252a35d7c1e",
   "metadata": {},
   "outputs": [
    {
     "name": "stdout",
     "output_type": "stream",
     "text": [
      "(bin=19, start=16, width=5)\n"
     ]
    },
    {
     "data": {
      "image/png": "[encoded data removed]",
      "text/plain": [
       "<IPython.core.display.Image object>"
      ]
     },
     "metadata": {},
     "output_type": "display_data"
    }
   ],
   "source": [
    "histogram age, width(5)\n"
   ]
  },
  {
   "cell_type": "markdown",
   "id": "cfdd2c1f-86b9-4840-8106-662ce151f20e",
   "metadata": {},
   "source": [
    "This table holds one randomly selected diagnostic code found during the observation period. The table is truncated to only include diagnostic codes with a count of 10 or more."
   ]
  },
  {
   "cell_type": "code",
   "execution_count": 5,
   "id": "6544a018-204b-4fcb-b5ab-d9ec745e764f",
   "metadata": {},
   "outputs": [
    {
     "name": "stdout",
     "output_type": "stream",
     "text": [
      "\n",
      "  +---------------------------------------------------------------------------------------------------------------------------------\n",
      "> -------------------------+\n",
      "  | description                                                                                                                     \n",
      ">  Freq.   Percent     %<= |\n",
      "  |---------------------------------------------------------------------------------------------------------------------------------\n",
      "> -------------------------|\n",
      "  | Dementia care plan reviewed (situation)                                                                                         \n",
      ">    705     15.39   15.39 |\n",
      "  | Dementia                                                                                                                        \n",
      ">    518     11.31   26.69 |\n",
      "  | Alzheimer's disease                                                                                                             \n",
      ">    507     11.07   37.76 |\n",
      "  | Review of dementia advance care plan                                                                                            \n",
      ">    350      7.64   45.40 |\n",
      "  | Vascular dementia (disorder)                                                                                                    \n",
      ">    267      5.83   51.22 |\n",
      "  |---------------------------------------------------------------------------------------------------------------------------------\n",
      "> -------------------------|\n",
      "  | Alzheimer's disease                                                                                                         ..  \n",
      ">    247      5.39   56.61 |\n",
      "  | Dementia care plan reviewed                                                                                                     \n",
      ">    207      4.52   61.13 |\n",
      "  | Vascular dementia                                                                                                               \n",
      ">    183      3.99   65.12 |\n",
      "  | Senile dementia                                                                                                                 \n",
      ">    162      3.54   68.66 |\n",
      "  | Dementia advance care plan agreed (finding)                                                                                     \n",
      ">    130      2.84   71.50 |\n",
      "  |---------------------------------------------------------------------------------------------------------------------------------\n",
      "> -------------------------|\n",
      "  | Senile and presenile organic psychotic conditions                                                                           ..  \n",
      ">    125      2.73   74.23 |\n",
      "  | H/O: dementia                                                                                                               ..  \n",
      ">    110      2.40   76.63 |\n",
      "  | [X]Dementia in Alzheimer's disease                                                                                          ..  \n",
      ">    102      2.23   78.85 |\n",
      "  | [X] Unspecified dementia                                                                                                    ..  \n",
      ">     79      1.72   80.58 |\n",
      "  | Dementia advance care plan agreed                                                                                               \n",
      ">     74      1.62   82.19 |\n",
      "  |---------------------------------------------------------------------------------------------------------------------------------\n",
      "> -------------------------|\n",
      "  | Dementia care plan agreed (finding)                                                                                             \n",
      ">     66      1.44   83.63 |\n",
      "  | Dementia care plan agreed                                                                                                       \n",
      ">     57      1.24   84.88 |\n",
      "  | Dementia monitoring first letter (procedure)                                                                                    \n",
      ">     54      1.18   86.05 |\n",
      "  | Dementia monitoring first letter                                                                                                \n",
      ">     51      1.11   87.17 |\n",
      "  | [X]Dementia in Alzheimer's dis, atypical or mixed type                                                                      ..  \n",
      ">     50      1.09   88.26 |\n",
      "  |---------------------------------------------------------------------------------------------------------------------------------\n",
      "> -------------------------|\n",
      "  | Primary degenerative dementia of the Alzheimer type, senile onset (disorder)                                                    \n",
      ">     43      0.94   89.20 |\n",
      "  | Dementia in Alzheimer's disease with late onset                                                                                 \n",
      ">     34      0.74   89.94 |\n",
      "  | Multi-infarct dementia                                                                                                          \n",
      ">     34      0.74   90.68 |\n",
      "  | [X]Dementia in Alzheimer's dis, atypical or mixed type (disorder)                                                               \n",
      ">     30      0.65   91.34 |\n",
      "  | Uncomplicated senile dementia                                                                                                   \n",
      ">     24      0.52   91.86 |\n",
      "  |---------------------------------------------------------------------------------------------------------------------------------\n",
      "> -------------------------|\n",
      "  | Dementia medication review (procedure)                                                                                          \n",
      ">     20      0.44   92.30 |\n",
      "  | Diffuse Lewy body disease                                                                                                       \n",
      ">     20      0.44   92.73 |\n",
      "  | [X]Dementia in Alzheimer's disease, unspecified                                                                             ..  \n",
      ">     20      0.44   93.17 |\n",
      "  | [X]Unspecified dementia                                                                                                         \n",
      ">     20      0.44   93.61 |\n",
      "  | [D]Symptoms, signs and ill-defined conditions NOS                                                                               \n",
      ">     17      0.37   93.98 |\n",
      "  |---------------------------------------------------------------------------------------------------------------------------------\n",
      "> -------------------------|\n",
      "  | Dementia associated with Parkinson's Disease (disorder)                                                                         \n",
      ">     14      0.31   94.28 |\n",
      "  | Dementia monitoring telephone invitation (procedure)                                                                            \n",
      ">     14      0.31   94.59 |\n",
      "  | Mixed cortical and subcortical vascular dementia                                                                                \n",
      ">     13      0.28   94.87 |\n",
      "  | [X]Lewy body dementia                                                                                                           \n",
      ">     12      0.26   95.13 |\n",
      "  | Presenile dementia                                                                                                          ..  \n",
      ">     11      0.24   95.37 |\n",
      "  |---------------------------------------------------------------------------------------------------------------------------------\n",
      "> -------------------------|\n",
      "  | Primary degenerative dementia of the Alzheimer type, presenile onset (disorder)                                                 \n",
      ">     11      0.24   95.61 |\n",
      "  | Uncomplicated senile dementia                                                                                               ..  \n",
      ">     11      0.24   95.85 |\n",
      "  | Arteriosclerotic dementia                                                                                                   ..  \n",
      ">     10      0.22   96.07 |\n",
      "  +---------------------------------------------------------------------------------------------------------------------------------\n",
      "> -------------------------+\n"
     ]
    }
   ],
   "source": [
    "set linesize 132\n",
    "groups description , select(f >= 10) ord(h) table "
   ]
  },
  {
   "cell_type": "markdown",
   "id": "7d01eb90-5ca1-4146-aafb-680a81450cc3",
   "metadata": {},
   "source": [
    "These tables holds one randomly selected prescrption during the observation period. The table is truncated to only include codes with a count of 10 or more.\n"
   ]
  },
  {
   "cell_type": "code",
   "execution_count": 6,
   "id": "a4acd83f-5b6a-49e7-8b49-5dc1f78f2d1a",
   "metadata": {},
   "outputs": [
    {
     "name": "stdout",
     "output_type": "stream",
     "text": [
      "\n",
      "  +----------------------------------------------+\n",
      "  |           bnf_code   Freq.   Percent     %<= |\n",
      "  |----------------------------------------------|\n",
      "  | Drugs for dementia    3078     99.23   99.23 |\n",
      "  |      Other/unknown      23      0.74   99.97 |\n",
      "  +----------------------------------------------+\n"
     ]
    }
   ],
   "source": [
    "set linesize 132\n",
    "groups bnf_code , select(f >= 10) ord(h) table "
   ]
  },
  {
   "cell_type": "markdown",
   "id": "67837c2c-bbb5-4681-8000-cd8b3f6cac51",
   "metadata": {},
   "source": [
    "### Results\n",
    "#### Overall"
   ]
  },
  {
   "cell_type": "code",
   "execution_count": 7,
   "id": "733c0f2e-1179-49dc-b95d-48547a864674",
   "metadata": {},
   "outputs": [
    {
     "name": "stdout",
     "output_type": "stream",
     "text": [
      "\n",
      "           |         test\n",
      "      diag |      Pos.       Neg. |     Total\n",
      "-----------+----------------------+----------\n",
      "  Abnormal |     1,922      2,660 |     4,582 \n",
      "    Normal |     1,180    419,238 |   420,418 \n",
      "-----------+----------------------+----------\n",
      "     Total |     3,102    421,898 |   425,000 \n",
      "True abnormal diagnosis defined as diag = 1\n",
      "\n",
      "\n",
      "                                                  [95% Confidence Interval]\n",
      "---------------------------------------------------------------------------\n",
      "Prevalence                         Pr(A)      1.1%      1.0%       1.1%\n",
      "---------------------------------------------------------------------------\n",
      "Sensitivity                      Pr(+|A)     41.9%     40.5%     43.4%\n",
      "Specificity                      Pr(-|N)     99.7%     99.7%     99.7%\n",
      "ROC area               (Sens. + Spec.)/2      0.71      0.70      0.72 \n",
      "---------------------------------------------------------------------------\n",
      "Likelihood ratio (+)     Pr(+|A)/Pr(+|N)    149.45    139.85    159.71 \n",
      "Likelihood ratio (-)     Pr(-|A)/Pr(-|N)      0.58      0.57      0.60 \n",
      "Odds ratio                   LR(+)/LR(-)    256.71    236.53    278.62 \n",
      "Positive predictive value        Pr(A|+)     62.0%     60.2%     63.7% \n",
      "Negative predictive value        Pr(N|-)     99.4%     99.3%     99.4% \n",
      "---------------------------------------------------------------------------\n"
     ]
    }
   ],
   "source": [
    "diagt diag test"
   ]
  }
 ],
 "metadata": {
  "kernelspec": {
   "display_name": "Stata (nbstata)",
   "language": "stata",
   "name": "nbstata"
  },
  "language_info": {
   "file_extension": ".do",
   "mimetype": "text/x-stata",
   "name": "stata",
   "version": "17"
  }
 },
 "nbformat": 4,
 "nbformat_minor": 5
}
