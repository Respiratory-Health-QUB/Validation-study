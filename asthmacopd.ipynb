{
 "cells": [
  {
   "cell_type": "markdown",
   "id": "13e469d7",
   "metadata": {},
   "source": [
    "# Validity of using prescription records to identify patient comorbidities\n",
    "## Combined Analysis of Asthma and COPD combined"
   ]
  },
  {
   "cell_type": "markdown",
   "id": "a3d5caf8",
   "metadata": {},
   "source": [
    "**ReadMe:**\n",
    "- This is a script used in the analysis for Schnier et al., 2025: Validity of using prescription records to classify disease – a record linkage study using routinely collected electronic health records from the UK.\n",
    "- The underlying data set has been created using the Optimum Patient Care Research Database (https://opcrd.optimumpatientcare.org/). The authors do not have permission to give the public access to the study dataset; researchers may request access to OPCRD for their own purposes. \n",
    " - All code is run in StataSE 18. \n"
   ]
  },
  {
   "cell_type": "markdown",
   "id": "1cf02e3e-e834-469d-abf1-21c9ce29f756",
   "metadata": {},
   "source": [
    "**Set up:**\n",
    "|Var|Input|\n",
    "| --- | --- | \n",
    "|population|425,000|\n",
    "|diagnostic codes|Jenni Quint|\n",
    "|drug codes|bnf selection,Jenni Quint|\n",
    "|sql date|22.06.2025|\n",
    "|sql code|asthmacopdselection_20250622.sql| "
   ]
  },
  {
   "cell_type": "code",
   "execution_count": 1,
   "id": "2a759161-052f-4433-ab6c-0ad7ab9120e9",
   "metadata": {},
   "outputs": [
    {
     "data": {
      "text/html": [
       "<style>div.jp-Notebook .datagrid-container {min-height: 448px; }</style>"
      ],
      "text/plain": [
       "<IPython.core.display.HTML object>"
      ]
     },
     "metadata": {},
     "output_type": "display_data"
    }
   ],
   "source": [
    "    clear all"
   ]
  },
  {
   "cell_type": "markdown",
   "id": "5e9a592b-20c3-4eb6-b947-22979a02dcf0",
   "metadata": {},
   "source": [
    "### Import from SQL server and data wrangling"
   ]
  },
  {
   "cell_type": "code",
   "execution_count": 2,
   "id": "b5b5eb32-1b5c-44c2-901c-0e9d1a4e36d2",
   "metadata": {},
   "outputs": [],
   "source": [
    "odbc load, exec(\"select * from [asco_425000_20250622]\") dsn(\"sqlserverconnect\")"
   ]
  },
  {
   "cell_type": "code",
   "execution_count": 3,
   "id": "0835f95f-a07b-4d29-b825-b3823bfad60e",
   "metadata": {
    "scrolled": true
   },
   "outputs": [
    {
     "name": "stdout",
     "output_type": "stream",
     "text": [
      "(74,767 missing values generated)\n",
      "(74,767 real changes made)\n",
      "(44,381 missing values generated)\n",
      "(44,381 real changes made)\n",
      "(2,589 missing values generated)\n",
      "variable bnf_code was str6 now str22\n",
      "(36,795 real changes made)\n",
      "variable bnf_code was str22 now str29\n",
      "(3,269 real changes made)\n",
      "(362 real changes made)\n",
      "(877 real changes made)\n",
      "(2,157 real changes made)\n",
      "(17,147 real changes made)\n",
      "(91 real changes made)\n",
      "(573 real changes made)\n",
      "variable ethnicity was str2 now str6\n",
      "(257,981 real changes made)\n",
      "(3,762 real changes made)\n",
      "(23,912 real changes made)\n",
      "(7,430 real changes made)\n",
      "(8,764 real changes made)\n",
      "variable ethnicity was str6 now str7\n",
      "(123,151 real changes made)\n"
     ]
    }
   ],
   "source": [
    "generate test=0 if missing(drug_dt)\n",
    "replace test=1 if ! missing(drug_dt)  \n",
    "\n",
    "generate diag=0 if missing(diag_dt)\n",
    "replace diag=1 if ! missing(diag_dt)  \n",
    "\n",
    "gen start_year=year(fu_start_dt)\n",
    "\n",
    "\n",
    "egen agecat = cut(age), at(16,30,70,120)\n",
    "label def agecat_lab 16 \"Young\" 30 \"0Middle\" 70 \"Elderly\" 120 \"weird\"\n",
    "label values agecat agecat_lab\n",
    "\n",
    "egen yearcat = cut(start_year), at(2004,2010,2016,2025)\n",
    "label def yearcat_lab 2004 \"2004-2009\" 2010 \"2010-2015\" 2016 \"2016-2020\" \n",
    "label values yearcat yearcat_lab\n",
    "\n",
    "egen imdcat = cut(imd_decile), at(0,4,8,11)\n",
    "label def imdcat_lab 0 \"1-3\" 4 \"4-7\" 8 \"8-10\" \n",
    "label values imdcat imdcat_lab\n",
    "\n",
    "\n",
    "replace bnf_code = \"Adrenoreceptor agonist\" if bnf_code== \"030101\"\n",
    "replace bnf_code = \"Antimuscarinic Bronchodilator\" if bnf_code== \"030102\"\n",
    "replace bnf_code = \"Theophylline\" if bnf_code== \"030103\"\n",
    "replace bnf_code = \"Compound bronchodilator\" if bnf_code== \"030104\"\n",
    "replace bnf_code = \"Devices\" if bnf_code== \"030105\" | bnf_code==\"210102\" | bnf_code==\"211200\"\n",
    "replace bnf_code = \"Corticosteroids\" if bnf_code== \"030200\"\n",
    "replace bnf_code = \"Topical nasal decongestance\" if bnf_code== \"120202\"\n",
    "replace bnf_code = \"Glucocorticoid\" if bnf_code== \"060302\"\n",
    "replace bnf_code = \"Other/unknown\" if missing(bnf_code) & ! missing(drug_dt)\n",
    "\n",
    "\n",
    "\n",
    "replace ethnicity=\"0white\" if ethnicity==\"1\"\n",
    "replace ethnicity=\"Other\" if ethnicity==\"2\"\n",
    "replace ethnicity=\"Other\" if ethnicity==\"3\"\n",
    "replace ethnicity=\"Other\" if ethnicity==\"4\"\n",
    "replace ethnicity=\"Other\" if ethnicity==\"5\"\n",
    "replace ethnicity=\"Missing\" if ethnicity==\"99\"\n",
    "\n",
    "\n",
    "encode bnf_code, generate(bnf_code_values) \n",
    "encode description, generate(description_values)\n",
    "encode ethnicity, generate(ethnicity_values) \n",
    "\n",
    "gen diag_neg=diag==0\n",
    "gen diag_pos=diag==1\n",
    "encode region_name, generate(region) label(regionlbl)\n",
    "encode ethnicity, generate(ethnic)\n"
   ]
  },
  {
   "cell_type": "code",
   "execution_count": 4,
   "id": "4bb67b58-5460-4077-bd5d-6252a35d7c1e",
   "metadata": {},
   "outputs": [
    {
     "name": "stdout",
     "output_type": "stream",
     "text": [
      "(bin=19, start=16, width=5)\n"
     ]
    },
    {
     "data": {
      "image/png": "[encoded data removed]",
      "text/plain": [
       "<IPython.core.display.Image object>"
      ]
     },
     "metadata": {},
     "output_type": "display_data"
    }
   ],
   "source": [
    "histogram age, width(5)\n"
   ]
  },
  {
   "cell_type": "markdown",
   "id": "cfdd2c1f-86b9-4840-8106-662ce151f20e",
   "metadata": {},
   "source": [
    "This table holds one randomly selected diagnostic code found during the observation period. The table is truncated to only include diagnostic codes with a count of 10 or more."
   ]
  },
  {
   "cell_type": "code",
   "execution_count": 5,
   "id": "6544a018-204b-4fcb-b5ab-d9ec745e764f",
   "metadata": {},
   "outputs": [
    {
     "name": "stdout",
     "output_type": "stream",
     "text": [
      "\n",
      "  +-----------------------------------------------------------------------------------------------------+\n",
      "  |                                                               description   Freq.   Percent     %<= |\n",
      "  |-----------------------------------------------------------------------------------------------------|\n",
      "  |                                                                    asthma    5244     11.82   11.82 |\n",
      "  |                                                      Asthma annual review    3246      7.31   19.13 |\n",
      "  |                     other specified chronic obstructive pulmonary disease    2181      4.91   24.04 |\n",
      "  |                       Chronic obstructive pulmonary disease annual review    1853      4.18   28.22 |\n",
      "  |                                            Asthma not limiting activities    1618      3.65   31.86 |\n",
      "  |-----------------------------------------------------------------------------------------------------|\n",
      "  |                                                      asthma annual review    1600      3.61   35.47 |\n",
      "  |                       chronic obstructive pulmonary disease annual review    1586      3.57   39.04 |\n",
      "  |                                               chr. airway obstruction nos    1471      3.31   42.36 |\n",
      "  |                                                    Exacerbation of asthma     998      2.25   44.61 |\n",
      "  |                                                  Asthma medication review     989      2.23   46.84 |\n",
      "  |-----------------------------------------------------------------------------------------------------|\n",
      "  |                                      Asthma never causes daytime symptoms     978      2.20   49.04 |\n",
      "  |               chronic obstructive pulmonary disease monitoring 1st letter     896      2.02   51.06 |\n",
      "  |                                               asthma never disturbs sleep     861      1.94   53.00 |\n",
      "  |                                                          asthma monitored     858      1.93   54.93 |\n",
      "  |                 acute exacerbation of chronic obstructive airways disease     822      1.85   56.78 |\n",
      "  |-----------------------------------------------------------------------------------------------------|\n",
      "  |               Chronic obstructive pulmonary disease monitoring 1st letter     735      1.66   58.44 |\n",
      "  |                                                         asthma management     727      1.64   60.08 |\n",
      "  |                                      asthma never causes daytime symptoms     711      1.60   61.68 |\n",
      "  |                                           asthma never restricts exercise     621      1.40   63.08 |\n",
      "  |                                                asthma limiting activities     571      1.29   64.37 |\n",
      "  |-----------------------------------------------------------------------------------------------------|\n",
      "  |                          chronic obstructive pulmonary disease monitoring     571      1.29   65.65 |\n",
      "  |                                                   asthma disturbing sleep     559      1.26   66.91 |\n",
      "  |                                       asthma sometimes restricts exercise     467      1.05   67.96 |\n",
      "  |                                                   Asthma daytime symptoms     450      1.01   68.98 |\n",
      "  |                     Asthma causes daytime symptoms 1 to 2 times per month     440      0.99   69.97 |\n",
      "  |-----------------------------------------------------------------------------------------------------|\n",
      "  |                      Asthma causes daytime symptoms 1 to 2 times per week     392      0.88   70.85 |\n",
      "  |                          Chronic obstructive pulmonary disease monitoring     382      0.86   71.71 |\n",
      "  |                               number of asthma exacerbations in past year     382      0.86   72.57 |\n",
      "  |                                  Asthma causes daytime symptoms most days     375      0.84   73.42 |\n",
      "  |                                                Asthma monitoring by nurse     337      0.76   74.18 |\n",
      "  |-----------------------------------------------------------------------------------------------------|\n",
      "  |                                mild chronic obstructive pulmonary disease     328      0.74   74.92 |\n",
      "  |                            moderate chronic obstructive pulmonary disease     326      0.73   75.65 |\n",
      "  |                     asthma causes daytime symptoms 1 to 2 times per month     323      0.73   76.38 |\n",
      "  |                                                       Asthma control test     310      0.70   77.08 |\n",
      "  |                                                   asthma daytime symptoms     305      0.69   77.77 |\n",
      "  |-----------------------------------------------------------------------------------------------------|\n",
      "  |                                              Asthma monitoring check done     304      0.68   78.45 |\n",
      "  |                               Number of asthma exacerbations in past year     302      0.68   79.13 |\n",
      "  |                                                          Asthma follow-up     300      0.68   79.81 |\n",
      "  |                                                  asthma medication review     300      0.68   80.48 |\n",
      "  |                                Mild chronic obstructive pulmonary disease     287      0.65   81.13 |\n",
      "  |-----------------------------------------------------------------------------------------------------|\n",
      "  |                            Moderate chronic obstructive pulmonary disease     274      0.62   81.75 |\n",
      "  |                                                         asthma monitoring     260      0.59   82.33 |\n",
      "  |                                               Asthma monitoring by doctor     226      0.51   82.84 |\n",
      "  |                                                           other emphysema     209      0.47   83.31 |\n",
      "  |                                        Asthma never causes night symptoms     206      0.46   83.78 |\n",
      "  |-----------------------------------------------------------------------------------------------------|\n",
      "  |                      asthma causes daytime symptoms 1 to 2 times per week     197      0.44   84.22 |\n",
      "  |                                                          asthma follow-up     192      0.43   84.65 |\n",
      "  |                                                     asthma control step 2     191      0.43   85.08 |\n",
      "  |                                                            bronchitis nos     191      0.43   85.51 |\n",
      "  |                                            airways obstructn irreversible     167      0.38   85.89 |\n",
      "  |-----------------------------------------------------------------------------------------------------|\n",
      "  |                              severe chronic obstructive pulmonary disease     166      0.37   86.26 |\n",
      "  |                                  asthma causes daytime symptoms most days     162      0.37   86.63 |\n",
      "  |                                           COPD self-management plan given     159      0.36   86.99 |\n",
      "  |                                        Asthma self-management plan agreed     155      0.35   87.34 |\n",
      "  |                                  Asthma treatment compliance satisfactory     148      0.33   87.67 |\n",
      "  |-----------------------------------------------------------------------------------------------------|\n",
      "  |                                                 asthma restricts exercise     140      0.32   87.99 |\n",
      "  |                                                                 emphysema     136      0.31   88.29 |\n",
      "  |                                                     asthma control step 3     133      0.30   88.59 |\n",
      "  |                              Severe chronic obstructive pulmonary disease     129      0.29   88.88 |\n",
      "  |                                               asthma monitoring by doctor     129      0.29   89.17 |\n",
      "  |-----------------------------------------------------------------------------------------------------|\n",
      "  |                                          asthma disturbs sleep frequently     128      0.29   89.46 |\n",
      "  |                                               asthma causing night waking     122      0.27   89.74 |\n",
      "  |                                                     asthma control step 1     122      0.27   90.01 |\n",
      "  |                                              acute exacerbation of asthma     119      0.27   90.28 |\n",
      "  |                 Asthma accident and emergency attendance since last visit     117      0.26   90.54 |\n",
      "  |-----------------------------------------------------------------------------------------------------|\n",
      "  |                                    Asthma trigger - respiratory infection     114      0.26   90.80 |\n",
      "  |                                              asthma disturbs sleep weekly     106      0.24   91.04 |\n",
      "  |                                                    Bronchitis unspecified     104      0.23   91.27 |\n",
      "  |                                   chronic obstructive airways disease nos     100      0.23   91.50 |\n",
      "  |                                              chronic asthmatic bronchitis      97      0.22   91.72 |\n",
      "  |-----------------------------------------------------------------------------------------------------|\n",
      "  |                                        Asthma self-management plan review      95      0.21   91.93 |\n",
      "  |                         [D]Symptoms, signs and ill-defined conditions NOS      86      0.19   92.13 |\n",
      "  |                                                           allergic asthma      82      0.18   92.31 |\n",
      "  |                Royal College Physician asthma assessment 3 question score      80      0.18   92.49 |\n",
      "  |                                                     hay fever with asthma      79      0.18   92.67 |\n",
      "  |-----------------------------------------------------------------------------------------------------|\n",
      "  |                           Chronic obstructive pulmonary disease follow-up      78      0.18   92.84 |\n",
      "  |                                                asthma monitoring by nurse      78      0.18   93.02 |\n",
      "  |               chronic obstructive pulmonary disease monitoring 2nd letter      78      0.18   93.20 |\n",
      "  |                                                   exercise induced asthma      75      0.17   93.36 |\n",
      "  |                           chronic obstructive pulmonary disease follow-up      73      0.16   93.53 |\n",
      "  |-----------------------------------------------------------------------------------------------------|\n",
      "  |       acute infective exacerbation of chronic obstructive airways disease      69      0.16   93.68 |\n",
      "  |                                                 Asthma trigger - cold air      68      0.15   93.84 |\n",
      "  |                       Asthma causes night symptoms 1 to 2 times per month      63      0.14   93.98 |\n",
      "  |                                                         Asthma monitoring      63      0.14   94.12 |\n",
      "  |                                  asthma treatment compliance satisfactory      58      0.13   94.25 |\n",
      "  |-----------------------------------------------------------------------------------------------------|\n",
      "  |                    chronic obstructive pulmonary disease 6 monthly review      58      0.13   94.38 |\n",
      "  |              Acute infective exacerbation chronic obstruct airway disease      56      0.13   94.51 |\n",
      "  |                                                                Asthma NOS      56      0.13   94.64 |\n",
      "  |                                                 Asthma trigger - exercise      56      0.13   94.76 |\n",
      "  |                                                     Hay fever with asthma      56      0.13   94.89 |\n",
      "  |-----------------------------------------------------------------------------------------------------|\n",
      "  |                         Patient has a written asthma personal action plan      56      0.13   95.01 |\n",
      "  |                   Asthma causes night time symptoms 1 to 2 times per week      55      0.12   95.14 |\n",
      "  |                    Chronic obstructive pulmonary disease 6 monthly review      55      0.12   95.26 |\n",
      "  |                                                 Asthma trigger - seasonal      54      0.12   95.38 |\n",
      "  |                                  Step up change in asthma management plan      54      0.12   95.50 |\n",
      "  |-----------------------------------------------------------------------------------------------------|\n",
      "  |                                                   exercise-induced asthma      54      0.12   95.63 |\n",
      "  |                                                   Asthma trigger - pollen      53      0.12   95.75 |\n",
      "  |               Chronic obstructive pulmonary disease monitoring 2nd letter      53      0.12   95.87 |\n",
      "  |                                                 asthma - currently active      51      0.11   95.98 |\n",
      "  |                                                       allergic asthma nec      50      0.11   96.09 |\n",
      "  |-----------------------------------------------------------------------------------------------------|\n",
      "  |                                        Asthma causes symptoms most nights      45      0.10   96.19 |\n",
      "  |                                  Asthma limits walking up hills or stairs      45      0.10   96.30 |\n",
      "  |              Asthma review using Roy Colleg of Physicians three questions      43      0.10   96.39 |\n",
      "  |                    Chronic obstructive pulmonary disease monitoring admin      43      0.10   96.49 |\n",
      "  |                chronic obstructive pulmonary disease monitor phone invite      43      0.10   96.59 |\n",
      "  |-----------------------------------------------------------------------------------------------------|\n",
      "  |                                              Asthma control questionnaire      42      0.09   96.68 |\n",
      "  |                                                Asthma night-time symptoms      41      0.09   96.77 |\n",
      "  |                                           Asthma clinical management plan      39      0.09   96.86 |\n",
      "  |               Chron obstruct pulmonary dis wth acute exacerbation, unspec      39      0.09   96.95 |\n",
      "  |                Chronic obstructive pulmonary disease monitor phone invite      37      0.08   97.03 |\n",
      "  |-----------------------------------------------------------------------------------------------------|\n",
      "  |                                                  Asthma trigger - animals      36      0.08   97.11 |\n",
      "  |                                                               mild asthma      36      0.08   97.19 |\n",
      "  |                                                 Asthma - currently active      33      0.07   97.27 |\n",
      "  |                            Asthma limits activities 1 to 2 times per week      33      0.07   97.34 |\n",
      "  |                                                        asthma unspecified      33      0.07   97.42 |\n",
      "  |-----------------------------------------------------------------------------------------------------|\n",
      "  |              Chronic obstructive pulmonary disease monitoring verb invite      32      0.07   97.49 |\n",
      "  |                                                           asthma severity      32      0.07   97.56 |\n",
      "  |                    chronic obstructive pulmonary disease monitoring admin      32      0.07   97.63 |\n",
      "  |                                                        chronic bronchitis      31      0.07   97.70 |\n",
      "  | acute non-infective exacerbation of chronic obstructive pulmonary disease      30      0.07   97.77 |\n",
      "  |-----------------------------------------------------------------------------------------------------|\n",
      "  |              chronic obstructive pulmonary disease monitoring verb invite      30      0.07   97.84 |\n",
      "  |                                            Asthma trigger - airborne dust      26      0.06   97.90 |\n",
      "  |                                                  Asthma trigger - emotion      25      0.06   97.95 |\n",
      "  |               Chronic obstructive pulmonary disease monitoring 3rd letter      25      0.06   98.01 |\n",
      "  |                                        asthma severely restricts exercise      25      0.06   98.07 |\n",
      "  |-----------------------------------------------------------------------------------------------------|\n",
      "  |               chronic obstructive pulmonary disease monitoring 3rd letter      25      0.06   98.12 |\n",
      "  |                                        Asthma limits activities most days      24      0.05   98.18 |\n",
      "  |                                Asthma treatment compliance unsatisfactory      24      0.05   98.23 |\n",
      "  |                                                     Asthma trigger - damp      24      0.05   98.29 |\n",
      "  |                           Asthma limits activities 1 to 2 times per month      22      0.05   98.33 |\n",
      "  |-----------------------------------------------------------------------------------------------------|\n",
      "  |                             Royal College of Physicians asthma assessment      22      0.05   98.38 |\n",
      "  |                                                          intrinsic asthma      22      0.05   98.43 |\n",
      "  |                                                         late onset asthma      22      0.05   98.48 |\n",
      "  |                                                             Asthma attack      21      0.05   98.53 |\n",
      "  |                                            Asthma trigger - tobacco smoke      20      0.05   98.58 |\n",
      "  |-----------------------------------------------------------------------------------------------------|\n",
      "  |                                                           Allergic asthma      18      0.04   98.62 |\n",
      "  |                    Chronic obstructive pulmonary disease 3 monthly review      18      0.04   98.66 |\n",
      "  |                                 Health education - asthma self management      18      0.04   98.70 |\n",
      "  |                                                 asthma control test score      18      0.04   98.74 |\n",
      "  |                                  Absent from work or school due to asthma      16      0.04   98.77 |\n",
      "  |-----------------------------------------------------------------------------------------------------|\n",
      "  |                                                      Admit COPD emergency      16      0.04   98.81 |\n",
      "  |                                Step down change in asthma management plan      16      0.04   98.85 |\n",
      "  |                                   emergency hospital admission for asthma      16      0.04   98.88 |\n",
      "  |                                        asthma self-management plan agreed      15      0.03   98.92 |\n",
      "  |                      Chronic obstructive pulmonary disease monitoring due      14      0.03   98.95 |\n",
      "  |-----------------------------------------------------------------------------------------------------|\n",
      "  |                                  asthma limits walking up hills or stairs      14      0.03   98.98 |\n",
      "  |                                                             asthma attack      13      0.03   99.01 |\n",
      "  |                                                 attends asthma monitoring      13      0.03   99.04 |\n",
      "  |                    chronic obstructive pulmonary disease 3 monthly review      13      0.03   99.07 |\n",
      "  |                           emergency asthma admission since last encounter      13      0.03   99.10 |\n",
      "  |-----------------------------------------------------------------------------------------------------|\n",
      "  |                                                             emphysema nos      13      0.03   99.13 |\n",
      "  |                                                 Asthma trigger - warm air      12      0.03   99.15 |\n",
      "  |                                                      admit copd emergency      12      0.03   99.18 |\n",
      "  |                      chronic obstructive pulmonary disease monitoring due      12      0.03   99.21 |\n",
      "  |                                  Acute non-infective exacerbation of COPD      11      0.02   99.23 |\n",
      "  |-----------------------------------------------------------------------------------------------------|\n",
      "  |              Chronic obstructive pulmonary disease does not disturb sleep      11      0.02   99.26 |\n",
      "  |                                                         Late onset asthma      11      0.02   99.28 |\n",
      "  |                         Very severe chronic obstructive pulmonary disease      11      0.02   99.31 |\n",
      "  |                                                          asthma confirmed      10      0.02   99.33 |\n",
      "  |           asthma review using royal college of physicians three questions      10      0.02   99.35 |\n",
      "  |-----------------------------------------------------------------------------------------------------|\n",
      "  |                                    asthma trigger - respiratory infection      10      0.02   99.37 |\n",
      "  |                       emergency asthma patient visit since last encounter      10      0.02   99.40 |\n",
      "  |                                                           moderate asthma      10      0.02   99.42 |\n",
      "  +-----------------------------------------------------------------------------------------------------+\n"
     ]
    }
   ],
   "source": [
    "set linesize 132\n",
    "groups description , select(f >= 10) ord(h) table "
   ]
  },
  {
   "cell_type": "markdown",
   "id": "7d01eb90-5ca1-4146-aafb-680a81450cc3",
   "metadata": {},
   "source": [
    "These tables holds one randomly selected prescrption during the observation period. The table is truncated to only include codes with a count of 10 or more.\n"
   ]
  },
  {
   "cell_type": "code",
   "execution_count": 6,
   "id": "a4acd83f-5b6a-49e7-8b49-5dc1f78f2d1a",
   "metadata": {},
   "outputs": [
    {
     "name": "stdout",
     "output_type": "stream",
     "text": [
      "\n",
      "  +---------------------------------------------------------+\n",
      "  |                      bnf_code   Freq.   Percent     %<= |\n",
      "  |---------------------------------------------------------|\n",
      "  |        Adrenoreceptor agonist   36795     49.21   49.21 |\n",
      "  |               Corticosteroids   17147     22.93   72.15 |\n",
      "  |                        060302   13491     18.04   90.19 |\n",
      "  | Antimuscarinic Bronchodilator    3269      4.37   94.56 |\n",
      "  |                       Devices    2157      2.88   97.45 |\n",
      "  |---------------------------------------------------------|\n",
      "  |       Compound bronchodilator     877      1.17   98.62 |\n",
      "  |                 Other/unknown     573      0.77   99.39 |\n",
      "  |                  Theophylline     362      0.48   99.87 |\n",
      "  |   Topical nasal decongestance      91      0.12   99.99 |\n",
      "  +---------------------------------------------------------+\n"
     ]
    }
   ],
   "source": [
    "set linesize 132\n",
    "groups bnf_code , select(f >= 10) ord(h) table "
   ]
  },
  {
   "cell_type": "markdown",
   "id": "67837c2c-bbb5-4681-8000-cd8b3f6cac51",
   "metadata": {},
   "source": [
    "### Results\n",
    "#### Overall"
   ]
  },
  {
   "cell_type": "code",
   "execution_count": 7,
   "id": "733c0f2e-1179-49dc-b95d-48547a864674",
   "metadata": {},
   "outputs": [
    {
     "name": "stdout",
     "output_type": "stream",
     "text": [
      "\n",
      "           |         test\n",
      "      diag |      Pos.       Neg. |     Total\n",
      "-----------+----------------------+----------\n",
      "  Abnormal |    42,120      2,261 |    44,381 \n",
      "    Normal |    32,647    347,972 |   380,619 \n",
      "-----------+----------------------+----------\n",
      "     Total |    74,767    350,233 |   425,000 \n",
      "True abnormal diagnosis defined as diag = 1\n",
      "\n",
      "\n",
      "                                                  [95% Confidence Interval]\n",
      "---------------------------------------------------------------------------\n",
      "Prevalence                         Pr(A)     10.4%     10.4%      10.5%\n",
      "---------------------------------------------------------------------------\n",
      "Sensitivity                      Pr(+|A)     94.9%     94.7%     95.1%\n",
      "Specificity                      Pr(-|N)     91.4%     91.3%     91.5%\n",
      "ROC area               (Sens. + Spec.)/2      0.93      0.93      0.93 \n",
      "---------------------------------------------------------------------------\n",
      "Likelihood ratio (+)     Pr(+|A)/Pr(+|N)     11.06     10.95     11.18 \n",
      "Likelihood ratio (-)     Pr(-|A)/Pr(-|N)      0.06      0.05      0.06 \n",
      "Odds ratio                   LR(+)/LR(-)    198.56    190.05    207.45 \n",
      "Positive predictive value        Pr(A|+)     56.3%     56.0%     56.7% \n",
      "Negative predictive value        Pr(N|-)     99.4%     99.3%     99.4% \n",
      "---------------------------------------------------------------------------\n"
     ]
    }
   ],
   "source": [
    "diagt diag test"
   ]
  },
  {
   "cell_type": "markdown",
   "id": "b119ffa3-90d8-4e4f-9f8d-30cca2284b37",
   "metadata": {},
   "source": [
    "#### Males"
   ]
  },
  {
   "cell_type": "code",
   "execution_count": 8,
   "id": "81028f5e-4e7a-4bb4-b0f6-71d8d0821075",
   "metadata": {},
   "outputs": [
    {
     "name": "stdout",
     "output_type": "stream",
     "text": [
      "\n",
      "           |         test\n",
      "      diag |      Pos.       Neg. |     Total\n",
      "-----------+----------------------+----------\n",
      "  Abnormal |    19,155      1,162 |    20,317 \n",
      "    Normal |    13,517    174,451 |   187,968 \n",
      "-----------+----------------------+----------\n",
      "     Total |    32,672    175,613 |   208,285 \n",
      "True abnormal diagnosis defined as diag = 1\n",
      "\n",
      "\n",
      "                                                  [95% Confidence Interval]\n",
      "---------------------------------------------------------------------------\n",
      "Prevalence                         Pr(A)      9.8%      9.6%       9.9%\n",
      "---------------------------------------------------------------------------\n",
      "Sensitivity                      Pr(+|A)     94.3%     94.0%     94.6%\n",
      "Specificity                      Pr(-|N)     92.8%     92.7%     92.9%\n",
      "ROC area               (Sens. + Spec.)/2      0.94      0.93      0.94 \n",
      "---------------------------------------------------------------------------\n",
      "Likelihood ratio (+)     Pr(+|A)/Pr(+|N)     13.11     12.89     13.33 \n",
      "Likelihood ratio (-)     Pr(-|A)/Pr(-|N)      0.06      0.06      0.07 \n",
      "Odds ratio                   LR(+)/LR(-)    212.75    200.01    226.30 \n",
      "Positive predictive value        Pr(A|+)     58.6%     58.1%     59.2% \n",
      "Negative predictive value        Pr(N|-)     99.3%     99.3%     99.4% \n",
      "---------------------------------------------------------------------------\n"
     ]
    }
   ],
   "source": [
    "diagt diag test if sex==1"
   ]
  },
  {
   "cell_type": "markdown",
   "id": "762df1ac-de32-43e9-8cb3-6696c91e2459",
   "metadata": {},
   "source": [
    "#### Females"
   ]
  },
  {
   "cell_type": "code",
   "execution_count": 9,
   "id": "7fc985e3-7757-4908-ae5a-5d346ee7ccb6",
   "metadata": {},
   "outputs": [
    {
     "name": "stdout",
     "output_type": "stream",
     "text": [
      "\n",
      "           |         test\n",
      "      diag |      Pos.       Neg. |     Total\n",
      "-----------+----------------------+----------\n",
      "  Abnormal |    22,965      1,099 |    24,064 \n",
      "    Normal |    19,129    173,513 |   192,642 \n",
      "-----------+----------------------+----------\n",
      "     Total |    42,094    174,612 |   216,706 \n",
      "True abnormal diagnosis defined as diag = 1\n",
      "\n",
      "\n",
      "                                                  [95% Confidence Interval]\n",
      "---------------------------------------------------------------------------\n",
      "Prevalence                         Pr(A)     11.1%     11.0%      11.2%\n",
      "---------------------------------------------------------------------------\n",
      "Sensitivity                      Pr(+|A)     95.4%     95.2%     95.7%\n",
      "Specificity                      Pr(-|N)     90.1%     89.9%     90.2%\n",
      "ROC area               (Sens. + Spec.)/2      0.93      0.93      0.93 \n",
      "---------------------------------------------------------------------------\n",
      "Likelihood ratio (+)     Pr(+|A)/Pr(+|N)      9.61      9.48      9.74 \n",
      "Likelihood ratio (-)     Pr(-|A)/Pr(-|N)      0.05      0.05      0.05 \n",
      "Odds ratio                   LR(+)/LR(-)    189.54    178.09    201.73 \n",
      "Positive predictive value        Pr(A|+)     54.6%     54.1%     55.0% \n",
      "Negative predictive value        Pr(N|-)     99.4%     99.3%     99.4% \n",
      "---------------------------------------------------------------------------\n"
     ]
    }
   ],
   "source": [
    "diagt diag test if sex==0"
   ]
  },
  {
   "cell_type": "markdown",
   "id": "ab8954a7-060c-4eba-adea-1044fb6bb9ea",
   "metadata": {},
   "source": [
    "#### Age\n",
    "*16-29*"
   ]
  },
  {
   "cell_type": "code",
   "execution_count": 10,
   "id": "f9aa943b-6489-4d70-a905-4aa3b8f2cb6e",
   "metadata": {},
   "outputs": [
    {
     "name": "stdout",
     "output_type": "stream",
     "text": [
      "\n",
      "           |         test\n",
      "      diag |      Pos.       Neg. |     Total\n",
      "-----------+----------------------+----------\n",
      "  Abnormal |     6,901        495 |     7,396 \n",
      "    Normal |     6,233    104,045 |   110,278 \n",
      "-----------+----------------------+----------\n",
      "     Total |    13,134    104,540 |   117,674 \n",
      "True abnormal diagnosis defined as diag = 1\n",
      "\n",
      "\n",
      "                                                  [95% Confidence Interval]\n",
      "---------------------------------------------------------------------------\n",
      "Prevalence                         Pr(A)      6.3%      6.1%       6.4%\n",
      "---------------------------------------------------------------------------\n",
      "Sensitivity                      Pr(+|A)     93.3%     92.7%     93.9%\n",
      "Specificity                      Pr(-|N)     94.3%     94.2%     94.5%\n",
      "ROC area               (Sens. + Spec.)/2      0.94      0.94      0.94 \n",
      "---------------------------------------------------------------------------\n",
      "Likelihood ratio (+)     Pr(+|A)/Pr(+|N)     16.51     16.10     16.92 \n",
      "Likelihood ratio (-)     Pr(-|A)/Pr(-|N)      0.07      0.07      0.08 \n",
      "Odds ratio                   LR(+)/LR(-)    232.72    211.70    255.83 \n",
      "Positive predictive value        Pr(A|+)     52.5%     51.7%     53.4% \n",
      "Negative predictive value        Pr(N|-)     99.5%     99.5%     99.6% \n",
      "---------------------------------------------------------------------------\n"
     ]
    }
   ],
   "source": [
    "diagt diag test if agecat==16"
   ]
  },
  {
   "cell_type": "markdown",
   "id": "999f9154-f87e-44c7-8928-1345fa5c5958",
   "metadata": {},
   "source": [
    "*30-69*"
   ]
  },
  {
   "cell_type": "code",
   "execution_count": 11,
   "id": "6fcb0167-b359-4f24-91e3-a10fb2caa610",
   "metadata": {},
   "outputs": [
    {
     "name": "stdout",
     "output_type": "stream",
     "text": [
      "\n",
      "           |         test\n",
      "      diag |      Pos.       Neg. |     Total\n",
      "-----------+----------------------+----------\n",
      "  Abnormal |    21,658      1,027 |    22,685 \n",
      "    Normal |    16,087    182,623 |   198,710 \n",
      "-----------+----------------------+----------\n",
      "     Total |    37,745    183,650 |   221,395 \n",
      "True abnormal diagnosis defined as diag = 1\n",
      "\n",
      "\n",
      "                                                  [95% Confidence Interval]\n",
      "---------------------------------------------------------------------------\n",
      "Prevalence                         Pr(A)     10.2%     10.1%      10.4%\n",
      "---------------------------------------------------------------------------\n",
      "Sensitivity                      Pr(+|A)     95.5%     95.2%     95.7%\n",
      "Specificity                      Pr(-|N)     91.9%     91.8%     92.0%\n",
      "ROC area               (Sens. + Spec.)/2      0.94      0.94      0.94 \n",
      "---------------------------------------------------------------------------\n",
      "Likelihood ratio (+)     Pr(+|A)/Pr(+|N)     11.79     11.62     11.97 \n",
      "Likelihood ratio (-)     Pr(-|A)/Pr(-|N)      0.05      0.05      0.05 \n",
      "Odds ratio                   LR(+)/LR(-)    239.40    224.42    255.38 \n",
      "Positive predictive value        Pr(A|+)     57.4%     56.9%     57.9% \n",
      "Negative predictive value        Pr(N|-)     99.4%     99.4%     99.5% \n",
      "---------------------------------------------------------------------------\n"
     ]
    }
   ],
   "source": [
    "diagt diag test if agecat==30"
   ]
  },
  {
   "cell_type": "code",
   "execution_count": 12,
   "id": "fd782079-4378-4cc3-9a2c-4adb92379d41",
   "metadata": {},
   "outputs": [
    {
     "name": "stdout",
     "output_type": "stream",
     "text": [
      "\n",
      "           |         test\n",
      "      diag |      Pos.       Neg. |     Total\n",
      "-----------+----------------------+----------\n",
      "  Abnormal |    13,561        739 |    14,300 \n",
      "    Normal |    10,327     61,304 |    71,631 \n",
      "-----------+----------------------+----------\n",
      "     Total |    23,888     62,043 |    85,931 \n",
      "True abnormal diagnosis defined as diag = 1\n",
      "\n",
      "\n",
      "                                                  [95% Confidence Interval]\n",
      "---------------------------------------------------------------------------\n",
      "Prevalence                         Pr(A)     16.6%     16.4%      16.9%\n",
      "---------------------------------------------------------------------------\n",
      "Sensitivity                      Pr(+|A)     94.8%     94.5%     95.2%\n",
      "Specificity                      Pr(-|N)     85.6%     85.3%     85.8%\n",
      "ROC area               (Sens. + Spec.)/2      0.90      0.90      0.90 \n",
      "---------------------------------------------------------------------------\n",
      "Likelihood ratio (+)     Pr(+|A)/Pr(+|N)      6.58      6.46      6.70 \n",
      "Likelihood ratio (-)     Pr(-|A)/Pr(-|N)      0.06      0.06      0.06 \n",
      "Odds ratio                   LR(+)/LR(-)    108.93    100.87    117.64 \n",
      "Positive predictive value        Pr(A|+)     56.8%     56.1%     57.4% \n",
      "Negative predictive value        Pr(N|-)     98.8%     98.7%     98.9% \n",
      "---------------------------------------------------------------------------\n"
     ]
    }
   ],
   "source": [
    "diagt diag test if agecat==70"
   ]
  },
  {
   "cell_type": "markdown",
   "id": "23455479-0f98-4886-a36c-770376084911",
   "metadata": {},
   "source": [
    "#### Year at start of oberservation period \n",
    "*2004-2009*"
   ]
  },
  {
   "cell_type": "code",
   "execution_count": 13,
   "id": "9c58ecee-bd42-47a9-ad46-f51305e689bf",
   "metadata": {},
   "outputs": [
    {
     "name": "stdout",
     "output_type": "stream",
     "text": [
      "\n",
      "           |         test\n",
      "      diag |      Pos.       Neg. |     Total\n",
      "-----------+----------------------+----------\n",
      "  Abnormal |    15,656        849 |    16,505 \n",
      "    Normal |    12,296    121,199 |   133,495 \n",
      "-----------+----------------------+----------\n",
      "     Total |    27,952    122,048 |   150,000 \n",
      "True abnormal diagnosis defined as diag = 1\n",
      "\n",
      "\n",
      "                                                  [95% Confidence Interval]\n",
      "---------------------------------------------------------------------------\n",
      "Prevalence                         Pr(A)     11.0%     10.8%      11.2%\n",
      "---------------------------------------------------------------------------\n",
      "Sensitivity                      Pr(+|A)     94.9%     94.5%     95.2%\n",
      "Specificity                      Pr(-|N)     90.8%     90.6%     90.9%\n",
      "ROC area               (Sens. + Spec.)/2      0.93      0.93      0.93 \n",
      "---------------------------------------------------------------------------\n",
      "Likelihood ratio (+)     Pr(+|A)/Pr(+|N)     10.30     10.12     10.48 \n",
      "Likelihood ratio (-)     Pr(-|A)/Pr(-|N)      0.06      0.05      0.06 \n",
      "Odds ratio                   LR(+)/LR(-)    181.76    169.22    195.24 \n",
      "Positive predictive value        Pr(A|+)     56.0%     55.4%     56.6% \n",
      "Negative predictive value        Pr(N|-)     99.3%     99.3%     99.4% \n",
      "---------------------------------------------------------------------------\n"
     ]
    }
   ],
   "source": [
    "diagt diag test if yearcat==2004"
   ]
  },
  {
   "cell_type": "markdown",
   "id": "d9f3db50-6898-4b47-81ef-4ea609bb28d8",
   "metadata": {},
   "source": [
    "*2010-2015*"
   ]
  },
  {
   "cell_type": "code",
   "execution_count": 14,
   "id": "6b326410-d900-498f-b736-4ced1ea7fa5d",
   "metadata": {},
   "outputs": [
    {
     "name": "stdout",
     "output_type": "stream",
     "text": [
      "\n",
      "           |         test\n",
      "      diag |      Pos.       Neg. |     Total\n",
      "-----------+----------------------+----------\n",
      "  Abnormal |    14,777        791 |    15,568 \n",
      "    Normal |    11,769    122,663 |   134,432 \n",
      "-----------+----------------------+----------\n",
      "     Total |    26,546    123,454 |   150,000 \n",
      "True abnormal diagnosis defined as diag = 1\n",
      "\n",
      "\n",
      "                                                  [95% Confidence Interval]\n",
      "---------------------------------------------------------------------------\n",
      "Prevalence                         Pr(A)     10.4%     10.2%      10.5%\n",
      "---------------------------------------------------------------------------\n",
      "Sensitivity                      Pr(+|A)     94.9%     94.6%     95.3%\n",
      "Specificity                      Pr(-|N)     91.2%     91.1%     91.4%\n",
      "ROC area               (Sens. + Spec.)/2      0.93      0.93      0.93 \n",
      "---------------------------------------------------------------------------\n",
      "Likelihood ratio (+)     Pr(+|A)/Pr(+|N)     10.84     10.65     11.04 \n",
      "Likelihood ratio (-)     Pr(-|A)/Pr(-|N)      0.06      0.05      0.06 \n",
      "Odds ratio                   LR(+)/LR(-)    194.71    180.82    209.66 \n",
      "Positive predictive value        Pr(A|+)     55.7%     55.1%     56.3% \n",
      "Negative predictive value        Pr(N|-)     99.4%     99.3%     99.4% \n",
      "---------------------------------------------------------------------------\n"
     ]
    }
   ],
   "source": [
    "diagt diag test if yearcat==2010"
   ]
  },
  {
   "cell_type": "markdown",
   "id": "1546a4d9-adee-4208-88e0-3b6aa4d3d14c",
   "metadata": {},
   "source": [
    "*2016-2020*"
   ]
  },
  {
   "cell_type": "code",
   "execution_count": 15,
   "id": "dddfe5ba-1a16-4afc-91e5-cbffb4f25b77",
   "metadata": {},
   "outputs": [
    {
     "name": "stdout",
     "output_type": "stream",
     "text": [
      "\n",
      "           |         test\n",
      "      diag |      Pos.       Neg. |     Total\n",
      "-----------+----------------------+----------\n",
      "  Abnormal |    11,687        621 |    12,308 \n",
      "    Normal |     8,582    104,110 |   112,692 \n",
      "-----------+----------------------+----------\n",
      "     Total |    20,269    104,731 |   125,000 \n",
      "True abnormal diagnosis defined as diag = 1\n",
      "\n",
      "\n",
      "                                                  [95% Confidence Interval]\n",
      "---------------------------------------------------------------------------\n",
      "Prevalence                         Pr(A)      9.8%      9.7%      10.0%\n",
      "---------------------------------------------------------------------------\n",
      "Sensitivity                      Pr(+|A)     95.0%     94.6%     95.3%\n",
      "Specificity                      Pr(-|N)     92.4%     92.2%     92.5%\n",
      "ROC area               (Sens. + Spec.)/2      0.94      0.93      0.94 \n",
      "---------------------------------------------------------------------------\n",
      "Likelihood ratio (+)     Pr(+|A)/Pr(+|N)     12.47     12.21     12.73 \n",
      "Likelihood ratio (-)     Pr(-|A)/Pr(-|N)      0.05      0.05      0.06 \n",
      "Odds ratio                   LR(+)/LR(-)    228.30    209.99    248.22 \n",
      "Positive predictive value        Pr(A|+)     57.7%     57.0%     58.3% \n",
      "Negative predictive value        Pr(N|-)     99.4%     99.4%     99.5% \n",
      "---------------------------------------------------------------------------\n"
     ]
    }
   ],
   "source": [
    "diagt diag test if yearcat==2016"
   ]
  },
  {
   "cell_type": "markdown",
   "id": "9318e823-cf06-4695-a86c-8b96ace454c5",
   "metadata": {},
   "source": [
    "#### IMD of practice\n",
    "*1-3*"
   ]
  },
  {
   "cell_type": "code",
   "execution_count": 16,
   "id": "0c48ed3a-ce83-4c14-9447-6c52d4d82ed3",
   "metadata": {},
   "outputs": [
    {
     "name": "stdout",
     "output_type": "stream",
     "text": [
      "\n",
      "           |         test\n",
      "      diag |      Pos.       Neg. |     Total\n",
      "-----------+----------------------+----------\n",
      "  Abnormal |    15,331        900 |    16,231 \n",
      "    Normal |    11,642    126,678 |   138,320 \n",
      "-----------+----------------------+----------\n",
      "     Total |    26,973    127,578 |   154,551 \n",
      "True abnormal diagnosis defined as diag = 1\n",
      "\n",
      "\n",
      "                                                  [95% Confidence Interval]\n",
      "---------------------------------------------------------------------------\n",
      "Prevalence                         Pr(A)     10.5%     10.3%      10.7%\n",
      "---------------------------------------------------------------------------\n",
      "Sensitivity                      Pr(+|A)     94.5%     94.1%     94.8%\n",
      "Specificity                      Pr(-|N)     91.6%     91.4%     91.7%\n",
      "ROC area               (Sens. + Spec.)/2      0.93      0.93      0.93 \n",
      "---------------------------------------------------------------------------\n",
      "Likelihood ratio (+)     Pr(+|A)/Pr(+|N)     11.22     11.02     11.42 \n",
      "Likelihood ratio (-)     Pr(-|A)/Pr(-|N)      0.06      0.06      0.06 \n",
      "Odds ratio                   LR(+)/LR(-)    185.35    172.85    198.76 \n",
      "Positive predictive value        Pr(A|+)     56.8%     56.2%     57.4% \n",
      "Negative predictive value        Pr(N|-)     99.3%     99.2%     99.3% \n",
      "---------------------------------------------------------------------------\n"
     ]
    }
   ],
   "source": [
    "diagt diag test if imdcat==0"
   ]
  },
  {
   "cell_type": "markdown",
   "id": "cc20d8e3-26a9-4217-989b-54c2c73d0386",
   "metadata": {},
   "source": [
    "*4-7*"
   ]
  },
  {
   "cell_type": "code",
   "execution_count": 17,
   "id": "2f034372-ceb8-4f41-bd39-9d6ef321a64a",
   "metadata": {},
   "outputs": [
    {
     "name": "stdout",
     "output_type": "stream",
     "text": [
      "\n",
      "           |         test\n",
      "      diag |      Pos.       Neg. |     Total\n",
      "-----------+----------------------+----------\n",
      "  Abnormal |    14,908        698 |    15,606 \n",
      "    Normal |    11,522    115,917 |   127,439 \n",
      "-----------+----------------------+----------\n",
      "     Total |    26,430    116,615 |   143,045 \n",
      "True abnormal diagnosis defined as diag = 1\n",
      "\n",
      "\n",
      "                                                  [95% Confidence Interval]\n",
      "---------------------------------------------------------------------------\n",
      "Prevalence                         Pr(A)     10.9%     10.7%      11.1%\n",
      "---------------------------------------------------------------------------\n",
      "Sensitivity                      Pr(+|A)     95.5%     95.2%     95.8%\n",
      "Specificity                      Pr(-|N)     91.0%     90.8%     91.1%\n",
      "ROC area               (Sens. + Spec.)/2      0.93      0.93      0.93 \n",
      "---------------------------------------------------------------------------\n",
      "Likelihood ratio (+)     Pr(+|A)/Pr(+|N)     10.57     10.38     10.75 \n",
      "Likelihood ratio (-)     Pr(-|A)/Pr(-|N)      0.05      0.05      0.05 \n",
      "Odds ratio                   LR(+)/LR(-)    214.87    198.70    232.37 \n",
      "Positive predictive value        Pr(A|+)     56.4%     55.8%     57.0% \n",
      "Negative predictive value        Pr(N|-)     99.4%     99.4%     99.4% \n",
      "---------------------------------------------------------------------------\n"
     ]
    }
   ],
   "source": [
    "diagt diag test if imdcat==4"
   ]
  },
  {
   "cell_type": "markdown",
   "id": "a843bc14-ff1a-4435-a50c-c9769b8c3d3b",
   "metadata": {},
   "source": [
    "*8-10*"
   ]
  },
  {
   "cell_type": "code",
   "execution_count": 18,
   "id": "e52a500d-f3cf-4da6-997c-bbc1e902d199",
   "metadata": {},
   "outputs": [
    {
     "name": "stdout",
     "output_type": "stream",
     "text": [
      "\n",
      "           |         test\n",
      "      diag |      Pos.       Neg. |     Total\n",
      "-----------+----------------------+----------\n",
      "  Abnormal |    11,730        657 |    12,387 \n",
      "    Normal |     9,398    103,030 |   112,428 \n",
      "-----------+----------------------+----------\n",
      "     Total |    21,128    103,687 |   124,815 \n",
      "True abnormal diagnosis defined as diag = 1\n",
      "\n",
      "\n",
      "                                                  [95% Confidence Interval]\n",
      "---------------------------------------------------------------------------\n",
      "Prevalence                         Pr(A)      9.9%      9.8%      10.1%\n",
      "---------------------------------------------------------------------------\n",
      "Sensitivity                      Pr(+|A)     94.7%     94.3%     95.1%\n",
      "Specificity                      Pr(-|N)     91.6%     91.5%     91.8%\n",
      "ROC area               (Sens. + Spec.)/2      0.93      0.93      0.93 \n",
      "---------------------------------------------------------------------------\n",
      "Likelihood ratio (+)     Pr(+|A)/Pr(+|N)     11.33     11.11     11.55 \n",
      "Likelihood ratio (-)     Pr(-|A)/Pr(-|N)      0.06      0.05      0.06 \n",
      "Odds ratio                   LR(+)/LR(-)    195.73    180.44    212.32 \n",
      "Positive predictive value        Pr(A|+)     55.5%     54.8%     56.2% \n",
      "Negative predictive value        Pr(N|-)     99.4%     99.3%     99.4% \n",
      "---------------------------------------------------------------------------\n"
     ]
    }
   ],
   "source": [
    "diagt diag test if imdcat==8"
   ]
  },
  {
   "cell_type": "markdown",
   "id": "cbbde183-5b60-4618-a548-81135cae76a0",
   "metadata": {},
   "source": [
    "#### Commissioning Regions\n",
    "EAST OF ENGLAND"
   ]
  },
  {
   "cell_type": "code",
   "execution_count": 19,
   "id": "1254da50-3ca4-47a1-b4d8-e07c6d920177",
   "metadata": {},
   "outputs": [
    {
     "name": "stdout",
     "output_type": "stream",
     "text": [
      "\n",
      "           |         test\n",
      "      diag |      Pos.       Neg. |     Total\n",
      "-----------+----------------------+----------\n",
      "  Abnormal |     9,648        465 |    10,113 \n",
      "    Normal |     8,028     71,496 |    79,524 \n",
      "-----------+----------------------+----------\n",
      "     Total |    17,676     71,961 |    89,637 \n",
      "True abnormal diagnosis defined as diag = 1\n",
      "\n",
      "\n",
      "                                                  [95% Confidence Interval]\n",
      "---------------------------------------------------------------------------\n",
      "Prevalence                         Pr(A)     11.3%     11.1%      11.5%\n",
      "---------------------------------------------------------------------------\n",
      "Sensitivity                      Pr(+|A)     95.4%     95.0%     95.8%\n",
      "Specificity                      Pr(-|N)     89.9%     89.7%     90.1%\n",
      "ROC area               (Sens. + Spec.)/2      0.93      0.92      0.93 \n",
      "---------------------------------------------------------------------------\n",
      "Likelihood ratio (+)     Pr(+|A)/Pr(+|N)      9.45      9.25      9.65 \n",
      "Likelihood ratio (-)     Pr(-|A)/Pr(-|N)      0.05      0.05      0.06 \n",
      "Odds ratio                   LR(+)/LR(-)    184.78    167.89    203.37 \n",
      "Positive predictive value        Pr(A|+)     54.6%     53.8%     55.3% \n",
      "Negative predictive value        Pr(N|-)     99.4%     99.3%     99.4% \n",
      "---------------------------------------------------------------------------\n"
     ]
    }
   ],
   "source": [
    "diagt diag test if regexm(region_name,\"ENGLAND\")==1"
   ]
  },
  {
   "cell_type": "markdown",
   "id": "b2f2b2c7-4c3b-4ae5-ad03-8edfbc58938d",
   "metadata": {},
   "source": [
    "London"
   ]
  },
  {
   "cell_type": "code",
   "execution_count": 20,
   "id": "18195511-cedc-42b1-8bae-bc6621364814",
   "metadata": {},
   "outputs": [
    {
     "name": "stdout",
     "output_type": "stream",
     "text": [
      "\n",
      "           |         test\n",
      "      diag |      Pos.       Neg. |     Total\n",
      "-----------+----------------------+----------\n",
      "  Abnormal |     1,128         89 |     1,217 \n",
      "    Normal |       857     14,651 |    15,508 \n",
      "-----------+----------------------+----------\n",
      "     Total |     1,985     14,740 |    16,725 \n",
      "True abnormal diagnosis defined as diag = 1\n",
      "\n",
      "\n",
      "                                                  [95% Confidence Interval]\n",
      "---------------------------------------------------------------------------\n",
      "Prevalence                         Pr(A)      7.3%      6.9%       7.7%\n",
      "---------------------------------------------------------------------------\n",
      "Sensitivity                      Pr(+|A)     92.7%     91.1%     94.1%\n",
      "Specificity                      Pr(-|N)     94.5%     94.1%     94.8%\n",
      "ROC area               (Sens. + Spec.)/2      0.94      0.93      0.94 \n",
      "---------------------------------------------------------------------------\n",
      "Likelihood ratio (+)     Pr(+|A)/Pr(+|N)     16.77     15.69     17.93 \n",
      "Likelihood ratio (-)     Pr(-|A)/Pr(-|N)      0.08      0.06      0.09 \n",
      "Odds ratio                   LR(+)/LR(-)    216.67    172.82    271.64 \n",
      "Positive predictive value        Pr(A|+)     56.8%     54.6%     59.0% \n",
      "Negative predictive value        Pr(N|-)     99.4%     99.3%     99.5% \n",
      "---------------------------------------------------------------------------\n"
     ]
    }
   ],
   "source": [
    "diagt diag test if regexm(region_name,\"LONDON\")==1"
   ]
  },
  {
   "cell_type": "markdown",
   "id": "1a78f370-7ebd-4e70-b301-73c6e75003fd",
   "metadata": {},
   "source": [
    "Midlands"
   ]
  },
  {
   "cell_type": "code",
   "execution_count": 21,
   "id": "265ce394-6410-4e76-a064-ec3d32c30eee",
   "metadata": {},
   "outputs": [
    {
     "name": "stdout",
     "output_type": "stream",
     "text": [
      "\n",
      "           |         test\n",
      "      diag |      Pos.       Neg. |     Total\n",
      "-----------+----------------------+----------\n",
      "  Abnormal |     5,384        286 |     5,670 \n",
      "    Normal |     3,940     36,933 |    40,873 \n",
      "-----------+----------------------+----------\n",
      "     Total |     9,324     37,219 |    46,543 \n",
      "True abnormal diagnosis defined as diag = 1\n",
      "\n",
      "\n",
      "                                                  [95% Confidence Interval]\n",
      "---------------------------------------------------------------------------\n",
      "Prevalence                         Pr(A)     12.2%     11.9%      12.5%\n",
      "---------------------------------------------------------------------------\n",
      "Sensitivity                      Pr(+|A)     95.0%     94.4%     95.5%\n",
      "Specificity                      Pr(-|N)     90.4%     90.1%     90.6%\n",
      "ROC area               (Sens. + Spec.)/2      0.93      0.92      0.93 \n",
      "---------------------------------------------------------------------------\n",
      "Likelihood ratio (+)     Pr(+|A)/Pr(+|N)      9.85      9.56     10.15 \n",
      "Likelihood ratio (-)     Pr(-|A)/Pr(-|N)      0.06      0.05      0.06 \n",
      "Odds ratio                   LR(+)/LR(-)    176.46    155.99    199.62 \n",
      "Positive predictive value        Pr(A|+)     57.7%     56.7%     58.7% \n",
      "Negative predictive value        Pr(N|-)     99.2%     99.1%     99.3% \n",
      "---------------------------------------------------------------------------\n"
     ]
    }
   ],
   "source": [
    "diagt diag test if regexm(region_name,\"MID\")==1"
   ]
  },
  {
   "cell_type": "markdown",
   "id": "0769a779-b7ae-4496-9ed2-a6feb1a1a94a",
   "metadata": {},
   "source": [
    "Yorkshire"
   ]
  },
  {
   "cell_type": "code",
   "execution_count": 22,
   "id": "83d73532-38e7-4fb2-a39b-5c1ef1b5b717",
   "metadata": {},
   "outputs": [
    {
     "name": "stdout",
     "output_type": "stream",
     "text": [
      "\n",
      "           |         test\n",
      "      diag |      Pos.       Neg. |     Total\n",
      "-----------+----------------------+----------\n",
      "  Abnormal |     8,660        427 |     9,087 \n",
      "    Normal |     6,347     70,677 |    77,024 \n",
      "-----------+----------------------+----------\n",
      "     Total |    15,007     71,104 |    86,111 \n",
      "True abnormal diagnosis defined as diag = 1\n",
      "\n",
      "\n",
      "                                                  [95% Confidence Interval]\n",
      "---------------------------------------------------------------------------\n",
      "Prevalence                         Pr(A)     10.6%     10.3%      10.8%\n",
      "---------------------------------------------------------------------------\n",
      "Sensitivity                      Pr(+|A)     95.3%     94.8%     95.7%\n",
      "Specificity                      Pr(-|N)     91.8%     91.6%     92.0%\n",
      "ROC area               (Sens. + Spec.)/2      0.94      0.93      0.94 \n",
      "---------------------------------------------------------------------------\n",
      "Likelihood ratio (+)     Pr(+|A)/Pr(+|N)     11.57     11.29     11.85 \n",
      "Likelihood ratio (-)     Pr(-|A)/Pr(-|N)      0.05      0.05      0.06 \n",
      "Odds ratio                   LR(+)/LR(-)    225.84    204.25    249.71 \n",
      "Positive predictive value        Pr(A|+)     57.7%     56.9%     58.5% \n",
      "Negative predictive value        Pr(N|-)     99.4%     99.3%     99.5% \n",
      "---------------------------------------------------------------------------\n"
     ]
    }
   ],
   "source": [
    "diagt diag test if regexm(region_name,\"YORK\")==1"
   ]
  },
  {
   "cell_type": "markdown",
   "id": "247339ad-15c3-4ac2-9458-c8b14082ff8c",
   "metadata": {},
   "source": [
    "North West"
   ]
  },
  {
   "cell_type": "code",
   "execution_count": 23,
   "id": "f9ddd2b2-2aa8-49c0-8d9b-ac27a3db55be",
   "metadata": {},
   "outputs": [
    {
     "name": "stdout",
     "output_type": "stream",
     "text": [
      "\n",
      "           |         test\n",
      "      diag |      Pos.       Neg. |     Total\n",
      "-----------+----------------------+----------\n",
      "  Abnormal |     4,658        277 |     4,935 \n",
      "    Normal |     3,108     39,550 |    42,658 \n",
      "-----------+----------------------+----------\n",
      "     Total |     7,766     39,827 |    47,593 \n",
      "True abnormal diagnosis defined as diag = 1\n",
      "\n",
      "\n",
      "                                                  [95% Confidence Interval]\n",
      "---------------------------------------------------------------------------\n",
      "Prevalence                         Pr(A)     10.4%     10.1%      10.6%\n",
      "---------------------------------------------------------------------------\n",
      "Sensitivity                      Pr(+|A)     94.4%     93.7%     95.0%\n",
      "Specificity                      Pr(-|N)     92.7%     92.5%     93.0%\n",
      "ROC area               (Sens. + Spec.)/2      0.94      0.93      0.94 \n",
      "---------------------------------------------------------------------------\n",
      "Likelihood ratio (+)     Pr(+|A)/Pr(+|N)     12.95     12.52     13.41 \n",
      "Likelihood ratio (-)     Pr(-|A)/Pr(-|N)      0.06      0.05      0.07 \n",
      "Odds ratio                   LR(+)/LR(-)    213.99    188.56    242.85 \n",
      "Positive predictive value        Pr(A|+)     60.0%     58.9%     61.1% \n",
      "Negative predictive value        Pr(N|-)     99.3%     99.2%     99.4% \n",
      "---------------------------------------------------------------------------\n"
     ]
    }
   ],
   "source": [
    "diagt diag test if regexm(region_name,\"NORTH\")==1 & regexm(region_name,\"WEST\")==1"
   ]
  },
  {
   "cell_type": "markdown",
   "id": "cac4bda2-216c-4294-ab6d-5338aa93d23c",
   "metadata": {},
   "source": [
    "South East"
   ]
  },
  {
   "cell_type": "code",
   "execution_count": 24,
   "id": "883a5bf4-de79-4ba9-9bb2-95f85e3bccb3",
   "metadata": {},
   "outputs": [
    {
     "name": "stdout",
     "output_type": "stream",
     "text": [
      "\n",
      "           |         test\n",
      "      diag |      Pos.       Neg. |     Total\n",
      "-----------+----------------------+----------\n",
      "  Abnormal |     7,654        432 |     8,086 \n",
      "    Normal |     6,444     75,955 |    82,399 \n",
      "-----------+----------------------+----------\n",
      "     Total |    14,098     76,387 |    90,485 \n",
      "True abnormal diagnosis defined as diag = 1\n",
      "\n",
      "\n",
      "                                                  [95% Confidence Interval]\n",
      "---------------------------------------------------------------------------\n",
      "Prevalence                         Pr(A)      8.9%      8.8%       9.1%\n",
      "---------------------------------------------------------------------------\n",
      "Sensitivity                      Pr(+|A)     94.7%     94.1%     95.1%\n",
      "Specificity                      Pr(-|N)     92.2%     92.0%     92.4%\n",
      "ROC area               (Sens. + Spec.)/2      0.93      0.93      0.94 \n",
      "---------------------------------------------------------------------------\n",
      "Likelihood ratio (+)     Pr(+|A)/Pr(+|N)     12.10     11.82     12.40 \n",
      "Likelihood ratio (-)     Pr(-|A)/Pr(-|N)      0.06      0.05      0.06 \n",
      "Odds ratio                   LR(+)/LR(-)    208.84    188.93    230.84 \n",
      "Positive predictive value        Pr(A|+)     54.3%     53.5%     55.1% \n",
      "Negative predictive value        Pr(N|-)     99.4%     99.4%     99.5% \n",
      "---------------------------------------------------------------------------\n"
     ]
    }
   ],
   "source": [
    "diagt diag test if regexm(region_name,\"SOUTH\")==1 & regexm(region_name,\"EAST\")==1"
   ]
  },
  {
   "cell_type": "markdown",
   "id": "c31c4086-ecd2-43b5-a175-a49e64a0593a",
   "metadata": {},
   "source": [
    "South West"
   ]
  },
  {
   "cell_type": "code",
   "execution_count": 25,
   "id": "db24609a-c78c-4959-8f77-be636e5b8a66",
   "metadata": {},
   "outputs": [
    {
     "name": "stdout",
     "output_type": "stream",
     "text": [
      "\n",
      "           |         test\n",
      "      diag |      Pos.       Neg. |     Total\n",
      "-----------+----------------------+----------\n",
      "  Abnormal |     3,888        213 |     4,101 \n",
      "    Normal |     3,004     29,071 |    32,075 \n",
      "-----------+----------------------+----------\n",
      "     Total |     6,892     29,284 |    36,176 \n",
      "True abnormal diagnosis defined as diag = 1\n",
      "\n",
      "\n",
      "                                                  [95% Confidence Interval]\n",
      "---------------------------------------------------------------------------\n",
      "Prevalence                         Pr(A)     11.3%     11.0%      11.7%\n",
      "---------------------------------------------------------------------------\n",
      "Sensitivity                      Pr(+|A)     94.8%     94.1%     95.5%\n",
      "Specificity                      Pr(-|N)     90.6%     90.3%     91.0%\n",
      "ROC area               (Sens. + Spec.)/2      0.93      0.92      0.93 \n",
      "---------------------------------------------------------------------------\n",
      "Likelihood ratio (+)     Pr(+|A)/Pr(+|N)     10.12      9.78     10.48 \n",
      "Likelihood ratio (-)     Pr(-|A)/Pr(-|N)      0.06      0.05      0.07 \n",
      "Odds ratio                   LR(+)/LR(-)    176.65    153.13    203.77 \n",
      "Positive predictive value        Pr(A|+)     56.4%     55.2%     57.6% \n",
      "Negative predictive value        Pr(N|-)     99.3%     99.2%     99.4% \n",
      "---------------------------------------------------------------------------\n"
     ]
    }
   ],
   "source": [
    "diagt diag test if regexm(region_name,\"SOUTH\")==1 & regexm(region_name,\"WEST\")==1"
   ]
  },
  {
   "cell_type": "markdown",
   "id": "cf33efae-dc21-4b1a-b169-9eaea69c1161",
   "metadata": {},
   "source": [
    "#### System\n",
    "SystmOne"
   ]
  },
  {
   "cell_type": "code",
   "execution_count": 26,
   "id": "26573dfb-79dc-4647-88a6-e19dac9eca61",
   "metadata": {},
   "outputs": [
    {
     "name": "stdout",
     "output_type": "stream",
     "text": [
      "\n",
      "           |         test\n",
      "      diag |      Pos.       Neg. |     Total\n",
      "-----------+----------------------+----------\n",
      "  Abnormal |    23,994      1,156 |    25,150 \n",
      "    Normal |    19,051    184,554 |   203,605 \n",
      "-----------+----------------------+----------\n",
      "     Total |    43,045    185,710 |   228,755 \n",
      "True abnormal diagnosis defined as diag = 1\n",
      "\n",
      "\n",
      "                                                  [95% Confidence Interval]\n",
      "---------------------------------------------------------------------------\n",
      "Prevalence                         Pr(A)     11.0%     10.9%      11.1%\n",
      "---------------------------------------------------------------------------\n",
      "Sensitivity                      Pr(+|A)     95.4%     95.1%     95.7%\n",
      "Specificity                      Pr(-|N)     90.6%     90.5%     90.8%\n",
      "ROC area               (Sens. + Spec.)/2      0.93      0.93      0.93 \n",
      "---------------------------------------------------------------------------\n",
      "Likelihood ratio (+)     Pr(+|A)/Pr(+|N)     10.20     10.06     10.34 \n",
      "Likelihood ratio (-)     Pr(-|A)/Pr(-|N)      0.05      0.05      0.05 \n",
      "Odds ratio                   LR(+)/LR(-)    201.07    189.20    213.69 \n",
      "Positive predictive value        Pr(A|+)     55.7%     55.3%     56.2% \n",
      "Negative predictive value        Pr(N|-)     99.4%     99.3%     99.4% \n",
      "---------------------------------------------------------------------------\n"
     ]
    }
   ],
   "source": [
    "diagt diag test if regexm(system,\"One\")==1"
   ]
  },
  {
   "cell_type": "markdown",
   "id": "b561f033-d2f3-4c95-ad3f-03b8c65647ea",
   "metadata": {},
   "source": [
    "Vision"
   ]
  },
  {
   "cell_type": "code",
   "execution_count": 27,
   "id": "6bed6f81-5fd6-418e-94ff-96d2de419d3d",
   "metadata": {},
   "outputs": [
    {
     "name": "stdout",
     "output_type": "stream",
     "text": [
      "\n",
      "           |         test\n",
      "      diag |      Pos.       Neg. |     Total\n",
      "-----------+----------------------+----------\n",
      "  Abnormal |     1,352         74 |     1,426 \n",
      "    Normal |     1,089     11,229 |    12,318 \n",
      "-----------+----------------------+----------\n",
      "     Total |     2,441     11,303 |    13,744 \n",
      "True abnormal diagnosis defined as diag = 1\n",
      "\n",
      "\n",
      "                                                  [95% Confidence Interval]\n",
      "---------------------------------------------------------------------------\n",
      "Prevalence                         Pr(A)     10.4%      9.9%      10.9%\n",
      "---------------------------------------------------------------------------\n",
      "Sensitivity                      Pr(+|A)     94.8%     93.5%     95.9%\n",
      "Specificity                      Pr(-|N)     91.2%     90.6%     91.7%\n",
      "ROC area               (Sens. + Spec.)/2      0.93      0.92      0.94 \n",
      "---------------------------------------------------------------------------\n",
      "Likelihood ratio (+)     Pr(+|A)/Pr(+|N)     10.72     10.12     11.36 \n",
      "Likelihood ratio (-)     Pr(-|A)/Pr(-|N)      0.06      0.05      0.07 \n",
      "Odds ratio                   LR(+)/LR(-)    188.39    147.96    239.87 \n",
      "Positive predictive value        Pr(A|+)     55.4%     53.4%     57.4% \n",
      "Negative predictive value        Pr(N|-)     99.3%     99.2%     99.5% \n",
      "---------------------------------------------------------------------------\n"
     ]
    }
   ],
   "source": [
    "diagt diag test if regexm(system,\"Vision\")==1"
   ]
  },
  {
   "cell_type": "markdown",
   "id": "65d9cefb-fbb5-4500-8ed3-52074d4e12ad",
   "metadata": {},
   "source": [
    "EMIS"
   ]
  },
  {
   "cell_type": "code",
   "execution_count": 28,
   "id": "18d50bfe-f5c4-4ecb-b822-0d06e3b29224",
   "metadata": {},
   "outputs": [
    {
     "name": "stdout",
     "output_type": "stream",
     "text": [
      "\n",
      "           |         test\n",
      "      diag |      Pos.       Neg. |     Total\n",
      "-----------+----------------------+----------\n",
      "  Abnormal |    16,714      1,029 |    17,743 \n",
      "    Normal |    12,491    152,131 |   164,622 \n",
      "-----------+----------------------+----------\n",
      "     Total |    29,205    153,160 |   182,365 \n",
      "True abnormal diagnosis defined as diag = 1\n",
      "\n",
      "\n",
      "                                                  [95% Confidence Interval]\n",
      "---------------------------------------------------------------------------\n",
      "Prevalence                         Pr(A)      9.7%      9.6%       9.9%\n",
      "---------------------------------------------------------------------------\n",
      "Sensitivity                      Pr(+|A)     94.2%     93.8%     94.5%\n",
      "Specificity                      Pr(-|N)     92.4%     92.3%     92.5%\n",
      "ROC area               (Sens. + Spec.)/2      0.93      0.93      0.93 \n",
      "---------------------------------------------------------------------------\n",
      "Likelihood ratio (+)     Pr(+|A)/Pr(+|N)     12.41     12.20     12.63 \n",
      "Likelihood ratio (-)     Pr(-|A)/Pr(-|N)      0.06      0.06      0.07 \n",
      "Odds ratio                   LR(+)/LR(-)    197.83    185.28    211.23 \n",
      "Positive predictive value        Pr(A|+)     57.2%     56.7%     57.8% \n",
      "Negative predictive value        Pr(N|-)     99.3%     99.3%     99.4% \n",
      "---------------------------------------------------------------------------\n"
     ]
    }
   ],
   "source": [
    "diagt diag test if regexm(ustrupper(system),\"EMIS\")==1"
   ]
  },
  {
   "cell_type": "code",
   "execution_count": null,
   "id": "654b6659-0a73-4736-bc15-7bf926554432",
   "metadata": {},
   "outputs": [],
   "source": []
  },
  {
   "cell_type": "markdown",
   "id": "5cc0b78d-d049-4645-a6f4-e02b49b379db",
   "metadata": {},
   "source": [
    "#### RA_Index\n",
    "Index==1"
   ]
  },
  {
   "cell_type": "code",
   "execution_count": 29,
   "id": "9fa490cd-9380-44bc-8218-9f2193f09aee",
   "metadata": {},
   "outputs": [
    {
     "name": "stdout",
     "output_type": "stream",
     "text": [
      "\n",
      "           |         test\n",
      "      diag |      Pos.       Neg. |     Total\n",
      "-----------+----------------------+----------\n",
      "  Abnormal |    31,209      1,774 |    32,983 \n",
      "    Normal |    23,764    264,950 |   288,714 \n",
      "-----------+----------------------+----------\n",
      "     Total |    54,973    266,724 |   321,697 \n",
      "True abnormal diagnosis defined as diag = 1\n",
      "\n",
      "\n",
      "                                                  [95% Confidence Interval]\n",
      "---------------------------------------------------------------------------\n",
      "Prevalence                         Pr(A)     10.3%     10.1%      10.4%\n",
      "---------------------------------------------------------------------------\n",
      "Sensitivity                      Pr(+|A)     94.6%     94.4%     94.9%\n",
      "Specificity                      Pr(-|N)     91.8%     91.7%     91.9%\n",
      "ROC area               (Sens. + Spec.)/2      0.93      0.93      0.93 \n",
      "---------------------------------------------------------------------------\n",
      "Likelihood ratio (+)     Pr(+|A)/Pr(+|N)     11.50     11.35     11.64 \n",
      "Likelihood ratio (-)     Pr(-|A)/Pr(-|N)      0.06      0.06      0.06 \n",
      "Odds ratio                   LR(+)/LR(-)    196.14    186.64    206.12 \n",
      "Positive predictive value        Pr(A|+)     56.8%     56.4%     57.2% \n",
      "Negative predictive value        Pr(N|-)     99.3%     99.3%     99.4% \n",
      "---------------------------------------------------------------------------\n"
     ]
    }
   ],
   "source": [
    "diagt diag test if RA_index==1"
   ]
  },
  {
   "cell_type": "markdown",
   "id": "7d253ba5-4281-405c-bd8c-511a00a55bf6",
   "metadata": {},
   "source": [
    "Index==0"
   ]
  },
  {
   "cell_type": "code",
   "execution_count": 30,
   "id": "f50f1be6-d1fd-4b54-8cc8-be66d3b7312b",
   "metadata": {},
   "outputs": [
    {
     "name": "stdout",
     "output_type": "stream",
     "text": [
      "\n",
      "           |         test\n",
      "      diag |      Pos.       Neg. |     Total\n",
      "-----------+----------------------+----------\n",
      "  Abnormal |    10,911        487 |    11,398 \n",
      "    Normal |     8,883     83,022 |    91,905 \n",
      "-----------+----------------------+----------\n",
      "     Total |    19,794     83,509 |   103,303 \n",
      "True abnormal diagnosis defined as diag = 1\n",
      "\n",
      "\n",
      "                                                  [95% Confidence Interval]\n",
      "---------------------------------------------------------------------------\n",
      "Prevalence                         Pr(A)     11.0%     10.8%      11.2%\n",
      "---------------------------------------------------------------------------\n",
      "Sensitivity                      Pr(+|A)     95.7%     95.3%     96.1%\n",
      "Specificity                      Pr(-|N)     90.3%     90.1%     90.5%\n",
      "ROC area               (Sens. + Spec.)/2      0.93      0.93      0.93 \n",
      "---------------------------------------------------------------------------\n",
      "Likelihood ratio (+)     Pr(+|A)/Pr(+|N)      9.90      9.71     10.11 \n",
      "Likelihood ratio (-)     Pr(-|A)/Pr(-|N)      0.05      0.04      0.05 \n",
      "Odds ratio                   LR(+)/LR(-)    209.40    190.74    229.88 \n",
      "Positive predictive value        Pr(A|+)     55.1%     54.4%     55.8% \n",
      "Negative predictive value        Pr(N|-)     99.4%     99.4%     99.5% \n",
      "---------------------------------------------------------------------------\n"
     ]
    }
   ],
   "source": [
    "diagt diag test if RA_index==0"
   ]
  },
  {
   "cell_type": "markdown",
   "id": "72956d72",
   "metadata": {},
   "source": [
    "#### Ethnicity\n",
    "Ethnicity==0000white"
   ]
  },
  {
   "cell_type": "code",
   "execution_count": 31,
   "id": "b35bf6ab",
   "metadata": {},
   "outputs": [
    {
     "name": "stdout",
     "output_type": "stream",
     "text": [
      "\n",
      "           |         test\n",
      "      diag |      Pos.       Neg. |     Total\n",
      "-----------+----------------------+----------\n",
      "  Abnormal |    30,950      1,527 |    32,477 \n",
      "    Normal |    21,850    203,654 |   225,504 \n",
      "-----------+----------------------+----------\n",
      "     Total |    52,800    205,181 |   257,981 \n",
      "True abnormal diagnosis defined as diag = 1\n",
      "\n",
      "\n",
      "                                                  [95% Confidence Interval]\n",
      "---------------------------------------------------------------------------\n",
      "Prevalence                         Pr(A)     12.6%     12.5%      12.7%\n",
      "---------------------------------------------------------------------------\n",
      "Sensitivity                      Pr(+|A)     95.3%     95.1%     95.5%\n",
      "Specificity                      Pr(-|N)     90.3%     90.2%     90.4%\n",
      "ROC area               (Sens. + Spec.)/2      0.93      0.93      0.93 \n",
      "---------------------------------------------------------------------------\n",
      "Likelihood ratio (+)     Pr(+|A)/Pr(+|N)      9.84      9.71      9.96 \n",
      "Likelihood ratio (-)     Pr(-|A)/Pr(-|N)      0.05      0.05      0.05 \n",
      "Odds ratio                   LR(+)/LR(-)    188.91    179.12    199.24 \n",
      "Positive predictive value        Pr(A|+)     58.6%     58.2%     59.0% \n",
      "Negative predictive value        Pr(N|-)     99.3%     99.2%     99.3% \n",
      "---------------------------------------------------------------------------\n"
     ]
    }
   ],
   "source": [
    "diagt diag test if ethnicity==\"0white\""
   ]
  },
  {
   "cell_type": "code",
   "execution_count": 32,
   "id": "10050fbc",
   "metadata": {},
   "outputs": [
    {
     "name": "stdout",
     "output_type": "stream",
     "text": [
      "\n",
      "           |         test\n",
      "      diag |      Pos.       Neg. |     Total\n",
      "-----------+----------------------+----------\n",
      "  Abnormal |     2,707        211 |     2,918 \n",
      "    Normal |     2,814     38,136 |    40,950 \n",
      "-----------+----------------------+----------\n",
      "     Total |     5,521     38,347 |    43,868 \n",
      "True abnormal diagnosis defined as diag = 1\n",
      "\n",
      "\n",
      "                                                  [95% Confidence Interval]\n",
      "---------------------------------------------------------------------------\n",
      "Prevalence                         Pr(A)      6.7%      6.4%       6.9%\n",
      "---------------------------------------------------------------------------\n",
      "Sensitivity                      Pr(+|A)     92.8%     91.8%     93.7%\n",
      "Specificity                      Pr(-|N)     93.1%     92.9%     93.4%\n",
      "ROC area               (Sens. + Spec.)/2      0.93      0.92      0.93 \n",
      "---------------------------------------------------------------------------\n",
      "Likelihood ratio (+)     Pr(+|A)/Pr(+|N)     13.50     13.01     14.01 \n",
      "Likelihood ratio (-)     Pr(-|A)/Pr(-|N)      0.08      0.07      0.09 \n",
      "Odds ratio                   LR(+)/LR(-)    173.87    150.38    201.02 \n",
      "Positive predictive value        Pr(A|+)     49.0%     47.7%     50.4% \n",
      "Negative predictive value        Pr(N|-)     99.4%     99.4%     99.5% \n",
      "---------------------------------------------------------------------------\n"
     ]
    }
   ],
   "source": [
    "diagt diag test if ethnicity==\"Other\""
   ]
  },
  {
   "cell_type": "code",
   "execution_count": 33,
   "id": "a9b0ba23",
   "metadata": {},
   "outputs": [
    {
     "name": "stdout",
     "output_type": "stream",
     "text": [
      "\n",
      "           |         test\n",
      "      diag |      Pos.       Neg. |     Total\n",
      "-----------+----------------------+----------\n",
      "  Abnormal |     8,463        523 |     8,986 \n",
      "    Normal |     7,983    106,182 |   114,165 \n",
      "-----------+----------------------+----------\n",
      "     Total |    16,446    106,705 |   123,151 \n",
      "True abnormal diagnosis defined as diag = 1\n",
      "\n",
      "\n",
      "                                                  [95% Confidence Interval]\n",
      "---------------------------------------------------------------------------\n",
      "Prevalence                         Pr(A)      7.3%      7.2%       7.4%\n",
      "---------------------------------------------------------------------------\n",
      "Sensitivity                      Pr(+|A)     94.2%     93.7%     94.7%\n",
      "Specificity                      Pr(-|N)     93.0%     92.9%     93.2%\n",
      "ROC area               (Sens. + Spec.)/2      0.94      0.93      0.94 \n",
      "---------------------------------------------------------------------------\n",
      "Likelihood ratio (+)     Pr(+|A)/Pr(+|N)     13.47     13.18     13.77 \n",
      "Likelihood ratio (-)     Pr(-|A)/Pr(-|N)      0.06      0.06      0.07 \n",
      "Odds ratio                   LR(+)/LR(-)    215.23    196.48    235.78 \n",
      "Positive predictive value        Pr(A|+)     51.5%     50.7%     52.2% \n",
      "Negative predictive value        Pr(N|-)     99.5%     99.5%     99.6% \n",
      "---------------------------------------------------------------------------\n"
     ]
    }
   ],
   "source": [
    "diagt diag test if ethnicity==\"Missing\""
   ]
  },
  {
   "cell_type": "code",
   "execution_count": 34,
   "id": "0c6b3359-4cc6-4eb5-a15f-ed1be0b97aa0",
   "metadata": {},
   "outputs": [],
   "source": [
    "tempname memhold\n",
    "postfile `memhold' str20 var prev sens spec ppv npv roc using \"validity.dta\",replace\n",
    "\n",
    "quietly diagt diag test\n",
    "local prev=r(prev)\n",
    "local sens=r(sens)\n",
    "local spec=r(spec)\n",
    "local ppv=r(ppv)\n",
    "local npv=r(npv)\n",
    "local roc=r(roc)\n",
    "post `memhold' (\"all\") (`prev') (`sens') (`spec') (`ppv') (`npv') (`roc') \n",
    "\n",
    "quietly diagt diag test if sex==1\n",
    "local prev=r(prev)\n",
    "local sens=r(sens)\n",
    "local spec=r(spec)\n",
    "local ppv=r(ppv)\n",
    "local npv=r(npv)\n",
    "local roc=r(roc)\n",
    "post `memhold' (\"Male\") (`prev') (`sens') (`spec') (`ppv') (`npv') (`roc') \n",
    "\n",
    "quietly diagt diag test if sex==0\n",
    "local prev=r(prev)\n",
    "local sens=r(sens)\n",
    "local spec=r(spec)\n",
    "local ppv=r(ppv)\n",
    "local npv=r(npv)\n",
    "local roc=r(roc)\n",
    "post `memhold' (\"Female\") (`prev') (`sens') (`spec') (`ppv') (`npv') (`roc') \n",
    "\n",
    "quietly diagt diag test if agecat==16\n",
    "local prev=r(prev)\n",
    "local sens=r(sens)\n",
    "local spec=r(spec)\n",
    "local ppv=r(ppv)\n",
    "local npv=r(npv)\n",
    "local roc=r(roc)\n",
    "post `memhold' (\"Age young\") (`prev') (`sens') (`spec') (`ppv') (`npv') (`roc') \n",
    "\n",
    "quietly diagt diag test if agecat==30\n",
    "local prev=r(prev)\n",
    "local sens=r(sens)\n",
    "local spec=r(spec)\n",
    "local ppv=r(ppv)\n",
    "local npv=r(npv)\n",
    "local roc=r(roc)\n",
    "post `memhold' (\"Age middle\") (`prev') (`sens') (`spec') (`ppv') (`npv') (`roc') \n",
    "\n",
    "quietly diagt diag test if agecat==70\n",
    "local prev=r(prev)\n",
    "local sens=r(sens)\n",
    "local spec=r(spec)\n",
    "local ppv=r(ppv)\n",
    "local npv=r(npv)\n",
    "local roc=r(roc)\n",
    "post `memhold' (\"Age elderly\") (`prev') (`sens') (`spec') (`ppv') (`npv') (`roc') \n",
    "\n",
    "\n",
    "quietly diagt diag test if yearcat==2004\n",
    "local prev=r(prev)\n",
    "local sens=r(sens)\n",
    "local spec=r(spec)\n",
    "local ppv=r(ppv)\n",
    "local npv=r(npv)\n",
    "local roc=r(roc)\n",
    "post `memhold' (\"Year 2004-2009\") (`prev') (`sens') (`spec') (`ppv') (`npv') (`roc') \n",
    "\n",
    "quietly diagt diag test if yearcat==2010\n",
    "local prev=r(prev)\n",
    "local sens=r(sens)\n",
    "local spec=r(spec)\n",
    "local ppv=r(ppv)\n",
    "local npv=r(npv)\n",
    "local roc=r(roc)\n",
    "post `memhold' (\"Year 2010-2015\") (`prev') (`sens') (`spec') (`ppv') (`npv') (`roc')\n",
    "\n",
    "quietly diagt diag test if yearcat==2016\n",
    "local prev=r(prev)\n",
    "local sens=r(sens)\n",
    "local spec=r(spec)\n",
    "local ppv=r(ppv)\n",
    "local npv=r(npv)\n",
    "local roc=r(roc)\n",
    "post `memhold' (\"Year 2016-2020\") (`prev') (`sens') (`spec') (`ppv') (`npv') (`roc') \n",
    "\n",
    "\n",
    "quietly diagt diag test if imdcat==0\n",
    "local prev=r(prev)\n",
    "local sens=r(sens)\n",
    "local spec=r(spec)\n",
    "local ppv=r(ppv)\n",
    "local npv=r(npv)\n",
    "local roc=r(roc)\n",
    "post `memhold' (\"IMD 1,3\") (`prev') (`sens') (`spec') (`ppv') (`npv') (`roc') \n",
    "\n",
    "quietly diagt diag test if imdcat==4\n",
    "local prev=r(prev)\n",
    "local sens=r(sens)\n",
    "local spec=r(spec)\n",
    "local ppv=r(ppv)\n",
    "local npv=r(npv)\n",
    "local roc=r(roc)\n",
    "post `memhold' (\"IMD 4,7\") (`prev') (`sens') (`spec') (`ppv') (`npv') (`roc') \n",
    "\n",
    "quietly diagt diag test if imdcat==8\n",
    "local prev=r(prev)\n",
    "local sens=r(sens)\n",
    "local spec=r(spec)\n",
    "local ppv=r(ppv)\n",
    "local npv=r(npv)\n",
    "local roc=r(roc)\n",
    "post `memhold' (\"IMD 8,10\") (`prev') (`sens') (`spec') (`ppv') (`npv') (`roc') \n",
    "\n",
    "\n",
    "quietly diagt diag test if regexm(region_name,\"LONDON\")==1\n",
    "local prev=r(prev)\n",
    "local sens=r(sens)\n",
    "local spec=r(spec)\n",
    "local ppv=r(ppv)\n",
    "local npv=r(npv)\n",
    "local roc=r(roc)\n",
    "post `memhold' (\"London\") (`prev') (`sens') (`spec') (`ppv') (`npv') (`roc') \n",
    "\n",
    "quietly diagt diag test if regexm(region_name,\"MID\")==1\n",
    "local prev=r(prev)\n",
    "local sens=r(sens)\n",
    "local spec=r(spec)\n",
    "local ppv=r(ppv)\n",
    "local npv=r(npv)\n",
    "local roc=r(roc)\n",
    "post `memhold' (\"Midlands\") (`prev') (`sens') (`spec') (`ppv') (`npv') (`roc') \n",
    "\n",
    "quietly diagt diag test if regexm(region_name,\"YORK\")==1\n",
    "local prev=r(prev)\n",
    "local sens=r(sens)\n",
    "local spec=r(spec)\n",
    "local ppv=r(ppv)\n",
    "local npv=r(npv)\n",
    "local roc=r(roc)\n",
    "post `memhold' (\"Yorkshire\") (`prev') (`sens') (`spec') (`ppv') (`npv') (`roc') \n",
    "\n",
    "quietly diagt diag test if regexm(region_name,\"NORTH\")==1 & regexm(region_name,\"WEST\")==1\n",
    "local prev=r(prev)\n",
    "local sens=r(sens)\n",
    "local spec=r(spec)\n",
    "local ppv=r(ppv)\n",
    "local npv=r(npv)\n",
    "local roc=r(roc)\n",
    "post `memhold' (\"North West\") (`prev') (`sens') (`spec') (`ppv') (`npv') (`roc') \n",
    "\n",
    "quietly diagt diag test if regexm(region_name,\"SOUTH\")==1 & regexm(region_name,\"EAST\")==1\n",
    "local prev=r(prev)\n",
    "local sens=r(sens)\n",
    "local spec=r(spec)\n",
    "local ppv=r(ppv)\n",
    "local npv=r(npv)\n",
    "local roc=r(roc)\n",
    "post `memhold' (\"South East\") (`prev') (`sens') (`spec') (`ppv') (`npv') (`roc') \n",
    "\n",
    "quietly diagt diag test if regexm(region_name,\"SOUTH\")==1 & regexm(region_name,\"WEST\")==1\n",
    "local prev=r(prev)\n",
    "local sens=r(sens)\n",
    "local spec=r(spec)\n",
    "local ppv=r(ppv)\n",
    "local npv=r(npv)\n",
    "local roc=r(roc)\n",
    "post `memhold' (\"South West\") (`prev') (`sens') (`spec') (`ppv') (`npv') (`roc') \n",
    "\n",
    "quietly diagt diag test if regexm(system,\"One\")==1\n",
    "local prev=r(prev)\n",
    "local sens=r(sens)\n",
    "local spec=r(spec)\n",
    "local ppv=r(ppv)\n",
    "local npv=r(npv)\n",
    "local roc=r(roc)\n",
    "post `memhold' (\"SystemOne\") (`prev') (`sens') (`spec') (`ppv') (`npv') (`roc') \n",
    "\n",
    "quietly diagt diag test if regexm(system,\"Vision\")==1\n",
    "local prev=r(prev)\n",
    "local sens=r(sens)\n",
    "local spec=r(spec)\n",
    "local ppv=r(ppv)\n",
    "local npv=r(npv)\n",
    "local roc=r(roc)\n",
    "post `memhold' (\"Vision\") (`prev') (`sens') (`spec') (`ppv') (`npv') (`roc') \n",
    "\n",
    "quietly diagt diag test if regexm(ustrupper(system),\"EMIS\")==1\n",
    "local prev=r(prev)\n",
    "local sens=r(sens)\n",
    "local spec=r(spec)\n",
    "local ppv=r(ppv)\n",
    "local npv=r(npv)\n",
    "local roc=r(roc)\n",
    "post `memhold' (\"EMIS\") (`prev') (`sens') (`spec') (`ppv') (`npv') (`roc') \n",
    "\n",
    "quietly diagt diag test if RA_index==1\n",
    "local prev=r(prev)\n",
    "local sens=r(sens)\n",
    "local spec=r(spec)\n",
    "local ppv=r(ppv)\n",
    "local npv=r(npv)\n",
    "local roc=r(roc)\n",
    "post `memhold' (\"RAIndex1\") (`prev') (`sens') (`spec') (`ppv') (`npv') (`roc') \n",
    "\n",
    "quietly diagt diag test if RA_index==0\n",
    "local prev=r(prev)\n",
    "local sens=r(sens)\n",
    "local spec=r(spec)\n",
    "local ppv=r(ppv)\n",
    "local npv=r(npv)\n",
    "local roc=r(roc)\n",
    "post `memhold' (\"RAIndex0\") (`prev') (`sens') (`spec') (`ppv') (`npv') (`roc') \n",
    "\n",
    "quietly diagt diag test if ethnicity==\"0white\"\n",
    "local prev=r(prev)\n",
    "local sens=r(sens)\n",
    "local spec=r(spec)\n",
    "local ppv=r(ppv)\n",
    "local npv=r(npv)\n",
    "local roc=r(roc)\n",
    "post `memhold' (\"Ethnicity_0white\") (`prev') (`sens') (`spec') (`ppv') (`npv') (`roc') \n",
    "\n",
    "quietly diagt diag test if ethnicity==\"Other\"\n",
    "local prev=r(prev)\n",
    "local sens=r(sens)\n",
    "local spec=r(spec)\n",
    "local ppv=r(ppv)\n",
    "local npv=r(npv)\n",
    "local roc=r(roc)\n",
    "post `memhold' (\"Ethnicity_Other\") (`prev') (`sens') (`spec') (`ppv') (`npv') (`roc') \n",
    "\n",
    "\n",
    "\n",
    "quietly diagt diag test if ethnicity==\"Missing\"\n",
    "local prev=r(prev)\n",
    "local sens=r(sens)\n",
    "local spec=r(spec)\n",
    "local ppv=r(ppv)\n",
    "local npv=r(npv)\n",
    "local roc=r(roc)\n",
    "post `memhold' (\"Ethnicity_Missing\") (`prev') (`sens') (`spec') (`ppv') (`npv') (`roc') \n",
    "\n",
    "postclose `memhold'"
   ]
  },
  {
   "cell_type": "markdown",
   "id": "b350c4fb-deb8-450a-9750-689dc3a8268e",
   "metadata": {},
   "source": [
    "### Logistic Regression\n",
    "#### PPV"
   ]
  },
  {
   "cell_type": "code",
   "execution_count": 35,
   "id": "a21415d9",
   "metadata": {},
   "outputs": [
    {
     "name": "stdout",
     "output_type": "stream",
     "text": [
      "(2,589 observations deleted)\n",
      "(9 observations deleted)\n"
     ]
    }
   ],
   "source": [
    "drop if missing(imdcat)\n",
    "drop if missing(sex)"
   ]
  },
  {
   "cell_type": "code",
   "execution_count": 36,
   "id": "ad17f02e-1d4b-48ec-8a48-1c137597db1a",
   "metadata": {},
   "outputs": [
    {
     "name": "stdout",
     "output_type": "stream",
     "text": [
      "\n",
      "Logistic regression                                     Number of obs = 74,530\n",
      "                                                        LR chi2(0)    =   0.00\n",
      "                                                        Prob > chi2   =      .\n",
      "Log likelihood = -51064.881                             Pseudo R2     = 0.0000\n",
      "\n",
      "------------------------------------------------------------------------------\n",
      "    diag_pos |       Odds   Std. err.      z    P>|z|     [95% conf. interval]\n",
      "-------------+----------------------------------------------------------------\n",
      "       _cons |   1.288935   .0095188    34.37   0.000     1.270412    1.307727\n",
      "------------------------------------------------------------------------------\n"
     ]
    }
   ],
   "source": [
    "logistic diag_pos if test==1"
   ]
  },
  {
   "cell_type": "code",
   "execution_count": 37,
   "id": "b4bb2be2-7e3e-402c-aa81-7b7dfd706f64",
   "metadata": {},
   "outputs": [
    {
     "name": "stdout",
     "output_type": "stream",
     "text": [
      "note: 1.bnf_code_values != 0 predicts success perfectly;\n",
      "      1.bnf_code_values omitted and 1 obs not used.\n",
      "\n",
      "note: 3.bnf_code_values != 0 predicts failure perfectly;\n",
      "      3.bnf_code_values omitted and 4 obs not used.\n",
      "\n",
      "note: 11.bnf_code_values omitted because of collinearity.\n",
      "\n",
      "Logistic regression                                   Number of obs =   74,525\n",
      "                                                      LR chi2(8)    = 15546.43\n",
      "                                                      Prob > chi2   =   0.0000\n",
      "Log likelihood = -43287.78                            Pseudo R2     =   0.1522\n",
      "\n",
      "------------------------------------------------------------------------------------------------\n",
      "                      diag_pos | Odds ratio   Std. err.      z    P>|z|     [95% conf. interval]\n",
      "-------------------------------+----------------------------------------------------------------\n",
      "               bnf_code_values |\n",
      "                       030303  |          1  (empty)\n",
      "                       060302  |   1.539548   .4781899     1.39   0.165     .8375423    2.829958\n",
      "                       100103  |          1  (empty)\n",
      "       Adrenoreceptor agonist  |   8.130676   2.520535     6.76   0.000     4.428447    14.92801\n",
      "Antimuscarinic Bronchodilator  |   41.35156   12.98328    11.85   0.000     22.34794    76.51494\n",
      "      Compound bronchodilator  |   31.15251   10.04197    10.67   0.000     16.56186    58.59718\n",
      "              Corticosteroids  |   31.98715   9.931729    11.16   0.000     17.40544    58.78495\n",
      "                      Devices  |   4.215336   1.319203     4.60   0.000     2.282685    7.784279\n",
      "                Other/unknown  |   6.985911   2.241797     6.06   0.000     3.724519    13.10316\n",
      "                 Theophylline  |    35.7381   12.23153    10.45   0.000     18.27275    69.89708\n",
      "  Topical nasal decongestance  |          1  (omitted)\n",
      "                               |\n",
      "                         _cons |   .1518987    .047062    -6.08   0.000     .0827619    .2787903\n",
      "------------------------------------------------------------------------------------------------\n",
      "Note: _cons estimates baseline odds.\n"
     ]
    }
   ],
   "source": [
    "logistic diag_pos i.bnf_code_values if test==1"
   ]
  },
  {
   "cell_type": "code",
   "execution_count": 38,
   "id": "49e40858",
   "metadata": {},
   "outputs": [
    {
     "name": "stdout",
     "output_type": "stream",
     "text": [
      "\n",
      "Fitting fixed-effects model:\n",
      "\n",
      "Iteration 0:  Log likelihood = -50572.285  \n",
      "Iteration 1:  Log likelihood =  -50536.33  \n",
      "Iteration 2:  Log likelihood = -50536.326  \n",
      "\n",
      "Refining starting values:\n",
      "\n",
      "Grid node 0:  Log likelihood = -50548.339\n",
      "\n",
      "Fitting full model:\n",
      "\n",
      "Iteration 0:  Log likelihood = -50548.339  (not concave)\n",
      "Iteration 1:  Log likelihood = -50467.957  (not concave)\n",
      "Iteration 2:  Log likelihood = -50388.952  (not concave)\n",
      "Iteration 3:  Log likelihood = -50356.418  \n",
      "Iteration 4:  Log likelihood =  -50343.26  \n",
      "Iteration 5:  Log likelihood = -50342.467  \n",
      "Iteration 6:  Log likelihood = -50342.462  \n",
      "Iteration 7:  Log likelihood = -50342.462  \n",
      "\n",
      "Mixed-effects logistic regression               Number of obs     =     74,291\n",
      "Group variable: practice_id                     Number of groups  =        333\n",
      "\n",
      "                                                Obs per group:\n",
      "                                                              min =          1\n",
      "                                                              avg =      223.1\n",
      "                                                              max =      2,258\n",
      "\n",
      "Integration method: mvaghermite                 Integration pts.  =          7\n",
      "\n",
      "                                                Wald chi2(18)     =     594.71\n",
      "Log likelihood = -50342.462                     Prob > chi2       =     0.0000\n",
      "----------------------------------------------------------------------------------------------------------------\n",
      "                                       newdiag | Odds ratio   Std. err.      z    P>|z|     [95% conf. interval]\n",
      "-----------------------------------------------+----------------------------------------------------------------\n",
      "                                   1.sex_coded |   1.182383   .0179105    11.06   0.000     1.147795    1.218013\n",
      "                                               |\n",
      "                                       yearcat |\n",
      "                                    2010-2015  |   .9450415   .0174959    -3.05   0.002     .9113649    .9799625\n",
      "                                    2016-2020  |   1.020434   .0209154     0.99   0.324     .9802533    1.062262\n",
      "                                               |\n",
      "                                        agecat |\n",
      "                                      0Middle  |   1.195935   .0251448     8.51   0.000     1.147654    1.246247\n",
      "                                      Elderly  |    1.17734   .0268175     7.17   0.000     1.125934    1.231092\n",
      "                                               |\n",
      "                                        region |\n",
      "                  LONDON COMMISSIONING REGION  |   1.108353    .120204     0.95   0.343     .8961134    1.370861\n",
      "                MIDLANDS COMMISSIONING REGION  |    1.16058   .0629533     2.75   0.006     1.043526    1.290764\n",
      "NORTH EAST AND YORKSHIRE COMMISSIONING REGION  |   1.196382   .0704521     3.04   0.002      1.06597     1.34275\n",
      "              NORTH WEST COMMISSIONING REGION  |   1.279852   .0886562     3.56   0.000     1.117368    1.465963\n",
      "              SOUTH EAST COMMISSIONING REGION  |   1.004089   .0582044     0.07   0.944     .8962526    1.124901\n",
      "              SOUTH WEST COMMISSIONING REGION  |   1.135006   .0786048     1.83   0.067     .9909416    1.300014\n",
      "                                     Scotland  |   1.075565   .1134283     0.69   0.490     .8747213    1.322525\n",
      "                                        Wales  |   1.644047   .3149106     2.60   0.009     1.129458    2.393087\n",
      "                                               |\n",
      "                                      RA_index |   .9646351   .0400074    -0.87   0.385     .8893244    1.046323\n",
      "                                               |\n",
      "                                        ethnic |\n",
      "                                      Missing  |   .7484199   .0154204   -14.06   0.000     .7187986     .779262\n",
      "                                        Other  |   .6556637   .0211931   -13.06   0.000     .6154144    .6985454\n",
      "                                               |\n",
      "                                        imdcat |\n",
      "                                          4-7  |   .9820587   .0427039    -0.42   0.677     .9018281    1.069427\n",
      "                                         8-10  |   .9989671   .0469183    -0.02   0.982     .9111144    1.095291\n",
      "                                               |\n",
      "                                         _cons |   1.099552   .0545946     1.91   0.056     .9975906    1.211935\n",
      "-----------------------------------------------+----------------------------------------------------------------\n",
      "practice_id                                    |\n",
      "                                     var(_cons)|   .0589953   .0080749                      .0451139    .0771478\n",
      "----------------------------------------------------------------------------------------------------------------\n",
      "Note: Estimates are transformed only in the first equation to odds ratios.\n",
      "Note: _cons estimates baseline odds (conditional on zero random effects).\n",
      "LR test vs. logistic model: chibar2(01) = 387.73      Prob >= chibar2 = 0.0000\n"
     ]
    }
   ],
   "source": [
    "gen newdiag=diag_pos\n",
    "\n",
    "melogit newdiag i.sex i.yearcat i.agecat  i.region RA_index i.ethnic i.imdcat if test==1 || practice_id:,or\n",
    "estimates store model1"
   ]
  },
  {
   "cell_type": "markdown",
   "id": "1fb85b5e",
   "metadata": {},
   "source": [
    "##### Likelihood ratio tests"
   ]
  },
  {
   "cell_type": "code",
   "execution_count": 39,
   "id": "718b2ba3-f1ac-41c9-af92-e0cb45d55985",
   "metadata": {},
   "outputs": [],
   "source": [
    "\n",
    "\n",
    "quietly: melogit newdiag i.sex i.yearcat i.agecat  i.region RA_index i.ethnic if test==1 || practice_id:,or\n",
    "estimates store model_imd\n",
    "\n",
    "quietly:melogit newdiag i.sex i.yearcat i.agecat  i.region RA_index i.imdcat if test==1 || practice_id:,or\n",
    "estimates store model_ethnicity\n",
    "\n",
    "quietly:melogit newdiag i.yearcat i.agecat  i.region RA_index i.ethnic i.imdcat if test==1 || practice_id:,or\n",
    "estimates store model_sex\n",
    "\n",
    "quietly:melogit newdiag i.sex i.agecat  i.region RA_index i.ethnic i.imdcat if test==1 || practice_id:,or\n",
    "estimates store model_year\n",
    "\n",
    "quietly: melogit newdiag i.sex i.yearcat  i.region RA_index i.ethnic i.imdcat if test==1 || practice_id:,or\n",
    "estimates store model_age\n",
    "\n"
   ]
  },
  {
   "cell_type": "code",
   "execution_count": 40,
   "id": "31887f9d",
   "metadata": {},
   "outputs": [
    {
     "name": "stdout",
     "output_type": "stream",
     "text": [
      "\n",
      "Likelihood-ratio test\n",
      "Assumption: model_sex nested within model1\n",
      "\n",
      " LR chi2(1) = 122.54\n",
      "Prob > chi2 = 0.0000\n",
      "\n",
      "Likelihood-ratio test\n",
      "Assumption: model_year nested within model1\n",
      "\n",
      " LR chi2(2) =  18.13\n",
      "Prob > chi2 = 0.0001\n",
      "\n",
      "Likelihood-ratio test\n",
      "Assumption: model_age nested within model1\n",
      "\n",
      " LR chi2(2) =  75.27\n",
      "Prob > chi2 = 0.0000\n",
      "\n",
      "Likelihood-ratio test\n",
      "Assumption: model_ethnic~y nested within model1\n",
      "\n",
      " LR chi2(2) = 335.00\n",
      "Prob > chi2 = 0.0000\n",
      "\n",
      "Likelihood-ratio test\n",
      "Assumption: model_imd nested within model1\n",
      "\n",
      " LR chi2(2) =   0.24\n",
      "Prob > chi2 = 0.8888\n"
     ]
    }
   ],
   "source": [
    "lrtest model1 model_sex\n",
    "lrtest model1 model_year\n",
    "lrtest model1 model_age\n",
    "lrtest model1 model_ethnicity\n",
    "lrtest model1 model_imd\n"
   ]
  },
  {
   "cell_type": "markdown",
   "id": "99227c99-0304-407b-a990-a06fe4bd4560",
   "metadata": {},
   "source": [
    "#### NPV"
   ]
  },
  {
   "cell_type": "code",
   "execution_count": 41,
   "id": "04c0103e-c424-49af-8973-09a13878ea3f",
   "metadata": {},
   "outputs": [
    {
     "name": "stdout",
     "output_type": "stream",
     "text": [
      "\n",
      "Logistic regression                                    Number of obs = 347,872\n",
      "                                                       LR chi2(0)    =   -0.00\n",
      "                                                       Prob > chi2   =       .\n",
      "Log likelihood = -13609.909                            Pseudo R2     = -0.0000\n",
      "\n",
      "------------------------------------------------------------------------------\n",
      "    diag_neg |       Odds   Std. err.      z    P>|z|     [95% conf. interval]\n",
      "-------------+----------------------------------------------------------------\n",
      "       _cons |    153.267   3.238079   238.19   0.000       147.05    159.7467\n",
      "------------------------------------------------------------------------------\n"
     ]
    }
   ],
   "source": [
    "logistic diag_neg if test==0"
   ]
  },
  {
   "cell_type": "code",
   "execution_count": 42,
   "id": "93a5b760",
   "metadata": {},
   "outputs": [
    {
     "name": "stdout",
     "output_type": "stream",
     "text": [
      "(422,402 real changes made)\n",
      "\n",
      "Fitting fixed-effects model:\n",
      "\n",
      "Iteration 0:  Log likelihood = -35506.286  \n",
      "Iteration 1:  Log likelihood = -13505.025  \n",
      "Iteration 2:  Log likelihood = -13362.369  \n",
      "Iteration 3:  Log likelihood = -13321.886  \n",
      "Iteration 4:  Log likelihood = -13321.855  \n",
      "Iteration 5:  Log likelihood = -13321.855  \n",
      "\n",
      "Refining starting values:\n",
      "\n",
      "Grid node 0:  Log likelihood =  -12928.85\n",
      "\n",
      "Fitting full model:\n",
      "\n",
      "Iteration 0:  Log likelihood =  -12928.85  \n",
      "Iteration 1:  Log likelihood = -12917.504  \n",
      "Iteration 2:  Log likelihood =  -12910.75  \n",
      "Iteration 3:  Log likelihood = -12907.858  \n",
      "Iteration 4:  Log likelihood =  -12907.17  \n",
      "Iteration 5:  Log likelihood = -12907.169  \n",
      "Iteration 6:  Log likelihood = -12907.169  \n",
      "\n",
      "Mixed-effects logistic regression               Number of obs     =    347,142\n",
      "Group variable: practice_id                     Number of groups  =        335\n",
      "\n",
      "                                                Obs per group:\n",
      "                                                              min =          1\n",
      "                                                              avg =    1,036.2\n",
      "                                                              max =      8,233\n",
      "\n",
      "Integration method: mvaghermite                 Integration pts.  =          7\n",
      "\n",
      "                                                Wald chi2(18)     =     436.23\n",
      "Log likelihood = -12907.169                     Prob > chi2       =     0.0000\n",
      "----------------------------------------------------------------------------------------------------------------\n",
      "                                       newdiag | Odds ratio   Std. err.      z    P>|z|     [95% conf. interval]\n",
      "-----------------------------------------------+----------------------------------------------------------------\n",
      "                                   1.sex_coded |   .8893458   .0382368    -2.73   0.006     .8174738    .9675368\n",
      "                                               |\n",
      "                                       yearcat |\n",
      "                                    2010-2015  |   1.135512   .0600576     2.40   0.016     1.023697     1.25954\n",
      "                                    2016-2020  |   1.225984   .0713219     3.50   0.000     1.093871    1.374054\n",
      "                                               |\n",
      "                                        agecat |\n",
      "                                      0Middle  |   .9014456   .0512184    -1.83   0.068     .8064471    1.007635\n",
      "                                      Elderly  |   .3996444    .024697   -14.84   0.000     .3540557    .4511031\n",
      "                                               |\n",
      "                                        region |\n",
      "                  LONDON COMMISSIONING REGION  |   .8467597   .2608037    -0.54   0.589     .4630079    1.548574\n",
      "                MIDLANDS COMMISSIONING REGION  |   .8345048   .1416229    -1.07   0.286     .5983736    1.163819\n",
      "NORTH EAST AND YORKSHIRE COMMISSIONING REGION  |   1.076031   .1958654     0.40   0.687     .7531544    1.537324\n",
      "              NORTH WEST COMMISSIONING REGION  |   .7083855   .1485613    -1.64   0.100     .4696315    1.068519\n",
      "              SOUTH EAST COMMISSIONING REGION  |   .9668091   .1725341    -0.19   0.850     .6814557    1.371652\n",
      "              SOUTH WEST COMMISSIONING REGION  |   .7491005   .1578357    -1.37   0.170     .4956688     1.13211\n",
      "                                     Scotland  |    .701741   .2155469    -1.15   0.249     .3843453    1.281245\n",
      "                                        Wales  |   .8437778    .480226    -0.30   0.765     .2765521    2.574419\n",
      "                                               |\n",
      "                                      RA_index |   1.005763   .1298329     0.04   0.964     .7809356    1.295318\n",
      "                                               |\n",
      "                                        ethnic |\n",
      "                                      Missing  |   1.652653   .0950522     8.73   0.000     1.476471    1.849859\n",
      "                                        Other  |   1.357817   .1153878     3.60   0.000     1.149492    1.603898\n",
      "                                               |\n",
      "                                        imdcat |\n",
      "                                          4-7  |   1.148127   .1533059     1.03   0.301     .8837545    1.491586\n",
      "                                         8-10  |   1.114974   .1598343     0.76   0.448     .8418655    1.476681\n",
      "                                               |\n",
      "                                         _cons |   191.7299   29.38662    34.29   0.000     141.9794    258.9132\n",
      "-----------------------------------------------+----------------------------------------------------------------\n",
      "practice_id                                    |\n",
      "                                     var(_cons)|   .5105303   .0667521                      .3951177    .6596545\n",
      "----------------------------------------------------------------------------------------------------------------\n",
      "Note: Estimates are transformed only in the first equation to odds ratios.\n",
      "Note: _cons estimates baseline odds (conditional on zero random effects).\n",
      "LR test vs. logistic model: chibar2(01) = 829.37      Prob >= chibar2 = 0.0000\n"
     ]
    }
   ],
   "source": [
    "/* need to use the same response variable (newdiag) to line up the two model results */\n",
    "replace newdiag=diag_neg \n",
    "\n",
    "melogit newdiag i.sex i.yearcat i.agecat i.region RA_index i.ethnic i.imdcat if test==0 || practice_id:,or\n",
    "estimates store model2"
   ]
  },
  {
   "cell_type": "markdown",
   "id": "60c60b7a",
   "metadata": {},
   "source": [
    "##### Likelihood ratio tests"
   ]
  },
  {
   "cell_type": "code",
   "execution_count": 43,
   "id": "c31bd1f1-c69b-4600-a1c0-bde311d67651",
   "metadata": {},
   "outputs": [],
   "source": [
    "\n",
    "quietly: melogit newdiag i.yearcat i.agecat i.region RA_index i.ethnic i.imdcat if test==0 || practice_id:,or\n",
    "estimates store model2_sex\n",
    "quietly: melogit newdiag i.sex i.agecat i.region RA_index i.ethnic i.imdcat if test==0 || practice_id:,or\n",
    "estimates store model2_year\n",
    "quietly: melogit newdiag i.sex i.yearcat i.region RA_index i.ethnic i.imdcat if test==0 || practice_id:,or\n",
    "estimates store model2_age\n",
    "quietly: melogit newdiag i.sex i.yearcat i.agecat i.region RA_index i.imdcat if test==0 || practice_id:,or\n",
    "estimates store model2_ethnicity\n",
    "quietly: melogit newdiag i.sex i.yearcat i.agecat i.region RA_index i.ethnic if test==0 || practice_id:,or\n",
    "estimates store model2_imd\n"
   ]
  },
  {
   "cell_type": "code",
   "execution_count": 44,
   "id": "95d03409",
   "metadata": {},
   "outputs": [
    {
     "name": "stdout",
     "output_type": "stream",
     "text": [
      "\n",
      "Likelihood-ratio test\n",
      "Assumption: model2_sex nested within model2\n",
      "\n",
      " LR chi2(1) =   7.44\n",
      "Prob > chi2 = 0.0064\n",
      "\n",
      "Likelihood-ratio test\n",
      "Assumption: model2_year nested within model2\n",
      "\n",
      " LR chi2(2) =  12.72\n",
      "Prob > chi2 = 0.0017\n",
      "\n",
      "Likelihood-ratio test\n",
      "Assumption: model2_age nested within model2\n",
      "\n",
      " LR chi2(2) = 293.46\n",
      "Prob > chi2 = 0.0000\n",
      "\n",
      "Likelihood-ratio test\n",
      "Assumption: model2_ethni~y nested within model2\n",
      "\n",
      " LR chi2(2) =  85.13\n",
      "Prob > chi2 = 0.0000\n",
      "\n",
      "Likelihood-ratio test\n",
      "Assumption: model2_imd nested within model2\n",
      "\n",
      " LR chi2(2) =   1.12\n",
      "Prob > chi2 = 0.5726\n"
     ]
    }
   ],
   "source": [
    "lrtest model2 model2_sex\n",
    "lrtest model2 model2_year\n",
    "lrtest model2 model2_age\n",
    "lrtest model2 model2_ethnicity\n",
    "lrtest model2 model2_imd\n"
   ]
  },
  {
   "cell_type": "code",
   "execution_count": 45,
   "id": "017939f5-75b7-4ee0-9f7b-3105e0d2bfe1",
   "metadata": {},
   "outputs": [
    {
     "name": "stdout",
     "output_type": "stream",
     "text": [
      "\n",
      "Table 2. PPV (1) and NPV (2), OR, Random effect\n",
      "------------------------------------------------------------------\n",
      "                                                    1        2    \n",
      "------------------------------------------------------------------\n",
      "sex_coded                                                         \n",
      "  1                                              1.18 **   0.89 **\n",
      "yearcat                                                           \n",
      "  2010-2015                                      0.95 **   1.14 * \n",
      "  2016-2020                                      1.02      1.23 **\n",
      "agecat                                                            \n",
      "  0Middle                                        1.20 **   0.90   \n",
      "  Elderly                                        1.18 **   0.40 **\n",
      "region                                                            \n",
      "  LONDON COMMISSIONING REGION                    1.11      0.85   \n",
      "  MIDLANDS COMMISSIONING REGION                  1.16 **   0.83   \n",
      "  NORTH EAST AND YORKSHIRE COMMISSIONING REGION  1.20 **   1.08   \n",
      "  NORTH WEST COMMISSIONING REGION                1.28 **   0.71   \n",
      "  SOUTH EAST COMMISSIONING REGION                1.00      0.97   \n",
      "  SOUTH WEST COMMISSIONING REGION                1.14      0.75   \n",
      "  Scotland                                       1.08      0.70   \n",
      "  Wales                                          1.64 **   0.84   \n",
      "RA_index                                         0.96      1.01   \n",
      "ethnic                                                            \n",
      "  Missing                                        0.75 **   1.65 **\n",
      "  Other                                          0.66 **   1.36 **\n",
      "imdcat                                                            \n",
      "  4-7                                            0.98      1.15   \n",
      "  8-10                                           1.00      1.11   \n",
      "Intercept                                        1.10    191.73 **\n",
      "var(_cons[practice_id])                          0.06      0.51   \n",
      "Number of observations                          74291    347142   \n",
      "------------------------------------------------------------------\n",
      "** p<.01, * p<.05\n",
      "(collection ETable exported to file validity2.xlsx)\n"
     ]
    }
   ],
   "source": [
    "etable, estimates(model1 model2) showstars showstarsnote title(\"Table 2. PPV (1) and NPV (2),  OR, Random effect\") cstat(_r_b,nformat(%6.2f)) column(index) export(validity2.xlsx, modify sheet(reg_asco_jq, replace))"
   ]
  },
  {
   "cell_type": "markdown",
   "id": "e7e9a417",
   "metadata": {},
   "source": [
    "### Summary of validation parameters"
   ]
  },
  {
   "cell_type": "code",
   "execution_count": 46,
   "id": "e27d82a4-8d2d-4529-8a15-ae4baabfa28c",
   "metadata": {},
   "outputs": [
    {
     "name": "stdout",
     "output_type": "stream",
     "text": [
      "(26 real changes made)\n",
      "(26 real changes made)\n",
      "(26 real changes made)\n",
      "(26 real changes made)\n",
      "(26 real changes made)\n",
      "(26 real changes made)\n"
     ]
    }
   ],
   "source": [
    "use validity.dta, clear\n",
    "replace prev=round(prev, 0.1)\n",
    "gen prev_a=round(((prev/100)*((sens/100)+(spec/100)-1)+1-(spec/100))*100,0.1)/*apparent prevalence*/\n",
    "replace sens=round(sens, 0.1)\n",
    "replace spec=round(spec,0.1)\n",
    "replace ppv=round(ppv, 0.1)\n",
    "replace npv=round(npv, 0.1)\n",
    "replace roc=round(roc, 0.01)\n"
   ]
  },
  {
   "cell_type": "code",
   "execution_count": 47,
   "id": "8129bfb3-cd21-4077-a785-9a74a846c65b",
   "metadata": {},
   "outputs": [
    {
     "data": {
      "text/html": [
       "<div>\n",
       "<style scoped>\n",
       "    .dataframe tbody tr th:only-of-type {\n",
       "        vertical-align: middle;\n",
       "    }\n",
       "\n",
       "    .dataframe tbody tr th {\n",
       "        vertical-align: top;\n",
       "    }\n",
       "\n",
       "    .dataframe thead th {\n",
       "        text-align: right;\n",
       "    }\n",
       "</style>\n",
       "<table border=\"1\" class=\"dataframe\">\n",
       "  <thead>\n",
       "    <tr style=\"text-align: right;\">\n",
       "      <th></th>\n",
       "      <th>var</th>\n",
       "      <th>prev</th>\n",
       "      <th>sens</th>\n",
       "      <th>spec</th>\n",
       "      <th>ppv</th>\n",
       "      <th>npv</th>\n",
       "      <th>roc</th>\n",
       "      <th>prev_a</th>\n",
       "    </tr>\n",
       "  </thead>\n",
       "  <tbody>\n",
       "    <tr>\n",
       "      <th>1</th>\n",
       "      <td>all</td>\n",
       "      <td>10.4</td>\n",
       "      <td>94.9</td>\n",
       "      <td>91.4</td>\n",
       "      <td>56.3</td>\n",
       "      <td>99.4</td>\n",
       "      <td>.93</td>\n",
       "      <td>17.6</td>\n",
       "    </tr>\n",
       "    <tr>\n",
       "      <th>2</th>\n",
       "      <td>Male</td>\n",
       "      <td>9.8</td>\n",
       "      <td>94.3</td>\n",
       "      <td>92.8</td>\n",
       "      <td>58.6</td>\n",
       "      <td>99.3</td>\n",
       "      <td>.94</td>\n",
       "      <td>15.7</td>\n",
       "    </tr>\n",
       "    <tr>\n",
       "      <th>3</th>\n",
       "      <td>Female</td>\n",
       "      <td>11.1</td>\n",
       "      <td>95.4</td>\n",
       "      <td>90.1</td>\n",
       "      <td>54.6</td>\n",
       "      <td>99.4</td>\n",
       "      <td>.93</td>\n",
       "      <td>19.4</td>\n",
       "    </tr>\n",
       "    <tr>\n",
       "      <th>4</th>\n",
       "      <td>Age young</td>\n",
       "      <td>6.3</td>\n",
       "      <td>93.3</td>\n",
       "      <td>94.3</td>\n",
       "      <td>52.5</td>\n",
       "      <td>99.5</td>\n",
       "      <td>.94</td>\n",
       "      <td>11.2</td>\n",
       "    </tr>\n",
       "    <tr>\n",
       "      <th>5</th>\n",
       "      <td>Age middle</td>\n",
       "      <td>10.2</td>\n",
       "      <td>95.5</td>\n",
       "      <td>91.9</td>\n",
       "      <td>57.4</td>\n",
       "      <td>99.4</td>\n",
       "      <td>.94</td>\n",
       "      <td>17</td>\n",
       "    </tr>\n",
       "    <tr>\n",
       "      <th>6</th>\n",
       "      <td>Age elderly</td>\n",
       "      <td>16.6</td>\n",
       "      <td>94.8</td>\n",
       "      <td>85.6</td>\n",
       "      <td>56.8</td>\n",
       "      <td>98.8</td>\n",
       "      <td>.9</td>\n",
       "      <td>27.8</td>\n",
       "    </tr>\n",
       "    <tr>\n",
       "      <th>7</th>\n",
       "      <td>Year 2004-2009</td>\n",
       "      <td>11</td>\n",
       "      <td>94.9</td>\n",
       "      <td>90.8</td>\n",
       "      <td>56</td>\n",
       "      <td>99.3</td>\n",
       "      <td>.93</td>\n",
       "      <td>18.6</td>\n",
       "    </tr>\n",
       "    <tr>\n",
       "      <th>8</th>\n",
       "      <td>Year 2010-2015</td>\n",
       "      <td>10.4</td>\n",
       "      <td>94.9</td>\n",
       "      <td>91.2</td>\n",
       "      <td>55.7</td>\n",
       "      <td>99.4</td>\n",
       "      <td>.93</td>\n",
       "      <td>17.7</td>\n",
       "    </tr>\n",
       "    <tr>\n",
       "      <th>9</th>\n",
       "      <td>Year 2016-2020</td>\n",
       "      <td>9.8</td>\n",
       "      <td>95</td>\n",
       "      <td>92.4</td>\n",
       "      <td>57.7</td>\n",
       "      <td>99.4</td>\n",
       "      <td>.94</td>\n",
       "      <td>16.2</td>\n",
       "    </tr>\n",
       "    <tr>\n",
       "      <th>10</th>\n",
       "      <td>IMD 1,3</td>\n",
       "      <td>10.5</td>\n",
       "      <td>94.5</td>\n",
       "      <td>91.6</td>\n",
       "      <td>56.8</td>\n",
       "      <td>99.3</td>\n",
       "      <td>.93</td>\n",
       "      <td>17.5</td>\n",
       "    </tr>\n",
       "    <tr>\n",
       "      <th>11</th>\n",
       "      <td>IMD 4,7</td>\n",
       "      <td>10.9</td>\n",
       "      <td>95.5</td>\n",
       "      <td>91</td>\n",
       "      <td>56.4</td>\n",
       "      <td>99.4</td>\n",
       "      <td>.93</td>\n",
       "      <td>18.5</td>\n",
       "    </tr>\n",
       "    <tr>\n",
       "      <th>12</th>\n",
       "      <td>IMD 8,10</td>\n",
       "      <td>9.9</td>\n",
       "      <td>94.7</td>\n",
       "      <td>91.6</td>\n",
       "      <td>55.5</td>\n",
       "      <td>99.4</td>\n",
       "      <td>.93</td>\n",
       "      <td>16.9</td>\n",
       "    </tr>\n",
       "    <tr>\n",
       "      <th>13</th>\n",
       "      <td>London</td>\n",
       "      <td>7.3</td>\n",
       "      <td>92.7</td>\n",
       "      <td>94.5</td>\n",
       "      <td>56.8</td>\n",
       "      <td>99.4</td>\n",
       "      <td>.94</td>\n",
       "      <td>11.9</td>\n",
       "    </tr>\n",
       "    <tr>\n",
       "      <th>14</th>\n",
       "      <td>Midlands</td>\n",
       "      <td>12.2</td>\n",
       "      <td>95</td>\n",
       "      <td>90.4</td>\n",
       "      <td>57.7</td>\n",
       "      <td>99.2</td>\n",
       "      <td>.93</td>\n",
       "      <td>20</td>\n",
       "    </tr>\n",
       "    <tr>\n",
       "      <th>15</th>\n",
       "      <td>Yorkshire</td>\n",
       "      <td>10.6</td>\n",
       "      <td>95.3</td>\n",
       "      <td>91.8</td>\n",
       "      <td>57.7</td>\n",
       "      <td>99.4</td>\n",
       "      <td>.94</td>\n",
       "      <td>17.5</td>\n",
       "    </tr>\n",
       "    <tr>\n",
       "      <th>16</th>\n",
       "      <td>North West</td>\n",
       "      <td>10.4</td>\n",
       "      <td>94.4</td>\n",
       "      <td>92.7</td>\n",
       "      <td>60</td>\n",
       "      <td>99.3</td>\n",
       "      <td>.94</td>\n",
       "      <td>16.3</td>\n",
       "    </tr>\n",
       "    <tr>\n",
       "      <th>17</th>\n",
       "      <td>South East</td>\n",
       "      <td>8.9</td>\n",
       "      <td>94.7</td>\n",
       "      <td>92.2</td>\n",
       "      <td>54.3</td>\n",
       "      <td>99.4</td>\n",
       "      <td>.93</td>\n",
       "      <td>15.5</td>\n",
       "    </tr>\n",
       "    <tr>\n",
       "      <th>18</th>\n",
       "      <td>South West</td>\n",
       "      <td>11.3</td>\n",
       "      <td>94.8</td>\n",
       "      <td>90.6</td>\n",
       "      <td>56.4</td>\n",
       "      <td>99.3</td>\n",
       "      <td>.93</td>\n",
       "      <td>19</td>\n",
       "    </tr>\n",
       "    <tr>\n",
       "      <th>19</th>\n",
       "      <td>SystemOne</td>\n",
       "      <td>11</td>\n",
       "      <td>95.4</td>\n",
       "      <td>90.6</td>\n",
       "      <td>55.7</td>\n",
       "      <td>99.4</td>\n",
       "      <td>.93</td>\n",
       "      <td>18.8</td>\n",
       "    </tr>\n",
       "    <tr>\n",
       "      <th>20</th>\n",
       "      <td>Vision</td>\n",
       "      <td>10.4</td>\n",
       "      <td>94.8</td>\n",
       "      <td>91.2</td>\n",
       "      <td>55.4</td>\n",
       "      <td>99.3</td>\n",
       "      <td>.93</td>\n",
       "      <td>17.8</td>\n",
       "    </tr>\n",
       "    <tr>\n",
       "      <th>21</th>\n",
       "      <td>EMIS</td>\n",
       "      <td>9.7</td>\n",
       "      <td>94.2</td>\n",
       "      <td>92.4</td>\n",
       "      <td>57.2</td>\n",
       "      <td>99.3</td>\n",
       "      <td>.93</td>\n",
       "      <td>16</td>\n",
       "    </tr>\n",
       "    <tr>\n",
       "      <th>22</th>\n",
       "      <td>RAIndex1</td>\n",
       "      <td>10.3</td>\n",
       "      <td>94.6</td>\n",
       "      <td>91.8</td>\n",
       "      <td>56.8</td>\n",
       "      <td>99.3</td>\n",
       "      <td>.93</td>\n",
       "      <td>17.1</td>\n",
       "    </tr>\n",
       "    <tr>\n",
       "      <th>23</th>\n",
       "      <td>RAIndex0</td>\n",
       "      <td>11</td>\n",
       "      <td>95.7</td>\n",
       "      <td>90.3</td>\n",
       "      <td>55.1</td>\n",
       "      <td>99.4</td>\n",
       "      <td>.93</td>\n",
       "      <td>19.1</td>\n",
       "    </tr>\n",
       "    <tr>\n",
       "      <th>24</th>\n",
       "      <td>Ethnicity_0white</td>\n",
       "      <td>12.6</td>\n",
       "      <td>95.3</td>\n",
       "      <td>90.3</td>\n",
       "      <td>58.6</td>\n",
       "      <td>99.3</td>\n",
       "      <td>.93</td>\n",
       "      <td>20.5</td>\n",
       "    </tr>\n",
       "    <tr>\n",
       "      <th>25</th>\n",
       "      <td>Ethnicity_Other</td>\n",
       "      <td>6.7</td>\n",
       "      <td>92.8</td>\n",
       "      <td>93.1</td>\n",
       "      <td>49</td>\n",
       "      <td>99.4</td>\n",
       "      <td>.93</td>\n",
       "      <td>12.6</td>\n",
       "    </tr>\n",
       "    <tr>\n",
       "      <th>26</th>\n",
       "      <td>Ethnicity_Missing</td>\n",
       "      <td>7.3</td>\n",
       "      <td>94.2</td>\n",
       "      <td>93</td>\n",
       "      <td>51.5</td>\n",
       "      <td>99.5</td>\n",
       "      <td>.94</td>\n",
       "      <td>13.4</td>\n",
       "    </tr>\n",
       "  </tbody>\n",
       "</table>\n",
       "</div>"
      ]
     },
     "metadata": {},
     "output_type": "display_data"
    }
   ],
   "source": [
    "%head 50"
   ]
  },
  {
   "cell_type": "code",
   "execution_count": 48,
   "id": "47dc850c-f3c8-4b9c-8ba9-3620f31b4fa9",
   "metadata": {},
   "outputs": [
    {
     "name": "stdout",
     "output_type": "stream",
     "text": [
      "file validity2.xlsx saved\n"
     ]
    }
   ],
   "source": [
    "/*texsave * using test3.tex, varlabels*/\n",
    "export excel using  validity2.xlsx, sheet(val_asco_jq, replace)"
   ]
  }
 ],
 "metadata": {
  "kernelspec": {
   "display_name": "Stata (nbstata)",
   "language": "stata",
   "name": "nbstata"
  },
  "language_info": {
   "file_extension": ".do",
   "mimetype": "text/x-stata",
   "name": "stata",
   "version": "17"
  }
 },
 "nbformat": 4,
 "nbformat_minor": 5
}
