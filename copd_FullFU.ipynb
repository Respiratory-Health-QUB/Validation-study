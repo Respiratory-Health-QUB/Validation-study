{
 "cells": [
  {
   "cell_type": "markdown",
   "id": "13e469d7",
   "metadata": {},
   "source": [
    "# Validity of using prescription records to identify patient comorbidities\n",
    "## Analysis of COPD\n",
    "## Sensitivity Analysis - ever diagnosed"
   ]
  },
  {
   "cell_type": "markdown",
   "id": "a3d5caf8",
   "metadata": {},
   "source": [
    "**ReadMe:**\n",
    "- This is a script used in the analysis for Schnier et al., 2025: Validity of using prescription records to classify disease – a record linkage study using routinely collected electronic health records from the UK.\n",
    "- The underlying data set has been created using the Optimum Patient Care Research Database (https://opcrd.optimumpatientcare.org/). The authors do not have permission to give the public access to the study dataset; researchers may request access to OPCRD for their own purposes. \n",
    " - All code is run in StataSE 18. \n"
   ]
  },
  {
   "cell_type": "markdown",
   "id": "1cf02e3e-e834-469d-abf1-21c9ce29f756",
   "metadata": {},
   "source": [
    "**Set up:**\n",
    "|Var|Input|\n",
    "| --- | --- | \n",
    "|population|425,000|\n",
    "|diagnostic codes|Jenni Quint|\n",
    "|drug codes|Jenni Quint (excluding antibiotics)|\n",
    "|sql date|25.06.2025|\n",
    "|sql code|copdselection_20250622.sql| "
   ]
  },
  {
   "cell_type": "code",
   "execution_count": 1,
   "id": "2a759161-052f-4433-ab6c-0ad7ab9120e9",
   "metadata": {},
   "outputs": [
    {
     "data": {
      "text/html": [
       "<style>div.jp-Notebook .datagrid-container {min-height: 448px; }</style>"
      ],
      "text/plain": [
       "<IPython.core.display.HTML object>"
      ]
     },
     "metadata": {},
     "output_type": "display_data"
    }
   ],
   "source": [
    "    clear all"
   ]
  },
  {
   "cell_type": "markdown",
   "id": "5e9a592b-20c3-4eb6-b947-22979a02dcf0",
   "metadata": {},
   "source": [
    "### Import from SQL server and data wrangling"
   ]
  },
  {
   "cell_type": "code",
   "execution_count": 2,
   "id": "b5b5eb32-1b5c-44c2-901c-0e9d1a4e36d2",
   "metadata": {},
   "outputs": [],
   "source": [
    "odbc load, exec(\"select * from [copd_425000_fullFU_20250622]\") dsn(\"sqlserverconnect\")"
   ]
  },
  {
   "cell_type": "code",
   "execution_count": 3,
   "id": "0835f95f-a07b-4d29-b825-b3823bfad60e",
   "metadata": {
    "scrolled": true
   },
   "outputs": [
    {
     "name": "stdout",
     "output_type": "stream",
     "text": [
      "(74,041 missing values generated)\n",
      "(74,041 real changes made)\n",
      "(21,977 missing values generated)\n",
      "(21,977 real changes made)\n",
      "(2,589 missing values generated)\n",
      "variable bnf_code was str6 now str22\n",
      "(37,562 real changes made)\n",
      "variable bnf_code was str22 now str29\n",
      "(3,283 real changes made)\n",
      "(198 real changes made)\n",
      "(904 real changes made)\n",
      "(0 real changes made)\n",
      "(17,346 real changes made)\n",
      "(0 real changes made)\n",
      "(606 real changes made)\n",
      "(14,137 real changes made)\n",
      "variable ethnicity was str2 now str6\n",
      "(257,981 real changes made)\n",
      "(3,762 real changes made)\n",
      "(23,912 real changes made)\n",
      "(7,430 real changes made)\n",
      "(8,764 real changes made)\n",
      "variable ethnicity was str6 now str7\n",
      "(123,151 real changes made)\n"
     ]
    }
   ],
   "source": [
    "generate test=0 if missing(drug_dt)\n",
    "replace test=1 if ! missing(drug_dt)  \n",
    "\n",
    "generate diag=0 if missing(diag_dt)\n",
    "replace diag=1 if ! missing(diag_dt)  \n",
    "\n",
    "gen start_year=year(fu_start_dt)\n",
    "\n",
    "\n",
    "egen agecat = cut(age), at(16,30,70,120)\n",
    "label def agecat_lab 16 \"Young\" 30 \"0Middle\" 70 \"Elderly\" 120 \"weird\"\n",
    "label values agecat agecat_lab\n",
    "\n",
    "egen yearcat = cut(start_year), at(2004,2010,2016,2025)\n",
    "label def yearcat_lab 2004 \"2004-2009\" 2010 \"2010-2015\" 2016 \"2016-2020\" \n",
    "label values yearcat yearcat_lab\n",
    "\n",
    "egen imdcat = cut(imd_decile), at(0,4,8,11)\n",
    "label def imdcat_lab 0 \"1-3\" 4 \"4-7\" 8 \"8-10\" \n",
    "label values imdcat imdcat_lab\n",
    "\n",
    "\n",
    "replace bnf_code = \"Adrenoreceptor agonist\" if bnf_code== \"030101\"\n",
    "replace bnf_code = \"Antimuscarinic Bronchodilator\" if bnf_code== \"030102\"\n",
    "replace bnf_code = \"Theophylline\" if bnf_code== \"030103\"\n",
    "replace bnf_code = \"Compound bronchodilator\" if bnf_code== \"030104\"\n",
    "replace bnf_code = \"Devices\" if bnf_code== \"030105\" | bnf_code==\"210102\" | bnf_code==\"211200\"\n",
    "replace bnf_code = \"Corticosteroids\" if bnf_code== \"030200\"\n",
    "replace bnf_code = \"Topical nasal decongestance\" if bnf_code== \"120202\"\n",
    "replace bnf_code = \"Other/unknown\" if missing(bnf_code) & ! missing(drug_dt)\n",
    "replace bnf_code = \"OCT\" if bnf_code== \"060302\"\n",
    "\n",
    "\n",
    "\n",
    "replace ethnicity=\"0white\" if ethnicity==\"1\"\n",
    "replace ethnicity=\"Other\" if ethnicity==\"2\"\n",
    "replace ethnicity=\"Other\" if ethnicity==\"3\"\n",
    "replace ethnicity=\"Other\" if ethnicity==\"4\"\n",
    "replace ethnicity=\"Other\" if ethnicity==\"5\"\n",
    "replace ethnicity=\"Missing\" if ethnicity==\"99\"\n",
    "\n",
    "\n",
    "encode bnf_code, generate(bnf_code_values) \n",
    "encode description, generate(description_values)\n",
    "encode ethnicity, generate(ethnicity_values) \n",
    "\n",
    "gen diag_neg=diag==0\n",
    "gen diag_pos=diag==1\n",
    "encode region_name, generate(region) label(regionlbl)\n",
    "encode ethnicity, generate(ethnic)\n"
   ]
  },
  {
   "cell_type": "code",
   "execution_count": 4,
   "id": "4bb67b58-5460-4077-bd5d-6252a35d7c1e",
   "metadata": {},
   "outputs": [
    {
     "name": "stdout",
     "output_type": "stream",
     "text": [
      "(bin=19, start=16, width=5)\n"
     ]
    },
    {
     "data": {
      "image/png": "[encoded data removed]",
      "text/plain": [
       "<IPython.core.display.Image object>"
      ]
     },
     "metadata": {},
     "output_type": "display_data"
    }
   ],
   "source": [
    "histogram age, width(5)\n"
   ]
  },
  {
   "cell_type": "markdown",
   "id": "cfdd2c1f-86b9-4840-8106-662ce151f20e",
   "metadata": {},
   "source": [
    "This table holds one randomly selected diagnostic code found during the observation period. The table is truncated to only include diagnostic codes with a count of 10 or more."
   ]
  },
  {
   "cell_type": "code",
   "execution_count": 5,
   "id": "6544a018-204b-4fcb-b5ab-d9ec745e764f",
   "metadata": {},
   "outputs": [
    {
     "name": "stdout",
     "output_type": "stream",
     "text": [
      "\n",
      "  +-----------------------------------------------------------------------------------------------------+\n",
      "  |                                                               description   Freq.   Percent     %<= |\n",
      "  |-----------------------------------------------------------------------------------------------------|\n",
      "  |                     other specified chronic obstructive pulmonary disease    4697     21.37   21.37 |\n",
      "  |                                               chr. airway obstruction nos    4207     19.14   40.52 |\n",
      "  |                                                            bronchitis nos    1832      8.34   48.85 |\n",
      "  |                                                    Bronchitis unspecified    1303      5.93   54.78 |\n",
      "  |                       Chronic obstructive pulmonary disease annual review     925      4.21   58.99 |\n",
      "  |-----------------------------------------------------------------------------------------------------|\n",
      "  |                       chronic obstructive pulmonary disease annual review     887      4.04   63.02 |\n",
      "  |                                                 chronic wheezy bronchitis     876      3.99   67.01 |\n",
      "  |                 acute exacerbation of chronic obstructive airways disease     663      3.02   70.03 |\n",
      "  |                                Mild chronic obstructive pulmonary disease     635      2.89   72.92 |\n",
      "  |                                mild chronic obstructive pulmonary disease     623      2.83   75.75 |\n",
      "  |-----------------------------------------------------------------------------------------------------|\n",
      "  |                                                           other emphysema     516      2.35   78.10 |\n",
      "  |                            moderate chronic obstructive pulmonary disease     504      2.29   80.39 |\n",
      "  |                            Moderate chronic obstructive pulmonary disease     455      2.07   82.46 |\n",
      "  |                          chronic obstructive pulmonary disease monitoring     455      2.07   84.53 |\n",
      "  |                                            airways obstructn irreversible     438      1.99   86.53 |\n",
      "  |-----------------------------------------------------------------------------------------------------|\n",
      "  |                                                                 emphysema     434      1.97   88.50 |\n",
      "  |                          Chronic obstructive pulmonary disease monitoring     368      1.67   90.18 |\n",
      "  |                                                        chronic bronchitis     305      1.39   91.56 |\n",
      "  |                                   chronic obstructive airways disease nos     299      1.36   92.92 |\n",
      "  |               Chronic obstructive pulmonary disease monitoring 1st letter     218      0.99   93.92 |\n",
      "  |-----------------------------------------------------------------------------------------------------|\n",
      "  |               chronic obstructive pulmonary disease monitoring 1st letter     190      0.86   94.78 |\n",
      "  |                              severe chronic obstructive pulmonary disease     171      0.78   95.56 |\n",
      "  |                              Severe chronic obstructive pulmonary disease     167      0.76   96.32 |\n",
      "  |                           chronic obstructive pulmonary disease follow-up      85      0.39   96.71 |\n",
      "  |                                           COPD self-management plan given      77      0.35   97.06 |\n",
      "  |-----------------------------------------------------------------------------------------------------|\n",
      "  |                           Chronic obstructive pulmonary disease follow-up      66      0.30   97.36 |\n",
      "  |       acute infective exacerbation of chronic obstructive airways disease      44      0.20   97.56 |\n",
      "  |              Acute infective exacerbation chronic obstruct airway disease      33      0.15   97.71 |\n",
      "  |                                                 simple chronic bronchitis      29      0.13   97.84 |\n",
      "  |               Chron obstruct pulmonary dis wth acute exacerbation, unspec      28      0.13   97.97 |\n",
      "  |-----------------------------------------------------------------------------------------------------|\n",
      "  |                                                      admit copd emergency      28      0.13   98.09 |\n",
      "  |                                                      Admit COPD emergency      24      0.11   98.20 |\n",
      "  |                                                             emphysema nos      24      0.11   98.31 |\n",
      "  | acute non-infective exacerbation of chronic obstructive pulmonary disease      20      0.09   98.40 |\n",
      "  |                    chronic obstructive pulmonary disease 6 monthly review      16      0.07   98.48 |\n",
      "  |-----------------------------------------------------------------------------------------------------|\n",
      "  |               chronic obstructive pulmonary disease monitoring 2nd letter      16      0.07   98.55 |\n",
      "  |                                                       Pulmonary emphysema      15      0.07   98.62 |\n",
      "  |                    Chronic obstructive pulmonary disease 6 monthly review      14      0.06   98.68 |\n",
      "  |                             Chronic obstructive pulmonary disease finding      14      0.06   98.74 |\n",
      "  |              Chronic obstructive pulmonary disease monitoring verb invite      14      0.06   98.81 |\n",
      "  |-----------------------------------------------------------------------------------------------------|\n",
      "  |               Chronic obstructive pulmonary disease monitoring 2nd letter      13      0.06   98.87 |\n",
      "  |                    Chronic obstructive pulmonary disease monitoring admin      13      0.06   98.93 |\n",
      "  |                                                   centrilobular emphysema      13      0.06   98.99 |\n",
      "  |              chronic obstructive pulmonary disease monitoring verb invite      13      0.06   99.04 |\n",
      "  |                         Very severe chronic obstructive pulmonary disease      12      0.05   99.10 |\n",
      "  |-----------------------------------------------------------------------------------------------------|\n",
      "  |                                  Acute non-infective exacerbation of COPD      11      0.05   99.15 |\n",
      "  |                                                 chronic bullous emphysema      11      0.05   99.20 |\n",
      "  |                    chronic obstructive pulmonary disease 3 monthly review      11      0.05   99.25 |\n",
      "  |                chronic obstructive pulmonary disease monitor phone invite      11      0.05   99.30 |\n",
      "  |                Chronic obstructive pulmonary disease monitor phone invite      10      0.05   99.34 |\n",
      "  |-----------------------------------------------------------------------------------------------------|\n",
      "  |                           Emergency COPD admission since last appointment      10      0.05   99.39 |\n",
      "  |                    chronic obstructive pulmonary disease monitoring admin      10      0.05   99.44 |\n",
      "  |                      chronic obstructive pulmonary disease monitoring due      10      0.05   99.48 |\n",
      "  |                                                  emphysematous bronchitis      10      0.05   99.53 |\n",
      "  +-----------------------------------------------------------------------------------------------------+\n"
     ]
    }
   ],
   "source": [
    "set linesize 132\n",
    "groups description , select(f >= 10) ord(h) table "
   ]
  },
  {
   "cell_type": "markdown",
   "id": "7d01eb90-5ca1-4146-aafb-680a81450cc3",
   "metadata": {},
   "source": [
    "These tables holds one randomly selected prescrption during the observation period. The table is truncated to only include codes with a count of 10 or more.\n"
   ]
  },
  {
   "cell_type": "code",
   "execution_count": 6,
   "id": "a4acd83f-5b6a-49e7-8b49-5dc1f78f2d1a",
   "metadata": {},
   "outputs": [
    {
     "name": "stdout",
     "output_type": "stream",
     "text": [
      "\n",
      "  +---------------------------------------------------------+\n",
      "  |                      bnf_code   Freq.   Percent     %<= |\n",
      "  |---------------------------------------------------------|\n",
      "  |        Adrenoreceptor agonist   37562     50.73   50.73 |\n",
      "  |               Corticosteroids   17346     23.43   74.16 |\n",
      "  |                           OCT   14137     19.09   93.25 |\n",
      "  | Antimuscarinic Bronchodilator    3283      4.43   97.69 |\n",
      "  |       Compound bronchodilator     904      1.22   98.91 |\n",
      "  |---------------------------------------------------------|\n",
      "  |                 Other/unknown     606      0.82   99.73 |\n",
      "  |                  Theophylline     198      0.27   99.99 |\n",
      "  +---------------------------------------------------------+\n"
     ]
    }
   ],
   "source": [
    "set linesize 132\n",
    "groups bnf_code , select(f >= 10) ord(h) table "
   ]
  },
  {
   "cell_type": "markdown",
   "id": "67837c2c-bbb5-4681-8000-cd8b3f6cac51",
   "metadata": {},
   "source": [
    "### Results\n",
    "#### Overall"
   ]
  },
  {
   "cell_type": "code",
   "execution_count": 7,
   "id": "733c0f2e-1179-49dc-b95d-48547a864674",
   "metadata": {},
   "outputs": [
    {
     "name": "stdout",
     "output_type": "stream",
     "text": [
      "\n",
      "           |         test\n",
      "      diag |      Pos.       Neg. |     Total\n",
      "-----------+----------------------+----------\n",
      "  Abnormal |    17,865      4,112 |    21,977 \n",
      "    Normal |    56,176    346,847 |   403,023 \n",
      "-----------+----------------------+----------\n",
      "     Total |    74,041    350,959 |   425,000 \n",
      "True abnormal diagnosis defined as diag = 1\n",
      "\n",
      "\n",
      "                                                  [95% Confidence Interval]\n",
      "---------------------------------------------------------------------------\n",
      "Prevalence                         Pr(A)      5.2%      5.1%       5.2%\n",
      "---------------------------------------------------------------------------\n",
      "Sensitivity                      Pr(+|A)     81.3%     80.8%     81.8%\n",
      "Specificity                      Pr(-|N)     86.1%     86.0%     86.2%\n",
      "ROC area               (Sens. + Spec.)/2      0.84      0.83      0.84 \n",
      "---------------------------------------------------------------------------\n",
      "Likelihood ratio (+)     Pr(+|A)/Pr(+|N)      5.83      5.77      5.89 \n",
      "Likelihood ratio (-)     Pr(-|A)/Pr(-|N)      0.22      0.21      0.22 \n",
      "Odds ratio                   LR(+)/LR(-)     26.82     25.90     27.78 \n",
      "Positive predictive value        Pr(A|+)     24.1%     23.8%     24.4% \n",
      "Negative predictive value        Pr(N|-)     98.8%     98.8%     98.9% \n",
      "---------------------------------------------------------------------------\n"
     ]
    }
   ],
   "source": [
    "diagt diag test"
   ]
  },
  {
   "cell_type": "markdown",
   "id": "b119ffa3-90d8-4e4f-9f8d-30cca2284b37",
   "metadata": {},
   "source": [
    "#### Males"
   ]
  },
  {
   "cell_type": "code",
   "execution_count": 8,
   "id": "81028f5e-4e7a-4bb4-b0f6-71d8d0821075",
   "metadata": {},
   "outputs": [
    {
     "name": "stdout",
     "output_type": "stream",
     "text": [
      "\n",
      "           |         test\n",
      "      diag |      Pos.       Neg. |     Total\n",
      "-----------+----------------------+----------\n",
      "  Abnormal |     9,320      2,121 |    11,441 \n",
      "    Normal |    23,016    173,828 |   196,844 \n",
      "-----------+----------------------+----------\n",
      "     Total |    32,336    175,949 |   208,285 \n",
      "True abnormal diagnosis defined as diag = 1\n",
      "\n",
      "\n",
      "                                                  [95% Confidence Interval]\n",
      "---------------------------------------------------------------------------\n",
      "Prevalence                         Pr(A)      5.5%      5.4%       5.6%\n",
      "---------------------------------------------------------------------------\n",
      "Sensitivity                      Pr(+|A)     81.5%     80.7%     82.2%\n",
      "Specificity                      Pr(-|N)     88.3%     88.2%     88.4%\n",
      "ROC area               (Sens. + Spec.)/2      0.85      0.85      0.85 \n",
      "---------------------------------------------------------------------------\n",
      "Likelihood ratio (+)     Pr(+|A)/Pr(+|N)      6.97      6.86      7.07 \n",
      "Likelihood ratio (-)     Pr(-|A)/Pr(-|N)      0.21      0.20      0.22 \n",
      "Odds ratio                   LR(+)/LR(-)     33.19     31.60     34.86 \n",
      "Positive predictive value        Pr(A|+)     28.8%     28.3%     29.3% \n",
      "Negative predictive value        Pr(N|-)     98.8%     98.7%     98.8% \n",
      "---------------------------------------------------------------------------\n"
     ]
    }
   ],
   "source": [
    "diagt diag test if sex==1"
   ]
  },
  {
   "cell_type": "markdown",
   "id": "762df1ac-de32-43e9-8cb3-6696c91e2459",
   "metadata": {},
   "source": [
    "#### Females"
   ]
  },
  {
   "cell_type": "code",
   "execution_count": 9,
   "id": "7fc985e3-7757-4908-ae5a-5d346ee7ccb6",
   "metadata": {},
   "outputs": [
    {
     "name": "stdout",
     "output_type": "stream",
     "text": [
      "\n",
      "           |         test\n",
      "      diag |      Pos.       Neg. |     Total\n",
      "-----------+----------------------+----------\n",
      "  Abnormal |     8,544      1,991 |    10,535 \n",
      "    Normal |    33,160    173,011 |   206,171 \n",
      "-----------+----------------------+----------\n",
      "     Total |    41,704    175,002 |   216,706 \n",
      "True abnormal diagnosis defined as diag = 1\n",
      "\n",
      "\n",
      "                                                  [95% Confidence Interval]\n",
      "---------------------------------------------------------------------------\n",
      "Prevalence                         Pr(A)      4.9%      4.8%       5.0%\n",
      "---------------------------------------------------------------------------\n",
      "Sensitivity                      Pr(+|A)     81.1%     80.3%     81.8%\n",
      "Specificity                      Pr(-|N)     83.9%     83.8%     84.1%\n",
      "ROC area               (Sens. + Spec.)/2      0.83      0.82      0.83 \n",
      "---------------------------------------------------------------------------\n",
      "Likelihood ratio (+)     Pr(+|A)/Pr(+|N)      5.04      4.97      5.11 \n",
      "Likelihood ratio (-)     Pr(-|A)/Pr(-|N)      0.23      0.22      0.23 \n",
      "Odds ratio                   LR(+)/LR(-)     22.39     21.29     23.54 \n",
      "Positive predictive value        Pr(A|+)     20.5%     20.1%     20.9% \n",
      "Negative predictive value        Pr(N|-)     98.9%     98.8%     98.9% \n",
      "---------------------------------------------------------------------------\n"
     ]
    }
   ],
   "source": [
    "diagt diag test if sex==0"
   ]
  },
  {
   "cell_type": "markdown",
   "id": "ab8954a7-060c-4eba-adea-1044fb6bb9ea",
   "metadata": {},
   "source": [
    "#### Age\n",
    "*16-29*"
   ]
  },
  {
   "cell_type": "code",
   "execution_count": 10,
   "id": "f9aa943b-6489-4d70-a905-4aa3b8f2cb6e",
   "metadata": {},
   "outputs": [
    {
     "name": "stdout",
     "output_type": "stream",
     "text": [
      "\n",
      "           |         test\n",
      "      diag |      Pos.       Neg. |     Total\n",
      "-----------+----------------------+----------\n",
      "  Abnormal |       204        472 |       676 \n",
      "    Normal |    12,779    104,219 |   116,998 \n",
      "-----------+----------------------+----------\n",
      "     Total |    12,983    104,691 |   117,674 \n",
      "True abnormal diagnosis defined as diag = 1\n",
      "\n",
      "\n",
      "                                                  [95% Confidence Interval]\n",
      "---------------------------------------------------------------------------\n",
      "Prevalence                         Pr(A)      0.6%      0.5%       0.6%\n",
      "---------------------------------------------------------------------------\n",
      "Sensitivity                      Pr(+|A)     30.2%     26.7%     33.8%\n",
      "Specificity                      Pr(-|N)     89.1%     88.9%     89.3%\n",
      "ROC area               (Sens. + Spec.)/2      0.60      0.58      0.61 \n",
      "---------------------------------------------------------------------------\n",
      "Likelihood ratio (+)     Pr(+|A)/Pr(+|N)      2.76      2.46      3.10 \n",
      "Likelihood ratio (-)     Pr(-|A)/Pr(-|N)      0.78      0.75      0.82 \n",
      "Odds ratio                   LR(+)/LR(-)      3.52      2.99      4.16 \n",
      "Positive predictive value        Pr(A|+)      1.6%      1.4%      1.8% \n",
      "Negative predictive value        Pr(N|-)     99.5%     99.5%     99.6% \n",
      "---------------------------------------------------------------------------\n"
     ]
    }
   ],
   "source": [
    "diagt diag test if agecat==16"
   ]
  },
  {
   "cell_type": "markdown",
   "id": "999f9154-f87e-44c7-8928-1345fa5c5958",
   "metadata": {},
   "source": [
    "*30-69*"
   ]
  },
  {
   "cell_type": "code",
   "execution_count": 11,
   "id": "6fcb0167-b359-4f24-91e3-a10fb2caa610",
   "metadata": {},
   "outputs": [
    {
     "name": "stdout",
     "output_type": "stream",
     "text": [
      "\n",
      "           |         test\n",
      "      diag |      Pos.       Neg. |     Total\n",
      "-----------+----------------------+----------\n",
      "  Abnormal |     7,795      1,864 |     9,659 \n",
      "    Normal |    29,601    182,135 |   211,736 \n",
      "-----------+----------------------+----------\n",
      "     Total |    37,396    183,999 |   221,395 \n",
      "True abnormal diagnosis defined as diag = 1\n",
      "\n",
      "\n",
      "                                                  [95% Confidence Interval]\n",
      "---------------------------------------------------------------------------\n",
      "Prevalence                         Pr(A)      4.4%      4.3%       4.4%\n",
      "---------------------------------------------------------------------------\n",
      "Sensitivity                      Pr(+|A)     80.7%     79.9%     81.5%\n",
      "Specificity                      Pr(-|N)     86.0%     85.9%     86.2%\n",
      "ROC area               (Sens. + Spec.)/2      0.83      0.83      0.84 \n",
      "---------------------------------------------------------------------------\n",
      "Likelihood ratio (+)     Pr(+|A)/Pr(+|N)      5.77      5.69      5.86 \n",
      "Likelihood ratio (-)     Pr(-|A)/Pr(-|N)      0.22      0.22      0.23 \n",
      "Odds ratio                   LR(+)/LR(-)     25.73     24.43     27.10 \n",
      "Positive predictive value        Pr(A|+)     20.8%     20.4%     21.3% \n",
      "Negative predictive value        Pr(N|-)     99.0%     98.9%     99.0% \n",
      "---------------------------------------------------------------------------\n"
     ]
    }
   ],
   "source": [
    "diagt diag test if agecat==30"
   ]
  },
  {
   "cell_type": "code",
   "execution_count": 12,
   "id": "fd782079-4378-4cc3-9a2c-4adb92379d41",
   "metadata": {},
   "outputs": [
    {
     "name": "stdout",
     "output_type": "stream",
     "text": [
      "\n",
      "           |         test\n",
      "      diag |      Pos.       Neg. |     Total\n",
      "-----------+----------------------+----------\n",
      "  Abnormal |     9,866      1,776 |    11,642 \n",
      "    Normal |    13,796     60,493 |    74,289 \n",
      "-----------+----------------------+----------\n",
      "     Total |    23,662     62,269 |    85,931 \n",
      "True abnormal diagnosis defined as diag = 1\n",
      "\n",
      "\n",
      "                                                  [95% Confidence Interval]\n",
      "---------------------------------------------------------------------------\n",
      "Prevalence                         Pr(A)     13.5%     13.3%      13.8%\n",
      "---------------------------------------------------------------------------\n",
      "Sensitivity                      Pr(+|A)     84.7%     84.1%     85.4%\n",
      "Specificity                      Pr(-|N)     81.4%     81.1%     81.7%\n",
      "ROC area               (Sens. + Spec.)/2      0.83      0.83      0.83 \n",
      "---------------------------------------------------------------------------\n",
      "Likelihood ratio (+)     Pr(+|A)/Pr(+|N)      4.56      4.49      4.64 \n",
      "Likelihood ratio (-)     Pr(-|A)/Pr(-|N)      0.19      0.18      0.20 \n",
      "Odds ratio                   LR(+)/LR(-)     24.36     23.08     25.70 \n",
      "Positive predictive value        Pr(A|+)     41.7%     41.1%     42.3% \n",
      "Negative predictive value        Pr(N|-)     97.1%     97.0%     97.3% \n",
      "---------------------------------------------------------------------------\n"
     ]
    }
   ],
   "source": [
    "diagt diag test if agecat==70"
   ]
  },
  {
   "cell_type": "markdown",
   "id": "23455479-0f98-4886-a36c-770376084911",
   "metadata": {},
   "source": [
    "#### Year at start of oberservation period \n",
    "*2004-2009*"
   ]
  },
  {
   "cell_type": "code",
   "execution_count": 13,
   "id": "9c58ecee-bd42-47a9-ad46-f51305e689bf",
   "metadata": {},
   "outputs": [
    {
     "name": "stdout",
     "output_type": "stream",
     "text": [
      "\n",
      "           |         test\n",
      "      diag |      Pos.       Neg. |     Total\n",
      "-----------+----------------------+----------\n",
      "  Abnormal |     7,167      1,658 |     8,825 \n",
      "    Normal |    20,393    120,782 |   141,175 \n",
      "-----------+----------------------+----------\n",
      "     Total |    27,560    122,440 |   150,000 \n",
      "True abnormal diagnosis defined as diag = 1\n",
      "\n",
      "\n",
      "                                                  [95% Confidence Interval]\n",
      "---------------------------------------------------------------------------\n",
      "Prevalence                         Pr(A)      5.9%      5.8%       6.0%\n",
      "---------------------------------------------------------------------------\n",
      "Sensitivity                      Pr(+|A)     81.2%     80.4%     82.0%\n",
      "Specificity                      Pr(-|N)     85.6%     85.4%     85.7%\n",
      "ROC area               (Sens. + Spec.)/2      0.83      0.83      0.84 \n",
      "---------------------------------------------------------------------------\n",
      "Likelihood ratio (+)     Pr(+|A)/Pr(+|N)      5.62      5.53      5.71 \n",
      "Likelihood ratio (-)     Pr(-|A)/Pr(-|N)      0.22      0.21      0.23 \n",
      "Odds ratio                   LR(+)/LR(-)     25.60     24.22     27.06 \n",
      "Positive predictive value        Pr(A|+)     26.0%     25.5%     26.5% \n",
      "Negative predictive value        Pr(N|-)     98.6%     98.6%     98.7% \n",
      "---------------------------------------------------------------------------\n"
     ]
    }
   ],
   "source": [
    "diagt diag test if yearcat==2004"
   ]
  },
  {
   "cell_type": "markdown",
   "id": "d9f3db50-6898-4b47-81ef-4ea609bb28d8",
   "metadata": {},
   "source": [
    "*2010-2015*"
   ]
  },
  {
   "cell_type": "code",
   "execution_count": 14,
   "id": "6b326410-d900-498f-b736-4ced1ea7fa5d",
   "metadata": {},
   "outputs": [
    {
     "name": "stdout",
     "output_type": "stream",
     "text": [
      "\n",
      "           |         test\n",
      "      diag |      Pos.       Neg. |     Total\n",
      "-----------+----------------------+----------\n",
      "  Abnormal |     6,119      1,333 |     7,452 \n",
      "    Normal |    20,223    122,325 |   142,548 \n",
      "-----------+----------------------+----------\n",
      "     Total |    26,342    123,658 |   150,000 \n",
      "True abnormal diagnosis defined as diag = 1\n",
      "\n",
      "\n",
      "                                                  [95% Confidence Interval]\n",
      "---------------------------------------------------------------------------\n",
      "Prevalence                         Pr(A)      5.0%      4.9%       5.1%\n",
      "---------------------------------------------------------------------------\n",
      "Sensitivity                      Pr(+|A)     82.1%     81.2%     83.0%\n",
      "Specificity                      Pr(-|N)     85.8%     85.6%     86.0%\n",
      "ROC area               (Sens. + Spec.)/2      0.84      0.84      0.84 \n",
      "---------------------------------------------------------------------------\n",
      "Likelihood ratio (+)     Pr(+|A)/Pr(+|N)      5.79      5.69      5.88 \n",
      "Likelihood ratio (-)     Pr(-|A)/Pr(-|N)      0.21      0.20      0.22 \n",
      "Odds ratio                   LR(+)/LR(-)     27.77     26.12     29.52 \n",
      "Positive predictive value        Pr(A|+)     23.2%     22.7%     23.7% \n",
      "Negative predictive value        Pr(N|-)     98.9%     98.9%     99.0% \n",
      "---------------------------------------------------------------------------\n"
     ]
    }
   ],
   "source": [
    "diagt diag test if yearcat==2010"
   ]
  },
  {
   "cell_type": "markdown",
   "id": "1546a4d9-adee-4208-88e0-3b6aa4d3d14c",
   "metadata": {},
   "source": [
    "*2016-2020*"
   ]
  },
  {
   "cell_type": "code",
   "execution_count": 15,
   "id": "dddfe5ba-1a16-4afc-91e5-cbffb4f25b77",
   "metadata": {},
   "outputs": [
    {
     "name": "stdout",
     "output_type": "stream",
     "text": [
      "\n",
      "           |         test\n",
      "      diag |      Pos.       Neg. |     Total\n",
      "-----------+----------------------+----------\n",
      "  Abnormal |     4,579      1,121 |     5,700 \n",
      "    Normal |    15,560    103,740 |   119,300 \n",
      "-----------+----------------------+----------\n",
      "     Total |    20,139    104,861 |   125,000 \n",
      "True abnormal diagnosis defined as diag = 1\n",
      "\n",
      "\n",
      "                                                  [95% Confidence Interval]\n",
      "---------------------------------------------------------------------------\n",
      "Prevalence                         Pr(A)      4.6%      4.4%       4.7%\n",
      "---------------------------------------------------------------------------\n",
      "Sensitivity                      Pr(+|A)     80.3%     79.3%     81.4%\n",
      "Specificity                      Pr(-|N)     87.0%     86.8%     87.1%\n",
      "ROC area               (Sens. + Spec.)/2      0.84      0.83      0.84 \n",
      "---------------------------------------------------------------------------\n",
      "Likelihood ratio (+)     Pr(+|A)/Pr(+|N)      6.16      6.04      6.28 \n",
      "Likelihood ratio (-)     Pr(-|A)/Pr(-|N)      0.23      0.21      0.24 \n",
      "Odds ratio                   LR(+)/LR(-)     27.23     25.46     29.13 \n",
      "Positive predictive value        Pr(A|+)     22.7%     22.2%     23.3% \n",
      "Negative predictive value        Pr(N|-)     98.9%     98.9%     99.0% \n",
      "---------------------------------------------------------------------------\n"
     ]
    }
   ],
   "source": [
    "diagt diag test if yearcat==2016"
   ]
  },
  {
   "cell_type": "markdown",
   "id": "9318e823-cf06-4695-a86c-8b96ace454c5",
   "metadata": {},
   "source": [
    "#### IMD of practice\n",
    "*1-3*"
   ]
  },
  {
   "cell_type": "code",
   "execution_count": 16,
   "id": "0c48ed3a-ce83-4c14-9447-6c52d4d82ed3",
   "metadata": {},
   "outputs": [
    {
     "name": "stdout",
     "output_type": "stream",
     "text": [
      "\n",
      "           |         test\n",
      "      diag |      Pos.       Neg. |     Total\n",
      "-----------+----------------------+----------\n",
      "  Abnormal |     7,122      1,566 |     8,688 \n",
      "    Normal |    19,536    126,327 |   145,863 \n",
      "-----------+----------------------+----------\n",
      "     Total |    26,658    127,893 |   154,551 \n",
      "True abnormal diagnosis defined as diag = 1\n",
      "\n",
      "\n",
      "                                                  [95% Confidence Interval]\n",
      "---------------------------------------------------------------------------\n",
      "Prevalence                         Pr(A)      5.6%      5.5%       5.7%\n",
      "---------------------------------------------------------------------------\n",
      "Sensitivity                      Pr(+|A)     82.0%     81.2%     82.8%\n",
      "Specificity                      Pr(-|N)     86.6%     86.4%     86.8%\n",
      "ROC area               (Sens. + Spec.)/2      0.84      0.84      0.85 \n",
      "---------------------------------------------------------------------------\n",
      "Likelihood ratio (+)     Pr(+|A)/Pr(+|N)      6.12      6.02      6.22 \n",
      "Likelihood ratio (-)     Pr(-|A)/Pr(-|N)      0.21      0.20      0.22 \n",
      "Odds ratio                   LR(+)/LR(-)     29.41     27.79     31.13 \n",
      "Positive predictive value        Pr(A|+)     26.7%     26.2%     27.3% \n",
      "Negative predictive value        Pr(N|-)     98.8%     98.7%     98.8% \n",
      "---------------------------------------------------------------------------\n"
     ]
    }
   ],
   "source": [
    "diagt diag test if imdcat==0"
   ]
  },
  {
   "cell_type": "markdown",
   "id": "cc20d8e3-26a9-4217-989b-54c2c73d0386",
   "metadata": {},
   "source": [
    "*4-7*"
   ]
  },
  {
   "cell_type": "code",
   "execution_count": 17,
   "id": "2f034372-ceb8-4f41-bd39-9d6ef321a64a",
   "metadata": {},
   "outputs": [
    {
     "name": "stdout",
     "output_type": "stream",
     "text": [
      "\n",
      "           |         test\n",
      "      diag |      Pos.       Neg. |     Total\n",
      "-----------+----------------------+----------\n",
      "  Abnormal |     6,122      1,224 |     7,346 \n",
      "    Normal |    20,069    115,630 |   135,699 \n",
      "-----------+----------------------+----------\n",
      "     Total |    26,191    116,854 |   143,045 \n",
      "True abnormal diagnosis defined as diag = 1\n",
      "\n",
      "\n",
      "                                                  [95% Confidence Interval]\n",
      "---------------------------------------------------------------------------\n",
      "Prevalence                         Pr(A)      5.1%      5.0%       5.3%\n",
      "---------------------------------------------------------------------------\n",
      "Sensitivity                      Pr(+|A)     83.3%     82.5%     84.2%\n",
      "Specificity                      Pr(-|N)     85.2%     85.0%     85.4%\n",
      "ROC area               (Sens. + Spec.)/2      0.84      0.84      0.85 \n",
      "---------------------------------------------------------------------------\n",
      "Likelihood ratio (+)     Pr(+|A)/Pr(+|N)      5.63      5.54      5.73 \n",
      "Likelihood ratio (-)     Pr(-|A)/Pr(-|N)      0.20      0.19      0.21 \n",
      "Odds ratio                   LR(+)/LR(-)     28.82     27.05     30.70 \n",
      "Positive predictive value        Pr(A|+)     23.4%     22.9%     23.9% \n",
      "Negative predictive value        Pr(N|-)     99.0%     98.9%     99.0% \n",
      "---------------------------------------------------------------------------\n"
     ]
    }
   ],
   "source": [
    "diagt diag test if imdcat==4"
   ]
  },
  {
   "cell_type": "markdown",
   "id": "a843bc14-ff1a-4435-a50c-c9769b8c3d3b",
   "metadata": {},
   "source": [
    "*8-10*"
   ]
  },
  {
   "cell_type": "code",
   "execution_count": 18,
   "id": "e52a500d-f3cf-4da6-997c-bbc1e902d199",
   "metadata": {},
   "outputs": [
    {
     "name": "stdout",
     "output_type": "stream",
     "text": [
      "\n",
      "           |         test\n",
      "      diag |      Pos.       Neg. |     Total\n",
      "-----------+----------------------+----------\n",
      "  Abnormal |     4,594      1,319 |     5,913 \n",
      "    Normal |    16,363    102,539 |   118,902 \n",
      "-----------+----------------------+----------\n",
      "     Total |    20,957    103,858 |   124,815 \n",
      "True abnormal diagnosis defined as diag = 1\n",
      "\n",
      "\n",
      "                                                  [95% Confidence Interval]\n",
      "---------------------------------------------------------------------------\n",
      "Prevalence                         Pr(A)      4.7%      4.6%       4.9%\n",
      "---------------------------------------------------------------------------\n",
      "Sensitivity                      Pr(+|A)     77.7%     76.6%     78.7%\n",
      "Specificity                      Pr(-|N)     86.2%     86.0%     86.4%\n",
      "ROC area               (Sens. + Spec.)/2      0.82      0.81      0.83 \n",
      "---------------------------------------------------------------------------\n",
      "Likelihood ratio (+)     Pr(+|A)/Pr(+|N)      5.65      5.54      5.76 \n",
      "Likelihood ratio (-)     Pr(-|A)/Pr(-|N)      0.26      0.25      0.27 \n",
      "Odds ratio                   LR(+)/LR(-)     21.83     20.49     23.25 \n",
      "Positive predictive value        Pr(A|+)     21.9%     21.4%     22.5% \n",
      "Negative predictive value        Pr(N|-)     98.7%     98.7%     98.8% \n",
      "---------------------------------------------------------------------------\n"
     ]
    }
   ],
   "source": [
    "diagt diag test if imdcat==8"
   ]
  },
  {
   "cell_type": "markdown",
   "id": "cbbde183-5b60-4618-a548-81135cae76a0",
   "metadata": {},
   "source": [
    "#### Commissioning Regions\n",
    "EAST OF ENGLAND"
   ]
  },
  {
   "cell_type": "code",
   "execution_count": 19,
   "id": "1254da50-3ca4-47a1-b4d8-e07c6d920177",
   "metadata": {},
   "outputs": [
    {
     "name": "stdout",
     "output_type": "stream",
     "text": [
      "\n",
      "           |         test\n",
      "      diag |      Pos.       Neg. |     Total\n",
      "-----------+----------------------+----------\n",
      "  Abnormal |     3,775        561 |     4,336 \n",
      "    Normal |    13,726     71,575 |    85,301 \n",
      "-----------+----------------------+----------\n",
      "     Total |    17,501     72,136 |    89,637 \n",
      "True abnormal diagnosis defined as diag = 1\n",
      "\n",
      "\n",
      "                                                  [95% Confidence Interval]\n",
      "---------------------------------------------------------------------------\n",
      "Prevalence                         Pr(A)      4.8%      4.7%       5.0%\n",
      "---------------------------------------------------------------------------\n",
      "Sensitivity                      Pr(+|A)     87.1%     86.0%     88.0%\n",
      "Specificity                      Pr(-|N)     83.9%     83.7%     84.2%\n",
      "ROC area               (Sens. + Spec.)/2      0.85      0.85      0.86 \n",
      "---------------------------------------------------------------------------\n",
      "Likelihood ratio (+)     Pr(+|A)/Pr(+|N)      5.41      5.31      5.52 \n",
      "Likelihood ratio (-)     Pr(-|A)/Pr(-|N)      0.15      0.14      0.17 \n",
      "Odds ratio                   LR(+)/LR(-)     35.09     32.05     38.41 \n",
      "Positive predictive value        Pr(A|+)     21.6%     21.0%     22.2% \n",
      "Negative predictive value        Pr(N|-)     99.2%     99.2%     99.3% \n",
      "---------------------------------------------------------------------------\n"
     ]
    }
   ],
   "source": [
    "diagt diag test if regexm(region_name,\"ENGLAND\")==1"
   ]
  },
  {
   "cell_type": "markdown",
   "id": "b2f2b2c7-4c3b-4ae5-ad03-8edfbc58938d",
   "metadata": {},
   "source": [
    "London"
   ]
  },
  {
   "cell_type": "code",
   "execution_count": 20,
   "id": "18195511-cedc-42b1-8bae-bc6621364814",
   "metadata": {},
   "outputs": [
    {
     "name": "stdout",
     "output_type": "stream",
     "text": [
      "\n",
      "           |         test\n",
      "      diag |      Pos.       Neg. |     Total\n",
      "-----------+----------------------+----------\n",
      "  Abnormal |       310        110 |       420 \n",
      "    Normal |     1,659     14,646 |    16,305 \n",
      "-----------+----------------------+----------\n",
      "     Total |     1,969     14,756 |    16,725 \n",
      "True abnormal diagnosis defined as diag = 1\n",
      "\n",
      "\n",
      "                                                  [95% Confidence Interval]\n",
      "---------------------------------------------------------------------------\n",
      "Prevalence                         Pr(A)      2.5%      2.3%       2.8%\n",
      "---------------------------------------------------------------------------\n",
      "Sensitivity                      Pr(+|A)     73.8%     69.3%     78.0%\n",
      "Specificity                      Pr(-|N)     89.8%     89.4%     90.3%\n",
      "ROC area               (Sens. + Spec.)/2      0.82      0.80      0.84 \n",
      "---------------------------------------------------------------------------\n",
      "Likelihood ratio (+)     Pr(+|A)/Pr(+|N)      7.25      6.74      7.80 \n",
      "Likelihood ratio (-)     Pr(-|A)/Pr(-|N)      0.29      0.25      0.34 \n",
      "Odds ratio                   LR(+)/LR(-)     24.88     19.91     31.09 \n",
      "Positive predictive value        Pr(A|+)     15.7%     14.2%     17.4% \n",
      "Negative predictive value        Pr(N|-)     99.3%     99.1%     99.4% \n",
      "---------------------------------------------------------------------------\n"
     ]
    }
   ],
   "source": [
    "diagt diag test if regexm(region_name,\"LONDON\")==1"
   ]
  },
  {
   "cell_type": "markdown",
   "id": "1a78f370-7ebd-4e70-b301-73c6e75003fd",
   "metadata": {},
   "source": [
    "Midlands"
   ]
  },
  {
   "cell_type": "code",
   "execution_count": 21,
   "id": "265ce394-6410-4e76-a064-ec3d32c30eee",
   "metadata": {},
   "outputs": [
    {
     "name": "stdout",
     "output_type": "stream",
     "text": [
      "\n",
      "           |         test\n",
      "      diag |      Pos.       Neg. |     Total\n",
      "-----------+----------------------+----------\n",
      "  Abnormal |     2,499        597 |     3,096 \n",
      "    Normal |     6,739     36,708 |    43,447 \n",
      "-----------+----------------------+----------\n",
      "     Total |     9,238     37,305 |    46,543 \n",
      "True abnormal diagnosis defined as diag = 1\n",
      "\n",
      "\n",
      "                                                  [95% Confidence Interval]\n",
      "---------------------------------------------------------------------------\n",
      "Prevalence                         Pr(A)      6.7%      6.4%       6.9%\n",
      "---------------------------------------------------------------------------\n",
      "Sensitivity                      Pr(+|A)     80.7%     79.3%     82.1%\n",
      "Specificity                      Pr(-|N)     84.5%     84.1%     84.8%\n",
      "ROC area               (Sens. + Spec.)/2      0.83      0.82      0.83 \n",
      "---------------------------------------------------------------------------\n",
      "Likelihood ratio (+)     Pr(+|A)/Pr(+|N)      5.20      5.06      5.35 \n",
      "Likelihood ratio (-)     Pr(-|A)/Pr(-|N)      0.23      0.21      0.25 \n",
      "Odds ratio                   LR(+)/LR(-)     22.80     20.78     25.02 \n",
      "Positive predictive value        Pr(A|+)     27.1%     26.1%     28.0% \n",
      "Negative predictive value        Pr(N|-)     98.4%     98.3%     98.5% \n",
      "---------------------------------------------------------------------------\n"
     ]
    }
   ],
   "source": [
    "diagt diag test if regexm(region_name,\"MID\")==1"
   ]
  },
  {
   "cell_type": "markdown",
   "id": "0769a779-b7ae-4496-9ed2-a6feb1a1a94a",
   "metadata": {},
   "source": [
    "Yorkshire"
   ]
  },
  {
   "cell_type": "code",
   "execution_count": 22,
   "id": "83d73532-38e7-4fb2-a39b-5c1ef1b5b717",
   "metadata": {},
   "outputs": [
    {
     "name": "stdout",
     "output_type": "stream",
     "text": [
      "\n",
      "           |         test\n",
      "      diag |      Pos.       Neg. |     Total\n",
      "-----------+----------------------+----------\n",
      "  Abnormal |     3,932        803 |     4,735 \n",
      "    Normal |    10,863     70,513 |    81,376 \n",
      "-----------+----------------------+----------\n",
      "     Total |    14,795     71,316 |    86,111 \n",
      "True abnormal diagnosis defined as diag = 1\n",
      "\n",
      "\n",
      "                                                  [95% Confidence Interval]\n",
      "---------------------------------------------------------------------------\n",
      "Prevalence                         Pr(A)      5.5%      5.3%       5.7%\n",
      "---------------------------------------------------------------------------\n",
      "Sensitivity                      Pr(+|A)     83.0%     81.9%     84.1%\n",
      "Specificity                      Pr(-|N)     86.7%     86.4%     86.9%\n",
      "ROC area               (Sens. + Spec.)/2      0.85      0.84      0.85 \n",
      "---------------------------------------------------------------------------\n",
      "Likelihood ratio (+)     Pr(+|A)/Pr(+|N)      6.22      6.09      6.36 \n",
      "Likelihood ratio (-)     Pr(-|A)/Pr(-|N)      0.20      0.18      0.21 \n",
      "Odds ratio                   LR(+)/LR(-)     31.78     29.38     34.38 \n",
      "Positive predictive value        Pr(A|+)     26.6%     25.9%     27.3% \n",
      "Negative predictive value        Pr(N|-)     98.9%     98.8%     99.0% \n",
      "---------------------------------------------------------------------------\n"
     ]
    }
   ],
   "source": [
    "diagt diag test if regexm(region_name,\"YORK\")==1"
   ]
  },
  {
   "cell_type": "markdown",
   "id": "247339ad-15c3-4ac2-9458-c8b14082ff8c",
   "metadata": {},
   "source": [
    "North West"
   ]
  },
  {
   "cell_type": "code",
   "execution_count": 23,
   "id": "f9ddd2b2-2aa8-49c0-8d9b-ac27a3db55be",
   "metadata": {},
   "outputs": [
    {
     "name": "stdout",
     "output_type": "stream",
     "text": [
      "\n",
      "           |         test\n",
      "      diag |      Pos.       Neg. |     Total\n",
      "-----------+----------------------+----------\n",
      "  Abnormal |     2,067        486 |     2,553 \n",
      "    Normal |     5,634     39,406 |    45,040 \n",
      "-----------+----------------------+----------\n",
      "     Total |     7,701     39,892 |    47,593 \n",
      "True abnormal diagnosis defined as diag = 1\n",
      "\n",
      "\n",
      "                                                  [95% Confidence Interval]\n",
      "---------------------------------------------------------------------------\n",
      "Prevalence                         Pr(A)      5.4%      5.2%       5.6%\n",
      "---------------------------------------------------------------------------\n",
      "Sensitivity                      Pr(+|A)     81.0%     79.4%     82.5%\n",
      "Specificity                      Pr(-|N)     87.5%     87.2%     87.8%\n",
      "ROC area               (Sens. + Spec.)/2      0.84      0.83      0.85 \n",
      "---------------------------------------------------------------------------\n",
      "Likelihood ratio (+)     Pr(+|A)/Pr(+|N)      6.47      6.28      6.68 \n",
      "Likelihood ratio (-)     Pr(-|A)/Pr(-|N)      0.22      0.20      0.24 \n",
      "Odds ratio                   LR(+)/LR(-)     29.75     26.85     32.96 \n",
      "Positive predictive value        Pr(A|+)     26.8%     25.9%     27.8% \n",
      "Negative predictive value        Pr(N|-)     98.8%     98.7%     98.9% \n",
      "---------------------------------------------------------------------------\n"
     ]
    }
   ],
   "source": [
    "diagt diag test if regexm(region_name,\"NORTH\")==1 & regexm(region_name,\"WEST\")==1"
   ]
  },
  {
   "cell_type": "markdown",
   "id": "cac4bda2-216c-4294-ab6d-5338aa93d23c",
   "metadata": {},
   "source": [
    "South East"
   ]
  },
  {
   "cell_type": "code",
   "execution_count": 24,
   "id": "883a5bf4-de79-4ba9-9bb2-95f85e3bccb3",
   "metadata": {},
   "outputs": [
    {
     "name": "stdout",
     "output_type": "stream",
     "text": [
      "\n",
      "           |         test\n",
      "      diag |      Pos.       Neg. |     Total\n",
      "-----------+----------------------+----------\n",
      "  Abnormal |     3,080        993 |     4,073 \n",
      "    Normal |    10,918     75,494 |    86,412 \n",
      "-----------+----------------------+----------\n",
      "     Total |    13,998     76,487 |    90,485 \n",
      "True abnormal diagnosis defined as diag = 1\n",
      "\n",
      "\n",
      "                                                  [95% Confidence Interval]\n",
      "---------------------------------------------------------------------------\n",
      "Prevalence                         Pr(A)      4.5%      4.4%       4.6%\n",
      "---------------------------------------------------------------------------\n",
      "Sensitivity                      Pr(+|A)     75.6%     74.3%     76.9%\n",
      "Specificity                      Pr(-|N)     87.4%     87.1%     87.6%\n",
      "ROC area               (Sens. + Spec.)/2      0.81      0.81      0.82 \n",
      "---------------------------------------------------------------------------\n",
      "Likelihood ratio (+)     Pr(+|A)/Pr(+|N)      5.99      5.84      6.13 \n",
      "Likelihood ratio (-)     Pr(-|A)/Pr(-|N)      0.28      0.26      0.29 \n",
      "Odds ratio                   LR(+)/LR(-)     21.45     19.91     23.10 \n",
      "Positive predictive value        Pr(A|+)     22.0%     21.3%     22.7% \n",
      "Negative predictive value        Pr(N|-)     98.7%     98.6%     98.8% \n",
      "---------------------------------------------------------------------------\n"
     ]
    }
   ],
   "source": [
    "diagt diag test if regexm(region_name,\"SOUTH\")==1 & regexm(region_name,\"EAST\")==1"
   ]
  },
  {
   "cell_type": "markdown",
   "id": "c31c4086-ecd2-43b5-a175-a49e64a0593a",
   "metadata": {},
   "source": [
    "South West"
   ]
  },
  {
   "cell_type": "code",
   "execution_count": 25,
   "id": "db24609a-c78c-4959-8f77-be636e5b8a66",
   "metadata": {},
   "outputs": [
    {
     "name": "stdout",
     "output_type": "stream",
     "text": [
      "\n",
      "           |         test\n",
      "      diag |      Pos.       Neg. |     Total\n",
      "-----------+----------------------+----------\n",
      "  Abnormal |     1,777        431 |     2,208 \n",
      "    Normal |     5,058     28,910 |    33,968 \n",
      "-----------+----------------------+----------\n",
      "     Total |     6,835     29,341 |    36,176 \n",
      "True abnormal diagnosis defined as diag = 1\n",
      "\n",
      "\n",
      "                                                  [95% Confidence Interval]\n",
      "---------------------------------------------------------------------------\n",
      "Prevalence                         Pr(A)      6.1%      5.9%       6.4%\n",
      "---------------------------------------------------------------------------\n",
      "Sensitivity                      Pr(+|A)     80.5%     78.8%     82.1%\n",
      "Specificity                      Pr(-|N)     85.1%     84.7%     85.5%\n",
      "ROC area               (Sens. + Spec.)/2      0.83      0.82      0.84 \n",
      "---------------------------------------------------------------------------\n",
      "Likelihood ratio (+)     Pr(+|A)/Pr(+|N)      5.40      5.23      5.58 \n",
      "Likelihood ratio (-)     Pr(-|A)/Pr(-|N)      0.23      0.21      0.25 \n",
      "Odds ratio                   LR(+)/LR(-)     23.57     21.12     26.29 \n",
      "Positive predictive value        Pr(A|+)     26.0%     25.0%     27.1% \n",
      "Negative predictive value        Pr(N|-)     98.5%     98.4%     98.7% \n",
      "---------------------------------------------------------------------------\n"
     ]
    }
   ],
   "source": [
    "diagt diag test if regexm(region_name,\"SOUTH\")==1 & regexm(region_name,\"WEST\")==1"
   ]
  },
  {
   "cell_type": "markdown",
   "id": "cf33efae-dc21-4b1a-b169-9eaea69c1161",
   "metadata": {},
   "source": [
    "#### System\n",
    "SystmOne"
   ]
  },
  {
   "cell_type": "code",
   "execution_count": 26,
   "id": "26573dfb-79dc-4647-88a6-e19dac9eca61",
   "metadata": {},
   "outputs": [
    {
     "name": "stdout",
     "output_type": "stream",
     "text": [
      "\n",
      "           |         test\n",
      "      diag |      Pos.       Neg. |     Total\n",
      "-----------+----------------------+----------\n",
      "  Abnormal |    10,378      1,611 |    11,989 \n",
      "    Normal |    32,193    184,573 |   216,766 \n",
      "-----------+----------------------+----------\n",
      "     Total |    42,571    186,184 |   228,755 \n",
      "True abnormal diagnosis defined as diag = 1\n",
      "\n",
      "\n",
      "                                                  [95% Confidence Interval]\n",
      "---------------------------------------------------------------------------\n",
      "Prevalence                         Pr(A)      5.2%      5.2%       5.3%\n",
      "---------------------------------------------------------------------------\n",
      "Sensitivity                      Pr(+|A)     86.6%     85.9%     87.2%\n",
      "Specificity                      Pr(-|N)     85.1%     85.0%     85.3%\n",
      "ROC area               (Sens. + Spec.)/2      0.86      0.86      0.86 \n",
      "---------------------------------------------------------------------------\n",
      "Likelihood ratio (+)     Pr(+|A)/Pr(+|N)      5.83      5.76      5.90 \n",
      "Likelihood ratio (-)     Pr(-|A)/Pr(-|N)      0.16      0.15      0.17 \n",
      "Odds ratio                   LR(+)/LR(-)     36.93     35.00     38.98 \n",
      "Positive predictive value        Pr(A|+)     24.4%     24.0%     24.8% \n",
      "Negative predictive value        Pr(N|-)     99.1%     99.1%     99.2% \n",
      "---------------------------------------------------------------------------\n"
     ]
    }
   ],
   "source": [
    "diagt diag test if regexm(system,\"One\")==1"
   ]
  },
  {
   "cell_type": "markdown",
   "id": "b561f033-d2f3-4c95-ad3f-03b8c65647ea",
   "metadata": {},
   "source": [
    "Vision"
   ]
  },
  {
   "cell_type": "code",
   "execution_count": 27,
   "id": "6bed6f81-5fd6-418e-94ff-96d2de419d3d",
   "metadata": {},
   "outputs": [
    {
     "name": "stdout",
     "output_type": "stream",
     "text": [
      "\n",
      "           |         test\n",
      "      diag |      Pos.       Neg. |     Total\n",
      "-----------+----------------------+----------\n",
      "  Abnormal |       548        168 |       716 \n",
      "    Normal |     1,874     11,154 |    13,028 \n",
      "-----------+----------------------+----------\n",
      "     Total |     2,422     11,322 |    13,744 \n",
      "True abnormal diagnosis defined as diag = 1\n",
      "\n",
      "\n",
      "                                                  [95% Confidence Interval]\n",
      "---------------------------------------------------------------------------\n",
      "Prevalence                         Pr(A)      5.2%      4.8%       5.6%\n",
      "---------------------------------------------------------------------------\n",
      "Sensitivity                      Pr(+|A)     76.5%     73.3%     79.6%\n",
      "Specificity                      Pr(-|N)     85.6%     85.0%     86.2%\n",
      "ROC area               (Sens. + Spec.)/2      0.81      0.79      0.83 \n",
      "---------------------------------------------------------------------------\n",
      "Likelihood ratio (+)     Pr(+|A)/Pr(+|N)      5.32      5.02      5.64 \n",
      "Likelihood ratio (-)     Pr(-|A)/Pr(-|N)      0.27      0.24      0.31 \n",
      "Odds ratio                   LR(+)/LR(-)     19.41     16.23     23.23 \n",
      "Positive predictive value        Pr(A|+)     22.6%     21.0%     24.3% \n",
      "Negative predictive value        Pr(N|-)     98.5%     98.3%     98.7% \n",
      "---------------------------------------------------------------------------\n"
     ]
    }
   ],
   "source": [
    "diagt diag test if regexm(system,\"Vision\")==1"
   ]
  },
  {
   "cell_type": "markdown",
   "id": "65d9cefb-fbb5-4500-8ed3-52074d4e12ad",
   "metadata": {},
   "source": [
    "EMIS"
   ]
  },
  {
   "cell_type": "code",
   "execution_count": 28,
   "id": "18d50bfe-f5c4-4ecb-b822-0d06e3b29224",
   "metadata": {},
   "outputs": [
    {
     "name": "stdout",
     "output_type": "stream",
     "text": [
      "\n",
      "           |         test\n",
      "      diag |      Pos.       Neg. |     Total\n",
      "-----------+----------------------+----------\n",
      "  Abnormal |     6,917      2,333 |     9,250 \n",
      "    Normal |    22,055    151,060 |   173,115 \n",
      "-----------+----------------------+----------\n",
      "     Total |    28,972    153,393 |   182,365 \n",
      "True abnormal diagnosis defined as diag = 1\n",
      "\n",
      "\n",
      "                                                  [95% Confidence Interval]\n",
      "---------------------------------------------------------------------------\n",
      "Prevalence                         Pr(A)      5.1%      5.0%       5.2%\n",
      "---------------------------------------------------------------------------\n",
      "Sensitivity                      Pr(+|A)     74.8%     73.9%     75.7%\n",
      "Specificity                      Pr(-|N)     87.3%     87.1%     87.4%\n",
      "ROC area               (Sens. + Spec.)/2      0.81      0.81      0.81 \n",
      "---------------------------------------------------------------------------\n",
      "Likelihood ratio (+)     Pr(+|A)/Pr(+|N)      5.87      5.77      5.97 \n",
      "Likelihood ratio (-)     Pr(-|A)/Pr(-|N)      0.29      0.28      0.30 \n",
      "Odds ratio                   LR(+)/LR(-)     20.31     19.34     21.33 \n",
      "Positive predictive value        Pr(A|+)     23.9%     23.4%     24.4% \n",
      "Negative predictive value        Pr(N|-)     98.5%     98.4%     98.5% \n",
      "---------------------------------------------------------------------------\n"
     ]
    }
   ],
   "source": [
    "diagt diag test if regexm(ustrupper(system),\"EMIS\")==1"
   ]
  },
  {
   "cell_type": "code",
   "execution_count": null,
   "id": "654b6659-0a73-4736-bc15-7bf926554432",
   "metadata": {},
   "outputs": [],
   "source": []
  },
  {
   "cell_type": "markdown",
   "id": "5cc0b78d-d049-4645-a6f4-e02b49b379db",
   "metadata": {},
   "source": [
    "#### RA_Index\n",
    "Index==1"
   ]
  },
  {
   "cell_type": "code",
   "execution_count": 29,
   "id": "9fa490cd-9380-44bc-8218-9f2193f09aee",
   "metadata": {},
   "outputs": [
    {
     "name": "stdout",
     "output_type": "stream",
     "text": [
      "\n",
      "           |         test\n",
      "      diag |      Pos.       Neg. |     Total\n",
      "-----------+----------------------+----------\n",
      "  Abnormal |    13,304      3,220 |    16,524 \n",
      "    Normal |    41,106    264,067 |   305,173 \n",
      "-----------+----------------------+----------\n",
      "     Total |    54,410    267,287 |   321,697 \n",
      "True abnormal diagnosis defined as diag = 1\n",
      "\n",
      "\n",
      "                                                  [95% Confidence Interval]\n",
      "---------------------------------------------------------------------------\n",
      "Prevalence                         Pr(A)      5.1%      5.1%       5.2%\n",
      "---------------------------------------------------------------------------\n",
      "Sensitivity                      Pr(+|A)     80.5%     79.9%     81.1%\n",
      "Specificity                      Pr(-|N)     86.5%     86.4%     86.7%\n",
      "ROC area               (Sens. + Spec.)/2      0.84      0.83      0.84 \n",
      "---------------------------------------------------------------------------\n",
      "Likelihood ratio (+)     Pr(+|A)/Pr(+|N)      5.98      5.91      6.05 \n",
      "Likelihood ratio (-)     Pr(-|A)/Pr(-|N)      0.23      0.22      0.23 \n",
      "Odds ratio                   LR(+)/LR(-)     26.54     25.50     27.62 \n",
      "Positive predictive value        Pr(A|+)     24.5%     24.1%     24.8% \n",
      "Negative predictive value        Pr(N|-)     98.8%     98.8%     98.8% \n",
      "---------------------------------------------------------------------------\n"
     ]
    }
   ],
   "source": [
    "diagt diag test if RA_index==1"
   ]
  },
  {
   "cell_type": "markdown",
   "id": "7d253ba5-4281-405c-bd8c-511a00a55bf6",
   "metadata": {},
   "source": [
    "Index==0"
   ]
  },
  {
   "cell_type": "code",
   "execution_count": 30,
   "id": "f50f1be6-d1fd-4b54-8cc8-be66d3b7312b",
   "metadata": {},
   "outputs": [
    {
     "name": "stdout",
     "output_type": "stream",
     "text": [
      "\n",
      "           |         test\n",
      "      diag |      Pos.       Neg. |     Total\n",
      "-----------+----------------------+----------\n",
      "  Abnormal |     4,561        892 |     5,453 \n",
      "    Normal |    15,070     82,780 |    97,850 \n",
      "-----------+----------------------+----------\n",
      "     Total |    19,631     83,672 |   103,303 \n",
      "True abnormal diagnosis defined as diag = 1\n",
      "\n",
      "\n",
      "                                                  [95% Confidence Interval]\n",
      "---------------------------------------------------------------------------\n",
      "Prevalence                         Pr(A)      5.3%      5.1%       5.4%\n",
      "---------------------------------------------------------------------------\n",
      "Sensitivity                      Pr(+|A)     83.6%     82.6%     84.6%\n",
      "Specificity                      Pr(-|N)     84.6%     84.4%     84.8%\n",
      "ROC area               (Sens. + Spec.)/2      0.84      0.84      0.85 \n",
      "---------------------------------------------------------------------------\n",
      "Likelihood ratio (+)     Pr(+|A)/Pr(+|N)      5.43      5.33      5.53 \n",
      "Likelihood ratio (-)     Pr(-|A)/Pr(-|N)      0.19      0.18      0.21 \n",
      "Odds ratio                   LR(+)/LR(-)     28.09     26.09     30.24 \n",
      "Positive predictive value        Pr(A|+)     23.2%     22.6%     23.8% \n",
      "Negative predictive value        Pr(N|-)     98.9%     98.9%     99.0% \n",
      "---------------------------------------------------------------------------\n"
     ]
    }
   ],
   "source": [
    "diagt diag test if RA_index==0"
   ]
  },
  {
   "cell_type": "markdown",
   "id": "72956d72",
   "metadata": {},
   "source": [
    "#### Ethnicity\n",
    "Ethnicity==0000white"
   ]
  },
  {
   "cell_type": "code",
   "execution_count": 31,
   "id": "b35bf6ab",
   "metadata": {},
   "outputs": [
    {
     "name": "stdout",
     "output_type": "stream",
     "text": [
      "\n",
      "           |         test\n",
      "      diag |      Pos.       Neg. |     Total\n",
      "-----------+----------------------+----------\n",
      "  Abnormal |    13,617      2,801 |    16,418 \n",
      "    Normal |    38,749    202,814 |   241,563 \n",
      "-----------+----------------------+----------\n",
      "     Total |    52,366    205,615 |   257,981 \n",
      "True abnormal diagnosis defined as diag = 1\n",
      "\n",
      "\n",
      "                                                  [95% Confidence Interval]\n",
      "---------------------------------------------------------------------------\n",
      "Prevalence                         Pr(A)      6.4%      6.3%       6.5%\n",
      "---------------------------------------------------------------------------\n",
      "Sensitivity                      Pr(+|A)     82.9%     82.4%     83.5%\n",
      "Specificity                      Pr(-|N)     84.0%     83.8%     84.1%\n",
      "ROC area               (Sens. + Spec.)/2      0.83      0.83      0.84 \n",
      "---------------------------------------------------------------------------\n",
      "Likelihood ratio (+)     Pr(+|A)/Pr(+|N)      5.17      5.11      5.23 \n",
      "Likelihood ratio (-)     Pr(-|A)/Pr(-|N)      0.20      0.20      0.21 \n",
      "Odds ratio                   LR(+)/LR(-)     25.45     24.40     26.54 \n",
      "Positive predictive value        Pr(A|+)     26.0%     25.6%     26.4% \n",
      "Negative predictive value        Pr(N|-)     98.6%     98.6%     98.7% \n",
      "---------------------------------------------------------------------------\n"
     ]
    }
   ],
   "source": [
    "diagt diag test if ethnicity==\"0white\""
   ]
  },
  {
   "cell_type": "code",
   "execution_count": 32,
   "id": "10050fbc",
   "metadata": {},
   "outputs": [
    {
     "name": "stdout",
     "output_type": "stream",
     "text": [
      "\n",
      "           |         test\n",
      "      diag |      Pos.       Neg. |     Total\n",
      "-----------+----------------------+----------\n",
      "  Abnormal |       514        207 |       721 \n",
      "    Normal |     4,912     38,235 |    43,147 \n",
      "-----------+----------------------+----------\n",
      "     Total |     5,426     38,442 |    43,868 \n",
      "True abnormal diagnosis defined as diag = 1\n",
      "\n",
      "\n",
      "                                                  [95% Confidence Interval]\n",
      "---------------------------------------------------------------------------\n",
      "Prevalence                         Pr(A)      1.6%      1.5%       1.8%\n",
      "---------------------------------------------------------------------------\n",
      "Sensitivity                      Pr(+|A)     71.3%     67.8%     74.6%\n",
      "Specificity                      Pr(-|N)     88.6%     88.3%     88.9%\n",
      "ROC area               (Sens. + Spec.)/2      0.80      0.78      0.82 \n",
      "---------------------------------------------------------------------------\n",
      "Likelihood ratio (+)     Pr(+|A)/Pr(+|N)      6.26      5.94      6.60 \n",
      "Likelihood ratio (-)     Pr(-|A)/Pr(-|N)      0.32      0.29      0.36 \n",
      "Odds ratio                   LR(+)/LR(-)     19.33     16.41     22.77 \n",
      "Positive predictive value        Pr(A|+)      9.5%      8.7%     10.3% \n",
      "Negative predictive value        Pr(N|-)     99.5%     99.4%     99.5% \n",
      "---------------------------------------------------------------------------\n"
     ]
    }
   ],
   "source": [
    "diagt diag test if ethnicity==\"Other\""
   ]
  },
  {
   "cell_type": "code",
   "execution_count": 33,
   "id": "a9b0ba23",
   "metadata": {},
   "outputs": [
    {
     "name": "stdout",
     "output_type": "stream",
     "text": [
      "\n",
      "           |         test\n",
      "      diag |      Pos.       Neg. |     Total\n",
      "-----------+----------------------+----------\n",
      "  Abnormal |     3,734      1,104 |     4,838 \n",
      "    Normal |    12,515    105,798 |   118,313 \n",
      "-----------+----------------------+----------\n",
      "     Total |    16,249    106,902 |   123,151 \n",
      "True abnormal diagnosis defined as diag = 1\n",
      "\n",
      "\n",
      "                                                  [95% Confidence Interval]\n",
      "---------------------------------------------------------------------------\n",
      "Prevalence                         Pr(A)      3.9%      3.8%       4.0%\n",
      "---------------------------------------------------------------------------\n",
      "Sensitivity                      Pr(+|A)     77.2%     76.0%     78.4%\n",
      "Specificity                      Pr(-|N)     89.4%     89.2%     89.6%\n",
      "ROC area               (Sens. + Spec.)/2      0.83      0.83      0.84 \n",
      "---------------------------------------------------------------------------\n",
      "Likelihood ratio (+)     Pr(+|A)/Pr(+|N)      7.30      7.13      7.46 \n",
      "Likelihood ratio (-)     Pr(-|A)/Pr(-|N)      0.26      0.24      0.27 \n",
      "Odds ratio                   LR(+)/LR(-)     28.59     26.67     30.65 \n",
      "Positive predictive value        Pr(A|+)     23.0%     22.3%     23.6% \n",
      "Negative predictive value        Pr(N|-)     99.0%     98.9%     99.0% \n",
      "---------------------------------------------------------------------------\n"
     ]
    }
   ],
   "source": [
    "diagt diag test if ethnicity==\"Missing\""
   ]
  },
  {
   "cell_type": "code",
   "execution_count": 34,
   "id": "0c6b3359-4cc6-4eb5-a15f-ed1be0b97aa0",
   "metadata": {},
   "outputs": [],
   "source": [
    "tempname memhold\n",
    "postfile `memhold' str20 var prev sens spec ppv npv roc using \"validity.dta\",replace\n",
    "\n",
    "quietly diagt diag test\n",
    "local prev=r(prev)\n",
    "local sens=r(sens)\n",
    "local spec=r(spec)\n",
    "local ppv=r(ppv)\n",
    "local npv=r(npv)\n",
    "local roc=r(roc)\n",
    "post `memhold' (\"all\") (`prev') (`sens') (`spec') (`ppv') (`npv') (`roc') \n",
    "\n",
    "quietly diagt diag test if sex==1\n",
    "local prev=r(prev)\n",
    "local sens=r(sens)\n",
    "local spec=r(spec)\n",
    "local ppv=r(ppv)\n",
    "local npv=r(npv)\n",
    "local roc=r(roc)\n",
    "post `memhold' (\"Male\") (`prev') (`sens') (`spec') (`ppv') (`npv') (`roc') \n",
    "\n",
    "quietly diagt diag test if sex==0\n",
    "local prev=r(prev)\n",
    "local sens=r(sens)\n",
    "local spec=r(spec)\n",
    "local ppv=r(ppv)\n",
    "local npv=r(npv)\n",
    "local roc=r(roc)\n",
    "post `memhold' (\"Female\") (`prev') (`sens') (`spec') (`ppv') (`npv') (`roc') \n",
    "\n",
    "quietly diagt diag test if agecat==16\n",
    "local prev=r(prev)\n",
    "local sens=r(sens)\n",
    "local spec=r(spec)\n",
    "local ppv=r(ppv)\n",
    "local npv=r(npv)\n",
    "local roc=r(roc)\n",
    "post `memhold' (\"Age young\") (`prev') (`sens') (`spec') (`ppv') (`npv') (`roc') \n",
    "\n",
    "quietly diagt diag test if agecat==30\n",
    "local prev=r(prev)\n",
    "local sens=r(sens)\n",
    "local spec=r(spec)\n",
    "local ppv=r(ppv)\n",
    "local npv=r(npv)\n",
    "local roc=r(roc)\n",
    "post `memhold' (\"Age middle\") (`prev') (`sens') (`spec') (`ppv') (`npv') (`roc') \n",
    "\n",
    "quietly diagt diag test if agecat==70\n",
    "local prev=r(prev)\n",
    "local sens=r(sens)\n",
    "local spec=r(spec)\n",
    "local ppv=r(ppv)\n",
    "local npv=r(npv)\n",
    "local roc=r(roc)\n",
    "post `memhold' (\"Age elderly\") (`prev') (`sens') (`spec') (`ppv') (`npv') (`roc') \n",
    "\n",
    "\n",
    "quietly diagt diag test if yearcat==2004\n",
    "local prev=r(prev)\n",
    "local sens=r(sens)\n",
    "local spec=r(spec)\n",
    "local ppv=r(ppv)\n",
    "local npv=r(npv)\n",
    "local roc=r(roc)\n",
    "post `memhold' (\"Year 2004-2009\") (`prev') (`sens') (`spec') (`ppv') (`npv') (`roc') \n",
    "\n",
    "quietly diagt diag test if yearcat==2010\n",
    "local prev=r(prev)\n",
    "local sens=r(sens)\n",
    "local spec=r(spec)\n",
    "local ppv=r(ppv)\n",
    "local npv=r(npv)\n",
    "local roc=r(roc)\n",
    "post `memhold' (\"Year 2010-2015\") (`prev') (`sens') (`spec') (`ppv') (`npv') (`roc')\n",
    "\n",
    "quietly diagt diag test if yearcat==2016\n",
    "local prev=r(prev)\n",
    "local sens=r(sens)\n",
    "local spec=r(spec)\n",
    "local ppv=r(ppv)\n",
    "local npv=r(npv)\n",
    "local roc=r(roc)\n",
    "post `memhold' (\"Year 2016-2020\") (`prev') (`sens') (`spec') (`ppv') (`npv') (`roc') \n",
    "\n",
    "\n",
    "quietly diagt diag test if imdcat==0\n",
    "local prev=r(prev)\n",
    "local sens=r(sens)\n",
    "local spec=r(spec)\n",
    "local ppv=r(ppv)\n",
    "local npv=r(npv)\n",
    "local roc=r(roc)\n",
    "post `memhold' (\"IMD 1,3\") (`prev') (`sens') (`spec') (`ppv') (`npv') (`roc') \n",
    "\n",
    "quietly diagt diag test if imdcat==4\n",
    "local prev=r(prev)\n",
    "local sens=r(sens)\n",
    "local spec=r(spec)\n",
    "local ppv=r(ppv)\n",
    "local npv=r(npv)\n",
    "local roc=r(roc)\n",
    "post `memhold' (\"IMD 4,7\") (`prev') (`sens') (`spec') (`ppv') (`npv') (`roc') \n",
    "\n",
    "quietly diagt diag test if imdcat==8\n",
    "local prev=r(prev)\n",
    "local sens=r(sens)\n",
    "local spec=r(spec)\n",
    "local ppv=r(ppv)\n",
    "local npv=r(npv)\n",
    "local roc=r(roc)\n",
    "post `memhold' (\"IMD 8,10\") (`prev') (`sens') (`spec') (`ppv') (`npv') (`roc') \n",
    "\n",
    "\n",
    "quietly diagt diag test if regexm(region_name,\"LONDON\")==1\n",
    "local prev=r(prev)\n",
    "local sens=r(sens)\n",
    "local spec=r(spec)\n",
    "local ppv=r(ppv)\n",
    "local npv=r(npv)\n",
    "local roc=r(roc)\n",
    "post `memhold' (\"London\") (`prev') (`sens') (`spec') (`ppv') (`npv') (`roc') \n",
    "\n",
    "quietly diagt diag test if regexm(region_name,\"MID\")==1\n",
    "local prev=r(prev)\n",
    "local sens=r(sens)\n",
    "local spec=r(spec)\n",
    "local ppv=r(ppv)\n",
    "local npv=r(npv)\n",
    "local roc=r(roc)\n",
    "post `memhold' (\"Midlands\") (`prev') (`sens') (`spec') (`ppv') (`npv') (`roc') \n",
    "\n",
    "quietly diagt diag test if regexm(region_name,\"YORK\")==1\n",
    "local prev=r(prev)\n",
    "local sens=r(sens)\n",
    "local spec=r(spec)\n",
    "local ppv=r(ppv)\n",
    "local npv=r(npv)\n",
    "local roc=r(roc)\n",
    "post `memhold' (\"Yorkshire\") (`prev') (`sens') (`spec') (`ppv') (`npv') (`roc') \n",
    "\n",
    "quietly diagt diag test if regexm(region_name,\"NORTH\")==1 & regexm(region_name,\"WEST\")==1\n",
    "local prev=r(prev)\n",
    "local sens=r(sens)\n",
    "local spec=r(spec)\n",
    "local ppv=r(ppv)\n",
    "local npv=r(npv)\n",
    "local roc=r(roc)\n",
    "post `memhold' (\"North West\") (`prev') (`sens') (`spec') (`ppv') (`npv') (`roc') \n",
    "\n",
    "quietly diagt diag test if regexm(region_name,\"SOUTH\")==1 & regexm(region_name,\"EAST\")==1\n",
    "local prev=r(prev)\n",
    "local sens=r(sens)\n",
    "local spec=r(spec)\n",
    "local ppv=r(ppv)\n",
    "local npv=r(npv)\n",
    "local roc=r(roc)\n",
    "post `memhold' (\"South East\") (`prev') (`sens') (`spec') (`ppv') (`npv') (`roc') \n",
    "\n",
    "quietly diagt diag test if regexm(region_name,\"SOUTH\")==1 & regexm(region_name,\"WEST\")==1\n",
    "local prev=r(prev)\n",
    "local sens=r(sens)\n",
    "local spec=r(spec)\n",
    "local ppv=r(ppv)\n",
    "local npv=r(npv)\n",
    "local roc=r(roc)\n",
    "post `memhold' (\"South West\") (`prev') (`sens') (`spec') (`ppv') (`npv') (`roc') \n",
    "\n",
    "quietly diagt diag test if regexm(system,\"One\")==1\n",
    "local prev=r(prev)\n",
    "local sens=r(sens)\n",
    "local spec=r(spec)\n",
    "local ppv=r(ppv)\n",
    "local npv=r(npv)\n",
    "local roc=r(roc)\n",
    "post `memhold' (\"SystemOne\") (`prev') (`sens') (`spec') (`ppv') (`npv') (`roc') \n",
    "\n",
    "quietly diagt diag test if regexm(system,\"Vision\")==1\n",
    "local prev=r(prev)\n",
    "local sens=r(sens)\n",
    "local spec=r(spec)\n",
    "local ppv=r(ppv)\n",
    "local npv=r(npv)\n",
    "local roc=r(roc)\n",
    "post `memhold' (\"Vision\") (`prev') (`sens') (`spec') (`ppv') (`npv') (`roc') \n",
    "\n",
    "quietly diagt diag test if regexm(ustrupper(system),\"EMIS\")==1\n",
    "local prev=r(prev)\n",
    "local sens=r(sens)\n",
    "local spec=r(spec)\n",
    "local ppv=r(ppv)\n",
    "local npv=r(npv)\n",
    "local roc=r(roc)\n",
    "post `memhold' (\"EMIS\") (`prev') (`sens') (`spec') (`ppv') (`npv') (`roc') \n",
    "\n",
    "quietly diagt diag test if RA_index==1\n",
    "local prev=r(prev)\n",
    "local sens=r(sens)\n",
    "local spec=r(spec)\n",
    "local ppv=r(ppv)\n",
    "local npv=r(npv)\n",
    "local roc=r(roc)\n",
    "post `memhold' (\"RAIndex1\") (`prev') (`sens') (`spec') (`ppv') (`npv') (`roc') \n",
    "\n",
    "quietly diagt diag test if RA_index==0\n",
    "local prev=r(prev)\n",
    "local sens=r(sens)\n",
    "local spec=r(spec)\n",
    "local ppv=r(ppv)\n",
    "local npv=r(npv)\n",
    "local roc=r(roc)\n",
    "post `memhold' (\"RAIndex0\") (`prev') (`sens') (`spec') (`ppv') (`npv') (`roc') \n",
    "\n",
    "quietly diagt diag test if ethnicity==\"0white\"\n",
    "local prev=r(prev)\n",
    "local sens=r(sens)\n",
    "local spec=r(spec)\n",
    "local ppv=r(ppv)\n",
    "local npv=r(npv)\n",
    "local roc=r(roc)\n",
    "post `memhold' (\"Ethnicity_0white\") (`prev') (`sens') (`spec') (`ppv') (`npv') (`roc') \n",
    "\n",
    "quietly diagt diag test if ethnicity==\"Other\"\n",
    "local prev=r(prev)\n",
    "local sens=r(sens)\n",
    "local spec=r(spec)\n",
    "local ppv=r(ppv)\n",
    "local npv=r(npv)\n",
    "local roc=r(roc)\n",
    "post `memhold' (\"Ethnicity_Other\") (`prev') (`sens') (`spec') (`ppv') (`npv') (`roc') \n",
    "\n",
    "\n",
    "\n",
    "quietly diagt diag test if ethnicity==\"Missing\"\n",
    "local prev=r(prev)\n",
    "local sens=r(sens)\n",
    "local spec=r(spec)\n",
    "local ppv=r(ppv)\n",
    "local npv=r(npv)\n",
    "local roc=r(roc)\n",
    "post `memhold' (\"Ethnicity_Missing\") (`prev') (`sens') (`spec') (`ppv') (`npv') (`roc') \n",
    "\n",
    "postclose `memhold'"
   ]
  },
  {
   "cell_type": "markdown",
   "id": "b350c4fb-deb8-450a-9750-689dc3a8268e",
   "metadata": {},
   "source": [
    "### Logistic Regression\n",
    "#### PPV"
   ]
  },
  {
   "cell_type": "code",
   "execution_count": 35,
   "id": "a21415d9",
   "metadata": {},
   "outputs": [
    {
     "name": "stdout",
     "output_type": "stream",
     "text": [
      "(2,589 observations deleted)\n",
      "(9 observations deleted)\n"
     ]
    }
   ],
   "source": [
    "drop if missing(imdcat)\n",
    "drop if missing(sex)"
   ]
  },
  {
   "cell_type": "code",
   "execution_count": 36,
   "id": "ad17f02e-1d4b-48ec-8a48-1c137597db1a",
   "metadata": {},
   "outputs": [
    {
     "name": "stdout",
     "output_type": "stream",
     "text": [
      "\n",
      "Logistic regression                                     Number of obs = 73,805\n",
      "                                                        LR chi2(0)    =   0.00\n",
      "                                                        Prob > chi2   =      .\n",
      "Log likelihood = -40814.587                             Pseudo R2     = 0.0000\n",
      "\n",
      "------------------------------------------------------------------------------\n",
      "    diag_pos |       Odds   Std. err.      z    P>|z|     [95% conf. interval]\n",
      "-------------+----------------------------------------------------------------\n",
      "       _cons |      .3187   .0027403  -132.99   0.000     .3133741    .3241163\n",
      "------------------------------------------------------------------------------\n"
     ]
    }
   ],
   "source": [
    "logistic diag_pos if test==1"
   ]
  },
  {
   "cell_type": "code",
   "execution_count": 37,
   "id": "b4bb2be2-7e3e-402c-aa81-7b7dfd706f64",
   "metadata": {},
   "outputs": [
    {
     "name": "stdout",
     "output_type": "stream",
     "text": [
      "note: 1.bnf_code_values != 0 predicts success perfectly;\n",
      "      1.bnf_code_values omitted and 1 obs not used.\n",
      "\n",
      "note: 2.bnf_code_values != 0 predicts failure perfectly;\n",
      "      2.bnf_code_values omitted and 4 obs not used.\n",
      "\n",
      "note: 9.bnf_code_values omitted because of collinearity.\n",
      "\n",
      "Logistic regression                                    Number of obs =  73,800\n",
      "                                                       LR chi2(6)    = 8102.02\n",
      "                                                       Prob > chi2   =  0.0000\n",
      "Log likelihood = -36761.051                            Pseudo R2     =  0.0993\n",
      "\n",
      "------------------------------------------------------------------------------------------------\n",
      "                      diag_pos | Odds ratio   Std. err.      z    P>|z|     [95% conf. interval]\n",
      "-------------------------------+----------------------------------------------------------------\n",
      "               bnf_code_values |\n",
      "                       030303  |          1  (empty)\n",
      "                       100103  |          1  (empty)\n",
      "       Adrenoreceptor agonist  |   .1415112   .0211141   -13.11   0.000     .1056302    .1895805\n",
      "Antimuscarinic Bronchodilator  |   2.991594   .4676443     7.01   0.000     2.202132    4.064078\n",
      "      Compound bronchodilator  |   2.199646   .3748121     4.63   0.000     1.575111    3.071812\n",
      "              Corticosteroids  |   .1954168    .029245   -10.91   0.000      .145739    .2620282\n",
      "                          OCT  |   .0837874   .0126275   -16.45   0.000     .0623584    .1125804\n",
      "                Other/unknown  |   .1054995   .0195305   -12.15   0.000     .0733961     .151645\n",
      "                 Theophylline  |          1  (omitted)\n",
      "                               |\n",
      "                         _cons |   1.828571   .2718257     4.06   0.000     1.366397    2.447074\n",
      "------------------------------------------------------------------------------------------------\n",
      "Note: _cons estimates baseline odds.\n"
     ]
    }
   ],
   "source": [
    "logistic diag_pos i.bnf_code_values if test==1"
   ]
  },
  {
   "cell_type": "code",
   "execution_count": 38,
   "id": "49e40858",
   "metadata": {},
   "outputs": [
    {
     "name": "stdout",
     "output_type": "stream",
     "text": [
      "\n",
      "Fitting fixed-effects model:\n",
      "\n",
      "Iteration 0:  Log likelihood = -35934.799  \n",
      "Iteration 1:  Log likelihood = -35256.849  \n",
      "Iteration 2:  Log likelihood = -35210.992  \n",
      "Iteration 3:  Log likelihood = -35210.955  \n",
      "Iteration 4:  Log likelihood = -35210.955  \n",
      "\n",
      "Refining starting values:\n",
      "\n",
      "Grid node 0:  Log likelihood = -35087.909\n",
      "\n",
      "Fitting full model:\n",
      "\n",
      "Iteration 0:  Log likelihood = -35087.909  (not concave)\n",
      "Iteration 1:  Log likelihood =  -34962.39  (not concave)\n",
      "Iteration 2:  Log likelihood = -34919.759  \n",
      "Iteration 3:  Log likelihood = -34915.269  \n",
      "Iteration 4:  Log likelihood =  -34913.42  \n",
      "Iteration 5:  Log likelihood = -34913.418  \n",
      "\n",
      "Mixed-effects logistic regression               Number of obs     =     73,570\n",
      "Group variable: practice_id                     Number of groups  =        333\n",
      "\n",
      "                                                Obs per group:\n",
      "                                                              min =          1\n",
      "                                                              avg =      220.9\n",
      "                                                              max =      2,222\n",
      "\n",
      "Integration method: mvaghermite                 Integration pts.  =          7\n",
      "\n",
      "                                                Wald chi2(18)     =    5929.45\n",
      "Log likelihood = -34913.418                     Prob > chi2       =     0.0000\n",
      "----------------------------------------------------------------------------------------------------------------\n",
      "                                       newdiag | Odds ratio   Std. err.      z    P>|z|     [95% conf. interval]\n",
      "-----------------------------------------------+----------------------------------------------------------------\n",
      "                                   1.sex_coded |   1.615001   .0302614    25.58   0.000     1.556766    1.675415\n",
      "                                               |\n",
      "                                       yearcat |\n",
      "                                    2010-2015  |   .9344445   .0213157    -2.97   0.003     .8935867    .9771705\n",
      "                                    2016-2020  |   .9637778    .024423    -1.46   0.145     .9170789    1.012855\n",
      "                                               |\n",
      "                                        agecat |\n",
      "                                      0Middle  |   15.80469   1.145697    38.08   0.000     13.71139    18.21757\n",
      "                                      Elderly  |   44.85995   3.264012    52.28   0.000     38.89782    51.73592\n",
      "                                               |\n",
      "                                        region |\n",
      "                  LONDON COMMISSIONING REGION  |    1.00817   .1417909     0.06   0.954     .7652782    1.328154\n",
      "                MIDLANDS COMMISSIONING REGION  |   1.339025   .0901832     4.33   0.000     1.173439    1.527978\n",
      "NORTH EAST AND YORKSHIRE COMMISSIONING REGION  |   1.350022   .1000193     4.05   0.000     1.167556    1.561004\n",
      "              NORTH WEST COMMISSIONING REGION  |   1.403729   .1199177     3.97   0.000     1.187317    1.659586\n",
      "              SOUTH EAST COMMISSIONING REGION  |   1.029855    .075113     0.40   0.687     .8926748    1.188116\n",
      "              SOUTH WEST COMMISSIONING REGION  |   1.274993   .1093371     2.83   0.005     1.077738    1.508352\n",
      "                                     Scotland  |   1.085718   .1490941     0.60   0.549     .8295212    1.421041\n",
      "                                        Wales  |   1.565796   .3578726     1.96   0.050     1.000432    2.450657\n",
      "                                               |\n",
      "                                      RA_index |   .9302228   .0480563    -1.40   0.161     .8406458    1.029345\n",
      "                                               |\n",
      "                                        ethnic |\n",
      "                                      Missing  |   .8247204    .021445    -7.41   0.000     .7837421    .8678412\n",
      "                                        Other  |   .3315649   .0179203   -20.43   0.000     .2982381    .3686157\n",
      "                                               |\n",
      "                                        imdcat |\n",
      "                                          4-7  |   .7526748   .0407288    -5.25   0.000     .6769353    .8368886\n",
      "                                         8-10  |   .7523661   .0440713    -4.86   0.000     .6707619    .8438981\n",
      "                                               |\n",
      "                                         _cons |   .0156474   .0014376   -45.25   0.000     .0130688    .0187347\n",
      "-----------------------------------------------+----------------------------------------------------------------\n",
      "practice_id                                    |\n",
      "                                     var(_cons)|   .0903042   .0109174                      .0712527    .1144496\n",
      "----------------------------------------------------------------------------------------------------------------\n",
      "Note: Estimates are transformed only in the first equation to odds ratios.\n",
      "Note: _cons estimates baseline odds (conditional on zero random effects).\n",
      "LR test vs. logistic model: chibar2(01) = 595.07      Prob >= chibar2 = 0.0000\n"
     ]
    }
   ],
   "source": [
    "gen newdiag=diag_pos\n",
    "\n",
    "melogit newdiag i.sex i.yearcat i.agecat  i.region RA_index i.ethnic i.imdcat if test==1 || practice_id:,or\n",
    "estimates store model1"
   ]
  },
  {
   "cell_type": "markdown",
   "id": "1fb85b5e",
   "metadata": {},
   "source": [
    "##### Likelihood ratio tests"
   ]
  },
  {
   "cell_type": "code",
   "execution_count": 39,
   "id": "718b2ba3-f1ac-41c9-af92-e0cb45d55985",
   "metadata": {},
   "outputs": [],
   "source": [
    "\n",
    "\n",
    "quietly: melogit newdiag i.sex i.yearcat i.agecat  i.region RA_index i.ethnic if test==1 || practice_id:,or\n",
    "estimates store model_imd\n",
    "\n",
    "quietly:melogit newdiag i.sex i.yearcat i.agecat  i.region RA_index i.imdcat if test==1 || practice_id:,or\n",
    "estimates store model_ethnicity\n",
    "\n",
    "quietly:melogit newdiag i.yearcat i.agecat  i.region RA_index i.ethnic i.imdcat if test==1 || practice_id:,or\n",
    "estimates store model_sex\n",
    "\n",
    "quietly:melogit newdiag i.sex i.agecat  i.region RA_index i.ethnic i.imdcat if test==1 || practice_id:,or\n",
    "estimates store model_year\n",
    "\n",
    "quietly: melogit newdiag i.sex i.yearcat  i.region RA_index i.ethnic i.imdcat if test==1 || practice_id:,or\n",
    "estimates store model_age\n",
    "\n"
   ]
  },
  {
   "cell_type": "code",
   "execution_count": 40,
   "id": "31887f9d",
   "metadata": {},
   "outputs": [
    {
     "name": "stdout",
     "output_type": "stream",
     "text": [
      "\n",
      "Likelihood-ratio test\n",
      "Assumption: model_sex nested within model1\n",
      "\n",
      " LR chi2(1) = 658.00\n",
      "Prob > chi2 = 0.0000\n",
      "\n",
      "Likelihood-ratio test\n",
      "Assumption: model_year nested within model1\n",
      "\n",
      " LR chi2(2) =   8.84\n",
      "Prob > chi2 = 0.0121\n",
      "\n",
      "Likelihood-ratio test\n",
      "Assumption: model_age nested within model1\n",
      "\n",
      " LR chi2(2) = 8619.11\n",
      "Prob > chi2 =  0.0000\n",
      "\n",
      "Likelihood-ratio test\n",
      "Assumption: model_ethnic~y nested within model1\n",
      "\n",
      " LR chi2(2) = 523.11\n",
      "Prob > chi2 = 0.0000\n",
      "\n",
      "Likelihood-ratio test\n",
      "Assumption: model_imd nested within model1\n",
      "\n",
      " LR chi2(2) =  31.08\n",
      "Prob > chi2 = 0.0000\n"
     ]
    }
   ],
   "source": [
    "lrtest model1 model_sex\n",
    "lrtest model1 model_year\n",
    "lrtest model1 model_age\n",
    "lrtest model1 model_ethnicity\n",
    "lrtest model1 model_imd\n"
   ]
  },
  {
   "cell_type": "markdown",
   "id": "99227c99-0304-407b-a990-a06fe4bd4560",
   "metadata": {},
   "source": [
    "#### NPV"
   ]
  },
  {
   "cell_type": "code",
   "execution_count": 41,
   "id": "04c0103e-c424-49af-8973-09a13878ea3f",
   "metadata": {},
   "outputs": [
    {
     "name": "stdout",
     "output_type": "stream",
     "text": [
      "\n",
      "Logistic regression                                    Number of obs = 348,597\n",
      "                                                       LR chi2(0)    =   -0.00\n",
      "                                                       Prob > chi2   =       .\n",
      "Log likelihood = -22331.675                            Pseudo R2     = -0.0000\n",
      "\n",
      "------------------------------------------------------------------------------\n",
      "    diag_neg |       Odds   Std. err.      z    P>|z|     [95% conf. interval]\n",
      "-------------+----------------------------------------------------------------\n",
      "       _cons |   83.83743   1.315663   282.22   0.000     81.29803    86.45615\n",
      "------------------------------------------------------------------------------\n"
     ]
    }
   ],
   "source": [
    "logistic diag_neg if test==0"
   ]
  },
  {
   "cell_type": "code",
   "execution_count": 42,
   "id": "93a5b760",
   "metadata": {},
   "outputs": [
    {
     "name": "stdout",
     "output_type": "stream",
     "text": [
      "(422,402 real changes made)\n",
      "\n",
      "Fitting fixed-effects model:\n",
      "\n",
      "Iteration 0:  Log likelihood = -40559.496  \n",
      "Iteration 1:  Log likelihood = -21849.563  \n",
      "Iteration 2:  Log likelihood = -21181.841  \n",
      "Iteration 3:  Log likelihood = -21159.613  \n",
      "Iteration 4:  Log likelihood =  -21159.54  \n",
      "Iteration 5:  Log likelihood =  -21159.54  \n",
      "\n",
      "Refining starting values:\n",
      "\n",
      "Grid node 0:  Log likelihood = -20260.036\n",
      "\n",
      "Fitting full model:\n",
      "\n",
      "Iteration 0:  Log likelihood = -20260.036  \n",
      "Iteration 1:  Log likelihood = -20246.697  \n",
      "Iteration 2:  Log likelihood = -20240.048  \n",
      "Iteration 3:  Log likelihood = -20239.811  \n",
      "Iteration 4:  Log likelihood = -20239.811  \n",
      "\n",
      "Mixed-effects logistic regression               Number of obs     =    347,863\n",
      "Group variable: practice_id                     Number of groups  =        335\n",
      "\n",
      "                                                Obs per group:\n",
      "                                                              min =          1\n",
      "                                                              avg =    1,038.4\n",
      "                                                              max =      8,269\n",
      "\n",
      "Integration method: mvaghermite                 Integration pts.  =          7\n",
      "\n",
      "                                                Wald chi2(18)     =    1734.24\n",
      "Log likelihood = -20239.811                     Prob > chi2       =     0.0000\n",
      "----------------------------------------------------------------------------------------------------------------\n",
      "                                       newdiag | Odds ratio   Std. err.      z    P>|z|     [95% conf. interval]\n",
      "-----------------------------------------------+----------------------------------------------------------------\n",
      "                                   1.sex_coded |   .8686237   .0278974    -4.39   0.000     .8156311    .9250593\n",
      "                                               |\n",
      "                                       yearcat |\n",
      "                                    2010-2015  |    1.13908   .0448338     3.31   0.001     1.054511    1.230431\n",
      "                                    2016-2020  |   1.008479   .0434479     0.20   0.845     .9268192    1.097334\n",
      "                                               |\n",
      "                                        agecat |\n",
      "                                      0Middle  |   .4703614   .0249161   -14.24   0.000     .4239763    .5218213\n",
      "                                      Elderly  |   .1617191   .0087865   -33.53   0.000      .145383    .1798908\n",
      "                                               |\n",
      "                                        region |\n",
      "                  LONDON COMMISSIONING REGION  |   .8569494   .2903322    -0.46   0.649     .4411338    1.664716\n",
      "                MIDLANDS COMMISSIONING REGION  |   .5319792   .0924944    -3.63   0.000     .3783533     .747983\n",
      "NORTH EAST AND YORKSHIRE COMMISSIONING REGION  |   .7938637   .1536518    -1.19   0.233     .5432459      1.1601\n",
      "              NORTH WEST COMMISSIONING REGION  |    .557103    .125328    -2.60   0.009     .3584643     .865815\n",
      "              SOUTH EAST COMMISSIONING REGION  |   .6290358   .1182279    -2.47   0.014     .4352023    .9092002\n",
      "              SOUTH WEST COMMISSIONING REGION  |   .5313841   .1194688    -2.81   0.005     .3420082    .8256205\n",
      "                                     Scotland  |   .8016185    .266943    -0.66   0.507     .4173624     1.53965\n",
      "                                        Wales  |   .3638301   .1934411    -1.90   0.057     .1283312     1.03149\n",
      "                                               |\n",
      "                                      RA_index |   1.089896   .1459873     0.64   0.520     .8382428    1.417099\n",
      "                                               |\n",
      "                                        ethnic |\n",
      "                                      Missing  |   1.487246   .0623529     9.47   0.000     1.369923    1.614617\n",
      "                                        Other  |    1.69379    .132765     6.72   0.000     1.452578    1.975057\n",
      "                                               |\n",
      "                                        imdcat |\n",
      "                                          4-7  |   1.362234   .1917151     2.20   0.028     1.033849    1.794924\n",
      "                                         8-10  |   1.071857   .1601117     0.46   0.642     .7998089     1.43644\n",
      "                                               |\n",
      "                                         _cons |   271.5335   42.81762    35.54   0.000     199.3421    369.8689\n",
      "-----------------------------------------------+----------------------------------------------------------------\n",
      "practice_id                                    |\n",
      "                                     var(_cons)|   .6765686   .0746989                      .5449191    .8400239\n",
      "----------------------------------------------------------------------------------------------------------------\n",
      "Note: Estimates are transformed only in the first equation to odds ratios.\n",
      "Note: _cons estimates baseline odds (conditional on zero random effects).\n",
      "LR test vs. logistic model: chibar2(01) = 1839.46     Prob >= chibar2 = 0.0000\n"
     ]
    }
   ],
   "source": [
    "/* need to use the same response variable (newdiag) to line up the two model results */\n",
    "replace newdiag=diag_neg \n",
    "\n",
    "melogit newdiag i.sex i.yearcat i.agecat i.region RA_index i.ethnic i.imdcat if test==0 || practice_id:,or\n",
    "estimates store model2"
   ]
  },
  {
   "cell_type": "markdown",
   "id": "60c60b7a",
   "metadata": {},
   "source": [
    "##### Likelihood ratio tests"
   ]
  },
  {
   "cell_type": "code",
   "execution_count": 43,
   "id": "c31bd1f1-c69b-4600-a1c0-bde311d67651",
   "metadata": {},
   "outputs": [],
   "source": [
    "\n",
    "quietly: melogit newdiag i.yearcat i.agecat i.region RA_index i.ethnic i.imdcat if test==0 || practice_id:,or\n",
    "estimates store model2_sex\n",
    "quietly: melogit newdiag i.sex i.agecat i.region RA_index i.ethnic i.imdcat if test==0 || practice_id:,or\n",
    "estimates store model2_year\n",
    "quietly: melogit newdiag i.sex i.yearcat i.region RA_index i.ethnic i.imdcat if test==0 || practice_id:,or\n",
    "estimates store model2_age\n",
    "quietly: melogit newdiag i.sex i.yearcat i.agecat i.region RA_index i.imdcat if test==0 || practice_id:,or\n",
    "estimates store model2_ethnicity\n",
    "quietly: melogit newdiag i.sex i.yearcat i.agecat i.region RA_index i.ethnic if test==0 || practice_id:,or\n",
    "estimates store model2_imd\n"
   ]
  },
  {
   "cell_type": "code",
   "execution_count": 44,
   "id": "95d03409",
   "metadata": {},
   "outputs": [
    {
     "name": "stdout",
     "output_type": "stream",
     "text": [
      "\n",
      "Likelihood-ratio test\n",
      "Assumption: model2_sex nested within model2\n",
      "\n",
      " LR chi2(1) =  19.25\n",
      "Prob > chi2 = 0.0000\n",
      "\n",
      "Likelihood-ratio test\n",
      "Assumption: model2_year nested within model2\n",
      "\n",
      " LR chi2(2) =  13.67\n",
      "Prob > chi2 = 0.0011\n",
      "\n",
      "Likelihood-ratio test\n",
      "Assumption: model2_age nested within model2\n",
      "\n",
      " LR chi2(2) = 1532.87\n",
      "Prob > chi2 =  0.0000\n",
      "\n",
      "Likelihood-ratio test\n",
      "Assumption: model2_ethni~y nested within model2\n",
      "\n",
      " LR chi2(2) = 128.48\n",
      "Prob > chi2 = 0.0000\n",
      "\n",
      "Likelihood-ratio test\n",
      "Assumption: model2_imd nested within model2\n",
      "\n",
      " LR chi2(2) =   5.54\n",
      "Prob > chi2 = 0.0626\n"
     ]
    }
   ],
   "source": [
    "lrtest model2 model2_sex\n",
    "lrtest model2 model2_year\n",
    "lrtest model2 model2_age\n",
    "lrtest model2 model2_ethnicity\n",
    "lrtest model2 model2_imd\n"
   ]
  },
  {
   "cell_type": "code",
   "execution_count": 45,
   "id": "017939f5-75b7-4ee0-9f7b-3105e0d2bfe1",
   "metadata": {},
   "outputs": [
    {
     "name": "stdout",
     "output_type": "stream",
     "text": [
      "\n",
      "Table 2. PPV (1) and NPV (2), OR, Random effect\n",
      "------------------------------------------------------------------\n",
      "                                                    1        2    \n",
      "------------------------------------------------------------------\n",
      "sex_coded                                                         \n",
      "  1                                              1.62 **   0.87 **\n",
      "yearcat                                                           \n",
      "  2010-2015                                      0.93 **   1.14 **\n",
      "  2016-2020                                      0.96      1.01   \n",
      "agecat                                                            \n",
      "  0Middle                                       15.80 **   0.47 **\n",
      "  Elderly                                       44.86 **   0.16 **\n",
      "region                                                            \n",
      "  LONDON COMMISSIONING REGION                    1.01      0.86   \n",
      "  MIDLANDS COMMISSIONING REGION                  1.34 **   0.53 **\n",
      "  NORTH EAST AND YORKSHIRE COMMISSIONING REGION  1.35 **   0.79   \n",
      "  NORTH WEST COMMISSIONING REGION                1.40 **   0.56 **\n",
      "  SOUTH EAST COMMISSIONING REGION                1.03      0.63 * \n",
      "  SOUTH WEST COMMISSIONING REGION                1.27 **   0.53 **\n",
      "  Scotland                                       1.09      0.80   \n",
      "  Wales                                          1.57 *    0.36   \n",
      "RA_index                                         0.93      1.09   \n",
      "ethnic                                                            \n",
      "  Missing                                        0.82 **   1.49 **\n",
      "  Other                                          0.33 **   1.69 **\n",
      "imdcat                                                            \n",
      "  4-7                                            0.75 **   1.36 * \n",
      "  8-10                                           0.75 **   1.07   \n",
      "Intercept                                        0.02 ** 271.53 **\n",
      "var(_cons[practice_id])                          0.09      0.68   \n",
      "Number of observations                          73570    347863   \n",
      "------------------------------------------------------------------\n",
      "** p<.01, * p<.05\n"
     ]
    }
   ],
   "source": [
    "etable, estimates(model1 model2) showstars showstarsnote title(\"Table 2. PPV (1) and NPV (2),  OR, Random effect\") cstat(_r_b,nformat(%6.2f)) column(index)"
   ]
  },
  {
   "cell_type": "markdown",
   "id": "e7e9a417",
   "metadata": {},
   "source": [
    "### Summary of validation parameters"
   ]
  },
  {
   "cell_type": "code",
   "execution_count": 46,
   "id": "e27d82a4-8d2d-4529-8a15-ae4baabfa28c",
   "metadata": {},
   "outputs": [
    {
     "name": "stdout",
     "output_type": "stream",
     "text": [
      "(26 real changes made)\n",
      "(26 real changes made)\n",
      "(26 real changes made)\n",
      "(26 real changes made)\n",
      "(26 real changes made)\n",
      "(26 real changes made)\n"
     ]
    }
   ],
   "source": [
    "use validity.dta, clear\n",
    "replace prev=round(prev, 0.1)\n",
    "gen prev_a=round(((prev/100)*((sens/100)+(spec/100)-1)+1-(spec/100))*100,0.1)/*apparent prevalence*/\n",
    "replace sens=round(sens, 0.1)\n",
    "replace spec=round(spec,0.1)\n",
    "replace ppv=round(ppv, 0.1)\n",
    "replace npv=round(npv, 0.1)\n",
    "replace roc=round(roc, 0.01)\n"
   ]
  },
  {
   "cell_type": "code",
   "execution_count": 47,
   "id": "8129bfb3-cd21-4077-a785-9a74a846c65b",
   "metadata": {},
   "outputs": [
    {
     "data": {
      "text/html": [
       "<div>\n",
       "<style scoped>\n",
       "    .dataframe tbody tr th:only-of-type {\n",
       "        vertical-align: middle;\n",
       "    }\n",
       "\n",
       "    .dataframe tbody tr th {\n",
       "        vertical-align: top;\n",
       "    }\n",
       "\n",
       "    .dataframe thead th {\n",
       "        text-align: right;\n",
       "    }\n",
       "</style>\n",
       "<table border=\"1\" class=\"dataframe\">\n",
       "  <thead>\n",
       "    <tr style=\"text-align: right;\">\n",
       "      <th></th>\n",
       "      <th>var</th>\n",
       "      <th>prev</th>\n",
       "      <th>sens</th>\n",
       "      <th>spec</th>\n",
       "      <th>ppv</th>\n",
       "      <th>npv</th>\n",
       "      <th>roc</th>\n",
       "      <th>prev_a</th>\n",
       "    </tr>\n",
       "  </thead>\n",
       "  <tbody>\n",
       "    <tr>\n",
       "      <th>1</th>\n",
       "      <td>all</td>\n",
       "      <td>5.2</td>\n",
       "      <td>81.3</td>\n",
       "      <td>86.1</td>\n",
       "      <td>24.1</td>\n",
       "      <td>98.8</td>\n",
       "      <td>.84</td>\n",
       "      <td>17.4</td>\n",
       "    </tr>\n",
       "    <tr>\n",
       "      <th>2</th>\n",
       "      <td>Male</td>\n",
       "      <td>5.5</td>\n",
       "      <td>81.5</td>\n",
       "      <td>88.3</td>\n",
       "      <td>28.8</td>\n",
       "      <td>98.8</td>\n",
       "      <td>.85</td>\n",
       "      <td>15.5</td>\n",
       "    </tr>\n",
       "    <tr>\n",
       "      <th>3</th>\n",
       "      <td>Female</td>\n",
       "      <td>4.9</td>\n",
       "      <td>81.1</td>\n",
       "      <td>83.9</td>\n",
       "      <td>20.5</td>\n",
       "      <td>98.9</td>\n",
       "      <td>.83</td>\n",
       "      <td>19.3</td>\n",
       "    </tr>\n",
       "    <tr>\n",
       "      <th>4</th>\n",
       "      <td>Age young</td>\n",
       "      <td>.6</td>\n",
       "      <td>30.2</td>\n",
       "      <td>89.1</td>\n",
       "      <td>1.6</td>\n",
       "      <td>99.5</td>\n",
       "      <td>.6</td>\n",
       "      <td>11</td>\n",
       "    </tr>\n",
       "    <tr>\n",
       "      <th>5</th>\n",
       "      <td>Age middle</td>\n",
       "      <td>4.4</td>\n",
       "      <td>80.7</td>\n",
       "      <td>86</td>\n",
       "      <td>20.8</td>\n",
       "      <td>99</td>\n",
       "      <td>.83</td>\n",
       "      <td>16.9</td>\n",
       "    </tr>\n",
       "    <tr>\n",
       "      <th>6</th>\n",
       "      <td>Age elderly</td>\n",
       "      <td>13.5</td>\n",
       "      <td>84.7</td>\n",
       "      <td>81.4</td>\n",
       "      <td>41.7</td>\n",
       "      <td>97.1</td>\n",
       "      <td>.83</td>\n",
       "      <td>27.5</td>\n",
       "    </tr>\n",
       "    <tr>\n",
       "      <th>7</th>\n",
       "      <td>Year 2004-2009</td>\n",
       "      <td>5.9</td>\n",
       "      <td>81.2</td>\n",
       "      <td>85.6</td>\n",
       "      <td>26</td>\n",
       "      <td>98.6</td>\n",
       "      <td>.83</td>\n",
       "      <td>18.4</td>\n",
       "    </tr>\n",
       "    <tr>\n",
       "      <th>8</th>\n",
       "      <td>Year 2010-2015</td>\n",
       "      <td>5</td>\n",
       "      <td>82.1</td>\n",
       "      <td>85.8</td>\n",
       "      <td>23.2</td>\n",
       "      <td>98.9</td>\n",
       "      <td>.84</td>\n",
       "      <td>17.6</td>\n",
       "    </tr>\n",
       "    <tr>\n",
       "      <th>9</th>\n",
       "      <td>Year 2016-2020</td>\n",
       "      <td>4.6</td>\n",
       "      <td>80.3</td>\n",
       "      <td>87</td>\n",
       "      <td>22.7</td>\n",
       "      <td>98.9</td>\n",
       "      <td>.84</td>\n",
       "      <td>16.1</td>\n",
       "    </tr>\n",
       "    <tr>\n",
       "      <th>10</th>\n",
       "      <td>IMD 1,3</td>\n",
       "      <td>5.6</td>\n",
       "      <td>82</td>\n",
       "      <td>86.6</td>\n",
       "      <td>26.7</td>\n",
       "      <td>98.8</td>\n",
       "      <td>.84</td>\n",
       "      <td>17.2</td>\n",
       "    </tr>\n",
       "    <tr>\n",
       "      <th>11</th>\n",
       "      <td>IMD 4,7</td>\n",
       "      <td>5.1</td>\n",
       "      <td>83.3</td>\n",
       "      <td>85.2</td>\n",
       "      <td>23.4</td>\n",
       "      <td>99</td>\n",
       "      <td>.84</td>\n",
       "      <td>18.3</td>\n",
       "    </tr>\n",
       "    <tr>\n",
       "      <th>12</th>\n",
       "      <td>IMD 8,10</td>\n",
       "      <td>4.7</td>\n",
       "      <td>77.7</td>\n",
       "      <td>86.2</td>\n",
       "      <td>21.9</td>\n",
       "      <td>98.7</td>\n",
       "      <td>.82</td>\n",
       "      <td>16.8</td>\n",
       "    </tr>\n",
       "    <tr>\n",
       "      <th>13</th>\n",
       "      <td>London</td>\n",
       "      <td>2.5</td>\n",
       "      <td>73.8</td>\n",
       "      <td>89.8</td>\n",
       "      <td>15.7</td>\n",
       "      <td>99.3</td>\n",
       "      <td>.82</td>\n",
       "      <td>11.8</td>\n",
       "    </tr>\n",
       "    <tr>\n",
       "      <th>14</th>\n",
       "      <td>Midlands</td>\n",
       "      <td>6.7</td>\n",
       "      <td>80.7</td>\n",
       "      <td>84.5</td>\n",
       "      <td>27.1</td>\n",
       "      <td>98.4</td>\n",
       "      <td>.83</td>\n",
       "      <td>19.9</td>\n",
       "    </tr>\n",
       "    <tr>\n",
       "      <th>15</th>\n",
       "      <td>Yorkshire</td>\n",
       "      <td>5.5</td>\n",
       "      <td>83</td>\n",
       "      <td>86.7</td>\n",
       "      <td>26.6</td>\n",
       "      <td>98.9</td>\n",
       "      <td>.85</td>\n",
       "      <td>17.2</td>\n",
       "    </tr>\n",
       "    <tr>\n",
       "      <th>16</th>\n",
       "      <td>North West</td>\n",
       "      <td>5.4</td>\n",
       "      <td>81</td>\n",
       "      <td>87.5</td>\n",
       "      <td>26.8</td>\n",
       "      <td>98.8</td>\n",
       "      <td>.84</td>\n",
       "      <td>16.2</td>\n",
       "    </tr>\n",
       "    <tr>\n",
       "      <th>17</th>\n",
       "      <td>South East</td>\n",
       "      <td>4.5</td>\n",
       "      <td>75.6</td>\n",
       "      <td>87.4</td>\n",
       "      <td>22</td>\n",
       "      <td>98.7</td>\n",
       "      <td>.81</td>\n",
       "      <td>15.5</td>\n",
       "    </tr>\n",
       "    <tr>\n",
       "      <th>18</th>\n",
       "      <td>South West</td>\n",
       "      <td>6.1</td>\n",
       "      <td>80.5</td>\n",
       "      <td>85.1</td>\n",
       "      <td>26</td>\n",
       "      <td>98.5</td>\n",
       "      <td>.83</td>\n",
       "      <td>18.9</td>\n",
       "    </tr>\n",
       "    <tr>\n",
       "      <th>19</th>\n",
       "      <td>SystemOne</td>\n",
       "      <td>5.2</td>\n",
       "      <td>86.6</td>\n",
       "      <td>85.1</td>\n",
       "      <td>24.4</td>\n",
       "      <td>99.1</td>\n",
       "      <td>.86</td>\n",
       "      <td>18.6</td>\n",
       "    </tr>\n",
       "    <tr>\n",
       "      <th>20</th>\n",
       "      <td>Vision</td>\n",
       "      <td>5.2</td>\n",
       "      <td>76.5</td>\n",
       "      <td>85.6</td>\n",
       "      <td>22.6</td>\n",
       "      <td>98.5</td>\n",
       "      <td>.81</td>\n",
       "      <td>17.6</td>\n",
       "    </tr>\n",
       "    <tr>\n",
       "      <th>21</th>\n",
       "      <td>EMIS</td>\n",
       "      <td>5.1</td>\n",
       "      <td>74.8</td>\n",
       "      <td>87.3</td>\n",
       "      <td>23.9</td>\n",
       "      <td>98.5</td>\n",
       "      <td>.81</td>\n",
       "      <td>15.9</td>\n",
       "    </tr>\n",
       "    <tr>\n",
       "      <th>22</th>\n",
       "      <td>RAIndex1</td>\n",
       "      <td>5.1</td>\n",
       "      <td>80.5</td>\n",
       "      <td>86.5</td>\n",
       "      <td>24.5</td>\n",
       "      <td>98.8</td>\n",
       "      <td>.84</td>\n",
       "      <td>16.9</td>\n",
       "    </tr>\n",
       "    <tr>\n",
       "      <th>23</th>\n",
       "      <td>RAIndex0</td>\n",
       "      <td>5.3</td>\n",
       "      <td>83.6</td>\n",
       "      <td>84.6</td>\n",
       "      <td>23.2</td>\n",
       "      <td>98.9</td>\n",
       "      <td>.84</td>\n",
       "      <td>19</td>\n",
       "    </tr>\n",
       "    <tr>\n",
       "      <th>24</th>\n",
       "      <td>Ethnicity_0white</td>\n",
       "      <td>6.4</td>\n",
       "      <td>82.9</td>\n",
       "      <td>84</td>\n",
       "      <td>26</td>\n",
       "      <td>98.6</td>\n",
       "      <td>.83</td>\n",
       "      <td>20.3</td>\n",
       "    </tr>\n",
       "    <tr>\n",
       "      <th>25</th>\n",
       "      <td>Ethnicity_Other</td>\n",
       "      <td>1.6</td>\n",
       "      <td>71.3</td>\n",
       "      <td>88.6</td>\n",
       "      <td>9.5</td>\n",
       "      <td>99.5</td>\n",
       "      <td>.8</td>\n",
       "      <td>12.3</td>\n",
       "    </tr>\n",
       "    <tr>\n",
       "      <th>26</th>\n",
       "      <td>Ethnicity_Missing</td>\n",
       "      <td>3.9</td>\n",
       "      <td>77.2</td>\n",
       "      <td>89.4</td>\n",
       "      <td>23</td>\n",
       "      <td>99</td>\n",
       "      <td>.83</td>\n",
       "      <td>13.2</td>\n",
       "    </tr>\n",
       "  </tbody>\n",
       "</table>\n",
       "</div>"
      ]
     },
     "metadata": {},
     "output_type": "display_data"
    }
   ],
   "source": [
    "%head 50"
   ]
  },
  {
   "cell_type": "code",
   "execution_count": 48,
   "id": "47dc850c-f3c8-4b9c-8ba9-3620f31b4fa9",
   "metadata": {},
   "outputs": [],
   "source": [
    "/*texsave * using test3.tex, varlabels*/\n",
    "/* export excel using  validity2.xlsx, sheet(val_COPD_20250623, replace)*/"
   ]
  }
 ],
 "metadata": {
  "kernelspec": {
   "display_name": "Stata (nbstata)",
   "language": "stata",
   "name": "nbstata"
  },
  "language_info": {
   "file_extension": ".do",
   "mimetype": "text/x-stata",
   "name": "stata",
   "version": "17"
  }
 },
 "nbformat": 4,
 "nbformat_minor": 5
}
