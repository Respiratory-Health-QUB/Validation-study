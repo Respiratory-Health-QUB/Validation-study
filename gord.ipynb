{
 "cells": [
  {
   "cell_type": "markdown",
   "id": "13e469d7",
   "metadata": {},
   "source": [
    "# Validity of using prescription records to identify patient comorbidities\n",
    "## Analysis of gord"
   ]
  },
  {
   "cell_type": "markdown",
   "id": "a3d5caf8",
   "metadata": {},
   "source": [
    "**ReadMe:**\n",
    "- This is a script used in the analysis for Schnier et al., 2025: Validity of using prescription records to classify disease – a record linkage study using routinely collected electronic health records from the UK.\n",
    "- The underlying data set has been created using the Optimum Patient Care Research Database (https://opcrd.optimumpatientcare.org/). The authors do not have permission to give the public access to the study dataset; researchers may request access to OPCRD for their own purposes. \n",
    " - All code is run in StataSE 18. \n"
   ]
  },
  {
   "cell_type": "markdown",
   "id": "1cf02e3e-e834-469d-abf1-21c9ce29f756",
   "metadata": {},
   "source": [
    "**Set up:**\n",
    "|Var|Input|\n",
    "| --- | --- | \n",
    "|population|425,000|\n",
    "|diagnostic codes|OpenCodeList and HDRUK|\n",
    "|drug codes|bnf selection|\n",
    "|sql date|14.03.2025|\n",
    "|sql code|gordselection20250313| "
   ]
  },
  {
   "cell_type": "code",
   "execution_count": 1,
   "id": "2a759161-052f-4433-ab6c-0ad7ab9120e9",
   "metadata": {},
   "outputs": [
    {
     "data": {
      "text/html": [
       "<style>div.jp-Notebook .datagrid-container {min-height: 448px; }</style>"
      ],
      "text/plain": [
       "<IPython.core.display.HTML object>"
      ]
     },
     "metadata": {},
     "output_type": "display_data"
    }
   ],
   "source": [
    "    clear all"
   ]
  },
  {
   "cell_type": "markdown",
   "id": "5e9a592b-20c3-4eb6-b947-22979a02dcf0",
   "metadata": {},
   "source": [
    "### Import from SQL server and data wrangling"
   ]
  },
  {
   "cell_type": "code",
   "execution_count": 2,
   "id": "b5b5eb32-1b5c-44c2-901c-0e9d1a4e36d2",
   "metadata": {},
   "outputs": [],
   "source": [
    "odbc load, exec(\"select * from [gord_425000_20250313]\") dsn(\"sqlserverconnect\")"
   ]
  },
  {
   "cell_type": "code",
   "execution_count": 3,
   "id": "0835f95f-a07b-4d29-b825-b3823bfad60e",
   "metadata": {
    "scrolled": true
   },
   "outputs": [
    {
     "name": "stdout",
     "output_type": "stream",
     "text": [
      "(110,083 missing values generated)\n",
      "(110,083 real changes made)\n",
      "(10,901 missing values generated)\n",
      "(10,901 real changes made)\n",
      "(2,589 missing values generated)\n",
      "variable bnf_code was str6 now str24\n",
      "(778 real changes made)\n",
      "(8,904 real changes made)\n",
      "(7,483 real changes made)\n",
      "(92,587 real changes made)\n",
      "(48 real changes made)\n",
      "(237 real changes made)\n",
      "(42 real changes made)\n",
      "variable ethnicity was str2 now str6\n",
      "(257,981 real changes made)\n",
      "(3,762 real changes made)\n",
      "(23,912 real changes made)\n",
      "(7,430 real changes made)\n",
      "(8,764 real changes made)\n",
      "variable ethnicity was str6 now str7\n",
      "(123,151 real changes made)\n"
     ]
    }
   ],
   "source": [
    "generate test=0 if missing(drug_dt)\n",
    "replace test=1 if ! missing(drug_dt)  \n",
    "\n",
    "generate diag=0 if missing(diag_dt)\n",
    "replace diag=1 if ! missing(diag_dt)  \n",
    "\n",
    "gen start_year=year(fu_start_dt)\n",
    "\n",
    "\n",
    "egen agecat = cut(age), at(16,30,70,120)\n",
    "label def agecat_lab 16 \"Young\" 30 \"0Middle\" 70 \"Elderly\" 120 \"weird\"\n",
    "label values agecat agecat_lab\n",
    "\n",
    "\n",
    "egen yearcat = cut(start_year), at(2004,2010,2016,2025)\n",
    "label def yearcat_lab 2004 \"2004-2009\" 2010 \"2010-2015\" 2016 \"2016-2020\" \n",
    "label values yearcat yearcat_lab\n",
    "\n",
    "egen imdcat = cut(imd_decile), at(0,4,8,11)\n",
    "label def imdcat_lab 0 \"1-3\" 4 \"4-7\" 8 \"8-10\" \n",
    "label values imdcat imdcat_lab\n",
    "\n",
    "replace bnf_code = \"Antacides and simeticone\" if bnf_code== \"010101\"\n",
    "replace bnf_code = \"Alginates\" if bnf_code== \"010102\"\n",
    "replace bnf_code = \"H2receptor antagonists\" if bnf_code== \"010301\"\n",
    "replace bnf_code = \"Proton pump inhibitors\" if bnf_code== \"010305\"\n",
    "replace bnf_code = \"Other/unknown\" if (missing(bnf_code) & ! missing(drug_dt))\n",
    "replace bnf_code = \"Other/unknown\" if inlist(bnf_code, \"010604\",\"020101\",\"020302\",\"020505\",\"020602\",\"020900\",\"021200\")\n",
    "replace bnf_code = \"Other/unknown\" if inlist(bnf_code, \"040303\",\"060201\",\"060402\",\"070402\",\"080304\",\"090101\",\"090201\",\"090604\")\n",
    "\n",
    "\n",
    "\n",
    "\n",
    "\n",
    "replace ethnicity=\"0white\" if ethnicity==\"1\"\n",
    "replace ethnicity=\"Other\" if ethnicity==\"2\"\n",
    "replace ethnicity=\"Other\" if ethnicity==\"3\"\n",
    "replace ethnicity=\"Other\" if ethnicity==\"4\"\n",
    "replace ethnicity=\"Other\" if ethnicity==\"5\"\n",
    "replace ethnicity=\"Missing\" if ethnicity==\"99\"\n",
    "\n",
    "\n",
    "\n",
    "\n",
    "encode bnf_code, generate(bnf_code_values) \n",
    "encode description, generate(description_values)\n",
    "encode ethnicity, generate(ethnicity_values) \n",
    "\n",
    "gen diag_neg=diag==0\n",
    "gen diag_pos=diag==1\n",
    "encode region_name, generate(region) label(regionlbl)\n",
    "encode ethnicity, generate(ethnic)"
   ]
  },
  {
   "cell_type": "code",
   "execution_count": 4,
   "id": "4bb67b58-5460-4077-bd5d-6252a35d7c1e",
   "metadata": {},
   "outputs": [
    {
     "name": "stdout",
     "output_type": "stream",
     "text": [
      "(bin=19, start=16, width=5)\n"
     ]
    },
    {
     "data": {
      "image/png": "[encoded data removed]",
      "text/plain": [
       "<IPython.core.display.Image object>"
      ]
     },
     "metadata": {},
     "output_type": "display_data"
    }
   ],
   "source": [
    "histogram age, width(5)\n"
   ]
  },
  {
   "cell_type": "markdown",
   "id": "cfdd2c1f-86b9-4840-8106-662ce151f20e",
   "metadata": {},
   "source": [
    "This table holds one randomly selected diagnostic code found during the observation period. The table is truncated to only include diagnostic codes with a count of 10 or more."
   ]
  },
  {
   "cell_type": "code",
   "execution_count": 5,
   "id": "6544a018-204b-4fcb-b5ab-d9ec745e764f",
   "metadata": {},
   "outputs": [
    {
     "name": "stdout",
     "output_type": "stream",
     "text": [
      "\n",
      "  +----------------------------------------------------------------------------------+\n",
      "  |                                            description   Freq.   Percent     %<= |\n",
      "  |----------------------------------------------------------------------------------|\n",
      "  |                        Gastroesophageal reflux disease    3341     30.65   30.65 |\n",
      "  |                      Gastro-oesophageal reflux disease    1349     12.38   43.02 |\n",
      "  |                                            Esophagitis     794      7.28   50.31 |\n",
      "  |                                         Gastric reflux     709      6.50   56.81 |\n",
      "  |                                           Oesophagitis     648      5.94   62.76 |\n",
      "  |----------------------------------------------------------------------------------|\n",
      "  |       Gastroesophageal reflux disease with esophagitis     629      5.77   68.53 |\n",
      "  |                                    Reflux oesophagitis     588      5.39   73.92 |\n",
      "  |                                            Acid reflux     563      5.16   79.08 |\n",
      "  |       Oesopheal reflux without mention of oesophagitis     521      4.78   83.86 |\n",
      "  |                                    Barrett's esophagus     439      4.03   87.89 |\n",
      "  |----------------------------------------------------------------------------------|\n",
      "  |    Gastro-oesophageal reflux disease with oesophagitis     301      2.76   90.65 |\n",
      "  |                                   Barrett's oesophagus     205      1.88   92.53 |\n",
      "  |                              Esophageal reflux finding     116      1.06   93.60 |\n",
      "  |                                 Stricture of esophagus      92      0.84   94.44 |\n",
      "  |                                Ulcerative oesophagitis      89      0.82   95.26 |\n",
      "  |----------------------------------------------------------------------------------|\n",
      "  |                                     Ulcer of esophagus      50      0.46   95.72 |\n",
      "  |                                    Ulcer of oesophagus      46      0.42   96.14 |\n",
      "  |    Gastroesophageal reflux disease without esophagitis      42      0.39   96.52 |\n",
      "  |                                Terminal esophageal web      37      0.34   96.86 |\n",
      "  |                     Oesophageal stricture and stenosis      36      0.33   97.19 |\n",
      "  |----------------------------------------------------------------------------------|\n",
      "  |                         Oesophageal reflux observation      32      0.29   97.49 |\n",
      "  |                                  Oesophageal stricture      29      0.27   97.75 |\n",
      "  | Gastro-oesophageal reflux disease without oesophagitis      28      0.26   98.01 |\n",
      "  |                                 Achalasia of esophagus      22      0.20   98.21 |\n",
      "  |                                       Oesophagitis NOS      20      0.18   98.39 |\n",
      "  |----------------------------------------------------------------------------------|\n",
      "  |                             Peptic ulcer of oesophagus      16      0.15   98.54 |\n",
      "  |        Oesophagitis (& [reflux]) or oesophageal reflux      15      0.14   98.68 |\n",
      "  |                           Barrett's ulcer of esophagus      14      0.13   98.81 |\n",
      "  |                                    Achalasia of cardia      11      0.10   98.91 |\n",
      "  |        Gastroesophageal reflux disease with ulceration      11      0.10   99.01 |\n",
      "  |----------------------------------------------------------------------------------|\n",
      "  |                   Barrett's esophagus with esophagitis      10      0.09   99.10 |\n",
      "  |                 Barrett's oesophagus with oesophagitis      10      0.09   99.19 |\n",
      "  |                         Lower oesophageal mucosal ring      10      0.09   99.28 |\n",
      "  +----------------------------------------------------------------------------------+\n"
     ]
    }
   ],
   "source": [
    "set linesize 132\n",
    "groups description , select(f >= 10) ord(h) table "
   ]
  },
  {
   "cell_type": "markdown",
   "id": "7d01eb90-5ca1-4146-aafb-680a81450cc3",
   "metadata": {},
   "source": [
    "These tables holds one randomly selected prescrption during the observation period. The table is truncated to only include codes with a count of 10 or more.\n"
   ]
  },
  {
   "cell_type": "code",
   "execution_count": 6,
   "id": "a4acd83f-5b6a-49e7-8b49-5dc1f78f2d1a",
   "metadata": {},
   "outputs": [
    {
     "name": "stdout",
     "output_type": "stream",
     "text": [
      "\n",
      "  +-----------------------------------------------------+\n",
      "  |                 bnf_code   Freq.   Percent      %<= |\n",
      "  |-----------------------------------------------------|\n",
      "  |   Proton pump inhibitors   92587     84.11    84.11 |\n",
      "  |                Alginates    8904      8.09    92.19 |\n",
      "  |   H2receptor antagonists    7483      6.80    98.99 |\n",
      "  | Antacides and simeticone     778      0.71    99.70 |\n",
      "  |            Other/unknown     327      0.30   100.00 |\n",
      "  +-----------------------------------------------------+\n"
     ]
    }
   ],
   "source": [
    "set linesize 132\n",
    "groups bnf_code , select(f >= 10) ord(h) table "
   ]
  },
  {
   "cell_type": "markdown",
   "id": "67837c2c-bbb5-4681-8000-cd8b3f6cac51",
   "metadata": {},
   "source": [
    "### Results\n",
    "#### Overall"
   ]
  },
  {
   "cell_type": "code",
   "execution_count": 7,
   "id": "733c0f2e-1179-49dc-b95d-48547a864674",
   "metadata": {},
   "outputs": [
    {
     "name": "stdout",
     "output_type": "stream",
     "text": [
      "\n",
      "           |         test\n",
      "      diag |      Pos.       Neg. |     Total\n",
      "-----------+----------------------+----------\n",
      "  Abnormal |    10,388        513 |    10,901 \n",
      "    Normal |    99,695    314,404 |   414,099 \n",
      "-----------+----------------------+----------\n",
      "     Total |   110,083    314,917 |   425,000 \n",
      "True abnormal diagnosis defined as diag = 1\n",
      "\n",
      "\n",
      "                                                  [95% Confidence Interval]\n",
      "---------------------------------------------------------------------------\n",
      "Prevalence                         Pr(A)      2.6%      2.5%       2.6%\n",
      "---------------------------------------------------------------------------\n",
      "Sensitivity                      Pr(+|A)     95.3%     94.9%     95.7%\n",
      "Specificity                      Pr(-|N)     75.9%     75.8%     76.1%\n",
      "ROC area               (Sens. + Spec.)/2      0.86      0.85      0.86 \n",
      "---------------------------------------------------------------------------\n",
      "Likelihood ratio (+)     Pr(+|A)/Pr(+|N)      3.96      3.93      3.99 \n",
      "Likelihood ratio (-)     Pr(-|A)/Pr(-|N)      0.06      0.06      0.07 \n",
      "Odds ratio                   LR(+)/LR(-)     63.86     58.43     69.80 \n",
      "Positive predictive value        Pr(A|+)      9.4%      9.3%      9.6% \n",
      "Negative predictive value        Pr(N|-)     99.8%     99.8%     99.9% \n",
      "---------------------------------------------------------------------------\n"
     ]
    }
   ],
   "source": [
    "diagt diag test"
   ]
  },
  {
   "cell_type": "markdown",
   "id": "b119ffa3-90d8-4e4f-9f8d-30cca2284b37",
   "metadata": {},
   "source": [
    "#### Males"
   ]
  },
  {
   "cell_type": "code",
   "execution_count": 8,
   "id": "81028f5e-4e7a-4bb4-b0f6-71d8d0821075",
   "metadata": {},
   "outputs": [
    {
     "name": "stdout",
     "output_type": "stream",
     "text": [
      "\n",
      "           |         test\n",
      "      diag |      Pos.       Neg. |     Total\n",
      "-----------+----------------------+----------\n",
      "  Abnormal |     4,921        272 |     5,193 \n",
      "    Normal |    43,949    159,143 |   203,092 \n",
      "-----------+----------------------+----------\n",
      "     Total |    48,870    159,415 |   208,285 \n",
      "True abnormal diagnosis defined as diag = 1\n",
      "\n",
      "\n",
      "                                                  [95% Confidence Interval]\n",
      "---------------------------------------------------------------------------\n",
      "Prevalence                         Pr(A)      2.5%      2.4%       2.6%\n",
      "---------------------------------------------------------------------------\n",
      "Sensitivity                      Pr(+|A)     94.8%     94.1%     95.4%\n",
      "Specificity                      Pr(-|N)     78.4%     78.2%     78.5%\n",
      "ROC area               (Sens. + Spec.)/2      0.87      0.86      0.87 \n",
      "---------------------------------------------------------------------------\n",
      "Likelihood ratio (+)     Pr(+|A)/Pr(+|N)      4.38      4.33      4.43 \n",
      "Likelihood ratio (-)     Pr(-|A)/Pr(-|N)      0.07      0.06      0.08 \n",
      "Odds ratio                   LR(+)/LR(-)     65.51     57.96     74.05 \n",
      "Positive predictive value        Pr(A|+)     10.1%      9.8%     10.3% \n",
      "Negative predictive value        Pr(N|-)     99.8%     99.8%     99.8% \n",
      "---------------------------------------------------------------------------\n"
     ]
    }
   ],
   "source": [
    "diagt diag test if sex==1"
   ]
  },
  {
   "cell_type": "markdown",
   "id": "762df1ac-de32-43e9-8cb3-6696c91e2459",
   "metadata": {},
   "source": [
    "#### Females"
   ]
  },
  {
   "cell_type": "code",
   "execution_count": 9,
   "id": "7fc985e3-7757-4908-ae5a-5d346ee7ccb6",
   "metadata": {},
   "outputs": [
    {
     "name": "stdout",
     "output_type": "stream",
     "text": [
      "\n",
      "           |         test\n",
      "      diag |      Pos.       Neg. |     Total\n",
      "-----------+----------------------+----------\n",
      "  Abnormal |     5,467        241 |     5,708 \n",
      "    Normal |    55,745    155,253 |   210,998 \n",
      "-----------+----------------------+----------\n",
      "     Total |    61,212    155,494 |   216,706 \n",
      "True abnormal diagnosis defined as diag = 1\n",
      "\n",
      "\n",
      "                                                  [95% Confidence Interval]\n",
      "---------------------------------------------------------------------------\n",
      "Prevalence                         Pr(A)      2.6%      2.6%       2.7%\n",
      "---------------------------------------------------------------------------\n",
      "Sensitivity                      Pr(+|A)     95.8%     95.2%     96.3%\n",
      "Specificity                      Pr(-|N)     73.6%     73.4%     73.8%\n",
      "ROC area               (Sens. + Spec.)/2      0.85      0.84      0.85 \n",
      "---------------------------------------------------------------------------\n",
      "Likelihood ratio (+)     Pr(+|A)/Pr(+|N)      3.63      3.59      3.66 \n",
      "Likelihood ratio (-)     Pr(-|A)/Pr(-|N)      0.06      0.05      0.06 \n",
      "Odds ratio                   LR(+)/LR(-)     63.18     55.52     71.90 \n",
      "Positive predictive value        Pr(A|+)      8.9%      8.7%      9.2% \n",
      "Negative predictive value        Pr(N|-)     99.8%     99.8%     99.9% \n",
      "---------------------------------------------------------------------------\n"
     ]
    }
   ],
   "source": [
    "diagt diag test if sex==0"
   ]
  },
  {
   "cell_type": "markdown",
   "id": "ab8954a7-060c-4eba-adea-1044fb6bb9ea",
   "metadata": {},
   "source": [
    "#### Age\n",
    "*16-30*"
   ]
  },
  {
   "cell_type": "code",
   "execution_count": 10,
   "id": "f9aa943b-6489-4d70-a905-4aa3b8f2cb6e",
   "metadata": {},
   "outputs": [
    {
     "name": "stdout",
     "output_type": "stream",
     "text": [
      "\n",
      "           |         test\n",
      "      diag |      Pos.       Neg. |     Total\n",
      "-----------+----------------------+----------\n",
      "  Abnormal |     1,320        115 |     1,435 \n",
      "    Normal |    11,518    104,721 |   116,239 \n",
      "-----------+----------------------+----------\n",
      "     Total |    12,838    104,836 |   117,674 \n",
      "True abnormal diagnosis defined as diag = 1\n",
      "\n",
      "\n",
      "                                                  [95% Confidence Interval]\n",
      "---------------------------------------------------------------------------\n",
      "Prevalence                         Pr(A)      1.2%      1.2%       1.3%\n",
      "---------------------------------------------------------------------------\n",
      "Sensitivity                      Pr(+|A)     92.0%     90.5%     93.3%\n",
      "Specificity                      Pr(-|N)     90.1%     89.9%     90.3%\n",
      "ROC area               (Sens. + Spec.)/2      0.91      0.90      0.92 \n",
      "---------------------------------------------------------------------------\n",
      "Likelihood ratio (+)     Pr(+|A)/Pr(+|N)      9.28      9.07      9.50 \n",
      "Likelihood ratio (-)     Pr(-|A)/Pr(-|N)      0.09      0.07      0.11 \n",
      "Odds ratio                   LR(+)/LR(-)    104.36     86.19    126.35 \n",
      "Positive predictive value        Pr(A|+)     10.3%      9.8%     10.8% \n",
      "Negative predictive value        Pr(N|-)     99.9%     99.9%     99.9% \n",
      "---------------------------------------------------------------------------\n"
     ]
    }
   ],
   "source": [
    "diagt diag test if agecat==16"
   ]
  },
  {
   "cell_type": "markdown",
   "id": "999f9154-f87e-44c7-8928-1345fa5c5958",
   "metadata": {},
   "source": [
    "*30-69*"
   ]
  },
  {
   "cell_type": "code",
   "execution_count": 11,
   "id": "6fcb0167-b359-4f24-91e3-a10fb2caa610",
   "metadata": {},
   "outputs": [
    {
     "name": "stdout",
     "output_type": "stream",
     "text": [
      "\n",
      "           |         test\n",
      "      diag |      Pos.       Neg. |     Total\n",
      "-----------+----------------------+----------\n",
      "  Abnormal |     5,897        295 |     6,192 \n",
      "    Normal |    50,135    165,068 |   215,203 \n",
      "-----------+----------------------+----------\n",
      "     Total |    56,032    165,363 |   221,395 \n",
      "True abnormal diagnosis defined as diag = 1\n",
      "\n",
      "\n",
      "                                                  [95% Confidence Interval]\n",
      "---------------------------------------------------------------------------\n",
      "Prevalence                         Pr(A)      2.8%      2.7%       2.9%\n",
      "---------------------------------------------------------------------------\n",
      "Sensitivity                      Pr(+|A)     95.2%     94.7%     95.8%\n",
      "Specificity                      Pr(-|N)     76.7%     76.5%     76.9%\n",
      "ROC area               (Sens. + Spec.)/2      0.86      0.86      0.86 \n",
      "---------------------------------------------------------------------------\n",
      "Likelihood ratio (+)     Pr(+|A)/Pr(+|N)      4.09      4.05      4.13 \n",
      "Likelihood ratio (-)     Pr(-|A)/Pr(-|N)      0.06      0.06      0.07 \n",
      "Odds ratio                   LR(+)/LR(-)     65.82     58.53     74.01 \n",
      "Positive predictive value        Pr(A|+)     10.5%     10.3%     10.8% \n",
      "Negative predictive value        Pr(N|-)     99.8%     99.8%     99.8% \n",
      "---------------------------------------------------------------------------\n"
     ]
    }
   ],
   "source": [
    "diagt diag test if agecat==30"
   ]
  },
  {
   "cell_type": "markdown",
   "id": "10d9753a",
   "metadata": {},
   "source": [
    "*>69*"
   ]
  },
  {
   "cell_type": "code",
   "execution_count": 12,
   "id": "fd782079-4378-4cc3-9a2c-4adb92379d41",
   "metadata": {},
   "outputs": [
    {
     "name": "stdout",
     "output_type": "stream",
     "text": [
      "\n",
      "           |         test\n",
      "      diag |      Pos.       Neg. |     Total\n",
      "-----------+----------------------+----------\n",
      "  Abnormal |     3,171        103 |     3,274 \n",
      "    Normal |    38,042     44,615 |    82,657 \n",
      "-----------+----------------------+----------\n",
      "     Total |    41,213     44,718 |    85,931 \n",
      "True abnormal diagnosis defined as diag = 1\n",
      "\n",
      "\n",
      "                                                  [95% Confidence Interval]\n",
      "---------------------------------------------------------------------------\n",
      "Prevalence                         Pr(A)      3.8%      3.7%       3.9%\n",
      "---------------------------------------------------------------------------\n",
      "Sensitivity                      Pr(+|A)     96.9%     96.2%     97.4%\n",
      "Specificity                      Pr(-|N)     54.0%     53.6%     54.3%\n",
      "ROC area               (Sens. + Spec.)/2      0.75      0.75      0.76 \n",
      "---------------------------------------------------------------------------\n",
      "Likelihood ratio (+)     Pr(+|A)/Pr(+|N)      2.10      2.08      2.12 \n",
      "Likelihood ratio (-)     Pr(-|A)/Pr(-|N)      0.06      0.05      0.07 \n",
      "Odds ratio                   LR(+)/LR(-)     36.11     29.67     43.94 \n",
      "Positive predictive value        Pr(A|+)      7.7%      7.4%      8.0% \n",
      "Negative predictive value        Pr(N|-)     99.8%     99.7%     99.8% \n",
      "---------------------------------------------------------------------------\n"
     ]
    }
   ],
   "source": [
    "diagt diag test if agecat==70"
   ]
  },
  {
   "cell_type": "markdown",
   "id": "23455479-0f98-4886-a36c-770376084911",
   "metadata": {},
   "source": [
    "#### Year at start of oberservation period \n",
    "*2004-2009*"
   ]
  },
  {
   "cell_type": "code",
   "execution_count": 13,
   "id": "9c58ecee-bd42-47a9-ad46-f51305e689bf",
   "metadata": {},
   "outputs": [
    {
     "name": "stdout",
     "output_type": "stream",
     "text": [
      "\n",
      "           |         test\n",
      "      diag |      Pos.       Neg. |     Total\n",
      "-----------+----------------------+----------\n",
      "  Abnormal |     3,969        186 |     4,155 \n",
      "    Normal |    32,761    113,084 |   145,845 \n",
      "-----------+----------------------+----------\n",
      "     Total |    36,730    113,270 |   150,000 \n",
      "True abnormal diagnosis defined as diag = 1\n",
      "\n",
      "\n",
      "                                                  [95% Confidence Interval]\n",
      "---------------------------------------------------------------------------\n",
      "Prevalence                         Pr(A)      2.8%      2.7%       2.9%\n",
      "---------------------------------------------------------------------------\n",
      "Sensitivity                      Pr(+|A)     95.5%     94.8%     96.1%\n",
      "Specificity                      Pr(-|N)     77.5%     77.3%     77.8%\n",
      "ROC area               (Sens. + Spec.)/2      0.87      0.86      0.87 \n",
      "---------------------------------------------------------------------------\n",
      "Likelihood ratio (+)     Pr(+|A)/Pr(+|N)      4.25      4.20      4.30 \n",
      "Likelihood ratio (-)     Pr(-|A)/Pr(-|N)      0.06      0.05      0.07 \n",
      "Odds ratio                   LR(+)/LR(-)     73.66     63.56     85.36 \n",
      "Positive predictive value        Pr(A|+)     10.8%     10.5%     11.1% \n",
      "Negative predictive value        Pr(N|-)     99.8%     99.8%     99.9% \n",
      "---------------------------------------------------------------------------\n"
     ]
    }
   ],
   "source": [
    "diagt diag test if yearcat==2004"
   ]
  },
  {
   "cell_type": "markdown",
   "id": "d9f3db50-6898-4b47-81ef-4ea609bb28d8",
   "metadata": {},
   "source": [
    "*2010-2015*"
   ]
  },
  {
   "cell_type": "code",
   "execution_count": 14,
   "id": "6b326410-d900-498f-b736-4ced1ea7fa5d",
   "metadata": {},
   "outputs": [
    {
     "name": "stdout",
     "output_type": "stream",
     "text": [
      "\n",
      "           |         test\n",
      "      diag |      Pos.       Neg. |     Total\n",
      "-----------+----------------------+----------\n",
      "  Abnormal |     3,780        158 |     3,938 \n",
      "    Normal |    36,457    109,605 |   146,062 \n",
      "-----------+----------------------+----------\n",
      "     Total |    40,237    109,763 |   150,000 \n",
      "True abnormal diagnosis defined as diag = 1\n",
      "\n",
      "\n",
      "                                                  [95% Confidence Interval]\n",
      "---------------------------------------------------------------------------\n",
      "Prevalence                         Pr(A)      2.6%      2.5%       2.7%\n",
      "---------------------------------------------------------------------------\n",
      "Sensitivity                      Pr(+|A)     96.0%     95.3%     96.6%\n",
      "Specificity                      Pr(-|N)     75.0%     74.8%     75.3%\n",
      "ROC area               (Sens. + Spec.)/2      0.86      0.85      0.86 \n",
      "---------------------------------------------------------------------------\n",
      "Likelihood ratio (+)     Pr(+|A)/Pr(+|N)      3.85      3.80      3.89 \n",
      "Likelihood ratio (-)     Pr(-|A)/Pr(-|N)      0.05      0.05      0.06 \n",
      "Odds ratio                   LR(+)/LR(-)     71.93     61.33     84.36 \n",
      "Positive predictive value        Pr(A|+)      9.4%      9.1%      9.7% \n",
      "Negative predictive value        Pr(N|-)     99.9%     99.8%     99.9% \n",
      "---------------------------------------------------------------------------\n"
     ]
    }
   ],
   "source": [
    "diagt diag test if yearcat==2010"
   ]
  },
  {
   "cell_type": "markdown",
   "id": "1546a4d9-adee-4208-88e0-3b6aa4d3d14c",
   "metadata": {},
   "source": [
    "*2016-2020*"
   ]
  },
  {
   "cell_type": "code",
   "execution_count": 15,
   "id": "dddfe5ba-1a16-4afc-91e5-cbffb4f25b77",
   "metadata": {},
   "outputs": [
    {
     "name": "stdout",
     "output_type": "stream",
     "text": [
      "\n",
      "           |         test\n",
      "      diag |      Pos.       Neg. |     Total\n",
      "-----------+----------------------+----------\n",
      "  Abnormal |     2,639        169 |     2,808 \n",
      "    Normal |    30,477     91,715 |   122,192 \n",
      "-----------+----------------------+----------\n",
      "     Total |    33,116     91,884 |   125,000 \n",
      "True abnormal diagnosis defined as diag = 1\n",
      "\n",
      "\n",
      "                                                  [95% Confidence Interval]\n",
      "---------------------------------------------------------------------------\n",
      "Prevalence                         Pr(A)      2.2%      2.2%       2.3%\n",
      "---------------------------------------------------------------------------\n",
      "Sensitivity                      Pr(+|A)     94.0%     93.0%     94.8%\n",
      "Specificity                      Pr(-|N)     75.1%     74.8%     75.3%\n",
      "ROC area               (Sens. + Spec.)/2      0.85      0.84      0.85 \n",
      "---------------------------------------------------------------------------\n",
      "Likelihood ratio (+)     Pr(+|A)/Pr(+|N)      3.77      3.72      3.82 \n",
      "Likelihood ratio (-)     Pr(-|A)/Pr(-|N)      0.08      0.07      0.09 \n",
      "Odds ratio                   LR(+)/LR(-)     46.99     40.21     54.92 \n",
      "Positive predictive value        Pr(A|+)      8.0%      7.7%      8.3% \n",
      "Negative predictive value        Pr(N|-)     99.8%     99.8%     99.8% \n",
      "---------------------------------------------------------------------------\n"
     ]
    }
   ],
   "source": [
    "diagt diag test if yearcat==2016"
   ]
  },
  {
   "cell_type": "markdown",
   "id": "9318e823-cf06-4695-a86c-8b96ace454c5",
   "metadata": {},
   "source": [
    "#### IMD of practice\n",
    "*1-3*"
   ]
  },
  {
   "cell_type": "code",
   "execution_count": 16,
   "id": "0c48ed3a-ce83-4c14-9447-6c52d4d82ed3",
   "metadata": {},
   "outputs": [
    {
     "name": "stdout",
     "output_type": "stream",
     "text": [
      "\n",
      "           |         test\n",
      "      diag |      Pos.       Neg. |     Total\n",
      "-----------+----------------------+----------\n",
      "  Abnormal |     3,789        199 |     3,988 \n",
      "    Normal |    36,966    113,597 |   150,563 \n",
      "-----------+----------------------+----------\n",
      "     Total |    40,755    113,796 |   154,551 \n",
      "True abnormal diagnosis defined as diag = 1\n",
      "\n",
      "\n",
      "                                                  [95% Confidence Interval]\n",
      "---------------------------------------------------------------------------\n",
      "Prevalence                         Pr(A)      2.6%      2.5%       2.7%\n",
      "---------------------------------------------------------------------------\n",
      "Sensitivity                      Pr(+|A)     95.0%     94.3%     95.7%\n",
      "Specificity                      Pr(-|N)     75.4%     75.2%     75.7%\n",
      "ROC area               (Sens. + Spec.)/2      0.85      0.85      0.86 \n",
      "---------------------------------------------------------------------------\n",
      "Likelihood ratio (+)     Pr(+|A)/Pr(+|N)      3.87      3.83      3.91 \n",
      "Likelihood ratio (-)     Pr(-|A)/Pr(-|N)      0.07      0.06      0.08 \n",
      "Odds ratio                   LR(+)/LR(-)     58.51     50.72     67.50 \n",
      "Positive predictive value        Pr(A|+)      9.3%      9.0%      9.6% \n",
      "Negative predictive value        Pr(N|-)     99.8%     99.8%     99.8% \n",
      "---------------------------------------------------------------------------\n"
     ]
    }
   ],
   "source": [
    "diagt diag test if imdcat==0"
   ]
  },
  {
   "cell_type": "markdown",
   "id": "cc20d8e3-26a9-4217-989b-54c2c73d0386",
   "metadata": {},
   "source": [
    "*4-7*"
   ]
  },
  {
   "cell_type": "code",
   "execution_count": 17,
   "id": "2f034372-ceb8-4f41-bd39-9d6ef321a64a",
   "metadata": {},
   "outputs": [
    {
     "name": "stdout",
     "output_type": "stream",
     "text": [
      "\n",
      "           |         test\n",
      "      diag |      Pos.       Neg. |     Total\n",
      "-----------+----------------------+----------\n",
      "  Abnormal |     3,644        154 |     3,798 \n",
      "    Normal |    35,435    103,812 |   139,247 \n",
      "-----------+----------------------+----------\n",
      "     Total |    39,079    103,966 |   143,045 \n",
      "True abnormal diagnosis defined as diag = 1\n",
      "\n",
      "\n",
      "                                                  [95% Confidence Interval]\n",
      "---------------------------------------------------------------------------\n",
      "Prevalence                         Pr(A)      2.7%      2.6%       2.7%\n",
      "---------------------------------------------------------------------------\n",
      "Sensitivity                      Pr(+|A)     95.9%     95.3%     96.6%\n",
      "Specificity                      Pr(-|N)     74.6%     74.3%     74.8%\n",
      "ROC area               (Sens. + Spec.)/2      0.85      0.85      0.86 \n",
      "---------------------------------------------------------------------------\n",
      "Likelihood ratio (+)     Pr(+|A)/Pr(+|N)      3.77      3.73      3.81 \n",
      "Likelihood ratio (-)     Pr(-|A)/Pr(-|N)      0.05      0.05      0.06 \n",
      "Odds ratio                   LR(+)/LR(-)     69.32     58.98     81.47 \n",
      "Positive predictive value        Pr(A|+)      9.3%      9.0%      9.6% \n",
      "Negative predictive value        Pr(N|-)     99.9%     99.8%     99.9% \n",
      "---------------------------------------------------------------------------\n"
     ]
    }
   ],
   "source": [
    "diagt diag test if imdcat==4"
   ]
  },
  {
   "cell_type": "markdown",
   "id": "a843bc14-ff1a-4435-a50c-c9769b8c3d3b",
   "metadata": {},
   "source": [
    "*8-10*"
   ]
  },
  {
   "cell_type": "code",
   "execution_count": 18,
   "id": "e52a500d-f3cf-4da6-997c-bbc1e902d199",
   "metadata": {},
   "outputs": [
    {
     "name": "stdout",
     "output_type": "stream",
     "text": [
      "\n",
      "           |         test\n",
      "      diag |      Pos.       Neg. |     Total\n",
      "-----------+----------------------+----------\n",
      "  Abnormal |     2,912        153 |     3,065 \n",
      "    Normal |    27,080     94,670 |   121,750 \n",
      "-----------+----------------------+----------\n",
      "     Total |    29,992     94,823 |   124,815 \n",
      "True abnormal diagnosis defined as diag = 1\n",
      "\n",
      "\n",
      "                                                  [95% Confidence Interval]\n",
      "---------------------------------------------------------------------------\n",
      "Prevalence                         Pr(A)      2.5%      2.4%       2.5%\n",
      "---------------------------------------------------------------------------\n",
      "Sensitivity                      Pr(+|A)     95.0%     94.2%     95.8%\n",
      "Specificity                      Pr(-|N)     77.8%     77.5%     78.0%\n",
      "ROC area               (Sens. + Spec.)/2      0.86      0.86      0.87 \n",
      "---------------------------------------------------------------------------\n",
      "Likelihood ratio (+)     Pr(+|A)/Pr(+|N)      4.27      4.22      4.33 \n",
      "Likelihood ratio (-)     Pr(-|A)/Pr(-|N)      0.06      0.06      0.07 \n",
      "Odds ratio                   LR(+)/LR(-)     66.54     56.53     78.31 \n",
      "Positive predictive value        Pr(A|+)      9.7%      9.4%     10.0% \n",
      "Negative predictive value        Pr(N|-)     99.8%     99.8%     99.9% \n",
      "---------------------------------------------------------------------------\n"
     ]
    }
   ],
   "source": [
    "diagt diag test if imdcat==8"
   ]
  },
  {
   "cell_type": "markdown",
   "id": "cbbde183-5b60-4618-a548-81135cae76a0",
   "metadata": {},
   "source": [
    "#### Commissioning Regions\n",
    "EAST OF ENGLAND"
   ]
  },
  {
   "cell_type": "code",
   "execution_count": 19,
   "id": "1254da50-3ca4-47a1-b4d8-e07c6d920177",
   "metadata": {},
   "outputs": [
    {
     "name": "stdout",
     "output_type": "stream",
     "text": [
      "\n",
      "           |         test\n",
      "      diag |      Pos.       Neg. |     Total\n",
      "-----------+----------------------+----------\n",
      "  Abnormal |     2,297        109 |     2,406 \n",
      "    Normal |    22,003     65,228 |    87,231 \n",
      "-----------+----------------------+----------\n",
      "     Total |    24,300     65,337 |    89,637 \n",
      "True abnormal diagnosis defined as diag = 1\n",
      "\n",
      "\n",
      "                                                  [95% Confidence Interval]\n",
      "---------------------------------------------------------------------------\n",
      "Prevalence                         Pr(A)      2.7%      2.6%       2.8%\n",
      "---------------------------------------------------------------------------\n",
      "Sensitivity                      Pr(+|A)     95.5%     94.6%     96.3%\n",
      "Specificity                      Pr(-|N)     74.8%     74.5%     75.1%\n",
      "ROC area               (Sens. + Spec.)/2      0.85      0.85      0.86 \n",
      "---------------------------------------------------------------------------\n",
      "Likelihood ratio (+)     Pr(+|A)/Pr(+|N)      3.78      3.73      3.84 \n",
      "Likelihood ratio (-)     Pr(-|A)/Pr(-|N)      0.06      0.05      0.07 \n",
      "Odds ratio                   LR(+)/LR(-)     62.47     51.54     75.73 \n",
      "Positive predictive value        Pr(A|+)      9.5%      9.1%      9.8% \n",
      "Negative predictive value        Pr(N|-)     99.8%     99.8%     99.9% \n",
      "---------------------------------------------------------------------------\n"
     ]
    }
   ],
   "source": [
    "diagt diag test if regexm(region_name,\"ENGLAND\")==1"
   ]
  },
  {
   "cell_type": "markdown",
   "id": "b2f2b2c7-4c3b-4ae5-ad03-8edfbc58938d",
   "metadata": {},
   "source": [
    "London"
   ]
  },
  {
   "cell_type": "code",
   "execution_count": 20,
   "id": "18195511-cedc-42b1-8bae-bc6621364814",
   "metadata": {},
   "outputs": [
    {
     "name": "stdout",
     "output_type": "stream",
     "text": [
      "\n",
      "           |         test\n",
      "      diag |      Pos.       Neg. |     Total\n",
      "-----------+----------------------+----------\n",
      "  Abnormal |       278         28 |       306 \n",
      "    Normal |     2,486     13,933 |    16,419 \n",
      "-----------+----------------------+----------\n",
      "     Total |     2,764     13,961 |    16,725 \n",
      "True abnormal diagnosis defined as diag = 1\n",
      "\n",
      "\n",
      "                                                  [95% Confidence Interval]\n",
      "---------------------------------------------------------------------------\n",
      "Prevalence                         Pr(A)      1.8%      1.6%       2.0%\n",
      "---------------------------------------------------------------------------\n",
      "Sensitivity                      Pr(+|A)     90.8%     87.0%     93.8%\n",
      "Specificity                      Pr(-|N)     84.9%     84.3%     85.4%\n",
      "ROC area               (Sens. + Spec.)/2      0.88      0.86      0.89 \n",
      "---------------------------------------------------------------------------\n",
      "Likelihood ratio (+)     Pr(+|A)/Pr(+|N)      6.00      5.70      6.31 \n",
      "Likelihood ratio (-)     Pr(-|A)/Pr(-|N)      0.11      0.08      0.15 \n",
      "Odds ratio                   LR(+)/LR(-)     55.65     37.73     82.07 \n",
      "Positive predictive value        Pr(A|+)     10.1%      9.0%     11.2% \n",
      "Negative predictive value        Pr(N|-)     99.8%     99.7%     99.9% \n",
      "---------------------------------------------------------------------------\n"
     ]
    }
   ],
   "source": [
    "diagt diag test if regexm(region_name,\"LONDON\")==1"
   ]
  },
  {
   "cell_type": "markdown",
   "id": "1a78f370-7ebd-4e70-b301-73c6e75003fd",
   "metadata": {},
   "source": [
    "Midlands"
   ]
  },
  {
   "cell_type": "code",
   "execution_count": 21,
   "id": "265ce394-6410-4e76-a064-ec3d32c30eee",
   "metadata": {},
   "outputs": [
    {
     "name": "stdout",
     "output_type": "stream",
     "text": [
      "\n",
      "           |         test\n",
      "      diag |      Pos.       Neg. |     Total\n",
      "-----------+----------------------+----------\n",
      "  Abnormal |     1,269         57 |     1,326 \n",
      "    Normal |    12,189     33,028 |    45,217 \n",
      "-----------+----------------------+----------\n",
      "     Total |    13,458     33,085 |    46,543 \n",
      "True abnormal diagnosis defined as diag = 1\n",
      "\n",
      "\n",
      "                                                  [95% Confidence Interval]\n",
      "---------------------------------------------------------------------------\n",
      "Prevalence                         Pr(A)      2.8%      2.7%       3.0%\n",
      "---------------------------------------------------------------------------\n",
      "Sensitivity                      Pr(+|A)     95.7%     94.5%     96.7%\n",
      "Specificity                      Pr(-|N)     73.0%     72.6%     73.5%\n",
      "ROC area               (Sens. + Spec.)/2      0.84      0.84      0.85 \n",
      "---------------------------------------------------------------------------\n",
      "Likelihood ratio (+)     Pr(+|A)/Pr(+|N)      3.55      3.48      3.62 \n",
      "Likelihood ratio (-)     Pr(-|A)/Pr(-|N)      0.06      0.05      0.08 \n",
      "Odds ratio                   LR(+)/LR(-)     60.33     46.26     78.66 \n",
      "Positive predictive value        Pr(A|+)      9.4%      8.9%      9.9% \n",
      "Negative predictive value        Pr(N|-)     99.8%     99.8%     99.9% \n",
      "---------------------------------------------------------------------------\n"
     ]
    }
   ],
   "source": [
    "diagt diag test if regexm(region_name,\"MID\")==1"
   ]
  },
  {
   "cell_type": "markdown",
   "id": "0769a779-b7ae-4496-9ed2-a6feb1a1a94a",
   "metadata": {},
   "source": [
    "Yorkshire"
   ]
  },
  {
   "cell_type": "code",
   "execution_count": 22,
   "id": "83d73532-38e7-4fb2-a39b-5c1ef1b5b717",
   "metadata": {},
   "outputs": [
    {
     "name": "stdout",
     "output_type": "stream",
     "text": [
      "\n",
      "           |         test\n",
      "      diag |      Pos.       Neg. |     Total\n",
      "-----------+----------------------+----------\n",
      "  Abnormal |     2,196        115 |     2,311 \n",
      "    Normal |    21,000     62,800 |    83,800 \n",
      "-----------+----------------------+----------\n",
      "     Total |    23,196     62,915 |    86,111 \n",
      "True abnormal diagnosis defined as diag = 1\n",
      "\n",
      "\n",
      "                                                  [95% Confidence Interval]\n",
      "---------------------------------------------------------------------------\n",
      "Prevalence                         Pr(A)      2.7%      2.6%       2.8%\n",
      "---------------------------------------------------------------------------\n",
      "Sensitivity                      Pr(+|A)     95.0%     94.1%     95.9%\n",
      "Specificity                      Pr(-|N)     74.9%     74.6%     75.2%\n",
      "ROC area               (Sens. + Spec.)/2      0.85      0.85      0.85 \n",
      "---------------------------------------------------------------------------\n",
      "Likelihood ratio (+)     Pr(+|A)/Pr(+|N)      3.79      3.74      3.85 \n",
      "Likelihood ratio (-)     Pr(-|A)/Pr(-|N)      0.07      0.06      0.08 \n",
      "Odds ratio                   LR(+)/LR(-)     57.11     47.32     68.91 \n",
      "Positive predictive value        Pr(A|+)      9.5%      9.1%      9.9% \n",
      "Negative predictive value        Pr(N|-)     99.8%     99.8%     99.8% \n",
      "---------------------------------------------------------------------------\n"
     ]
    }
   ],
   "source": [
    "diagt diag test if regexm(region_name,\"YORK\")==1"
   ]
  },
  {
   "cell_type": "markdown",
   "id": "247339ad-15c3-4ac2-9458-c8b14082ff8c",
   "metadata": {},
   "source": [
    "North West"
   ]
  },
  {
   "cell_type": "code",
   "execution_count": 23,
   "id": "f9ddd2b2-2aa8-49c0-8d9b-ac27a3db55be",
   "metadata": {},
   "outputs": [
    {
     "name": "stdout",
     "output_type": "stream",
     "text": [
      "\n",
      "           |         test\n",
      "      diag |      Pos.       Neg. |     Total\n",
      "-----------+----------------------+----------\n",
      "  Abnormal |     1,287         68 |     1,355 \n",
      "    Normal |    10,034     36,204 |    46,238 \n",
      "-----------+----------------------+----------\n",
      "     Total |    11,321     36,272 |    47,593 \n",
      "True abnormal diagnosis defined as diag = 1\n",
      "\n",
      "\n",
      "                                                  [95% Confidence Interval]\n",
      "---------------------------------------------------------------------------\n",
      "Prevalence                         Pr(A)      2.8%      2.7%       3.0%\n",
      "---------------------------------------------------------------------------\n",
      "Sensitivity                      Pr(+|A)     95.0%     93.7%     96.1%\n",
      "Specificity                      Pr(-|N)     78.3%     77.9%     78.7%\n",
      "ROC area               (Sens. + Spec.)/2      0.87      0.86      0.87 \n",
      "---------------------------------------------------------------------------\n",
      "Likelihood ratio (+)     Pr(+|A)/Pr(+|N)      4.38      4.29      4.47 \n",
      "Likelihood ratio (-)     Pr(-|A)/Pr(-|N)      0.06      0.05      0.08 \n",
      "Odds ratio                   LR(+)/LR(-)     68.29     53.49     87.18 \n",
      "Positive predictive value        Pr(A|+)     11.4%     10.8%     12.0% \n",
      "Negative predictive value        Pr(N|-)     99.8%     99.8%     99.9% \n",
      "---------------------------------------------------------------------------\n"
     ]
    }
   ],
   "source": [
    "diagt diag test if regexm(region_name,\"NORTH\")==1 & regexm(region_name,\"WEST\")==1"
   ]
  },
  {
   "cell_type": "markdown",
   "id": "cac4bda2-216c-4294-ab6d-5338aa93d23c",
   "metadata": {},
   "source": [
    "South East"
   ]
  },
  {
   "cell_type": "code",
   "execution_count": 24,
   "id": "883a5bf4-de79-4ba9-9bb2-95f85e3bccb3",
   "metadata": {},
   "outputs": [
    {
     "name": "stdout",
     "output_type": "stream",
     "text": [
      "\n",
      "           |         test\n",
      "      diag |      Pos.       Neg. |     Total\n",
      "-----------+----------------------+----------\n",
      "  Abnormal |     1,995         99 |     2,094 \n",
      "    Normal |    19,335     69,056 |    88,391 \n",
      "-----------+----------------------+----------\n",
      "     Total |    21,330     69,155 |    90,485 \n",
      "True abnormal diagnosis defined as diag = 1\n",
      "\n",
      "\n",
      "                                                  [95% Confidence Interval]\n",
      "---------------------------------------------------------------------------\n",
      "Prevalence                         Pr(A)      2.3%      2.2%       2.4%\n",
      "---------------------------------------------------------------------------\n",
      "Sensitivity                      Pr(+|A)     95.3%     94.3%     96.1%\n",
      "Specificity                      Pr(-|N)     78.1%     77.9%     78.4%\n",
      "ROC area               (Sens. + Spec.)/2      0.87      0.86      0.87 \n",
      "---------------------------------------------------------------------------\n",
      "Likelihood ratio (+)     Pr(+|A)/Pr(+|N)      4.36      4.29      4.42 \n",
      "Likelihood ratio (-)     Pr(-|A)/Pr(-|N)      0.06      0.05      0.07 \n",
      "Odds ratio                   LR(+)/LR(-)     71.97     58.80     88.09 \n",
      "Positive predictive value        Pr(A|+)      9.4%      9.0%      9.8% \n",
      "Negative predictive value        Pr(N|-)     99.9%     99.8%     99.9% \n",
      "---------------------------------------------------------------------------\n"
     ]
    }
   ],
   "source": [
    "diagt diag test if regexm(region_name,\"SOUTH\")==1 & regexm(region_name,\"EAST\")==1"
   ]
  },
  {
   "cell_type": "markdown",
   "id": "c31c4086-ecd2-43b5-a175-a49e64a0593a",
   "metadata": {},
   "source": [
    "South West"
   ]
  },
  {
   "cell_type": "code",
   "execution_count": 25,
   "id": "db24609a-c78c-4959-8f77-be636e5b8a66",
   "metadata": {},
   "outputs": [
    {
     "name": "stdout",
     "output_type": "stream",
     "text": [
      "\n",
      "           |         test\n",
      "      diag |      Pos.       Neg. |     Total\n",
      "-----------+----------------------+----------\n",
      "  Abnormal |       823         30 |       853 \n",
      "    Normal |     9,977     25,346 |    35,323 \n",
      "-----------+----------------------+----------\n",
      "     Total |    10,800     25,376 |    36,176 \n",
      "True abnormal diagnosis defined as diag = 1\n",
      "\n",
      "\n",
      "                                                  [95% Confidence Interval]\n",
      "---------------------------------------------------------------------------\n",
      "Prevalence                         Pr(A)      2.4%      2.2%       2.5%\n",
      "---------------------------------------------------------------------------\n",
      "Sensitivity                      Pr(+|A)     96.5%     95.0%     97.6%\n",
      "Specificity                      Pr(-|N)     71.8%     71.3%     72.2%\n",
      "ROC area               (Sens. + Spec.)/2      0.84      0.83      0.85 \n",
      "---------------------------------------------------------------------------\n",
      "Likelihood ratio (+)     Pr(+|A)/Pr(+|N)      3.42      3.34      3.49 \n",
      "Likelihood ratio (-)     Pr(-|A)/Pr(-|N)      0.05      0.03      0.07 \n",
      "Odds ratio                   LR(+)/LR(-)     69.69     48.48    100.20 \n",
      "Positive predictive value        Pr(A|+)      7.6%      7.1%      8.1% \n",
      "Negative predictive value        Pr(N|-)     99.9%     99.8%     99.9% \n",
      "---------------------------------------------------------------------------\n"
     ]
    }
   ],
   "source": [
    "diagt diag test if regexm(region_name,\"SOUTH\")==1 & regexm(region_name,\"WEST\")==1"
   ]
  },
  {
   "cell_type": "markdown",
   "id": "cf33efae-dc21-4b1a-b169-9eaea69c1161",
   "metadata": {},
   "source": [
    "#### System\n",
    "SystmOne"
   ]
  },
  {
   "cell_type": "code",
   "execution_count": 26,
   "id": "26573dfb-79dc-4647-88a6-e19dac9eca61",
   "metadata": {},
   "outputs": [
    {
     "name": "stdout",
     "output_type": "stream",
     "text": [
      "\n",
      "           |         test\n",
      "      diag |      Pos.       Neg. |     Total\n",
      "-----------+----------------------+----------\n",
      "  Abnormal |     5,662        276 |     5,938 \n",
      "    Normal |    58,024    164,793 |   222,817 \n",
      "-----------+----------------------+----------\n",
      "     Total |    63,686    165,069 |   228,755 \n",
      "True abnormal diagnosis defined as diag = 1\n",
      "\n",
      "\n",
      "                                                  [95% Confidence Interval]\n",
      "---------------------------------------------------------------------------\n",
      "Prevalence                         Pr(A)      2.6%      2.5%       2.7%\n",
      "---------------------------------------------------------------------------\n",
      "Sensitivity                      Pr(+|A)     95.4%     94.8%     95.9%\n",
      "Specificity                      Pr(-|N)     74.0%     73.8%     74.1%\n",
      "ROC area               (Sens. + Spec.)/2      0.85      0.84      0.85 \n",
      "---------------------------------------------------------------------------\n",
      "Likelihood ratio (+)     Pr(+|A)/Pr(+|N)      3.66      3.63      3.69 \n",
      "Likelihood ratio (-)     Pr(-|A)/Pr(-|N)      0.06      0.06      0.07 \n",
      "Odds ratio                   LR(+)/LR(-)     58.26     51.62     65.76 \n",
      "Positive predictive value        Pr(A|+)      8.9%      8.7%      9.1% \n",
      "Negative predictive value        Pr(N|-)     99.8%     99.8%     99.9% \n",
      "---------------------------------------------------------------------------\n"
     ]
    }
   ],
   "source": [
    "diagt diag test if regexm(system,\"One\")==1"
   ]
  },
  {
   "cell_type": "markdown",
   "id": "b561f033-d2f3-4c95-ad3f-03b8c65647ea",
   "metadata": {},
   "source": [
    "Vision"
   ]
  },
  {
   "cell_type": "code",
   "execution_count": 27,
   "id": "6bed6f81-5fd6-418e-94ff-96d2de419d3d",
   "metadata": {},
   "outputs": [
    {
     "name": "stdout",
     "output_type": "stream",
     "text": [
      "\n",
      "           |         test\n",
      "      diag |      Pos.       Neg. |     Total\n",
      "-----------+----------------------+----------\n",
      "  Abnormal |       324          9 |       333 \n",
      "    Normal |     3,201     10,210 |    13,411 \n",
      "-----------+----------------------+----------\n",
      "     Total |     3,525     10,219 |    13,744 \n",
      "True abnormal diagnosis defined as diag = 1\n",
      "\n",
      "\n",
      "                                                  [95% Confidence Interval]\n",
      "---------------------------------------------------------------------------\n",
      "Prevalence                         Pr(A)      2.4%      2.2%       2.7%\n",
      "---------------------------------------------------------------------------\n",
      "Sensitivity                      Pr(+|A)     97.3%     94.9%     98.8%\n",
      "Specificity                      Pr(-|N)     76.1%     75.4%     76.9%\n",
      "ROC area               (Sens. + Spec.)/2      0.87      0.86      0.88 \n",
      "---------------------------------------------------------------------------\n",
      "Likelihood ratio (+)     Pr(+|A)/Pr(+|N)      4.08      3.94      4.22 \n",
      "Likelihood ratio (-)     Pr(-|A)/Pr(-|N)      0.04      0.02      0.07 \n",
      "Odds ratio                   LR(+)/LR(-)    114.83     59.83    220.37 \n",
      "Positive predictive value        Pr(A|+)      9.2%      8.3%     10.2% \n",
      "Negative predictive value        Pr(N|-)     99.9%     99.8%    100.0% \n",
      "---------------------------------------------------------------------------\n"
     ]
    }
   ],
   "source": [
    "diagt diag test if regexm(system,\"Vision\")==1"
   ]
  },
  {
   "cell_type": "markdown",
   "id": "65d9cefb-fbb5-4500-8ed3-52074d4e12ad",
   "metadata": {},
   "source": [
    "EMIS"
   ]
  },
  {
   "cell_type": "code",
   "execution_count": 28,
   "id": "18d50bfe-f5c4-4ecb-b822-0d06e3b29224",
   "metadata": {},
   "outputs": [
    {
     "name": "stdout",
     "output_type": "stream",
     "text": [
      "\n",
      "           |         test\n",
      "      diag |      Pos.       Neg. |     Total\n",
      "-----------+----------------------+----------\n",
      "  Abnormal |     4,399        227 |     4,626 \n",
      "    Normal |    38,427    139,312 |   177,739 \n",
      "-----------+----------------------+----------\n",
      "     Total |    42,826    139,539 |   182,365 \n",
      "True abnormal diagnosis defined as diag = 1\n",
      "\n",
      "\n",
      "                                                  [95% Confidence Interval]\n",
      "---------------------------------------------------------------------------\n",
      "Prevalence                         Pr(A)      2.5%      2.5%       2.6%\n",
      "---------------------------------------------------------------------------\n",
      "Sensitivity                      Pr(+|A)     95.1%     94.4%     95.7%\n",
      "Specificity                      Pr(-|N)     78.4%     78.2%     78.6%\n",
      "ROC area               (Sens. + Spec.)/2      0.87      0.86      0.87 \n",
      "---------------------------------------------------------------------------\n",
      "Likelihood ratio (+)     Pr(+|A)/Pr(+|N)      4.40      4.35      4.45 \n",
      "Likelihood ratio (-)     Pr(-|A)/Pr(-|N)      0.06      0.06      0.07 \n",
      "Odds ratio                   LR(+)/LR(-)     70.26     61.46     80.31 \n",
      "Positive predictive value        Pr(A|+)     10.3%     10.0%     10.6% \n",
      "Negative predictive value        Pr(N|-)     99.8%     99.8%     99.9% \n",
      "---------------------------------------------------------------------------\n"
     ]
    }
   ],
   "source": [
    "diagt diag test if regexm(ustrupper(system),\"EMIS\")==1"
   ]
  },
  {
   "cell_type": "code",
   "execution_count": null,
   "id": "654b6659-0a73-4736-bc15-7bf926554432",
   "metadata": {},
   "outputs": [],
   "source": []
  },
  {
   "cell_type": "markdown",
   "id": "5cc0b78d-d049-4645-a6f4-e02b49b379db",
   "metadata": {},
   "source": [
    "#### RA_Index\n",
    "Index==1"
   ]
  },
  {
   "cell_type": "code",
   "execution_count": 29,
   "id": "9fa490cd-9380-44bc-8218-9f2193f09aee",
   "metadata": {},
   "outputs": [
    {
     "name": "stdout",
     "output_type": "stream",
     "text": [
      "\n",
      "           |         test\n",
      "      diag |      Pos.       Neg. |     Total\n",
      "-----------+----------------------+----------\n",
      "  Abnormal |     7,965        386 |     8,351 \n",
      "    Normal |    75,204    238,142 |   313,346 \n",
      "-----------+----------------------+----------\n",
      "     Total |    83,169    238,528 |   321,697 \n",
      "True abnormal diagnosis defined as diag = 1\n",
      "\n",
      "\n",
      "                                                  [95% Confidence Interval]\n",
      "---------------------------------------------------------------------------\n",
      "Prevalence                         Pr(A)      2.6%      2.5%       2.7%\n",
      "---------------------------------------------------------------------------\n",
      "Sensitivity                      Pr(+|A)     95.4%     94.9%     95.8%\n",
      "Specificity                      Pr(-|N)     76.0%     75.8%     76.1%\n",
      "ROC area               (Sens. + Spec.)/2      0.86      0.85      0.86 \n",
      "---------------------------------------------------------------------------\n",
      "Likelihood ratio (+)     Pr(+|A)/Pr(+|N)      3.97      3.94      4.01 \n",
      "Likelihood ratio (-)     Pr(-|A)/Pr(-|N)      0.06      0.06      0.07 \n",
      "Odds ratio                   LR(+)/LR(-)     65.34     58.98     72.39 \n",
      "Positive predictive value        Pr(A|+)      9.6%      9.4%      9.8% \n",
      "Negative predictive value        Pr(N|-)     99.8%     99.8%     99.9% \n",
      "---------------------------------------------------------------------------\n"
     ]
    }
   ],
   "source": [
    "diagt diag test if RA_index==1"
   ]
  },
  {
   "cell_type": "markdown",
   "id": "7d253ba5-4281-405c-bd8c-511a00a55bf6",
   "metadata": {},
   "source": [
    "Index==0"
   ]
  },
  {
   "cell_type": "code",
   "execution_count": 30,
   "id": "f50f1be6-d1fd-4b54-8cc8-be66d3b7312b",
   "metadata": {},
   "outputs": [
    {
     "name": "stdout",
     "output_type": "stream",
     "text": [
      "\n",
      "           |         test\n",
      "      diag |      Pos.       Neg. |     Total\n",
      "-----------+----------------------+----------\n",
      "  Abnormal |     2,423        127 |     2,550 \n",
      "    Normal |    24,491     76,262 |   100,753 \n",
      "-----------+----------------------+----------\n",
      "     Total |    26,914     76,389 |   103,303 \n",
      "True abnormal diagnosis defined as diag = 1\n",
      "\n",
      "\n",
      "                                                  [95% Confidence Interval]\n",
      "---------------------------------------------------------------------------\n",
      "Prevalence                         Pr(A)      2.5%      2.4%       2.6%\n",
      "---------------------------------------------------------------------------\n",
      "Sensitivity                      Pr(+|A)     95.0%     94.1%     95.8%\n",
      "Specificity                      Pr(-|N)     75.7%     75.4%     76.0%\n",
      "ROC area               (Sens. + Spec.)/2      0.85      0.85      0.86 \n",
      "---------------------------------------------------------------------------\n",
      "Likelihood ratio (+)     Pr(+|A)/Pr(+|N)      3.91      3.85      3.96 \n",
      "Likelihood ratio (-)     Pr(-|A)/Pr(-|N)      0.07      0.06      0.08 \n",
      "Odds ratio                   LR(+)/LR(-)     59.41     49.68     71.04 \n",
      "Positive predictive value        Pr(A|+)      9.0%      8.7%      9.4% \n",
      "Negative predictive value        Pr(N|-)     99.8%     99.8%     99.9% \n",
      "---------------------------------------------------------------------------\n"
     ]
    }
   ],
   "source": [
    "diagt diag test if RA_index==0"
   ]
  },
  {
   "cell_type": "markdown",
   "id": "72956d72",
   "metadata": {},
   "source": [
    "#### Ethnicity\n",
    "Ethnicity==0000white"
   ]
  },
  {
   "cell_type": "code",
   "execution_count": 31,
   "id": "b35bf6ab",
   "metadata": {},
   "outputs": [
    {
     "name": "stdout",
     "output_type": "stream",
     "text": [
      "\n",
      "           |         test\n",
      "      diag |      Pos.       Neg. |     Total\n",
      "-----------+----------------------+----------\n",
      "  Abnormal |     7,163        359 |     7,522 \n",
      "    Normal |    69,010    181,449 |   250,459 \n",
      "-----------+----------------------+----------\n",
      "     Total |    76,173    181,808 |   257,981 \n",
      "True abnormal diagnosis defined as diag = 1\n",
      "\n",
      "\n",
      "                                                  [95% Confidence Interval]\n",
      "---------------------------------------------------------------------------\n",
      "Prevalence                         Pr(A)      2.9%      2.9%       3.0%\n",
      "---------------------------------------------------------------------------\n",
      "Sensitivity                      Pr(+|A)     95.2%     94.7%     95.7%\n",
      "Specificity                      Pr(-|N)     72.4%     72.3%     72.6%\n",
      "ROC area               (Sens. + Spec.)/2      0.84      0.84      0.84 \n",
      "---------------------------------------------------------------------------\n",
      "Likelihood ratio (+)     Pr(+|A)/Pr(+|N)      3.46      3.43      3.48 \n",
      "Likelihood ratio (-)     Pr(-|A)/Pr(-|N)      0.07      0.06      0.07 \n",
      "Odds ratio                   LR(+)/LR(-)     52.46     47.17     58.35 \n",
      "Positive predictive value        Pr(A|+)      9.4%      9.2%      9.6% \n",
      "Negative predictive value        Pr(N|-)     99.8%     99.8%     99.8% \n",
      "---------------------------------------------------------------------------\n"
     ]
    }
   ],
   "source": [
    "diagt diag test if ethnicity==\"0white\""
   ]
  },
  {
   "cell_type": "code",
   "execution_count": 32,
   "id": "10050fbc",
   "metadata": {},
   "outputs": [
    {
     "name": "stdout",
     "output_type": "stream",
     "text": [
      "\n",
      "           |         test\n",
      "      diag |      Pos.       Neg. |     Total\n",
      "-----------+----------------------+----------\n",
      "  Abnormal |     1,030         56 |     1,086 \n",
      "    Normal |     9,656     33,126 |    42,782 \n",
      "-----------+----------------------+----------\n",
      "     Total |    10,686     33,182 |    43,868 \n",
      "True abnormal diagnosis defined as diag = 1\n",
      "\n",
      "\n",
      "                                                  [95% Confidence Interval]\n",
      "---------------------------------------------------------------------------\n",
      "Prevalence                         Pr(A)      2.5%      2.3%       2.6%\n",
      "---------------------------------------------------------------------------\n",
      "Sensitivity                      Pr(+|A)     94.8%     93.4%     96.1%\n",
      "Specificity                      Pr(-|N)     77.4%     77.0%     77.8%\n",
      "ROC area               (Sens. + Spec.)/2      0.86      0.85      0.87 \n",
      "---------------------------------------------------------------------------\n",
      "Likelihood ratio (+)     Pr(+|A)/Pr(+|N)      4.20      4.11      4.30 \n",
      "Likelihood ratio (-)     Pr(-|A)/Pr(-|N)      0.07      0.05      0.09 \n",
      "Odds ratio                   LR(+)/LR(-)     63.10     48.21     82.58 \n",
      "Positive predictive value        Pr(A|+)      9.6%      9.1%     10.2% \n",
      "Negative predictive value        Pr(N|-)     99.8%     99.8%     99.9% \n",
      "---------------------------------------------------------------------------\n"
     ]
    }
   ],
   "source": [
    "diagt diag test if ethnicity==\"Other\""
   ]
  },
  {
   "cell_type": "code",
   "execution_count": 33,
   "id": "a9b0ba23",
   "metadata": {},
   "outputs": [
    {
     "name": "stdout",
     "output_type": "stream",
     "text": [
      "\n",
      "           |         test\n",
      "      diag |      Pos.       Neg. |     Total\n",
      "-----------+----------------------+----------\n",
      "  Abnormal |     2,195         98 |     2,293 \n",
      "    Normal |    21,029     99,829 |   120,858 \n",
      "-----------+----------------------+----------\n",
      "     Total |    23,224     99,927 |   123,151 \n",
      "True abnormal diagnosis defined as diag = 1\n",
      "\n",
      "\n",
      "                                                  [95% Confidence Interval]\n",
      "---------------------------------------------------------------------------\n",
      "Prevalence                         Pr(A)      1.9%      1.8%       1.9%\n",
      "---------------------------------------------------------------------------\n",
      "Sensitivity                      Pr(+|A)     95.7%     94.8%     96.5%\n",
      "Specificity                      Pr(-|N)     82.6%     82.4%     82.8%\n",
      "ROC area               (Sens. + Spec.)/2      0.89      0.89      0.90 \n",
      "---------------------------------------------------------------------------\n",
      "Likelihood ratio (+)     Pr(+|A)/Pr(+|N)      5.50      5.42      5.58 \n",
      "Likelihood ratio (-)     Pr(-|A)/Pr(-|N)      0.05      0.04      0.06 \n",
      "Odds ratio                   LR(+)/LR(-)    106.33     86.83    130.20 \n",
      "Positive predictive value        Pr(A|+)      9.5%      9.1%      9.8% \n",
      "Negative predictive value        Pr(N|-)     99.9%     99.9%     99.9% \n",
      "---------------------------------------------------------------------------\n"
     ]
    }
   ],
   "source": [
    "diagt diag test if ethnicity==\"Missing\""
   ]
  },
  {
   "cell_type": "code",
   "execution_count": 34,
   "id": "0c6b3359-4cc6-4eb5-a15f-ed1be0b97aa0",
   "metadata": {},
   "outputs": [],
   "source": [
    "tempname memhold\n",
    "postfile `memhold' str20 var prev sens spec ppv npv roc using \"validity.dta\",replace\n",
    "\n",
    "quietly diagt diag test\n",
    "local prev=r(prev)\n",
    "local sens=r(sens)\n",
    "local spec=r(spec)\n",
    "local ppv=r(ppv)\n",
    "local npv=r(npv)\n",
    "local roc=r(roc)\n",
    "post `memhold' (\"all\") (`prev') (`sens') (`spec') (`ppv') (`npv') (`roc') \n",
    "\n",
    "quietly diagt diag test if sex==1\n",
    "local prev=r(prev)\n",
    "local sens=r(sens)\n",
    "local spec=r(spec)\n",
    "local ppv=r(ppv)\n",
    "local npv=r(npv)\n",
    "local roc=r(roc)\n",
    "post `memhold' (\"Male\") (`prev') (`sens') (`spec') (`ppv') (`npv') (`roc') \n",
    "\n",
    "quietly diagt diag test if sex==0\n",
    "local prev=r(prev)\n",
    "local sens=r(sens)\n",
    "local spec=r(spec)\n",
    "local ppv=r(ppv)\n",
    "local npv=r(npv)\n",
    "local roc=r(roc)\n",
    "post `memhold' (\"Female\") (`prev') (`sens') (`spec') (`ppv') (`npv') (`roc') \n",
    "\n",
    "quietly diagt diag test if agecat==16\n",
    "local prev=r(prev)\n",
    "local sens=r(sens)\n",
    "local spec=r(spec)\n",
    "local ppv=r(ppv)\n",
    "local npv=r(npv)\n",
    "local roc=r(roc)\n",
    "post `memhold' (\"Age young\") (`prev') (`sens') (`spec') (`ppv') (`npv') (`roc') \n",
    "\n",
    "quietly diagt diag test if agecat==30\n",
    "local prev=r(prev)\n",
    "local sens=r(sens)\n",
    "local spec=r(spec)\n",
    "local ppv=r(ppv)\n",
    "local npv=r(npv)\n",
    "local roc=r(roc)\n",
    "post `memhold' (\"Age middle\") (`prev') (`sens') (`spec') (`ppv') (`npv') (`roc') \n",
    "\n",
    "quietly diagt diag test if agecat==70\n",
    "local prev=r(prev)\n",
    "local sens=r(sens)\n",
    "local spec=r(spec)\n",
    "local ppv=r(ppv)\n",
    "local npv=r(npv)\n",
    "local roc=r(roc)\n",
    "post `memhold' (\"Age elderly\") (`prev') (`sens') (`spec') (`ppv') (`npv') (`roc') \n",
    "\n",
    "\n",
    "quietly diagt diag test if yearcat==2004\n",
    "local prev=r(prev)\n",
    "local sens=r(sens)\n",
    "local spec=r(spec)\n",
    "local ppv=r(ppv)\n",
    "local npv=r(npv)\n",
    "local roc=r(roc)\n",
    "post `memhold' (\"Year 2004-2009\") (`prev') (`sens') (`spec') (`ppv') (`npv') (`roc') \n",
    "\n",
    "quietly diagt diag test if yearcat==2010\n",
    "local prev=r(prev)\n",
    "local sens=r(sens)\n",
    "local spec=r(spec)\n",
    "local ppv=r(ppv)\n",
    "local npv=r(npv)\n",
    "local roc=r(roc)\n",
    "post `memhold' (\"Year 2010-2015\") (`prev') (`sens') (`spec') (`ppv') (`npv') (`roc')\n",
    "\n",
    "quietly diagt diag test if yearcat==2016\n",
    "local prev=r(prev)\n",
    "local sens=r(sens)\n",
    "local spec=r(spec)\n",
    "local ppv=r(ppv)\n",
    "local npv=r(npv)\n",
    "local roc=r(roc)\n",
    "post `memhold' (\"Year 2016-2020\") (`prev') (`sens') (`spec') (`ppv') (`npv') (`roc') \n",
    "\n",
    "\n",
    "quietly diagt diag test if imdcat==0\n",
    "local prev=r(prev)\n",
    "local sens=r(sens)\n",
    "local spec=r(spec)\n",
    "local ppv=r(ppv)\n",
    "local npv=r(npv)\n",
    "local roc=r(roc)\n",
    "post `memhold' (\"IMD 1,3\") (`prev') (`sens') (`spec') (`ppv') (`npv') (`roc') \n",
    "\n",
    "quietly diagt diag test if imdcat==4\n",
    "local prev=r(prev)\n",
    "local sens=r(sens)\n",
    "local spec=r(spec)\n",
    "local ppv=r(ppv)\n",
    "local npv=r(npv)\n",
    "local roc=r(roc)\n",
    "post `memhold' (\"IMD 4,7\") (`prev') (`sens') (`spec') (`ppv') (`npv') (`roc') \n",
    "\n",
    "quietly diagt diag test if imdcat==8\n",
    "local prev=r(prev)\n",
    "local sens=r(sens)\n",
    "local spec=r(spec)\n",
    "local ppv=r(ppv)\n",
    "local npv=r(npv)\n",
    "local roc=r(roc)\n",
    "post `memhold' (\"IMD 8,10\") (`prev') (`sens') (`spec') (`ppv') (`npv') (`roc') \n",
    "\n",
    "\n",
    "quietly diagt diag test if regexm(region_name,\"LONDON\")==1\n",
    "local prev=r(prev)\n",
    "local sens=r(sens)\n",
    "local spec=r(spec)\n",
    "local ppv=r(ppv)\n",
    "local npv=r(npv)\n",
    "local roc=r(roc)\n",
    "post `memhold' (\"London\") (`prev') (`sens') (`spec') (`ppv') (`npv') (`roc') \n",
    "\n",
    "quietly diagt diag test if regexm(region_name,\"MID\")==1\n",
    "local prev=r(prev)\n",
    "local sens=r(sens)\n",
    "local spec=r(spec)\n",
    "local ppv=r(ppv)\n",
    "local npv=r(npv)\n",
    "local roc=r(roc)\n",
    "post `memhold' (\"Midlands\") (`prev') (`sens') (`spec') (`ppv') (`npv') (`roc') \n",
    "\n",
    "quietly diagt diag test if regexm(region_name,\"YORK\")==1\n",
    "local prev=r(prev)\n",
    "local sens=r(sens)\n",
    "local spec=r(spec)\n",
    "local ppv=r(ppv)\n",
    "local npv=r(npv)\n",
    "local roc=r(roc)\n",
    "post `memhold' (\"Yorkshire\") (`prev') (`sens') (`spec') (`ppv') (`npv') (`roc') \n",
    "\n",
    "quietly diagt diag test if regexm(region_name,\"NORTH\")==1 & regexm(region_name,\"WEST\")==1\n",
    "local prev=r(prev)\n",
    "local sens=r(sens)\n",
    "local spec=r(spec)\n",
    "local ppv=r(ppv)\n",
    "local npv=r(npv)\n",
    "local roc=r(roc)\n",
    "post `memhold' (\"North West\") (`prev') (`sens') (`spec') (`ppv') (`npv') (`roc') \n",
    "\n",
    "quietly diagt diag test if regexm(region_name,\"SOUTH\")==1 & regexm(region_name,\"EAST\")==1\n",
    "local prev=r(prev)\n",
    "local sens=r(sens)\n",
    "local spec=r(spec)\n",
    "local ppv=r(ppv)\n",
    "local npv=r(npv)\n",
    "local roc=r(roc)\n",
    "post `memhold' (\"South East\") (`prev') (`sens') (`spec') (`ppv') (`npv') (`roc') \n",
    "\n",
    "quietly diagt diag test if regexm(region_name,\"SOUTH\")==1 & regexm(region_name,\"WEST\")==1\n",
    "local prev=r(prev)\n",
    "local sens=r(sens)\n",
    "local spec=r(spec)\n",
    "local ppv=r(ppv)\n",
    "local npv=r(npv)\n",
    "local roc=r(roc)\n",
    "post `memhold' (\"South West\") (`prev') (`sens') (`spec') (`ppv') (`npv') (`roc') \n",
    "\n",
    "quietly diagt diag test if regexm(system,\"One\")==1\n",
    "local prev=r(prev)\n",
    "local sens=r(sens)\n",
    "local spec=r(spec)\n",
    "local ppv=r(ppv)\n",
    "local npv=r(npv)\n",
    "local roc=r(roc)\n",
    "post `memhold' (\"SystemOne\") (`prev') (`sens') (`spec') (`ppv') (`npv') (`roc') \n",
    "\n",
    "quietly diagt diag test if regexm(system,\"Vision\")==1\n",
    "local prev=r(prev)\n",
    "local sens=r(sens)\n",
    "local spec=r(spec)\n",
    "local ppv=r(ppv)\n",
    "local npv=r(npv)\n",
    "local roc=r(roc)\n",
    "post `memhold' (\"Vision\") (`prev') (`sens') (`spec') (`ppv') (`npv') (`roc') \n",
    "\n",
    "quietly diagt diag test if regexm(ustrupper(system),\"EMIS\")==1\n",
    "local prev=r(prev)\n",
    "local sens=r(sens)\n",
    "local spec=r(spec)\n",
    "local ppv=r(ppv)\n",
    "local npv=r(npv)\n",
    "local roc=r(roc)\n",
    "post `memhold' (\"EMIS\") (`prev') (`sens') (`spec') (`ppv') (`npv') (`roc') \n",
    "\n",
    "quietly diagt diag test if RA_index==1\n",
    "local prev=r(prev)\n",
    "local sens=r(sens)\n",
    "local spec=r(spec)\n",
    "local ppv=r(ppv)\n",
    "local npv=r(npv)\n",
    "local roc=r(roc)\n",
    "post `memhold' (\"RAIndex1\") (`prev') (`sens') (`spec') (`ppv') (`npv') (`roc') \n",
    "\n",
    "quietly diagt diag test if RA_index==0\n",
    "local prev=r(prev)\n",
    "local sens=r(sens)\n",
    "local spec=r(spec)\n",
    "local ppv=r(ppv)\n",
    "local npv=r(npv)\n",
    "local roc=r(roc)\n",
    "post `memhold' (\"RAIndex0\") (`prev') (`sens') (`spec') (`ppv') (`npv') (`roc') \n",
    "\n",
    "quietly diagt diag test if ethnicity==\"0white\"\n",
    "local prev=r(prev)\n",
    "local sens=r(sens)\n",
    "local spec=r(spec)\n",
    "local ppv=r(ppv)\n",
    "local npv=r(npv)\n",
    "local roc=r(roc)\n",
    "post `memhold' (\"Ethnicity_0white\") (`prev') (`sens') (`spec') (`ppv') (`npv') (`roc') \n",
    "\n",
    "quietly diagt diag test if ethnicity==\"Other\"\n",
    "local prev=r(prev)\n",
    "local sens=r(sens)\n",
    "local spec=r(spec)\n",
    "local ppv=r(ppv)\n",
    "local npv=r(npv)\n",
    "local roc=r(roc)\n",
    "post `memhold' (\"Ethnicity_Other\") (`prev') (`sens') (`spec') (`ppv') (`npv') (`roc') \n",
    "\n",
    "\n",
    "\n",
    "quietly diagt diag test if ethnicity==\"Missing\"\n",
    "local prev=r(prev)\n",
    "local sens=r(sens)\n",
    "local spec=r(spec)\n",
    "local ppv=r(ppv)\n",
    "local npv=r(npv)\n",
    "local roc=r(roc)\n",
    "post `memhold' (\"Ethnicity_Missing\") (`prev') (`sens') (`spec') (`ppv') (`npv') (`roc') \n",
    "\n",
    "postclose `memhold'"
   ]
  },
  {
   "cell_type": "markdown",
   "id": "b350c4fb-deb8-450a-9750-689dc3a8268e",
   "metadata": {},
   "source": [
    "### Logistic Regression\n",
    "#### PPV"
   ]
  },
  {
   "cell_type": "code",
   "execution_count": 35,
   "id": "a21415d9",
   "metadata": {},
   "outputs": [
    {
     "name": "stdout",
     "output_type": "stream",
     "text": [
      "(2,589 observations deleted)\n",
      "(9 observations deleted)\n"
     ]
    }
   ],
   "source": [
    "drop if missing(imdcat)\n",
    "drop if missing(sex)"
   ]
  },
  {
   "cell_type": "code",
   "execution_count": 36,
   "id": "ad17f02e-1d4b-48ec-8a48-1c137597db1a",
   "metadata": {},
   "outputs": [
    {
     "name": "stdout",
     "output_type": "stream",
     "text": [
      "\n",
      "Logistic regression                                    Number of obs = 109,825\n",
      "                                                       LR chi2(0)    =    0.00\n",
      "                                                       Prob > chi2   =       .\n",
      "Log likelihood = -34280.584                            Pseudo R2     =  0.0000\n",
      "\n",
      "------------------------------------------------------------------------------\n",
      "    diag_pos |       Odds   Std. err.      z    P>|z|     [95% conf. interval]\n",
      "-------------+----------------------------------------------------------------\n",
      "       _cons |   .1039908   .0010743  -219.11   0.000     .1019064    .1061177\n",
      "------------------------------------------------------------------------------\n"
     ]
    }
   ],
   "source": [
    "logistic diag_pos if test==1"
   ]
  },
  {
   "cell_type": "code",
   "execution_count": 37,
   "id": "b4bb2be2-7e3e-402c-aa81-7b7dfd706f64",
   "metadata": {},
   "outputs": [
    {
     "name": "stdout",
     "output_type": "stream",
     "text": [
      "note: 1.bnf_code_values != 0 predicts failure perfectly;\n",
      "      1.bnf_code_values omitted and 2 obs not used.\n",
      "\n",
      "note: 2.bnf_code_values != 0 predicts failure perfectly;\n",
      "      2.bnf_code_values omitted and 1 obs not used.\n",
      "\n",
      "note: 3.bnf_code_values != 0 predicts failure perfectly;\n",
      "      3.bnf_code_values omitted and 1 obs not used.\n",
      "\n",
      "note: 8.bnf_code_values omitted because of collinearity.\n",
      "\n",
      "Logistic regression                                    Number of obs = 109,821\n",
      "                                                       LR chi2(4)    =   20.74\n",
      "                                                       Prob > chi2   =  0.0004\n",
      "Log likelihood = -34269.82                             Pseudo R2     =  0.0003\n",
      "\n",
      "-------------------------------------------------------------------------------------------\n",
      "                 diag_pos | Odds ratio   Std. err.      z    P>|z|     [95% conf. interval]\n",
      "--------------------------+----------------------------------------------------------------\n",
      "          bnf_code_values |\n",
      "                  020400  |          1  (empty)\n",
      "                  090602  |          1  (empty)\n",
      "                  100104  |          1  (empty)\n",
      "               Alginates  |   .9775253   .0373818    -0.59   0.552     .9069367    1.053608\n",
      "Antacides and simeticone  |    .727609   .1021113    -2.27   0.023     .5526396    .9579749\n",
      "  H2receptor antagonists  |   .9653501   .0401402    -0.85   0.396     .8897973    1.047318\n",
      "           Other/unknown  |    .394897   .1118568    -3.28   0.001     .2266606    .6880049\n",
      "  Proton pump inhibitors  |          1  (omitted)\n",
      "                          |\n",
      "                    _cons |   .1048407   .0011771  -200.88   0.000     .1025589    .1071733\n",
      "-------------------------------------------------------------------------------------------\n",
      "Note: _cons estimates baseline odds.\n"
     ]
    }
   ],
   "source": [
    "logistic diag_pos i.bnf_code_values if test==1"
   ]
  },
  {
   "cell_type": "code",
   "execution_count": 38,
   "id": "49e40858",
   "metadata": {},
   "outputs": [
    {
     "name": "stdout",
     "output_type": "stream",
     "text": [
      "\n",
      "Fitting fixed-effects model:\n",
      "\n",
      "Iteration 0:  Log likelihood = -34438.241  \n",
      "Iteration 1:  Log likelihood = -33899.795  \n",
      "Iteration 2:  Log likelihood = -33897.885  \n",
      "Iteration 3:  Log likelihood = -33897.885  \n",
      "\n",
      "Refining starting values:\n",
      "\n",
      "Grid node 0:  Log likelihood = -33651.057\n",
      "\n",
      "Fitting full model:\n",
      "\n",
      "Iteration 0:  Log likelihood = -33651.057  (not concave)\n",
      "Iteration 1:  Log likelihood = -33541.584  \n",
      "Iteration 2:  Log likelihood = -33535.286  \n",
      "Iteration 3:  Log likelihood = -33534.852  \n",
      "Iteration 4:  Log likelihood = -33534.852  \n",
      "\n",
      "Mixed-effects logistic regression               Number of obs     =    109,457\n",
      "Group variable: practice_id                     Number of groups  =        328\n",
      "\n",
      "                                                Obs per group:\n",
      "                                                              min =          1\n",
      "                                                              avg =      333.7\n",
      "                                                              max =      3,287\n",
      "\n",
      "Integration method: mvaghermite                 Integration pts.  =          7\n",
      "\n",
      "                                                Wald chi2(18)     =     489.93\n",
      "Log likelihood = -33534.852                     Prob > chi2       =     0.0000\n",
      "----------------------------------------------------------------------------------------------------------------\n",
      "                                       newdiag | Odds ratio   Std. err.      z    P>|z|     [95% conf. interval]\n",
      "-----------------------------------------------+----------------------------------------------------------------\n",
      "                                   1.sex_coded |    1.12723   .0237228     5.69   0.000      1.08168    1.174698\n",
      "                                               |\n",
      "                                       yearcat |\n",
      "                                    2010-2015  |   .8147542   .0207758    -8.03   0.000     .7750353    .8565086\n",
      "                                    2016-2020  |   .6697185   .0192396   -13.95   0.000     .6330515    .7085093\n",
      "                                               |\n",
      "                                        agecat |\n",
      "                                      0Middle  |    1.00149   .0333351     0.04   0.964     .9382397    1.069004\n",
      "                                      Elderly  |   .6880304     .02485   -10.35   0.000     .6410093    .7385007\n",
      "                                               |\n",
      "                                        region |\n",
      "                  LONDON COMMISSIONING REGION  |   .9296916   .1562669    -0.43   0.664     .6687518    1.292447\n",
      "                MIDLANDS COMMISSIONING REGION  |   1.083064   .0927552     0.93   0.351     .9157059    1.281009\n",
      "NORTH EAST AND YORKSHIRE COMMISSIONING REGION  |   1.072902   .0987154     0.76   0.444     .8958652    1.284923\n",
      "              NORTH WEST COMMISSIONING REGION  |   1.251209   .1344634     2.09   0.037      1.01357    1.544563\n",
      "              SOUTH EAST COMMISSIONING REGION  |   .9895815   .0906295    -0.11   0.909     .8269807    1.184153\n",
      "              SOUTH WEST COMMISSIONING REGION  |   .8793614   .0972882    -1.16   0.245     .7079371    1.092295\n",
      "                                     Scotland  |   .6766584   .1140104    -2.32   0.020     .4863515    .9414315\n",
      "                                        Wales  |   1.324982   .3721715     1.00   0.316     .7640432    2.297748\n",
      "                                               |\n",
      "                                      RA_index |   1.025851   .0671728     0.39   0.697     .9022932    1.166329\n",
      "                                               |\n",
      "                                        ethnic |\n",
      "                                      Missing  |   .9383461   .0274941    -2.17   0.030     .8859768    .9938109\n",
      "                                        Other  |   1.057957   .0436725     1.36   0.172     .9757321    1.147112\n",
      "                                               |\n",
      "                                        imdcat |\n",
      "                                          4-7  |   1.100008   .0753048     1.39   0.164     .9618867    1.257963\n",
      "                                         8-10  |   1.202085   .0885795     2.50   0.012     1.040427    1.388861\n",
      "                                               |\n",
      "                                         _cons |   .1117196    .008833   -27.72   0.000      .095682    .1304453\n",
      "-----------------------------------------------+----------------------------------------------------------------\n",
      "practice_id                                    |\n",
      "                                     var(_cons)|   .1487852   .0175773                      .1180321    .1875511\n",
      "----------------------------------------------------------------------------------------------------------------\n",
      "Note: Estimates are transformed only in the first equation to odds ratios.\n",
      "Note: _cons estimates baseline odds (conditional on zero random effects).\n",
      "LR test vs. logistic model: chibar2(01) = 726.07      Prob >= chibar2 = 0.0000\n"
     ]
    }
   ],
   "source": [
    "gen newdiag=diag_pos\n",
    "\n",
    "melogit newdiag i.sex i.yearcat i.agecat  i.region RA_index i.ethnic i.imdcat if test==1 || practice_id:,or\n",
    "estimates store model1"
   ]
  },
  {
   "cell_type": "markdown",
   "id": "1fb85b5e",
   "metadata": {},
   "source": [
    "##### Likelihood ratio tests"
   ]
  },
  {
   "cell_type": "code",
   "execution_count": 39,
   "id": "718b2ba3-f1ac-41c9-af92-e0cb45d55985",
   "metadata": {},
   "outputs": [],
   "source": [
    "\n",
    "\n",
    "quietly: melogit newdiag i.sex i.yearcat i.agecat  i.region RA_index i.ethnic if test==1 || practice_id:,or\n",
    "estimates store model_imd\n",
    "\n",
    "quietly:melogit newdiag i.sex i.yearcat i.agecat  i.region RA_index i.imdcat if test==1 || practice_id:,or\n",
    "estimates store model_ethnicity\n",
    "\n",
    "quietly:melogit newdiag i.yearcat i.agecat  i.region RA_index i.ethnic i.imdcat if test==1 || practice_id:,or\n",
    "estimates store model_sex\n",
    "\n",
    "quietly:melogit newdiag i.sex i.agecat  i.region RA_index i.ethnic i.imdcat if test==1 || practice_id:,or\n",
    "estimates store model_year\n",
    "\n",
    "quietly: melogit newdiag i.sex i.yearcat  i.region RA_index i.ethnic i.imdcat if test==1 || practice_id:,or\n",
    "estimates store model_age\n",
    "\n"
   ]
  },
  {
   "cell_type": "code",
   "execution_count": 40,
   "id": "31887f9d",
   "metadata": {},
   "outputs": [
    {
     "name": "stdout",
     "output_type": "stream",
     "text": [
      "\n",
      "Likelihood-ratio test\n",
      "Assumption: model_sex nested within model1\n",
      "\n",
      " LR chi2(1) =  32.32\n",
      "Prob > chi2 = 0.0000\n",
      "\n",
      "Likelihood-ratio test\n",
      "Assumption: model_year nested within model1\n",
      "\n",
      " LR chi2(2) = 197.09\n",
      "Prob > chi2 = 0.0000\n",
      "\n",
      "Likelihood-ratio test\n",
      "Assumption: model_age nested within model1\n",
      "\n",
      " LR chi2(2) = 271.67\n",
      "Prob > chi2 = 0.0000\n",
      "\n",
      "Likelihood-ratio test\n",
      "Assumption: model_ethnic~y nested within model1\n",
      "\n",
      " LR chi2(2) =   7.41\n",
      "Prob > chi2 = 0.0245\n",
      "\n",
      "Likelihood-ratio test\n",
      "Assumption: model_imd nested within model1\n",
      "\n",
      " LR chi2(2) =   6.22\n",
      "Prob > chi2 = 0.0446\n"
     ]
    }
   ],
   "source": [
    "lrtest model1 model_sex\n",
    "lrtest model1 model_year\n",
    "lrtest model1 model_age\n",
    "lrtest model1 model_ethnicity\n",
    "lrtest model1 model_imd\n"
   ]
  },
  {
   "cell_type": "markdown",
   "id": "99227c99-0304-407b-a990-a06fe4bd4560",
   "metadata": {},
   "source": [
    "#### NPV"
   ]
  },
  {
   "cell_type": "code",
   "execution_count": 41,
   "id": "04c0103e-c424-49af-8973-09a13878ea3f",
   "metadata": {},
   "outputs": [
    {
     "name": "stdout",
     "output_type": "stream",
     "text": [
      "\n",
      "Logistic regression                                    Number of obs = 312,577\n",
      "                                                       LR chi2(0)    =    0.00\n",
      "                                                       Prob > chi2   =       .\n",
      "Log likelihood = -3757.1814                            Pseudo R2     =  0.0000\n",
      "\n",
      "------------------------------------------------------------------------------\n",
      "    diag_neg |       Odds   Std. err.      z    P>|z|     [95% conf. interval]\n",
      "-------------+----------------------------------------------------------------\n",
      "       _cons |   616.7411   27.43971   144.40   0.000     565.2385    672.9365\n",
      "------------------------------------------------------------------------------\n"
     ]
    }
   ],
   "source": [
    "logistic diag_neg if test==0"
   ]
  },
  {
   "cell_type": "code",
   "execution_count": 42,
   "id": "93a5b760",
   "metadata": {},
   "outputs": [
    {
     "name": "stdout",
     "output_type": "stream",
     "text": [
      "(422,402 real changes made)\n",
      "\n",
      "Fitting fixed-effects model:\n",
      "\n",
      "Iteration 0:  Log likelihood = -27699.388  \n",
      "Iteration 1:  Log likelihood = -4000.5793  \n",
      "Iteration 2:  Log likelihood = -3724.6583  \n",
      "Iteration 3:  Log likelihood = -3707.6709  \n",
      "Iteration 4:  Log likelihood = -3707.5579  \n",
      "Iteration 5:  Log likelihood = -3707.5579  \n",
      "\n",
      "Refining starting values:\n",
      "\n",
      "Grid node 0:  Log likelihood = -3714.4467\n",
      "\n",
      "Fitting full model:\n",
      "\n",
      "Iteration 0:  Log likelihood = -3714.4467  (not concave)\n",
      "Iteration 1:  Log likelihood = -3695.5908  \n",
      "Iteration 2:  Log likelihood = -3689.9483  \n",
      "Iteration 3:  Log likelihood = -3688.3333  \n",
      "Iteration 4:  Log likelihood = -3688.3007  \n",
      "Iteration 5:  Log likelihood = -3688.3006  \n",
      "\n",
      "Mixed-effects logistic regression               Number of obs     =    311,976\n",
      "Group variable: practice_id                     Number of groups  =        336\n",
      "\n",
      "                                                Obs per group:\n",
      "                                                              min =          1\n",
      "                                                              avg =      928.5\n",
      "                                                              max =      7,204\n",
      "\n",
      "Integration method: mvaghermite                 Integration pts.  =          7\n",
      "\n",
      "                                                Wald chi2(18)     =      79.06\n",
      "Log likelihood = -3688.3006                     Prob > chi2       =     0.0000\n",
      "----------------------------------------------------------------------------------------------------------------\n",
      "                                       newdiag | Odds ratio   Std. err.      z    P>|z|     [95% conf. interval]\n",
      "-----------------------------------------------+----------------------------------------------------------------\n",
      "                                   1.sex_coded |   .8733685   .0783961    -1.51   0.131     .7324724    1.041367\n",
      "                                               |\n",
      "                                       yearcat |\n",
      "                                    2010-2015  |   1.327186   .1501859     2.50   0.012     1.063185    1.656742\n",
      "                                    2016-2020  |   1.066652   .1223383     0.56   0.574     .8519129    1.335519\n",
      "                                               |\n",
      "                                        agecat |\n",
      "                                      0Middle  |   .6405403   .0725611    -3.93   0.000     .5130047    .7997819\n",
      "                                      Elderly  |    .458113   .0645911    -5.54   0.000      .347503    .6039303\n",
      "                                               |\n",
      "                                        region |\n",
      "                  LONDON COMMISSIONING REGION  |   .7771266   .2414867    -0.81   0.417     .4226558    1.428883\n",
      "                MIDLANDS COMMISSIONING REGION  |   .8803034   .1773696    -0.63   0.527     .5930979    1.306587\n",
      "NORTH EAST AND YORKSHIRE COMMISSIONING REGION  |   .8883037   .1845498    -0.57   0.569     .5911801     1.33476\n",
      "              NORTH WEST COMMISSIONING REGION  |   .7773271   .1823579    -1.07   0.283      .490812    1.231097\n",
      "              SOUTH EAST COMMISSIONING REGION  |   1.001296   .1967078     0.01   0.995     .6813042    1.471579\n",
      "              SOUTH WEST COMMISSIONING REGION  |   1.218996   .3181763     0.76   0.448     .7308458    2.033193\n",
      "                                     Scotland  |   1.606702   .8193373     0.93   0.352     .5913782    4.365212\n",
      "                                        Wales  |   1.287491    1.05522     0.31   0.758     .2582884    6.417764\n",
      "                                               |\n",
      "                                      RA_index |   1.155762   .1757583     0.95   0.341     .8578772    1.557083\n",
      "                                               |\n",
      "                                        ethnic |\n",
      "                                      Missing  |   2.048494   .2516011     5.84   0.000     1.610231    2.606042\n",
      "                                        Other  |   1.010096   .1572051     0.06   0.949     .7445379    1.370372\n",
      "                                               |\n",
      "                                        imdcat |\n",
      "                                          4-7  |   1.018443   .1583816     0.12   0.906      .750868     1.38137\n",
      "                                         8-10  |   .9294004   .1523339    -0.45   0.655     .6740408    1.281503\n",
      "                                               |\n",
      "                                         _cons |   784.5437   161.2416    32.43   0.000     524.4158    1173.704\n",
      "-----------------------------------------------+----------------------------------------------------------------\n",
      "practice_id                                    |\n",
      "                                     var(_cons)|   .2419343   .0702219                      .1369729    .4273269\n",
      "----------------------------------------------------------------------------------------------------------------\n",
      "Note: Estimates are transformed only in the first equation to odds ratios.\n",
      "Note: _cons estimates baseline odds (conditional on zero random effects).\n",
      "LR test vs. logistic model: chibar2(01) = 38.51       Prob >= chibar2 = 0.0000\n"
     ]
    }
   ],
   "source": [
    "/* need to use the same response variable (newdiag) to line up the two model results */\n",
    "replace newdiag=diag_neg \n",
    "\n",
    "melogit newdiag i.sex i.yearcat i.agecat i.region RA_index i.ethnic i.imdcat if test==0 || practice_id:,or\n",
    "estimates store model2"
   ]
  },
  {
   "cell_type": "markdown",
   "id": "60c60b7a",
   "metadata": {},
   "source": [
    "##### Likelihood ratio tests"
   ]
  },
  {
   "cell_type": "code",
   "execution_count": 43,
   "id": "c31bd1f1-c69b-4600-a1c0-bde311d67651",
   "metadata": {},
   "outputs": [],
   "source": [
    "\n",
    "quietly: melogit newdiag i.yearcat i.agecat i.region RA_index i.ethnic i.imdcat if test==0 || practice_id:,or\n",
    "estimates store model2_sex\n",
    "quietly: melogit newdiag i.sex i.agecat i.region RA_index i.ethnic i.imdcat if test==0 || practice_id:,or\n",
    "estimates store model2_year\n",
    "quietly: melogit newdiag i.sex i.yearcat i.region RA_index i.ethnic i.imdcat if test==0 || practice_id:,or\n",
    "estimates store model2_age\n",
    "quietly: melogit newdiag i.sex i.yearcat i.agecat i.region RA_index i.imdcat if test==0 || practice_id:,or\n",
    "estimates store model2_ethnicity\n",
    "quietly: melogit newdiag i.sex i.yearcat i.agecat i.region RA_index i.ethnic if test==0 || practice_id:,or\n",
    "estimates store model2_imd\n"
   ]
  },
  {
   "cell_type": "code",
   "execution_count": 44,
   "id": "95d03409",
   "metadata": {},
   "outputs": [
    {
     "name": "stdout",
     "output_type": "stream",
     "text": [
      "\n",
      "Likelihood-ratio test\n",
      "Assumption: model2_sex nested within model2\n",
      "\n",
      " LR chi2(1) =   2.28\n",
      "Prob > chi2 = 0.1311\n",
      "\n",
      "Likelihood-ratio test\n",
      "Assumption: model2_year nested within model2\n",
      "\n",
      " LR chi2(2) =   7.13\n",
      "Prob > chi2 = 0.0283\n",
      "\n",
      "Likelihood-ratio test\n",
      "Assumption: model2_age nested within model2\n",
      "\n",
      " LR chi2(2) =  32.11\n",
      "Prob > chi2 = 0.0000\n",
      "\n",
      "Likelihood-ratio test\n",
      "Assumption: model2_ethni~y nested within model2\n",
      "\n",
      " LR chi2(2) =  38.21\n",
      "Prob > chi2 = 0.0000\n",
      "\n",
      "Likelihood-ratio test\n",
      "Assumption: model2_imd nested within model2\n",
      "\n",
      " LR chi2(2) =   0.39\n",
      "Prob > chi2 = 0.8239\n"
     ]
    }
   ],
   "source": [
    "lrtest model2 model2_sex\n",
    "lrtest model2 model2_year\n",
    "lrtest model2 model2_age\n",
    "lrtest model2 model2_ethnicity\n",
    "lrtest model2 model2_imd\n"
   ]
  },
  {
   "cell_type": "code",
   "execution_count": 45,
   "id": "017939f5-75b7-4ee0-9f7b-3105e0d2bfe1",
   "metadata": {},
   "outputs": [
    {
     "name": "stdout",
     "output_type": "stream",
     "text": [
      "\n",
      "Table 2. PPV (1) and NPV (2), OR, Random effect\n",
      "-------------------------------------------------------------------\n",
      "                                                    1         2    \n",
      "-------------------------------------------------------------------\n",
      "sex_coded                                                          \n",
      "  1                                               1.13 **   0.87   \n",
      "yearcat                                                            \n",
      "  2010-2015                                       0.81 **   1.33 * \n",
      "  2016-2020                                       0.67 **   1.07   \n",
      "agecat                                                             \n",
      "  0Middle                                         1.00      0.64 **\n",
      "  Elderly                                         0.69 **   0.46 **\n",
      "region                                                             \n",
      "  LONDON COMMISSIONING REGION                     0.93      0.78   \n",
      "  MIDLANDS COMMISSIONING REGION                   1.08      0.88   \n",
      "  NORTH EAST AND YORKSHIRE COMMISSIONING REGION   1.07      0.89   \n",
      "  NORTH WEST COMMISSIONING REGION                 1.25 *    0.78   \n",
      "  SOUTH EAST COMMISSIONING REGION                 0.99      1.00   \n",
      "  SOUTH WEST COMMISSIONING REGION                 0.88      1.22   \n",
      "  Scotland                                        0.68 *    1.61   \n",
      "  Wales                                           1.32      1.29   \n",
      "RA_index                                          1.03      1.16   \n",
      "ethnic                                                             \n",
      "  Missing                                         0.94 *    2.05 **\n",
      "  Other                                           1.06      1.01   \n",
      "imdcat                                                             \n",
      "  4-7                                             1.10      1.02   \n",
      "  8-10                                            1.20 *    0.93   \n",
      "Intercept                                         0.11 ** 784.54 **\n",
      "var(_cons[practice_id])                           0.15      0.24   \n",
      "Number of observations                          109457    311976   \n",
      "-------------------------------------------------------------------\n",
      "** p<.01, * p<.05\n",
      "(collection ETable exported to file validity2.xlsx)\n"
     ]
    }
   ],
   "source": [
    "etable, estimates(model1 model2) showstars showstarsnote title(\"Table 2. PPV (1) and NPV (2),  OR, Random effect\") cstat(_r_b,nformat(%6.2f)) column(index) export(validity2.xlsx, modify sheet(reg_gord, replace))"
   ]
  },
  {
   "cell_type": "markdown",
   "id": "e7e9a417",
   "metadata": {},
   "source": [
    "### Summary of validation parameters"
   ]
  },
  {
   "cell_type": "code",
   "execution_count": 46,
   "id": "e27d82a4-8d2d-4529-8a15-ae4baabfa28c",
   "metadata": {},
   "outputs": [
    {
     "name": "stdout",
     "output_type": "stream",
     "text": [
      "(26 real changes made)\n",
      "(26 real changes made)\n",
      "(26 real changes made)\n",
      "(26 real changes made)\n",
      "(26 real changes made)\n",
      "(26 real changes made)\n"
     ]
    }
   ],
   "source": [
    "use validity.dta, clear\n",
    "replace prev=round(prev, 0.1)\n",
    "gen prev_a=round(((prev/100)*((sens/100)+(spec/100)-1)+1-(spec/100))*100,0.1)/*apparent prevalence*/\n",
    "replace sens=round(sens, 0.1)\n",
    "replace spec=round(spec,0.1)\n",
    "replace ppv=round(ppv, 0.1)\n",
    "replace npv=round(npv, 0.1)\n",
    "replace roc=round(roc, 0.01)\n"
   ]
  },
  {
   "cell_type": "code",
   "execution_count": 47,
   "id": "8129bfb3-cd21-4077-a785-9a74a846c65b",
   "metadata": {},
   "outputs": [
    {
     "data": {
      "text/html": [
       "<div>\n",
       "<style scoped>\n",
       "    .dataframe tbody tr th:only-of-type {\n",
       "        vertical-align: middle;\n",
       "    }\n",
       "\n",
       "    .dataframe tbody tr th {\n",
       "        vertical-align: top;\n",
       "    }\n",
       "\n",
       "    .dataframe thead th {\n",
       "        text-align: right;\n",
       "    }\n",
       "</style>\n",
       "<table border=\"1\" class=\"dataframe\">\n",
       "  <thead>\n",
       "    <tr style=\"text-align: right;\">\n",
       "      <th></th>\n",
       "      <th>var</th>\n",
       "      <th>prev</th>\n",
       "      <th>sens</th>\n",
       "      <th>spec</th>\n",
       "      <th>ppv</th>\n",
       "      <th>npv</th>\n",
       "      <th>roc</th>\n",
       "      <th>prev_a</th>\n",
       "    </tr>\n",
       "  </thead>\n",
       "  <tbody>\n",
       "    <tr>\n",
       "      <th>1</th>\n",
       "      <td>all</td>\n",
       "      <td>2.6</td>\n",
       "      <td>95.3</td>\n",
       "      <td>75.9</td>\n",
       "      <td>9.4</td>\n",
       "      <td>99.8</td>\n",
       "      <td>.86</td>\n",
       "      <td>25.9</td>\n",
       "    </tr>\n",
       "    <tr>\n",
       "      <th>2</th>\n",
       "      <td>Male</td>\n",
       "      <td>2.5</td>\n",
       "      <td>94.8</td>\n",
       "      <td>78.4</td>\n",
       "      <td>10.1</td>\n",
       "      <td>99.8</td>\n",
       "      <td>.87</td>\n",
       "      <td>23.5</td>\n",
       "    </tr>\n",
       "    <tr>\n",
       "      <th>3</th>\n",
       "      <td>Female</td>\n",
       "      <td>2.6</td>\n",
       "      <td>95.8</td>\n",
       "      <td>73.6</td>\n",
       "      <td>8.9</td>\n",
       "      <td>99.8</td>\n",
       "      <td>.85</td>\n",
       "      <td>28.2</td>\n",
       "    </tr>\n",
       "    <tr>\n",
       "      <th>4</th>\n",
       "      <td>Age young</td>\n",
       "      <td>1.2</td>\n",
       "      <td>92</td>\n",
       "      <td>90.1</td>\n",
       "      <td>10.3</td>\n",
       "      <td>99.9</td>\n",
       "      <td>.91</td>\n",
       "      <td>10.9</td>\n",
       "    </tr>\n",
       "    <tr>\n",
       "      <th>5</th>\n",
       "      <td>Age middle</td>\n",
       "      <td>2.8</td>\n",
       "      <td>95.2</td>\n",
       "      <td>76.7</td>\n",
       "      <td>10.5</td>\n",
       "      <td>99.8</td>\n",
       "      <td>.86</td>\n",
       "      <td>25.3</td>\n",
       "    </tr>\n",
       "    <tr>\n",
       "      <th>6</th>\n",
       "      <td>Age elderly</td>\n",
       "      <td>3.8</td>\n",
       "      <td>96.9</td>\n",
       "      <td>54</td>\n",
       "      <td>7.7</td>\n",
       "      <td>99.8</td>\n",
       "      <td>.75</td>\n",
       "      <td>48</td>\n",
       "    </tr>\n",
       "    <tr>\n",
       "      <th>7</th>\n",
       "      <td>Year 2004-2009</td>\n",
       "      <td>2.8</td>\n",
       "      <td>95.5</td>\n",
       "      <td>77.5</td>\n",
       "      <td>10.8</td>\n",
       "      <td>99.8</td>\n",
       "      <td>.87</td>\n",
       "      <td>24.5</td>\n",
       "    </tr>\n",
       "    <tr>\n",
       "      <th>8</th>\n",
       "      <td>Year 2010-2015</td>\n",
       "      <td>2.6</td>\n",
       "      <td>96</td>\n",
       "      <td>75</td>\n",
       "      <td>9.4</td>\n",
       "      <td>99.9</td>\n",
       "      <td>.86</td>\n",
       "      <td>26.8</td>\n",
       "    </tr>\n",
       "    <tr>\n",
       "      <th>9</th>\n",
       "      <td>Year 2016-2020</td>\n",
       "      <td>2.2</td>\n",
       "      <td>94</td>\n",
       "      <td>75.1</td>\n",
       "      <td>8</td>\n",
       "      <td>99.8</td>\n",
       "      <td>.85</td>\n",
       "      <td>26.5</td>\n",
       "    </tr>\n",
       "    <tr>\n",
       "      <th>10</th>\n",
       "      <td>IMD 1,3</td>\n",
       "      <td>2.6</td>\n",
       "      <td>95</td>\n",
       "      <td>75.4</td>\n",
       "      <td>9.3</td>\n",
       "      <td>99.8</td>\n",
       "      <td>.85</td>\n",
       "      <td>26.4</td>\n",
       "    </tr>\n",
       "    <tr>\n",
       "      <th>11</th>\n",
       "      <td>IMD 4,7</td>\n",
       "      <td>2.7</td>\n",
       "      <td>95.9</td>\n",
       "      <td>74.6</td>\n",
       "      <td>9.3</td>\n",
       "      <td>99.9</td>\n",
       "      <td>.85</td>\n",
       "      <td>27.4</td>\n",
       "    </tr>\n",
       "    <tr>\n",
       "      <th>12</th>\n",
       "      <td>IMD 8,10</td>\n",
       "      <td>2.5</td>\n",
       "      <td>95</td>\n",
       "      <td>77.8</td>\n",
       "      <td>9.7</td>\n",
       "      <td>99.8</td>\n",
       "      <td>.86</td>\n",
       "      <td>24.1</td>\n",
       "    </tr>\n",
       "    <tr>\n",
       "      <th>13</th>\n",
       "      <td>London</td>\n",
       "      <td>1.8</td>\n",
       "      <td>90.8</td>\n",
       "      <td>84.9</td>\n",
       "      <td>10.1</td>\n",
       "      <td>99.8</td>\n",
       "      <td>.88</td>\n",
       "      <td>16.5</td>\n",
       "    </tr>\n",
       "    <tr>\n",
       "      <th>14</th>\n",
       "      <td>Midlands</td>\n",
       "      <td>2.8</td>\n",
       "      <td>95.7</td>\n",
       "      <td>73</td>\n",
       "      <td>9.4</td>\n",
       "      <td>99.8</td>\n",
       "      <td>.84</td>\n",
       "      <td>28.9</td>\n",
       "    </tr>\n",
       "    <tr>\n",
       "      <th>15</th>\n",
       "      <td>Yorkshire</td>\n",
       "      <td>2.7</td>\n",
       "      <td>95</td>\n",
       "      <td>74.9</td>\n",
       "      <td>9.5</td>\n",
       "      <td>99.8</td>\n",
       "      <td>.85</td>\n",
       "      <td>26.9</td>\n",
       "    </tr>\n",
       "    <tr>\n",
       "      <th>16</th>\n",
       "      <td>North West</td>\n",
       "      <td>2.8</td>\n",
       "      <td>95</td>\n",
       "      <td>78.3</td>\n",
       "      <td>11.4</td>\n",
       "      <td>99.8</td>\n",
       "      <td>.87</td>\n",
       "      <td>23.8</td>\n",
       "    </tr>\n",
       "    <tr>\n",
       "      <th>17</th>\n",
       "      <td>South East</td>\n",
       "      <td>2.3</td>\n",
       "      <td>95.3</td>\n",
       "      <td>78.1</td>\n",
       "      <td>9.4</td>\n",
       "      <td>99.9</td>\n",
       "      <td>.87</td>\n",
       "      <td>23.6</td>\n",
       "    </tr>\n",
       "    <tr>\n",
       "      <th>18</th>\n",
       "      <td>South West</td>\n",
       "      <td>2.4</td>\n",
       "      <td>96.5</td>\n",
       "      <td>71.8</td>\n",
       "      <td>7.6</td>\n",
       "      <td>99.9</td>\n",
       "      <td>.84</td>\n",
       "      <td>29.9</td>\n",
       "    </tr>\n",
       "    <tr>\n",
       "      <th>19</th>\n",
       "      <td>SystemOne</td>\n",
       "      <td>2.6</td>\n",
       "      <td>95.4</td>\n",
       "      <td>74</td>\n",
       "      <td>8.9</td>\n",
       "      <td>99.8</td>\n",
       "      <td>.85</td>\n",
       "      <td>27.8</td>\n",
       "    </tr>\n",
       "    <tr>\n",
       "      <th>20</th>\n",
       "      <td>Vision</td>\n",
       "      <td>2.4</td>\n",
       "      <td>97.3</td>\n",
       "      <td>76.1</td>\n",
       "      <td>9.2</td>\n",
       "      <td>99.9</td>\n",
       "      <td>.87</td>\n",
       "      <td>25.6</td>\n",
       "    </tr>\n",
       "    <tr>\n",
       "      <th>21</th>\n",
       "      <td>EMIS</td>\n",
       "      <td>2.5</td>\n",
       "      <td>95.1</td>\n",
       "      <td>78.4</td>\n",
       "      <td>10.3</td>\n",
       "      <td>99.8</td>\n",
       "      <td>.87</td>\n",
       "      <td>23.5</td>\n",
       "    </tr>\n",
       "    <tr>\n",
       "      <th>22</th>\n",
       "      <td>RAIndex1</td>\n",
       "      <td>2.6</td>\n",
       "      <td>95.4</td>\n",
       "      <td>76</td>\n",
       "      <td>9.6</td>\n",
       "      <td>99.8</td>\n",
       "      <td>.86</td>\n",
       "      <td>25.9</td>\n",
       "    </tr>\n",
       "    <tr>\n",
       "      <th>23</th>\n",
       "      <td>RAIndex0</td>\n",
       "      <td>2.5</td>\n",
       "      <td>95</td>\n",
       "      <td>75.7</td>\n",
       "      <td>9</td>\n",
       "      <td>99.8</td>\n",
       "      <td>.85</td>\n",
       "      <td>26.1</td>\n",
       "    </tr>\n",
       "    <tr>\n",
       "      <th>24</th>\n",
       "      <td>Ethnicity_0white</td>\n",
       "      <td>2.9</td>\n",
       "      <td>95.2</td>\n",
       "      <td>72.4</td>\n",
       "      <td>9.4</td>\n",
       "      <td>99.8</td>\n",
       "      <td>.84</td>\n",
       "      <td>29.5</td>\n",
       "    </tr>\n",
       "    <tr>\n",
       "      <th>25</th>\n",
       "      <td>Ethnicity_Other</td>\n",
       "      <td>2.5</td>\n",
       "      <td>94.8</td>\n",
       "      <td>77.4</td>\n",
       "      <td>9.6</td>\n",
       "      <td>99.8</td>\n",
       "      <td>.86</td>\n",
       "      <td>24.4</td>\n",
       "    </tr>\n",
       "    <tr>\n",
       "      <th>26</th>\n",
       "      <td>Ethnicity_Missing</td>\n",
       "      <td>1.9</td>\n",
       "      <td>95.7</td>\n",
       "      <td>82.6</td>\n",
       "      <td>9.5</td>\n",
       "      <td>99.9</td>\n",
       "      <td>.89</td>\n",
       "      <td>18.9</td>\n",
       "    </tr>\n",
       "  </tbody>\n",
       "</table>\n",
       "</div>"
      ]
     },
     "metadata": {},
     "output_type": "display_data"
    }
   ],
   "source": [
    "%head 50"
   ]
  },
  {
   "cell_type": "code",
   "execution_count": 48,
   "id": "47dc850c-f3c8-4b9c-8ba9-3620f31b4fa9",
   "metadata": {},
   "outputs": [
    {
     "name": "stdout",
     "output_type": "stream",
     "text": [
      "file validity2.xlsx saved\n"
     ]
    }
   ],
   "source": [
    "/*texsave * using test3.tex, varlabels*/\n",
    "export excel using  validity2.xlsx, sheet(val_gord, replace)"
   ]
  }
 ],
 "metadata": {
  "kernelspec": {
   "display_name": "Stata (nbstata)",
   "language": "stata",
   "name": "nbstata"
  },
  "language_info": {
   "file_extension": ".do",
   "mimetype": "text/x-stata",
   "name": "stata",
   "version": "17"
  }
 },
 "nbformat": 4,
 "nbformat_minor": 5
}
