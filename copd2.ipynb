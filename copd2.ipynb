{
 "cells": [
  {
   "cell_type": "markdown",
   "id": "13e469d7",
   "metadata": {},
   "source": [
    "# Validity of using prescription records to identify patient comorbidities\n",
    "## Combined Analysis of COPD"
   ]
  },
  {
   "cell_type": "markdown",
   "id": "a3d5caf8",
   "metadata": {},
   "source": [
    "**ReadMe:**\n",
    "- This is a script used in the analysis for Schnier et al., 2025: Validity of using prescription records to classify disease – a record linkage study using routinely collected electronic health records from the UK.\n",
    "- The underlying data set has been created using the Optimum Patient Care Research Database (https://opcrd.optimumpatientcare.org/). The authors do not have permission to give the public access to the study dataset; researchers may request access to OPCRD for their own purposes. \n",
    " - All code is run in StataSE 18. \n"
   ]
  },
  {
   "cell_type": "markdown",
   "id": "1cf02e3e-e834-469d-abf1-21c9ce29f756",
   "metadata": {},
   "source": [
    "**Set up:**\n",
    "|Var|Input|\n",
    "| --- | --- | \n",
    "|population|425,000|\n",
    "|diagnostic codes|Jenni Quint|\n",
    "|drug codes|Jenni Quint (excluding antibiotics)|\n",
    "|sql date|25.06.2025|\n",
    "|sql code|copdselection_20250622.sql| "
   ]
  },
  {
   "cell_type": "code",
   "execution_count": 2,
   "id": "2a759161-052f-4433-ab6c-0ad7ab9120e9",
   "metadata": {},
   "outputs": [],
   "source": [
    "    clear all"
   ]
  },
  {
   "cell_type": "markdown",
   "id": "5e9a592b-20c3-4eb6-b947-22979a02dcf0",
   "metadata": {},
   "source": [
    "### Import from SQL server and data wrangling"
   ]
  },
  {
   "cell_type": "code",
   "execution_count": 3,
   "id": "b5b5eb32-1b5c-44c2-901c-0e9d1a4e36d2",
   "metadata": {},
   "outputs": [],
   "source": [
    "odbc load, exec(\"select * from [copd_425000_20250622]\") dsn(\"sqlserverconnect\")"
   ]
  },
  {
   "cell_type": "code",
   "execution_count": 4,
   "id": "0835f95f-a07b-4d29-b825-b3823bfad60e",
   "metadata": {
    "scrolled": true
   },
   "outputs": [
    {
     "name": "stdout",
     "output_type": "stream",
     "text": [
      "(74,041 missing values generated)\n",
      "(74,041 real changes made)\n",
      "(16,642 missing values generated)\n",
      "(16,642 real changes made)\n",
      "(2,589 missing values generated)\n",
      "variable bnf_code was str6 now str22\n",
      "(37,555 real changes made)\n",
      "variable bnf_code was str22 now str29\n",
      "(3,297 real changes made)\n",
      "(207 real changes made)\n",
      "(909 real changes made)\n",
      "(0 real changes made)\n",
      "(17,335 real changes made)\n",
      "(0 real changes made)\n",
      "(597 real changes made)\n",
      "variable ethnicity was str2 now str6\n",
      "(257,981 real changes made)\n",
      "(3,762 real changes made)\n",
      "(23,912 real changes made)\n",
      "(7,430 real changes made)\n",
      "(8,764 real changes made)\n",
      "variable ethnicity was str6 now str7\n",
      "(123,151 real changes made)\n"
     ]
    }
   ],
   "source": [
    "generate test=0 if missing(drug_dt)\n",
    "replace test=1 if ! missing(drug_dt)  \n",
    "\n",
    "generate diag=0 if missing(diag_dt)\n",
    "replace diag=1 if ! missing(diag_dt)  \n",
    "\n",
    "gen start_year=year(fu_start_dt)\n",
    "\n",
    "\n",
    "egen agecat = cut(age), at(16,30,70,120)\n",
    "label def agecat_lab 16 \"Young\" 30 \"0Middle\" 70 \"Elderly\" 120 \"weird\"\n",
    "label values agecat agecat_lab\n",
    "\n",
    "egen yearcat = cut(start_year), at(2004,2010,2016,2025)\n",
    "label def yearcat_lab 2004 \"2004-2009\" 2010 \"2010-2015\" 2016 \"2016-2020\" \n",
    "label values yearcat yearcat_lab\n",
    "\n",
    "egen imdcat = cut(imd_decile), at(0,4,8,11)\n",
    "label def imdcat_lab 0 \"1-3\" 4 \"4-7\" 8 \"8-10\" \n",
    "label values imdcat imdcat_lab\n",
    "\n",
    "\n",
    "replace bnf_code = \"Adrenoreceptor agonist\" if bnf_code== \"030101\"\n",
    "replace bnf_code = \"Antimuscarinic Bronchodilator\" if bnf_code== \"030102\"\n",
    "replace bnf_code = \"Theophylline\" if bnf_code== \"030103\"\n",
    "replace bnf_code = \"Compound bronchodilator\" if bnf_code== \"030104\"\n",
    "replace bnf_code = \"Devices\" if bnf_code== \"030105\" | bnf_code==\"210102\" | bnf_code==\"211200\"\n",
    "replace bnf_code = \"Corticosteroids\" if bnf_code== \"030200\"\n",
    "replace bnf_code = \"Topical nasal decongestance\" if bnf_code== \"120202\"\n",
    "replace bnf_code = \"Other/unknown\" if missing(bnf_code) & ! missing(drug_dt)\n",
    "replace bnf_code = \"OCT\" if bnf_code== \"060302\"\n",
    "\n",
    "\n",
    "\n",
    "replace ethnicity=\"0white\" if ethnicity==\"1\"\n",
    "replace ethnicity=\"Other\" if ethnicity==\"2\"\n",
    "replace ethnicity=\"Other\" if ethnicity==\"3\"\n",
    "replace ethnicity=\"Other\" if ethnicity==\"4\"\n",
    "replace ethnicity=\"Other\" if ethnicity==\"5\"\n",
    "replace ethnicity=\"Missing\" if ethnicity==\"99\"\n",
    "\n",
    "\n",
    "encode bnf_code, generate(bnf_code_values) \n",
    "encode description, generate(description_values)\n",
    "encode ethnicity, generate(ethnicity_values) \n",
    "\n",
    "gen diag_neg=diag==0\n",
    "gen diag_pos=diag==1\n",
    "encode region_name, generate(region) label(regionlbl)\n",
    "encode ethnicity, generate(ethnic)\n"
   ]
  },
  {
   "cell_type": "code",
   "execution_count": 5,
   "id": "4bb67b58-5460-4077-bd5d-6252a35d7c1e",
   "metadata": {},
   "outputs": [
    {
     "name": "stdout",
     "output_type": "stream",
     "text": [
      "(bin=19, start=16, width=5)\n"
     ]
    },
    {
     "data": {
      "image/png": "[encoded data removed]",
      "text/plain": [
       "<IPython.core.display.Image object>"
      ]
     },
     "metadata": {},
     "output_type": "display_data"
    }
   ],
   "source": [
    "histogram age, width(5)\n"
   ]
  },
  {
   "cell_type": "markdown",
   "id": "cfdd2c1f-86b9-4840-8106-662ce151f20e",
   "metadata": {},
   "source": [
    "This table holds one randomly selected diagnostic code found during the observation period. The table is truncated to only include diagnostic codes with a count of 10 or more."
   ]
  },
  {
   "cell_type": "code",
   "execution_count": 6,
   "id": "6544a018-204b-4fcb-b5ab-d9ec745e764f",
   "metadata": {},
   "outputs": [
    {
     "name": "stdout",
     "output_type": "stream",
     "text": [
      "\n",
      "  +-----------------------------------------------------------------------------------------------------+\n",
      "  |                                                               description   Freq.   Percent     %<= |\n",
      "  |-----------------------------------------------------------------------------------------------------|\n",
      "  |                       Chronic obstructive pulmonary disease annual review    2346     14.10   14.10 |\n",
      "  |                       chronic obstructive pulmonary disease annual review    2321     13.95   28.04 |\n",
      "  |                     other specified chronic obstructive pulmonary disease    2129     12.79   40.84 |\n",
      "  |                                               chr. airway obstruction nos    1819     10.93   51.77 |\n",
      "  |                 acute exacerbation of chronic obstructive airways disease     956      5.74   57.51 |\n",
      "  |-----------------------------------------------------------------------------------------------------|\n",
      "  |               chronic obstructive pulmonary disease monitoring 1st letter     876      5.26   62.77 |\n",
      "  |               Chronic obstructive pulmonary disease monitoring 1st letter     867      5.21   67.98 |\n",
      "  |                          chronic obstructive pulmonary disease monitoring     656      3.94   71.93 |\n",
      "  |                          Chronic obstructive pulmonary disease monitoring     456      2.74   74.67 |\n",
      "  |                                Mild chronic obstructive pulmonary disease     363      2.18   76.85 |\n",
      "  |-----------------------------------------------------------------------------------------------------|\n",
      "  |                                mild chronic obstructive pulmonary disease     336      2.02   78.87 |\n",
      "  |                            moderate chronic obstructive pulmonary disease     327      1.96   80.83 |\n",
      "  |                            Moderate chronic obstructive pulmonary disease     301      1.81   82.64 |\n",
      "  |                                            airways obstructn irreversible     208      1.25   83.89 |\n",
      "  |                                                            bronchitis nos     203      1.22   85.11 |\n",
      "  |-----------------------------------------------------------------------------------------------------|\n",
      "  |                                                                 emphysema     187      1.12   86.23 |\n",
      "  |                                           COPD self-management plan given     184      1.11   87.34 |\n",
      "  |                                                           other emphysema     179      1.08   88.41 |\n",
      "  |                              severe chronic obstructive pulmonary disease     153      0.92   89.33 |\n",
      "  |                              Severe chronic obstructive pulmonary disease     149      0.90   90.23 |\n",
      "  |-----------------------------------------------------------------------------------------------------|\n",
      "  |                                                    Bronchitis unspecified     129      0.78   91.00 |\n",
      "  |                                                 chronic wheezy bronchitis     104      0.62   91.63 |\n",
      "  |                                   chronic obstructive airways disease nos     100      0.60   92.23 |\n",
      "  |                           chronic obstructive pulmonary disease follow-up      98      0.59   92.82 |\n",
      "  |                           Chronic obstructive pulmonary disease follow-up      91      0.55   93.37 |\n",
      "  |-----------------------------------------------------------------------------------------------------|\n",
      "  |       acute infective exacerbation of chronic obstructive airways disease      80      0.48   93.85 |\n",
      "  |               Chronic obstructive pulmonary disease monitoring 2nd letter      75      0.45   94.30 |\n",
      "  |                    Chronic obstructive pulmonary disease 6 monthly review      74      0.44   94.74 |\n",
      "  |              Acute infective exacerbation chronic obstruct airway disease      69      0.41   95.16 |\n",
      "  |                    chronic obstructive pulmonary disease 6 monthly review      68      0.41   95.57 |\n",
      "  |-----------------------------------------------------------------------------------------------------|\n",
      "  |               chronic obstructive pulmonary disease monitoring 2nd letter      61      0.37   95.93 |\n",
      "  |                chronic obstructive pulmonary disease monitor phone invite      48      0.29   96.22 |\n",
      "  |               Chron obstruct pulmonary dis wth acute exacerbation, unspec      44      0.26   96.48 |\n",
      "  |              Chronic obstructive pulmonary disease monitoring verb invite      44      0.26   96.75 |\n",
      "  |                    chronic obstructive pulmonary disease monitoring admin      42      0.25   97.00 |\n",
      "  |-----------------------------------------------------------------------------------------------------|\n",
      "  |                Chronic obstructive pulmonary disease monitor phone invite      41      0.25   97.25 |\n",
      "  |                                                        chronic bronchitis      40      0.24   97.49 |\n",
      "  |                    Chronic obstructive pulmonary disease monitoring admin      37      0.22   97.71 |\n",
      "  |               chronic obstructive pulmonary disease monitoring 3rd letter      28      0.17   97.88 |\n",
      "  |                    Chronic obstructive pulmonary disease 3 monthly review      26      0.16   98.04 |\n",
      "  |-----------------------------------------------------------------------------------------------------|\n",
      "  |               Chronic obstructive pulmonary disease monitoring 3rd letter      25      0.15   98.19 |\n",
      "  | acute non-infective exacerbation of chronic obstructive pulmonary disease      24      0.14   98.33 |\n",
      "  |              chronic obstructive pulmonary disease monitoring verb invite      23      0.14   98.47 |\n",
      "  |                                  Acute non-infective exacerbation of COPD      21      0.13   98.59 |\n",
      "  |                                                      Admit COPD emergency      20      0.12   98.71 |\n",
      "  |-----------------------------------------------------------------------------------------------------|\n",
      "  |                                                      admit copd emergency      19      0.11   98.83 |\n",
      "  |                                                             emphysema nos      15      0.09   98.92 |\n",
      "  |                      Chronic obstructive pulmonary disease monitoring due      14      0.08   99.00 |\n",
      "  |              Chronic obstructive pulmonary disease does not disturb sleep      13      0.08   99.08 |\n",
      "  |                      chronic obstructive pulmonary disease monitoring due      13      0.08   99.16 |\n",
      "  |-----------------------------------------------------------------------------------------------------|\n",
      "  |                           Emergency COPD admission since last appointment      11      0.07   99.22 |\n",
      "  |                    chronic obstructive pulmonary disease 3 monthly review      11      0.07   99.29 |\n",
      "  |              chronic obstructive pulmonary disease does not disturb sleep      11      0.07   99.36 |\n",
      "  |                             Chronic obstructive pulmonary disease finding      10      0.06   99.42 |\n",
      "  |                           emergency copd admission since last appointment      10      0.06   99.48 |\n",
      "  |-----------------------------------------------------------------------------------------------------|\n",
      "  |                         very severe chronic obstructive pulmonary disease      10      0.06   99.54 |\n",
      "  +-----------------------------------------------------------------------------------------------------+\n"
     ]
    }
   ],
   "source": [
    "set linesize 132\n",
    "groups description , select(f >= 10) ord(h) table "
   ]
  },
  {
   "cell_type": "markdown",
   "id": "7d01eb90-5ca1-4146-aafb-680a81450cc3",
   "metadata": {},
   "source": [
    "These tables holds one randomly selected prescrption during the observation period. The table is truncated to only include codes with a count of 10 or more.\n"
   ]
  },
  {
   "cell_type": "code",
   "execution_count": 7,
   "id": "a4acd83f-5b6a-49e7-8b49-5dc1f78f2d1a",
   "metadata": {},
   "outputs": [
    {
     "name": "stdout",
     "output_type": "stream",
     "text": [
      "\n",
      "  +---------------------------------------------------------+\n",
      "  |                      bnf_code   Freq.   Percent     %<= |\n",
      "  |---------------------------------------------------------|\n",
      "  |        Adrenoreceptor agonist   37555     50.72   50.72 |\n",
      "  |               Corticosteroids   17335     23.41   74.13 |\n",
      "  |                        060302   14136     19.09   93.23 |\n",
      "  | Antimuscarinic Bronchodilator    3297      4.45   97.68 |\n",
      "  |       Compound bronchodilator     909      1.23   98.91 |\n",
      "  |---------------------------------------------------------|\n",
      "  |                 Other/unknown     597      0.81   99.71 |\n",
      "  |                  Theophylline     207      0.28   99.99 |\n",
      "  +---------------------------------------------------------+\n"
     ]
    }
   ],
   "source": [
    "set linesize 132\n",
    "groups bnf_code , select(f >= 10) ord(h) table "
   ]
  },
  {
   "cell_type": "markdown",
   "id": "67837c2c-bbb5-4681-8000-cd8b3f6cac51",
   "metadata": {},
   "source": [
    "### Results\n",
    "#### Overall"
   ]
  },
  {
   "cell_type": "code",
   "execution_count": 8,
   "id": "733c0f2e-1179-49dc-b95d-48547a864674",
   "metadata": {},
   "outputs": [
    {
     "name": "stdout",
     "output_type": "stream",
     "text": [
      "\n",
      "           |         test\n",
      "      diag |      Pos.       Neg. |     Total\n",
      "-----------+----------------------+----------\n",
      "  Abnormal |    15,545      1,097 |    16,642 \n",
      "    Normal |    58,496    349,862 |   408,358 \n",
      "-----------+----------------------+----------\n",
      "     Total |    74,041    350,959 |   425,000 \n",
      "True abnormal diagnosis defined as diag = 1\n",
      "\n",
      "\n",
      "                                                  [95% Confidence Interval]\n",
      "---------------------------------------------------------------------------\n",
      "Prevalence                         Pr(A)      3.9%      3.9%       4.0%\n",
      "---------------------------------------------------------------------------\n",
      "Sensitivity                      Pr(+|A)     93.4%     93.0%     93.8%\n",
      "Specificity                      Pr(-|N)     85.7%     85.6%     85.8%\n",
      "ROC area               (Sens. + Spec.)/2      0.90      0.89      0.90 \n",
      "---------------------------------------------------------------------------\n",
      "Likelihood ratio (+)     Pr(+|A)/Pr(+|N)      6.52      6.47      6.58 \n",
      "Likelihood ratio (-)     Pr(-|A)/Pr(-|N)      0.08      0.07      0.08 \n",
      "Odds ratio                   LR(+)/LR(-)     84.75     79.67     90.16 \n",
      "Positive predictive value        Pr(A|+)     21.0%     20.7%     21.3% \n",
      "Negative predictive value        Pr(N|-)     99.7%     99.7%     99.7% \n",
      "---------------------------------------------------------------------------\n"
     ]
    }
   ],
   "source": [
    "diagt diag test"
   ]
  },
  {
   "cell_type": "markdown",
   "id": "b119ffa3-90d8-4e4f-9f8d-30cca2284b37",
   "metadata": {},
   "source": [
    "#### Males"
   ]
  },
  {
   "cell_type": "code",
   "execution_count": 9,
   "id": "81028f5e-4e7a-4bb4-b0f6-71d8d0821075",
   "metadata": {},
   "outputs": [
    {
     "name": "stdout",
     "output_type": "stream",
     "text": [
      "\n",
      "           |         test\n",
      "      diag |      Pos.       Neg. |     Total\n",
      "-----------+----------------------+----------\n",
      "  Abnormal |     8,359        614 |     8,973 \n",
      "    Normal |    23,977    175,335 |   199,312 \n",
      "-----------+----------------------+----------\n",
      "     Total |    32,336    175,949 |   208,285 \n",
      "True abnormal diagnosis defined as diag = 1\n",
      "\n",
      "\n",
      "                                                  [95% Confidence Interval]\n",
      "---------------------------------------------------------------------------\n",
      "Prevalence                         Pr(A)      4.3%      4.2%       4.4%\n",
      "---------------------------------------------------------------------------\n",
      "Sensitivity                      Pr(+|A)     93.2%     92.6%     93.7%\n",
      "Specificity                      Pr(-|N)     88.0%     87.8%     88.1%\n",
      "ROC area               (Sens. + Spec.)/2      0.91      0.90      0.91 \n",
      "---------------------------------------------------------------------------\n",
      "Likelihood ratio (+)     Pr(+|A)/Pr(+|N)      7.74      7.64      7.85 \n",
      "Likelihood ratio (-)     Pr(-|A)/Pr(-|N)      0.08      0.07      0.08 \n",
      "Odds ratio                   LR(+)/LR(-)     99.55     91.62    108.17 \n",
      "Positive predictive value        Pr(A|+)     25.9%     25.4%     26.3% \n",
      "Negative predictive value        Pr(N|-)     99.7%     99.6%     99.7% \n",
      "---------------------------------------------------------------------------\n"
     ]
    }
   ],
   "source": [
    "diagt diag test if sex==1"
   ]
  },
  {
   "cell_type": "markdown",
   "id": "762df1ac-de32-43e9-8cb3-6696c91e2459",
   "metadata": {},
   "source": [
    "#### Females"
   ]
  },
  {
   "cell_type": "code",
   "execution_count": 10,
   "id": "7fc985e3-7757-4908-ae5a-5d346ee7ccb6",
   "metadata": {},
   "outputs": [
    {
     "name": "stdout",
     "output_type": "stream",
     "text": [
      "\n",
      "           |         test\n",
      "      diag |      Pos.       Neg. |     Total\n",
      "-----------+----------------------+----------\n",
      "  Abnormal |     7,186        483 |     7,669 \n",
      "    Normal |    34,518    174,519 |   209,037 \n",
      "-----------+----------------------+----------\n",
      "     Total |    41,704    175,002 |   216,706 \n",
      "True abnormal diagnosis defined as diag = 1\n",
      "\n",
      "\n",
      "                                                  [95% Confidence Interval]\n",
      "---------------------------------------------------------------------------\n",
      "Prevalence                         Pr(A)      3.5%      3.5%       3.6%\n",
      "---------------------------------------------------------------------------\n",
      "Sensitivity                      Pr(+|A)     93.7%     93.1%     94.2%\n",
      "Specificity                      Pr(-|N)     83.5%     83.3%     83.6%\n",
      "ROC area               (Sens. + Spec.)/2      0.89      0.88      0.89 \n",
      "---------------------------------------------------------------------------\n",
      "Likelihood ratio (+)     Pr(+|A)/Pr(+|N)      5.67      5.61      5.74 \n",
      "Likelihood ratio (-)     Pr(-|A)/Pr(-|N)      0.08      0.07      0.08 \n",
      "Odds ratio                   LR(+)/LR(-)     75.22     68.55     82.54 \n",
      "Positive predictive value        Pr(A|+)     17.2%     16.9%     17.6% \n",
      "Negative predictive value        Pr(N|-)     99.7%     99.7%     99.7% \n",
      "---------------------------------------------------------------------------\n"
     ]
    }
   ],
   "source": [
    "diagt diag test if sex==0"
   ]
  },
  {
   "cell_type": "markdown",
   "id": "ab8954a7-060c-4eba-adea-1044fb6bb9ea",
   "metadata": {},
   "source": [
    "#### Age\n",
    "*16-29*"
   ]
  },
  {
   "cell_type": "code",
   "execution_count": 11,
   "id": "f9aa943b-6489-4d70-a905-4aa3b8f2cb6e",
   "metadata": {},
   "outputs": [
    {
     "name": "stdout",
     "output_type": "stream",
     "text": [
      "\n",
      "           |         test\n",
      "      diag |      Pos.       Neg. |     Total\n",
      "-----------+----------------------+----------\n",
      "  Abnormal |        59         31 |        90 \n",
      "    Normal |    12,924    104,660 |   117,584 \n",
      "-----------+----------------------+----------\n",
      "     Total |    12,983    104,691 |   117,674 \n",
      "True abnormal diagnosis defined as diag = 1\n",
      "\n",
      "\n",
      "                                                  [95% Confidence Interval]\n",
      "---------------------------------------------------------------------------\n",
      "Prevalence                         Pr(A)      0.1%      0.1%       0.1%\n",
      "---------------------------------------------------------------------------\n",
      "Sensitivity                      Pr(+|A)     65.6%     54.8%     75.3%\n",
      "Specificity                      Pr(-|N)     89.0%     88.8%     89.2%\n",
      "ROC area               (Sens. + Spec.)/2      0.77      0.72      0.82 \n",
      "---------------------------------------------------------------------------\n",
      "Likelihood ratio (+)     Pr(+|A)/Pr(+|N)      5.96      5.13      6.93 \n",
      "Likelihood ratio (-)     Pr(-|A)/Pr(-|N)      0.39      0.29      0.51 \n",
      "Odds ratio                   LR(+)/LR(-)     15.41     10.01     23.74 \n",
      "Positive predictive value        Pr(A|+)      0.5%      0.3%      0.6% \n",
      "Negative predictive value        Pr(N|-)    100.0%    100.0%    100.0% \n",
      "---------------------------------------------------------------------------\n"
     ]
    }
   ],
   "source": [
    "diagt diag test if agecat==16"
   ]
  },
  {
   "cell_type": "markdown",
   "id": "999f9154-f87e-44c7-8928-1345fa5c5958",
   "metadata": {},
   "source": [
    "*30-69*"
   ]
  },
  {
   "cell_type": "code",
   "execution_count": 12,
   "id": "6fcb0167-b359-4f24-91e3-a10fb2caa610",
   "metadata": {},
   "outputs": [
    {
     "name": "stdout",
     "output_type": "stream",
     "text": [
      "\n",
      "           |         test\n",
      "      diag |      Pos.       Neg. |     Total\n",
      "-----------+----------------------+----------\n",
      "  Abnormal |     6,805        497 |     7,302 \n",
      "    Normal |    30,591    183,502 |   214,093 \n",
      "-----------+----------------------+----------\n",
      "     Total |    37,396    183,999 |   221,395 \n",
      "True abnormal diagnosis defined as diag = 1\n",
      "\n",
      "\n",
      "                                                  [95% Confidence Interval]\n",
      "---------------------------------------------------------------------------\n",
      "Prevalence                         Pr(A)      3.3%      3.2%       3.4%\n",
      "---------------------------------------------------------------------------\n",
      "Sensitivity                      Pr(+|A)     93.2%     92.6%     93.8%\n",
      "Specificity                      Pr(-|N)     85.7%     85.6%     85.9%\n",
      "ROC area               (Sens. + Spec.)/2      0.89      0.89      0.90 \n",
      "---------------------------------------------------------------------------\n",
      "Likelihood ratio (+)     Pr(+|A)/Pr(+|N)      6.52      6.44      6.60 \n",
      "Likelihood ratio (-)     Pr(-|A)/Pr(-|N)      0.08      0.07      0.09 \n",
      "Odds ratio                   LR(+)/LR(-)     82.13     74.93     90.03 \n",
      "Positive predictive value        Pr(A|+)     18.2%     17.8%     18.6% \n",
      "Negative predictive value        Pr(N|-)     99.7%     99.7%     99.8% \n",
      "---------------------------------------------------------------------------\n"
     ]
    }
   ],
   "source": [
    "diagt diag test if agecat==30"
   ]
  },
  {
   "cell_type": "code",
   "execution_count": 13,
   "id": "fd782079-4378-4cc3-9a2c-4adb92379d41",
   "metadata": {},
   "outputs": [
    {
     "name": "stdout",
     "output_type": "stream",
     "text": [
      "\n",
      "           |         test\n",
      "      diag |      Pos.       Neg. |     Total\n",
      "-----------+----------------------+----------\n",
      "  Abnormal |     8,681        569 |     9,250 \n",
      "    Normal |    14,981     61,700 |    76,681 \n",
      "-----------+----------------------+----------\n",
      "     Total |    23,662     62,269 |    85,931 \n",
      "True abnormal diagnosis defined as diag = 1\n",
      "\n",
      "\n",
      "                                                  [95% Confidence Interval]\n",
      "---------------------------------------------------------------------------\n",
      "Prevalence                         Pr(A)     10.8%     10.6%      11.0%\n",
      "---------------------------------------------------------------------------\n",
      "Sensitivity                      Pr(+|A)     93.8%     93.3%     94.3%\n",
      "Specificity                      Pr(-|N)     80.5%     80.2%     80.7%\n",
      "ROC area               (Sens. + Spec.)/2      0.87      0.87      0.87 \n",
      "---------------------------------------------------------------------------\n",
      "Likelihood ratio (+)     Pr(+|A)/Pr(+|N)      4.80      4.73      4.88 \n",
      "Likelihood ratio (-)     Pr(-|A)/Pr(-|N)      0.08      0.07      0.08 \n",
      "Odds ratio                   LR(+)/LR(-)     62.84     57.62     68.52 \n",
      "Positive predictive value        Pr(A|+)     36.7%     36.1%     37.3% \n",
      "Negative predictive value        Pr(N|-)     99.1%     99.0%     99.2% \n",
      "---------------------------------------------------------------------------\n"
     ]
    }
   ],
   "source": [
    "diagt diag test if agecat==70"
   ]
  },
  {
   "cell_type": "markdown",
   "id": "23455479-0f98-4886-a36c-770376084911",
   "metadata": {},
   "source": [
    "#### Year at start of oberservation period \n",
    "*2004-2009*"
   ]
  },
  {
   "cell_type": "code",
   "execution_count": 14,
   "id": "9c58ecee-bd42-47a9-ad46-f51305e689bf",
   "metadata": {},
   "outputs": [
    {
     "name": "stdout",
     "output_type": "stream",
     "text": [
      "\n",
      "           |         test\n",
      "      diag |      Pos.       Neg. |     Total\n",
      "-----------+----------------------+----------\n",
      "  Abnormal |     6,104        463 |     6,567 \n",
      "    Normal |    21,456    121,977 |   143,433 \n",
      "-----------+----------------------+----------\n",
      "     Total |    27,560    122,440 |   150,000 \n",
      "True abnormal diagnosis defined as diag = 1\n",
      "\n",
      "\n",
      "                                                  [95% Confidence Interval]\n",
      "---------------------------------------------------------------------------\n",
      "Prevalence                         Pr(A)      4.4%      4.3%       4.5%\n",
      "---------------------------------------------------------------------------\n",
      "Sensitivity                      Pr(+|A)     92.9%     92.3%     93.6%\n",
      "Specificity                      Pr(-|N)     85.0%     84.9%     85.2%\n",
      "ROC area               (Sens. + Spec.)/2      0.89      0.89      0.89 \n",
      "---------------------------------------------------------------------------\n",
      "Likelihood ratio (+)     Pr(+|A)/Pr(+|N)      6.21      6.13      6.30 \n",
      "Likelihood ratio (-)     Pr(-|A)/Pr(-|N)      0.08      0.08      0.09 \n",
      "Odds ratio                   LR(+)/LR(-)     74.95     68.12     82.46 \n",
      "Positive predictive value        Pr(A|+)     22.1%     21.7%     22.6% \n",
      "Negative predictive value        Pr(N|-)     99.6%     99.6%     99.7% \n",
      "---------------------------------------------------------------------------\n"
     ]
    }
   ],
   "source": [
    "diagt diag test if yearcat==2004"
   ]
  },
  {
   "cell_type": "markdown",
   "id": "d9f3db50-6898-4b47-81ef-4ea609bb28d8",
   "metadata": {},
   "source": [
    "*2010-2015*"
   ]
  },
  {
   "cell_type": "code",
   "execution_count": 15,
   "id": "6b326410-d900-498f-b736-4ced1ea7fa5d",
   "metadata": {},
   "outputs": [
    {
     "name": "stdout",
     "output_type": "stream",
     "text": [
      "\n",
      "           |         test\n",
      "      diag |      Pos.       Neg. |     Total\n",
      "-----------+----------------------+----------\n",
      "  Abnormal |     5,401        346 |     5,747 \n",
      "    Normal |    20,941    123,312 |   144,253 \n",
      "-----------+----------------------+----------\n",
      "     Total |    26,342    123,658 |   150,000 \n",
      "True abnormal diagnosis defined as diag = 1\n",
      "\n",
      "\n",
      "                                                  [95% Confidence Interval]\n",
      "---------------------------------------------------------------------------\n",
      "Prevalence                         Pr(A)      3.8%      3.7%       3.9%\n",
      "---------------------------------------------------------------------------\n",
      "Sensitivity                      Pr(+|A)     94.0%     93.3%     94.6%\n",
      "Specificity                      Pr(-|N)     85.5%     85.3%     85.7%\n",
      "ROC area               (Sens. + Spec.)/2      0.90      0.89      0.90 \n",
      "---------------------------------------------------------------------------\n",
      "Likelihood ratio (+)     Pr(+|A)/Pr(+|N)      6.47      6.38      6.57 \n",
      "Likelihood ratio (-)     Pr(-|A)/Pr(-|N)      0.07      0.06      0.08 \n",
      "Odds ratio                   LR(+)/LR(-)     91.92     82.38    102.57 \n",
      "Positive predictive value        Pr(A|+)     20.5%     20.0%     21.0% \n",
      "Negative predictive value        Pr(N|-)     99.7%     99.7%     99.7% \n",
      "---------------------------------------------------------------------------\n"
     ]
    }
   ],
   "source": [
    "diagt diag test if yearcat==2010"
   ]
  },
  {
   "cell_type": "markdown",
   "id": "1546a4d9-adee-4208-88e0-3b6aa4d3d14c",
   "metadata": {},
   "source": [
    "*2016-2020*"
   ]
  },
  {
   "cell_type": "code",
   "execution_count": 16,
   "id": "dddfe5ba-1a16-4afc-91e5-cbffb4f25b77",
   "metadata": {},
   "outputs": [
    {
     "name": "stdout",
     "output_type": "stream",
     "text": [
      "\n",
      "           |         test\n",
      "      diag |      Pos.       Neg. |     Total\n",
      "-----------+----------------------+----------\n",
      "  Abnormal |     4,040        288 |     4,328 \n",
      "    Normal |    16,099    104,573 |   120,672 \n",
      "-----------+----------------------+----------\n",
      "     Total |    20,139    104,861 |   125,000 \n",
      "True abnormal diagnosis defined as diag = 1\n",
      "\n",
      "\n",
      "                                                  [95% Confidence Interval]\n",
      "---------------------------------------------------------------------------\n",
      "Prevalence                         Pr(A)      3.5%      3.4%       3.6%\n",
      "---------------------------------------------------------------------------\n",
      "Sensitivity                      Pr(+|A)     93.3%     92.6%     94.1%\n",
      "Specificity                      Pr(-|N)     86.7%     86.5%     86.9%\n",
      "ROC area               (Sens. + Spec.)/2      0.90      0.90      0.90 \n",
      "---------------------------------------------------------------------------\n",
      "Likelihood ratio (+)     Pr(+|A)/Pr(+|N)      7.00      6.88      7.11 \n",
      "Likelihood ratio (-)     Pr(-|A)/Pr(-|N)      0.08      0.07      0.09 \n",
      "Odds ratio                   LR(+)/LR(-)     91.12     80.77    102.80 \n",
      "Positive predictive value        Pr(A|+)     20.1%     19.5%     20.6% \n",
      "Negative predictive value        Pr(N|-)     99.7%     99.7%     99.8% \n",
      "---------------------------------------------------------------------------\n"
     ]
    }
   ],
   "source": [
    "diagt diag test if yearcat==2016"
   ]
  },
  {
   "cell_type": "markdown",
   "id": "9318e823-cf06-4695-a86c-8b96ace454c5",
   "metadata": {},
   "source": [
    "#### IMD of practice\n",
    "*1-3*"
   ]
  },
  {
   "cell_type": "code",
   "execution_count": 17,
   "id": "0c48ed3a-ce83-4c14-9447-6c52d4d82ed3",
   "metadata": {},
   "outputs": [
    {
     "name": "stdout",
     "output_type": "stream",
     "text": [
      "\n",
      "           |         test\n",
      "      diag |      Pos.       Neg. |     Total\n",
      "-----------+----------------------+----------\n",
      "  Abnormal |     6,202        439 |     6,641 \n",
      "    Normal |    20,456    127,454 |   147,910 \n",
      "-----------+----------------------+----------\n",
      "     Total |    26,658    127,893 |   154,551 \n",
      "True abnormal diagnosis defined as diag = 1\n",
      "\n",
      "\n",
      "                                                  [95% Confidence Interval]\n",
      "---------------------------------------------------------------------------\n",
      "Prevalence                         Pr(A)      4.3%      4.2%       4.4%\n",
      "---------------------------------------------------------------------------\n",
      "Sensitivity                      Pr(+|A)     93.4%     92.8%     94.0%\n",
      "Specificity                      Pr(-|N)     86.2%     86.0%     86.3%\n",
      "ROC area               (Sens. + Spec.)/2      0.90      0.89      0.90 \n",
      "---------------------------------------------------------------------------\n",
      "Likelihood ratio (+)     Pr(+|A)/Pr(+|N)      6.75      6.66      6.85 \n",
      "Likelihood ratio (-)     Pr(-|A)/Pr(-|N)      0.08      0.07      0.08 \n",
      "Odds ratio                   LR(+)/LR(-)     88.02     79.82     97.08 \n",
      "Positive predictive value        Pr(A|+)     23.3%     22.8%     23.8% \n",
      "Negative predictive value        Pr(N|-)     99.7%     99.6%     99.7% \n",
      "---------------------------------------------------------------------------\n"
     ]
    }
   ],
   "source": [
    "diagt diag test if imdcat==0"
   ]
  },
  {
   "cell_type": "markdown",
   "id": "cc20d8e3-26a9-4217-989b-54c2c73d0386",
   "metadata": {},
   "source": [
    "*4-7*"
   ]
  },
  {
   "cell_type": "code",
   "execution_count": 18,
   "id": "2f034372-ceb8-4f41-bd39-9d6ef321a64a",
   "metadata": {},
   "outputs": [
    {
     "name": "stdout",
     "output_type": "stream",
     "text": [
      "\n",
      "           |         test\n",
      "      diag |      Pos.       Neg. |     Total\n",
      "-----------+----------------------+----------\n",
      "  Abnormal |     5,391        322 |     5,713 \n",
      "    Normal |    20,800    116,532 |   137,332 \n",
      "-----------+----------------------+----------\n",
      "     Total |    26,191    116,854 |   143,045 \n",
      "True abnormal diagnosis defined as diag = 1\n",
      "\n",
      "\n",
      "                                                  [95% Confidence Interval]\n",
      "---------------------------------------------------------------------------\n",
      "Prevalence                         Pr(A)      4.0%      3.9%       4.1%\n",
      "---------------------------------------------------------------------------\n",
      "Sensitivity                      Pr(+|A)     94.4%     93.7%     94.9%\n",
      "Specificity                      Pr(-|N)     84.9%     84.7%     85.0%\n",
      "ROC area               (Sens. + Spec.)/2      0.90      0.89      0.90 \n",
      "---------------------------------------------------------------------------\n",
      "Likelihood ratio (+)     Pr(+|A)/Pr(+|N)      6.23      6.14      6.32 \n",
      "Likelihood ratio (-)     Pr(-|A)/Pr(-|N)      0.07      0.06      0.07 \n",
      "Odds ratio                   LR(+)/LR(-)     93.80     83.75    105.06 \n",
      "Positive predictive value        Pr(A|+)     20.6%     20.1%     21.1% \n",
      "Negative predictive value        Pr(N|-)     99.7%     99.7%     99.8% \n",
      "---------------------------------------------------------------------------\n"
     ]
    }
   ],
   "source": [
    "diagt diag test if imdcat==4"
   ]
  },
  {
   "cell_type": "markdown",
   "id": "a843bc14-ff1a-4435-a50c-c9769b8c3d3b",
   "metadata": {},
   "source": [
    "*8-10*"
   ]
  },
  {
   "cell_type": "code",
   "execution_count": 19,
   "id": "e52a500d-f3cf-4da6-997c-bbc1e902d199",
   "metadata": {},
   "outputs": [
    {
     "name": "stdout",
     "output_type": "stream",
     "text": [
      "\n",
      "           |         test\n",
      "      diag |      Pos.       Neg. |     Total\n",
      "-----------+----------------------+----------\n",
      "  Abnormal |     3,926        336 |     4,262 \n",
      "    Normal |    17,031    103,522 |   120,553 \n",
      "-----------+----------------------+----------\n",
      "     Total |    20,957    103,858 |   124,815 \n",
      "True abnormal diagnosis defined as diag = 1\n",
      "\n",
      "\n",
      "                                                  [95% Confidence Interval]\n",
      "---------------------------------------------------------------------------\n",
      "Prevalence                         Pr(A)      3.4%      3.3%       3.5%\n",
      "---------------------------------------------------------------------------\n",
      "Sensitivity                      Pr(+|A)     92.1%     91.3%     92.9%\n",
      "Specificity                      Pr(-|N)     85.9%     85.7%     86.1%\n",
      "ROC area               (Sens. + Spec.)/2      0.89      0.89      0.89 \n",
      "---------------------------------------------------------------------------\n",
      "Likelihood ratio (+)     Pr(+|A)/Pr(+|N)      6.52      6.41      6.63 \n",
      "Likelihood ratio (-)     Pr(-|A)/Pr(-|N)      0.09      0.08      0.10 \n",
      "Odds ratio                   LR(+)/LR(-)     71.02     63.47     79.48 \n",
      "Positive predictive value        Pr(A|+)     18.7%     18.2%     19.3% \n",
      "Negative predictive value        Pr(N|-)     99.7%     99.6%     99.7% \n",
      "---------------------------------------------------------------------------\n"
     ]
    }
   ],
   "source": [
    "diagt diag test if imdcat==8"
   ]
  },
  {
   "cell_type": "markdown",
   "id": "cbbde183-5b60-4618-a548-81135cae76a0",
   "metadata": {},
   "source": [
    "#### Commissioning Regions\n",
    "EAST OF ENGLAND"
   ]
  },
  {
   "cell_type": "code",
   "execution_count": 20,
   "id": "1254da50-3ca4-47a1-b4d8-e07c6d920177",
   "metadata": {},
   "outputs": [
    {
     "name": "stdout",
     "output_type": "stream",
     "text": [
      "\n",
      "           |         test\n",
      "      diag |      Pos.       Neg. |     Total\n",
      "-----------+----------------------+----------\n",
      "  Abnormal |     3,327        185 |     3,512 \n",
      "    Normal |    14,174     71,951 |    86,125 \n",
      "-----------+----------------------+----------\n",
      "     Total |    17,501     72,136 |    89,637 \n",
      "True abnormal diagnosis defined as diag = 1\n",
      "\n",
      "\n",
      "                                                  [95% Confidence Interval]\n",
      "---------------------------------------------------------------------------\n",
      "Prevalence                         Pr(A)      3.9%      3.8%       4.0%\n",
      "---------------------------------------------------------------------------\n",
      "Sensitivity                      Pr(+|A)     94.7%     93.9%     95.4%\n",
      "Specificity                      Pr(-|N)     83.5%     83.3%     83.8%\n",
      "ROC area               (Sens. + Spec.)/2      0.89      0.89      0.90 \n",
      "---------------------------------------------------------------------------\n",
      "Likelihood ratio (+)     Pr(+|A)/Pr(+|N)      5.76      5.66      5.85 \n",
      "Likelihood ratio (-)     Pr(-|A)/Pr(-|N)      0.06      0.05      0.07 \n",
      "Odds ratio                   LR(+)/LR(-)     91.29     78.65    105.96 \n",
      "Positive predictive value        Pr(A|+)     19.0%     18.4%     19.6% \n",
      "Negative predictive value        Pr(N|-)     99.7%     99.7%     99.8% \n",
      "---------------------------------------------------------------------------\n"
     ]
    }
   ],
   "source": [
    "diagt diag test if regexm(region_name,\"ENGLAND\")==1"
   ]
  },
  {
   "cell_type": "markdown",
   "id": "b2f2b2c7-4c3b-4ae5-ad03-8edfbc58938d",
   "metadata": {},
   "source": [
    "London"
   ]
  },
  {
   "cell_type": "code",
   "execution_count": 21,
   "id": "18195511-cedc-42b1-8bae-bc6621364814",
   "metadata": {},
   "outputs": [
    {
     "name": "stdout",
     "output_type": "stream",
     "text": [
      "\n",
      "           |         test\n",
      "      diag |      Pos.       Neg. |     Total\n",
      "-----------+----------------------+----------\n",
      "  Abnormal |       263         38 |       301 \n",
      "    Normal |     1,706     14,718 |    16,424 \n",
      "-----------+----------------------+----------\n",
      "     Total |     1,969     14,756 |    16,725 \n",
      "True abnormal diagnosis defined as diag = 1\n",
      "\n",
      "\n",
      "                                                  [95% Confidence Interval]\n",
      "---------------------------------------------------------------------------\n",
      "Prevalence                         Pr(A)      1.8%      1.6%       2.0%\n",
      "---------------------------------------------------------------------------\n",
      "Sensitivity                      Pr(+|A)     87.4%     83.1%     90.9%\n",
      "Specificity                      Pr(-|N)     89.6%     89.1%     90.1%\n",
      "ROC area               (Sens. + Spec.)/2      0.88      0.87      0.90 \n",
      "---------------------------------------------------------------------------\n",
      "Likelihood ratio (+)     Pr(+|A)/Pr(+|N)      8.41      7.90      8.95 \n",
      "Likelihood ratio (-)     Pr(-|A)/Pr(-|N)      0.14      0.10      0.19 \n",
      "Odds ratio                   LR(+)/LR(-)     59.71     42.41     84.07 \n",
      "Positive predictive value        Pr(A|+)     13.4%     11.9%     14.9% \n",
      "Negative predictive value        Pr(N|-)     99.7%     99.6%     99.8% \n",
      "---------------------------------------------------------------------------\n"
     ]
    }
   ],
   "source": [
    "diagt diag test if regexm(region_name,\"LONDON\")==1"
   ]
  },
  {
   "cell_type": "markdown",
   "id": "1a78f370-7ebd-4e70-b301-73c6e75003fd",
   "metadata": {},
   "source": [
    "Midlands"
   ]
  },
  {
   "cell_type": "code",
   "execution_count": 22,
   "id": "265ce394-6410-4e76-a064-ec3d32c30eee",
   "metadata": {},
   "outputs": [
    {
     "name": "stdout",
     "output_type": "stream",
     "text": [
      "\n",
      "           |         test\n",
      "      diag |      Pos.       Neg. |     Total\n",
      "-----------+----------------------+----------\n",
      "  Abnormal |     2,139        155 |     2,294 \n",
      "    Normal |     7,099     37,150 |    44,249 \n",
      "-----------+----------------------+----------\n",
      "     Total |     9,238     37,305 |    46,543 \n",
      "True abnormal diagnosis defined as diag = 1\n",
      "\n",
      "\n",
      "                                                  [95% Confidence Interval]\n",
      "---------------------------------------------------------------------------\n",
      "Prevalence                         Pr(A)      4.9%      4.7%       5.1%\n",
      "---------------------------------------------------------------------------\n",
      "Sensitivity                      Pr(+|A)     93.2%     92.1%     94.2%\n",
      "Specificity                      Pr(-|N)     84.0%     83.6%     84.3%\n",
      "ROC area               (Sens. + Spec.)/2      0.89      0.88      0.89 \n",
      "---------------------------------------------------------------------------\n",
      "Likelihood ratio (+)     Pr(+|A)/Pr(+|N)      5.81      5.67      5.95 \n",
      "Likelihood ratio (-)     Pr(-|A)/Pr(-|N)      0.08      0.07      0.09 \n",
      "Odds ratio                   LR(+)/LR(-)     72.22     61.24     85.16 \n",
      "Positive predictive value        Pr(A|+)     23.2%     22.3%     24.0% \n",
      "Negative predictive value        Pr(N|-)     99.6%     99.5%     99.6% \n",
      "---------------------------------------------------------------------------\n"
     ]
    }
   ],
   "source": [
    "diagt diag test if regexm(region_name,\"MID\")==1"
   ]
  },
  {
   "cell_type": "markdown",
   "id": "0769a779-b7ae-4496-9ed2-a6feb1a1a94a",
   "metadata": {},
   "source": [
    "Yorkshire"
   ]
  },
  {
   "cell_type": "code",
   "execution_count": 23,
   "id": "83d73532-38e7-4fb2-a39b-5c1ef1b5b717",
   "metadata": {},
   "outputs": [
    {
     "name": "stdout",
     "output_type": "stream",
     "text": [
      "\n",
      "           |         test\n",
      "      diag |      Pos.       Neg. |     Total\n",
      "-----------+----------------------+----------\n",
      "  Abnormal |     3,489        254 |     3,743 \n",
      "    Normal |    11,306     71,062 |    82,368 \n",
      "-----------+----------------------+----------\n",
      "     Total |    14,795     71,316 |    86,111 \n",
      "True abnormal diagnosis defined as diag = 1\n",
      "\n",
      "\n",
      "                                                  [95% Confidence Interval]\n",
      "---------------------------------------------------------------------------\n",
      "Prevalence                         Pr(A)      4.3%      4.2%       4.5%\n",
      "---------------------------------------------------------------------------\n",
      "Sensitivity                      Pr(+|A)     93.2%     92.4%     94.0%\n",
      "Specificity                      Pr(-|N)     86.3%     86.0%     86.5%\n",
      "ROC area               (Sens. + Spec.)/2      0.90      0.89      0.90 \n",
      "---------------------------------------------------------------------------\n",
      "Likelihood ratio (+)     Pr(+|A)/Pr(+|N)      6.79      6.66      6.92 \n",
      "Likelihood ratio (-)     Pr(-|A)/Pr(-|N)      0.08      0.07      0.09 \n",
      "Odds ratio                   LR(+)/LR(-)     86.34     75.90     98.21 \n",
      "Positive predictive value        Pr(A|+)     23.6%     22.9%     24.3% \n",
      "Negative predictive value        Pr(N|-)     99.6%     99.6%     99.7% \n",
      "---------------------------------------------------------------------------\n"
     ]
    }
   ],
   "source": [
    "diagt diag test if regexm(region_name,\"YORK\")==1"
   ]
  },
  {
   "cell_type": "markdown",
   "id": "247339ad-15c3-4ac2-9458-c8b14082ff8c",
   "metadata": {},
   "source": [
    "North West"
   ]
  },
  {
   "cell_type": "code",
   "execution_count": 24,
   "id": "f9ddd2b2-2aa8-49c0-8d9b-ac27a3db55be",
   "metadata": {},
   "outputs": [
    {
     "name": "stdout",
     "output_type": "stream",
     "text": [
      "\n",
      "           |         test\n",
      "      diag |      Pos.       Neg. |     Total\n",
      "-----------+----------------------+----------\n",
      "  Abnormal |     1,792        117 |     1,909 \n",
      "    Normal |     5,909     39,775 |    45,684 \n",
      "-----------+----------------------+----------\n",
      "     Total |     7,701     39,892 |    47,593 \n",
      "True abnormal diagnosis defined as diag = 1\n",
      "\n",
      "\n",
      "                                                  [95% Confidence Interval]\n",
      "---------------------------------------------------------------------------\n",
      "Prevalence                         Pr(A)      4.0%      3.8%       4.2%\n",
      "---------------------------------------------------------------------------\n",
      "Sensitivity                      Pr(+|A)     93.9%     92.7%     94.9%\n",
      "Specificity                      Pr(-|N)     87.1%     86.8%     87.4%\n",
      "ROC area               (Sens. + Spec.)/2      0.90      0.90      0.91 \n",
      "---------------------------------------------------------------------------\n",
      "Likelihood ratio (+)     Pr(+|A)/Pr(+|N)      7.26      7.07      7.45 \n",
      "Likelihood ratio (-)     Pr(-|A)/Pr(-|N)      0.07      0.06      0.08 \n",
      "Odds ratio                   LR(+)/LR(-)    103.10     85.37    124.51 \n",
      "Positive predictive value        Pr(A|+)     23.3%     22.3%     24.2% \n",
      "Negative predictive value        Pr(N|-)     99.7%     99.6%     99.8% \n",
      "---------------------------------------------------------------------------\n"
     ]
    }
   ],
   "source": [
    "diagt diag test if regexm(region_name,\"NORTH\")==1 & regexm(region_name,\"WEST\")==1"
   ]
  },
  {
   "cell_type": "markdown",
   "id": "cac4bda2-216c-4294-ab6d-5338aa93d23c",
   "metadata": {},
   "source": [
    "South East"
   ]
  },
  {
   "cell_type": "code",
   "execution_count": 25,
   "id": "883a5bf4-de79-4ba9-9bb2-95f85e3bccb3",
   "metadata": {},
   "outputs": [
    {
     "name": "stdout",
     "output_type": "stream",
     "text": [
      "\n",
      "           |         test\n",
      "      diag |      Pos.       Neg. |     Total\n",
      "-----------+----------------------+----------\n",
      "  Abnormal |     2,624        206 |     2,830 \n",
      "    Normal |    11,374     76,281 |    87,655 \n",
      "-----------+----------------------+----------\n",
      "     Total |    13,998     76,487 |    90,485 \n",
      "True abnormal diagnosis defined as diag = 1\n",
      "\n",
      "\n",
      "                                                  [95% Confidence Interval]\n",
      "---------------------------------------------------------------------------\n",
      "Prevalence                         Pr(A)      3.1%      3.0%       3.2%\n",
      "---------------------------------------------------------------------------\n",
      "Sensitivity                      Pr(+|A)     92.7%     91.7%     93.7%\n",
      "Specificity                      Pr(-|N)     87.0%     86.8%     87.2%\n",
      "ROC area               (Sens. + Spec.)/2      0.90      0.89      0.90 \n",
      "---------------------------------------------------------------------------\n",
      "Likelihood ratio (+)     Pr(+|A)/Pr(+|N)      7.15      7.00      7.29 \n",
      "Likelihood ratio (-)     Pr(-|A)/Pr(-|N)      0.08      0.07      0.10 \n",
      "Odds ratio                   LR(+)/LR(-)     85.43     74.04     98.57 \n",
      "Positive predictive value        Pr(A|+)     18.7%     18.1%     19.4% \n",
      "Negative predictive value        Pr(N|-)     99.7%     99.7%     99.8% \n",
      "---------------------------------------------------------------------------\n"
     ]
    }
   ],
   "source": [
    "diagt diag test if regexm(region_name,\"SOUTH\")==1 & regexm(region_name,\"EAST\")==1"
   ]
  },
  {
   "cell_type": "markdown",
   "id": "c31c4086-ecd2-43b5-a175-a49e64a0593a",
   "metadata": {},
   "source": [
    "South West"
   ]
  },
  {
   "cell_type": "code",
   "execution_count": 26,
   "id": "db24609a-c78c-4959-8f77-be636e5b8a66",
   "metadata": {},
   "outputs": [
    {
     "name": "stdout",
     "output_type": "stream",
     "text": [
      "\n",
      "           |         test\n",
      "      diag |      Pos.       Neg. |     Total\n",
      "-----------+----------------------+----------\n",
      "  Abnormal |     1,542        118 |     1,660 \n",
      "    Normal |     5,293     29,223 |    34,516 \n",
      "-----------+----------------------+----------\n",
      "     Total |     6,835     29,341 |    36,176 \n",
      "True abnormal diagnosis defined as diag = 1\n",
      "\n",
      "\n",
      "                                                  [95% Confidence Interval]\n",
      "---------------------------------------------------------------------------\n",
      "Prevalence                         Pr(A)      4.6%      4.4%       4.8%\n",
      "---------------------------------------------------------------------------\n",
      "Sensitivity                      Pr(+|A)     92.9%     91.5%     94.1%\n",
      "Specificity                      Pr(-|N)     84.7%     84.3%     85.0%\n",
      "ROC area               (Sens. + Spec.)/2      0.89      0.88      0.89 \n",
      "---------------------------------------------------------------------------\n",
      "Likelihood ratio (+)     Pr(+|A)/Pr(+|N)      6.06      5.89      6.23 \n",
      "Likelihood ratio (-)     Pr(-|A)/Pr(-|N)      0.08      0.07      0.10 \n",
      "Odds ratio                   LR(+)/LR(-)     72.15     59.71     87.18 \n",
      "Positive predictive value        Pr(A|+)     22.6%     21.6%     23.6% \n",
      "Negative predictive value        Pr(N|-)     99.6%     99.5%     99.7% \n",
      "---------------------------------------------------------------------------\n"
     ]
    }
   ],
   "source": [
    "diagt diag test if regexm(region_name,\"SOUTH\")==1 & regexm(region_name,\"WEST\")==1"
   ]
  },
  {
   "cell_type": "markdown",
   "id": "cf33efae-dc21-4b1a-b169-9eaea69c1161",
   "metadata": {},
   "source": [
    "#### System\n",
    "SystmOne"
   ]
  },
  {
   "cell_type": "code",
   "execution_count": 27,
   "id": "26573dfb-79dc-4647-88a6-e19dac9eca61",
   "metadata": {},
   "outputs": [
    {
     "name": "stdout",
     "output_type": "stream",
     "text": [
      "\n",
      "           |         test\n",
      "      diag |      Pos.       Neg. |     Total\n",
      "-----------+----------------------+----------\n",
      "  Abnormal |     9,189        562 |     9,751 \n",
      "    Normal |    33,382    185,622 |   219,004 \n",
      "-----------+----------------------+----------\n",
      "     Total |    42,571    186,184 |   228,755 \n",
      "True abnormal diagnosis defined as diag = 1\n",
      "\n",
      "\n",
      "                                                  [95% Confidence Interval]\n",
      "---------------------------------------------------------------------------\n",
      "Prevalence                         Pr(A)      4.3%      4.2%       4.3%\n",
      "---------------------------------------------------------------------------\n",
      "Sensitivity                      Pr(+|A)     94.2%     93.8%     94.7%\n",
      "Specificity                      Pr(-|N)     84.8%     84.6%     84.9%\n",
      "ROC area               (Sens. + Spec.)/2      0.89      0.89      0.90 \n",
      "---------------------------------------------------------------------------\n",
      "Likelihood ratio (+)     Pr(+|A)/Pr(+|N)      6.18      6.11      6.25 \n",
      "Likelihood ratio (-)     Pr(-|A)/Pr(-|N)      0.07      0.06      0.07 \n",
      "Odds ratio                   LR(+)/LR(-)     90.92     83.43     99.08 \n",
      "Positive predictive value        Pr(A|+)     21.6%     21.2%     22.0% \n",
      "Negative predictive value        Pr(N|-)     99.7%     99.7%     99.7% \n",
      "---------------------------------------------------------------------------\n"
     ]
    }
   ],
   "source": [
    "diagt diag test if regexm(system,\"One\")==1"
   ]
  },
  {
   "cell_type": "markdown",
   "id": "b561f033-d2f3-4c95-ad3f-03b8c65647ea",
   "metadata": {},
   "source": [
    "Vision"
   ]
  },
  {
   "cell_type": "code",
   "execution_count": 28,
   "id": "6bed6f81-5fd6-418e-94ff-96d2de419d3d",
   "metadata": {},
   "outputs": [
    {
     "name": "stdout",
     "output_type": "stream",
     "text": [
      "\n",
      "           |         test\n",
      "      diag |      Pos.       Neg. |     Total\n",
      "-----------+----------------------+----------\n",
      "  Abnormal |       469         25 |       494 \n",
      "    Normal |     1,953     11,297 |    13,250 \n",
      "-----------+----------------------+----------\n",
      "     Total |     2,422     11,322 |    13,744 \n",
      "True abnormal diagnosis defined as diag = 1\n",
      "\n",
      "\n",
      "                                                  [95% Confidence Interval]\n",
      "---------------------------------------------------------------------------\n",
      "Prevalence                         Pr(A)      3.6%      3.3%       3.9%\n",
      "---------------------------------------------------------------------------\n",
      "Sensitivity                      Pr(+|A)     94.9%     92.6%     96.7%\n",
      "Specificity                      Pr(-|N)     85.3%     84.6%     85.9%\n",
      "ROC area               (Sens. + Spec.)/2      0.90      0.89      0.91 \n",
      "---------------------------------------------------------------------------\n",
      "Likelihood ratio (+)     Pr(+|A)/Pr(+|N)      6.44      6.15      6.74 \n",
      "Likelihood ratio (-)     Pr(-|A)/Pr(-|N)      0.06      0.04      0.09 \n",
      "Odds ratio                   LR(+)/LR(-)    108.52     72.56    162.28 \n",
      "Positive predictive value        Pr(A|+)     19.4%     17.8%     21.0% \n",
      "Negative predictive value        Pr(N|-)     99.8%     99.7%     99.9% \n",
      "---------------------------------------------------------------------------\n"
     ]
    }
   ],
   "source": [
    "diagt diag test if regexm(system,\"Vision\")==1"
   ]
  },
  {
   "cell_type": "markdown",
   "id": "65d9cefb-fbb5-4500-8ed3-52074d4e12ad",
   "metadata": {},
   "source": [
    "EMIS"
   ]
  },
  {
   "cell_type": "code",
   "execution_count": 29,
   "id": "18d50bfe-f5c4-4ecb-b822-0d06e3b29224",
   "metadata": {},
   "outputs": [
    {
     "name": "stdout",
     "output_type": "stream",
     "text": [
      "\n",
      "           |         test\n",
      "      diag |      Pos.       Neg. |     Total\n",
      "-----------+----------------------+----------\n",
      "  Abnormal |     5,866        510 |     6,376 \n",
      "    Normal |    23,106    152,883 |   175,989 \n",
      "-----------+----------------------+----------\n",
      "     Total |    28,972    153,393 |   182,365 \n",
      "True abnormal diagnosis defined as diag = 1\n",
      "\n",
      "\n",
      "                                                  [95% Confidence Interval]\n",
      "---------------------------------------------------------------------------\n",
      "Prevalence                         Pr(A)      3.5%      3.4%       3.6%\n",
      "---------------------------------------------------------------------------\n",
      "Sensitivity                      Pr(+|A)     92.0%     91.3%     92.7%\n",
      "Specificity                      Pr(-|N)     86.9%     86.7%     87.0%\n",
      "ROC area               (Sens. + Spec.)/2      0.89      0.89      0.90 \n",
      "---------------------------------------------------------------------------\n",
      "Likelihood ratio (+)     Pr(+|A)/Pr(+|N)      7.01      6.91      7.11 \n",
      "Likelihood ratio (-)     Pr(-|A)/Pr(-|N)      0.09      0.08      0.10 \n",
      "Odds ratio                   LR(+)/LR(-)     76.10     69.45     83.40 \n",
      "Positive predictive value        Pr(A|+)     20.2%     19.8%     20.7% \n",
      "Negative predictive value        Pr(N|-)     99.7%     99.6%     99.7% \n",
      "---------------------------------------------------------------------------\n"
     ]
    }
   ],
   "source": [
    "diagt diag test if regexm(ustrupper(system),\"EMIS\")==1"
   ]
  },
  {
   "cell_type": "code",
   "execution_count": null,
   "id": "654b6659-0a73-4736-bc15-7bf926554432",
   "metadata": {},
   "outputs": [],
   "source": []
  },
  {
   "cell_type": "markdown",
   "id": "5cc0b78d-d049-4645-a6f4-e02b49b379db",
   "metadata": {},
   "source": [
    "#### RA_Index\n",
    "Index==1"
   ]
  },
  {
   "cell_type": "code",
   "execution_count": 30,
   "id": "9fa490cd-9380-44bc-8218-9f2193f09aee",
   "metadata": {},
   "outputs": [
    {
     "name": "stdout",
     "output_type": "stream",
     "text": [
      "\n",
      "           |         test\n",
      "      diag |      Pos.       Neg. |     Total\n",
      "-----------+----------------------+----------\n",
      "  Abnormal |    11,616        869 |    12,485 \n",
      "    Normal |    42,794    266,418 |   309,212 \n",
      "-----------+----------------------+----------\n",
      "     Total |    54,410    267,287 |   321,697 \n",
      "True abnormal diagnosis defined as diag = 1\n",
      "\n",
      "\n",
      "                                                  [95% Confidence Interval]\n",
      "---------------------------------------------------------------------------\n",
      "Prevalence                         Pr(A)      3.9%      3.8%       3.9%\n",
      "---------------------------------------------------------------------------\n",
      "Sensitivity                      Pr(+|A)     93.0%     92.6%     93.5%\n",
      "Specificity                      Pr(-|N)     86.2%     86.0%     86.3%\n",
      "ROC area               (Sens. + Spec.)/2      0.90      0.89      0.90 \n",
      "---------------------------------------------------------------------------\n",
      "Likelihood ratio (+)     Pr(+|A)/Pr(+|N)      6.72      6.66      6.79 \n",
      "Likelihood ratio (-)     Pr(-|A)/Pr(-|N)      0.08      0.08      0.09 \n",
      "Odds ratio                   LR(+)/LR(-)     83.22     77.62     89.22 \n",
      "Positive predictive value        Pr(A|+)     21.3%     21.0%     21.7% \n",
      "Negative predictive value        Pr(N|-)     99.7%     99.7%     99.7% \n",
      "---------------------------------------------------------------------------\n"
     ]
    }
   ],
   "source": [
    "diagt diag test if RA_index==1"
   ]
  },
  {
   "cell_type": "markdown",
   "id": "7d253ba5-4281-405c-bd8c-511a00a55bf6",
   "metadata": {},
   "source": [
    "Index==0"
   ]
  },
  {
   "cell_type": "code",
   "execution_count": 31,
   "id": "f50f1be6-d1fd-4b54-8cc8-be66d3b7312b",
   "metadata": {},
   "outputs": [
    {
     "name": "stdout",
     "output_type": "stream",
     "text": [
      "\n",
      "           |         test\n",
      "      diag |      Pos.       Neg. |     Total\n",
      "-----------+----------------------+----------\n",
      "  Abnormal |     3,929        228 |     4,157 \n",
      "    Normal |    15,702     83,444 |    99,146 \n",
      "-----------+----------------------+----------\n",
      "     Total |    19,631     83,672 |   103,303 \n",
      "True abnormal diagnosis defined as diag = 1\n",
      "\n",
      "\n",
      "                                                  [95% Confidence Interval]\n",
      "---------------------------------------------------------------------------\n",
      "Prevalence                         Pr(A)      4.0%      3.9%       4.1%\n",
      "---------------------------------------------------------------------------\n",
      "Sensitivity                      Pr(+|A)     94.5%     93.8%     95.2%\n",
      "Specificity                      Pr(-|N)     84.2%     83.9%     84.4%\n",
      "ROC area               (Sens. + Spec.)/2      0.89      0.89      0.90 \n",
      "---------------------------------------------------------------------------\n",
      "Likelihood ratio (+)     Pr(+|A)/Pr(+|N)      5.97      5.87      6.06 \n",
      "Likelihood ratio (-)     Pr(-|A)/Pr(-|N)      0.07      0.06      0.07 \n",
      "Odds ratio                   LR(+)/LR(-)     91.58     80.05    104.76 \n",
      "Positive predictive value        Pr(A|+)     20.0%     19.5%     20.6% \n",
      "Negative predictive value        Pr(N|-)     99.7%     99.7%     99.8% \n",
      "---------------------------------------------------------------------------\n"
     ]
    }
   ],
   "source": [
    "diagt diag test if RA_index==0"
   ]
  },
  {
   "cell_type": "markdown",
   "id": "72956d72",
   "metadata": {},
   "source": [
    "#### Ethnicity\n",
    "Ethnicity==0000white"
   ]
  },
  {
   "cell_type": "code",
   "execution_count": 32,
   "id": "b35bf6ab",
   "metadata": {},
   "outputs": [
    {
     "name": "stdout",
     "output_type": "stream",
     "text": [
      "\n",
      "           |         test\n",
      "      diag |      Pos.       Neg. |     Total\n",
      "-----------+----------------------+----------\n",
      "  Abnormal |    12,000        825 |    12,825 \n",
      "    Normal |    40,366    204,790 |   245,156 \n",
      "-----------+----------------------+----------\n",
      "     Total |    52,366    205,615 |   257,981 \n",
      "True abnormal diagnosis defined as diag = 1\n",
      "\n",
      "\n",
      "                                                  [95% Confidence Interval]\n",
      "---------------------------------------------------------------------------\n",
      "Prevalence                         Pr(A)      5.0%      4.9%       5.1%\n",
      "---------------------------------------------------------------------------\n",
      "Sensitivity                      Pr(+|A)     93.6%     93.1%     94.0%\n",
      "Specificity                      Pr(-|N)     83.5%     83.4%     83.7%\n",
      "ROC area               (Sens. + Spec.)/2      0.89      0.88      0.89 \n",
      "---------------------------------------------------------------------------\n",
      "Likelihood ratio (+)     Pr(+|A)/Pr(+|N)      5.68      5.63      5.74 \n",
      "Likelihood ratio (-)     Pr(-|A)/Pr(-|N)      0.08      0.07      0.08 \n",
      "Odds ratio                   LR(+)/LR(-)     73.79     68.71     79.25 \n",
      "Positive predictive value        Pr(A|+)     22.9%     22.6%     23.3% \n",
      "Negative predictive value        Pr(N|-)     99.6%     99.6%     99.6% \n",
      "---------------------------------------------------------------------------\n"
     ]
    }
   ],
   "source": [
    "diagt diag test if ethnicity==\"0white\""
   ]
  },
  {
   "cell_type": "code",
   "execution_count": 33,
   "id": "10050fbc",
   "metadata": {},
   "outputs": [
    {
     "name": "stdout",
     "output_type": "stream",
     "text": [
      "\n",
      "           |         test\n",
      "      diag |      Pos.       Neg. |     Total\n",
      "-----------+----------------------+----------\n",
      "  Abnormal |       408         56 |       464 \n",
      "    Normal |     5,018     38,386 |    43,404 \n",
      "-----------+----------------------+----------\n",
      "     Total |     5,426     38,442 |    43,868 \n",
      "True abnormal diagnosis defined as diag = 1\n",
      "\n",
      "\n",
      "                                                  [95% Confidence Interval]\n",
      "---------------------------------------------------------------------------\n",
      "Prevalence                         Pr(A)      1.1%      1.0%       1.2%\n",
      "---------------------------------------------------------------------------\n",
      "Sensitivity                      Pr(+|A)     87.9%     84.6%     90.8%\n",
      "Specificity                      Pr(-|N)     88.4%     88.1%     88.7%\n",
      "ROC area               (Sens. + Spec.)/2      0.88      0.87      0.90 \n",
      "---------------------------------------------------------------------------\n",
      "Likelihood ratio (+)     Pr(+|A)/Pr(+|N)      7.61      7.29      7.94 \n",
      "Likelihood ratio (-)     Pr(-|A)/Pr(-|N)      0.14      0.11      0.17 \n",
      "Odds ratio                   LR(+)/LR(-)     55.73     42.12     73.74 \n",
      "Positive predictive value        Pr(A|+)      7.5%      6.8%      8.3% \n",
      "Negative predictive value        Pr(N|-)     99.9%     99.8%     99.9% \n",
      "---------------------------------------------------------------------------\n"
     ]
    }
   ],
   "source": [
    "diagt diag test if ethnicity==\"Other\""
   ]
  },
  {
   "cell_type": "code",
   "execution_count": 34,
   "id": "a9b0ba23",
   "metadata": {},
   "outputs": [
    {
     "name": "stdout",
     "output_type": "stream",
     "text": [
      "\n",
      "           |         test\n",
      "      diag |      Pos.       Neg. |     Total\n",
      "-----------+----------------------+----------\n",
      "  Abnormal |     3,137        216 |     3,353 \n",
      "    Normal |    13,112    106,686 |   119,798 \n",
      "-----------+----------------------+----------\n",
      "     Total |    16,249    106,902 |   123,151 \n",
      "True abnormal diagnosis defined as diag = 1\n",
      "\n",
      "\n",
      "                                                  [95% Confidence Interval]\n",
      "---------------------------------------------------------------------------\n",
      "Prevalence                         Pr(A)      2.7%      2.6%       2.8%\n",
      "---------------------------------------------------------------------------\n",
      "Sensitivity                      Pr(+|A)     93.6%     92.7%     94.4%\n",
      "Specificity                      Pr(-|N)     89.1%     88.9%     89.2%\n",
      "ROC area               (Sens. + Spec.)/2      0.91      0.91      0.92 \n",
      "---------------------------------------------------------------------------\n",
      "Likelihood ratio (+)     Pr(+|A)/Pr(+|N)      8.55      8.39      8.71 \n",
      "Likelihood ratio (-)     Pr(-|A)/Pr(-|N)      0.07      0.06      0.08 \n",
      "Odds ratio                   LR(+)/LR(-)    118.17    102.84    135.78 \n",
      "Positive predictive value        Pr(A|+)     19.3%     18.7%     19.9% \n",
      "Negative predictive value        Pr(N|-)     99.8%     99.8%     99.8% \n",
      "---------------------------------------------------------------------------\n"
     ]
    }
   ],
   "source": [
    "diagt diag test if ethnicity==\"Missing\""
   ]
  },
  {
   "cell_type": "code",
   "execution_count": 35,
   "id": "0c6b3359-4cc6-4eb5-a15f-ed1be0b97aa0",
   "metadata": {},
   "outputs": [],
   "source": [
    "tempname memhold\n",
    "postfile `memhold' str20 var prev sens spec ppv npv roc using \"validity.dta\",replace\n",
    "\n",
    "quietly diagt diag test\n",
    "local prev=r(prev)\n",
    "local sens=r(sens)\n",
    "local spec=r(spec)\n",
    "local ppv=r(ppv)\n",
    "local npv=r(npv)\n",
    "local roc=r(roc)\n",
    "post `memhold' (\"all\") (`prev') (`sens') (`spec') (`ppv') (`npv') (`roc') \n",
    "\n",
    "quietly diagt diag test if sex==1\n",
    "local prev=r(prev)\n",
    "local sens=r(sens)\n",
    "local spec=r(spec)\n",
    "local ppv=r(ppv)\n",
    "local npv=r(npv)\n",
    "local roc=r(roc)\n",
    "post `memhold' (\"Male\") (`prev') (`sens') (`spec') (`ppv') (`npv') (`roc') \n",
    "\n",
    "quietly diagt diag test if sex==0\n",
    "local prev=r(prev)\n",
    "local sens=r(sens)\n",
    "local spec=r(spec)\n",
    "local ppv=r(ppv)\n",
    "local npv=r(npv)\n",
    "local roc=r(roc)\n",
    "post `memhold' (\"Female\") (`prev') (`sens') (`spec') (`ppv') (`npv') (`roc') \n",
    "\n",
    "quietly diagt diag test if agecat==16\n",
    "local prev=r(prev)\n",
    "local sens=r(sens)\n",
    "local spec=r(spec)\n",
    "local ppv=r(ppv)\n",
    "local npv=r(npv)\n",
    "local roc=r(roc)\n",
    "post `memhold' (\"Age young\") (`prev') (`sens') (`spec') (`ppv') (`npv') (`roc') \n",
    "\n",
    "quietly diagt diag test if agecat==30\n",
    "local prev=r(prev)\n",
    "local sens=r(sens)\n",
    "local spec=r(spec)\n",
    "local ppv=r(ppv)\n",
    "local npv=r(npv)\n",
    "local roc=r(roc)\n",
    "post `memhold' (\"Age middle\") (`prev') (`sens') (`spec') (`ppv') (`npv') (`roc') \n",
    "\n",
    "quietly diagt diag test if agecat==70\n",
    "local prev=r(prev)\n",
    "local sens=r(sens)\n",
    "local spec=r(spec)\n",
    "local ppv=r(ppv)\n",
    "local npv=r(npv)\n",
    "local roc=r(roc)\n",
    "post `memhold' (\"Age elderly\") (`prev') (`sens') (`spec') (`ppv') (`npv') (`roc') \n",
    "\n",
    "\n",
    "quietly diagt diag test if yearcat==2004\n",
    "local prev=r(prev)\n",
    "local sens=r(sens)\n",
    "local spec=r(spec)\n",
    "local ppv=r(ppv)\n",
    "local npv=r(npv)\n",
    "local roc=r(roc)\n",
    "post `memhold' (\"Year 2004-2009\") (`prev') (`sens') (`spec') (`ppv') (`npv') (`roc') \n",
    "\n",
    "quietly diagt diag test if yearcat==2010\n",
    "local prev=r(prev)\n",
    "local sens=r(sens)\n",
    "local spec=r(spec)\n",
    "local ppv=r(ppv)\n",
    "local npv=r(npv)\n",
    "local roc=r(roc)\n",
    "post `memhold' (\"Year 2010-2015\") (`prev') (`sens') (`spec') (`ppv') (`npv') (`roc')\n",
    "\n",
    "quietly diagt diag test if yearcat==2016\n",
    "local prev=r(prev)\n",
    "local sens=r(sens)\n",
    "local spec=r(spec)\n",
    "local ppv=r(ppv)\n",
    "local npv=r(npv)\n",
    "local roc=r(roc)\n",
    "post `memhold' (\"Year 2016-2020\") (`prev') (`sens') (`spec') (`ppv') (`npv') (`roc') \n",
    "\n",
    "\n",
    "quietly diagt diag test if imdcat==0\n",
    "local prev=r(prev)\n",
    "local sens=r(sens)\n",
    "local spec=r(spec)\n",
    "local ppv=r(ppv)\n",
    "local npv=r(npv)\n",
    "local roc=r(roc)\n",
    "post `memhold' (\"IMD 1,3\") (`prev') (`sens') (`spec') (`ppv') (`npv') (`roc') \n",
    "\n",
    "quietly diagt diag test if imdcat==4\n",
    "local prev=r(prev)\n",
    "local sens=r(sens)\n",
    "local spec=r(spec)\n",
    "local ppv=r(ppv)\n",
    "local npv=r(npv)\n",
    "local roc=r(roc)\n",
    "post `memhold' (\"IMD 4,7\") (`prev') (`sens') (`spec') (`ppv') (`npv') (`roc') \n",
    "\n",
    "quietly diagt diag test if imdcat==8\n",
    "local prev=r(prev)\n",
    "local sens=r(sens)\n",
    "local spec=r(spec)\n",
    "local ppv=r(ppv)\n",
    "local npv=r(npv)\n",
    "local roc=r(roc)\n",
    "post `memhold' (\"IMD 8,10\") (`prev') (`sens') (`spec') (`ppv') (`npv') (`roc') \n",
    "\n",
    "\n",
    "quietly diagt diag test if regexm(region_name,\"LONDON\")==1\n",
    "local prev=r(prev)\n",
    "local sens=r(sens)\n",
    "local spec=r(spec)\n",
    "local ppv=r(ppv)\n",
    "local npv=r(npv)\n",
    "local roc=r(roc)\n",
    "post `memhold' (\"London\") (`prev') (`sens') (`spec') (`ppv') (`npv') (`roc') \n",
    "\n",
    "quietly diagt diag test if regexm(region_name,\"MID\")==1\n",
    "local prev=r(prev)\n",
    "local sens=r(sens)\n",
    "local spec=r(spec)\n",
    "local ppv=r(ppv)\n",
    "local npv=r(npv)\n",
    "local roc=r(roc)\n",
    "post `memhold' (\"Midlands\") (`prev') (`sens') (`spec') (`ppv') (`npv') (`roc') \n",
    "\n",
    "quietly diagt diag test if regexm(region_name,\"YORK\")==1\n",
    "local prev=r(prev)\n",
    "local sens=r(sens)\n",
    "local spec=r(spec)\n",
    "local ppv=r(ppv)\n",
    "local npv=r(npv)\n",
    "local roc=r(roc)\n",
    "post `memhold' (\"Yorkshire\") (`prev') (`sens') (`spec') (`ppv') (`npv') (`roc') \n",
    "\n",
    "quietly diagt diag test if regexm(region_name,\"NORTH\")==1 & regexm(region_name,\"WEST\")==1\n",
    "local prev=r(prev)\n",
    "local sens=r(sens)\n",
    "local spec=r(spec)\n",
    "local ppv=r(ppv)\n",
    "local npv=r(npv)\n",
    "local roc=r(roc)\n",
    "post `memhold' (\"North West\") (`prev') (`sens') (`spec') (`ppv') (`npv') (`roc') \n",
    "\n",
    "quietly diagt diag test if regexm(region_name,\"SOUTH\")==1 & regexm(region_name,\"EAST\")==1\n",
    "local prev=r(prev)\n",
    "local sens=r(sens)\n",
    "local spec=r(spec)\n",
    "local ppv=r(ppv)\n",
    "local npv=r(npv)\n",
    "local roc=r(roc)\n",
    "post `memhold' (\"South East\") (`prev') (`sens') (`spec') (`ppv') (`npv') (`roc') \n",
    "\n",
    "quietly diagt diag test if regexm(region_name,\"SOUTH\")==1 & regexm(region_name,\"WEST\")==1\n",
    "local prev=r(prev)\n",
    "local sens=r(sens)\n",
    "local spec=r(spec)\n",
    "local ppv=r(ppv)\n",
    "local npv=r(npv)\n",
    "local roc=r(roc)\n",
    "post `memhold' (\"South West\") (`prev') (`sens') (`spec') (`ppv') (`npv') (`roc') \n",
    "\n",
    "quietly diagt diag test if regexm(system,\"One\")==1\n",
    "local prev=r(prev)\n",
    "local sens=r(sens)\n",
    "local spec=r(spec)\n",
    "local ppv=r(ppv)\n",
    "local npv=r(npv)\n",
    "local roc=r(roc)\n",
    "post `memhold' (\"SystemOne\") (`prev') (`sens') (`spec') (`ppv') (`npv') (`roc') \n",
    "\n",
    "quietly diagt diag test if regexm(system,\"Vision\")==1\n",
    "local prev=r(prev)\n",
    "local sens=r(sens)\n",
    "local spec=r(spec)\n",
    "local ppv=r(ppv)\n",
    "local npv=r(npv)\n",
    "local roc=r(roc)\n",
    "post `memhold' (\"Vision\") (`prev') (`sens') (`spec') (`ppv') (`npv') (`roc') \n",
    "\n",
    "quietly diagt diag test if regexm(ustrupper(system),\"EMIS\")==1\n",
    "local prev=r(prev)\n",
    "local sens=r(sens)\n",
    "local spec=r(spec)\n",
    "local ppv=r(ppv)\n",
    "local npv=r(npv)\n",
    "local roc=r(roc)\n",
    "post `memhold' (\"EMIS\") (`prev') (`sens') (`spec') (`ppv') (`npv') (`roc') \n",
    "\n",
    "quietly diagt diag test if RA_index==1\n",
    "local prev=r(prev)\n",
    "local sens=r(sens)\n",
    "local spec=r(spec)\n",
    "local ppv=r(ppv)\n",
    "local npv=r(npv)\n",
    "local roc=r(roc)\n",
    "post `memhold' (\"RAIndex1\") (`prev') (`sens') (`spec') (`ppv') (`npv') (`roc') \n",
    "\n",
    "quietly diagt diag test if RA_index==0\n",
    "local prev=r(prev)\n",
    "local sens=r(sens)\n",
    "local spec=r(spec)\n",
    "local ppv=r(ppv)\n",
    "local npv=r(npv)\n",
    "local roc=r(roc)\n",
    "post `memhold' (\"RAIndex0\") (`prev') (`sens') (`spec') (`ppv') (`npv') (`roc') \n",
    "\n",
    "quietly diagt diag test if ethnicity==\"0white\"\n",
    "local prev=r(prev)\n",
    "local sens=r(sens)\n",
    "local spec=r(spec)\n",
    "local ppv=r(ppv)\n",
    "local npv=r(npv)\n",
    "local roc=r(roc)\n",
    "post `memhold' (\"Ethnicity_0white\") (`prev') (`sens') (`spec') (`ppv') (`npv') (`roc') \n",
    "\n",
    "quietly diagt diag test if ethnicity==\"Other\"\n",
    "local prev=r(prev)\n",
    "local sens=r(sens)\n",
    "local spec=r(spec)\n",
    "local ppv=r(ppv)\n",
    "local npv=r(npv)\n",
    "local roc=r(roc)\n",
    "post `memhold' (\"Ethnicity_Other\") (`prev') (`sens') (`spec') (`ppv') (`npv') (`roc') \n",
    "\n",
    "\n",
    "\n",
    "quietly diagt diag test if ethnicity==\"Missing\"\n",
    "local prev=r(prev)\n",
    "local sens=r(sens)\n",
    "local spec=r(spec)\n",
    "local ppv=r(ppv)\n",
    "local npv=r(npv)\n",
    "local roc=r(roc)\n",
    "post `memhold' (\"Ethnicity_Missing\") (`prev') (`sens') (`spec') (`ppv') (`npv') (`roc') \n",
    "\n",
    "postclose `memhold'"
   ]
  },
  {
   "cell_type": "markdown",
   "id": "b350c4fb-deb8-450a-9750-689dc3a8268e",
   "metadata": {},
   "source": [
    "### Logistic Regression\n",
    "#### PPV"
   ]
  },
  {
   "cell_type": "code",
   "execution_count": 36,
   "id": "a21415d9",
   "metadata": {},
   "outputs": [
    {
     "name": "stdout",
     "output_type": "stream",
     "text": [
      "(2,589 observations deleted)\n",
      "(9 observations deleted)\n"
     ]
    }
   ],
   "source": [
    "drop if missing(imdcat)\n",
    "drop if missing(sex)"
   ]
  },
  {
   "cell_type": "code",
   "execution_count": 37,
   "id": "ad17f02e-1d4b-48ec-8a48-1c137597db1a",
   "metadata": {},
   "outputs": [
    {
     "name": "stdout",
     "output_type": "stream",
     "text": [
      "\n",
      "Logistic regression                                     Number of obs = 73,805\n",
      "                                                        LR chi2(0)    =   0.00\n",
      "                                                        Prob > chi2   =      .\n",
      "Log likelihood = -37958.988                             Pseudo R2     = 0.0000\n",
      "\n",
      "------------------------------------------------------------------------------\n",
      "    diag_pos |       Odds   Std. err.      z    P>|z|     [95% conf. interval]\n",
      "-------------+----------------------------------------------------------------\n",
      "       _cons |    .266256   .0024051  -146.50   0.000     .2615837    .2710119\n",
      "------------------------------------------------------------------------------\n"
     ]
    }
   ],
   "source": [
    "logistic diag_pos if test==1"
   ]
  },
  {
   "cell_type": "code",
   "execution_count": 38,
   "id": "b4bb2be2-7e3e-402c-aa81-7b7dfd706f64",
   "metadata": {},
   "outputs": [
    {
     "name": "stdout",
     "output_type": "stream",
     "text": [
      "note: 1.bnf_code_values != 0 predicts success perfectly;\n",
      "      1.bnf_code_values omitted and 1 obs not used.\n",
      "\n",
      "note: 3.bnf_code_values != 0 predicts failure perfectly;\n",
      "      3.bnf_code_values omitted and 4 obs not used.\n",
      "\n",
      "note: 9.bnf_code_values omitted because of collinearity.\n",
      "\n",
      "Logistic regression                                    Number of obs =  73,800\n",
      "                                                       LR chi2(6)    = 7780.86\n",
      "                                                       Prob > chi2   =  0.0000\n",
      "Log likelihood = -34066.057                            Pseudo R2     =  0.1025\n",
      "\n",
      "------------------------------------------------------------------------------------------------\n",
      "                      diag_pos | Odds ratio   Std. err.      z    P>|z|     [95% conf. interval]\n",
      "-------------------------------+----------------------------------------------------------------\n",
      "               bnf_code_values |\n",
      "                       030303  |          1  (empty)\n",
      "                       060302  |   .0811686   .0117589   -17.33   0.000     .0611047    .1078206\n",
      "                       100103  |          1  (empty)\n",
      "       Adrenoreceptor agonist  |   .1419412   .0202948   -13.65   0.000     .1072515    .1878511\n",
      "Antimuscarinic Bronchodilator  |   2.573325    .382813     6.35   0.000     1.922508    3.444459\n",
      "      Compound bronchodilator  |   1.918593   .3095469     4.04   0.000     1.398459    2.632184\n",
      "              Corticosteroids  |   .1904544   .0273307   -11.56   0.000      .143761    .2523137\n",
      "                Other/unknown  |   .1112935   .0204745   -11.93   0.000     .0776024    .1596115\n",
      "                 Theophylline  |          1  (omitted)\n",
      "                               |\n",
      "                         _cons |   1.512195   .2152403     2.91   0.004     1.144066    1.998779\n",
      "------------------------------------------------------------------------------------------------\n",
      "Note: _cons estimates baseline odds.\n"
     ]
    }
   ],
   "source": [
    "logistic diag_pos i.bnf_code_values if test==1"
   ]
  },
  {
   "cell_type": "code",
   "execution_count": 39,
   "id": "49e40858",
   "metadata": {},
   "outputs": [
    {
     "name": "stdout",
     "output_type": "stream",
     "text": [
      "\n",
      "Fitting fixed-effects model:\n",
      "\n",
      "Iteration 0:  Log likelihood = -33631.004  \n",
      "Iteration 1:  Log likelihood =  -32702.09  \n",
      "Iteration 2:  Log likelihood = -32602.034  \n",
      "Iteration 3:  Log likelihood = -32597.407  \n",
      "Iteration 4:  Log likelihood = -32597.388  \n",
      "Iteration 5:  Log likelihood = -32597.388  \n",
      "\n",
      "Refining starting values:\n",
      "\n",
      "Grid node 0:  Log likelihood = -32565.809\n",
      "\n",
      "Fitting full model:\n",
      "\n",
      "Iteration 0:  Log likelihood = -32565.809  (not concave)\n",
      "Iteration 1:  Log likelihood = -32452.017  (not concave)\n",
      "Iteration 2:  Log likelihood = -32406.756  (not concave)\n",
      "Iteration 3:  Log likelihood = -32377.244  \n",
      "Iteration 4:  Log likelihood = -32374.642  \n",
      "Iteration 5:  Log likelihood =  -32374.64  \n",
      "\n",
      "Mixed-effects logistic regression               Number of obs     =     73,570\n",
      "Group variable: practice_id                     Number of groups  =        333\n",
      "\n",
      "                                                Obs per group:\n",
      "                                                              min =          1\n",
      "                                                              avg =      220.9\n",
      "                                                              max =      2,222\n",
      "\n",
      "Integration method: mvaghermite                 Integration pts.  =          7\n",
      "\n",
      "                                                Wald chi2(18)     =    4680.32\n",
      "Log likelihood = -32374.64                      Prob > chi2       =     0.0000\n",
      "----------------------------------------------------------------------------------------------------------------\n",
      "                                       newdiag | Odds ratio   Std. err.      z    P>|z|     [95% conf. interval]\n",
      "-----------------------------------------------+----------------------------------------------------------------\n",
      "                                   1.sex_coded |   1.725639   .0337353    27.91   0.000     1.660769    1.793042\n",
      "                                               |\n",
      "                                       yearcat |\n",
      "                                    2010-2015  |   .9714216   .0230661    -1.22   0.222     .9272487    1.017699\n",
      "                                    2016-2020  |    .996415   .0262434    -0.14   0.892      .946284    1.049202\n",
      "                                               |\n",
      "                                        agecat |\n",
      "                                      0Middle  |   45.83353   6.023541    29.10   0.000     35.42554    59.29936\n",
      "                                      Elderly  |   124.5315   16.38002    36.68   0.000     96.23163    161.1537\n",
      "                                               |\n",
      "                                        region |\n",
      "                  LONDON COMMISSIONING REGION  |   .9749972   .1302751    -0.19   0.850     .7503594    1.266886\n",
      "                MIDLANDS COMMISSIONING REGION  |   1.252932   .0797222     3.54   0.000      1.10603    1.419346\n",
      "NORTH EAST AND YORKSHIRE COMMISSIONING REGION  |   1.358131   .0946101     4.39   0.000     1.184801    1.556819\n",
      "              NORTH WEST COMMISSIONING REGION  |   1.321462   .1059963     3.48   0.001      1.12922    1.546432\n",
      "              SOUTH EAST COMMISSIONING REGION  |   .9761377   .0667898    -0.35   0.724     .8536302    1.116227\n",
      "              SOUTH WEST COMMISSIONING REGION  |   1.188632   .0952152     2.16   0.031     1.015926    1.390698\n",
      "                                     Scotland  |   1.079802   .1442818     0.57   0.566     .8310128    1.403074\n",
      "                                        Wales  |   1.603261   .3427905     2.21   0.027     1.054412    2.437801\n",
      "                                               |\n",
      "                                      RA_index |   .9730716   .0476378    -0.56   0.577     .8840428    1.071066\n",
      "                                               |\n",
      "                                        ethnic |\n",
      "                                      Missing  |   .7919546   .0215326    -8.58   0.000     .7508563    .8353025\n",
      "                                        Other  |   .2996127   .0176027   -20.51   0.000     .2670244    .3361783\n",
      "                                               |\n",
      "                                        imdcat |\n",
      "                                          4-7  |   .7830226    .039813    -4.81   0.000     .7087526    .8650753\n",
      "                                         8-10  |    .760178   .0419467    -4.97   0.000     .6822536    .8470025\n",
      "                                               |\n",
      "                                         _cons |    .004202   .0005963   -38.56   0.000     .0031818    .0055493\n",
      "-----------------------------------------------+----------------------------------------------------------------\n",
      "practice_id                                    |\n",
      "                                     var(_cons)|   .0716259   .0092837                      .0555575    .0923416\n",
      "----------------------------------------------------------------------------------------------------------------\n",
      "Note: Estimates are transformed only in the first equation to odds ratios.\n",
      "Note: _cons estimates baseline odds (conditional on zero random effects).\n",
      "LR test vs. logistic model: chibar2(01) = 445.50      Prob >= chibar2 = 0.0000\n"
     ]
    }
   ],
   "source": [
    "gen newdiag=diag_pos\n",
    "\n",
    "melogit newdiag i.sex i.yearcat i.agecat  i.region RA_index i.ethnic i.imdcat if test==1 || practice_id:,or\n",
    "estimates store model1"
   ]
  },
  {
   "cell_type": "markdown",
   "id": "1fb85b5e",
   "metadata": {},
   "source": [
    "##### Likelihood ratio tests"
   ]
  },
  {
   "cell_type": "code",
   "execution_count": 40,
   "id": "718b2ba3-f1ac-41c9-af92-e0cb45d55985",
   "metadata": {},
   "outputs": [],
   "source": [
    "\n",
    "\n",
    "quietly: melogit newdiag i.sex i.yearcat i.agecat  i.region RA_index i.ethnic if test==1 || practice_id:,or\n",
    "estimates store model_imd\n",
    "\n",
    "quietly:melogit newdiag i.sex i.yearcat i.agecat  i.region RA_index i.imdcat if test==1 || practice_id:,or\n",
    "estimates store model_ethnicity\n",
    "\n",
    "quietly:melogit newdiag i.yearcat i.agecat  i.region RA_index i.ethnic i.imdcat if test==1 || practice_id:,or\n",
    "estimates store model_sex\n",
    "\n",
    "quietly:melogit newdiag i.sex i.agecat  i.region RA_index i.ethnic i.imdcat if test==1 || practice_id:,or\n",
    "estimates store model_year\n",
    "\n",
    "quietly: melogit newdiag i.sex i.yearcat  i.region RA_index i.ethnic i.imdcat if test==1 || practice_id:,or\n",
    "estimates store model_age\n",
    "\n"
   ]
  },
  {
   "cell_type": "code",
   "execution_count": 41,
   "id": "31887f9d",
   "metadata": {},
   "outputs": [
    {
     "name": "stdout",
     "output_type": "stream",
     "text": [
      "\n",
      "Likelihood-ratio test\n",
      "Assumption: model_sex nested within model1\n",
      "\n",
      " LR chi2(1) = 785.08\n",
      "Prob > chi2 = 0.0000\n",
      "\n",
      "Likelihood-ratio test\n",
      "Assumption: model_year nested within model1\n",
      "\n",
      " LR chi2(2) =   1.77\n",
      "Prob > chi2 = 0.4126\n",
      "\n",
      "Likelihood-ratio test\n",
      "Assumption: model_age nested within model1\n",
      "\n",
      " LR chi2(2) = 8123.33\n",
      "Prob > chi2 =  0.0000\n",
      "\n",
      "Likelihood-ratio test\n",
      "Assumption: model_ethnic~y nested within model1\n",
      "\n",
      " LR chi2(2) = 561.31\n",
      "Prob > chi2 = 0.0000\n",
      "\n",
      "Likelihood-ratio test\n",
      "Assumption: model_imd nested within model1\n",
      "\n",
      " LR chi2(2) =  29.13\n",
      "Prob > chi2 = 0.0000\n"
     ]
    }
   ],
   "source": [
    "lrtest model1 model_sex\n",
    "lrtest model1 model_year\n",
    "lrtest model1 model_age\n",
    "lrtest model1 model_ethnicity\n",
    "lrtest model1 model_imd\n"
   ]
  },
  {
   "cell_type": "markdown",
   "id": "99227c99-0304-407b-a990-a06fe4bd4560",
   "metadata": {},
   "source": [
    "#### NPV"
   ]
  },
  {
   "cell_type": "code",
   "execution_count": 42,
   "id": "04c0103e-c424-49af-8973-09a13878ea3f",
   "metadata": {},
   "outputs": [
    {
     "name": "stdout",
     "output_type": "stream",
     "text": [
      "\n",
      "Logistic regression                                    Number of obs = 348,597\n",
      "                                                       LR chi2(0)    =    0.00\n",
      "                                                       Prob > chi2   =       .\n",
      "Log likelihood = -7415.4592                            Pseudo R2     =  0.0000\n",
      "\n",
      "------------------------------------------------------------------------------\n",
      "    diag_neg |       Odds   Std. err.      z    P>|z|     [95% conf. interval]\n",
      "-------------+----------------------------------------------------------------\n",
      "       _cons |    316.773   9.579201   190.42   0.000     298.5437    336.1154\n",
      "------------------------------------------------------------------------------\n"
     ]
    }
   ],
   "source": [
    "logistic diag_neg if test==0"
   ]
  },
  {
   "cell_type": "code",
   "execution_count": 43,
   "id": "93a5b760",
   "metadata": {},
   "outputs": [
    {
     "name": "stdout",
     "output_type": "stream",
     "text": [
      "(422,402 real changes made)\n",
      "\n",
      "Fitting fixed-effects model:\n",
      "\n",
      "Iteration 0:  Log likelihood = -32346.678  \n",
      "Iteration 1:  Log likelihood = -7300.0492  \n",
      "Iteration 2:  Log likelihood =  -6901.906  \n",
      "Iteration 3:  Log likelihood =  -6808.827  \n",
      "Iteration 4:  Log likelihood = -6803.7565  \n",
      "Iteration 5:  Log likelihood = -6803.6939  \n",
      "Iteration 6:  Log likelihood = -6803.6939  \n",
      "\n",
      "Refining starting values:\n",
      "\n",
      "Grid node 0:  Log likelihood = -6739.9344\n",
      "\n",
      "Fitting full model:\n",
      "\n",
      "Iteration 0:  Log likelihood = -6739.9344  \n",
      "Iteration 1:  Log likelihood = -6726.9293  \n",
      "Iteration 2:  Log likelihood = -6721.4979  \n",
      "Iteration 3:  Log likelihood = -6720.7698  \n",
      "Iteration 4:  Log likelihood = -6720.7674  \n",
      "Iteration 5:  Log likelihood = -6720.7674  \n",
      "\n",
      "Mixed-effects logistic regression               Number of obs     =    347,863\n",
      "Group variable: practice_id                     Number of groups  =        335\n",
      "\n",
      "                                                Obs per group:\n",
      "                                                              min =          1\n",
      "                                                              avg =    1,038.4\n",
      "                                                              max =      8,269\n",
      "\n",
      "Integration method: mvaghermite                 Integration pts.  =          7\n",
      "\n",
      "                                                Wald chi2(18)     =     774.35\n",
      "Log likelihood = -6720.7674                     Prob > chi2       =     0.0000\n",
      "----------------------------------------------------------------------------------------------------------------\n",
      "                                       newdiag | Odds ratio   Std. err.      z    P>|z|     [95% conf. interval]\n",
      "-----------------------------------------------+----------------------------------------------------------------\n",
      "                                   1.sex_coded |   .7165325   .0443201    -5.39   0.000     .6347257    .8088831\n",
      "                                               |\n",
      "                                       yearcat |\n",
      "                                    2010-2015  |   1.325029   .0980246     3.80   0.000     1.146184    1.531781\n",
      "                                    2016-2020  |   1.290821   .1031419     3.19   0.001     1.103701    1.509664\n",
      "                                               |\n",
      "                                        agecat |\n",
      "                                      0Middle  |   .1180767   .0220032   -11.46   0.000     .0819493    .1701308\n",
      "                                      Elderly  |   .0331755   .0061977   -18.23   0.000     .0230039    .0478448\n",
      "                                               |\n",
      "                                        region |\n",
      "                  LONDON COMMISSIONING REGION  |   .8115098   .2743634    -0.62   0.537     .4183223     1.57426\n",
      "                MIDLANDS COMMISSIONING REGION  |   .7266025   .1355174    -1.71   0.087     .5041279    1.047257\n",
      "NORTH EAST AND YORKSHIRE COMMISSIONING REGION  |   .7932471   .1577118    -1.16   0.244     .5372473    1.171231\n",
      "              NORTH WEST COMMISSIONING REGION  |   .7589522   .1751603    -1.20   0.232      .482796    1.193068\n",
      "              SOUTH EAST COMMISSIONING REGION  |   .9057085   .1748046    -0.51   0.608     .6204458    1.322127\n",
      "              SOUTH WEST COMMISSIONING REGION  |   .6989405   .1582472    -1.58   0.114     .4484557    1.089333\n",
      "                                     Scotland  |   1.525591   .7078555     0.91   0.363     .6144561    3.787784\n",
      "                                        Wales  |   .6025148   .3735181    -0.82   0.414     .1787643    2.030742\n",
      "                                               |\n",
      "                                      RA_index |   .9398366   .1368477    -0.43   0.670     .7064974    1.250242\n",
      "                                               |\n",
      "                                        ethnic |\n",
      "                                      Missing  |    2.06767   .1753249     8.57   0.000     1.751076    2.441505\n",
      "                                        Other  |   1.898849   .2806941     4.34   0.000     1.421225    2.536985\n",
      "                                               |\n",
      "                                        imdcat |\n",
      "                                          4-7  |   1.471749   .2149696     2.65   0.008     1.105361    1.959584\n",
      "                                         8-10  |   1.122348   .1732427     0.75   0.455     .8293507    1.518856\n",
      "                                               |\n",
      "                                         _cons |   3227.972   790.7143    32.98   0.000     1997.202      5217.2\n",
      "-----------------------------------------------+----------------------------------------------------------------\n",
      "practice_id                                    |\n",
      "                                     var(_cons)|   .4316938   .0801146                        .30006    .6210742\n",
      "----------------------------------------------------------------------------------------------------------------\n",
      "Note: Estimates are transformed only in the first equation to odds ratios.\n",
      "Note: _cons estimates baseline odds (conditional on zero random effects).\n",
      "LR test vs. logistic model: chibar2(01) = 165.85      Prob >= chibar2 = 0.0000\n"
     ]
    }
   ],
   "source": [
    "/* need to use the same response variable (newdiag) to line up the two model results */\n",
    "replace newdiag=diag_neg \n",
    "\n",
    "melogit newdiag i.sex i.yearcat i.agecat i.region RA_index i.ethnic i.imdcat if test==0 || practice_id:,or\n",
    "estimates store model2"
   ]
  },
  {
   "cell_type": "markdown",
   "id": "60c60b7a",
   "metadata": {},
   "source": [
    "##### Likelihood ratio tests"
   ]
  },
  {
   "cell_type": "code",
   "execution_count": 44,
   "id": "c31bd1f1-c69b-4600-a1c0-bde311d67651",
   "metadata": {},
   "outputs": [],
   "source": [
    "\n",
    "quietly: melogit newdiag i.yearcat i.agecat i.region RA_index i.ethnic i.imdcat if test==0 || practice_id:,or\n",
    "estimates store model2_sex\n",
    "quietly: melogit newdiag i.sex i.agecat i.region RA_index i.ethnic i.imdcat if test==0 || practice_id:,or\n",
    "estimates store model2_year\n",
    "quietly: melogit newdiag i.sex i.yearcat i.region RA_index i.ethnic i.imdcat if test==0 || practice_id:,or\n",
    "estimates store model2_age\n",
    "quietly: melogit newdiag i.sex i.yearcat i.agecat i.region RA_index i.imdcat if test==0 || practice_id:,or\n",
    "estimates store model2_ethnicity\n",
    "quietly: melogit newdiag i.sex i.yearcat i.agecat i.region RA_index i.ethnic if test==0 || practice_id:,or\n",
    "estimates store model2_imd\n"
   ]
  },
  {
   "cell_type": "code",
   "execution_count": 45,
   "id": "95d03409",
   "metadata": {},
   "outputs": [
    {
     "name": "stdout",
     "output_type": "stream",
     "text": [
      "\n",
      "Likelihood-ratio test\n",
      "Assumption: model2_sex nested within model2\n",
      "\n",
      " LR chi2(1) =  29.29\n",
      "Prob > chi2 = 0.0000\n",
      "\n",
      "Likelihood-ratio test\n",
      "Assumption: model2_year nested within model2\n",
      "\n",
      " LR chi2(2) =  17.04\n",
      "Prob > chi2 = 0.0002\n",
      "\n",
      "Likelihood-ratio test\n",
      "Assumption: model2_age nested within model2\n",
      "\n",
      " LR chi2(2) = 853.26\n",
      "Prob > chi2 = 0.0000\n",
      "\n",
      "Likelihood-ratio test\n",
      "Assumption: model2_ethni~y nested within model2\n",
      "\n",
      " LR chi2(2) =  93.38\n",
      "Prob > chi2 = 0.0000\n",
      "\n",
      "Likelihood-ratio test\n",
      "Assumption: model2_imd nested within model2\n",
      "\n",
      " LR chi2(2) =   7.55\n",
      "Prob > chi2 = 0.0230\n"
     ]
    }
   ],
   "source": [
    "lrtest model2 model2_sex\n",
    "lrtest model2 model2_year\n",
    "lrtest model2 model2_age\n",
    "lrtest model2 model2_ethnicity\n",
    "lrtest model2 model2_imd\n"
   ]
  },
  {
   "cell_type": "code",
   "execution_count": null,
   "id": "017939f5-75b7-4ee0-9f7b-3105e0d2bfe1",
   "metadata": {},
   "outputs": [
    {
     "name": "stdout",
     "output_type": "stream",
     "text": [
      "\n",
      "Table 2. PPV (1) and NPV (2), OR, Random effect\n",
      "--------------------------------------------------------------------\n",
      "                                                    1          2    \n",
      "--------------------------------------------------------------------\n",
      "sex_coded                                                           \n",
      "  1                                               1.73 **    0.72 **\n",
      "yearcat                                                             \n",
      "  2010-2015                                       0.97       1.33 **\n",
      "  2016-2020                                       1.00       1.29 **\n",
      "agecat                                                              \n",
      "  0Middle                                        45.83 **    0.12 **\n",
      "  Elderly                                       124.53 **    0.03 **\n",
      "region                                                              \n",
      "  LONDON COMMISSIONING REGION                     0.97       0.81   \n",
      "  MIDLANDS COMMISSIONING REGION                   1.25 **    0.73   \n",
      "  NORTH EAST AND YORKSHIRE COMMISSIONING REGION   1.36 **    0.79   \n",
      "  NORTH WEST COMMISSIONING REGION                 1.32 **    0.76   \n",
      "  SOUTH EAST COMMISSIONING REGION                 0.98       0.91   \n",
      "  SOUTH WEST COMMISSIONING REGION                 1.19 *     0.70   \n",
      "  Scotland                                        1.08       1.53   \n",
      "  Wales                                           1.60 *     0.60   \n",
      "RA_index                                          0.97       0.94   \n",
      "ethnic                                                              \n",
      "  Missing                                         0.79 **    2.07 **\n",
      "  Other                                           0.30 **    1.90 **\n",
      "imdcat                                                              \n",
      "  4-7                                             0.78 **    1.47 **\n",
      "  8-10                                            0.76 **    1.12   \n",
      "Intercept                                         0.00 ** 3227.97 **\n",
      "var(_cons[practice_id])                           0.07       0.43   \n",
      "Number of observations                           73570     347863   \n",
      "--------------------------------------------------------------------\n",
      "** p<.01, * p<.05\n",
      "(collection ETable exported to file validity2.xlsx)\n"
     ]
    }
   ],
   "source": [
    "etable, estimates(model1 model2) showstars showstarsnote title(\"Table 2. PPV (1) and NPV (2),  OR, Random effect\") cstat(_r_b,nformat(%6.2f)) column(index) export(validity2.xlsx, modify sheet(reg_copd, replace))"
   ]
  },
  {
   "cell_type": "markdown",
   "id": "e7e9a417",
   "metadata": {},
   "source": [
    "### Summary of validation parameters"
   ]
  },
  {
   "cell_type": "code",
   "execution_count": 47,
   "id": "e27d82a4-8d2d-4529-8a15-ae4baabfa28c",
   "metadata": {},
   "outputs": [
    {
     "name": "stdout",
     "output_type": "stream",
     "text": [
      "(26 real changes made)\n",
      "(26 real changes made)\n",
      "(26 real changes made)\n",
      "(26 real changes made)\n",
      "(26 real changes made)\n",
      "(26 real changes made)\n"
     ]
    }
   ],
   "source": [
    "use validity.dta, clear\n",
    "replace prev=round(prev, 0.1)\n",
    "gen prev_a=round(((prev/100)*((sens/100)+(spec/100)-1)+1-(spec/100))*100,0.1)/*apparent prevalence*/\n",
    "replace sens=round(sens, 0.1)\n",
    "replace spec=round(spec,0.1)\n",
    "replace ppv=round(ppv, 0.1)\n",
    "replace npv=round(npv, 0.1)\n",
    "replace roc=round(roc, 0.01)\n"
   ]
  },
  {
   "cell_type": "code",
   "execution_count": 48,
   "id": "8129bfb3-cd21-4077-a785-9a74a846c65b",
   "metadata": {},
   "outputs": [
    {
     "data": {
      "text/html": [
       "<div>\n",
       "<style scoped>\n",
       "    .dataframe tbody tr th:only-of-type {\n",
       "        vertical-align: middle;\n",
       "    }\n",
       "\n",
       "    .dataframe tbody tr th {\n",
       "        vertical-align: top;\n",
       "    }\n",
       "\n",
       "    .dataframe thead th {\n",
       "        text-align: right;\n",
       "    }\n",
       "</style>\n",
       "<table border=\"1\" class=\"dataframe\">\n",
       "  <thead>\n",
       "    <tr style=\"text-align: right;\">\n",
       "      <th></th>\n",
       "      <th>var</th>\n",
       "      <th>prev</th>\n",
       "      <th>sens</th>\n",
       "      <th>spec</th>\n",
       "      <th>ppv</th>\n",
       "      <th>npv</th>\n",
       "      <th>roc</th>\n",
       "      <th>prev_a</th>\n",
       "    </tr>\n",
       "  </thead>\n",
       "  <tbody>\n",
       "    <tr>\n",
       "      <th>1</th>\n",
       "      <td>all</td>\n",
       "      <td>3.9</td>\n",
       "      <td>93.4</td>\n",
       "      <td>85.7</td>\n",
       "      <td>21</td>\n",
       "      <td>99.7</td>\n",
       "      <td>.9</td>\n",
       "      <td>17.4</td>\n",
       "    </tr>\n",
       "    <tr>\n",
       "      <th>2</th>\n",
       "      <td>Male</td>\n",
       "      <td>4.3</td>\n",
       "      <td>93.2</td>\n",
       "      <td>88</td>\n",
       "      <td>25.9</td>\n",
       "      <td>99.7</td>\n",
       "      <td>.91</td>\n",
       "      <td>15.5</td>\n",
       "    </tr>\n",
       "    <tr>\n",
       "      <th>3</th>\n",
       "      <td>Female</td>\n",
       "      <td>3.5</td>\n",
       "      <td>93.7</td>\n",
       "      <td>83.5</td>\n",
       "      <td>17.2</td>\n",
       "      <td>99.7</td>\n",
       "      <td>.89</td>\n",
       "      <td>19.2</td>\n",
       "    </tr>\n",
       "    <tr>\n",
       "      <th>4</th>\n",
       "      <td>Age young</td>\n",
       "      <td>.1</td>\n",
       "      <td>65.6</td>\n",
       "      <td>89</td>\n",
       "      <td>.5</td>\n",
       "      <td>100</td>\n",
       "      <td>.77</td>\n",
       "      <td>11</td>\n",
       "    </tr>\n",
       "    <tr>\n",
       "      <th>5</th>\n",
       "      <td>Age middle</td>\n",
       "      <td>3.3</td>\n",
       "      <td>93.2</td>\n",
       "      <td>85.7</td>\n",
       "      <td>18.2</td>\n",
       "      <td>99.7</td>\n",
       "      <td>.89</td>\n",
       "      <td>16.9</td>\n",
       "    </tr>\n",
       "    <tr>\n",
       "      <th>6</th>\n",
       "      <td>Age elderly</td>\n",
       "      <td>10.8</td>\n",
       "      <td>93.8</td>\n",
       "      <td>80.5</td>\n",
       "      <td>36.7</td>\n",
       "      <td>99.1</td>\n",
       "      <td>.87</td>\n",
       "      <td>27.6</td>\n",
       "    </tr>\n",
       "    <tr>\n",
       "      <th>7</th>\n",
       "      <td>Year 2004-2009</td>\n",
       "      <td>4.4</td>\n",
       "      <td>92.9</td>\n",
       "      <td>85</td>\n",
       "      <td>22.1</td>\n",
       "      <td>99.6</td>\n",
       "      <td>.89</td>\n",
       "      <td>18.4</td>\n",
       "    </tr>\n",
       "    <tr>\n",
       "      <th>8</th>\n",
       "      <td>Year 2010-2015</td>\n",
       "      <td>3.8</td>\n",
       "      <td>94</td>\n",
       "      <td>85.5</td>\n",
       "      <td>20.5</td>\n",
       "      <td>99.7</td>\n",
       "      <td>.9</td>\n",
       "      <td>17.5</td>\n",
       "    </tr>\n",
       "    <tr>\n",
       "      <th>9</th>\n",
       "      <td>Year 2016-2020</td>\n",
       "      <td>3.5</td>\n",
       "      <td>93.3</td>\n",
       "      <td>86.7</td>\n",
       "      <td>20.1</td>\n",
       "      <td>99.7</td>\n",
       "      <td>.9</td>\n",
       "      <td>16.1</td>\n",
       "    </tr>\n",
       "    <tr>\n",
       "      <th>10</th>\n",
       "      <td>IMD 1,3</td>\n",
       "      <td>4.3</td>\n",
       "      <td>93.4</td>\n",
       "      <td>86.2</td>\n",
       "      <td>23.3</td>\n",
       "      <td>99.7</td>\n",
       "      <td>.9</td>\n",
       "      <td>17.3</td>\n",
       "    </tr>\n",
       "    <tr>\n",
       "      <th>11</th>\n",
       "      <td>IMD 4,7</td>\n",
       "      <td>4</td>\n",
       "      <td>94.4</td>\n",
       "      <td>84.9</td>\n",
       "      <td>20.6</td>\n",
       "      <td>99.7</td>\n",
       "      <td>.9</td>\n",
       "      <td>18.3</td>\n",
       "    </tr>\n",
       "    <tr>\n",
       "      <th>12</th>\n",
       "      <td>IMD 8,10</td>\n",
       "      <td>3.4</td>\n",
       "      <td>92.1</td>\n",
       "      <td>85.9</td>\n",
       "      <td>18.7</td>\n",
       "      <td>99.7</td>\n",
       "      <td>.89</td>\n",
       "      <td>16.8</td>\n",
       "    </tr>\n",
       "    <tr>\n",
       "      <th>13</th>\n",
       "      <td>London</td>\n",
       "      <td>1.8</td>\n",
       "      <td>87.4</td>\n",
       "      <td>89.6</td>\n",
       "      <td>13.4</td>\n",
       "      <td>99.7</td>\n",
       "      <td>.88</td>\n",
       "      <td>11.8</td>\n",
       "    </tr>\n",
       "    <tr>\n",
       "      <th>14</th>\n",
       "      <td>Midlands</td>\n",
       "      <td>4.9</td>\n",
       "      <td>93.2</td>\n",
       "      <td>84</td>\n",
       "      <td>23.2</td>\n",
       "      <td>99.6</td>\n",
       "      <td>.89</td>\n",
       "      <td>19.8</td>\n",
       "    </tr>\n",
       "    <tr>\n",
       "      <th>15</th>\n",
       "      <td>Yorkshire</td>\n",
       "      <td>4.3</td>\n",
       "      <td>93.2</td>\n",
       "      <td>86.3</td>\n",
       "      <td>23.6</td>\n",
       "      <td>99.6</td>\n",
       "      <td>.9</td>\n",
       "      <td>17.1</td>\n",
       "    </tr>\n",
       "    <tr>\n",
       "      <th>16</th>\n",
       "      <td>North West</td>\n",
       "      <td>4</td>\n",
       "      <td>93.9</td>\n",
       "      <td>87.1</td>\n",
       "      <td>23.3</td>\n",
       "      <td>99.7</td>\n",
       "      <td>.9</td>\n",
       "      <td>16.2</td>\n",
       "    </tr>\n",
       "    <tr>\n",
       "      <th>17</th>\n",
       "      <td>South East</td>\n",
       "      <td>3.1</td>\n",
       "      <td>92.7</td>\n",
       "      <td>87</td>\n",
       "      <td>18.7</td>\n",
       "      <td>99.7</td>\n",
       "      <td>.9</td>\n",
       "      <td>15.4</td>\n",
       "    </tr>\n",
       "    <tr>\n",
       "      <th>18</th>\n",
       "      <td>South West</td>\n",
       "      <td>4.6</td>\n",
       "      <td>92.9</td>\n",
       "      <td>84.7</td>\n",
       "      <td>22.6</td>\n",
       "      <td>99.6</td>\n",
       "      <td>.89</td>\n",
       "      <td>18.9</td>\n",
       "    </tr>\n",
       "    <tr>\n",
       "      <th>19</th>\n",
       "      <td>SystemOne</td>\n",
       "      <td>4.3</td>\n",
       "      <td>94.2</td>\n",
       "      <td>84.8</td>\n",
       "      <td>21.6</td>\n",
       "      <td>99.7</td>\n",
       "      <td>.89</td>\n",
       "      <td>18.6</td>\n",
       "    </tr>\n",
       "    <tr>\n",
       "      <th>20</th>\n",
       "      <td>Vision</td>\n",
       "      <td>3.6</td>\n",
       "      <td>94.9</td>\n",
       "      <td>85.3</td>\n",
       "      <td>19.4</td>\n",
       "      <td>99.8</td>\n",
       "      <td>.9</td>\n",
       "      <td>17.6</td>\n",
       "    </tr>\n",
       "    <tr>\n",
       "      <th>21</th>\n",
       "      <td>EMIS</td>\n",
       "      <td>3.5</td>\n",
       "      <td>92</td>\n",
       "      <td>86.9</td>\n",
       "      <td>20.2</td>\n",
       "      <td>99.7</td>\n",
       "      <td>.89</td>\n",
       "      <td>15.9</td>\n",
       "    </tr>\n",
       "    <tr>\n",
       "      <th>22</th>\n",
       "      <td>RAIndex1</td>\n",
       "      <td>3.9</td>\n",
       "      <td>93</td>\n",
       "      <td>86.2</td>\n",
       "      <td>21.3</td>\n",
       "      <td>99.7</td>\n",
       "      <td>.9</td>\n",
       "      <td>16.9</td>\n",
       "    </tr>\n",
       "    <tr>\n",
       "      <th>23</th>\n",
       "      <td>RAIndex0</td>\n",
       "      <td>4</td>\n",
       "      <td>94.5</td>\n",
       "      <td>84.2</td>\n",
       "      <td>20</td>\n",
       "      <td>99.7</td>\n",
       "      <td>.89</td>\n",
       "      <td>19</td>\n",
       "    </tr>\n",
       "    <tr>\n",
       "      <th>24</th>\n",
       "      <td>Ethnicity_0white</td>\n",
       "      <td>5</td>\n",
       "      <td>93.6</td>\n",
       "      <td>83.5</td>\n",
       "      <td>22.9</td>\n",
       "      <td>99.6</td>\n",
       "      <td>.89</td>\n",
       "      <td>20.3</td>\n",
       "    </tr>\n",
       "    <tr>\n",
       "      <th>25</th>\n",
       "      <td>Ethnicity_Other</td>\n",
       "      <td>1.1</td>\n",
       "      <td>87.9</td>\n",
       "      <td>88.4</td>\n",
       "      <td>7.5</td>\n",
       "      <td>99.9</td>\n",
       "      <td>.88</td>\n",
       "      <td>12.4</td>\n",
       "    </tr>\n",
       "    <tr>\n",
       "      <th>26</th>\n",
       "      <td>Ethnicity_Missing</td>\n",
       "      <td>2.7</td>\n",
       "      <td>93.6</td>\n",
       "      <td>89.1</td>\n",
       "      <td>19.3</td>\n",
       "      <td>99.8</td>\n",
       "      <td>.91</td>\n",
       "      <td>13.2</td>\n",
       "    </tr>\n",
       "  </tbody>\n",
       "</table>\n",
       "</div>"
      ]
     },
     "metadata": {},
     "output_type": "display_data"
    }
   ],
   "source": [
    "%head 50"
   ]
  },
  {
   "cell_type": "code",
   "execution_count": null,
   "id": "47dc850c-f3c8-4b9c-8ba9-3620f31b4fa9",
   "metadata": {},
   "outputs": [
    {
     "name": "stdout",
     "output_type": "stream",
     "text": [
      "file validity2.xlsx saved\n"
     ]
    }
   ],
   "source": [
    "/*texsave * using test3.tex, varlabels*/\n",
    "export excel using  validity2.xlsx, sheet(val_copd, replace)"
   ]
  }
 ],
 "metadata": {
  "kernelspec": {
   "display_name": "Stata (nbstata)",
   "language": "stata",
   "name": "nbstata"
  },
  "language_info": {
   "file_extension": ".do",
   "mimetype": "text/x-stata",
   "name": "stata",
   "version": "17"
  }
 },
 "nbformat": 4,
 "nbformat_minor": 5
}
