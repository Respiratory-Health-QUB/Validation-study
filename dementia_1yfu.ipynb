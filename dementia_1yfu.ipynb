{
 "cells": [
  {
   "cell_type": "markdown",
   "id": "13e469d7",
   "metadata": {},
   "source": [
    "# Validity of using prescription records to identify patient comorbidities\n",
    "## Sensitivity analysis: Analysis of dementia\n",
    "## 1 year follow up"
   ]
  },
  {
   "cell_type": "markdown",
   "id": "a3d5caf8",
   "metadata": {},
   "source": [
    "**ReadMe:**\n",
    "- This is a script used in the analysis for Schnier et al., 2025: Validity of using prescription records to classify disease – a record linkage study using routinely collected electronic health records from the UK.\n",
    "- The underlying data set has been created using the Optimum Patient Care Research Database (https://opcrd.optimumpatientcare.org/). The authors do not have permission to give the public access to the study dataset; researchers may request access to OPCRD for their own purposes. \n",
    " - All code is run in StataSE 18. \n"
   ]
  },
  {
   "cell_type": "markdown",
   "id": "1cf02e3e-e834-469d-abf1-21c9ce29f756",
   "metadata": {},
   "source": [
    "**Set up:**\n",
    "|Var|Input|\n",
    "| --- | --- | \n",
    "|population|425,000|\n",
    "|diagnostic codes|HDRUK code list|\n",
    "|drug codes|bnf selection|\n",
    "|sql date|13.03.2025|\n",
    "|sql code|dementiaselection_1yfu_202050313.sql| "
   ]
  },
  {
   "cell_type": "code",
   "execution_count": 1,
   "id": "2a759161-052f-4433-ab6c-0ad7ab9120e9",
   "metadata": {},
   "outputs": [
    {
     "data": {
      "text/html": [
       "<style>div.jp-Notebook .datagrid-container {min-height: 448px; }</style>"
      ],
      "text/plain": [
       "<IPython.core.display.HTML object>"
      ]
     },
     "metadata": {},
     "output_type": "display_data"
    }
   ],
   "source": [
    "    clear all"
   ]
  },
  {
   "cell_type": "markdown",
   "id": "5e9a592b-20c3-4eb6-b947-22979a02dcf0",
   "metadata": {},
   "source": [
    "### Import from SQL server and data wrangling"
   ]
  },
  {
   "cell_type": "code",
   "execution_count": 2,
   "id": "b5b5eb32-1b5c-44c2-901c-0e9d1a4e36d2",
   "metadata": {},
   "outputs": [],
   "source": [
    "odbc load, exec(\"select * from [dementia_425000_1yfu_20250313]\") dsn(\"sqlserverconnect\")"
   ]
  },
  {
   "cell_type": "code",
   "execution_count": 3,
   "id": "0835f95f-a07b-4d29-b825-b3823bfad60e",
   "metadata": {
    "scrolled": true
   },
   "outputs": [
    {
     "name": "stdout",
     "output_type": "stream",
     "text": [
      "(3,102 missing values generated)\n",
      "(3,102 real changes made)\n",
      "(4,582 missing values generated)\n",
      "(4,582 real changes made)\n",
      "(2,589 missing values generated)\n",
      "variable bnf_code was str6 now str18\n",
      "(3,078 real changes made)\n",
      "(23 real changes made)\n",
      "variable ethnicity was str2 now str6\n",
      "(257,981 real changes made)\n",
      "(3,762 real changes made)\n",
      "(23,912 real changes made)\n",
      "(7,430 real changes made)\n",
      "(8,764 real changes made)\n",
      "variable ethnicity was str6 now str7\n",
      "(123,151 real changes made)\n",
      "(3,996 real changes made)\n"
     ]
    }
   ],
   "source": [
    "generate test=0 if missing(drug_dt)\n",
    "replace test=1 if ! missing(drug_dt)  \n",
    "\n",
    "generate diag=0 if missing(diag_dt)\n",
    "replace diag=1 if ! missing(diag_dt)  \n",
    "\n",
    "gen start_year=year(fu_start_dt)\n",
    "\n",
    "/* different age groups! */\n",
    "egen agecat = cut(age), at(0,70,90,120)\n",
    "label def agecat_lab 0 \"Young\" 70 \"0Middle\" 90 \"Elderly\" 120 \"weird\"\n",
    "label values agecat agecat_lab\n",
    "\n",
    "egen yearcat = cut(start_year), at(2004,2010,2016,2025)\n",
    "label def yearcat_lab 2004 \"2004-2009\" 2010 \"2010-2015\" 2016 \"2016-2020\" \n",
    "label values yearcat yearcat_lab\n",
    "\n",
    "egen imdcat = cut(imd_decile), at(0,4,8,11)\n",
    "label def imdcat_lab 0 \"1-3\" 4 \"4-7\" 8 \"8-10\" \n",
    "label values imdcat imdcat_lab\n",
    "\n",
    "replace bnf_code = \"Drugs for dementia\" if bnf_code== \"041100\"\n",
    "replace bnf_code = \"Other/unknown\" if missing(bnf_code) & ! missing(drug_dt)\n",
    "\n",
    "\n",
    "\n",
    "replace ethnicity=\"0white\" if ethnicity==\"1\"\n",
    "replace ethnicity=\"Other\" if ethnicity==\"2\"\n",
    "replace ethnicity=\"Other\" if ethnicity==\"3\"\n",
    "replace ethnicity=\"Other\" if ethnicity==\"4\"\n",
    "replace ethnicity=\"Other\" if ethnicity==\"5\"\n",
    "replace ethnicity=\"Missing\" if ethnicity==\"99\"\n",
    "\n",
    "\n",
    "encode bnf_code, generate(bnf_code_values) \n",
    "encode description, generate(description_values)\n",
    "encode ethnicity, generate(ethnicity_values) \n",
    "\n",
    "/* put Wales and missing into NORTH WEST */\n",
    "replace region_name = \"NORTH WEST COMMISSIONING REGION\" if strlen(region_name)<6\n",
    "\n",
    "gen diag_neg=diag==0\n",
    "gen diag_pos=diag==1\n",
    "encode region_name, generate(region) label(regionlbl)\n",
    "encode ethnicity, generate(ethnic)\n"
   ]
  },
  {
   "cell_type": "code",
   "execution_count": 4,
   "id": "4bb67b58-5460-4077-bd5d-6252a35d7c1e",
   "metadata": {},
   "outputs": [
    {
     "name": "stdout",
     "output_type": "stream",
     "text": [
      "(bin=19, start=16, width=5)\n"
     ]
    },
    {
     "data": {
      "image/png": "[encoded data removed]",
      "text/plain": [
       "<IPython.core.display.Image object>"
      ]
     },
     "metadata": {},
     "output_type": "display_data"
    }
   ],
   "source": [
    "histogram age, width(5)\n"
   ]
  },
  {
   "cell_type": "markdown",
   "id": "cfdd2c1f-86b9-4840-8106-662ce151f20e",
   "metadata": {},
   "source": [
    "This table holds one randomly selected diagnostic code found during the observation period. The table is truncated to only include diagnostic codes with a count of 10 or more."
   ]
  },
  {
   "cell_type": "code",
   "execution_count": 5,
   "id": "6544a018-204b-4fcb-b5ab-d9ec745e764f",
   "metadata": {},
   "outputs": [
    {
     "name": "stdout",
     "output_type": "stream",
     "text": [
      "\n",
      "  +---------------------------------------------------------------------------------------------------------------------------------\n",
      "> -------------------------+\n",
      "  | description                                                                                                                     \n",
      ">  Freq.   Percent     %<= |\n",
      "  |---------------------------------------------------------------------------------------------------------------------------------\n",
      "> -------------------------|\n",
      "  | Dementia care plan reviewed (situation)                                                                                         \n",
      ">    705     15.39   15.39 |\n",
      "  | Dementia                                                                                                                        \n",
      ">    518     11.31   26.69 |\n",
      "  | Alzheimer's disease                                                                                                             \n",
      ">    507     11.07   37.76 |\n",
      "  | Review of dementia advance care plan                                                                                            \n",
      ">    350      7.64   45.40 |\n",
      "  | Vascular dementia (disorder)                                                                                                    \n",
      ">    267      5.83   51.22 |\n",
      "  |---------------------------------------------------------------------------------------------------------------------------------\n",
      "> -------------------------|\n",
      "  | Alzheimer's disease                                                                                                         ..  \n",
      ">    247      5.39   56.61 |\n",
      "  | Dementia care plan reviewed                                                                                                     \n",
      ">    207      4.52   61.13 |\n",
      "  | Vascular dementia                                                                                                               \n",
      ">    183      3.99   65.12 |\n",
      "  | Senile dementia                                                                                                                 \n",
      ">    162      3.54   68.66 |\n",
      "  | Dementia advance care plan agreed (finding)                                                                                     \n",
      ">    130      2.84   71.50 |\n",
      "  |---------------------------------------------------------------------------------------------------------------------------------\n",
      "> -------------------------|\n",
      "  | Senile and presenile organic psychotic conditions                                                                           ..  \n",
      ">    125      2.73   74.23 |\n",
      "  | H/O: dementia                                                                                                               ..  \n",
      ">    110      2.40   76.63 |\n",
      "  | [X]Dementia in Alzheimer's disease                                                                                          ..  \n",
      ">    102      2.23   78.85 |\n",
      "  | [X] Unspecified dementia                                                                                                    ..  \n",
      ">     79      1.72   80.58 |\n",
      "  | Dementia advance care plan agreed                                                                                               \n",
      ">     74      1.62   82.19 |\n",
      "  |---------------------------------------------------------------------------------------------------------------------------------\n",
      "> -------------------------|\n",
      "  | Dementia care plan agreed (finding)                                                                                             \n",
      ">     66      1.44   83.63 |\n",
      "  | Dementia care plan agreed                                                                                                       \n",
      ">     57      1.24   84.88 |\n",
      "  | Dementia monitoring first letter (procedure)                                                                                    \n",
      ">     54      1.18   86.05 |\n",
      "  | Dementia monitoring first letter                                                                                                \n",
      ">     51      1.11   87.17 |\n",
      "  | [X]Dementia in Alzheimer's dis, atypical or mixed type                                                                      ..  \n",
      ">     50      1.09   88.26 |\n",
      "  |---------------------------------------------------------------------------------------------------------------------------------\n",
      "> -------------------------|\n",
      "  | Primary degenerative dementia of the Alzheimer type, senile onset (disorder)                                                    \n",
      ">     43      0.94   89.20 |\n",
      "  | Dementia in Alzheimer's disease with late onset                                                                                 \n",
      ">     34      0.74   89.94 |\n",
      "  | Multi-infarct dementia                                                                                                          \n",
      ">     34      0.74   90.68 |\n",
      "  | [X]Dementia in Alzheimer's dis, atypical or mixed type (disorder)                                                               \n",
      ">     30      0.65   91.34 |\n",
      "  | Uncomplicated senile dementia                                                                                                   \n",
      ">     24      0.52   91.86 |\n",
      "  |---------------------------------------------------------------------------------------------------------------------------------\n",
      "> -------------------------|\n",
      "  | Dementia medication review (procedure)                                                                                          \n",
      ">     20      0.44   92.30 |\n",
      "  | Diffuse Lewy body disease                                                                                                       \n",
      ">     20      0.44   92.73 |\n",
      "  | [X]Dementia in Alzheimer's disease, unspecified                                                                             ..  \n",
      ">     20      0.44   93.17 |\n",
      "  | [X]Unspecified dementia                                                                                                         \n",
      ">     20      0.44   93.61 |\n",
      "  | [D]Symptoms, signs and ill-defined conditions NOS                                                                               \n",
      ">     17      0.37   93.98 |\n",
      "  |---------------------------------------------------------------------------------------------------------------------------------\n",
      "> -------------------------|\n",
      "  | Dementia associated with Parkinson's Disease (disorder)                                                                         \n",
      ">     14      0.31   94.28 |\n",
      "  | Dementia monitoring telephone invitation (procedure)                                                                            \n",
      ">     14      0.31   94.59 |\n",
      "  | Mixed cortical and subcortical vascular dementia                                                                                \n",
      ">     13      0.28   94.87 |\n",
      "  | [X]Lewy body dementia                                                                                                           \n",
      ">     12      0.26   95.13 |\n",
      "  | Presenile dementia                                                                                                          ..  \n",
      ">     11      0.24   95.37 |\n",
      "  |---------------------------------------------------------------------------------------------------------------------------------\n",
      "> -------------------------|\n",
      "  | Primary degenerative dementia of the Alzheimer type, presenile onset (disorder)                                                 \n",
      ">     11      0.24   95.61 |\n",
      "  | Uncomplicated senile dementia                                                                                               ..  \n",
      ">     11      0.24   95.85 |\n",
      "  | Arteriosclerotic dementia                                                                                                   ..  \n",
      ">     10      0.22   96.07 |\n",
      "  +---------------------------------------------------------------------------------------------------------------------------------\n",
      "> -------------------------+\n"
     ]
    }
   ],
   "source": [
    "set linesize 132\n",
    "groups description , select(f >= 10) ord(h) table "
   ]
  },
  {
   "cell_type": "markdown",
   "id": "7d01eb90-5ca1-4146-aafb-680a81450cc3",
   "metadata": {},
   "source": [
    "These tables holds one randomly selected prescrption during the observation period. The table is truncated to only include codes with a count of 10 or more.\n"
   ]
  },
  {
   "cell_type": "code",
   "execution_count": 6,
   "id": "a4acd83f-5b6a-49e7-8b49-5dc1f78f2d1a",
   "metadata": {},
   "outputs": [
    {
     "name": "stdout",
     "output_type": "stream",
     "text": [
      "\n",
      "  +----------------------------------------------+\n",
      "  |           bnf_code   Freq.   Percent     %<= |\n",
      "  |----------------------------------------------|\n",
      "  | Drugs for dementia    3078     99.23   99.23 |\n",
      "  |      Other/unknown      23      0.74   99.97 |\n",
      "  +----------------------------------------------+\n"
     ]
    }
   ],
   "source": [
    "set linesize 132\n",
    "groups bnf_code , select(f >= 10) ord(h) table "
   ]
  },
  {
   "cell_type": "markdown",
   "id": "67837c2c-bbb5-4681-8000-cd8b3f6cac51",
   "metadata": {},
   "source": [
    "### Results\n",
    "#### Overall"
   ]
  },
  {
   "cell_type": "code",
   "execution_count": 7,
   "id": "733c0f2e-1179-49dc-b95d-48547a864674",
   "metadata": {},
   "outputs": [
    {
     "name": "stdout",
     "output_type": "stream",
     "text": [
      "\n",
      "           |         test\n",
      "      diag |      Pos.       Neg. |     Total\n",
      "-----------+----------------------+----------\n",
      "  Abnormal |     1,922      2,660 |     4,582 \n",
      "    Normal |     1,180    419,238 |   420,418 \n",
      "-----------+----------------------+----------\n",
      "     Total |     3,102    421,898 |   425,000 \n",
      "True abnormal diagnosis defined as diag = 1\n",
      "\n",
      "\n",
      "                                                  [95% Confidence Interval]\n",
      "---------------------------------------------------------------------------\n",
      "Prevalence                         Pr(A)      1.1%      1.0%       1.1%\n",
      "---------------------------------------------------------------------------\n",
      "Sensitivity                      Pr(+|A)     41.9%     40.5%     43.4%\n",
      "Specificity                      Pr(-|N)     99.7%     99.7%     99.7%\n",
      "ROC area               (Sens. + Spec.)/2      0.71      0.70      0.72 \n",
      "---------------------------------------------------------------------------\n",
      "Likelihood ratio (+)     Pr(+|A)/Pr(+|N)    149.45    139.85    159.71 \n",
      "Likelihood ratio (-)     Pr(-|A)/Pr(-|N)      0.58      0.57      0.60 \n",
      "Odds ratio                   LR(+)/LR(-)    256.71    236.53    278.62 \n",
      "Positive predictive value        Pr(A|+)     62.0%     60.2%     63.7% \n",
      "Negative predictive value        Pr(N|-)     99.4%     99.3%     99.4% \n",
      "---------------------------------------------------------------------------\n"
     ]
    }
   ],
   "source": [
    "diagt diag test"
   ]
  },
  {
   "cell_type": "markdown",
   "id": "b119ffa3-90d8-4e4f-9f8d-30cca2284b37",
   "metadata": {},
   "source": [
    "#### Males"
   ]
  },
  {
   "cell_type": "code",
   "execution_count": 8,
   "id": "81028f5e-4e7a-4bb4-b0f6-71d8d0821075",
   "metadata": {},
   "outputs": [
    {
     "name": "stdout",
     "output_type": "stream",
     "text": [
      "\n",
      "           |         test\n",
      "      diag |      Pos.       Neg. |     Total\n",
      "-----------+----------------------+----------\n",
      "  Abnormal |       651        899 |     1,550 \n",
      "    Normal |       404    206,331 |   206,735 \n",
      "-----------+----------------------+----------\n",
      "     Total |     1,055    207,230 |   208,285 \n",
      "True abnormal diagnosis defined as diag = 1\n",
      "\n",
      "\n",
      "                                                  [95% Confidence Interval]\n",
      "---------------------------------------------------------------------------\n",
      "Prevalence                         Pr(A)      0.7%      0.7%       0.8%\n",
      "---------------------------------------------------------------------------\n",
      "Sensitivity                      Pr(+|A)     42.0%     39.5%     44.5%\n",
      "Specificity                      Pr(-|N)     99.8%     99.8%     99.8%\n",
      "ROC area               (Sens. + Spec.)/2      0.71      0.70      0.72 \n",
      "---------------------------------------------------------------------------\n",
      "Likelihood ratio (+)     Pr(+|A)/Pr(+|N)    214.92    191.84    240.79 \n",
      "Likelihood ratio (-)     Pr(-|A)/Pr(-|N)      0.58      0.56      0.61 \n",
      "Odds ratio                   LR(+)/LR(-)    369.83    321.42    425.54 \n",
      "Positive predictive value        Pr(A|+)     61.7%     58.7%     64.7% \n",
      "Negative predictive value        Pr(N|-)     99.6%     99.5%     99.6% \n",
      "---------------------------------------------------------------------------\n"
     ]
    }
   ],
   "source": [
    "diagt diag test if sex==1"
   ]
  },
  {
   "cell_type": "markdown",
   "id": "762df1ac-de32-43e9-8cb3-6696c91e2459",
   "metadata": {},
   "source": [
    "#### Females"
   ]
  },
  {
   "cell_type": "code",
   "execution_count": 9,
   "id": "7fc985e3-7757-4908-ae5a-5d346ee7ccb6",
   "metadata": {},
   "outputs": [
    {
     "name": "stdout",
     "output_type": "stream",
     "text": [
      "\n",
      "           |         test\n",
      "      diag |      Pos.       Neg. |     Total\n",
      "-----------+----------------------+----------\n",
      "  Abnormal |     1,271      1,761 |     3,032 \n",
      "    Normal |       776    212,898 |   213,674 \n",
      "-----------+----------------------+----------\n",
      "     Total |     2,047    214,659 |   216,706 \n",
      "True abnormal diagnosis defined as diag = 1\n",
      "\n",
      "\n",
      "                                                  [95% Confidence Interval]\n",
      "---------------------------------------------------------------------------\n",
      "Prevalence                         Pr(A)      1.4%      1.4%       1.4%\n",
      "---------------------------------------------------------------------------\n",
      "Sensitivity                      Pr(+|A)     41.9%     40.2%     43.7%\n",
      "Specificity                      Pr(-|N)     99.6%     99.6%     99.7%\n",
      "ROC area               (Sens. + Spec.)/2      0.71      0.70      0.72 \n",
      "---------------------------------------------------------------------------\n",
      "Likelihood ratio (+)     Pr(+|A)/Pr(+|N)    115.43    106.36    125.26 \n",
      "Likelihood ratio (-)     Pr(-|A)/Pr(-|N)      0.58      0.57      0.60 \n",
      "Odds ratio                   LR(+)/LR(-)    198.01    179.02    219.02 \n",
      "Positive predictive value        Pr(A|+)     62.1%     59.9%     64.2% \n",
      "Negative predictive value        Pr(N|-)     99.2%     99.1%     99.2% \n",
      "---------------------------------------------------------------------------\n"
     ]
    }
   ],
   "source": [
    "diagt diag test if sex==0"
   ]
  },
  {
   "cell_type": "markdown",
   "id": "ab8954a7-060c-4eba-adea-1044fb6bb9ea",
   "metadata": {},
   "source": [
    "#### Age\n",
    "*16-70*"
   ]
  },
  {
   "cell_type": "code",
   "execution_count": 10,
   "id": "f9aa943b-6489-4d70-a905-4aa3b8f2cb6e",
   "metadata": {},
   "outputs": [
    {
     "name": "stdout",
     "output_type": "stream",
     "text": [
      "\n",
      "           |         test\n",
      "      diag |      Pos.       Neg. |     Total\n",
      "-----------+----------------------+----------\n",
      "  Abnormal |       138        246 |       384 \n",
      "    Normal |       127    338,558 |   338,685 \n",
      "-----------+----------------------+----------\n",
      "     Total |       265    338,804 |   339,069 \n",
      "True abnormal diagnosis defined as diag = 1\n",
      "\n",
      "\n",
      "                                                  [95% Confidence Interval]\n",
      "---------------------------------------------------------------------------\n",
      "Prevalence                         Pr(A)      0.1%      0.1%       0.1%\n",
      "---------------------------------------------------------------------------\n",
      "Sensitivity                      Pr(+|A)     35.9%     31.1%     41.0%\n",
      "Specificity                      Pr(-|N)    100.0%    100.0%    100.0%\n",
      "ROC area               (Sens. + Spec.)/2      0.68      0.66      0.70 \n",
      "---------------------------------------------------------------------------\n",
      "Likelihood ratio (+)     Pr(+|A)/Pr(+|N)    958.39    769.70    1193.32 \n",
      "Likelihood ratio (-)     Pr(-|A)/Pr(-|N)      0.64      0.59      0.69 \n",
      "Odds ratio                   LR(+)/LR(-)   1495.45    1140.39  1961.11 \n",
      "Positive predictive value        Pr(A|+)     52.1%     45.9%     58.2% \n",
      "Negative predictive value        Pr(N|-)     99.9%     99.9%     99.9% \n",
      "---------------------------------------------------------------------------\n"
     ]
    }
   ],
   "source": [
    "diagt diag test if agecat==0"
   ]
  },
  {
   "cell_type": "markdown",
   "id": "999f9154-f87e-44c7-8928-1345fa5c5958",
   "metadata": {},
   "source": [
    "*70-90*"
   ]
  },
  {
   "cell_type": "code",
   "execution_count": 11,
   "id": "6fcb0167-b359-4f24-91e3-a10fb2caa610",
   "metadata": {},
   "outputs": [
    {
     "name": "stdout",
     "output_type": "stream",
     "text": [
      "\n",
      "           |         test\n",
      "      diag |      Pos.       Neg. |     Total\n",
      "-----------+----------------------+----------\n",
      "  Abnormal |     1,547      1,951 |     3,498 \n",
      "    Normal |       916     73,683 |    74,599 \n",
      "-----------+----------------------+----------\n",
      "     Total |     2,463     75,634 |    78,097 \n",
      "True abnormal diagnosis defined as diag = 1\n",
      "\n",
      "\n",
      "                                                  [95% Confidence Interval]\n",
      "---------------------------------------------------------------------------\n",
      "Prevalence                         Pr(A)      4.5%      4.3%       4.6%\n",
      "---------------------------------------------------------------------------\n",
      "Sensitivity                      Pr(+|A)     44.2%     42.6%     45.9%\n",
      "Specificity                      Pr(-|N)     98.8%     98.7%     98.8%\n",
      "ROC area               (Sens. + Spec.)/2      0.71      0.71      0.72 \n",
      "---------------------------------------------------------------------------\n",
      "Likelihood ratio (+)     Pr(+|A)/Pr(+|N)     36.02     33.44     38.80 \n",
      "Likelihood ratio (-)     Pr(-|A)/Pr(-|N)      0.56      0.55      0.58 \n",
      "Odds ratio                   LR(+)/LR(-)     63.78     58.10     70.02 \n",
      "Positive predictive value        Pr(A|+)     62.8%     60.9%     64.7% \n",
      "Negative predictive value        Pr(N|-)     97.4%     97.3%     97.5% \n",
      "---------------------------------------------------------------------------\n"
     ]
    }
   ],
   "source": [
    "diagt diag test if agecat==70"
   ]
  },
  {
   "cell_type": "code",
   "execution_count": 12,
   "id": "fd782079-4378-4cc3-9a2c-4adb92379d41",
   "metadata": {},
   "outputs": [
    {
     "name": "stdout",
     "output_type": "stream",
     "text": [
      "\n",
      "           |         test\n",
      "      diag |      Pos.       Neg. |     Total\n",
      "-----------+----------------------+----------\n",
      "  Abnormal |       237        463 |       700 \n",
      "    Normal |       137      6,997 |     7,134 \n",
      "-----------+----------------------+----------\n",
      "     Total |       374      7,460 |     7,834 \n",
      "True abnormal diagnosis defined as diag = 1\n",
      "\n",
      "\n",
      "                                                  [95% Confidence Interval]\n",
      "---------------------------------------------------------------------------\n",
      "Prevalence                         Pr(A)      8.9%      8.3%       9.6%\n",
      "---------------------------------------------------------------------------\n",
      "Sensitivity                      Pr(+|A)     33.9%     30.4%     37.5%\n",
      "Specificity                      Pr(-|N)     98.1%     97.7%     98.4%\n",
      "ROC area               (Sens. + Spec.)/2      0.66      0.64      0.68 \n",
      "---------------------------------------------------------------------------\n",
      "Likelihood ratio (+)     Pr(+|A)/Pr(+|N)     17.63     14.50     21.44 \n",
      "Likelihood ratio (-)     Pr(-|A)/Pr(-|N)      0.67      0.64      0.71 \n",
      "Odds ratio                   LR(+)/LR(-)     26.14     20.77     32.91 \n",
      "Positive predictive value        Pr(A|+)     63.4%     58.3%     68.3% \n",
      "Negative predictive value        Pr(N|-)     93.8%     93.2%     94.3% \n",
      "---------------------------------------------------------------------------\n"
     ]
    }
   ],
   "source": [
    "diagt diag test if agecat==90"
   ]
  },
  {
   "cell_type": "code",
   "execution_count": 13,
   "id": "8c4d3d18",
   "metadata": {},
   "outputs": [
    {
     "name": "stdout",
     "output_type": "stream",
     "text": [
      "\n",
      "------------------------------------------------\n",
      "        |                  agecat               \n",
      "        |    Young   0Middle   Elderly     Total\n",
      "--------+---------------------------------------\n",
      "age     |                                       \n",
      "  16    |    2,575                         2,575\n",
      "  17    |    5,250                         5,250\n",
      "  18    |    7,360                         7,360\n",
      "  19    |    8,707                         8,707\n",
      "  20    |    8,811                         8,811\n",
      "  21    |    9,181                         9,181\n",
      "  22    |    9,508                         9,508\n",
      "  23    |    9,710                         9,710\n",
      "  24    |    9,716                         9,716\n",
      "  25    |    9,852                         9,852\n",
      "  26    |    9,412                         9,412\n",
      "  27    |    9,568                         9,568\n",
      "  28    |    9,190                         9,190\n",
      "  29    |    8,834                         8,834\n",
      "  30    |    8,758                         8,758\n",
      "  31    |    8,249                         8,249\n",
      "  32    |    8,051                         8,051\n",
      "  33    |    7,606                         7,606\n",
      "  34    |    7,186                         7,186\n",
      "  35    |    6,996                         6,996\n",
      "  36    |    6,823                         6,823\n",
      "  37    |    6,548                         6,548\n",
      "  38    |    6,293                         6,293\n",
      "  39    |    6,172                         6,172\n",
      "  40    |    6,106                         6,106\n",
      "  41    |    6,089                         6,089\n",
      "  42    |    5,719                         5,719\n",
      "  43    |    5,782                         5,782\n",
      "  44    |    5,549                         5,549\n",
      "  45    |    5,398                         5,398\n",
      "  46    |    5,329                         5,329\n",
      "  47    |    5,430                         5,430\n",
      "  48    |    5,445                         5,445\n",
      "  49    |    5,128                         5,128\n",
      "  50    |    4,990                         4,990\n",
      "  51    |    5,011                         5,011\n",
      "  52    |    5,111                         5,111\n",
      "  53    |    4,867                         4,867\n",
      "  54    |    4,878                         4,878\n",
      "  55    |    4,832                         4,832\n",
      "  56    |    4,777                         4,777\n",
      "  57    |    4,851                         4,851\n",
      "  58    |    4,682                         4,682\n",
      "  59    |    4,659                         4,659\n",
      "  60    |    4,545                         4,545\n",
      "  61    |    4,612                         4,612\n",
      "  62    |    4,493                         4,493\n",
      "  63    |    4,345                         4,345\n",
      "  64    |    4,393                         4,393\n",
      "  65    |    4,192                         4,192\n",
      "  66    |    4,524                         4,524\n",
      "  67    |    4,318                         4,318\n",
      "  68    |    4,369                         4,369\n",
      "  69    |    4,289                         4,289\n",
      "  70    |              4,335               4,335\n",
      "  71    |              4,358               4,358\n",
      "  72    |              4,435               4,435\n",
      "  73    |              4,393               4,393\n",
      "  74    |              4,374               4,374\n",
      "  75    |              4,354               4,354\n",
      "  76    |              4,490               4,490\n",
      "  77    |              4,423               4,423\n",
      "  78    |              4,374               4,374\n",
      "  79    |              4,453               4,453\n",
      "  80    |              4,435               4,435\n",
      "  81    |              4,156               4,156\n",
      "  82    |              4,190               4,190\n",
      "  83    |              3,965               3,965\n",
      "  84    |              3,711               3,711\n",
      "  85    |              3,388               3,388\n",
      "  86    |              3,093               3,093\n",
      "  87    |              2,734               2,734\n",
      "  88    |              2,398               2,398\n",
      "  89    |              2,038               2,038\n",
      "  90    |                        1,741     1,741\n",
      "  91    |                        1,395     1,395\n",
      "  92    |                        1,111     1,111\n",
      "  93    |                          851       851\n",
      "  94    |                          712       712\n",
      "  95    |                          535       535\n",
      "  96    |                          377       377\n",
      "  97    |                          255       255\n",
      "  98    |                          213       213\n",
      "  99    |                          140       140\n",
      "  100   |                           94        94\n",
      "  101   |                           99        99\n",
      "  102   |                           65        65\n",
      "  103   |                           63        63\n",
      "  104   |                           44        44\n",
      "  105   |                           41        41\n",
      "  106   |                           21        21\n",
      "  107   |                           27        27\n",
      "  108   |                           31        31\n",
      "  109   |                           15        15\n",
      "  110   |                            3         3\n",
      "  111   |                            1         1\n",
      "  Total |  339,069    78,097     7,834   425,000\n",
      "------------------------------------------------\n"
     ]
    }
   ],
   "source": [
    "table age agecat"
   ]
  },
  {
   "cell_type": "markdown",
   "id": "23455479-0f98-4886-a36c-770376084911",
   "metadata": {},
   "source": [
    "#### Year at start of oberservation period \n",
    "*2004-2009*"
   ]
  },
  {
   "cell_type": "code",
   "execution_count": 14,
   "id": "9c58ecee-bd42-47a9-ad46-f51305e689bf",
   "metadata": {},
   "outputs": [
    {
     "name": "stdout",
     "output_type": "stream",
     "text": [
      "\n",
      "           |         test\n",
      "      diag |      Pos.       Neg. |     Total\n",
      "-----------+----------------------+----------\n",
      "  Abnormal |       204        572 |       776 \n",
      "    Normal |       297    148,927 |   149,224 \n",
      "-----------+----------------------+----------\n",
      "     Total |       501    149,499 |   150,000 \n",
      "True abnormal diagnosis defined as diag = 1\n",
      "\n",
      "\n",
      "                                                  [95% Confidence Interval]\n",
      "---------------------------------------------------------------------------\n",
      "Prevalence                         Pr(A)      0.5%      0.5%       0.6%\n",
      "---------------------------------------------------------------------------\n",
      "Sensitivity                      Pr(+|A)     26.3%     23.2%     29.5%\n",
      "Specificity                      Pr(-|N)     99.8%     99.8%     99.8%\n",
      "ROC area               (Sens. + Spec.)/2      0.63      0.61      0.65 \n",
      "---------------------------------------------------------------------------\n",
      "Likelihood ratio (+)     Pr(+|A)/Pr(+|N)    132.08    112.14    155.57 \n",
      "Likelihood ratio (-)     Pr(-|A)/Pr(-|N)      0.74      0.71      0.77 \n",
      "Odds ratio                   LR(+)/LR(-)    178.83    147.00    217.57 \n",
      "Positive predictive value        Pr(A|+)     40.7%     36.4%     45.2% \n",
      "Negative predictive value        Pr(N|-)     99.6%     99.6%     99.6% \n",
      "---------------------------------------------------------------------------\n"
     ]
    }
   ],
   "source": [
    "diagt diag test if yearcat==2004"
   ]
  },
  {
   "cell_type": "markdown",
   "id": "d9f3db50-6898-4b47-81ef-4ea609bb28d8",
   "metadata": {},
   "source": [
    "*2010-2015*"
   ]
  },
  {
   "cell_type": "code",
   "execution_count": 15,
   "id": "6b326410-d900-498f-b736-4ced1ea7fa5d",
   "metadata": {},
   "outputs": [
    {
     "name": "stdout",
     "output_type": "stream",
     "text": [
      "\n",
      "           |         test\n",
      "      diag |      Pos.       Neg. |     Total\n",
      "-----------+----------------------+----------\n",
      "  Abnormal |       601        870 |     1,471 \n",
      "    Normal |       509    148,020 |   148,529 \n",
      "-----------+----------------------+----------\n",
      "     Total |     1,110    148,890 |   150,000 \n",
      "True abnormal diagnosis defined as diag = 1\n",
      "\n",
      "\n",
      "                                                  [95% Confidence Interval]\n",
      "---------------------------------------------------------------------------\n",
      "Prevalence                         Pr(A)      1.0%      0.9%       1.0%\n",
      "---------------------------------------------------------------------------\n",
      "Sensitivity                      Pr(+|A)     40.9%     38.3%     43.4%\n",
      "Specificity                      Pr(-|N)     99.7%     99.6%     99.7%\n",
      "ROC area               (Sens. + Spec.)/2      0.70      0.69      0.72 \n",
      "---------------------------------------------------------------------------\n",
      "Likelihood ratio (+)     Pr(+|A)/Pr(+|N)    119.22    107.20    132.59 \n",
      "Likelihood ratio (-)     Pr(-|A)/Pr(-|N)      0.59      0.57      0.62 \n",
      "Odds ratio                   LR(+)/LR(-)    200.89    175.43    230.05 \n",
      "Positive predictive value        Pr(A|+)     54.1%     51.2%     57.1% \n",
      "Negative predictive value        Pr(N|-)     99.4%     99.4%     99.5% \n",
      "---------------------------------------------------------------------------\n"
     ]
    }
   ],
   "source": [
    "diagt diag test if yearcat==2010"
   ]
  },
  {
   "cell_type": "markdown",
   "id": "1546a4d9-adee-4208-88e0-3b6aa4d3d14c",
   "metadata": {},
   "source": [
    "*2016-2020*"
   ]
  },
  {
   "cell_type": "code",
   "execution_count": 16,
   "id": "dddfe5ba-1a16-4afc-91e5-cbffb4f25b77",
   "metadata": {},
   "outputs": [
    {
     "name": "stdout",
     "output_type": "stream",
     "text": [
      "\n",
      "           |         test\n",
      "      diag |      Pos.       Neg. |     Total\n",
      "-----------+----------------------+----------\n",
      "  Abnormal |     1,117      1,218 |     2,335 \n",
      "    Normal |       374    122,291 |   122,665 \n",
      "-----------+----------------------+----------\n",
      "     Total |     1,491    123,509 |   125,000 \n",
      "True abnormal diagnosis defined as diag = 1\n",
      "\n",
      "\n",
      "                                                  [95% Confidence Interval]\n",
      "---------------------------------------------------------------------------\n",
      "Prevalence                         Pr(A)      1.9%      1.8%       1.9%\n",
      "---------------------------------------------------------------------------\n",
      "Sensitivity                      Pr(+|A)     47.8%     45.8%     49.9%\n",
      "Specificity                      Pr(-|N)     99.7%     99.7%     99.7%\n",
      "ROC area               (Sens. + Spec.)/2      0.74      0.73      0.75 \n",
      "---------------------------------------------------------------------------\n",
      "Likelihood ratio (+)     Pr(+|A)/Pr(+|N)    156.90    140.60    175.09 \n",
      "Likelihood ratio (-)     Pr(-|A)/Pr(-|N)      0.52      0.50      0.54 \n",
      "Odds ratio                   LR(+)/LR(-)    299.87    263.33    341.47 \n",
      "Positive predictive value        Pr(A|+)     74.9%     72.6%     77.1% \n",
      "Negative predictive value        Pr(N|-)     99.0%     99.0%     99.1% \n",
      "---------------------------------------------------------------------------\n"
     ]
    }
   ],
   "source": [
    "diagt diag test if yearcat==2016"
   ]
  },
  {
   "cell_type": "markdown",
   "id": "9318e823-cf06-4695-a86c-8b96ace454c5",
   "metadata": {},
   "source": [
    "#### IMD of practice\n",
    "*1-3*"
   ]
  },
  {
   "cell_type": "code",
   "execution_count": 17,
   "id": "0c48ed3a-ce83-4c14-9447-6c52d4d82ed3",
   "metadata": {},
   "outputs": [
    {
     "name": "stdout",
     "output_type": "stream",
     "text": [
      "\n",
      "           |         test\n",
      "      diag |      Pos.       Neg. |     Total\n",
      "-----------+----------------------+----------\n",
      "  Abnormal |       598        800 |     1,398 \n",
      "    Normal |       334    152,819 |   153,153 \n",
      "-----------+----------------------+----------\n",
      "     Total |       932    153,619 |   154,551 \n",
      "True abnormal diagnosis defined as diag = 1\n",
      "\n",
      "\n",
      "                                                  [95% Confidence Interval]\n",
      "---------------------------------------------------------------------------\n",
      "Prevalence                         Pr(A)      0.9%      0.9%       1.0%\n",
      "---------------------------------------------------------------------------\n",
      "Sensitivity                      Pr(+|A)     42.8%     40.2%     45.4%\n",
      "Specificity                      Pr(-|N)     99.8%     99.8%     99.8%\n",
      "ROC area               (Sens. + Spec.)/2      0.71      0.70      0.73 \n",
      "---------------------------------------------------------------------------\n",
      "Likelihood ratio (+)     Pr(+|A)/Pr(+|N)    196.14    173.43    221.84 \n",
      "Likelihood ratio (-)     Pr(-|A)/Pr(-|N)      0.57      0.55      0.60 \n",
      "Odds ratio                   LR(+)/LR(-)    342.01    294.15    397.67 \n",
      "Positive predictive value        Pr(A|+)     64.2%     61.0%     67.2% \n",
      "Negative predictive value        Pr(N|-)     99.5%     99.4%     99.5% \n",
      "---------------------------------------------------------------------------\n"
     ]
    }
   ],
   "source": [
    "diagt diag test if imdcat==0"
   ]
  },
  {
   "cell_type": "markdown",
   "id": "cc20d8e3-26a9-4217-989b-54c2c73d0386",
   "metadata": {},
   "source": [
    "*4-7*"
   ]
  },
  {
   "cell_type": "code",
   "execution_count": 18,
   "id": "2f034372-ceb8-4f41-bd39-9d6ef321a64a",
   "metadata": {},
   "outputs": [
    {
     "name": "stdout",
     "output_type": "stream",
     "text": [
      "\n",
      "           |         test\n",
      "      diag |      Pos.       Neg. |     Total\n",
      "-----------+----------------------+----------\n",
      "  Abnormal |       714        988 |     1,702 \n",
      "    Normal |       446    140,897 |   141,343 \n",
      "-----------+----------------------+----------\n",
      "     Total |     1,160    141,885 |   143,045 \n",
      "True abnormal diagnosis defined as diag = 1\n",
      "\n",
      "\n",
      "                                                  [95% Confidence Interval]\n",
      "---------------------------------------------------------------------------\n",
      "Prevalence                         Pr(A)      1.2%      1.1%       1.2%\n",
      "---------------------------------------------------------------------------\n",
      "Sensitivity                      Pr(+|A)     42.0%     39.6%     44.3%\n",
      "Specificity                      Pr(-|N)     99.7%     99.7%     99.7%\n",
      "ROC area               (Sens. + Spec.)/2      0.71      0.70      0.72 \n",
      "---------------------------------------------------------------------------\n",
      "Likelihood ratio (+)     Pr(+|A)/Pr(+|N)    132.95    119.31    148.14 \n",
      "Likelihood ratio (-)     Pr(-|A)/Pr(-|N)      0.58      0.56      0.61 \n",
      "Odds ratio                   LR(+)/LR(-)    228.30    199.71    260.98 \n",
      "Positive predictive value        Pr(A|+)     61.6%     58.7%     64.4% \n",
      "Negative predictive value        Pr(N|-)     99.3%     99.3%     99.3% \n",
      "---------------------------------------------------------------------------\n"
     ]
    }
   ],
   "source": [
    "diagt diag test if imdcat==4"
   ]
  },
  {
   "cell_type": "markdown",
   "id": "a843bc14-ff1a-4435-a50c-c9769b8c3d3b",
   "metadata": {},
   "source": [
    "*8-10*"
   ]
  },
  {
   "cell_type": "code",
   "execution_count": 19,
   "id": "e52a500d-f3cf-4da6-997c-bbc1e902d199",
   "metadata": {},
   "outputs": [
    {
     "name": "stdout",
     "output_type": "stream",
     "text": [
      "\n",
      "           |         test\n",
      "      diag |      Pos.       Neg. |     Total\n",
      "-----------+----------------------+----------\n",
      "  Abnormal |       608        871 |     1,479 \n",
      "    Normal |       400    122,936 |   123,336 \n",
      "-----------+----------------------+----------\n",
      "     Total |     1,008    123,807 |   124,815 \n",
      "True abnormal diagnosis defined as diag = 1\n",
      "\n",
      "\n",
      "                                                  [95% Confidence Interval]\n",
      "---------------------------------------------------------------------------\n",
      "Prevalence                         Pr(A)      1.2%      1.1%       1.2%\n",
      "---------------------------------------------------------------------------\n",
      "Sensitivity                      Pr(+|A)     41.1%     38.6%     43.7%\n",
      "Specificity                      Pr(-|N)     99.7%     99.6%     99.7%\n",
      "ROC area               (Sens. + Spec.)/2      0.70      0.69      0.72 \n",
      "---------------------------------------------------------------------------\n",
      "Likelihood ratio (+)     Pr(+|A)/Pr(+|N)    126.76    112.95    142.25 \n",
      "Likelihood ratio (-)     Pr(-|A)/Pr(-|N)      0.59      0.57      0.62 \n",
      "Odds ratio                   LR(+)/LR(-)    214.54    186.02    247.43 \n",
      "Positive predictive value        Pr(A|+)     60.3%     57.2%     63.4% \n",
      "Negative predictive value        Pr(N|-)     99.3%     99.2%     99.3% \n",
      "---------------------------------------------------------------------------\n"
     ]
    }
   ],
   "source": [
    "diagt diag test if imdcat==8"
   ]
  },
  {
   "cell_type": "markdown",
   "id": "cbbde183-5b60-4618-a548-81135cae76a0",
   "metadata": {},
   "source": [
    "#### Commissioning Regions\n",
    "EAST OF ENGLAND"
   ]
  },
  {
   "cell_type": "code",
   "execution_count": 20,
   "id": "1254da50-3ca4-47a1-b4d8-e07c6d920177",
   "metadata": {},
   "outputs": [
    {
     "name": "stdout",
     "output_type": "stream",
     "text": [
      "\n",
      "           |         test\n",
      "      diag |      Pos.       Neg. |     Total\n",
      "-----------+----------------------+----------\n",
      "  Abnormal |       385        567 |       952 \n",
      "    Normal |       258     88,427 |    88,685 \n",
      "-----------+----------------------+----------\n",
      "     Total |       643     88,994 |    89,637 \n",
      "True abnormal diagnosis defined as diag = 1\n",
      "\n",
      "\n",
      "                                                  [95% Confidence Interval]\n",
      "---------------------------------------------------------------------------\n",
      "Prevalence                         Pr(A)      1.1%      1.0%       1.1%\n",
      "---------------------------------------------------------------------------\n",
      "Sensitivity                      Pr(+|A)     40.4%     37.3%     43.6%\n",
      "Specificity                      Pr(-|N)     99.7%     99.7%     99.7%\n",
      "ROC area               (Sens. + Spec.)/2      0.70      0.69      0.72 \n",
      "---------------------------------------------------------------------------\n",
      "Likelihood ratio (+)     Pr(+|A)/Pr(+|N)    139.01    120.35    160.57 \n",
      "Likelihood ratio (-)     Pr(-|A)/Pr(-|N)      0.60      0.57      0.63 \n",
      "Odds ratio                   LR(+)/LR(-)    232.72    194.80    278.03 \n",
      "Positive predictive value        Pr(A|+)     59.9%     56.0%     63.7% \n",
      "Negative predictive value        Pr(N|-)     99.4%     99.3%     99.4% \n",
      "---------------------------------------------------------------------------\n"
     ]
    }
   ],
   "source": [
    "diagt diag test if regexm(region_name,\"ENGLAND\")==1"
   ]
  },
  {
   "cell_type": "markdown",
   "id": "b2f2b2c7-4c3b-4ae5-ad03-8edfbc58938d",
   "metadata": {},
   "source": [
    "London"
   ]
  },
  {
   "cell_type": "code",
   "execution_count": 21,
   "id": "18195511-cedc-42b1-8bae-bc6621364814",
   "metadata": {},
   "outputs": [
    {
     "name": "stdout",
     "output_type": "stream",
     "text": [
      "\n",
      "           |         test\n",
      "      diag |      Pos.       Neg. |     Total\n",
      "-----------+----------------------+----------\n",
      "  Abnormal |        39         55 |        94 \n",
      "    Normal |        22     16,609 |    16,631 \n",
      "-----------+----------------------+----------\n",
      "     Total |        61     16,664 |    16,725 \n",
      "True abnormal diagnosis defined as diag = 1\n",
      "\n",
      "\n",
      "                                                  [95% Confidence Interval]\n",
      "---------------------------------------------------------------------------\n",
      "Prevalence                         Pr(A)      0.6%      0.5%       0.7%\n",
      "---------------------------------------------------------------------------\n",
      "Sensitivity                      Pr(+|A)     41.5%     31.4%     52.1%\n",
      "Specificity                      Pr(-|N)     99.9%     99.8%     99.9%\n",
      "ROC area               (Sens. + Spec.)/2      0.71      0.66      0.76 \n",
      "---------------------------------------------------------------------------\n",
      "Likelihood ratio (+)     Pr(+|A)/Pr(+|N)    313.64    193.75    507.72 \n",
      "Likelihood ratio (-)     Pr(-|A)/Pr(-|N)      0.59      0.49      0.69 \n",
      "Odds ratio                   LR(+)/LR(-)    535.33    299.26    957.58 \n",
      "Positive predictive value        Pr(A|+)     63.9%     50.6%     75.8% \n",
      "Negative predictive value        Pr(N|-)     99.7%     99.6%     99.8% \n",
      "---------------------------------------------------------------------------\n"
     ]
    }
   ],
   "source": [
    "diagt diag test if regexm(region_name,\"LONDON\")==1"
   ]
  },
  {
   "cell_type": "markdown",
   "id": "1a78f370-7ebd-4e70-b301-73c6e75003fd",
   "metadata": {},
   "source": [
    "Midlands"
   ]
  },
  {
   "cell_type": "code",
   "execution_count": 22,
   "id": "265ce394-6410-4e76-a064-ec3d32c30eee",
   "metadata": {},
   "outputs": [
    {
     "name": "stdout",
     "output_type": "stream",
     "text": [
      "\n",
      "           |         test\n",
      "      diag |      Pos.       Neg. |     Total\n",
      "-----------+----------------------+----------\n",
      "  Abnormal |       248        360 |       608 \n",
      "    Normal |       110     45,825 |    45,935 \n",
      "-----------+----------------------+----------\n",
      "     Total |       358     46,185 |    46,543 \n",
      "True abnormal diagnosis defined as diag = 1\n",
      "\n",
      "\n",
      "                                                  [95% Confidence Interval]\n",
      "---------------------------------------------------------------------------\n",
      "Prevalence                         Pr(A)      1.3%      1.2%       1.4%\n",
      "---------------------------------------------------------------------------\n",
      "Sensitivity                      Pr(+|A)     40.8%     36.9%     44.8%\n",
      "Specificity                      Pr(-|N)     99.8%     99.7%     99.8%\n",
      "ROC area               (Sens. + Spec.)/2      0.70      0.68      0.72 \n",
      "---------------------------------------------------------------------------\n",
      "Likelihood ratio (+)     Pr(+|A)/Pr(+|N)    170.33    138.10    210.09 \n",
      "Likelihood ratio (-)     Pr(-|A)/Pr(-|N)      0.59      0.56      0.63 \n",
      "Odds ratio                   LR(+)/LR(-)    286.98    224.18    367.37 \n",
      "Positive predictive value        Pr(A|+)     69.3%     64.2%     74.0% \n",
      "Negative predictive value        Pr(N|-)     99.2%     99.1%     99.3% \n",
      "---------------------------------------------------------------------------\n"
     ]
    }
   ],
   "source": [
    "diagt diag test if regexm(region_name,\"MID\")==1"
   ]
  },
  {
   "cell_type": "markdown",
   "id": "0769a779-b7ae-4496-9ed2-a6feb1a1a94a",
   "metadata": {},
   "source": [
    "Yorkshire"
   ]
  },
  {
   "cell_type": "code",
   "execution_count": 23,
   "id": "83d73532-38e7-4fb2-a39b-5c1ef1b5b717",
   "metadata": {},
   "outputs": [
    {
     "name": "stdout",
     "output_type": "stream",
     "text": [
      "\n",
      "           |         test\n",
      "      diag |      Pos.       Neg. |     Total\n",
      "-----------+----------------------+----------\n",
      "  Abnormal |       361        458 |       819 \n",
      "    Normal |       218     85,074 |    85,292 \n",
      "-----------+----------------------+----------\n",
      "     Total |       579     85,532 |    86,111 \n",
      "True abnormal diagnosis defined as diag = 1\n",
      "\n",
      "\n",
      "                                                  [95% Confidence Interval]\n",
      "---------------------------------------------------------------------------\n",
      "Prevalence                         Pr(A)      1.0%      0.9%       1.0%\n",
      "---------------------------------------------------------------------------\n",
      "Sensitivity                      Pr(+|A)     44.1%     40.6%     47.6%\n",
      "Specificity                      Pr(-|N)     99.7%     99.7%     99.8%\n",
      "ROC area               (Sens. + Spec.)/2      0.72      0.70      0.74 \n",
      "---------------------------------------------------------------------------\n",
      "Likelihood ratio (+)     Pr(+|A)/Pr(+|N)    172.45    147.93    201.04 \n",
      "Likelihood ratio (-)     Pr(-|A)/Pr(-|N)      0.56      0.53      0.60 \n",
      "Odds ratio                   LR(+)/LR(-)    307.60    254.01    372.49 \n",
      "Positive predictive value        Pr(A|+)     62.3%     58.3%     66.3% \n",
      "Negative predictive value        Pr(N|-)     99.5%     99.4%     99.5% \n",
      "---------------------------------------------------------------------------\n"
     ]
    }
   ],
   "source": [
    "diagt diag test if regexm(region_name,\"YORK\")==1"
   ]
  },
  {
   "cell_type": "markdown",
   "id": "247339ad-15c3-4ac2-9458-c8b14082ff8c",
   "metadata": {},
   "source": [
    "North West"
   ]
  },
  {
   "cell_type": "code",
   "execution_count": 24,
   "id": "f9ddd2b2-2aa8-49c0-8d9b-ac27a3db55be",
   "metadata": {},
   "outputs": [
    {
     "name": "stdout",
     "output_type": "stream",
     "text": [
      "\n",
      "           |         test\n",
      "      diag |      Pos.       Neg. |     Total\n",
      "-----------+----------------------+----------\n",
      "  Abnormal |       191        314 |       505 \n",
      "    Normal |       141     50,943 |    51,084 \n",
      "-----------+----------------------+----------\n",
      "     Total |       332     51,257 |    51,589 \n",
      "True abnormal diagnosis defined as diag = 1\n",
      "\n",
      "\n",
      "                                                  [95% Confidence Interval]\n",
      "---------------------------------------------------------------------------\n",
      "Prevalence                         Pr(A)      1.0%      0.9%       1.1%\n",
      "---------------------------------------------------------------------------\n",
      "Sensitivity                      Pr(+|A)     37.8%     33.6%     42.2%\n",
      "Specificity                      Pr(-|N)     99.7%     99.7%     99.8%\n",
      "ROC area               (Sens. + Spec.)/2      0.69      0.67      0.71 \n",
      "---------------------------------------------------------------------------\n",
      "Likelihood ratio (+)     Pr(+|A)/Pr(+|N)    137.03    112.28    167.23 \n",
      "Likelihood ratio (-)     Pr(-|A)/Pr(-|N)      0.62      0.58      0.67 \n",
      "Odds ratio                   LR(+)/LR(-)    219.77    172.20    280.49 \n",
      "Positive predictive value        Pr(A|+)     57.5%     52.0%     62.9% \n",
      "Negative predictive value        Pr(N|-)     99.4%     99.3%     99.5% \n",
      "---------------------------------------------------------------------------\n"
     ]
    }
   ],
   "source": [
    "diagt diag test if regexm(region_name,\"NORTH\")==1 & regexm(region_name,\"WEST\")==1"
   ]
  },
  {
   "cell_type": "markdown",
   "id": "cac4bda2-216c-4294-ab6d-5338aa93d23c",
   "metadata": {},
   "source": [
    "South East"
   ]
  },
  {
   "cell_type": "code",
   "execution_count": 25,
   "id": "883a5bf4-de79-4ba9-9bb2-95f85e3bccb3",
   "metadata": {},
   "outputs": [
    {
     "name": "stdout",
     "output_type": "stream",
     "text": [
      "\n",
      "           |         test\n",
      "      diag |      Pos.       Neg. |     Total\n",
      "-----------+----------------------+----------\n",
      "  Abnormal |       517        571 |     1,088 \n",
      "    Normal |       310     89,087 |    89,397 \n",
      "-----------+----------------------+----------\n",
      "     Total |       827     89,658 |    90,485 \n",
      "True abnormal diagnosis defined as diag = 1\n",
      "\n",
      "\n",
      "                                                  [95% Confidence Interval]\n",
      "---------------------------------------------------------------------------\n",
      "Prevalence                         Pr(A)      1.2%      1.1%       1.3%\n",
      "---------------------------------------------------------------------------\n",
      "Sensitivity                      Pr(+|A)     47.5%     44.5%     50.5%\n",
      "Specificity                      Pr(-|N)     99.7%     99.6%     99.7%\n",
      "ROC area               (Sens. + Spec.)/2      0.74      0.72      0.75 \n",
      "---------------------------------------------------------------------------\n",
      "Likelihood ratio (+)     Pr(+|A)/Pr(+|N)    137.03    120.63    155.66 \n",
      "Likelihood ratio (-)     Pr(-|A)/Pr(-|N)      0.53      0.50      0.56 \n",
      "Odds ratio                   LR(+)/LR(-)    260.20    221.06    306.26 \n",
      "Positive predictive value        Pr(A|+)     62.5%     59.1%     65.8% \n",
      "Negative predictive value        Pr(N|-)     99.4%     99.3%     99.4% \n",
      "---------------------------------------------------------------------------\n"
     ]
    }
   ],
   "source": [
    "diagt diag test if regexm(region_name,\"SOUTH\")==1 & regexm(region_name,\"EAST\")==1"
   ]
  },
  {
   "cell_type": "markdown",
   "id": "c31c4086-ecd2-43b5-a175-a49e64a0593a",
   "metadata": {},
   "source": [
    "South West"
   ]
  },
  {
   "cell_type": "code",
   "execution_count": 26,
   "id": "db24609a-c78c-4959-8f77-be636e5b8a66",
   "metadata": {},
   "outputs": [
    {
     "name": "stdout",
     "output_type": "stream",
     "text": [
      "\n",
      "           |         test\n",
      "      diag |      Pos.       Neg. |     Total\n",
      "-----------+----------------------+----------\n",
      "  Abnormal |       172        317 |       489 \n",
      "    Normal |        95     35,592 |    35,687 \n",
      "-----------+----------------------+----------\n",
      "     Total |       267     35,909 |    36,176 \n",
      "True abnormal diagnosis defined as diag = 1\n",
      "\n",
      "\n",
      "                                                  [95% Confidence Interval]\n",
      "---------------------------------------------------------------------------\n",
      "Prevalence                         Pr(A)      1.4%      1.2%       1.5%\n",
      "---------------------------------------------------------------------------\n",
      "Sensitivity                      Pr(+|A)     35.2%     30.9%     39.6%\n",
      "Specificity                      Pr(-|N)     99.7%     99.7%     99.8%\n",
      "ROC area               (Sens. + Spec.)/2      0.67      0.65      0.70 \n",
      "---------------------------------------------------------------------------\n",
      "Likelihood ratio (+)     Pr(+|A)/Pr(+|N)    132.13    104.55    166.99 \n",
      "Likelihood ratio (-)     Pr(-|A)/Pr(-|N)      0.65      0.61      0.69 \n",
      "Odds ratio                   LR(+)/LR(-)    203.28    154.66    267.18 \n",
      "Positive predictive value        Pr(A|+)     64.4%     58.4%     70.2% \n",
      "Negative predictive value        Pr(N|-)     99.1%     99.0%     99.2% \n",
      "---------------------------------------------------------------------------\n"
     ]
    }
   ],
   "source": [
    "diagt diag test if regexm(region_name,\"SOUTH\")==1 & regexm(region_name,\"WEST\")==1"
   ]
  },
  {
   "cell_type": "markdown",
   "id": "cf33efae-dc21-4b1a-b169-9eaea69c1161",
   "metadata": {},
   "source": [
    "#### System\n",
    "SystmOne"
   ]
  },
  {
   "cell_type": "code",
   "execution_count": 27,
   "id": "26573dfb-79dc-4647-88a6-e19dac9eca61",
   "metadata": {},
   "outputs": [
    {
     "name": "stdout",
     "output_type": "stream",
     "text": [
      "\n",
      "           |         test\n",
      "      diag |      Pos.       Neg. |     Total\n",
      "-----------+----------------------+----------\n",
      "  Abnormal |     1,012      1,454 |     2,466 \n",
      "    Normal |       645    225,644 |   226,289 \n",
      "-----------+----------------------+----------\n",
      "     Total |     1,657    227,098 |   228,755 \n",
      "True abnormal diagnosis defined as diag = 1\n",
      "\n",
      "\n",
      "                                                  [95% Confidence Interval]\n",
      "---------------------------------------------------------------------------\n",
      "Prevalence                         Pr(A)      1.1%      1.0%       1.1%\n",
      "---------------------------------------------------------------------------\n",
      "Sensitivity                      Pr(+|A)     41.0%     39.1%     43.0%\n",
      "Specificity                      Pr(-|N)     99.7%     99.7%     99.7%\n",
      "ROC area               (Sens. + Spec.)/2      0.70      0.69      0.71 \n",
      "---------------------------------------------------------------------------\n",
      "Likelihood ratio (+)     Pr(+|A)/Pr(+|N)    143.98    131.53    157.60 \n",
      "Likelihood ratio (-)     Pr(-|A)/Pr(-|N)      0.59      0.57      0.61 \n",
      "Odds ratio                   LR(+)/LR(-)    243.49    217.83    272.18 \n",
      "Positive predictive value        Pr(A|+)     61.1%     58.7%     63.4% \n",
      "Negative predictive value        Pr(N|-)     99.4%     99.3%     99.4% \n",
      "---------------------------------------------------------------------------\n"
     ]
    }
   ],
   "source": [
    "diagt diag test if regexm(system,\"One\")==1"
   ]
  },
  {
   "cell_type": "markdown",
   "id": "b561f033-d2f3-4c95-ad3f-03b8c65647ea",
   "metadata": {},
   "source": [
    "Vision"
   ]
  },
  {
   "cell_type": "code",
   "execution_count": 28,
   "id": "6bed6f81-5fd6-418e-94ff-96d2de419d3d",
   "metadata": {},
   "outputs": [
    {
     "name": "stdout",
     "output_type": "stream",
     "text": [
      "\n",
      "           |         test\n",
      "      diag |      Pos.       Neg. |     Total\n",
      "-----------+----------------------+----------\n",
      "  Abnormal |        24         64 |        88 \n",
      "    Normal |        71     13,585 |    13,656 \n",
      "-----------+----------------------+----------\n",
      "     Total |        95     13,649 |    13,744 \n",
      "True abnormal diagnosis defined as diag = 1\n",
      "\n",
      "\n",
      "                                                  [95% Confidence Interval]\n",
      "---------------------------------------------------------------------------\n",
      "Prevalence                         Pr(A)      0.6%      0.5%       0.8%\n",
      "---------------------------------------------------------------------------\n",
      "Sensitivity                      Pr(+|A)     27.3%     18.3%     37.8%\n",
      "Specificity                      Pr(-|N)     99.5%     99.3%     99.6%\n",
      "ROC area               (Sens. + Spec.)/2      0.63      0.59      0.68 \n",
      "---------------------------------------------------------------------------\n",
      "Likelihood ratio (+)     Pr(+|A)/Pr(+|N)     52.46     34.72     79.25 \n",
      "Likelihood ratio (-)     Pr(-|A)/Pr(-|N)      0.73      0.64      0.83 \n",
      "Odds ratio                   LR(+)/LR(-)     71.75     42.67    120.72 \n",
      "Positive predictive value        Pr(A|+)     25.3%     16.9%     35.2% \n",
      "Negative predictive value        Pr(N|-)     99.5%     99.4%     99.6% \n",
      "---------------------------------------------------------------------------\n"
     ]
    }
   ],
   "source": [
    "diagt diag test if regexm(system,\"Vision\")==1"
   ]
  },
  {
   "cell_type": "markdown",
   "id": "65d9cefb-fbb5-4500-8ed3-52074d4e12ad",
   "metadata": {},
   "source": [
    "EMIS"
   ]
  },
  {
   "cell_type": "code",
   "execution_count": 29,
   "id": "18d50bfe-f5c4-4ecb-b822-0d06e3b29224",
   "metadata": {},
   "outputs": [
    {
     "name": "stdout",
     "output_type": "stream",
     "text": [
      "\n",
      "           |         test\n",
      "      diag |      Pos.       Neg. |     Total\n",
      "-----------+----------------------+----------\n",
      "  Abnormal |       886      1,141 |     2,027 \n",
      "    Normal |       464    179,874 |   180,338 \n",
      "-----------+----------------------+----------\n",
      "     Total |     1,350    181,015 |   182,365 \n",
      "True abnormal diagnosis defined as diag = 1\n",
      "\n",
      "\n",
      "                                                  [95% Confidence Interval]\n",
      "---------------------------------------------------------------------------\n",
      "Prevalence                         Pr(A)      1.1%      1.1%       1.2%\n",
      "---------------------------------------------------------------------------\n",
      "Sensitivity                      Pr(+|A)     43.7%     41.5%     45.9%\n",
      "Specificity                      Pr(-|N)     99.7%     99.7%     99.8%\n",
      "ROC area               (Sens. + Spec.)/2      0.72      0.71      0.73 \n",
      "---------------------------------------------------------------------------\n",
      "Likelihood ratio (+)     Pr(+|A)/Pr(+|N)    169.88    153.19    188.40 \n",
      "Likelihood ratio (-)     Pr(-|A)/Pr(-|N)      0.56      0.54      0.59 \n",
      "Odds ratio                   LR(+)/LR(-)    301.02    265.26    341.60 \n",
      "Positive predictive value        Pr(A|+)     65.6%     63.0%     68.2% \n",
      "Negative predictive value        Pr(N|-)     99.4%     99.3%     99.4% \n",
      "---------------------------------------------------------------------------\n"
     ]
    }
   ],
   "source": [
    "diagt diag test if regexm(ustrupper(system),\"EMIS\")==1"
   ]
  },
  {
   "cell_type": "code",
   "execution_count": null,
   "id": "654b6659-0a73-4736-bc15-7bf926554432",
   "metadata": {},
   "outputs": [],
   "source": []
  },
  {
   "cell_type": "markdown",
   "id": "5cc0b78d-d049-4645-a6f4-e02b49b379db",
   "metadata": {},
   "source": [
    "#### RA_Index\n",
    "Index==1"
   ]
  },
  {
   "cell_type": "code",
   "execution_count": 30,
   "id": "9fa490cd-9380-44bc-8218-9f2193f09aee",
   "metadata": {},
   "outputs": [
    {
     "name": "stdout",
     "output_type": "stream",
     "text": [
      "\n",
      "           |         test\n",
      "      diag |      Pos.       Neg. |     Total\n",
      "-----------+----------------------+----------\n",
      "  Abnormal |     1,518      2,053 |     3,571 \n",
      "    Normal |       852    317,274 |   318,126 \n",
      "-----------+----------------------+----------\n",
      "     Total |     2,370    319,327 |   321,697 \n",
      "True abnormal diagnosis defined as diag = 1\n",
      "\n",
      "\n",
      "                                                  [95% Confidence Interval]\n",
      "---------------------------------------------------------------------------\n",
      "Prevalence                         Pr(A)      1.1%      1.1%       1.1%\n",
      "---------------------------------------------------------------------------\n",
      "Sensitivity                      Pr(+|A)     42.5%     40.9%     44.2%\n",
      "Specificity                      Pr(-|N)     99.7%     99.7%     99.7%\n",
      "ROC area               (Sens. + Spec.)/2      0.71      0.70      0.72 \n",
      "---------------------------------------------------------------------------\n",
      "Likelihood ratio (+)     Pr(+|A)/Pr(+|N)    158.72    146.94    171.45 \n",
      "Likelihood ratio (-)     Pr(-|A)/Pr(-|N)      0.58      0.56      0.59 \n",
      "Odds ratio                   LR(+)/LR(-)    275.35    250.53    302.62 \n",
      "Positive predictive value        Pr(A|+)     64.1%     62.1%     66.0% \n",
      "Negative predictive value        Pr(N|-)     99.4%     99.3%     99.4% \n",
      "---------------------------------------------------------------------------\n"
     ]
    }
   ],
   "source": [
    "diagt diag test if RA_index==1"
   ]
  },
  {
   "cell_type": "markdown",
   "id": "7d253ba5-4281-405c-bd8c-511a00a55bf6",
   "metadata": {},
   "source": [
    "Index==0"
   ]
  },
  {
   "cell_type": "code",
   "execution_count": 31,
   "id": "f50f1be6-d1fd-4b54-8cc8-be66d3b7312b",
   "metadata": {},
   "outputs": [
    {
     "name": "stdout",
     "output_type": "stream",
     "text": [
      "\n",
      "           |         test\n",
      "      diag |      Pos.       Neg. |     Total\n",
      "-----------+----------------------+----------\n",
      "  Abnormal |       404        607 |     1,011 \n",
      "    Normal |       328    101,964 |   102,292 \n",
      "-----------+----------------------+----------\n",
      "     Total |       732    102,571 |   103,303 \n",
      "True abnormal diagnosis defined as diag = 1\n",
      "\n",
      "\n",
      "                                                  [95% Confidence Interval]\n",
      "---------------------------------------------------------------------------\n",
      "Prevalence                         Pr(A)      1.0%      0.9%       1.0%\n",
      "---------------------------------------------------------------------------\n",
      "Sensitivity                      Pr(+|A)     40.0%     36.9%     43.1%\n",
      "Specificity                      Pr(-|N)     99.7%     99.6%     99.7%\n",
      "ROC area               (Sens. + Spec.)/2      0.70      0.68      0.71 \n",
      "---------------------------------------------------------------------------\n",
      "Likelihood ratio (+)     Pr(+|A)/Pr(+|N)    124.62    109.23    142.19 \n",
      "Likelihood ratio (-)     Pr(-|A)/Pr(-|N)      0.60      0.57      0.63 \n",
      "Odds ratio                   LR(+)/LR(-)    206.90    175.26    244.26 \n",
      "Positive predictive value        Pr(A|+)     55.2%     51.5%     58.8% \n",
      "Negative predictive value        Pr(N|-)     99.4%     99.4%     99.5% \n",
      "---------------------------------------------------------------------------\n"
     ]
    }
   ],
   "source": [
    "diagt diag test if RA_index==0"
   ]
  },
  {
   "cell_type": "markdown",
   "id": "72956d72",
   "metadata": {},
   "source": [
    "#### Ethnicity\n",
    "Ethnicity==0000white"
   ]
  },
  {
   "cell_type": "code",
   "execution_count": 32,
   "id": "b35bf6ab",
   "metadata": {},
   "outputs": [
    {
     "name": "stdout",
     "output_type": "stream",
     "text": [
      "\n",
      "           |         test\n",
      "      diag |      Pos.       Neg. |     Total\n",
      "-----------+----------------------+----------\n",
      "  Abnormal |     1,525      1,981 |     3,506 \n",
      "    Normal |       839    253,636 |   254,475 \n",
      "-----------+----------------------+----------\n",
      "     Total |     2,364    255,617 |   257,981 \n",
      "True abnormal diagnosis defined as diag = 1\n",
      "\n",
      "\n",
      "                                                  [95% Confidence Interval]\n",
      "---------------------------------------------------------------------------\n",
      "Prevalence                         Pr(A)      1.4%      1.3%       1.4%\n",
      "---------------------------------------------------------------------------\n",
      "Sensitivity                      Pr(+|A)     43.5%     41.8%     45.2%\n",
      "Specificity                      Pr(-|N)     99.7%     99.6%     99.7%\n",
      "ROC area               (Sens. + Spec.)/2      0.72      0.71      0.72 \n",
      "---------------------------------------------------------------------------\n",
      "Likelihood ratio (+)     Pr(+|A)/Pr(+|N)    131.93    122.11    142.54 \n",
      "Likelihood ratio (-)     Pr(-|A)/Pr(-|N)      0.57      0.55      0.58 \n",
      "Odds ratio                   LR(+)/LR(-)    232.72    211.60    255.94 \n",
      "Positive predictive value        Pr(A|+)     64.5%     62.5%     66.4% \n",
      "Negative predictive value        Pr(N|-)     99.2%     99.2%     99.3% \n",
      "---------------------------------------------------------------------------\n"
     ]
    }
   ],
   "source": [
    "diagt diag test if ethnicity==\"0white\""
   ]
  },
  {
   "cell_type": "code",
   "execution_count": 33,
   "id": "10050fbc",
   "metadata": {},
   "outputs": [
    {
     "name": "stdout",
     "output_type": "stream",
     "text": [
      "\n",
      "           |         test\n",
      "      diag |      Pos.       Neg. |     Total\n",
      "-----------+----------------------+----------\n",
      "  Abnormal |        49        116 |       165 \n",
      "    Normal |        29     43,674 |    43,703 \n",
      "-----------+----------------------+----------\n",
      "     Total |        78     43,790 |    43,868 \n",
      "True abnormal diagnosis defined as diag = 1\n",
      "\n",
      "\n",
      "                                                  [95% Confidence Interval]\n",
      "---------------------------------------------------------------------------\n",
      "Prevalence                         Pr(A)      0.4%      0.3%       0.4%\n",
      "---------------------------------------------------------------------------\n",
      "Sensitivity                      Pr(+|A)     29.7%     22.8%     37.3%\n",
      "Specificity                      Pr(-|N)     99.9%     99.9%    100.0%\n",
      "ROC area               (Sens. + Spec.)/2      0.65      0.61      0.68 \n",
      "---------------------------------------------------------------------------\n",
      "Likelihood ratio (+)     Pr(+|A)/Pr(+|N)    447.53    290.25    690.04 \n",
      "Likelihood ratio (-)     Pr(-|A)/Pr(-|N)      0.70      0.64      0.78 \n",
      "Odds ratio                   LR(+)/LR(-)    636.16    389.40   1039.18 \n",
      "Positive predictive value        Pr(A|+)     62.8%     51.1%     73.5% \n",
      "Negative predictive value        Pr(N|-)     99.7%     99.7%     99.8% \n",
      "---------------------------------------------------------------------------\n"
     ]
    }
   ],
   "source": [
    "diagt diag test if ethnicity==\"Other\""
   ]
  },
  {
   "cell_type": "code",
   "execution_count": 34,
   "id": "a9b0ba23",
   "metadata": {},
   "outputs": [
    {
     "name": "stdout",
     "output_type": "stream",
     "text": [
      "\n",
      "           |         test\n",
      "      diag |      Pos.       Neg. |     Total\n",
      "-----------+----------------------+----------\n",
      "  Abnormal |       348        563 |       911 \n",
      "    Normal |       312    121,928 |   122,240 \n",
      "-----------+----------------------+----------\n",
      "     Total |       660    122,491 |   123,151 \n",
      "True abnormal diagnosis defined as diag = 1\n",
      "\n",
      "\n",
      "                                                  [95% Confidence Interval]\n",
      "---------------------------------------------------------------------------\n",
      "Prevalence                         Pr(A)      0.7%      0.7%       0.8%\n",
      "---------------------------------------------------------------------------\n",
      "Sensitivity                      Pr(+|A)     38.2%     35.0%     41.4%\n",
      "Specificity                      Pr(-|N)     99.7%     99.7%     99.8%\n",
      "ROC area               (Sens. + Spec.)/2      0.69      0.67      0.71 \n",
      "---------------------------------------------------------------------------\n",
      "Likelihood ratio (+)     Pr(+|A)/Pr(+|N)    149.66    130.35    171.85 \n",
      "Likelihood ratio (-)     Pr(-|A)/Pr(-|N)      0.62      0.59      0.65 \n",
      "Odds ratio                   LR(+)/LR(-)    241.56    203.04    287.38 \n",
      "Positive predictive value        Pr(A|+)     52.7%     48.8%     56.6% \n",
      "Negative predictive value        Pr(N|-)     99.5%     99.5%     99.6% \n",
      "---------------------------------------------------------------------------\n"
     ]
    }
   ],
   "source": [
    "diagt diag test if ethnicity==\"Missing\""
   ]
  },
  {
   "cell_type": "code",
   "execution_count": 35,
   "id": "0c6b3359-4cc6-4eb5-a15f-ed1be0b97aa0",
   "metadata": {},
   "outputs": [],
   "source": [
    "tempname memhold\n",
    "postfile `memhold' str20 var prev sens spec ppv npv roc using \"validity.dta\",replace\n",
    "\n",
    "quietly diagt diag test\n",
    "local prev=r(prev)\n",
    "local sens=r(sens)\n",
    "local spec=r(spec)\n",
    "local ppv=r(ppv)\n",
    "local npv=r(npv)\n",
    "local roc=r(roc)\n",
    "post `memhold' (\"all\") (`prev') (`sens') (`spec') (`ppv') (`npv') (`roc') \n",
    "\n",
    "quietly diagt diag test if sex==1\n",
    "local prev=r(prev)\n",
    "local sens=r(sens)\n",
    "local spec=r(spec)\n",
    "local ppv=r(ppv)\n",
    "local npv=r(npv)\n",
    "local roc=r(roc)\n",
    "post `memhold' (\"Male\") (`prev') (`sens') (`spec') (`ppv') (`npv') (`roc') \n",
    "\n",
    "quietly diagt diag test if sex==0\n",
    "local prev=r(prev)\n",
    "local sens=r(sens)\n",
    "local spec=r(spec)\n",
    "local ppv=r(ppv)\n",
    "local npv=r(npv)\n",
    "local roc=r(roc)\n",
    "post `memhold' (\"Female\") (`prev') (`sens') (`spec') (`ppv') (`npv') (`roc') \n",
    "\n",
    "quietly diagt diag test if agecat==0\n",
    "local prev=r(prev)\n",
    "local sens=r(sens)\n",
    "local spec=r(spec)\n",
    "local ppv=r(ppv)\n",
    "local npv=r(npv)\n",
    "local roc=r(roc)\n",
    "post `memhold' (\"Age young\") (`prev') (`sens') (`spec') (`ppv') (`npv') (`roc') \n",
    "\n",
    "quietly diagt diag test if agecat==70\n",
    "local prev=r(prev)\n",
    "local sens=r(sens)\n",
    "local spec=r(spec)\n",
    "local ppv=r(ppv)\n",
    "local npv=r(npv)\n",
    "local roc=r(roc)\n",
    "post `memhold' (\"Age middle\") (`prev') (`sens') (`spec') (`ppv') (`npv') (`roc') \n",
    "\n",
    "quietly diagt diag test if agecat==90\n",
    "local prev=r(prev)\n",
    "local sens=r(sens)\n",
    "local spec=r(spec)\n",
    "local ppv=r(ppv)\n",
    "local npv=r(npv)\n",
    "local roc=r(roc)\n",
    "post `memhold' (\"Age elderly\") (`prev') (`sens') (`spec') (`ppv') (`npv') (`roc') \n",
    "\n",
    "\n",
    "quietly diagt diag test if yearcat==2004\n",
    "local prev=r(prev)\n",
    "local sens=r(sens)\n",
    "local spec=r(spec)\n",
    "local ppv=r(ppv)\n",
    "local npv=r(npv)\n",
    "local roc=r(roc)\n",
    "post `memhold' (\"Year 2004-2009\") (`prev') (`sens') (`spec') (`ppv') (`npv') (`roc') \n",
    "\n",
    "quietly diagt diag test if yearcat==2010\n",
    "local prev=r(prev)\n",
    "local sens=r(sens)\n",
    "local spec=r(spec)\n",
    "local ppv=r(ppv)\n",
    "local npv=r(npv)\n",
    "local roc=r(roc)\n",
    "post `memhold' (\"Year 2010-2015\") (`prev') (`sens') (`spec') (`ppv') (`npv') (`roc')\n",
    "\n",
    "quietly diagt diag test if yearcat==2016\n",
    "local prev=r(prev)\n",
    "local sens=r(sens)\n",
    "local spec=r(spec)\n",
    "local ppv=r(ppv)\n",
    "local npv=r(npv)\n",
    "local roc=r(roc)\n",
    "post `memhold' (\"Year 2016-2020\") (`prev') (`sens') (`spec') (`ppv') (`npv') (`roc') \n",
    "\n",
    "\n",
    "quietly diagt diag test if imdcat==0\n",
    "local prev=r(prev)\n",
    "local sens=r(sens)\n",
    "local spec=r(spec)\n",
    "local ppv=r(ppv)\n",
    "local npv=r(npv)\n",
    "local roc=r(roc)\n",
    "post `memhold' (\"IMD 1,3\") (`prev') (`sens') (`spec') (`ppv') (`npv') (`roc') \n",
    "\n",
    "quietly diagt diag test if imdcat==4\n",
    "local prev=r(prev)\n",
    "local sens=r(sens)\n",
    "local spec=r(spec)\n",
    "local ppv=r(ppv)\n",
    "local npv=r(npv)\n",
    "local roc=r(roc)\n",
    "post `memhold' (\"IMD 4,7\") (`prev') (`sens') (`spec') (`ppv') (`npv') (`roc') \n",
    "\n",
    "quietly diagt diag test if imdcat==8\n",
    "local prev=r(prev)\n",
    "local sens=r(sens)\n",
    "local spec=r(spec)\n",
    "local ppv=r(ppv)\n",
    "local npv=r(npv)\n",
    "local roc=r(roc)\n",
    "post `memhold' (\"IMD 8,10\") (`prev') (`sens') (`spec') (`ppv') (`npv') (`roc') \n",
    "\n",
    "\n",
    "quietly diagt diag test if regexm(region_name,\"LONDON\")==1\n",
    "local prev=r(prev)\n",
    "local sens=r(sens)\n",
    "local spec=r(spec)\n",
    "local ppv=r(ppv)\n",
    "local npv=r(npv)\n",
    "local roc=r(roc)\n",
    "post `memhold' (\"London\") (`prev') (`sens') (`spec') (`ppv') (`npv') (`roc') \n",
    "\n",
    "quietly diagt diag test if regexm(region_name,\"MID\")==1\n",
    "local prev=r(prev)\n",
    "local sens=r(sens)\n",
    "local spec=r(spec)\n",
    "local ppv=r(ppv)\n",
    "local npv=r(npv)\n",
    "local roc=r(roc)\n",
    "post `memhold' (\"Midlands\") (`prev') (`sens') (`spec') (`ppv') (`npv') (`roc') \n",
    "\n",
    "quietly diagt diag test if regexm(region_name,\"YORK\")==1\n",
    "local prev=r(prev)\n",
    "local sens=r(sens)\n",
    "local spec=r(spec)\n",
    "local ppv=r(ppv)\n",
    "local npv=r(npv)\n",
    "local roc=r(roc)\n",
    "post `memhold' (\"Yorkshire\") (`prev') (`sens') (`spec') (`ppv') (`npv') (`roc') \n",
    "\n",
    "quietly diagt diag test if regexm(region_name,\"NORTH\")==1 & regexm(region_name,\"WEST\")==1\n",
    "local prev=r(prev)\n",
    "local sens=r(sens)\n",
    "local spec=r(spec)\n",
    "local ppv=r(ppv)\n",
    "local npv=r(npv)\n",
    "local roc=r(roc)\n",
    "post `memhold' (\"North West\") (`prev') (`sens') (`spec') (`ppv') (`npv') (`roc') \n",
    "\n",
    "quietly diagt diag test if regexm(region_name,\"SOUTH\")==1 & regexm(region_name,\"EAST\")==1\n",
    "local prev=r(prev)\n",
    "local sens=r(sens)\n",
    "local spec=r(spec)\n",
    "local ppv=r(ppv)\n",
    "local npv=r(npv)\n",
    "local roc=r(roc)\n",
    "post `memhold' (\"South East\") (`prev') (`sens') (`spec') (`ppv') (`npv') (`roc') \n",
    "\n",
    "quietly diagt diag test if regexm(region_name,\"SOUTH\")==1 & regexm(region_name,\"WEST\")==1\n",
    "local prev=r(prev)\n",
    "local sens=r(sens)\n",
    "local spec=r(spec)\n",
    "local ppv=r(ppv)\n",
    "local npv=r(npv)\n",
    "local roc=r(roc)\n",
    "post `memhold' (\"South West\") (`prev') (`sens') (`spec') (`ppv') (`npv') (`roc') \n",
    "\n",
    "quietly diagt diag test if regexm(system,\"One\")==1\n",
    "local prev=r(prev)\n",
    "local sens=r(sens)\n",
    "local spec=r(spec)\n",
    "local ppv=r(ppv)\n",
    "local npv=r(npv)\n",
    "local roc=r(roc)\n",
    "post `memhold' (\"SystemOne\") (`prev') (`sens') (`spec') (`ppv') (`npv') (`roc') \n",
    "\n",
    "quietly diagt diag test if regexm(system,\"Vision\")==1\n",
    "local prev=r(prev)\n",
    "local sens=r(sens)\n",
    "local spec=r(spec)\n",
    "local ppv=r(ppv)\n",
    "local npv=r(npv)\n",
    "local roc=r(roc)\n",
    "post `memhold' (\"Vision\") (`prev') (`sens') (`spec') (`ppv') (`npv') (`roc') \n",
    "\n",
    "quietly diagt diag test if regexm(ustrupper(system),\"EMIS\")==1\n",
    "local prev=r(prev)\n",
    "local sens=r(sens)\n",
    "local spec=r(spec)\n",
    "local ppv=r(ppv)\n",
    "local npv=r(npv)\n",
    "local roc=r(roc)\n",
    "post `memhold' (\"EMIS\") (`prev') (`sens') (`spec') (`ppv') (`npv') (`roc') \n",
    "\n",
    "quietly diagt diag test if RA_index==1\n",
    "local prev=r(prev)\n",
    "local sens=r(sens)\n",
    "local spec=r(spec)\n",
    "local ppv=r(ppv)\n",
    "local npv=r(npv)\n",
    "local roc=r(roc)\n",
    "post `memhold' (\"RAIndex1\") (`prev') (`sens') (`spec') (`ppv') (`npv') (`roc') \n",
    "\n",
    "quietly diagt diag test if RA_index==0\n",
    "local prev=r(prev)\n",
    "local sens=r(sens)\n",
    "local spec=r(spec)\n",
    "local ppv=r(ppv)\n",
    "local npv=r(npv)\n",
    "local roc=r(roc)\n",
    "post `memhold' (\"RAIndex0\") (`prev') (`sens') (`spec') (`ppv') (`npv') (`roc') \n",
    "\n",
    "quietly diagt diag test if ethnicity==\"0white\"\n",
    "local prev=r(prev)\n",
    "local sens=r(sens)\n",
    "local spec=r(spec)\n",
    "local ppv=r(ppv)\n",
    "local npv=r(npv)\n",
    "local roc=r(roc)\n",
    "post `memhold' (\"Ethnicity_0white\") (`prev') (`sens') (`spec') (`ppv') (`npv') (`roc') \n",
    "\n",
    "quietly diagt diag test if ethnicity==\"Other\"\n",
    "local prev=r(prev)\n",
    "local sens=r(sens)\n",
    "local spec=r(spec)\n",
    "local ppv=r(ppv)\n",
    "local npv=r(npv)\n",
    "local roc=r(roc)\n",
    "post `memhold' (\"Ethnicity_Other\") (`prev') (`sens') (`spec') (`ppv') (`npv') (`roc') \n",
    "\n",
    "\n",
    "\n",
    "quietly diagt diag test if ethnicity==\"Missing\"\n",
    "local prev=r(prev)\n",
    "local sens=r(sens)\n",
    "local spec=r(spec)\n",
    "local ppv=r(ppv)\n",
    "local npv=r(npv)\n",
    "local roc=r(roc)\n",
    "post `memhold' (\"Ethnicity_Missing\") (`prev') (`sens') (`spec') (`ppv') (`npv') (`roc') \n",
    "\n",
    "postclose `memhold'"
   ]
  },
  {
   "cell_type": "markdown",
   "id": "b350c4fb-deb8-450a-9750-689dc3a8268e",
   "metadata": {},
   "source": [
    "### Logistic Regression\n",
    "#### PPV"
   ]
  },
  {
   "cell_type": "code",
   "execution_count": 36,
   "id": "a21415d9",
   "metadata": {},
   "outputs": [
    {
     "name": "stdout",
     "output_type": "stream",
     "text": [
      "(2,589 observations deleted)\n",
      "(9 observations deleted)\n"
     ]
    }
   ],
   "source": [
    "drop if missing(imdcat)\n",
    "drop if missing(sex)"
   ]
  },
  {
   "cell_type": "code",
   "execution_count": 37,
   "id": "ad17f02e-1d4b-48ec-8a48-1c137597db1a",
   "metadata": {},
   "outputs": [
    {
     "name": "stdout",
     "output_type": "stream",
     "text": [
      "\n",
      "Logistic regression                                     Number of obs =  3,100\n",
      "                                                        LR chi2(0)    =   0.00\n",
      "                                                        Prob > chi2   =      .\n",
      "Log likelihood = -2059.5752                             Pseudo R2     = 0.0000\n",
      "\n",
      "------------------------------------------------------------------------------\n",
      "    diag_pos |       Odds   Std. err.      z    P>|z|     [95% conf. interval]\n",
      "-------------+----------------------------------------------------------------\n",
      "       _cons |   1.627119   .0601878    13.16   0.000     1.513327    1.749466\n",
      "------------------------------------------------------------------------------\n"
     ]
    }
   ],
   "source": [
    "logistic diag_pos if test==1"
   ]
  },
  {
   "cell_type": "code",
   "execution_count": 38,
   "id": "b4bb2be2-7e3e-402c-aa81-7b7dfd706f64",
   "metadata": {},
   "outputs": [
    {
     "name": "stdout",
     "output_type": "stream",
     "text": [
      "note: 1.bnf_code_values != 0 predicts success perfectly;\n",
      "      1.bnf_code_values omitted and 1 obs not used.\n",
      "\n",
      "note: 3.bnf_code_values omitted because of collinearity.\n",
      "\n",
      "Logistic regression                                     Number of obs =  3,099\n",
      "                                                        LR chi2(1)    =   1.89\n",
      "                                                        Prob > chi2   = 0.1691\n",
      "Log likelihood = -2058.1506                             Pseudo R2     = 0.0005\n",
      "\n",
      "-------------------------------------------------------------------------------------\n",
      "           diag_pos | Odds ratio   Std. err.      z    P>|z|     [95% conf. interval]\n",
      "--------------------+----------------------------------------------------------------\n",
      "    bnf_code_values |\n",
      "            020602  |          1  (empty)\n",
      "Drugs for dementia  |   1.782067   .7468174     1.38   0.168     .7838049    4.051727\n",
      "     Other/unknown  |          1  (omitted)\n",
      "                    |\n",
      "              _cons |   .9166667   .3826383    -0.21   0.835     .4044826    2.077414\n",
      "-------------------------------------------------------------------------------------\n",
      "Note: _cons estimates baseline odds.\n"
     ]
    }
   ],
   "source": [
    "logistic diag_pos i.bnf_code_values if test==1"
   ]
  },
  {
   "cell_type": "code",
   "execution_count": 39,
   "id": "49e40858",
   "metadata": {},
   "outputs": [
    {
     "name": "stdout",
     "output_type": "stream",
     "text": [
      "\n",
      "Fitting fixed-effects model:\n",
      "\n",
      "Iteration 0:  Log likelihood = -1920.6254  \n",
      "Iteration 1:  Log likelihood = -1918.7298  \n",
      "Iteration 2:  Log likelihood = -1918.7284  \n",
      "Iteration 3:  Log likelihood = -1918.7284  \n",
      "\n",
      "Refining starting values:\n",
      "\n",
      "Grid node 0:  Log likelihood = -1906.3198\n",
      "\n",
      "Fitting full model:\n",
      "\n",
      "Iteration 0:  Log likelihood = -1906.3198  (not concave)\n",
      "Iteration 1:  Log likelihood = -1889.4262  \n",
      "Iteration 2:  Log likelihood = -1887.2421  \n",
      "Iteration 3:  Log likelihood = -1887.0327  \n",
      "Iteration 4:  Log likelihood = -1887.0324  \n",
      "Iteration 5:  Log likelihood = -1887.0324  \n",
      "\n",
      "Mixed-effects logistic regression               Number of obs     =      3,100\n",
      "Group variable: practice_id                     Number of groups  =        254\n",
      "\n",
      "                                                Obs per group:\n",
      "                                                              min =          1\n",
      "                                                              avg =       12.2\n",
      "                                                              max =         89\n",
      "\n",
      "Integration method: mvaghermite                 Integration pts.  =          7\n",
      "\n",
      "                                                Wald chi2(17)     =     237.81\n",
      "Log likelihood = -1887.0324                     Prob > chi2       =     0.0000\n",
      "----------------------------------------------------------------------------------------------------------------\n",
      "                                       newdiag | Odds ratio   Std. err.      z    P>|z|     [95% conf. interval]\n",
      "-----------------------------------------------+----------------------------------------------------------------\n",
      "                                   1.sex_coded |   1.024351   .0889542     0.28   0.782     .8640338    1.214414\n",
      "                                               |\n",
      "                                       yearcat |\n",
      "                                    2010-2015  |   1.684106   .2004429     4.38   0.000     1.333703     2.12657\n",
      "                                    2016-2020  |   4.565456   .5657872    12.25   0.000     3.580936    5.820654\n",
      "                                               |\n",
      "                                        agecat |\n",
      "                                      0Middle  |   1.645508   .2380265     3.44   0.001     1.239287    2.184884\n",
      "                                      Elderly  |   1.464893   .2671874     2.09   0.036     1.024595    2.094401\n",
      "                                               |\n",
      "                                        region |\n",
      "                  LONDON COMMISSIONING REGION  |    1.12237   .4827624     0.27   0.788      .483071    2.607723\n",
      "                MIDLANDS COMMISSIONING REGION  |   1.014297   .2177107     0.07   0.947     .6659806    1.544787\n",
      "NORTH EAST AND YORKSHIRE COMMISSIONING REGION  |   .7899537   .1711748    -1.09   0.277     .5166007    1.207948\n",
      "              NORTH WEST COMMISSIONING REGION  |   .7650827   .1850993    -1.11   0.268     .4761832    1.229257\n",
      "              SOUTH EAST COMMISSIONING REGION  |   .9538092   .1854243    -0.24   0.808     .6516052     1.39617\n",
      "              SOUTH WEST COMMISSIONING REGION  |   .9282354   .2258993    -0.31   0.760     .5761109    1.495582\n",
      "                                     Scotland  |   .4901655   .2429679    -1.44   0.150     .1855302    1.295003\n",
      "                                               |\n",
      "                                      RA_index |   1.580643   .2510417     2.88   0.004     1.157827    2.157862\n",
      "                                               |\n",
      "                                        ethnic |\n",
      "                                      Missing  |   .8766222   .0941316    -1.23   0.220     .7102489    1.081968\n",
      "                                        Other  |   .8675794   .2322968    -0.53   0.596     .5133312    1.466293\n",
      "                                               |\n",
      "                                        imdcat |\n",
      "                                          4-7  |   .8450644   .1350976    -1.05   0.292     .6177475    1.156029\n",
      "                                         8-10  |   .8476605   .1454432    -0.96   0.335     .6055796    1.186514\n",
      "                                               |\n",
      "                                         _cons |   .4014451   .0953828    -3.84   0.000     .2519892    .6395441\n",
      "-----------------------------------------------+----------------------------------------------------------------\n",
      "practice_id                                    |\n",
      "                                     var(_cons)|    .314049   .0719729                      .2004109    .4921227\n",
      "----------------------------------------------------------------------------------------------------------------\n",
      "Note: Estimates are transformed only in the first equation to odds ratios.\n",
      "Note: _cons estimates baseline odds (conditional on zero random effects).\n",
      "LR test vs. logistic model: chibar2(01) = 63.39       Prob >= chibar2 = 0.0000\n"
     ]
    }
   ],
   "source": [
    "gen newdiag=diag_pos\n",
    "\n",
    "melogit newdiag i.sex i.yearcat i.agecat  i.region RA_index i.ethnic i.imdcat if test==1 || practice_id:,or\n",
    "estimates store model1"
   ]
  },
  {
   "cell_type": "markdown",
   "id": "1fb85b5e",
   "metadata": {},
   "source": [
    "##### Likelihood ratio tests"
   ]
  },
  {
   "cell_type": "code",
   "execution_count": 40,
   "id": "718b2ba3-f1ac-41c9-af92-e0cb45d55985",
   "metadata": {},
   "outputs": [],
   "source": [
    "\n",
    "\n",
    "quietly: melogit newdiag i.sex i.yearcat i.agecat  i.region RA_index i.ethnic if test==1 || practice_id:,or\n",
    "estimates store model_imd\n",
    "\n",
    "quietly:melogit newdiag i.sex i.yearcat i.agecat  i.region RA_index i.imdcat if test==1 || practice_id:,or\n",
    "estimates store model_ethnicity\n",
    "\n",
    "quietly:melogit newdiag i.yearcat i.agecat  i.region RA_index i.ethnic i.imdcat if test==1 || practice_id:,or\n",
    "estimates store model_sex\n",
    "\n",
    "quietly:melogit newdiag i.sex i.agecat  i.region RA_index i.ethnic i.imdcat if test==1 || practice_id:,or\n",
    "estimates store model_year\n",
    "\n",
    "quietly: melogit newdiag i.sex i.yearcat  i.region RA_index i.ethnic i.imdcat if test==1 || practice_id:,or\n",
    "estimates store model_age\n",
    "\n"
   ]
  },
  {
   "cell_type": "code",
   "execution_count": 41,
   "id": "31887f9d",
   "metadata": {},
   "outputs": [
    {
     "name": "stdout",
     "output_type": "stream",
     "text": [
      "\n",
      "Likelihood-ratio test\n",
      "Assumption: model_sex nested within model1\n",
      "\n",
      " LR chi2(1) =   0.08\n",
      "Prob > chi2 = 0.7817\n",
      "\n",
      "Likelihood-ratio test\n",
      "Assumption: model_year nested within model1\n",
      "\n",
      " LR chi2(2) = 201.56\n",
      "Prob > chi2 = 0.0000\n",
      "\n",
      "Likelihood-ratio test\n",
      "Assumption: model_age nested within model1\n",
      "\n",
      " LR chi2(2) =  12.09\n",
      "Prob > chi2 = 0.0024\n",
      "\n",
      "Likelihood-ratio test\n",
      "Assumption: model_ethnic~y nested within model1\n",
      "\n",
      " LR chi2(2) =   1.72\n",
      "Prob > chi2 = 0.4236\n",
      "\n",
      "Likelihood-ratio test\n",
      "Assumption: model_imd nested within model1\n",
      "\n",
      " LR chi2(2) =   1.27\n",
      "Prob > chi2 = 0.5291\n"
     ]
    }
   ],
   "source": [
    "lrtest model1 model_sex\n",
    "lrtest model1 model_year\n",
    "lrtest model1 model_age\n",
    "lrtest model1 model_ethnicity\n",
    "lrtest model1 model_imd\n"
   ]
  },
  {
   "cell_type": "markdown",
   "id": "99227c99-0304-407b-a990-a06fe4bd4560",
   "metadata": {},
   "source": [
    "#### NPV"
   ]
  },
  {
   "cell_type": "code",
   "execution_count": 42,
   "id": "04c0103e-c424-49af-8973-09a13878ea3f",
   "metadata": {},
   "outputs": [
    {
     "name": "stdout",
     "output_type": "stream",
     "text": [
      "\n",
      "Logistic regression                                    Number of obs = 419,302\n",
      "                                                       LR chi2(0)    =    0.00\n",
      "                                                       Prob > chi2   =       .\n",
      "Log likelihood = -16106.796                            Pseudo R2     =  0.0000\n",
      "\n",
      "------------------------------------------------------------------------------\n",
      "    diag_neg |       Odds   Std. err.      z    P>|z|     [95% conf. interval]\n",
      "-------------+----------------------------------------------------------------\n",
      "       _cons |   156.6916   3.048372   259.80   0.000     150.8294    162.7817\n",
      "------------------------------------------------------------------------------\n"
     ]
    }
   ],
   "source": [
    "logistic diag_neg if test==0"
   ]
  },
  {
   "cell_type": "code",
   "execution_count": 43,
   "id": "93a5b760",
   "metadata": {},
   "outputs": [
    {
     "name": "stdout",
     "output_type": "stream",
     "text": [
      "(422,402 real changes made)\n",
      "\n",
      "Fitting fixed-effects model:\n",
      "\n",
      "Iteration 0:  Log likelihood = -42488.516  \n",
      "Iteration 1:  Log likelihood = -14004.556  \n",
      "Iteration 2:  Log likelihood = -13118.473  \n",
      "Iteration 3:  Log likelihood = -12335.453  \n",
      "Iteration 4:  Log likelihood = -12331.591  \n",
      "Iteration 5:  Log likelihood = -12331.581  \n",
      "Iteration 6:  Log likelihood = -12331.581  \n",
      "\n",
      "Refining starting values:\n",
      "\n",
      "Grid node 0:  Log likelihood = -12262.179\n",
      "\n",
      "Fitting full model:\n",
      "\n",
      "Iteration 0:  Log likelihood = -12262.179  (not concave)\n",
      "Iteration 1:  Log likelihood = -12228.822  \n",
      "Iteration 2:  Log likelihood = -12215.172  \n",
      "Iteration 3:  Log likelihood = -12208.645  \n",
      "Iteration 4:  Log likelihood =  -12208.24  \n",
      "Iteration 5:  Log likelihood = -12208.238  \n",
      "Iteration 6:  Log likelihood = -12208.238  \n",
      "\n",
      "Mixed-effects logistic regression               Number of obs     =    419,302\n",
      "Group variable: practice_id                     Number of groups  =        339\n",
      "\n",
      "                                                Obs per group:\n",
      "                                                              min =          1\n",
      "                                                              avg =    1,236.9\n",
      "                                                              max =     10,413\n",
      "\n",
      "Integration method: mvaghermite                 Integration pts.  =          7\n",
      "\n",
      "                                                Wald chi2(17)     =    4151.99\n",
      "Log likelihood = -12208.238                     Prob > chi2       =     0.0000\n",
      "----------------------------------------------------------------------------------------------------------------\n",
      "                                       newdiag | Odds ratio   Std. err.      z    P>|z|     [95% conf. interval]\n",
      "-----------------------------------------------+----------------------------------------------------------------\n",
      "                                   1.sex_coded |   1.472609   .0623061     9.15   0.000     1.355417    1.599933\n",
      "                                               |\n",
      "                                       yearcat |\n",
      "                                    2010-2015  |   .5211401   .0294528   -11.53   0.000      .466496    .5821852\n",
      "                                    2016-2020  |   .2628818   .0146571   -23.96   0.000     .2356684    .2932377\n",
      "                                               |\n",
      "                                        agecat |\n",
      "                                      0Middle  |   .0247864   .0017175   -53.36   0.000     .0216388     .028392\n",
      "                                      Elderly  |   .0111199   .0009199   -54.39   0.000     .0094555    .0130772\n",
      "                                               |\n",
      "                                        region |\n",
      "                  LONDON COMMISSIONING REGION  |   .8833476   .2220699    -0.49   0.622     .5396885     1.44584\n",
      "                MIDLANDS COMMISSIONING REGION  |   .8068399   .1034635    -1.67   0.094     .6275311    1.037384\n",
      "NORTH EAST AND YORKSHIRE COMMISSIONING REGION  |   1.002358    .141779     0.02   0.987      .759669    1.322579\n",
      "              NORTH WEST COMMISSIONING REGION  |   .9201695   .1425599    -0.54   0.591     .6791928    1.246645\n",
      "              SOUTH EAST COMMISSIONING REGION  |   1.012216   .1356382     0.09   0.928     .7784148     1.31624\n",
      "              SOUTH WEST COMMISSIONING REGION  |    .917377   .1444312    -0.55   0.584     .6738067    1.248994\n",
      "                                     Scotland  |   .8761372   .2717781    -0.43   0.670     .4770118    1.609219\n",
      "                                               |\n",
      "                                      RA_index |   .9759097   .0982828    -0.24   0.809     .8010988    1.188867\n",
      "                                               |\n",
      "                                        ethnic |\n",
      "                                      Missing  |   1.379086   .0760938     5.83   0.000     1.237726     1.53659\n",
      "                                        Other  |   1.027478   .1094177     0.25   0.799     .8339241    1.265954\n",
      "                                               |\n",
      "                                        imdcat |\n",
      "                                          4-7  |   .9346365   .0962916    -0.66   0.512     .7637427    1.143769\n",
      "                                         8-10  |   .9140329   .1000137    -0.82   0.411     .7376038    1.132662\n",
      "                                               |\n",
      "                                         _cons |   2996.153   405.2491    59.18   0.000     2298.442    3905.661\n",
      "-----------------------------------------------+----------------------------------------------------------------\n",
      "practice_id                                    |\n",
      "                                     var(_cons)|   .2345831   .0373384                      .1717164    .3204658\n",
      "----------------------------------------------------------------------------------------------------------------\n",
      "Note: Estimates are transformed only in the first equation to odds ratios.\n",
      "Note: _cons estimates baseline odds (conditional on zero random effects).\n",
      "LR test vs. logistic model: chibar2(01) = 246.69      Prob >= chibar2 = 0.0000\n"
     ]
    }
   ],
   "source": [
    "/* need to use the same response variable (newdiag) to line up the two model results */\n",
    "replace newdiag=diag_neg \n",
    "\n",
    "melogit newdiag i.sex i.yearcat i.agecat i.region RA_index i.ethnic i.imdcat if test==0 || practice_id:,or\n",
    "estimates store model2"
   ]
  },
  {
   "cell_type": "markdown",
   "id": "60c60b7a",
   "metadata": {},
   "source": [
    "##### Likelihood ratio tests"
   ]
  },
  {
   "cell_type": "code",
   "execution_count": 44,
   "id": "c31bd1f1-c69b-4600-a1c0-bde311d67651",
   "metadata": {},
   "outputs": [],
   "source": [
    "\n",
    "quietly: melogit newdiag i.yearcat i.agecat i.region RA_index i.ethnic i.imdcat if test==0 || practice_id:,or\n",
    "estimates store model2_sex\n",
    "quietly: melogit newdiag i.sex i.agecat i.region RA_index i.ethnic i.imdcat if test==0 || practice_id:,or\n",
    "estimates store model2_year\n",
    "quietly: melogit newdiag i.sex i.yearcat i.region RA_index i.ethnic i.imdcat if test==0 || practice_id:,or\n",
    "estimates store model2_age\n",
    "quietly: melogit newdiag i.sex i.yearcat i.agecat i.region RA_index i.imdcat if test==0 || practice_id:,or\n",
    "estimates store model2_ethnicity\n",
    "quietly: melogit newdiag i.sex i.yearcat i.agecat i.region RA_index i.ethnic if test==0 || practice_id:,or\n",
    "estimates store model2_imd\n"
   ]
  },
  {
   "cell_type": "code",
   "execution_count": 45,
   "id": "95d03409",
   "metadata": {},
   "outputs": [
    {
     "name": "stdout",
     "output_type": "stream",
     "text": [
      "\n",
      "Likelihood-ratio test\n",
      "Assumption: model2_sex nested within model2\n",
      "\n",
      " LR chi2(1) =  86.30\n",
      "Prob > chi2 = 0.0000\n",
      "\n",
      "Likelihood-ratio test\n",
      "Assumption: model2_year nested within model2\n",
      "\n",
      " LR chi2(2) = 632.22\n",
      "Prob > chi2 = 0.0000\n",
      "\n",
      "Likelihood-ratio test\n",
      "Assumption: model2_age nested within model2\n",
      "\n",
      " LR chi2(2) = 6363.52\n",
      "Prob > chi2 =  0.0000\n",
      "\n",
      "Likelihood-ratio test\n",
      "Assumption: model2_ethni~y nested within model2\n",
      "\n",
      " LR chi2(2) =  35.17\n",
      "Prob > chi2 = 0.0000\n",
      "\n",
      "Likelihood-ratio test\n",
      "Assumption: model2_imd nested within model2\n",
      "\n",
      " LR chi2(2) =   0.72\n",
      "Prob > chi2 = 0.6961\n"
     ]
    }
   ],
   "source": [
    "lrtest model2 model2_sex\n",
    "lrtest model2 model2_year\n",
    "lrtest model2 model2_age\n",
    "lrtest model2 model2_ethnicity\n",
    "lrtest model2 model2_imd\n"
   ]
  },
  {
   "cell_type": "code",
   "execution_count": 46,
   "id": "017939f5-75b7-4ee0-9f7b-3105e0d2bfe1",
   "metadata": {},
   "outputs": [
    {
     "name": "stdout",
     "output_type": "stream",
     "text": [
      "\n",
      "Table 2. PPV (1) and NPV (2), OR, Random effect\n",
      "------------------------------------------------------------------\n",
      "                                                   1         2    \n",
      "------------------------------------------------------------------\n",
      "sex_coded                                                         \n",
      "  1                                             1.02       1.47 **\n",
      "yearcat                                                           \n",
      "  2010-2015                                     1.68 **    0.52 **\n",
      "  2016-2020                                     4.57 **    0.26 **\n",
      "agecat                                                            \n",
      "  0Middle                                       1.65 **    0.02 **\n",
      "  Elderly                                       1.46 *     0.01 **\n",
      "region                                                            \n",
      "  LONDON COMMISSIONING REGION                   1.12       0.88   \n",
      "  MIDLANDS COMMISSIONING REGION                 1.01       0.81   \n",
      "  NORTH EAST AND YORKSHIRE COMMISSIONING REGION 0.79       1.00   \n",
      "  NORTH WEST COMMISSIONING REGION               0.77       0.92   \n",
      "  SOUTH EAST COMMISSIONING REGION               0.95       1.01   \n",
      "  SOUTH WEST COMMISSIONING REGION               0.93       0.92   \n",
      "  Scotland                                      0.49       0.88   \n",
      "RA_index                                        1.58 **    0.98   \n",
      "ethnic                                                            \n",
      "  Missing                                       0.88       1.38 **\n",
      "  Other                                         0.87       1.03   \n",
      "imdcat                                                            \n",
      "  4-7                                           0.85       0.93   \n",
      "  8-10                                          0.85       0.91   \n",
      "Intercept                                       0.40 ** 2996.15 **\n",
      "var(_cons[practice_id])                         0.31       0.23   \n",
      "Number of observations                          3100     419302   \n",
      "------------------------------------------------------------------\n",
      "** p<.01, * p<.05\n"
     ]
    }
   ],
   "source": [
    "etable, estimates(model1 model2) showstars showstarsnote title(\"Table 2. PPV (1) and NPV (2),  OR, Random effect\") cstat(_r_b,nformat(%6.2f)) column(index)"
   ]
  },
  {
   "cell_type": "markdown",
   "id": "e7e9a417",
   "metadata": {},
   "source": [
    "### Summary of validation parameters"
   ]
  },
  {
   "cell_type": "code",
   "execution_count": 47,
   "id": "e27d82a4-8d2d-4529-8a15-ae4baabfa28c",
   "metadata": {},
   "outputs": [
    {
     "name": "stdout",
     "output_type": "stream",
     "text": [
      "(26 real changes made)\n",
      "(25 real changes made)\n",
      "(26 real changes made)\n",
      "(26 real changes made)\n",
      "(26 real changes made)\n",
      "(26 real changes made)\n"
     ]
    }
   ],
   "source": [
    "use validity.dta, clear\n",
    "replace prev=round(prev, 0.1)\n",
    "gen prev_a=round(((prev/100)*((sens/100)+(spec/100)-1)+1-(spec/100))*100,0.1)/*apparent prevalence*/\n",
    "replace sens=round(sens, 0.1)\n",
    "replace spec=round(spec,0.1)\n",
    "replace ppv=round(ppv, 0.1)\n",
    "replace npv=round(npv, 0.1)\n",
    "replace roc=round(roc, 0.01)\n"
   ]
  },
  {
   "cell_type": "code",
   "execution_count": 48,
   "id": "8129bfb3-cd21-4077-a785-9a74a846c65b",
   "metadata": {},
   "outputs": [
    {
     "data": {
      "text/html": [
       "<div>\n",
       "<style scoped>\n",
       "    .dataframe tbody tr th:only-of-type {\n",
       "        vertical-align: middle;\n",
       "    }\n",
       "\n",
       "    .dataframe tbody tr th {\n",
       "        vertical-align: top;\n",
       "    }\n",
       "\n",
       "    .dataframe thead th {\n",
       "        text-align: right;\n",
       "    }\n",
       "</style>\n",
       "<table border=\"1\" class=\"dataframe\">\n",
       "  <thead>\n",
       "    <tr style=\"text-align: right;\">\n",
       "      <th></th>\n",
       "      <th>var</th>\n",
       "      <th>prev</th>\n",
       "      <th>sens</th>\n",
       "      <th>spec</th>\n",
       "      <th>ppv</th>\n",
       "      <th>npv</th>\n",
       "      <th>roc</th>\n",
       "      <th>prev_a</th>\n",
       "    </tr>\n",
       "  </thead>\n",
       "  <tbody>\n",
       "    <tr>\n",
       "      <th>1</th>\n",
       "      <td>all</td>\n",
       "      <td>1.1</td>\n",
       "      <td>41.9</td>\n",
       "      <td>99.7</td>\n",
       "      <td>62</td>\n",
       "      <td>99.4</td>\n",
       "      <td>.71</td>\n",
       "      <td>.7</td>\n",
       "    </tr>\n",
       "    <tr>\n",
       "      <th>2</th>\n",
       "      <td>Male</td>\n",
       "      <td>.7</td>\n",
       "      <td>42</td>\n",
       "      <td>99.8</td>\n",
       "      <td>61.7</td>\n",
       "      <td>99.6</td>\n",
       "      <td>.71</td>\n",
       "      <td>.5</td>\n",
       "    </tr>\n",
       "    <tr>\n",
       "      <th>3</th>\n",
       "      <td>Female</td>\n",
       "      <td>1.4</td>\n",
       "      <td>41.9</td>\n",
       "      <td>99.6</td>\n",
       "      <td>62.1</td>\n",
       "      <td>99.2</td>\n",
       "      <td>.71</td>\n",
       "      <td>.9</td>\n",
       "    </tr>\n",
       "    <tr>\n",
       "      <th>4</th>\n",
       "      <td>Age young</td>\n",
       "      <td>.1</td>\n",
       "      <td>35.9</td>\n",
       "      <td>100</td>\n",
       "      <td>52.1</td>\n",
       "      <td>99.9</td>\n",
       "      <td>.68</td>\n",
       "      <td>.1</td>\n",
       "    </tr>\n",
       "    <tr>\n",
       "      <th>5</th>\n",
       "      <td>Age middle</td>\n",
       "      <td>4.5</td>\n",
       "      <td>44.2</td>\n",
       "      <td>98.8</td>\n",
       "      <td>62.8</td>\n",
       "      <td>97.4</td>\n",
       "      <td>.71</td>\n",
       "      <td>3.2</td>\n",
       "    </tr>\n",
       "    <tr>\n",
       "      <th>6</th>\n",
       "      <td>Age elderly</td>\n",
       "      <td>8.9</td>\n",
       "      <td>33.9</td>\n",
       "      <td>98.1</td>\n",
       "      <td>63.4</td>\n",
       "      <td>93.8</td>\n",
       "      <td>.66</td>\n",
       "      <td>4.8</td>\n",
       "    </tr>\n",
       "    <tr>\n",
       "      <th>7</th>\n",
       "      <td>Year 2004-2009</td>\n",
       "      <td>.5</td>\n",
       "      <td>26.3</td>\n",
       "      <td>99.8</td>\n",
       "      <td>40.7</td>\n",
       "      <td>99.6</td>\n",
       "      <td>.63</td>\n",
       "      <td>.3</td>\n",
       "    </tr>\n",
       "    <tr>\n",
       "      <th>8</th>\n",
       "      <td>Year 2010-2015</td>\n",
       "      <td>1</td>\n",
       "      <td>40.9</td>\n",
       "      <td>99.7</td>\n",
       "      <td>54.1</td>\n",
       "      <td>99.4</td>\n",
       "      <td>.7</td>\n",
       "      <td>.7</td>\n",
       "    </tr>\n",
       "    <tr>\n",
       "      <th>9</th>\n",
       "      <td>Year 2016-2020</td>\n",
       "      <td>1.9</td>\n",
       "      <td>47.8</td>\n",
       "      <td>99.7</td>\n",
       "      <td>74.9</td>\n",
       "      <td>99</td>\n",
       "      <td>.74</td>\n",
       "      <td>1.2</td>\n",
       "    </tr>\n",
       "    <tr>\n",
       "      <th>10</th>\n",
       "      <td>IMD 1,3</td>\n",
       "      <td>.9</td>\n",
       "      <td>42.8</td>\n",
       "      <td>99.8</td>\n",
       "      <td>64.2</td>\n",
       "      <td>99.5</td>\n",
       "      <td>.71</td>\n",
       "      <td>.6</td>\n",
       "    </tr>\n",
       "    <tr>\n",
       "      <th>11</th>\n",
       "      <td>IMD 4,7</td>\n",
       "      <td>1.2</td>\n",
       "      <td>42</td>\n",
       "      <td>99.7</td>\n",
       "      <td>61.6</td>\n",
       "      <td>99.3</td>\n",
       "      <td>.71</td>\n",
       "      <td>.8</td>\n",
       "    </tr>\n",
       "    <tr>\n",
       "      <th>12</th>\n",
       "      <td>IMD 8,10</td>\n",
       "      <td>1.2</td>\n",
       "      <td>41.1</td>\n",
       "      <td>99.7</td>\n",
       "      <td>60.3</td>\n",
       "      <td>99.3</td>\n",
       "      <td>.7</td>\n",
       "      <td>.8</td>\n",
       "    </tr>\n",
       "    <tr>\n",
       "      <th>13</th>\n",
       "      <td>London</td>\n",
       "      <td>.6</td>\n",
       "      <td>41.5</td>\n",
       "      <td>99.9</td>\n",
       "      <td>63.9</td>\n",
       "      <td>99.7</td>\n",
       "      <td>.71</td>\n",
       "      <td>.4</td>\n",
       "    </tr>\n",
       "    <tr>\n",
       "      <th>14</th>\n",
       "      <td>Midlands</td>\n",
       "      <td>1.3</td>\n",
       "      <td>40.8</td>\n",
       "      <td>99.8</td>\n",
       "      <td>69.3</td>\n",
       "      <td>99.2</td>\n",
       "      <td>.7</td>\n",
       "      <td>.8</td>\n",
       "    </tr>\n",
       "    <tr>\n",
       "      <th>15</th>\n",
       "      <td>Yorkshire</td>\n",
       "      <td>1</td>\n",
       "      <td>44.1</td>\n",
       "      <td>99.7</td>\n",
       "      <td>62.3</td>\n",
       "      <td>99.5</td>\n",
       "      <td>.72</td>\n",
       "      <td>.7</td>\n",
       "    </tr>\n",
       "    <tr>\n",
       "      <th>16</th>\n",
       "      <td>North West</td>\n",
       "      <td>1</td>\n",
       "      <td>37.8</td>\n",
       "      <td>99.7</td>\n",
       "      <td>57.5</td>\n",
       "      <td>99.4</td>\n",
       "      <td>.69</td>\n",
       "      <td>.7</td>\n",
       "    </tr>\n",
       "    <tr>\n",
       "      <th>17</th>\n",
       "      <td>South East</td>\n",
       "      <td>1.2</td>\n",
       "      <td>47.5</td>\n",
       "      <td>99.7</td>\n",
       "      <td>62.5</td>\n",
       "      <td>99.4</td>\n",
       "      <td>.74</td>\n",
       "      <td>.9</td>\n",
       "    </tr>\n",
       "    <tr>\n",
       "      <th>18</th>\n",
       "      <td>South West</td>\n",
       "      <td>1.4</td>\n",
       "      <td>35.2</td>\n",
       "      <td>99.7</td>\n",
       "      <td>64.4</td>\n",
       "      <td>99.1</td>\n",
       "      <td>.67</td>\n",
       "      <td>.8</td>\n",
       "    </tr>\n",
       "    <tr>\n",
       "      <th>19</th>\n",
       "      <td>SystemOne</td>\n",
       "      <td>1.1</td>\n",
       "      <td>41</td>\n",
       "      <td>99.7</td>\n",
       "      <td>61.1</td>\n",
       "      <td>99.4</td>\n",
       "      <td>.7</td>\n",
       "      <td>.7</td>\n",
       "    </tr>\n",
       "    <tr>\n",
       "      <th>20</th>\n",
       "      <td>Vision</td>\n",
       "      <td>.6</td>\n",
       "      <td>27.3</td>\n",
       "      <td>99.5</td>\n",
       "      <td>25.3</td>\n",
       "      <td>99.5</td>\n",
       "      <td>.63</td>\n",
       "      <td>.7</td>\n",
       "    </tr>\n",
       "    <tr>\n",
       "      <th>21</th>\n",
       "      <td>EMIS</td>\n",
       "      <td>1.1</td>\n",
       "      <td>43.7</td>\n",
       "      <td>99.7</td>\n",
       "      <td>65.6</td>\n",
       "      <td>99.4</td>\n",
       "      <td>.72</td>\n",
       "      <td>.7</td>\n",
       "    </tr>\n",
       "    <tr>\n",
       "      <th>22</th>\n",
       "      <td>RAIndex1</td>\n",
       "      <td>1.1</td>\n",
       "      <td>42.5</td>\n",
       "      <td>99.7</td>\n",
       "      <td>64.1</td>\n",
       "      <td>99.4</td>\n",
       "      <td>.71</td>\n",
       "      <td>.7</td>\n",
       "    </tr>\n",
       "    <tr>\n",
       "      <th>23</th>\n",
       "      <td>RAIndex0</td>\n",
       "      <td>1</td>\n",
       "      <td>40</td>\n",
       "      <td>99.7</td>\n",
       "      <td>55.2</td>\n",
       "      <td>99.4</td>\n",
       "      <td>.7</td>\n",
       "      <td>.7</td>\n",
       "    </tr>\n",
       "    <tr>\n",
       "      <th>24</th>\n",
       "      <td>Ethnicity_0white</td>\n",
       "      <td>1.4</td>\n",
       "      <td>43.5</td>\n",
       "      <td>99.7</td>\n",
       "      <td>64.5</td>\n",
       "      <td>99.2</td>\n",
       "      <td>.72</td>\n",
       "      <td>.9</td>\n",
       "    </tr>\n",
       "    <tr>\n",
       "      <th>25</th>\n",
       "      <td>Ethnicity_Other</td>\n",
       "      <td>.4</td>\n",
       "      <td>29.7</td>\n",
       "      <td>99.9</td>\n",
       "      <td>62.8</td>\n",
       "      <td>99.7</td>\n",
       "      <td>.65</td>\n",
       "      <td>.2</td>\n",
       "    </tr>\n",
       "    <tr>\n",
       "      <th>26</th>\n",
       "      <td>Ethnicity_Missing</td>\n",
       "      <td>.7</td>\n",
       "      <td>38.2</td>\n",
       "      <td>99.7</td>\n",
       "      <td>52.7</td>\n",
       "      <td>99.5</td>\n",
       "      <td>.69</td>\n",
       "      <td>.5</td>\n",
       "    </tr>\n",
       "  </tbody>\n",
       "</table>\n",
       "</div>"
      ]
     },
     "metadata": {},
     "output_type": "display_data"
    }
   ],
   "source": [
    "%head 50"
   ]
  },
  {
   "cell_type": "code",
   "execution_count": 49,
   "id": "47dc850c-f3c8-4b9c-8ba9-3620f31b4fa9",
   "metadata": {},
   "outputs": [],
   "source": [
    "/*texsave * using test3.tex, varlabels*/\n",
    "/*\n",
    "export excel using  validity2.xlsx, sheet(val_dementia, replace)\n",
    "*/"
   ]
  }
 ],
 "metadata": {
  "kernelspec": {
   "display_name": "Stata (nbstata)",
   "language": "stata",
   "name": "nbstata"
  },
  "language_info": {
   "file_extension": ".do",
   "mimetype": "text/x-stata",
   "name": "stata",
   "version": "17"
  }
 },
 "nbformat": 4,
 "nbformat_minor": 5
}
