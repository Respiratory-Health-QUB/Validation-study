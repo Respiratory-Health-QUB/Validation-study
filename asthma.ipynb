{
 "cells": [
  {
   "cell_type": "markdown",
   "id": "13e469d7",
   "metadata": {},
   "source": [
    "# Validity of using prescription records to identify patient comorbidities\n",
    "## Combined Analysis of Ashtma"
   ]
  },
  {
   "cell_type": "markdown",
   "id": "a3d5caf8",
   "metadata": {},
   "source": [
    "**ReadMe:**\n",
    "- This is a script used in the analysis for Schnier et al., 2025: Validity of using prescription records to classify disease – a record linkage study using routinely collected electronic health records from the UK.\n",
    "- The underlying data set has been created using the Optimum Patient Care Research Database (https://opcrd.optimumpatientcare.org/). The authors do not have permission to give the public access to the study dataset; researchers may request access to OPCRD for their own purposes. \n",
    " - All code is run in StataSE 18. \n"
   ]
  },
  {
   "cell_type": "markdown",
   "id": "1cf02e3e-e834-469d-abf1-21c9ce29f756",
   "metadata": {},
   "source": [
    "**Set up:**\n",
    "|Var|Input|\n",
    "| --- | --- | \n",
    "|population|425,000|\n",
    "|diagnostic codes|NHLI code list|\n",
    "|drug codes|bnf selection|\n",
    "|sql date|13.03.2025|\n",
    "|sql code|ashtmaselection_202050313.sql| "
   ]
  },
  {
   "cell_type": "code",
   "execution_count": 1,
   "id": "2a759161-052f-4433-ab6c-0ad7ab9120e9",
   "metadata": {},
   "outputs": [
    {
     "data": {
      "text/html": [
       "<style>div.jp-Notebook .datagrid-container {min-height: 448px; }</style>"
      ],
      "text/plain": [
       "<IPython.core.display.HTML object>"
      ]
     },
     "metadata": {},
     "output_type": "display_data"
    }
   ],
   "source": [
    "    clear all"
   ]
  },
  {
   "cell_type": "markdown",
   "id": "5e9a592b-20c3-4eb6-b947-22979a02dcf0",
   "metadata": {},
   "source": [
    "### Import from SQL server and data wrangling"
   ]
  },
  {
   "cell_type": "code",
   "execution_count": 2,
   "id": "b5b5eb32-1b5c-44c2-901c-0e9d1a4e36d2",
   "metadata": {},
   "outputs": [],
   "source": [
    "odbc load, exec(\"select * from [asthma_425000_20250313]\") dsn(\"sqlserverconnect\")"
   ]
  },
  {
   "cell_type": "code",
   "execution_count": 3,
   "id": "0835f95f-a07b-4d29-b825-b3823bfad60e",
   "metadata": {
    "scrolled": true
   },
   "outputs": [
    {
     "name": "stdout",
     "output_type": "stream",
     "text": [
      "(65,202 missing values generated)\n",
      "(65,202 real changes made)\n",
      "(32,540 missing values generated)\n",
      "(32,540 real changes made)\n",
      "(2,589 missing values generated)\n",
      "variable bnf_code was str6 now str22\n",
      "(39,308 real changes made)\n",
      "variable bnf_code was str22 now str29\n",
      "(3,581 real changes made)\n",
      "(384 real changes made)\n",
      "(945 real changes made)\n",
      "(2,364 real changes made)\n",
      "(17,846 real changes made)\n",
      "(91 real changes made)\n",
      "(683 real changes made)\n",
      "variable ethnicity was str2 now str6\n",
      "(257,981 real changes made)\n",
      "(3,762 real changes made)\n",
      "(23,912 real changes made)\n",
      "(7,430 real changes made)\n",
      "(8,764 real changes made)\n",
      "variable ethnicity was str6 now str7\n",
      "(123,151 real changes made)\n"
     ]
    }
   ],
   "source": [
    "generate test=0 if missing(drug_dt)\n",
    "replace test=1 if ! missing(drug_dt)  \n",
    "\n",
    "generate diag=0 if missing(diag_dt)\n",
    "replace diag=1 if ! missing(diag_dt)  \n",
    "\n",
    "gen start_year=year(fu_start_dt)\n",
    "\n",
    "\n",
    "egen agecat = cut(age), at(16,30,70,120)\n",
    "label def agecat_lab 16 \"Young\" 30 \"0Middle\" 70 \"Elderly\" 120 \"weird\"\n",
    "label values agecat agecat_lab\n",
    "\n",
    "egen yearcat = cut(start_year), at(2004,2010,2016,2025)\n",
    "label def yearcat_lab 2004 \"2004-2009\" 2010 \"2010-2015\" 2016 \"2016-2020\" \n",
    "label values yearcat yearcat_lab\n",
    "\n",
    "egen imdcat = cut(imd_decile), at(0,4,8,11)\n",
    "label def imdcat_lab 0 \"1-3\" 4 \"4-7\" 8 \"8-10\" \n",
    "label values imdcat imdcat_lab\n",
    "\n",
    "\n",
    "replace bnf_code = \"Adrenoreceptor agonist\" if bnf_code== \"030101\"\n",
    "replace bnf_code = \"Antimuscarinic Bronchodilator\" if bnf_code== \"030102\"\n",
    "replace bnf_code = \"Theophylline\" if bnf_code== \"030103\"\n",
    "replace bnf_code = \"Compound bronchodilator\" if bnf_code== \"030104\"\n",
    "replace bnf_code = \"Devices\" if bnf_code== \"030105\" | bnf_code==\"210102\" | bnf_code==\"211200\"\n",
    "replace bnf_code = \"Corticosteroids\" if bnf_code== \"030200\"\n",
    "replace bnf_code = \"Topical nasal decongestance\" if bnf_code== \"120202\"\n",
    "replace bnf_code = \"Other/unknown\" if missing(bnf_code) & ! missing(drug_dt)\n",
    "\n",
    "\n",
    "\n",
    "replace ethnicity=\"0white\" if ethnicity==\"1\"\n",
    "replace ethnicity=\"Other\" if ethnicity==\"2\"\n",
    "replace ethnicity=\"Other\" if ethnicity==\"3\"\n",
    "replace ethnicity=\"Other\" if ethnicity==\"4\"\n",
    "replace ethnicity=\"Other\" if ethnicity==\"5\"\n",
    "replace ethnicity=\"Missing\" if ethnicity==\"99\"\n",
    "\n",
    "\n",
    "encode bnf_code, generate(bnf_code_values) \n",
    "encode description, generate(description_values)\n",
    "encode ethnicity, generate(ethnicity_values) \n",
    "\n",
    "gen diag_neg=diag==0\n",
    "gen diag_pos=diag==1\n",
    "encode region_name, generate(region) label(regionlbl)\n",
    "encode ethnicity, generate(ethnic)\n"
   ]
  },
  {
   "cell_type": "code",
   "execution_count": 4,
   "id": "4bb67b58-5460-4077-bd5d-6252a35d7c1e",
   "metadata": {},
   "outputs": [
    {
     "name": "stdout",
     "output_type": "stream",
     "text": [
      "(bin=19, start=16, width=5)\n"
     ]
    },
    {
     "data": {
      "image/png": "[encoded data removed]",
      "text/plain": [
       "<IPython.core.display.Image object>"
      ]
     },
     "metadata": {},
     "output_type": "display_data"
    }
   ],
   "source": [
    "histogram age, width(5)\n"
   ]
  },
  {
   "cell_type": "markdown",
   "id": "cfdd2c1f-86b9-4840-8106-662ce151f20e",
   "metadata": {},
   "source": [
    "This table holds one randomly selected diagnostic code found during the observation period. The table is truncated to only include diagnostic codes with a count of 10 or more."
   ]
  },
  {
   "cell_type": "code",
   "execution_count": 5,
   "id": "6544a018-204b-4fcb-b5ab-d9ec745e764f",
   "metadata": {},
   "outputs": [
    {
     "name": "stdout",
     "output_type": "stream",
     "text": [
      "\n",
      "  +-------------------------------------------------------------------------------------------+\n",
      "  |                                                     description   Freq.   Percent     %<= |\n",
      "  |-------------------------------------------------------------------------------------------|\n",
      "  |                                                          asthma    5427     16.68   16.68 |\n",
      "  |                                            Asthma annual review    3717     11.42   28.10 |\n",
      "  |                                            asthma annual review    1721      5.29   33.39 |\n",
      "  |                                  Asthma not limiting activities    1704      5.24   38.63 |\n",
      "  |                                        Asthma medication review    1106      3.40   42.03 |\n",
      "  |-------------------------------------------------------------------------------------------|\n",
      "  |                                          Exacerbation of asthma    1069      3.29   45.31 |\n",
      "  |                            Asthma never causes daytime symptoms    1049      3.22   48.53 |\n",
      "  |                                                asthma monitored     984      3.02   51.56 |\n",
      "  |                                     asthma never disturbs sleep     849      2.61   54.17 |\n",
      "  |                                               asthma management     830      2.55   56.72 |\n",
      "  |-------------------------------------------------------------------------------------------|\n",
      "  |                            asthma never causes daytime symptoms     708      2.18   58.89 |\n",
      "  |                                      asthma limiting activities     624      1.92   60.81 |\n",
      "  |                                 asthma never restricts exercise     582      1.79   62.60 |\n",
      "  |                                         asthma disturbing sleep     542      1.67   64.27 |\n",
      "  |                             asthma sometimes restricts exercise     490      1.51   65.77 |\n",
      "  |-------------------------------------------------------------------------------------------|\n",
      "  |           Asthma causes daytime symptoms 1 to 2 times per month     471      1.45   67.22 |\n",
      "  |                                         Asthma daytime symptoms     462      1.42   68.64 |\n",
      "  |                        Asthma causes daytime symptoms most days     451      1.39   70.02 |\n",
      "  |            Asthma causes daytime symptoms 1 to 2 times per week     401      1.23   71.26 |\n",
      "  |                                             Asthma control test     371      1.14   72.40 |\n",
      "  |-------------------------------------------------------------------------------------------|\n",
      "  |                                      Asthma monitoring by nurse     371      1.14   73.54 |\n",
      "  |                                        asthma medication review     364      1.12   74.66 |\n",
      "  |                     number of asthma exacerbations in past year     346      1.06   75.72 |\n",
      "  |                                    Asthma monitoring check done     343      1.05   76.77 |\n",
      "  |                                                Asthma follow-up     332      1.02   77.79 |\n",
      "  |-------------------------------------------------------------------------------------------|\n",
      "  |                                               asthma monitoring     316      0.97   78.76 |\n",
      "  |                     Number of asthma exacerbations in past year     304      0.93   79.70 |\n",
      "  |           asthma causes daytime symptoms 1 to 2 times per month     295      0.91   80.61 |\n",
      "  |                                         asthma daytime symptoms     285      0.88   81.48 |\n",
      "  |                                     Asthma monitoring by doctor     223      0.69   82.17 |\n",
      "  |-------------------------------------------------------------------------------------------|\n",
      "  |                                                asthma follow-up     222      0.68   82.85 |\n",
      "  |            asthma causes daytime symptoms 1 to 2 times per week     219      0.67   83.52 |\n",
      "  |                                           asthma control step 2     214      0.66   84.18 |\n",
      "  |                              Asthma never causes night symptoms     213      0.65   84.83 |\n",
      "  |                        asthma causes daytime symptoms most days     184      0.57   85.40 |\n",
      "  |-------------------------------------------------------------------------------------------|\n",
      "  |                              Asthma self-management plan agreed     181      0.56   85.96 |\n",
      "  |                        Asthma treatment compliance satisfactory     181      0.56   86.51 |\n",
      "  |       Asthma accident and emergency attendance since last visit     172      0.53   87.04 |\n",
      "  |                                           asthma control step 1     155      0.48   87.52 |\n",
      "  |                                           asthma control step 3     146      0.45   87.97 |\n",
      "  |-------------------------------------------------------------------------------------------|\n",
      "  |                                       asthma restricts exercise     142      0.44   88.40 |\n",
      "  |                                     asthma monitoring by doctor     139      0.43   88.83 |\n",
      "  |                                    acute exacerbation of asthma     133      0.41   89.24 |\n",
      "  |                                          Bronchitis unspecified     127      0.39   89.63 |\n",
      "  |                                     asthma causing night waking     123      0.38   90.01 |\n",
      "  |-------------------------------------------------------------------------------------------|\n",
      "  |                                asthma disturbs sleep frequently     110      0.34   90.34 |\n",
      "  |                          Asthma trigger - respiratory infection     104      0.32   90.66 |\n",
      "  |                                      asthma monitoring by nurse     101      0.31   90.97 |\n",
      "  |      Royal College Physician asthma assessment 3 question score      98      0.30   91.28 |\n",
      "  |               [D]Symptoms, signs and ill-defined conditions NOS      92      0.28   91.56 |\n",
      "  |-------------------------------------------------------------------------------------------|\n",
      "  |                                    chronic asthmatic bronchitis      92      0.28   91.84 |\n",
      "  |                                    asthma disturbs sleep weekly      91      0.28   92.12 |\n",
      "  |                              Asthma self-management plan review      90      0.28   92.40 |\n",
      "  |               Patient has a written asthma personal action plan      89      0.27   92.67 |\n",
      "  |                                       Asthma trigger - cold air      86      0.26   92.93 |\n",
      "  |-------------------------------------------------------------------------------------------|\n",
      "  |                                         exercise induced asthma      86      0.26   93.20 |\n",
      "  |                                               Asthma monitoring      81      0.25   93.45 |\n",
      "  |                                       Asthma trigger - exercise      78      0.24   93.69 |\n",
      "  |                                                 allergic asthma      78      0.24   93.93 |\n",
      "  |                                           hay fever with asthma      72      0.22   94.15 |\n",
      "  |-------------------------------------------------------------------------------------------|\n",
      "  |             Asthma causes night symptoms 1 to 2 times per month      67      0.21   94.35 |\n",
      "  |                                         Asthma trigger - pollen      62      0.19   94.55 |\n",
      "  |                        asthma treatment compliance satisfactory      62      0.19   94.74 |\n",
      "  |                                             allergic asthma nec      54      0.17   94.90 |\n",
      "  |         Asthma causes night time symptoms 1 to 2 times per week      53      0.16   95.06 |\n",
      "  |-------------------------------------------------------------------------------------------|\n",
      "  |                                       asthma - currently active      51      0.16   95.22 |\n",
      "  |                                      Asthma night-time symptoms      50      0.15   95.37 |\n",
      "  |                                       Asthma trigger - seasonal      49      0.15   95.53 |\n",
      "  |    Asthma review using Roy Colleg of Physicians three questions      48      0.15   95.67 |\n",
      "  |                                           Hay fever with asthma      48      0.15   95.82 |\n",
      "  |-------------------------------------------------------------------------------------------|\n",
      "  |                        Asthma limits walking up hills or stairs      47      0.14   95.96 |\n",
      "  |             emergency asthma patient visit since last encounter      46      0.14   96.11 |\n",
      "  |                                                      Asthma NOS      43      0.13   96.24 |\n",
      "  |                              Asthma causes symptoms most nights      43      0.13   96.37 |\n",
      "  |                                                     mild asthma      43      0.13   96.50 |\n",
      "  |-------------------------------------------------------------------------------------------|\n",
      "  |                                    Asthma control questionnaire      40      0.12   96.63 |\n",
      "  |                  Asthma limits activities 1 to 2 times per week      39      0.12   96.75 |\n",
      "  |                                         exercise-induced asthma      39      0.12   96.87 |\n",
      "  |                                       Asthma - currently active      36      0.11   96.98 |\n",
      "  |                        Step up change in asthma management plan      36      0.11   97.09 |\n",
      "  |-------------------------------------------------------------------------------------------|\n",
      "  |                                                 asthma severity      36      0.11   97.20 |\n",
      "  |                 Asthma limits activities 1 to 2 times per month      35      0.11   97.30 |\n",
      "  |                                        Asthma trigger - animals      35      0.11   97.41 |\n",
      "  |                                              asthma unspecified      35      0.11   97.52 |\n",
      "  |                              Asthma limits activities most days      34      0.10   97.62 |\n",
      "  |-------------------------------------------------------------------------------------------|\n",
      "  |                              asthma severely restricts exercise      32      0.10   97.72 |\n",
      "  |                                  Asthma trigger - airborne dust      28      0.09   97.81 |\n",
      "  |                                 Asthma clinical management plan      27      0.08   97.89 |\n",
      "  |                                           Asthma trigger - damp      26      0.08   97.97 |\n",
      "  |                   Royal College of Physicians asthma assessment      26      0.08   98.05 |\n",
      "  |-------------------------------------------------------------------------------------------|\n",
      "  |                                                intrinsic asthma      26      0.08   98.13 |\n",
      "  |                                        Asthma trigger - emotion      24      0.07   98.21 |\n",
      "  |                                  Asthma trigger - tobacco smoke      24      0.07   98.28 |\n",
      "  |                         emergency hospital admission for asthma      24      0.07   98.35 |\n",
      "  |                      Asthma treatment compliance unsatisfactory      22      0.07   98.42 |\n",
      "  |-------------------------------------------------------------------------------------------|\n",
      "  |                                       Asthma trigger - warm air      22      0.07   98.49 |\n",
      "  |                              asthma self-management plan agreed      22      0.07   98.56 |\n",
      "  |                                       asthma control test score      21      0.06   98.62 |\n",
      "  |                 emergency asthma admission since last encounter      21      0.06   98.68 |\n",
      "  |                                                 Allergic asthma      19      0.06   98.74 |\n",
      "  |-------------------------------------------------------------------------------------------|\n",
      "  |                                       attends asthma monitoring      19      0.06   98.80 |\n",
      "  |                       Health education - asthma self management      17      0.05   98.85 |\n",
      "  |                                               late onset asthma      17      0.05   98.91 |\n",
      "  |                                                   Asthma attack      16      0.05   98.96 |\n",
      "  |                      Step down change in asthma management plan      16      0.05   99.00 |\n",
      "  |-------------------------------------------------------------------------------------------|\n",
      "  |                               Asthma limits walking on the flat      15      0.05   99.05 |\n",
      "  |                                                   asthma attack      15      0.05   99.10 |\n",
      "  |             asthma causes night symptoms 1 to 2 times per month      15      0.05   99.14 |\n",
      "  |                                               Late onset asthma      14      0.04   99.19 |\n",
      "  |                                           asthma control step 4      13      0.04   99.23 |\n",
      "  |-------------------------------------------------------------------------------------------|\n",
      "  |                        Absent from work or school due to asthma      12      0.04   99.26 |\n",
      "  |                          asthma trigger - respiratory infection      12      0.04   99.30 |\n",
      "  |                                                Asthma confirmed      11      0.03   99.33 |\n",
      "  |                        asthma limits walking up hills or stairs      11      0.03   99.37 |\n",
      "  | asthma review using royal college of physicians three questions      11      0.03   99.40 |\n",
      "  |-------------------------------------------------------------------------------------------|\n",
      "  |                                       asthma trigger - seasonal      11      0.03   99.43 |\n",
      "  |                                                 moderate asthma      10      0.03   99.47 |\n",
      "  +-------------------------------------------------------------------------------------------+\n"
     ]
    }
   ],
   "source": [
    "set linesize 132\n",
    "groups description , select(f >= 10) ord(h) table "
   ]
  },
  {
   "cell_type": "markdown",
   "id": "7d01eb90-5ca1-4146-aafb-680a81450cc3",
   "metadata": {},
   "source": [
    "These tables holds one randomly selected prescrption during the observation period. The table is truncated to only include codes with a count of 10 or more.\n"
   ]
  },
  {
   "cell_type": "code",
   "execution_count": 6,
   "id": "a4acd83f-5b6a-49e7-8b49-5dc1f78f2d1a",
   "metadata": {},
   "outputs": [
    {
     "name": "stdout",
     "output_type": "stream",
     "text": [
      "\n",
      "  +----------------------------------------------------------+\n",
      "  |                      bnf_code   Freq.   Percent      %<= |\n",
      "  |----------------------------------------------------------|\n",
      "  |        Adrenoreceptor agonist   39308     60.29    60.29 |\n",
      "  |               Corticosteroids   17846     27.37    87.66 |\n",
      "  | Antimuscarinic Bronchodilator    3581      5.49    93.15 |\n",
      "  |                       Devices    2364      3.63    96.77 |\n",
      "  |       Compound bronchodilator     945      1.45    98.22 |\n",
      "  |----------------------------------------------------------|\n",
      "  |                 Other/unknown     683      1.05    99.27 |\n",
      "  |                  Theophylline     384      0.59    99.86 |\n",
      "  |   Topical nasal decongestance      91      0.14   100.00 |\n",
      "  +----------------------------------------------------------+\n"
     ]
    }
   ],
   "source": [
    "set linesize 132\n",
    "groups bnf_code , select(f >= 10) ord(h) table "
   ]
  },
  {
   "cell_type": "markdown",
   "id": "67837c2c-bbb5-4681-8000-cd8b3f6cac51",
   "metadata": {},
   "source": [
    "### Results\n",
    "#### Overall"
   ]
  },
  {
   "cell_type": "code",
   "execution_count": 7,
   "id": "733c0f2e-1179-49dc-b95d-48547a864674",
   "metadata": {},
   "outputs": [
    {
     "name": "stdout",
     "output_type": "stream",
     "text": [
      "\n",
      "           |         test\n",
      "      diag |      Pos.       Neg. |     Total\n",
      "-----------+----------------------+----------\n",
      "  Abnormal |    31,083      1,457 |    32,540 \n",
      "    Normal |    34,119    358,341 |   392,460 \n",
      "-----------+----------------------+----------\n",
      "     Total |    65,202    359,798 |   425,000 \n",
      "True abnormal diagnosis defined as diag = 1\n",
      "\n",
      "\n",
      "                                                  [95% Confidence Interval]\n",
      "---------------------------------------------------------------------------\n",
      "Prevalence                         Pr(A)      7.7%      7.6%       7.7%\n",
      "---------------------------------------------------------------------------\n",
      "Sensitivity                      Pr(+|A)     95.5%     95.3%     95.7%\n",
      "Specificity                      Pr(-|N)     91.3%     91.2%     91.4%\n",
      "ROC area               (Sens. + Spec.)/2      0.93      0.93      0.94 \n",
      "---------------------------------------------------------------------------\n",
      "Likelihood ratio (+)     Pr(+|A)/Pr(+|N)     10.99     10.87     11.10 \n",
      "Likelihood ratio (-)     Pr(-|A)/Pr(-|N)      0.05      0.05      0.05 \n",
      "Odds ratio                   LR(+)/LR(-)    224.06    212.35    236.42 \n",
      "Positive predictive value        Pr(A|+)     47.7%     47.3%     48.1% \n",
      "Negative predictive value        Pr(N|-)     99.6%     99.6%     99.6% \n",
      "---------------------------------------------------------------------------\n"
     ]
    }
   ],
   "source": [
    "diagt diag test"
   ]
  },
  {
   "cell_type": "markdown",
   "id": "b119ffa3-90d8-4e4f-9f8d-30cca2284b37",
   "metadata": {},
   "source": [
    "#### Males"
   ]
  },
  {
   "cell_type": "code",
   "execution_count": 8,
   "id": "81028f5e-4e7a-4bb4-b0f6-71d8d0821075",
   "metadata": {},
   "outputs": [
    {
     "name": "stdout",
     "output_type": "stream",
     "text": [
      "\n",
      "           |         test\n",
      "      diag |      Pos.       Neg. |     Total\n",
      "-----------+----------------------+----------\n",
      "  Abnormal |    12,978        679 |    13,657 \n",
      "    Normal |    15,709    178,919 |   194,628 \n",
      "-----------+----------------------+----------\n",
      "     Total |    28,687    179,598 |   208,285 \n",
      "True abnormal diagnosis defined as diag = 1\n",
      "\n",
      "\n",
      "                                                  [95% Confidence Interval]\n",
      "---------------------------------------------------------------------------\n",
      "Prevalence                         Pr(A)      6.6%      6.5%       6.7%\n",
      "---------------------------------------------------------------------------\n",
      "Sensitivity                      Pr(+|A)     95.0%     94.7%     95.4%\n",
      "Specificity                      Pr(-|N)     91.9%     91.8%     92.0%\n",
      "ROC area               (Sens. + Spec.)/2      0.93      0.93      0.94 \n",
      "---------------------------------------------------------------------------\n",
      "Likelihood ratio (+)     Pr(+|A)/Pr(+|N)     11.77     11.59     11.96 \n",
      "Likelihood ratio (-)     Pr(-|A)/Pr(-|N)      0.05      0.05      0.06 \n",
      "Odds ratio                   LR(+)/LR(-)    217.69    201.19    235.55 \n",
      "Positive predictive value        Pr(A|+)     45.2%     44.7%     45.8% \n",
      "Negative predictive value        Pr(N|-)     99.6%     99.6%     99.6% \n",
      "---------------------------------------------------------------------------\n"
     ]
    }
   ],
   "source": [
    "diagt diag test if sex==1"
   ]
  },
  {
   "cell_type": "markdown",
   "id": "762df1ac-de32-43e9-8cb3-6696c91e2459",
   "metadata": {},
   "source": [
    "#### Females"
   ]
  },
  {
   "cell_type": "code",
   "execution_count": 9,
   "id": "7fc985e3-7757-4908-ae5a-5d346ee7ccb6",
   "metadata": {},
   "outputs": [
    {
     "name": "stdout",
     "output_type": "stream",
     "text": [
      "\n",
      "           |         test\n",
      "      diag |      Pos.       Neg. |     Total\n",
      "-----------+----------------------+----------\n",
      "  Abnormal |    18,105        778 |    18,883 \n",
      "    Normal |    18,409    179,414 |   197,823 \n",
      "-----------+----------------------+----------\n",
      "     Total |    36,514    180,192 |   216,706 \n",
      "True abnormal diagnosis defined as diag = 1\n",
      "\n",
      "\n",
      "                                                  [95% Confidence Interval]\n",
      "---------------------------------------------------------------------------\n",
      "Prevalence                         Pr(A)      8.7%      8.6%       8.8%\n",
      "---------------------------------------------------------------------------\n",
      "Sensitivity                      Pr(+|A)     95.9%     95.6%     96.2%\n",
      "Specificity                      Pr(-|N)     90.7%     90.6%     90.8%\n",
      "ROC area               (Sens. + Spec.)/2      0.93      0.93      0.93 \n",
      "---------------------------------------------------------------------------\n",
      "Likelihood ratio (+)     Pr(+|A)/Pr(+|N)     10.30     10.16     10.45 \n",
      "Likelihood ratio (-)     Pr(-|A)/Pr(-|N)      0.05      0.04      0.05 \n",
      "Odds ratio                   LR(+)/LR(-)    226.80    210.76    244.06 \n",
      "Positive predictive value        Pr(A|+)     49.6%     49.1%     50.1% \n",
      "Negative predictive value        Pr(N|-)     99.6%     99.5%     99.6% \n",
      "---------------------------------------------------------------------------\n"
     ]
    }
   ],
   "source": [
    "diagt diag test if sex==0"
   ]
  },
  {
   "cell_type": "markdown",
   "id": "ab8954a7-060c-4eba-adea-1044fb6bb9ea",
   "metadata": {},
   "source": [
    "#### Age\n",
    "*16-29*"
   ]
  },
  {
   "cell_type": "code",
   "execution_count": 10,
   "id": "f9aa943b-6489-4d70-a905-4aa3b8f2cb6e",
   "metadata": {},
   "outputs": [
    {
     "name": "stdout",
     "output_type": "stream",
     "text": [
      "\n",
      "           |         test\n",
      "      diag |      Pos.       Neg. |     Total\n",
      "-----------+----------------------+----------\n",
      "  Abnormal |     6,859        506 |     7,365 \n",
      "    Normal |     5,291    105,018 |   110,309 \n",
      "-----------+----------------------+----------\n",
      "     Total |    12,150    105,524 |   117,674 \n",
      "True abnormal diagnosis defined as diag = 1\n",
      "\n",
      "\n",
      "                                                  [95% Confidence Interval]\n",
      "---------------------------------------------------------------------------\n",
      "Prevalence                         Pr(A)      6.3%      6.1%       6.4%\n",
      "---------------------------------------------------------------------------\n",
      "Sensitivity                      Pr(+|A)     93.1%     92.5%     93.7%\n",
      "Specificity                      Pr(-|N)     95.2%     95.1%     95.3%\n",
      "ROC area               (Sens. + Spec.)/2      0.94      0.94      0.94 \n",
      "---------------------------------------------------------------------------\n",
      "Likelihood ratio (+)     Pr(+|A)/Pr(+|N)     19.42     18.90     19.95 \n",
      "Likelihood ratio (-)     Pr(-|A)/Pr(-|N)      0.07      0.07      0.08 \n",
      "Odds ratio                   LR(+)/LR(-)    269.05    244.82    295.68 \n",
      "Positive predictive value        Pr(A|+)     56.5%     55.6%     57.3% \n",
      "Negative predictive value        Pr(N|-)     99.5%     99.5%     99.6% \n",
      "---------------------------------------------------------------------------\n"
     ]
    }
   ],
   "source": [
    "diagt diag test if agecat==16"
   ]
  },
  {
   "cell_type": "markdown",
   "id": "999f9154-f87e-44c7-8928-1345fa5c5958",
   "metadata": {},
   "source": [
    "*30-69*"
   ]
  },
  {
   "cell_type": "code",
   "execution_count": 11,
   "id": "6fcb0167-b359-4f24-91e3-a10fb2caa610",
   "metadata": {},
   "outputs": [
    {
     "name": "stdout",
     "output_type": "stream",
     "text": [
      "\n",
      "           |         test\n",
      "      diag |      Pos.       Neg. |     Total\n",
      "-----------+----------------------+----------\n",
      "  Abnormal |    17,027        666 |    17,693 \n",
      "    Normal |    16,502    187,200 |   203,702 \n",
      "-----------+----------------------+----------\n",
      "     Total |    33,529    187,866 |   221,395 \n",
      "True abnormal diagnosis defined as diag = 1\n",
      "\n",
      "\n",
      "                                                  [95% Confidence Interval]\n",
      "---------------------------------------------------------------------------\n",
      "Prevalence                         Pr(A)      8.0%      7.9%       8.1%\n",
      "---------------------------------------------------------------------------\n",
      "Sensitivity                      Pr(+|A)     96.2%     95.9%     96.5%\n",
      "Specificity                      Pr(-|N)     91.9%     91.8%     92.0%\n",
      "ROC area               (Sens. + Spec.)/2      0.94      0.94      0.94 \n",
      "---------------------------------------------------------------------------\n",
      "Likelihood ratio (+)     Pr(+|A)/Pr(+|N)     11.88     11.70     12.06 \n",
      "Likelihood ratio (-)     Pr(-|A)/Pr(-|N)      0.04      0.04      0.04 \n",
      "Odds ratio                   LR(+)/LR(-)    290.02    267.99    313.87 \n",
      "Positive predictive value        Pr(A|+)     50.8%     50.2%     51.3% \n",
      "Negative predictive value        Pr(N|-)     99.6%     99.6%     99.7% \n",
      "---------------------------------------------------------------------------\n"
     ]
    }
   ],
   "source": [
    "diagt diag test if agecat==30"
   ]
  },
  {
   "cell_type": "code",
   "execution_count": 12,
   "id": "fd782079-4378-4cc3-9a2c-4adb92379d41",
   "metadata": {},
   "outputs": [
    {
     "name": "stdout",
     "output_type": "stream",
     "text": [
      "\n",
      "           |         test\n",
      "      diag |      Pos.       Neg. |     Total\n",
      "-----------+----------------------+----------\n",
      "  Abnormal |     7,197        285 |     7,482 \n",
      "    Normal |    12,326     66,123 |    78,449 \n",
      "-----------+----------------------+----------\n",
      "     Total |    19,523     66,408 |    85,931 \n",
      "True abnormal diagnosis defined as diag = 1\n",
      "\n",
      "\n",
      "                                                  [95% Confidence Interval]\n",
      "---------------------------------------------------------------------------\n",
      "Prevalence                         Pr(A)      8.7%      8.5%       8.9%\n",
      "---------------------------------------------------------------------------\n",
      "Sensitivity                      Pr(+|A)     96.2%     95.7%     96.6%\n",
      "Specificity                      Pr(-|N)     84.3%     84.0%     84.5%\n",
      "ROC area               (Sens. + Spec.)/2      0.90      0.90      0.90 \n",
      "---------------------------------------------------------------------------\n",
      "Likelihood ratio (+)     Pr(+|A)/Pr(+|N)      6.12      6.02      6.23 \n",
      "Likelihood ratio (-)     Pr(-|A)/Pr(-|N)      0.05      0.04      0.05 \n",
      "Odds ratio                   LR(+)/LR(-)    135.47    120.17    152.72 \n",
      "Positive predictive value        Pr(A|+)     36.9%     36.2%     37.5% \n",
      "Negative predictive value        Pr(N|-)     99.6%     99.5%     99.6% \n",
      "---------------------------------------------------------------------------\n"
     ]
    }
   ],
   "source": [
    "diagt diag test if agecat==70"
   ]
  },
  {
   "cell_type": "markdown",
   "id": "23455479-0f98-4886-a36c-770376084911",
   "metadata": {},
   "source": [
    "#### Year at start of oberservation period \n",
    "*2004-2009*"
   ]
  },
  {
   "cell_type": "code",
   "execution_count": 13,
   "id": "9c58ecee-bd42-47a9-ad46-f51305e689bf",
   "metadata": {},
   "outputs": [
    {
     "name": "stdout",
     "output_type": "stream",
     "text": [
      "\n",
      "           |         test\n",
      "      diag |      Pos.       Neg. |     Total\n",
      "-----------+----------------------+----------\n",
      "  Abnormal |    11,577        538 |    12,115 \n",
      "    Normal |    12,797    125,088 |   137,885 \n",
      "-----------+----------------------+----------\n",
      "     Total |    24,374    125,626 |   150,000 \n",
      "True abnormal diagnosis defined as diag = 1\n",
      "\n",
      "\n",
      "                                                  [95% Confidence Interval]\n",
      "---------------------------------------------------------------------------\n",
      "Prevalence                         Pr(A)      8.1%      7.9%       8.2%\n",
      "---------------------------------------------------------------------------\n",
      "Sensitivity                      Pr(+|A)     95.6%     95.2%     95.9%\n",
      "Specificity                      Pr(-|N)     90.7%     90.6%     90.9%\n",
      "ROC area               (Sens. + Spec.)/2      0.93      0.93      0.93 \n",
      "---------------------------------------------------------------------------\n",
      "Likelihood ratio (+)     Pr(+|A)/Pr(+|N)     10.30     10.12     10.47 \n",
      "Likelihood ratio (-)     Pr(-|A)/Pr(-|N)      0.05      0.05      0.05 \n",
      "Odds ratio                   LR(+)/LR(-)    210.34    192.56    229.76 \n",
      "Positive predictive value        Pr(A|+)     47.5%     46.9%     48.1% \n",
      "Negative predictive value        Pr(N|-)     99.6%     99.5%     99.6% \n",
      "---------------------------------------------------------------------------\n"
     ]
    }
   ],
   "source": [
    "diagt diag test if yearcat==2004"
   ]
  },
  {
   "cell_type": "markdown",
   "id": "d9f3db50-6898-4b47-81ef-4ea609bb28d8",
   "metadata": {},
   "source": [
    "*2010-2015*"
   ]
  },
  {
   "cell_type": "code",
   "execution_count": 14,
   "id": "6b326410-d900-498f-b736-4ced1ea7fa5d",
   "metadata": {},
   "outputs": [
    {
     "name": "stdout",
     "output_type": "stream",
     "text": [
      "\n",
      "           |         test\n",
      "      diag |      Pos.       Neg. |     Total\n",
      "-----------+----------------------+----------\n",
      "  Abnormal |    10,763        536 |    11,299 \n",
      "    Normal |    12,325    126,376 |   138,701 \n",
      "-----------+----------------------+----------\n",
      "     Total |    23,088    126,912 |   150,000 \n",
      "True abnormal diagnosis defined as diag = 1\n",
      "\n",
      "\n",
      "                                                  [95% Confidence Interval]\n",
      "---------------------------------------------------------------------------\n",
      "Prevalence                         Pr(A)      7.5%      7.4%       7.7%\n",
      "---------------------------------------------------------------------------\n",
      "Sensitivity                      Pr(+|A)     95.3%     94.8%     95.6%\n",
      "Specificity                      Pr(-|N)     91.1%     91.0%     91.3%\n",
      "ROC area               (Sens. + Spec.)/2      0.93      0.93      0.93 \n",
      "---------------------------------------------------------------------------\n",
      "Likelihood ratio (+)     Pr(+|A)/Pr(+|N)     10.72     10.54     10.91 \n",
      "Likelihood ratio (-)     Pr(-|A)/Pr(-|N)      0.05      0.05      0.06 \n",
      "Odds ratio                   LR(+)/LR(-)    205.90    188.43    224.98 \n",
      "Positive predictive value        Pr(A|+)     46.6%     46.0%     47.3% \n",
      "Negative predictive value        Pr(N|-)     99.6%     99.5%     99.6% \n",
      "---------------------------------------------------------------------------\n"
     ]
    }
   ],
   "source": [
    "diagt diag test if yearcat==2010"
   ]
  },
  {
   "cell_type": "markdown",
   "id": "1546a4d9-adee-4208-88e0-3b6aa4d3d14c",
   "metadata": {},
   "source": [
    "*2016-2020*"
   ]
  },
  {
   "cell_type": "code",
   "execution_count": 15,
   "id": "dddfe5ba-1a16-4afc-91e5-cbffb4f25b77",
   "metadata": {},
   "outputs": [
    {
     "name": "stdout",
     "output_type": "stream",
     "text": [
      "\n",
      "           |         test\n",
      "      diag |      Pos.       Neg. |     Total\n",
      "-----------+----------------------+----------\n",
      "  Abnormal |     8,743        383 |     9,126 \n",
      "    Normal |     8,997    106,877 |   115,874 \n",
      "-----------+----------------------+----------\n",
      "     Total |    17,740    107,260 |   125,000 \n",
      "True abnormal diagnosis defined as diag = 1\n",
      "\n",
      "\n",
      "                                                  [95% Confidence Interval]\n",
      "---------------------------------------------------------------------------\n",
      "Prevalence                         Pr(A)      7.3%      7.2%       7.4%\n",
      "---------------------------------------------------------------------------\n",
      "Sensitivity                      Pr(+|A)     95.8%     95.4%     96.2%\n",
      "Specificity                      Pr(-|N)     92.2%     92.1%     92.4%\n",
      "ROC area               (Sens. + Spec.)/2      0.94      0.94      0.94 \n",
      "---------------------------------------------------------------------------\n",
      "Likelihood ratio (+)     Pr(+|A)/Pr(+|N)     12.34     12.09     12.59 \n",
      "Likelihood ratio (-)     Pr(-|A)/Pr(-|N)      0.05      0.04      0.05 \n",
      "Odds ratio                   LR(+)/LR(-)    271.17    244.26    301.05 \n",
      "Positive predictive value        Pr(A|+)     49.3%     48.5%     50.0% \n",
      "Negative predictive value        Pr(N|-)     99.6%     99.6%     99.7% \n",
      "---------------------------------------------------------------------------\n"
     ]
    }
   ],
   "source": [
    "diagt diag test if yearcat==2016"
   ]
  },
  {
   "cell_type": "markdown",
   "id": "9318e823-cf06-4695-a86c-8b96ace454c5",
   "metadata": {},
   "source": [
    "#### IMD of practice\n",
    "*1-3*"
   ]
  },
  {
   "cell_type": "code",
   "execution_count": 16,
   "id": "0c48ed3a-ce83-4c14-9447-6c52d4d82ed3",
   "metadata": {},
   "outputs": [
    {
     "name": "stdout",
     "output_type": "stream",
     "text": [
      "\n",
      "           |         test\n",
      "      diag |      Pos.       Neg. |     Total\n",
      "-----------+----------------------+----------\n",
      "  Abnormal |    10,903        584 |    11,487 \n",
      "    Normal |    12,906    130,158 |   143,064 \n",
      "-----------+----------------------+----------\n",
      "     Total |    23,809    130,742 |   154,551 \n",
      "True abnormal diagnosis defined as diag = 1\n",
      "\n",
      "\n",
      "                                                  [95% Confidence Interval]\n",
      "---------------------------------------------------------------------------\n",
      "Prevalence                         Pr(A)      7.4%      7.3%       7.6%\n",
      "---------------------------------------------------------------------------\n",
      "Sensitivity                      Pr(+|A)     94.9%     94.5%     95.3%\n",
      "Specificity                      Pr(-|N)     91.0%     90.8%     91.1%\n",
      "ROC area               (Sens. + Spec.)/2      0.93      0.93      0.93 \n",
      "---------------------------------------------------------------------------\n",
      "Likelihood ratio (+)     Pr(+|A)/Pr(+|N)     10.52     10.34     10.70 \n",
      "Likelihood ratio (-)     Pr(-|A)/Pr(-|N)      0.06      0.05      0.06 \n",
      "Odds ratio                   LR(+)/LR(-)    188.28    172.91    205.02 \n",
      "Positive predictive value        Pr(A|+)     45.8%     45.2%     46.4% \n",
      "Negative predictive value        Pr(N|-)     99.6%     99.5%     99.6% \n",
      "---------------------------------------------------------------------------\n"
     ]
    }
   ],
   "source": [
    "diagt diag test if imdcat==0"
   ]
  },
  {
   "cell_type": "markdown",
   "id": "cc20d8e3-26a9-4217-989b-54c2c73d0386",
   "metadata": {},
   "source": [
    "*4-7*"
   ]
  },
  {
   "cell_type": "code",
   "execution_count": 17,
   "id": "2f034372-ceb8-4f41-bd39-9d6ef321a64a",
   "metadata": {},
   "outputs": [
    {
     "name": "stdout",
     "output_type": "stream",
     "text": [
      "\n",
      "           |         test\n",
      "      diag |      Pos.       Neg. |     Total\n",
      "-----------+----------------------+----------\n",
      "  Abnormal |    11,099        443 |    11,542 \n",
      "    Normal |    11,724    119,779 |   131,503 \n",
      "-----------+----------------------+----------\n",
      "     Total |    22,823    120,222 |   143,045 \n",
      "True abnormal diagnosis defined as diag = 1\n",
      "\n",
      "\n",
      "                                                  [95% Confidence Interval]\n",
      "---------------------------------------------------------------------------\n",
      "Prevalence                         Pr(A)      8.1%      7.9%       8.2%\n",
      "---------------------------------------------------------------------------\n",
      "Sensitivity                      Pr(+|A)     96.2%     95.8%     96.5%\n",
      "Specificity                      Pr(-|N)     91.1%     90.9%     91.2%\n",
      "ROC area               (Sens. + Spec.)/2      0.94      0.93      0.94 \n",
      "---------------------------------------------------------------------------\n",
      "Likelihood ratio (+)     Pr(+|A)/Pr(+|N)     10.79     10.60     10.98 \n",
      "Likelihood ratio (-)     Pr(-|A)/Pr(-|N)      0.04      0.04      0.05 \n",
      "Odds ratio                   LR(+)/LR(-)    255.97    232.35    281.98 \n",
      "Positive predictive value        Pr(A|+)     48.6%     48.0%     49.3% \n",
      "Negative predictive value        Pr(N|-)     99.6%     99.6%     99.7% \n",
      "---------------------------------------------------------------------------\n"
     ]
    }
   ],
   "source": [
    "diagt diag test if imdcat==4"
   ]
  },
  {
   "cell_type": "markdown",
   "id": "a843bc14-ff1a-4435-a50c-c9769b8c3d3b",
   "metadata": {},
   "source": [
    "*8-10*"
   ]
  },
  {
   "cell_type": "code",
   "execution_count": 18,
   "id": "e52a500d-f3cf-4da6-997c-bbc1e902d199",
   "metadata": {},
   "outputs": [
    {
     "name": "stdout",
     "output_type": "stream",
     "text": [
      "\n",
      "           |         test\n",
      "      diag |      Pos.       Neg. |     Total\n",
      "-----------+----------------------+----------\n",
      "  Abnormal |     8,955        422 |     9,377 \n",
      "    Normal |     9,394    106,044 |   115,438 \n",
      "-----------+----------------------+----------\n",
      "     Total |    18,349    106,466 |   124,815 \n",
      "True abnormal diagnosis defined as diag = 1\n",
      "\n",
      "\n",
      "                                                  [95% Confidence Interval]\n",
      "---------------------------------------------------------------------------\n",
      "Prevalence                         Pr(A)      7.5%      7.4%       7.7%\n",
      "---------------------------------------------------------------------------\n",
      "Sensitivity                      Pr(+|A)     95.5%     95.1%     95.9%\n",
      "Specificity                      Pr(-|N)     91.9%     91.7%     92.0%\n",
      "ROC area               (Sens. + Spec.)/2      0.94      0.93      0.94 \n",
      "---------------------------------------------------------------------------\n",
      "Likelihood ratio (+)     Pr(+|A)/Pr(+|N)     11.74     11.50     11.97 \n",
      "Likelihood ratio (-)     Pr(-|A)/Pr(-|N)      0.05      0.04      0.05 \n",
      "Odds ratio                   LR(+)/LR(-)    239.55    216.78    264.70 \n",
      "Positive predictive value        Pr(A|+)     48.8%     48.1%     49.5% \n",
      "Negative predictive value        Pr(N|-)     99.6%     99.6%     99.6% \n",
      "---------------------------------------------------------------------------\n"
     ]
    }
   ],
   "source": [
    "diagt diag test if imdcat==8"
   ]
  },
  {
   "cell_type": "markdown",
   "id": "cbbde183-5b60-4618-a548-81135cae76a0",
   "metadata": {},
   "source": [
    "#### Commissioning Regions\n",
    "EAST OF ENGLAND"
   ]
  },
  {
   "cell_type": "code",
   "execution_count": 19,
   "id": "1254da50-3ca4-47a1-b4d8-e07c6d920177",
   "metadata": {},
   "outputs": [
    {
     "name": "stdout",
     "output_type": "stream",
     "text": [
      "\n",
      "           |         test\n",
      "      diag |      Pos.       Neg. |     Total\n",
      "-----------+----------------------+----------\n",
      "  Abnormal |     7,241        325 |     7,566 \n",
      "    Normal |     8,077     73,994 |    82,071 \n",
      "-----------+----------------------+----------\n",
      "     Total |    15,318     74,319 |    89,637 \n",
      "True abnormal diagnosis defined as diag = 1\n",
      "\n",
      "\n",
      "                                                  [95% Confidence Interval]\n",
      "---------------------------------------------------------------------------\n",
      "Prevalence                         Pr(A)      8.4%      8.3%       8.6%\n",
      "---------------------------------------------------------------------------\n",
      "Sensitivity                      Pr(+|A)     95.7%     95.2%     96.2%\n",
      "Specificity                      Pr(-|N)     90.2%     90.0%     90.4%\n",
      "ROC area               (Sens. + Spec.)/2      0.93      0.93      0.93 \n",
      "---------------------------------------------------------------------------\n",
      "Likelihood ratio (+)     Pr(+|A)/Pr(+|N)      9.72      9.52      9.93 \n",
      "Likelihood ratio (-)     Pr(-|A)/Pr(-|N)      0.05      0.04      0.05 \n",
      "Odds ratio                   LR(+)/LR(-)    204.11    182.22    228.62 \n",
      "Positive predictive value        Pr(A|+)     47.3%     46.5%     48.1% \n",
      "Negative predictive value        Pr(N|-)     99.6%     99.5%     99.6% \n",
      "---------------------------------------------------------------------------\n"
     ]
    }
   ],
   "source": [
    "diagt diag test if regexm(region_name,\"ENGLAND\")==1"
   ]
  },
  {
   "cell_type": "markdown",
   "id": "b2f2b2c7-4c3b-4ae5-ad03-8edfbc58938d",
   "metadata": {},
   "source": [
    "London"
   ]
  },
  {
   "cell_type": "code",
   "execution_count": 20,
   "id": "18195511-cedc-42b1-8bae-bc6621364814",
   "metadata": {},
   "outputs": [
    {
     "name": "stdout",
     "output_type": "stream",
     "text": [
      "\n",
      "           |         test\n",
      "      diag |      Pos.       Neg. |     Total\n",
      "-----------+----------------------+----------\n",
      "  Abnormal |       976         65 |     1,041 \n",
      "    Normal |       843     14,841 |    15,684 \n",
      "-----------+----------------------+----------\n",
      "     Total |     1,819     14,906 |    16,725 \n",
      "True abnormal diagnosis defined as diag = 1\n",
      "\n",
      "\n",
      "                                                  [95% Confidence Interval]\n",
      "---------------------------------------------------------------------------\n",
      "Prevalence                         Pr(A)      6.2%      5.9%       6.6%\n",
      "---------------------------------------------------------------------------\n",
      "Sensitivity                      Pr(+|A)     93.8%     92.1%     95.1%\n",
      "Specificity                      Pr(-|N)     94.6%     94.3%     95.0%\n",
      "ROC area               (Sens. + Spec.)/2      0.94      0.93      0.95 \n",
      "---------------------------------------------------------------------------\n",
      "Likelihood ratio (+)     Pr(+|A)/Pr(+|N)     17.44     16.30     18.66 \n",
      "Likelihood ratio (-)     Pr(-|A)/Pr(-|N)      0.07      0.05      0.08 \n",
      "Odds ratio                   LR(+)/LR(-)    264.35    203.86    342.77 \n",
      "Positive predictive value        Pr(A|+)     53.7%     51.3%     56.0% \n",
      "Negative predictive value        Pr(N|-)     99.6%     99.4%     99.7% \n",
      "---------------------------------------------------------------------------\n"
     ]
    }
   ],
   "source": [
    "diagt diag test if regexm(region_name,\"LONDON\")==1"
   ]
  },
  {
   "cell_type": "markdown",
   "id": "1a78f370-7ebd-4e70-b301-73c6e75003fd",
   "metadata": {},
   "source": [
    "Midlands"
   ]
  },
  {
   "cell_type": "code",
   "execution_count": 21,
   "id": "265ce394-6410-4e76-a064-ec3d32c30eee",
   "metadata": {},
   "outputs": [
    {
     "name": "stdout",
     "output_type": "stream",
     "text": [
      "\n",
      "           |         test\n",
      "      diag |      Pos.       Neg. |     Total\n",
      "-----------+----------------------+----------\n",
      "  Abnormal |     3,833        182 |     4,015 \n",
      "    Normal |     4,343     38,185 |    42,528 \n",
      "-----------+----------------------+----------\n",
      "     Total |     8,176     38,367 |    46,543 \n",
      "True abnormal diagnosis defined as diag = 1\n",
      "\n",
      "\n",
      "                                                  [95% Confidence Interval]\n",
      "---------------------------------------------------------------------------\n",
      "Prevalence                         Pr(A)      8.6%      8.4%       8.9%\n",
      "---------------------------------------------------------------------------\n",
      "Sensitivity                      Pr(+|A)     95.5%     94.8%     96.1%\n",
      "Specificity                      Pr(-|N)     89.8%     89.5%     90.1%\n",
      "ROC area               (Sens. + Spec.)/2      0.93      0.92      0.93 \n",
      "---------------------------------------------------------------------------\n",
      "Likelihood ratio (+)     Pr(+|A)/Pr(+|N)      9.35      9.08      9.62 \n",
      "Likelihood ratio (-)     Pr(-|A)/Pr(-|N)      0.05      0.04      0.06 \n",
      "Odds ratio                   LR(+)/LR(-)    185.17    159.09    215.53 \n",
      "Positive predictive value        Pr(A|+)     46.9%     45.8%     48.0% \n",
      "Negative predictive value        Pr(N|-)     99.5%     99.5%     99.6% \n",
      "---------------------------------------------------------------------------\n"
     ]
    }
   ],
   "source": [
    "diagt diag test if regexm(region_name,\"MID\")==1"
   ]
  },
  {
   "cell_type": "markdown",
   "id": "0769a779-b7ae-4496-9ed2-a6feb1a1a94a",
   "metadata": {},
   "source": [
    "Yorkshire"
   ]
  },
  {
   "cell_type": "code",
   "execution_count": 22,
   "id": "83d73532-38e7-4fb2-a39b-5c1ef1b5b717",
   "metadata": {},
   "outputs": [
    {
     "name": "stdout",
     "output_type": "stream",
     "text": [
      "\n",
      "           |         test\n",
      "      diag |      Pos.       Neg. |     Total\n",
      "-----------+----------------------+----------\n",
      "  Abnormal |     6,099        222 |     6,321 \n",
      "    Normal |     7,030     72,760 |    79,790 \n",
      "-----------+----------------------+----------\n",
      "     Total |    13,129     72,982 |    86,111 \n",
      "True abnormal diagnosis defined as diag = 1\n",
      "\n",
      "\n",
      "                                                  [95% Confidence Interval]\n",
      "---------------------------------------------------------------------------\n",
      "Prevalence                         Pr(A)      7.3%      7.2%       7.5%\n",
      "---------------------------------------------------------------------------\n",
      "Sensitivity                      Pr(+|A)     96.5%     96.0%     96.9%\n",
      "Specificity                      Pr(-|N)     91.2%     91.0%     91.4%\n",
      "ROC area               (Sens. + Spec.)/2      0.94      0.94      0.94 \n",
      "---------------------------------------------------------------------------\n",
      "Likelihood ratio (+)     Pr(+|A)/Pr(+|N)     10.95     10.70     11.20 \n",
      "Likelihood ratio (-)     Pr(-|A)/Pr(-|N)      0.04      0.03      0.04 \n",
      "Odds ratio                   LR(+)/LR(-)    284.34    248.18    325.78 \n",
      "Positive predictive value        Pr(A|+)     46.5%     45.6%     47.3% \n",
      "Negative predictive value        Pr(N|-)     99.7%     99.7%     99.7% \n",
      "---------------------------------------------------------------------------\n"
     ]
    }
   ],
   "source": [
    "diagt diag test if regexm(region_name,\"YORK\")==1"
   ]
  },
  {
   "cell_type": "markdown",
   "id": "247339ad-15c3-4ac2-9458-c8b14082ff8c",
   "metadata": {},
   "source": [
    "North West"
   ]
  },
  {
   "cell_type": "code",
   "execution_count": 23,
   "id": "f9ddd2b2-2aa8-49c0-8d9b-ac27a3db55be",
   "metadata": {},
   "outputs": [
    {
     "name": "stdout",
     "output_type": "stream",
     "text": [
      "\n",
      "           |         test\n",
      "      diag |      Pos.       Neg. |     Total\n",
      "-----------+----------------------+----------\n",
      "  Abnormal |     3,438        194 |     3,632 \n",
      "    Normal |     3,514     40,447 |    43,961 \n",
      "-----------+----------------------+----------\n",
      "     Total |     6,952     40,641 |    47,593 \n",
      "True abnormal diagnosis defined as diag = 1\n",
      "\n",
      "\n",
      "                                                  [95% Confidence Interval]\n",
      "---------------------------------------------------------------------------\n",
      "Prevalence                         Pr(A)      7.6%      7.4%       7.9%\n",
      "---------------------------------------------------------------------------\n",
      "Sensitivity                      Pr(+|A)     94.7%     93.9%     95.4%\n",
      "Specificity                      Pr(-|N)     92.0%     91.7%     92.3%\n",
      "ROC area               (Sens. + Spec.)/2      0.93      0.93      0.94 \n",
      "---------------------------------------------------------------------------\n",
      "Likelihood ratio (+)     Pr(+|A)/Pr(+|N)     11.84     11.46     12.23 \n",
      "Likelihood ratio (-)     Pr(-|A)/Pr(-|N)      0.06      0.05      0.07 \n",
      "Odds ratio                   LR(+)/LR(-)    203.98    175.82    236.65 \n",
      "Positive predictive value        Pr(A|+)     49.5%     48.3%     50.6% \n",
      "Negative predictive value        Pr(N|-)     99.5%     99.5%     99.6% \n",
      "---------------------------------------------------------------------------\n"
     ]
    }
   ],
   "source": [
    "diagt diag test if regexm(region_name,\"NORTH\")==1 & regexm(region_name,\"WEST\")==1"
   ]
  },
  {
   "cell_type": "markdown",
   "id": "cac4bda2-216c-4294-ab6d-5338aa93d23c",
   "metadata": {},
   "source": [
    "South East"
   ]
  },
  {
   "cell_type": "code",
   "execution_count": 24,
   "id": "883a5bf4-de79-4ba9-9bb2-95f85e3bccb3",
   "metadata": {},
   "outputs": [
    {
     "name": "stdout",
     "output_type": "stream",
     "text": [
      "\n",
      "           |         test\n",
      "      diag |      Pos.       Neg. |     Total\n",
      "-----------+----------------------+----------\n",
      "  Abnormal |     5,816        282 |     6,098 \n",
      "    Normal |     6,358     78,029 |    84,387 \n",
      "-----------+----------------------+----------\n",
      "     Total |    12,174     78,311 |    90,485 \n",
      "True abnormal diagnosis defined as diag = 1\n",
      "\n",
      "\n",
      "                                                  [95% Confidence Interval]\n",
      "---------------------------------------------------------------------------\n",
      "Prevalence                         Pr(A)      6.7%      6.6%       6.9%\n",
      "---------------------------------------------------------------------------\n",
      "Sensitivity                      Pr(+|A)     95.4%     94.8%     95.9%\n",
      "Specificity                      Pr(-|N)     92.5%     92.3%     92.6%\n",
      "ROC area               (Sens. + Spec.)/2      0.94      0.94      0.94 \n",
      "---------------------------------------------------------------------------\n",
      "Likelihood ratio (+)     Pr(+|A)/Pr(+|N)     12.66     12.36     12.97 \n",
      "Likelihood ratio (-)     Pr(-|A)/Pr(-|N)      0.05      0.04      0.06 \n",
      "Odds ratio                   LR(+)/LR(-)    253.11    224.01    285.99 \n",
      "Positive predictive value        Pr(A|+)     47.8%     46.9%     48.7% \n",
      "Negative predictive value        Pr(N|-)     99.6%     99.6%     99.7% \n",
      "---------------------------------------------------------------------------\n"
     ]
    }
   ],
   "source": [
    "diagt diag test if regexm(region_name,\"SOUTH\")==1 & regexm(region_name,\"EAST\")==1"
   ]
  },
  {
   "cell_type": "markdown",
   "id": "c31c4086-ecd2-43b5-a175-a49e64a0593a",
   "metadata": {},
   "source": [
    "South West"
   ]
  },
  {
   "cell_type": "code",
   "execution_count": 25,
   "id": "db24609a-c78c-4959-8f77-be636e5b8a66",
   "metadata": {},
   "outputs": [
    {
     "name": "stdout",
     "output_type": "stream",
     "text": [
      "\n",
      "           |         test\n",
      "      diag |      Pos.       Neg. |     Total\n",
      "-----------+----------------------+----------\n",
      "  Abnormal |     2,819        130 |     2,949 \n",
      "    Normal |     3,065     30,162 |    33,227 \n",
      "-----------+----------------------+----------\n",
      "     Total |     5,884     30,292 |    36,176 \n",
      "True abnormal diagnosis defined as diag = 1\n",
      "\n",
      "\n",
      "                                                  [95% Confidence Interval]\n",
      "---------------------------------------------------------------------------\n",
      "Prevalence                         Pr(A)      8.2%      7.9%       8.4%\n",
      "---------------------------------------------------------------------------\n",
      "Sensitivity                      Pr(+|A)     95.6%     94.8%     96.3%\n",
      "Specificity                      Pr(-|N)     90.8%     90.5%     91.1%\n",
      "ROC area               (Sens. + Spec.)/2      0.93      0.93      0.94 \n",
      "---------------------------------------------------------------------------\n",
      "Likelihood ratio (+)     Pr(+|A)/Pr(+|N)     10.36     10.01     10.73 \n",
      "Likelihood ratio (-)     Pr(-|A)/Pr(-|N)      0.05      0.04      0.06 \n",
      "Odds ratio                   LR(+)/LR(-)    213.39    178.34    255.34 \n",
      "Positive predictive value        Pr(A|+)     47.9%     46.6%     49.2% \n",
      "Negative predictive value        Pr(N|-)     99.6%     99.5%     99.6% \n",
      "---------------------------------------------------------------------------\n"
     ]
    }
   ],
   "source": [
    "diagt diag test if regexm(region_name,\"SOUTH\")==1 & regexm(region_name,\"WEST\")==1"
   ]
  },
  {
   "cell_type": "markdown",
   "id": "cf33efae-dc21-4b1a-b169-9eaea69c1161",
   "metadata": {},
   "source": [
    "#### System\n",
    "SystmOne"
   ]
  },
  {
   "cell_type": "code",
   "execution_count": 26,
   "id": "26573dfb-79dc-4647-88a6-e19dac9eca61",
   "metadata": {},
   "outputs": [
    {
     "name": "stdout",
     "output_type": "stream",
     "text": [
      "\n",
      "           |         test\n",
      "      diag |      Pos.       Neg. |     Total\n",
      "-----------+----------------------+----------\n",
      "  Abnormal |    17,324        693 |    18,017 \n",
      "    Normal |    20,045    190,693 |   210,738 \n",
      "-----------+----------------------+----------\n",
      "     Total |    37,369    191,386 |   228,755 \n",
      "True abnormal diagnosis defined as diag = 1\n",
      "\n",
      "\n",
      "                                                  [95% Confidence Interval]\n",
      "---------------------------------------------------------------------------\n",
      "Prevalence                         Pr(A)      7.9%      7.8%       8.0%\n",
      "---------------------------------------------------------------------------\n",
      "Sensitivity                      Pr(+|A)     96.2%     95.9%     96.4%\n",
      "Specificity                      Pr(-|N)     90.5%     90.4%     90.6%\n",
      "ROC area               (Sens. + Spec.)/2      0.93      0.93      0.93 \n",
      "---------------------------------------------------------------------------\n",
      "Likelihood ratio (+)     Pr(+|A)/Pr(+|N)     10.11      9.97     10.25 \n",
      "Likelihood ratio (-)     Pr(-|A)/Pr(-|N)      0.04      0.04      0.05 \n",
      "Odds ratio                   LR(+)/LR(-)    237.82    220.13    256.93 \n",
      "Positive predictive value        Pr(A|+)     46.4%     45.9%     46.9% \n",
      "Negative predictive value        Pr(N|-)     99.6%     99.6%     99.7% \n",
      "---------------------------------------------------------------------------\n"
     ]
    }
   ],
   "source": [
    "diagt diag test if regexm(system,\"One\")==1"
   ]
  },
  {
   "cell_type": "markdown",
   "id": "b561f033-d2f3-4c95-ad3f-03b8c65647ea",
   "metadata": {},
   "source": [
    "Vision"
   ]
  },
  {
   "cell_type": "code",
   "execution_count": 27,
   "id": "6bed6f81-5fd6-418e-94ff-96d2de419d3d",
   "metadata": {},
   "outputs": [
    {
     "name": "stdout",
     "output_type": "stream",
     "text": [
      "\n",
      "           |         test\n",
      "      diag |      Pos.       Neg. |     Total\n",
      "-----------+----------------------+----------\n",
      "  Abnormal |     1,049         57 |     1,106 \n",
      "    Normal |     1,084     11,554 |    12,638 \n",
      "-----------+----------------------+----------\n",
      "     Total |     2,133     11,611 |    13,744 \n",
      "True abnormal diagnosis defined as diag = 1\n",
      "\n",
      "\n",
      "                                                  [95% Confidence Interval]\n",
      "---------------------------------------------------------------------------\n",
      "Prevalence                         Pr(A)      8.0%      7.6%       8.5%\n",
      "---------------------------------------------------------------------------\n",
      "Sensitivity                      Pr(+|A)     94.8%     93.4%     96.1%\n",
      "Specificity                      Pr(-|N)     91.4%     90.9%     91.9%\n",
      "ROC area               (Sens. + Spec.)/2      0.93      0.92      0.94 \n",
      "---------------------------------------------------------------------------\n",
      "Likelihood ratio (+)     Pr(+|A)/Pr(+|N)     11.06     10.43     11.72 \n",
      "Likelihood ratio (-)     Pr(-|A)/Pr(-|N)      0.06      0.04      0.07 \n",
      "Odds ratio                   LR(+)/LR(-)    196.16    149.30    257.71 \n",
      "Positive predictive value        Pr(A|+)     49.2%     47.0%     51.3% \n",
      "Negative predictive value        Pr(N|-)     99.5%     99.4%     99.6% \n",
      "---------------------------------------------------------------------------\n"
     ]
    }
   ],
   "source": [
    "diagt diag test if regexm(system,\"Vision\")==1"
   ]
  },
  {
   "cell_type": "markdown",
   "id": "65d9cefb-fbb5-4500-8ed3-52074d4e12ad",
   "metadata": {},
   "source": [
    "EMIS"
   ]
  },
  {
   "cell_type": "code",
   "execution_count": 28,
   "id": "18d50bfe-f5c4-4ecb-b822-0d06e3b29224",
   "metadata": {},
   "outputs": [
    {
     "name": "stdout",
     "output_type": "stream",
     "text": [
      "\n",
      "           |         test\n",
      "      diag |      Pos.       Neg. |     Total\n",
      "-----------+----------------------+----------\n",
      "  Abnormal |    12,656        705 |    13,361 \n",
      "    Normal |    12,970    156,034 |   169,004 \n",
      "-----------+----------------------+----------\n",
      "     Total |    25,626    156,739 |   182,365 \n",
      "True abnormal diagnosis defined as diag = 1\n",
      "\n",
      "\n",
      "                                                  [95% Confidence Interval]\n",
      "---------------------------------------------------------------------------\n",
      "Prevalence                         Pr(A)      7.3%      7.2%       7.4%\n",
      "---------------------------------------------------------------------------\n",
      "Sensitivity                      Pr(+|A)     94.7%     94.3%     95.1%\n",
      "Specificity                      Pr(-|N)     92.3%     92.2%     92.5%\n",
      "ROC area               (Sens. + Spec.)/2      0.94      0.93      0.94 \n",
      "---------------------------------------------------------------------------\n",
      "Likelihood ratio (+)     Pr(+|A)/Pr(+|N)     12.34     12.13     12.55 \n",
      "Likelihood ratio (-)     Pr(-|A)/Pr(-|N)      0.06      0.05      0.06 \n",
      "Odds ratio                   LR(+)/LR(-)    215.97    199.78    233.47 \n",
      "Positive predictive value        Pr(A|+)     49.4%     48.8%     50.0% \n",
      "Negative predictive value        Pr(N|-)     99.6%     99.5%     99.6% \n",
      "---------------------------------------------------------------------------\n"
     ]
    }
   ],
   "source": [
    "diagt diag test if regexm(ustrupper(system),\"EMIS\")==1"
   ]
  },
  {
   "cell_type": "code",
   "execution_count": null,
   "id": "654b6659-0a73-4736-bc15-7bf926554432",
   "metadata": {},
   "outputs": [],
   "source": []
  },
  {
   "cell_type": "markdown",
   "id": "5cc0b78d-d049-4645-a6f4-e02b49b379db",
   "metadata": {},
   "source": [
    "#### RA_Index\n",
    "Index==1"
   ]
  },
  {
   "cell_type": "code",
   "execution_count": 29,
   "id": "9fa490cd-9380-44bc-8218-9f2193f09aee",
   "metadata": {},
   "outputs": [
    {
     "name": "stdout",
     "output_type": "stream",
     "text": [
      "\n",
      "           |         test\n",
      "      diag |      Pos.       Neg. |     Total\n",
      "-----------+----------------------+----------\n",
      "  Abnormal |    23,019      1,152 |    24,171 \n",
      "    Normal |    24,766    272,760 |   297,526 \n",
      "-----------+----------------------+----------\n",
      "     Total |    47,785    273,912 |   321,697 \n",
      "True abnormal diagnosis defined as diag = 1\n",
      "\n",
      "\n",
      "                                                  [95% Confidence Interval]\n",
      "---------------------------------------------------------------------------\n",
      "Prevalence                         Pr(A)      7.5%      7.4%       7.6%\n",
      "---------------------------------------------------------------------------\n",
      "Sensitivity                      Pr(+|A)     95.2%     95.0%     95.5%\n",
      "Specificity                      Pr(-|N)     91.7%     91.6%     91.8%\n",
      "ROC area               (Sens. + Spec.)/2      0.93      0.93      0.94 \n",
      "---------------------------------------------------------------------------\n",
      "Likelihood ratio (+)     Pr(+|A)/Pr(+|N)     11.44     11.30     11.58 \n",
      "Likelihood ratio (-)     Pr(-|A)/Pr(-|N)      0.05      0.05      0.06 \n",
      "Odds ratio                   LR(+)/LR(-)    220.07    207.13    233.81 \n",
      "Positive predictive value        Pr(A|+)     48.2%     47.7%     48.6% \n",
      "Negative predictive value        Pr(N|-)     99.6%     99.6%     99.6% \n",
      "---------------------------------------------------------------------------\n"
     ]
    }
   ],
   "source": [
    "diagt diag test if RA_index==1"
   ]
  },
  {
   "cell_type": "markdown",
   "id": "7d253ba5-4281-405c-bd8c-511a00a55bf6",
   "metadata": {},
   "source": [
    "Index==0"
   ]
  },
  {
   "cell_type": "code",
   "execution_count": 30,
   "id": "f50f1be6-d1fd-4b54-8cc8-be66d3b7312b",
   "metadata": {},
   "outputs": [
    {
     "name": "stdout",
     "output_type": "stream",
     "text": [
      "\n",
      "           |         test\n",
      "      diag |      Pos.       Neg. |     Total\n",
      "-----------+----------------------+----------\n",
      "  Abnormal |     8,064        305 |     8,369 \n",
      "    Normal |     9,353     85,581 |    94,934 \n",
      "-----------+----------------------+----------\n",
      "     Total |    17,417     85,886 |   103,303 \n",
      "True abnormal diagnosis defined as diag = 1\n",
      "\n",
      "\n",
      "                                                  [95% Confidence Interval]\n",
      "---------------------------------------------------------------------------\n",
      "Prevalence                         Pr(A)      8.1%      7.9%       8.3%\n",
      "---------------------------------------------------------------------------\n",
      "Sensitivity                      Pr(+|A)     96.4%     95.9%     96.7%\n",
      "Specificity                      Pr(-|N)     90.1%     90.0%     90.3%\n",
      "ROC area               (Sens. + Spec.)/2      0.93      0.93      0.93 \n",
      "---------------------------------------------------------------------------\n",
      "Likelihood ratio (+)     Pr(+|A)/Pr(+|N)      9.78      9.59      9.97 \n",
      "Likelihood ratio (-)     Pr(-|A)/Pr(-|N)      0.04      0.04      0.05 \n",
      "Odds ratio                   LR(+)/LR(-)    241.92    215.37    271.74 \n",
      "Positive predictive value        Pr(A|+)     46.3%     45.6%     47.0% \n",
      "Negative predictive value        Pr(N|-)     99.6%     99.6%     99.7% \n",
      "---------------------------------------------------------------------------\n"
     ]
    }
   ],
   "source": [
    "diagt diag test if RA_index==0"
   ]
  },
  {
   "cell_type": "markdown",
   "id": "72956d72",
   "metadata": {},
   "source": [
    "#### Ethnicity\n",
    "Ethnicity==0000white"
   ]
  },
  {
   "cell_type": "code",
   "execution_count": 31,
   "id": "b35bf6ab",
   "metadata": {},
   "outputs": [
    {
     "name": "stdout",
     "output_type": "stream",
     "text": [
      "\n",
      "           |         test\n",
      "      diag |      Pos.       Neg. |     Total\n",
      "-----------+----------------------+----------\n",
      "  Abnormal |    22,353        908 |    23,261 \n",
      "    Normal |    23,804    210,916 |   234,720 \n",
      "-----------+----------------------+----------\n",
      "     Total |    46,157    211,824 |   257,981 \n",
      "True abnormal diagnosis defined as diag = 1\n",
      "\n",
      "\n",
      "                                                  [95% Confidence Interval]\n",
      "---------------------------------------------------------------------------\n",
      "Prevalence                         Pr(A)      9.0%      8.9%       9.1%\n",
      "---------------------------------------------------------------------------\n",
      "Sensitivity                      Pr(+|A)     96.1%     95.8%     96.3%\n",
      "Specificity                      Pr(-|N)     89.9%     89.7%     90.0%\n",
      "ROC area               (Sens. + Spec.)/2      0.93      0.93      0.93 \n",
      "---------------------------------------------------------------------------\n",
      "Likelihood ratio (+)     Pr(+|A)/Pr(+|N)      9.48      9.36      9.59 \n",
      "Likelihood ratio (-)     Pr(-|A)/Pr(-|N)      0.04      0.04      0.05 \n",
      "Odds ratio                   LR(+)/LR(-)    218.13    203.85    233.40 \n",
      "Positive predictive value        Pr(A|+)     48.4%     48.0%     48.9% \n",
      "Negative predictive value        Pr(N|-)     99.6%     99.5%     99.6% \n",
      "---------------------------------------------------------------------------\n"
     ]
    }
   ],
   "source": [
    "diagt diag test if ethnicity==\"0white\""
   ]
  },
  {
   "cell_type": "code",
   "execution_count": 32,
   "id": "10050fbc",
   "metadata": {},
   "outputs": [
    {
     "name": "stdout",
     "output_type": "stream",
     "text": [
      "\n",
      "           |         test\n",
      "      diag |      Pos.       Neg. |     Total\n",
      "-----------+----------------------+----------\n",
      "  Abnormal |     2,481        181 |     2,662 \n",
      "    Normal |     2,448     38,758 |    41,206 \n",
      "-----------+----------------------+----------\n",
      "     Total |     4,929     38,939 |    43,868 \n",
      "True abnormal diagnosis defined as diag = 1\n",
      "\n",
      "\n",
      "                                                  [95% Confidence Interval]\n",
      "---------------------------------------------------------------------------\n",
      "Prevalence                         Pr(A)      6.1%      5.8%       6.3%\n",
      "---------------------------------------------------------------------------\n",
      "Sensitivity                      Pr(+|A)     93.2%     92.2%     94.1%\n",
      "Specificity                      Pr(-|N)     94.1%     93.8%     94.3%\n",
      "ROC area               (Sens. + Spec.)/2      0.94      0.93      0.94 \n",
      "---------------------------------------------------------------------------\n",
      "Likelihood ratio (+)     Pr(+|A)/Pr(+|N)     15.69     15.08     16.32 \n",
      "Likelihood ratio (-)     Pr(-|A)/Pr(-|N)      0.07      0.06      0.08 \n",
      "Odds ratio                   LR(+)/LR(-)    217.02    185.64    253.71 \n",
      "Positive predictive value        Pr(A|+)     50.3%     48.9%     51.7% \n",
      "Negative predictive value        Pr(N|-)     99.5%     99.5%     99.6% \n",
      "---------------------------------------------------------------------------\n"
     ]
    }
   ],
   "source": [
    "diagt diag test if ethnicity==\"Other\""
   ]
  },
  {
   "cell_type": "code",
   "execution_count": 33,
   "id": "a9b0ba23",
   "metadata": {},
   "outputs": [
    {
     "name": "stdout",
     "output_type": "stream",
     "text": [
      "\n",
      "           |         test\n",
      "      diag |      Pos.       Neg. |     Total\n",
      "-----------+----------------------+----------\n",
      "  Abnormal |     6,249        368 |     6,617 \n",
      "    Normal |     7,867    108,667 |   116,534 \n",
      "-----------+----------------------+----------\n",
      "     Total |    14,116    109,035 |   123,151 \n",
      "True abnormal diagnosis defined as diag = 1\n",
      "\n",
      "\n",
      "                                                  [95% Confidence Interval]\n",
      "---------------------------------------------------------------------------\n",
      "Prevalence                         Pr(A)      5.4%      5.2%       5.5%\n",
      "---------------------------------------------------------------------------\n",
      "Sensitivity                      Pr(+|A)     94.4%     93.9%     95.0%\n",
      "Specificity                      Pr(-|N)     93.2%     93.1%     93.4%\n",
      "ROC area               (Sens. + Spec.)/2      0.94      0.94      0.94 \n",
      "---------------------------------------------------------------------------\n",
      "Likelihood ratio (+)     Pr(+|A)/Pr(+|N)     13.99     13.68     14.30 \n",
      "Likelihood ratio (-)     Pr(-|A)/Pr(-|N)      0.06      0.05      0.07 \n",
      "Odds ratio                   LR(+)/LR(-)    234.56    210.64    261.19 \n",
      "Positive predictive value        Pr(A|+)     44.3%     43.4%     45.1% \n",
      "Negative predictive value        Pr(N|-)     99.7%     99.6%     99.7% \n",
      "---------------------------------------------------------------------------\n"
     ]
    }
   ],
   "source": [
    "diagt diag test if ethnicity==\"Missing\""
   ]
  },
  {
   "cell_type": "code",
   "execution_count": 34,
   "id": "0c6b3359-4cc6-4eb5-a15f-ed1be0b97aa0",
   "metadata": {},
   "outputs": [],
   "source": [
    "tempname memhold\n",
    "postfile `memhold' str20 var prev sens spec ppv npv roc using \"validity.dta\",replace\n",
    "\n",
    "quietly diagt diag test\n",
    "local prev=r(prev)\n",
    "local sens=r(sens)\n",
    "local spec=r(spec)\n",
    "local ppv=r(ppv)\n",
    "local npv=r(npv)\n",
    "local roc=r(roc)\n",
    "post `memhold' (\"all\") (`prev') (`sens') (`spec') (`ppv') (`npv') (`roc') \n",
    "\n",
    "quietly diagt diag test if sex==1\n",
    "local prev=r(prev)\n",
    "local sens=r(sens)\n",
    "local spec=r(spec)\n",
    "local ppv=r(ppv)\n",
    "local npv=r(npv)\n",
    "local roc=r(roc)\n",
    "post `memhold' (\"Male\") (`prev') (`sens') (`spec') (`ppv') (`npv') (`roc') \n",
    "\n",
    "quietly diagt diag test if sex==0\n",
    "local prev=r(prev)\n",
    "local sens=r(sens)\n",
    "local spec=r(spec)\n",
    "local ppv=r(ppv)\n",
    "local npv=r(npv)\n",
    "local roc=r(roc)\n",
    "post `memhold' (\"Female\") (`prev') (`sens') (`spec') (`ppv') (`npv') (`roc') \n",
    "\n",
    "quietly diagt diag test if agecat==16\n",
    "local prev=r(prev)\n",
    "local sens=r(sens)\n",
    "local spec=r(spec)\n",
    "local ppv=r(ppv)\n",
    "local npv=r(npv)\n",
    "local roc=r(roc)\n",
    "post `memhold' (\"Age young\") (`prev') (`sens') (`spec') (`ppv') (`npv') (`roc') \n",
    "\n",
    "quietly diagt diag test if agecat==30\n",
    "local prev=r(prev)\n",
    "local sens=r(sens)\n",
    "local spec=r(spec)\n",
    "local ppv=r(ppv)\n",
    "local npv=r(npv)\n",
    "local roc=r(roc)\n",
    "post `memhold' (\"Age middle\") (`prev') (`sens') (`spec') (`ppv') (`npv') (`roc') \n",
    "\n",
    "quietly diagt diag test if agecat==70\n",
    "local prev=r(prev)\n",
    "local sens=r(sens)\n",
    "local spec=r(spec)\n",
    "local ppv=r(ppv)\n",
    "local npv=r(npv)\n",
    "local roc=r(roc)\n",
    "post `memhold' (\"Age elderly\") (`prev') (`sens') (`spec') (`ppv') (`npv') (`roc') \n",
    "\n",
    "\n",
    "quietly diagt diag test if yearcat==2004\n",
    "local prev=r(prev)\n",
    "local sens=r(sens)\n",
    "local spec=r(spec)\n",
    "local ppv=r(ppv)\n",
    "local npv=r(npv)\n",
    "local roc=r(roc)\n",
    "post `memhold' (\"Year 2004-2009\") (`prev') (`sens') (`spec') (`ppv') (`npv') (`roc') \n",
    "\n",
    "quietly diagt diag test if yearcat==2010\n",
    "local prev=r(prev)\n",
    "local sens=r(sens)\n",
    "local spec=r(spec)\n",
    "local ppv=r(ppv)\n",
    "local npv=r(npv)\n",
    "local roc=r(roc)\n",
    "post `memhold' (\"Year 2010-2015\") (`prev') (`sens') (`spec') (`ppv') (`npv') (`roc')\n",
    "\n",
    "quietly diagt diag test if yearcat==2016\n",
    "local prev=r(prev)\n",
    "local sens=r(sens)\n",
    "local spec=r(spec)\n",
    "local ppv=r(ppv)\n",
    "local npv=r(npv)\n",
    "local roc=r(roc)\n",
    "post `memhold' (\"Year 2016-2020\") (`prev') (`sens') (`spec') (`ppv') (`npv') (`roc') \n",
    "\n",
    "\n",
    "quietly diagt diag test if imdcat==0\n",
    "local prev=r(prev)\n",
    "local sens=r(sens)\n",
    "local spec=r(spec)\n",
    "local ppv=r(ppv)\n",
    "local npv=r(npv)\n",
    "local roc=r(roc)\n",
    "post `memhold' (\"IMD 1,3\") (`prev') (`sens') (`spec') (`ppv') (`npv') (`roc') \n",
    "\n",
    "quietly diagt diag test if imdcat==4\n",
    "local prev=r(prev)\n",
    "local sens=r(sens)\n",
    "local spec=r(spec)\n",
    "local ppv=r(ppv)\n",
    "local npv=r(npv)\n",
    "local roc=r(roc)\n",
    "post `memhold' (\"IMD 4,7\") (`prev') (`sens') (`spec') (`ppv') (`npv') (`roc') \n",
    "\n",
    "quietly diagt diag test if imdcat==8\n",
    "local prev=r(prev)\n",
    "local sens=r(sens)\n",
    "local spec=r(spec)\n",
    "local ppv=r(ppv)\n",
    "local npv=r(npv)\n",
    "local roc=r(roc)\n",
    "post `memhold' (\"IMD 8,10\") (`prev') (`sens') (`spec') (`ppv') (`npv') (`roc') \n",
    "\n",
    "\n",
    "quietly diagt diag test if regexm(region_name,\"LONDON\")==1\n",
    "local prev=r(prev)\n",
    "local sens=r(sens)\n",
    "local spec=r(spec)\n",
    "local ppv=r(ppv)\n",
    "local npv=r(npv)\n",
    "local roc=r(roc)\n",
    "post `memhold' (\"London\") (`prev') (`sens') (`spec') (`ppv') (`npv') (`roc') \n",
    "\n",
    "quietly diagt diag test if regexm(region_name,\"MID\")==1\n",
    "local prev=r(prev)\n",
    "local sens=r(sens)\n",
    "local spec=r(spec)\n",
    "local ppv=r(ppv)\n",
    "local npv=r(npv)\n",
    "local roc=r(roc)\n",
    "post `memhold' (\"Midlands\") (`prev') (`sens') (`spec') (`ppv') (`npv') (`roc') \n",
    "\n",
    "quietly diagt diag test if regexm(region_name,\"YORK\")==1\n",
    "local prev=r(prev)\n",
    "local sens=r(sens)\n",
    "local spec=r(spec)\n",
    "local ppv=r(ppv)\n",
    "local npv=r(npv)\n",
    "local roc=r(roc)\n",
    "post `memhold' (\"Yorkshire\") (`prev') (`sens') (`spec') (`ppv') (`npv') (`roc') \n",
    "\n",
    "quietly diagt diag test if regexm(region_name,\"NORTH\")==1 & regexm(region_name,\"WEST\")==1\n",
    "local prev=r(prev)\n",
    "local sens=r(sens)\n",
    "local spec=r(spec)\n",
    "local ppv=r(ppv)\n",
    "local npv=r(npv)\n",
    "local roc=r(roc)\n",
    "post `memhold' (\"North West\") (`prev') (`sens') (`spec') (`ppv') (`npv') (`roc') \n",
    "\n",
    "quietly diagt diag test if regexm(region_name,\"SOUTH\")==1 & regexm(region_name,\"EAST\")==1\n",
    "local prev=r(prev)\n",
    "local sens=r(sens)\n",
    "local spec=r(spec)\n",
    "local ppv=r(ppv)\n",
    "local npv=r(npv)\n",
    "local roc=r(roc)\n",
    "post `memhold' (\"South East\") (`prev') (`sens') (`spec') (`ppv') (`npv') (`roc') \n",
    "\n",
    "quietly diagt diag test if regexm(region_name,\"SOUTH\")==1 & regexm(region_name,\"WEST\")==1\n",
    "local prev=r(prev)\n",
    "local sens=r(sens)\n",
    "local spec=r(spec)\n",
    "local ppv=r(ppv)\n",
    "local npv=r(npv)\n",
    "local roc=r(roc)\n",
    "post `memhold' (\"South West\") (`prev') (`sens') (`spec') (`ppv') (`npv') (`roc') \n",
    "\n",
    "quietly diagt diag test if regexm(system,\"One\")==1\n",
    "local prev=r(prev)\n",
    "local sens=r(sens)\n",
    "local spec=r(spec)\n",
    "local ppv=r(ppv)\n",
    "local npv=r(npv)\n",
    "local roc=r(roc)\n",
    "post `memhold' (\"SystemOne\") (`prev') (`sens') (`spec') (`ppv') (`npv') (`roc') \n",
    "\n",
    "quietly diagt diag test if regexm(system,\"Vision\")==1\n",
    "local prev=r(prev)\n",
    "local sens=r(sens)\n",
    "local spec=r(spec)\n",
    "local ppv=r(ppv)\n",
    "local npv=r(npv)\n",
    "local roc=r(roc)\n",
    "post `memhold' (\"Vision\") (`prev') (`sens') (`spec') (`ppv') (`npv') (`roc') \n",
    "\n",
    "quietly diagt diag test if regexm(ustrupper(system),\"EMIS\")==1\n",
    "local prev=r(prev)\n",
    "local sens=r(sens)\n",
    "local spec=r(spec)\n",
    "local ppv=r(ppv)\n",
    "local npv=r(npv)\n",
    "local roc=r(roc)\n",
    "post `memhold' (\"EMIS\") (`prev') (`sens') (`spec') (`ppv') (`npv') (`roc') \n",
    "\n",
    "quietly diagt diag test if RA_index==1\n",
    "local prev=r(prev)\n",
    "local sens=r(sens)\n",
    "local spec=r(spec)\n",
    "local ppv=r(ppv)\n",
    "local npv=r(npv)\n",
    "local roc=r(roc)\n",
    "post `memhold' (\"RAIndex1\") (`prev') (`sens') (`spec') (`ppv') (`npv') (`roc') \n",
    "\n",
    "quietly diagt diag test if RA_index==0\n",
    "local prev=r(prev)\n",
    "local sens=r(sens)\n",
    "local spec=r(spec)\n",
    "local ppv=r(ppv)\n",
    "local npv=r(npv)\n",
    "local roc=r(roc)\n",
    "post `memhold' (\"RAIndex0\") (`prev') (`sens') (`spec') (`ppv') (`npv') (`roc') \n",
    "\n",
    "quietly diagt diag test if ethnicity==\"0white\"\n",
    "local prev=r(prev)\n",
    "local sens=r(sens)\n",
    "local spec=r(spec)\n",
    "local ppv=r(ppv)\n",
    "local npv=r(npv)\n",
    "local roc=r(roc)\n",
    "post `memhold' (\"Ethnicity_0white\") (`prev') (`sens') (`spec') (`ppv') (`npv') (`roc') \n",
    "\n",
    "quietly diagt diag test if ethnicity==\"Other\"\n",
    "local prev=r(prev)\n",
    "local sens=r(sens)\n",
    "local spec=r(spec)\n",
    "local ppv=r(ppv)\n",
    "local npv=r(npv)\n",
    "local roc=r(roc)\n",
    "post `memhold' (\"Ethnicity_Other\") (`prev') (`sens') (`spec') (`ppv') (`npv') (`roc') \n",
    "\n",
    "\n",
    "\n",
    "quietly diagt diag test if ethnicity==\"Missing\"\n",
    "local prev=r(prev)\n",
    "local sens=r(sens)\n",
    "local spec=r(spec)\n",
    "local ppv=r(ppv)\n",
    "local npv=r(npv)\n",
    "local roc=r(roc)\n",
    "post `memhold' (\"Ethnicity_Missing\") (`prev') (`sens') (`spec') (`ppv') (`npv') (`roc') \n",
    "\n",
    "postclose `memhold'"
   ]
  },
  {
   "cell_type": "markdown",
   "id": "b350c4fb-deb8-450a-9750-689dc3a8268e",
   "metadata": {},
   "source": [
    "### Logistic Regression\n",
    "#### PPV"
   ]
  },
  {
   "cell_type": "code",
   "execution_count": 35,
   "id": "a21415d9",
   "metadata": {},
   "outputs": [
    {
     "name": "stdout",
     "output_type": "stream",
     "text": [
      "(2,589 observations deleted)\n",
      "(9 observations deleted)\n"
     ]
    }
   ],
   "source": [
    "drop if missing(imdcat)\n",
    "drop if missing(sex)"
   ]
  },
  {
   "cell_type": "code",
   "execution_count": 36,
   "id": "ad17f02e-1d4b-48ec-8a48-1c137597db1a",
   "metadata": {},
   "outputs": [
    {
     "name": "stdout",
     "output_type": "stream",
     "text": [
      "\n",
      "Logistic regression                                     Number of obs = 64,980\n",
      "                                                        LR chi2(0)    =   0.00\n",
      "                                                        Prob > chi2   =      .\n",
      "Log likelihood = -44968.344                             Pseudo R2     = 0.0000\n",
      "\n",
      "------------------------------------------------------------------------------\n",
      "    diag_pos |       Odds   Std. err.      z    P>|z|     [95% conf. interval]\n",
      "-------------+----------------------------------------------------------------\n",
      "       _cons |   .9098845   .0071468   -12.02   0.000     .8959843    .9240003\n",
      "------------------------------------------------------------------------------\n"
     ]
    }
   ],
   "source": [
    "logistic diag_pos if test==1"
   ]
  },
  {
   "cell_type": "code",
   "execution_count": 37,
   "id": "b4bb2be2-7e3e-402c-aa81-7b7dfd706f64",
   "metadata": {},
   "outputs": [
    {
     "name": "stdout",
     "output_type": "stream",
     "text": [
      "\n",
      "Logistic regression                                    Number of obs =  64,980\n",
      "                                                       LR chi2(7)    = 5136.45\n",
      "                                                       Prob > chi2   =  0.0000\n",
      "Log likelihood = -42400.118                            Pseudo R2     =  0.0571\n",
      "\n",
      "------------------------------------------------------------------------------------------------\n",
      "                      diag_pos | Odds ratio   Std. err.      z    P>|z|     [95% conf. interval]\n",
      "-------------------------------+----------------------------------------------------------------\n",
      "               bnf_code_values |\n",
      "Antimuscarinic Bronchodilator  |   .4206788   .0171177   -21.28   0.000     .3884317    .4556031\n",
      "      Compound bronchodilator  |   .4104671   .0319222   -11.45   0.000     .3524359    .4780536\n",
      "              Corticosteroids  |    2.94211   .0561817    56.51   0.000     2.834031    3.054311\n",
      "                      Devices  |   .5438071   .0253798   -13.05   0.000     .4962708    .5958967\n",
      "                Other/unknown  |   .9115866   .0717739    -1.18   0.240     .7812291    1.063696\n",
      "                 Theophylline  |   1.403924   .1440224     3.31   0.001     1.148213    1.716582\n",
      "  Topical nasal decongestance  |   .0625672   .0319999    -5.42   0.000     .0229616    .1704875\n",
      "                               |\n",
      "                         _cons |   .7349019   .0075162   -30.12   0.000     .7203171    .7497819\n",
      "------------------------------------------------------------------------------------------------\n",
      "Note: _cons estimates baseline odds.\n"
     ]
    }
   ],
   "source": [
    "logistic diag_pos i.bnf_code_values if test==1"
   ]
  },
  {
   "cell_type": "code",
   "execution_count": 38,
   "id": "49e40858",
   "metadata": {},
   "outputs": [
    {
     "name": "stdout",
     "output_type": "stream",
     "text": [
      "\n",
      "Fitting fixed-effects model:\n",
      "\n",
      "Iteration 0:  Log likelihood =  -44002.46  \n",
      "Iteration 1:  Log likelihood = -43972.069  \n",
      "Iteration 2:  Log likelihood = -43972.062  \n",
      "Iteration 3:  Log likelihood = -43972.062  \n",
      "\n",
      "Refining starting values:\n",
      "\n",
      "Grid node 0:  Log likelihood = -43945.259\n",
      "\n",
      "Fitting full model:\n",
      "\n",
      "Iteration 0:  Log likelihood = -43945.259  (not concave)\n",
      "Iteration 1:  Log likelihood = -43767.672  \n",
      "Iteration 2:  Log likelihood = -43759.427  \n",
      "Iteration 3:  Log likelihood = -43758.123  \n",
      "Iteration 4:  Log likelihood = -43758.106  \n",
      "Iteration 5:  Log likelihood = -43758.106  \n",
      "\n",
      "Mixed-effects logistic regression               Number of obs     =     64,794\n",
      "Group variable: practice_id                     Number of groups  =        332\n",
      "\n",
      "                                                Obs per group:\n",
      "                                                              min =          1\n",
      "                                                              avg =      195.2\n",
      "                                                              max =      1,932\n",
      "\n",
      "Integration method: mvaghermite                 Integration pts.  =          7\n",
      "\n",
      "                                                Wald chi2(18)     =    1569.15\n",
      "Log likelihood = -43758.106                     Prob > chi2       =     0.0000\n",
      "----------------------------------------------------------------------------------------------------------------\n",
      "                                       newdiag | Odds ratio   Std. err.      z    P>|z|     [95% conf. interval]\n",
      "-----------------------------------------------+----------------------------------------------------------------\n",
      "                                   1.sex_coded |   .8470171   .0137562   -10.22   0.000     .8204801    .8744124\n",
      "                                               |\n",
      "                                       yearcat |\n",
      "                                    2010-2015  |   .8803833   .0175686    -6.38   0.000     .8466142    .9154994\n",
      "                                    2016-2020  |   .9438103   .0207502    -2.63   0.009     .9040043     .985369\n",
      "                                               |\n",
      "                                        agecat |\n",
      "                                      0Middle  |   .8106878   .0178657    -9.52   0.000     .7764172    .8464711\n",
      "                                      Elderly  |   .4544882   .0111517   -32.14   0.000     .4331485    .4768792\n",
      "                                               |\n",
      "                                        region |\n",
      "                  LONDON COMMISSIONING REGION  |   1.137659   .1365551     1.07   0.283     .8991685    1.439406\n",
      "                MIDLANDS COMMISSIONING REGION  |   1.060011   .0635316     0.97   0.331      .942527     1.19214\n",
      "NORTH EAST AND YORKSHIRE COMMISSIONING REGION  |   1.042117   .0681453     0.63   0.528     .9167592    1.184616\n",
      "              NORTH WEST COMMISSIONING REGION  |   1.178238   .0901057     2.14   0.032     1.014232    1.368764\n",
      "              SOUTH EAST COMMISSIONING REGION  |   1.038407   .0670786     0.58   0.560     .9149176    1.178564\n",
      "              SOUTH WEST COMMISSIONING REGION  |   1.116789   .0860015     1.43   0.151     .9603327    1.298734\n",
      "                                     Scotland  |   1.087051   .1266184     0.72   0.474      .865173    1.365831\n",
      "                                        Wales  |     1.6461   .3456743     2.37   0.018     1.090705    2.484306\n",
      "                                               |\n",
      "                                      RA_index |   1.040763   .0476127     0.87   0.382     .9515053    1.138394\n",
      "                                               |\n",
      "                                        ethnic |\n",
      "                                      Missing  |   .8092311   .0181949    -9.41   0.000     .7743442    .8456899\n",
      "                                        Other  |   1.015593   .0350091     0.45   0.654     .9492429    1.086581\n",
      "                                               |\n",
      "                                        imdcat |\n",
      "                                          4-7  |   1.138167   .0547901     2.69   0.007     1.035691    1.250783\n",
      "                                         8-10  |   1.168686   .0607589     3.00   0.003     1.055467     1.29405\n",
      "                                               |\n",
      "                                         _cons |   1.282201   .0698104     4.57   0.000     1.152423    1.426594\n",
      "-----------------------------------------------+----------------------------------------------------------------\n",
      "practice_id                                    |\n",
      "                                     var(_cons)|   .0749002   .0096158                      .0582376      .09633\n",
      "----------------------------------------------------------------------------------------------------------------\n",
      "Note: Estimates are transformed only in the first equation to odds ratios.\n",
      "Note: _cons estimates baseline odds (conditional on zero random effects).\n",
      "LR test vs. logistic model: chibar2(01) = 427.91      Prob >= chibar2 = 0.0000\n"
     ]
    }
   ],
   "source": [
    "gen newdiag=diag_pos\n",
    "\n",
    "melogit newdiag i.sex i.yearcat i.agecat  i.region RA_index i.ethnic i.imdcat if test==1 || practice_id:,or\n",
    "estimates store model1"
   ]
  },
  {
   "cell_type": "markdown",
   "id": "1fb85b5e",
   "metadata": {},
   "source": [
    "##### Likelihood ratio tests"
   ]
  },
  {
   "cell_type": "code",
   "execution_count": 39,
   "id": "718b2ba3-f1ac-41c9-af92-e0cb45d55985",
   "metadata": {},
   "outputs": [],
   "source": [
    "\n",
    "\n",
    "quietly: melogit newdiag i.sex i.yearcat i.agecat  i.region RA_index i.ethnic if test==1 || practice_id:,or\n",
    "estimates store model_imd\n",
    "\n",
    "quietly:melogit newdiag i.sex i.yearcat i.agecat  i.region RA_index i.imdcat if test==1 || practice_id:,or\n",
    "estimates store model_ethnicity\n",
    "\n",
    "quietly:melogit newdiag i.yearcat i.agecat  i.region RA_index i.ethnic i.imdcat if test==1 || practice_id:,or\n",
    "estimates store model_sex\n",
    "\n",
    "quietly:melogit newdiag i.sex i.agecat  i.region RA_index i.ethnic i.imdcat if test==1 || practice_id:,or\n",
    "estimates store model_year\n",
    "\n",
    "quietly: melogit newdiag i.sex i.yearcat  i.region RA_index i.ethnic i.imdcat if test==1 || practice_id:,or\n",
    "estimates store model_age\n",
    "\n"
   ]
  },
  {
   "cell_type": "code",
   "execution_count": 40,
   "id": "31887f9d",
   "metadata": {},
   "outputs": [
    {
     "name": "stdout",
     "output_type": "stream",
     "text": [
      "\n",
      "Likelihood-ratio test\n",
      "Assumption: model_sex nested within model1\n",
      "\n",
      " LR chi2(1) = 104.64\n",
      "Prob > chi2 = 0.0000\n",
      "\n",
      "Likelihood-ratio test\n",
      "Assumption: model_year nested within model1\n",
      "\n",
      " LR chi2(2) =  41.38\n",
      "Prob > chi2 = 0.0000\n",
      "\n",
      "Likelihood-ratio test\n",
      "Assumption: model_age nested within model1\n",
      "\n",
      " LR chi2(2) = 1337.26\n",
      "Prob > chi2 =  0.0000\n",
      "\n",
      "Likelihood-ratio test\n",
      "Assumption: model_ethnic~y nested within model1\n",
      "\n",
      " LR chi2(2) =  90.96\n",
      "Prob > chi2 = 0.0000\n",
      "\n",
      "Likelihood-ratio test\n",
      "Assumption: model_imd nested within model1\n",
      "\n",
      " LR chi2(2) =  10.30\n",
      "Prob > chi2 = 0.0058\n"
     ]
    }
   ],
   "source": [
    "lrtest model1 model_sex\n",
    "lrtest model1 model_year\n",
    "lrtest model1 model_age\n",
    "lrtest model1 model_ethnicity\n",
    "lrtest model1 model_imd\n"
   ]
  },
  {
   "cell_type": "markdown",
   "id": "99227c99-0304-407b-a990-a06fe4bd4560",
   "metadata": {},
   "source": [
    "#### NPV"
   ]
  },
  {
   "cell_type": "code",
   "execution_count": 41,
   "id": "04c0103e-c424-49af-8973-09a13878ea3f",
   "metadata": {},
   "outputs": [
    {
     "name": "stdout",
     "output_type": "stream",
     "text": [
      "\n",
      "Logistic regression                                    Number of obs = 357,422\n",
      "                                                       LR chi2(0)    =    0.00\n",
      "                                                       Prob > chi2   =       .\n",
      "Log likelihood = -9427.2139                            Pseudo R2     =  0.0000\n",
      "\n",
      "------------------------------------------------------------------------------\n",
      "    diag_neg |       Odds   Std. err.      z    P>|z|     [95% conf. interval]\n",
      "-------------+----------------------------------------------------------------\n",
      "       _cons |    245.668   6.466907   209.09   0.000     233.3146    258.6756\n",
      "------------------------------------------------------------------------------\n"
     ]
    }
   ],
   "source": [
    "logistic diag_neg if test==0"
   ]
  },
  {
   "cell_type": "code",
   "execution_count": 42,
   "id": "93a5b760",
   "metadata": {},
   "outputs": [
    {
     "name": "stdout",
     "output_type": "stream",
     "text": [
      "(422,402 real changes made)\n",
      "\n",
      "Fitting fixed-effects model:\n",
      "\n",
      "Iteration 0:  Log likelihood = -34082.723  \n",
      "Iteration 1:  Log likelihood = -9369.6961  \n",
      "Iteration 2:  Log likelihood = -9301.2292  \n",
      "Iteration 3:  Log likelihood = -9300.2337  \n",
      "Iteration 4:  Log likelihood = -9300.2331  \n",
      "\n",
      "Refining starting values:\n",
      "\n",
      "Grid node 0:  Log likelihood = -8805.8374\n",
      "\n",
      "Fitting full model:\n",
      "\n",
      "Iteration 0:  Log likelihood = -8805.8374  \n",
      "Iteration 1:  Log likelihood = -8793.7334  \n",
      "Iteration 2:  Log likelihood = -8787.8168  \n",
      "Iteration 3:  Log likelihood = -8785.9974  \n",
      "Iteration 4:  Log likelihood = -8785.9887  \n",
      "Iteration 5:  Log likelihood = -8785.9887  \n",
      "\n",
      "Mixed-effects logistic regression               Number of obs     =    356,639\n",
      "Group variable: practice_id                     Number of groups  =        336\n",
      "\n",
      "                                                Obs per group:\n",
      "                                                              min =          1\n",
      "                                                              avg =    1,061.4\n",
      "                                                              max =      8,559\n",
      "\n",
      "Integration method: mvaghermite                 Integration pts.  =          7\n",
      "\n",
      "                                                Wald chi2(18)     =      91.27\n",
      "Log likelihood = -8785.9887                     Prob > chi2       =     0.0000\n",
      "----------------------------------------------------------------------------------------------------------------\n",
      "                                       newdiag | Odds ratio   Std. err.      z    P>|z|     [95% conf. interval]\n",
      "-----------------------------------------------+----------------------------------------------------------------\n",
      "                                   1.sex_coded |   1.098072   .0590734     1.74   0.082     .9881851    1.220178\n",
      "                                               |\n",
      "                                       yearcat |\n",
      "                                    2010-2015  |   1.126071   .0748284     1.79   0.074     .9885593    1.282711\n",
      "                                    2016-2020  |   1.387755   .1038449     4.38   0.000     1.198445     1.60697\n",
      "                                               |\n",
      "                                        agecat |\n",
      "                                      0Middle  |   1.456655   .0898179     6.10   0.000     1.290837    1.643774\n",
      "                                      Elderly  |   1.157763   .0906225     1.87   0.061     .9930995    1.349728\n",
      "                                               |\n",
      "                                        region |\n",
      "                  LONDON COMMISSIONING REGION  |   .8056327   .3041406    -0.57   0.567      .384409    1.688421\n",
      "                MIDLANDS COMMISSIONING REGION  |   .8674339   .1858477    -0.66   0.507     .5699889    1.320098\n",
      "NORTH EAST AND YORKSHIRE COMMISSIONING REGION  |    1.32477   .3036618     1.23   0.220     .8453358    2.076116\n",
      "              NORTH WEST COMMISSIONING REGION  |   .6372926    .164735    -1.74   0.081     .3839813    1.057712\n",
      "              SOUTH EAST COMMISSIONING REGION  |   .9214676   .2043468    -0.37   0.712     .5966445     1.42313\n",
      "              SOUTH WEST COMMISSIONING REGION  |   .7302321   .1908695    -1.20   0.229     .4374941    1.218848\n",
      "                                     Scotland  |   .5166801   .1878815    -1.82   0.069     .2533363     1.05377\n",
      "                                        Wales  |   1.145101   .8205442     0.19   0.850     .2811244    4.664324\n",
      "                                               |\n",
      "                                      RA_index |   .9761049   .1564256    -0.15   0.880     .7129962    1.336305\n",
      "                                               |\n",
      "                                        ethnic |\n",
      "                                      Missing  |   1.423985   .1007764     4.99   0.000     1.239553    1.635858\n",
      "                                        Other  |   1.070663   .1030777     0.71   0.478     .8865508     1.29301\n",
      "                                               |\n",
      "                                        imdcat |\n",
      "                                          4-7  |   .9830989   .1640806    -0.10   0.919      .708811    1.363528\n",
      "                                         8-10  |   1.102992    .199819     0.54   0.588     .7733351    1.573174\n",
      "                                               |\n",
      "                                         _cons |   214.4156   40.46881    28.44   0.000     148.1155    310.3932\n",
      "-----------------------------------------------+----------------------------------------------------------------\n",
      "practice_id                                    |\n",
      "                                     var(_cons)|   .7575929   .1002269                      .5845543    .9818539\n",
      "----------------------------------------------------------------------------------------------------------------\n",
      "Note: Estimates are transformed only in the first equation to odds ratios.\n",
      "Note: _cons estimates baseline odds (conditional on zero random effects).\n",
      "LR test vs. logistic model: chibar2(01) = 1028.49     Prob >= chibar2 = 0.0000\n"
     ]
    }
   ],
   "source": [
    "/* need to use the same response variable (newdiag) to line up the two model results */\n",
    "replace newdiag=diag_neg \n",
    "\n",
    "melogit newdiag i.sex i.yearcat i.agecat i.region RA_index i.ethnic i.imdcat if test==0 || practice_id:,or\n",
    "estimates store model2"
   ]
  },
  {
   "cell_type": "markdown",
   "id": "60c60b7a",
   "metadata": {},
   "source": [
    "##### Likelihood ratio tests"
   ]
  },
  {
   "cell_type": "code",
   "execution_count": 43,
   "id": "c31bd1f1-c69b-4600-a1c0-bde311d67651",
   "metadata": {},
   "outputs": [],
   "source": [
    "\n",
    "quietly: melogit newdiag i.yearcat i.agecat i.region RA_index i.ethnic i.imdcat if test==0 || practice_id:,or\n",
    "estimates store model2_sex\n",
    "quietly: melogit newdiag i.sex i.agecat i.region RA_index i.ethnic i.imdcat if test==0 || practice_id:,or\n",
    "estimates store model2_year\n",
    "quietly: melogit newdiag i.sex i.yearcat i.region RA_index i.ethnic i.imdcat if test==0 || practice_id:,or\n",
    "estimates store model2_age\n",
    "quietly: melogit newdiag i.sex i.yearcat i.agecat i.region RA_index i.imdcat if test==0 || practice_id:,or\n",
    "estimates store model2_ethnicity\n",
    "quietly: melogit newdiag i.sex i.yearcat i.agecat i.region RA_index i.ethnic if test==0 || practice_id:,or\n",
    "estimates store model2_imd\n"
   ]
  },
  {
   "cell_type": "code",
   "execution_count": 44,
   "id": "95d03409",
   "metadata": {},
   "outputs": [
    {
     "name": "stdout",
     "output_type": "stream",
     "text": [
      "\n",
      "Likelihood-ratio test\n",
      "Assumption: model2_sex nested within model2\n",
      "\n",
      " LR chi2(1) =   3.03\n",
      "Prob > chi2 = 0.0818\n",
      "\n",
      "Likelihood-ratio test\n",
      "Assumption: model2_year nested within model2\n",
      "\n",
      " LR chi2(2) =  19.91\n",
      "Prob > chi2 = 0.0000\n",
      "\n",
      "Likelihood-ratio test\n",
      "Assumption: model2_age nested within model2\n",
      "\n",
      " LR chi2(2) =  38.23\n",
      "Prob > chi2 = 0.0000\n",
      "\n",
      "Likelihood-ratio test\n",
      "Assumption: model2_ethni~y nested within model2\n",
      "\n",
      " LR chi2(2) =  25.78\n",
      "Prob > chi2 = 0.0000\n",
      "\n",
      "Likelihood-ratio test\n",
      "Assumption: model2_imd nested within model2\n",
      "\n",
      " LR chi2(2) =   0.53\n",
      "Prob > chi2 = 0.7686\n"
     ]
    }
   ],
   "source": [
    "lrtest model2 model2_sex\n",
    "lrtest model2 model2_year\n",
    "lrtest model2 model2_age\n",
    "lrtest model2 model2_ethnicity\n",
    "lrtest model2 model2_imd\n"
   ]
  },
  {
   "cell_type": "code",
   "execution_count": 45,
   "id": "017939f5-75b7-4ee0-9f7b-3105e0d2bfe1",
   "metadata": {},
   "outputs": [
    {
     "name": "stdout",
     "output_type": "stream",
     "text": [
      "\n",
      "Table 2. PPV (1) and NPV (2), OR, Random effect\n",
      "------------------------------------------------------------------\n",
      "                                                    1        2    \n",
      "------------------------------------------------------------------\n",
      "sex_coded                                                         \n",
      "  1                                              0.85 **   1.10   \n",
      "yearcat                                                           \n",
      "  2010-2015                                      0.88 **   1.13   \n",
      "  2016-2020                                      0.94 **   1.39 **\n",
      "agecat                                                            \n",
      "  0Middle                                        0.81 **   1.46 **\n",
      "  Elderly                                        0.45 **   1.16   \n",
      "region                                                            \n",
      "  LONDON COMMISSIONING REGION                    1.14      0.81   \n",
      "  MIDLANDS COMMISSIONING REGION                  1.06      0.87   \n",
      "  NORTH EAST AND YORKSHIRE COMMISSIONING REGION  1.04      1.32   \n",
      "  NORTH WEST COMMISSIONING REGION                1.18 *    0.64   \n",
      "  SOUTH EAST COMMISSIONING REGION                1.04      0.92   \n",
      "  SOUTH WEST COMMISSIONING REGION                1.12      0.73   \n",
      "  Scotland                                       1.09      0.52   \n",
      "  Wales                                          1.65 *    1.15   \n",
      "RA_index                                         1.04      0.98   \n",
      "ethnic                                                            \n",
      "  Missing                                        0.81 **   1.42 **\n",
      "  Other                                          1.02      1.07   \n",
      "imdcat                                                            \n",
      "  4-7                                            1.14 **   0.98   \n",
      "  8-10                                           1.17 **   1.10   \n",
      "Intercept                                        1.28 ** 214.42 **\n",
      "var(_cons[practice_id])                          0.07      0.76   \n",
      "Number of observations                          64794    356639   \n",
      "------------------------------------------------------------------\n",
      "** p<.01, * p<.05\n",
      "(collection ETable exported to file validity2.xlsx)\n"
     ]
    }
   ],
   "source": [
    "etable, estimates(model1 model2) showstars showstarsnote title(\"Table 2. PPV (1) and NPV (2),  OR, Random effect\") cstat(_r_b,nformat(%6.2f)) column(index) export(validity2.xlsx, modify sheet(reg_asthma, replace))"
   ]
  },
  {
   "cell_type": "markdown",
   "id": "e7e9a417",
   "metadata": {},
   "source": [
    "### Summary of validation parameters"
   ]
  },
  {
   "cell_type": "code",
   "execution_count": 46,
   "id": "e27d82a4-8d2d-4529-8a15-ae4baabfa28c",
   "metadata": {},
   "outputs": [
    {
     "name": "stdout",
     "output_type": "stream",
     "text": [
      "(26 real changes made)\n",
      "(26 real changes made)\n",
      "(26 real changes made)\n",
      "(26 real changes made)\n",
      "(26 real changes made)\n",
      "(26 real changes made)\n"
     ]
    }
   ],
   "source": [
    "use validity.dta, clear\n",
    "replace prev=round(prev, 0.1)\n",
    "gen prev_a=round(((prev/100)*((sens/100)+(spec/100)-1)+1-(spec/100))*100,0.1)/*apparent prevalence*/\n",
    "replace sens=round(sens, 0.1)\n",
    "replace spec=round(spec,0.1)\n",
    "replace ppv=round(ppv, 0.1)\n",
    "replace npv=round(npv, 0.1)\n",
    "replace roc=round(roc, 0.01)\n"
   ]
  },
  {
   "cell_type": "code",
   "execution_count": 47,
   "id": "8129bfb3-cd21-4077-a785-9a74a846c65b",
   "metadata": {},
   "outputs": [
    {
     "data": {
      "text/html": [
       "<div>\n",
       "<style scoped>\n",
       "    .dataframe tbody tr th:only-of-type {\n",
       "        vertical-align: middle;\n",
       "    }\n",
       "\n",
       "    .dataframe tbody tr th {\n",
       "        vertical-align: top;\n",
       "    }\n",
       "\n",
       "    .dataframe thead th {\n",
       "        text-align: right;\n",
       "    }\n",
       "</style>\n",
       "<table border=\"1\" class=\"dataframe\">\n",
       "  <thead>\n",
       "    <tr style=\"text-align: right;\">\n",
       "      <th></th>\n",
       "      <th>var</th>\n",
       "      <th>prev</th>\n",
       "      <th>sens</th>\n",
       "      <th>spec</th>\n",
       "      <th>ppv</th>\n",
       "      <th>npv</th>\n",
       "      <th>roc</th>\n",
       "      <th>prev_a</th>\n",
       "    </tr>\n",
       "  </thead>\n",
       "  <tbody>\n",
       "    <tr>\n",
       "      <th>1</th>\n",
       "      <td>all</td>\n",
       "      <td>7.7</td>\n",
       "      <td>95.5</td>\n",
       "      <td>91.3</td>\n",
       "      <td>47.7</td>\n",
       "      <td>99.6</td>\n",
       "      <td>.93</td>\n",
       "      <td>15.4</td>\n",
       "    </tr>\n",
       "    <tr>\n",
       "      <th>2</th>\n",
       "      <td>Male</td>\n",
       "      <td>6.6</td>\n",
       "      <td>95</td>\n",
       "      <td>91.9</td>\n",
       "      <td>45.2</td>\n",
       "      <td>99.6</td>\n",
       "      <td>.93</td>\n",
       "      <td>13.8</td>\n",
       "    </tr>\n",
       "    <tr>\n",
       "      <th>3</th>\n",
       "      <td>Female</td>\n",
       "      <td>8.7</td>\n",
       "      <td>95.9</td>\n",
       "      <td>90.7</td>\n",
       "      <td>49.6</td>\n",
       "      <td>99.6</td>\n",
       "      <td>.93</td>\n",
       "      <td>16.8</td>\n",
       "    </tr>\n",
       "    <tr>\n",
       "      <th>4</th>\n",
       "      <td>Age young</td>\n",
       "      <td>6.3</td>\n",
       "      <td>93.1</td>\n",
       "      <td>95.2</td>\n",
       "      <td>56.5</td>\n",
       "      <td>99.5</td>\n",
       "      <td>.94</td>\n",
       "      <td>10.4</td>\n",
       "    </tr>\n",
       "    <tr>\n",
       "      <th>5</th>\n",
       "      <td>Age middle</td>\n",
       "      <td>8</td>\n",
       "      <td>96.2</td>\n",
       "      <td>91.9</td>\n",
       "      <td>50.8</td>\n",
       "      <td>99.6</td>\n",
       "      <td>.94</td>\n",
       "      <td>15.2</td>\n",
       "    </tr>\n",
       "    <tr>\n",
       "      <th>6</th>\n",
       "      <td>Age elderly</td>\n",
       "      <td>8.7</td>\n",
       "      <td>96.2</td>\n",
       "      <td>84.3</td>\n",
       "      <td>36.9</td>\n",
       "      <td>99.6</td>\n",
       "      <td>.9</td>\n",
       "      <td>22.7</td>\n",
       "    </tr>\n",
       "    <tr>\n",
       "      <th>7</th>\n",
       "      <td>Year 2004-2009</td>\n",
       "      <td>8.1</td>\n",
       "      <td>95.6</td>\n",
       "      <td>90.7</td>\n",
       "      <td>47.5</td>\n",
       "      <td>99.6</td>\n",
       "      <td>.93</td>\n",
       "      <td>16.3</td>\n",
       "    </tr>\n",
       "    <tr>\n",
       "      <th>8</th>\n",
       "      <td>Year 2010-2015</td>\n",
       "      <td>7.5</td>\n",
       "      <td>95.3</td>\n",
       "      <td>91.1</td>\n",
       "      <td>46.6</td>\n",
       "      <td>99.6</td>\n",
       "      <td>.93</td>\n",
       "      <td>15.4</td>\n",
       "    </tr>\n",
       "    <tr>\n",
       "      <th>9</th>\n",
       "      <td>Year 2016-2020</td>\n",
       "      <td>7.3</td>\n",
       "      <td>95.8</td>\n",
       "      <td>92.2</td>\n",
       "      <td>49.3</td>\n",
       "      <td>99.6</td>\n",
       "      <td>.94</td>\n",
       "      <td>14.2</td>\n",
       "    </tr>\n",
       "    <tr>\n",
       "      <th>10</th>\n",
       "      <td>IMD 1,3</td>\n",
       "      <td>7.4</td>\n",
       "      <td>94.9</td>\n",
       "      <td>91</td>\n",
       "      <td>45.8</td>\n",
       "      <td>99.6</td>\n",
       "      <td>.93</td>\n",
       "      <td>15.4</td>\n",
       "    </tr>\n",
       "    <tr>\n",
       "      <th>11</th>\n",
       "      <td>IMD 4,7</td>\n",
       "      <td>8.1</td>\n",
       "      <td>96.2</td>\n",
       "      <td>91.1</td>\n",
       "      <td>48.6</td>\n",
       "      <td>99.6</td>\n",
       "      <td>.94</td>\n",
       "      <td>16</td>\n",
       "    </tr>\n",
       "    <tr>\n",
       "      <th>12</th>\n",
       "      <td>IMD 8,10</td>\n",
       "      <td>7.5</td>\n",
       "      <td>95.5</td>\n",
       "      <td>91.9</td>\n",
       "      <td>48.8</td>\n",
       "      <td>99.6</td>\n",
       "      <td>.94</td>\n",
       "      <td>14.7</td>\n",
       "    </tr>\n",
       "    <tr>\n",
       "      <th>13</th>\n",
       "      <td>London</td>\n",
       "      <td>6.2</td>\n",
       "      <td>93.8</td>\n",
       "      <td>94.6</td>\n",
       "      <td>53.7</td>\n",
       "      <td>99.6</td>\n",
       "      <td>.94</td>\n",
       "      <td>10.9</td>\n",
       "    </tr>\n",
       "    <tr>\n",
       "      <th>14</th>\n",
       "      <td>Midlands</td>\n",
       "      <td>8.6</td>\n",
       "      <td>95.5</td>\n",
       "      <td>89.8</td>\n",
       "      <td>46.9</td>\n",
       "      <td>99.5</td>\n",
       "      <td>.93</td>\n",
       "      <td>17.5</td>\n",
       "    </tr>\n",
       "    <tr>\n",
       "      <th>15</th>\n",
       "      <td>Yorkshire</td>\n",
       "      <td>7.3</td>\n",
       "      <td>96.5</td>\n",
       "      <td>91.2</td>\n",
       "      <td>46.5</td>\n",
       "      <td>99.7</td>\n",
       "      <td>.94</td>\n",
       "      <td>15.2</td>\n",
       "    </tr>\n",
       "    <tr>\n",
       "      <th>16</th>\n",
       "      <td>North West</td>\n",
       "      <td>7.6</td>\n",
       "      <td>94.7</td>\n",
       "      <td>92</td>\n",
       "      <td>49.5</td>\n",
       "      <td>99.5</td>\n",
       "      <td>.93</td>\n",
       "      <td>14.6</td>\n",
       "    </tr>\n",
       "    <tr>\n",
       "      <th>17</th>\n",
       "      <td>South East</td>\n",
       "      <td>6.7</td>\n",
       "      <td>95.4</td>\n",
       "      <td>92.5</td>\n",
       "      <td>47.8</td>\n",
       "      <td>99.6</td>\n",
       "      <td>.94</td>\n",
       "      <td>13.4</td>\n",
       "    </tr>\n",
       "    <tr>\n",
       "      <th>18</th>\n",
       "      <td>South West</td>\n",
       "      <td>8.2</td>\n",
       "      <td>95.6</td>\n",
       "      <td>90.8</td>\n",
       "      <td>47.9</td>\n",
       "      <td>99.6</td>\n",
       "      <td>.93</td>\n",
       "      <td>16.3</td>\n",
       "    </tr>\n",
       "    <tr>\n",
       "      <th>19</th>\n",
       "      <td>SystemOne</td>\n",
       "      <td>7.9</td>\n",
       "      <td>96.2</td>\n",
       "      <td>90.5</td>\n",
       "      <td>46.4</td>\n",
       "      <td>99.6</td>\n",
       "      <td>.93</td>\n",
       "      <td>16.4</td>\n",
       "    </tr>\n",
       "    <tr>\n",
       "      <th>20</th>\n",
       "      <td>Vision</td>\n",
       "      <td>8</td>\n",
       "      <td>94.8</td>\n",
       "      <td>91.4</td>\n",
       "      <td>49.2</td>\n",
       "      <td>99.5</td>\n",
       "      <td>.93</td>\n",
       "      <td>15.5</td>\n",
       "    </tr>\n",
       "    <tr>\n",
       "      <th>21</th>\n",
       "      <td>EMIS</td>\n",
       "      <td>7.3</td>\n",
       "      <td>94.7</td>\n",
       "      <td>92.3</td>\n",
       "      <td>49.4</td>\n",
       "      <td>99.6</td>\n",
       "      <td>.94</td>\n",
       "      <td>14</td>\n",
       "    </tr>\n",
       "    <tr>\n",
       "      <th>22</th>\n",
       "      <td>RAIndex1</td>\n",
       "      <td>7.5</td>\n",
       "      <td>95.2</td>\n",
       "      <td>91.7</td>\n",
       "      <td>48.2</td>\n",
       "      <td>99.6</td>\n",
       "      <td>.93</td>\n",
       "      <td>14.8</td>\n",
       "    </tr>\n",
       "    <tr>\n",
       "      <th>23</th>\n",
       "      <td>RAIndex0</td>\n",
       "      <td>8.1</td>\n",
       "      <td>96.4</td>\n",
       "      <td>90.1</td>\n",
       "      <td>46.3</td>\n",
       "      <td>99.6</td>\n",
       "      <td>.93</td>\n",
       "      <td>16.9</td>\n",
       "    </tr>\n",
       "    <tr>\n",
       "      <th>24</th>\n",
       "      <td>Ethnicity_0white</td>\n",
       "      <td>9</td>\n",
       "      <td>96.1</td>\n",
       "      <td>89.9</td>\n",
       "      <td>48.4</td>\n",
       "      <td>99.6</td>\n",
       "      <td>.93</td>\n",
       "      <td>17.9</td>\n",
       "    </tr>\n",
       "    <tr>\n",
       "      <th>25</th>\n",
       "      <td>Ethnicity_Other</td>\n",
       "      <td>6.1</td>\n",
       "      <td>93.2</td>\n",
       "      <td>94.1</td>\n",
       "      <td>50.3</td>\n",
       "      <td>99.5</td>\n",
       "      <td>.94</td>\n",
       "      <td>11.3</td>\n",
       "    </tr>\n",
       "    <tr>\n",
       "      <th>26</th>\n",
       "      <td>Ethnicity_Missing</td>\n",
       "      <td>5.4</td>\n",
       "      <td>94.4</td>\n",
       "      <td>93.2</td>\n",
       "      <td>44.3</td>\n",
       "      <td>99.7</td>\n",
       "      <td>.94</td>\n",
       "      <td>11.5</td>\n",
       "    </tr>\n",
       "  </tbody>\n",
       "</table>\n",
       "</div>"
      ]
     },
     "metadata": {},
     "output_type": "display_data"
    }
   ],
   "source": [
    "%head 50"
   ]
  },
  {
   "cell_type": "code",
   "execution_count": 48,
   "id": "47dc850c-f3c8-4b9c-8ba9-3620f31b4fa9",
   "metadata": {},
   "outputs": [
    {
     "name": "stdout",
     "output_type": "stream",
     "text": [
      "file validity2.xlsx saved\n"
     ]
    }
   ],
   "source": [
    "/*texsave * using test3.tex, varlabels*/\n",
    "export excel using  validity2.xlsx, sheet(val_asthma, replace)"
   ]
  }
 ],
 "metadata": {
  "kernelspec": {
   "display_name": "Stata (nbstata)",
   "language": "stata",
   "name": "nbstata"
  },
  "language_info": {
   "file_extension": ".do",
   "mimetype": "text/x-stata",
   "name": "stata",
   "version": "17"
  }
 },
 "nbformat": 4,
 "nbformat_minor": 5
}
