{
 "cells": [
  {
   "cell_type": "markdown",
   "id": "13e469d7",
   "metadata": {},
   "source": [
    "# Validity of using prescription records to identify patient comorbidities\n",
    "## Analysis of heart failure"
   ]
  },
  {
   "cell_type": "markdown",
   "id": "a3d5caf8",
   "metadata": {},
   "source": [
    "**ReadMe:**\n",
    "- This is a script used in the analysis for Schnier et al., 2025: Validity of using prescription records to classify disease – a record linkage study using routinely collected electronic health records from the UK.\n",
    "- The underlying data set has been created using the Optimum Patient Care Research Database (https://opcrd.optimumpatientcare.org/). The authors do not have permission to give the public access to the study dataset; researchers may request access to OPCRD for their own purposes. \n",
    " - All code is run in StataSE 18. \n"
   ]
  },
  {
   "cell_type": "markdown",
   "id": "1cf02e3e-e834-469d-abf1-21c9ce29f756",
   "metadata": {},
   "source": [
    "**Set up:**\n",
    "|Var|Input|\n",
    "| --- | --- | \n",
    "|population|425,000|\n",
    "|diagnostic codes|open codelist for snomed; hdruk for readv2|\n",
    "|drug codes|bnf selection|\n",
    "|sql date|14.03.2025|\n",
    "|sql code|chfselection20250313.sql| "
   ]
  },
  {
   "cell_type": "code",
   "execution_count": 1,
   "id": "2a759161-052f-4433-ab6c-0ad7ab9120e9",
   "metadata": {},
   "outputs": [
    {
     "data": {
      "text/html": [
       "<style>div.jp-Notebook .datagrid-container {min-height: 448px; }</style>"
      ],
      "text/plain": [
       "<IPython.core.display.HTML object>"
      ]
     },
     "metadata": {},
     "output_type": "display_data"
    }
   ],
   "source": [
    "    clear all"
   ]
  },
  {
   "cell_type": "markdown",
   "id": "5e9a592b-20c3-4eb6-b947-22979a02dcf0",
   "metadata": {},
   "source": [
    "### Import from SQL server and data wrangling"
   ]
  },
  {
   "cell_type": "code",
   "execution_count": 2,
   "id": "b5b5eb32-1b5c-44c2-901c-0e9d1a4e36d2",
   "metadata": {},
   "outputs": [],
   "source": [
    "odbc load, exec(\"select * from [chf_425000_20250313]\") dsn(\"sqlserverconnect\")"
   ]
  },
  {
   "cell_type": "code",
   "execution_count": 3,
   "id": "0835f95f-a07b-4d29-b825-b3823bfad60e",
   "metadata": {
    "scrolled": true
   },
   "outputs": [
    {
     "name": "stdout",
     "output_type": "stream",
     "text": [
      "(85,053 missing values generated)\n",
      "(85,053 real changes made)\n",
      "(7,488 missing values generated)\n",
      "(7,488 real changes made)\n",
      "(2,589 missing values generated)\n",
      "variable bnf_code was str6 now str31\n",
      "(14,118 real changes made)\n",
      "(15,991 real changes made)\n",
      "(1,832 real changes made)\n",
      "variable bnf_code was str31 now str38\n",
      "(1,296 real changes made)\n",
      "variable bnf_code was str38 now str40\n",
      "(51,608 real changes made)\n",
      "(25 real changes made)\n",
      "(154 real changes made)\n",
      "(29 real changes made)\n",
      "variable ethnicity was str2 now str6\n",
      "(257,981 real changes made)\n",
      "(3,762 real changes made)\n",
      "(23,912 real changes made)\n",
      "(7,430 real changes made)\n",
      "(8,764 real changes made)\n",
      "variable ethnicity was str6 now str7\n",
      "(123,151 real changes made)\n"
     ]
    }
   ],
   "source": [
    "generate test=0 if missing(drug_dt)\n",
    "replace test=1 if ! missing(drug_dt)  \n",
    "\n",
    "generate diag=0 if missing(diag_dt)\n",
    "replace diag=1 if ! missing(diag_dt)  \n",
    "\n",
    "gen start_year=year(fu_start_dt)\n",
    "\n",
    "\n",
    "egen agecat = cut(age), at(16,30,70,120)\n",
    "label def agecat_lab 16 \"Young\" 30 \"0Middle\" 70 \"Elderly\" 120 \"weird\"\n",
    "label values agecat agecat_lab\n",
    "\n",
    "egen yearcat = cut(start_year), at(2004,2010,2016,2025)\n",
    "label def yearcat_lab 2004 \"2004-2009\" 2010 \"2010-2015\" 2016 \"2016-2020\" \n",
    "label values yearcat yearcat_lab\n",
    "\n",
    "egen imdcat = cut(imd_decile), at(0,4,8,11)\n",
    "label def imdcat_lab 0 \"1-3\" 4 \"4-7\" 8 \"8-10\" \n",
    "label values imdcat imdcat_lab\n",
    "\n",
    "\n",
    "replace bnf_code = \"Thiazides and related diuretics\" if bnf_code== \"020201\"\n",
    "replace bnf_code = \"Loop diuretics\" if bnf_code== \"020202\"\n",
    "replace bnf_code = \"Potassium sparing diuretics\" if bnf_code== \"020203\"\n",
    "replace bnf_code = \"Potassium sparing diuretics plus other\" if bnf_code== \"020204\"\n",
    "replace bnf_code = \"Drugs affecting resin-angiotensin system\"  if bnf_code== \"020505\"\n",
    "replace bnf_code = \"Diuretics with potassium\"  if bnf_code== \"020208\"\n",
    "replace bnf_code = \"Other/unknown\" if missing(bnf_code) & ! missing(drug_dt)\n",
    "replace bnf_code = \"Other/unknown\" if substr(bnf_code,1,1) ==\"0\" | substr(bnf_code,1,1) ==\"1\" \n",
    "\n",
    "\n",
    "\n",
    "replace ethnicity=\"0white\" if ethnicity==\"1\"\n",
    "replace ethnicity=\"Other\" if ethnicity==\"2\"\n",
    "replace ethnicity=\"Other\" if ethnicity==\"3\"\n",
    "replace ethnicity=\"Other\" if ethnicity==\"4\"\n",
    "replace ethnicity=\"Other\" if ethnicity==\"5\"\n",
    "replace ethnicity=\"Missing\" if ethnicity==\"99\"\n",
    "\n",
    "\n",
    "encode bnf_code, generate(bnf_code_values) \n",
    "encode description, generate(description_values)\n",
    "encode ethnicity, generate(ethnicity_values) \n",
    "\n",
    "gen diag_neg=diag==0\n",
    "gen diag_pos=diag==1\n",
    "encode region_name, generate(region) label(regionlbl)\n",
    "encode ethnicity, generate(ethnic)\n"
   ]
  },
  {
   "cell_type": "code",
   "execution_count": 4,
   "id": "4bb67b58-5460-4077-bd5d-6252a35d7c1e",
   "metadata": {},
   "outputs": [
    {
     "name": "stdout",
     "output_type": "stream",
     "text": [
      "(bin=19, start=16, width=5)\n"
     ]
    },
    {
     "data": {
      "image/png": "[encoded data removed]",
      "text/plain": [
       "<IPython.core.display.Image object>"
      ]
     },
     "metadata": {},
     "output_type": "display_data"
    }
   ],
   "source": [
    "histogram age, width(5)\n"
   ]
  },
  {
   "cell_type": "markdown",
   "id": "cfdd2c1f-86b9-4840-8106-662ce151f20e",
   "metadata": {},
   "source": [
    "This table holds one randomly selected diagnostic code found during the observation period. The table is truncated to only include diagnostic codes with a count of 10 or more."
   ]
  },
  {
   "cell_type": "code",
   "execution_count": 5,
   "id": "6544a018-204b-4fcb-b5ab-d9ec745e764f",
   "metadata": {},
   "outputs": [
    {
     "name": "stdout",
     "output_type": "stream",
     "text": [
      "\n",
      "  +----------------------------------------------------------------------------------------+\n",
      "  |                                                  description   Freq.   Percent     %<= |\n",
      "  |----------------------------------------------------------------------------------------|\n",
      "  |                                                Heart failure    1749     23.36   23.36 |\n",
      "  |                       Heart failure: [right] or [congestive]     451      6.02   29.38 |\n",
      "  |   Echocardiogram shows left ventricular systolic dysfunction     416      5.56   34.94 |\n",
      "  |                        Left ventricular systolic dysfunction     405      5.41   40.34 |\n",
      "  |                           Impaired left ventricular function     373      4.98   45.33 |\n",
      "  |----------------------------------------------------------------------------------------|\n",
      "  | (L ventric:[fail][imp func]) or (card asth) or (ac pulm oed)     348      4.65   49.97 |\n",
      "  |                                           Left heart failure     335      4.47   54.45 |\n",
      "  |                                  Heart failure annual review     273      3.65   58.09 |\n",
      "  |                                     Congestive heart failure     233      3.11   61.20 |\n",
      "  |                                     Left ventricular failure     228      3.04   64.25 |\n",
      "  |----------------------------------------------------------------------------------------|\n",
      "  |                             Chronic congestive heart failure     225      3.00   67.25 |\n",
      "  |                       Biventricular congestive heart failure     223      2.98   70.23 |\n",
      "  |                                        Biventricular failure     170      2.27   72.50 |\n",
      "  |                        Heart failure monitoring first letter     151      2.02   74.52 |\n",
      "  |         New York Heart Association classification - class II     137      1.83   76.35 |\n",
      "  |----------------------------------------------------------------------------------------|\n",
      "  |  Echocardiogram shows left ventricular diastolic dysfunction     130      1.74   78.08 |\n",
      "  |                                         Pulmonary oedema NOS     130      1.74   79.82 |\n",
      "  |                               Heart failure review completed     127      1.70   81.52 |\n",
      "  |                                     History of heart failure     120      1.60   83.12 |\n",
      "  |                                           H/O: heart failure     115      1.54   84.66 |\n",
      "  |----------------------------------------------------------------------------------------|\n",
      "  |                                        Diastolic dysfunction     111      1.48   86.14 |\n",
      "  |                Referral to rapid access heart failure clinic     104      1.39   87.53 |\n",
      "  |                                      Heart failure follow-up      97      1.30   88.82 |\n",
      "  |                       Left ventricular diastolic dysfunction      93      1.24   90.06 |\n",
      "  |        New York Heart Association classification - class III      82      1.10   91.16 |\n",
      "  |----------------------------------------------------------------------------------------|\n",
      "  |                  Heart failure with normal ejection fraction      62      0.83   91.99 |\n",
      "  |                                Decompensated cardiac failure      59      0.79   92.78 |\n",
      "  |                               Acute congestive heart failure      53      0.71   93.48 |\n",
      "  |          New York Heart Association classification - class I      48      0.64   94.12 |\n",
      "  |                                            Heart failure NOS      41      0.55   94.67 |\n",
      "  |----------------------------------------------------------------------------------------|\n",
      "  |                                        Chronic cor pulmonale      36      0.48   95.15 |\n",
      "  |                                        Acute pulmonary edema      34      0.45   95.61 |\n",
      "  |                                          Acute cor pulmonale      33      0.44   96.05 |\n",
      "  |                 Heart failure with reduced ejection fraction      30      0.40   96.45 |\n",
      "  |                                    Right ventricular failure      28      0.37   96.82 |\n",
      "  |----------------------------------------------------------------------------------------|\n",
      "  |                         Left ventricular cardiac dysfunction      23      0.31   97.13 |\n",
      "  |                               Acute left ventricular failure      20      0.27   97.40 |\n",
      "  |                                      Heart failure confirmed      19      0.25   97.65 |\n",
      "  |                                 Heart failure 6 month review      17      0.23   97.88 |\n",
      "  |               Heart failure care plan discussed with patient      16      0.21   98.09 |\n",
      "  |----------------------------------------------------------------------------------------|\n",
      "  |                                          Acute heart failure      14      0.19   98.28 |\n",
      "  +----------------------------------------------------------------------------------------+\n"
     ]
    }
   ],
   "source": [
    "set linesize 132\n",
    "groups description , select(f >= 10) ord(h) table "
   ]
  },
  {
   "cell_type": "markdown",
   "id": "7d01eb90-5ca1-4146-aafb-680a81450cc3",
   "metadata": {},
   "source": [
    "These tables holds one randomly selected prescrption during the observation period. The table is truncated to only include codes with a count of 10 or more.\n"
   ]
  },
  {
   "cell_type": "code",
   "execution_count": 6,
   "id": "a4acd83f-5b6a-49e7-8b49-5dc1f78f2d1a",
   "metadata": {},
   "outputs": [
    {
     "name": "stdout",
     "output_type": "stream",
     "text": [
      "\n",
      "  +---------------------------------------------------------------------+\n",
      "  |                                 bnf_code   Freq.   Percent      %<= |\n",
      "  |---------------------------------------------------------------------|\n",
      "  | Drugs affecting resin-angiotensin system   51608     60.68    60.68 |\n",
      "  |                           Loop diuretics   15991     18.80    79.48 |\n",
      "  |          Thiazides and related diuretics   14118     16.60    96.08 |\n",
      "  |              Potassium sparing diuretics    1832      2.15    98.23 |\n",
      "  |   Potassium sparing diuretics plus other    1296      1.52    99.76 |\n",
      "  |---------------------------------------------------------------------|\n",
      "  |                            Other/unknown     183      0.22    99.97 |\n",
      "  |                 Diuretics with potassium      25      0.03   100.00 |\n",
      "  +---------------------------------------------------------------------+\n"
     ]
    }
   ],
   "source": [
    "set linesize 132\n",
    "groups bnf_code , select(f >= 10) ord(h) table "
   ]
  },
  {
   "cell_type": "markdown",
   "id": "67837c2c-bbb5-4681-8000-cd8b3f6cac51",
   "metadata": {},
   "source": [
    "### Results\n",
    "#### Overall"
   ]
  },
  {
   "cell_type": "code",
   "execution_count": 7,
   "id": "733c0f2e-1179-49dc-b95d-48547a864674",
   "metadata": {},
   "outputs": [
    {
     "name": "stdout",
     "output_type": "stream",
     "text": [
      "\n",
      "           |         test\n",
      "      diag |      Pos.       Neg. |     Total\n",
      "-----------+----------------------+----------\n",
      "  Abnormal |     7,093        395 |     7,488 \n",
      "    Normal |    77,960    339,552 |   417,512 \n",
      "-----------+----------------------+----------\n",
      "     Total |    85,053    339,947 |   425,000 \n",
      "True abnormal diagnosis defined as diag = 1\n",
      "\n",
      "\n",
      "                                                  [95% Confidence Interval]\n",
      "---------------------------------------------------------------------------\n",
      "Prevalence                         Pr(A)      1.8%      1.7%       1.8%\n",
      "---------------------------------------------------------------------------\n",
      "Sensitivity                      Pr(+|A)     94.7%     94.2%     95.2%\n",
      "Specificity                      Pr(-|N)     81.3%     81.2%     81.4%\n",
      "ROC area               (Sens. + Spec.)/2      0.88      0.88      0.88 \n",
      "---------------------------------------------------------------------------\n",
      "Likelihood ratio (+)     Pr(+|A)/Pr(+|N)      5.07      5.03      5.12 \n",
      "Likelihood ratio (-)     Pr(-|A)/Pr(-|N)      0.06      0.06      0.07 \n",
      "Odds ratio                   LR(+)/LR(-)     78.21     70.66     86.57 \n",
      "Positive predictive value        Pr(A|+)      8.3%      8.2%      8.5% \n",
      "Negative predictive value        Pr(N|-)     99.9%     99.9%     99.9% \n",
      "---------------------------------------------------------------------------\n"
     ]
    }
   ],
   "source": [
    "diagt diag test"
   ]
  },
  {
   "cell_type": "markdown",
   "id": "b119ffa3-90d8-4e4f-9f8d-30cca2284b37",
   "metadata": {},
   "source": [
    "#### Males"
   ]
  },
  {
   "cell_type": "code",
   "execution_count": 8,
   "id": "81028f5e-4e7a-4bb4-b0f6-71d8d0821075",
   "metadata": {},
   "outputs": [
    {
     "name": "stdout",
     "output_type": "stream",
     "text": [
      "\n",
      "           |         test\n",
      "      diag |      Pos.       Neg. |     Total\n",
      "-----------+----------------------+----------\n",
      "  Abnormal |     3,856        211 |     4,067 \n",
      "    Normal |    37,165    167,053 |   204,218 \n",
      "-----------+----------------------+----------\n",
      "     Total |    41,021    167,264 |   208,285 \n",
      "True abnormal diagnosis defined as diag = 1\n",
      "\n",
      "\n",
      "                                                  [95% Confidence Interval]\n",
      "---------------------------------------------------------------------------\n",
      "Prevalence                         Pr(A)      2.0%      1.9%       2.0%\n",
      "---------------------------------------------------------------------------\n",
      "Sensitivity                      Pr(+|A)     94.8%     94.1%     95.5%\n",
      "Specificity                      Pr(-|N)     81.8%     81.6%     82.0%\n",
      "ROC area               (Sens. + Spec.)/2      0.88      0.88      0.89 \n",
      "---------------------------------------------------------------------------\n",
      "Likelihood ratio (+)     Pr(+|A)/Pr(+|N)      5.21      5.15      5.27 \n",
      "Likelihood ratio (-)     Pr(-|A)/Pr(-|N)      0.06      0.06      0.07 \n",
      "Odds ratio                   LR(+)/LR(-)     82.14     71.49     94.39 \n",
      "Positive predictive value        Pr(A|+)      9.4%      9.1%      9.7% \n",
      "Negative predictive value        Pr(N|-)     99.9%     99.9%     99.9% \n",
      "---------------------------------------------------------------------------\n"
     ]
    }
   ],
   "source": [
    "diagt diag test if sex==1"
   ]
  },
  {
   "cell_type": "markdown",
   "id": "762df1ac-de32-43e9-8cb3-6696c91e2459",
   "metadata": {},
   "source": [
    "#### Females"
   ]
  },
  {
   "cell_type": "code",
   "execution_count": 9,
   "id": "7fc985e3-7757-4908-ae5a-5d346ee7ccb6",
   "metadata": {},
   "outputs": [
    {
     "name": "stdout",
     "output_type": "stream",
     "text": [
      "\n",
      "           |         test\n",
      "      diag |      Pos.       Neg. |     Total\n",
      "-----------+----------------------+----------\n",
      "  Abnormal |     3,237        184 |     3,421 \n",
      "    Normal |    40,795    172,490 |   213,285 \n",
      "-----------+----------------------+----------\n",
      "     Total |    44,032    172,674 |   216,706 \n",
      "True abnormal diagnosis defined as diag = 1\n",
      "\n",
      "\n",
      "                                                  [95% Confidence Interval]\n",
      "---------------------------------------------------------------------------\n",
      "Prevalence                         Pr(A)      1.6%      1.5%       1.6%\n",
      "---------------------------------------------------------------------------\n",
      "Sensitivity                      Pr(+|A)     94.6%     93.8%     95.4%\n",
      "Specificity                      Pr(-|N)     80.9%     80.7%     81.0%\n",
      "ROC area               (Sens. + Spec.)/2      0.88      0.87      0.88 \n",
      "---------------------------------------------------------------------------\n",
      "Likelihood ratio (+)     Pr(+|A)/Pr(+|N)      4.95      4.89      5.01 \n",
      "Likelihood ratio (-)     Pr(-|A)/Pr(-|N)      0.07      0.06      0.08 \n",
      "Odds ratio                   LR(+)/LR(-)     74.38     64.10     86.32 \n",
      "Positive predictive value        Pr(A|+)      7.4%      7.1%      7.6% \n",
      "Negative predictive value        Pr(N|-)     99.9%     99.9%     99.9% \n",
      "---------------------------------------------------------------------------\n"
     ]
    }
   ],
   "source": [
    "diagt diag test if sex==0"
   ]
  },
  {
   "cell_type": "markdown",
   "id": "ab8954a7-060c-4eba-adea-1044fb6bb9ea",
   "metadata": {},
   "source": [
    "#### Age\n",
    "*16-29*"
   ]
  },
  {
   "cell_type": "code",
   "execution_count": 10,
   "id": "f9aa943b-6489-4d70-a905-4aa3b8f2cb6e",
   "metadata": {},
   "outputs": [
    {
     "name": "stdout",
     "output_type": "stream",
     "text": [
      "\n",
      "           |         test\n",
      "      diag |      Pos.       Neg. |     Total\n",
      "-----------+----------------------+----------\n",
      "  Abnormal |        20          6 |        26 \n",
      "    Normal |       647    117,001 |   117,648 \n",
      "-----------+----------------------+----------\n",
      "     Total |       667    117,007 |   117,674 \n",
      "True abnormal diagnosis defined as diag = 1\n",
      "\n",
      "\n",
      "                                                  [95% Confidence Interval]\n",
      "---------------------------------------------------------------------------\n",
      "Prevalence                         Pr(A)      0.0%      0.0%       0.0%\n",
      "---------------------------------------------------------------------------\n",
      "Sensitivity                      Pr(+|A)     76.9%     56.4%     91.0%\n",
      "Specificity                      Pr(-|N)     99.5%     99.4%     99.5%\n",
      "ROC area               (Sens. + Spec.)/2      0.88      0.80      0.96 \n",
      "---------------------------------------------------------------------------\n",
      "Likelihood ratio (+)     Pr(+|A)/Pr(+|N)    139.87    111.79    175.01 \n",
      "Likelihood ratio (-)     Pr(-|A)/Pr(-|N)      0.23      0.12      0.47 \n",
      "Odds ratio                   LR(+)/LR(-)    602.79    248.31   1462.88 \n",
      "Positive predictive value        Pr(A|+)      3.0%      1.8%      4.6% \n",
      "Negative predictive value        Pr(N|-)    100.0%    100.0%    100.0% \n",
      "---------------------------------------------------------------------------\n"
     ]
    }
   ],
   "source": [
    "diagt diag test if agecat==16"
   ]
  },
  {
   "cell_type": "markdown",
   "id": "999f9154-f87e-44c7-8928-1345fa5c5958",
   "metadata": {},
   "source": [
    "*30-69*"
   ]
  },
  {
   "cell_type": "code",
   "execution_count": 11,
   "id": "6fcb0167-b359-4f24-91e3-a10fb2caa610",
   "metadata": {},
   "outputs": [
    {
     "name": "stdout",
     "output_type": "stream",
     "text": [
      "\n",
      "           |         test\n",
      "      diag |      Pos.       Neg. |     Total\n",
      "-----------+----------------------+----------\n",
      "  Abnormal |     1,567        130 |     1,697 \n",
      "    Normal |    33,195    186,503 |   219,698 \n",
      "-----------+----------------------+----------\n",
      "     Total |    34,762    186,633 |   221,395 \n",
      "True abnormal diagnosis defined as diag = 1\n",
      "\n",
      "\n",
      "                                                  [95% Confidence Interval]\n",
      "---------------------------------------------------------------------------\n",
      "Prevalence                         Pr(A)      0.8%      0.7%       0.8%\n",
      "---------------------------------------------------------------------------\n",
      "Sensitivity                      Pr(+|A)     92.3%     91.0%     93.6%\n",
      "Specificity                      Pr(-|N)     84.9%     84.7%     85.0%\n",
      "ROC area               (Sens. + Spec.)/2      0.89      0.88      0.89 \n",
      "---------------------------------------------------------------------------\n",
      "Likelihood ratio (+)     Pr(+|A)/Pr(+|N)      6.11      6.01      6.22 \n",
      "Likelihood ratio (-)     Pr(-|A)/Pr(-|N)      0.09      0.08      0.11 \n",
      "Odds ratio                   LR(+)/LR(-)     67.72     56.62     81.00 \n",
      "Positive predictive value        Pr(A|+)      4.5%      4.3%      4.7% \n",
      "Negative predictive value        Pr(N|-)     99.9%     99.9%     99.9% \n",
      "---------------------------------------------------------------------------\n"
     ]
    }
   ],
   "source": [
    "diagt diag test if agecat==30"
   ]
  },
  {
   "cell_type": "code",
   "execution_count": 12,
   "id": "fd782079-4378-4cc3-9a2c-4adb92379d41",
   "metadata": {},
   "outputs": [
    {
     "name": "stdout",
     "output_type": "stream",
     "text": [
      "\n",
      "           |         test\n",
      "      diag |      Pos.       Neg. |     Total\n",
      "-----------+----------------------+----------\n",
      "  Abnormal |     5,506        259 |     5,765 \n",
      "    Normal |    44,118     36,048 |    80,166 \n",
      "-----------+----------------------+----------\n",
      "     Total |    49,624     36,307 |    85,931 \n",
      "True abnormal diagnosis defined as diag = 1\n",
      "\n",
      "\n",
      "                                                  [95% Confidence Interval]\n",
      "---------------------------------------------------------------------------\n",
      "Prevalence                         Pr(A)      6.7%      6.5%       6.9%\n",
      "---------------------------------------------------------------------------\n",
      "Sensitivity                      Pr(+|A)     95.5%     94.9%     96.0%\n",
      "Specificity                      Pr(-|N)     45.0%     44.6%     45.3%\n",
      "ROC area               (Sens. + Spec.)/2      0.70      0.70      0.71 \n",
      "---------------------------------------------------------------------------\n",
      "Likelihood ratio (+)     Pr(+|A)/Pr(+|N)      1.74      1.72      1.75 \n",
      "Likelihood ratio (-)     Pr(-|A)/Pr(-|N)      0.10      0.09      0.11 \n",
      "Odds ratio                   LR(+)/LR(-)     17.37     15.32     19.69 \n",
      "Positive predictive value        Pr(A|+)     11.1%     10.8%     11.4% \n",
      "Negative predictive value        Pr(N|-)     99.3%     99.2%     99.4% \n",
      "---------------------------------------------------------------------------\n"
     ]
    }
   ],
   "source": [
    "diagt diag test if agecat==70"
   ]
  },
  {
   "cell_type": "markdown",
   "id": "23455479-0f98-4886-a36c-770376084911",
   "metadata": {},
   "source": [
    "#### Year at start of oberservation period \n",
    "*2004-2009*"
   ]
  },
  {
   "cell_type": "code",
   "execution_count": 13,
   "id": "9c58ecee-bd42-47a9-ad46-f51305e689bf",
   "metadata": {},
   "outputs": [
    {
     "name": "stdout",
     "output_type": "stream",
     "text": [
      "\n",
      "           |         test\n",
      "      diag |      Pos.       Neg. |     Total\n",
      "-----------+----------------------+----------\n",
      "  Abnormal |     2,545         64 |     2,609 \n",
      "    Normal |    34,159    113,232 |   147,391 \n",
      "-----------+----------------------+----------\n",
      "     Total |    36,704    113,296 |   150,000 \n",
      "True abnormal diagnosis defined as diag = 1\n",
      "\n",
      "\n",
      "                                                  [95% Confidence Interval]\n",
      "---------------------------------------------------------------------------\n",
      "Prevalence                         Pr(A)      1.7%      1.7%       1.8%\n",
      "---------------------------------------------------------------------------\n",
      "Sensitivity                      Pr(+|A)     97.5%     96.9%     98.1%\n",
      "Specificity                      Pr(-|N)     76.8%     76.6%     77.0%\n",
      "ROC area               (Sens. + Spec.)/2      0.87      0.87      0.88 \n",
      "---------------------------------------------------------------------------\n",
      "Likelihood ratio (+)     Pr(+|A)/Pr(+|N)      4.21      4.16      4.26 \n",
      "Likelihood ratio (-)     Pr(-|A)/Pr(-|N)      0.03      0.03      0.04 \n",
      "Odds ratio                   LR(+)/LR(-)    131.82    102.89    168.87 \n",
      "Positive predictive value        Pr(A|+)      6.9%      6.7%      7.2% \n",
      "Negative predictive value        Pr(N|-)     99.9%     99.9%    100.0% \n",
      "---------------------------------------------------------------------------\n"
     ]
    }
   ],
   "source": [
    "diagt diag test if yearcat==2004"
   ]
  },
  {
   "cell_type": "markdown",
   "id": "d9f3db50-6898-4b47-81ef-4ea609bb28d8",
   "metadata": {},
   "source": [
    "*2010-2015*"
   ]
  },
  {
   "cell_type": "code",
   "execution_count": 14,
   "id": "6b326410-d900-498f-b736-4ced1ea7fa5d",
   "metadata": {},
   "outputs": [
    {
     "name": "stdout",
     "output_type": "stream",
     "text": [
      "\n",
      "           |         test\n",
      "      diag |      Pos.       Neg. |     Total\n",
      "-----------+----------------------+----------\n",
      "  Abnormal |     2,103        104 |     2,207 \n",
      "    Normal |    26,695    121,098 |   147,793 \n",
      "-----------+----------------------+----------\n",
      "     Total |    28,798    121,202 |   150,000 \n",
      "True abnormal diagnosis defined as diag = 1\n",
      "\n",
      "\n",
      "                                                  [95% Confidence Interval]\n",
      "---------------------------------------------------------------------------\n",
      "Prevalence                         Pr(A)      1.5%      1.4%       1.5%\n",
      "---------------------------------------------------------------------------\n",
      "Sensitivity                      Pr(+|A)     95.3%     94.3%     96.1%\n",
      "Specificity                      Pr(-|N)     81.9%     81.7%     82.1%\n",
      "ROC area               (Sens. + Spec.)/2      0.89      0.88      0.89 \n",
      "---------------------------------------------------------------------------\n",
      "Likelihood ratio (+)     Pr(+|A)/Pr(+|N)      5.28      5.20      5.35 \n",
      "Likelihood ratio (-)     Pr(-|A)/Pr(-|N)      0.06      0.05      0.07 \n",
      "Odds ratio                   LR(+)/LR(-)     91.73     75.33    111.71 \n",
      "Positive predictive value        Pr(A|+)      7.3%      7.0%      7.6% \n",
      "Negative predictive value        Pr(N|-)     99.9%     99.9%     99.9% \n",
      "---------------------------------------------------------------------------\n"
     ]
    }
   ],
   "source": [
    "diagt diag test if yearcat==2010"
   ]
  },
  {
   "cell_type": "markdown",
   "id": "1546a4d9-adee-4208-88e0-3b6aa4d3d14c",
   "metadata": {},
   "source": [
    "*2016-2020*"
   ]
  },
  {
   "cell_type": "code",
   "execution_count": 15,
   "id": "dddfe5ba-1a16-4afc-91e5-cbffb4f25b77",
   "metadata": {},
   "outputs": [
    {
     "name": "stdout",
     "output_type": "stream",
     "text": [
      "\n",
      "           |         test\n",
      "      diag |      Pos.       Neg. |     Total\n",
      "-----------+----------------------+----------\n",
      "  Abnormal |     2,445        227 |     2,672 \n",
      "    Normal |    17,106    105,222 |   122,328 \n",
      "-----------+----------------------+----------\n",
      "     Total |    19,551    105,449 |   125,000 \n",
      "True abnormal diagnosis defined as diag = 1\n",
      "\n",
      "\n",
      "                                                  [95% Confidence Interval]\n",
      "---------------------------------------------------------------------------\n",
      "Prevalence                         Pr(A)      2.1%      2.1%       2.2%\n",
      "---------------------------------------------------------------------------\n",
      "Sensitivity                      Pr(+|A)     91.5%     90.4%     92.5%\n",
      "Specificity                      Pr(-|N)     86.0%     85.8%     86.2%\n",
      "ROC area               (Sens. + Spec.)/2      0.89      0.88      0.89 \n",
      "---------------------------------------------------------------------------\n",
      "Likelihood ratio (+)     Pr(+|A)/Pr(+|N)      6.54      6.43      6.66 \n",
      "Likelihood ratio (-)     Pr(-|A)/Pr(-|N)      0.10      0.09      0.11 \n",
      "Odds ratio                   LR(+)/LR(-)     66.25     57.78     75.97 \n",
      "Positive predictive value        Pr(A|+)     12.5%     12.0%     13.0% \n",
      "Negative predictive value        Pr(N|-)     99.8%     99.8%     99.8% \n",
      "---------------------------------------------------------------------------\n"
     ]
    }
   ],
   "source": [
    "diagt diag test if yearcat==2016"
   ]
  },
  {
   "cell_type": "markdown",
   "id": "9318e823-cf06-4695-a86c-8b96ace454c5",
   "metadata": {},
   "source": [
    "#### IMD of practice\n",
    "*1-3*"
   ]
  },
  {
   "cell_type": "code",
   "execution_count": 16,
   "id": "0c48ed3a-ce83-4c14-9447-6c52d4d82ed3",
   "metadata": {},
   "outputs": [
    {
     "name": "stdout",
     "output_type": "stream",
     "text": [
      "\n",
      "           |         test\n",
      "      diag |      Pos.       Neg. |     Total\n",
      "-----------+----------------------+----------\n",
      "  Abnormal |     2,384        136 |     2,520 \n",
      "    Normal |    26,742    125,289 |   152,031 \n",
      "-----------+----------------------+----------\n",
      "     Total |    29,126    125,425 |   154,551 \n",
      "True abnormal diagnosis defined as diag = 1\n",
      "\n",
      "\n",
      "                                                  [95% Confidence Interval]\n",
      "---------------------------------------------------------------------------\n",
      "Prevalence                         Pr(A)      1.6%      1.6%       1.7%\n",
      "---------------------------------------------------------------------------\n",
      "Sensitivity                      Pr(+|A)     94.6%     93.6%     95.5%\n",
      "Specificity                      Pr(-|N)     82.4%     82.2%     82.6%\n",
      "ROC area               (Sens. + Spec.)/2      0.89      0.88      0.89 \n",
      "---------------------------------------------------------------------------\n",
      "Likelihood ratio (+)     Pr(+|A)/Pr(+|N)      5.38      5.30      5.46 \n",
      "Likelihood ratio (-)     Pr(-|A)/Pr(-|N)      0.07      0.06      0.08 \n",
      "Odds ratio                   LR(+)/LR(-)     82.13     69.07     97.65 \n",
      "Positive predictive value        Pr(A|+)      8.2%      7.9%      8.5% \n",
      "Negative predictive value        Pr(N|-)     99.9%     99.9%     99.9% \n",
      "---------------------------------------------------------------------------\n"
     ]
    }
   ],
   "source": [
    "diagt diag test if imdcat==0"
   ]
  },
  {
   "cell_type": "markdown",
   "id": "cc20d8e3-26a9-4217-989b-54c2c73d0386",
   "metadata": {},
   "source": [
    "*4-7*"
   ]
  },
  {
   "cell_type": "code",
   "execution_count": 17,
   "id": "2f034372-ceb8-4f41-bd39-9d6ef321a64a",
   "metadata": {},
   "outputs": [
    {
     "name": "stdout",
     "output_type": "stream",
     "text": [
      "\n",
      "           |         test\n",
      "      diag |      Pos.       Neg. |     Total\n",
      "-----------+----------------------+----------\n",
      "  Abnormal |     2,606        133 |     2,739 \n",
      "    Normal |    28,706    111,600 |   140,306 \n",
      "-----------+----------------------+----------\n",
      "     Total |    31,312    111,733 |   143,045 \n",
      "True abnormal diagnosis defined as diag = 1\n",
      "\n",
      "\n",
      "                                                  [95% Confidence Interval]\n",
      "---------------------------------------------------------------------------\n",
      "Prevalence                         Pr(A)      1.9%      1.8%       2.0%\n",
      "---------------------------------------------------------------------------\n",
      "Sensitivity                      Pr(+|A)     95.1%     94.3%     95.9%\n",
      "Specificity                      Pr(-|N)     79.5%     79.3%     79.8%\n",
      "ROC area               (Sens. + Spec.)/2      0.87      0.87      0.88 \n",
      "---------------------------------------------------------------------------\n",
      "Likelihood ratio (+)     Pr(+|A)/Pr(+|N)      4.65      4.59      4.71 \n",
      "Likelihood ratio (-)     Pr(-|A)/Pr(-|N)      0.06      0.05      0.07 \n",
      "Odds ratio                   LR(+)/LR(-)     76.18     63.98     90.70 \n",
      "Positive predictive value        Pr(A|+)      8.3%      8.0%      8.6% \n",
      "Negative predictive value        Pr(N|-)     99.9%     99.9%     99.9% \n",
      "---------------------------------------------------------------------------\n"
     ]
    }
   ],
   "source": [
    "diagt diag test if imdcat==4"
   ]
  },
  {
   "cell_type": "markdown",
   "id": "a843bc14-ff1a-4435-a50c-c9769b8c3d3b",
   "metadata": {},
   "source": [
    "*8-10*"
   ]
  },
  {
   "cell_type": "code",
   "execution_count": 18,
   "id": "e52a500d-f3cf-4da6-997c-bbc1e902d199",
   "metadata": {},
   "outputs": [
    {
     "name": "stdout",
     "output_type": "stream",
     "text": [
      "\n",
      "           |         test\n",
      "      diag |      Pos.       Neg. |     Total\n",
      "-----------+----------------------+----------\n",
      "  Abnormal |     2,098        126 |     2,224 \n",
      "    Normal |    22,441    100,150 |   122,591 \n",
      "-----------+----------------------+----------\n",
      "     Total |    24,539    100,276 |   124,815 \n",
      "True abnormal diagnosis defined as diag = 1\n",
      "\n",
      "\n",
      "                                                  [95% Confidence Interval]\n",
      "---------------------------------------------------------------------------\n",
      "Prevalence                         Pr(A)      1.8%      1.7%       1.9%\n",
      "---------------------------------------------------------------------------\n",
      "Sensitivity                      Pr(+|A)     94.3%     93.3%     95.3%\n",
      "Specificity                      Pr(-|N)     81.7%     81.5%     81.9%\n",
      "ROC area               (Sens. + Spec.)/2      0.88      0.88      0.89 \n",
      "---------------------------------------------------------------------------\n",
      "Likelihood ratio (+)     Pr(+|A)/Pr(+|N)      5.15      5.07      5.23 \n",
      "Likelihood ratio (-)     Pr(-|A)/Pr(-|N)      0.07      0.06      0.08 \n",
      "Odds ratio                   LR(+)/LR(-)     74.31     62.06     88.97 \n",
      "Positive predictive value        Pr(A|+)      8.5%      8.2%      8.9% \n",
      "Negative predictive value        Pr(N|-)     99.9%     99.9%     99.9% \n",
      "---------------------------------------------------------------------------\n"
     ]
    }
   ],
   "source": [
    "diagt diag test if imdcat==8"
   ]
  },
  {
   "cell_type": "markdown",
   "id": "cbbde183-5b60-4618-a548-81135cae76a0",
   "metadata": {},
   "source": [
    "#### Commissioning Regions\n",
    "EAST OF ENGLAND"
   ]
  },
  {
   "cell_type": "code",
   "execution_count": 19,
   "id": "1254da50-3ca4-47a1-b4d8-e07c6d920177",
   "metadata": {},
   "outputs": [
    {
     "name": "stdout",
     "output_type": "stream",
     "text": [
      "\n",
      "           |         test\n",
      "      diag |      Pos.       Neg. |     Total\n",
      "-----------+----------------------+----------\n",
      "  Abnormal |     1,509         67 |     1,576 \n",
      "    Normal |    18,654     69,407 |    88,061 \n",
      "-----------+----------------------+----------\n",
      "     Total |    20,163     69,474 |    89,637 \n",
      "True abnormal diagnosis defined as diag = 1\n",
      "\n",
      "\n",
      "                                                  [95% Confidence Interval]\n",
      "---------------------------------------------------------------------------\n",
      "Prevalence                         Pr(A)      1.8%      1.7%       1.8%\n",
      "---------------------------------------------------------------------------\n",
      "Sensitivity                      Pr(+|A)     95.7%     94.6%     96.7%\n",
      "Specificity                      Pr(-|N)     78.8%     78.5%     79.1%\n",
      "ROC area               (Sens. + Spec.)/2      0.87      0.87      0.88 \n",
      "---------------------------------------------------------------------------\n",
      "Likelihood ratio (+)     Pr(+|A)/Pr(+|N)      4.52      4.45      4.60 \n",
      "Likelihood ratio (-)     Pr(-|A)/Pr(-|N)      0.05      0.04      0.07 \n",
      "Odds ratio                   LR(+)/LR(-)     83.80     65.62    107.03 \n",
      "Positive predictive value        Pr(A|+)      7.5%      7.1%      7.9% \n",
      "Negative predictive value        Pr(N|-)     99.9%     99.9%     99.9% \n",
      "---------------------------------------------------------------------------\n"
     ]
    }
   ],
   "source": [
    "diagt diag test if regexm(region_name,\"ENGLAND\")==1"
   ]
  },
  {
   "cell_type": "markdown",
   "id": "b2f2b2c7-4c3b-4ae5-ad03-8edfbc58938d",
   "metadata": {},
   "source": [
    "London"
   ]
  },
  {
   "cell_type": "code",
   "execution_count": 20,
   "id": "18195511-cedc-42b1-8bae-bc6621364814",
   "metadata": {},
   "outputs": [
    {
     "name": "stdout",
     "output_type": "stream",
     "text": [
      "\n",
      "           |         test\n",
      "      diag |      Pos.       Neg. |     Total\n",
      "-----------+----------------------+----------\n",
      "  Abnormal |       148         13 |       161 \n",
      "    Normal |     1,342     15,222 |    16,564 \n",
      "-----------+----------------------+----------\n",
      "     Total |     1,490     15,235 |    16,725 \n",
      "True abnormal diagnosis defined as diag = 1\n",
      "\n",
      "\n",
      "                                                  [95% Confidence Interval]\n",
      "---------------------------------------------------------------------------\n",
      "Prevalence                         Pr(A)      1.0%      0.8%       1.1%\n",
      "---------------------------------------------------------------------------\n",
      "Sensitivity                      Pr(+|A)     91.9%     86.6%     95.6%\n",
      "Specificity                      Pr(-|N)     91.9%     91.5%     92.3%\n",
      "ROC area               (Sens. + Spec.)/2      0.92      0.90      0.94 \n",
      "---------------------------------------------------------------------------\n",
      "Likelihood ratio (+)     Pr(+|A)/Pr(+|N)     11.35     10.59     12.15 \n",
      "Likelihood ratio (-)     Pr(-|A)/Pr(-|N)      0.09      0.05      0.15 \n",
      "Odds ratio                   LR(+)/LR(-)    129.13     73.59    226.60 \n",
      "Positive predictive value        Pr(A|+)      9.9%      8.5%     11.6% \n",
      "Negative predictive value        Pr(N|-)     99.9%     99.9%    100.0% \n",
      "---------------------------------------------------------------------------\n"
     ]
    }
   ],
   "source": [
    "diagt diag test if regexm(region_name,\"LONDON\")==1"
   ]
  },
  {
   "cell_type": "markdown",
   "id": "1a78f370-7ebd-4e70-b301-73c6e75003fd",
   "metadata": {},
   "source": [
    "Midlands"
   ]
  },
  {
   "cell_type": "code",
   "execution_count": 21,
   "id": "265ce394-6410-4e76-a064-ec3d32c30eee",
   "metadata": {},
   "outputs": [
    {
     "name": "stdout",
     "output_type": "stream",
     "text": [
      "\n",
      "           |         test\n",
      "      diag |      Pos.       Neg. |     Total\n",
      "-----------+----------------------+----------\n",
      "  Abnormal |     1,007         54 |     1,061 \n",
      "    Normal |     9,756     35,726 |    45,482 \n",
      "-----------+----------------------+----------\n",
      "     Total |    10,763     35,780 |    46,543 \n",
      "True abnormal diagnosis defined as diag = 1\n",
      "\n",
      "\n",
      "                                                  [95% Confidence Interval]\n",
      "---------------------------------------------------------------------------\n",
      "Prevalence                         Pr(A)      2.3%      2.1%       2.4%\n",
      "---------------------------------------------------------------------------\n",
      "Sensitivity                      Pr(+|A)     94.9%     93.4%     96.2%\n",
      "Specificity                      Pr(-|N)     78.5%     78.2%     78.9%\n",
      "ROC area               (Sens. + Spec.)/2      0.87      0.86      0.87 \n",
      "---------------------------------------------------------------------------\n",
      "Likelihood ratio (+)     Pr(+|A)/Pr(+|N)      4.42      4.33      4.53 \n",
      "Likelihood ratio (-)     Pr(-|A)/Pr(-|N)      0.06      0.05      0.08 \n",
      "Odds ratio                   LR(+)/LR(-)     68.29     51.93     89.80 \n",
      "Positive predictive value        Pr(A|+)      9.4%      8.8%      9.9% \n",
      "Negative predictive value        Pr(N|-)     99.8%     99.8%     99.9% \n",
      "---------------------------------------------------------------------------\n"
     ]
    }
   ],
   "source": [
    "diagt diag test if regexm(region_name,\"MID\")==1"
   ]
  },
  {
   "cell_type": "markdown",
   "id": "0769a779-b7ae-4496-9ed2-a6feb1a1a94a",
   "metadata": {},
   "source": [
    "Yorkshire"
   ]
  },
  {
   "cell_type": "code",
   "execution_count": 22,
   "id": "83d73532-38e7-4fb2-a39b-5c1ef1b5b717",
   "metadata": {},
   "outputs": [
    {
     "name": "stdout",
     "output_type": "stream",
     "text": [
      "\n",
      "           |         test\n",
      "      diag |      Pos.       Neg. |     Total\n",
      "-----------+----------------------+----------\n",
      "  Abnormal |     1,558         93 |     1,651 \n",
      "    Normal |    15,394     69,066 |    84,460 \n",
      "-----------+----------------------+----------\n",
      "     Total |    16,952     69,159 |    86,111 \n",
      "True abnormal diagnosis defined as diag = 1\n",
      "\n",
      "\n",
      "                                                  [95% Confidence Interval]\n",
      "---------------------------------------------------------------------------\n",
      "Prevalence                         Pr(A)      1.9%      1.8%       2.0%\n",
      "---------------------------------------------------------------------------\n",
      "Sensitivity                      Pr(+|A)     94.4%     93.1%     95.4%\n",
      "Specificity                      Pr(-|N)     81.8%     81.5%     82.0%\n",
      "ROC area               (Sens. + Spec.)/2      0.88      0.87      0.89 \n",
      "---------------------------------------------------------------------------\n",
      "Likelihood ratio (+)     Pr(+|A)/Pr(+|N)      5.18      5.08      5.27 \n",
      "Likelihood ratio (-)     Pr(-|A)/Pr(-|N)      0.07      0.06      0.08 \n",
      "Odds ratio                   LR(+)/LR(-)     75.16     60.95     92.68 \n",
      "Positive predictive value        Pr(A|+)      9.2%      8.8%      9.6% \n",
      "Negative predictive value        Pr(N|-)     99.9%     99.8%     99.9% \n",
      "---------------------------------------------------------------------------\n"
     ]
    }
   ],
   "source": [
    "diagt diag test if regexm(region_name,\"YORK\")==1"
   ]
  },
  {
   "cell_type": "markdown",
   "id": "247339ad-15c3-4ac2-9458-c8b14082ff8c",
   "metadata": {},
   "source": [
    "North West"
   ]
  },
  {
   "cell_type": "code",
   "execution_count": 23,
   "id": "f9ddd2b2-2aa8-49c0-8d9b-ac27a3db55be",
   "metadata": {},
   "outputs": [
    {
     "name": "stdout",
     "output_type": "stream",
     "text": [
      "\n",
      "           |         test\n",
      "      diag |      Pos.       Neg. |     Total\n",
      "-----------+----------------------+----------\n",
      "  Abnormal |       731         46 |       777 \n",
      "    Normal |     6,929     39,887 |    46,816 \n",
      "-----------+----------------------+----------\n",
      "     Total |     7,660     39,933 |    47,593 \n",
      "True abnormal diagnosis defined as diag = 1\n",
      "\n",
      "\n",
      "                                                  [95% Confidence Interval]\n",
      "---------------------------------------------------------------------------\n",
      "Prevalence                         Pr(A)      1.6%      1.5%       1.8%\n",
      "---------------------------------------------------------------------------\n",
      "Sensitivity                      Pr(+|A)     94.1%     92.2%     95.6%\n",
      "Specificity                      Pr(-|N)     85.2%     84.9%     85.5%\n",
      "ROC area               (Sens. + Spec.)/2      0.90      0.89      0.90 \n",
      "---------------------------------------------------------------------------\n",
      "Likelihood ratio (+)     Pr(+|A)/Pr(+|N)      6.36      6.18      6.54 \n",
      "Likelihood ratio (-)     Pr(-|A)/Pr(-|N)      0.07      0.05      0.09 \n",
      "Odds ratio                   LR(+)/LR(-)     91.48     67.91    123.23 \n",
      "Positive predictive value        Pr(A|+)      9.5%      8.9%     10.2% \n",
      "Negative predictive value        Pr(N|-)     99.9%     99.8%     99.9% \n",
      "---------------------------------------------------------------------------\n"
     ]
    }
   ],
   "source": [
    "diagt diag test if regexm(region_name,\"NORTH\")==1 & regexm(region_name,\"WEST\")==1"
   ]
  },
  {
   "cell_type": "markdown",
   "id": "cac4bda2-216c-4294-ab6d-5338aa93d23c",
   "metadata": {},
   "source": [
    "South East"
   ]
  },
  {
   "cell_type": "code",
   "execution_count": 24,
   "id": "883a5bf4-de79-4ba9-9bb2-95f85e3bccb3",
   "metadata": {},
   "outputs": [
    {
     "name": "stdout",
     "output_type": "stream",
     "text": [
      "\n",
      "           |         test\n",
      "      diag |      Pos.       Neg. |     Total\n",
      "-----------+----------------------+----------\n",
      "  Abnormal |     1,252         77 |     1,329 \n",
      "    Normal |    15,210     73,946 |    89,156 \n",
      "-----------+----------------------+----------\n",
      "     Total |    16,462     74,023 |    90,485 \n",
      "True abnormal diagnosis defined as diag = 1\n",
      "\n",
      "\n",
      "                                                  [95% Confidence Interval]\n",
      "---------------------------------------------------------------------------\n",
      "Prevalence                         Pr(A)      1.5%      1.4%       1.5%\n",
      "---------------------------------------------------------------------------\n",
      "Sensitivity                      Pr(+|A)     94.2%     92.8%     95.4%\n",
      "Specificity                      Pr(-|N)     82.9%     82.7%     83.2%\n",
      "ROC area               (Sens. + Spec.)/2      0.89      0.88      0.89 \n",
      "---------------------------------------------------------------------------\n",
      "Likelihood ratio (+)     Pr(+|A)/Pr(+|N)      5.52      5.41      5.63 \n",
      "Likelihood ratio (-)     Pr(-|A)/Pr(-|N)      0.07      0.06      0.09 \n",
      "Odds ratio                   LR(+)/LR(-)     79.05     62.79     99.52 \n",
      "Positive predictive value        Pr(A|+)      7.6%      7.2%      8.0% \n",
      "Negative predictive value        Pr(N|-)     99.9%     99.9%     99.9% \n",
      "---------------------------------------------------------------------------\n"
     ]
    }
   ],
   "source": [
    "diagt diag test if regexm(region_name,\"SOUTH\")==1 & regexm(region_name,\"EAST\")==1"
   ]
  },
  {
   "cell_type": "markdown",
   "id": "c31c4086-ecd2-43b5-a175-a49e64a0593a",
   "metadata": {},
   "source": [
    "South West"
   ]
  },
  {
   "cell_type": "code",
   "execution_count": 25,
   "id": "db24609a-c78c-4959-8f77-be636e5b8a66",
   "metadata": {},
   "outputs": [
    {
     "name": "stdout",
     "output_type": "stream",
     "text": [
      "\n",
      "           |         test\n",
      "      diag |      Pos.       Neg. |     Total\n",
      "-----------+----------------------+----------\n",
      "  Abnormal |       728         38 |       766 \n",
      "    Normal |     8,553     26,857 |    35,410 \n",
      "-----------+----------------------+----------\n",
      "     Total |     9,281     26,895 |    36,176 \n",
      "True abnormal diagnosis defined as diag = 1\n",
      "\n",
      "\n",
      "                                                  [95% Confidence Interval]\n",
      "---------------------------------------------------------------------------\n",
      "Prevalence                         Pr(A)      2.1%      2.0%       2.3%\n",
      "---------------------------------------------------------------------------\n",
      "Sensitivity                      Pr(+|A)     95.0%     93.3%     96.5%\n",
      "Specificity                      Pr(-|N)     75.8%     75.4%     76.3%\n",
      "ROC area               (Sens. + Spec.)/2      0.85      0.85      0.86 \n",
      "---------------------------------------------------------------------------\n",
      "Likelihood ratio (+)     Pr(+|A)/Pr(+|N)      3.93      3.84      4.03 \n",
      "Likelihood ratio (-)     Pr(-|A)/Pr(-|N)      0.07      0.05      0.09 \n",
      "Odds ratio                   LR(+)/LR(-)     60.16     43.44     83.31 \n",
      "Positive predictive value        Pr(A|+)      7.8%      7.3%      8.4% \n",
      "Negative predictive value        Pr(N|-)     99.9%     99.8%     99.9% \n",
      "---------------------------------------------------------------------------\n"
     ]
    }
   ],
   "source": [
    "diagt diag test if regexm(region_name,\"SOUTH\")==1 & regexm(region_name,\"WEST\")==1"
   ]
  },
  {
   "cell_type": "markdown",
   "id": "cf33efae-dc21-4b1a-b169-9eaea69c1161",
   "metadata": {},
   "source": [
    "#### System\n",
    "SystmOne"
   ]
  },
  {
   "cell_type": "code",
   "execution_count": 26,
   "id": "26573dfb-79dc-4647-88a6-e19dac9eca61",
   "metadata": {},
   "outputs": [
    {
     "name": "stdout",
     "output_type": "stream",
     "text": [
      "\n",
      "           |         test\n",
      "      diag |      Pos.       Neg. |     Total\n",
      "-----------+----------------------+----------\n",
      "  Abnormal |     4,196        226 |     4,422 \n",
      "    Normal |    46,594    177,739 |   224,333 \n",
      "-----------+----------------------+----------\n",
      "     Total |    50,790    177,965 |   228,755 \n",
      "True abnormal diagnosis defined as diag = 1\n",
      "\n",
      "\n",
      "                                                  [95% Confidence Interval]\n",
      "---------------------------------------------------------------------------\n",
      "Prevalence                         Pr(A)      1.9%      1.9%       2.0%\n",
      "---------------------------------------------------------------------------\n",
      "Sensitivity                      Pr(+|A)     94.9%     94.2%     95.5%\n",
      "Specificity                      Pr(-|N)     79.2%     79.1%     79.4%\n",
      "ROC area               (Sens. + Spec.)/2      0.87      0.87      0.87 \n",
      "---------------------------------------------------------------------------\n",
      "Likelihood ratio (+)     Pr(+|A)/Pr(+|N)      4.57      4.52      4.62 \n",
      "Likelihood ratio (-)     Pr(-|A)/Pr(-|N)      0.06      0.06      0.07 \n",
      "Odds ratio                   LR(+)/LR(-)     70.82     61.93     80.99 \n",
      "Positive predictive value        Pr(A|+)      8.3%      8.0%      8.5% \n",
      "Negative predictive value        Pr(N|-)     99.9%     99.9%     99.9% \n",
      "---------------------------------------------------------------------------\n"
     ]
    }
   ],
   "source": [
    "diagt diag test if regexm(system,\"One\")==1"
   ]
  },
  {
   "cell_type": "markdown",
   "id": "b561f033-d2f3-4c95-ad3f-03b8c65647ea",
   "metadata": {},
   "source": [
    "Vision"
   ]
  },
  {
   "cell_type": "code",
   "execution_count": 27,
   "id": "6bed6f81-5fd6-418e-94ff-96d2de419d3d",
   "metadata": {},
   "outputs": [
    {
     "name": "stdout",
     "output_type": "stream",
     "text": [
      "\n",
      "           |         test\n",
      "      diag |      Pos.       Neg. |     Total\n",
      "-----------+----------------------+----------\n",
      "  Abnormal |       197          9 |       206 \n",
      "    Normal |     2,662     10,876 |    13,538 \n",
      "-----------+----------------------+----------\n",
      "     Total |     2,859     10,885 |    13,744 \n",
      "True abnormal diagnosis defined as diag = 1\n",
      "\n",
      "\n",
      "                                                  [95% Confidence Interval]\n",
      "---------------------------------------------------------------------------\n",
      "Prevalence                         Pr(A)      1.5%      1.3%       1.7%\n",
      "---------------------------------------------------------------------------\n",
      "Sensitivity                      Pr(+|A)     95.6%     91.9%     98.0%\n",
      "Specificity                      Pr(-|N)     80.3%     79.7%     81.0%\n",
      "ROC area               (Sens. + Spec.)/2      0.88      0.87      0.89 \n",
      "---------------------------------------------------------------------------\n",
      "Likelihood ratio (+)     Pr(+|A)/Pr(+|N)      4.86      4.65      5.09 \n",
      "Likelihood ratio (-)     Pr(-|A)/Pr(-|N)      0.05      0.03      0.10 \n",
      "Odds ratio                   LR(+)/LR(-)     89.43     46.34    172.60 \n",
      "Positive predictive value        Pr(A|+)      6.9%      6.0%      7.9% \n",
      "Negative predictive value        Pr(N|-)     99.9%     99.8%    100.0% \n",
      "---------------------------------------------------------------------------\n"
     ]
    }
   ],
   "source": [
    "diagt diag test if regexm(system,\"Vision\")==1"
   ]
  },
  {
   "cell_type": "markdown",
   "id": "65d9cefb-fbb5-4500-8ed3-52074d4e12ad",
   "metadata": {},
   "source": [
    "EMIS"
   ]
  },
  {
   "cell_type": "code",
   "execution_count": 28,
   "id": "18d50bfe-f5c4-4ecb-b822-0d06e3b29224",
   "metadata": {},
   "outputs": [
    {
     "name": "stdout",
     "output_type": "stream",
     "text": [
      "\n",
      "           |         test\n",
      "      diag |      Pos.       Neg. |     Total\n",
      "-----------+----------------------+----------\n",
      "  Abnormal |     2,700        160 |     2,860 \n",
      "    Normal |    28,653    150,852 |   179,505 \n",
      "-----------+----------------------+----------\n",
      "     Total |    31,353    151,012 |   182,365 \n",
      "True abnormal diagnosis defined as diag = 1\n",
      "\n",
      "\n",
      "                                                  [95% Confidence Interval]\n",
      "---------------------------------------------------------------------------\n",
      "Prevalence                         Pr(A)      1.6%      1.5%       1.6%\n",
      "---------------------------------------------------------------------------\n",
      "Sensitivity                      Pr(+|A)     94.4%     93.5%     95.2%\n",
      "Specificity                      Pr(-|N)     84.0%     83.9%     84.2%\n",
      "ROC area               (Sens. + Spec.)/2      0.89      0.89      0.90 \n",
      "---------------------------------------------------------------------------\n",
      "Likelihood ratio (+)     Pr(+|A)/Pr(+|N)      5.91      5.83      6.00 \n",
      "Likelihood ratio (-)     Pr(-|A)/Pr(-|N)      0.07      0.06      0.08 \n",
      "Odds ratio                   LR(+)/LR(-)     88.84     75.72    104.24 \n",
      "Positive predictive value        Pr(A|+)      8.6%      8.3%      8.9% \n",
      "Negative predictive value        Pr(N|-)     99.9%     99.9%     99.9% \n",
      "---------------------------------------------------------------------------\n"
     ]
    }
   ],
   "source": [
    "diagt diag test if regexm(ustrupper(system),\"EMIS\")==1"
   ]
  },
  {
   "cell_type": "code",
   "execution_count": null,
   "id": "654b6659-0a73-4736-bc15-7bf926554432",
   "metadata": {},
   "outputs": [],
   "source": []
  },
  {
   "cell_type": "markdown",
   "id": "5cc0b78d-d049-4645-a6f4-e02b49b379db",
   "metadata": {},
   "source": [
    "#### RA_Index\n",
    "Index==1"
   ]
  },
  {
   "cell_type": "code",
   "execution_count": 29,
   "id": "9fa490cd-9380-44bc-8218-9f2193f09aee",
   "metadata": {},
   "outputs": [
    {
     "name": "stdout",
     "output_type": "stream",
     "text": [
      "\n",
      "           |         test\n",
      "      diag |      Pos.       Neg. |     Total\n",
      "-----------+----------------------+----------\n",
      "  Abnormal |     5,441        314 |     5,755 \n",
      "    Normal |    57,185    258,757 |   315,942 \n",
      "-----------+----------------------+----------\n",
      "     Total |    62,626    259,071 |   321,697 \n",
      "True abnormal diagnosis defined as diag = 1\n",
      "\n",
      "\n",
      "                                                  [95% Confidence Interval]\n",
      "---------------------------------------------------------------------------\n",
      "Prevalence                         Pr(A)      1.8%      1.7%       1.8%\n",
      "---------------------------------------------------------------------------\n",
      "Sensitivity                      Pr(+|A)     94.5%     93.9%     95.1%\n",
      "Specificity                      Pr(-|N)     81.9%     81.8%     82.0%\n",
      "ROC area               (Sens. + Spec.)/2      0.88      0.88      0.89 \n",
      "---------------------------------------------------------------------------\n",
      "Likelihood ratio (+)     Pr(+|A)/Pr(+|N)      5.22      5.17      5.27 \n",
      "Likelihood ratio (-)     Pr(-|A)/Pr(-|N)      0.07      0.06      0.07 \n",
      "Odds ratio                   LR(+)/LR(-)     78.41     69.96     87.88 \n",
      "Positive predictive value        Pr(A|+)      8.7%      8.5%      8.9% \n",
      "Negative predictive value        Pr(N|-)     99.9%     99.9%     99.9% \n",
      "---------------------------------------------------------------------------\n"
     ]
    }
   ],
   "source": [
    "diagt diag test if RA_index==1"
   ]
  },
  {
   "cell_type": "markdown",
   "id": "7d253ba5-4281-405c-bd8c-511a00a55bf6",
   "metadata": {},
   "source": [
    "Index==0"
   ]
  },
  {
   "cell_type": "code",
   "execution_count": 30,
   "id": "f50f1be6-d1fd-4b54-8cc8-be66d3b7312b",
   "metadata": {},
   "outputs": [
    {
     "name": "stdout",
     "output_type": "stream",
     "text": [
      "\n",
      "           |         test\n",
      "      diag |      Pos.       Neg. |     Total\n",
      "-----------+----------------------+----------\n",
      "  Abnormal |     1,652         81 |     1,733 \n",
      "    Normal |    20,775     80,795 |   101,570 \n",
      "-----------+----------------------+----------\n",
      "     Total |    22,427     80,876 |   103,303 \n",
      "True abnormal diagnosis defined as diag = 1\n",
      "\n",
      "\n",
      "                                                  [95% Confidence Interval]\n",
      "---------------------------------------------------------------------------\n",
      "Prevalence                         Pr(A)      1.7%      1.6%       1.8%\n",
      "---------------------------------------------------------------------------\n",
      "Sensitivity                      Pr(+|A)     95.3%     94.2%     96.3%\n",
      "Specificity                      Pr(-|N)     79.5%     79.3%     79.8%\n",
      "ROC area               (Sens. + Spec.)/2      0.87      0.87      0.88 \n",
      "---------------------------------------------------------------------------\n",
      "Likelihood ratio (+)     Pr(+|A)/Pr(+|N)      4.66      4.59      4.74 \n",
      "Likelihood ratio (-)     Pr(-|A)/Pr(-|N)      0.06      0.05      0.07 \n",
      "Odds ratio                   LR(+)/LR(-)     79.32     63.46     99.14 \n",
      "Positive predictive value        Pr(A|+)      7.4%      7.0%      7.7% \n",
      "Negative predictive value        Pr(N|-)     99.9%     99.9%     99.9% \n",
      "---------------------------------------------------------------------------\n"
     ]
    }
   ],
   "source": [
    "diagt diag test if RA_index==0"
   ]
  },
  {
   "cell_type": "markdown",
   "id": "72956d72",
   "metadata": {},
   "source": [
    "#### Ethnicity\n",
    "Ethnicity==0000white"
   ]
  },
  {
   "cell_type": "code",
   "execution_count": 31,
   "id": "b35bf6ab",
   "metadata": {},
   "outputs": [
    {
     "name": "stdout",
     "output_type": "stream",
     "text": [
      "\n",
      "           |         test\n",
      "      diag |      Pos.       Neg. |     Total\n",
      "-----------+----------------------+----------\n",
      "  Abnormal |     5,177        298 |     5,475 \n",
      "    Normal |    53,621    198,885 |   252,506 \n",
      "-----------+----------------------+----------\n",
      "     Total |    58,798    199,183 |   257,981 \n",
      "True abnormal diagnosis defined as diag = 1\n",
      "\n",
      "\n",
      "                                                  [95% Confidence Interval]\n",
      "---------------------------------------------------------------------------\n",
      "Prevalence                         Pr(A)      2.1%      2.1%       2.2%\n",
      "---------------------------------------------------------------------------\n",
      "Sensitivity                      Pr(+|A)     94.6%     93.9%     95.1%\n",
      "Specificity                      Pr(-|N)     78.8%     78.6%     78.9%\n",
      "ROC area               (Sens. + Spec.)/2      0.87      0.86      0.87 \n",
      "---------------------------------------------------------------------------\n",
      "Likelihood ratio (+)     Pr(+|A)/Pr(+|N)      4.45      4.41      4.50 \n",
      "Likelihood ratio (-)     Pr(-|A)/Pr(-|N)      0.07      0.06      0.08 \n",
      "Odds ratio                   LR(+)/LR(-)     64.44     57.32     72.44 \n",
      "Positive predictive value        Pr(A|+)      8.8%      8.6%      9.0% \n",
      "Negative predictive value        Pr(N|-)     99.9%     99.8%     99.9% \n",
      "---------------------------------------------------------------------------\n"
     ]
    }
   ],
   "source": [
    "diagt diag test if ethnicity==\"0white\""
   ]
  },
  {
   "cell_type": "code",
   "execution_count": 32,
   "id": "10050fbc",
   "metadata": {},
   "outputs": [
    {
     "name": "stdout",
     "output_type": "stream",
     "text": [
      "\n",
      "           |         test\n",
      "      diag |      Pos.       Neg. |     Total\n",
      "-----------+----------------------+----------\n",
      "  Abnormal |       364         31 |       395 \n",
      "    Normal |     4,624     38,849 |    43,473 \n",
      "-----------+----------------------+----------\n",
      "     Total |     4,988     38,880 |    43,868 \n",
      "True abnormal diagnosis defined as diag = 1\n",
      "\n",
      "\n",
      "                                                  [95% Confidence Interval]\n",
      "---------------------------------------------------------------------------\n",
      "Prevalence                         Pr(A)      0.9%      0.8%       1.0%\n",
      "---------------------------------------------------------------------------\n",
      "Sensitivity                      Pr(+|A)     92.2%     89.0%     94.6%\n",
      "Specificity                      Pr(-|N)     89.4%     89.1%     89.7%\n",
      "ROC area               (Sens. + Spec.)/2      0.91      0.89      0.92 \n",
      "---------------------------------------------------------------------------\n",
      "Likelihood ratio (+)     Pr(+|A)/Pr(+|N)      8.66      8.33      9.01 \n",
      "Likelihood ratio (-)     Pr(-|A)/Pr(-|N)      0.09      0.06      0.12 \n",
      "Odds ratio                   LR(+)/LR(-)     98.65     68.42    142.24 \n",
      "Positive predictive value        Pr(A|+)      7.3%      6.6%      8.1% \n",
      "Negative predictive value        Pr(N|-)     99.9%     99.9%     99.9% \n",
      "---------------------------------------------------------------------------\n"
     ]
    }
   ],
   "source": [
    "diagt diag test if ethnicity==\"Other\""
   ]
  },
  {
   "cell_type": "code",
   "execution_count": 33,
   "id": "a9b0ba23",
   "metadata": {},
   "outputs": [
    {
     "name": "stdout",
     "output_type": "stream",
     "text": [
      "\n",
      "           |         test\n",
      "      diag |      Pos.       Neg. |     Total\n",
      "-----------+----------------------+----------\n",
      "  Abnormal |     1,552         66 |     1,618 \n",
      "    Normal |    19,715    101,818 |   121,533 \n",
      "-----------+----------------------+----------\n",
      "     Total |    21,267    101,884 |   123,151 \n",
      "True abnormal diagnosis defined as diag = 1\n",
      "\n",
      "\n",
      "                                                  [95% Confidence Interval]\n",
      "---------------------------------------------------------------------------\n",
      "Prevalence                         Pr(A)      1.3%      1.3%       1.4%\n",
      "---------------------------------------------------------------------------\n",
      "Sensitivity                      Pr(+|A)     95.9%     94.8%     96.8%\n",
      "Specificity                      Pr(-|N)     83.8%     83.6%     84.0%\n",
      "ROC area               (Sens. + Spec.)/2      0.90      0.89      0.90 \n",
      "---------------------------------------------------------------------------\n",
      "Likelihood ratio (+)     Pr(+|A)/Pr(+|N)      5.91      5.82      6.01 \n",
      "Likelihood ratio (-)     Pr(-|A)/Pr(-|N)      0.05      0.04      0.06 \n",
      "Odds ratio                   LR(+)/LR(-)    121.44     94.94    155.34 \n",
      "Positive predictive value        Pr(A|+)      7.3%      7.0%      7.7% \n",
      "Negative predictive value        Pr(N|-)     99.9%     99.9%     99.9% \n",
      "---------------------------------------------------------------------------\n"
     ]
    }
   ],
   "source": [
    "diagt diag test if ethnicity==\"Missing\""
   ]
  },
  {
   "cell_type": "code",
   "execution_count": 34,
   "id": "0c6b3359-4cc6-4eb5-a15f-ed1be0b97aa0",
   "metadata": {},
   "outputs": [],
   "source": [
    "tempname memhold\n",
    "postfile `memhold' str20 var prev sens spec ppv npv roc using \"validity.dta\",replace\n",
    "\n",
    "quietly diagt diag test\n",
    "local prev=r(prev)\n",
    "local sens=r(sens)\n",
    "local spec=r(spec)\n",
    "local ppv=r(ppv)\n",
    "local npv=r(npv)\n",
    "local roc=r(roc)\n",
    "post `memhold' (\"all\") (`prev') (`sens') (`spec') (`ppv') (`npv') (`roc') \n",
    "\n",
    "quietly diagt diag test if sex==1\n",
    "local prev=r(prev)\n",
    "local sens=r(sens)\n",
    "local spec=r(spec)\n",
    "local ppv=r(ppv)\n",
    "local npv=r(npv)\n",
    "local roc=r(roc)\n",
    "post `memhold' (\"Male\") (`prev') (`sens') (`spec') (`ppv') (`npv') (`roc') \n",
    "\n",
    "quietly diagt diag test if sex==0\n",
    "local prev=r(prev)\n",
    "local sens=r(sens)\n",
    "local spec=r(spec)\n",
    "local ppv=r(ppv)\n",
    "local npv=r(npv)\n",
    "local roc=r(roc)\n",
    "post `memhold' (\"Female\") (`prev') (`sens') (`spec') (`ppv') (`npv') (`roc') \n",
    "\n",
    "quietly diagt diag test if agecat==16\n",
    "local prev=r(prev)\n",
    "local sens=r(sens)\n",
    "local spec=r(spec)\n",
    "local ppv=r(ppv)\n",
    "local npv=r(npv)\n",
    "local roc=r(roc)\n",
    "post `memhold' (\"Age young\") (`prev') (`sens') (`spec') (`ppv') (`npv') (`roc') \n",
    "\n",
    "quietly diagt diag test if agecat==30\n",
    "local prev=r(prev)\n",
    "local sens=r(sens)\n",
    "local spec=r(spec)\n",
    "local ppv=r(ppv)\n",
    "local npv=r(npv)\n",
    "local roc=r(roc)\n",
    "post `memhold' (\"Age middle\") (`prev') (`sens') (`spec') (`ppv') (`npv') (`roc') \n",
    "\n",
    "quietly diagt diag test if agecat==70\n",
    "local prev=r(prev)\n",
    "local sens=r(sens)\n",
    "local spec=r(spec)\n",
    "local ppv=r(ppv)\n",
    "local npv=r(npv)\n",
    "local roc=r(roc)\n",
    "post `memhold' (\"Age elderly\") (`prev') (`sens') (`spec') (`ppv') (`npv') (`roc') \n",
    "\n",
    "\n",
    "quietly diagt diag test if yearcat==2004\n",
    "local prev=r(prev)\n",
    "local sens=r(sens)\n",
    "local spec=r(spec)\n",
    "local ppv=r(ppv)\n",
    "local npv=r(npv)\n",
    "local roc=r(roc)\n",
    "post `memhold' (\"Year 2004-2009\") (`prev') (`sens') (`spec') (`ppv') (`npv') (`roc') \n",
    "\n",
    "quietly diagt diag test if yearcat==2010\n",
    "local prev=r(prev)\n",
    "local sens=r(sens)\n",
    "local spec=r(spec)\n",
    "local ppv=r(ppv)\n",
    "local npv=r(npv)\n",
    "local roc=r(roc)\n",
    "post `memhold' (\"Year 2010-2015\") (`prev') (`sens') (`spec') (`ppv') (`npv') (`roc')\n",
    "\n",
    "quietly diagt diag test if yearcat==2016\n",
    "local prev=r(prev)\n",
    "local sens=r(sens)\n",
    "local spec=r(spec)\n",
    "local ppv=r(ppv)\n",
    "local npv=r(npv)\n",
    "local roc=r(roc)\n",
    "post `memhold' (\"Year 2016-2020\") (`prev') (`sens') (`spec') (`ppv') (`npv') (`roc') \n",
    "\n",
    "\n",
    "quietly diagt diag test if imdcat==0\n",
    "local prev=r(prev)\n",
    "local sens=r(sens)\n",
    "local spec=r(spec)\n",
    "local ppv=r(ppv)\n",
    "local npv=r(npv)\n",
    "local roc=r(roc)\n",
    "post `memhold' (\"IMD 1,3\") (`prev') (`sens') (`spec') (`ppv') (`npv') (`roc') \n",
    "\n",
    "quietly diagt diag test if imdcat==4\n",
    "local prev=r(prev)\n",
    "local sens=r(sens)\n",
    "local spec=r(spec)\n",
    "local ppv=r(ppv)\n",
    "local npv=r(npv)\n",
    "local roc=r(roc)\n",
    "post `memhold' (\"IMD 4,7\") (`prev') (`sens') (`spec') (`ppv') (`npv') (`roc') \n",
    "\n",
    "quietly diagt diag test if imdcat==8\n",
    "local prev=r(prev)\n",
    "local sens=r(sens)\n",
    "local spec=r(spec)\n",
    "local ppv=r(ppv)\n",
    "local npv=r(npv)\n",
    "local roc=r(roc)\n",
    "post `memhold' (\"IMD 8,10\") (`prev') (`sens') (`spec') (`ppv') (`npv') (`roc') \n",
    "\n",
    "\n",
    "quietly diagt diag test if regexm(region_name,\"LONDON\")==1\n",
    "local prev=r(prev)\n",
    "local sens=r(sens)\n",
    "local spec=r(spec)\n",
    "local ppv=r(ppv)\n",
    "local npv=r(npv)\n",
    "local roc=r(roc)\n",
    "post `memhold' (\"London\") (`prev') (`sens') (`spec') (`ppv') (`npv') (`roc') \n",
    "\n",
    "quietly diagt diag test if regexm(region_name,\"MID\")==1\n",
    "local prev=r(prev)\n",
    "local sens=r(sens)\n",
    "local spec=r(spec)\n",
    "local ppv=r(ppv)\n",
    "local npv=r(npv)\n",
    "local roc=r(roc)\n",
    "post `memhold' (\"Midlands\") (`prev') (`sens') (`spec') (`ppv') (`npv') (`roc') \n",
    "\n",
    "quietly diagt diag test if regexm(region_name,\"YORK\")==1\n",
    "local prev=r(prev)\n",
    "local sens=r(sens)\n",
    "local spec=r(spec)\n",
    "local ppv=r(ppv)\n",
    "local npv=r(npv)\n",
    "local roc=r(roc)\n",
    "post `memhold' (\"Yorkshire\") (`prev') (`sens') (`spec') (`ppv') (`npv') (`roc') \n",
    "\n",
    "quietly diagt diag test if regexm(region_name,\"NORTH\")==1 & regexm(region_name,\"WEST\")==1\n",
    "local prev=r(prev)\n",
    "local sens=r(sens)\n",
    "local spec=r(spec)\n",
    "local ppv=r(ppv)\n",
    "local npv=r(npv)\n",
    "local roc=r(roc)\n",
    "post `memhold' (\"North West\") (`prev') (`sens') (`spec') (`ppv') (`npv') (`roc') \n",
    "\n",
    "quietly diagt diag test if regexm(region_name,\"SOUTH\")==1 & regexm(region_name,\"EAST\")==1\n",
    "local prev=r(prev)\n",
    "local sens=r(sens)\n",
    "local spec=r(spec)\n",
    "local ppv=r(ppv)\n",
    "local npv=r(npv)\n",
    "local roc=r(roc)\n",
    "post `memhold' (\"South East\") (`prev') (`sens') (`spec') (`ppv') (`npv') (`roc') \n",
    "\n",
    "quietly diagt diag test if regexm(region_name,\"SOUTH\")==1 & regexm(region_name,\"WEST\")==1\n",
    "local prev=r(prev)\n",
    "local sens=r(sens)\n",
    "local spec=r(spec)\n",
    "local ppv=r(ppv)\n",
    "local npv=r(npv)\n",
    "local roc=r(roc)\n",
    "post `memhold' (\"South West\") (`prev') (`sens') (`spec') (`ppv') (`npv') (`roc') \n",
    "\n",
    "quietly diagt diag test if regexm(system,\"One\")==1\n",
    "local prev=r(prev)\n",
    "local sens=r(sens)\n",
    "local spec=r(spec)\n",
    "local ppv=r(ppv)\n",
    "local npv=r(npv)\n",
    "local roc=r(roc)\n",
    "post `memhold' (\"SystemOne\") (`prev') (`sens') (`spec') (`ppv') (`npv') (`roc') \n",
    "\n",
    "quietly diagt diag test if regexm(system,\"Vision\")==1\n",
    "local prev=r(prev)\n",
    "local sens=r(sens)\n",
    "local spec=r(spec)\n",
    "local ppv=r(ppv)\n",
    "local npv=r(npv)\n",
    "local roc=r(roc)\n",
    "post `memhold' (\"Vision\") (`prev') (`sens') (`spec') (`ppv') (`npv') (`roc') \n",
    "\n",
    "quietly diagt diag test if regexm(ustrupper(system),\"EMIS\")==1\n",
    "local prev=r(prev)\n",
    "local sens=r(sens)\n",
    "local spec=r(spec)\n",
    "local ppv=r(ppv)\n",
    "local npv=r(npv)\n",
    "local roc=r(roc)\n",
    "post `memhold' (\"EMIS\") (`prev') (`sens') (`spec') (`ppv') (`npv') (`roc') \n",
    "\n",
    "quietly diagt diag test if RA_index==1\n",
    "local prev=r(prev)\n",
    "local sens=r(sens)\n",
    "local spec=r(spec)\n",
    "local ppv=r(ppv)\n",
    "local npv=r(npv)\n",
    "local roc=r(roc)\n",
    "post `memhold' (\"RAIndex1\") (`prev') (`sens') (`spec') (`ppv') (`npv') (`roc') \n",
    "\n",
    "quietly diagt diag test if RA_index==0\n",
    "local prev=r(prev)\n",
    "local sens=r(sens)\n",
    "local spec=r(spec)\n",
    "local ppv=r(ppv)\n",
    "local npv=r(npv)\n",
    "local roc=r(roc)\n",
    "post `memhold' (\"RAIndex0\") (`prev') (`sens') (`spec') (`ppv') (`npv') (`roc') \n",
    "\n",
    "quietly diagt diag test if ethnicity==\"0white\"\n",
    "local prev=r(prev)\n",
    "local sens=r(sens)\n",
    "local spec=r(spec)\n",
    "local ppv=r(ppv)\n",
    "local npv=r(npv)\n",
    "local roc=r(roc)\n",
    "post `memhold' (\"Ethnicity_0white\") (`prev') (`sens') (`spec') (`ppv') (`npv') (`roc') \n",
    "\n",
    "quietly diagt diag test if ethnicity==\"Other\"\n",
    "local prev=r(prev)\n",
    "local sens=r(sens)\n",
    "local spec=r(spec)\n",
    "local ppv=r(ppv)\n",
    "local npv=r(npv)\n",
    "local roc=r(roc)\n",
    "post `memhold' (\"Ethnicity_Other\") (`prev') (`sens') (`spec') (`ppv') (`npv') (`roc') \n",
    "\n",
    "\n",
    "\n",
    "quietly diagt diag test if ethnicity==\"Missing\"\n",
    "local prev=r(prev)\n",
    "local sens=r(sens)\n",
    "local spec=r(spec)\n",
    "local ppv=r(ppv)\n",
    "local npv=r(npv)\n",
    "local roc=r(roc)\n",
    "post `memhold' (\"Ethnicity_Missing\") (`prev') (`sens') (`spec') (`ppv') (`npv') (`roc') \n",
    "\n",
    "postclose `memhold'"
   ]
  },
  {
   "cell_type": "markdown",
   "id": "b350c4fb-deb8-450a-9750-689dc3a8268e",
   "metadata": {},
   "source": [
    "### Logistic Regression\n",
    "#### PPV"
   ]
  },
  {
   "cell_type": "code",
   "execution_count": 35,
   "id": "a21415d9",
   "metadata": {},
   "outputs": [
    {
     "name": "stdout",
     "output_type": "stream",
     "text": [
      "(2,589 observations deleted)\n",
      "(9 observations deleted)\n"
     ]
    }
   ],
   "source": [
    "drop if missing(imdcat)\n",
    "drop if missing(sex)"
   ]
  },
  {
   "cell_type": "code",
   "execution_count": 36,
   "id": "ad17f02e-1d4b-48ec-8a48-1c137597db1a",
   "metadata": {},
   "outputs": [
    {
     "name": "stdout",
     "output_type": "stream",
     "text": [
      "\n",
      "Logistic regression                                     Number of obs = 84,977\n",
      "                                                        LR chi2(0)    =   0.00\n",
      "                                                        Prob > chi2   =      .\n",
      "Log likelihood = -24390.244                             Pseudo R2     = 0.0000\n",
      "\n",
      "------------------------------------------------------------------------------\n",
      "    diag_pos |       Odds   Std. err.      z    P>|z|     [95% conf. interval]\n",
      "-------------+----------------------------------------------------------------\n",
      "       _cons |   .0910013    .001129  -193.19   0.000     .0888152    .0932412\n",
      "------------------------------------------------------------------------------\n"
     ]
    }
   ],
   "source": [
    "logistic diag_pos if test==1"
   ]
  },
  {
   "cell_type": "code",
   "execution_count": 37,
   "id": "49e40858",
   "metadata": {},
   "outputs": [
    {
     "name": "stdout",
     "output_type": "stream",
     "text": [
      "\n",
      "Fitting fixed-effects model:\n",
      "\n",
      "Iteration 0:  Log likelihood = -24193.661  \n",
      "Iteration 1:  Log likelihood = -23190.698  \n",
      "Iteration 2:  Log likelihood = -23186.236  \n",
      "Iteration 3:  Log likelihood = -23186.232  \n",
      "Iteration 4:  Log likelihood = -23186.232  \n",
      "\n",
      "Refining starting values:\n",
      "\n",
      "Grid node 0:  Log likelihood = -23268.678\n",
      "\n",
      "Fitting full model:\n",
      "\n",
      "Iteration 0:  Log likelihood = -23268.678  (not concave)\n",
      "Iteration 1:  Log likelihood = -23194.924  (not concave)\n",
      "Iteration 2:  Log likelihood = -23124.064  \n",
      "Iteration 3:  Log likelihood = -23106.682  \n",
      "Iteration 4:  Log likelihood = -23104.795  \n",
      "Iteration 5:  Log likelihood = -23104.683  \n",
      "Iteration 6:  Log likelihood = -23104.683  \n",
      "\n",
      "Mixed-effects logistic regression               Number of obs     =     84,669\n",
      "Group variable: practice_id                     Number of groups  =        327\n",
      "\n",
      "                                                Obs per group:\n",
      "                                                              min =          1\n",
      "                                                              avg =      258.9\n",
      "                                                              max =      2,617\n",
      "\n",
      "Integration method: mvaghermite                 Integration pts.  =          7\n",
      "\n",
      "                                                Wald chi2(18)     =    1968.65\n",
      "Log likelihood = -23104.683                     Prob > chi2       =     0.0000\n",
      "----------------------------------------------------------------------------------------------------------------\n",
      "                                       newdiag | Odds ratio   Std. err.      z    P>|z|     [95% conf. interval]\n",
      "-----------------------------------------------+----------------------------------------------------------------\n",
      "                                   1.sex_coded |   1.475704   .0377947    15.19   0.000     1.403457    1.551671\n",
      "                                               |\n",
      "                                       yearcat |\n",
      "                                    2010-2015  |   1.086984   .0349286     2.60   0.009     1.020636    1.157644\n",
      "                                    2016-2020  |   2.026315   .0660232    21.67   0.000     1.900957    2.159939\n",
      "                                               |\n",
      "                                        agecat |\n",
      "                                      0Middle  |   1.572934   .3613216     1.97   0.049      1.00272    2.467412\n",
      "                                      Elderly  |   4.551929   1.041452     6.62   0.000     2.907007    7.127627\n",
      "                                               |\n",
      "                                        region |\n",
      "                  LONDON COMMISSIONING REGION  |   1.374787   .1951618     2.24   0.025      1.04088    1.815809\n",
      "                MIDLANDS COMMISSIONING REGION  |   1.295785   .0903919     3.71   0.000     1.130198    1.485632\n",
      "NORTH EAST AND YORKSHIRE COMMISSIONING REGION  |   1.254873   .0947494     3.01   0.003     1.082255    1.455023\n",
      "              NORTH WEST COMMISSIONING REGION  |    1.33492   .1170271     3.30   0.001     1.124175    1.585173\n",
      "              SOUTH EAST COMMISSIONING REGION  |   .8455822   .0629907    -2.25   0.024     .7307124    .9785098\n",
      "              SOUTH WEST COMMISSIONING REGION  |    .929393   .0802114    -0.85   0.396     .7847591    1.100684\n",
      "                                     Scotland  |   1.126019   .1734917     0.77   0.441     .8325232    1.522982\n",
      "                                        Wales  |   1.024071   .2398555     0.10   0.919     .6470881    1.620677\n",
      "                                               |\n",
      "                                      RA_index |   1.100884      .0607     1.74   0.081     .9881171     1.22652\n",
      "                                               |\n",
      "                                        ethnic |\n",
      "                                      Missing  |   .9682767   .0336125    -0.93   0.353     .9045886    1.036449\n",
      "                                        Other  |   .9241504   .0584807    -1.25   0.213     .8163534    1.046182\n",
      "                                               |\n",
      "                                        imdcat |\n",
      "                                          4-7  |   1.076168   .0601691     1.31   0.189     .9644708    1.200802\n",
      "                                         8-10  |     1.1388   .0685892     2.16   0.031     1.011999    1.281488\n",
      "                                               |\n",
      "                                         _cons |   .0145694   .0034554   -17.83   0.000      .009153     .023191\n",
      "-----------------------------------------------+----------------------------------------------------------------\n",
      "practice_id                                    |\n",
      "                                     var(_cons)|   .0629437   .0104129                      .0455131    .0870498\n",
      "----------------------------------------------------------------------------------------------------------------\n",
      "Note: Estimates are transformed only in the first equation to odds ratios.\n",
      "Note: _cons estimates baseline odds (conditional on zero random effects).\n",
      "LR test vs. logistic model: chibar2(01) = 163.10      Prob >= chibar2 = 0.0000\n"
     ]
    }
   ],
   "source": [
    "gen newdiag=diag_pos\n",
    "\n",
    "melogit newdiag i.sex i.yearcat i.agecat  i.region RA_index i.ethnic i.imdcat if test==1 || practice_id:,or\n",
    "estimates store model1"
   ]
  },
  {
   "cell_type": "markdown",
   "id": "1fb85b5e",
   "metadata": {},
   "source": [
    "##### Likelihood ratio tests"
   ]
  },
  {
   "cell_type": "code",
   "execution_count": 38,
   "id": "718b2ba3-f1ac-41c9-af92-e0cb45d55985",
   "metadata": {},
   "outputs": [],
   "source": [
    "\n",
    "\n",
    "quietly: melogit newdiag i.sex i.yearcat i.agecat  i.region RA_index i.ethnic if test==1 || practice_id:,or\n",
    "estimates store model_imd\n",
    "\n",
    "quietly:melogit newdiag i.sex i.yearcat i.agecat  i.region RA_index i.imdcat if test==1 || practice_id:,or\n",
    "estimates store model_ethnicity\n",
    "\n",
    "quietly:melogit newdiag i.yearcat i.agecat  i.region RA_index i.ethnic i.imdcat if test==1 || practice_id:,or\n",
    "estimates store model_sex\n",
    "\n",
    "quietly:melogit newdiag i.sex i.agecat  i.region RA_index i.ethnic i.imdcat if test==1 || practice_id:,or\n",
    "estimates store model_year\n",
    "\n",
    "quietly: melogit newdiag i.sex i.yearcat  i.region RA_index i.ethnic i.imdcat if test==1 || practice_id:,or\n",
    "estimates store model_age\n",
    "\n"
   ]
  },
  {
   "cell_type": "code",
   "execution_count": 39,
   "id": "31887f9d",
   "metadata": {},
   "outputs": [
    {
     "name": "stdout",
     "output_type": "stream",
     "text": [
      "\n",
      "Likelihood-ratio test\n",
      "Assumption: model_sex nested within model1\n",
      "\n",
      " LR chi2(1) = 232.17\n",
      "Prob > chi2 = 0.0000\n",
      "\n",
      "Likelihood-ratio test\n",
      "Assumption: model_year nested within model1\n",
      "\n",
      " LR chi2(2) = 539.19\n",
      "Prob > chi2 = 0.0000\n",
      "\n",
      "Likelihood-ratio test\n",
      "Assumption: model_age nested within model1\n",
      "\n",
      " LR chi2(2) = 1423.99\n",
      "Prob > chi2 =  0.0000\n",
      "\n",
      "Likelihood-ratio test\n",
      "Assumption: model_ethnic~y nested within model1\n",
      "\n",
      " LR chi2(2) =   2.29\n",
      "Prob > chi2 = 0.3177\n",
      "\n",
      "Likelihood-ratio test\n",
      "Assumption: model_imd nested within model1\n",
      "\n",
      " LR chi2(2) =   4.63\n",
      "Prob > chi2 = 0.0987\n"
     ]
    }
   ],
   "source": [
    "lrtest model1 model_sex\n",
    "lrtest model1 model_year\n",
    "lrtest model1 model_age\n",
    "lrtest model1 model_ethnicity\n",
    "lrtest model1 model_imd\n"
   ]
  },
  {
   "cell_type": "markdown",
   "id": "99227c99-0304-407b-a990-a06fe4bd4560",
   "metadata": {},
   "source": [
    "#### NPV"
   ]
  },
  {
   "cell_type": "code",
   "execution_count": 40,
   "id": "04c0103e-c424-49af-8973-09a13878ea3f",
   "metadata": {},
   "outputs": [
    {
     "name": "stdout",
     "output_type": "stream",
     "text": [
      "\n",
      "Logistic regression                                    Number of obs = 337,425\n",
      "                                                       LR chi2(0)    =    0.00\n",
      "                                                       Prob > chi2   =       .\n",
      "Log likelihood = -3061.1028                            Pseudo R2     =  0.0000\n",
      "\n",
      "------------------------------------------------------------------------------\n",
      "    diag_neg |       Odds   Std. err.      z    P>|z|     [95% conf. interval]\n",
      "-------------+----------------------------------------------------------------\n",
      "       _cons |   853.2405   42.95634   134.06   0.000     773.0681    941.7273\n",
      "------------------------------------------------------------------------------\n"
     ]
    }
   ],
   "source": [
    "logistic diag_neg if test==0"
   ]
  },
  {
   "cell_type": "code",
   "execution_count": 41,
   "id": "93a5b760",
   "metadata": {},
   "outputs": [
    {
     "name": "stdout",
     "output_type": "stream",
     "text": [
      "(422,402 real changes made)\n",
      "\n",
      "Fitting fixed-effects model:\n",
      "\n",
      "Iteration 0:  Log likelihood =  -29468.43  \n",
      "Iteration 1:  Log likelihood = -3068.1255  \n",
      "Iteration 2:  Log likelihood = -2604.7504  \n",
      "Iteration 3:  Log likelihood = -2566.9926  \n",
      "Iteration 4:  Log likelihood = -2561.9978  \n",
      "Iteration 5:  Log likelihood = -2561.8499  \n",
      "Iteration 6:  Log likelihood = -2561.8498  \n",
      "\n",
      "Refining starting values:\n",
      "\n",
      "Grid node 0:  Log likelihood = -2585.1496\n",
      "\n",
      "Fitting full model:\n",
      "\n",
      "Iteration 0:  Log likelihood = -2585.1496  (not concave)\n",
      "Iteration 1:  Log likelihood = -2558.6612  \n",
      "Iteration 2:  Log likelihood = -2557.1819  \n",
      "Iteration 3:  Log likelihood = -2556.9976  \n",
      "Iteration 4:  Log likelihood =  -2556.997  \n",
      "Iteration 5:  Log likelihood =  -2556.997  \n",
      "\n",
      "Mixed-effects logistic regression               Number of obs     =    336,764\n",
      "Group variable: practice_id                     Number of groups  =        337\n",
      "\n",
      "                                                Obs per group:\n",
      "                                                              min =          1\n",
      "                                                              avg =      999.3\n",
      "                                                              max =      7,874\n",
      "\n",
      "Integration method: mvaghermite                 Integration pts.  =          7\n",
      "\n",
      "                                                Wald chi2(18)     =     773.14\n",
      "Log likelihood = -2556.997                      Prob > chi2       =     0.0000\n",
      "----------------------------------------------------------------------------------------------------------------\n",
      "                                       newdiag | Odds ratio   Std. err.      z    P>|z|     [95% conf. interval]\n",
      "-----------------------------------------------+----------------------------------------------------------------\n",
      "                                   1.sex_coded |   .7300613   .0742942    -3.09   0.002     .5980499    .8912125\n",
      "                                               |\n",
      "                                       yearcat |\n",
      "                                    2010-2015  |   .6043657   .0986518    -3.09   0.002     .4388908    .8322295\n",
      "                                    2016-2020  |    .227882   .0342211    -9.85   0.000     .1697794    .3058687\n",
      "                                               |\n",
      "                                        agecat |\n",
      "                                      0Middle  |   .0698565   .0292388    -6.36   0.000     .0307561    .1586651\n",
      "                                      Elderly  |   .0057639   .0023943   -12.41   0.000     .0025535    .0130108\n",
      "                                               |\n",
      "                                        region |\n",
      "                  LONDON COMMISSIONING REGION  |   .7979346   .2872297    -0.63   0.531     .3940608    1.615739\n",
      "                MIDLANDS COMMISSIONING REGION  |    .635744   .1340762    -2.15   0.032     .4205008    .9611644\n",
      "NORTH EAST AND YORKSHIRE COMMISSIONING REGION  |   .6316537   .1381299    -2.10   0.036     .4114703    .9696604\n",
      "              NORTH WEST COMMISSIONING REGION  |   .6103801   .1479846    -2.04   0.042     .3795154    .9816832\n",
      "              SOUTH EAST COMMISSIONING REGION  |   .9341261   .1958239    -0.33   0.745     .6193917    1.408788\n",
      "              SOUTH WEST COMMISSIONING REGION  |   .7970805   .1982686    -0.91   0.362     .4895211    1.297875\n",
      "                                     Scotland  |   .3485117   .1918674    -1.91   0.056     .1184684    1.025256\n",
      "                                        Wales  |    .659359   .4549942    -0.60   0.546     .1705084    2.549753\n",
      "                                               |\n",
      "                                      RA_index |   .9615505    .159594    -0.24   0.813     .6945338    1.331223\n",
      "                                               |\n",
      "                                        ethnic |\n",
      "                                      Missing  |   1.868905   .2728293     4.28   0.000     1.403867     2.48799\n",
      "                                        Other  |   .9646148    .193382    -0.18   0.857     .6511912    1.428892\n",
      "                                               |\n",
      "                                        imdcat |\n",
      "                                          4-7  |   1.004558   .1642161     0.03   0.978     .7291691    1.383954\n",
      "                                         8-10  |   .8201609   .1389082    -1.17   0.242     .5884825    1.143048\n",
      "                                               |\n",
      "                                         _cons |    76480.6   36021.19    23.88   0.000     30384.25    192510.4\n",
      "-----------------------------------------------+----------------------------------------------------------------\n",
      "practice_id                                    |\n",
      "                                     var(_cons)|   .1508492   .0651544                      .0646985    .3517156\n",
      "----------------------------------------------------------------------------------------------------------------\n",
      "Note: Estimates are transformed only in the first equation to odds ratios.\n",
      "Note: _cons estimates baseline odds (conditional on zero random effects).\n",
      "LR test vs. logistic model: chibar2(01) = 9.71        Prob >= chibar2 = 0.0009\n"
     ]
    }
   ],
   "source": [
    "/* need to use the same response variable (newdiag) to line up the two model results */\n",
    "replace newdiag=diag_neg \n",
    "\n",
    "melogit newdiag i.sex i.yearcat i.agecat i.region RA_index i.ethnic i.imdcat if test==0 || practice_id:,or\n",
    "estimates store model2"
   ]
  },
  {
   "cell_type": "markdown",
   "id": "60c60b7a",
   "metadata": {},
   "source": [
    "##### Likelihood ratio tests"
   ]
  },
  {
   "cell_type": "code",
   "execution_count": 42,
   "id": "c31bd1f1-c69b-4600-a1c0-bde311d67651",
   "metadata": {},
   "outputs": [],
   "source": [
    "\n",
    "quietly: melogit newdiag i.yearcat i.agecat i.region RA_index i.ethnic i.imdcat if test==0 || practice_id:,or\n",
    "estimates store model2_sex\n",
    "quietly: melogit newdiag i.sex i.agecat i.region RA_index i.ethnic i.imdcat if test==0 || practice_id:,or\n",
    "estimates store model2_year\n",
    "quietly: melogit newdiag i.sex i.yearcat i.region RA_index i.ethnic i.imdcat if test==0 || practice_id:,or\n",
    "estimates store model2_age\n",
    "quietly: melogit newdiag i.sex i.yearcat i.agecat i.region RA_index i.imdcat if test==0 || practice_id:,or\n",
    "estimates store model2_ethnicity\n",
    "quietly: melogit newdiag i.sex i.yearcat i.agecat i.region RA_index i.ethnic if test==0 || practice_id:,or\n",
    "estimates store model2_imd\n"
   ]
  },
  {
   "cell_type": "code",
   "execution_count": 43,
   "id": "95d03409",
   "metadata": {},
   "outputs": [
    {
     "name": "stdout",
     "output_type": "stream",
     "text": [
      "\n",
      "Likelihood-ratio test\n",
      "Assumption: model2_sex nested within model2\n",
      "\n",
      " LR chi2(1) =   9.59\n",
      "Prob > chi2 = 0.0020\n",
      "\n",
      "Likelihood-ratio test\n",
      "Assumption: model2_year nested within model2\n",
      "\n",
      " LR chi2(2) = 134.50\n",
      "Prob > chi2 = 0.0000\n",
      "\n",
      "Likelihood-ratio test\n",
      "Assumption: model2_age nested within model2\n",
      "\n",
      " LR chi2(2) = 807.47\n",
      "Prob > chi2 = 0.0000\n",
      "\n",
      "Likelihood-ratio test\n",
      "Assumption: model2_ethni~y nested within model2\n",
      "\n",
      " LR chi2(2) =  20.66\n",
      "Prob > chi2 = 0.0000\n",
      "\n",
      "Likelihood-ratio test\n",
      "Assumption: model2_imd nested within model2\n",
      "\n",
      " LR chi2(2) =   2.10\n",
      "Prob > chi2 = 0.3491\n"
     ]
    }
   ],
   "source": [
    "lrtest model2 model2_sex\n",
    "lrtest model2 model2_year\n",
    "lrtest model2 model2_age\n",
    "lrtest model2 model2_ethnicity\n",
    "lrtest model2 model2_imd\n"
   ]
  },
  {
   "cell_type": "code",
   "execution_count": 44,
   "id": "017939f5-75b7-4ee0-9f7b-3105e0d2bfe1",
   "metadata": {},
   "outputs": [
    {
     "name": "stdout",
     "output_type": "stream",
     "text": [
      "\n",
      "Table 2. PPV (1) and NPV (2), OR, Random effect\n",
      "--------------------------------------------------------------------\n",
      "                                                    1         2     \n",
      "--------------------------------------------------------------------\n",
      "sex_coded                                                           \n",
      "  1                                              1.48 **     0.73 **\n",
      "yearcat                                                             \n",
      "  2010-2015                                      1.09 **     0.60 **\n",
      "  2016-2020                                      2.03 **     0.23 **\n",
      "agecat                                                              \n",
      "  0Middle                                        1.57 *      0.07 **\n",
      "  Elderly                                        4.55 **     0.01 **\n",
      "region                                                              \n",
      "  LONDON COMMISSIONING REGION                    1.37 *      0.80   \n",
      "  MIDLANDS COMMISSIONING REGION                  1.30 **     0.64 * \n",
      "  NORTH EAST AND YORKSHIRE COMMISSIONING REGION  1.25 **     0.63 * \n",
      "  NORTH WEST COMMISSIONING REGION                1.33 **     0.61 * \n",
      "  SOUTH EAST COMMISSIONING REGION                0.85 *      0.93   \n",
      "  SOUTH WEST COMMISSIONING REGION                0.93        0.80   \n",
      "  Scotland                                       1.13        0.35   \n",
      "  Wales                                          1.02        0.66   \n",
      "RA_index                                         1.10        0.96   \n",
      "ethnic                                                              \n",
      "  Missing                                        0.97        1.87 **\n",
      "  Other                                          0.92        0.96   \n",
      "imdcat                                                              \n",
      "  4-7                                            1.08        1.00   \n",
      "  8-10                                           1.14 *      0.82   \n",
      "Intercept                                        0.01 ** 76480.60 **\n",
      "var(_cons[practice_id])                          0.06        0.15   \n",
      "Number of observations                          84669      336764   \n",
      "--------------------------------------------------------------------\n",
      "** p<.01, * p<.05\n"
     ]
    }
   ],
   "source": [
    "etable, estimates(model1 model2) showstars showstarsnote title(\"Table 2. PPV (1) and NPV (2),  OR, Random effect\") cstat(_r_b,nformat(%6.2f)) column(index) "
   ]
  },
  {
   "cell_type": "markdown",
   "id": "e7e9a417",
   "metadata": {},
   "source": [
    "### Summary of validation parameters"
   ]
  },
  {
   "cell_type": "code",
   "execution_count": 45,
   "id": "e27d82a4-8d2d-4529-8a15-ae4baabfa28c",
   "metadata": {},
   "outputs": [
    {
     "name": "stdout",
     "output_type": "stream",
     "text": [
      "(26 real changes made)\n",
      "(26 real changes made)\n",
      "(26 real changes made)\n",
      "(26 real changes made)\n",
      "(26 real changes made)\n",
      "(26 real changes made)\n"
     ]
    }
   ],
   "source": [
    "use validity.dta, clear\n",
    "replace prev=round(prev, 0.1)\n",
    "gen prev_a=round(((prev/100)*((sens/100)+(spec/100)-1)+1-(spec/100))*100,0.1)/*apparent prevalence*/\n",
    "replace sens=round(sens, 0.1)\n",
    "replace spec=round(spec,0.1)\n",
    "replace ppv=round(ppv, 0.1)\n",
    "replace npv=round(npv, 0.1)\n",
    "replace roc=round(roc, 0.01)\n"
   ]
  },
  {
   "cell_type": "code",
   "execution_count": 46,
   "id": "8129bfb3-cd21-4077-a785-9a74a846c65b",
   "metadata": {},
   "outputs": [
    {
     "data": {
      "text/html": [
       "<div>\n",
       "<style scoped>\n",
       "    .dataframe tbody tr th:only-of-type {\n",
       "        vertical-align: middle;\n",
       "    }\n",
       "\n",
       "    .dataframe tbody tr th {\n",
       "        vertical-align: top;\n",
       "    }\n",
       "\n",
       "    .dataframe thead th {\n",
       "        text-align: right;\n",
       "    }\n",
       "</style>\n",
       "<table border=\"1\" class=\"dataframe\">\n",
       "  <thead>\n",
       "    <tr style=\"text-align: right;\">\n",
       "      <th></th>\n",
       "      <th>var</th>\n",
       "      <th>prev</th>\n",
       "      <th>sens</th>\n",
       "      <th>spec</th>\n",
       "      <th>ppv</th>\n",
       "      <th>npv</th>\n",
       "      <th>roc</th>\n",
       "      <th>prev_a</th>\n",
       "    </tr>\n",
       "  </thead>\n",
       "  <tbody>\n",
       "    <tr>\n",
       "      <th>1</th>\n",
       "      <td>all</td>\n",
       "      <td>1.8</td>\n",
       "      <td>94.7</td>\n",
       "      <td>81.3</td>\n",
       "      <td>8.3</td>\n",
       "      <td>99.9</td>\n",
       "      <td>.88</td>\n",
       "      <td>20</td>\n",
       "    </tr>\n",
       "    <tr>\n",
       "      <th>2</th>\n",
       "      <td>Male</td>\n",
       "      <td>2</td>\n",
       "      <td>94.8</td>\n",
       "      <td>81.8</td>\n",
       "      <td>9.4</td>\n",
       "      <td>99.9</td>\n",
       "      <td>.88</td>\n",
       "      <td>19.7</td>\n",
       "    </tr>\n",
       "    <tr>\n",
       "      <th>3</th>\n",
       "      <td>Female</td>\n",
       "      <td>1.6</td>\n",
       "      <td>94.6</td>\n",
       "      <td>80.9</td>\n",
       "      <td>7.4</td>\n",
       "      <td>99.9</td>\n",
       "      <td>.88</td>\n",
       "      <td>20.3</td>\n",
       "    </tr>\n",
       "    <tr>\n",
       "      <th>4</th>\n",
       "      <td>Age young</td>\n",
       "      <td>0</td>\n",
       "      <td>76.9</td>\n",
       "      <td>99.5</td>\n",
       "      <td>3</td>\n",
       "      <td>100</td>\n",
       "      <td>.88</td>\n",
       "      <td>.5</td>\n",
       "    </tr>\n",
       "    <tr>\n",
       "      <th>5</th>\n",
       "      <td>Age middle</td>\n",
       "      <td>.8</td>\n",
       "      <td>92.3</td>\n",
       "      <td>84.9</td>\n",
       "      <td>4.5</td>\n",
       "      <td>99.9</td>\n",
       "      <td>.89</td>\n",
       "      <td>15.7</td>\n",
       "    </tr>\n",
       "    <tr>\n",
       "      <th>6</th>\n",
       "      <td>Age elderly</td>\n",
       "      <td>6.7</td>\n",
       "      <td>95.5</td>\n",
       "      <td>45</td>\n",
       "      <td>11.1</td>\n",
       "      <td>99.3</td>\n",
       "      <td>.7</td>\n",
       "      <td>57.7</td>\n",
       "    </tr>\n",
       "    <tr>\n",
       "      <th>7</th>\n",
       "      <td>Year 2004-2009</td>\n",
       "      <td>1.7</td>\n",
       "      <td>97.5</td>\n",
       "      <td>76.8</td>\n",
       "      <td>6.9</td>\n",
       "      <td>99.9</td>\n",
       "      <td>.87</td>\n",
       "      <td>24.4</td>\n",
       "    </tr>\n",
       "    <tr>\n",
       "      <th>8</th>\n",
       "      <td>Year 2010-2015</td>\n",
       "      <td>1.5</td>\n",
       "      <td>95.3</td>\n",
       "      <td>81.9</td>\n",
       "      <td>7.3</td>\n",
       "      <td>99.9</td>\n",
       "      <td>.89</td>\n",
       "      <td>19.2</td>\n",
       "    </tr>\n",
       "    <tr>\n",
       "      <th>9</th>\n",
       "      <td>Year 2016-2020</td>\n",
       "      <td>2.1</td>\n",
       "      <td>91.5</td>\n",
       "      <td>86</td>\n",
       "      <td>12.5</td>\n",
       "      <td>99.8</td>\n",
       "      <td>.89</td>\n",
       "      <td>15.6</td>\n",
       "    </tr>\n",
       "    <tr>\n",
       "      <th>10</th>\n",
       "      <td>IMD 1,3</td>\n",
       "      <td>1.6</td>\n",
       "      <td>94.6</td>\n",
       "      <td>82.4</td>\n",
       "      <td>8.2</td>\n",
       "      <td>99.9</td>\n",
       "      <td>.89</td>\n",
       "      <td>18.8</td>\n",
       "    </tr>\n",
       "    <tr>\n",
       "      <th>11</th>\n",
       "      <td>IMD 4,7</td>\n",
       "      <td>1.9</td>\n",
       "      <td>95.1</td>\n",
       "      <td>79.5</td>\n",
       "      <td>8.3</td>\n",
       "      <td>99.9</td>\n",
       "      <td>.87</td>\n",
       "      <td>21.9</td>\n",
       "    </tr>\n",
       "    <tr>\n",
       "      <th>12</th>\n",
       "      <td>IMD 8,10</td>\n",
       "      <td>1.8</td>\n",
       "      <td>94.3</td>\n",
       "      <td>81.7</td>\n",
       "      <td>8.5</td>\n",
       "      <td>99.9</td>\n",
       "      <td>.88</td>\n",
       "      <td>19.7</td>\n",
       "    </tr>\n",
       "    <tr>\n",
       "      <th>13</th>\n",
       "      <td>London</td>\n",
       "      <td>1</td>\n",
       "      <td>91.9</td>\n",
       "      <td>91.9</td>\n",
       "      <td>9.9</td>\n",
       "      <td>99.9</td>\n",
       "      <td>.92</td>\n",
       "      <td>8.9</td>\n",
       "    </tr>\n",
       "    <tr>\n",
       "      <th>14</th>\n",
       "      <td>Midlands</td>\n",
       "      <td>2.3</td>\n",
       "      <td>94.9</td>\n",
       "      <td>78.5</td>\n",
       "      <td>9.4</td>\n",
       "      <td>99.8</td>\n",
       "      <td>.87</td>\n",
       "      <td>23.1</td>\n",
       "    </tr>\n",
       "    <tr>\n",
       "      <th>15</th>\n",
       "      <td>Yorkshire</td>\n",
       "      <td>1.9</td>\n",
       "      <td>94.4</td>\n",
       "      <td>81.8</td>\n",
       "      <td>9.2</td>\n",
       "      <td>99.9</td>\n",
       "      <td>.88</td>\n",
       "      <td>19.7</td>\n",
       "    </tr>\n",
       "    <tr>\n",
       "      <th>16</th>\n",
       "      <td>North West</td>\n",
       "      <td>1.6</td>\n",
       "      <td>94.1</td>\n",
       "      <td>85.2</td>\n",
       "      <td>9.5</td>\n",
       "      <td>99.9</td>\n",
       "      <td>.9</td>\n",
       "      <td>16.1</td>\n",
       "    </tr>\n",
       "    <tr>\n",
       "      <th>17</th>\n",
       "      <td>South East</td>\n",
       "      <td>1.5</td>\n",
       "      <td>94.2</td>\n",
       "      <td>82.9</td>\n",
       "      <td>7.6</td>\n",
       "      <td>99.9</td>\n",
       "      <td>.89</td>\n",
       "      <td>18.2</td>\n",
       "    </tr>\n",
       "    <tr>\n",
       "      <th>18</th>\n",
       "      <td>South West</td>\n",
       "      <td>2.1</td>\n",
       "      <td>95</td>\n",
       "      <td>75.8</td>\n",
       "      <td>7.8</td>\n",
       "      <td>99.9</td>\n",
       "      <td>.85</td>\n",
       "      <td>25.6</td>\n",
       "    </tr>\n",
       "    <tr>\n",
       "      <th>19</th>\n",
       "      <td>SystemOne</td>\n",
       "      <td>1.9</td>\n",
       "      <td>94.9</td>\n",
       "      <td>79.2</td>\n",
       "      <td>8.3</td>\n",
       "      <td>99.9</td>\n",
       "      <td>.87</td>\n",
       "      <td>22.2</td>\n",
       "    </tr>\n",
       "    <tr>\n",
       "      <th>20</th>\n",
       "      <td>Vision</td>\n",
       "      <td>1.5</td>\n",
       "      <td>95.6</td>\n",
       "      <td>80.3</td>\n",
       "      <td>6.9</td>\n",
       "      <td>99.9</td>\n",
       "      <td>.88</td>\n",
       "      <td>20.8</td>\n",
       "    </tr>\n",
       "    <tr>\n",
       "      <th>21</th>\n",
       "      <td>EMIS</td>\n",
       "      <td>1.6</td>\n",
       "      <td>94.4</td>\n",
       "      <td>84</td>\n",
       "      <td>8.6</td>\n",
       "      <td>99.9</td>\n",
       "      <td>.89</td>\n",
       "      <td>17.2</td>\n",
       "    </tr>\n",
       "    <tr>\n",
       "      <th>22</th>\n",
       "      <td>RAIndex1</td>\n",
       "      <td>1.8</td>\n",
       "      <td>94.5</td>\n",
       "      <td>81.9</td>\n",
       "      <td>8.7</td>\n",
       "      <td>99.9</td>\n",
       "      <td>.88</td>\n",
       "      <td>19.5</td>\n",
       "    </tr>\n",
       "    <tr>\n",
       "      <th>23</th>\n",
       "      <td>RAIndex0</td>\n",
       "      <td>1.7</td>\n",
       "      <td>95.3</td>\n",
       "      <td>79.5</td>\n",
       "      <td>7.4</td>\n",
       "      <td>99.9</td>\n",
       "      <td>.87</td>\n",
       "      <td>21.7</td>\n",
       "    </tr>\n",
       "    <tr>\n",
       "      <th>24</th>\n",
       "      <td>Ethnicity_0white</td>\n",
       "      <td>2.1</td>\n",
       "      <td>94.6</td>\n",
       "      <td>78.8</td>\n",
       "      <td>8.8</td>\n",
       "      <td>99.9</td>\n",
       "      <td>.87</td>\n",
       "      <td>22.8</td>\n",
       "    </tr>\n",
       "    <tr>\n",
       "      <th>25</th>\n",
       "      <td>Ethnicity_Other</td>\n",
       "      <td>.9</td>\n",
       "      <td>92.2</td>\n",
       "      <td>89.4</td>\n",
       "      <td>7.3</td>\n",
       "      <td>99.9</td>\n",
       "      <td>.91</td>\n",
       "      <td>11.4</td>\n",
       "    </tr>\n",
       "    <tr>\n",
       "      <th>26</th>\n",
       "      <td>Ethnicity_Missing</td>\n",
       "      <td>1.3</td>\n",
       "      <td>95.9</td>\n",
       "      <td>83.8</td>\n",
       "      <td>7.3</td>\n",
       "      <td>99.9</td>\n",
       "      <td>.9</td>\n",
       "      <td>17.3</td>\n",
       "    </tr>\n",
       "  </tbody>\n",
       "</table>\n",
       "</div>"
      ]
     },
     "metadata": {},
     "output_type": "display_data"
    }
   ],
   "source": [
    "%head 50"
   ]
  },
  {
   "cell_type": "code",
   "execution_count": 47,
   "id": "47dc850c-f3c8-4b9c-8ba9-3620f31b4fa9",
   "metadata": {},
   "outputs": [],
   "source": [
    "/*texsave * using test3.tex, varlabels*/\n",
    "/*\n",
    "export excel using  validity2.xlsx, sheet(val_thyroid, replace)\n",
    "*/"
   ]
  }
 ],
 "metadata": {
  "kernelspec": {
   "display_name": "Stata (nbstata)",
   "language": "stata",
   "name": "nbstata"
  },
  "language_info": {
   "file_extension": ".do",
   "mimetype": "text/x-stata",
   "name": "stata",
   "version": "17"
  }
 },
 "nbformat": 4,
 "nbformat_minor": 5
}
