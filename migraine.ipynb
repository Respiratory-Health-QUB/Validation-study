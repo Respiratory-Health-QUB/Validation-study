{
 "cells": [
  {
   "cell_type": "markdown",
   "id": "13e469d7",
   "metadata": {},
   "source": [
    "# Validity of using prescription records to identify patient comorbidities\n",
    "## Analysis of migraine"
   ]
  },
  {
   "cell_type": "markdown",
   "id": "a3d5caf8",
   "metadata": {},
   "source": [
    "**ReadMe:**\n",
    "- This is a script used in the analysis for Schnier et al., 2025: Validity of using prescription records to classify disease – a record linkage study using routinely collected electronic health records from the UK.\n",
    "- The underlying data set has been created using the Optimum Patient Care Research Database (https://opcrd.optimumpatientcare.org/). The authors do not have permission to give the public access to the study dataset; researchers may request access to OPCRD for their own purposes. \n",
    " - All code is run in StataSE 18. \n"
   ]
  },
  {
   "cell_type": "markdown",
   "id": "1cf02e3e-e834-469d-abf1-21c9ce29f756",
   "metadata": {},
   "source": [
    "**Set up:**\n",
    "|Var|Input|\n",
    "| --- | --- | \n",
    "|population|425,000|\n",
    "|diagnostic codes|Own code list|\n",
    "|drug codes|bnf 060601, 060601, 090604, 0905011|\n",
    "|sql date|13.03.2025|\n",
    "|sql code|migraineselection20250313.sql| "
   ]
  },
  {
   "cell_type": "code",
   "execution_count": 1,
   "id": "2a759161-052f-4433-ab6c-0ad7ab9120e9",
   "metadata": {},
   "outputs": [
    {
     "data": {
      "text/html": [
       "<style>div.jp-Notebook .datagrid-container {min-height: 448px; }</style>"
      ],
      "text/plain": [
       "<IPython.core.display.HTML object>"
      ]
     },
     "metadata": {},
     "output_type": "display_data"
    }
   ],
   "source": [
    "    clear all"
   ]
  },
  {
   "cell_type": "markdown",
   "id": "5e9a592b-20c3-4eb6-b947-22979a02dcf0",
   "metadata": {},
   "source": [
    "### Import from SQL server and data wrangling"
   ]
  },
  {
   "cell_type": "code",
   "execution_count": 2,
   "id": "b5b5eb32-1b5c-44c2-901c-0e9d1a4e36d2",
   "metadata": {},
   "outputs": [],
   "source": [
    "odbc load, exec(\"select * from [migraine_425000_20250313]\") dsn(\"sqlserverconnect\")"
   ]
  },
  {
   "cell_type": "code",
   "execution_count": 3,
   "id": "0835f95f-a07b-4d29-b825-b3823bfad60e",
   "metadata": {
    "scrolled": true
   },
   "outputs": [
    {
     "name": "stdout",
     "output_type": "stream",
     "text": [
      "(10,083 missing values generated)\n",
      "(10,083 real changes made)\n",
      "(7,778 missing values generated)\n",
      "(7,778 real changes made)\n",
      "(2,589 missing values generated)\n",
      "variable bnf_code was str6 now str33\n",
      "(23 real changes made)\n",
      "(10,044 real changes made)\n",
      "(16 real changes made)\n",
      "variable ethnicity was str2 now str6\n",
      "(257,981 real changes made)\n",
      "(3,762 real changes made)\n",
      "(23,912 real changes made)\n",
      "(7,430 real changes made)\n",
      "(8,764 real changes made)\n",
      "variable ethnicity was str6 now str7\n",
      "(123,151 real changes made)\n"
     ]
    }
   ],
   "source": [
    "generate test=0 if missing(drug_dt)\n",
    "replace test=1 if ! missing(drug_dt)  \n",
    "\n",
    "generate diag=0 if missing(diag_dt)\n",
    "replace diag=1 if ! missing(diag_dt)  \n",
    "\n",
    "gen start_year=year(fu_start_dt)\n",
    "\n",
    "\n",
    "egen agecat = cut(age), at(16,30,70,120)\n",
    "label def agecat_lab 16 \"Young\" 30 \"0Middle\" 70 \"Elderly\" 120 \"weird\"\n",
    "label values agecat agecat_lab\n",
    "\n",
    "\n",
    "egen yearcat = cut(start_year), at(2004,2010,2016,2025)\n",
    "label def yearcat_lab 2004 \"2004-2009\" 2010 \"2010-2015\" 2016 \"2016-2020\" \n",
    "label values yearcat yearcat_lab\n",
    "\n",
    "egen imdcat = cut(imd_decile), at(0,4,8,11)\n",
    "label def imdcat_lab 0 \"1-3\" 4 \"4-7\" 8 \"8-10\" \n",
    "label values imdcat imdcat_lab\n",
    "\n",
    "replace bnf_code = \"Non-opioid and compound analgesic\" if bnf_code== \"040701\"\n",
    "replace bnf_code = \"Antimigraine drugs\" if bnf_code== \"040704\"\n",
    "replace bnf_code = \"Other/unknown\" if missing(bnf_code) & ! missing(drug_dt)\n",
    "\n",
    "\n",
    "\n",
    "replace ethnicity=\"0white\" if ethnicity==\"1\"\n",
    "replace ethnicity=\"Other\" if ethnicity==\"2\"\n",
    "replace ethnicity=\"Other\" if ethnicity==\"3\"\n",
    "replace ethnicity=\"Other\" if ethnicity==\"4\"\n",
    "replace ethnicity=\"Other\" if ethnicity==\"5\"\n",
    "replace ethnicity=\"Missing\" if ethnicity==\"99\"\n",
    "\n",
    "\n",
    "\n",
    "\n",
    "encode bnf_code, generate(bnf_code_values) \n",
    "encode description, generate(description_values)\n",
    "encode ethnicity, generate(ethnicity_values) \n",
    "\n",
    "gen diag_neg=diag==0\n",
    "gen diag_pos=diag==1\n",
    "encode region_name, generate(region) label(regionlbl)\n",
    "encode ethnicity, generate(ethnic)"
   ]
  },
  {
   "cell_type": "code",
   "execution_count": 4,
   "id": "4bb67b58-5460-4077-bd5d-6252a35d7c1e",
   "metadata": {},
   "outputs": [
    {
     "name": "stdout",
     "output_type": "stream",
     "text": [
      "(bin=19, start=16, width=5)\n"
     ]
    },
    {
     "data": {
      "image/png": "[encoded data removed]",
      "text/plain": [
       "<IPython.core.display.Image object>"
      ]
     },
     "metadata": {},
     "output_type": "display_data"
    }
   ],
   "source": [
    "histogram age, width(5)\n"
   ]
  },
  {
   "cell_type": "markdown",
   "id": "cfdd2c1f-86b9-4840-8106-662ce151f20e",
   "metadata": {},
   "source": [
    "This table holds one randomly selected diagnostic code found during the observation period. The table is truncated to only include diagnostic codes with a count of 10 or more."
   ]
  },
  {
   "cell_type": "code",
   "execution_count": 5,
   "id": "6544a018-204b-4fcb-b5ab-d9ec745e764f",
   "metadata": {},
   "outputs": [
    {
     "name": "stdout",
     "output_type": "stream",
     "text": [
      "\n",
      "  +-------------------------------------------------------------------------------------+\n",
      "  |                                               description   Freq.   Percent     %<= |\n",
      "  |-------------------------------------------------------------------------------------|\n",
      "  |                                                  Migraine    5260     67.63   67.63 |\n",
      "  |                                             H/O: migraine     497      6.39   74.02 |\n",
      "  |                                        Migraine with aura     347      4.46   78.48 |\n",
      "  |                                        Classical migraine     269      3.46   81.94 |\n",
      "  |                                     Migraine without aura     256      3.29   85.23 |\n",
      "  |-------------------------------------------------------------------------------------|\n",
      "  |                                      Migraine - menstrual     216      2.78   88.00 |\n",
      "  |                                 Cluster headache syndrome     114      1.47   89.47 |\n",
      "  |         [D]Symptoms, signs and ill-defined conditions NOS     106      1.36   90.83 |\n",
      "  | (Premenstrual tension syndrome) or (migraine - menstrual)      97      1.25   92.08 |\n",
      "  |                                Migraine with typical aura      96      1.23   93.31 |\n",
      "  |-------------------------------------------------------------------------------------|\n",
      "  |                                          Cluster headache      83      1.07   94.38 |\n",
      "  |                                              Migraine NOS      81      1.04   95.42 |\n",
      "  |                                       Hemiplegic migraine      64      0.82   96.25 |\n",
      "  |                                       Ophthalmic migraine      59      0.76   97.00 |\n",
      "  |                                      Migraine prophylaxis      48      0.62   97.62 |\n",
      "  |-------------------------------------------------------------------------------------|\n",
      "  |                                         Migraine variants      32      0.41   98.03 |\n",
      "  |                                        Menstrual migraine      30      0.39   98.42 |\n",
      "  |                                        Migrainous vertigo      18      0.23   98.65 |\n",
      "  |                                      Complicated migraine      17      0.22   98.87 |\n",
      "  |                                         Atypical migraine      16      0.21   99.07 |\n",
      "  |-------------------------------------------------------------------------------------|\n",
      "  |                                        Abdominal migraine      13      0.17   99.24 |\n",
      "  |                            Migraine aura without headache      12      0.15   99.40 |\n",
      "  |                                          Basilar migraine      10      0.13   99.52 |\n",
      "  +-------------------------------------------------------------------------------------+\n"
     ]
    }
   ],
   "source": [
    "set linesize 132\n",
    "groups description , select(f >= 10) ord(h) table "
   ]
  },
  {
   "cell_type": "markdown",
   "id": "7d01eb90-5ca1-4146-aafb-680a81450cc3",
   "metadata": {},
   "source": [
    "These tables holds one randomly selected prescrption during the observation period. The table is truncated to only include codes with a count of 10 or more.\n"
   ]
  },
  {
   "cell_type": "code",
   "execution_count": 6,
   "id": "a4acd83f-5b6a-49e7-8b49-5dc1f78f2d1a",
   "metadata": {},
   "outputs": [
    {
     "name": "stdout",
     "output_type": "stream",
     "text": [
      "\n",
      "  +--------------------------------------------------------------+\n",
      "  |                          bnf_code   Freq.   Percent      %<= |\n",
      "  |--------------------------------------------------------------|\n",
      "  |                Antimigraine drugs   10044     99.61    99.61 |\n",
      "  | Non-opioid and compound analgesic      23      0.23    99.84 |\n",
      "  |                     Other/unknown      16      0.16   100.00 |\n",
      "  +--------------------------------------------------------------+\n"
     ]
    }
   ],
   "source": [
    "set linesize 132\n",
    "groups bnf_code , select(f >= 10) ord(h) table "
   ]
  },
  {
   "cell_type": "markdown",
   "id": "67837c2c-bbb5-4681-8000-cd8b3f6cac51",
   "metadata": {},
   "source": [
    "### Results\n",
    "#### Overall"
   ]
  },
  {
   "cell_type": "code",
   "execution_count": 7,
   "id": "733c0f2e-1179-49dc-b95d-48547a864674",
   "metadata": {},
   "outputs": [
    {
     "name": "stdout",
     "output_type": "stream",
     "text": [
      "\n",
      "           |         test\n",
      "      diag |      Pos.       Neg. |     Total\n",
      "-----------+----------------------+----------\n",
      "  Abnormal |     4,225      3,553 |     7,778 \n",
      "    Normal |     5,858    411,364 |   417,222 \n",
      "-----------+----------------------+----------\n",
      "     Total |    10,083    414,917 |   425,000 \n",
      "True abnormal diagnosis defined as diag = 1\n",
      "\n",
      "\n",
      "                                                  [95% Confidence Interval]\n",
      "---------------------------------------------------------------------------\n",
      "Prevalence                         Pr(A)      1.8%      1.8%       1.9%\n",
      "---------------------------------------------------------------------------\n",
      "Sensitivity                      Pr(+|A)     54.3%     53.2%     55.4%\n",
      "Specificity                      Pr(-|N)     98.6%     98.6%     98.6%\n",
      "ROC area               (Sens. + Spec.)/2      0.76      0.76      0.77 \n",
      "---------------------------------------------------------------------------\n",
      "Likelihood ratio (+)     Pr(+|A)/Pr(+|N)     38.69     37.45     39.97 \n",
      "Likelihood ratio (-)     Pr(-|A)/Pr(-|N)      0.46      0.45      0.47 \n",
      "Odds ratio                   LR(+)/LR(-)     83.50     79.31     87.92 \n",
      "Positive predictive value        Pr(A|+)     41.9%     40.9%     42.9% \n",
      "Negative predictive value        Pr(N|-)     99.1%     99.1%     99.2% \n",
      "---------------------------------------------------------------------------\n"
     ]
    }
   ],
   "source": [
    "diagt diag test"
   ]
  },
  {
   "cell_type": "markdown",
   "id": "b119ffa3-90d8-4e4f-9f8d-30cca2284b37",
   "metadata": {},
   "source": [
    "#### Males"
   ]
  },
  {
   "cell_type": "code",
   "execution_count": 8,
   "id": "81028f5e-4e7a-4bb4-b0f6-71d8d0821075",
   "metadata": {},
   "outputs": [
    {
     "name": "stdout",
     "output_type": "stream",
     "text": [
      "\n",
      "           |         test\n",
      "      diag |      Pos.       Neg. |     Total\n",
      "-----------+----------------------+----------\n",
      "  Abnormal |       886        710 |     1,596 \n",
      "    Normal |     1,220    205,469 |   206,689 \n",
      "-----------+----------------------+----------\n",
      "     Total |     2,106    206,179 |   208,285 \n",
      "True abnormal diagnosis defined as diag = 1\n",
      "\n",
      "\n",
      "                                                  [95% Confidence Interval]\n",
      "---------------------------------------------------------------------------\n",
      "Prevalence                         Pr(A)      0.8%      0.7%       0.8%\n",
      "---------------------------------------------------------------------------\n",
      "Sensitivity                      Pr(+|A)     55.5%     53.0%     58.0%\n",
      "Specificity                      Pr(-|N)     99.4%     99.4%     99.4%\n",
      "ROC area               (Sens. + Spec.)/2      0.77      0.76      0.79 \n",
      "---------------------------------------------------------------------------\n",
      "Likelihood ratio (+)     Pr(+|A)/Pr(+|N)     94.05     87.59    100.98 \n",
      "Likelihood ratio (-)     Pr(-|A)/Pr(-|N)      0.45      0.42      0.47 \n",
      "Odds ratio                   LR(+)/LR(-)    210.17    187.60    235.45 \n",
      "Positive predictive value        Pr(A|+)     42.1%     40.0%     44.2% \n",
      "Negative predictive value        Pr(N|-)     99.7%     99.6%     99.7% \n",
      "---------------------------------------------------------------------------\n"
     ]
    }
   ],
   "source": [
    "diagt diag test if sex==1"
   ]
  },
  {
   "cell_type": "markdown",
   "id": "762df1ac-de32-43e9-8cb3-6696c91e2459",
   "metadata": {},
   "source": [
    "#### Females"
   ]
  },
  {
   "cell_type": "code",
   "execution_count": 9,
   "id": "7fc985e3-7757-4908-ae5a-5d346ee7ccb6",
   "metadata": {},
   "outputs": [
    {
     "name": "stdout",
     "output_type": "stream",
     "text": [
      "\n",
      "           |         test\n",
      "      diag |      Pos.       Neg. |     Total\n",
      "-----------+----------------------+----------\n",
      "  Abnormal |     3,339      2,843 |     6,182 \n",
      "    Normal |     4,638    205,886 |   210,524 \n",
      "-----------+----------------------+----------\n",
      "     Total |     7,977    208,729 |   216,706 \n",
      "True abnormal diagnosis defined as diag = 1\n",
      "\n",
      "\n",
      "                                                  [95% Confidence Interval]\n",
      "---------------------------------------------------------------------------\n",
      "Prevalence                         Pr(A)      2.9%      2.8%       2.9%\n",
      "---------------------------------------------------------------------------\n",
      "Sensitivity                      Pr(+|A)     54.0%     52.8%     55.3%\n",
      "Specificity                      Pr(-|N)     97.8%     97.7%     97.9%\n",
      "ROC area               (Sens. + Spec.)/2      0.76      0.75      0.77 \n",
      "---------------------------------------------------------------------------\n",
      "Likelihood ratio (+)     Pr(+|A)/Pr(+|N)     24.52     23.64     25.43 \n",
      "Likelihood ratio (-)     Pr(-|A)/Pr(-|N)      0.47      0.46      0.48 \n",
      "Odds ratio                   LR(+)/LR(-)     52.14     49.20     55.24 \n",
      "Positive predictive value        Pr(A|+)     41.9%     40.8%     42.9% \n",
      "Negative predictive value        Pr(N|-)     98.6%     98.6%     98.7% \n",
      "---------------------------------------------------------------------------\n"
     ]
    }
   ],
   "source": [
    "diagt diag test if sex==0"
   ]
  },
  {
   "cell_type": "markdown",
   "id": "ab8954a7-060c-4eba-adea-1044fb6bb9ea",
   "metadata": {},
   "source": [
    "#### Age\n",
    "*16-30*"
   ]
  },
  {
   "cell_type": "code",
   "execution_count": 10,
   "id": "f9aa943b-6489-4d70-a905-4aa3b8f2cb6e",
   "metadata": {},
   "outputs": [
    {
     "name": "stdout",
     "output_type": "stream",
     "text": [
      "\n",
      "           |         test\n",
      "      diag |      Pos.       Neg. |     Total\n",
      "-----------+----------------------+----------\n",
      "  Abnormal |     1,645      1,586 |     3,231 \n",
      "    Normal |     1,353    113,090 |   114,443 \n",
      "-----------+----------------------+----------\n",
      "     Total |     2,998    114,676 |   117,674 \n",
      "True abnormal diagnosis defined as diag = 1\n",
      "\n",
      "\n",
      "                                                  [95% Confidence Interval]\n",
      "---------------------------------------------------------------------------\n",
      "Prevalence                         Pr(A)      2.7%      2.7%       2.8%\n",
      "---------------------------------------------------------------------------\n",
      "Sensitivity                      Pr(+|A)     50.9%     49.2%     52.7%\n",
      "Specificity                      Pr(-|N)     98.8%     98.8%     98.9%\n",
      "ROC area               (Sens. + Spec.)/2      0.75      0.74      0.76 \n",
      "---------------------------------------------------------------------------\n",
      "Likelihood ratio (+)     Pr(+|A)/Pr(+|N)     43.06     40.44     45.86 \n",
      "Likelihood ratio (-)     Pr(-|A)/Pr(-|N)      0.50      0.48      0.51 \n",
      "Odds ratio                   LR(+)/LR(-)     86.69     79.44     94.61 \n",
      "Positive predictive value        Pr(A|+)     54.9%     53.1%     56.7% \n",
      "Negative predictive value        Pr(N|-)     98.6%     98.5%     98.7% \n",
      "---------------------------------------------------------------------------\n"
     ]
    }
   ],
   "source": [
    "diagt diag test if agecat==16"
   ]
  },
  {
   "cell_type": "markdown",
   "id": "999f9154-f87e-44c7-8928-1345fa5c5958",
   "metadata": {},
   "source": [
    "*30-69*"
   ]
  },
  {
   "cell_type": "code",
   "execution_count": 11,
   "id": "6fcb0167-b359-4f24-91e3-a10fb2caa610",
   "metadata": {},
   "outputs": [
    {
     "name": "stdout",
     "output_type": "stream",
     "text": [
      "\n",
      "           |         test\n",
      "      diag |      Pos.       Neg. |     Total\n",
      "-----------+----------------------+----------\n",
      "  Abnormal |     2,438      1,735 |     4,173 \n",
      "    Normal |     3,931    213,291 |   217,222 \n",
      "-----------+----------------------+----------\n",
      "     Total |     6,369    215,026 |   221,395 \n",
      "True abnormal diagnosis defined as diag = 1\n",
      "\n",
      "\n",
      "                                                  [95% Confidence Interval]\n",
      "---------------------------------------------------------------------------\n",
      "Prevalence                         Pr(A)      1.9%      1.8%       1.9%\n",
      "---------------------------------------------------------------------------\n",
      "Sensitivity                      Pr(+|A)     58.4%     56.9%     59.9%\n",
      "Specificity                      Pr(-|N)     98.2%     98.1%     98.2%\n",
      "ROC area               (Sens. + Spec.)/2      0.78      0.78      0.79 \n",
      "---------------------------------------------------------------------------\n",
      "Likelihood ratio (+)     Pr(+|A)/Pr(+|N)     32.28     31.01     33.61 \n",
      "Likelihood ratio (-)     Pr(-|A)/Pr(-|N)      0.42      0.41      0.44 \n",
      "Odds ratio                   LR(+)/LR(-)     76.24     71.15     81.70 \n",
      "Positive predictive value        Pr(A|+)     38.3%     37.1%     39.5% \n",
      "Negative predictive value        Pr(N|-)     99.2%     99.2%     99.2% \n",
      "---------------------------------------------------------------------------\n"
     ]
    }
   ],
   "source": [
    "diagt diag test if agecat==30"
   ]
  },
  {
   "cell_type": "markdown",
   "id": "10d9753a",
   "metadata": {},
   "source": [
    "*>69*"
   ]
  },
  {
   "cell_type": "code",
   "execution_count": 12,
   "id": "fd782079-4378-4cc3-9a2c-4adb92379d41",
   "metadata": {},
   "outputs": [
    {
     "name": "stdout",
     "output_type": "stream",
     "text": [
      "\n",
      "           |         test\n",
      "      diag |      Pos.       Neg. |     Total\n",
      "-----------+----------------------+----------\n",
      "  Abnormal |       142        232 |       374 \n",
      "    Normal |       574     84,983 |    85,557 \n",
      "-----------+----------------------+----------\n",
      "     Total |       716     85,215 |    85,931 \n",
      "True abnormal diagnosis defined as diag = 1\n",
      "\n",
      "\n",
      "                                                  [95% Confidence Interval]\n",
      "---------------------------------------------------------------------------\n",
      "Prevalence                         Pr(A)      0.4%      0.4%       0.5%\n",
      "---------------------------------------------------------------------------\n",
      "Sensitivity                      Pr(+|A)     38.0%     33.0%     43.1%\n",
      "Specificity                      Pr(-|N)     99.3%     99.3%     99.4%\n",
      "ROC area               (Sens. + Spec.)/2      0.69      0.66      0.71 \n",
      "---------------------------------------------------------------------------\n",
      "Likelihood ratio (+)     Pr(+|A)/Pr(+|N)     56.59     48.56     65.95 \n",
      "Likelihood ratio (-)     Pr(-|A)/Pr(-|N)      0.62      0.58      0.68 \n",
      "Odds ratio                   LR(+)/LR(-)     90.62     72.43    113.38 \n",
      "Positive predictive value        Pr(A|+)     19.8%     17.0%     22.9% \n",
      "Negative predictive value        Pr(N|-)     99.7%     99.7%     99.8% \n",
      "---------------------------------------------------------------------------\n"
     ]
    }
   ],
   "source": [
    "diagt diag test if agecat==70"
   ]
  },
  {
   "cell_type": "markdown",
   "id": "23455479-0f98-4886-a36c-770376084911",
   "metadata": {},
   "source": [
    "#### Year at start of oberservation period \n",
    "*2004-2009*"
   ]
  },
  {
   "cell_type": "code",
   "execution_count": 13,
   "id": "9c58ecee-bd42-47a9-ad46-f51305e689bf",
   "metadata": {},
   "outputs": [
    {
     "name": "stdout",
     "output_type": "stream",
     "text": [
      "\n",
      "           |         test\n",
      "      diag |      Pos.       Neg. |     Total\n",
      "-----------+----------------------+----------\n",
      "  Abnormal |     1,400        974 |     2,374 \n",
      "    Normal |     2,000    145,626 |   147,626 \n",
      "-----------+----------------------+----------\n",
      "     Total |     3,400    146,600 |   150,000 \n",
      "True abnormal diagnosis defined as diag = 1\n",
      "\n",
      "\n",
      "                                                  [95% Confidence Interval]\n",
      "---------------------------------------------------------------------------\n",
      "Prevalence                         Pr(A)      1.6%      1.5%       1.6%\n",
      "---------------------------------------------------------------------------\n",
      "Sensitivity                      Pr(+|A)     59.0%     57.0%     61.0%\n",
      "Specificity                      Pr(-|N)     98.6%     98.6%     98.7%\n",
      "ROC area               (Sens. + Spec.)/2      0.79      0.78      0.80 \n",
      "---------------------------------------------------------------------------\n",
      "Likelihood ratio (+)     Pr(+|A)/Pr(+|N)     43.53     41.20     45.99 \n",
      "Likelihood ratio (-)     Pr(-|A)/Pr(-|N)      0.42      0.40      0.44 \n",
      "Odds ratio                   LR(+)/LR(-)    104.66     95.37    114.85 \n",
      "Positive predictive value        Pr(A|+)     41.2%     39.5%     42.9% \n",
      "Negative predictive value        Pr(N|-)     99.3%     99.3%     99.4% \n",
      "---------------------------------------------------------------------------\n"
     ]
    }
   ],
   "source": [
    "diagt diag test if yearcat==2004"
   ]
  },
  {
   "cell_type": "markdown",
   "id": "d9f3db50-6898-4b47-81ef-4ea609bb28d8",
   "metadata": {},
   "source": [
    "*2010-2015*"
   ]
  },
  {
   "cell_type": "code",
   "execution_count": 14,
   "id": "6b326410-d900-498f-b736-4ced1ea7fa5d",
   "metadata": {},
   "outputs": [
    {
     "name": "stdout",
     "output_type": "stream",
     "text": [
      "\n",
      "           |         test\n",
      "      diag |      Pos.       Neg. |     Total\n",
      "-----------+----------------------+----------\n",
      "  Abnormal |     1,559      1,307 |     2,866 \n",
      "    Normal |     2,084    145,050 |   147,134 \n",
      "-----------+----------------------+----------\n",
      "     Total |     3,643    146,357 |   150,000 \n",
      "True abnormal diagnosis defined as diag = 1\n",
      "\n",
      "\n",
      "                                                  [95% Confidence Interval]\n",
      "---------------------------------------------------------------------------\n",
      "Prevalence                         Pr(A)      1.9%      1.8%       2.0%\n",
      "---------------------------------------------------------------------------\n",
      "Sensitivity                      Pr(+|A)     54.4%     52.6%     56.2%\n",
      "Specificity                      Pr(-|N)     98.6%     98.5%     98.6%\n",
      "ROC area               (Sens. + Spec.)/2      0.76      0.76      0.77 \n",
      "---------------------------------------------------------------------------\n",
      "Likelihood ratio (+)     Pr(+|A)/Pr(+|N)     38.40     36.38     40.54 \n",
      "Likelihood ratio (-)     Pr(-|A)/Pr(-|N)      0.46      0.44      0.48 \n",
      "Odds ratio                   LR(+)/LR(-)     83.02     76.24     90.41 \n",
      "Positive predictive value        Pr(A|+)     42.8%     41.2%     44.4% \n",
      "Negative predictive value        Pr(N|-)     99.1%     99.1%     99.2% \n",
      "---------------------------------------------------------------------------\n"
     ]
    }
   ],
   "source": [
    "diagt diag test if yearcat==2010"
   ]
  },
  {
   "cell_type": "markdown",
   "id": "1546a4d9-adee-4208-88e0-3b6aa4d3d14c",
   "metadata": {},
   "source": [
    "*2016-2020*"
   ]
  },
  {
   "cell_type": "code",
   "execution_count": 15,
   "id": "dddfe5ba-1a16-4afc-91e5-cbffb4f25b77",
   "metadata": {},
   "outputs": [
    {
     "name": "stdout",
     "output_type": "stream",
     "text": [
      "\n",
      "           |         test\n",
      "      diag |      Pos.       Neg. |     Total\n",
      "-----------+----------------------+----------\n",
      "  Abnormal |     1,266      1,272 |     2,538 \n",
      "    Normal |     1,774    120,688 |   122,462 \n",
      "-----------+----------------------+----------\n",
      "     Total |     3,040    121,960 |   125,000 \n",
      "True abnormal diagnosis defined as diag = 1\n",
      "\n",
      "\n",
      "                                                  [95% Confidence Interval]\n",
      "---------------------------------------------------------------------------\n",
      "Prevalence                         Pr(A)      2.0%      2.0%       2.1%\n",
      "---------------------------------------------------------------------------\n",
      "Sensitivity                      Pr(+|A)     49.9%     47.9%     51.8%\n",
      "Specificity                      Pr(-|N)     98.6%     98.5%     98.6%\n",
      "ROC area               (Sens. + Spec.)/2      0.74      0.73      0.75 \n",
      "---------------------------------------------------------------------------\n",
      "Likelihood ratio (+)     Pr(+|A)/Pr(+|N)     34.43     32.41     36.58 \n",
      "Likelihood ratio (-)     Pr(-|A)/Pr(-|N)      0.51      0.49      0.53 \n",
      "Odds ratio                   LR(+)/LR(-)     67.71     61.83     74.15 \n",
      "Positive predictive value        Pr(A|+)     41.6%     39.9%     43.4% \n",
      "Negative predictive value        Pr(N|-)     99.0%     98.9%     99.0% \n",
      "---------------------------------------------------------------------------\n"
     ]
    }
   ],
   "source": [
    "diagt diag test if yearcat==2016"
   ]
  },
  {
   "cell_type": "markdown",
   "id": "9318e823-cf06-4695-a86c-8b96ace454c5",
   "metadata": {},
   "source": [
    "#### IMD of practice\n",
    "*1-3*"
   ]
  },
  {
   "cell_type": "code",
   "execution_count": 16,
   "id": "0c48ed3a-ce83-4c14-9447-6c52d4d82ed3",
   "metadata": {},
   "outputs": [
    {
     "name": "stdout",
     "output_type": "stream",
     "text": [
      "\n",
      "           |         test\n",
      "      diag |      Pos.       Neg. |     Total\n",
      "-----------+----------------------+----------\n",
      "  Abnormal |     1,597      1,191 |     2,788 \n",
      "    Normal |     2,256    149,507 |   151,763 \n",
      "-----------+----------------------+----------\n",
      "     Total |     3,853    150,698 |   154,551 \n",
      "True abnormal diagnosis defined as diag = 1\n",
      "\n",
      "\n",
      "                                                  [95% Confidence Interval]\n",
      "---------------------------------------------------------------------------\n",
      "Prevalence                         Pr(A)      1.8%      1.7%       1.9%\n",
      "---------------------------------------------------------------------------\n",
      "Sensitivity                      Pr(+|A)     57.3%     55.4%     59.1%\n",
      "Specificity                      Pr(-|N)     98.5%     98.5%     98.6%\n",
      "ROC area               (Sens. + Spec.)/2      0.78      0.77      0.79 \n",
      "---------------------------------------------------------------------------\n",
      "Likelihood ratio (+)     Pr(+|A)/Pr(+|N)     38.53     36.58     40.59 \n",
      "Likelihood ratio (-)     Pr(-|A)/Pr(-|N)      0.43      0.42      0.45 \n",
      "Odds ratio                   LR(+)/LR(-)     88.86     81.56     96.82 \n",
      "Positive predictive value        Pr(A|+)     41.4%     39.9%     43.0% \n",
      "Negative predictive value        Pr(N|-)     99.2%     99.2%     99.3% \n",
      "---------------------------------------------------------------------------\n"
     ]
    }
   ],
   "source": [
    "diagt diag test if imdcat==0"
   ]
  },
  {
   "cell_type": "markdown",
   "id": "cc20d8e3-26a9-4217-989b-54c2c73d0386",
   "metadata": {},
   "source": [
    "*4-7*"
   ]
  },
  {
   "cell_type": "code",
   "execution_count": 17,
   "id": "2f034372-ceb8-4f41-bd39-9d6ef321a64a",
   "metadata": {},
   "outputs": [
    {
     "name": "stdout",
     "output_type": "stream",
     "text": [
      "\n",
      "           |         test\n",
      "      diag |      Pos.       Neg. |     Total\n",
      "-----------+----------------------+----------\n",
      "  Abnormal |     1,378      1,307 |     2,685 \n",
      "    Normal |     2,051    138,309 |   140,360 \n",
      "-----------+----------------------+----------\n",
      "     Total |     3,429    139,616 |   143,045 \n",
      "True abnormal diagnosis defined as diag = 1\n",
      "\n",
      "\n",
      "                                                  [95% Confidence Interval]\n",
      "---------------------------------------------------------------------------\n",
      "Prevalence                         Pr(A)      1.9%      1.8%       1.9%\n",
      "---------------------------------------------------------------------------\n",
      "Sensitivity                      Pr(+|A)     51.3%     49.4%     53.2%\n",
      "Specificity                      Pr(-|N)     98.5%     98.5%     98.6%\n",
      "ROC area               (Sens. + Spec.)/2      0.75      0.74      0.76 \n",
      "---------------------------------------------------------------------------\n",
      "Likelihood ratio (+)     Pr(+|A)/Pr(+|N)     35.12     33.19     37.17 \n",
      "Likelihood ratio (-)     Pr(-|A)/Pr(-|N)      0.49      0.48      0.51 \n",
      "Odds ratio                   LR(+)/LR(-)     71.10     65.15     77.59 \n",
      "Positive predictive value        Pr(A|+)     40.2%     38.5%     41.9% \n",
      "Negative predictive value        Pr(N|-)     99.1%     99.0%     99.1% \n",
      "---------------------------------------------------------------------------\n"
     ]
    }
   ],
   "source": [
    "diagt diag test if imdcat==4"
   ]
  },
  {
   "cell_type": "markdown",
   "id": "a843bc14-ff1a-4435-a50c-c9769b8c3d3b",
   "metadata": {},
   "source": [
    "*8-10*"
   ]
  },
  {
   "cell_type": "code",
   "execution_count": 18,
   "id": "e52a500d-f3cf-4da6-997c-bbc1e902d199",
   "metadata": {},
   "outputs": [
    {
     "name": "stdout",
     "output_type": "stream",
     "text": [
      "\n",
      "           |         test\n",
      "      diag |      Pos.       Neg. |     Total\n",
      "-----------+----------------------+----------\n",
      "  Abnormal |     1,212      1,031 |     2,243 \n",
      "    Normal |     1,528    121,044 |   122,572 \n",
      "-----------+----------------------+----------\n",
      "     Total |     2,740    122,075 |   124,815 \n",
      "True abnormal diagnosis defined as diag = 1\n",
      "\n",
      "\n",
      "                                                  [95% Confidence Interval]\n",
      "---------------------------------------------------------------------------\n",
      "Prevalence                         Pr(A)      1.8%      1.7%       1.9%\n",
      "---------------------------------------------------------------------------\n",
      "Sensitivity                      Pr(+|A)     54.0%     51.9%     56.1%\n",
      "Specificity                      Pr(-|N)     98.8%     98.7%     98.8%\n",
      "ROC area               (Sens. + Spec.)/2      0.76      0.75      0.77 \n",
      "---------------------------------------------------------------------------\n",
      "Likelihood ratio (+)     Pr(+|A)/Pr(+|N)     43.35     40.71     46.15 \n",
      "Likelihood ratio (-)     Pr(-|A)/Pr(-|N)      0.47      0.45      0.49 \n",
      "Odds ratio                   LR(+)/LR(-)     93.12     84.50    102.63 \n",
      "Positive predictive value        Pr(A|+)     44.2%     42.4%     46.1% \n",
      "Negative predictive value        Pr(N|-)     99.2%     99.1%     99.2% \n",
      "---------------------------------------------------------------------------\n"
     ]
    }
   ],
   "source": [
    "diagt diag test if imdcat==8"
   ]
  },
  {
   "cell_type": "markdown",
   "id": "cbbde183-5b60-4618-a548-81135cae76a0",
   "metadata": {},
   "source": [
    "#### Commissioning Regions\n",
    "EAST OF ENGLAND"
   ]
  },
  {
   "cell_type": "code",
   "execution_count": 19,
   "id": "1254da50-3ca4-47a1-b4d8-e07c6d920177",
   "metadata": {},
   "outputs": [
    {
     "name": "stdout",
     "output_type": "stream",
     "text": [
      "\n",
      "           |         test\n",
      "      diag |      Pos.       Neg. |     Total\n",
      "-----------+----------------------+----------\n",
      "  Abnormal |       961        798 |     1,759 \n",
      "    Normal |     1,474     86,404 |    87,878 \n",
      "-----------+----------------------+----------\n",
      "     Total |     2,435     87,202 |    89,637 \n",
      "True abnormal diagnosis defined as diag = 1\n",
      "\n",
      "\n",
      "                                                  [95% Confidence Interval]\n",
      "---------------------------------------------------------------------------\n",
      "Prevalence                         Pr(A)      2.0%      1.9%       2.1%\n",
      "---------------------------------------------------------------------------\n",
      "Sensitivity                      Pr(+|A)     54.6%     52.3%     57.0%\n",
      "Specificity                      Pr(-|N)     98.3%     98.2%     98.4%\n",
      "ROC area               (Sens. + Spec.)/2      0.76      0.75      0.78 \n",
      "---------------------------------------------------------------------------\n",
      "Likelihood ratio (+)     Pr(+|A)/Pr(+|N)     32.57     30.49     34.80 \n",
      "Likelihood ratio (-)     Pr(-|A)/Pr(-|N)      0.46      0.44      0.49 \n",
      "Odds ratio                   LR(+)/LR(-)     70.59     63.43     78.57 \n",
      "Positive predictive value        Pr(A|+)     39.5%     37.5%     41.4% \n",
      "Negative predictive value        Pr(N|-)     99.1%     99.0%     99.1% \n",
      "---------------------------------------------------------------------------\n"
     ]
    }
   ],
   "source": [
    "diagt diag test if regexm(region_name,\"ENGLAND\")==1"
   ]
  },
  {
   "cell_type": "markdown",
   "id": "b2f2b2c7-4c3b-4ae5-ad03-8edfbc58938d",
   "metadata": {},
   "source": [
    "London"
   ]
  },
  {
   "cell_type": "code",
   "execution_count": 20,
   "id": "18195511-cedc-42b1-8bae-bc6621364814",
   "metadata": {},
   "outputs": [
    {
     "name": "stdout",
     "output_type": "stream",
     "text": [
      "\n",
      "           |         test\n",
      "      diag |      Pos.       Neg. |     Total\n",
      "-----------+----------------------+----------\n",
      "  Abnormal |       155        148 |       303 \n",
      "    Normal |       155     16,267 |    16,422 \n",
      "-----------+----------------------+----------\n",
      "     Total |       310     16,415 |    16,725 \n",
      "True abnormal diagnosis defined as diag = 1\n",
      "\n",
      "\n",
      "                                                  [95% Confidence Interval]\n",
      "---------------------------------------------------------------------------\n",
      "Prevalence                         Pr(A)      1.8%      1.6%       2.0%\n",
      "---------------------------------------------------------------------------\n",
      "Sensitivity                      Pr(+|A)     51.2%     45.4%     56.9%\n",
      "Specificity                      Pr(-|N)     99.1%     98.9%     99.2%\n",
      "ROC area               (Sens. + Spec.)/2      0.75      0.72      0.78 \n",
      "---------------------------------------------------------------------------\n",
      "Likelihood ratio (+)     Pr(+|A)/Pr(+|N)     54.20     44.75     65.63 \n",
      "Likelihood ratio (-)     Pr(-|A)/Pr(-|N)      0.49      0.44      0.55 \n",
      "Odds ratio                   LR(+)/LR(-)    109.91     83.50    144.69 \n",
      "Positive predictive value        Pr(A|+)     50.0%     44.3%     55.7% \n",
      "Negative predictive value        Pr(N|-)     99.1%     98.9%     99.2% \n",
      "---------------------------------------------------------------------------\n"
     ]
    }
   ],
   "source": [
    "diagt diag test if regexm(region_name,\"LONDON\")==1"
   ]
  },
  {
   "cell_type": "markdown",
   "id": "1a78f370-7ebd-4e70-b301-73c6e75003fd",
   "metadata": {},
   "source": [
    "Midlands"
   ]
  },
  {
   "cell_type": "code",
   "execution_count": 21,
   "id": "265ce394-6410-4e76-a064-ec3d32c30eee",
   "metadata": {},
   "outputs": [
    {
     "name": "stdout",
     "output_type": "stream",
     "text": [
      "\n",
      "           |         test\n",
      "      diag |      Pos.       Neg. |     Total\n",
      "-----------+----------------------+----------\n",
      "  Abnormal |       548        498 |     1,046 \n",
      "    Normal |       672     44,825 |    45,497 \n",
      "-----------+----------------------+----------\n",
      "     Total |     1,220     45,323 |    46,543 \n",
      "True abnormal diagnosis defined as diag = 1\n",
      "\n",
      "\n",
      "                                                  [95% Confidence Interval]\n",
      "---------------------------------------------------------------------------\n",
      "Prevalence                         Pr(A)      2.2%      2.1%       2.4%\n",
      "---------------------------------------------------------------------------\n",
      "Sensitivity                      Pr(+|A)     52.4%     49.3%     55.5%\n",
      "Specificity                      Pr(-|N)     98.5%     98.4%     98.6%\n",
      "ROC area               (Sens. + Spec.)/2      0.75      0.74      0.77 \n",
      "---------------------------------------------------------------------------\n",
      "Likelihood ratio (+)     Pr(+|A)/Pr(+|N)     35.47     32.26     38.99 \n",
      "Likelihood ratio (-)     Pr(-|A)/Pr(-|N)      0.48      0.45      0.51 \n",
      "Odds ratio                   LR(+)/LR(-)     73.40     63.61     84.70 \n",
      "Positive predictive value        Pr(A|+)     44.9%     42.1%     47.8% \n",
      "Negative predictive value        Pr(N|-)     98.9%     98.8%     99.0% \n",
      "---------------------------------------------------------------------------\n"
     ]
    }
   ],
   "source": [
    "diagt diag test if regexm(region_name,\"MID\")==1"
   ]
  },
  {
   "cell_type": "markdown",
   "id": "0769a779-b7ae-4496-9ed2-a6feb1a1a94a",
   "metadata": {},
   "source": [
    "Yorkshire"
   ]
  },
  {
   "cell_type": "code",
   "execution_count": 22,
   "id": "83d73532-38e7-4fb2-a39b-5c1ef1b5b717",
   "metadata": {},
   "outputs": [
    {
     "name": "stdout",
     "output_type": "stream",
     "text": [
      "\n",
      "           |         test\n",
      "      diag |      Pos.       Neg. |     Total\n",
      "-----------+----------------------+----------\n",
      "  Abnormal |       844        588 |     1,432 \n",
      "    Normal |     1,229     83,450 |    84,679 \n",
      "-----------+----------------------+----------\n",
      "     Total |     2,073     84,038 |    86,111 \n",
      "True abnormal diagnosis defined as diag = 1\n",
      "\n",
      "\n",
      "                                                  [95% Confidence Interval]\n",
      "---------------------------------------------------------------------------\n",
      "Prevalence                         Pr(A)      1.7%      1.6%       1.8%\n",
      "---------------------------------------------------------------------------\n",
      "Sensitivity                      Pr(+|A)     58.9%     56.3%     61.5%\n",
      "Specificity                      Pr(-|N)     98.5%     98.5%     98.6%\n",
      "ROC area               (Sens. + Spec.)/2      0.79      0.77      0.80 \n",
      "---------------------------------------------------------------------------\n",
      "Likelihood ratio (+)     Pr(+|A)/Pr(+|N)     40.61     37.85     43.57 \n",
      "Likelihood ratio (-)     Pr(-|A)/Pr(-|N)      0.42      0.39      0.44 \n",
      "Odds ratio                   LR(+)/LR(-)     97.46     86.50    109.82 \n",
      "Positive predictive value        Pr(A|+)     40.7%     38.6%     42.9% \n",
      "Negative predictive value        Pr(N|-)     99.3%     99.2%     99.4% \n",
      "---------------------------------------------------------------------------\n"
     ]
    }
   ],
   "source": [
    "diagt diag test if regexm(region_name,\"YORK\")==1"
   ]
  },
  {
   "cell_type": "markdown",
   "id": "247339ad-15c3-4ac2-9458-c8b14082ff8c",
   "metadata": {},
   "source": [
    "North West"
   ]
  },
  {
   "cell_type": "code",
   "execution_count": 23,
   "id": "f9ddd2b2-2aa8-49c0-8d9b-ac27a3db55be",
   "metadata": {},
   "outputs": [
    {
     "name": "stdout",
     "output_type": "stream",
     "text": [
      "\n",
      "           |         test\n",
      "      diag |      Pos.       Neg. |     Total\n",
      "-----------+----------------------+----------\n",
      "  Abnormal |       517        456 |       973 \n",
      "    Normal |       582     46,038 |    46,620 \n",
      "-----------+----------------------+----------\n",
      "     Total |     1,099     46,494 |    47,593 \n",
      "True abnormal diagnosis defined as diag = 1\n",
      "\n",
      "\n",
      "                                                  [95% Confidence Interval]\n",
      "---------------------------------------------------------------------------\n",
      "Prevalence                         Pr(A)      2.0%      1.9%       2.2%\n",
      "---------------------------------------------------------------------------\n",
      "Sensitivity                      Pr(+|A)     53.1%     49.9%     56.3%\n",
      "Specificity                      Pr(-|N)     98.8%     98.6%     98.9%\n",
      "ROC area               (Sens. + Spec.)/2      0.76      0.74      0.78 \n",
      "---------------------------------------------------------------------------\n",
      "Likelihood ratio (+)     Pr(+|A)/Pr(+|N)     42.56     38.51     47.04 \n",
      "Likelihood ratio (-)     Pr(-|A)/Pr(-|N)      0.47      0.44      0.51 \n",
      "Odds ratio                   LR(+)/LR(-)     89.68     77.19    104.21 \n",
      "Positive predictive value        Pr(A|+)     47.0%     44.1%     50.0% \n",
      "Negative predictive value        Pr(N|-)     99.0%     98.9%     99.1% \n",
      "---------------------------------------------------------------------------\n"
     ]
    }
   ],
   "source": [
    "diagt diag test if regexm(region_name,\"NORTH\")==1 & regexm(region_name,\"WEST\")==1"
   ]
  },
  {
   "cell_type": "markdown",
   "id": "cac4bda2-216c-4294-ab6d-5338aa93d23c",
   "metadata": {},
   "source": [
    "South East"
   ]
  },
  {
   "cell_type": "code",
   "execution_count": 24,
   "id": "883a5bf4-de79-4ba9-9bb2-95f85e3bccb3",
   "metadata": {},
   "outputs": [
    {
     "name": "stdout",
     "output_type": "stream",
     "text": [
      "\n",
      "           |         test\n",
      "      diag |      Pos.       Neg. |     Total\n",
      "-----------+----------------------+----------\n",
      "  Abnormal |       813        716 |     1,529 \n",
      "    Normal |     1,092     87,864 |    88,956 \n",
      "-----------+----------------------+----------\n",
      "     Total |     1,905     88,580 |    90,485 \n",
      "True abnormal diagnosis defined as diag = 1\n",
      "\n",
      "\n",
      "                                                  [95% Confidence Interval]\n",
      "---------------------------------------------------------------------------\n",
      "Prevalence                         Pr(A)      1.7%      1.6%       1.8%\n",
      "---------------------------------------------------------------------------\n",
      "Sensitivity                      Pr(+|A)     53.2%     50.6%     55.7%\n",
      "Specificity                      Pr(-|N)     98.8%     98.7%     98.8%\n",
      "ROC area               (Sens. + Spec.)/2      0.76      0.75      0.77 \n",
      "---------------------------------------------------------------------------\n",
      "Likelihood ratio (+)     Pr(+|A)/Pr(+|N)     43.31     40.17     46.71 \n",
      "Likelihood ratio (-)     Pr(-|A)/Pr(-|N)      0.47      0.45      0.50 \n",
      "Odds ratio                   LR(+)/LR(-)     91.36     81.29    102.68 \n",
      "Positive predictive value        Pr(A|+)     42.7%     40.4%     44.9% \n",
      "Negative predictive value        Pr(N|-)     99.2%     99.1%     99.2% \n",
      "---------------------------------------------------------------------------\n"
     ]
    }
   ],
   "source": [
    "diagt diag test if regexm(region_name,\"SOUTH\")==1 & regexm(region_name,\"EAST\")==1"
   ]
  },
  {
   "cell_type": "markdown",
   "id": "c31c4086-ecd2-43b5-a175-a49e64a0593a",
   "metadata": {},
   "source": [
    "South West"
   ]
  },
  {
   "cell_type": "code",
   "execution_count": 25,
   "id": "db24609a-c78c-4959-8f77-be636e5b8a66",
   "metadata": {},
   "outputs": [
    {
     "name": "stdout",
     "output_type": "stream",
     "text": [
      "\n",
      "           |         test\n",
      "      diag |      Pos.       Neg. |     Total\n",
      "-----------+----------------------+----------\n",
      "  Abnormal |       279        265 |       544 \n",
      "    Normal |       493     35,139 |    35,632 \n",
      "-----------+----------------------+----------\n",
      "     Total |       772     35,404 |    36,176 \n",
      "True abnormal diagnosis defined as diag = 1\n",
      "\n",
      "\n",
      "                                                  [95% Confidence Interval]\n",
      "---------------------------------------------------------------------------\n",
      "Prevalence                         Pr(A)      1.5%      1.4%       1.6%\n",
      "---------------------------------------------------------------------------\n",
      "Sensitivity                      Pr(+|A)     51.3%     47.0%     55.6%\n",
      "Specificity                      Pr(-|N)     98.6%     98.5%     98.7%\n",
      "ROC area               (Sens. + Spec.)/2      0.75      0.73      0.77 \n",
      "---------------------------------------------------------------------------\n",
      "Likelihood ratio (+)     Pr(+|A)/Pr(+|N)     37.07     32.88     41.79 \n",
      "Likelihood ratio (-)     Pr(-|A)/Pr(-|N)      0.49      0.45      0.54 \n",
      "Odds ratio                   LR(+)/LR(-)     75.04     62.05     90.75 \n",
      "Positive predictive value        Pr(A|+)     36.1%     32.7%     39.6% \n",
      "Negative predictive value        Pr(N|-)     99.3%     99.2%     99.3% \n",
      "---------------------------------------------------------------------------\n"
     ]
    }
   ],
   "source": [
    "diagt diag test if regexm(region_name,\"SOUTH\")==1 & regexm(region_name,\"WEST\")==1"
   ]
  },
  {
   "cell_type": "markdown",
   "id": "cf33efae-dc21-4b1a-b169-9eaea69c1161",
   "metadata": {},
   "source": [
    "#### System\n",
    "SystmOne"
   ]
  },
  {
   "cell_type": "code",
   "execution_count": 26,
   "id": "26573dfb-79dc-4647-88a6-e19dac9eca61",
   "metadata": {},
   "outputs": [
    {
     "name": "stdout",
     "output_type": "stream",
     "text": [
      "\n",
      "           |         test\n",
      "      diag |      Pos.       Neg. |     Total\n",
      "-----------+----------------------+----------\n",
      "  Abnormal |     2,207      1,733 |     3,940 \n",
      "    Normal |     3,540    221,275 |   224,815 \n",
      "-----------+----------------------+----------\n",
      "     Total |     5,747    223,008 |   228,755 \n",
      "True abnormal diagnosis defined as diag = 1\n",
      "\n",
      "\n",
      "                                                  [95% Confidence Interval]\n",
      "---------------------------------------------------------------------------\n",
      "Prevalence                         Pr(A)      1.7%      1.7%       1.8%\n",
      "---------------------------------------------------------------------------\n",
      "Sensitivity                      Pr(+|A)     56.0%     54.4%     57.6%\n",
      "Specificity                      Pr(-|N)     98.4%     98.4%     98.5%\n",
      "ROC area               (Sens. + Spec.)/2      0.77      0.76      0.78 \n",
      "---------------------------------------------------------------------------\n",
      "Likelihood ratio (+)     Pr(+|A)/Pr(+|N)     35.57     34.08     37.13 \n",
      "Likelihood ratio (-)     Pr(-|A)/Pr(-|N)      0.45      0.43      0.46 \n",
      "Odds ratio                   LR(+)/LR(-)     79.60     74.14     85.47 \n",
      "Positive predictive value        Pr(A|+)     38.4%     37.1%     39.7% \n",
      "Negative predictive value        Pr(N|-)     99.2%     99.2%     99.3% \n",
      "---------------------------------------------------------------------------\n"
     ]
    }
   ],
   "source": [
    "diagt diag test if regexm(system,\"One\")==1"
   ]
  },
  {
   "cell_type": "markdown",
   "id": "b561f033-d2f3-4c95-ad3f-03b8c65647ea",
   "metadata": {},
   "source": [
    "Vision"
   ]
  },
  {
   "cell_type": "code",
   "execution_count": 27,
   "id": "6bed6f81-5fd6-418e-94ff-96d2de419d3d",
   "metadata": {},
   "outputs": [
    {
     "name": "stdout",
     "output_type": "stream",
     "text": [
      "\n",
      "           |         test\n",
      "      diag |      Pos.       Neg. |     Total\n",
      "-----------+----------------------+----------\n",
      "  Abnormal |       117        104 |       221 \n",
      "    Normal |       178     13,345 |    13,523 \n",
      "-----------+----------------------+----------\n",
      "     Total |       295     13,449 |    13,744 \n",
      "True abnormal diagnosis defined as diag = 1\n",
      "\n",
      "\n",
      "                                                  [95% Confidence Interval]\n",
      "---------------------------------------------------------------------------\n",
      "Prevalence                         Pr(A)      1.6%      1.4%       1.8%\n",
      "---------------------------------------------------------------------------\n",
      "Sensitivity                      Pr(+|A)     52.9%     46.1%     59.7%\n",
      "Specificity                      Pr(-|N)     98.7%     98.5%     98.9%\n",
      "ROC area               (Sens. + Spec.)/2      0.76      0.73      0.79 \n",
      "---------------------------------------------------------------------------\n",
      "Likelihood ratio (+)     Pr(+|A)/Pr(+|N)     40.22     33.20     48.72 \n",
      "Likelihood ratio (-)     Pr(-|A)/Pr(-|N)      0.48      0.41      0.55 \n",
      "Odds ratio                   LR(+)/LR(-)     84.34     62.35    114.10 \n",
      "Positive predictive value        Pr(A|+)     39.7%     34.0%     45.5% \n",
      "Negative predictive value        Pr(N|-)     99.2%     99.1%     99.4% \n",
      "---------------------------------------------------------------------------\n"
     ]
    }
   ],
   "source": [
    "diagt diag test if regexm(system,\"Vision\")==1"
   ]
  },
  {
   "cell_type": "markdown",
   "id": "65d9cefb-fbb5-4500-8ed3-52074d4e12ad",
   "metadata": {},
   "source": [
    "EMIS"
   ]
  },
  {
   "cell_type": "code",
   "execution_count": 28,
   "id": "18d50bfe-f5c4-4ecb-b822-0d06e3b29224",
   "metadata": {},
   "outputs": [
    {
     "name": "stdout",
     "output_type": "stream",
     "text": [
      "\n",
      "           |         test\n",
      "      diag |      Pos.       Neg. |     Total\n",
      "-----------+----------------------+----------\n",
      "  Abnormal |     1,901      1,716 |     3,617 \n",
      "    Normal |     2,132    176,616 |   178,748 \n",
      "-----------+----------------------+----------\n",
      "     Total |     4,033    178,332 |   182,365 \n",
      "True abnormal diagnosis defined as diag = 1\n",
      "\n",
      "\n",
      "                                                  [95% Confidence Interval]\n",
      "---------------------------------------------------------------------------\n",
      "Prevalence                         Pr(A)      2.0%      1.9%       2.0%\n",
      "---------------------------------------------------------------------------\n",
      "Sensitivity                      Pr(+|A)     52.6%     50.9%     54.2%\n",
      "Specificity                      Pr(-|N)     98.8%     98.8%     98.9%\n",
      "ROC area               (Sens. + Spec.)/2      0.76      0.75      0.76 \n",
      "---------------------------------------------------------------------------\n",
      "Likelihood ratio (+)     Pr(+|A)/Pr(+|N)     44.06     41.82     46.43 \n",
      "Likelihood ratio (-)     Pr(-|A)/Pr(-|N)      0.48      0.46      0.50 \n",
      "Odds ratio                   LR(+)/LR(-)     91.77     84.89     99.21 \n",
      "Positive predictive value        Pr(A|+)     47.1%     45.6%     48.7% \n",
      "Negative predictive value        Pr(N|-)     99.0%     99.0%     99.1% \n",
      "---------------------------------------------------------------------------\n"
     ]
    }
   ],
   "source": [
    "diagt diag test if regexm(ustrupper(system),\"EMIS\")==1"
   ]
  },
  {
   "cell_type": "code",
   "execution_count": null,
   "id": "654b6659-0a73-4736-bc15-7bf926554432",
   "metadata": {},
   "outputs": [],
   "source": []
  },
  {
   "cell_type": "markdown",
   "id": "5cc0b78d-d049-4645-a6f4-e02b49b379db",
   "metadata": {},
   "source": [
    "#### RA_Index\n",
    "Index==1"
   ]
  },
  {
   "cell_type": "code",
   "execution_count": 29,
   "id": "9fa490cd-9380-44bc-8218-9f2193f09aee",
   "metadata": {},
   "outputs": [
    {
     "name": "stdout",
     "output_type": "stream",
     "text": [
      "\n",
      "           |         test\n",
      "      diag |      Pos.       Neg. |     Total\n",
      "-----------+----------------------+----------\n",
      "  Abnormal |     3,195      2,653 |     5,848 \n",
      "    Normal |     4,287    311,562 |   315,849 \n",
      "-----------+----------------------+----------\n",
      "     Total |     7,482    314,215 |   321,697 \n",
      "True abnormal diagnosis defined as diag = 1\n",
      "\n",
      "\n",
      "                                                  [95% Confidence Interval]\n",
      "---------------------------------------------------------------------------\n",
      "Prevalence                         Pr(A)      1.8%      1.8%       1.9%\n",
      "---------------------------------------------------------------------------\n",
      "Sensitivity                      Pr(+|A)     54.6%     53.3%     55.9%\n",
      "Specificity                      Pr(-|N)     98.6%     98.6%     98.7%\n",
      "ROC area               (Sens. + Spec.)/2      0.77      0.76      0.77 \n",
      "---------------------------------------------------------------------------\n",
      "Likelihood ratio (+)     Pr(+|A)/Pr(+|N)     40.25     38.76     41.80 \n",
      "Likelihood ratio (-)     Pr(-|A)/Pr(-|N)      0.46      0.45      0.47 \n",
      "Odds ratio                   LR(+)/LR(-)     87.52     82.46     92.90 \n",
      "Positive predictive value        Pr(A|+)     42.7%     41.6%     43.8% \n",
      "Negative predictive value        Pr(N|-)     99.2%     99.1%     99.2% \n",
      "---------------------------------------------------------------------------\n"
     ]
    }
   ],
   "source": [
    "diagt diag test if RA_index==1"
   ]
  },
  {
   "cell_type": "markdown",
   "id": "7d253ba5-4281-405c-bd8c-511a00a55bf6",
   "metadata": {},
   "source": [
    "Index==0"
   ]
  },
  {
   "cell_type": "code",
   "execution_count": 30,
   "id": "f50f1be6-d1fd-4b54-8cc8-be66d3b7312b",
   "metadata": {},
   "outputs": [
    {
     "name": "stdout",
     "output_type": "stream",
     "text": [
      "\n",
      "           |         test\n",
      "      diag |      Pos.       Neg. |     Total\n",
      "-----------+----------------------+----------\n",
      "  Abnormal |     1,030        900 |     1,930 \n",
      "    Normal |     1,571     99,802 |   101,373 \n",
      "-----------+----------------------+----------\n",
      "     Total |     2,601    100,702 |   103,303 \n",
      "True abnormal diagnosis defined as diag = 1\n",
      "\n",
      "\n",
      "                                                  [95% Confidence Interval]\n",
      "---------------------------------------------------------------------------\n",
      "Prevalence                         Pr(A)      1.9%      1.8%       2.0%\n",
      "---------------------------------------------------------------------------\n",
      "Sensitivity                      Pr(+|A)     53.4%     51.1%     55.6%\n",
      "Specificity                      Pr(-|N)     98.5%     98.4%     98.5%\n",
      "ROC area               (Sens. + Spec.)/2      0.76      0.75      0.77 \n",
      "---------------------------------------------------------------------------\n",
      "Likelihood ratio (+)     Pr(+|A)/Pr(+|N)     34.44     32.29     36.73 \n",
      "Likelihood ratio (-)     Pr(-|A)/Pr(-|N)      0.47      0.45      0.50 \n",
      "Odds ratio                   LR(+)/LR(-)     72.70     65.63     80.54 \n",
      "Positive predictive value        Pr(A|+)     39.6%     37.7%     41.5% \n",
      "Negative predictive value        Pr(N|-)     99.1%     99.0%     99.2% \n",
      "---------------------------------------------------------------------------\n"
     ]
    }
   ],
   "source": [
    "diagt diag test if RA_index==0"
   ]
  },
  {
   "cell_type": "markdown",
   "id": "72956d72",
   "metadata": {},
   "source": [
    "#### Ethnicity\n",
    "Ethnicity==0000white"
   ]
  },
  {
   "cell_type": "code",
   "execution_count": 31,
   "id": "b35bf6ab",
   "metadata": {},
   "outputs": [
    {
     "name": "stdout",
     "output_type": "stream",
     "text": [
      "\n",
      "           |         test\n",
      "      diag |      Pos.       Neg. |     Total\n",
      "-----------+----------------------+----------\n",
      "  Abnormal |     2,889      2,580 |     5,469 \n",
      "    Normal |     4,105    248,407 |   252,512 \n",
      "-----------+----------------------+----------\n",
      "     Total |     6,994    250,987 |   257,981 \n",
      "True abnormal diagnosis defined as diag = 1\n",
      "\n",
      "\n",
      "                                                  [95% Confidence Interval]\n",
      "---------------------------------------------------------------------------\n",
      "Prevalence                         Pr(A)      2.1%      2.1%       2.2%\n",
      "---------------------------------------------------------------------------\n",
      "Sensitivity                      Pr(+|A)     52.8%     51.5%     54.2%\n",
      "Specificity                      Pr(-|N)     98.4%     98.3%     98.4%\n",
      "ROC area               (Sens. + Spec.)/2      0.76      0.75      0.76 \n",
      "---------------------------------------------------------------------------\n",
      "Likelihood ratio (+)     Pr(+|A)/Pr(+|N)     32.49     31.24     33.80 \n",
      "Likelihood ratio (-)     Pr(-|A)/Pr(-|N)      0.48      0.47      0.49 \n",
      "Odds ratio                   LR(+)/LR(-)     67.76     63.73     72.05 \n",
      "Positive predictive value        Pr(A|+)     41.3%     40.1%     42.5% \n",
      "Negative predictive value        Pr(N|-)     99.0%     98.9%     99.0% \n",
      "---------------------------------------------------------------------------\n"
     ]
    }
   ],
   "source": [
    "diagt diag test if ethnicity==\"0white\""
   ]
  },
  {
   "cell_type": "code",
   "execution_count": 32,
   "id": "10050fbc",
   "metadata": {},
   "outputs": [
    {
     "name": "stdout",
     "output_type": "stream",
     "text": [
      "\n",
      "           |         test\n",
      "      diag |      Pos.       Neg. |     Total\n",
      "-----------+----------------------+----------\n",
      "  Abnormal |       560        360 |       920 \n",
      "    Normal |       627     42,321 |    42,948 \n",
      "-----------+----------------------+----------\n",
      "     Total |     1,187     42,681 |    43,868 \n",
      "True abnormal diagnosis defined as diag = 1\n",
      "\n",
      "\n",
      "                                                  [95% Confidence Interval]\n",
      "---------------------------------------------------------------------------\n",
      "Prevalence                         Pr(A)      2.1%      2.0%       2.2%\n",
      "---------------------------------------------------------------------------\n",
      "Sensitivity                      Pr(+|A)     60.9%     57.6%     64.0%\n",
      "Specificity                      Pr(-|N)     98.5%     98.4%     98.7%\n",
      "ROC area               (Sens. + Spec.)/2      0.80      0.78      0.81 \n",
      "---------------------------------------------------------------------------\n",
      "Likelihood ratio (+)     Pr(+|A)/Pr(+|N)     41.69     37.98     45.78 \n",
      "Likelihood ratio (-)     Pr(-|A)/Pr(-|N)      0.40      0.37      0.43 \n",
      "Odds ratio                   LR(+)/LR(-)    105.00     90.01    122.48 \n",
      "Positive predictive value        Pr(A|+)     47.2%     44.3%     50.1% \n",
      "Negative predictive value        Pr(N|-)     99.2%     99.1%     99.2% \n",
      "---------------------------------------------------------------------------\n"
     ]
    }
   ],
   "source": [
    "diagt diag test if ethnicity==\"Other\""
   ]
  },
  {
   "cell_type": "code",
   "execution_count": 33,
   "id": "a9b0ba23",
   "metadata": {},
   "outputs": [
    {
     "name": "stdout",
     "output_type": "stream",
     "text": [
      "\n",
      "           |         test\n",
      "      diag |      Pos.       Neg. |     Total\n",
      "-----------+----------------------+----------\n",
      "  Abnormal |       776        613 |     1,389 \n",
      "    Normal |     1,126    120,636 |   121,762 \n",
      "-----------+----------------------+----------\n",
      "     Total |     1,902    121,249 |   123,151 \n",
      "True abnormal diagnosis defined as diag = 1\n",
      "\n",
      "\n",
      "                                                  [95% Confidence Interval]\n",
      "---------------------------------------------------------------------------\n",
      "Prevalence                         Pr(A)      1.1%      1.1%       1.2%\n",
      "---------------------------------------------------------------------------\n",
      "Sensitivity                      Pr(+|A)     55.9%     53.2%     58.5%\n",
      "Specificity                      Pr(-|N)     99.1%     99.0%     99.1%\n",
      "ROC area               (Sens. + Spec.)/2      0.77      0.76      0.79 \n",
      "---------------------------------------------------------------------------\n",
      "Likelihood ratio (+)     Pr(+|A)/Pr(+|N)     60.41     56.07     65.09 \n",
      "Likelihood ratio (-)     Pr(-|A)/Pr(-|N)      0.45      0.42      0.47 \n",
      "Odds ratio                   LR(+)/LR(-)    135.63    120.16    153.08 \n",
      "Positive predictive value        Pr(A|+)     40.8%     38.6%     43.0% \n",
      "Negative predictive value        Pr(N|-)     99.5%     99.5%     99.5% \n",
      "---------------------------------------------------------------------------\n"
     ]
    }
   ],
   "source": [
    "diagt diag test if ethnicity==\"Missing\""
   ]
  },
  {
   "cell_type": "code",
   "execution_count": 34,
   "id": "0c6b3359-4cc6-4eb5-a15f-ed1be0b97aa0",
   "metadata": {},
   "outputs": [],
   "source": [
    "tempname memhold\n",
    "postfile `memhold' str20 var prev sens spec ppv npv roc using \"validity.dta\",replace\n",
    "\n",
    "quietly diagt diag test\n",
    "local prev=r(prev)\n",
    "local sens=r(sens)\n",
    "local spec=r(spec)\n",
    "local ppv=r(ppv)\n",
    "local npv=r(npv)\n",
    "local roc=r(roc)\n",
    "post `memhold' (\"all\") (`prev') (`sens') (`spec') (`ppv') (`npv') (`roc') \n",
    "\n",
    "quietly diagt diag test if sex==1\n",
    "local prev=r(prev)\n",
    "local sens=r(sens)\n",
    "local spec=r(spec)\n",
    "local ppv=r(ppv)\n",
    "local npv=r(npv)\n",
    "local roc=r(roc)\n",
    "post `memhold' (\"Male\") (`prev') (`sens') (`spec') (`ppv') (`npv') (`roc') \n",
    "\n",
    "quietly diagt diag test if sex==0\n",
    "local prev=r(prev)\n",
    "local sens=r(sens)\n",
    "local spec=r(spec)\n",
    "local ppv=r(ppv)\n",
    "local npv=r(npv)\n",
    "local roc=r(roc)\n",
    "post `memhold' (\"Female\") (`prev') (`sens') (`spec') (`ppv') (`npv') (`roc') \n",
    "\n",
    "quietly diagt diag test if agecat==16\n",
    "local prev=r(prev)\n",
    "local sens=r(sens)\n",
    "local spec=r(spec)\n",
    "local ppv=r(ppv)\n",
    "local npv=r(npv)\n",
    "local roc=r(roc)\n",
    "post `memhold' (\"Age young\") (`prev') (`sens') (`spec') (`ppv') (`npv') (`roc') \n",
    "\n",
    "quietly diagt diag test if agecat==30\n",
    "local prev=r(prev)\n",
    "local sens=r(sens)\n",
    "local spec=r(spec)\n",
    "local ppv=r(ppv)\n",
    "local npv=r(npv)\n",
    "local roc=r(roc)\n",
    "post `memhold' (\"Age middle\") (`prev') (`sens') (`spec') (`ppv') (`npv') (`roc') \n",
    "\n",
    "quietly diagt diag test if agecat==70\n",
    "local prev=r(prev)\n",
    "local sens=r(sens)\n",
    "local spec=r(spec)\n",
    "local ppv=r(ppv)\n",
    "local npv=r(npv)\n",
    "local roc=r(roc)\n",
    "post `memhold' (\"Age elderly\") (`prev') (`sens') (`spec') (`ppv') (`npv') (`roc') \n",
    "\n",
    "\n",
    "quietly diagt diag test if yearcat==2004\n",
    "local prev=r(prev)\n",
    "local sens=r(sens)\n",
    "local spec=r(spec)\n",
    "local ppv=r(ppv)\n",
    "local npv=r(npv)\n",
    "local roc=r(roc)\n",
    "post `memhold' (\"Year 2004-2009\") (`prev') (`sens') (`spec') (`ppv') (`npv') (`roc') \n",
    "\n",
    "quietly diagt diag test if yearcat==2010\n",
    "local prev=r(prev)\n",
    "local sens=r(sens)\n",
    "local spec=r(spec)\n",
    "local ppv=r(ppv)\n",
    "local npv=r(npv)\n",
    "local roc=r(roc)\n",
    "post `memhold' (\"Year 2010-2015\") (`prev') (`sens') (`spec') (`ppv') (`npv') (`roc')\n",
    "\n",
    "quietly diagt diag test if yearcat==2016\n",
    "local prev=r(prev)\n",
    "local sens=r(sens)\n",
    "local spec=r(spec)\n",
    "local ppv=r(ppv)\n",
    "local npv=r(npv)\n",
    "local roc=r(roc)\n",
    "post `memhold' (\"Year 2016-2020\") (`prev') (`sens') (`spec') (`ppv') (`npv') (`roc') \n",
    "\n",
    "\n",
    "quietly diagt diag test if imdcat==0\n",
    "local prev=r(prev)\n",
    "local sens=r(sens)\n",
    "local spec=r(spec)\n",
    "local ppv=r(ppv)\n",
    "local npv=r(npv)\n",
    "local roc=r(roc)\n",
    "post `memhold' (\"IMD 1,3\") (`prev') (`sens') (`spec') (`ppv') (`npv') (`roc') \n",
    "\n",
    "quietly diagt diag test if imdcat==4\n",
    "local prev=r(prev)\n",
    "local sens=r(sens)\n",
    "local spec=r(spec)\n",
    "local ppv=r(ppv)\n",
    "local npv=r(npv)\n",
    "local roc=r(roc)\n",
    "post `memhold' (\"IMD 4,7\") (`prev') (`sens') (`spec') (`ppv') (`npv') (`roc') \n",
    "\n",
    "quietly diagt diag test if imdcat==8\n",
    "local prev=r(prev)\n",
    "local sens=r(sens)\n",
    "local spec=r(spec)\n",
    "local ppv=r(ppv)\n",
    "local npv=r(npv)\n",
    "local roc=r(roc)\n",
    "post `memhold' (\"IMD 8,10\") (`prev') (`sens') (`spec') (`ppv') (`npv') (`roc') \n",
    "\n",
    "\n",
    "quietly diagt diag test if regexm(region_name,\"LONDON\")==1\n",
    "local prev=r(prev)\n",
    "local sens=r(sens)\n",
    "local spec=r(spec)\n",
    "local ppv=r(ppv)\n",
    "local npv=r(npv)\n",
    "local roc=r(roc)\n",
    "post `memhold' (\"London\") (`prev') (`sens') (`spec') (`ppv') (`npv') (`roc') \n",
    "\n",
    "quietly diagt diag test if regexm(region_name,\"MID\")==1\n",
    "local prev=r(prev)\n",
    "local sens=r(sens)\n",
    "local spec=r(spec)\n",
    "local ppv=r(ppv)\n",
    "local npv=r(npv)\n",
    "local roc=r(roc)\n",
    "post `memhold' (\"Midlands\") (`prev') (`sens') (`spec') (`ppv') (`npv') (`roc') \n",
    "\n",
    "quietly diagt diag test if regexm(region_name,\"YORK\")==1\n",
    "local prev=r(prev)\n",
    "local sens=r(sens)\n",
    "local spec=r(spec)\n",
    "local ppv=r(ppv)\n",
    "local npv=r(npv)\n",
    "local roc=r(roc)\n",
    "post `memhold' (\"Yorkshire\") (`prev') (`sens') (`spec') (`ppv') (`npv') (`roc') \n",
    "\n",
    "quietly diagt diag test if regexm(region_name,\"NORTH\")==1 & regexm(region_name,\"WEST\")==1\n",
    "local prev=r(prev)\n",
    "local sens=r(sens)\n",
    "local spec=r(spec)\n",
    "local ppv=r(ppv)\n",
    "local npv=r(npv)\n",
    "local roc=r(roc)\n",
    "post `memhold' (\"North West\") (`prev') (`sens') (`spec') (`ppv') (`npv') (`roc') \n",
    "\n",
    "quietly diagt diag test if regexm(region_name,\"SOUTH\")==1 & regexm(region_name,\"EAST\")==1\n",
    "local prev=r(prev)\n",
    "local sens=r(sens)\n",
    "local spec=r(spec)\n",
    "local ppv=r(ppv)\n",
    "local npv=r(npv)\n",
    "local roc=r(roc)\n",
    "post `memhold' (\"South East\") (`prev') (`sens') (`spec') (`ppv') (`npv') (`roc') \n",
    "\n",
    "quietly diagt diag test if regexm(region_name,\"SOUTH\")==1 & regexm(region_name,\"WEST\")==1\n",
    "local prev=r(prev)\n",
    "local sens=r(sens)\n",
    "local spec=r(spec)\n",
    "local ppv=r(ppv)\n",
    "local npv=r(npv)\n",
    "local roc=r(roc)\n",
    "post `memhold' (\"South West\") (`prev') (`sens') (`spec') (`ppv') (`npv') (`roc') \n",
    "\n",
    "quietly diagt diag test if regexm(system,\"One\")==1\n",
    "local prev=r(prev)\n",
    "local sens=r(sens)\n",
    "local spec=r(spec)\n",
    "local ppv=r(ppv)\n",
    "local npv=r(npv)\n",
    "local roc=r(roc)\n",
    "post `memhold' (\"SystemOne\") (`prev') (`sens') (`spec') (`ppv') (`npv') (`roc') \n",
    "\n",
    "quietly diagt diag test if regexm(system,\"Vision\")==1\n",
    "local prev=r(prev)\n",
    "local sens=r(sens)\n",
    "local spec=r(spec)\n",
    "local ppv=r(ppv)\n",
    "local npv=r(npv)\n",
    "local roc=r(roc)\n",
    "post `memhold' (\"Vision\") (`prev') (`sens') (`spec') (`ppv') (`npv') (`roc') \n",
    "\n",
    "quietly diagt diag test if regexm(ustrupper(system),\"EMIS\")==1\n",
    "local prev=r(prev)\n",
    "local sens=r(sens)\n",
    "local spec=r(spec)\n",
    "local ppv=r(ppv)\n",
    "local npv=r(npv)\n",
    "local roc=r(roc)\n",
    "post `memhold' (\"EMIS\") (`prev') (`sens') (`spec') (`ppv') (`npv') (`roc') \n",
    "\n",
    "quietly diagt diag test if RA_index==1\n",
    "local prev=r(prev)\n",
    "local sens=r(sens)\n",
    "local spec=r(spec)\n",
    "local ppv=r(ppv)\n",
    "local npv=r(npv)\n",
    "local roc=r(roc)\n",
    "post `memhold' (\"RAIndex1\") (`prev') (`sens') (`spec') (`ppv') (`npv') (`roc') \n",
    "\n",
    "quietly diagt diag test if RA_index==0\n",
    "local prev=r(prev)\n",
    "local sens=r(sens)\n",
    "local spec=r(spec)\n",
    "local ppv=r(ppv)\n",
    "local npv=r(npv)\n",
    "local roc=r(roc)\n",
    "post `memhold' (\"RAIndex0\") (`prev') (`sens') (`spec') (`ppv') (`npv') (`roc') \n",
    "\n",
    "quietly diagt diag test if ethnicity==\"0white\"\n",
    "local prev=r(prev)\n",
    "local sens=r(sens)\n",
    "local spec=r(spec)\n",
    "local ppv=r(ppv)\n",
    "local npv=r(npv)\n",
    "local roc=r(roc)\n",
    "post `memhold' (\"Ethnicity_0white\") (`prev') (`sens') (`spec') (`ppv') (`npv') (`roc') \n",
    "\n",
    "quietly diagt diag test if ethnicity==\"Other\"\n",
    "local prev=r(prev)\n",
    "local sens=r(sens)\n",
    "local spec=r(spec)\n",
    "local ppv=r(ppv)\n",
    "local npv=r(npv)\n",
    "local roc=r(roc)\n",
    "post `memhold' (\"Ethnicity_Other\") (`prev') (`sens') (`spec') (`ppv') (`npv') (`roc') \n",
    "\n",
    "\n",
    "\n",
    "quietly diagt diag test if ethnicity==\"Missing\"\n",
    "local prev=r(prev)\n",
    "local sens=r(sens)\n",
    "local spec=r(spec)\n",
    "local ppv=r(ppv)\n",
    "local npv=r(npv)\n",
    "local roc=r(roc)\n",
    "post `memhold' (\"Ethnicity_Missing\") (`prev') (`sens') (`spec') (`ppv') (`npv') (`roc') \n",
    "\n",
    "postclose `memhold'"
   ]
  },
  {
   "cell_type": "markdown",
   "id": "b350c4fb-deb8-450a-9750-689dc3a8268e",
   "metadata": {},
   "source": [
    "### Logistic Regression\n",
    "#### PPV"
   ]
  },
  {
   "cell_type": "code",
   "execution_count": 35,
   "id": "a21415d9",
   "metadata": {},
   "outputs": [
    {
     "name": "stdout",
     "output_type": "stream",
     "text": [
      "(2,589 observations deleted)\n",
      "(9 observations deleted)\n"
     ]
    }
   ],
   "source": [
    "drop if missing(imdcat)\n",
    "drop if missing(sex)"
   ]
  },
  {
   "cell_type": "code",
   "execution_count": 36,
   "id": "ad17f02e-1d4b-48ec-8a48-1c137597db1a",
   "metadata": {},
   "outputs": [
    {
     "name": "stdout",
     "output_type": "stream",
     "text": [
      "\n",
      "Logistic regression                                     Number of obs = 10,022\n",
      "                                                        LR chi2(0)    =   0.00\n",
      "                                                        Prob > chi2   =      .\n",
      "Log likelihood = -6810.6066                             Pseudo R2     = 0.0000\n",
      "\n",
      "------------------------------------------------------------------------------\n",
      "    diag_pos |       Odds   Std. err.      z    P>|z|     [95% conf. interval]\n",
      "-------------+----------------------------------------------------------------\n",
      "       _cons |   .7175664   .0145334   -16.39   0.000     .6896394    .7466243\n",
      "------------------------------------------------------------------------------\n"
     ]
    }
   ],
   "source": [
    "logistic diag_pos if test==1"
   ]
  },
  {
   "cell_type": "code",
   "execution_count": 37,
   "id": "49e40858",
   "metadata": {},
   "outputs": [
    {
     "name": "stdout",
     "output_type": "stream",
     "text": [
      "\n",
      "Fitting fixed-effects model:\n",
      "\n",
      "Iteration 0:  Log likelihood = -6570.6904  \n",
      "Iteration 1:  Log likelihood = -6563.5954  \n",
      "Iteration 2:  Log likelihood = -6563.5935  \n",
      "Iteration 3:  Log likelihood = -6563.5935  \n",
      "\n",
      "Refining starting values:\n",
      "\n",
      "Grid node 0:  Log likelihood = -6533.4837\n",
      "\n",
      "Fitting full model:\n",
      "\n",
      "Iteration 0:  Log likelihood = -6533.4837  (not concave)\n",
      "Iteration 1:  Log likelihood = -6483.5565  \n",
      "Iteration 2:  Log likelihood = -6472.9275  \n",
      "Iteration 3:  Log likelihood = -6472.5696  \n",
      "Iteration 4:  Log likelihood = -6472.5675  \n",
      "Iteration 5:  Log likelihood = -6472.5675  \n",
      "\n",
      "Mixed-effects logistic regression               Number of obs     =      9,996\n",
      "Group variable: practice_id                     Number of groups  =        313\n",
      "\n",
      "                                                Obs per group:\n",
      "                                                              min =          1\n",
      "                                                              avg =       31.9\n",
      "                                                              max =        245\n",
      "\n",
      "Integration method: mvaghermite                 Integration pts.  =          7\n",
      "\n",
      "                                                Wald chi2(18)     =     376.35\n",
      "Log likelihood = -6472.5675                     Prob > chi2       =     0.0000\n",
      "----------------------------------------------------------------------------------------------------------------\n",
      "                                       newdiag | Odds ratio   Std. err.      z    P>|z|     [95% conf. interval]\n",
      "-----------------------------------------------+----------------------------------------------------------------\n",
      "                                   1.sex_coded |   1.023579   .0538235     0.44   0.658     .9233411    1.134699\n",
      "                                               |\n",
      "                                       yearcat |\n",
      "                                    2010-2015  |   1.002422   .0536682     0.05   0.964     .9025653    1.113327\n",
      "                                    2016-2020  |   .8654954   .0505909    -2.47   0.013     .7718082    .9705549\n",
      "                                               |\n",
      "                                        agecat |\n",
      "                                      0Middle  |   .5036991   .0239065   -14.45   0.000     .4589565    .5528036\n",
      "                                      Elderly  |   .1976453    .020716   -15.47   0.000     .1609417    .2427194\n",
      "                                               |\n",
      "                                        region |\n",
      "                  LONDON COMMISSIONING REGION  |   1.277939   .2867747     1.09   0.274     .8231847    1.983916\n",
      "                MIDLANDS COMMISSIONING REGION  |   1.303352   .1558165     2.22   0.027     1.031098    1.647492\n",
      "NORTH EAST AND YORKSHIRE COMMISSIONING REGION  |   1.038269   .1289744     0.30   0.762     .8139038    1.324484\n",
      "              NORTH WEST COMMISSIONING REGION  |   1.407326   .2087817     2.30   0.021     1.052243    1.882234\n",
      "              SOUTH EAST COMMISSIONING REGION  |   1.033486   .1264149     0.27   0.788     .8131795    1.313477\n",
      "              SOUTH WEST COMMISSIONING REGION  |   .8684096   .1315301    -0.93   0.352     .6453583    1.168553\n",
      "                                     Scotland  |    .843569   .2030331    -0.71   0.480     .5263207    1.352044\n",
      "                                        Wales  |   1.115412   .5073685     0.24   0.810     .4573496    2.720333\n",
      "                                               |\n",
      "                                      RA_index |   1.191259   .1086223     1.92   0.055     .9963031    1.424365\n",
      "                                               |\n",
      "                                        ethnic |\n",
      "                                      Missing  |   .9349877   .0571932    -1.10   0.272       .82935    1.054081\n",
      "                                        Other  |   1.207384     .09177     2.48   0.013     1.040274    1.401338\n",
      "                                               |\n",
      "                                        imdcat |\n",
      "                                          4-7  |   .9997497   .0940524    -0.00   0.998      .831407    1.202178\n",
      "                                         8-10  |   1.274684   .1299959     2.38   0.017     1.043746     1.55672\n",
      "                                               |\n",
      "                                         _cons |   .9507208   .1046378    -0.46   0.646     .7662463    1.179608\n",
      "-----------------------------------------------+----------------------------------------------------------------\n",
      "practice_id                                    |\n",
      "                                     var(_cons)|   .1878266   .0304353                      .1367191    .2580388\n",
      "----------------------------------------------------------------------------------------------------------------\n",
      "Note: Estimates are transformed only in the first equation to odds ratios.\n",
      "Note: _cons estimates baseline odds (conditional on zero random effects).\n",
      "LR test vs. logistic model: chibar2(01) = 182.05      Prob >= chibar2 = 0.0000\n"
     ]
    }
   ],
   "source": [
    "gen newdiag=diag_pos\n",
    "\n",
    "melogit newdiag i.sex i.yearcat i.agecat  i.region RA_index i.ethnic i.imdcat if test==1 || practice_id:,or\n",
    "estimates store model1"
   ]
  },
  {
   "cell_type": "markdown",
   "id": "1fb85b5e",
   "metadata": {},
   "source": [
    "##### Likelihood ratio tests"
   ]
  },
  {
   "cell_type": "code",
   "execution_count": 38,
   "id": "718b2ba3-f1ac-41c9-af92-e0cb45d55985",
   "metadata": {},
   "outputs": [],
   "source": [
    "\n",
    "\n",
    "quietly: melogit newdiag i.sex i.yearcat i.agecat  i.region RA_index i.ethnic if test==1 || practice_id:,or\n",
    "estimates store model_imd\n",
    "\n",
    "quietly:melogit newdiag i.sex i.yearcat i.agecat  i.region RA_index i.imdcat if test==1 || practice_id:,or\n",
    "estimates store model_ethnicity\n",
    "\n",
    "quietly:melogit newdiag i.yearcat i.agecat  i.region RA_index i.ethnic i.imdcat if test==1 || practice_id:,or\n",
    "estimates store model_sex\n",
    "\n",
    "quietly:melogit newdiag i.sex i.agecat  i.region RA_index i.ethnic i.imdcat if test==1 || practice_id:,or\n",
    "estimates store model_year\n",
    "\n",
    "quietly: melogit newdiag i.sex i.yearcat  i.region RA_index i.ethnic i.imdcat if test==1 || practice_id:,or\n",
    "estimates store model_age\n",
    "\n"
   ]
  },
  {
   "cell_type": "code",
   "execution_count": 39,
   "id": "31887f9d",
   "metadata": {},
   "outputs": [
    {
     "name": "stdout",
     "output_type": "stream",
     "text": [
      "\n",
      "Likelihood-ratio test\n",
      "Assumption: model_sex nested within model1\n",
      "\n",
      " LR chi2(1) =   0.20\n",
      "Prob > chi2 = 0.6577\n",
      "\n",
      "Likelihood-ratio test\n",
      "Assumption: model_year nested within model1\n",
      "\n",
      " LR chi2(2) =   8.90\n",
      "Prob > chi2 = 0.0117\n",
      "\n",
      "Likelihood-ratio test\n",
      "Assumption: model_age nested within model1\n",
      "\n",
      " LR chi2(2) = 364.79\n",
      "Prob > chi2 = 0.0000\n",
      "\n",
      "Likelihood-ratio test\n",
      "Assumption: model_ethnic~y nested within model1\n",
      "\n",
      " LR chi2(2) =   8.23\n",
      "Prob > chi2 = 0.0163\n",
      "\n",
      "Likelihood-ratio test\n",
      "Assumption: model_imd nested within model1\n",
      "\n",
      " LR chi2(2) =   8.00\n",
      "Prob > chi2 = 0.0183\n"
     ]
    }
   ],
   "source": [
    "lrtest model1 model_sex\n",
    "lrtest model1 model_year\n",
    "lrtest model1 model_age\n",
    "lrtest model1 model_ethnicity\n",
    "lrtest model1 model_imd\n"
   ]
  },
  {
   "cell_type": "markdown",
   "id": "99227c99-0304-407b-a990-a06fe4bd4560",
   "metadata": {},
   "source": [
    "#### NPV"
   ]
  },
  {
   "cell_type": "code",
   "execution_count": 40,
   "id": "04c0103e-c424-49af-8973-09a13878ea3f",
   "metadata": {},
   "outputs": [
    {
     "name": "stdout",
     "output_type": "stream",
     "text": [
      "\n",
      "Logistic regression                                    Number of obs = 412,380\n",
      "                                                       LR chi2(0)    =    0.00\n",
      "                                                       Prob > chi2   =       .\n",
      "Log likelihood = -20315.181                            Pseudo R2     =  0.0000\n",
      "\n",
      "------------------------------------------------------------------------------\n",
      "    diag_neg |       Odds   Std. err.      z    P>|z|     [95% conf. interval]\n",
      "-------------+----------------------------------------------------------------\n",
      "       _cons |   115.8546   1.958636   281.10   0.000     112.0787    119.7578\n",
      "------------------------------------------------------------------------------\n"
     ]
    }
   ],
   "source": [
    "logistic diag_neg if test==0"
   ]
  },
  {
   "cell_type": "code",
   "execution_count": 41,
   "id": "93a5b760",
   "metadata": {},
   "outputs": [
    {
     "name": "stdout",
     "output_type": "stream",
     "text": [
      "(422,402 real changes made)\n",
      "\n",
      "Fitting fixed-effects model:\n",
      "\n",
      "Iteration 0:  Log likelihood = -44399.217  \n",
      "Iteration 1:  Log likelihood = -19881.128  \n",
      "Iteration 2:  Log likelihood = -19410.172  \n",
      "Iteration 3:  Log likelihood = -19004.593  \n",
      "Iteration 4:  Log likelihood = -19001.368  \n",
      "Iteration 5:  Log likelihood = -19001.366  \n",
      "\n",
      "Refining starting values:\n",
      "\n",
      "Grid node 0:  Log likelihood = -18881.667\n",
      "\n",
      "Fitting full model:\n",
      "\n",
      "Iteration 0:  Log likelihood = -18881.667  (not concave)\n",
      "Iteration 1:  Log likelihood =  -18829.03  \n",
      "Iteration 2:  Log likelihood = -18820.129  \n",
      "Iteration 3:  Log likelihood = -18818.619  \n",
      "Iteration 4:  Log likelihood = -18818.561  \n",
      "Iteration 5:  Log likelihood =  -18818.56  \n",
      "\n",
      "Mixed-effects logistic regression               Number of obs     =    411,437\n",
      "Group variable: practice_id                     Number of groups  =        337\n",
      "\n",
      "                                                Obs per group:\n",
      "                                                              min =          1\n",
      "                                                              avg =    1,220.9\n",
      "                                                              max =     10,246\n",
      "\n",
      "Integration method: mvaghermite                 Integration pts.  =          7\n",
      "\n",
      "                                                Wald chi2(18)     =    1993.01\n",
      "Log likelihood = -18818.56                      Prob > chi2       =     0.0000\n",
      "----------------------------------------------------------------------------------------------------------------\n",
      "                                       newdiag | Odds ratio   Std. err.      z    P>|z|     [95% conf. interval]\n",
      "-----------------------------------------------+----------------------------------------------------------------\n",
      "                                   1.sex_coded |    4.01883   .1707979    32.73   0.000     3.697635    4.367925\n",
      "                                               |\n",
      "                                       yearcat |\n",
      "                                    2010-2015  |   .9109955   .0409953    -2.07   0.038     .8340876    .9949948\n",
      "                                    2016-2020  |   .8565877   .0402166    -3.30   0.001     .7812826    .9391512\n",
      "                                               |\n",
      "                                        agecat |\n",
      "                                      0Middle  |   1.656049   .0598002    13.97   0.000     1.542894    1.777503\n",
      "                                      Elderly  |   5.559758   .3990386    23.90   0.000     4.830176    6.399542\n",
      "                                               |\n",
      "                                        region |\n",
      "                  LONDON COMMISSIONING REGION  |   1.110801    .235191     0.50   0.620     .7335172    1.682139\n",
      "                MIDLANDS COMMISSIONING REGION  |   .7752043   .0897514    -2.20   0.028     .6178258    .9726718\n",
      "NORTH EAST AND YORKSHIRE COMMISSIONING REGION  |   1.132862   .1428361     0.99   0.322     .8848174    1.450441\n",
      "              NORTH WEST COMMISSIONING REGION  |   .7997175   .1157697    -1.54   0.123     .6021628    1.062085\n",
      "              SOUTH EAST COMMISSIONING REGION  |   1.041037   .1261283     0.33   0.740     .8209898    1.320063\n",
      "              SOUTH WEST COMMISSIONING REGION  |   1.080802   .1614634     0.52   0.603     .8064613    1.448469\n",
      "                                     Scotland  |   1.150243   .2693196     0.60   0.550     .7269225    1.820083\n",
      "                                        Wales  |   1.033966   .4258796     0.08   0.935     .4612171    2.317966\n",
      "                                               |\n",
      "                                      RA_index |   1.023384   .0910457     0.26   0.795      .859629    1.218333\n",
      "                                               |\n",
      "                                        ethnic |\n",
      "                                      Missing  |   1.846519   .0918661    12.33   0.000     1.674965    2.035644\n",
      "                                        Other  |   1.276668    .079276     3.93   0.000     1.130373    1.441897\n",
      "                                               |\n",
      "                                        imdcat |\n",
      "                                          4-7  |   .8134202   .0758467    -2.21   0.027     .6775563    .9765277\n",
      "                                         8-10  |    .823644   .0818934    -1.95   0.051     .6778071    1.000859\n",
      "                                               |\n",
      "                                         _cons |   50.83057   5.378834    37.12   0.000     41.30968     62.5458\n",
      "-----------------------------------------------+----------------------------------------------------------------\n",
      "practice_id                                    |\n",
      "                                     var(_cons)|   .2205407   .0307267                        .16784    .2897891\n",
      "----------------------------------------------------------------------------------------------------------------\n",
      "Note: Estimates are transformed only in the first equation to odds ratios.\n",
      "Note: _cons estimates baseline odds (conditional on zero random effects).\n",
      "LR test vs. logistic model: chibar2(01) = 365.61      Prob >= chibar2 = 0.0000\n"
     ]
    }
   ],
   "source": [
    "/* need to use the same response variable (newdiag) to line up the two model results */\n",
    "replace newdiag=diag_neg \n",
    "\n",
    "melogit newdiag i.sex i.yearcat i.agecat i.region RA_index i.ethnic i.imdcat if test==0 || practice_id:,or\n",
    "estimates store model2"
   ]
  },
  {
   "cell_type": "markdown",
   "id": "60c60b7a",
   "metadata": {},
   "source": [
    "##### Likelihood ratio tests"
   ]
  },
  {
   "cell_type": "code",
   "execution_count": 42,
   "id": "c31bd1f1-c69b-4600-a1c0-bde311d67651",
   "metadata": {},
   "outputs": [],
   "source": [
    "\n",
    "quietly: melogit newdiag i.yearcat i.agecat i.region RA_index i.ethnic i.imdcat if test==0 || practice_id:,or\n",
    "estimates store model2_sex\n",
    "quietly: melogit newdiag i.sex i.agecat i.region RA_index i.ethnic i.imdcat if test==0 || practice_id:,or\n",
    "estimates store model2_year\n",
    "quietly: melogit newdiag i.sex i.yearcat i.region RA_index i.ethnic i.imdcat if test==0 || practice_id:,or\n",
    "estimates store model2_age\n",
    "quietly: melogit newdiag i.sex i.yearcat i.agecat i.region RA_index i.imdcat if test==0 || practice_id:,or\n",
    "estimates store model2_ethnicity\n",
    "quietly: melogit newdiag i.sex i.yearcat i.agecat i.region RA_index i.ethnic if test==0 || practice_id:,or\n",
    "estimates store model2_imd\n"
   ]
  },
  {
   "cell_type": "code",
   "execution_count": 43,
   "id": "95d03409",
   "metadata": {},
   "outputs": [
    {
     "name": "stdout",
     "output_type": "stream",
     "text": [
      "\n",
      "Likelihood-ratio test\n",
      "Assumption: model2_sex nested within model2\n",
      "\n",
      " LR chi2(1) = 1334.35\n",
      "Prob > chi2 =  0.0000\n",
      "\n",
      "Likelihood-ratio test\n",
      "Assumption: model2_year nested within model2\n",
      "\n",
      " LR chi2(2) =  10.96\n",
      "Prob > chi2 = 0.0042\n",
      "\n",
      "Likelihood-ratio test\n",
      "Assumption: model2_age nested within model2\n",
      "\n",
      " LR chi2(2) = 804.07\n",
      "Prob > chi2 = 0.0000\n",
      "\n",
      "Likelihood-ratio test\n",
      "Assumption: model2_ethni~y nested within model2\n",
      "\n",
      " LR chi2(2) = 169.53\n",
      "Prob > chi2 = 0.0000\n",
      "\n",
      "Likelihood-ratio test\n",
      "Assumption: model2_imd nested within model2\n",
      "\n",
      " LR chi2(2) =   5.58\n",
      "Prob > chi2 = 0.0615\n"
     ]
    }
   ],
   "source": [
    "lrtest model2 model2_sex\n",
    "lrtest model2 model2_year\n",
    "lrtest model2 model2_age\n",
    "lrtest model2 model2_ethnicity\n",
    "lrtest model2 model2_imd\n"
   ]
  },
  {
   "cell_type": "code",
   "execution_count": 44,
   "id": "017939f5-75b7-4ee0-9f7b-3105e0d2bfe1",
   "metadata": {},
   "outputs": [
    {
     "name": "stdout",
     "output_type": "stream",
     "text": [
      "\n",
      "Table 2. PPV (1) and NPV (2), OR, Random effect\n",
      "-----------------------------------------------------------------\n",
      "                                                   1        2    \n",
      "-----------------------------------------------------------------\n",
      "sex_coded                                                        \n",
      "  1                                             1.02      4.02 **\n",
      "yearcat                                                          \n",
      "  2010-2015                                     1.00      0.91 * \n",
      "  2016-2020                                     0.87 *    0.86 **\n",
      "agecat                                                           \n",
      "  0Middle                                       0.50 **   1.66 **\n",
      "  Elderly                                       0.20 **   5.56 **\n",
      "region                                                           \n",
      "  LONDON COMMISSIONING REGION                   1.28      1.11   \n",
      "  MIDLANDS COMMISSIONING REGION                 1.30 *    0.78 * \n",
      "  NORTH EAST AND YORKSHIRE COMMISSIONING REGION 1.04      1.13   \n",
      "  NORTH WEST COMMISSIONING REGION               1.41 *    0.80   \n",
      "  SOUTH EAST COMMISSIONING REGION               1.03      1.04   \n",
      "  SOUTH WEST COMMISSIONING REGION               0.87      1.08   \n",
      "  Scotland                                      0.84      1.15   \n",
      "  Wales                                         1.12      1.03   \n",
      "RA_index                                        1.19      1.02   \n",
      "ethnic                                                           \n",
      "  Missing                                       0.93      1.85 **\n",
      "  Other                                         1.21 *    1.28 **\n",
      "imdcat                                                           \n",
      "  4-7                                           1.00      0.81 * \n",
      "  8-10                                          1.27 *    0.82   \n",
      "Intercept                                       0.95     50.83 **\n",
      "var(_cons[practice_id])                         0.19      0.22   \n",
      "Number of observations                          9996    411437   \n",
      "-----------------------------------------------------------------\n",
      "** p<.01, * p<.05\n",
      "(collection ETable exported to file validity2.xlsx)\n"
     ]
    }
   ],
   "source": [
    "etable, estimates(model1 model2) showstars showstarsnote title(\"Table 2. PPV (1) and NPV (2),  OR, Random effect\") cstat(_r_b,nformat(%6.2f)) column(index) export(validity2.xlsx, modify sheet(reg_migraine, replace))"
   ]
  },
  {
   "cell_type": "markdown",
   "id": "e7e9a417",
   "metadata": {},
   "source": [
    "### Summary of validation parameters"
   ]
  },
  {
   "cell_type": "code",
   "execution_count": 45,
   "id": "e27d82a4-8d2d-4529-8a15-ae4baabfa28c",
   "metadata": {},
   "outputs": [
    {
     "name": "stdout",
     "output_type": "stream",
     "text": [
      "(26 real changes made)\n",
      "(26 real changes made)\n",
      "(26 real changes made)\n",
      "(25 real changes made)\n",
      "(26 real changes made)\n",
      "(26 real changes made)\n"
     ]
    }
   ],
   "source": [
    "use validity.dta, clear\n",
    "replace prev=round(prev, 0.1)\n",
    "gen prev_a=round(((prev/100)*((sens/100)+(spec/100)-1)+1-(spec/100))*100,0.1)/*apparent prevalence*/\n",
    "replace sens=round(sens, 0.1)\n",
    "replace spec=round(spec,0.1)\n",
    "replace ppv=round(ppv, 0.1)\n",
    "replace npv=round(npv, 0.1)\n",
    "replace roc=round(roc, 0.01)\n"
   ]
  },
  {
   "cell_type": "code",
   "execution_count": 46,
   "id": "8129bfb3-cd21-4077-a785-9a74a846c65b",
   "metadata": {},
   "outputs": [
    {
     "data": {
      "text/html": [
       "<div>\n",
       "<style scoped>\n",
       "    .dataframe tbody tr th:only-of-type {\n",
       "        vertical-align: middle;\n",
       "    }\n",
       "\n",
       "    .dataframe tbody tr th {\n",
       "        vertical-align: top;\n",
       "    }\n",
       "\n",
       "    .dataframe thead th {\n",
       "        text-align: right;\n",
       "    }\n",
       "</style>\n",
       "<table border=\"1\" class=\"dataframe\">\n",
       "  <thead>\n",
       "    <tr style=\"text-align: right;\">\n",
       "      <th></th>\n",
       "      <th>var</th>\n",
       "      <th>prev</th>\n",
       "      <th>sens</th>\n",
       "      <th>spec</th>\n",
       "      <th>ppv</th>\n",
       "      <th>npv</th>\n",
       "      <th>roc</th>\n",
       "      <th>prev_a</th>\n",
       "    </tr>\n",
       "  </thead>\n",
       "  <tbody>\n",
       "    <tr>\n",
       "      <th>1</th>\n",
       "      <td>all</td>\n",
       "      <td>1.8</td>\n",
       "      <td>54.3</td>\n",
       "      <td>98.6</td>\n",
       "      <td>41.9</td>\n",
       "      <td>99.1</td>\n",
       "      <td>.76</td>\n",
       "      <td>2.4</td>\n",
       "    </tr>\n",
       "    <tr>\n",
       "      <th>2</th>\n",
       "      <td>Male</td>\n",
       "      <td>.8</td>\n",
       "      <td>55.5</td>\n",
       "      <td>99.4</td>\n",
       "      <td>42.1</td>\n",
       "      <td>99.7</td>\n",
       "      <td>.77</td>\n",
       "      <td>1</td>\n",
       "    </tr>\n",
       "    <tr>\n",
       "      <th>3</th>\n",
       "      <td>Female</td>\n",
       "      <td>2.9</td>\n",
       "      <td>54</td>\n",
       "      <td>97.8</td>\n",
       "      <td>41.9</td>\n",
       "      <td>98.6</td>\n",
       "      <td>.76</td>\n",
       "      <td>3.7</td>\n",
       "    </tr>\n",
       "    <tr>\n",
       "      <th>4</th>\n",
       "      <td>Age young</td>\n",
       "      <td>2.7</td>\n",
       "      <td>50.9</td>\n",
       "      <td>98.8</td>\n",
       "      <td>54.9</td>\n",
       "      <td>98.6</td>\n",
       "      <td>.75</td>\n",
       "      <td>2.5</td>\n",
       "    </tr>\n",
       "    <tr>\n",
       "      <th>5</th>\n",
       "      <td>Age middle</td>\n",
       "      <td>1.9</td>\n",
       "      <td>58.4</td>\n",
       "      <td>98.2</td>\n",
       "      <td>38.3</td>\n",
       "      <td>99.2</td>\n",
       "      <td>.78</td>\n",
       "      <td>2.9</td>\n",
       "    </tr>\n",
       "    <tr>\n",
       "      <th>6</th>\n",
       "      <td>Age elderly</td>\n",
       "      <td>.4</td>\n",
       "      <td>38</td>\n",
       "      <td>99.3</td>\n",
       "      <td>19.8</td>\n",
       "      <td>99.7</td>\n",
       "      <td>.69</td>\n",
       "      <td>.8</td>\n",
       "    </tr>\n",
       "    <tr>\n",
       "      <th>7</th>\n",
       "      <td>Year 2004-2009</td>\n",
       "      <td>1.6</td>\n",
       "      <td>59</td>\n",
       "      <td>98.6</td>\n",
       "      <td>41.2</td>\n",
       "      <td>99.3</td>\n",
       "      <td>.79</td>\n",
       "      <td>2.3</td>\n",
       "    </tr>\n",
       "    <tr>\n",
       "      <th>8</th>\n",
       "      <td>Year 2010-2015</td>\n",
       "      <td>1.9</td>\n",
       "      <td>54.4</td>\n",
       "      <td>98.6</td>\n",
       "      <td>42.8</td>\n",
       "      <td>99.1</td>\n",
       "      <td>.76</td>\n",
       "      <td>2.4</td>\n",
       "    </tr>\n",
       "    <tr>\n",
       "      <th>9</th>\n",
       "      <td>Year 2016-2020</td>\n",
       "      <td>2</td>\n",
       "      <td>49.9</td>\n",
       "      <td>98.6</td>\n",
       "      <td>41.6</td>\n",
       "      <td>99</td>\n",
       "      <td>.74</td>\n",
       "      <td>2.4</td>\n",
       "    </tr>\n",
       "    <tr>\n",
       "      <th>10</th>\n",
       "      <td>IMD 1,3</td>\n",
       "      <td>1.8</td>\n",
       "      <td>57.3</td>\n",
       "      <td>98.5</td>\n",
       "      <td>41.4</td>\n",
       "      <td>99.2</td>\n",
       "      <td>.78</td>\n",
       "      <td>2.5</td>\n",
       "    </tr>\n",
       "    <tr>\n",
       "      <th>11</th>\n",
       "      <td>IMD 4,7</td>\n",
       "      <td>1.9</td>\n",
       "      <td>51.3</td>\n",
       "      <td>98.5</td>\n",
       "      <td>40.2</td>\n",
       "      <td>99.1</td>\n",
       "      <td>.75</td>\n",
       "      <td>2.4</td>\n",
       "    </tr>\n",
       "    <tr>\n",
       "      <th>12</th>\n",
       "      <td>IMD 8,10</td>\n",
       "      <td>1.8</td>\n",
       "      <td>54</td>\n",
       "      <td>98.8</td>\n",
       "      <td>44.2</td>\n",
       "      <td>99.2</td>\n",
       "      <td>.76</td>\n",
       "      <td>2.2</td>\n",
       "    </tr>\n",
       "    <tr>\n",
       "      <th>13</th>\n",
       "      <td>London</td>\n",
       "      <td>1.8</td>\n",
       "      <td>51.2</td>\n",
       "      <td>99.1</td>\n",
       "      <td>50</td>\n",
       "      <td>99.1</td>\n",
       "      <td>.75</td>\n",
       "      <td>1.8</td>\n",
       "    </tr>\n",
       "    <tr>\n",
       "      <th>14</th>\n",
       "      <td>Midlands</td>\n",
       "      <td>2.2</td>\n",
       "      <td>52.4</td>\n",
       "      <td>98.5</td>\n",
       "      <td>44.9</td>\n",
       "      <td>98.9</td>\n",
       "      <td>.75</td>\n",
       "      <td>2.6</td>\n",
       "    </tr>\n",
       "    <tr>\n",
       "      <th>15</th>\n",
       "      <td>Yorkshire</td>\n",
       "      <td>1.7</td>\n",
       "      <td>58.9</td>\n",
       "      <td>98.5</td>\n",
       "      <td>40.7</td>\n",
       "      <td>99.3</td>\n",
       "      <td>.79</td>\n",
       "      <td>2.4</td>\n",
       "    </tr>\n",
       "    <tr>\n",
       "      <th>16</th>\n",
       "      <td>North West</td>\n",
       "      <td>2</td>\n",
       "      <td>53.1</td>\n",
       "      <td>98.8</td>\n",
       "      <td>47</td>\n",
       "      <td>99</td>\n",
       "      <td>.76</td>\n",
       "      <td>2.3</td>\n",
       "    </tr>\n",
       "    <tr>\n",
       "      <th>17</th>\n",
       "      <td>South East</td>\n",
       "      <td>1.7</td>\n",
       "      <td>53.2</td>\n",
       "      <td>98.8</td>\n",
       "      <td>42.7</td>\n",
       "      <td>99.2</td>\n",
       "      <td>.76</td>\n",
       "      <td>2.1</td>\n",
       "    </tr>\n",
       "    <tr>\n",
       "      <th>18</th>\n",
       "      <td>South West</td>\n",
       "      <td>1.5</td>\n",
       "      <td>51.3</td>\n",
       "      <td>98.6</td>\n",
       "      <td>36.1</td>\n",
       "      <td>99.3</td>\n",
       "      <td>.75</td>\n",
       "      <td>2.1</td>\n",
       "    </tr>\n",
       "    <tr>\n",
       "      <th>19</th>\n",
       "      <td>SystemOne</td>\n",
       "      <td>1.7</td>\n",
       "      <td>56</td>\n",
       "      <td>98.4</td>\n",
       "      <td>38.4</td>\n",
       "      <td>99.2</td>\n",
       "      <td>.77</td>\n",
       "      <td>2.5</td>\n",
       "    </tr>\n",
       "    <tr>\n",
       "      <th>20</th>\n",
       "      <td>Vision</td>\n",
       "      <td>1.6</td>\n",
       "      <td>52.9</td>\n",
       "      <td>98.7</td>\n",
       "      <td>39.7</td>\n",
       "      <td>99.2</td>\n",
       "      <td>.76</td>\n",
       "      <td>2.1</td>\n",
       "    </tr>\n",
       "    <tr>\n",
       "      <th>21</th>\n",
       "      <td>EMIS</td>\n",
       "      <td>2</td>\n",
       "      <td>52.6</td>\n",
       "      <td>98.8</td>\n",
       "      <td>47.1</td>\n",
       "      <td>99</td>\n",
       "      <td>.76</td>\n",
       "      <td>2.2</td>\n",
       "    </tr>\n",
       "    <tr>\n",
       "      <th>22</th>\n",
       "      <td>RAIndex1</td>\n",
       "      <td>1.8</td>\n",
       "      <td>54.6</td>\n",
       "      <td>98.6</td>\n",
       "      <td>42.7</td>\n",
       "      <td>99.2</td>\n",
       "      <td>.77</td>\n",
       "      <td>2.3</td>\n",
       "    </tr>\n",
       "    <tr>\n",
       "      <th>23</th>\n",
       "      <td>RAIndex0</td>\n",
       "      <td>1.9</td>\n",
       "      <td>53.4</td>\n",
       "      <td>98.5</td>\n",
       "      <td>39.6</td>\n",
       "      <td>99.1</td>\n",
       "      <td>.76</td>\n",
       "      <td>2.5</td>\n",
       "    </tr>\n",
       "    <tr>\n",
       "      <th>24</th>\n",
       "      <td>Ethnicity_0white</td>\n",
       "      <td>2.1</td>\n",
       "      <td>52.8</td>\n",
       "      <td>98.4</td>\n",
       "      <td>41.3</td>\n",
       "      <td>99</td>\n",
       "      <td>.76</td>\n",
       "      <td>2.7</td>\n",
       "    </tr>\n",
       "    <tr>\n",
       "      <th>25</th>\n",
       "      <td>Ethnicity_Other</td>\n",
       "      <td>2.1</td>\n",
       "      <td>60.9</td>\n",
       "      <td>98.5</td>\n",
       "      <td>47.2</td>\n",
       "      <td>99.2</td>\n",
       "      <td>.8</td>\n",
       "      <td>2.7</td>\n",
       "    </tr>\n",
       "    <tr>\n",
       "      <th>26</th>\n",
       "      <td>Ethnicity_Missing</td>\n",
       "      <td>1.1</td>\n",
       "      <td>55.9</td>\n",
       "      <td>99.1</td>\n",
       "      <td>40.8</td>\n",
       "      <td>99.5</td>\n",
       "      <td>.77</td>\n",
       "      <td>1.5</td>\n",
       "    </tr>\n",
       "  </tbody>\n",
       "</table>\n",
       "</div>"
      ]
     },
     "metadata": {},
     "output_type": "display_data"
    }
   ],
   "source": [
    "%head 50"
   ]
  },
  {
   "cell_type": "code",
   "execution_count": 47,
   "id": "47dc850c-f3c8-4b9c-8ba9-3620f31b4fa9",
   "metadata": {},
   "outputs": [
    {
     "name": "stdout",
     "output_type": "stream",
     "text": [
      "file validity2.xlsx saved\n"
     ]
    }
   ],
   "source": [
    "/*texsave * using test3.tex, varlabels*/\n",
    "export excel using  validity2.xlsx, sheet(val_migraine, replace)"
   ]
  }
 ],
 "metadata": {
  "kernelspec": {
   "display_name": "Stata (nbstata)",
   "language": "stata",
   "name": "nbstata"
  },
  "language_info": {
   "file_extension": ".do",
   "mimetype": "text/x-stata",
   "name": "stata",
   "version": "17"
  }
 },
 "nbformat": 4,
 "nbformat_minor": 5
}
