{
 "cells": [
  {
   "cell_type": "markdown",
   "id": "13e469d7",
   "metadata": {},
   "source": [
    "# Validity of using prescription records to identify patient comorbidities\n",
    "## COPD in 1 year follow-up"
   ]
  },
  {
   "cell_type": "markdown",
   "id": "a3d5caf8",
   "metadata": {},
   "source": [
    "**ReadMe:**\n",
    "- This is a script used in the analysis for Schnier et al., 2025: Validity of using prescription records to classify disease – a record linkage study using routinely collected electronic health records from the UK.\n",
    "- The underlying data set has been created using the Optimum Patient Care Research Database (https://opcrd.optimumpatientcare.org/). The authors do not have permission to give the public access to the study dataset; researchers may request access to OPCRD for their own purposes. \n",
    " - All code is run in StataSE 18. \n"
   ]
  },
  {
   "cell_type": "markdown",
   "id": "1cf02e3e-e834-469d-abf1-21c9ce29f756",
   "metadata": {},
   "source": [
    "**Set up:**\n",
    "|Var|Input|\n",
    "| --- | --- | \n",
    "|population|425,000|\n",
    "|diagnostic codes|Jenni Quint|\n",
    "|drug codes|Jenni Quint (excluding antibiotics)|\n",
    "|sql date|23.06.2025|\n",
    "|sql code|copdselection_20250623.sql| "
   ]
  },
  {
   "cell_type": "code",
   "execution_count": 1,
   "id": "2a759161-052f-4433-ab6c-0ad7ab9120e9",
   "metadata": {},
   "outputs": [
    {
     "data": {
      "text/html": [
       "<style>div.jp-Notebook .datagrid-container {min-height: 448px; }</style>"
      ],
      "text/plain": [
       "<IPython.core.display.HTML object>"
      ]
     },
     "metadata": {},
     "output_type": "display_data"
    }
   ],
   "source": [
    "    clear all"
   ]
  },
  {
   "cell_type": "markdown",
   "id": "5e9a592b-20c3-4eb6-b947-22979a02dcf0",
   "metadata": {},
   "source": [
    "### Import from SQL server and data wrangling"
   ]
  },
  {
   "cell_type": "code",
   "execution_count": 2,
   "id": "b5b5eb32-1b5c-44c2-901c-0e9d1a4e36d2",
   "metadata": {},
   "outputs": [],
   "source": [
    "odbc load, exec(\"select * from [copd_425000_1yFU_20250619]\") dsn(\"sqlserverconnect\")"
   ]
  },
  {
   "cell_type": "code",
   "execution_count": null,
   "id": "0835f95f-a07b-4d29-b825-b3823bfad60e",
   "metadata": {
    "scrolled": true
   },
   "outputs": [
    {
     "name": "stdout",
     "output_type": "stream",
     "text": [
      "(51,821 missing values generated)\n",
      "(51,821 real changes made)\n",
      "(11,053 missing values generated)\n",
      "(11,053 real changes made)\n",
      "(2,589 missing values generated)\n",
      "variable bnf_code was str6 now str22\n",
      "(24,685 real changes made)\n",
      "variable bnf_code was str22 now str29\n",
      "(2,890 real changes made)\n",
      "(203 real changes made)\n",
      "(739 real changes made)\n",
      "(0 real changes made)\n",
      "(15,004 real changes made)\n",
      "(0 real changes made)\n",
      "(356 real changes made)\n",
      "variable ethnicity was str2 now str6\n",
      "(257,981 real changes made)\n",
      "(3,762 real changes made)\n",
      "(23,912 real changes made)\n",
      "(7,430 real changes made)\n",
      "(8,764 real changes made)\n",
      "variable ethnicity was str6 now str7\n",
      "(123,151 real changes made)\n"
     ]
    }
   ],
   "source": [
    "generate test=0 if missing(drug_dt)\n",
    "replace test=1 if ! missing(drug_dt)  \n",
    "\n",
    "generate diag=0 if missing(diag_dt)\n",
    "replace diag=1 if ! missing(diag_dt)  \n",
    "\n",
    "gen start_year=year(fu_start_dt)\n",
    "\n",
    "\n",
    "egen agecat = cut(age), at(16,30,70,120)\n",
    "label def agecat_lab 16 \"Young\" 30 \"0Middle\" 70 \"Elderly\" 120 \"weird\"\n",
    "label values agecat agecat_lab\n",
    "\n",
    "egen yearcat = cut(start_year), at(2004,2010,2016,2025)\n",
    "label def yearcat_lab 2004 \"2004-2009\" 2010 \"2010-2015\" 2016 \"2016-2020\" \n",
    "label values yearcat yearcat_lab\n",
    "\n",
    "egen imdcat = cut(imd_decile), at(0,4,8,11)\n",
    "label def imdcat_lab 0 \"1-3\" 4 \"4-7\" 8 \"8-10\" \n",
    "label values imdcat imdcat_lab\n",
    "\n",
    "\n",
    "replace bnf_code = \"Adrenoreceptor agonist\" if bnf_code== \"030101\"\n",
    "replace bnf_code = \"Antimuscarinic Bronchodilator\" if bnf_code== \"030102\"\n",
    "replace bnf_code = \"Theophylline\" if bnf_code== \"030103\"\n",
    "replace bnf_code = \"Compound bronchodilator\" if bnf_code== \"030104\"\n",
    "replace bnf_code = \"Devices\" if bnf_code== \"030105\" | bnf_code==\"210102\" | bnf_code==\"211200\"\n",
    "replace bnf_code = \"Corticosteroids\" if bnf_code== \"030200\"\n",
    "replace bnf_code = \"OCT\" if bnf_code== \"060302\"\n",
    "replace bnf_code = \"Topical nasal decongestance\" if bnf_code== \"120202\"\n",
    "replace bnf_code = \"Other/unknown\" if missing(bnf_code) & ! missing(drug_dt)\n",
    "\n",
    "\n",
    "\n",
    "\n",
    "replace ethnicity=\"0white\" if ethnicity==\"1\"\n",
    "replace ethnicity=\"Other\" if ethnicity==\"2\"\n",
    "replace ethnicity=\"Other\" if ethnicity==\"3\"\n",
    "replace ethnicity=\"Other\" if ethnicity==\"4\"\n",
    "replace ethnicity=\"Other\" if ethnicity==\"5\"\n",
    "replace ethnicity=\"Missing\" if ethnicity==\"99\"\n",
    "\n",
    "\n",
    "encode bnf_code, generate(bnf_code_values) \n",
    "encode description, generate(description_values)\n",
    "encode ethnicity, generate(ethnicity_values) \n",
    "\n",
    "gen diag_neg=diag==0\n",
    "gen diag_pos=diag==1\n",
    "encode region_name, generate(region) label(regionlbl)\n",
    "encode ethnicity, generate(ethnic)\n"
   ]
  },
  {
   "cell_type": "code",
   "execution_count": 4,
   "id": "4bb67b58-5460-4077-bd5d-6252a35d7c1e",
   "metadata": {},
   "outputs": [
    {
     "name": "stdout",
     "output_type": "stream",
     "text": [
      "(bin=19, start=16, width=5)\n"
     ]
    },
    {
     "data": {
      "image/png": "[encoded data removed]",
      "text/plain": [
       "<IPython.core.display.Image object>"
      ]
     },
     "metadata": {},
     "output_type": "display_data"
    }
   ],
   "source": [
    "histogram age, width(5)\n"
   ]
  },
  {
   "cell_type": "markdown",
   "id": "cfdd2c1f-86b9-4840-8106-662ce151f20e",
   "metadata": {},
   "source": [
    "This table holds one randomly selected diagnostic code found during the observation period. The table is truncated to only include diagnostic codes with a count of 10 or more."
   ]
  },
  {
   "cell_type": "code",
   "execution_count": 5,
   "id": "6544a018-204b-4fcb-b5ab-d9ec745e764f",
   "metadata": {},
   "outputs": [
    {
     "name": "stdout",
     "output_type": "stream",
     "text": [
      "\n",
      "  +-----------------------------------------------------------------------------------------------------+\n",
      "  |                                                               description   Freq.   Percent     %<= |\n",
      "  |-----------------------------------------------------------------------------------------------------|\n",
      "  |                       chronic obstructive pulmonary disease annual review    1725     15.61   15.61 |\n",
      "  |                       Chronic obstructive pulmonary disease annual review    1638     14.82   30.43 |\n",
      "  |                     other specified chronic obstructive pulmonary disease    1226     11.09   41.52 |\n",
      "  |                                               chr. airway obstruction nos    1053      9.53   51.04 |\n",
      "  |               chronic obstructive pulmonary disease monitoring 1st letter     682      6.17   57.22 |\n",
      "  |-----------------------------------------------------------------------------------------------------|\n",
      "  |               Chronic obstructive pulmonary disease monitoring 1st letter     678      6.13   63.35 |\n",
      "  |                 acute exacerbation of chronic obstructive airways disease     641      5.80   69.15 |\n",
      "  |                          chronic obstructive pulmonary disease monitoring     446      4.04   73.18 |\n",
      "  |                          Chronic obstructive pulmonary disease monitoring     295      2.67   75.85 |\n",
      "  |                                mild chronic obstructive pulmonary disease     252      2.28   78.13 |\n",
      "  |-----------------------------------------------------------------------------------------------------|\n",
      "  |                            moderate chronic obstructive pulmonary disease     222      2.01   80.14 |\n",
      "  |                                Mild chronic obstructive pulmonary disease     195      1.76   81.91 |\n",
      "  |                            Moderate chronic obstructive pulmonary disease     181      1.64   83.54 |\n",
      "  |                                           COPD self-management plan given     156      1.41   84.95 |\n",
      "  |                                            airways obstructn irreversible     118      1.07   86.02 |\n",
      "  |-----------------------------------------------------------------------------------------------------|\n",
      "  |                              severe chronic obstructive pulmonary disease     108      0.98   87.00 |\n",
      "  |                              Severe chronic obstructive pulmonary disease      96      0.87   87.87 |\n",
      "  |                                                           other emphysema      93      0.84   88.71 |\n",
      "  |                                                                 emphysema      83      0.75   89.46 |\n",
      "  |                                                            bronchitis nos      75      0.68   90.14 |\n",
      "  |-----------------------------------------------------------------------------------------------------|\n",
      "  |                           chronic obstructive pulmonary disease follow-up      69      0.62   90.76 |\n",
      "  |                                   chronic obstructive airways disease nos      66      0.60   91.36 |\n",
      "  |                           Chronic obstructive pulmonary disease follow-up      62      0.56   91.92 |\n",
      "  |               Chronic obstructive pulmonary disease monitoring 2nd letter      61      0.55   92.47 |\n",
      "  |                    chronic obstructive pulmonary disease 6 monthly review      61      0.55   93.02 |\n",
      "  |-----------------------------------------------------------------------------------------------------|\n",
      "  |       acute infective exacerbation of chronic obstructive airways disease      58      0.52   93.55 |\n",
      "  |               chronic obstructive pulmonary disease monitoring 2nd letter      57      0.52   94.06 |\n",
      "  |                                                 chronic wheezy bronchitis      56      0.51   94.57 |\n",
      "  |                                                    Bronchitis unspecified      50      0.45   95.02 |\n",
      "  |                    Chronic obstructive pulmonary disease 6 monthly review      46      0.42   95.44 |\n",
      "  |-----------------------------------------------------------------------------------------------------|\n",
      "  |              Acute infective exacerbation chronic obstruct airway disease      39      0.35   95.79 |\n",
      "  |                chronic obstructive pulmonary disease monitor phone invite      35      0.32   96.11 |\n",
      "  |              chronic obstructive pulmonary disease monitoring verb invite      34      0.31   96.42 |\n",
      "  |               Chron obstruct pulmonary dis wth acute exacerbation, unspec      33      0.30   96.72 |\n",
      "  |                Chronic obstructive pulmonary disease monitor phone invite      31      0.28   97.00 |\n",
      "  |-----------------------------------------------------------------------------------------------------|\n",
      "  |               Chronic obstructive pulmonary disease monitoring 3rd letter      26      0.24   97.23 |\n",
      "  |                    Chronic obstructive pulmonary disease monitoring admin      25      0.23   97.46 |\n",
      "  |                    chronic obstructive pulmonary disease monitoring admin      25      0.23   97.68 |\n",
      "  |              Chronic obstructive pulmonary disease monitoring verb invite      23      0.21   97.89 |\n",
      "  |               chronic obstructive pulmonary disease monitoring 3rd letter      21      0.19   98.08 |\n",
      "  |-----------------------------------------------------------------------------------------------------|\n",
      "  |                                                        chronic bronchitis      19      0.17   98.25 |\n",
      "  |                    Chronic obstructive pulmonary disease 3 monthly review      16      0.14   98.40 |\n",
      "  |                    chronic obstructive pulmonary disease 3 monthly review      15      0.14   98.53 |\n",
      "  | acute non-infective exacerbation of chronic obstructive pulmonary disease      14      0.13   98.66 |\n",
      "  |                                                      Admit COPD emergency      13      0.12   98.78 |\n",
      "  |-----------------------------------------------------------------------------------------------------|\n",
      "  |                      chronic obstructive pulmonary disease monitoring due      13      0.12   98.90 |\n",
      "  |                                  Acute non-infective exacerbation of COPD      11      0.10   99.00 |\n",
      "  |                                                      admit copd emergency      11      0.10   99.10 |\n",
      "  +-----------------------------------------------------------------------------------------------------+\n"
     ]
    }
   ],
   "source": [
    "set linesize 132\n",
    "groups description , select(f >= 10) ord(h) table "
   ]
  },
  {
   "cell_type": "markdown",
   "id": "7d01eb90-5ca1-4146-aafb-680a81450cc3",
   "metadata": {},
   "source": [
    "These tables holds one randomly selected prescrption during the observation period. The table is truncated to only include codes with a count of 10 or more.\n"
   ]
  },
  {
   "cell_type": "code",
   "execution_count": 6,
   "id": "a4acd83f-5b6a-49e7-8b49-5dc1f78f2d1a",
   "metadata": {},
   "outputs": [
    {
     "name": "stdout",
     "output_type": "stream",
     "text": [
      "\n",
      "  +----------------------------------------------------------+\n",
      "  |                      bnf_code   Freq.   Percent      %<= |\n",
      "  |----------------------------------------------------------|\n",
      "  |        Adrenoreceptor agonist   24685     47.64    47.64 |\n",
      "  |               Corticosteroids   15004     28.95    76.59 |\n",
      "  |                        060302    7942     15.33    91.91 |\n",
      "  | Antimuscarinic Bronchodilator    2890      5.58    97.49 |\n",
      "  |       Compound bronchodilator     739      1.43    98.92 |\n",
      "  |----------------------------------------------------------|\n",
      "  |                 Other/unknown     356      0.69    99.60 |\n",
      "  |                  Theophylline     203      0.39   100.00 |\n",
      "  +----------------------------------------------------------+\n"
     ]
    }
   ],
   "source": [
    "set linesize 132\n",
    "groups bnf_code , select(f >= 10) ord(h) table "
   ]
  },
  {
   "cell_type": "markdown",
   "id": "67837c2c-bbb5-4681-8000-cd8b3f6cac51",
   "metadata": {},
   "source": [
    "### Results\n",
    "#### Overall"
   ]
  },
  {
   "cell_type": "code",
   "execution_count": 7,
   "id": "733c0f2e-1179-49dc-b95d-48547a864674",
   "metadata": {},
   "outputs": [
    {
     "name": "stdout",
     "output_type": "stream",
     "text": [
      "\n",
      "           |         test\n",
      "      diag |      Pos.       Neg. |     Total\n",
      "-----------+----------------------+----------\n",
      "  Abnormal |    10,195        858 |    11,053 \n",
      "    Normal |    41,626    372,321 |   413,947 \n",
      "-----------+----------------------+----------\n",
      "     Total |    51,821    373,179 |   425,000 \n",
      "True abnormal diagnosis defined as diag = 1\n",
      "\n",
      "\n",
      "                                                  [95% Confidence Interval]\n",
      "---------------------------------------------------------------------------\n",
      "Prevalence                         Pr(A)      2.6%      2.6%       2.6%\n",
      "---------------------------------------------------------------------------\n",
      "Sensitivity                      Pr(+|A)     92.2%     91.7%     92.7%\n",
      "Specificity                      Pr(-|N)     89.9%     89.9%     90.0%\n",
      "ROC area               (Sens. + Spec.)/2      0.91      0.91      0.91 \n",
      "---------------------------------------------------------------------------\n",
      "Likelihood ratio (+)     Pr(+|A)/Pr(+|N)      9.17      9.08      9.27 \n",
      "Likelihood ratio (-)     Pr(-|A)/Pr(-|N)      0.09      0.08      0.09 \n",
      "Odds ratio                   LR(+)/LR(-)    106.28     99.06    114.03 \n",
      "Positive predictive value        Pr(A|+)     19.7%     19.3%     20.0% \n",
      "Negative predictive value        Pr(N|-)     99.8%     99.8%     99.8% \n",
      "---------------------------------------------------------------------------\n"
     ]
    }
   ],
   "source": [
    "diagt diag test"
   ]
  },
  {
   "cell_type": "markdown",
   "id": "b119ffa3-90d8-4e4f-9f8d-30cca2284b37",
   "metadata": {},
   "source": [
    "#### Males"
   ]
  },
  {
   "cell_type": "code",
   "execution_count": 8,
   "id": "81028f5e-4e7a-4bb4-b0f6-71d8d0821075",
   "metadata": {},
   "outputs": [
    {
     "name": "stdout",
     "output_type": "stream",
     "text": [
      "\n",
      "           |         test\n",
      "      diag |      Pos.       Neg. |     Total\n",
      "-----------+----------------------+----------\n",
      "  Abnormal |     5,526        508 |     6,034 \n",
      "    Normal |    17,297    184,954 |   202,251 \n",
      "-----------+----------------------+----------\n",
      "     Total |    22,823    185,462 |   208,285 \n",
      "True abnormal diagnosis defined as diag = 1\n",
      "\n",
      "\n",
      "                                                  [95% Confidence Interval]\n",
      "---------------------------------------------------------------------------\n",
      "Prevalence                         Pr(A)      2.9%      2.8%       3.0%\n",
      "---------------------------------------------------------------------------\n",
      "Sensitivity                      Pr(+|A)     91.6%     90.9%     92.3%\n",
      "Specificity                      Pr(-|N)     91.4%     91.3%     91.6%\n",
      "ROC area               (Sens. + Spec.)/2      0.92      0.91      0.92 \n",
      "---------------------------------------------------------------------------\n",
      "Likelihood ratio (+)     Pr(+|A)/Pr(+|N)     10.71     10.54     10.88 \n",
      "Likelihood ratio (-)     Pr(-|A)/Pr(-|N)      0.09      0.08      0.10 \n",
      "Odds ratio                   LR(+)/LR(-)    116.32    106.08    127.55 \n",
      "Positive predictive value        Pr(A|+)     24.2%     23.7%     24.8% \n",
      "Negative predictive value        Pr(N|-)     99.7%     99.7%     99.7% \n",
      "---------------------------------------------------------------------------\n"
     ]
    }
   ],
   "source": [
    "diagt diag test if sex==1"
   ]
  },
  {
   "cell_type": "markdown",
   "id": "762df1ac-de32-43e9-8cb3-6696c91e2459",
   "metadata": {},
   "source": [
    "#### Females"
   ]
  },
  {
   "cell_type": "code",
   "execution_count": 9,
   "id": "7fc985e3-7757-4908-ae5a-5d346ee7ccb6",
   "metadata": {},
   "outputs": [
    {
     "name": "stdout",
     "output_type": "stream",
     "text": [
      "\n",
      "           |         test\n",
      "      diag |      Pos.       Neg. |     Total\n",
      "-----------+----------------------+----------\n",
      "  Abnormal |     4,669        350 |     5,019 \n",
      "    Normal |    24,328    187,359 |   211,687 \n",
      "-----------+----------------------+----------\n",
      "     Total |    28,997    187,709 |   216,706 \n",
      "True abnormal diagnosis defined as diag = 1\n",
      "\n",
      "\n",
      "                                                  [95% Confidence Interval]\n",
      "---------------------------------------------------------------------------\n",
      "Prevalence                         Pr(A)      2.3%      2.3%       2.4%\n",
      "---------------------------------------------------------------------------\n",
      "Sensitivity                      Pr(+|A)     93.0%     92.3%     93.7%\n",
      "Specificity                      Pr(-|N)     88.5%     88.4%     88.6%\n",
      "ROC area               (Sens. + Spec.)/2      0.91      0.90      0.91 \n",
      "---------------------------------------------------------------------------\n",
      "Likelihood ratio (+)     Pr(+|A)/Pr(+|N)      8.09      7.98      8.21 \n",
      "Likelihood ratio (-)     Pr(-|A)/Pr(-|N)      0.08      0.07      0.09 \n",
      "Odds ratio                   LR(+)/LR(-)    102.74     92.09    114.61 \n",
      "Positive predictive value        Pr(A|+)     16.1%     15.7%     16.5% \n",
      "Negative predictive value        Pr(N|-)     99.8%     99.8%     99.8% \n",
      "---------------------------------------------------------------------------\n"
     ]
    }
   ],
   "source": [
    "diagt diag test if sex==0"
   ]
  },
  {
   "cell_type": "markdown",
   "id": "ab8954a7-060c-4eba-adea-1044fb6bb9ea",
   "metadata": {},
   "source": [
    "#### Age\n",
    "*16-29*"
   ]
  },
  {
   "cell_type": "code",
   "execution_count": 10,
   "id": "f9aa943b-6489-4d70-a905-4aa3b8f2cb6e",
   "metadata": {},
   "outputs": [
    {
     "name": "stdout",
     "output_type": "stream",
     "text": [
      "\n",
      "           |         test\n",
      "      diag |      Pos.       Neg. |     Total\n",
      "-----------+----------------------+----------\n",
      "  Abnormal |        20         17 |        37 \n",
      "    Normal |     8,004    109,633 |   117,637 \n",
      "-----------+----------------------+----------\n",
      "     Total |     8,024    109,650 |   117,674 \n",
      "True abnormal diagnosis defined as diag = 1\n",
      "\n",
      "\n",
      "                                                  [95% Confidence Interval]\n",
      "---------------------------------------------------------------------------\n",
      "Prevalence                         Pr(A)      0.0%      0.0%       0.0%\n",
      "---------------------------------------------------------------------------\n",
      "Sensitivity                      Pr(+|A)     54.1%     36.9%     70.5%\n",
      "Specificity                      Pr(-|N)     93.2%     93.1%     93.3%\n",
      "ROC area               (Sens. + Spec.)/2      0.74      0.65      0.82 \n",
      "---------------------------------------------------------------------------\n",
      "Likelihood ratio (+)     Pr(+|A)/Pr(+|N)      7.94      5.90     10.70 \n",
      "Likelihood ratio (-)     Pr(-|A)/Pr(-|N)      0.49      0.35      0.70 \n",
      "Odds ratio                   LR(+)/LR(-)     16.11      8.53     30.45 \n",
      "Positive predictive value        Pr(A|+)      0.2%      0.2%      0.4% \n",
      "Negative predictive value        Pr(N|-)    100.0%    100.0%    100.0% \n",
      "---------------------------------------------------------------------------\n"
     ]
    }
   ],
   "source": [
    "diagt diag test if agecat==16"
   ]
  },
  {
   "cell_type": "markdown",
   "id": "999f9154-f87e-44c7-8928-1345fa5c5958",
   "metadata": {},
   "source": [
    "*30-69*"
   ]
  },
  {
   "cell_type": "code",
   "execution_count": 11,
   "id": "6fcb0167-b359-4f24-91e3-a10fb2caa610",
   "metadata": {},
   "outputs": [
    {
     "name": "stdout",
     "output_type": "stream",
     "text": [
      "\n",
      "           |         test\n",
      "      diag |      Pos.       Neg. |     Total\n",
      "-----------+----------------------+----------\n",
      "  Abnormal |     4,297        351 |     4,648 \n",
      "    Normal |    21,657    195,090 |   216,747 \n",
      "-----------+----------------------+----------\n",
      "     Total |    25,954    195,441 |   221,395 \n",
      "True abnormal diagnosis defined as diag = 1\n",
      "\n",
      "\n",
      "                                                  [95% Confidence Interval]\n",
      "---------------------------------------------------------------------------\n",
      "Prevalence                         Pr(A)      2.1%      2.0%       2.2%\n",
      "---------------------------------------------------------------------------\n",
      "Sensitivity                      Pr(+|A)     92.4%     91.7%     93.2%\n",
      "Specificity                      Pr(-|N)     90.0%     89.9%     90.1%\n",
      "ROC area               (Sens. + Spec.)/2      0.91      0.91      0.92 \n",
      "---------------------------------------------------------------------------\n",
      "Likelihood ratio (+)     Pr(+|A)/Pr(+|N)      9.25      9.11      9.39 \n",
      "Likelihood ratio (-)     Pr(-|A)/Pr(-|N)      0.08      0.08      0.09 \n",
      "Odds ratio                   LR(+)/LR(-)    110.28     98.83    123.06 \n",
      "Positive predictive value        Pr(A|+)     16.6%     16.1%     17.0% \n",
      "Negative predictive value        Pr(N|-)     99.8%     99.8%     99.8% \n",
      "---------------------------------------------------------------------------\n"
     ]
    }
   ],
   "source": [
    "diagt diag test if agecat==30"
   ]
  },
  {
   "cell_type": "code",
   "execution_count": 12,
   "id": "fd782079-4378-4cc3-9a2c-4adb92379d41",
   "metadata": {},
   "outputs": [
    {
     "name": "stdout",
     "output_type": "stream",
     "text": [
      "\n",
      "           |         test\n",
      "      diag |      Pos.       Neg. |     Total\n",
      "-----------+----------------------+----------\n",
      "  Abnormal |     5,878        490 |     6,368 \n",
      "    Normal |    11,965     67,598 |    79,563 \n",
      "-----------+----------------------+----------\n",
      "     Total |    17,843     68,088 |    85,931 \n",
      "True abnormal diagnosis defined as diag = 1\n",
      "\n",
      "\n",
      "                                                  [95% Confidence Interval]\n",
      "---------------------------------------------------------------------------\n",
      "Prevalence                         Pr(A)      7.4%      7.2%       7.6%\n",
      "---------------------------------------------------------------------------\n",
      "Sensitivity                      Pr(+|A)     92.3%     91.6%     92.9%\n",
      "Specificity                      Pr(-|N)     85.0%     84.7%     85.2%\n",
      "ROC area               (Sens. + Spec.)/2      0.89      0.88      0.89 \n",
      "---------------------------------------------------------------------------\n",
      "Likelihood ratio (+)     Pr(+|A)/Pr(+|N)      6.14      6.03      6.25 \n",
      "Likelihood ratio (-)     Pr(-|A)/Pr(-|N)      0.09      0.08      0.10 \n",
      "Odds ratio                   LR(+)/LR(-)     67.77     61.68     74.46 \n",
      "Positive predictive value        Pr(A|+)     32.9%     32.3%     33.6% \n",
      "Negative predictive value        Pr(N|-)     99.3%     99.2%     99.3% \n",
      "---------------------------------------------------------------------------\n"
     ]
    }
   ],
   "source": [
    "diagt diag test if agecat==70"
   ]
  },
  {
   "cell_type": "markdown",
   "id": "23455479-0f98-4886-a36c-770376084911",
   "metadata": {},
   "source": [
    "#### Year at start of oberservation period \n",
    "*2004-2009*"
   ]
  },
  {
   "cell_type": "code",
   "execution_count": 13,
   "id": "9c58ecee-bd42-47a9-ad46-f51305e689bf",
   "metadata": {},
   "outputs": [
    {
     "name": "stdout",
     "output_type": "stream",
     "text": [
      "\n",
      "           |         test\n",
      "      diag |      Pos.       Neg. |     Total\n",
      "-----------+----------------------+----------\n",
      "  Abnormal |     3,553        303 |     3,856 \n",
      "    Normal |    15,714    130,430 |   146,144 \n",
      "-----------+----------------------+----------\n",
      "     Total |    19,267    130,733 |   150,000 \n",
      "True abnormal diagnosis defined as diag = 1\n",
      "\n",
      "\n",
      "                                                  [95% Confidence Interval]\n",
      "---------------------------------------------------------------------------\n",
      "Prevalence                         Pr(A)      2.6%      2.5%       2.7%\n",
      "---------------------------------------------------------------------------\n",
      "Sensitivity                      Pr(+|A)     92.1%     91.2%     93.0%\n",
      "Specificity                      Pr(-|N)     89.2%     89.1%     89.4%\n",
      "ROC area               (Sens. + Spec.)/2      0.91      0.90      0.91 \n",
      "---------------------------------------------------------------------------\n",
      "Likelihood ratio (+)     Pr(+|A)/Pr(+|N)      8.57      8.42      8.72 \n",
      "Likelihood ratio (-)     Pr(-|A)/Pr(-|N)      0.09      0.08      0.10 \n",
      "Odds ratio                   LR(+)/LR(-)     97.33     86.46    109.56 \n",
      "Positive predictive value        Pr(A|+)     18.4%     17.9%     19.0% \n",
      "Negative predictive value        Pr(N|-)     99.8%     99.7%     99.8% \n",
      "---------------------------------------------------------------------------\n"
     ]
    }
   ],
   "source": [
    "diagt diag test if yearcat==2004"
   ]
  },
  {
   "cell_type": "markdown",
   "id": "d9f3db50-6898-4b47-81ef-4ea609bb28d8",
   "metadata": {},
   "source": [
    "*2010-2015*"
   ]
  },
  {
   "cell_type": "code",
   "execution_count": 14,
   "id": "6b326410-d900-498f-b736-4ced1ea7fa5d",
   "metadata": {},
   "outputs": [
    {
     "name": "stdout",
     "output_type": "stream",
     "text": [
      "\n",
      "           |         test\n",
      "      diag |      Pos.       Neg. |     Total\n",
      "-----------+----------------------+----------\n",
      "  Abnormal |     3,781        316 |     4,097 \n",
      "    Normal |    14,489    131,414 |   145,903 \n",
      "-----------+----------------------+----------\n",
      "     Total |    18,270    131,730 |   150,000 \n",
      "True abnormal diagnosis defined as diag = 1\n",
      "\n",
      "\n",
      "                                                  [95% Confidence Interval]\n",
      "---------------------------------------------------------------------------\n",
      "Prevalence                         Pr(A)      2.7%      2.6%       2.8%\n",
      "---------------------------------------------------------------------------\n",
      "Sensitivity                      Pr(+|A)     92.3%     91.4%     93.1%\n",
      "Specificity                      Pr(-|N)     90.1%     89.9%     90.2%\n",
      "ROC area               (Sens. + Spec.)/2      0.91      0.91      0.92 \n",
      "---------------------------------------------------------------------------\n",
      "Likelihood ratio (+)     Pr(+|A)/Pr(+|N)      9.29      9.13      9.46 \n",
      "Likelihood ratio (-)     Pr(-|A)/Pr(-|N)      0.09      0.08      0.10 \n",
      "Odds ratio                   LR(+)/LR(-)    108.52     96.64    121.87 \n",
      "Positive predictive value        Pr(A|+)     20.7%     20.1%     21.3% \n",
      "Negative predictive value        Pr(N|-)     99.8%     99.7%     99.8% \n",
      "---------------------------------------------------------------------------\n"
     ]
    }
   ],
   "source": [
    "diagt diag test if yearcat==2010"
   ]
  },
  {
   "cell_type": "markdown",
   "id": "1546a4d9-adee-4208-88e0-3b6aa4d3d14c",
   "metadata": {},
   "source": [
    "*2016-2020*"
   ]
  },
  {
   "cell_type": "code",
   "execution_count": 15,
   "id": "dddfe5ba-1a16-4afc-91e5-cbffb4f25b77",
   "metadata": {},
   "outputs": [
    {
     "name": "stdout",
     "output_type": "stream",
     "text": [
      "\n",
      "           |         test\n",
      "      diag |      Pos.       Neg. |     Total\n",
      "-----------+----------------------+----------\n",
      "  Abnormal |     2,861        239 |     3,100 \n",
      "    Normal |    11,423    110,477 |   121,900 \n",
      "-----------+----------------------+----------\n",
      "     Total |    14,284    110,716 |   125,000 \n",
      "True abnormal diagnosis defined as diag = 1\n",
      "\n",
      "\n",
      "                                                  [95% Confidence Interval]\n",
      "---------------------------------------------------------------------------\n",
      "Prevalence                         Pr(A)      2.5%      2.4%       2.6%\n",
      "---------------------------------------------------------------------------\n",
      "Sensitivity                      Pr(+|A)     92.3%     91.3%     93.2%\n",
      "Specificity                      Pr(-|N)     90.6%     90.5%     90.8%\n",
      "ROC area               (Sens. + Spec.)/2      0.91      0.91      0.92 \n",
      "---------------------------------------------------------------------------\n",
      "Likelihood ratio (+)     Pr(+|A)/Pr(+|N)      9.85      9.65     10.05 \n",
      "Likelihood ratio (-)     Pr(-|A)/Pr(-|N)      0.09      0.08      0.10 \n",
      "Odds ratio                   LR(+)/LR(-)    115.77    101.33    132.28 \n",
      "Positive predictive value        Pr(A|+)     20.0%     19.4%     20.7% \n",
      "Negative predictive value        Pr(N|-)     99.8%     99.8%     99.8% \n",
      "---------------------------------------------------------------------------\n"
     ]
    }
   ],
   "source": [
    "diagt diag test if yearcat==2016"
   ]
  },
  {
   "cell_type": "markdown",
   "id": "9318e823-cf06-4695-a86c-8b96ace454c5",
   "metadata": {},
   "source": [
    "#### IMD of practice\n",
    "*1-3*"
   ]
  },
  {
   "cell_type": "code",
   "execution_count": 16,
   "id": "0c48ed3a-ce83-4c14-9447-6c52d4d82ed3",
   "metadata": {},
   "outputs": [
    {
     "name": "stdout",
     "output_type": "stream",
     "text": [
      "\n",
      "           |         test\n",
      "      diag |      Pos.       Neg. |     Total\n",
      "-----------+----------------------+----------\n",
      "  Abnormal |     4,052        330 |     4,382 \n",
      "    Normal |    14,475    135,694 |   150,169 \n",
      "-----------+----------------------+----------\n",
      "     Total |    18,527    136,024 |   154,551 \n",
      "True abnormal diagnosis defined as diag = 1\n",
      "\n",
      "\n",
      "                                                  [95% Confidence Interval]\n",
      "---------------------------------------------------------------------------\n",
      "Prevalence                         Pr(A)      2.8%      2.8%       2.9%\n",
      "---------------------------------------------------------------------------\n",
      "Sensitivity                      Pr(+|A)     92.5%     91.6%     93.2%\n",
      "Specificity                      Pr(-|N)     90.4%     90.2%     90.5%\n",
      "ROC area               (Sens. + Spec.)/2      0.91      0.91      0.92 \n",
      "---------------------------------------------------------------------------\n",
      "Likelihood ratio (+)     Pr(+|A)/Pr(+|N)      9.59      9.43      9.76 \n",
      "Likelihood ratio (-)     Pr(-|A)/Pr(-|N)      0.08      0.08      0.09 \n",
      "Odds ratio                   LR(+)/LR(-)    115.11    102.76    128.93 \n",
      "Positive predictive value        Pr(A|+)     21.9%     21.3%     22.5% \n",
      "Negative predictive value        Pr(N|-)     99.8%     99.7%     99.8% \n",
      "---------------------------------------------------------------------------\n"
     ]
    }
   ],
   "source": [
    "diagt diag test if imdcat==0"
   ]
  },
  {
   "cell_type": "markdown",
   "id": "cc20d8e3-26a9-4217-989b-54c2c73d0386",
   "metadata": {},
   "source": [
    "*4-7*"
   ]
  },
  {
   "cell_type": "code",
   "execution_count": 17,
   "id": "2f034372-ceb8-4f41-bd39-9d6ef321a64a",
   "metadata": {},
   "outputs": [
    {
     "name": "stdout",
     "output_type": "stream",
     "text": [
      "\n",
      "           |         test\n",
      "      diag |      Pos.       Neg. |     Total\n",
      "-----------+----------------------+----------\n",
      "  Abnormal |     3,522        263 |     3,785 \n",
      "    Normal |    14,946    124,314 |   139,260 \n",
      "-----------+----------------------+----------\n",
      "     Total |    18,468    124,577 |   143,045 \n",
      "True abnormal diagnosis defined as diag = 1\n",
      "\n",
      "\n",
      "                                                  [95% Confidence Interval]\n",
      "---------------------------------------------------------------------------\n",
      "Prevalence                         Pr(A)      2.6%      2.6%       2.7%\n",
      "---------------------------------------------------------------------------\n",
      "Sensitivity                      Pr(+|A)     93.1%     92.2%     93.8%\n",
      "Specificity                      Pr(-|N)     89.3%     89.1%     89.4%\n",
      "ROC area               (Sens. + Spec.)/2      0.91      0.91      0.92 \n",
      "---------------------------------------------------------------------------\n",
      "Likelihood ratio (+)     Pr(+|A)/Pr(+|N)      8.67      8.52      8.82 \n",
      "Likelihood ratio (-)     Pr(-|A)/Pr(-|N)      0.08      0.07      0.09 \n",
      "Odds ratio                   LR(+)/LR(-)    111.39     98.16    126.39 \n",
      "Positive predictive value        Pr(A|+)     19.1%     18.5%     19.6% \n",
      "Negative predictive value        Pr(N|-)     99.8%     99.8%     99.8% \n",
      "---------------------------------------------------------------------------\n"
     ]
    }
   ],
   "source": [
    "diagt diag test if imdcat==4"
   ]
  },
  {
   "cell_type": "markdown",
   "id": "a843bc14-ff1a-4435-a50c-c9769b8c3d3b",
   "metadata": {},
   "source": [
    "*8-10*"
   ]
  },
  {
   "cell_type": "code",
   "execution_count": 18,
   "id": "e52a500d-f3cf-4da6-997c-bbc1e902d199",
   "metadata": {},
   "outputs": [
    {
     "name": "stdout",
     "output_type": "stream",
     "text": [
      "\n",
      "           |         test\n",
      "      diag |      Pos.       Neg. |     Total\n",
      "-----------+----------------------+----------\n",
      "  Abnormal |     2,600        264 |     2,864 \n",
      "    Normal |    12,080    109,871 |   121,951 \n",
      "-----------+----------------------+----------\n",
      "     Total |    14,680    110,135 |   124,815 \n",
      "True abnormal diagnosis defined as diag = 1\n",
      "\n",
      "\n",
      "                                                  [95% Confidence Interval]\n",
      "---------------------------------------------------------------------------\n",
      "Prevalence                         Pr(A)      2.3%      2.2%       2.4%\n",
      "---------------------------------------------------------------------------\n",
      "Sensitivity                      Pr(+|A)     90.8%     89.7%     91.8%\n",
      "Specificity                      Pr(-|N)     90.1%     89.9%     90.3%\n",
      "ROC area               (Sens. + Spec.)/2      0.90      0.90      0.91 \n",
      "---------------------------------------------------------------------------\n",
      "Likelihood ratio (+)     Pr(+|A)/Pr(+|N)      9.16      8.98      9.36 \n",
      "Likelihood ratio (-)     Pr(-|A)/Pr(-|N)      0.10      0.09      0.11 \n",
      "Odds ratio                   LR(+)/LR(-)     89.57     78.82    101.80 \n",
      "Positive predictive value        Pr(A|+)     17.7%     17.1%     18.3% \n",
      "Negative predictive value        Pr(N|-)     99.8%     99.7%     99.8% \n",
      "---------------------------------------------------------------------------\n"
     ]
    }
   ],
   "source": [
    "diagt diag test if imdcat==8"
   ]
  },
  {
   "cell_type": "markdown",
   "id": "cbbde183-5b60-4618-a548-81135cae76a0",
   "metadata": {},
   "source": [
    "#### Commissioning Regions\n",
    "EAST OF ENGLAND"
   ]
  },
  {
   "cell_type": "code",
   "execution_count": 19,
   "id": "1254da50-3ca4-47a1-b4d8-e07c6d920177",
   "metadata": {},
   "outputs": [
    {
     "name": "stdout",
     "output_type": "stream",
     "text": [
      "\n",
      "           |         test\n",
      "      diag |      Pos.       Neg. |     Total\n",
      "-----------+----------------------+----------\n",
      "  Abnormal |     2,141        161 |     2,302 \n",
      "    Normal |     9,990     77,345 |    87,335 \n",
      "-----------+----------------------+----------\n",
      "     Total |    12,131     77,506 |    89,637 \n",
      "True abnormal diagnosis defined as diag = 1\n",
      "\n",
      "\n",
      "                                                  [95% Confidence Interval]\n",
      "---------------------------------------------------------------------------\n",
      "Prevalence                         Pr(A)      2.6%      2.5%       2.7%\n",
      "---------------------------------------------------------------------------\n",
      "Sensitivity                      Pr(+|A)     93.0%     91.9%     94.0%\n",
      "Specificity                      Pr(-|N)     88.6%     88.3%     88.8%\n",
      "ROC area               (Sens. + Spec.)/2      0.91      0.90      0.91 \n",
      "---------------------------------------------------------------------------\n",
      "Likelihood ratio (+)     Pr(+|A)/Pr(+|N)      8.13      7.96      8.31 \n",
      "Likelihood ratio (-)     Pr(-|A)/Pr(-|N)      0.08      0.07      0.09 \n",
      "Odds ratio                   LR(+)/LR(-)    102.96     87.62    120.98 \n",
      "Positive predictive value        Pr(A|+)     17.6%     17.0%     18.3% \n",
      "Negative predictive value        Pr(N|-)     99.8%     99.8%     99.8% \n",
      "---------------------------------------------------------------------------\n"
     ]
    }
   ],
   "source": [
    "diagt diag test if regexm(region_name,\"ENGLAND\")==1"
   ]
  },
  {
   "cell_type": "markdown",
   "id": "b2f2b2c7-4c3b-4ae5-ad03-8edfbc58938d",
   "metadata": {},
   "source": [
    "London"
   ]
  },
  {
   "cell_type": "code",
   "execution_count": 20,
   "id": "18195511-cedc-42b1-8bae-bc6621364814",
   "metadata": {},
   "outputs": [
    {
     "name": "stdout",
     "output_type": "stream",
     "text": [
      "\n",
      "           |         test\n",
      "      diag |      Pos.       Neg. |     Total\n",
      "-----------+----------------------+----------\n",
      "  Abnormal |       176         26 |       202 \n",
      "    Normal |     1,138     15,385 |    16,523 \n",
      "-----------+----------------------+----------\n",
      "     Total |     1,314     15,411 |    16,725 \n",
      "True abnormal diagnosis defined as diag = 1\n",
      "\n",
      "\n",
      "                                                  [95% Confidence Interval]\n",
      "---------------------------------------------------------------------------\n",
      "Prevalence                         Pr(A)      1.2%      1.0%       1.4%\n",
      "---------------------------------------------------------------------------\n",
      "Sensitivity                      Pr(+|A)     87.1%     81.7%     91.4%\n",
      "Specificity                      Pr(-|N)     93.1%     92.7%     93.5%\n",
      "ROC area               (Sens. + Spec.)/2      0.90      0.88      0.92 \n",
      "---------------------------------------------------------------------------\n",
      "Likelihood ratio (+)     Pr(+|A)/Pr(+|N)     12.65     11.71     13.67 \n",
      "Likelihood ratio (-)     Pr(-|A)/Pr(-|N)      0.14      0.10      0.20 \n",
      "Odds ratio                   LR(+)/LR(-)     91.52     60.53    138.35 \n",
      "Positive predictive value        Pr(A|+)     13.4%     11.6%     15.4% \n",
      "Negative predictive value        Pr(N|-)     99.8%     99.8%     99.9% \n",
      "---------------------------------------------------------------------------\n"
     ]
    }
   ],
   "source": [
    "diagt diag test if regexm(region_name,\"LONDON\")==1"
   ]
  },
  {
   "cell_type": "markdown",
   "id": "1a78f370-7ebd-4e70-b301-73c6e75003fd",
   "metadata": {},
   "source": [
    "Midlands"
   ]
  },
  {
   "cell_type": "code",
   "execution_count": 21,
   "id": "265ce394-6410-4e76-a064-ec3d32c30eee",
   "metadata": {},
   "outputs": [
    {
     "name": "stdout",
     "output_type": "stream",
     "text": [
      "\n",
      "           |         test\n",
      "      diag |      Pos.       Neg. |     Total\n",
      "-----------+----------------------+----------\n",
      "  Abnormal |     1,373        104 |     1,477 \n",
      "    Normal |     5,268     39,798 |    45,066 \n",
      "-----------+----------------------+----------\n",
      "     Total |     6,641     39,902 |    46,543 \n",
      "True abnormal diagnosis defined as diag = 1\n",
      "\n",
      "\n",
      "                                                  [95% Confidence Interval]\n",
      "---------------------------------------------------------------------------\n",
      "Prevalence                         Pr(A)      3.2%      3.0%       3.3%\n",
      "---------------------------------------------------------------------------\n",
      "Sensitivity                      Pr(+|A)     93.0%     91.5%     94.2%\n",
      "Specificity                      Pr(-|N)     88.3%     88.0%     88.6%\n",
      "ROC area               (Sens. + Spec.)/2      0.91      0.90      0.91 \n",
      "---------------------------------------------------------------------------\n",
      "Likelihood ratio (+)     Pr(+|A)/Pr(+|N)      7.95      7.73      8.19 \n",
      "Likelihood ratio (-)     Pr(-|A)/Pr(-|N)      0.08      0.07      0.10 \n",
      "Odds ratio                   LR(+)/LR(-)     99.74     81.57    121.95 \n",
      "Positive predictive value        Pr(A|+)     20.7%     19.7%     21.7% \n",
      "Negative predictive value        Pr(N|-)     99.7%     99.7%     99.8% \n",
      "---------------------------------------------------------------------------\n"
     ]
    }
   ],
   "source": [
    "diagt diag test if regexm(region_name,\"MID\")==1"
   ]
  },
  {
   "cell_type": "markdown",
   "id": "0769a779-b7ae-4496-9ed2-a6feb1a1a94a",
   "metadata": {},
   "source": [
    "Yorkshire"
   ]
  },
  {
   "cell_type": "code",
   "execution_count": 22,
   "id": "83d73532-38e7-4fb2-a39b-5c1ef1b5b717",
   "metadata": {},
   "outputs": [
    {
     "name": "stdout",
     "output_type": "stream",
     "text": [
      "\n",
      "           |         test\n",
      "      diag |      Pos.       Neg. |     Total\n",
      "-----------+----------------------+----------\n",
      "  Abnormal |     2,335        193 |     2,528 \n",
      "    Normal |     7,999     75,584 |    83,583 \n",
      "-----------+----------------------+----------\n",
      "     Total |    10,334     75,777 |    86,111 \n",
      "True abnormal diagnosis defined as diag = 1\n",
      "\n",
      "\n",
      "                                                  [95% Confidence Interval]\n",
      "---------------------------------------------------------------------------\n",
      "Prevalence                         Pr(A)      2.9%      2.8%       3.1%\n",
      "---------------------------------------------------------------------------\n",
      "Sensitivity                      Pr(+|A)     92.4%     91.3%     93.4%\n",
      "Specificity                      Pr(-|N)     90.4%     90.2%     90.6%\n",
      "ROC area               (Sens. + Spec.)/2      0.91      0.91      0.92 \n",
      "---------------------------------------------------------------------------\n",
      "Likelihood ratio (+)     Pr(+|A)/Pr(+|N)      9.65      9.43      9.88 \n",
      "Likelihood ratio (-)     Pr(-|A)/Pr(-|N)      0.08      0.07      0.10 \n",
      "Odds ratio                   LR(+)/LR(-)    114.32     98.55    132.62 \n",
      "Positive predictive value        Pr(A|+)     22.6%     21.8%     23.4% \n",
      "Negative predictive value        Pr(N|-)     99.7%     99.7%     99.8% \n",
      "---------------------------------------------------------------------------\n"
     ]
    }
   ],
   "source": [
    "diagt diag test if regexm(region_name,\"YORK\")==1"
   ]
  },
  {
   "cell_type": "markdown",
   "id": "247339ad-15c3-4ac2-9458-c8b14082ff8c",
   "metadata": {},
   "source": [
    "North West"
   ]
  },
  {
   "cell_type": "code",
   "execution_count": 23,
   "id": "f9ddd2b2-2aa8-49c0-8d9b-ac27a3db55be",
   "metadata": {},
   "outputs": [
    {
     "name": "stdout",
     "output_type": "stream",
     "text": [
      "\n",
      "           |         test\n",
      "      diag |      Pos.       Neg. |     Total\n",
      "-----------+----------------------+----------\n",
      "  Abnormal |     1,200         79 |     1,279 \n",
      "    Normal |     4,264     42,050 |    46,314 \n",
      "-----------+----------------------+----------\n",
      "     Total |     5,464     42,129 |    47,593 \n",
      "True abnormal diagnosis defined as diag = 1\n",
      "\n",
      "\n",
      "                                                  [95% Confidence Interval]\n",
      "---------------------------------------------------------------------------\n",
      "Prevalence                         Pr(A)      2.7%      2.5%       2.8%\n",
      "---------------------------------------------------------------------------\n",
      "Sensitivity                      Pr(+|A)     93.8%     92.4%     95.1%\n",
      "Specificity                      Pr(-|N)     90.8%     90.5%     91.1%\n",
      "ROC area               (Sens. + Spec.)/2      0.92      0.92      0.93 \n",
      "---------------------------------------------------------------------------\n",
      "Likelihood ratio (+)     Pr(+|A)/Pr(+|N)     10.19      9.87     10.52 \n",
      "Likelihood ratio (-)     Pr(-|A)/Pr(-|N)      0.07      0.05      0.08 \n",
      "Odds ratio                   LR(+)/LR(-)    149.80    119.10    188.41 \n",
      "Positive predictive value        Pr(A|+)     22.0%     20.9%     23.1% \n",
      "Negative predictive value        Pr(N|-)     99.8%     99.8%     99.9% \n",
      "---------------------------------------------------------------------------\n"
     ]
    }
   ],
   "source": [
    "diagt diag test if regexm(region_name,\"NORTH\")==1 & regexm(region_name,\"WEST\")==1"
   ]
  },
  {
   "cell_type": "markdown",
   "id": "cac4bda2-216c-4294-ab6d-5338aa93d23c",
   "metadata": {},
   "source": [
    "South East"
   ]
  },
  {
   "cell_type": "code",
   "execution_count": 24,
   "id": "883a5bf4-de79-4ba9-9bb2-95f85e3bccb3",
   "metadata": {},
   "outputs": [
    {
     "name": "stdout",
     "output_type": "stream",
     "text": [
      "\n",
      "           |         test\n",
      "      diag |      Pos.       Neg. |     Total\n",
      "-----------+----------------------+----------\n",
      "  Abnormal |     1,747        188 |     1,935 \n",
      "    Normal |     7,973     80,577 |    88,550 \n",
      "-----------+----------------------+----------\n",
      "     Total |     9,720     80,765 |    90,485 \n",
      "True abnormal diagnosis defined as diag = 1\n",
      "\n",
      "\n",
      "                                                  [95% Confidence Interval]\n",
      "---------------------------------------------------------------------------\n",
      "Prevalence                         Pr(A)      2.1%      2.0%       2.2%\n",
      "---------------------------------------------------------------------------\n",
      "Sensitivity                      Pr(+|A)     90.3%     88.9%     91.6%\n",
      "Specificity                      Pr(-|N)     91.0%     90.8%     91.2%\n",
      "ROC area               (Sens. + Spec.)/2      0.91      0.90      0.91 \n",
      "---------------------------------------------------------------------------\n",
      "Likelihood ratio (+)     Pr(+|A)/Pr(+|N)     10.03      9.77     10.29 \n",
      "Likelihood ratio (-)     Pr(-|A)/Pr(-|N)      0.11      0.09      0.12 \n",
      "Odds ratio                   LR(+)/LR(-)     93.91     80.67    109.33 \n",
      "Positive predictive value        Pr(A|+)     18.0%     17.2%     18.8% \n",
      "Negative predictive value        Pr(N|-)     99.8%     99.7%     99.8% \n",
      "---------------------------------------------------------------------------\n"
     ]
    }
   ],
   "source": [
    "diagt diag test if regexm(region_name,\"SOUTH\")==1 & regexm(region_name,\"EAST\")==1"
   ]
  },
  {
   "cell_type": "markdown",
   "id": "c31c4086-ecd2-43b5-a175-a49e64a0593a",
   "metadata": {},
   "source": [
    "South West"
   ]
  },
  {
   "cell_type": "code",
   "execution_count": 25,
   "id": "db24609a-c78c-4959-8f77-be636e5b8a66",
   "metadata": {},
   "outputs": [
    {
     "name": "stdout",
     "output_type": "stream",
     "text": [
      "\n",
      "           |         test\n",
      "      diag |      Pos.       Neg. |     Total\n",
      "-----------+----------------------+----------\n",
      "  Abnormal |     1,001         85 |     1,086 \n",
      "    Normal |     3,846     31,244 |    35,090 \n",
      "-----------+----------------------+----------\n",
      "     Total |     4,847     31,329 |    36,176 \n",
      "True abnormal diagnosis defined as diag = 1\n",
      "\n",
      "\n",
      "                                                  [95% Confidence Interval]\n",
      "---------------------------------------------------------------------------\n",
      "Prevalence                         Pr(A)      3.0%      2.8%       3.2%\n",
      "---------------------------------------------------------------------------\n",
      "Sensitivity                      Pr(+|A)     92.2%     90.4%     93.7%\n",
      "Specificity                      Pr(-|N)     89.0%     88.7%     89.4%\n",
      "ROC area               (Sens. + Spec.)/2      0.91      0.90      0.91 \n",
      "---------------------------------------------------------------------------\n",
      "Likelihood ratio (+)     Pr(+|A)/Pr(+|N)      8.41      8.12      8.70 \n",
      "Likelihood ratio (-)     Pr(-|A)/Pr(-|N)      0.09      0.07      0.11 \n",
      "Odds ratio                   LR(+)/LR(-)     95.67     76.51    119.63 \n",
      "Positive predictive value        Pr(A|+)     20.7%     19.5%     21.8% \n",
      "Negative predictive value        Pr(N|-)     99.7%     99.7%     99.8% \n",
      "---------------------------------------------------------------------------\n"
     ]
    }
   ],
   "source": [
    "diagt diag test if regexm(region_name,\"SOUTH\")==1 & regexm(region_name,\"WEST\")==1"
   ]
  },
  {
   "cell_type": "markdown",
   "id": "cf33efae-dc21-4b1a-b169-9eaea69c1161",
   "metadata": {},
   "source": [
    "#### System\n",
    "SystmOne"
   ]
  },
  {
   "cell_type": "code",
   "execution_count": 26,
   "id": "26573dfb-79dc-4647-88a6-e19dac9eca61",
   "metadata": {},
   "outputs": [
    {
     "name": "stdout",
     "output_type": "stream",
     "text": [
      "\n",
      "           |         test\n",
      "      diag |      Pos.       Neg. |     Total\n",
      "-----------+----------------------+----------\n",
      "  Abnormal |     6,019        455 |     6,474 \n",
      "    Normal |    23,828    198,453 |   222,281 \n",
      "-----------+----------------------+----------\n",
      "     Total |    29,847    198,908 |   228,755 \n",
      "True abnormal diagnosis defined as diag = 1\n",
      "\n",
      "\n",
      "                                                  [95% Confidence Interval]\n",
      "---------------------------------------------------------------------------\n",
      "Prevalence                         Pr(A)      2.8%      2.8%       2.9%\n",
      "---------------------------------------------------------------------------\n",
      "Sensitivity                      Pr(+|A)     93.0%     92.3%     93.6%\n",
      "Specificity                      Pr(-|N)     89.3%     89.2%     89.4%\n",
      "ROC area               (Sens. + Spec.)/2      0.91      0.91      0.91 \n",
      "---------------------------------------------------------------------------\n",
      "Likelihood ratio (+)     Pr(+|A)/Pr(+|N)      8.67      8.55      8.79 \n",
      "Likelihood ratio (-)     Pr(-|A)/Pr(-|N)      0.08      0.07      0.09 \n",
      "Odds ratio                   LR(+)/LR(-)    110.17    100.07    121.30 \n",
      "Positive predictive value        Pr(A|+)     20.2%     19.7%     20.6% \n",
      "Negative predictive value        Pr(N|-)     99.8%     99.7%     99.8% \n",
      "---------------------------------------------------------------------------\n"
     ]
    }
   ],
   "source": [
    "diagt diag test if regexm(system,\"One\")==1"
   ]
  },
  {
   "cell_type": "markdown",
   "id": "b561f033-d2f3-4c95-ad3f-03b8c65647ea",
   "metadata": {},
   "source": [
    "Vision"
   ]
  },
  {
   "cell_type": "code",
   "execution_count": 27,
   "id": "6bed6f81-5fd6-418e-94ff-96d2de419d3d",
   "metadata": {},
   "outputs": [
    {
     "name": "stdout",
     "output_type": "stream",
     "text": [
      "\n",
      "           |         test\n",
      "      diag |      Pos.       Neg. |     Total\n",
      "-----------+----------------------+----------\n",
      "  Abnormal |       281         24 |       305 \n",
      "    Normal |     1,387     12,052 |    13,439 \n",
      "-----------+----------------------+----------\n",
      "     Total |     1,668     12,076 |    13,744 \n",
      "True abnormal diagnosis defined as diag = 1\n",
      "\n",
      "\n",
      "                                                  [95% Confidence Interval]\n",
      "---------------------------------------------------------------------------\n",
      "Prevalence                         Pr(A)      2.2%      2.0%       2.5%\n",
      "---------------------------------------------------------------------------\n",
      "Sensitivity                      Pr(+|A)     92.1%     88.5%     94.9%\n",
      "Specificity                      Pr(-|N)     89.7%     89.2%     90.2%\n",
      "ROC area               (Sens. + Spec.)/2      0.91      0.89      0.92 \n",
      "---------------------------------------------------------------------------\n",
      "Likelihood ratio (+)     Pr(+|A)/Pr(+|N)      8.93      8.41      9.48 \n",
      "Likelihood ratio (-)     Pr(-|A)/Pr(-|N)      0.09      0.06      0.13 \n",
      "Odds ratio                   LR(+)/LR(-)    101.74     67.01    154.45 \n",
      "Positive predictive value        Pr(A|+)     16.8%     15.1%     18.7% \n",
      "Negative predictive value        Pr(N|-)     99.8%     99.7%     99.9% \n",
      "---------------------------------------------------------------------------\n"
     ]
    }
   ],
   "source": [
    "diagt diag test if regexm(system,\"Vision\")==1"
   ]
  },
  {
   "cell_type": "markdown",
   "id": "65d9cefb-fbb5-4500-8ed3-52074d4e12ad",
   "metadata": {},
   "source": [
    "EMIS"
   ]
  },
  {
   "cell_type": "code",
   "execution_count": 28,
   "id": "18d50bfe-f5c4-4ecb-b822-0d06e3b29224",
   "metadata": {},
   "outputs": [
    {
     "name": "stdout",
     "output_type": "stream",
     "text": [
      "\n",
      "           |         test\n",
      "      diag |      Pos.       Neg. |     Total\n",
      "-----------+----------------------+----------\n",
      "  Abnormal |     3,884        378 |     4,262 \n",
      "    Normal |    16,364    161,739 |   178,103 \n",
      "-----------+----------------------+----------\n",
      "     Total |    20,248    162,117 |   182,365 \n",
      "True abnormal diagnosis defined as diag = 1\n",
      "\n",
      "\n",
      "                                                  [95% Confidence Interval]\n",
      "---------------------------------------------------------------------------\n",
      "Prevalence                         Pr(A)      2.3%      2.3%       2.4%\n",
      "---------------------------------------------------------------------------\n",
      "Sensitivity                      Pr(+|A)     91.1%     90.2%     92.0%\n",
      "Specificity                      Pr(-|N)     90.8%     90.7%     90.9%\n",
      "ROC area               (Sens. + Spec.)/2      0.91      0.91      0.91 \n",
      "---------------------------------------------------------------------------\n",
      "Likelihood ratio (+)     Pr(+|A)/Pr(+|N)      9.92      9.75     10.09 \n",
      "Likelihood ratio (-)     Pr(-|A)/Pr(-|N)      0.10      0.09      0.11 \n",
      "Odds ratio                   LR(+)/LR(-)    101.56     91.27    113.00 \n",
      "Positive predictive value        Pr(A|+)     19.2%     18.6%     19.7% \n",
      "Negative predictive value        Pr(N|-)     99.8%     99.7%     99.8% \n",
      "---------------------------------------------------------------------------\n"
     ]
    }
   ],
   "source": [
    "diagt diag test if regexm(ustrupper(system),\"EMIS\")==1"
   ]
  },
  {
   "cell_type": "code",
   "execution_count": null,
   "id": "654b6659-0a73-4736-bc15-7bf926554432",
   "metadata": {},
   "outputs": [],
   "source": []
  },
  {
   "cell_type": "markdown",
   "id": "5cc0b78d-d049-4645-a6f4-e02b49b379db",
   "metadata": {},
   "source": [
    "#### RA_Index\n",
    "Index==1"
   ]
  },
  {
   "cell_type": "code",
   "execution_count": 29,
   "id": "9fa490cd-9380-44bc-8218-9f2193f09aee",
   "metadata": {},
   "outputs": [
    {
     "name": "stdout",
     "output_type": "stream",
     "text": [
      "\n",
      "           |         test\n",
      "      diag |      Pos.       Neg. |     Total\n",
      "-----------+----------------------+----------\n",
      "  Abnormal |     7,730        669 |     8,399 \n",
      "    Normal |    30,415    282,883 |   313,298 \n",
      "-----------+----------------------+----------\n",
      "     Total |    38,145    283,552 |   321,697 \n",
      "True abnormal diagnosis defined as diag = 1\n",
      "\n",
      "\n",
      "                                                  [95% Confidence Interval]\n",
      "---------------------------------------------------------------------------\n",
      "Prevalence                         Pr(A)      2.6%      2.6%       2.7%\n",
      "---------------------------------------------------------------------------\n",
      "Sensitivity                      Pr(+|A)     92.0%     91.4%     92.6%\n",
      "Specificity                      Pr(-|N)     90.3%     90.2%     90.4%\n",
      "ROC area               (Sens. + Spec.)/2      0.91      0.91      0.91 \n",
      "---------------------------------------------------------------------------\n",
      "Likelihood ratio (+)     Pr(+|A)/Pr(+|N)      9.48      9.36      9.60 \n",
      "Likelihood ratio (-)     Pr(-|A)/Pr(-|N)      0.09      0.08      0.09 \n",
      "Odds ratio                   LR(+)/LR(-)    107.47     99.22    116.40 \n",
      "Positive predictive value        Pr(A|+)     20.3%     19.9%     20.7% \n",
      "Negative predictive value        Pr(N|-)     99.8%     99.7%     99.8% \n",
      "---------------------------------------------------------------------------\n"
     ]
    }
   ],
   "source": [
    "diagt diag test if RA_index==1"
   ]
  },
  {
   "cell_type": "markdown",
   "id": "7d253ba5-4281-405c-bd8c-511a00a55bf6",
   "metadata": {},
   "source": [
    "Index==0"
   ]
  },
  {
   "cell_type": "code",
   "execution_count": 30,
   "id": "f50f1be6-d1fd-4b54-8cc8-be66d3b7312b",
   "metadata": {},
   "outputs": [
    {
     "name": "stdout",
     "output_type": "stream",
     "text": [
      "\n",
      "           |         test\n",
      "      diag |      Pos.       Neg. |     Total\n",
      "-----------+----------------------+----------\n",
      "  Abnormal |     2,465        189 |     2,654 \n",
      "    Normal |    11,211     89,438 |   100,649 \n",
      "-----------+----------------------+----------\n",
      "     Total |    13,676     89,627 |   103,303 \n",
      "True abnormal diagnosis defined as diag = 1\n",
      "\n",
      "\n",
      "                                                  [95% Confidence Interval]\n",
      "---------------------------------------------------------------------------\n",
      "Prevalence                         Pr(A)      2.6%      2.5%       2.7%\n",
      "---------------------------------------------------------------------------\n",
      "Sensitivity                      Pr(+|A)     92.9%     91.8%     93.8%\n",
      "Specificity                      Pr(-|N)     88.9%     88.7%     89.1%\n",
      "ROC area               (Sens. + Spec.)/2      0.91      0.90      0.91 \n",
      "---------------------------------------------------------------------------\n",
      "Likelihood ratio (+)     Pr(+|A)/Pr(+|N)      8.34      8.17      8.51 \n",
      "Likelihood ratio (-)     Pr(-|A)/Pr(-|N)      0.08      0.07      0.09 \n",
      "Odds ratio                   LR(+)/LR(-)    104.05     89.64    120.78 \n",
      "Positive predictive value        Pr(A|+)     18.0%     17.4%     18.7% \n",
      "Negative predictive value        Pr(N|-)     99.8%     99.8%     99.8% \n",
      "---------------------------------------------------------------------------\n"
     ]
    }
   ],
   "source": [
    "diagt diag test if RA_index==0"
   ]
  },
  {
   "cell_type": "markdown",
   "id": "72956d72",
   "metadata": {},
   "source": [
    "#### Ethnicity\n",
    "Ethnicity==0000white"
   ]
  },
  {
   "cell_type": "code",
   "execution_count": 31,
   "id": "b35bf6ab",
   "metadata": {},
   "outputs": [
    {
     "name": "stdout",
     "output_type": "stream",
     "text": [
      "\n",
      "           |         test\n",
      "      diag |      Pos.       Neg. |     Total\n",
      "-----------+----------------------+----------\n",
      "  Abnormal |     8,110        652 |     8,762 \n",
      "    Normal |    29,108    220,111 |   249,219 \n",
      "-----------+----------------------+----------\n",
      "     Total |    37,218    220,763 |   257,981 \n",
      "True abnormal diagnosis defined as diag = 1\n",
      "\n",
      "\n",
      "                                                  [95% Confidence Interval]\n",
      "---------------------------------------------------------------------------\n",
      "Prevalence                         Pr(A)      3.4%      3.3%       3.5%\n",
      "---------------------------------------------------------------------------\n",
      "Sensitivity                      Pr(+|A)     92.6%     92.0%     93.1%\n",
      "Specificity                      Pr(-|N)     88.3%     88.2%     88.4%\n",
      "ROC area               (Sens. + Spec.)/2      0.90      0.90      0.91 \n",
      "---------------------------------------------------------------------------\n",
      "Likelihood ratio (+)     Pr(+|A)/Pr(+|N)      7.92      7.83      8.02 \n",
      "Likelihood ratio (-)     Pr(-|A)/Pr(-|N)      0.08      0.08      0.09 \n",
      "Odds ratio                   LR(+)/LR(-)     94.06     86.77    101.96 \n",
      "Positive predictive value        Pr(A|+)     21.8%     21.4%     22.2% \n",
      "Negative predictive value        Pr(N|-)     99.7%     99.7%     99.7% \n",
      "---------------------------------------------------------------------------\n"
     ]
    }
   ],
   "source": [
    "diagt diag test if ethnicity==\"0white\""
   ]
  },
  {
   "cell_type": "code",
   "execution_count": 32,
   "id": "10050fbc",
   "metadata": {},
   "outputs": [
    {
     "name": "stdout",
     "output_type": "stream",
     "text": [
      "\n",
      "           |         test\n",
      "      diag |      Pos.       Neg. |     Total\n",
      "-----------+----------------------+----------\n",
      "  Abnormal |       245         47 |       292 \n",
      "    Normal |     3,264     40,312 |    43,576 \n",
      "-----------+----------------------+----------\n",
      "     Total |     3,509     40,359 |    43,868 \n",
      "True abnormal diagnosis defined as diag = 1\n",
      "\n",
      "\n",
      "                                                  [95% Confidence Interval]\n",
      "---------------------------------------------------------------------------\n",
      "Prevalence                         Pr(A)      0.7%      0.6%       0.7%\n",
      "---------------------------------------------------------------------------\n",
      "Sensitivity                      Pr(+|A)     83.9%     79.2%     87.9%\n",
      "Specificity                      Pr(-|N)     92.5%     92.3%     92.8%\n",
      "ROC area               (Sens. + Spec.)/2      0.88      0.86      0.90 \n",
      "---------------------------------------------------------------------------\n",
      "Likelihood ratio (+)     Pr(+|A)/Pr(+|N)     11.20     10.55     11.90 \n",
      "Likelihood ratio (-)     Pr(-|A)/Pr(-|N)      0.17      0.13      0.23 \n",
      "Odds ratio                   LR(+)/LR(-)     64.38     47.08     88.03 \n",
      "Positive predictive value        Pr(A|+)      7.0%      6.2%      7.9% \n",
      "Negative predictive value        Pr(N|-)     99.9%     99.8%     99.9% \n",
      "---------------------------------------------------------------------------\n"
     ]
    }
   ],
   "source": [
    "diagt diag test if ethnicity==\"Other\""
   ]
  },
  {
   "cell_type": "code",
   "execution_count": 33,
   "id": "a9b0ba23",
   "metadata": {},
   "outputs": [
    {
     "name": "stdout",
     "output_type": "stream",
     "text": [
      "\n",
      "           |         test\n",
      "      diag |      Pos.       Neg. |     Total\n",
      "-----------+----------------------+----------\n",
      "  Abnormal |     1,840        159 |     1,999 \n",
      "    Normal |     9,254    111,898 |   121,152 \n",
      "-----------+----------------------+----------\n",
      "     Total |    11,094    112,057 |   123,151 \n",
      "True abnormal diagnosis defined as diag = 1\n",
      "\n",
      "\n",
      "                                                  [95% Confidence Interval]\n",
      "---------------------------------------------------------------------------\n",
      "Prevalence                         Pr(A)      1.6%      1.6%       1.7%\n",
      "---------------------------------------------------------------------------\n",
      "Sensitivity                      Pr(+|A)     92.0%     90.8%     93.2%\n",
      "Specificity                      Pr(-|N)     92.4%     92.2%     92.5%\n",
      "ROC area               (Sens. + Spec.)/2      0.92      0.92      0.93 \n",
      "---------------------------------------------------------------------------\n",
      "Likelihood ratio (+)     Pr(+|A)/Pr(+|N)     12.05     11.77     12.34 \n",
      "Likelihood ratio (-)     Pr(-|A)/Pr(-|N)      0.09      0.07      0.10 \n",
      "Odds ratio                   LR(+)/LR(-)    139.93    118.86    164.74 \n",
      "Positive predictive value        Pr(A|+)     16.6%     15.9%     17.3% \n",
      "Negative predictive value        Pr(N|-)     99.9%     99.8%     99.9% \n",
      "---------------------------------------------------------------------------\n"
     ]
    }
   ],
   "source": [
    "diagt diag test if ethnicity==\"Missing\""
   ]
  },
  {
   "cell_type": "code",
   "execution_count": 34,
   "id": "0c6b3359-4cc6-4eb5-a15f-ed1be0b97aa0",
   "metadata": {},
   "outputs": [],
   "source": [
    "tempname memhold\n",
    "postfile `memhold' str20 var prev sens spec ppv npv roc using \"validity.dta\",replace\n",
    "\n",
    "quietly diagt diag test\n",
    "local prev=r(prev)\n",
    "local sens=r(sens)\n",
    "local spec=r(spec)\n",
    "local ppv=r(ppv)\n",
    "local npv=r(npv)\n",
    "local roc=r(roc)\n",
    "post `memhold' (\"all\") (`prev') (`sens') (`spec') (`ppv') (`npv') (`roc') \n",
    "\n",
    "quietly diagt diag test if sex==1\n",
    "local prev=r(prev)\n",
    "local sens=r(sens)\n",
    "local spec=r(spec)\n",
    "local ppv=r(ppv)\n",
    "local npv=r(npv)\n",
    "local roc=r(roc)\n",
    "post `memhold' (\"Male\") (`prev') (`sens') (`spec') (`ppv') (`npv') (`roc') \n",
    "\n",
    "quietly diagt diag test if sex==0\n",
    "local prev=r(prev)\n",
    "local sens=r(sens)\n",
    "local spec=r(spec)\n",
    "local ppv=r(ppv)\n",
    "local npv=r(npv)\n",
    "local roc=r(roc)\n",
    "post `memhold' (\"Female\") (`prev') (`sens') (`spec') (`ppv') (`npv') (`roc') \n",
    "\n",
    "quietly diagt diag test if agecat==16\n",
    "local prev=r(prev)\n",
    "local sens=r(sens)\n",
    "local spec=r(spec)\n",
    "local ppv=r(ppv)\n",
    "local npv=r(npv)\n",
    "local roc=r(roc)\n",
    "post `memhold' (\"Age young\") (`prev') (`sens') (`spec') (`ppv') (`npv') (`roc') \n",
    "\n",
    "quietly diagt diag test if agecat==30\n",
    "local prev=r(prev)\n",
    "local sens=r(sens)\n",
    "local spec=r(spec)\n",
    "local ppv=r(ppv)\n",
    "local npv=r(npv)\n",
    "local roc=r(roc)\n",
    "post `memhold' (\"Age middle\") (`prev') (`sens') (`spec') (`ppv') (`npv') (`roc') \n",
    "\n",
    "quietly diagt diag test if agecat==70\n",
    "local prev=r(prev)\n",
    "local sens=r(sens)\n",
    "local spec=r(spec)\n",
    "local ppv=r(ppv)\n",
    "local npv=r(npv)\n",
    "local roc=r(roc)\n",
    "post `memhold' (\"Age elderly\") (`prev') (`sens') (`spec') (`ppv') (`npv') (`roc') \n",
    "\n",
    "\n",
    "quietly diagt diag test if yearcat==2004\n",
    "local prev=r(prev)\n",
    "local sens=r(sens)\n",
    "local spec=r(spec)\n",
    "local ppv=r(ppv)\n",
    "local npv=r(npv)\n",
    "local roc=r(roc)\n",
    "post `memhold' (\"Year 2004-2009\") (`prev') (`sens') (`spec') (`ppv') (`npv') (`roc') \n",
    "\n",
    "quietly diagt diag test if yearcat==2010\n",
    "local prev=r(prev)\n",
    "local sens=r(sens)\n",
    "local spec=r(spec)\n",
    "local ppv=r(ppv)\n",
    "local npv=r(npv)\n",
    "local roc=r(roc)\n",
    "post `memhold' (\"Year 2010-2015\") (`prev') (`sens') (`spec') (`ppv') (`npv') (`roc')\n",
    "\n",
    "quietly diagt diag test if yearcat==2016\n",
    "local prev=r(prev)\n",
    "local sens=r(sens)\n",
    "local spec=r(spec)\n",
    "local ppv=r(ppv)\n",
    "local npv=r(npv)\n",
    "local roc=r(roc)\n",
    "post `memhold' (\"Year 2016-2020\") (`prev') (`sens') (`spec') (`ppv') (`npv') (`roc') \n",
    "\n",
    "\n",
    "quietly diagt diag test if imdcat==0\n",
    "local prev=r(prev)\n",
    "local sens=r(sens)\n",
    "local spec=r(spec)\n",
    "local ppv=r(ppv)\n",
    "local npv=r(npv)\n",
    "local roc=r(roc)\n",
    "post `memhold' (\"IMD 1,3\") (`prev') (`sens') (`spec') (`ppv') (`npv') (`roc') \n",
    "\n",
    "quietly diagt diag test if imdcat==4\n",
    "local prev=r(prev)\n",
    "local sens=r(sens)\n",
    "local spec=r(spec)\n",
    "local ppv=r(ppv)\n",
    "local npv=r(npv)\n",
    "local roc=r(roc)\n",
    "post `memhold' (\"IMD 4,7\") (`prev') (`sens') (`spec') (`ppv') (`npv') (`roc') \n",
    "\n",
    "quietly diagt diag test if imdcat==8\n",
    "local prev=r(prev)\n",
    "local sens=r(sens)\n",
    "local spec=r(spec)\n",
    "local ppv=r(ppv)\n",
    "local npv=r(npv)\n",
    "local roc=r(roc)\n",
    "post `memhold' (\"IMD 8,10\") (`prev') (`sens') (`spec') (`ppv') (`npv') (`roc') \n",
    "\n",
    "\n",
    "quietly diagt diag test if regexm(region_name,\"LONDON\")==1\n",
    "local prev=r(prev)\n",
    "local sens=r(sens)\n",
    "local spec=r(spec)\n",
    "local ppv=r(ppv)\n",
    "local npv=r(npv)\n",
    "local roc=r(roc)\n",
    "post `memhold' (\"London\") (`prev') (`sens') (`spec') (`ppv') (`npv') (`roc') \n",
    "\n",
    "quietly diagt diag test if regexm(region_name,\"MID\")==1\n",
    "local prev=r(prev)\n",
    "local sens=r(sens)\n",
    "local spec=r(spec)\n",
    "local ppv=r(ppv)\n",
    "local npv=r(npv)\n",
    "local roc=r(roc)\n",
    "post `memhold' (\"Midlands\") (`prev') (`sens') (`spec') (`ppv') (`npv') (`roc') \n",
    "\n",
    "quietly diagt diag test if regexm(region_name,\"YORK\")==1\n",
    "local prev=r(prev)\n",
    "local sens=r(sens)\n",
    "local spec=r(spec)\n",
    "local ppv=r(ppv)\n",
    "local npv=r(npv)\n",
    "local roc=r(roc)\n",
    "post `memhold' (\"Yorkshire\") (`prev') (`sens') (`spec') (`ppv') (`npv') (`roc') \n",
    "\n",
    "quietly diagt diag test if regexm(region_name,\"NORTH\")==1 & regexm(region_name,\"WEST\")==1\n",
    "local prev=r(prev)\n",
    "local sens=r(sens)\n",
    "local spec=r(spec)\n",
    "local ppv=r(ppv)\n",
    "local npv=r(npv)\n",
    "local roc=r(roc)\n",
    "post `memhold' (\"North West\") (`prev') (`sens') (`spec') (`ppv') (`npv') (`roc') \n",
    "\n",
    "quietly diagt diag test if regexm(region_name,\"SOUTH\")==1 & regexm(region_name,\"EAST\")==1\n",
    "local prev=r(prev)\n",
    "local sens=r(sens)\n",
    "local spec=r(spec)\n",
    "local ppv=r(ppv)\n",
    "local npv=r(npv)\n",
    "local roc=r(roc)\n",
    "post `memhold' (\"South East\") (`prev') (`sens') (`spec') (`ppv') (`npv') (`roc') \n",
    "\n",
    "quietly diagt diag test if regexm(region_name,\"SOUTH\")==1 & regexm(region_name,\"WEST\")==1\n",
    "local prev=r(prev)\n",
    "local sens=r(sens)\n",
    "local spec=r(spec)\n",
    "local ppv=r(ppv)\n",
    "local npv=r(npv)\n",
    "local roc=r(roc)\n",
    "post `memhold' (\"South West\") (`prev') (`sens') (`spec') (`ppv') (`npv') (`roc') \n",
    "\n",
    "quietly diagt diag test if regexm(system,\"One\")==1\n",
    "local prev=r(prev)\n",
    "local sens=r(sens)\n",
    "local spec=r(spec)\n",
    "local ppv=r(ppv)\n",
    "local npv=r(npv)\n",
    "local roc=r(roc)\n",
    "post `memhold' (\"SystemOne\") (`prev') (`sens') (`spec') (`ppv') (`npv') (`roc') \n",
    "\n",
    "quietly diagt diag test if regexm(system,\"Vision\")==1\n",
    "local prev=r(prev)\n",
    "local sens=r(sens)\n",
    "local spec=r(spec)\n",
    "local ppv=r(ppv)\n",
    "local npv=r(npv)\n",
    "local roc=r(roc)\n",
    "post `memhold' (\"Vision\") (`prev') (`sens') (`spec') (`ppv') (`npv') (`roc') \n",
    "\n",
    "quietly diagt diag test if regexm(ustrupper(system),\"EMIS\")==1\n",
    "local prev=r(prev)\n",
    "local sens=r(sens)\n",
    "local spec=r(spec)\n",
    "local ppv=r(ppv)\n",
    "local npv=r(npv)\n",
    "local roc=r(roc)\n",
    "post `memhold' (\"EMIS\") (`prev') (`sens') (`spec') (`ppv') (`npv') (`roc') \n",
    "\n",
    "quietly diagt diag test if RA_index==1\n",
    "local prev=r(prev)\n",
    "local sens=r(sens)\n",
    "local spec=r(spec)\n",
    "local ppv=r(ppv)\n",
    "local npv=r(npv)\n",
    "local roc=r(roc)\n",
    "post `memhold' (\"RAIndex1\") (`prev') (`sens') (`spec') (`ppv') (`npv') (`roc') \n",
    "\n",
    "quietly diagt diag test if RA_index==0\n",
    "local prev=r(prev)\n",
    "local sens=r(sens)\n",
    "local spec=r(spec)\n",
    "local ppv=r(ppv)\n",
    "local npv=r(npv)\n",
    "local roc=r(roc)\n",
    "post `memhold' (\"RAIndex0\") (`prev') (`sens') (`spec') (`ppv') (`npv') (`roc') \n",
    "\n",
    "quietly diagt diag test if ethnicity==\"0white\"\n",
    "local prev=r(prev)\n",
    "local sens=r(sens)\n",
    "local spec=r(spec)\n",
    "local ppv=r(ppv)\n",
    "local npv=r(npv)\n",
    "local roc=r(roc)\n",
    "post `memhold' (\"Ethnicity_0white\") (`prev') (`sens') (`spec') (`ppv') (`npv') (`roc') \n",
    "\n",
    "quietly diagt diag test if ethnicity==\"Other\"\n",
    "local prev=r(prev)\n",
    "local sens=r(sens)\n",
    "local spec=r(spec)\n",
    "local ppv=r(ppv)\n",
    "local npv=r(npv)\n",
    "local roc=r(roc)\n",
    "post `memhold' (\"Ethnicity_Other\") (`prev') (`sens') (`spec') (`ppv') (`npv') (`roc') \n",
    "\n",
    "\n",
    "\n",
    "quietly diagt diag test if ethnicity==\"Missing\"\n",
    "local prev=r(prev)\n",
    "local sens=r(sens)\n",
    "local spec=r(spec)\n",
    "local ppv=r(ppv)\n",
    "local npv=r(npv)\n",
    "local roc=r(roc)\n",
    "post `memhold' (\"Ethnicity_Missing\") (`prev') (`sens') (`spec') (`ppv') (`npv') (`roc') \n",
    "\n",
    "postclose `memhold'"
   ]
  },
  {
   "cell_type": "markdown",
   "id": "b350c4fb-deb8-450a-9750-689dc3a8268e",
   "metadata": {},
   "source": [
    "### Logistic Regression\n",
    "#### PPV"
   ]
  },
  {
   "cell_type": "code",
   "execution_count": 35,
   "id": "a21415d9",
   "metadata": {},
   "outputs": [
    {
     "name": "stdout",
     "output_type": "stream",
     "text": [
      "(2,589 observations deleted)\n",
      "(9 observations deleted)\n"
     ]
    }
   ],
   "source": [
    "drop if missing(imdcat)\n",
    "drop if missing(sex)"
   ]
  },
  {
   "cell_type": "code",
   "execution_count": 36,
   "id": "ad17f02e-1d4b-48ec-8a48-1c137597db1a",
   "metadata": {},
   "outputs": [
    {
     "name": "stdout",
     "output_type": "stream",
     "text": [
      "\n",
      "Logistic regression                                    Number of obs =  51,674\n",
      "                                                       LR chi2(0)    =   -0.00\n",
      "                                                       Prob > chi2   =       .\n",
      "Log likelihood = -25633.309                            Pseudo R2     = -0.0000\n",
      "\n",
      "------------------------------------------------------------------------------\n",
      "    diag_pos |       Odds   Std. err.      z    P>|z|     [95% conf. interval]\n",
      "-------------+----------------------------------------------------------------\n",
      "       _cons |   .2451566   .0027121  -127.08   0.000     .2398982    .2505303\n",
      "------------------------------------------------------------------------------\n"
     ]
    }
   ],
   "source": [
    "logistic diag_pos if test==1"
   ]
  },
  {
   "cell_type": "code",
   "execution_count": 37,
   "id": "b4bb2be2-7e3e-402c-aa81-7b7dfd706f64",
   "metadata": {},
   "outputs": [
    {
     "name": "stdout",
     "output_type": "stream",
     "text": [
      "note: 2.bnf_code_values != 0 predicts failure perfectly;\n",
      "      2.bnf_code_values omitted and 2 obs not used.\n",
      "\n",
      "\n",
      "Logistic regression                                    Number of obs =  51,672\n",
      "                                                       LR chi2(6)    = 4665.64\n",
      "                                                       Prob > chi2   =  0.0000\n",
      "Log likelihood = -23300.051                            Pseudo R2     =  0.0910\n",
      "\n",
      "------------------------------------------------------------------------------------------------\n",
      "                      diag_pos | Odds ratio   Std. err.      z    P>|z|     [95% conf. interval]\n",
      "-------------------------------+----------------------------------------------------------------\n",
      "               bnf_code_values |\n",
      "                       100103  |          1  (empty)\n",
      "       Adrenoreceptor agonist  |   1.610677     .06477    11.85   0.000     1.488604    1.742761\n",
      "Antimuscarinic Bronchodilator  |   18.73678   1.017037    53.99   0.000      16.8458    20.84003\n",
      "      Compound bronchodilator  |   12.89805   1.078599    30.58   0.000     10.94819    15.19518\n",
      "              Corticosteroids  |   1.883105   .0790508    15.08   0.000     1.734371    2.044594\n",
      "                Other/unknown  |   1.236152   .2004039     1.31   0.191     .8996544    1.698509\n",
      "                 Theophylline  |   6.634982   .9678517    12.97   0.000     4.985102    8.830909\n",
      "                               |\n",
      "                         _cons |   .1200395   .0043574   -58.40   0.000     .1117958    .1288911\n",
      "------------------------------------------------------------------------------------------------\n",
      "Note: _cons estimates baseline odds.\n"
     ]
    }
   ],
   "source": [
    "logistic diag_pos i.bnf_code_values if test==1"
   ]
  },
  {
   "cell_type": "code",
   "execution_count": 38,
   "id": "49e40858",
   "metadata": {},
   "outputs": [
    {
     "name": "stdout",
     "output_type": "stream",
     "text": [
      "\n",
      "Fitting fixed-effects model:\n",
      "\n",
      "Iteration 0:  Log likelihood = -23005.102  \n",
      "Iteration 1:  Log likelihood = -22383.923  \n",
      "Iteration 2:  Log likelihood = -22294.912  \n",
      "Iteration 3:  Log likelihood = -22287.339  \n",
      "Iteration 4:  Log likelihood = -22287.234  \n",
      "Iteration 5:  Log likelihood = -22287.234  \n",
      "\n",
      "Refining starting values:\n",
      "\n",
      "Grid node 0:  Log likelihood = -22340.706\n",
      "\n",
      "Fitting full model:\n",
      "\n",
      "Iteration 0:  Log likelihood = -22340.706  (not concave)\n",
      "Iteration 1:  Log likelihood = -22270.794  (not concave)\n",
      "Iteration 2:  Log likelihood = -22202.966  (not concave)\n",
      "Iteration 3:  Log likelihood =  -22180.63  \n",
      "Iteration 4:  Log likelihood =  -22177.69  \n",
      "Iteration 5:  Log likelihood = -22177.669  \n",
      "Iteration 6:  Log likelihood = -22177.669  \n",
      "\n",
      "Mixed-effects logistic regression               Number of obs     =     51,514\n",
      "Group variable: practice_id                     Number of groups  =        329\n",
      "\n",
      "                                                Obs per group:\n",
      "                                                              min =          1\n",
      "                                                              avg =      156.6\n",
      "                                                              max =      1,512\n",
      "\n",
      "Integration method: mvaghermite                 Integration pts.  =          7\n",
      "\n",
      "                                                Wald chi2(18)     =    2877.67\n",
      "Log likelihood = -22177.669                     Prob > chi2       =     0.0000\n",
      "----------------------------------------------------------------------------------------------------------------\n",
      "                                       newdiag | Odds ratio   Std. err.      z    P>|z|     [95% conf. interval]\n",
      "-----------------------------------------------+----------------------------------------------------------------\n",
      "                                   1.sex_coded |   1.753058   .0416379    23.63   0.000     1.673319    1.836596\n",
      "                                               |\n",
      "                                       yearcat |\n",
      "                                    2010-2015  |   1.231445   .0357706     7.17   0.000     1.163294    1.303588\n",
      "                                    2016-2020  |   1.219232   .0388802     6.22   0.000     1.145361    1.297867\n",
      "                                               |\n",
      "                                        agecat |\n",
      "                                      0Middle  |   75.64086   16.99781    19.25   0.000     48.69415    117.4995\n",
      "                                      Elderly  |   198.0204   44.50306    23.53   0.000     127.4709    307.6159\n",
      "                                               |\n",
      "                                        region |\n",
      "                  LONDON COMMISSIONING REGION  |    1.10871   .1604927     0.71   0.476     .8348364     1.47243\n",
      "                MIDLANDS COMMISSIONING REGION  |   1.190926   .0812924     2.56   0.010     1.041795    1.361406\n",
      "NORTH EAST AND YORKSHIRE COMMISSIONING REGION  |    1.37268   .1020283     4.26   0.000     1.186592    1.587951\n",
      "              NORTH WEST COMMISSIONING REGION  |   1.326487   .1125087     3.33   0.001     1.123328    1.566388\n",
      "              SOUTH EAST COMMISSIONING REGION  |   1.021714   .0739944     0.30   0.767     .8865106    1.177538\n",
      "              SOUTH WEST COMMISSIONING REGION  |   1.154226   .0974548     1.70   0.089      .978186    1.361948\n",
      "                                     Scotland  |   1.036261   .1609999     0.23   0.819      .764225    1.405132\n",
      "                                        Wales  |   1.505569   .3388004     1.82   0.069     .9686201    2.340172\n",
      "                                               |\n",
      "                                      RA_index |   1.068655   .0565424     1.25   0.209     .9633867    1.185426\n",
      "                                               |\n",
      "                                        ethnic |\n",
      "                                      Missing  |   .7665769   .0259532    -7.85   0.000     .7173605    .8191698\n",
      "                                        Other  |   .2829845   .0209377   -17.06   0.000     .2447841    .3271462\n",
      "                                               |\n",
      "                                        imdcat |\n",
      "                                          4-7  |   .8208945    .044465    -3.64   0.000     .7382113    .9128385\n",
      "                                         8-10  |   .8007267   .0471959    -3.77   0.000     .7133676     .898784\n",
      "                                               |\n",
      "                                         _cons |   .0017183   .0003991   -27.41   0.000     .0010899    .0027089\n",
      "-----------------------------------------------+----------------------------------------------------------------\n",
      "practice_id                                    |\n",
      "                                     var(_cons)|   .0670294   .0106193                      .0491373    .0914363\n",
      "----------------------------------------------------------------------------------------------------------------\n",
      "Note: Estimates are transformed only in the first equation to odds ratios.\n",
      "Note: _cons estimates baseline odds (conditional on zero random effects).\n",
      "LR test vs. logistic model: chibar2(01) = 219.13      Prob >= chibar2 = 0.0000\n"
     ]
    }
   ],
   "source": [
    "gen newdiag=diag_pos\n",
    "\n",
    "melogit newdiag i.sex i.yearcat i.agecat  i.region RA_index i.ethnic i.imdcat if test==1 || practice_id:,or\n",
    "estimates store model1"
   ]
  },
  {
   "cell_type": "markdown",
   "id": "1fb85b5e",
   "metadata": {},
   "source": [
    "##### Likelihood ratio tests"
   ]
  },
  {
   "cell_type": "code",
   "execution_count": 39,
   "id": "718b2ba3-f1ac-41c9-af92-e0cb45d55985",
   "metadata": {},
   "outputs": [],
   "source": [
    "\n",
    "\n",
    "quietly: melogit newdiag i.sex i.yearcat i.agecat  i.region RA_index i.ethnic if test==1 || practice_id:,or\n",
    "estimates store model_imd\n",
    "\n",
    "quietly:melogit newdiag i.sex i.yearcat i.agecat  i.region RA_index i.imdcat if test==1 || practice_id:,or\n",
    "estimates store model_ethnicity\n",
    "\n",
    "quietly:melogit newdiag i.yearcat i.agecat  i.region RA_index i.ethnic i.imdcat if test==1 || practice_id:,or\n",
    "estimates store model_sex\n",
    "\n",
    "quietly:melogit newdiag i.sex i.agecat  i.region RA_index i.ethnic i.imdcat if test==1 || practice_id:,or\n",
    "estimates store model_year\n",
    "\n",
    "quietly: melogit newdiag i.sex i.yearcat  i.region RA_index i.ethnic i.imdcat if test==1 || practice_id:,or\n",
    "estimates store model_age\n",
    "\n"
   ]
  },
  {
   "cell_type": "code",
   "execution_count": 40,
   "id": "31887f9d",
   "metadata": {},
   "outputs": [
    {
     "name": "stdout",
     "output_type": "stream",
     "text": [
      "\n",
      "Likelihood-ratio test\n",
      "Assumption: model_sex nested within model1\n",
      "\n",
      " LR chi2(1) = 563.44\n",
      "Prob > chi2 = 0.0000\n",
      "\n",
      "Likelihood-ratio test\n",
      "Assumption: model_year nested within model1\n",
      "\n",
      " LR chi2(2) =  60.56\n",
      "Prob > chi2 = 0.0000\n",
      "\n",
      "Likelihood-ratio test\n",
      "Assumption: model_age nested within model1\n",
      "\n",
      " LR chi2(2) = 4960.68\n",
      "Prob > chi2 =  0.0000\n",
      "\n",
      "Likelihood-ratio test\n",
      "Assumption: model_ethnic~y nested within model1\n",
      "\n",
      " LR chi2(2) = 408.16\n",
      "Prob > chi2 = 0.0000\n",
      "\n",
      "Likelihood-ratio test\n",
      "Assumption: model_imd nested within model1\n",
      "\n",
      " LR chi2(2) =  16.95\n",
      "Prob > chi2 = 0.0002\n"
     ]
    }
   ],
   "source": [
    "lrtest model1 model_sex\n",
    "lrtest model1 model_year\n",
    "lrtest model1 model_age\n",
    "lrtest model1 model_ethnicity\n",
    "lrtest model1 model_imd\n"
   ]
  },
  {
   "cell_type": "markdown",
   "id": "99227c99-0304-407b-a990-a06fe4bd4560",
   "metadata": {},
   "source": [
    "#### NPV"
   ]
  },
  {
   "cell_type": "code",
   "execution_count": 41,
   "id": "04c0103e-c424-49af-8973-09a13878ea3f",
   "metadata": {},
   "outputs": [
    {
     "name": "stdout",
     "output_type": "stream",
     "text": [
      "\n",
      "Logistic regression                                    Number of obs = 370,728\n",
      "                                                       LR chi2(0)    =    0.00\n",
      "                                                       Prob > chi2   =       .\n",
      "Log likelihood = -6057.8153                            Pseudo R2     =  0.0000\n",
      "\n",
      "------------------------------------------------------------------------------\n",
      "    diag_neg |       Odds   Std. err.      z    P>|z|     [95% conf. interval]\n",
      "-------------+----------------------------------------------------------------\n",
      "       _cons |   431.5881   14.75984   177.42   0.000     403.6076    461.5084\n",
      "------------------------------------------------------------------------------\n"
     ]
    }
   ],
   "source": [
    "logistic diag_neg if test==0"
   ]
  },
  {
   "cell_type": "code",
   "execution_count": 42,
   "id": "93a5b760",
   "metadata": {},
   "outputs": [
    {
     "name": "stdout",
     "output_type": "stream",
     "text": [
      "(422,402 real changes made)\n",
      "\n",
      "Fitting fixed-effects model:\n",
      "\n",
      "Iteration 0:  Log likelihood = -33534.233  \n",
      "Iteration 1:  Log likelihood = -6108.3324  \n",
      "Iteration 2:  Log likelihood = -5594.9281  \n",
      "Iteration 3:  Log likelihood = -5511.6772  \n",
      "Iteration 4:  Log likelihood = -5504.8742  \n",
      "Iteration 5:  Log likelihood = -5504.7575  \n",
      "Iteration 6:  Log likelihood = -5504.7575  \n",
      "\n",
      "Refining starting values:\n",
      "\n",
      "Grid node 0:  Log likelihood = -5498.2192\n",
      "\n",
      "Fitting full model:\n",
      "\n",
      "Iteration 0:  Log likelihood = -5498.2192  (not concave)\n",
      "Iteration 1:  Log likelihood = -5474.7719  \n",
      "Iteration 2:  Log likelihood = -5472.8838  \n",
      "Iteration 3:  Log likelihood = -5472.8692  \n",
      "Iteration 4:  Log likelihood = -5472.8692  \n",
      "\n",
      "Mixed-effects logistic regression               Number of obs     =    369,919\n",
      "Group variable: practice_id                     Number of groups  =        336\n",
      "\n",
      "                                                Obs per group:\n",
      "                                                              min =          1\n",
      "                                                              avg =    1,100.9\n",
      "                                                              max =      8,979\n",
      "\n",
      "Integration method: mvaghermite                 Integration pts.  =          7\n",
      "\n",
      "                                                Wald chi2(18)     =     694.85\n",
      "Log likelihood = -5472.8692                     Prob > chi2       =     0.0000\n",
      "----------------------------------------------------------------------------------------------------------------\n",
      "                                       newdiag | Odds ratio   Std. err.      z    P>|z|     [95% conf. interval]\n",
      "-----------------------------------------------+----------------------------------------------------------------\n",
      "                                   1.sex_coded |   .6162757   .0434372    -6.87   0.000     .5367591     .707572\n",
      "                                               |\n",
      "                                       yearcat |\n",
      "                                    2010-2015  |   .9488594   .0792857    -0.63   0.530       .80552    1.117706\n",
      "                                    2016-2020  |   .9924364   .0910561    -0.08   0.934     .8290961    1.187956\n",
      "                                               |\n",
      "                                        agecat |\n",
      "                                      0Middle  |   .0921272   .0229777    -9.56   0.000      .056505    .1502066\n",
      "                                      Elderly  |   .0211889   .0052734   -15.49   0.000     .0130097    .0345104\n",
      "                                               |\n",
      "                                        region |\n",
      "                  LONDON COMMISSIONING REGION  |   .8940222   .2891608    -0.35   0.729     .4742827     1.68523\n",
      "                MIDLANDS COMMISSIONING REGION  |   .8644936    .155443    -0.81   0.418     .6077274    1.229744\n",
      "NORTH EAST AND YORKSHIRE COMMISSIONING REGION  |   .8073477   .1510355    -1.14   0.253     .5595271    1.164931\n",
      "              NORTH WEST COMMISSIONING REGION  |   .9329218   .2067393    -0.31   0.754     .6042483    1.440373\n",
      "              SOUTH EAST COMMISSIONING REGION  |   .8391127   .1490264    -0.99   0.323     .5924435    1.188485\n",
      "              SOUTH WEST COMMISSIONING REGION  |   .7898971   .1679782    -1.11   0.267     .5206615    1.198355\n",
      "                                     Scotland  |   1.565772   .7925708     0.89   0.376      .580581    4.222739\n",
      "                                        Wales  |   .5332059   .2902307    -1.16   0.248     .1834743    1.549583\n",
      "                                               |\n",
      "                                      RA_index |   1.034549   .1442698     0.24   0.808      .787135     1.35973\n",
      "                                               |\n",
      "                                        ethnic |\n",
      "                                      Missing  |     2.1296   .2078751     7.74   0.000     1.758775    2.578611\n",
      "                                        Other  |   1.633664   .2627382     3.05   0.002     1.191972    2.239028\n",
      "                                               |\n",
      "                                        imdcat |\n",
      "                                          4-7  |   1.436612   .1985073     2.62   0.009     1.095779     1.88346\n",
      "                                         8-10  |   1.163108   .1705887     1.03   0.303     .8725247    1.550468\n",
      "                                               |\n",
      "                                         _cons |   7062.182   2060.475    30.38   0.000     3986.491    12510.85\n",
      "-----------------------------------------------+----------------------------------------------------------------\n",
      "practice_id                                    |\n",
      "                                     var(_cons)|   .2885141   .0647378                      .1858538    .4478811\n",
      "----------------------------------------------------------------------------------------------------------------\n",
      "Note: Estimates are transformed only in the first equation to odds ratios.\n",
      "Note: _cons estimates baseline odds (conditional on zero random effects).\n",
      "LR test vs. logistic model: chibar2(01) = 63.78       Prob >= chibar2 = 0.0000\n"
     ]
    }
   ],
   "source": [
    "/* need to use the same response variable (newdiag) to line up the two model results */\n",
    "replace newdiag=diag_neg \n",
    "\n",
    "melogit newdiag i.sex i.yearcat i.agecat i.region RA_index i.ethnic i.imdcat if test==0 || practice_id:,or\n",
    "estimates store model2"
   ]
  },
  {
   "cell_type": "markdown",
   "id": "60c60b7a",
   "metadata": {},
   "source": [
    "##### Likelihood ratio tests"
   ]
  },
  {
   "cell_type": "code",
   "execution_count": 43,
   "id": "c31bd1f1-c69b-4600-a1c0-bde311d67651",
   "metadata": {},
   "outputs": [],
   "source": [
    "\n",
    "quietly: melogit newdiag i.yearcat i.agecat i.region RA_index i.ethnic i.imdcat if test==0 || practice_id:,or\n",
    "estimates store model2_sex\n",
    "quietly: melogit newdiag i.sex i.agecat i.region RA_index i.ethnic i.imdcat if test==0 || practice_id:,or\n",
    "estimates store model2_year\n",
    "quietly: melogit newdiag i.sex i.yearcat i.region RA_index i.ethnic i.imdcat if test==0 || practice_id:,or\n",
    "estimates store model2_age\n",
    "quietly: melogit newdiag i.sex i.yearcat i.agecat i.region RA_index i.imdcat if test==0 || practice_id:,or\n",
    "estimates store model2_ethnicity\n",
    "quietly: melogit newdiag i.sex i.yearcat i.agecat i.region RA_index i.ethnic if test==0 || practice_id:,or\n",
    "estimates store model2_imd\n"
   ]
  },
  {
   "cell_type": "code",
   "execution_count": 44,
   "id": "95d03409",
   "metadata": {},
   "outputs": [
    {
     "name": "stdout",
     "output_type": "stream",
     "text": [
      "\n",
      "Likelihood-ratio test\n",
      "Assumption: model2_sex nested within model2\n",
      "\n",
      " LR chi2(1) =  48.07\n",
      "Prob > chi2 = 0.0000\n",
      "\n",
      "Likelihood-ratio test\n",
      "Assumption: model2_year nested within model2\n",
      "\n",
      " LR chi2(2) =   0.47\n",
      "Prob > chi2 = 0.7917\n",
      "\n",
      "Likelihood-ratio test\n",
      "Assumption: model2_age nested within model2\n",
      "\n",
      " LR chi2(2) = 812.66\n",
      "Prob > chi2 = 0.0000\n",
      "\n",
      "Likelihood-ratio test\n",
      "Assumption: model2_ethni~y nested within model2\n",
      "\n",
      " LR chi2(2) =  71.67\n",
      "Prob > chi2 = 0.0000\n",
      "\n",
      "Likelihood-ratio test\n",
      "Assumption: model2_imd nested within model2\n",
      "\n",
      " LR chi2(2) =   7.04\n",
      "Prob > chi2 = 0.0297\n"
     ]
    }
   ],
   "source": [
    "lrtest model2 model2_sex\n",
    "lrtest model2 model2_year\n",
    "lrtest model2 model2_age\n",
    "lrtest model2 model2_ethnicity\n",
    "lrtest model2 model2_imd\n"
   ]
  },
  {
   "cell_type": "code",
   "execution_count": 45,
   "id": "017939f5-75b7-4ee0-9f7b-3105e0d2bfe1",
   "metadata": {},
   "outputs": [
    {
     "name": "stdout",
     "output_type": "stream",
     "text": [
      "\n",
      "Table 2. PPV (1) and NPV (2), OR, Random effect\n",
      "--------------------------------------------------------------------\n",
      "                                                    1          2    \n",
      "--------------------------------------------------------------------\n",
      "sex_coded                                                           \n",
      "  1                                               1.75 **    0.62 **\n",
      "yearcat                                                             \n",
      "  2010-2015                                       1.23 **    0.95   \n",
      "  2016-2020                                       1.22 **    0.99   \n",
      "agecat                                                              \n",
      "  0Middle                                        75.64 **    0.09 **\n",
      "  Elderly                                       198.02 **    0.02 **\n",
      "region                                                              \n",
      "  LONDON COMMISSIONING REGION                     1.11       0.89   \n",
      "  MIDLANDS COMMISSIONING REGION                   1.19 *     0.86   \n",
      "  NORTH EAST AND YORKSHIRE COMMISSIONING REGION   1.37 **    0.81   \n",
      "  NORTH WEST COMMISSIONING REGION                 1.33 **    0.93   \n",
      "  SOUTH EAST COMMISSIONING REGION                 1.02       0.84   \n",
      "  SOUTH WEST COMMISSIONING REGION                 1.15       0.79   \n",
      "  Scotland                                        1.04       1.57   \n",
      "  Wales                                           1.51       0.53   \n",
      "RA_index                                          1.07       1.03   \n",
      "ethnic                                                              \n",
      "  Missing                                         0.77 **    2.13 **\n",
      "  Other                                           0.28 **    1.63 **\n",
      "imdcat                                                              \n",
      "  4-7                                             0.82 **    1.44 **\n",
      "  8-10                                            0.80 **    1.16   \n",
      "Intercept                                         0.00 ** 7062.18 **\n",
      "var(_cons[practice_id])                           0.07       0.29   \n",
      "Number of observations                           51514     369919   \n",
      "--------------------------------------------------------------------\n",
      "** p<.01, * p<.05\n"
     ]
    }
   ],
   "source": [
    "etable, estimates(model1 model2) showstars showstarsnote title(\"Table 2. PPV (1) and NPV (2),  OR, Random effect\") cstat(_r_b,nformat(%6.2f)) column(index) /* not added to the data set */"
   ]
  },
  {
   "cell_type": "markdown",
   "id": "e7e9a417",
   "metadata": {},
   "source": [
    "### Summary of validation parameters"
   ]
  },
  {
   "cell_type": "code",
   "execution_count": 46,
   "id": "e27d82a4-8d2d-4529-8a15-ae4baabfa28c",
   "metadata": {},
   "outputs": [
    {
     "name": "stdout",
     "output_type": "stream",
     "text": [
      "(26 real changes made)\n",
      "(26 real changes made)\n",
      "(26 real changes made)\n",
      "(26 real changes made)\n",
      "(26 real changes made)\n",
      "(26 real changes made)\n"
     ]
    }
   ],
   "source": [
    "use validity.dta, clear\n",
    "replace prev=round(prev, 0.1)\n",
    "gen prev_a=round(((prev/100)*((sens/100)+(spec/100)-1)+1-(spec/100))*100,0.1)/*apparent prevalence*/\n",
    "replace sens=round(sens, 0.1)\n",
    "replace spec=round(spec,0.1)\n",
    "replace ppv=round(ppv, 0.1)\n",
    "replace npv=round(npv, 0.1)\n",
    "replace roc=round(roc, 0.01)\n"
   ]
  },
  {
   "cell_type": "code",
   "execution_count": 47,
   "id": "8129bfb3-cd21-4077-a785-9a74a846c65b",
   "metadata": {},
   "outputs": [
    {
     "data": {
      "text/html": [
       "<div>\n",
       "<style scoped>\n",
       "    .dataframe tbody tr th:only-of-type {\n",
       "        vertical-align: middle;\n",
       "    }\n",
       "\n",
       "    .dataframe tbody tr th {\n",
       "        vertical-align: top;\n",
       "    }\n",
       "\n",
       "    .dataframe thead th {\n",
       "        text-align: right;\n",
       "    }\n",
       "</style>\n",
       "<table border=\"1\" class=\"dataframe\">\n",
       "  <thead>\n",
       "    <tr style=\"text-align: right;\">\n",
       "      <th></th>\n",
       "      <th>var</th>\n",
       "      <th>prev</th>\n",
       "      <th>sens</th>\n",
       "      <th>spec</th>\n",
       "      <th>ppv</th>\n",
       "      <th>npv</th>\n",
       "      <th>roc</th>\n",
       "      <th>prev_a</th>\n",
       "    </tr>\n",
       "  </thead>\n",
       "  <tbody>\n",
       "    <tr>\n",
       "      <th>1</th>\n",
       "      <td>all</td>\n",
       "      <td>2.6</td>\n",
       "      <td>92.2</td>\n",
       "      <td>89.9</td>\n",
       "      <td>19.7</td>\n",
       "      <td>99.8</td>\n",
       "      <td>.91</td>\n",
       "      <td>12.2</td>\n",
       "    </tr>\n",
       "    <tr>\n",
       "      <th>2</th>\n",
       "      <td>Male</td>\n",
       "      <td>2.9</td>\n",
       "      <td>91.6</td>\n",
       "      <td>91.4</td>\n",
       "      <td>24.2</td>\n",
       "      <td>99.7</td>\n",
       "      <td>.92</td>\n",
       "      <td>11</td>\n",
       "    </tr>\n",
       "    <tr>\n",
       "      <th>3</th>\n",
       "      <td>Female</td>\n",
       "      <td>2.3</td>\n",
       "      <td>93</td>\n",
       "      <td>88.5</td>\n",
       "      <td>16.1</td>\n",
       "      <td>99.8</td>\n",
       "      <td>.91</td>\n",
       "      <td>13.4</td>\n",
       "    </tr>\n",
       "    <tr>\n",
       "      <th>4</th>\n",
       "      <td>Age young</td>\n",
       "      <td>0</td>\n",
       "      <td>54.1</td>\n",
       "      <td>93.2</td>\n",
       "      <td>.2</td>\n",
       "      <td>100</td>\n",
       "      <td>.74</td>\n",
       "      <td>6.8</td>\n",
       "    </tr>\n",
       "    <tr>\n",
       "      <th>5</th>\n",
       "      <td>Age middle</td>\n",
       "      <td>2.1</td>\n",
       "      <td>92.4</td>\n",
       "      <td>90</td>\n",
       "      <td>16.6</td>\n",
       "      <td>99.8</td>\n",
       "      <td>.91</td>\n",
       "      <td>11.7</td>\n",
       "    </tr>\n",
       "    <tr>\n",
       "      <th>6</th>\n",
       "      <td>Age elderly</td>\n",
       "      <td>7.4</td>\n",
       "      <td>92.3</td>\n",
       "      <td>85</td>\n",
       "      <td>32.9</td>\n",
       "      <td>99.3</td>\n",
       "      <td>.89</td>\n",
       "      <td>20.8</td>\n",
       "    </tr>\n",
       "    <tr>\n",
       "      <th>7</th>\n",
       "      <td>Year 2004-2009</td>\n",
       "      <td>2.6</td>\n",
       "      <td>92.1</td>\n",
       "      <td>89.2</td>\n",
       "      <td>18.4</td>\n",
       "      <td>99.8</td>\n",
       "      <td>.91</td>\n",
       "      <td>12.9</td>\n",
       "    </tr>\n",
       "    <tr>\n",
       "      <th>8</th>\n",
       "      <td>Year 2010-2015</td>\n",
       "      <td>2.7</td>\n",
       "      <td>92.3</td>\n",
       "      <td>90.1</td>\n",
       "      <td>20.7</td>\n",
       "      <td>99.8</td>\n",
       "      <td>.91</td>\n",
       "      <td>12.2</td>\n",
       "    </tr>\n",
       "    <tr>\n",
       "      <th>9</th>\n",
       "      <td>Year 2016-2020</td>\n",
       "      <td>2.5</td>\n",
       "      <td>92.3</td>\n",
       "      <td>90.6</td>\n",
       "      <td>20</td>\n",
       "      <td>99.8</td>\n",
       "      <td>.91</td>\n",
       "      <td>11.4</td>\n",
       "    </tr>\n",
       "    <tr>\n",
       "      <th>10</th>\n",
       "      <td>IMD 1,3</td>\n",
       "      <td>2.8</td>\n",
       "      <td>92.5</td>\n",
       "      <td>90.4</td>\n",
       "      <td>21.9</td>\n",
       "      <td>99.8</td>\n",
       "      <td>.91</td>\n",
       "      <td>12</td>\n",
       "    </tr>\n",
       "    <tr>\n",
       "      <th>11</th>\n",
       "      <td>IMD 4,7</td>\n",
       "      <td>2.6</td>\n",
       "      <td>93.1</td>\n",
       "      <td>89.3</td>\n",
       "      <td>19.1</td>\n",
       "      <td>99.8</td>\n",
       "      <td>.91</td>\n",
       "      <td>12.9</td>\n",
       "    </tr>\n",
       "    <tr>\n",
       "      <th>12</th>\n",
       "      <td>IMD 8,10</td>\n",
       "      <td>2.3</td>\n",
       "      <td>90.8</td>\n",
       "      <td>90.1</td>\n",
       "      <td>17.7</td>\n",
       "      <td>99.8</td>\n",
       "      <td>.9</td>\n",
       "      <td>11.8</td>\n",
       "    </tr>\n",
       "    <tr>\n",
       "      <th>13</th>\n",
       "      <td>London</td>\n",
       "      <td>1.2</td>\n",
       "      <td>87.1</td>\n",
       "      <td>93.1</td>\n",
       "      <td>13.4</td>\n",
       "      <td>99.8</td>\n",
       "      <td>.9</td>\n",
       "      <td>7.9</td>\n",
       "    </tr>\n",
       "    <tr>\n",
       "      <th>14</th>\n",
       "      <td>Midlands</td>\n",
       "      <td>3.2</td>\n",
       "      <td>93</td>\n",
       "      <td>88.3</td>\n",
       "      <td>20.7</td>\n",
       "      <td>99.7</td>\n",
       "      <td>.91</td>\n",
       "      <td>14.3</td>\n",
       "    </tr>\n",
       "    <tr>\n",
       "      <th>15</th>\n",
       "      <td>Yorkshire</td>\n",
       "      <td>2.9</td>\n",
       "      <td>92.4</td>\n",
       "      <td>90.4</td>\n",
       "      <td>22.6</td>\n",
       "      <td>99.7</td>\n",
       "      <td>.91</td>\n",
       "      <td>12</td>\n",
       "    </tr>\n",
       "    <tr>\n",
       "      <th>16</th>\n",
       "      <td>North West</td>\n",
       "      <td>2.7</td>\n",
       "      <td>93.8</td>\n",
       "      <td>90.8</td>\n",
       "      <td>22</td>\n",
       "      <td>99.8</td>\n",
       "      <td>.92</td>\n",
       "      <td>11.5</td>\n",
       "    </tr>\n",
       "    <tr>\n",
       "      <th>17</th>\n",
       "      <td>South East</td>\n",
       "      <td>2.1</td>\n",
       "      <td>90.3</td>\n",
       "      <td>91</td>\n",
       "      <td>18</td>\n",
       "      <td>99.8</td>\n",
       "      <td>.91</td>\n",
       "      <td>10.7</td>\n",
       "    </tr>\n",
       "    <tr>\n",
       "      <th>18</th>\n",
       "      <td>South West</td>\n",
       "      <td>3</td>\n",
       "      <td>92.2</td>\n",
       "      <td>89</td>\n",
       "      <td>20.7</td>\n",
       "      <td>99.7</td>\n",
       "      <td>.91</td>\n",
       "      <td>13.4</td>\n",
       "    </tr>\n",
       "    <tr>\n",
       "      <th>19</th>\n",
       "      <td>SystemOne</td>\n",
       "      <td>2.8</td>\n",
       "      <td>93</td>\n",
       "      <td>89.3</td>\n",
       "      <td>20.2</td>\n",
       "      <td>99.8</td>\n",
       "      <td>.91</td>\n",
       "      <td>13</td>\n",
       "    </tr>\n",
       "    <tr>\n",
       "      <th>20</th>\n",
       "      <td>Vision</td>\n",
       "      <td>2.2</td>\n",
       "      <td>92.1</td>\n",
       "      <td>89.7</td>\n",
       "      <td>16.8</td>\n",
       "      <td>99.8</td>\n",
       "      <td>.91</td>\n",
       "      <td>12.1</td>\n",
       "    </tr>\n",
       "    <tr>\n",
       "      <th>21</th>\n",
       "      <td>EMIS</td>\n",
       "      <td>2.3</td>\n",
       "      <td>91.1</td>\n",
       "      <td>90.8</td>\n",
       "      <td>19.2</td>\n",
       "      <td>99.8</td>\n",
       "      <td>.91</td>\n",
       "      <td>11.1</td>\n",
       "    </tr>\n",
       "    <tr>\n",
       "      <th>22</th>\n",
       "      <td>RAIndex1</td>\n",
       "      <td>2.6</td>\n",
       "      <td>92</td>\n",
       "      <td>90.3</td>\n",
       "      <td>20.3</td>\n",
       "      <td>99.8</td>\n",
       "      <td>.91</td>\n",
       "      <td>11.8</td>\n",
       "    </tr>\n",
       "    <tr>\n",
       "      <th>23</th>\n",
       "      <td>RAIndex0</td>\n",
       "      <td>2.6</td>\n",
       "      <td>92.9</td>\n",
       "      <td>88.9</td>\n",
       "      <td>18</td>\n",
       "      <td>99.8</td>\n",
       "      <td>.91</td>\n",
       "      <td>13.3</td>\n",
       "    </tr>\n",
       "    <tr>\n",
       "      <th>24</th>\n",
       "      <td>Ethnicity_0white</td>\n",
       "      <td>3.4</td>\n",
       "      <td>92.6</td>\n",
       "      <td>88.3</td>\n",
       "      <td>21.8</td>\n",
       "      <td>99.7</td>\n",
       "      <td>.9</td>\n",
       "      <td>14.4</td>\n",
       "    </tr>\n",
       "    <tr>\n",
       "      <th>25</th>\n",
       "      <td>Ethnicity_Other</td>\n",
       "      <td>.7</td>\n",
       "      <td>83.9</td>\n",
       "      <td>92.5</td>\n",
       "      <td>7</td>\n",
       "      <td>99.9</td>\n",
       "      <td>.88</td>\n",
       "      <td>8</td>\n",
       "    </tr>\n",
       "    <tr>\n",
       "      <th>26</th>\n",
       "      <td>Ethnicity_Missing</td>\n",
       "      <td>1.6</td>\n",
       "      <td>92</td>\n",
       "      <td>92.4</td>\n",
       "      <td>16.6</td>\n",
       "      <td>99.9</td>\n",
       "      <td>.92</td>\n",
       "      <td>9</td>\n",
       "    </tr>\n",
       "  </tbody>\n",
       "</table>\n",
       "</div>"
      ]
     },
     "metadata": {},
     "output_type": "display_data"
    }
   ],
   "source": [
    "%head 50"
   ]
  },
  {
   "cell_type": "code",
   "execution_count": 48,
   "id": "47dc850c-f3c8-4b9c-8ba9-3620f31b4fa9",
   "metadata": {},
   "outputs": [],
   "source": [
    "/*texsave * using test3.tex, varlabels*/\n",
    "/* export excel using  validity2.xlsx, sheet(val_COPD, replace)*/\n",
    "/* not added to the data set */"
   ]
  }
 ],
 "metadata": {
  "kernelspec": {
   "display_name": "Stata (nbstata)",
   "language": "stata",
   "name": "nbstata"
  },
  "language_info": {
   "file_extension": ".do",
   "mimetype": "text/x-stata",
   "name": "stata",
   "version": "17"
  }
 },
 "nbformat": 4,
 "nbformat_minor": 5
}
