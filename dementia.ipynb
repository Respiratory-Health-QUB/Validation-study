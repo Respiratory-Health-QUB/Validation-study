{
 "cells": [
  {
   "cell_type": "markdown",
   "id": "13e469d7",
   "metadata": {},
   "source": [
    "# Validity of using prescription records to identify patient comorbidities\n",
    "## Combined Analysis of dementia"
   ]
  },
  {
   "cell_type": "markdown",
   "id": "a3d5caf8",
   "metadata": {},
   "source": [
    "**ReadMe:**\n",
    "- This is a script used in the analysis for Schnier et al., 2025: Validity of using prescription records to classify disease – a record linkage study using routinely collected electronic health records from the UK.\n",
    "- The underlying data set has been created using the Optimum Patient Care Research Database (https://opcrd.optimumpatientcare.org/). The authors do not have permission to give the public access to the study dataset; researchers may request access to OPCRD for their own purposes. \n",
    " - All code is run in StataSE 18. \n"
   ]
  },
  {
   "cell_type": "markdown",
   "id": "1cf02e3e-e834-469d-abf1-21c9ce29f756",
   "metadata": {},
   "source": [
    "**Set up:**\n",
    "|Var|Input|\n",
    "| --- | --- | \n",
    "|population|425,000|\n",
    "|diagnostic codes|HDRUK code list|\n",
    "|drug codes|bnf selection|\n",
    "|sql date|13.03.2025|\n",
    "|sql code|dementiaselection_202050313.sql| "
   ]
  },
  {
   "cell_type": "code",
   "execution_count": 1,
   "id": "2a759161-052f-4433-ab6c-0ad7ab9120e9",
   "metadata": {},
   "outputs": [
    {
     "data": {
      "text/html": [
       "<style>div.jp-Notebook .datagrid-container {min-height: 448px; }</style>"
      ],
      "text/plain": [
       "<IPython.core.display.HTML object>"
      ]
     },
     "metadata": {},
     "output_type": "display_data"
    }
   ],
   "source": [
    "    clear all"
   ]
  },
  {
   "cell_type": "markdown",
   "id": "5e9a592b-20c3-4eb6-b947-22979a02dcf0",
   "metadata": {},
   "source": [
    "### Import from SQL server and data wrangling"
   ]
  },
  {
   "cell_type": "code",
   "execution_count": 2,
   "id": "b5b5eb32-1b5c-44c2-901c-0e9d1a4e36d2",
   "metadata": {},
   "outputs": [],
   "source": [
    "odbc load, exec(\"select * from [dementia_425000_20250313]\") dsn(\"sqlserverconnect\")"
   ]
  },
  {
   "cell_type": "code",
   "execution_count": 3,
   "id": "0835f95f-a07b-4d29-b825-b3823bfad60e",
   "metadata": {
    "scrolled": true
   },
   "outputs": [
    {
     "name": "stdout",
     "output_type": "stream",
     "text": [
      "(4,923 missing values generated)\n",
      "(4,923 real changes made)\n",
      "(10,169 missing values generated)\n",
      "(10,169 real changes made)\n",
      "(2,589 missing values generated)\n",
      "variable bnf_code was str6 now str18\n",
      "(4,892 real changes made)\n",
      "(31 real changes made)\n",
      "variable ethnicity was str2 now str6\n",
      "(257,981 real changes made)\n",
      "(3,762 real changes made)\n",
      "(23,912 real changes made)\n",
      "(7,430 real changes made)\n",
      "(8,764 real changes made)\n",
      "variable ethnicity was str6 now str7\n",
      "(123,151 real changes made)\n",
      "(3,996 real changes made)\n"
     ]
    }
   ],
   "source": [
    "generate test=0 if missing(drug_dt)\n",
    "replace test=1 if ! missing(drug_dt)  \n",
    "\n",
    "generate diag=0 if missing(diag_dt)\n",
    "replace diag=1 if ! missing(diag_dt)  \n",
    "\n",
    "gen start_year=year(fu_start_dt)\n",
    "\n",
    "/* different age groups! */\n",
    "egen agecat = cut(age), at(0,70,90,120)\n",
    "label def agecat_lab 0 \"Young\" 70 \"0Middle\" 90 \"Elderly\" 120 \"weird\"\n",
    "label values agecat agecat_lab\n",
    "\n",
    "egen yearcat = cut(start_year), at(2004,2010,2016,2025)\n",
    "label def yearcat_lab 2004 \"2004-2009\" 2010 \"2010-2015\" 2016 \"2016-2020\" \n",
    "label values yearcat yearcat_lab\n",
    "\n",
    "egen imdcat = cut(imd_decile), at(0,4,8,11)\n",
    "label def imdcat_lab 0 \"1-3\" 4 \"4-7\" 8 \"8-10\" \n",
    "label values imdcat imdcat_lab\n",
    "\n",
    "replace bnf_code = \"Drugs for dementia\" if bnf_code== \"041100\"\n",
    "replace bnf_code = \"Other/unknown\" if missing(bnf_code) & ! missing(drug_dt)\n",
    "\n",
    "\n",
    "\n",
    "replace ethnicity=\"0white\" if ethnicity==\"1\"\n",
    "replace ethnicity=\"Other\" if ethnicity==\"2\"\n",
    "replace ethnicity=\"Other\" if ethnicity==\"3\"\n",
    "replace ethnicity=\"Other\" if ethnicity==\"4\"\n",
    "replace ethnicity=\"Other\" if ethnicity==\"5\"\n",
    "replace ethnicity=\"Missing\" if ethnicity==\"99\"\n",
    "\n",
    "\n",
    "encode bnf_code, generate(bnf_code_values) \n",
    "encode description, generate(description_values)\n",
    "encode ethnicity, generate(ethnicity_values) \n",
    "\n",
    "/* put Wales and missing into NORTH WEST */\n",
    "replace region_name = \"NORTH WEST COMMISSIONING REGION\" if strlen(region_name)<6\n",
    "\n",
    "gen diag_neg=diag==0\n",
    "gen diag_pos=diag==1\n",
    "encode region_name, generate(region) label(regionlbl)\n",
    "encode ethnicity, generate(ethnic)\n"
   ]
  },
  {
   "cell_type": "code",
   "execution_count": 4,
   "id": "4bb67b58-5460-4077-bd5d-6252a35d7c1e",
   "metadata": {},
   "outputs": [
    {
     "name": "stdout",
     "output_type": "stream",
     "text": [
      "(bin=19, start=16, width=5)\n"
     ]
    },
    {
     "data": {
      "image/png": "[encoded data removed]",
      "text/plain": [
       "<IPython.core.display.Image object>"
      ]
     },
     "metadata": {},
     "output_type": "display_data"
    }
   ],
   "source": [
    "histogram age, width(5)\n"
   ]
  },
  {
   "cell_type": "markdown",
   "id": "cfdd2c1f-86b9-4840-8106-662ce151f20e",
   "metadata": {},
   "source": [
    "This table holds one randomly selected diagnostic code found during the observation period. The table is truncated to only include diagnostic codes with a count of 10 or more."
   ]
  },
  {
   "cell_type": "code",
   "execution_count": 5,
   "id": "6544a018-204b-4fcb-b5ab-d9ec745e764f",
   "metadata": {},
   "outputs": [
    {
     "name": "stdout",
     "output_type": "stream",
     "text": [
      "\n",
      "  +---------------------------------------------------------------------------------------------------------------------------------\n",
      "> -------------------------+\n",
      "  | description                                                                                                                     \n",
      ">  Freq.   Percent     %<= |\n",
      "  |---------------------------------------------------------------------------------------------------------------------------------\n",
      "> -------------------------|\n",
      "  | Dementia                                                                                                                        \n",
      ">   1406     13.83   13.83 |\n",
      "  | Dementia care plan reviewed (situation)                                                                                         \n",
      ">   1145     11.26   25.09 |\n",
      "  | Alzheimer's disease                                                                                                             \n",
      ">   1138     11.19   36.28 |\n",
      "  | Vascular dementia (disorder)                                                                                                    \n",
      ">    748      7.36   43.63 |\n",
      "  | Alzheimer's disease                                                                                                         ..  \n",
      ">    566      5.57   49.20 |\n",
      "  |---------------------------------------------------------------------------------------------------------------------------------\n",
      "> -------------------------|\n",
      "  | Review of dementia advance care plan                                                                                            \n",
      ">    563      5.54   54.73 |\n",
      "  | Vascular dementia                                                                                                               \n",
      ">    505      4.97   59.70 |\n",
      "  | Senile dementia                                                                                                                 \n",
      ">    357      3.51   63.21 |\n",
      "  | Dementia care plan reviewed                                                                                                     \n",
      ">    334      3.28   66.50 |\n",
      "  | Senile and presenile organic psychotic conditions                                                                           ..  \n",
      ">    261      2.57   69.06 |\n",
      "  |---------------------------------------------------------------------------------------------------------------------------------\n",
      "> -------------------------|\n",
      "  | H/O: dementia                                                                                                               ..  \n",
      ">    248      2.44   71.50 |\n",
      "  | [X]Dementia in Alzheimer's disease                                                                                          ..  \n",
      ">    233      2.29   73.79 |\n",
      "  | Dementia advance care plan agreed (finding)                                                                                     \n",
      ">    207      2.04   75.83 |\n",
      "  | [X] Unspecified dementia                                                                                                    ..  \n",
      ">    200      1.97   77.80 |\n",
      "  | Dementia advance care plan agreed                                                                                               \n",
      ">    158      1.55   79.35 |\n",
      "  |---------------------------------------------------------------------------------------------------------------------------------\n",
      "> -------------------------|\n",
      "  | Primary degenerative dementia of the Alzheimer type, senile onset (disorder)                                                    \n",
      ">    148      1.46   80.80 |\n",
      "  | [X]Dementia in Alzheimer's dis, atypical or mixed type                                                                      ..  \n",
      ">    141      1.39   82.19 |\n",
      "  | Dementia care plan agreed (finding)                                                                                             \n",
      ">    126      1.24   83.43 |\n",
      "  | [X]Dementia in Alzheimer's dis, atypical or mixed type (disorder)                                                               \n",
      ">    107      1.05   84.48 |\n",
      "  | Dementia care plan agreed                                                                                                       \n",
      ">    106      1.04   85.52 |\n",
      "  |---------------------------------------------------------------------------------------------------------------------------------\n",
      "> -------------------------|\n",
      "  | [D]Symptoms, signs and ill-defined conditions NOS                                                                               \n",
      ">    104      1.02   86.55 |\n",
      "  | Dementia monitoring first letter (procedure)                                                                                    \n",
      ">     91      0.89   87.44 |\n",
      "  | Dementia in Alzheimer's disease with late onset                                                                                 \n",
      ">     84      0.83   88.27 |\n",
      "  | Multi-infarct dementia                                                                                                          \n",
      ">     83      0.82   89.08 |\n",
      "  | Dementia monitoring first letter                                                                                                \n",
      ">     77      0.76   89.84 |\n",
      "  |---------------------------------------------------------------------------------------------------------------------------------\n",
      "> -------------------------|\n",
      "  | Mixed dementia (disorder)                                                                                                       \n",
      ">     64      0.63   90.47 |\n",
      "  | [X]Unspecified dementia                                                                                                         \n",
      ">     56      0.55   91.02 |\n",
      "  | Dementia associated with Parkinson's Disease (disorder)                                                                         \n",
      ">     53      0.52   91.54 |\n",
      "  | Uncomplicated senile dementia                                                                                                   \n",
      ">     50      0.49   92.03 |\n",
      "  | Diffuse Lewy body disease                                                                                                       \n",
      ">     49      0.48   92.52 |\n",
      "  |---------------------------------------------------------------------------------------------------------------------------------\n",
      "> -------------------------|\n",
      "  | Dementia monitoring telephone invite                                                                                            \n",
      ">     40      0.39   92.91 |\n",
      "  | [X]Vascular dementia, unspecified                                                                                           ..  \n",
      ">     39      0.38   93.29 |\n",
      "  | Review of end of life advance care plan                                                                                         \n",
      ">     36      0.35   93.65 |\n",
      "  | Dementia monitoring telephone invitation (procedure)                                                                            \n",
      ">     34      0.33   93.98 |\n",
      "  | [X]Dementia in Parkinson's disease                                                                                              \n",
      ">     34      0.33   94.32 |\n",
      "  |---------------------------------------------------------------------------------------------------------------------------------\n",
      "> -------------------------|\n",
      "  | Mixed cortical and subcortical vascular dementia                                                                                \n",
      ">     33      0.32   94.64 |\n",
      "  | Post-concussion syndrome                                                                                                        \n",
      ">     33      0.32   94.97 |\n",
      "  | Uncomplicated senile dementia                                                                                               ..  \n",
      ">     33      0.32   95.29 |\n",
      "  | [X]Dementia in Alzheimer's disease, unspecified                                                                             ..  \n",
      ">     31      0.30   95.59 |\n",
      "  | Dementia medication review (procedure)                                                                                          \n",
      ">     30      0.30   95.89 |\n",
      "  |---------------------------------------------------------------------------------------------------------------------------------\n",
      "> -------------------------|\n",
      "  | [X]Lewy body dementia                                                                                                           \n",
      ">     29      0.29   96.17 |\n",
      "  | Dementia in Alzheimer's disease with early onset                                                                                \n",
      ">     27      0.27   96.44 |\n",
      "  | Primary degenerative dementia of the Alzheimer type, presenile onset (disorder)                                                 \n",
      ">     24      0.24   96.68 |\n",
      "  | Arteriosclerotic dementia                                                                                                   ..  \n",
      ">     23      0.23   96.90 |\n",
      "  | Lewy body disease                                                                                                               \n",
      ">     22      0.22   97.12 |\n",
      "  |---------------------------------------------------------------------------------------------------------------------------------\n",
      "> -------------------------|\n",
      "  | Presenile dementia                                                                                                              \n",
      ">     19      0.19   97.31 |\n",
      "  | Post-traumatic dementia (disorder)                                                                                              \n",
      ">     17      0.17   97.47 |\n",
      "  | Senile dementia of the Lewy body type                                                                                           \n",
      ">     17      0.17   97.64 |\n",
      "  | Subcortical vascular dementia                                                                                                   \n",
      ">     16      0.16   97.80 |\n",
      "  | Senile degeneration of brain                                                                                                    \n",
      ">     12      0.12   97.92 |\n",
      "  |---------------------------------------------------------------------------------------------------------------------------------\n",
      "> -------------------------|\n",
      "  | Senile degeneration of brain (disorder)                                                                                         \n",
      ">     11      0.11   98.02 |\n",
      "  | Dementia associated with alcoholism                                                                                             \n",
      ">     10      0.10   98.12 |\n",
      "  +---------------------------------------------------------------------------------------------------------------------------------\n",
      "> -------------------------+\n"
     ]
    }
   ],
   "source": [
    "set linesize 132\n",
    "groups description , select(f >= 10) ord(h) table "
   ]
  },
  {
   "cell_type": "markdown",
   "id": "7d01eb90-5ca1-4146-aafb-680a81450cc3",
   "metadata": {},
   "source": [
    "These tables holds one randomly selected prescrption during the observation period. The table is truncated to only include codes with a count of 10 or more.\n"
   ]
  },
  {
   "cell_type": "code",
   "execution_count": 6,
   "id": "a4acd83f-5b6a-49e7-8b49-5dc1f78f2d1a",
   "metadata": {},
   "outputs": [
    {
     "name": "stdout",
     "output_type": "stream",
     "text": [
      "\n",
      "  +-----------------------------------------------+\n",
      "  |           bnf_code   Freq.   Percent      %<= |\n",
      "  |-----------------------------------------------|\n",
      "  | Drugs for dementia    4892     99.37    99.37 |\n",
      "  |      Other/unknown      31      0.63   100.00 |\n",
      "  +-----------------------------------------------+\n"
     ]
    }
   ],
   "source": [
    "set linesize 132\n",
    "groups bnf_code , select(f >= 10) ord(h) table "
   ]
  },
  {
   "cell_type": "markdown",
   "id": "67837c2c-bbb5-4681-8000-cd8b3f6cac51",
   "metadata": {},
   "source": [
    "### Results\n",
    "#### Overall"
   ]
  },
  {
   "cell_type": "code",
   "execution_count": 7,
   "id": "733c0f2e-1179-49dc-b95d-48547a864674",
   "metadata": {},
   "outputs": [
    {
     "name": "stdout",
     "output_type": "stream",
     "text": [
      "\n",
      "           |         test\n",
      "      diag |      Pos.       Neg. |     Total\n",
      "-----------+----------------------+----------\n",
      "  Abnormal |     4,197      5,972 |    10,169 \n",
      "    Normal |       726    414,105 |   414,831 \n",
      "-----------+----------------------+----------\n",
      "     Total |     4,923    420,077 |   425,000 \n",
      "True abnormal diagnosis defined as diag = 1\n",
      "\n",
      "\n",
      "                                                  [95% Confidence Interval]\n",
      "---------------------------------------------------------------------------\n",
      "Prevalence                         Pr(A)      2.4%      2.3%       2.4%\n",
      "---------------------------------------------------------------------------\n",
      "Sensitivity                      Pr(+|A)     41.3%     40.3%     42.2%\n",
      "Specificity                      Pr(-|N)     99.8%     99.8%     99.8%\n",
      "ROC area               (Sens. + Spec.)/2      0.71      0.70      0.71 \n",
      "---------------------------------------------------------------------------\n",
      "Likelihood ratio (+)     Pr(+|A)/Pr(+|N)    235.83    218.51    254.52 \n",
      "Likelihood ratio (-)     Pr(-|A)/Pr(-|N)      0.59      0.58      0.60 \n",
      "Odds ratio                   LR(+)/LR(-)    400.86    369.01    435.46 \n",
      "Positive predictive value        Pr(A|+)     85.3%     84.2%     86.2% \n",
      "Negative predictive value        Pr(N|-)     98.6%     98.5%     98.6% \n",
      "---------------------------------------------------------------------------\n"
     ]
    }
   ],
   "source": [
    "diagt diag test"
   ]
  },
  {
   "cell_type": "markdown",
   "id": "b119ffa3-90d8-4e4f-9f8d-30cca2284b37",
   "metadata": {},
   "source": [
    "#### Males"
   ]
  },
  {
   "cell_type": "code",
   "execution_count": 8,
   "id": "81028f5e-4e7a-4bb4-b0f6-71d8d0821075",
   "metadata": {},
   "outputs": [
    {
     "name": "stdout",
     "output_type": "stream",
     "text": [
      "\n",
      "           |         test\n",
      "      diag |      Pos.       Neg. |     Total\n",
      "-----------+----------------------+----------\n",
      "  Abnormal |     1,521      2,060 |     3,581 \n",
      "    Normal |       272    204,432 |   204,704 \n",
      "-----------+----------------------+----------\n",
      "     Total |     1,793    206,492 |   208,285 \n",
      "True abnormal diagnosis defined as diag = 1\n",
      "\n",
      "\n",
      "                                                  [95% Confidence Interval]\n",
      "---------------------------------------------------------------------------\n",
      "Prevalence                         Pr(A)      1.7%      1.7%       1.8%\n",
      "---------------------------------------------------------------------------\n",
      "Sensitivity                      Pr(+|A)     42.5%     40.8%     44.1%\n",
      "Specificity                      Pr(-|N)     99.9%     99.9%     99.9%\n",
      "ROC area               (Sens. + Spec.)/2      0.71      0.70      0.72 \n",
      "---------------------------------------------------------------------------\n",
      "Likelihood ratio (+)     Pr(+|A)/Pr(+|N)    319.66    282.17    362.12 \n",
      "Likelihood ratio (-)     Pr(-|A)/Pr(-|N)      0.58      0.56      0.59 \n",
      "Odds ratio                   LR(+)/LR(-)    554.93    484.35    635.81 \n",
      "Positive predictive value        Pr(A|+)     84.8%     83.1%     86.5% \n",
      "Negative predictive value        Pr(N|-)     99.0%     99.0%     99.0% \n",
      "---------------------------------------------------------------------------\n"
     ]
    }
   ],
   "source": [
    "diagt diag test if sex==1"
   ]
  },
  {
   "cell_type": "markdown",
   "id": "762df1ac-de32-43e9-8cb3-6696c91e2459",
   "metadata": {},
   "source": [
    "#### Females"
   ]
  },
  {
   "cell_type": "code",
   "execution_count": 9,
   "id": "7fc985e3-7757-4908-ae5a-5d346ee7ccb6",
   "metadata": {},
   "outputs": [
    {
     "name": "stdout",
     "output_type": "stream",
     "text": [
      "\n",
      "           |         test\n",
      "      diag |      Pos.       Neg. |     Total\n",
      "-----------+----------------------+----------\n",
      "  Abnormal |     2,676      3,912 |     6,588 \n",
      "    Normal |       454    209,664 |   210,118 \n",
      "-----------+----------------------+----------\n",
      "     Total |     3,130    213,576 |   216,706 \n",
      "True abnormal diagnosis defined as diag = 1\n",
      "\n",
      "\n",
      "                                                  [95% Confidence Interval]\n",
      "---------------------------------------------------------------------------\n",
      "Prevalence                         Pr(A)      3.0%      3.0%       3.1%\n",
      "---------------------------------------------------------------------------\n",
      "Sensitivity                      Pr(+|A)     40.6%     39.4%     41.8%\n",
      "Specificity                      Pr(-|N)     99.8%     99.8%     99.8%\n",
      "ROC area               (Sens. + Spec.)/2      0.70      0.70      0.71 \n",
      "---------------------------------------------------------------------------\n",
      "Likelihood ratio (+)     Pr(+|A)/Pr(+|N)    187.99    170.71    207.02 \n",
      "Likelihood ratio (-)     Pr(-|A)/Pr(-|N)      0.60      0.58      0.61 \n",
      "Odds ratio                   LR(+)/LR(-)    315.90    284.60    350.65 \n",
      "Positive predictive value        Pr(A|+)     85.5%     84.2%     86.7% \n",
      "Negative predictive value        Pr(N|-)     98.2%     98.1%     98.2% \n",
      "---------------------------------------------------------------------------\n"
     ]
    }
   ],
   "source": [
    "diagt diag test if sex==0"
   ]
  },
  {
   "cell_type": "markdown",
   "id": "ab8954a7-060c-4eba-adea-1044fb6bb9ea",
   "metadata": {},
   "source": [
    "#### Age\n",
    "*16-70*"
   ]
  },
  {
   "cell_type": "code",
   "execution_count": 10,
   "id": "f9aa943b-6489-4d70-a905-4aa3b8f2cb6e",
   "metadata": {},
   "outputs": [
    {
     "name": "stdout",
     "output_type": "stream",
     "text": [
      "\n",
      "           |         test\n",
      "      diag |      Pos.       Neg. |     Total\n",
      "-----------+----------------------+----------\n",
      "  Abnormal |       368        621 |       989 \n",
      "    Normal |        84    337,996 |   338,080 \n",
      "-----------+----------------------+----------\n",
      "     Total |       452    338,617 |   339,069 \n",
      "True abnormal diagnosis defined as diag = 1\n",
      "\n",
      "\n",
      "                                                  [95% Confidence Interval]\n",
      "---------------------------------------------------------------------------\n",
      "Prevalence                         Pr(A)      0.3%      0.3%       0.3%\n",
      "---------------------------------------------------------------------------\n",
      "Sensitivity                      Pr(+|A)     37.2%     34.2%     40.3%\n",
      "Specificity                      Pr(-|N)    100.0%    100.0%    100.0%\n",
      "ROC area               (Sens. + Spec.)/2      0.69      0.67      0.70 \n",
      "---------------------------------------------------------------------------\n",
      "Likelihood ratio (+)     Pr(+|A)/Pr(+|N)    1497.59   1191.51   1882.29 \n",
      "Likelihood ratio (-)     Pr(-|A)/Pr(-|N)      0.63      0.60      0.66 \n",
      "Odds ratio                   LR(+)/LR(-)   2384.45    1858.43  3059.29 \n",
      "Positive predictive value        Pr(A|+)     81.4%     77.5%     84.9% \n",
      "Negative predictive value        Pr(N|-)     99.8%     99.8%     99.8% \n",
      "---------------------------------------------------------------------------\n"
     ]
    }
   ],
   "source": [
    "diagt diag test if agecat==0"
   ]
  },
  {
   "cell_type": "markdown",
   "id": "999f9154-f87e-44c7-8928-1345fa5c5958",
   "metadata": {},
   "source": [
    "*70-90*"
   ]
  },
  {
   "cell_type": "code",
   "execution_count": 11,
   "id": "6fcb0167-b359-4f24-91e3-a10fb2caa610",
   "metadata": {},
   "outputs": [
    {
     "name": "stdout",
     "output_type": "stream",
     "text": [
      "\n",
      "           |         test\n",
      "      diag |      Pos.       Neg. |     Total\n",
      "-----------+----------------------+----------\n",
      "  Abnormal |     3,408      4,389 |     7,797 \n",
      "    Normal |       571     69,729 |    70,300 \n",
      "-----------+----------------------+----------\n",
      "     Total |     3,979     74,118 |    78,097 \n",
      "True abnormal diagnosis defined as diag = 1\n",
      "\n",
      "\n",
      "                                                  [95% Confidence Interval]\n",
      "---------------------------------------------------------------------------\n",
      "Prevalence                         Pr(A)     10.0%      9.8%      10.2%\n",
      "---------------------------------------------------------------------------\n",
      "Sensitivity                      Pr(+|A)     43.7%     42.6%     44.8%\n",
      "Specificity                      Pr(-|N)     99.2%     99.1%     99.3%\n",
      "ROC area               (Sens. + Spec.)/2      0.71      0.71      0.72 \n",
      "---------------------------------------------------------------------------\n",
      "Likelihood ratio (+)     Pr(+|A)/Pr(+|N)     53.81     49.40     58.62 \n",
      "Likelihood ratio (-)     Pr(-|A)/Pr(-|N)      0.57      0.56      0.58 \n",
      "Odds ratio                   LR(+)/LR(-)     94.82     86.34    104.14 \n",
      "Positive predictive value        Pr(A|+)     85.6%     84.5%     86.7% \n",
      "Negative predictive value        Pr(N|-)     94.1%     93.9%     94.2% \n",
      "---------------------------------------------------------------------------\n"
     ]
    }
   ],
   "source": [
    "diagt diag test if agecat==70"
   ]
  },
  {
   "cell_type": "code",
   "execution_count": 12,
   "id": "fd782079-4378-4cc3-9a2c-4adb92379d41",
   "metadata": {},
   "outputs": [
    {
     "name": "stdout",
     "output_type": "stream",
     "text": [
      "\n",
      "           |         test\n",
      "      diag |      Pos.       Neg. |     Total\n",
      "-----------+----------------------+----------\n",
      "  Abnormal |       421        962 |     1,383 \n",
      "    Normal |        71      6,380 |     6,451 \n",
      "-----------+----------------------+----------\n",
      "     Total |       492      7,342 |     7,834 \n",
      "True abnormal diagnosis defined as diag = 1\n",
      "\n",
      "\n",
      "                                                  [95% Confidence Interval]\n",
      "---------------------------------------------------------------------------\n",
      "Prevalence                         Pr(A)     17.7%     16.8%      18.5%\n",
      "---------------------------------------------------------------------------\n",
      "Sensitivity                      Pr(+|A)     30.4%     28.0%     32.9%\n",
      "Specificity                      Pr(-|N)     98.9%     98.6%     99.1%\n",
      "ROC area               (Sens. + Spec.)/2      0.65      0.63      0.66 \n",
      "---------------------------------------------------------------------------\n",
      "Likelihood ratio (+)     Pr(+|A)/Pr(+|N)     27.66     21.66     35.32 \n",
      "Likelihood ratio (-)     Pr(-|A)/Pr(-|N)      0.70      0.68      0.73 \n",
      "Odds ratio                   LR(+)/LR(-)     39.33     30.33     50.99 \n",
      "Positive predictive value        Pr(A|+)     85.6%     82.1%     88.6% \n",
      "Negative predictive value        Pr(N|-)     86.9%     86.1%     87.7% \n",
      "---------------------------------------------------------------------------\n"
     ]
    }
   ],
   "source": [
    "diagt diag test if agecat==90"
   ]
  },
  {
   "cell_type": "markdown",
   "id": "23455479-0f98-4886-a36c-770376084911",
   "metadata": {},
   "source": [
    "#### Year at start of oberservation period \n",
    "*2004-2009*"
   ]
  },
  {
   "cell_type": "code",
   "execution_count": 14,
   "id": "9c58ecee-bd42-47a9-ad46-f51305e689bf",
   "metadata": {},
   "outputs": [
    {
     "name": "stdout",
     "output_type": "stream",
     "text": [
      "\n",
      "           |         test\n",
      "      diag |      Pos.       Neg. |     Total\n",
      "-----------+----------------------+----------\n",
      "  Abnormal |       630      1,552 |     2,182 \n",
      "    Normal |       308    147,510 |   147,818 \n",
      "-----------+----------------------+----------\n",
      "     Total |       938    149,062 |   150,000 \n",
      "True abnormal diagnosis defined as diag = 1\n",
      "\n",
      "\n",
      "                                                  [95% Confidence Interval]\n",
      "---------------------------------------------------------------------------\n",
      "Prevalence                         Pr(A)      1.5%      1.4%       1.5%\n",
      "---------------------------------------------------------------------------\n",
      "Sensitivity                      Pr(+|A)     28.9%     27.0%     30.8%\n",
      "Specificity                      Pr(-|N)     99.8%     99.8%     99.8%\n",
      "ROC area               (Sens. + Spec.)/2      0.64      0.63      0.65 \n",
      "---------------------------------------------------------------------------\n",
      "Likelihood ratio (+)     Pr(+|A)/Pr(+|N)    138.57    121.73    157.73 \n",
      "Likelihood ratio (-)     Pr(-|A)/Pr(-|N)      0.71      0.69      0.73 \n",
      "Odds ratio                   LR(+)/LR(-)    194.41    168.16    224.76 \n",
      "Positive predictive value        Pr(A|+)     67.2%     64.1%     70.2% \n",
      "Negative predictive value        Pr(N|-)     99.0%     98.9%     99.0% \n",
      "---------------------------------------------------------------------------\n"
     ]
    }
   ],
   "source": [
    "diagt diag test if yearcat==2004"
   ]
  },
  {
   "cell_type": "markdown",
   "id": "d9f3db50-6898-4b47-81ef-4ea609bb28d8",
   "metadata": {},
   "source": [
    "*2010-2015*"
   ]
  },
  {
   "cell_type": "code",
   "execution_count": 15,
   "id": "6b326410-d900-498f-b736-4ced1ea7fa5d",
   "metadata": {},
   "outputs": [
    {
     "name": "stdout",
     "output_type": "stream",
     "text": [
      "\n",
      "           |         test\n",
      "      diag |      Pos.       Neg. |     Total\n",
      "-----------+----------------------+----------\n",
      "  Abnormal |     1,547      2,120 |     3,667 \n",
      "    Normal |       274    146,059 |   146,333 \n",
      "-----------+----------------------+----------\n",
      "     Total |     1,821    148,179 |   150,000 \n",
      "True abnormal diagnosis defined as diag = 1\n",
      "\n",
      "\n",
      "                                                  [95% Confidence Interval]\n",
      "---------------------------------------------------------------------------\n",
      "Prevalence                         Pr(A)      2.4%      2.4%       2.5%\n",
      "---------------------------------------------------------------------------\n",
      "Sensitivity                      Pr(+|A)     42.2%     40.6%     43.8%\n",
      "Specificity                      Pr(-|N)     99.8%     99.8%     99.8%\n",
      "ROC area               (Sens. + Spec.)/2      0.71      0.70      0.72 \n",
      "---------------------------------------------------------------------------\n",
      "Likelihood ratio (+)     Pr(+|A)/Pr(+|N)    225.31    198.99    255.10 \n",
      "Likelihood ratio (-)     Pr(-|A)/Pr(-|N)      0.58      0.56      0.60 \n",
      "Odds ratio                   LR(+)/LR(-)    388.98    339.74    445.36 \n",
      "Positive predictive value        Pr(A|+)     85.0%     83.2%     86.6% \n",
      "Negative predictive value        Pr(N|-)     98.6%     98.5%     98.6% \n",
      "---------------------------------------------------------------------------\n"
     ]
    }
   ],
   "source": [
    "diagt diag test if yearcat==2010"
   ]
  },
  {
   "cell_type": "markdown",
   "id": "1546a4d9-adee-4208-88e0-3b6aa4d3d14c",
   "metadata": {},
   "source": [
    "*2016-2020*"
   ]
  },
  {
   "cell_type": "code",
   "execution_count": 16,
   "id": "dddfe5ba-1a16-4afc-91e5-cbffb4f25b77",
   "metadata": {},
   "outputs": [
    {
     "name": "stdout",
     "output_type": "stream",
     "text": [
      "\n",
      "           |         test\n",
      "      diag |      Pos.       Neg. |     Total\n",
      "-----------+----------------------+----------\n",
      "  Abnormal |     2,020      2,300 |     4,320 \n",
      "    Normal |       144    120,536 |   120,680 \n",
      "-----------+----------------------+----------\n",
      "     Total |     2,164    122,836 |   125,000 \n",
      "True abnormal diagnosis defined as diag = 1\n",
      "\n",
      "\n",
      "                                                  [95% Confidence Interval]\n",
      "---------------------------------------------------------------------------\n",
      "Prevalence                         Pr(A)      3.5%      3.4%       3.6%\n",
      "---------------------------------------------------------------------------\n",
      "Sensitivity                      Pr(+|A)     46.8%     45.3%     48.3%\n",
      "Specificity                      Pr(-|N)     99.9%     99.9%     99.9%\n",
      "ROC area               (Sens. + Spec.)/2      0.73      0.73      0.74 \n",
      "---------------------------------------------------------------------------\n",
      "Likelihood ratio (+)     Pr(+|A)/Pr(+|N)    391.87    331.83    462.77 \n",
      "Likelihood ratio (-)     Pr(-|A)/Pr(-|N)      0.53      0.52      0.55 \n",
      "Odds ratio                   LR(+)/LR(-)    735.15    617.86    874.70 \n",
      "Positive predictive value        Pr(A|+)     93.3%     92.2%     94.4% \n",
      "Negative predictive value        Pr(N|-)     98.1%     98.1%     98.2% \n",
      "---------------------------------------------------------------------------\n"
     ]
    }
   ],
   "source": [
    "diagt diag test if yearcat==2016"
   ]
  },
  {
   "cell_type": "markdown",
   "id": "9318e823-cf06-4695-a86c-8b96ace454c5",
   "metadata": {},
   "source": [
    "#### IMD of practice\n",
    "*1-3*"
   ]
  },
  {
   "cell_type": "code",
   "execution_count": 17,
   "id": "0c48ed3a-ce83-4c14-9447-6c52d4d82ed3",
   "metadata": {},
   "outputs": [
    {
     "name": "stdout",
     "output_type": "stream",
     "text": [
      "\n",
      "           |         test\n",
      "      diag |      Pos.       Neg. |     Total\n",
      "-----------+----------------------+----------\n",
      "  Abnormal |     1,279      1,920 |     3,199 \n",
      "    Normal |       203    151,149 |   151,352 \n",
      "-----------+----------------------+----------\n",
      "     Total |     1,482    153,069 |   154,551 \n",
      "True abnormal diagnosis defined as diag = 1\n",
      "\n",
      "\n",
      "                                                  [95% Confidence Interval]\n",
      "---------------------------------------------------------------------------\n",
      "Prevalence                         Pr(A)      2.1%      2.0%       2.1%\n",
      "---------------------------------------------------------------------------\n",
      "Sensitivity                      Pr(+|A)     40.0%     38.3%     41.7%\n",
      "Specificity                      Pr(-|N)     99.9%     99.8%     99.9%\n",
      "ROC area               (Sens. + Spec.)/2      0.70      0.69      0.71 \n",
      "---------------------------------------------------------------------------\n",
      "Likelihood ratio (+)     Pr(+|A)/Pr(+|N)    298.09    258.14    344.22 \n",
      "Likelihood ratio (-)     Pr(-|A)/Pr(-|N)      0.60      0.58      0.62 \n",
      "Odds ratio                   LR(+)/LR(-)    496.00    424.93    578.94 \n",
      "Positive predictive value        Pr(A|+)     86.3%     84.4%     88.0% \n",
      "Negative predictive value        Pr(N|-)     98.7%     98.7%     98.8% \n",
      "---------------------------------------------------------------------------\n"
     ]
    }
   ],
   "source": [
    "diagt diag test if imdcat==0"
   ]
  },
  {
   "cell_type": "markdown",
   "id": "cc20d8e3-26a9-4217-989b-54c2c73d0386",
   "metadata": {},
   "source": [
    "*4-7*"
   ]
  },
  {
   "cell_type": "code",
   "execution_count": 18,
   "id": "2f034372-ceb8-4f41-bd39-9d6ef321a64a",
   "metadata": {},
   "outputs": [
    {
     "name": "stdout",
     "output_type": "stream",
     "text": [
      "\n",
      "           |         test\n",
      "      diag |      Pos.       Neg. |     Total\n",
      "-----------+----------------------+----------\n",
      "  Abnormal |     1,591      2,237 |     3,828 \n",
      "    Normal |       273    138,944 |   139,217 \n",
      "-----------+----------------------+----------\n",
      "     Total |     1,864    141,181 |   143,045 \n",
      "True abnormal diagnosis defined as diag = 1\n",
      "\n",
      "\n",
      "                                                  [95% Confidence Interval]\n",
      "---------------------------------------------------------------------------\n",
      "Prevalence                         Pr(A)      2.7%      2.6%       2.8%\n",
      "---------------------------------------------------------------------------\n",
      "Sensitivity                      Pr(+|A)     41.6%     40.0%     43.1%\n",
      "Specificity                      Pr(-|N)     99.8%     99.8%     99.8%\n",
      "ROC area               (Sens. + Spec.)/2      0.71      0.70      0.71 \n",
      "---------------------------------------------------------------------------\n",
      "Likelihood ratio (+)     Pr(+|A)/Pr(+|N)    211.95    187.17    240.00 \n",
      "Likelihood ratio (-)     Pr(-|A)/Pr(-|N)      0.59      0.57      0.60 \n",
      "Odds ratio                   LR(+)/LR(-)    361.98    316.28    414.27 \n",
      "Positive predictive value        Pr(A|+)     85.4%     83.7%     86.9% \n",
      "Negative predictive value        Pr(N|-)     98.4%     98.3%     98.5% \n",
      "---------------------------------------------------------------------------\n"
     ]
    }
   ],
   "source": [
    "diagt diag test if imdcat==4"
   ]
  },
  {
   "cell_type": "markdown",
   "id": "a843bc14-ff1a-4435-a50c-c9769b8c3d3b",
   "metadata": {},
   "source": [
    "*8-10*"
   ]
  },
  {
   "cell_type": "code",
   "execution_count": 19,
   "id": "e52a500d-f3cf-4da6-997c-bbc1e902d199",
   "metadata": {},
   "outputs": [
    {
     "name": "stdout",
     "output_type": "stream",
     "text": [
      "\n",
      "           |         test\n",
      "      diag |      Pos.       Neg. |     Total\n",
      "-----------+----------------------+----------\n",
      "  Abnormal |     1,325      1,812 |     3,137 \n",
      "    Normal |       250    121,428 |   121,678 \n",
      "-----------+----------------------+----------\n",
      "     Total |     1,575    123,240 |   124,815 \n",
      "True abnormal diagnosis defined as diag = 1\n",
      "\n",
      "\n",
      "                                                  [95% Confidence Interval]\n",
      "---------------------------------------------------------------------------\n",
      "Prevalence                         Pr(A)      2.5%      2.4%       2.6%\n",
      "---------------------------------------------------------------------------\n",
      "Sensitivity                      Pr(+|A)     42.2%     40.5%     44.0%\n",
      "Specificity                      Pr(-|N)     99.8%     99.8%     99.8%\n",
      "ROC area               (Sens. + Spec.)/2      0.71      0.70      0.72 \n",
      "---------------------------------------------------------------------------\n",
      "Likelihood ratio (+)     Pr(+|A)/Pr(+|N)    205.58    180.44    234.21 \n",
      "Likelihood ratio (-)     Pr(-|A)/Pr(-|N)      0.58      0.56      0.60 \n",
      "Odds ratio                   LR(+)/LR(-)    355.17    307.91    409.68 \n",
      "Positive predictive value        Pr(A|+)     84.1%     82.2%     85.9% \n",
      "Negative predictive value        Pr(N|-)     98.5%     98.5%     98.6% \n",
      "---------------------------------------------------------------------------\n"
     ]
    }
   ],
   "source": [
    "diagt diag test if imdcat==8"
   ]
  },
  {
   "cell_type": "markdown",
   "id": "cbbde183-5b60-4618-a548-81135cae76a0",
   "metadata": {},
   "source": [
    "#### Commissioning Regions\n",
    "EAST OF ENGLAND"
   ]
  },
  {
   "cell_type": "code",
   "execution_count": 20,
   "id": "1254da50-3ca4-47a1-b4d8-e07c6d920177",
   "metadata": {},
   "outputs": [
    {
     "name": "stdout",
     "output_type": "stream",
     "text": [
      "\n",
      "           |         test\n",
      "      diag |      Pos.       Neg. |     Total\n",
      "-----------+----------------------+----------\n",
      "  Abnormal |       892      1,263 |     2,155 \n",
      "    Normal |       144     87,338 |    87,482 \n",
      "-----------+----------------------+----------\n",
      "     Total |     1,036     88,601 |    89,637 \n",
      "True abnormal diagnosis defined as diag = 1\n",
      "\n",
      "\n",
      "                                                  [95% Confidence Interval]\n",
      "---------------------------------------------------------------------------\n",
      "Prevalence                         Pr(A)      2.4%      2.3%       2.5%\n",
      "---------------------------------------------------------------------------\n",
      "Sensitivity                      Pr(+|A)     41.4%     39.3%     43.5%\n",
      "Specificity                      Pr(-|N)     99.8%     99.8%     99.9%\n",
      "ROC area               (Sens. + Spec.)/2      0.71      0.70      0.72 \n",
      "---------------------------------------------------------------------------\n",
      "Likelihood ratio (+)     Pr(+|A)/Pr(+|N)    251.46    211.99    298.28 \n",
      "Likelihood ratio (-)     Pr(-|A)/Pr(-|N)      0.59      0.57      0.61 \n",
      "Odds ratio                   LR(+)/LR(-)    428.35    356.23    515.07 \n",
      "Positive predictive value        Pr(A|+)     86.1%     83.8%     88.2% \n",
      "Negative predictive value        Pr(N|-)     98.6%     98.5%     98.7% \n",
      "---------------------------------------------------------------------------\n"
     ]
    }
   ],
   "source": [
    "diagt diag test if regexm(region_name,\"ENGLAND\")==1"
   ]
  },
  {
   "cell_type": "markdown",
   "id": "b2f2b2c7-4c3b-4ae5-ad03-8edfbc58938d",
   "metadata": {},
   "source": [
    "London"
   ]
  },
  {
   "cell_type": "code",
   "execution_count": 21,
   "id": "18195511-cedc-42b1-8bae-bc6621364814",
   "metadata": {},
   "outputs": [
    {
     "name": "stdout",
     "output_type": "stream",
     "text": [
      "\n",
      "           |         test\n",
      "      diag |      Pos.       Neg. |     Total\n",
      "-----------+----------------------+----------\n",
      "  Abnormal |        83        113 |       196 \n",
      "    Normal |        13     16,516 |    16,529 \n",
      "-----------+----------------------+----------\n",
      "     Total |        96     16,629 |    16,725 \n",
      "True abnormal diagnosis defined as diag = 1\n",
      "\n",
      "\n",
      "                                                  [95% Confidence Interval]\n",
      "---------------------------------------------------------------------------\n",
      "Prevalence                         Pr(A)      1.2%      1.0%       1.3%\n",
      "---------------------------------------------------------------------------\n",
      "Sensitivity                      Pr(+|A)     42.3%     35.3%     49.6%\n",
      "Specificity                      Pr(-|N)     99.9%     99.9%    100.0%\n",
      "ROC area               (Sens. + Spec.)/2      0.71      0.68      0.75 \n",
      "---------------------------------------------------------------------------\n",
      "Likelihood ratio (+)     Pr(+|A)/Pr(+|N)    538.43    305.28    949.61 \n",
      "Likelihood ratio (-)     Pr(-|A)/Pr(-|N)      0.58      0.51      0.65 \n",
      "Odds ratio                   LR(+)/LR(-)    933.17    509.12   1708.95 \n",
      "Positive predictive value        Pr(A|+)     86.5%     78.0%     92.6% \n",
      "Negative predictive value        Pr(N|-)     99.3%     99.2%     99.4% \n",
      "---------------------------------------------------------------------------\n"
     ]
    }
   ],
   "source": [
    "diagt diag test if regexm(region_name,\"LONDON\")==1"
   ]
  },
  {
   "cell_type": "markdown",
   "id": "1a78f370-7ebd-4e70-b301-73c6e75003fd",
   "metadata": {},
   "source": [
    "Midlands"
   ]
  },
  {
   "cell_type": "code",
   "execution_count": 22,
   "id": "265ce394-6410-4e76-a064-ec3d32c30eee",
   "metadata": {},
   "outputs": [
    {
     "name": "stdout",
     "output_type": "stream",
     "text": [
      "\n",
      "           |         test\n",
      "      diag |      Pos.       Neg. |     Total\n",
      "-----------+----------------------+----------\n",
      "  Abnormal |       515        763 |     1,278 \n",
      "    Normal |        61     45,204 |    45,265 \n",
      "-----------+----------------------+----------\n",
      "     Total |       576     45,967 |    46,543 \n",
      "True abnormal diagnosis defined as diag = 1\n",
      "\n",
      "\n",
      "                                                  [95% Confidence Interval]\n",
      "---------------------------------------------------------------------------\n",
      "Prevalence                         Pr(A)      2.7%      2.6%       2.9%\n",
      "---------------------------------------------------------------------------\n",
      "Sensitivity                      Pr(+|A)     40.3%     37.6%     43.0%\n",
      "Specificity                      Pr(-|N)     99.9%     99.8%     99.9%\n",
      "ROC area               (Sens. + Spec.)/2      0.70      0.69      0.71 \n",
      "---------------------------------------------------------------------------\n",
      "Likelihood ratio (+)     Pr(+|A)/Pr(+|N)    299.03    230.68    387.62 \n",
      "Likelihood ratio (-)     Pr(-|A)/Pr(-|N)      0.60      0.57      0.63 \n",
      "Odds ratio                   LR(+)/LR(-)    500.18    380.26    657.91 \n",
      "Positive predictive value        Pr(A|+)     89.4%     86.6%     91.8% \n",
      "Negative predictive value        Pr(N|-)     98.3%     98.2%     98.5% \n",
      "---------------------------------------------------------------------------\n"
     ]
    }
   ],
   "source": [
    "diagt diag test if regexm(region_name,\"MID\")==1"
   ]
  },
  {
   "cell_type": "markdown",
   "id": "0769a779-b7ae-4496-9ed2-a6feb1a1a94a",
   "metadata": {},
   "source": [
    "Yorkshire"
   ]
  },
  {
   "cell_type": "code",
   "execution_count": 23,
   "id": "83d73532-38e7-4fb2-a39b-5c1ef1b5b717",
   "metadata": {},
   "outputs": [
    {
     "name": "stdout",
     "output_type": "stream",
     "text": [
      "\n",
      "           |         test\n",
      "      diag |      Pos.       Neg. |     Total\n",
      "-----------+----------------------+----------\n",
      "  Abnormal |       780      1,070 |     1,850 \n",
      "    Normal |       133     84,128 |    84,261 \n",
      "-----------+----------------------+----------\n",
      "     Total |       913     85,198 |    86,111 \n",
      "True abnormal diagnosis defined as diag = 1\n",
      "\n",
      "\n",
      "                                                  [95% Confidence Interval]\n",
      "---------------------------------------------------------------------------\n",
      "Prevalence                         Pr(A)      2.1%      2.1%       2.2%\n",
      "---------------------------------------------------------------------------\n",
      "Sensitivity                      Pr(+|A)     42.2%     39.9%     44.5%\n",
      "Specificity                      Pr(-|N)     99.8%     99.8%     99.9%\n",
      "ROC area               (Sens. + Spec.)/2      0.71      0.70      0.72 \n",
      "---------------------------------------------------------------------------\n",
      "Likelihood ratio (+)     Pr(+|A)/Pr(+|N)    267.11    223.56    319.16 \n",
      "Likelihood ratio (-)     Pr(-|A)/Pr(-|N)      0.58      0.56      0.60 \n",
      "Odds ratio                   LR(+)/LR(-)    461.10    380.07    559.41 \n",
      "Positive predictive value        Pr(A|+)     85.4%     83.0%     87.7% \n",
      "Negative predictive value        Pr(N|-)     98.7%     98.7%     98.8% \n",
      "---------------------------------------------------------------------------\n"
     ]
    }
   ],
   "source": [
    "diagt diag test if regexm(region_name,\"YORK\")==1"
   ]
  },
  {
   "cell_type": "markdown",
   "id": "247339ad-15c3-4ac2-9458-c8b14082ff8c",
   "metadata": {},
   "source": [
    "North West"
   ]
  },
  {
   "cell_type": "code",
   "execution_count": 24,
   "id": "f9ddd2b2-2aa8-49c0-8d9b-ac27a3db55be",
   "metadata": {},
   "outputs": [
    {
     "name": "stdout",
     "output_type": "stream",
     "text": [
      "\n",
      "           |         test\n",
      "      diag |      Pos.       Neg. |     Total\n",
      "-----------+----------------------+----------\n",
      "  Abnormal |       423        786 |     1,209 \n",
      "    Normal |       104     50,276 |    50,380 \n",
      "-----------+----------------------+----------\n",
      "     Total |       527     51,062 |    51,589 \n",
      "True abnormal diagnosis defined as diag = 1\n",
      "\n",
      "\n",
      "                                                  [95% Confidence Interval]\n",
      "---------------------------------------------------------------------------\n",
      "Prevalence                         Pr(A)      2.3%      2.2%       2.5%\n",
      "---------------------------------------------------------------------------\n",
      "Sensitivity                      Pr(+|A)     35.0%     32.3%     37.8%\n",
      "Specificity                      Pr(-|N)     99.8%     99.7%     99.8%\n",
      "ROC area               (Sens. + Spec.)/2      0.67      0.66      0.69 \n",
      "---------------------------------------------------------------------------\n",
      "Likelihood ratio (+)     Pr(+|A)/Pr(+|N)    169.49    137.83    208.42 \n",
      "Likelihood ratio (-)     Pr(-|A)/Pr(-|N)      0.65      0.63      0.68 \n",
      "Odds ratio                   LR(+)/LR(-)    260.16    207.66    325.94 \n",
      "Positive predictive value        Pr(A|+)     80.3%     76.6%     83.6% \n",
      "Negative predictive value        Pr(N|-)     98.5%     98.4%     98.6% \n",
      "---------------------------------------------------------------------------\n"
     ]
    }
   ],
   "source": [
    "diagt diag test if regexm(region_name,\"NORTH\")==1 & regexm(region_name,\"WEST\")==1"
   ]
  },
  {
   "cell_type": "markdown",
   "id": "cac4bda2-216c-4294-ab6d-5338aa93d23c",
   "metadata": {},
   "source": [
    "South East"
   ]
  },
  {
   "cell_type": "code",
   "execution_count": 25,
   "id": "883a5bf4-de79-4ba9-9bb2-95f85e3bccb3",
   "metadata": {},
   "outputs": [
    {
     "name": "stdout",
     "output_type": "stream",
     "text": [
      "\n",
      "           |         test\n",
      "      diag |      Pos.       Neg. |     Total\n",
      "-----------+----------------------+----------\n",
      "  Abnormal |     1,046      1,230 |     2,276 \n",
      "    Normal |       187     88,022 |    88,209 \n",
      "-----------+----------------------+----------\n",
      "     Total |     1,233     89,252 |    90,485 \n",
      "True abnormal diagnosis defined as diag = 1\n",
      "\n",
      "\n",
      "                                                  [95% Confidence Interval]\n",
      "---------------------------------------------------------------------------\n",
      "Prevalence                         Pr(A)      2.5%      2.4%       2.6%\n",
      "---------------------------------------------------------------------------\n",
      "Sensitivity                      Pr(+|A)     46.0%     43.9%     48.0%\n",
      "Specificity                      Pr(-|N)     99.8%     99.8%     99.8%\n",
      "ROC area               (Sens. + Spec.)/2      0.73      0.72      0.74 \n",
      "---------------------------------------------------------------------------\n",
      "Likelihood ratio (+)     Pr(+|A)/Pr(+|N)    216.79    186.60    251.86 \n",
      "Likelihood ratio (-)     Pr(-|A)/Pr(-|N)      0.54      0.52      0.56 \n",
      "Odds ratio                   LR(+)/LR(-)    400.29    339.29    472.26 \n",
      "Positive predictive value        Pr(A|+)     84.8%     82.7%     86.8% \n",
      "Negative predictive value        Pr(N|-)     98.6%     98.5%     98.7% \n",
      "---------------------------------------------------------------------------\n"
     ]
    }
   ],
   "source": [
    "diagt diag test if regexm(region_name,\"SOUTH\")==1 & regexm(region_name,\"EAST\")==1"
   ]
  },
  {
   "cell_type": "markdown",
   "id": "c31c4086-ecd2-43b5-a175-a49e64a0593a",
   "metadata": {},
   "source": [
    "South West"
   ]
  },
  {
   "cell_type": "code",
   "execution_count": 26,
   "id": "db24609a-c78c-4959-8f77-be636e5b8a66",
   "metadata": {},
   "outputs": [
    {
     "name": "stdout",
     "output_type": "stream",
     "text": [
      "\n",
      "           |         test\n",
      "      diag |      Pos.       Neg. |     Total\n",
      "-----------+----------------------+----------\n",
      "  Abnormal |       425        694 |     1,119 \n",
      "    Normal |        57     35,000 |    35,057 \n",
      "-----------+----------------------+----------\n",
      "     Total |       482     35,694 |    36,176 \n",
      "True abnormal diagnosis defined as diag = 1\n",
      "\n",
      "\n",
      "                                                  [95% Confidence Interval]\n",
      "---------------------------------------------------------------------------\n",
      "Prevalence                         Pr(A)      3.1%      2.9%       3.3%\n",
      "---------------------------------------------------------------------------\n",
      "Sensitivity                      Pr(+|A)     38.0%     35.1%     40.9%\n",
      "Specificity                      Pr(-|N)     99.8%     99.8%     99.9%\n",
      "ROC area               (Sens. + Spec.)/2      0.69      0.67      0.70 \n",
      "---------------------------------------------------------------------------\n",
      "Likelihood ratio (+)     Pr(+|A)/Pr(+|N)    233.59    178.32    305.99 \n",
      "Likelihood ratio (-)     Pr(-|A)/Pr(-|N)      0.62      0.59      0.65 \n",
      "Odds ratio                   LR(+)/LR(-)    376.03    282.60    500.34 \n",
      "Positive predictive value        Pr(A|+)     88.2%     85.0%     90.9% \n",
      "Negative predictive value        Pr(N|-)     98.1%     97.9%     98.2% \n",
      "---------------------------------------------------------------------------\n"
     ]
    }
   ],
   "source": [
    "diagt diag test if regexm(region_name,\"SOUTH\")==1 & regexm(region_name,\"WEST\")==1"
   ]
  },
  {
   "cell_type": "markdown",
   "id": "cf33efae-dc21-4b1a-b169-9eaea69c1161",
   "metadata": {},
   "source": [
    "#### System\n",
    "SystmOne"
   ]
  },
  {
   "cell_type": "code",
   "execution_count": 27,
   "id": "26573dfb-79dc-4647-88a6-e19dac9eca61",
   "metadata": {},
   "outputs": [
    {
     "name": "stdout",
     "output_type": "stream",
     "text": [
      "\n",
      "           |         test\n",
      "      diag |      Pos.       Neg. |     Total\n",
      "-----------+----------------------+----------\n",
      "  Abnormal |     2,288      3,323 |     5,611 \n",
      "    Normal |       380    222,764 |   223,144 \n",
      "-----------+----------------------+----------\n",
      "     Total |     2,668    226,087 |   228,755 \n",
      "True abnormal diagnosis defined as diag = 1\n",
      "\n",
      "\n",
      "                                                  [95% Confidence Interval]\n",
      "---------------------------------------------------------------------------\n",
      "Prevalence                         Pr(A)      2.5%      2.4%       2.5%\n",
      "---------------------------------------------------------------------------\n",
      "Sensitivity                      Pr(+|A)     40.8%     39.5%     42.1%\n",
      "Specificity                      Pr(-|N)     99.8%     99.8%     99.8%\n",
      "ROC area               (Sens. + Spec.)/2      0.70      0.70      0.71 \n",
      "---------------------------------------------------------------------------\n",
      "Likelihood ratio (+)     Pr(+|A)/Pr(+|N)    239.45    215.52    266.04 \n",
      "Likelihood ratio (-)     Pr(-|A)/Pr(-|N)      0.59      0.58      0.61 \n",
      "Odds ratio                   LR(+)/LR(-)    403.63    360.22    452.28 \n",
      "Positive predictive value        Pr(A|+)     85.8%     84.4%     87.1% \n",
      "Negative predictive value        Pr(N|-)     98.5%     98.5%     98.6% \n",
      "---------------------------------------------------------------------------\n"
     ]
    }
   ],
   "source": [
    "diagt diag test if regexm(system,\"One\")==1"
   ]
  },
  {
   "cell_type": "markdown",
   "id": "b561f033-d2f3-4c95-ad3f-03b8c65647ea",
   "metadata": {},
   "source": [
    "Vision"
   ]
  },
  {
   "cell_type": "code",
   "execution_count": 28,
   "id": "6bed6f81-5fd6-418e-94ff-96d2de419d3d",
   "metadata": {},
   "outputs": [
    {
     "name": "stdout",
     "output_type": "stream",
     "text": [
      "\n",
      "           |         test\n",
      "      diag |      Pos.       Neg. |     Total\n",
      "-----------+----------------------+----------\n",
      "  Abnormal |        93        140 |       233 \n",
      "    Normal |        64     13,447 |    13,511 \n",
      "-----------+----------------------+----------\n",
      "     Total |       157     13,587 |    13,744 \n",
      "True abnormal diagnosis defined as diag = 1\n",
      "\n",
      "\n",
      "                                                  [95% Confidence Interval]\n",
      "---------------------------------------------------------------------------\n",
      "Prevalence                         Pr(A)      1.7%      1.5%       1.9%\n",
      "---------------------------------------------------------------------------\n",
      "Sensitivity                      Pr(+|A)     39.9%     33.6%     46.5%\n",
      "Specificity                      Pr(-|N)     99.5%     99.4%     99.6%\n",
      "ROC area               (Sens. + Spec.)/2      0.70      0.67      0.73 \n",
      "---------------------------------------------------------------------------\n",
      "Likelihood ratio (+)     Pr(+|A)/Pr(+|N)     84.26     63.00    112.70 \n",
      "Likelihood ratio (-)     Pr(-|A)/Pr(-|N)      0.60      0.54      0.67 \n",
      "Odds ratio                   LR(+)/LR(-)    139.57     97.55    199.71 \n",
      "Positive predictive value        Pr(A|+)     59.2%     51.1%     67.0% \n",
      "Negative predictive value        Pr(N|-)     99.0%     98.8%     99.1% \n",
      "---------------------------------------------------------------------------\n"
     ]
    }
   ],
   "source": [
    "diagt diag test if regexm(system,\"Vision\")==1"
   ]
  },
  {
   "cell_type": "markdown",
   "id": "65d9cefb-fbb5-4500-8ed3-52074d4e12ad",
   "metadata": {},
   "source": [
    "EMIS"
   ]
  },
  {
   "cell_type": "code",
   "execution_count": 29,
   "id": "18d50bfe-f5c4-4ecb-b822-0d06e3b29224",
   "metadata": {},
   "outputs": [
    {
     "name": "stdout",
     "output_type": "stream",
     "text": [
      "\n",
      "           |         test\n",
      "      diag |      Pos.       Neg. |     Total\n",
      "-----------+----------------------+----------\n",
      "  Abnormal |     1,816      2,507 |     4,323 \n",
      "    Normal |       282    177,760 |   178,042 \n",
      "-----------+----------------------+----------\n",
      "     Total |     2,098    180,267 |   182,365 \n",
      "True abnormal diagnosis defined as diag = 1\n",
      "\n",
      "\n",
      "                                                  [95% Confidence Interval]\n",
      "---------------------------------------------------------------------------\n",
      "Prevalence                         Pr(A)      2.4%      2.3%       2.4%\n",
      "---------------------------------------------------------------------------\n",
      "Sensitivity                      Pr(+|A)     42.0%     40.5%     43.5%\n",
      "Specificity                      Pr(-|N)     99.8%     99.8%     99.9%\n",
      "ROC area               (Sens. + Spec.)/2      0.71      0.70      0.72 \n",
      "---------------------------------------------------------------------------\n",
      "Likelihood ratio (+)     Pr(+|A)/Pr(+|N)    265.22    234.81    299.56 \n",
      "Likelihood ratio (-)     Pr(-|A)/Pr(-|N)      0.58      0.57      0.60 \n",
      "Odds ratio                   LR(+)/LR(-)    456.61    400.38    520.74 \n",
      "Positive predictive value        Pr(A|+)     86.6%     85.0%     88.0% \n",
      "Negative predictive value        Pr(N|-)     98.6%     98.6%     98.7% \n",
      "---------------------------------------------------------------------------\n"
     ]
    }
   ],
   "source": [
    "diagt diag test if regexm(ustrupper(system),\"EMIS\")==1"
   ]
  },
  {
   "cell_type": "code",
   "execution_count": null,
   "id": "654b6659-0a73-4736-bc15-7bf926554432",
   "metadata": {},
   "outputs": [],
   "source": []
  },
  {
   "cell_type": "markdown",
   "id": "5cc0b78d-d049-4645-a6f4-e02b49b379db",
   "metadata": {},
   "source": [
    "#### RA_Index\n",
    "Index==1"
   ]
  },
  {
   "cell_type": "code",
   "execution_count": 30,
   "id": "9fa490cd-9380-44bc-8218-9f2193f09aee",
   "metadata": {},
   "outputs": [
    {
     "name": "stdout",
     "output_type": "stream",
     "text": [
      "\n",
      "           |         test\n",
      "      diag |      Pos.       Neg. |     Total\n",
      "-----------+----------------------+----------\n",
      "  Abnormal |     3,230      4,558 |     7,788 \n",
      "    Normal |       511    313,398 |   313,909 \n",
      "-----------+----------------------+----------\n",
      "     Total |     3,741    317,956 |   321,697 \n",
      "True abnormal diagnosis defined as diag = 1\n",
      "\n",
      "\n",
      "                                                  [95% Confidence Interval]\n",
      "---------------------------------------------------------------------------\n",
      "Prevalence                         Pr(A)      2.4%      2.4%       2.5%\n",
      "---------------------------------------------------------------------------\n",
      "Sensitivity                      Pr(+|A)     41.5%     40.4%     42.6%\n",
      "Specificity                      Pr(-|N)     99.8%     99.8%     99.9%\n",
      "ROC area               (Sens. + Spec.)/2      0.71      0.70      0.71 \n",
      "---------------------------------------------------------------------------\n",
      "Likelihood ratio (+)     Pr(+|A)/Pr(+|N)    254.78    232.72    278.93 \n",
      "Likelihood ratio (-)     Pr(-|A)/Pr(-|N)      0.59      0.58      0.60 \n",
      "Odds ratio                   LR(+)/LR(-)    434.61    394.14    479.24 \n",
      "Positive predictive value        Pr(A|+)     86.3%     85.2%     87.4% \n",
      "Negative predictive value        Pr(N|-)     98.6%     98.5%     98.6% \n",
      "---------------------------------------------------------------------------\n"
     ]
    }
   ],
   "source": [
    "diagt diag test if RA_index==1"
   ]
  },
  {
   "cell_type": "markdown",
   "id": "7d253ba5-4281-405c-bd8c-511a00a55bf6",
   "metadata": {},
   "source": [
    "Index==0"
   ]
  },
  {
   "cell_type": "code",
   "execution_count": 31,
   "id": "f50f1be6-d1fd-4b54-8cc8-be66d3b7312b",
   "metadata": {},
   "outputs": [
    {
     "name": "stdout",
     "output_type": "stream",
     "text": [
      "\n",
      "           |         test\n",
      "      diag |      Pos.       Neg. |     Total\n",
      "-----------+----------------------+----------\n",
      "  Abnormal |       967      1,414 |     2,381 \n",
      "    Normal |       215    100,707 |   100,922 \n",
      "-----------+----------------------+----------\n",
      "     Total |     1,182    102,121 |   103,303 \n",
      "True abnormal diagnosis defined as diag = 1\n",
      "\n",
      "\n",
      "                                                  [95% Confidence Interval]\n",
      "---------------------------------------------------------------------------\n",
      "Prevalence                         Pr(A)      2.3%      2.2%       2.4%\n",
      "---------------------------------------------------------------------------\n",
      "Sensitivity                      Pr(+|A)     40.6%     38.6%     42.6%\n",
      "Specificity                      Pr(-|N)     99.8%     99.8%     99.8%\n",
      "ROC area               (Sens. + Spec.)/2      0.70      0.69      0.71 \n",
      "---------------------------------------------------------------------------\n",
      "Likelihood ratio (+)     Pr(+|A)/Pr(+|N)    190.64    165.39    219.75 \n",
      "Likelihood ratio (-)     Pr(-|A)/Pr(-|N)      0.60      0.58      0.62 \n",
      "Odds ratio                   LR(+)/LR(-)    320.33    273.87    374.67 \n",
      "Positive predictive value        Pr(A|+)     81.8%     79.5%     84.0% \n",
      "Negative predictive value        Pr(N|-)     98.6%     98.5%     98.7% \n",
      "---------------------------------------------------------------------------\n"
     ]
    }
   ],
   "source": [
    "diagt diag test if RA_index==0"
   ]
  },
  {
   "cell_type": "markdown",
   "id": "72956d72",
   "metadata": {},
   "source": [
    "#### Ethnicity\n",
    "Ethnicity==0000white"
   ]
  },
  {
   "cell_type": "code",
   "execution_count": 32,
   "id": "b35bf6ab",
   "metadata": {},
   "outputs": [
    {
     "name": "stdout",
     "output_type": "stream",
     "text": [
      "\n",
      "           |         test\n",
      "      diag |      Pos.       Neg. |     Total\n",
      "-----------+----------------------+----------\n",
      "  Abnormal |     3,235      4,366 |     7,601 \n",
      "    Normal |       455    249,925 |   250,380 \n",
      "-----------+----------------------+----------\n",
      "     Total |     3,690    254,291 |   257,981 \n",
      "True abnormal diagnosis defined as diag = 1\n",
      "\n",
      "\n",
      "                                                  [95% Confidence Interval]\n",
      "---------------------------------------------------------------------------\n",
      "Prevalence                         Pr(A)      2.9%      2.9%       3.0%\n",
      "---------------------------------------------------------------------------\n",
      "Sensitivity                      Pr(+|A)     42.6%     41.4%     43.7%\n",
      "Specificity                      Pr(-|N)     99.8%     99.8%     99.8%\n",
      "ROC area               (Sens. + Spec.)/2      0.71      0.71      0.72 \n",
      "---------------------------------------------------------------------------\n",
      "Likelihood ratio (+)     Pr(+|A)/Pr(+|N)    234.20    212.88    257.66 \n",
      "Likelihood ratio (-)     Pr(-|A)/Pr(-|N)      0.58      0.56      0.59 \n",
      "Odds ratio                   LR(+)/LR(-)    406.99    367.32    450.95 \n",
      "Positive predictive value        Pr(A|+)     87.7%     86.6%     88.7% \n",
      "Negative predictive value        Pr(N|-)     98.3%     98.2%     98.3% \n",
      "---------------------------------------------------------------------------\n"
     ]
    }
   ],
   "source": [
    "diagt diag test if ethnicity==\"0white\""
   ]
  },
  {
   "cell_type": "code",
   "execution_count": 33,
   "id": "10050fbc",
   "metadata": {},
   "outputs": [
    {
     "name": "stdout",
     "output_type": "stream",
     "text": [
      "\n",
      "           |         test\n",
      "      diag |      Pos.       Neg. |     Total\n",
      "-----------+----------------------+----------\n",
      "  Abnormal |       127        248 |       375 \n",
      "    Normal |        16     43,477 |    43,493 \n",
      "-----------+----------------------+----------\n",
      "     Total |       143     43,725 |    43,868 \n",
      "True abnormal diagnosis defined as diag = 1\n",
      "\n",
      "\n",
      "                                                  [95% Confidence Interval]\n",
      "---------------------------------------------------------------------------\n",
      "Prevalence                         Pr(A)      0.9%      0.8%       0.9%\n",
      "---------------------------------------------------------------------------\n",
      "Sensitivity                      Pr(+|A)     33.9%     29.1%     38.9%\n",
      "Specificity                      Pr(-|N)    100.0%     99.9%    100.0%\n",
      "ROC area               (Sens. + Spec.)/2      0.67      0.65      0.69 \n",
      "---------------------------------------------------------------------------\n",
      "Likelihood ratio (+)     Pr(+|A)/Pr(+|N)    920.60    552.87    1532.93 \n",
      "Likelihood ratio (-)     Pr(-|A)/Pr(-|N)      0.66      0.62      0.71 \n",
      "Odds ratio                   LR(+)/LR(-)   1391.53    819.70   2361.48 \n",
      "Positive predictive value        Pr(A|+)     88.8%     82.5%     93.5% \n",
      "Negative predictive value        Pr(N|-)     99.4%     99.4%     99.5% \n",
      "---------------------------------------------------------------------------\n"
     ]
    }
   ],
   "source": [
    "diagt diag test if ethnicity==\"Other\""
   ]
  },
  {
   "cell_type": "code",
   "execution_count": 34,
   "id": "a9b0ba23",
   "metadata": {},
   "outputs": [
    {
     "name": "stdout",
     "output_type": "stream",
     "text": [
      "\n",
      "           |         test\n",
      "      diag |      Pos.       Neg. |     Total\n",
      "-----------+----------------------+----------\n",
      "  Abnormal |       835      1,358 |     2,193 \n",
      "    Normal |       255    120,703 |   120,958 \n",
      "-----------+----------------------+----------\n",
      "     Total |     1,090    122,061 |   123,151 \n",
      "True abnormal diagnosis defined as diag = 1\n",
      "\n",
      "\n",
      "                                                  [95% Confidence Interval]\n",
      "---------------------------------------------------------------------------\n",
      "Prevalence                         Pr(A)      1.8%      1.7%       1.9%\n",
      "---------------------------------------------------------------------------\n",
      "Sensitivity                      Pr(+|A)     38.1%     36.0%     40.1%\n",
      "Specificity                      Pr(-|N)     99.8%     99.8%     99.8%\n",
      "ROC area               (Sens. + Spec.)/2      0.69      0.68      0.70 \n",
      "---------------------------------------------------------------------------\n",
      "Likelihood ratio (+)     Pr(+|A)/Pr(+|N)    180.61    158.00    206.45 \n",
      "Likelihood ratio (-)     Pr(-|A)/Pr(-|N)      0.62      0.60      0.64 \n",
      "Odds ratio                   LR(+)/LR(-)    291.05    250.51    338.14 \n",
      "Positive predictive value        Pr(A|+)     76.6%     74.0%     79.1% \n",
      "Negative predictive value        Pr(N|-)     98.9%     98.8%     98.9% \n",
      "---------------------------------------------------------------------------\n"
     ]
    }
   ],
   "source": [
    "diagt diag test if ethnicity==\"Missing\""
   ]
  },
  {
   "cell_type": "code",
   "execution_count": 35,
   "id": "0c6b3359-4cc6-4eb5-a15f-ed1be0b97aa0",
   "metadata": {},
   "outputs": [],
   "source": [
    "tempname memhold\n",
    "postfile `memhold' str20 var prev sens spec ppv npv roc using \"validity.dta\",replace\n",
    "\n",
    "quietly diagt diag test\n",
    "local prev=r(prev)\n",
    "local sens=r(sens)\n",
    "local spec=r(spec)\n",
    "local ppv=r(ppv)\n",
    "local npv=r(npv)\n",
    "local roc=r(roc)\n",
    "post `memhold' (\"all\") (`prev') (`sens') (`spec') (`ppv') (`npv') (`roc') \n",
    "\n",
    "quietly diagt diag test if sex==1\n",
    "local prev=r(prev)\n",
    "local sens=r(sens)\n",
    "local spec=r(spec)\n",
    "local ppv=r(ppv)\n",
    "local npv=r(npv)\n",
    "local roc=r(roc)\n",
    "post `memhold' (\"Male\") (`prev') (`sens') (`spec') (`ppv') (`npv') (`roc') \n",
    "\n",
    "quietly diagt diag test if sex==0\n",
    "local prev=r(prev)\n",
    "local sens=r(sens)\n",
    "local spec=r(spec)\n",
    "local ppv=r(ppv)\n",
    "local npv=r(npv)\n",
    "local roc=r(roc)\n",
    "post `memhold' (\"Female\") (`prev') (`sens') (`spec') (`ppv') (`npv') (`roc') \n",
    "\n",
    "quietly diagt diag test if agecat==0\n",
    "local prev=r(prev)\n",
    "local sens=r(sens)\n",
    "local spec=r(spec)\n",
    "local ppv=r(ppv)\n",
    "local npv=r(npv)\n",
    "local roc=r(roc)\n",
    "post `memhold' (\"Age young\") (`prev') (`sens') (`spec') (`ppv') (`npv') (`roc') \n",
    "\n",
    "quietly diagt diag test if agecat==70\n",
    "local prev=r(prev)\n",
    "local sens=r(sens)\n",
    "local spec=r(spec)\n",
    "local ppv=r(ppv)\n",
    "local npv=r(npv)\n",
    "local roc=r(roc)\n",
    "post `memhold' (\"Age middle\") (`prev') (`sens') (`spec') (`ppv') (`npv') (`roc') \n",
    "\n",
    "quietly diagt diag test if agecat==90\n",
    "local prev=r(prev)\n",
    "local sens=r(sens)\n",
    "local spec=r(spec)\n",
    "local ppv=r(ppv)\n",
    "local npv=r(npv)\n",
    "local roc=r(roc)\n",
    "post `memhold' (\"Age elderly\") (`prev') (`sens') (`spec') (`ppv') (`npv') (`roc') \n",
    "\n",
    "\n",
    "quietly diagt diag test if yearcat==2004\n",
    "local prev=r(prev)\n",
    "local sens=r(sens)\n",
    "local spec=r(spec)\n",
    "local ppv=r(ppv)\n",
    "local npv=r(npv)\n",
    "local roc=r(roc)\n",
    "post `memhold' (\"Year 2004-2009\") (`prev') (`sens') (`spec') (`ppv') (`npv') (`roc') \n",
    "\n",
    "quietly diagt diag test if yearcat==2010\n",
    "local prev=r(prev)\n",
    "local sens=r(sens)\n",
    "local spec=r(spec)\n",
    "local ppv=r(ppv)\n",
    "local npv=r(npv)\n",
    "local roc=r(roc)\n",
    "post `memhold' (\"Year 2010-2015\") (`prev') (`sens') (`spec') (`ppv') (`npv') (`roc')\n",
    "\n",
    "quietly diagt diag test if yearcat==2016\n",
    "local prev=r(prev)\n",
    "local sens=r(sens)\n",
    "local spec=r(spec)\n",
    "local ppv=r(ppv)\n",
    "local npv=r(npv)\n",
    "local roc=r(roc)\n",
    "post `memhold' (\"Year 2016-2020\") (`prev') (`sens') (`spec') (`ppv') (`npv') (`roc') \n",
    "\n",
    "\n",
    "quietly diagt diag test if imdcat==0\n",
    "local prev=r(prev)\n",
    "local sens=r(sens)\n",
    "local spec=r(spec)\n",
    "local ppv=r(ppv)\n",
    "local npv=r(npv)\n",
    "local roc=r(roc)\n",
    "post `memhold' (\"IMD 1,3\") (`prev') (`sens') (`spec') (`ppv') (`npv') (`roc') \n",
    "\n",
    "quietly diagt diag test if imdcat==4\n",
    "local prev=r(prev)\n",
    "local sens=r(sens)\n",
    "local spec=r(spec)\n",
    "local ppv=r(ppv)\n",
    "local npv=r(npv)\n",
    "local roc=r(roc)\n",
    "post `memhold' (\"IMD 4,7\") (`prev') (`sens') (`spec') (`ppv') (`npv') (`roc') \n",
    "\n",
    "quietly diagt diag test if imdcat==8\n",
    "local prev=r(prev)\n",
    "local sens=r(sens)\n",
    "local spec=r(spec)\n",
    "local ppv=r(ppv)\n",
    "local npv=r(npv)\n",
    "local roc=r(roc)\n",
    "post `memhold' (\"IMD 8,10\") (`prev') (`sens') (`spec') (`ppv') (`npv') (`roc') \n",
    "\n",
    "\n",
    "quietly diagt diag test if regexm(region_name,\"LONDON\")==1\n",
    "local prev=r(prev)\n",
    "local sens=r(sens)\n",
    "local spec=r(spec)\n",
    "local ppv=r(ppv)\n",
    "local npv=r(npv)\n",
    "local roc=r(roc)\n",
    "post `memhold' (\"London\") (`prev') (`sens') (`spec') (`ppv') (`npv') (`roc') \n",
    "\n",
    "quietly diagt diag test if regexm(region_name,\"MID\")==1\n",
    "local prev=r(prev)\n",
    "local sens=r(sens)\n",
    "local spec=r(spec)\n",
    "local ppv=r(ppv)\n",
    "local npv=r(npv)\n",
    "local roc=r(roc)\n",
    "post `memhold' (\"Midlands\") (`prev') (`sens') (`spec') (`ppv') (`npv') (`roc') \n",
    "\n",
    "quietly diagt diag test if regexm(region_name,\"YORK\")==1\n",
    "local prev=r(prev)\n",
    "local sens=r(sens)\n",
    "local spec=r(spec)\n",
    "local ppv=r(ppv)\n",
    "local npv=r(npv)\n",
    "local roc=r(roc)\n",
    "post `memhold' (\"Yorkshire\") (`prev') (`sens') (`spec') (`ppv') (`npv') (`roc') \n",
    "\n",
    "quietly diagt diag test if regexm(region_name,\"NORTH\")==1 & regexm(region_name,\"WEST\")==1\n",
    "local prev=r(prev)\n",
    "local sens=r(sens)\n",
    "local spec=r(spec)\n",
    "local ppv=r(ppv)\n",
    "local npv=r(npv)\n",
    "local roc=r(roc)\n",
    "post `memhold' (\"North West\") (`prev') (`sens') (`spec') (`ppv') (`npv') (`roc') \n",
    "\n",
    "quietly diagt diag test if regexm(region_name,\"SOUTH\")==1 & regexm(region_name,\"EAST\")==1\n",
    "local prev=r(prev)\n",
    "local sens=r(sens)\n",
    "local spec=r(spec)\n",
    "local ppv=r(ppv)\n",
    "local npv=r(npv)\n",
    "local roc=r(roc)\n",
    "post `memhold' (\"South East\") (`prev') (`sens') (`spec') (`ppv') (`npv') (`roc') \n",
    "\n",
    "quietly diagt diag test if regexm(region_name,\"SOUTH\")==1 & regexm(region_name,\"WEST\")==1\n",
    "local prev=r(prev)\n",
    "local sens=r(sens)\n",
    "local spec=r(spec)\n",
    "local ppv=r(ppv)\n",
    "local npv=r(npv)\n",
    "local roc=r(roc)\n",
    "post `memhold' (\"South West\") (`prev') (`sens') (`spec') (`ppv') (`npv') (`roc') \n",
    "\n",
    "quietly diagt diag test if regexm(system,\"One\")==1\n",
    "local prev=r(prev)\n",
    "local sens=r(sens)\n",
    "local spec=r(spec)\n",
    "local ppv=r(ppv)\n",
    "local npv=r(npv)\n",
    "local roc=r(roc)\n",
    "post `memhold' (\"SystemOne\") (`prev') (`sens') (`spec') (`ppv') (`npv') (`roc') \n",
    "\n",
    "quietly diagt diag test if regexm(system,\"Vision\")==1\n",
    "local prev=r(prev)\n",
    "local sens=r(sens)\n",
    "local spec=r(spec)\n",
    "local ppv=r(ppv)\n",
    "local npv=r(npv)\n",
    "local roc=r(roc)\n",
    "post `memhold' (\"Vision\") (`prev') (`sens') (`spec') (`ppv') (`npv') (`roc') \n",
    "\n",
    "quietly diagt diag test if regexm(ustrupper(system),\"EMIS\")==1\n",
    "local prev=r(prev)\n",
    "local sens=r(sens)\n",
    "local spec=r(spec)\n",
    "local ppv=r(ppv)\n",
    "local npv=r(npv)\n",
    "local roc=r(roc)\n",
    "post `memhold' (\"EMIS\") (`prev') (`sens') (`spec') (`ppv') (`npv') (`roc') \n",
    "\n",
    "quietly diagt diag test if RA_index==1\n",
    "local prev=r(prev)\n",
    "local sens=r(sens)\n",
    "local spec=r(spec)\n",
    "local ppv=r(ppv)\n",
    "local npv=r(npv)\n",
    "local roc=r(roc)\n",
    "post `memhold' (\"RAIndex1\") (`prev') (`sens') (`spec') (`ppv') (`npv') (`roc') \n",
    "\n",
    "quietly diagt diag test if RA_index==0\n",
    "local prev=r(prev)\n",
    "local sens=r(sens)\n",
    "local spec=r(spec)\n",
    "local ppv=r(ppv)\n",
    "local npv=r(npv)\n",
    "local roc=r(roc)\n",
    "post `memhold' (\"RAIndex0\") (`prev') (`sens') (`spec') (`ppv') (`npv') (`roc') \n",
    "\n",
    "quietly diagt diag test if ethnicity==\"0white\"\n",
    "local prev=r(prev)\n",
    "local sens=r(sens)\n",
    "local spec=r(spec)\n",
    "local ppv=r(ppv)\n",
    "local npv=r(npv)\n",
    "local roc=r(roc)\n",
    "post `memhold' (\"Ethnicity_0white\") (`prev') (`sens') (`spec') (`ppv') (`npv') (`roc') \n",
    "\n",
    "quietly diagt diag test if ethnicity==\"Other\"\n",
    "local prev=r(prev)\n",
    "local sens=r(sens)\n",
    "local spec=r(spec)\n",
    "local ppv=r(ppv)\n",
    "local npv=r(npv)\n",
    "local roc=r(roc)\n",
    "post `memhold' (\"Ethnicity_Other\") (`prev') (`sens') (`spec') (`ppv') (`npv') (`roc') \n",
    "\n",
    "\n",
    "\n",
    "quietly diagt diag test if ethnicity==\"Missing\"\n",
    "local prev=r(prev)\n",
    "local sens=r(sens)\n",
    "local spec=r(spec)\n",
    "local ppv=r(ppv)\n",
    "local npv=r(npv)\n",
    "local roc=r(roc)\n",
    "post `memhold' (\"Ethnicity_Missing\") (`prev') (`sens') (`spec') (`ppv') (`npv') (`roc') \n",
    "\n",
    "postclose `memhold'"
   ]
  },
  {
   "cell_type": "markdown",
   "id": "b350c4fb-deb8-450a-9750-689dc3a8268e",
   "metadata": {},
   "source": [
    "### Logistic Regression\n",
    "#### PPV"
   ]
  },
  {
   "cell_type": "code",
   "execution_count": 36,
   "id": "a21415d9",
   "metadata": {},
   "outputs": [
    {
     "name": "stdout",
     "output_type": "stream",
     "text": [
      "(2,589 observations deleted)\n",
      "(9 observations deleted)\n"
     ]
    }
   ],
   "source": [
    "drop if missing(imdcat)\n",
    "drop if missing(sex)"
   ]
  },
  {
   "cell_type": "code",
   "execution_count": 37,
   "id": "ad17f02e-1d4b-48ec-8a48-1c137597db1a",
   "metadata": {},
   "outputs": [
    {
     "name": "stdout",
     "output_type": "stream",
     "text": [
      "\n",
      "Logistic regression                                    Number of obs =   4,921\n",
      "                                                       LR chi2(0)    =   -0.00\n",
      "                                                       Prob > chi2   =       .\n",
      "Log likelihood = -2058.9578                            Pseudo R2     = -0.0000\n",
      "\n",
      "------------------------------------------------------------------------------\n",
      "    diag_pos |       Odds   Std. err.      z    P>|z|     [95% conf. interval]\n",
      "-------------+----------------------------------------------------------------\n",
      "       _cons |   5.778237   .2322671    43.64   0.000     5.340473    6.251885\n",
      "------------------------------------------------------------------------------\n"
     ]
    }
   ],
   "source": [
    "logistic diag_pos if test==1"
   ]
  },
  {
   "cell_type": "code",
   "execution_count": 38,
   "id": "b4bb2be2-7e3e-402c-aa81-7b7dfd706f64",
   "metadata": {},
   "outputs": [
    {
     "name": "stdout",
     "output_type": "stream",
     "text": [
      "\n",
      "Logistic regression                                     Number of obs =  4,921\n",
      "                                                        LR chi2(1)    =   0.09\n",
      "                                                        Prob > chi2   = 0.7667\n",
      "Log likelihood = -2058.9138                             Pseudo R2     = 0.0000\n",
      "\n",
      "---------------------------------------------------------------------------------\n",
      "       diag_pos | Odds ratio   Std. err.      z    P>|z|     [95% conf. interval]\n",
      "----------------+----------------------------------------------------------------\n",
      "bnf_code_values |\n",
      " Other/unknown  |   1.169236   .6281925     0.29   0.771     .4079238    3.351391\n",
      "          _cons |   5.772853   .2327086    43.49   0.000     5.334305    6.247456\n",
      "---------------------------------------------------------------------------------\n",
      "Note: _cons estimates baseline odds.\n"
     ]
    }
   ],
   "source": [
    "logistic diag_pos i.bnf_code_values if test==1"
   ]
  },
  {
   "cell_type": "code",
   "execution_count": 39,
   "id": "49e40858",
   "metadata": {},
   "outputs": [
    {
     "name": "stdout",
     "output_type": "stream",
     "text": [
      "\n",
      "Fitting fixed-effects model:\n",
      "\n",
      "Iteration 0:  Log likelihood =  -1891.989  \n",
      "Iteration 1:  Log likelihood = -1862.7728  \n",
      "Iteration 2:  Log likelihood = -1862.5038  \n",
      "Iteration 3:  Log likelihood = -1862.5037  \n",
      "\n",
      "Refining starting values:\n",
      "\n",
      "Grid node 0:  Log likelihood = -1849.1413\n",
      "\n",
      "Fitting full model:\n",
      "\n",
      "Iteration 0:  Log likelihood = -1849.1413  (not concave)\n",
      "Iteration 1:  Log likelihood = -1835.2048  \n",
      "Iteration 2:  Log likelihood = -1832.0972  \n",
      "Iteration 3:  Log likelihood = -1832.0454  \n",
      "Iteration 4:  Log likelihood = -1832.0453  \n",
      "\n",
      "Mixed-effects logistic regression               Number of obs     =      4,921\n",
      "Group variable: practice_id                     Number of groups  =        274\n",
      "\n",
      "                                                Obs per group:\n",
      "                                                              min =          1\n",
      "                                                              avg =       18.0\n",
      "                                                              max =        126\n",
      "\n",
      "Integration method: mvaghermite                 Integration pts.  =          7\n",
      "\n",
      "                                                Wald chi2(17)     =     311.04\n",
      "Log likelihood = -1832.0453                     Prob > chi2       =     0.0000\n",
      "----------------------------------------------------------------------------------------------------------------\n",
      "                                       newdiag | Odds ratio   Std. err.      z    P>|z|     [95% conf. interval]\n",
      "-----------------------------------------------+----------------------------------------------------------------\n",
      "                                   1.sex_coded |   .9361145   .0855331    -0.72   0.470     .7826262    1.119705\n",
      "                                               |\n",
      "                                       yearcat |\n",
      "                                    2010-2015  |   2.631977    .275432     9.25   0.000     2.143904    3.231163\n",
      "                                    2016-2020  |   6.584902   .8224807    15.09   0.000     5.155026    8.411391\n",
      "                                               |\n",
      "                                        agecat |\n",
      "                                      0Middle  |   1.327158   .1889102     1.99   0.047     1.004063    1.754221\n",
      "                                      Elderly  |   1.034328   .2015303     0.17   0.862     .7060067    1.515333\n",
      "                                               |\n",
      "                                        region |\n",
      "                  LONDON COMMISSIONING REGION  |   .8696867   .4026427    -0.30   0.763     .3509767       2.155\n",
      "                MIDLANDS COMMISSIONING REGION  |   1.051919   .2522073     0.21   0.833     .6575049    1.682929\n",
      "NORTH EAST AND YORKSHIRE COMMISSIONING REGION  |   .6950728   .1629554    -1.55   0.121      .439007    1.100498\n",
      "              NORTH WEST COMMISSIONING REGION  |   .5718489   .1440251    -2.22   0.026      .349059    .9368365\n",
      "              SOUTH EAST COMMISSIONING REGION  |   .7889445   .1652211    -1.13   0.258     .5233443    1.189338\n",
      "              SOUTH WEST COMMISSIONING REGION  |   1.059078   .2801006     0.22   0.828     .6306752    1.778485\n",
      "                                     Scotland  |   .4518081    .181359    -1.98   0.048     .2057196    .9922757\n",
      "                                               |\n",
      "                                      RA_index |   1.497784   .2509602     2.41   0.016     1.078516     2.08004\n",
      "                                               |\n",
      "                                        ethnic |\n",
      "                                      Missing  |   .7243969   .0763212    -3.06   0.002     .5892444    .8905488\n",
      "                                        Other  |   .8860075   .2623562    -0.41   0.683     .4958926    1.583023\n",
      "                                               |\n",
      "                                        imdcat |\n",
      "                                          4-7  |   .8083303   .1407492    -1.22   0.222      .574612    1.137111\n",
      "                                         8-10  |   .8788806   .1640566    -0.69   0.489      .609593    1.267126\n",
      "                                               |\n",
      "                                         _cons |   2.245387   .5395504     3.37   0.001     1.402018    3.596076\n",
      "-----------------------------------------------+----------------------------------------------------------------\n",
      "practice_id                                    |\n",
      "                                     var(_cons)|   .3609201   .0871709                       .224815    .5794245\n",
      "----------------------------------------------------------------------------------------------------------------\n",
      "Note: Estimates are transformed only in the first equation to odds ratios.\n",
      "Note: _cons estimates baseline odds (conditional on zero random effects).\n",
      "LR test vs. logistic model: chibar2(01) = 60.92       Prob >= chibar2 = 0.0000\n"
     ]
    }
   ],
   "source": [
    "gen newdiag=diag_pos\n",
    "\n",
    "melogit newdiag i.sex i.yearcat i.agecat  i.region RA_index i.ethnic i.imdcat if test==1 || practice_id:,or\n",
    "estimates store model1"
   ]
  },
  {
   "cell_type": "markdown",
   "id": "1fb85b5e",
   "metadata": {},
   "source": [
    "##### Likelihood ratio tests"
   ]
  },
  {
   "cell_type": "code",
   "execution_count": 40,
   "id": "718b2ba3-f1ac-41c9-af92-e0cb45d55985",
   "metadata": {},
   "outputs": [],
   "source": [
    "\n",
    "\n",
    "quietly: melogit newdiag i.sex i.yearcat i.agecat  i.region RA_index i.ethnic if test==1 || practice_id:,or\n",
    "estimates store model_imd\n",
    "\n",
    "quietly:melogit newdiag i.sex i.yearcat i.agecat  i.region RA_index i.imdcat if test==1 || practice_id:,or\n",
    "estimates store model_ethnicity\n",
    "\n",
    "quietly:melogit newdiag i.yearcat i.agecat  i.region RA_index i.ethnic i.imdcat if test==1 || practice_id:,or\n",
    "estimates store model_sex\n",
    "\n",
    "quietly:melogit newdiag i.sex i.agecat  i.region RA_index i.ethnic i.imdcat if test==1 || practice_id:,or\n",
    "estimates store model_year\n",
    "\n",
    "quietly: melogit newdiag i.sex i.yearcat  i.region RA_index i.ethnic i.imdcat if test==1 || practice_id:,or\n",
    "estimates store model_age\n",
    "\n"
   ]
  },
  {
   "cell_type": "code",
   "execution_count": 41,
   "id": "31887f9d",
   "metadata": {},
   "outputs": [
    {
     "name": "stdout",
     "output_type": "stream",
     "text": [
      "\n",
      "Likelihood-ratio test\n",
      "Assumption: model_sex nested within model1\n",
      "\n",
      " LR chi2(1) =   0.52\n",
      "Prob > chi2 = 0.4706\n",
      "\n",
      "Likelihood-ratio test\n",
      "Assumption: model_year nested within model1\n",
      "\n",
      " LR chi2(2) = 246.40\n",
      "Prob > chi2 = 0.0000\n",
      "\n",
      "Likelihood-ratio test\n",
      "Assumption: model_age nested within model1\n",
      "\n",
      " LR chi2(2) =   5.96\n",
      "Prob > chi2 = 0.0508\n",
      "\n",
      "Likelihood-ratio test\n",
      "Assumption: model_ethnic~y nested within model1\n",
      "\n",
      " LR chi2(2) =   9.26\n",
      "Prob > chi2 = 0.0097\n",
      "\n",
      "Likelihood-ratio test\n",
      "Assumption: model_imd nested within model1\n",
      "\n",
      " LR chi2(2) =   1.52\n",
      "Prob > chi2 = 0.4684\n"
     ]
    }
   ],
   "source": [
    "lrtest model1 model_sex\n",
    "lrtest model1 model_year\n",
    "lrtest model1 model_age\n",
    "lrtest model1 model_ethnicity\n",
    "lrtest model1 model_imd\n"
   ]
  },
  {
   "cell_type": "markdown",
   "id": "99227c99-0304-407b-a990-a06fe4bd4560",
   "metadata": {},
   "source": [
    "#### NPV"
   ]
  },
  {
   "cell_type": "code",
   "execution_count": 42,
   "id": "04c0103e-c424-49af-8973-09a13878ea3f",
   "metadata": {},
   "outputs": [
    {
     "name": "stdout",
     "output_type": "stream",
     "text": [
      "\n",
      "Logistic regression                                    Number of obs = 417,481\n",
      "                                                       LR chi2(0)    =   -0.00\n",
      "                                                       Prob > chi2   =       .\n",
      "Log likelihood = -31280.404                            Pseudo R2     = -0.0000\n",
      "\n",
      "------------------------------------------------------------------------------\n",
      "    diag_neg |       Odds   Std. err.      z    P>|z|     [95% conf. interval]\n",
      "-------------+----------------------------------------------------------------\n",
      "       _cons |   68.94153    .898788   324.71   0.000     67.20225    70.72582\n",
      "------------------------------------------------------------------------------\n"
     ]
    }
   ],
   "source": [
    "logistic diag_neg if test==0"
   ]
  },
  {
   "cell_type": "code",
   "execution_count": 43,
   "id": "93a5b760",
   "metadata": {},
   "outputs": [
    {
     "name": "stdout",
     "output_type": "stream",
     "text": [
      "(422,402 real changes made)\n",
      "\n",
      "Fitting fixed-effects model:\n",
      "\n",
      "Iteration 0:  Log likelihood =  -50448.07  \n",
      "Iteration 1:  Log likelihood = -24764.924  \n",
      "Iteration 2:  Log likelihood = -23701.968  \n",
      "Iteration 3:  Log likelihood = -23334.887  \n",
      "Iteration 4:  Log likelihood = -23334.513  \n",
      "Iteration 5:  Log likelihood = -23334.513  \n",
      "\n",
      "Refining starting values:\n",
      "\n",
      "Grid node 0:  Log likelihood = -23199.137\n",
      "\n",
      "Fitting full model:\n",
      "\n",
      "Iteration 0:  Log likelihood = -23199.137  (not concave)\n",
      "Iteration 1:  Log likelihood =  -23128.19  \n",
      "Iteration 2:  Log likelihood = -23109.814  \n",
      "Iteration 3:  Log likelihood = -23107.747  \n",
      "Iteration 4:  Log likelihood = -23107.698  \n",
      "Iteration 5:  Log likelihood = -23107.697  \n",
      "\n",
      "Mixed-effects logistic regression               Number of obs     =    417,481\n",
      "Group variable: practice_id                     Number of groups  =        339\n",
      "\n",
      "                                                Obs per group:\n",
      "                                                              min =          1\n",
      "                                                              avg =    1,231.5\n",
      "                                                              max =     10,383\n",
      "\n",
      "Integration method: mvaghermite                 Integration pts.  =          7\n",
      "\n",
      "                                                Wald chi2(17)     =    8780.54\n",
      "Log likelihood = -23107.697                     Prob > chi2       =     0.0000\n",
      "----------------------------------------------------------------------------------------------------------------\n",
      "                                       newdiag | Odds ratio   Std. err.      z    P>|z|     [95% conf. interval]\n",
      "-----------------------------------------------+----------------------------------------------------------------\n",
      "                                   1.sex_coded |   1.460392   .0418019    13.23   0.000     1.380717    1.544664\n",
      "                                               |\n",
      "                                       yearcat |\n",
      "                                    2010-2015  |   .5691819   .0204199   -15.71   0.000     .5305343    .6106448\n",
      "                                    2016-2020  |    .364997   .0135103   -27.23   0.000     .3394549     .392461\n",
      "                                               |\n",
      "                                        agecat |\n",
      "                                      0Middle  |   .0266795   .0011821   -81.79   0.000     .0244604       .0291\n",
      "                                      Elderly  |   .0118843   .0006575   -80.12   0.000      .010663    .0132455\n",
      "                                               |\n",
      "                                        region |\n",
      "                  LONDON COMMISSIONING REGION  |   .9670671   .1888356    -0.17   0.864     .6595469    1.417972\n",
      "                MIDLANDS COMMISSIONING REGION  |   .8398769   .0824092    -1.78   0.075     .6929394    1.017972\n",
      "NORTH EAST AND YORKSHIRE COMMISSIONING REGION  |     .96038   .1029234    -0.38   0.706     .7784313    1.184857\n",
      "              NORTH WEST COMMISSIONING REGION  |   .7518241   .0877112    -2.45   0.014     .5981515    .9449771\n",
      "              SOUTH EAST COMMISSIONING REGION  |   .9695911   .0996958    -0.30   0.764     .7926216    1.186073\n",
      "              SOUTH WEST COMMISSIONING REGION  |   .8895216    .108246    -0.96   0.336     .7007671    1.129118\n",
      "                                     Scotland  |   .7693079   .1603239    -1.26   0.208     .5113399    1.157419\n",
      "                                               |\n",
      "                                      RA_index |   1.055721   .0800479     0.72   0.475     .9099309    1.224869\n",
      "                                               |\n",
      "                                        ethnic |\n",
      "                                      Missing  |   1.342155   .0492377     8.02   0.000     1.249038    1.442213\n",
      "                                        Other  |   1.117217   .0825986     1.50   0.134     .9665093    1.291424\n",
      "                                               |\n",
      "                                        imdcat |\n",
      "                                          4-7  |   1.034201   .0806832     0.43   0.666     .8875614    1.205068\n",
      "                                         8-10  |   1.054613    .087542     0.64   0.522     .8962638    1.240938\n",
      "                                               |\n",
      "                                         _cons |   852.7437   81.71189    70.43   0.000     706.7314    1028.922\n",
      "-----------------------------------------------+----------------------------------------------------------------\n",
      "practice_id                                    |\n",
      "                                     var(_cons)|   .1594305   .0218881                      .1218178    .2086566\n",
      "----------------------------------------------------------------------------------------------------------------\n",
      "Note: Estimates are transformed only in the first equation to odds ratios.\n",
      "Note: _cons estimates baseline odds (conditional on zero random effects).\n",
      "LR test vs. logistic model: chibar2(01) = 453.63      Prob >= chibar2 = 0.0000\n"
     ]
    }
   ],
   "source": [
    "/* need to use the same response variable (newdiag) to line up the two model results */\n",
    "replace newdiag=diag_neg \n",
    "\n",
    "melogit newdiag i.sex i.yearcat i.agecat i.region RA_index i.ethnic i.imdcat if test==0 || practice_id:,or\n",
    "estimates store model2"
   ]
  },
  {
   "cell_type": "markdown",
   "id": "60c60b7a",
   "metadata": {},
   "source": [
    "##### Likelihood ratio tests"
   ]
  },
  {
   "cell_type": "code",
   "execution_count": 44,
   "id": "c31bd1f1-c69b-4600-a1c0-bde311d67651",
   "metadata": {},
   "outputs": [],
   "source": [
    "\n",
    "quietly: melogit newdiag i.yearcat i.agecat i.region RA_index i.ethnic i.imdcat if test==0 || practice_id:,or\n",
    "estimates store model2_sex\n",
    "quietly: melogit newdiag i.sex i.agecat i.region RA_index i.ethnic i.imdcat if test==0 || practice_id:,or\n",
    "estimates store model2_year\n",
    "quietly: melogit newdiag i.sex i.yearcat i.region RA_index i.ethnic i.imdcat if test==0 || practice_id:,or\n",
    "estimates store model2_age\n",
    "quietly: melogit newdiag i.sex i.yearcat i.agecat i.region RA_index i.imdcat if test==0 || practice_id:,or\n",
    "estimates store model2_ethnicity\n",
    "quietly: melogit newdiag i.sex i.yearcat i.agecat i.region RA_index i.ethnic if test==0 || practice_id:,or\n",
    "estimates store model2_imd\n"
   ]
  },
  {
   "cell_type": "code",
   "execution_count": 45,
   "id": "95d03409",
   "metadata": {},
   "outputs": [
    {
     "name": "stdout",
     "output_type": "stream",
     "text": [
      "\n",
      "Likelihood-ratio test\n",
      "Assumption: model2_sex nested within model2\n",
      "\n",
      " LR chi2(1) = 179.72\n",
      "Prob > chi2 = 0.0000\n",
      "\n",
      "Likelihood-ratio test\n",
      "Assumption: model2_year nested within model2\n",
      "\n",
      " LR chi2(2) = 767.17\n",
      "Prob > chi2 = 0.0000\n",
      "\n",
      "Likelihood-ratio test\n",
      "Assumption: model2_age nested within model2\n",
      "\n",
      " LR chi2(2) = 13880.11\n",
      "Prob > chi2 =   0.0000\n",
      "\n",
      "Likelihood-ratio test\n",
      "Assumption: model2_ethni~y nested within model2\n",
      "\n",
      " LR chi2(2) =  66.74\n",
      "Prob > chi2 = 0.0000\n",
      "\n",
      "Likelihood-ratio test\n",
      "Assumption: model2_imd nested within model2\n",
      "\n",
      " LR chi2(2) =   0.42\n",
      "Prob > chi2 = 0.8113\n"
     ]
    }
   ],
   "source": [
    "lrtest model2 model2_sex\n",
    "lrtest model2 model2_year\n",
    "lrtest model2 model2_age\n",
    "lrtest model2 model2_ethnicity\n",
    "lrtest model2 model2_imd\n"
   ]
  },
  {
   "cell_type": "code",
   "execution_count": 46,
   "id": "017939f5-75b7-4ee0-9f7b-3105e0d2bfe1",
   "metadata": {},
   "outputs": [
    {
     "name": "stdout",
     "output_type": "stream",
     "text": [
      "\n",
      "Table 2. PPV (1) and NPV (2), OR, Random effect\n",
      "-----------------------------------------------------------------\n",
      "                                                   1        2    \n",
      "-----------------------------------------------------------------\n",
      "sex_coded                                                        \n",
      "  1                                             0.94      1.46 **\n",
      "yearcat                                                          \n",
      "  2010-2015                                     2.63 **   0.57 **\n",
      "  2016-2020                                     6.58 **   0.36 **\n",
      "agecat                                                           \n",
      "  0Middle                                       1.33 *    0.03 **\n",
      "  Elderly                                       1.03      0.01 **\n",
      "region                                                           \n",
      "  LONDON COMMISSIONING REGION                   0.87      0.97   \n",
      "  MIDLANDS COMMISSIONING REGION                 1.05      0.84   \n",
      "  NORTH EAST AND YORKSHIRE COMMISSIONING REGION 0.70      0.96   \n",
      "  NORTH WEST COMMISSIONING REGION               0.57 *    0.75 * \n",
      "  SOUTH EAST COMMISSIONING REGION               0.79      0.97   \n",
      "  SOUTH WEST COMMISSIONING REGION               1.06      0.89   \n",
      "  Scotland                                      0.45 *    0.77   \n",
      "RA_index                                        1.50 *    1.06   \n",
      "ethnic                                                           \n",
      "  Missing                                       0.72 **   1.34 **\n",
      "  Other                                         0.89      1.12   \n",
      "imdcat                                                           \n",
      "  4-7                                           0.81      1.03   \n",
      "  8-10                                          0.88      1.05   \n",
      "Intercept                                       2.25 ** 852.74 **\n",
      "var(_cons[practice_id])                         0.36      0.16   \n",
      "Number of observations                          4921    417481   \n",
      "-----------------------------------------------------------------\n",
      "** p<.01, * p<.05\n",
      "(collection ETable exported to file validity2.xlsx)\n"
     ]
    }
   ],
   "source": [
    "etable, estimates(model1 model2) showstars showstarsnote title(\"Table 2. PPV (1) and NPV (2),  OR, Random effect\") cstat(_r_b,nformat(%6.2f)) column(index) export(validity2.xlsx, modify sheet(reg_dementia, replace))"
   ]
  },
  {
   "cell_type": "markdown",
   "id": "e7e9a417",
   "metadata": {},
   "source": [
    "### Summary of validation parameters"
   ]
  },
  {
   "cell_type": "code",
   "execution_count": 47,
   "id": "e27d82a4-8d2d-4529-8a15-ae4baabfa28c",
   "metadata": {},
   "outputs": [
    {
     "name": "stdout",
     "output_type": "stream",
     "text": [
      "(26 real changes made)\n",
      "(26 real changes made)\n",
      "(26 real changes made)\n",
      "(26 real changes made)\n",
      "(26 real changes made)\n",
      "(26 real changes made)\n"
     ]
    }
   ],
   "source": [
    "use validity.dta, clear\n",
    "replace prev=round(prev, 0.1)\n",
    "gen prev_a=round(((prev/100)*((sens/100)+(spec/100)-1)+1-(spec/100))*100,0.1)/*apparent prevalence*/\n",
    "replace sens=round(sens, 0.1)\n",
    "replace spec=round(spec,0.1)\n",
    "replace ppv=round(ppv, 0.1)\n",
    "replace npv=round(npv, 0.1)\n",
    "replace roc=round(roc, 0.01)\n"
   ]
  },
  {
   "cell_type": "code",
   "execution_count": 48,
   "id": "8129bfb3-cd21-4077-a785-9a74a846c65b",
   "metadata": {},
   "outputs": [
    {
     "data": {
      "text/html": [
       "<div>\n",
       "<style scoped>\n",
       "    .dataframe tbody tr th:only-of-type {\n",
       "        vertical-align: middle;\n",
       "    }\n",
       "\n",
       "    .dataframe tbody tr th {\n",
       "        vertical-align: top;\n",
       "    }\n",
       "\n",
       "    .dataframe thead th {\n",
       "        text-align: right;\n",
       "    }\n",
       "</style>\n",
       "<table border=\"1\" class=\"dataframe\">\n",
       "  <thead>\n",
       "    <tr style=\"text-align: right;\">\n",
       "      <th></th>\n",
       "      <th>var</th>\n",
       "      <th>prev</th>\n",
       "      <th>sens</th>\n",
       "      <th>spec</th>\n",
       "      <th>ppv</th>\n",
       "      <th>npv</th>\n",
       "      <th>roc</th>\n",
       "      <th>prev_a</th>\n",
       "    </tr>\n",
       "  </thead>\n",
       "  <tbody>\n",
       "    <tr>\n",
       "      <th>1</th>\n",
       "      <td>all</td>\n",
       "      <td>2.4</td>\n",
       "      <td>41.3</td>\n",
       "      <td>99.8</td>\n",
       "      <td>85.3</td>\n",
       "      <td>98.6</td>\n",
       "      <td>.71</td>\n",
       "      <td>1.2</td>\n",
       "    </tr>\n",
       "    <tr>\n",
       "      <th>2</th>\n",
       "      <td>Male</td>\n",
       "      <td>1.7</td>\n",
       "      <td>42.5</td>\n",
       "      <td>99.9</td>\n",
       "      <td>84.8</td>\n",
       "      <td>99</td>\n",
       "      <td>.71</td>\n",
       "      <td>.9</td>\n",
       "    </tr>\n",
       "    <tr>\n",
       "      <th>3</th>\n",
       "      <td>Female</td>\n",
       "      <td>3</td>\n",
       "      <td>40.6</td>\n",
       "      <td>99.8</td>\n",
       "      <td>85.5</td>\n",
       "      <td>98.2</td>\n",
       "      <td>.7</td>\n",
       "      <td>1.4</td>\n",
       "    </tr>\n",
       "    <tr>\n",
       "      <th>4</th>\n",
       "      <td>Age young</td>\n",
       "      <td>.3</td>\n",
       "      <td>37.2</td>\n",
       "      <td>100</td>\n",
       "      <td>81.4</td>\n",
       "      <td>99.8</td>\n",
       "      <td>.69</td>\n",
       "      <td>.1</td>\n",
       "    </tr>\n",
       "    <tr>\n",
       "      <th>5</th>\n",
       "      <td>Age middle</td>\n",
       "      <td>10</td>\n",
       "      <td>43.7</td>\n",
       "      <td>99.2</td>\n",
       "      <td>85.6</td>\n",
       "      <td>94.1</td>\n",
       "      <td>.71</td>\n",
       "      <td>5.1</td>\n",
       "    </tr>\n",
       "    <tr>\n",
       "      <th>6</th>\n",
       "      <td>Age elderly</td>\n",
       "      <td>17.7</td>\n",
       "      <td>30.4</td>\n",
       "      <td>98.9</td>\n",
       "      <td>85.6</td>\n",
       "      <td>86.9</td>\n",
       "      <td>.65</td>\n",
       "      <td>6.3</td>\n",
       "    </tr>\n",
       "    <tr>\n",
       "      <th>7</th>\n",
       "      <td>Year 2004-2009</td>\n",
       "      <td>1.5</td>\n",
       "      <td>28.9</td>\n",
       "      <td>99.8</td>\n",
       "      <td>67.2</td>\n",
       "      <td>99</td>\n",
       "      <td>.64</td>\n",
       "      <td>.6</td>\n",
       "    </tr>\n",
       "    <tr>\n",
       "      <th>8</th>\n",
       "      <td>Year 2010-2015</td>\n",
       "      <td>2.4</td>\n",
       "      <td>42.2</td>\n",
       "      <td>99.8</td>\n",
       "      <td>85</td>\n",
       "      <td>98.6</td>\n",
       "      <td>.71</td>\n",
       "      <td>1.2</td>\n",
       "    </tr>\n",
       "    <tr>\n",
       "      <th>9</th>\n",
       "      <td>Year 2016-2020</td>\n",
       "      <td>3.5</td>\n",
       "      <td>46.8</td>\n",
       "      <td>99.9</td>\n",
       "      <td>93.3</td>\n",
       "      <td>98.1</td>\n",
       "      <td>.73</td>\n",
       "      <td>1.8</td>\n",
       "    </tr>\n",
       "    <tr>\n",
       "      <th>10</th>\n",
       "      <td>IMD 1,3</td>\n",
       "      <td>2.1</td>\n",
       "      <td>40</td>\n",
       "      <td>99.9</td>\n",
       "      <td>86.3</td>\n",
       "      <td>98.7</td>\n",
       "      <td>.7</td>\n",
       "      <td>1</td>\n",
       "    </tr>\n",
       "    <tr>\n",
       "      <th>11</th>\n",
       "      <td>IMD 4,7</td>\n",
       "      <td>2.7</td>\n",
       "      <td>41.6</td>\n",
       "      <td>99.8</td>\n",
       "      <td>85.4</td>\n",
       "      <td>98.4</td>\n",
       "      <td>.71</td>\n",
       "      <td>1.3</td>\n",
       "    </tr>\n",
       "    <tr>\n",
       "      <th>12</th>\n",
       "      <td>IMD 8,10</td>\n",
       "      <td>2.5</td>\n",
       "      <td>42.2</td>\n",
       "      <td>99.8</td>\n",
       "      <td>84.1</td>\n",
       "      <td>98.5</td>\n",
       "      <td>.71</td>\n",
       "      <td>1.3</td>\n",
       "    </tr>\n",
       "    <tr>\n",
       "      <th>13</th>\n",
       "      <td>London</td>\n",
       "      <td>1.2</td>\n",
       "      <td>42.3</td>\n",
       "      <td>99.9</td>\n",
       "      <td>86.5</td>\n",
       "      <td>99.3</td>\n",
       "      <td>.71</td>\n",
       "      <td>.6</td>\n",
       "    </tr>\n",
       "    <tr>\n",
       "      <th>14</th>\n",
       "      <td>Midlands</td>\n",
       "      <td>2.7</td>\n",
       "      <td>40.3</td>\n",
       "      <td>99.9</td>\n",
       "      <td>89.4</td>\n",
       "      <td>98.3</td>\n",
       "      <td>.7</td>\n",
       "      <td>1.2</td>\n",
       "    </tr>\n",
       "    <tr>\n",
       "      <th>15</th>\n",
       "      <td>Yorkshire</td>\n",
       "      <td>2.1</td>\n",
       "      <td>42.2</td>\n",
       "      <td>99.8</td>\n",
       "      <td>85.4</td>\n",
       "      <td>98.7</td>\n",
       "      <td>.71</td>\n",
       "      <td>1</td>\n",
       "    </tr>\n",
       "    <tr>\n",
       "      <th>16</th>\n",
       "      <td>North West</td>\n",
       "      <td>2.3</td>\n",
       "      <td>35</td>\n",
       "      <td>99.8</td>\n",
       "      <td>80.3</td>\n",
       "      <td>98.5</td>\n",
       "      <td>.67</td>\n",
       "      <td>1</td>\n",
       "    </tr>\n",
       "    <tr>\n",
       "      <th>17</th>\n",
       "      <td>South East</td>\n",
       "      <td>2.5</td>\n",
       "      <td>46</td>\n",
       "      <td>99.8</td>\n",
       "      <td>84.8</td>\n",
       "      <td>98.6</td>\n",
       "      <td>.73</td>\n",
       "      <td>1.4</td>\n",
       "    </tr>\n",
       "    <tr>\n",
       "      <th>18</th>\n",
       "      <td>South West</td>\n",
       "      <td>3.1</td>\n",
       "      <td>38</td>\n",
       "      <td>99.8</td>\n",
       "      <td>88.2</td>\n",
       "      <td>98.1</td>\n",
       "      <td>.69</td>\n",
       "      <td>1.3</td>\n",
       "    </tr>\n",
       "    <tr>\n",
       "      <th>19</th>\n",
       "      <td>SystemOne</td>\n",
       "      <td>2.5</td>\n",
       "      <td>40.8</td>\n",
       "      <td>99.8</td>\n",
       "      <td>85.8</td>\n",
       "      <td>98.5</td>\n",
       "      <td>.7</td>\n",
       "      <td>1.2</td>\n",
       "    </tr>\n",
       "    <tr>\n",
       "      <th>20</th>\n",
       "      <td>Vision</td>\n",
       "      <td>1.7</td>\n",
       "      <td>39.9</td>\n",
       "      <td>99.5</td>\n",
       "      <td>59.2</td>\n",
       "      <td>99</td>\n",
       "      <td>.7</td>\n",
       "      <td>1.1</td>\n",
       "    </tr>\n",
       "    <tr>\n",
       "      <th>21</th>\n",
       "      <td>EMIS</td>\n",
       "      <td>2.4</td>\n",
       "      <td>42</td>\n",
       "      <td>99.8</td>\n",
       "      <td>86.6</td>\n",
       "      <td>98.6</td>\n",
       "      <td>.71</td>\n",
       "      <td>1.2</td>\n",
       "    </tr>\n",
       "    <tr>\n",
       "      <th>22</th>\n",
       "      <td>RAIndex1</td>\n",
       "      <td>2.4</td>\n",
       "      <td>41.5</td>\n",
       "      <td>99.8</td>\n",
       "      <td>86.3</td>\n",
       "      <td>98.6</td>\n",
       "      <td>.71</td>\n",
       "      <td>1.2</td>\n",
       "    </tr>\n",
       "    <tr>\n",
       "      <th>23</th>\n",
       "      <td>RAIndex0</td>\n",
       "      <td>2.3</td>\n",
       "      <td>40.6</td>\n",
       "      <td>99.8</td>\n",
       "      <td>81.8</td>\n",
       "      <td>98.6</td>\n",
       "      <td>.7</td>\n",
       "      <td>1.1</td>\n",
       "    </tr>\n",
       "    <tr>\n",
       "      <th>24</th>\n",
       "      <td>Ethnicity_0white</td>\n",
       "      <td>2.9</td>\n",
       "      <td>42.6</td>\n",
       "      <td>99.8</td>\n",
       "      <td>87.7</td>\n",
       "      <td>98.3</td>\n",
       "      <td>.71</td>\n",
       "      <td>1.4</td>\n",
       "    </tr>\n",
       "    <tr>\n",
       "      <th>25</th>\n",
       "      <td>Ethnicity_Other</td>\n",
       "      <td>.9</td>\n",
       "      <td>33.9</td>\n",
       "      <td>100</td>\n",
       "      <td>88.8</td>\n",
       "      <td>99.4</td>\n",
       "      <td>.67</td>\n",
       "      <td>.3</td>\n",
       "    </tr>\n",
       "    <tr>\n",
       "      <th>26</th>\n",
       "      <td>Ethnicity_Missing</td>\n",
       "      <td>1.8</td>\n",
       "      <td>38.1</td>\n",
       "      <td>99.8</td>\n",
       "      <td>76.6</td>\n",
       "      <td>98.9</td>\n",
       "      <td>.69</td>\n",
       "      <td>.9</td>\n",
       "    </tr>\n",
       "  </tbody>\n",
       "</table>\n",
       "</div>"
      ]
     },
     "metadata": {},
     "output_type": "display_data"
    }
   ],
   "source": [
    "%head 50"
   ]
  },
  {
   "cell_type": "code",
   "execution_count": 49,
   "id": "47dc850c-f3c8-4b9c-8ba9-3620f31b4fa9",
   "metadata": {},
   "outputs": [
    {
     "name": "stdout",
     "output_type": "stream",
     "text": [
      "file validity2.xlsx saved\n"
     ]
    }
   ],
   "source": [
    "/*texsave * using test3.tex, varlabels*/\n",
    "export excel using  validity2.xlsx, sheet(val_dementia, replace)"
   ]
  }
 ],
 "metadata": {
  "kernelspec": {
   "display_name": "Stata (nbstata)",
   "language": "stata",
   "name": "nbstata"
  },
  "language_info": {
   "file_extension": ".do",
   "mimetype": "text/x-stata",
   "name": "stata",
   "version": "17"
  }
 },
 "nbformat": 4,
 "nbformat_minor": 5
}
